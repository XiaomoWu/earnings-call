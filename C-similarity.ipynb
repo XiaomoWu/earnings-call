{
 "cells": [
  {
   "cell_type": "raw",
   "metadata": {},
   "source": [
    "1/1"
   ]
  }
 ],
 "metadata": {
  "kernelspec": {
   "display_name": "R-4.0.2",
   "name": "ir402"
  },
  "language_info": {
   "codemirror_mode": "r",
   "file_extension": ".r",
   "mimetype": "text/x-r-source",
   "name": "R",
   "pygments_lexer": "r",
   "version": "4.0.2"
  },
  "orig_nbformat": 2
 },
 "nbformat": 4,
 "nbformat_minor": 2
}