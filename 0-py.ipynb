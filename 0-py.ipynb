{
 "cells": [
  {
   "cell_type": "code",
   "execution_count": 2,
   "metadata": {},
   "outputs": [],
   "source": [
    "import spacy\n",
    "from spacy.tokens import Span\n",
    "\n",
    "nlp = spacy.load(\"en_core_web_lg\")"
   ]
  },
  {
   "cell_type": "code",
   "execution_count": 3,
   "metadata": {},
   "outputs": [],
   "source": [
    "# parse the text\n",
    "doc = nlp(\"The rain is over. He's happy.\")"
   ]
  },
  {
   "cell_type": "code",
   "execution_count": 4,
   "metadata": {},
   "outputs": [
    {
     "data": {
      "text/plain": "\"The rain is over. He's happy.\""
     },
     "execution_count": 4,
     "metadata": {},
     "output_type": "execute_result"
    }
   ],
   "source": [
    "# The data stored is lossless\n",
    "doc.text"
   ]
  },
  {
   "cell_type": "code",
   "execution_count": 5,
   "metadata": {},
   "outputs": [
    {
     "name": "stdout",
     "output_type": "stream",
     "text": [
      "0:The\n",
      "1:rain\n",
      "2:is\n",
      "3:over\n",
      "4:.\n",
      "5:He\n",
      "6:'s\n",
      "7:happy\n",
      "8:.\n"
     ]
    }
   ],
   "source": [
    "# The text has already been tokenized\n",
    "for i, token in enumerate(doc):\n",
    "    print(f'{i}:{token}')"
   ]
  },
  {
   "cell_type": "code",
   "execution_count": 8,
   "metadata": {},
   "outputs": [
    {
     "name": "stdout",
     "output_type": "stream",
     "text": [
      "The:DET\n",
      "rain:NOUN\n",
      "is:AUX\n",
      "over:ADV\n",
      ".:PUNCT\n",
      "He:PRON\n",
      "'s:AUX\n",
      "happy:ADJ\n",
      ".:PUNCT\n"
     ]
    }
   ],
   "source": [
    "# We can access many token attributes\n",
    "for token in doc:\n",
    "    print(f'{token}:{token.pos_}')"
   ]
  },
  {
   "cell_type": "code",
   "execution_count": 9,
   "metadata": {},
   "outputs": [
    {
     "name": "stdout",
     "output_type": "stream",
     "text": [
      "0:The rain is over.\n",
      "1:He's happy.\n"
     ]
    }
   ],
   "source": [
    "# The text has already been sentencized\n",
    "for i, sentence in enumerate(doc.sents):\n",
    "    print(f'{i}:{sentence}')"
   ]
  },
  {
   "cell_type": "code",
   "execution_count": 10,
   "metadata": {},
   "outputs": [
    {
     "name": "stdout",
     "output_type": "stream",
     "text": [
      "speaker:Yu, sentence:The rain is over.\n",
      "speaker:Yu, sentence:He's happy.\n"
     ]
    }
   ],
   "source": [
    "# We can assign arbitrary span attributes\n",
    "\n",
    "# Register span attributes\n",
    "Span.set_extension('speaker', default=None, force=True)\n",
    "\n",
    "# assign span attributes\n",
    "for sentence in doc.sents:\n",
    "    sentence._.speaker = 'Yu'\n",
    "\n",
    "# get span attributes\n",
    "for sentence in doc.sents:\n",
    "    print(f'speaker:{sentence._.speaker}, sentence:{sentence}')"
   ]
  }
 ],
 "metadata": {
  "kernelspec": {
   "display_name": "Python 3",
   "language": "python",
   "name": "python3"
  },
  "language_info": {
   "codemirror_mode": {
    "name": "ipython",
    "version": 3
   },
   "file_extension": ".py",
   "mimetype": "text/x-python",
   "name": "python",
   "nbconvert_exporter": "python",
   "pygments_lexer": "ipython3",
   "version": "3.8.5-final"
  },
  "toc-autonumbering": true
 },
 "nbformat": 4,
 "nbformat_minor": 4
}