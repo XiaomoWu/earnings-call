{
 "cells": [
  {
   "cell_type": "code",
   "execution_count": 2,
   "metadata": {
    "scrolled": true
   },
   "outputs": [],
   "source": [
    "dt = fread(\"C:/Users/rossz/OneDrive/CC/data/misc/SP500 monthly earnings.csv\"\n",
    "    )[, .(date=mdy(Date), earnings=Value)]"
   ]
  },
  {
   "cell_type": "code",
   "execution_count": null,
   "metadata": {},
   "outputs": [],
   "source": [
    "dt[date>ymd('2012-01-01')] %>%\n",
    "    plot_ly(x=~date, y=~earnings, type='scatter', mode='lines') %>%\n",
    "    plotly::layout(autosize=F, \n",
    "                   yaxis=list(title='S&P500 montly earnings'))"
   ]
  },
  {
   "cell_type": "code",
   "execution_count": 4,
   "metadata": {},
   "outputs": [
    {
     "data": {
      "text/html": [
       "0.0126736593387341"
      ],
      "text/latex": [
       "0.0126736593387341"
      ],
      "text/markdown": [
       "0.0126736593387341"
      ],
      "text/plain": [
       "[1] 0.01267366"
      ]
     },
     "metadata": {},
     "output_type": "display_data"
    }
   ],
   "source": [
    "1-pnorm(sqrt(5))"
   ]
  },
  {
   "cell_type": "code",
   "execution_count": 8,
   "metadata": {},
   "outputs": [
    {
     "data": {
      "text/html": [
       "2400.91176293383"
      ],
      "text/latex": [
       "2400.91176293383"
      ],
      "text/markdown": [
       "2400.91176293383"
      ],
      "text/plain": [
       "[1] 2400.912"
      ]
     },
     "metadata": {},
     "output_type": "display_data"
    }
   ],
   "source": [
    "(qnorm(1.95/2)/0.04)^2"
   ]
  },
  {
   "cell_type": "code",
   "execution_count": 12,
   "metadata": {},
   "outputs": [
    {
     "data": {
      "text/html": [
       "0.22313016014843"
      ],
      "text/latex": [
       "0.22313016014843"
      ],
      "text/markdown": [
       "0.22313016014843"
      ],
      "text/plain": [
       "[1] 0.2231302"
      ]
     },
     "metadata": {},
     "output_type": "display_data"
    }
   ],
   "source": [
    "exp(-1.5)"
   ]
  }
 ],
 "metadata": {
  "kernelspec": {
   "display_name": "MRO-4.0.2",
   "language": "R",
   "name": "mro402"
  },
  "language_info": {
   "codemirror_mode": "r",
   "file_extension": ".r",
   "mimetype": "text/x-r-source",
   "name": "R",
   "pygments_lexer": "r",
   "version": "4.0.2"
  }
 },
 "nbformat": 4,
 "nbformat_minor": 4
}
