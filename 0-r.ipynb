{
 "cells": [
  {
   "cell_type": "code",
   "execution_count": 2,
   "metadata": {},
   "outputs": [],
   "source": [
    "# library\n",
    "library(feather)\n",
    "library(stringdist)\n",
    "library(tools)\n",
    "\n",
    "# data_dir\n",
    "DATA_DIR = \"C:/Users/rossz/OneDrive/CC/data\"\n",
    "WRDS_DOWNLOAD_DIR = str_c(DATA_DIR, '/WRDS-download')"
   ]
  },
  {
   "cell_type": "code",
   "execution_count": 1,
   "metadata": {},
   "outputs": [],
   "source": [
    "library(RPostgres)\n",
    "\n",
    "# connect to wrds\n",
    "wrds <- dbConnect(Postgres(),\n",
    "                  host='wrds-pgdata.wharton.upenn.edu',\n",
    "                  port=9737,\n",
    "                  dbname='wrds',\n",
    "                  sslmode='require',\n",
    "                  user='xiaomowu',\n",
    "                  password='SLCyz2018')"
   ]
  },
  {
   "cell_type": "code",
   "execution_count": 3,
   "metadata": {},
   "outputs": [
    {
     "data": {
      "text/html": [
       "'nrow: 61235'"
      ],
      "text/latex": [
       "'nrow: 61235'"
      ],
      "text/markdown": [
       "'nrow: 61235'"
      ],
      "text/plain": [
       "[1] \"nrow: 61235\""
      ]
     },
     "metadata": {},
     "output_type": "display_data"
    },
    {
     "data": {
      "text/html": [
       "<table>\n",
       "<thead><tr><th scope=col>ticker</th><th scope=col>comnam</th><th scope=col>permno</th><th scope=col>ncusip</th><th scope=col>namedt</th><th scope=col>nameenddt</th></tr></thead>\n",
       "<tbody>\n",
       "\t<tr><td>OMFGA                    </td><td>OPTIMUM MANUFACTURING INC</td><td>10000                    </td><td>68391610                 </td><td>1986-01-07               </td><td>1987-06-11               </td></tr>\n",
       "</tbody>\n",
       "</table>\n"
      ],
      "text/latex": [
       "\\begin{tabular}{r|llllll}\n",
       " ticker & comnam & permno & ncusip & namedt & nameenddt\\\\\n",
       "\\hline\n",
       "\t OMFGA                     & OPTIMUM MANUFACTURING INC & 10000                     & 68391610                  & 1986-01-07                & 1987-06-11               \\\\\n",
       "\\end{tabular}\n"
      ],
      "text/markdown": [
       "\n",
       "| ticker | comnam | permno | ncusip | namedt | nameenddt |\n",
       "|---|---|---|---|---|---|\n",
       "| OMFGA                     | OPTIMUM MANUFACTURING INC | 10000                     | 68391610                  | 1986-01-07                | 1987-06-11                |\n",
       "\n"
      ],
      "text/plain": [
       "  ticker comnam                    permno ncusip   namedt     nameenddt \n",
       "1 OMFGA  OPTIMUM MANUFACTURING INC 10000  68391610 1986-01-07 1987-06-11"
      ]
     },
     "metadata": {},
     "output_type": "display_data"
    },
    {
     "name": "stdout",
     "output_type": "stream",
     "text": [
      "-crsp_stocknames2- saved  (0.21 secs)\n"
     ]
    }
   ],
   "source": [
    "library = 'crsp'\n",
    "dataset = 'stocknames' # firm names\n",
    "\n",
    "# query = sprintf(\"select permno, ncusip, comnam, namedt, nameenddt from %s.%s where ncusip != ''\", library, dataset)\n",
    "# res <- dbSendQuery(wrds, query)\n",
    "# crsp_stocknames <- setDT(dbFetch(res, n=-1)); dbClearResult(res)\n",
    "# sprintf('nrow: %s', nrow(crsp_stocknames))\n",
    "# sv(crsp_stocknames, path=WRDS_DOWNLOAD_DIR)\n",
    "\n",
    "query = sprintf(\"select ticker, comnam, permno, ncusip, namedt, nameenddt from %s.%s\", library, dataset)\n",
    "res <- dbSendQuery(wrds, query)\n",
    "crsp_stocknames2 <- setDT(dbFetch(res, n=-1)); dbClearResult(res)\n",
    "sprintf('nrow: %s', nrow(crsp_stocknames2))\n",
    "crsp_stocknames2[1]\n",
    "sv(crsp_stocknames2, path=WRDS_DOWNLOAD_DIR)"
   ]
  }
 ],
 "metadata": {
  "kernelspec": {
   "display_name": "MRO-3.5.3",
   "language": "R",
   "name": "ir353"
  },
  "language_info": {
   "codemirror_mode": "r",
   "file_extension": ".r",
   "mimetype": "text/x-r-source",
   "name": "R",
   "pygments_lexer": "r",
   "version": "3.5.3"
  },
  "toc-autonumbering": true
 },
 "nbformat": 4,
 "nbformat_minor": 4
}
