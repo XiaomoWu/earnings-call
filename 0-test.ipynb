{
 "cells": [
  {
   "cell_type": "markdown",
   "metadata": {},
   "source": [
    "# Init"
   ]
  },
  {
   "cell_type": "code",
   "execution_count": 4,
   "metadata": {},
   "outputs": [],
   "source": [
    "# import tensorflow as tf\n",
    "import torch\n",
    "import pytorch_lightning as pl\n",
    "import torch.nn.functional as F\n",
    "import torch.optim as optim\n",
    "import pyarrow.feather as feather\n",
    "\n",
    "from torch import nn\n",
    "from torch.utils.data import Dataset, DataLoader\n",
    "\n",
    "# set random seed\n",
    "torch.backends.cudnn.deterministic = False;\n",
    "torch.backends.cudnn.benchmark = True;\n",
    "torch.backends.cudnn.enabled = True"
   ]
  },
  {
   "cell_type": "markdown",
   "metadata": {},
   "source": [
    "# def Data"
   ]
  },
  {
   "cell_type": "code",
   "execution_count": 12,
   "metadata": {},
   "outputs": [],
   "source": [
    "# Define Dataset\n",
    "class CCDataset(Dataset):\n",
    "    \n",
    "    def __init__(self, data):\n",
    "        self.data = data\n",
    "        \n",
    "    def __len__(self):\n",
    "        return len(self.data)\n",
    "    \n",
    "    def __getitem__(self, idx):\n",
    "        target = self.data.iloc[idx,0]\n",
    "        features = self.data.iloc[idx,1:].to_numpy()\n",
    "\n",
    "        return torch.tensor(target, dtype=torch.float32), \\\n",
    "               torch.tensor(features, dtype=torch.float32)"
   ]
  },
  {
   "cell_type": "code",
   "execution_count": 13,
   "metadata": {},
   "outputs": [],
   "source": [
    "# then define DataModule\n",
    "class CCDataModule(pl.LightningDataModule):\n",
    "    def __init__(self):\n",
    "        super().__init__()\n",
    "        \n",
    "    # Dataset\n",
    "    def setup(self):\n",
    "        # read the train and test dataset\n",
    "        targets_train = feather.read_feather('targets_train.feather')\n",
    "        targets_val = feather.read_feather('targets_test.feather')\n",
    "        \n",
    "        self.train_dataset = CCDataset(targets_train)\n",
    "        self.val_dataset = CCDataset(targets_val)\n",
    "\n",
    "    # DataLoader\n",
    "    def train_dataloader(self):\n",
    "        return DataLoader(self.train_dataset, batch_size=64, \n",
    "                          shuffle=True, drop_last=False, num_workers=2,\n",
    "                          pin_memory=True)\n",
    "    \n",
    "    def val_dataloader(self):\n",
    "        return DataLoader(self.val_dataset, batch_size=64,\n",
    "                          num_workers=2, pin_memory=True,\n",
    "                          drop_last=False)"
   ]
  },
  {
   "cell_type": "markdown",
   "metadata": {},
   "source": [
    "# def Model"
   ]
  },
  {
   "cell_type": "code",
   "execution_count": 14,
   "metadata": {},
   "outputs": [],
   "source": [
    "class Model(pl.LightningModule):\n",
    "    '''Mainly define the `*_step_end` methods\n",
    "    '''\n",
    "    def __init__(self):\n",
    "        super().__init__()\n",
    "        \n",
    "        # dropout layers\n",
    "        self.dropout_1 = nn.Dropout(0.5)\n",
    "        \n",
    "        # fc layers\n",
    "        self.fc_1 = nn.Linear(15, 16)\n",
    "        self.fc_2 = nn.Linear(16, 1)\n",
    "        \n",
    "    def shared_step(self, batch):\n",
    "        t, x = batch\n",
    "        x = self.dropout_1(F.relu(self.fc_1(x)))\n",
    "        y = self.fc_2(x) # (N, 1)    \n",
    "        \n",
    "        return y.squeeze(), t\n",
    "        \n",
    "    # train step\n",
    "    def training_step(self, batch, idx):\n",
    "        y, t = self.shared_step(batch)\n",
    "        return {'y': y, 't': t}\n",
    "        \n",
    "    # validation step\n",
    "    def validation_step(self, batch, idx):\n",
    "        y, t = self.shared_step(batch)\n",
    "        return {'y': y, 't': t}\n",
    "        \n",
    "    # loss\n",
    "    def mse_loss(self, y, t):\n",
    "        return F.mse_loss(y, t)\n",
    "        \n",
    "    # def training_step_end\n",
    "    def training_step_end(self, outputs):\n",
    "        y = outputs['y']\n",
    "        t = outputs['t']\n",
    "        loss = self.mse_loss(y, t)\n",
    "        \n",
    "        return {'loss':loss}\n",
    "    \n",
    "    # def validation_step_end\n",
    "    def validation_step_end(self, outputs):\n",
    "        y = outputs['y']\n",
    "        t = outputs['t']\n",
    "        \n",
    "        return {'y': y, 't': t}\n",
    "        \n",
    "    # validation step\n",
    "    def validation_epoch_end(self, outputs):\n",
    "        y = torch.cat([x['y'] for x in outputs])\n",
    "        t = torch.cat([x['t'] for x in outputs])\n",
    "        \n",
    "        loss = self.mse_loss(y, t)\n",
    "        rmse = torch.sqrt(loss)\n",
    "        self.log('val_rmse', rmse, on_step=False)\n",
    "        \n",
    "    # optimizer\n",
    "    def configure_optimizers(self):\n",
    "        optimizer = optim.Adam(self.parameters(), lr=1e-4)\n",
    "        return optimizer  "
   ]
  },
  {
   "cell_type": "markdown",
   "metadata": {},
   "source": [
    "# Run"
   ]
  },
  {
   "cell_type": "code",
   "execution_count": 15,
   "metadata": {},
   "outputs": [],
   "source": [
    "# ----------------------------\n",
    "# Initialize model and trainer\n",
    "# ----------------------------\n",
    "# checkpoint\n",
    "checkpoint_callback = pl.callbacks.ModelCheckpoint(\n",
    "    verbose=True,\n",
    "    mode='min',\n",
    "    monitor='val_rmse',\n",
    "    save_top_k=1)\n",
    "\n",
    "# trainer\n",
    "trainer = pl.Trainer(gpus=[0,1], \n",
    "                     checkpoint_callback=checkpoint_callback, \n",
    "                     accelerator='ddp',\n",
    "                     min_epochs=10,\n",
    "                     max_epochs=500)\n",
    "\n",
    "# loop over windows\n",
    "torch.manual_seed(42)\n",
    "\n",
    "# ----------------------------\n",
    "# fit and test\n",
    "# ----------------------------\n",
    "# init model\n",
    "model = Model()\n",
    "\n",
    "# create datamodule\n",
    "datamodule = CCDataModule()\n",
    "datamodule.setup()\n",
    "\n",
    "# train the model\n",
    "trainer.fit(model, datamodule)"
   ]
  }
 ],
 "metadata": {
  "jupytext": {
   "formats": "ipynb,py:light"
  },
  "kernelspec": {
   "display_name": "Python 3",
   "language": "python",
   "name": "python3"
  },
  "language_info": {
   "codemirror_mode": {
    "name": "ipython",
    "version": 3
   },
   "file_extension": ".py",
   "mimetype": "text/x-python",
   "name": "python",
   "nbconvert_exporter": "python",
   "pygments_lexer": "ipython3",
   "version": "3.8.5"
  }
 },
 "nbformat": 4,
 "nbformat_minor": 4
}
