{
 "cells": [
  {
   "cell_type": "markdown",
   "metadata": {},
   "source": [
    "# init"
   ]
  },
  {
   "cell_type": "code",
<<<<<<< HEAD
   "execution_count": 1,
=======
   "execution_count": 5,
>>>>>>> b9e543446b178b4b24f9ae32eed280b98c3939a5
   "metadata": {},
   "outputs": [],
   "source": [
    "import comet_ml\n",
    "import pandas as pd\n",
    "import pyarrow.feather as feather"
   ]
  },
  {
   "cell_type": "markdown",
   "metadata": {},
   "source": [
    "# download comet"
   ]
  },
  {
   "cell_type": "code",
<<<<<<< HEAD
   "execution_count": 14,
=======
   "execution_count": 10,
>>>>>>> b9e543446b178b4b24f9ae32eed280b98c3939a5
   "metadata": {
    "scrolled": true
   },
   "outputs": [
    {
     "name": "stdout",
     "output_type": "stream",
     "text": [
<<<<<<< HEAD
      "Wall time: 18.4 s\n"
=======
      "Experient number != 32! Get 24 results.\n",
      "Wall time: 15.1 s\n"
>>>>>>> b9e543446b178b4b24f9ae32eed280b98c3939a5
     ]
    }
   ],
   "source": [
    "%%time\n",
    "\n",
    "comet_api = comet_ml.API()\n",
    "exps = comet_api.query('amiao', 'earnings-call', \n",
<<<<<<< HEAD
    "                       (comet_ml.api.Parameter('note').startswith('STL-34') & \\\n",
=======
    "                       (comet_ml.api.Parameter('note').startswith('STL-33') & \\\n",
>>>>>>> b9e543446b178b4b24f9ae32eed280b98c3939a5
    "                       (comet_ml.api.Metric('test_rmse')!=None)),\n",
    "                       archived=False)\n",
    "\n",
    "if len(exps)!=32:\n",
    "    print(f'Experient number != 32! Get {len(exps)} results.')\n",
    "\n",
    "log_comet = []\n",
    "for exp in exps:\n",
    "    # get parameter\n",
    "    log = {param['name']:param['valueCurrent'] for param in exp.get_parameters_summary()}\n",
    "    \n",
    "    # get metrics\n",
    "    log['test_rmse'] = exp.get_metrics('test_rmse')[0]['metricValue']\n",
    "    \n",
    "    if len(exp.get_metrics('test_rmse_car'))>0:\n",
    "        log['test_rmse_car'] = exp.get_metrics('test_rmse_car')[0]['metricValue']\n",
    "           \n",
    "    if len(exp.get_metrics('test_rmse_inflow'))>0:\n",
    "        log['test_rmse_inflow'] = exp.get_metrics('test_rmse_inflow')[0]['metricValue']\n",
    "    \n",
    "    if len(exp.get_metrics('test_rmse_inflow'))>0:\n",
    "        log['test_rmse_inflow'] = exp.get_metrics('test_rmse_car')[0]['metricValue']\n",
    "           \n",
    "    # get metadat\n",
    "    log = {**log, **exp.get_metadata()}\n",
    "    \n",
    "    # delete useless params\n",
    "    for key in ['checkpoint_path', 'f']:\n",
    "        log.pop(\"key\", None)\n",
    "    log_comet.append(log)\n",
    "    \n",
    "log_comet = pd.DataFrame(log_comet)\n",
    "\n",
    "# append new results to existing comet log\n",
    "old_log_comet = feather.read_feather('data/comet_log.feather')\n",
    "new_log_comet = pd.concat([old_log_comet, log_comet], ignore_index=True)\n",
    "pd.DataFrame.drop_duplicates(new_log_comet, ignore_index=True)\n",
    "feather.write_feather(new_log_comet, 'data/comet_log.feather')"
   ]
  },
  {
   "cell_type": "markdown",
   "metadata": {},
   "source": [
    "# modify param"
   ]
  },
  {
   "cell_type": "code",
   "execution_count": null,
   "metadata": {
    "scrolled": true
   },
   "outputs": [],
   "source": [
    "query = ((comet_ml.api.Metric('test_rmse')!=None) &\n",
    "         (comet_ml.api.Parameter('note')=='STL-25,(car~txt+fr 5y),txtfc=1(8),fc=0,txtdropout=no,fc_dropout=no,NormCAR=yes,bsz=28,seed=42,log(mcap)=yes,lr=0.0003'))\n",
    "\n",
    "exps = comet_ml.api.API().query('amiao', 'earnings-call', query, archived=False)\n",
    "\n",
    "for exp in exps:\n",
    "    # roll_type = exp.get_parameters_summary('roll_type').valueCurrent\n",
    "    exp.log_parameter('note', 'STL-26,(car~txt+fr 5y),txtfc=1(8),fc=0,txtdropout=no,fc_dropout=no,NormCAR=yes,bsz=28,seed=42,log(mcap)=yes,lr=0.0003')"
   ]
  },
  {
   "cell_type": "markdown",
   "metadata": {},
   "source": [
    "# upload `test_start`"
   ]
  },
  {
   "cell_type": "code",
   "execution_count": null,
   "metadata": {},
   "outputs": [],
   "source": [
    "split_df = pd.read_csv(f'data/split_dates.csv')\n",
    "\n",
    "query = ((comet_ml.api.Parameter('test_start')==None) & \\\n",
    "         (comet_ml.api.Parameter('test_end')==None) & \\\n",
    "         (comet_ml.api.Parameter('train_start')==None) & \\\n",
    "         (comet_ml.api.Parameter('train_end')==None))\n",
    "\n",
    "exps = comet_ml.api.API().query('amiao', 'earnings-call', query, archived=False)\n",
    "\n",
    "for exp in tqdm(exps):\n",
    "    window = exp.get_parameters_summary('window')['valueCurrent']\n",
    "    roll_type = exp.get_parameters_summary('roll_type')['valueCurrent']\n",
    "         \n",
    "    train_start = split_df.loc[(split_df.roll_type==roll_type) & (split_df.window==window)].train_start.to_list()[0]\n",
    "    train_end = split_df.loc[(split_df.roll_type==roll_type) & (split_df.window==window)].train_end.to_list()[0]\n",
    "    test_start = split_df.loc[(split_df.roll_type==roll_type) & (split_df.window==window)].test_start.to_list()[0]         \n",
    "    test_end = split_df.loc[(split_df.roll_type==roll_type) & (split_df.window==window)].test_end.to_list()[0]\n",
    "         \n",
    "    # print(f'{roll_type}-{test_start}')\n",
    "         \n",
    "    exp.log_parameter('train_start', train_start)\n",
    "    exp.log_parameter('train_end', train_end)\n",
    "    exp.log_parameter('test_start', test_start)\n",
    "    exp.log_parameter('test_end', test_end)"
   ]
  },
  {
   "cell_type": "markdown",
   "metadata": {},
   "source": [
    "# upload `OLS_rmse` "
   ]
  },
  {
   "cell_type": "code",
   "execution_count": null,
   "metadata": {
    "scrolled": true
   },
   "outputs": [],
   "source": [
    "bench_fr = pd.read_feather('data/bench_fr.feather')\n",
    "\n",
    "query = (comet_ml.api.Parameter('ols_rmse_norm')!=None)\n",
    "\n",
    "exps = comet_ml.api.API().query('amiao', 'earnings-call', query, archived=False)"
   ]
  },
  {
   "cell_type": "code",
   "execution_count": 13,
   "metadata": {
    "scrolled": true
   },
   "outputs": [
    {
     "data": {
      "text/plain": [
       "{'msg': 'Saved', 'code': 200, 'data': None, 'sdkErrorCode': 0}"
      ]
     },
     "execution_count": 13,
     "metadata": {},
     "output_type": "execute_result"
    },
    {
     "data": {
      "text/plain": [
       "{'msg': 'Saved', 'code': 200, 'data': None, 'sdkErrorCode': 0}"
      ]
     },
     "execution_count": 13,
     "metadata": {},
     "output_type": "execute_result"
    },
    {
     "data": {
      "text/plain": [
       "{'msg': 'Saved', 'code': 200, 'data': None, 'sdkErrorCode': 0}"
      ]
     },
     "execution_count": 13,
     "metadata": {},
     "output_type": "execute_result"
    },
    {
     "data": {
      "text/plain": [
       "{'msg': 'Saved', 'code': 200, 'data': None, 'sdkErrorCode': 0}"
      ]
     },
     "execution_count": 13,
     "metadata": {},
     "output_type": "execute_result"
    },
    {
     "data": {
      "text/plain": [
       "{'msg': 'Saved', 'code': 200, 'data': None, 'sdkErrorCode': 0}"
      ]
     },
     "execution_count": 13,
     "metadata": {},
     "output_type": "execute_result"
    },
    {
     "data": {
      "text/plain": [
       "{'msg': 'Saved', 'code': 200, 'data': None, 'sdkErrorCode': 0}"
      ]
     },
     "execution_count": 13,
     "metadata": {},
     "output_type": "execute_result"
    },
    {
     "data": {
      "text/plain": [
       "{'msg': 'Saved', 'code': 200, 'data': None, 'sdkErrorCode': 0}"
      ]
     },
     "execution_count": 13,
     "metadata": {},
     "output_type": "execute_result"
    },
    {
     "data": {
      "text/plain": [
       "{'msg': 'Saved', 'code': 200, 'data': None, 'sdkErrorCode': 0}"
      ]
     },
     "execution_count": 13,
     "metadata": {},
     "output_type": "execute_result"
    },
    {
     "data": {
      "text/plain": [
       "{'msg': 'Saved', 'code': 200, 'data': None, 'sdkErrorCode': 0}"
      ]
     },
     "execution_count": 13,
     "metadata": {},
     "output_type": "execute_result"
    },
    {
     "data": {
      "text/plain": [
       "{'msg': 'Saved', 'code': 200, 'data': None, 'sdkErrorCode': 0}"
      ]
     },
     "execution_count": 13,
     "metadata": {},
     "output_type": "execute_result"
    },
    {
     "data": {
      "text/plain": [
       "{'msg': 'Saved', 'code': 200, 'data': None, 'sdkErrorCode': 0}"
      ]
     },
     "execution_count": 13,
     "metadata": {},
     "output_type": "execute_result"
    },
    {
     "data": {
      "text/plain": [
       "{'msg': 'Saved', 'code': 200, 'data': None, 'sdkErrorCode': 0}"
      ]
     },
     "execution_count": 13,
     "metadata": {},
     "output_type": "execute_result"
    },
    {
     "data": {
      "text/plain": [
       "{'msg': 'Saved', 'code': 200, 'data': None, 'sdkErrorCode': 0}"
      ]
     },
     "execution_count": 13,
     "metadata": {},
     "output_type": "execute_result"
    },
    {
     "data": {
      "text/plain": [
       "{'msg': 'Saved', 'code': 200, 'data': None, 'sdkErrorCode': 0}"
      ]
     },
     "execution_count": 13,
     "metadata": {},
     "output_type": "execute_result"
    },
    {
     "data": {
      "text/plain": [
       "{'msg': 'Saved', 'code': 200, 'data': None, 'sdkErrorCode': 0}"
      ]
     },
     "execution_count": 13,
     "metadata": {},
     "output_type": "execute_result"
    },
    {
     "data": {
      "text/plain": [
       "{'msg': 'Saved', 'code': 200, 'data': None, 'sdkErrorCode': 0}"
      ]
     },
     "execution_count": 13,
     "metadata": {},
     "output_type": "execute_result"
    },
    {
     "data": {
      "text/plain": [
       "{'msg': 'Saved', 'code': 200, 'data': None, 'sdkErrorCode': 0}"
      ]
     },
     "execution_count": 13,
     "metadata": {},
     "output_type": "execute_result"
    },
    {
     "data": {
      "text/plain": [
       "{'msg': 'Saved', 'code': 200, 'data': None, 'sdkErrorCode': 0}"
      ]
     },
     "execution_count": 13,
     "metadata": {},
     "output_type": "execute_result"
    },
    {
     "data": {
      "text/plain": [
       "{'msg': 'Saved', 'code': 200, 'data': None, 'sdkErrorCode': 0}"
      ]
     },
     "execution_count": 13,
     "metadata": {},
     "output_type": "execute_result"
    },
    {
     "data": {
      "text/plain": [
       "{'msg': 'Saved', 'code': 200, 'data': None, 'sdkErrorCode': 0}"
      ]
     },
     "execution_count": 13,
     "metadata": {},
     "output_type": "execute_result"
    },
    {
     "data": {
      "text/plain": [
       "{'msg': 'Saved', 'code': 200, 'data': None, 'sdkErrorCode': 0}"
      ]
     },
     "execution_count": 13,
     "metadata": {},
     "output_type": "execute_result"
    },
    {
     "data": {
      "text/plain": [
       "{'msg': 'Saved', 'code': 200, 'data': None, 'sdkErrorCode': 0}"
      ]
     },
     "execution_count": 13,
     "metadata": {},
     "output_type": "execute_result"
    },
    {
     "data": {
      "text/plain": [
       "{'msg': 'Saved', 'code': 200, 'data': None, 'sdkErrorCode': 0}"
      ]
     },
     "execution_count": 13,
     "metadata": {},
     "output_type": "execute_result"
    },
    {
     "data": {
      "text/plain": [
       "{'msg': 'Saved', 'code': 200, 'data': None, 'sdkErrorCode': 0}"
      ]
     },
     "execution_count": 13,
     "metadata": {},
     "output_type": "execute_result"
    },
    {
     "data": {
      "text/plain": [
       "{'msg': 'Saved', 'code': 200, 'data': None, 'sdkErrorCode': 0}"
      ]
     },
     "execution_count": 13,
     "metadata": {},
     "output_type": "execute_result"
    },
    {
     "data": {
      "text/plain": [
       "{'msg': 'Saved', 'code': 200, 'data': None, 'sdkErrorCode': 0}"
      ]
     },
     "execution_count": 13,
     "metadata": {},
     "output_type": "execute_result"
    },
    {
     "data": {
      "text/plain": [
       "{'msg': 'Saved', 'code': 200, 'data': None, 'sdkErrorCode': 0}"
      ]
     },
     "execution_count": 13,
     "metadata": {},
     "output_type": "execute_result"
    },
    {
     "data": {
      "text/plain": [
       "{'msg': 'Saved', 'code': 200, 'data': None, 'sdkErrorCode': 0}"
      ]
     },
     "execution_count": 13,
     "metadata": {},
     "output_type": "execute_result"
    },
    {
     "data": {
      "text/plain": [
       "{'msg': 'Saved', 'code': 200, 'data': None, 'sdkErrorCode': 0}"
      ]
     },
     "execution_count": 13,
     "metadata": {},
     "output_type": "execute_result"
    },
    {
     "data": {
      "text/plain": [
       "{'msg': 'Saved', 'code': 200, 'data': None, 'sdkErrorCode': 0}"
      ]
     },
     "execution_count": 13,
     "metadata": {},
     "output_type": "execute_result"
    },
    {
     "data": {
      "text/plain": [
       "{'msg': 'Saved', 'code': 200, 'data': None, 'sdkErrorCode': 0}"
      ]
     },
     "execution_count": 13,
     "metadata": {},
     "output_type": "execute_result"
    },
    {
     "data": {
      "text/plain": [
       "{'msg': 'Saved', 'code': 200, 'data': None, 'sdkErrorCode': 0}"
      ]
     },
     "execution_count": 13,
     "metadata": {},
     "output_type": "execute_result"
    },
    {
     "data": {
      "text/plain": [
       "{'msg': 'Saved', 'code': 200, 'data': None, 'sdkErrorCode': 0}"
      ]
     },
     "execution_count": 13,
     "metadata": {},
     "output_type": "execute_result"
    },
    {
     "data": {
      "text/plain": [
       "{'msg': 'Saved', 'code': 200, 'data': None, 'sdkErrorCode': 0}"
      ]
     },
     "execution_count": 13,
     "metadata": {},
     "output_type": "execute_result"
    },
    {
     "data": {
      "text/plain": [
       "{'msg': 'Saved', 'code': 200, 'data': None, 'sdkErrorCode': 0}"
      ]
     },
     "execution_count": 13,
     "metadata": {},
     "output_type": "execute_result"
    },
    {
     "data": {
      "text/plain": [
       "{'msg': 'Saved', 'code': 200, 'data': None, 'sdkErrorCode': 0}"
      ]
     },
     "execution_count": 13,
     "metadata": {},
     "output_type": "execute_result"
    },
    {
     "data": {
      "text/plain": [
       "{'msg': 'Saved', 'code': 200, 'data': None, 'sdkErrorCode': 0}"
      ]
     },
     "execution_count": 13,
     "metadata": {},
     "output_type": "execute_result"
    },
    {
     "data": {
      "text/plain": [
       "{'msg': 'Saved', 'code': 200, 'data': None, 'sdkErrorCode': 0}"
      ]
     },
     "execution_count": 13,
     "metadata": {},
     "output_type": "execute_result"
    },
    {
     "data": {
      "text/plain": [
       "{'msg': 'Saved', 'code': 200, 'data': None, 'sdkErrorCode': 0}"
      ]
     },
     "execution_count": 13,
     "metadata": {},
     "output_type": "execute_result"
    },
    {
     "data": {
      "text/plain": [
       "{'msg': 'Saved', 'code': 200, 'data': None, 'sdkErrorCode': 0}"
      ]
     },
     "execution_count": 13,
     "metadata": {},
     "output_type": "execute_result"
    },
    {
     "data": {
      "text/plain": [
       "{'msg': 'Saved', 'code': 200, 'data': None, 'sdkErrorCode': 0}"
      ]
     },
     "execution_count": 13,
     "metadata": {},
     "output_type": "execute_result"
    },
    {
     "data": {
      "text/plain": [
       "{'msg': 'Saved', 'code': 200, 'data': None, 'sdkErrorCode': 0}"
      ]
     },
     "execution_count": 13,
     "metadata": {},
     "output_type": "execute_result"
    },
    {
     "data": {
      "text/plain": [
       "{'msg': 'Saved', 'code': 200, 'data': None, 'sdkErrorCode': 0}"
      ]
     },
     "execution_count": 13,
     "metadata": {},
     "output_type": "execute_result"
    },
    {
     "data": {
      "text/plain": [
       "{'msg': 'Saved', 'code': 200, 'data': None, 'sdkErrorCode': 0}"
      ]
     },
     "execution_count": 13,
     "metadata": {},
     "output_type": "execute_result"
    },
    {
     "data": {
      "text/plain": [
       "{'msg': 'Saved', 'code': 200, 'data': None, 'sdkErrorCode': 0}"
      ]
     },
     "execution_count": 13,
     "metadata": {},
     "output_type": "execute_result"
    },
    {
     "data": {
      "text/plain": [
       "{'msg': 'Saved', 'code': 200, 'data': None, 'sdkErrorCode': 0}"
      ]
     },
     "execution_count": 13,
     "metadata": {},
     "output_type": "execute_result"
    },
    {
     "data": {
      "text/plain": [
       "{'msg': 'Saved', 'code': 200, 'data': None, 'sdkErrorCode': 0}"
      ]
     },
     "execution_count": 13,
     "metadata": {},
     "output_type": "execute_result"
    },
    {
     "data": {
      "text/plain": [
       "{'msg': 'Saved', 'code': 200, 'data': None, 'sdkErrorCode': 0}"
      ]
     },
     "execution_count": 13,
     "metadata": {},
     "output_type": "execute_result"
    },
    {
     "data": {
      "text/plain": [
       "{'msg': 'Saved', 'code': 200, 'data': None, 'sdkErrorCode': 0}"
      ]
     },
     "execution_count": 13,
     "metadata": {},
     "output_type": "execute_result"
    },
    {
     "data": {
      "text/plain": [
       "{'msg': 'Saved', 'code': 200, 'data': None, 'sdkErrorCode': 0}"
      ]
     },
     "execution_count": 13,
     "metadata": {},
     "output_type": "execute_result"
    },
    {
     "data": {
      "text/plain": [
       "{'msg': 'Saved', 'code': 200, 'data': None, 'sdkErrorCode': 0}"
      ]
     },
     "execution_count": 13,
     "metadata": {},
     "output_type": "execute_result"
    },
    {
     "data": {
      "text/plain": [
       "{'msg': 'Saved', 'code': 200, 'data': None, 'sdkErrorCode': 0}"
      ]
     },
     "execution_count": 13,
     "metadata": {},
     "output_type": "execute_result"
    },
    {
     "data": {
      "text/plain": [
       "{'msg': 'Saved', 'code': 200, 'data': None, 'sdkErrorCode': 0}"
      ]
     },
     "execution_count": 13,
     "metadata": {},
     "output_type": "execute_result"
    },
    {
     "data": {
      "text/plain": [
       "{'msg': 'Saved', 'code': 200, 'data': None, 'sdkErrorCode': 0}"
      ]
     },
     "execution_count": 13,
     "metadata": {},
     "output_type": "execute_result"
    },
    {
     "data": {
      "text/plain": [
       "{'msg': 'Saved', 'code': 200, 'data': None, 'sdkErrorCode': 0}"
      ]
     },
     "execution_count": 13,
     "metadata": {},
     "output_type": "execute_result"
    },
    {
     "data": {
      "text/plain": [
       "{'msg': 'Saved', 'code': 200, 'data': None, 'sdkErrorCode': 0}"
      ]
     },
     "execution_count": 13,
     "metadata": {},
     "output_type": "execute_result"
    },
    {
     "data": {
      "text/plain": [
       "{'msg': 'Saved', 'code': 200, 'data': None, 'sdkErrorCode': 0}"
      ]
     },
     "execution_count": 13,
     "metadata": {},
     "output_type": "execute_result"
    },
    {
     "data": {
      "text/plain": [
       "{'msg': 'Saved', 'code': 200, 'data': None, 'sdkErrorCode': 0}"
      ]
     },
     "execution_count": 13,
     "metadata": {},
     "output_type": "execute_result"
    },
    {
     "data": {
      "text/plain": [
       "{'msg': 'Saved', 'code': 200, 'data': None, 'sdkErrorCode': 0}"
      ]
     },
     "execution_count": 13,
     "metadata": {},
     "output_type": "execute_result"
    },
    {
     "data": {
      "text/plain": [
       "{'msg': 'Saved', 'code': 200, 'data': None, 'sdkErrorCode': 0}"
      ]
     },
     "execution_count": 13,
     "metadata": {},
     "output_type": "execute_result"
    },
    {
     "data": {
      "text/plain": [
       "{'msg': 'Saved', 'code': 200, 'data': None, 'sdkErrorCode': 0}"
      ]
     },
     "execution_count": 13,
     "metadata": {},
     "output_type": "execute_result"
    },
    {
     "data": {
      "text/plain": [
       "{'msg': 'Saved', 'code': 200, 'data': None, 'sdkErrorCode': 0}"
      ]
     },
     "execution_count": 13,
     "metadata": {},
     "output_type": "execute_result"
    },
    {
     "data": {
      "text/plain": [
       "{'msg': 'Saved', 'code': 200, 'data': None, 'sdkErrorCode': 0}"
      ]
     },
     "execution_count": 13,
     "metadata": {},
     "output_type": "execute_result"
    },
    {
     "data": {
      "text/plain": [
       "{'msg': 'Saved', 'code': 200, 'data': None, 'sdkErrorCode': 0}"
      ]
     },
     "execution_count": 13,
     "metadata": {},
     "output_type": "execute_result"
    },
    {
     "data": {
      "text/plain": [
       "{'msg': 'Saved', 'code': 200, 'data': None, 'sdkErrorCode': 0}"
      ]
     },
     "execution_count": 13,
     "metadata": {},
     "output_type": "execute_result"
    },
    {
     "data": {
      "text/plain": [
       "{'msg': 'Saved', 'code': 200, 'data': None, 'sdkErrorCode': 0}"
      ]
     },
     "execution_count": 13,
     "metadata": {},
     "output_type": "execute_result"
    },
    {
     "data": {
      "text/plain": [
       "{'msg': 'Saved', 'code': 200, 'data': None, 'sdkErrorCode': 0}"
      ]
     },
     "execution_count": 13,
     "metadata": {},
     "output_type": "execute_result"
    },
    {
     "data": {
      "text/plain": [
       "{'msg': 'Saved', 'code': 200, 'data': None, 'sdkErrorCode': 0}"
      ]
     },
     "execution_count": 13,
     "metadata": {},
     "output_type": "execute_result"
    },
    {
     "data": {
      "text/plain": [
       "{'msg': 'Saved', 'code': 200, 'data': None, 'sdkErrorCode': 0}"
      ]
     },
     "execution_count": 13,
     "metadata": {},
     "output_type": "execute_result"
    },
    {
     "data": {
      "text/plain": [
       "{'msg': 'Saved', 'code': 200, 'data': None, 'sdkErrorCode': 0}"
      ]
     },
     "execution_count": 13,
     "metadata": {},
     "output_type": "execute_result"
    },
    {
     "data": {
      "text/plain": [
       "{'msg': 'Saved', 'code': 200, 'data': None, 'sdkErrorCode': 0}"
      ]
     },
     "execution_count": 13,
     "metadata": {},
     "output_type": "execute_result"
    },
    {
     "data": {
      "text/plain": [
       "{'msg': 'Saved', 'code': 200, 'data': None, 'sdkErrorCode': 0}"
      ]
     },
     "execution_count": 13,
     "metadata": {},
     "output_type": "execute_result"
    },
    {
     "data": {
      "text/plain": [
       "{'msg': 'Saved', 'code': 200, 'data': None, 'sdkErrorCode': 0}"
      ]
     },
     "execution_count": 13,
     "metadata": {},
     "output_type": "execute_result"
    },
    {
     "data": {
      "text/plain": [
       "{'msg': 'Saved', 'code': 200, 'data': None, 'sdkErrorCode': 0}"
      ]
     },
     "execution_count": 13,
     "metadata": {},
     "output_type": "execute_result"
    },
    {
     "data": {
      "text/plain": [
       "{'msg': 'Saved', 'code': 200, 'data': None, 'sdkErrorCode': 0}"
      ]
     },
     "execution_count": 13,
     "metadata": {},
     "output_type": "execute_result"
    },
    {
     "data": {
      "text/plain": [
       "{'msg': 'Saved', 'code': 200, 'data': None, 'sdkErrorCode': 0}"
      ]
     },
     "execution_count": 13,
     "metadata": {},
     "output_type": "execute_result"
    },
    {
     "data": {
      "text/plain": [
       "{'msg': 'Saved', 'code': 200, 'data': None, 'sdkErrorCode': 0}"
      ]
     },
     "execution_count": 13,
     "metadata": {},
     "output_type": "execute_result"
    },
    {
     "data": {
      "text/plain": [
       "{'msg': 'Saved', 'code': 200, 'data': None, 'sdkErrorCode': 0}"
      ]
     },
     "execution_count": 13,
     "metadata": {},
     "output_type": "execute_result"
    },
    {
     "data": {
      "text/plain": [
       "{'msg': 'Saved', 'code': 200, 'data': None, 'sdkErrorCode': 0}"
      ]
     },
     "execution_count": 13,
     "metadata": {},
     "output_type": "execute_result"
    },
    {
     "data": {
      "text/plain": [
       "{'msg': 'Saved', 'code': 200, 'data': None, 'sdkErrorCode': 0}"
      ]
     },
     "execution_count": 13,
     "metadata": {},
     "output_type": "execute_result"
    },
    {
     "data": {
      "text/plain": [
       "{'msg': 'Saved', 'code': 200, 'data': None, 'sdkErrorCode': 0}"
      ]
     },
     "execution_count": 13,
     "metadata": {},
     "output_type": "execute_result"
    },
    {
     "data": {
      "text/plain": [
       "{'msg': 'Saved', 'code': 200, 'data': None, 'sdkErrorCode': 0}"
      ]
     },
     "execution_count": 13,
     "metadata": {},
     "output_type": "execute_result"
    },
    {
     "data": {
      "text/plain": [
       "{'msg': 'Saved', 'code': 200, 'data': None, 'sdkErrorCode': 0}"
      ]
     },
     "execution_count": 13,
     "metadata": {},
     "output_type": "execute_result"
    },
    {
     "data": {
      "text/plain": [
       "{'msg': 'Saved', 'code': 200, 'data': None, 'sdkErrorCode': 0}"
      ]
     },
     "execution_count": 13,
     "metadata": {},
     "output_type": "execute_result"
    },
    {
     "data": {
      "text/plain": [
       "{'msg': 'Saved', 'code': 200, 'data': None, 'sdkErrorCode': 0}"
      ]
     },
     "execution_count": 13,
     "metadata": {},
     "output_type": "execute_result"
    },
    {
     "data": {
      "text/plain": [
       "{'msg': 'Saved', 'code': 200, 'data': None, 'sdkErrorCode': 0}"
      ]
     },
     "execution_count": 13,
     "metadata": {},
     "output_type": "execute_result"
    },
    {
     "data": {
      "text/plain": [
       "{'msg': 'Saved', 'code': 200, 'data': None, 'sdkErrorCode': 0}"
      ]
     },
     "execution_count": 13,
     "metadata": {},
     "output_type": "execute_result"
    },
    {
     "data": {
      "text/plain": [
       "{'msg': 'Saved', 'code': 200, 'data': None, 'sdkErrorCode': 0}"
      ]
     },
     "execution_count": 13,
     "metadata": {},
     "output_type": "execute_result"
    },
    {
     "data": {
      "text/plain": [
       "{'msg': 'Saved', 'code': 200, 'data': None, 'sdkErrorCode': 0}"
      ]
     },
     "execution_count": 13,
     "metadata": {},
     "output_type": "execute_result"
    },
    {
     "data": {
      "text/plain": [
       "{'msg': 'Saved', 'code': 200, 'data': None, 'sdkErrorCode': 0}"
      ]
     },
     "execution_count": 13,
     "metadata": {},
     "output_type": "execute_result"
    },
    {
     "data": {
      "text/plain": [
       "{'msg': 'Saved', 'code': 200, 'data': None, 'sdkErrorCode': 0}"
      ]
     },
     "execution_count": 13,
     "metadata": {},
     "output_type": "execute_result"
    },
    {
     "data": {
      "text/plain": [
       "{'msg': 'Saved', 'code': 200, 'data': None, 'sdkErrorCode': 0}"
      ]
     },
     "execution_count": 13,
     "metadata": {},
     "output_type": "execute_result"
    },
    {
     "data": {
      "text/plain": [
       "{'msg': 'Saved', 'code': 200, 'data': None, 'sdkErrorCode': 0}"
      ]
     },
     "execution_count": 13,
     "metadata": {},
     "output_type": "execute_result"
    },
    {
     "data": {
      "text/plain": [
       "{'msg': 'Saved', 'code': 200, 'data': None, 'sdkErrorCode': 0}"
      ]
     },
     "execution_count": 13,
     "metadata": {},
     "output_type": "execute_result"
    },
    {
     "data": {
      "text/plain": [
       "{'msg': 'Saved', 'code': 200, 'data': None, 'sdkErrorCode': 0}"
      ]
     },
     "execution_count": 13,
     "metadata": {},
     "output_type": "execute_result"
    },
    {
     "data": {
      "text/plain": [
       "{'msg': 'Saved', 'code': 200, 'data': None, 'sdkErrorCode': 0}"
      ]
     },
     "execution_count": 13,
     "metadata": {},
     "output_type": "execute_result"
    },
    {
     "data": {
      "text/plain": [
       "{'msg': 'Saved', 'code': 200, 'data': None, 'sdkErrorCode': 0}"
      ]
     },
     "execution_count": 13,
     "metadata": {},
     "output_type": "execute_result"
    },
    {
     "data": {
      "text/plain": [
       "{'msg': 'Saved', 'code': 200, 'data': None, 'sdkErrorCode': 0}"
      ]
     },
     "execution_count": 13,
     "metadata": {},
     "output_type": "execute_result"
    },
    {
     "data": {
      "text/plain": [
       "{'msg': 'Saved', 'code': 200, 'data': None, 'sdkErrorCode': 0}"
      ]
     },
     "execution_count": 13,
     "metadata": {},
     "output_type": "execute_result"
    },
    {
     "data": {
      "text/plain": [
       "{'msg': 'Saved', 'code': 200, 'data': None, 'sdkErrorCode': 0}"
      ]
     },
     "execution_count": 13,
     "metadata": {},
     "output_type": "execute_result"
    },
    {
     "data": {
      "text/plain": [
       "{'msg': 'Saved', 'code': 200, 'data': None, 'sdkErrorCode': 0}"
      ]
     },
     "execution_count": 13,
     "metadata": {},
     "output_type": "execute_result"
    },
    {
     "data": {
      "text/plain": [
       "{'msg': 'Saved', 'code': 200, 'data': None, 'sdkErrorCode': 0}"
      ]
     },
     "execution_count": 13,
     "metadata": {},
     "output_type": "execute_result"
    },
    {
     "data": {
      "text/plain": [
       "{'msg': 'Saved', 'code': 200, 'data': None, 'sdkErrorCode': 0}"
      ]
     },
     "execution_count": 13,
     "metadata": {},
     "output_type": "execute_result"
    },
    {
     "data": {
      "text/plain": [
       "{'msg': 'Saved', 'code': 200, 'data': None, 'sdkErrorCode': 0}"
      ]
     },
     "execution_count": 13,
     "metadata": {},
     "output_type": "execute_result"
    },
    {
     "data": {
      "text/plain": [
       "{'msg': 'Saved', 'code': 200, 'data': None, 'sdkErrorCode': 0}"
      ]
     },
     "execution_count": 13,
     "metadata": {},
     "output_type": "execute_result"
    },
    {
     "data": {
      "text/plain": [
       "{'msg': 'Saved', 'code': 200, 'data': None, 'sdkErrorCode': 0}"
      ]
     },
     "execution_count": 13,
     "metadata": {},
     "output_type": "execute_result"
    },
    {
     "data": {
      "text/plain": [
       "{'msg': 'Saved', 'code': 200, 'data': None, 'sdkErrorCode': 0}"
      ]
     },
     "execution_count": 13,
     "metadata": {},
     "output_type": "execute_result"
    },
    {
     "data": {
      "text/plain": [
       "{'msg': 'Saved', 'code': 200, 'data': None, 'sdkErrorCode': 0}"
      ]
     },
     "execution_count": 13,
     "metadata": {},
     "output_type": "execute_result"
    },
    {
     "data": {
      "text/plain": [
       "{'msg': 'Saved', 'code': 200, 'data': None, 'sdkErrorCode': 0}"
      ]
     },
     "execution_count": 13,
     "metadata": {},
     "output_type": "execute_result"
    },
    {
     "data": {
      "text/plain": [
       "{'msg': 'Saved', 'code': 200, 'data': None, 'sdkErrorCode': 0}"
      ]
     },
     "execution_count": 13,
     "metadata": {},
     "output_type": "execute_result"
    },
    {
     "data": {
      "text/plain": [
       "{'msg': 'Saved', 'code': 200, 'data': None, 'sdkErrorCode': 0}"
      ]
     },
     "execution_count": 13,
     "metadata": {},
     "output_type": "execute_result"
    },
    {
     "data": {
      "text/plain": [
       "{'msg': 'Saved', 'code': 200, 'data': None, 'sdkErrorCode': 0}"
      ]
     },
     "execution_count": 13,
     "metadata": {},
     "output_type": "execute_result"
    },
    {
     "data": {
      "text/plain": [
       "{'msg': 'Saved', 'code': 200, 'data': None, 'sdkErrorCode': 0}"
      ]
     },
     "execution_count": 13,
     "metadata": {},
     "output_type": "execute_result"
    },
    {
     "data": {
      "text/plain": [
       "{'msg': 'Saved', 'code': 200, 'data': None, 'sdkErrorCode': 0}"
      ]
     },
     "execution_count": 13,
     "metadata": {},
     "output_type": "execute_result"
    },
    {
     "data": {
      "text/plain": [
       "{'msg': 'Saved', 'code': 200, 'data': None, 'sdkErrorCode': 0}"
      ]
     },
     "execution_count": 13,
     "metadata": {},
     "output_type": "execute_result"
    },
    {
     "data": {
      "text/plain": [
       "{'msg': 'Saved', 'code': 200, 'data': None, 'sdkErrorCode': 0}"
      ]
     },
     "execution_count": 13,
     "metadata": {},
     "output_type": "execute_result"
    },
    {
     "data": {
      "text/plain": [
       "{'msg': 'Saved', 'code': 200, 'data': None, 'sdkErrorCode': 0}"
      ]
     },
     "execution_count": 13,
     "metadata": {},
     "output_type": "execute_result"
    },
    {
     "data": {
      "text/plain": [
       "{'msg': 'Saved', 'code': 200, 'data': None, 'sdkErrorCode': 0}"
      ]
     },
     "execution_count": 13,
     "metadata": {},
     "output_type": "execute_result"
    },
    {
     "data": {
      "text/plain": [
       "{'msg': 'Saved', 'code': 200, 'data': None, 'sdkErrorCode': 0}"
      ]
     },
     "execution_count": 13,
     "metadata": {},
     "output_type": "execute_result"
    },
    {
     "data": {
      "text/plain": [
       "{'msg': 'Saved', 'code': 200, 'data': None, 'sdkErrorCode': 0}"
      ]
     },
     "execution_count": 13,
     "metadata": {},
     "output_type": "execute_result"
    },
    {
     "data": {
      "text/plain": [
       "{'msg': 'Saved', 'code': 200, 'data': None, 'sdkErrorCode': 0}"
      ]
     },
     "execution_count": 13,
     "metadata": {},
     "output_type": "execute_result"
    },
    {
     "data": {
      "text/plain": [
       "{'msg': 'Saved', 'code': 200, 'data': None, 'sdkErrorCode': 0}"
      ]
     },
     "execution_count": 13,
     "metadata": {},
     "output_type": "execute_result"
    },
    {
     "data": {
      "text/plain": [
       "{'msg': 'Saved', 'code': 200, 'data': None, 'sdkErrorCode': 0}"
      ]
     },
     "execution_count": 13,
     "metadata": {},
     "output_type": "execute_result"
    },
    {
     "data": {
      "text/plain": [
       "{'msg': 'Saved', 'code': 200, 'data': None, 'sdkErrorCode': 0}"
      ]
     },
     "execution_count": 13,
     "metadata": {},
     "output_type": "execute_result"
    },
    {
     "data": {
      "text/plain": [
       "{'msg': 'Saved', 'code': 200, 'data': None, 'sdkErrorCode': 0}"
      ]
     },
     "execution_count": 13,
     "metadata": {},
     "output_type": "execute_result"
    },
    {
     "data": {
      "text/plain": [
       "{'msg': 'Saved', 'code': 200, 'data': None, 'sdkErrorCode': 0}"
      ]
     },
     "execution_count": 13,
     "metadata": {},
     "output_type": "execute_result"
    },
    {
     "data": {
      "text/plain": [
       "{'msg': 'Saved', 'code': 200, 'data': None, 'sdkErrorCode': 0}"
      ]
     },
     "execution_count": 13,
     "metadata": {},
     "output_type": "execute_result"
    },
    {
     "data": {
      "text/plain": [
       "{'msg': 'Saved', 'code': 200, 'data': None, 'sdkErrorCode': 0}"
      ]
     },
     "execution_count": 13,
     "metadata": {},
     "output_type": "execute_result"
    },
    {
     "data": {
      "text/plain": [
       "{'msg': 'Saved', 'code': 200, 'data': None, 'sdkErrorCode': 0}"
      ]
     },
     "execution_count": 13,
     "metadata": {},
     "output_type": "execute_result"
    },
    {
     "data": {
      "text/plain": [
       "{'msg': 'Saved', 'code': 200, 'data': None, 'sdkErrorCode': 0}"
      ]
     },
     "execution_count": 13,
     "metadata": {},
     "output_type": "execute_result"
    },
    {
     "data": {
      "text/plain": [
       "{'msg': 'Saved', 'code': 200, 'data': None, 'sdkErrorCode': 0}"
      ]
     },
     "execution_count": 13,
     "metadata": {},
     "output_type": "execute_result"
    },
    {
     "data": {
      "text/plain": [
       "{'msg': 'Saved', 'code': 200, 'data': None, 'sdkErrorCode': 0}"
      ]
     },
     "execution_count": 13,
     "metadata": {},
     "output_type": "execute_result"
    },
    {
     "data": {
      "text/plain": [
       "{'msg': 'Saved', 'code': 200, 'data': None, 'sdkErrorCode': 0}"
      ]
     },
     "execution_count": 13,
     "metadata": {},
     "output_type": "execute_result"
    },
    {
     "data": {
      "text/plain": [
       "{'msg': 'Saved', 'code': 200, 'data': None, 'sdkErrorCode': 0}"
      ]
     },
     "execution_count": 13,
     "metadata": {},
     "output_type": "execute_result"
    },
    {
     "data": {
      "text/plain": [
       "{'msg': 'Saved', 'code': 200, 'data': None, 'sdkErrorCode': 0}"
      ]
     },
     "execution_count": 13,
     "metadata": {},
     "output_type": "execute_result"
    },
    {
     "data": {
      "text/plain": [
       "{'msg': 'Saved', 'code': 200, 'data': None, 'sdkErrorCode': 0}"
      ]
     },
     "execution_count": 13,
     "metadata": {},
     "output_type": "execute_result"
    },
    {
     "data": {
      "text/plain": [
       "{'msg': 'Saved', 'code': 200, 'data': None, 'sdkErrorCode': 0}"
      ]
     },
     "execution_count": 13,
     "metadata": {},
     "output_type": "execute_result"
    },
    {
     "data": {
      "text/plain": [
       "{'msg': 'Saved', 'code': 200, 'data': None, 'sdkErrorCode': 0}"
      ]
     },
     "execution_count": 13,
     "metadata": {},
     "output_type": "execute_result"
    },
    {
     "data": {
      "text/plain": [
       "{'msg': 'Saved', 'code': 200, 'data': None, 'sdkErrorCode': 0}"
      ]
     },
     "execution_count": 13,
     "metadata": {},
     "output_type": "execute_result"
    },
    {
     "data": {
      "text/plain": [
       "{'msg': 'Saved', 'code': 200, 'data': None, 'sdkErrorCode': 0}"
      ]
     },
     "execution_count": 13,
     "metadata": {},
     "output_type": "execute_result"
    },
    {
     "data": {
      "text/plain": [
       "{'msg': 'Saved', 'code': 200, 'data': None, 'sdkErrorCode': 0}"
      ]
     },
     "execution_count": 13,
     "metadata": {},
     "output_type": "execute_result"
    },
    {
     "data": {
      "text/plain": [
       "{'msg': 'Saved', 'code': 200, 'data': None, 'sdkErrorCode': 0}"
      ]
     },
     "execution_count": 13,
     "metadata": {},
     "output_type": "execute_result"
    },
    {
     "data": {
      "text/plain": [
       "{'msg': 'Saved', 'code': 200, 'data': None, 'sdkErrorCode': 0}"
      ]
     },
     "execution_count": 13,
     "metadata": {},
     "output_type": "execute_result"
    },
    {
     "data": {
      "text/plain": [
       "{'msg': 'Saved', 'code': 200, 'data': None, 'sdkErrorCode': 0}"
      ]
     },
     "execution_count": 13,
     "metadata": {},
     "output_type": "execute_result"
    },
    {
     "data": {
      "text/plain": [
       "{'msg': 'Saved', 'code': 200, 'data': None, 'sdkErrorCode': 0}"
      ]
     },
     "execution_count": 13,
     "metadata": {},
     "output_type": "execute_result"
    },
    {
     "data": {
      "text/plain": [
       "{'msg': 'Saved', 'code': 200, 'data': None, 'sdkErrorCode': 0}"
      ]
     },
     "execution_count": 13,
     "metadata": {},
     "output_type": "execute_result"
    },
    {
     "data": {
      "text/plain": [
       "{'msg': 'Saved', 'code': 200, 'data': None, 'sdkErrorCode': 0}"
      ]
     },
     "execution_count": 13,
     "metadata": {},
     "output_type": "execute_result"
    },
    {
     "data": {
      "text/plain": [
       "{'msg': 'Saved', 'code': 200, 'data': None, 'sdkErrorCode': 0}"
      ]
     },
     "execution_count": 13,
     "metadata": {},
     "output_type": "execute_result"
    },
    {
     "data": {
      "text/plain": [
       "{'msg': 'Saved', 'code': 200, 'data': None, 'sdkErrorCode': 0}"
      ]
     },
     "execution_count": 13,
     "metadata": {},
     "output_type": "execute_result"
    },
    {
     "data": {
      "text/plain": [
       "{'msg': 'Saved', 'code': 200, 'data': None, 'sdkErrorCode': 0}"
      ]
     },
     "execution_count": 13,
     "metadata": {},
     "output_type": "execute_result"
    },
    {
     "data": {
      "text/plain": [
       "{'msg': 'Saved', 'code': 200, 'data': None, 'sdkErrorCode': 0}"
      ]
     },
     "execution_count": 13,
     "metadata": {},
     "output_type": "execute_result"
    },
    {
     "data": {
      "text/plain": [
       "{'msg': 'Saved', 'code': 200, 'data': None, 'sdkErrorCode': 0}"
      ]
     },
     "execution_count": 13,
     "metadata": {},
     "output_type": "execute_result"
    },
    {
     "data": {
      "text/plain": [
       "{'msg': 'Saved', 'code': 200, 'data': None, 'sdkErrorCode': 0}"
      ]
     },
     "execution_count": 13,
     "metadata": {},
     "output_type": "execute_result"
    },
    {
     "data": {
      "text/plain": [
       "{'msg': 'Saved', 'code': 200, 'data': None, 'sdkErrorCode': 0}"
      ]
     },
     "execution_count": 13,
     "metadata": {},
     "output_type": "execute_result"
    },
    {
     "data": {
      "text/plain": [
       "{'msg': 'Saved', 'code': 200, 'data': None, 'sdkErrorCode': 0}"
      ]
     },
     "execution_count": 13,
     "metadata": {},
     "output_type": "execute_result"
    },
    {
     "data": {
      "text/plain": [
       "{'msg': 'Saved', 'code': 200, 'data': None, 'sdkErrorCode': 0}"
      ]
     },
     "execution_count": 13,
     "metadata": {},
     "output_type": "execute_result"
    },
    {
     "data": {
      "text/plain": [
       "{'msg': 'Saved', 'code': 200, 'data': None, 'sdkErrorCode': 0}"
      ]
     },
     "execution_count": 13,
     "metadata": {},
     "output_type": "execute_result"
    },
    {
     "data": {
      "text/plain": [
       "{'msg': 'Saved', 'code': 200, 'data': None, 'sdkErrorCode': 0}"
      ]
     },
     "execution_count": 13,
     "metadata": {},
     "output_type": "execute_result"
    },
    {
     "data": {
      "text/plain": [
       "{'msg': 'Saved', 'code': 200, 'data': None, 'sdkErrorCode': 0}"
      ]
     },
     "execution_count": 13,
     "metadata": {},
     "output_type": "execute_result"
    },
    {
     "data": {
      "text/plain": [
       "{'msg': 'Saved', 'code': 200, 'data': None, 'sdkErrorCode': 0}"
      ]
     },
     "execution_count": 13,
     "metadata": {},
     "output_type": "execute_result"
    },
    {
     "data": {
      "text/plain": [
       "{'msg': 'Saved', 'code': 200, 'data': None, 'sdkErrorCode': 0}"
      ]
     },
     "execution_count": 13,
     "metadata": {},
     "output_type": "execute_result"
    },
    {
     "data": {
      "text/plain": [
       "{'msg': 'Saved', 'code': 200, 'data': None, 'sdkErrorCode': 0}"
      ]
     },
     "execution_count": 13,
     "metadata": {},
     "output_type": "execute_result"
    },
    {
     "data": {
      "text/plain": [
       "{'msg': 'Saved', 'code': 200, 'data': None, 'sdkErrorCode': 0}"
      ]
     },
     "execution_count": 13,
     "metadata": {},
     "output_type": "execute_result"
    },
    {
     "data": {
      "text/plain": [
       "{'msg': 'Saved', 'code': 200, 'data': None, 'sdkErrorCode': 0}"
      ]
     },
     "execution_count": 13,
     "metadata": {},
     "output_type": "execute_result"
    },
    {
     "data": {
      "text/plain": [
       "{'msg': 'Saved', 'code': 200, 'data': None, 'sdkErrorCode': 0}"
      ]
     },
     "execution_count": 13,
     "metadata": {},
     "output_type": "execute_result"
    },
    {
     "data": {
      "text/plain": [
       "{'msg': 'Saved', 'code': 200, 'data': None, 'sdkErrorCode': 0}"
      ]
     },
     "execution_count": 13,
     "metadata": {},
     "output_type": "execute_result"
    },
    {
     "data": {
      "text/plain": [
       "{'msg': 'Saved', 'code': 200, 'data': None, 'sdkErrorCode': 0}"
      ]
     },
     "execution_count": 13,
     "metadata": {},
     "output_type": "execute_result"
    },
    {
     "data": {
      "text/plain": [
       "{'msg': 'Saved', 'code': 200, 'data': None, 'sdkErrorCode': 0}"
      ]
     },
     "execution_count": 13,
     "metadata": {},
     "output_type": "execute_result"
    },
    {
     "data": {
      "text/plain": [
       "{'msg': 'Saved', 'code': 200, 'data': None, 'sdkErrorCode': 0}"
      ]
     },
     "execution_count": 13,
     "metadata": {},
     "output_type": "execute_result"
    },
    {
     "data": {
      "text/plain": [
       "{'msg': 'Saved', 'code': 200, 'data': None, 'sdkErrorCode': 0}"
      ]
     },
     "execution_count": 13,
     "metadata": {},
     "output_type": "execute_result"
    },
    {
     "data": {
      "text/plain": [
       "{'msg': 'Saved', 'code': 200, 'data': None, 'sdkErrorCode': 0}"
      ]
     },
     "execution_count": 13,
     "metadata": {},
     "output_type": "execute_result"
    },
    {
     "data": {
      "text/plain": [
       "{'msg': 'Saved', 'code': 200, 'data': None, 'sdkErrorCode': 0}"
      ]
     },
     "execution_count": 13,
     "metadata": {},
     "output_type": "execute_result"
    },
    {
     "data": {
      "text/plain": [
       "{'msg': 'Saved', 'code': 200, 'data': None, 'sdkErrorCode': 0}"
      ]
     },
     "execution_count": 13,
     "metadata": {},
     "output_type": "execute_result"
    },
    {
     "data": {
      "text/plain": [
       "{'msg': 'Saved', 'code': 200, 'data': None, 'sdkErrorCode': 0}"
      ]
     },
     "execution_count": 13,
     "metadata": {},
     "output_type": "execute_result"
    },
    {
     "data": {
      "text/plain": [
       "{'msg': 'Saved', 'code': 200, 'data': None, 'sdkErrorCode': 0}"
      ]
     },
     "execution_count": 13,
     "metadata": {},
     "output_type": "execute_result"
    },
    {
     "data": {
      "text/plain": [
       "{'msg': 'Saved', 'code': 200, 'data': None, 'sdkErrorCode': 0}"
      ]
     },
     "execution_count": 13,
     "metadata": {},
     "output_type": "execute_result"
    },
    {
     "data": {
      "text/plain": [
       "{'msg': 'Saved', 'code': 200, 'data': None, 'sdkErrorCode': 0}"
      ]
     },
     "execution_count": 13,
     "metadata": {},
     "output_type": "execute_result"
    },
    {
     "data": {
      "text/plain": [
       "{'msg': 'Saved', 'code': 200, 'data': None, 'sdkErrorCode': 0}"
      ]
     },
     "execution_count": 13,
     "metadata": {},
     "output_type": "execute_result"
    },
    {
     "data": {
      "text/plain": [
       "{'msg': 'Saved', 'code': 200, 'data': None, 'sdkErrorCode': 0}"
      ]
     },
     "execution_count": 13,
     "metadata": {},
     "output_type": "execute_result"
    },
    {
     "data": {
      "text/plain": [
       "{'msg': 'Saved', 'code': 200, 'data': None, 'sdkErrorCode': 0}"
      ]
     },
     "execution_count": 13,
     "metadata": {},
     "output_type": "execute_result"
    },
    {
     "data": {
      "text/plain": [
       "{'msg': 'Saved', 'code': 200, 'data': None, 'sdkErrorCode': 0}"
      ]
     },
     "execution_count": 13,
     "metadata": {},
     "output_type": "execute_result"
    },
    {
     "data": {
      "text/plain": [
       "{'msg': 'Saved', 'code': 200, 'data': None, 'sdkErrorCode': 0}"
      ]
     },
     "execution_count": 13,
     "metadata": {},
     "output_type": "execute_result"
    },
    {
     "data": {
      "text/plain": [
       "{'msg': 'Saved', 'code': 200, 'data': None, 'sdkErrorCode': 0}"
      ]
     },
     "execution_count": 13,
     "metadata": {},
     "output_type": "execute_result"
    },
    {
     "data": {
      "text/plain": [
       "{'msg': 'Saved', 'code': 200, 'data': None, 'sdkErrorCode': 0}"
      ]
     },
     "execution_count": 13,
     "metadata": {},
     "output_type": "execute_result"
    },
    {
     "data": {
      "text/plain": [
       "{'msg': 'Saved', 'code': 200, 'data': None, 'sdkErrorCode': 0}"
      ]
     },
     "execution_count": 13,
     "metadata": {},
     "output_type": "execute_result"
    },
    {
     "data": {
      "text/plain": [
       "{'msg': 'Saved', 'code': 200, 'data': None, 'sdkErrorCode': 0}"
      ]
     },
     "execution_count": 13,
     "metadata": {},
     "output_type": "execute_result"
    },
    {
     "data": {
      "text/plain": [
       "{'msg': 'Saved', 'code': 200, 'data': None, 'sdkErrorCode': 0}"
      ]
     },
     "execution_count": 13,
     "metadata": {},
     "output_type": "execute_result"
    },
    {
     "data": {
      "text/plain": [
       "{'msg': 'Saved', 'code': 200, 'data': None, 'sdkErrorCode': 0}"
      ]
     },
     "execution_count": 13,
     "metadata": {},
     "output_type": "execute_result"
    },
    {
     "data": {
      "text/plain": [
       "{'msg': 'Saved', 'code': 200, 'data': None, 'sdkErrorCode': 0}"
      ]
     },
     "execution_count": 13,
     "metadata": {},
     "output_type": "execute_result"
    },
    {
     "data": {
      "text/plain": [
       "{'msg': 'Saved', 'code': 200, 'data': None, 'sdkErrorCode': 0}"
      ]
     },
     "execution_count": 13,
     "metadata": {},
     "output_type": "execute_result"
    },
    {
     "data": {
      "text/plain": [
       "{'msg': 'Saved', 'code': 200, 'data': None, 'sdkErrorCode': 0}"
      ]
     },
     "execution_count": 13,
     "metadata": {},
     "output_type": "execute_result"
    },
    {
     "data": {
      "text/plain": [
       "{'msg': 'Saved', 'code': 200, 'data': None, 'sdkErrorCode': 0}"
      ]
     },
     "execution_count": 13,
     "metadata": {},
     "output_type": "execute_result"
    },
    {
     "data": {
      "text/plain": [
       "{'msg': 'Saved', 'code': 200, 'data': None, 'sdkErrorCode': 0}"
      ]
     },
     "execution_count": 13,
     "metadata": {},
     "output_type": "execute_result"
    },
    {
     "data": {
      "text/plain": [
       "{'msg': 'Saved', 'code': 200, 'data': None, 'sdkErrorCode': 0}"
      ]
     },
     "execution_count": 13,
     "metadata": {},
     "output_type": "execute_result"
    },
    {
     "data": {
      "text/plain": [
       "{'msg': 'Saved', 'code': 200, 'data': None, 'sdkErrorCode': 0}"
      ]
     },
     "execution_count": 13,
     "metadata": {},
     "output_type": "execute_result"
    },
    {
     "data": {
      "text/plain": [
       "{'msg': 'Saved', 'code': 200, 'data': None, 'sdkErrorCode': 0}"
      ]
     },
     "execution_count": 13,
     "metadata": {},
     "output_type": "execute_result"
    },
    {
     "data": {
      "text/plain": [
       "{'msg': 'Saved', 'code': 200, 'data': None, 'sdkErrorCode': 0}"
      ]
     },
     "execution_count": 13,
     "metadata": {},
     "output_type": "execute_result"
    },
    {
     "data": {
      "text/plain": [
       "{'msg': 'Saved', 'code': 200, 'data': None, 'sdkErrorCode': 0}"
      ]
     },
     "execution_count": 13,
     "metadata": {},
     "output_type": "execute_result"
    },
    {
     "data": {
      "text/plain": [
       "{'msg': 'Saved', 'code': 200, 'data': None, 'sdkErrorCode': 0}"
      ]
     },
     "execution_count": 13,
     "metadata": {},
     "output_type": "execute_result"
    },
    {
     "data": {
      "text/plain": [
       "{'msg': 'Saved', 'code': 200, 'data': None, 'sdkErrorCode': 0}"
      ]
     },
     "execution_count": 13,
     "metadata": {},
     "output_type": "execute_result"
    },
    {
     "data": {
      "text/plain": [
       "{'msg': 'Saved', 'code': 200, 'data': None, 'sdkErrorCode': 0}"
      ]
     },
     "execution_count": 13,
     "metadata": {},
     "output_type": "execute_result"
    },
    {
     "data": {
      "text/plain": [
       "{'msg': 'Saved', 'code': 200, 'data': None, 'sdkErrorCode': 0}"
      ]
     },
     "execution_count": 13,
     "metadata": {},
     "output_type": "execute_result"
    },
    {
     "data": {
      "text/plain": [
       "{'msg': 'Saved', 'code': 200, 'data': None, 'sdkErrorCode': 0}"
      ]
     },
     "execution_count": 13,
     "metadata": {},
     "output_type": "execute_result"
    },
    {
     "data": {
      "text/plain": [
       "{'msg': 'Saved', 'code': 200, 'data': None, 'sdkErrorCode': 0}"
      ]
     },
     "execution_count": 13,
     "metadata": {},
     "output_type": "execute_result"
    },
    {
     "data": {
      "text/plain": [
       "{'msg': 'Saved', 'code': 200, 'data': None, 'sdkErrorCode': 0}"
      ]
     },
     "execution_count": 13,
     "metadata": {},
     "output_type": "execute_result"
    },
    {
     "data": {
      "text/plain": [
       "{'msg': 'Saved', 'code': 200, 'data': None, 'sdkErrorCode': 0}"
      ]
     },
     "execution_count": 13,
     "metadata": {},
     "output_type": "execute_result"
    },
    {
     "data": {
      "text/plain": [
       "{'msg': 'Saved', 'code': 200, 'data': None, 'sdkErrorCode': 0}"
      ]
     },
     "execution_count": 13,
     "metadata": {},
     "output_type": "execute_result"
    },
    {
     "data": {
      "text/plain": [
       "{'msg': 'Saved', 'code': 200, 'data': None, 'sdkErrorCode': 0}"
      ]
     },
     "execution_count": 13,
     "metadata": {},
     "output_type": "execute_result"
    },
    {
     "data": {
      "text/plain": [
       "{'msg': 'Saved', 'code': 200, 'data': None, 'sdkErrorCode': 0}"
      ]
     },
     "execution_count": 13,
     "metadata": {},
     "output_type": "execute_result"
    },
    {
     "data": {
      "text/plain": [
       "{'msg': 'Saved', 'code': 200, 'data': None, 'sdkErrorCode': 0}"
      ]
     },
     "execution_count": 13,
     "metadata": {},
     "output_type": "execute_result"
    },
    {
     "data": {
      "text/plain": [
       "{'msg': 'Saved', 'code': 200, 'data': None, 'sdkErrorCode': 0}"
      ]
     },
     "execution_count": 13,
     "metadata": {},
     "output_type": "execute_result"
    },
    {
     "data": {
      "text/plain": [
       "{'msg': 'Saved', 'code': 200, 'data': None, 'sdkErrorCode': 0}"
      ]
     },
     "execution_count": 13,
     "metadata": {},
     "output_type": "execute_result"
    },
    {
     "data": {
      "text/plain": [
       "{'msg': 'Saved', 'code': 200, 'data': None, 'sdkErrorCode': 0}"
      ]
     },
     "execution_count": 13,
     "metadata": {},
     "output_type": "execute_result"
    },
    {
     "data": {
      "text/plain": [
       "{'msg': 'Saved', 'code': 200, 'data': None, 'sdkErrorCode': 0}"
      ]
     },
     "execution_count": 13,
     "metadata": {},
     "output_type": "execute_result"
    },
    {
     "data": {
      "text/plain": [
       "{'msg': 'Saved', 'code': 200, 'data': None, 'sdkErrorCode': 0}"
      ]
     },
     "execution_count": 13,
     "metadata": {},
     "output_type": "execute_result"
    },
    {
     "data": {
      "text/plain": [
       "{'msg': 'Saved', 'code': 200, 'data': None, 'sdkErrorCode': 0}"
      ]
     },
     "execution_count": 13,
     "metadata": {},
     "output_type": "execute_result"
    },
    {
     "data": {
      "text/plain": [
       "{'msg': 'Saved', 'code': 200, 'data': None, 'sdkErrorCode': 0}"
      ]
     },
     "execution_count": 13,
     "metadata": {},
     "output_type": "execute_result"
    },
    {
     "data": {
      "text/plain": [
       "{'msg': 'Saved', 'code': 200, 'data': None, 'sdkErrorCode': 0}"
      ]
     },
     "execution_count": 13,
     "metadata": {},
     "output_type": "execute_result"
    },
    {
     "data": {
      "text/plain": [
       "{'msg': 'Saved', 'code': 200, 'data': None, 'sdkErrorCode': 0}"
      ]
     },
     "execution_count": 13,
     "metadata": {},
     "output_type": "execute_result"
    },
    {
     "data": {
      "text/plain": [
       "{'msg': 'Saved', 'code': 200, 'data': None, 'sdkErrorCode': 0}"
      ]
     },
     "execution_count": 13,
     "metadata": {},
     "output_type": "execute_result"
    },
    {
     "data": {
      "text/plain": [
       "{'msg': 'Saved', 'code': 200, 'data': None, 'sdkErrorCode': 0}"
      ]
     },
     "execution_count": 13,
     "metadata": {},
     "output_type": "execute_result"
    },
    {
     "data": {
      "text/plain": [
       "{'msg': 'Saved', 'code': 200, 'data': None, 'sdkErrorCode': 0}"
      ]
     },
     "execution_count": 13,
     "metadata": {},
     "output_type": "execute_result"
    },
    {
     "data": {
      "text/plain": [
       "{'msg': 'Saved', 'code': 200, 'data': None, 'sdkErrorCode': 0}"
      ]
     },
     "execution_count": 13,
     "metadata": {},
     "output_type": "execute_result"
    },
    {
     "data": {
      "text/plain": [
       "{'msg': 'Saved', 'code': 200, 'data': None, 'sdkErrorCode': 0}"
      ]
     },
     "execution_count": 13,
     "metadata": {},
     "output_type": "execute_result"
    },
    {
     "data": {
      "text/plain": [
       "{'msg': 'Saved', 'code': 200, 'data': None, 'sdkErrorCode': 0}"
      ]
     },
     "execution_count": 13,
     "metadata": {},
     "output_type": "execute_result"
    },
    {
     "data": {
      "text/plain": [
       "{'msg': 'Saved', 'code': 200, 'data': None, 'sdkErrorCode': 0}"
      ]
     },
     "execution_count": 13,
     "metadata": {},
     "output_type": "execute_result"
    },
    {
     "data": {
      "text/plain": [
       "{'msg': 'Saved', 'code': 200, 'data': None, 'sdkErrorCode': 0}"
      ]
     },
     "execution_count": 13,
     "metadata": {},
     "output_type": "execute_result"
    },
    {
     "data": {
      "text/plain": [
       "{'msg': 'Saved', 'code': 200, 'data': None, 'sdkErrorCode': 0}"
      ]
     },
     "execution_count": 13,
     "metadata": {},
     "output_type": "execute_result"
    },
    {
     "data": {
      "text/plain": [
       "{'msg': 'Saved', 'code': 200, 'data': None, 'sdkErrorCode': 0}"
      ]
     },
     "execution_count": 13,
     "metadata": {},
     "output_type": "execute_result"
    },
    {
     "data": {
      "text/plain": [
       "{'msg': 'Saved', 'code': 200, 'data': None, 'sdkErrorCode': 0}"
      ]
     },
     "execution_count": 13,
     "metadata": {},
     "output_type": "execute_result"
    },
    {
     "data": {
      "text/plain": [
       "{'msg': 'Saved', 'code': 200, 'data': None, 'sdkErrorCode': 0}"
      ]
     },
     "execution_count": 13,
     "metadata": {},
     "output_type": "execute_result"
    },
    {
     "data": {
      "text/plain": [
       "{'msg': 'Saved', 'code': 200, 'data': None, 'sdkErrorCode': 0}"
      ]
     },
     "execution_count": 13,
     "metadata": {},
     "output_type": "execute_result"
    },
    {
     "data": {
      "text/plain": [
       "{'msg': 'Saved', 'code': 200, 'data': None, 'sdkErrorCode': 0}"
      ]
     },
     "execution_count": 13,
     "metadata": {},
     "output_type": "execute_result"
    },
    {
     "data": {
      "text/plain": [
       "{'msg': 'Saved', 'code': 200, 'data': None, 'sdkErrorCode': 0}"
      ]
     },
     "execution_count": 13,
     "metadata": {},
     "output_type": "execute_result"
    },
    {
     "data": {
      "text/plain": [
       "{'msg': 'Saved', 'code': 200, 'data': None, 'sdkErrorCode': 0}"
      ]
     },
     "execution_count": 13,
     "metadata": {},
     "output_type": "execute_result"
    },
    {
     "data": {
      "text/plain": [
       "{'msg': 'Saved', 'code': 200, 'data': None, 'sdkErrorCode': 0}"
      ]
     },
     "execution_count": 13,
     "metadata": {},
     "output_type": "execute_result"
    },
    {
     "data": {
      "text/plain": [
       "{'msg': 'Saved', 'code': 200, 'data': None, 'sdkErrorCode': 0}"
      ]
     },
     "execution_count": 13,
     "metadata": {},
     "output_type": "execute_result"
    },
    {
     "data": {
      "text/plain": [
       "{'msg': 'Saved', 'code': 200, 'data': None, 'sdkErrorCode': 0}"
      ]
     },
     "execution_count": 13,
     "metadata": {},
     "output_type": "execute_result"
    },
    {
     "data": {
      "text/plain": [
       "{'msg': 'Saved', 'code': 200, 'data': None, 'sdkErrorCode': 0}"
      ]
     },
     "execution_count": 13,
     "metadata": {},
     "output_type": "execute_result"
    },
    {
     "data": {
      "text/plain": [
       "{'msg': 'Saved', 'code': 200, 'data': None, 'sdkErrorCode': 0}"
      ]
     },
     "execution_count": 13,
     "metadata": {},
     "output_type": "execute_result"
    },
    {
     "data": {
      "text/plain": [
       "{'msg': 'Saved', 'code': 200, 'data': None, 'sdkErrorCode': 0}"
      ]
     },
     "execution_count": 13,
     "metadata": {},
     "output_type": "execute_result"
    },
    {
     "data": {
      "text/plain": [
       "{'msg': 'Saved', 'code': 200, 'data': None, 'sdkErrorCode': 0}"
      ]
     },
     "execution_count": 13,
     "metadata": {},
     "output_type": "execute_result"
    },
    {
     "data": {
      "text/plain": [
       "{'msg': 'Saved', 'code': 200, 'data': None, 'sdkErrorCode': 0}"
      ]
     },
     "execution_count": 13,
     "metadata": {},
     "output_type": "execute_result"
    },
    {
     "data": {
      "text/plain": [
       "{'msg': 'Saved', 'code': 200, 'data': None, 'sdkErrorCode': 0}"
      ]
     },
     "execution_count": 13,
     "metadata": {},
     "output_type": "execute_result"
    },
    {
     "data": {
      "text/plain": [
       "{'msg': 'Saved', 'code': 200, 'data': None, 'sdkErrorCode': 0}"
      ]
     },
     "execution_count": 13,
     "metadata": {},
     "output_type": "execute_result"
    },
    {
     "data": {
      "text/plain": [
       "{'msg': 'Saved', 'code': 200, 'data': None, 'sdkErrorCode': 0}"
      ]
     },
     "execution_count": 13,
     "metadata": {},
     "output_type": "execute_result"
    },
    {
     "data": {
      "text/plain": [
       "{'msg': 'Saved', 'code': 200, 'data': None, 'sdkErrorCode': 0}"
      ]
     },
     "execution_count": 13,
     "metadata": {},
     "output_type": "execute_result"
    },
    {
     "data": {
      "text/plain": [
       "{'msg': 'Saved', 'code': 200, 'data': None, 'sdkErrorCode': 0}"
      ]
     },
     "execution_count": 13,
     "metadata": {},
     "output_type": "execute_result"
    },
    {
     "data": {
      "text/plain": [
       "{'msg': 'Saved', 'code': 200, 'data': None, 'sdkErrorCode': 0}"
      ]
     },
     "execution_count": 13,
     "metadata": {},
     "output_type": "execute_result"
    },
    {
     "data": {
      "text/plain": [
       "{'msg': 'Saved', 'code': 200, 'data': None, 'sdkErrorCode': 0}"
      ]
     },
     "execution_count": 13,
     "metadata": {},
     "output_type": "execute_result"
    },
    {
     "data": {
      "text/plain": [
       "{'msg': 'Saved', 'code': 200, 'data': None, 'sdkErrorCode': 0}"
      ]
     },
     "execution_count": 13,
     "metadata": {},
     "output_type": "execute_result"
    },
    {
     "data": {
      "text/plain": [
       "{'msg': 'Saved', 'code': 200, 'data': None, 'sdkErrorCode': 0}"
      ]
     },
     "execution_count": 13,
     "metadata": {},
     "output_type": "execute_result"
    },
    {
     "data": {
      "text/plain": [
       "{'msg': 'Saved', 'code': 200, 'data': None, 'sdkErrorCode': 0}"
      ]
     },
     "execution_count": 13,
     "metadata": {},
     "output_type": "execute_result"
    },
    {
     "data": {
      "text/plain": [
       "{'msg': 'Saved', 'code': 200, 'data': None, 'sdkErrorCode': 0}"
      ]
     },
     "execution_count": 13,
     "metadata": {},
     "output_type": "execute_result"
    },
    {
     "data": {
      "text/plain": [
       "{'msg': 'Saved', 'code': 200, 'data': None, 'sdkErrorCode': 0}"
      ]
     },
     "execution_count": 13,
     "metadata": {},
     "output_type": "execute_result"
    },
    {
     "data": {
      "text/plain": [
       "{'msg': 'Saved', 'code': 200, 'data': None, 'sdkErrorCode': 0}"
      ]
     },
     "execution_count": 13,
     "metadata": {},
     "output_type": "execute_result"
    },
    {
     "data": {
      "text/plain": [
       "{'msg': 'Saved', 'code': 200, 'data': None, 'sdkErrorCode': 0}"
      ]
     },
     "execution_count": 13,
     "metadata": {},
     "output_type": "execute_result"
    },
    {
     "data": {
      "text/plain": [
       "{'msg': 'Saved', 'code': 200, 'data': None, 'sdkErrorCode': 0}"
      ]
     },
     "execution_count": 13,
     "metadata": {},
     "output_type": "execute_result"
    },
    {
     "data": {
      "text/plain": [
       "{'msg': 'Saved', 'code': 200, 'data': None, 'sdkErrorCode': 0}"
      ]
     },
     "execution_count": 13,
     "metadata": {},
     "output_type": "execute_result"
    },
    {
     "data": {
      "text/plain": [
       "{'msg': 'Saved', 'code': 200, 'data': None, 'sdkErrorCode': 0}"
      ]
     },
     "execution_count": 13,
     "metadata": {},
     "output_type": "execute_result"
    },
    {
     "data": {
      "text/plain": [
       "{'msg': 'Saved', 'code': 200, 'data': None, 'sdkErrorCode': 0}"
      ]
     },
     "execution_count": 13,
     "metadata": {},
     "output_type": "execute_result"
    },
    {
     "data": {
      "text/plain": [
       "{'msg': 'Saved', 'code': 200, 'data': None, 'sdkErrorCode': 0}"
      ]
     },
     "execution_count": 13,
     "metadata": {},
     "output_type": "execute_result"
    },
    {
     "data": {
      "text/plain": [
       "{'msg': 'Saved', 'code': 200, 'data': None, 'sdkErrorCode': 0}"
      ]
     },
     "execution_count": 13,
     "metadata": {},
     "output_type": "execute_result"
    },
    {
     "data": {
      "text/plain": [
       "{'msg': 'Saved', 'code': 200, 'data': None, 'sdkErrorCode': 0}"
      ]
     },
     "execution_count": 13,
     "metadata": {},
     "output_type": "execute_result"
    },
    {
     "data": {
      "text/plain": [
       "{'msg': 'Saved', 'code': 200, 'data': None, 'sdkErrorCode': 0}"
      ]
     },
     "execution_count": 13,
     "metadata": {},
     "output_type": "execute_result"
    },
    {
     "data": {
      "text/plain": [
       "{'msg': 'Saved', 'code': 200, 'data': None, 'sdkErrorCode': 0}"
      ]
     },
     "execution_count": 13,
     "metadata": {},
     "output_type": "execute_result"
    },
    {
     "data": {
      "text/plain": [
       "{'msg': 'Saved', 'code': 200, 'data': None, 'sdkErrorCode': 0}"
      ]
     },
     "execution_count": 13,
     "metadata": {},
     "output_type": "execute_result"
    },
    {
     "data": {
      "text/plain": [
       "{'msg': 'Saved', 'code': 200, 'data': None, 'sdkErrorCode': 0}"
      ]
     },
     "execution_count": 13,
     "metadata": {},
     "output_type": "execute_result"
    },
    {
     "data": {
      "text/plain": [
       "{'msg': 'Saved', 'code': 200, 'data': None, 'sdkErrorCode': 0}"
      ]
     },
     "execution_count": 13,
     "metadata": {},
     "output_type": "execute_result"
    },
    {
     "data": {
      "text/plain": [
       "{'msg': 'Saved', 'code': 200, 'data': None, 'sdkErrorCode': 0}"
      ]
     },
     "execution_count": 13,
     "metadata": {},
     "output_type": "execute_result"
    },
    {
     "data": {
      "text/plain": [
       "{'msg': 'Saved', 'code': 200, 'data': None, 'sdkErrorCode': 0}"
      ]
     },
     "execution_count": 13,
     "metadata": {},
     "output_type": "execute_result"
    },
    {
     "data": {
      "text/plain": [
       "{'msg': 'Saved', 'code': 200, 'data': None, 'sdkErrorCode': 0}"
      ]
     },
     "execution_count": 13,
     "metadata": {},
     "output_type": "execute_result"
    },
    {
     "data": {
      "text/plain": [
       "{'msg': 'Saved', 'code': 200, 'data': None, 'sdkErrorCode': 0}"
      ]
     },
     "execution_count": 13,
     "metadata": {},
     "output_type": "execute_result"
    },
    {
     "data": {
      "text/plain": [
       "{'msg': 'Saved', 'code': 200, 'data': None, 'sdkErrorCode': 0}"
      ]
     },
     "execution_count": 13,
     "metadata": {},
     "output_type": "execute_result"
    },
    {
     "data": {
      "text/plain": [
       "{'msg': 'Saved', 'code': 200, 'data': None, 'sdkErrorCode': 0}"
      ]
     },
     "execution_count": 13,
     "metadata": {},
     "output_type": "execute_result"
    },
    {
     "data": {
      "text/plain": [
       "{'msg': 'Saved', 'code': 200, 'data': None, 'sdkErrorCode': 0}"
      ]
     },
     "execution_count": 13,
     "metadata": {},
     "output_type": "execute_result"
    },
    {
     "data": {
      "text/plain": [
       "{'msg': 'Saved', 'code': 200, 'data': None, 'sdkErrorCode': 0}"
      ]
     },
     "execution_count": 13,
     "metadata": {},
     "output_type": "execute_result"
    },
    {
     "data": {
      "text/plain": [
       "{'msg': 'Saved', 'code': 200, 'data': None, 'sdkErrorCode': 0}"
      ]
     },
     "execution_count": 13,
     "metadata": {},
     "output_type": "execute_result"
    },
    {
     "data": {
      "text/plain": [
       "{'msg': 'Saved', 'code': 200, 'data': None, 'sdkErrorCode': 0}"
      ]
     },
     "execution_count": 13,
     "metadata": {},
     "output_type": "execute_result"
    },
    {
     "data": {
      "text/plain": [
       "{'msg': 'Saved', 'code': 200, 'data': None, 'sdkErrorCode': 0}"
      ]
     },
     "execution_count": 13,
     "metadata": {},
     "output_type": "execute_result"
    },
    {
     "data": {
      "text/plain": [
       "{'msg': 'Saved', 'code': 200, 'data': None, 'sdkErrorCode': 0}"
      ]
     },
     "execution_count": 13,
     "metadata": {},
     "output_type": "execute_result"
    },
    {
     "data": {
      "text/plain": [
       "{'msg': 'Saved', 'code': 200, 'data': None, 'sdkErrorCode': 0}"
      ]
     },
     "execution_count": 13,
     "metadata": {},
     "output_type": "execute_result"
    },
    {
     "data": {
      "text/plain": [
       "{'msg': 'Saved', 'code': 200, 'data': None, 'sdkErrorCode': 0}"
      ]
     },
     "execution_count": 13,
     "metadata": {},
     "output_type": "execute_result"
    },
    {
     "data": {
      "text/plain": [
       "{'msg': 'Saved', 'code': 200, 'data': None, 'sdkErrorCode': 0}"
      ]
     },
     "execution_count": 13,
     "metadata": {},
     "output_type": "execute_result"
    },
    {
     "data": {
      "text/plain": [
       "{'msg': 'Saved', 'code': 200, 'data': None, 'sdkErrorCode': 0}"
      ]
     },
     "execution_count": 13,
     "metadata": {},
     "output_type": "execute_result"
    },
    {
     "data": {
      "text/plain": [
       "{'msg': 'Saved', 'code': 200, 'data': None, 'sdkErrorCode': 0}"
      ]
     },
     "execution_count": 13,
     "metadata": {},
     "output_type": "execute_result"
    },
    {
     "data": {
      "text/plain": [
       "{'msg': 'Saved', 'code': 200, 'data': None, 'sdkErrorCode': 0}"
      ]
     },
     "execution_count": 13,
     "metadata": {},
     "output_type": "execute_result"
    },
    {
     "data": {
      "text/plain": [
       "{'msg': 'Saved', 'code': 200, 'data': None, 'sdkErrorCode': 0}"
      ]
     },
     "execution_count": 13,
     "metadata": {},
     "output_type": "execute_result"
    },
    {
     "data": {
      "text/plain": [
       "{'msg': 'Saved', 'code': 200, 'data': None, 'sdkErrorCode': 0}"
      ]
     },
     "execution_count": 13,
     "metadata": {},
     "output_type": "execute_result"
    },
    {
     "data": {
      "text/plain": [
       "{'msg': 'Saved', 'code': 200, 'data': None, 'sdkErrorCode': 0}"
      ]
     },
     "execution_count": 13,
     "metadata": {},
     "output_type": "execute_result"
    },
    {
     "data": {
      "text/plain": [
       "{'msg': 'Saved', 'code': 200, 'data': None, 'sdkErrorCode': 0}"
      ]
     },
     "execution_count": 13,
     "metadata": {},
     "output_type": "execute_result"
    },
    {
     "data": {
      "text/plain": [
       "{'msg': 'Saved', 'code': 200, 'data': None, 'sdkErrorCode': 0}"
      ]
     },
     "execution_count": 13,
     "metadata": {},
     "output_type": "execute_result"
    },
    {
     "data": {
      "text/plain": [
       "{'msg': 'Saved', 'code': 200, 'data': None, 'sdkErrorCode': 0}"
      ]
     },
     "execution_count": 13,
     "metadata": {},
     "output_type": "execute_result"
    },
    {
     "data": {
      "text/plain": [
       "{'msg': 'Saved', 'code': 200, 'data': None, 'sdkErrorCode': 0}"
      ]
     },
     "execution_count": 13,
     "metadata": {},
     "output_type": "execute_result"
    },
    {
     "data": {
      "text/plain": [
       "{'msg': 'Saved', 'code': 200, 'data': None, 'sdkErrorCode': 0}"
      ]
     },
     "execution_count": 13,
     "metadata": {},
     "output_type": "execute_result"
    },
    {
     "data": {
      "text/plain": [
       "{'msg': 'Saved', 'code': 200, 'data': None, 'sdkErrorCode': 0}"
      ]
     },
     "execution_count": 13,
     "metadata": {},
     "output_type": "execute_result"
    },
    {
     "data": {
      "text/plain": [
       "{'msg': 'Saved', 'code': 200, 'data': None, 'sdkErrorCode': 0}"
      ]
     },
     "execution_count": 13,
     "metadata": {},
     "output_type": "execute_result"
    },
    {
     "data": {
      "text/plain": [
       "{'msg': 'Saved', 'code': 200, 'data': None, 'sdkErrorCode': 0}"
      ]
     },
     "execution_count": 13,
     "metadata": {},
     "output_type": "execute_result"
    },
    {
     "data": {
      "text/plain": [
       "{'msg': 'Saved', 'code': 200, 'data': None, 'sdkErrorCode': 0}"
      ]
     },
     "execution_count": 13,
     "metadata": {},
     "output_type": "execute_result"
    },
    {
     "data": {
      "text/plain": [
       "{'msg': 'Saved', 'code': 200, 'data': None, 'sdkErrorCode': 0}"
      ]
     },
     "execution_count": 13,
     "metadata": {},
     "output_type": "execute_result"
    },
    {
     "data": {
      "text/plain": [
       "{'msg': 'Saved', 'code': 200, 'data': None, 'sdkErrorCode': 0}"
      ]
     },
     "execution_count": 13,
     "metadata": {},
     "output_type": "execute_result"
    },
    {
     "data": {
      "text/plain": [
       "{'msg': 'Saved', 'code': 200, 'data': None, 'sdkErrorCode': 0}"
      ]
     },
     "execution_count": 13,
     "metadata": {},
     "output_type": "execute_result"
    },
    {
     "data": {
      "text/plain": [
       "{'msg': 'Saved', 'code': 200, 'data': None, 'sdkErrorCode': 0}"
      ]
     },
     "execution_count": 13,
     "metadata": {},
     "output_type": "execute_result"
    },
    {
     "data": {
      "text/plain": [
       "{'msg': 'Saved', 'code': 200, 'data': None, 'sdkErrorCode': 0}"
      ]
     },
     "execution_count": 13,
     "metadata": {},
     "output_type": "execute_result"
    },
    {
     "data": {
      "text/plain": [
       "{'msg': 'Saved', 'code': 200, 'data': None, 'sdkErrorCode': 0}"
      ]
     },
     "execution_count": 13,
     "metadata": {},
     "output_type": "execute_result"
    },
    {
     "data": {
      "text/plain": [
       "{'msg': 'Saved', 'code': 200, 'data': None, 'sdkErrorCode': 0}"
      ]
     },
     "execution_count": 13,
     "metadata": {},
     "output_type": "execute_result"
    },
    {
     "data": {
      "text/plain": [
       "{'msg': 'Saved', 'code': 200, 'data': None, 'sdkErrorCode': 0}"
      ]
     },
     "execution_count": 13,
     "metadata": {},
     "output_type": "execute_result"
    },
    {
     "data": {
      "text/plain": [
       "{'msg': 'Saved', 'code': 200, 'data': None, 'sdkErrorCode': 0}"
      ]
     },
     "execution_count": 13,
     "metadata": {},
     "output_type": "execute_result"
    },
    {
     "data": {
      "text/plain": [
       "{'msg': 'Saved', 'code': 200, 'data': None, 'sdkErrorCode': 0}"
      ]
     },
     "execution_count": 13,
     "metadata": {},
     "output_type": "execute_result"
    },
    {
     "data": {
      "text/plain": [
       "{'msg': 'Saved', 'code': 200, 'data': None, 'sdkErrorCode': 0}"
      ]
     },
     "execution_count": 13,
     "metadata": {},
     "output_type": "execute_result"
    },
    {
     "data": {
      "text/plain": [
       "{'msg': 'Saved', 'code': 200, 'data': None, 'sdkErrorCode': 0}"
      ]
     },
     "execution_count": 13,
     "metadata": {},
     "output_type": "execute_result"
    },
    {
     "data": {
      "text/plain": [
       "{'msg': 'Saved', 'code': 200, 'data': None, 'sdkErrorCode': 0}"
      ]
     },
     "execution_count": 13,
     "metadata": {},
     "output_type": "execute_result"
    },
    {
     "data": {
      "text/plain": [
       "{'msg': 'Saved', 'code': 200, 'data': None, 'sdkErrorCode': 0}"
      ]
     },
     "execution_count": 13,
     "metadata": {},
     "output_type": "execute_result"
    },
    {
     "data": {
      "text/plain": [
       "{'msg': 'Saved', 'code': 200, 'data': None, 'sdkErrorCode': 0}"
      ]
     },
     "execution_count": 13,
     "metadata": {},
     "output_type": "execute_result"
    },
    {
     "data": {
      "text/plain": [
       "{'msg': 'Saved', 'code': 200, 'data': None, 'sdkErrorCode': 0}"
      ]
     },
     "execution_count": 13,
     "metadata": {},
     "output_type": "execute_result"
    },
    {
     "data": {
      "text/plain": [
       "{'msg': 'Saved', 'code': 200, 'data': None, 'sdkErrorCode': 0}"
      ]
     },
     "execution_count": 13,
     "metadata": {},
     "output_type": "execute_result"
    },
    {
     "data": {
      "text/plain": [
       "{'msg': 'Saved', 'code': 200, 'data': None, 'sdkErrorCode': 0}"
      ]
     },
     "execution_count": 13,
     "metadata": {},
     "output_type": "execute_result"
    },
    {
     "data": {
      "text/plain": [
       "{'msg': 'Saved', 'code': 200, 'data': None, 'sdkErrorCode': 0}"
      ]
     },
     "execution_count": 13,
     "metadata": {},
     "output_type": "execute_result"
    },
    {
     "data": {
      "text/plain": [
       "{'msg': 'Saved', 'code': 200, 'data': None, 'sdkErrorCode': 0}"
      ]
     },
     "execution_count": 13,
     "metadata": {},
     "output_type": "execute_result"
    },
    {
     "data": {
      "text/plain": [
       "{'msg': 'Saved', 'code': 200, 'data': None, 'sdkErrorCode': 0}"
      ]
     },
     "execution_count": 13,
     "metadata": {},
     "output_type": "execute_result"
    },
    {
     "data": {
      "text/plain": [
       "{'msg': 'Saved', 'code': 200, 'data': None, 'sdkErrorCode': 0}"
      ]
     },
     "execution_count": 13,
     "metadata": {},
     "output_type": "execute_result"
    },
    {
     "data": {
      "text/plain": [
       "{'msg': 'Saved', 'code': 200, 'data': None, 'sdkErrorCode': 0}"
      ]
     },
     "execution_count": 13,
     "metadata": {},
     "output_type": "execute_result"
    },
    {
     "data": {
      "text/plain": [
       "{'msg': 'Saved', 'code': 200, 'data': None, 'sdkErrorCode': 0}"
      ]
     },
     "execution_count": 13,
     "metadata": {},
     "output_type": "execute_result"
    },
    {
     "data": {
      "text/plain": [
       "{'msg': 'Saved', 'code': 200, 'data': None, 'sdkErrorCode': 0}"
      ]
     },
     "execution_count": 13,
     "metadata": {},
     "output_type": "execute_result"
    },
    {
     "data": {
      "text/plain": [
       "{'msg': 'Saved', 'code': 200, 'data': None, 'sdkErrorCode': 0}"
      ]
     },
     "execution_count": 13,
     "metadata": {},
     "output_type": "execute_result"
    },
    {
     "data": {
      "text/plain": [
       "{'msg': 'Saved', 'code': 200, 'data': None, 'sdkErrorCode': 0}"
      ]
     },
     "execution_count": 13,
     "metadata": {},
     "output_type": "execute_result"
    },
    {
     "data": {
      "text/plain": [
       "{'msg': 'Saved', 'code': 200, 'data': None, 'sdkErrorCode': 0}"
      ]
     },
     "execution_count": 13,
     "metadata": {},
     "output_type": "execute_result"
    },
    {
     "data": {
      "text/plain": [
       "{'msg': 'Saved', 'code': 200, 'data': None, 'sdkErrorCode': 0}"
      ]
     },
     "execution_count": 13,
     "metadata": {},
     "output_type": "execute_result"
    },
    {
     "data": {
      "text/plain": [
       "{'msg': 'Saved', 'code': 200, 'data': None, 'sdkErrorCode': 0}"
      ]
     },
     "execution_count": 13,
     "metadata": {},
     "output_type": "execute_result"
    },
    {
     "data": {
      "text/plain": [
       "{'msg': 'Saved', 'code': 200, 'data': None, 'sdkErrorCode': 0}"
      ]
     },
     "execution_count": 13,
     "metadata": {},
     "output_type": "execute_result"
    },
    {
     "data": {
      "text/plain": [
       "{'msg': 'Saved', 'code': 200, 'data': None, 'sdkErrorCode': 0}"
      ]
     },
     "execution_count": 13,
     "metadata": {},
     "output_type": "execute_result"
    },
    {
     "data": {
      "text/plain": [
       "{'msg': 'Saved', 'code': 200, 'data': None, 'sdkErrorCode': 0}"
      ]
     },
     "execution_count": 13,
     "metadata": {},
     "output_type": "execute_result"
    },
    {
     "data": {
      "text/plain": [
       "{'msg': 'Saved', 'code': 200, 'data': None, 'sdkErrorCode': 0}"
      ]
     },
     "execution_count": 13,
     "metadata": {},
     "output_type": "execute_result"
    },
    {
     "data": {
      "text/plain": [
       "{'msg': 'Saved', 'code': 200, 'data': None, 'sdkErrorCode': 0}"
      ]
     },
     "execution_count": 13,
     "metadata": {},
     "output_type": "execute_result"
    },
    {
     "data": {
      "text/plain": [
       "{'msg': 'Saved', 'code': 200, 'data': None, 'sdkErrorCode': 0}"
      ]
     },
     "execution_count": 13,
     "metadata": {},
     "output_type": "execute_result"
    },
    {
     "data": {
      "text/plain": [
       "{'msg': 'Saved', 'code': 200, 'data': None, 'sdkErrorCode': 0}"
      ]
     },
     "execution_count": 13,
     "metadata": {},
     "output_type": "execute_result"
    },
    {
     "data": {
      "text/plain": [
       "{'msg': 'Saved', 'code': 200, 'data': None, 'sdkErrorCode': 0}"
      ]
     },
     "execution_count": 13,
     "metadata": {},
     "output_type": "execute_result"
    },
    {
     "data": {
      "text/plain": [
       "{'msg': 'Saved', 'code': 200, 'data': None, 'sdkErrorCode': 0}"
      ]
     },
     "execution_count": 13,
     "metadata": {},
     "output_type": "execute_result"
    },
    {
     "data": {
      "text/plain": [
       "{'msg': 'Saved', 'code': 200, 'data': None, 'sdkErrorCode': 0}"
      ]
     },
     "execution_count": 13,
     "metadata": {},
     "output_type": "execute_result"
    },
    {
     "data": {
      "text/plain": [
       "{'msg': 'Saved', 'code': 200, 'data': None, 'sdkErrorCode': 0}"
      ]
     },
     "execution_count": 13,
     "metadata": {},
     "output_type": "execute_result"
    },
    {
     "data": {
      "text/plain": [
       "{'msg': 'Saved', 'code': 200, 'data': None, 'sdkErrorCode': 0}"
      ]
     },
     "execution_count": 13,
     "metadata": {},
     "output_type": "execute_result"
    },
    {
     "data": {
      "text/plain": [
       "{'msg': 'Saved', 'code': 200, 'data': None, 'sdkErrorCode': 0}"
      ]
     },
     "execution_count": 13,
     "metadata": {},
     "output_type": "execute_result"
    },
    {
     "data": {
      "text/plain": [
       "{'msg': 'Saved', 'code': 200, 'data': None, 'sdkErrorCode': 0}"
      ]
     },
     "execution_count": 13,
     "metadata": {},
     "output_type": "execute_result"
    },
    {
     "data": {
      "text/plain": [
       "{'msg': 'Saved', 'code': 200, 'data': None, 'sdkErrorCode': 0}"
      ]
     },
     "execution_count": 13,
     "metadata": {},
     "output_type": "execute_result"
    },
    {
     "data": {
      "text/plain": [
       "{'msg': 'Saved', 'code': 200, 'data': None, 'sdkErrorCode': 0}"
      ]
     },
     "execution_count": 13,
     "metadata": {},
     "output_type": "execute_result"
    },
    {
     "data": {
      "text/plain": [
       "{'msg': 'Saved', 'code': 200, 'data': None, 'sdkErrorCode': 0}"
      ]
     },
     "execution_count": 13,
     "metadata": {},
     "output_type": "execute_result"
    },
    {
     "data": {
      "text/plain": [
       "{'msg': 'Saved', 'code': 200, 'data': None, 'sdkErrorCode': 0}"
      ]
     },
     "execution_count": 13,
     "metadata": {},
     "output_type": "execute_result"
    },
    {
     "data": {
      "text/plain": [
       "{'msg': 'Saved', 'code': 200, 'data': None, 'sdkErrorCode': 0}"
      ]
     },
     "execution_count": 13,
     "metadata": {},
     "output_type": "execute_result"
    },
    {
     "data": {
      "text/plain": [
       "{'msg': 'Saved', 'code': 200, 'data': None, 'sdkErrorCode': 0}"
      ]
     },
     "execution_count": 13,
     "metadata": {},
     "output_type": "execute_result"
    },
    {
     "data": {
      "text/plain": [
       "{'msg': 'Saved', 'code': 200, 'data': None, 'sdkErrorCode': 0}"
      ]
     },
     "execution_count": 13,
     "metadata": {},
     "output_type": "execute_result"
    },
    {
     "data": {
      "text/plain": [
       "{'msg': 'Saved', 'code': 200, 'data': None, 'sdkErrorCode': 0}"
      ]
     },
     "execution_count": 13,
     "metadata": {},
     "output_type": "execute_result"
    },
    {
     "data": {
      "text/plain": [
       "{'msg': 'Saved', 'code': 200, 'data': None, 'sdkErrorCode': 0}"
      ]
     },
     "execution_count": 13,
     "metadata": {},
     "output_type": "execute_result"
    },
    {
     "data": {
      "text/plain": [
       "{'msg': 'Saved', 'code': 200, 'data': None, 'sdkErrorCode': 0}"
      ]
     },
     "execution_count": 13,
     "metadata": {},
     "output_type": "execute_result"
    },
    {
     "data": {
      "text/plain": [
       "{'msg': 'Saved', 'code': 200, 'data': None, 'sdkErrorCode': 0}"
      ]
     },
     "execution_count": 13,
     "metadata": {},
     "output_type": "execute_result"
    },
    {
     "data": {
      "text/plain": [
       "{'msg': 'Saved', 'code': 200, 'data': None, 'sdkErrorCode': 0}"
      ]
     },
     "execution_count": 13,
     "metadata": {},
     "output_type": "execute_result"
    },
    {
     "data": {
      "text/plain": [
       "{'msg': 'Saved', 'code': 200, 'data': None, 'sdkErrorCode': 0}"
      ]
     },
     "execution_count": 13,
     "metadata": {},
     "output_type": "execute_result"
    },
    {
     "data": {
      "text/plain": [
       "{'msg': 'Saved', 'code': 200, 'data': None, 'sdkErrorCode': 0}"
      ]
     },
     "execution_count": 13,
     "metadata": {},
     "output_type": "execute_result"
    },
    {
     "data": {
      "text/plain": [
       "{'msg': 'Saved', 'code': 200, 'data': None, 'sdkErrorCode': 0}"
      ]
     },
     "execution_count": 13,
     "metadata": {},
     "output_type": "execute_result"
    },
    {
     "data": {
      "text/plain": [
       "{'msg': 'Saved', 'code': 200, 'data': None, 'sdkErrorCode': 0}"
      ]
     },
     "execution_count": 13,
     "metadata": {},
     "output_type": "execute_result"
    },
    {
     "data": {
      "text/plain": [
       "{'msg': 'Saved', 'code': 200, 'data': None, 'sdkErrorCode': 0}"
      ]
     },
     "execution_count": 13,
     "metadata": {},
     "output_type": "execute_result"
    },
    {
     "data": {
      "text/plain": [
       "{'msg': 'Saved', 'code': 200, 'data': None, 'sdkErrorCode': 0}"
      ]
     },
     "execution_count": 13,
     "metadata": {},
     "output_type": "execute_result"
    },
    {
     "data": {
      "text/plain": [
       "{'msg': 'Saved', 'code': 200, 'data': None, 'sdkErrorCode': 0}"
      ]
     },
     "execution_count": 13,
     "metadata": {},
     "output_type": "execute_result"
    },
    {
     "data": {
      "text/plain": [
       "{'msg': 'Saved', 'code': 200, 'data': None, 'sdkErrorCode': 0}"
      ]
     },
     "execution_count": 13,
     "metadata": {},
     "output_type": "execute_result"
    },
    {
     "data": {
      "text/plain": [
       "{'msg': 'Saved', 'code': 200, 'data': None, 'sdkErrorCode': 0}"
      ]
     },
     "execution_count": 13,
     "metadata": {},
     "output_type": "execute_result"
    },
    {
     "data": {
      "text/plain": [
       "{'msg': 'Saved', 'code': 200, 'data': None, 'sdkErrorCode': 0}"
      ]
     },
     "execution_count": 13,
     "metadata": {},
     "output_type": "execute_result"
    },
    {
     "data": {
      "text/plain": [
       "{'msg': 'Saved', 'code': 200, 'data': None, 'sdkErrorCode': 0}"
      ]
     },
     "execution_count": 13,
     "metadata": {},
     "output_type": "execute_result"
    },
    {
     "data": {
      "text/plain": [
       "{'msg': 'Saved', 'code': 200, 'data': None, 'sdkErrorCode': 0}"
      ]
     },
     "execution_count": 13,
     "metadata": {},
     "output_type": "execute_result"
    },
    {
     "data": {
      "text/plain": [
       "{'msg': 'Saved', 'code': 200, 'data': None, 'sdkErrorCode': 0}"
      ]
     },
     "execution_count": 13,
     "metadata": {},
     "output_type": "execute_result"
    },
    {
     "data": {
      "text/plain": [
       "{'msg': 'Saved', 'code': 200, 'data': None, 'sdkErrorCode': 0}"
      ]
     },
     "execution_count": 13,
     "metadata": {},
     "output_type": "execute_result"
    },
    {
     "data": {
      "text/plain": [
       "{'msg': 'Saved', 'code': 200, 'data': None, 'sdkErrorCode': 0}"
      ]
     },
     "execution_count": 13,
     "metadata": {},
     "output_type": "execute_result"
    },
    {
     "data": {
      "text/plain": [
       "{'msg': 'Saved', 'code': 200, 'data': None, 'sdkErrorCode': 0}"
      ]
     },
     "execution_count": 13,
     "metadata": {},
     "output_type": "execute_result"
    },
    {
     "data": {
      "text/plain": [
       "{'msg': 'Saved', 'code': 200, 'data': None, 'sdkErrorCode': 0}"
      ]
     },
     "execution_count": 13,
     "metadata": {},
     "output_type": "execute_result"
    },
    {
     "data": {
      "text/plain": [
       "{'msg': 'Saved', 'code': 200, 'data': None, 'sdkErrorCode': 0}"
      ]
     },
     "execution_count": 13,
     "metadata": {},
     "output_type": "execute_result"
    },
    {
     "data": {
      "text/plain": [
       "{'msg': 'Saved', 'code': 200, 'data': None, 'sdkErrorCode': 0}"
      ]
     },
     "execution_count": 13,
     "metadata": {},
     "output_type": "execute_result"
    },
    {
     "data": {
      "text/plain": [
       "{'msg': 'Saved', 'code': 200, 'data': None, 'sdkErrorCode': 0}"
      ]
     },
     "execution_count": 13,
     "metadata": {},
     "output_type": "execute_result"
    },
    {
     "data": {
      "text/plain": [
       "{'msg': 'Saved', 'code': 200, 'data': None, 'sdkErrorCode': 0}"
      ]
     },
     "execution_count": 13,
     "metadata": {},
     "output_type": "execute_result"
    },
    {
     "data": {
      "text/plain": [
       "{'msg': 'Saved', 'code': 200, 'data': None, 'sdkErrorCode': 0}"
      ]
     },
     "execution_count": 13,
     "metadata": {},
     "output_type": "execute_result"
    },
    {
     "data": {
      "text/plain": [
       "{'msg': 'Saved', 'code': 200, 'data': None, 'sdkErrorCode': 0}"
      ]
     },
     "execution_count": 13,
     "metadata": {},
     "output_type": "execute_result"
    },
    {
     "data": {
      "text/plain": [
       "{'msg': 'Saved', 'code': 200, 'data': None, 'sdkErrorCode': 0}"
      ]
     },
     "execution_count": 13,
     "metadata": {},
     "output_type": "execute_result"
    },
    {
     "data": {
      "text/plain": [
       "{'msg': 'Saved', 'code': 200, 'data': None, 'sdkErrorCode': 0}"
      ]
     },
     "execution_count": 13,
     "metadata": {},
     "output_type": "execute_result"
    },
    {
     "data": {
      "text/plain": [
       "{'msg': 'Saved', 'code': 200, 'data': None, 'sdkErrorCode': 0}"
      ]
     },
     "execution_count": 13,
     "metadata": {},
     "output_type": "execute_result"
    },
    {
     "data": {
      "text/plain": [
       "{'msg': 'Saved', 'code': 200, 'data': None, 'sdkErrorCode': 0}"
      ]
     },
     "execution_count": 13,
     "metadata": {},
     "output_type": "execute_result"
    },
    {
     "data": {
      "text/plain": [
       "{'msg': 'Saved', 'code': 200, 'data': None, 'sdkErrorCode': 0}"
      ]
     },
     "execution_count": 13,
     "metadata": {},
     "output_type": "execute_result"
    },
    {
     "data": {
      "text/plain": [
       "{'msg': 'Saved', 'code': 200, 'data': None, 'sdkErrorCode': 0}"
      ]
     },
     "execution_count": 13,
     "metadata": {},
     "output_type": "execute_result"
    },
    {
     "data": {
      "text/plain": [
       "{'msg': 'Saved', 'code': 200, 'data': None, 'sdkErrorCode': 0}"
      ]
     },
     "execution_count": 13,
     "metadata": {},
     "output_type": "execute_result"
    },
    {
     "data": {
      "text/plain": [
       "{'msg': 'Saved', 'code': 200, 'data': None, 'sdkErrorCode': 0}"
      ]
     },
     "execution_count": 13,
     "metadata": {},
     "output_type": "execute_result"
    },
    {
     "data": {
      "text/plain": [
       "{'msg': 'Saved', 'code': 200, 'data': None, 'sdkErrorCode': 0}"
      ]
     },
     "execution_count": 13,
     "metadata": {},
     "output_type": "execute_result"
    },
    {
     "data": {
      "text/plain": [
       "{'msg': 'Saved', 'code': 200, 'data': None, 'sdkErrorCode': 0}"
      ]
     },
     "execution_count": 13,
     "metadata": {},
     "output_type": "execute_result"
    },
    {
     "data": {
      "text/plain": [
       "{'msg': 'Saved', 'code': 200, 'data': None, 'sdkErrorCode': 0}"
      ]
     },
     "execution_count": 13,
     "metadata": {},
     "output_type": "execute_result"
    },
    {
     "data": {
      "text/plain": [
       "{'msg': 'Saved', 'code': 200, 'data': None, 'sdkErrorCode': 0}"
      ]
     },
     "execution_count": 13,
     "metadata": {},
     "output_type": "execute_result"
    },
    {
     "data": {
      "text/plain": [
       "{'msg': 'Saved', 'code': 200, 'data': None, 'sdkErrorCode': 0}"
      ]
     },
     "execution_count": 13,
     "metadata": {},
     "output_type": "execute_result"
    },
    {
     "data": {
      "text/plain": [
       "{'msg': 'Saved', 'code': 200, 'data': None, 'sdkErrorCode': 0}"
      ]
     },
     "execution_count": 13,
     "metadata": {},
     "output_type": "execute_result"
    },
    {
     "data": {
      "text/plain": [
       "{'msg': 'Saved', 'code': 200, 'data': None, 'sdkErrorCode': 0}"
      ]
     },
     "execution_count": 13,
     "metadata": {},
     "output_type": "execute_result"
    },
    {
     "data": {
      "text/plain": [
       "{'msg': 'Saved', 'code': 200, 'data': None, 'sdkErrorCode': 0}"
      ]
     },
     "execution_count": 13,
     "metadata": {},
     "output_type": "execute_result"
    },
    {
     "data": {
      "text/plain": [
       "{'msg': 'Saved', 'code': 200, 'data': None, 'sdkErrorCode': 0}"
      ]
     },
     "execution_count": 13,
     "metadata": {},
     "output_type": "execute_result"
    },
    {
     "data": {
      "text/plain": [
       "{'msg': 'Saved', 'code': 200, 'data': None, 'sdkErrorCode': 0}"
      ]
     },
     "execution_count": 13,
     "metadata": {},
     "output_type": "execute_result"
    },
    {
     "data": {
      "text/plain": [
       "{'msg': 'Saved', 'code': 200, 'data': None, 'sdkErrorCode': 0}"
      ]
     },
     "execution_count": 13,
     "metadata": {},
     "output_type": "execute_result"
    },
    {
     "data": {
      "text/plain": [
       "{'msg': 'Saved', 'code': 200, 'data': None, 'sdkErrorCode': 0}"
      ]
     },
     "execution_count": 13,
     "metadata": {},
     "output_type": "execute_result"
    },
    {
     "data": {
      "text/plain": [
       "{'msg': 'Saved', 'code': 200, 'data': None, 'sdkErrorCode': 0}"
      ]
     },
     "execution_count": 13,
     "metadata": {},
     "output_type": "execute_result"
    },
    {
     "data": {
      "text/plain": [
       "{'msg': 'Saved', 'code': 200, 'data': None, 'sdkErrorCode': 0}"
      ]
     },
     "execution_count": 13,
     "metadata": {},
     "output_type": "execute_result"
    },
    {
     "data": {
      "text/plain": [
       "{'msg': 'Saved', 'code': 200, 'data': None, 'sdkErrorCode': 0}"
      ]
     },
     "execution_count": 13,
     "metadata": {},
     "output_type": "execute_result"
    },
    {
     "data": {
      "text/plain": [
       "{'msg': 'Saved', 'code': 200, 'data': None, 'sdkErrorCode': 0}"
      ]
     },
     "execution_count": 13,
     "metadata": {},
     "output_type": "execute_result"
    },
    {
     "data": {
      "text/plain": [
       "{'msg': 'Saved', 'code': 200, 'data': None, 'sdkErrorCode': 0}"
      ]
     },
     "execution_count": 13,
     "metadata": {},
     "output_type": "execute_result"
    },
    {
     "data": {
      "text/plain": [
       "{'msg': 'Saved', 'code': 200, 'data': None, 'sdkErrorCode': 0}"
      ]
     },
     "execution_count": 13,
     "metadata": {},
     "output_type": "execute_result"
    },
    {
     "data": {
      "text/plain": [
       "{'msg': 'Saved', 'code': 200, 'data': None, 'sdkErrorCode': 0}"
      ]
     },
     "execution_count": 13,
     "metadata": {},
     "output_type": "execute_result"
    },
    {
     "data": {
      "text/plain": [
       "{'msg': 'Saved', 'code': 200, 'data': None, 'sdkErrorCode': 0}"
      ]
     },
     "execution_count": 13,
     "metadata": {},
     "output_type": "execute_result"
    },
    {
     "data": {
      "text/plain": [
       "{'msg': 'Saved', 'code': 200, 'data': None, 'sdkErrorCode': 0}"
      ]
     },
     "execution_count": 13,
     "metadata": {},
     "output_type": "execute_result"
    },
    {
     "data": {
      "text/plain": [
       "{'msg': 'Saved', 'code': 200, 'data': None, 'sdkErrorCode': 0}"
      ]
     },
     "execution_count": 13,
     "metadata": {},
     "output_type": "execute_result"
    },
    {
     "data": {
      "text/plain": [
       "{'msg': 'Saved', 'code': 200, 'data': None, 'sdkErrorCode': 0}"
      ]
     },
     "execution_count": 13,
     "metadata": {},
     "output_type": "execute_result"
    },
    {
     "data": {
      "text/plain": [
       "{'msg': 'Saved', 'code': 200, 'data': None, 'sdkErrorCode': 0}"
      ]
     },
     "execution_count": 13,
     "metadata": {},
     "output_type": "execute_result"
    },
    {
     "data": {
      "text/plain": [
       "{'msg': 'Saved', 'code': 200, 'data': None, 'sdkErrorCode': 0}"
      ]
     },
     "execution_count": 13,
     "metadata": {},
     "output_type": "execute_result"
    },
    {
     "data": {
      "text/plain": [
       "{'msg': 'Saved', 'code': 200, 'data': None, 'sdkErrorCode': 0}"
      ]
     },
     "execution_count": 13,
     "metadata": {},
     "output_type": "execute_result"
    },
    {
     "data": {
      "text/plain": [
       "{'msg': 'Saved', 'code': 200, 'data': None, 'sdkErrorCode': 0}"
      ]
     },
     "execution_count": 13,
     "metadata": {},
     "output_type": "execute_result"
    },
    {
     "data": {
      "text/plain": [
       "{'msg': 'Saved', 'code': 200, 'data': None, 'sdkErrorCode': 0}"
      ]
     },
     "execution_count": 13,
     "metadata": {},
     "output_type": "execute_result"
    },
    {
     "data": {
      "text/plain": [
       "{'msg': 'Saved', 'code': 200, 'data': None, 'sdkErrorCode': 0}"
      ]
     },
     "execution_count": 13,
     "metadata": {},
     "output_type": "execute_result"
    },
    {
     "data": {
      "text/plain": [
       "{'msg': 'Saved', 'code': 200, 'data': None, 'sdkErrorCode': 0}"
      ]
     },
     "execution_count": 13,
     "metadata": {},
     "output_type": "execute_result"
    },
    {
     "data": {
      "text/plain": [
       "{'msg': 'Saved', 'code': 200, 'data': None, 'sdkErrorCode': 0}"
      ]
     },
     "execution_count": 13,
     "metadata": {},
     "output_type": "execute_result"
    },
    {
     "data": {
      "text/plain": [
       "{'msg': 'Saved', 'code': 200, 'data': None, 'sdkErrorCode': 0}"
      ]
     },
     "execution_count": 13,
     "metadata": {},
     "output_type": "execute_result"
    },
    {
     "data": {
      "text/plain": [
       "{'msg': 'Saved', 'code': 200, 'data': None, 'sdkErrorCode': 0}"
      ]
     },
     "execution_count": 13,
     "metadata": {},
     "output_type": "execute_result"
    },
    {
     "data": {
      "text/plain": [
       "{'msg': 'Saved', 'code': 200, 'data': None, 'sdkErrorCode': 0}"
      ]
     },
     "execution_count": 13,
     "metadata": {},
     "output_type": "execute_result"
    },
    {
     "data": {
      "text/plain": [
       "{'msg': 'Saved', 'code': 200, 'data': None, 'sdkErrorCode': 0}"
      ]
     },
     "execution_count": 13,
     "metadata": {},
     "output_type": "execute_result"
    },
    {
     "data": {
      "text/plain": [
       "{'msg': 'Saved', 'code': 200, 'data': None, 'sdkErrorCode': 0}"
      ]
     },
     "execution_count": 13,
     "metadata": {},
     "output_type": "execute_result"
    },
    {
     "data": {
      "text/plain": [
       "{'msg': 'Saved', 'code': 200, 'data': None, 'sdkErrorCode': 0}"
      ]
     },
     "execution_count": 13,
     "metadata": {},
     "output_type": "execute_result"
    },
    {
     "data": {
      "text/plain": [
       "{'msg': 'Saved', 'code': 200, 'data': None, 'sdkErrorCode': 0}"
      ]
     },
     "execution_count": 13,
     "metadata": {},
     "output_type": "execute_result"
    },
    {
     "data": {
      "text/plain": [
       "{'msg': 'Saved', 'code': 200, 'data': None, 'sdkErrorCode': 0}"
      ]
     },
     "execution_count": 13,
     "metadata": {},
     "output_type": "execute_result"
    },
    {
     "data": {
      "text/plain": [
       "{'msg': 'Saved', 'code': 200, 'data': None, 'sdkErrorCode': 0}"
      ]
     },
     "execution_count": 13,
     "metadata": {},
     "output_type": "execute_result"
    },
    {
     "data": {
      "text/plain": [
       "{'msg': 'Saved', 'code': 200, 'data': None, 'sdkErrorCode': 0}"
      ]
     },
     "execution_count": 13,
     "metadata": {},
     "output_type": "execute_result"
    },
    {
     "data": {
      "text/plain": [
       "{'msg': 'Saved', 'code': 200, 'data': None, 'sdkErrorCode': 0}"
      ]
     },
     "execution_count": 13,
     "metadata": {},
     "output_type": "execute_result"
    },
    {
     "data": {
      "text/plain": [
       "{'msg': 'Saved', 'code': 200, 'data': None, 'sdkErrorCode': 0}"
      ]
     },
     "execution_count": 13,
     "metadata": {},
     "output_type": "execute_result"
    },
    {
     "data": {
      "text/plain": [
       "{'msg': 'Saved', 'code': 200, 'data': None, 'sdkErrorCode': 0}"
      ]
     },
     "execution_count": 13,
     "metadata": {},
     "output_type": "execute_result"
    },
    {
     "data": {
      "text/plain": [
       "{'msg': 'Saved', 'code': 200, 'data': None, 'sdkErrorCode': 0}"
      ]
     },
     "execution_count": 13,
     "metadata": {},
     "output_type": "execute_result"
    },
    {
     "data": {
      "text/plain": [
       "{'msg': 'Saved', 'code': 200, 'data': None, 'sdkErrorCode': 0}"
      ]
     },
     "execution_count": 13,
     "metadata": {},
     "output_type": "execute_result"
    },
    {
     "data": {
      "text/plain": [
       "{'msg': 'Saved', 'code': 200, 'data': None, 'sdkErrorCode': 0}"
      ]
     },
     "execution_count": 13,
     "metadata": {},
     "output_type": "execute_result"
    },
    {
     "data": {
      "text/plain": [
       "{'msg': 'Saved', 'code': 200, 'data': None, 'sdkErrorCode': 0}"
      ]
     },
     "execution_count": 13,
     "metadata": {},
     "output_type": "execute_result"
    },
    {
     "data": {
      "text/plain": [
       "{'msg': 'Saved', 'code': 200, 'data': None, 'sdkErrorCode': 0}"
      ]
     },
     "execution_count": 13,
     "metadata": {},
     "output_type": "execute_result"
    },
    {
     "data": {
      "text/plain": [
       "{'msg': 'Saved', 'code': 200, 'data': None, 'sdkErrorCode': 0}"
      ]
     },
     "execution_count": 13,
     "metadata": {},
     "output_type": "execute_result"
    },
    {
     "data": {
      "text/plain": [
       "{'msg': 'Saved', 'code': 200, 'data': None, 'sdkErrorCode': 0}"
      ]
     },
     "execution_count": 13,
     "metadata": {},
     "output_type": "execute_result"
    },
    {
     "data": {
      "text/plain": [
       "{'msg': 'Saved', 'code': 200, 'data': None, 'sdkErrorCode': 0}"
      ]
     },
     "execution_count": 13,
     "metadata": {},
     "output_type": "execute_result"
    },
    {
     "data": {
      "text/plain": [
       "{'msg': 'Saved', 'code': 200, 'data': None, 'sdkErrorCode': 0}"
      ]
     },
     "execution_count": 13,
     "metadata": {},
     "output_type": "execute_result"
    },
    {
     "data": {
      "text/plain": [
       "{'msg': 'Saved', 'code': 200, 'data': None, 'sdkErrorCode': 0}"
      ]
     },
     "execution_count": 13,
     "metadata": {},
     "output_type": "execute_result"
    },
    {
     "data": {
      "text/plain": [
       "{'msg': 'Saved', 'code': 200, 'data': None, 'sdkErrorCode': 0}"
      ]
     },
     "execution_count": 13,
     "metadata": {},
     "output_type": "execute_result"
    },
    {
     "data": {
      "text/plain": [
       "{'msg': 'Saved', 'code': 200, 'data': None, 'sdkErrorCode': 0}"
      ]
     },
     "execution_count": 13,
     "metadata": {},
     "output_type": "execute_result"
    },
    {
     "data": {
      "text/plain": [
       "{'msg': 'Saved', 'code': 200, 'data': None, 'sdkErrorCode': 0}"
      ]
     },
     "execution_count": 13,
     "metadata": {},
     "output_type": "execute_result"
    },
    {
     "data": {
      "text/plain": [
       "{'msg': 'Saved', 'code': 200, 'data': None, 'sdkErrorCode': 0}"
      ]
     },
     "execution_count": 13,
     "metadata": {},
     "output_type": "execute_result"
    },
    {
     "data": {
      "text/plain": [
       "{'msg': 'Saved', 'code': 200, 'data': None, 'sdkErrorCode': 0}"
      ]
     },
     "execution_count": 13,
     "metadata": {},
     "output_type": "execute_result"
    },
    {
     "data": {
      "text/plain": [
       "{'msg': 'Saved', 'code': 200, 'data': None, 'sdkErrorCode': 0}"
      ]
     },
     "execution_count": 13,
     "metadata": {},
     "output_type": "execute_result"
    },
    {
     "data": {
      "text/plain": [
       "{'msg': 'Saved', 'code': 200, 'data': None, 'sdkErrorCode': 0}"
      ]
     },
     "execution_count": 13,
     "metadata": {},
     "output_type": "execute_result"
    },
    {
     "data": {
      "text/plain": [
       "{'msg': 'Saved', 'code': 200, 'data': None, 'sdkErrorCode': 0}"
      ]
     },
     "execution_count": 13,
     "metadata": {},
     "output_type": "execute_result"
    },
    {
     "data": {
      "text/plain": [
       "{'msg': 'Saved', 'code': 200, 'data': None, 'sdkErrorCode': 0}"
      ]
     },
     "execution_count": 13,
     "metadata": {},
     "output_type": "execute_result"
    },
    {
     "data": {
      "text/plain": [
       "{'msg': 'Saved', 'code': 200, 'data': None, 'sdkErrorCode': 0}"
      ]
     },
     "execution_count": 13,
     "metadata": {},
     "output_type": "execute_result"
    },
    {
     "data": {
      "text/plain": [
       "{'msg': 'Saved', 'code': 200, 'data': None, 'sdkErrorCode': 0}"
      ]
     },
     "execution_count": 13,
     "metadata": {},
     "output_type": "execute_result"
    },
    {
     "data": {
      "text/plain": [
       "{'msg': 'Saved', 'code': 200, 'data': None, 'sdkErrorCode': 0}"
      ]
     },
     "execution_count": 13,
     "metadata": {},
     "output_type": "execute_result"
    },
    {
     "data": {
      "text/plain": [
       "{'msg': 'Saved', 'code': 200, 'data': None, 'sdkErrorCode': 0}"
      ]
     },
     "execution_count": 13,
     "metadata": {},
     "output_type": "execute_result"
    },
    {
     "data": {
      "text/plain": [
       "{'msg': 'Saved', 'code': 200, 'data': None, 'sdkErrorCode': 0}"
      ]
     },
     "execution_count": 13,
     "metadata": {},
     "output_type": "execute_result"
    },
    {
     "data": {
      "text/plain": [
       "{'msg': 'Saved', 'code': 200, 'data': None, 'sdkErrorCode': 0}"
      ]
     },
     "execution_count": 13,
     "metadata": {},
     "output_type": "execute_result"
    },
    {
     "data": {
      "text/plain": [
       "{'msg': 'Saved', 'code': 200, 'data': None, 'sdkErrorCode': 0}"
      ]
     },
     "execution_count": 13,
     "metadata": {},
     "output_type": "execute_result"
    },
    {
     "data": {
      "text/plain": [
       "{'msg': 'Saved', 'code': 200, 'data': None, 'sdkErrorCode': 0}"
      ]
     },
     "execution_count": 13,
     "metadata": {},
     "output_type": "execute_result"
    },
    {
     "data": {
      "text/plain": [
       "{'msg': 'Saved', 'code': 200, 'data': None, 'sdkErrorCode': 0}"
      ]
     },
     "execution_count": 13,
     "metadata": {},
     "output_type": "execute_result"
    },
    {
     "data": {
      "text/plain": [
       "{'msg': 'Saved', 'code': 200, 'data': None, 'sdkErrorCode': 0}"
      ]
     },
     "execution_count": 13,
     "metadata": {},
     "output_type": "execute_result"
    },
    {
     "data": {
      "text/plain": [
       "{'msg': 'Saved', 'code': 200, 'data': None, 'sdkErrorCode': 0}"
      ]
     },
     "execution_count": 13,
     "metadata": {},
     "output_type": "execute_result"
    },
    {
     "data": {
      "text/plain": [
       "{'msg': 'Saved', 'code': 200, 'data': None, 'sdkErrorCode': 0}"
      ]
     },
     "execution_count": 13,
     "metadata": {},
     "output_type": "execute_result"
    },
    {
     "data": {
      "text/plain": [
       "{'msg': 'Saved', 'code': 200, 'data': None, 'sdkErrorCode': 0}"
      ]
     },
     "execution_count": 13,
     "metadata": {},
     "output_type": "execute_result"
    },
    {
     "data": {
      "text/plain": [
       "{'msg': 'Saved', 'code': 200, 'data': None, 'sdkErrorCode': 0}"
      ]
     },
     "execution_count": 13,
     "metadata": {},
     "output_type": "execute_result"
    },
    {
     "data": {
      "text/plain": [
       "{'msg': 'Saved', 'code': 200, 'data': None, 'sdkErrorCode': 0}"
      ]
     },
     "execution_count": 13,
     "metadata": {},
     "output_type": "execute_result"
    },
    {
     "data": {
      "text/plain": [
       "{'msg': 'Saved', 'code': 200, 'data': None, 'sdkErrorCode': 0}"
      ]
     },
     "execution_count": 13,
     "metadata": {},
     "output_type": "execute_result"
    },
    {
     "data": {
      "text/plain": [
       "{'msg': 'Saved', 'code': 200, 'data': None, 'sdkErrorCode': 0}"
      ]
     },
     "execution_count": 13,
     "metadata": {},
     "output_type": "execute_result"
    },
    {
     "data": {
      "text/plain": [
       "{'msg': 'Saved', 'code': 200, 'data': None, 'sdkErrorCode': 0}"
      ]
     },
     "execution_count": 13,
     "metadata": {},
     "output_type": "execute_result"
    },
    {
     "data": {
      "text/plain": [
       "{'msg': 'Saved', 'code': 200, 'data': None, 'sdkErrorCode': 0}"
      ]
     },
     "execution_count": 13,
     "metadata": {},
     "output_type": "execute_result"
    },
    {
     "data": {
      "text/plain": [
       "{'msg': 'Saved', 'code': 200, 'data': None, 'sdkErrorCode': 0}"
      ]
     },
     "execution_count": 13,
     "metadata": {},
     "output_type": "execute_result"
    },
    {
     "data": {
      "text/plain": [
       "{'msg': 'Saved', 'code': 200, 'data': None, 'sdkErrorCode': 0}"
      ]
     },
     "execution_count": 13,
     "metadata": {},
     "output_type": "execute_result"
    },
    {
     "data": {
      "text/plain": [
       "{'msg': 'Saved', 'code': 200, 'data': None, 'sdkErrorCode': 0}"
      ]
     },
     "execution_count": 13,
     "metadata": {},
     "output_type": "execute_result"
    },
    {
     "data": {
      "text/plain": [
       "{'msg': 'Saved', 'code': 200, 'data': None, 'sdkErrorCode': 0}"
      ]
     },
     "execution_count": 13,
     "metadata": {},
     "output_type": "execute_result"
    },
    {
     "data": {
      "text/plain": [
       "{'msg': 'Saved', 'code': 200, 'data': None, 'sdkErrorCode': 0}"
      ]
     },
     "execution_count": 13,
     "metadata": {},
     "output_type": "execute_result"
    },
    {
     "data": {
      "text/plain": [
       "{'msg': 'Saved', 'code': 200, 'data': None, 'sdkErrorCode': 0}"
      ]
     },
     "execution_count": 13,
     "metadata": {},
     "output_type": "execute_result"
    },
    {
     "data": {
      "text/plain": [
       "{'msg': 'Saved', 'code': 200, 'data': None, 'sdkErrorCode': 0}"
      ]
     },
     "execution_count": 13,
     "metadata": {},
     "output_type": "execute_result"
    },
    {
     "data": {
      "text/plain": [
       "{'msg': 'Saved', 'code': 200, 'data': None, 'sdkErrorCode': 0}"
      ]
     },
     "execution_count": 13,
     "metadata": {},
     "output_type": "execute_result"
    },
    {
     "data": {
      "text/plain": [
       "{'msg': 'Saved', 'code': 200, 'data': None, 'sdkErrorCode': 0}"
      ]
     },
     "execution_count": 13,
     "metadata": {},
     "output_type": "execute_result"
    },
    {
     "data": {
      "text/plain": [
       "{'msg': 'Saved', 'code': 200, 'data': None, 'sdkErrorCode': 0}"
      ]
     },
     "execution_count": 13,
     "metadata": {},
     "output_type": "execute_result"
    },
    {
     "data": {
      "text/plain": [
       "{'msg': 'Saved', 'code': 200, 'data': None, 'sdkErrorCode': 0}"
      ]
     },
     "execution_count": 13,
     "metadata": {},
     "output_type": "execute_result"
    },
    {
     "data": {
      "text/plain": [
       "{'msg': 'Saved', 'code': 200, 'data': None, 'sdkErrorCode': 0}"
      ]
     },
     "execution_count": 13,
     "metadata": {},
     "output_type": "execute_result"
    },
    {
     "data": {
      "text/plain": [
       "{'msg': 'Saved', 'code': 200, 'data': None, 'sdkErrorCode': 0}"
      ]
     },
     "execution_count": 13,
     "metadata": {},
     "output_type": "execute_result"
    },
    {
     "data": {
      "text/plain": [
       "{'msg': 'Saved', 'code': 200, 'data': None, 'sdkErrorCode': 0}"
      ]
     },
     "execution_count": 13,
     "metadata": {},
     "output_type": "execute_result"
    },
    {
     "data": {
      "text/plain": [
       "{'msg': 'Saved', 'code': 200, 'data': None, 'sdkErrorCode': 0}"
      ]
     },
     "execution_count": 13,
     "metadata": {},
     "output_type": "execute_result"
    },
    {
     "data": {
      "text/plain": [
       "{'msg': 'Saved', 'code': 200, 'data': None, 'sdkErrorCode': 0}"
      ]
     },
     "execution_count": 13,
     "metadata": {},
     "output_type": "execute_result"
    },
    {
     "data": {
      "text/plain": [
       "{'msg': 'Saved', 'code': 200, 'data': None, 'sdkErrorCode': 0}"
      ]
     },
     "execution_count": 13,
     "metadata": {},
     "output_type": "execute_result"
    },
    {
     "data": {
      "text/plain": [
       "{'msg': 'Saved', 'code': 200, 'data': None, 'sdkErrorCode': 0}"
      ]
     },
     "execution_count": 13,
     "metadata": {},
     "output_type": "execute_result"
    },
    {
     "data": {
      "text/plain": [
       "{'msg': 'Saved', 'code': 200, 'data': None, 'sdkErrorCode': 0}"
      ]
     },
     "execution_count": 13,
     "metadata": {},
     "output_type": "execute_result"
    },
    {
     "data": {
      "text/plain": [
       "{'msg': 'Saved', 'code': 200, 'data': None, 'sdkErrorCode': 0}"
      ]
     },
     "execution_count": 13,
     "metadata": {},
     "output_type": "execute_result"
    },
    {
     "data": {
      "text/plain": [
       "{'msg': 'Saved', 'code': 200, 'data': None, 'sdkErrorCode': 0}"
      ]
     },
     "execution_count": 13,
     "metadata": {},
     "output_type": "execute_result"
    },
    {
     "data": {
      "text/plain": [
       "{'msg': 'Saved', 'code': 200, 'data': None, 'sdkErrorCode': 0}"
      ]
     },
     "execution_count": 13,
     "metadata": {},
     "output_type": "execute_result"
    },
    {
     "data": {
      "text/plain": [
       "{'msg': 'Saved', 'code': 200, 'data': None, 'sdkErrorCode': 0}"
      ]
     },
     "execution_count": 13,
     "metadata": {},
     "output_type": "execute_result"
    },
    {
     "data": {
      "text/plain": [
       "{'msg': 'Saved', 'code': 200, 'data': None, 'sdkErrorCode': 0}"
      ]
     },
     "execution_count": 13,
     "metadata": {},
     "output_type": "execute_result"
    },
    {
     "data": {
      "text/plain": [
       "{'msg': 'Saved', 'code': 200, 'data': None, 'sdkErrorCode': 0}"
      ]
     },
     "execution_count": 13,
     "metadata": {},
     "output_type": "execute_result"
    },
    {
     "data": {
      "text/plain": [
       "{'msg': 'Saved', 'code': 200, 'data': None, 'sdkErrorCode': 0}"
      ]
     },
     "execution_count": 13,
     "metadata": {},
     "output_type": "execute_result"
    },
    {
     "data": {
      "text/plain": [
       "{'msg': 'Saved', 'code': 200, 'data': None, 'sdkErrorCode': 0}"
      ]
     },
     "execution_count": 13,
     "metadata": {},
     "output_type": "execute_result"
    },
    {
     "data": {
      "text/plain": [
       "{'msg': 'Saved', 'code': 200, 'data': None, 'sdkErrorCode': 0}"
      ]
     },
     "execution_count": 13,
     "metadata": {},
     "output_type": "execute_result"
    },
    {
     "data": {
      "text/plain": [
       "{'msg': 'Saved', 'code': 200, 'data': None, 'sdkErrorCode': 0}"
      ]
     },
     "execution_count": 13,
     "metadata": {},
     "output_type": "execute_result"
    },
    {
     "data": {
      "text/plain": [
       "{'msg': 'Saved', 'code': 200, 'data': None, 'sdkErrorCode': 0}"
      ]
     },
     "execution_count": 13,
     "metadata": {},
     "output_type": "execute_result"
    },
    {
     "data": {
      "text/plain": [
       "{'msg': 'Saved', 'code': 200, 'data': None, 'sdkErrorCode': 0}"
      ]
     },
     "execution_count": 13,
     "metadata": {},
     "output_type": "execute_result"
    },
    {
     "data": {
      "text/plain": [
       "{'msg': 'Saved', 'code': 200, 'data': None, 'sdkErrorCode': 0}"
      ]
     },
     "execution_count": 13,
     "metadata": {},
     "output_type": "execute_result"
    },
    {
     "data": {
      "text/plain": [
       "{'msg': 'Saved', 'code': 200, 'data': None, 'sdkErrorCode': 0}"
      ]
     },
     "execution_count": 13,
     "metadata": {},
     "output_type": "execute_result"
    },
    {
     "data": {
      "text/plain": [
       "{'msg': 'Saved', 'code': 200, 'data': None, 'sdkErrorCode': 0}"
      ]
     },
     "execution_count": 13,
     "metadata": {},
     "output_type": "execute_result"
    },
    {
     "data": {
      "text/plain": [
       "{'msg': 'Saved', 'code': 200, 'data': None, 'sdkErrorCode': 0}"
      ]
     },
     "execution_count": 13,
     "metadata": {},
     "output_type": "execute_result"
    },
    {
     "data": {
      "text/plain": [
       "{'msg': 'Saved', 'code': 200, 'data': None, 'sdkErrorCode': 0}"
      ]
     },
     "execution_count": 13,
     "metadata": {},
     "output_type": "execute_result"
    },
    {
     "data": {
      "text/plain": [
       "{'msg': 'Saved', 'code': 200, 'data': None, 'sdkErrorCode': 0}"
      ]
     },
     "execution_count": 13,
     "metadata": {},
     "output_type": "execute_result"
    },
    {
     "data": {
      "text/plain": [
       "{'msg': 'Saved', 'code': 200, 'data': None, 'sdkErrorCode': 0}"
      ]
     },
     "execution_count": 13,
     "metadata": {},
     "output_type": "execute_result"
    },
    {
     "data": {
      "text/plain": [
       "{'msg': 'Saved', 'code': 200, 'data': None, 'sdkErrorCode': 0}"
      ]
     },
     "execution_count": 13,
     "metadata": {},
     "output_type": "execute_result"
    },
    {
     "data": {
      "text/plain": [
       "{'msg': 'Saved', 'code': 200, 'data': None, 'sdkErrorCode': 0}"
      ]
     },
     "execution_count": 13,
     "metadata": {},
     "output_type": "execute_result"
    },
    {
     "data": {
      "text/plain": [
       "{'msg': 'Saved', 'code': 200, 'data': None, 'sdkErrorCode': 0}"
      ]
     },
     "execution_count": 13,
     "metadata": {},
     "output_type": "execute_result"
    },
    {
     "data": {
      "text/plain": [
       "{'msg': 'Saved', 'code': 200, 'data': None, 'sdkErrorCode': 0}"
      ]
     },
     "execution_count": 13,
     "metadata": {},
     "output_type": "execute_result"
    },
    {
     "data": {
      "text/plain": [
       "{'msg': 'Saved', 'code': 200, 'data': None, 'sdkErrorCode': 0}"
      ]
     },
     "execution_count": 13,
     "metadata": {},
     "output_type": "execute_result"
    },
    {
     "data": {
      "text/plain": [
       "{'msg': 'Saved', 'code': 200, 'data': None, 'sdkErrorCode': 0}"
      ]
     },
     "execution_count": 13,
     "metadata": {},
     "output_type": "execute_result"
    },
    {
     "data": {
      "text/plain": [
       "{'msg': 'Saved', 'code': 200, 'data': None, 'sdkErrorCode': 0}"
      ]
     },
     "execution_count": 13,
     "metadata": {},
     "output_type": "execute_result"
    },
    {
     "data": {
      "text/plain": [
       "{'msg': 'Saved', 'code': 200, 'data': None, 'sdkErrorCode': 0}"
      ]
     },
     "execution_count": 13,
     "metadata": {},
     "output_type": "execute_result"
    },
    {
     "data": {
      "text/plain": [
       "{'msg': 'Saved', 'code': 200, 'data': None, 'sdkErrorCode': 0}"
      ]
     },
     "execution_count": 13,
     "metadata": {},
     "output_type": "execute_result"
    },
    {
     "data": {
      "text/plain": [
       "{'msg': 'Saved', 'code': 200, 'data': None, 'sdkErrorCode': 0}"
      ]
     },
     "execution_count": 13,
     "metadata": {},
     "output_type": "execute_result"
    },
    {
     "data": {
      "text/plain": [
       "{'msg': 'Saved', 'code': 200, 'data': None, 'sdkErrorCode': 0}"
      ]
     },
     "execution_count": 13,
     "metadata": {},
     "output_type": "execute_result"
    },
    {
     "data": {
      "text/plain": [
       "{'msg': 'Saved', 'code': 200, 'data': None, 'sdkErrorCode': 0}"
      ]
     },
     "execution_count": 13,
     "metadata": {},
     "output_type": "execute_result"
    },
    {
     "data": {
      "text/plain": [
       "{'msg': 'Saved', 'code': 200, 'data': None, 'sdkErrorCode': 0}"
      ]
     },
     "execution_count": 13,
     "metadata": {},
     "output_type": "execute_result"
    },
    {
     "data": {
      "text/plain": [
       "{'msg': 'Saved', 'code': 200, 'data': None, 'sdkErrorCode': 0}"
      ]
     },
     "execution_count": 13,
     "metadata": {},
     "output_type": "execute_result"
    },
    {
     "data": {
      "text/plain": [
       "{'msg': 'Saved', 'code': 200, 'data': None, 'sdkErrorCode': 0}"
      ]
     },
     "execution_count": 13,
     "metadata": {},
     "output_type": "execute_result"
    },
    {
     "data": {
      "text/plain": [
       "{'msg': 'Saved', 'code': 200, 'data': None, 'sdkErrorCode': 0}"
      ]
     },
     "execution_count": 13,
     "metadata": {},
     "output_type": "execute_result"
    },
    {
     "data": {
      "text/plain": [
       "{'msg': 'Saved', 'code': 200, 'data': None, 'sdkErrorCode': 0}"
      ]
     },
     "execution_count": 13,
     "metadata": {},
     "output_type": "execute_result"
    },
    {
     "data": {
      "text/plain": [
       "{'msg': 'Saved', 'code': 200, 'data': None, 'sdkErrorCode': 0}"
      ]
     },
     "execution_count": 13,
     "metadata": {},
     "output_type": "execute_result"
    },
    {
     "data": {
      "text/plain": [
       "{'msg': 'Saved', 'code': 200, 'data': None, 'sdkErrorCode': 0}"
      ]
     },
     "execution_count": 13,
     "metadata": {},
     "output_type": "execute_result"
    },
    {
     "data": {
      "text/plain": [
       "{'msg': 'Saved', 'code': 200, 'data': None, 'sdkErrorCode': 0}"
      ]
     },
     "execution_count": 13,
     "metadata": {},
     "output_type": "execute_result"
    },
    {
     "data": {
      "text/plain": [
       "{'msg': 'Saved', 'code': 200, 'data': None, 'sdkErrorCode': 0}"
      ]
     },
     "execution_count": 13,
     "metadata": {},
     "output_type": "execute_result"
    },
    {
     "data": {
      "text/plain": [
       "{'msg': 'Saved', 'code': 200, 'data': None, 'sdkErrorCode': 0}"
      ]
     },
     "execution_count": 13,
     "metadata": {},
     "output_type": "execute_result"
    },
    {
     "data": {
      "text/plain": [
       "{'msg': 'Saved', 'code': 200, 'data': None, 'sdkErrorCode': 0}"
      ]
     },
     "execution_count": 13,
     "metadata": {},
     "output_type": "execute_result"
    },
    {
     "data": {
      "text/plain": [
       "{'msg': 'Saved', 'code': 200, 'data': None, 'sdkErrorCode': 0}"
      ]
     },
     "execution_count": 13,
     "metadata": {},
     "output_type": "execute_result"
    },
    {
     "data": {
      "text/plain": [
       "{'msg': 'Saved', 'code': 200, 'data': None, 'sdkErrorCode': 0}"
      ]
     },
     "execution_count": 13,
     "metadata": {},
     "output_type": "execute_result"
    },
    {
     "data": {
      "text/plain": [
       "{'msg': 'Saved', 'code': 200, 'data': None, 'sdkErrorCode': 0}"
      ]
     },
     "execution_count": 13,
     "metadata": {},
     "output_type": "execute_result"
    },
    {
     "data": {
      "text/plain": [
       "{'msg': 'Saved', 'code': 200, 'data': None, 'sdkErrorCode': 0}"
      ]
     },
     "execution_count": 13,
     "metadata": {},
     "output_type": "execute_result"
    },
    {
     "data": {
      "text/plain": [
       "{'msg': 'Saved', 'code': 200, 'data': None, 'sdkErrorCode': 0}"
      ]
     },
     "execution_count": 13,
     "metadata": {},
     "output_type": "execute_result"
    },
    {
     "data": {
      "text/plain": [
       "{'msg': 'Saved', 'code': 200, 'data': None, 'sdkErrorCode': 0}"
      ]
     },
     "execution_count": 13,
     "metadata": {},
     "output_type": "execute_result"
    },
    {
     "data": {
      "text/plain": [
       "{'msg': 'Saved', 'code': 200, 'data': None, 'sdkErrorCode': 0}"
      ]
     },
     "execution_count": 13,
     "metadata": {},
     "output_type": "execute_result"
    },
    {
     "data": {
      "text/plain": [
       "{'msg': 'Saved', 'code': 200, 'data': None, 'sdkErrorCode': 0}"
      ]
     },
     "execution_count": 13,
     "metadata": {},
     "output_type": "execute_result"
    },
    {
     "data": {
      "text/plain": [
       "{'msg': 'Saved', 'code': 200, 'data': None, 'sdkErrorCode': 0}"
      ]
     },
     "execution_count": 13,
     "metadata": {},
     "output_type": "execute_result"
    },
    {
     "data": {
      "text/plain": [
       "{'msg': 'Saved', 'code': 200, 'data': None, 'sdkErrorCode': 0}"
      ]
     },
     "execution_count": 13,
     "metadata": {},
     "output_type": "execute_result"
    },
    {
     "data": {
      "text/plain": [
       "{'msg': 'Saved', 'code': 200, 'data': None, 'sdkErrorCode': 0}"
      ]
     },
     "execution_count": 13,
     "metadata": {},
     "output_type": "execute_result"
    },
    {
     "data": {
      "text/plain": [
       "{'msg': 'Saved', 'code': 200, 'data': None, 'sdkErrorCode': 0}"
      ]
     },
     "execution_count": 13,
     "metadata": {},
     "output_type": "execute_result"
    },
    {
     "data": {
      "text/plain": [
       "{'msg': 'Saved', 'code': 200, 'data': None, 'sdkErrorCode': 0}"
      ]
     },
     "execution_count": 13,
     "metadata": {},
     "output_type": "execute_result"
    },
    {
     "data": {
      "text/plain": [
       "{'msg': 'Saved', 'code': 200, 'data': None, 'sdkErrorCode': 0}"
      ]
     },
     "execution_count": 13,
     "metadata": {},
     "output_type": "execute_result"
    },
    {
     "data": {
      "text/plain": [
       "{'msg': 'Saved', 'code': 200, 'data': None, 'sdkErrorCode': 0}"
      ]
     },
     "execution_count": 13,
     "metadata": {},
     "output_type": "execute_result"
    },
    {
     "data": {
      "text/plain": [
       "{'msg': 'Saved', 'code': 200, 'data': None, 'sdkErrorCode': 0}"
      ]
     },
     "execution_count": 13,
     "metadata": {},
     "output_type": "execute_result"
    },
    {
     "data": {
      "text/plain": [
       "{'msg': 'Saved', 'code': 200, 'data': None, 'sdkErrorCode': 0}"
      ]
     },
     "execution_count": 13,
     "metadata": {},
     "output_type": "execute_result"
    },
    {
     "data": {
      "text/plain": [
       "{'msg': 'Saved', 'code': 200, 'data': None, 'sdkErrorCode': 0}"
      ]
     },
     "execution_count": 13,
     "metadata": {},
     "output_type": "execute_result"
    },
    {
     "data": {
      "text/plain": [
       "{'msg': 'Saved', 'code': 200, 'data': None, 'sdkErrorCode': 0}"
      ]
     },
     "execution_count": 13,
     "metadata": {},
     "output_type": "execute_result"
    },
    {
     "data": {
      "text/plain": [
       "{'msg': 'Saved', 'code': 200, 'data': None, 'sdkErrorCode': 0}"
      ]
     },
     "execution_count": 13,
     "metadata": {},
     "output_type": "execute_result"
    },
    {
     "data": {
      "text/plain": [
       "{'msg': 'Saved', 'code': 200, 'data': None, 'sdkErrorCode': 0}"
      ]
     },
     "execution_count": 13,
     "metadata": {},
     "output_type": "execute_result"
    },
    {
     "data": {
      "text/plain": [
       "{'msg': 'Saved', 'code': 200, 'data': None, 'sdkErrorCode': 0}"
      ]
     },
     "execution_count": 13,
     "metadata": {},
     "output_type": "execute_result"
    },
    {
     "data": {
      "text/plain": [
       "{'msg': 'Saved', 'code': 200, 'data': None, 'sdkErrorCode': 0}"
      ]
     },
     "execution_count": 13,
     "metadata": {},
     "output_type": "execute_result"
    },
    {
     "data": {
      "text/plain": [
       "{'msg': 'Saved', 'code': 200, 'data': None, 'sdkErrorCode': 0}"
      ]
     },
     "execution_count": 13,
     "metadata": {},
     "output_type": "execute_result"
    },
    {
     "data": {
      "text/plain": [
       "{'msg': 'Saved', 'code': 200, 'data': None, 'sdkErrorCode': 0}"
      ]
     },
     "execution_count": 13,
     "metadata": {},
     "output_type": "execute_result"
    },
    {
     "data": {
      "text/plain": [
       "{'msg': 'Saved', 'code': 200, 'data': None, 'sdkErrorCode': 0}"
      ]
     },
     "execution_count": 13,
     "metadata": {},
     "output_type": "execute_result"
    },
    {
     "data": {
      "text/plain": [
       "{'msg': 'Saved', 'code': 200, 'data': None, 'sdkErrorCode': 0}"
      ]
     },
     "execution_count": 13,
     "metadata": {},
     "output_type": "execute_result"
    },
    {
     "data": {
      "text/plain": [
       "{'msg': 'Saved', 'code': 200, 'data': None, 'sdkErrorCode': 0}"
      ]
     },
     "execution_count": 13,
     "metadata": {},
     "output_type": "execute_result"
    },
    {
     "data": {
      "text/plain": [
       "{'msg': 'Saved', 'code': 200, 'data': None, 'sdkErrorCode': 0}"
      ]
     },
     "execution_count": 13,
     "metadata": {},
     "output_type": "execute_result"
    },
    {
     "data": {
      "text/plain": [
       "{'msg': 'Saved', 'code': 200, 'data': None, 'sdkErrorCode': 0}"
      ]
     },
     "execution_count": 13,
     "metadata": {},
     "output_type": "execute_result"
    },
    {
     "data": {
      "text/plain": [
       "{'msg': 'Saved', 'code': 200, 'data': None, 'sdkErrorCode': 0}"
      ]
     },
     "execution_count": 13,
     "metadata": {},
     "output_type": "execute_result"
    },
    {
     "data": {
      "text/plain": [
       "{'msg': 'Saved', 'code': 200, 'data': None, 'sdkErrorCode': 0}"
      ]
     },
     "execution_count": 13,
     "metadata": {},
     "output_type": "execute_result"
    },
    {
     "data": {
      "text/plain": [
       "{'msg': 'Saved', 'code': 200, 'data': None, 'sdkErrorCode': 0}"
      ]
     },
     "execution_count": 13,
     "metadata": {},
     "output_type": "execute_result"
    },
    {
     "data": {
      "text/plain": [
       "{'msg': 'Saved', 'code': 200, 'data': None, 'sdkErrorCode': 0}"
      ]
     },
     "execution_count": 13,
     "metadata": {},
     "output_type": "execute_result"
    },
    {
     "data": {
      "text/plain": [
       "{'msg': 'Saved', 'code': 200, 'data': None, 'sdkErrorCode': 0}"
      ]
     },
     "execution_count": 13,
     "metadata": {},
     "output_type": "execute_result"
    },
    {
     "data": {
      "text/plain": [
       "{'msg': 'Saved', 'code': 200, 'data': None, 'sdkErrorCode': 0}"
      ]
     },
     "execution_count": 13,
     "metadata": {},
     "output_type": "execute_result"
    },
    {
     "data": {
      "text/plain": [
       "{'msg': 'Saved', 'code': 200, 'data': None, 'sdkErrorCode': 0}"
      ]
     },
     "execution_count": 13,
     "metadata": {},
     "output_type": "execute_result"
    },
    {
     "data": {
      "text/plain": [
       "{'msg': 'Saved', 'code': 200, 'data': None, 'sdkErrorCode': 0}"
      ]
     },
     "execution_count": 13,
     "metadata": {},
     "output_type": "execute_result"
    },
    {
     "data": {
      "text/plain": [
       "{'msg': 'Saved', 'code': 200, 'data': None, 'sdkErrorCode': 0}"
      ]
     },
     "execution_count": 13,
     "metadata": {},
     "output_type": "execute_result"
    },
    {
     "data": {
      "text/plain": [
       "{'msg': 'Saved', 'code': 200, 'data': None, 'sdkErrorCode': 0}"
      ]
     },
     "execution_count": 13,
     "metadata": {},
     "output_type": "execute_result"
    },
    {
     "data": {
      "text/plain": [
       "{'msg': 'Saved', 'code': 200, 'data': None, 'sdkErrorCode': 0}"
      ]
     },
     "execution_count": 13,
     "metadata": {},
     "output_type": "execute_result"
    },
    {
     "data": {
      "text/plain": [
       "{'msg': 'Saved', 'code': 200, 'data': None, 'sdkErrorCode': 0}"
      ]
     },
     "execution_count": 13,
     "metadata": {},
     "output_type": "execute_result"
    },
    {
     "data": {
      "text/plain": [
       "{'msg': 'Saved', 'code': 200, 'data': None, 'sdkErrorCode': 0}"
      ]
     },
     "execution_count": 13,
     "metadata": {},
     "output_type": "execute_result"
    },
    {
     "data": {
      "text/plain": [
       "{'msg': 'Saved', 'code': 200, 'data': None, 'sdkErrorCode': 0}"
      ]
     },
     "execution_count": 13,
     "metadata": {},
     "output_type": "execute_result"
    },
    {
     "data": {
      "text/plain": [
       "{'msg': 'Saved', 'code': 200, 'data': None, 'sdkErrorCode': 0}"
      ]
     },
     "execution_count": 13,
     "metadata": {},
     "output_type": "execute_result"
    },
    {
     "data": {
      "text/plain": [
       "{'msg': 'Saved', 'code': 200, 'data': None, 'sdkErrorCode': 0}"
      ]
     },
     "execution_count": 13,
     "metadata": {},
     "output_type": "execute_result"
    },
    {
     "data": {
      "text/plain": [
       "{'msg': 'Saved', 'code': 200, 'data': None, 'sdkErrorCode': 0}"
      ]
     },
     "execution_count": 13,
     "metadata": {},
     "output_type": "execute_result"
    },
    {
     "data": {
      "text/plain": [
       "{'msg': 'Saved', 'code': 200, 'data': None, 'sdkErrorCode': 0}"
      ]
     },
     "execution_count": 13,
     "metadata": {},
     "output_type": "execute_result"
    },
    {
     "data": {
      "text/plain": [
       "{'msg': 'Saved', 'code': 200, 'data': None, 'sdkErrorCode': 0}"
      ]
     },
     "execution_count": 13,
     "metadata": {},
     "output_type": "execute_result"
    },
    {
     "data": {
      "text/plain": [
       "{'msg': 'Saved', 'code': 200, 'data': None, 'sdkErrorCode': 0}"
      ]
     },
     "execution_count": 13,
     "metadata": {},
     "output_type": "execute_result"
    },
    {
     "data": {
      "text/plain": [
       "{'msg': 'Saved', 'code': 200, 'data': None, 'sdkErrorCode': 0}"
      ]
     },
     "execution_count": 13,
     "metadata": {},
     "output_type": "execute_result"
    },
    {
     "data": {
      "text/plain": [
       "{'msg': 'Saved', 'code': 200, 'data': None, 'sdkErrorCode': 0}"
      ]
     },
     "execution_count": 13,
     "metadata": {},
     "output_type": "execute_result"
    },
    {
     "data": {
      "text/plain": [
       "{'msg': 'Saved', 'code': 200, 'data': None, 'sdkErrorCode': 0}"
      ]
     },
     "execution_count": 13,
     "metadata": {},
     "output_type": "execute_result"
    },
    {
     "data": {
      "text/plain": [
       "{'msg': 'Saved', 'code': 200, 'data': None, 'sdkErrorCode': 0}"
      ]
     },
     "execution_count": 13,
     "metadata": {},
     "output_type": "execute_result"
    },
    {
     "data": {
      "text/plain": [
       "{'msg': 'Saved', 'code': 200, 'data': None, 'sdkErrorCode': 0}"
      ]
     },
     "execution_count": 13,
     "metadata": {},
     "output_type": "execute_result"
    },
    {
     "data": {
      "text/plain": [
       "{'msg': 'Saved', 'code': 200, 'data': None, 'sdkErrorCode': 0}"
      ]
     },
     "execution_count": 13,
     "metadata": {},
     "output_type": "execute_result"
    },
    {
     "data": {
      "text/plain": [
       "{'msg': 'Saved', 'code': 200, 'data': None, 'sdkErrorCode': 0}"
      ]
     },
     "execution_count": 13,
     "metadata": {},
     "output_type": "execute_result"
    },
    {
     "data": {
      "text/plain": [
       "{'msg': 'Saved', 'code': 200, 'data': None, 'sdkErrorCode': 0}"
      ]
     },
     "execution_count": 13,
     "metadata": {},
     "output_type": "execute_result"
    },
    {
     "data": {
      "text/plain": [
       "{'msg': 'Saved', 'code': 200, 'data': None, 'sdkErrorCode': 0}"
      ]
     },
     "execution_count": 13,
     "metadata": {},
     "output_type": "execute_result"
    },
    {
     "data": {
      "text/plain": [
       "{'msg': 'Saved', 'code': 200, 'data': None, 'sdkErrorCode': 0}"
      ]
     },
     "execution_count": 13,
     "metadata": {},
     "output_type": "execute_result"
    },
    {
     "data": {
      "text/plain": [
       "{'msg': 'Saved', 'code': 200, 'data': None, 'sdkErrorCode': 0}"
      ]
     },
     "execution_count": 13,
     "metadata": {},
     "output_type": "execute_result"
    },
    {
     "data": {
      "text/plain": [
       "{'msg': 'Saved', 'code': 200, 'data': None, 'sdkErrorCode': 0}"
      ]
     },
     "execution_count": 13,
     "metadata": {},
     "output_type": "execute_result"
    },
    {
     "data": {
      "text/plain": [
       "{'msg': 'Saved', 'code': 200, 'data': None, 'sdkErrorCode': 0}"
      ]
     },
     "execution_count": 13,
     "metadata": {},
     "output_type": "execute_result"
    },
    {
     "data": {
      "text/plain": [
       "{'msg': 'Saved', 'code': 200, 'data': None, 'sdkErrorCode': 0}"
      ]
     },
     "execution_count": 13,
     "metadata": {},
     "output_type": "execute_result"
    },
    {
     "data": {
      "text/plain": [
       "{'msg': 'Saved', 'code': 200, 'data': None, 'sdkErrorCode': 0}"
      ]
     },
     "execution_count": 13,
     "metadata": {},
     "output_type": "execute_result"
    },
    {
     "data": {
      "text/plain": [
       "{'msg': 'Saved', 'code': 200, 'data': None, 'sdkErrorCode': 0}"
      ]
     },
     "execution_count": 13,
     "metadata": {},
     "output_type": "execute_result"
    },
    {
     "data": {
      "text/plain": [
       "{'msg': 'Saved', 'code': 200, 'data': None, 'sdkErrorCode': 0}"
      ]
     },
     "execution_count": 13,
     "metadata": {},
     "output_type": "execute_result"
    },
    {
     "data": {
      "text/plain": [
       "{'msg': 'Saved', 'code': 200, 'data': None, 'sdkErrorCode': 0}"
      ]
     },
     "execution_count": 13,
     "metadata": {},
     "output_type": "execute_result"
    },
    {
     "data": {
      "text/plain": [
       "{'msg': 'Saved', 'code': 200, 'data': None, 'sdkErrorCode': 0}"
      ]
     },
     "execution_count": 13,
     "metadata": {},
     "output_type": "execute_result"
    },
    {
     "data": {
      "text/plain": [
       "{'msg': 'Saved', 'code': 200, 'data': None, 'sdkErrorCode': 0}"
      ]
     },
     "execution_count": 13,
     "metadata": {},
     "output_type": "execute_result"
    },
    {
     "data": {
      "text/plain": [
       "{'msg': 'Saved', 'code': 200, 'data': None, 'sdkErrorCode': 0}"
      ]
     },
     "execution_count": 13,
     "metadata": {},
     "output_type": "execute_result"
    },
    {
     "data": {
      "text/plain": [
       "{'msg': 'Saved', 'code': 200, 'data': None, 'sdkErrorCode': 0}"
      ]
     },
     "execution_count": 13,
     "metadata": {},
     "output_type": "execute_result"
    },
    {
     "data": {
      "text/plain": [
       "{'msg': 'Saved', 'code': 200, 'data': None, 'sdkErrorCode': 0}"
      ]
     },
     "execution_count": 13,
     "metadata": {},
     "output_type": "execute_result"
    },
    {
     "data": {
      "text/plain": [
       "{'msg': 'Saved', 'code': 200, 'data': None, 'sdkErrorCode': 0}"
      ]
     },
     "execution_count": 13,
     "metadata": {},
     "output_type": "execute_result"
    },
    {
     "data": {
      "text/plain": [
       "{'msg': 'Saved', 'code': 200, 'data': None, 'sdkErrorCode': 0}"
      ]
     },
     "execution_count": 13,
     "metadata": {},
     "output_type": "execute_result"
    },
    {
     "data": {
      "text/plain": [
       "{'msg': 'Saved', 'code': 200, 'data': None, 'sdkErrorCode': 0}"
      ]
     },
     "execution_count": 13,
     "metadata": {},
     "output_type": "execute_result"
    },
    {
     "data": {
      "text/plain": [
       "{'msg': 'Saved', 'code': 200, 'data': None, 'sdkErrorCode': 0}"
      ]
     },
     "execution_count": 13,
     "metadata": {},
     "output_type": "execute_result"
    },
    {
     "data": {
      "text/plain": [
       "{'msg': 'Saved', 'code': 200, 'data': None, 'sdkErrorCode': 0}"
      ]
     },
     "execution_count": 13,
     "metadata": {},
     "output_type": "execute_result"
    },
    {
     "data": {
      "text/plain": [
       "{'msg': 'Saved', 'code': 200, 'data': None, 'sdkErrorCode': 0}"
      ]
     },
     "execution_count": 13,
     "metadata": {},
     "output_type": "execute_result"
    },
    {
     "data": {
      "text/plain": [
       "{'msg': 'Saved', 'code': 200, 'data': None, 'sdkErrorCode': 0}"
      ]
     },
     "execution_count": 13,
     "metadata": {},
     "output_type": "execute_result"
    },
    {
     "data": {
      "text/plain": [
       "{'msg': 'Saved', 'code': 200, 'data': None, 'sdkErrorCode': 0}"
      ]
     },
     "execution_count": 13,
     "metadata": {},
     "output_type": "execute_result"
    },
    {
     "data": {
      "text/plain": [
       "{'msg': 'Saved', 'code': 200, 'data': None, 'sdkErrorCode': 0}"
      ]
     },
     "execution_count": 13,
     "metadata": {},
     "output_type": "execute_result"
    },
    {
     "data": {
      "text/plain": [
       "{'msg': 'Saved', 'code': 200, 'data': None, 'sdkErrorCode': 0}"
      ]
     },
     "execution_count": 13,
     "metadata": {},
     "output_type": "execute_result"
    },
    {
     "data": {
      "text/plain": [
       "{'msg': 'Saved', 'code': 200, 'data': None, 'sdkErrorCode': 0}"
      ]
     },
     "execution_count": 13,
     "metadata": {},
     "output_type": "execute_result"
    },
    {
     "data": {
      "text/plain": [
       "{'msg': 'Saved', 'code': 200, 'data': None, 'sdkErrorCode': 0}"
      ]
     },
     "execution_count": 13,
     "metadata": {},
     "output_type": "execute_result"
    },
    {
     "data": {
      "text/plain": [
       "{'msg': 'Saved', 'code': 200, 'data': None, 'sdkErrorCode': 0}"
      ]
     },
     "execution_count": 13,
     "metadata": {},
     "output_type": "execute_result"
    },
    {
     "data": {
      "text/plain": [
       "{'msg': 'Saved', 'code': 200, 'data': None, 'sdkErrorCode': 0}"
      ]
     },
     "execution_count": 13,
     "metadata": {},
     "output_type": "execute_result"
    },
    {
     "data": {
      "text/plain": [
       "{'msg': 'Saved', 'code': 200, 'data': None, 'sdkErrorCode': 0}"
      ]
     },
     "execution_count": 13,
     "metadata": {},
     "output_type": "execute_result"
    },
    {
     "data": {
      "text/plain": [
       "{'msg': 'Saved', 'code': 200, 'data': None, 'sdkErrorCode': 0}"
      ]
     },
     "execution_count": 13,
     "metadata": {},
     "output_type": "execute_result"
    },
    {
     "data": {
      "text/plain": [
       "{'msg': 'Saved', 'code': 200, 'data': None, 'sdkErrorCode': 0}"
      ]
     },
     "execution_count": 13,
     "metadata": {},
     "output_type": "execute_result"
    },
    {
     "data": {
      "text/plain": [
       "{'msg': 'Saved', 'code': 200, 'data': None, 'sdkErrorCode': 0}"
      ]
     },
     "execution_count": 13,
     "metadata": {},
     "output_type": "execute_result"
    },
    {
     "data": {
      "text/plain": [
       "{'msg': 'Saved', 'code': 200, 'data': None, 'sdkErrorCode': 0}"
      ]
     },
     "execution_count": 13,
     "metadata": {},
     "output_type": "execute_result"
    },
    {
     "data": {
      "text/plain": [
       "{'msg': 'Saved', 'code': 200, 'data': None, 'sdkErrorCode': 0}"
      ]
     },
     "execution_count": 13,
     "metadata": {},
     "output_type": "execute_result"
    },
    {
     "data": {
      "text/plain": [
       "{'msg': 'Saved', 'code': 200, 'data': None, 'sdkErrorCode': 0}"
      ]
     },
     "execution_count": 13,
     "metadata": {},
     "output_type": "execute_result"
    },
    {
     "data": {
      "text/plain": [
       "{'msg': 'Saved', 'code': 200, 'data': None, 'sdkErrorCode': 0}"
      ]
     },
     "execution_count": 13,
     "metadata": {},
     "output_type": "execute_result"
    },
    {
     "data": {
      "text/plain": [
       "{'msg': 'Saved', 'code': 200, 'data': None, 'sdkErrorCode': 0}"
      ]
     },
     "execution_count": 13,
     "metadata": {},
     "output_type": "execute_result"
    },
    {
     "data": {
      "text/plain": [
       "{'msg': 'Saved', 'code': 200, 'data': None, 'sdkErrorCode': 0}"
      ]
     },
     "execution_count": 13,
     "metadata": {},
     "output_type": "execute_result"
    },
    {
     "data": {
      "text/plain": [
       "{'msg': 'Saved', 'code': 200, 'data': None, 'sdkErrorCode': 0}"
      ]
     },
     "execution_count": 13,
     "metadata": {},
     "output_type": "execute_result"
    },
    {
     "data": {
      "text/plain": [
       "{'msg': 'Saved', 'code': 200, 'data': None, 'sdkErrorCode': 0}"
      ]
     },
     "execution_count": 13,
     "metadata": {},
     "output_type": "execute_result"
    },
    {
     "data": {
      "text/plain": [
       "{'msg': 'Saved', 'code': 200, 'data': None, 'sdkErrorCode': 0}"
      ]
     },
     "execution_count": 13,
     "metadata": {},
     "output_type": "execute_result"
    },
    {
     "data": {
      "text/plain": [
       "{'msg': 'Saved', 'code': 200, 'data': None, 'sdkErrorCode': 0}"
      ]
     },
     "execution_count": 13,
     "metadata": {},
     "output_type": "execute_result"
    },
    {
     "data": {
      "text/plain": [
       "{'msg': 'Saved', 'code': 200, 'data': None, 'sdkErrorCode': 0}"
      ]
     },
     "execution_count": 13,
     "metadata": {},
     "output_type": "execute_result"
    },
    {
     "data": {
      "text/plain": [
       "{'msg': 'Saved', 'code': 200, 'data': None, 'sdkErrorCode': 0}"
      ]
     },
     "execution_count": 13,
     "metadata": {},
     "output_type": "execute_result"
    },
    {
     "data": {
      "text/plain": [
       "{'msg': 'Saved', 'code': 200, 'data': None, 'sdkErrorCode': 0}"
      ]
     },
     "execution_count": 13,
     "metadata": {},
     "output_type": "execute_result"
    },
    {
     "data": {
      "text/plain": [
       "{'msg': 'Saved', 'code': 200, 'data': None, 'sdkErrorCode': 0}"
      ]
     },
     "execution_count": 13,
     "metadata": {},
     "output_type": "execute_result"
    },
    {
     "data": {
      "text/plain": [
       "{'msg': 'Saved', 'code': 200, 'data': None, 'sdkErrorCode': 0}"
      ]
     },
     "execution_count": 13,
     "metadata": {},
     "output_type": "execute_result"
    },
    {
     "data": {
      "text/plain": [
       "{'msg': 'Saved', 'code': 200, 'data': None, 'sdkErrorCode': 0}"
      ]
     },
     "execution_count": 13,
     "metadata": {},
     "output_type": "execute_result"
    },
    {
     "data": {
      "text/plain": [
       "{'msg': 'Saved', 'code': 200, 'data': None, 'sdkErrorCode': 0}"
      ]
     },
     "execution_count": 13,
     "metadata": {},
     "output_type": "execute_result"
    },
    {
     "data": {
      "text/plain": [
       "{'msg': 'Saved', 'code': 200, 'data': None, 'sdkErrorCode': 0}"
      ]
     },
     "execution_count": 13,
     "metadata": {},
     "output_type": "execute_result"
    },
    {
     "data": {
      "text/plain": [
       "{'msg': 'Saved', 'code': 200, 'data': None, 'sdkErrorCode': 0}"
      ]
     },
     "execution_count": 13,
     "metadata": {},
     "output_type": "execute_result"
    },
    {
     "data": {
      "text/plain": [
       "{'msg': 'Saved', 'code': 200, 'data': None, 'sdkErrorCode': 0}"
      ]
     },
     "execution_count": 13,
     "metadata": {},
     "output_type": "execute_result"
    },
    {
     "data": {
      "text/plain": [
       "{'msg': 'Saved', 'code': 200, 'data': None, 'sdkErrorCode': 0}"
      ]
     },
     "execution_count": 13,
     "metadata": {},
     "output_type": "execute_result"
    },
    {
     "data": {
      "text/plain": [
       "{'msg': 'Saved', 'code': 200, 'data': None, 'sdkErrorCode': 0}"
      ]
     },
     "execution_count": 13,
     "metadata": {},
     "output_type": "execute_result"
    },
    {
     "data": {
      "text/plain": [
       "{'msg': 'Saved', 'code': 200, 'data': None, 'sdkErrorCode': 0}"
      ]
     },
     "execution_count": 13,
     "metadata": {},
     "output_type": "execute_result"
    },
    {
     "data": {
      "text/plain": [
       "{'msg': 'Saved', 'code': 200, 'data': None, 'sdkErrorCode': 0}"
      ]
     },
     "execution_count": 13,
     "metadata": {},
     "output_type": "execute_result"
    },
    {
     "data": {
      "text/plain": [
       "{'msg': 'Saved', 'code': 200, 'data': None, 'sdkErrorCode': 0}"
      ]
     },
     "execution_count": 13,
     "metadata": {},
     "output_type": "execute_result"
    },
    {
     "data": {
      "text/plain": [
       "{'msg': 'Saved', 'code': 200, 'data': None, 'sdkErrorCode': 0}"
      ]
     },
     "execution_count": 13,
     "metadata": {},
     "output_type": "execute_result"
    },
    {
     "data": {
      "text/plain": [
       "{'msg': 'Saved', 'code': 200, 'data': None, 'sdkErrorCode': 0}"
      ]
     },
     "execution_count": 13,
     "metadata": {},
     "output_type": "execute_result"
    },
    {
     "data": {
      "text/plain": [
       "{'msg': 'Saved', 'code': 200, 'data': None, 'sdkErrorCode': 0}"
      ]
     },
     "execution_count": 13,
     "metadata": {},
     "output_type": "execute_result"
    },
    {
     "data": {
      "text/plain": [
       "{'msg': 'Saved', 'code': 200, 'data': None, 'sdkErrorCode': 0}"
      ]
     },
     "execution_count": 13,
     "metadata": {},
     "output_type": "execute_result"
    },
    {
     "data": {
      "text/plain": [
       "{'msg': 'Saved', 'code': 200, 'data': None, 'sdkErrorCode': 0}"
      ]
     },
     "execution_count": 13,
     "metadata": {},
     "output_type": "execute_result"
    },
    {
     "data": {
      "text/plain": [
       "{'msg': 'Saved', 'code': 200, 'data': None, 'sdkErrorCode': 0}"
      ]
     },
     "execution_count": 13,
     "metadata": {},
     "output_type": "execute_result"
    },
    {
     "data": {
      "text/plain": [
       "{'msg': 'Saved', 'code': 200, 'data': None, 'sdkErrorCode': 0}"
      ]
     },
     "execution_count": 13,
     "metadata": {},
     "output_type": "execute_result"
    },
    {
     "data": {
      "text/plain": [
       "{'msg': 'Saved', 'code': 200, 'data': None, 'sdkErrorCode': 0}"
      ]
     },
     "execution_count": 13,
     "metadata": {},
     "output_type": "execute_result"
    },
    {
     "data": {
      "text/plain": [
       "{'msg': 'Saved', 'code': 200, 'data': None, 'sdkErrorCode': 0}"
      ]
     },
     "execution_count": 13,
     "metadata": {},
     "output_type": "execute_result"
    },
    {
     "data": {
      "text/plain": [
       "{'msg': 'Saved', 'code': 200, 'data': None, 'sdkErrorCode': 0}"
      ]
     },
     "execution_count": 13,
     "metadata": {},
     "output_type": "execute_result"
    },
    {
     "data": {
      "text/plain": [
       "{'msg': 'Saved', 'code': 200, 'data': None, 'sdkErrorCode': 0}"
      ]
     },
     "execution_count": 13,
     "metadata": {},
     "output_type": "execute_result"
    },
    {
     "data": {
      "text/plain": [
       "{'msg': 'Saved', 'code': 200, 'data': None, 'sdkErrorCode': 0}"
      ]
     },
     "execution_count": 13,
     "metadata": {},
     "output_type": "execute_result"
    },
    {
     "data": {
      "text/plain": [
       "{'msg': 'Saved', 'code': 200, 'data': None, 'sdkErrorCode': 0}"
      ]
     },
     "execution_count": 13,
     "metadata": {},
     "output_type": "execute_result"
    },
    {
     "data": {
      "text/plain": [
       "{'msg': 'Saved', 'code': 200, 'data': None, 'sdkErrorCode': 0}"
      ]
     },
     "execution_count": 13,
     "metadata": {},
     "output_type": "execute_result"
    },
    {
     "data": {
      "text/plain": [
       "{'msg': 'Saved', 'code': 200, 'data': None, 'sdkErrorCode': 0}"
      ]
     },
     "execution_count": 13,
     "metadata": {},
     "output_type": "execute_result"
    },
    {
     "data": {
      "text/plain": [
       "{'msg': 'Saved', 'code': 200, 'data': None, 'sdkErrorCode': 0}"
      ]
     },
     "execution_count": 13,
     "metadata": {},
     "output_type": "execute_result"
    },
    {
     "data": {
      "text/plain": [
       "{'msg': 'Saved', 'code': 200, 'data': None, 'sdkErrorCode': 0}"
      ]
     },
     "execution_count": 13,
     "metadata": {},
     "output_type": "execute_result"
    },
    {
     "data": {
      "text/plain": [
       "{'msg': 'Saved', 'code': 200, 'data': None, 'sdkErrorCode': 0}"
      ]
     },
     "execution_count": 13,
     "metadata": {},
     "output_type": "execute_result"
    },
    {
     "data": {
      "text/plain": [
       "{'msg': 'Saved', 'code': 200, 'data': None, 'sdkErrorCode': 0}"
      ]
     },
     "execution_count": 13,
     "metadata": {},
     "output_type": "execute_result"
    },
    {
     "data": {
      "text/plain": [
       "{'msg': 'Saved', 'code': 200, 'data': None, 'sdkErrorCode': 0}"
      ]
     },
     "execution_count": 13,
     "metadata": {},
     "output_type": "execute_result"
    },
    {
     "data": {
      "text/plain": [
       "{'msg': 'Saved', 'code': 200, 'data': None, 'sdkErrorCode': 0}"
      ]
     },
     "execution_count": 13,
     "metadata": {},
     "output_type": "execute_result"
    },
    {
     "data": {
      "text/plain": [
       "{'msg': 'Saved', 'code': 200, 'data': None, 'sdkErrorCode': 0}"
      ]
     },
     "execution_count": 13,
     "metadata": {},
     "output_type": "execute_result"
    },
    {
     "data": {
      "text/plain": [
       "{'msg': 'Saved', 'code': 200, 'data': None, 'sdkErrorCode': 0}"
      ]
     },
     "execution_count": 13,
     "metadata": {},
     "output_type": "execute_result"
    },
    {
     "data": {
      "text/plain": [
       "{'msg': 'Saved', 'code': 200, 'data': None, 'sdkErrorCode': 0}"
      ]
     },
     "execution_count": 13,
     "metadata": {},
     "output_type": "execute_result"
    },
    {
     "data": {
      "text/plain": [
       "{'msg': 'Saved', 'code': 200, 'data': None, 'sdkErrorCode': 0}"
      ]
     },
     "execution_count": 13,
     "metadata": {},
     "output_type": "execute_result"
    },
    {
     "data": {
      "text/plain": [
       "{'msg': 'Saved', 'code': 200, 'data': None, 'sdkErrorCode': 0}"
      ]
     },
     "execution_count": 13,
     "metadata": {},
     "output_type": "execute_result"
    },
    {
     "data": {
      "text/plain": [
       "{'msg': 'Saved', 'code': 200, 'data': None, 'sdkErrorCode': 0}"
      ]
     },
     "execution_count": 13,
     "metadata": {},
     "output_type": "execute_result"
    },
    {
     "data": {
      "text/plain": [
       "{'msg': 'Saved', 'code': 200, 'data': None, 'sdkErrorCode': 0}"
      ]
     },
     "execution_count": 13,
     "metadata": {},
     "output_type": "execute_result"
    },
    {
     "data": {
      "text/plain": [
       "{'msg': 'Saved', 'code': 200, 'data': None, 'sdkErrorCode': 0}"
      ]
     },
     "execution_count": 13,
     "metadata": {},
     "output_type": "execute_result"
    },
    {
     "data": {
      "text/plain": [
       "{'msg': 'Saved', 'code': 200, 'data': None, 'sdkErrorCode': 0}"
      ]
     },
     "execution_count": 13,
     "metadata": {},
     "output_type": "execute_result"
    },
    {
     "data": {
      "text/plain": [
       "{'msg': 'Saved', 'code': 200, 'data': None, 'sdkErrorCode': 0}"
      ]
     },
     "execution_count": 13,
     "metadata": {},
     "output_type": "execute_result"
    },
    {
     "data": {
      "text/plain": [
       "{'msg': 'Saved', 'code': 200, 'data': None, 'sdkErrorCode': 0}"
      ]
     },
     "execution_count": 13,
     "metadata": {},
     "output_type": "execute_result"
    },
    {
     "data": {
      "text/plain": [
       "{'msg': 'Saved', 'code': 200, 'data': None, 'sdkErrorCode': 0}"
      ]
     },
     "execution_count": 13,
     "metadata": {},
     "output_type": "execute_result"
    },
    {
     "data": {
      "text/plain": [
       "{'msg': 'Saved', 'code': 200, 'data': None, 'sdkErrorCode': 0}"
      ]
     },
     "execution_count": 13,
     "metadata": {},
     "output_type": "execute_result"
    },
    {
     "data": {
      "text/plain": [
       "{'msg': 'Saved', 'code': 200, 'data': None, 'sdkErrorCode': 0}"
      ]
     },
     "execution_count": 13,
     "metadata": {},
     "output_type": "execute_result"
    },
    {
     "data": {
      "text/plain": [
       "{'msg': 'Saved', 'code': 200, 'data': None, 'sdkErrorCode': 0}"
      ]
     },
     "execution_count": 13,
     "metadata": {},
     "output_type": "execute_result"
    },
    {
     "data": {
      "text/plain": [
       "{'msg': 'Saved', 'code': 200, 'data': None, 'sdkErrorCode': 0}"
      ]
     },
     "execution_count": 13,
     "metadata": {},
     "output_type": "execute_result"
    },
    {
     "data": {
      "text/plain": [
       "{'msg': 'Saved', 'code': 200, 'data': None, 'sdkErrorCode': 0}"
      ]
     },
     "execution_count": 13,
     "metadata": {},
     "output_type": "execute_result"
    },
    {
     "data": {
      "text/plain": [
       "{'msg': 'Saved', 'code': 200, 'data': None, 'sdkErrorCode': 0}"
      ]
     },
     "execution_count": 13,
     "metadata": {},
     "output_type": "execute_result"
    },
    {
     "data": {
      "text/plain": [
       "{'msg': 'Saved', 'code': 200, 'data': None, 'sdkErrorCode': 0}"
      ]
     },
     "execution_count": 13,
     "metadata": {},
     "output_type": "execute_result"
    },
    {
     "data": {
      "text/plain": [
       "{'msg': 'Saved', 'code': 200, 'data': None, 'sdkErrorCode': 0}"
      ]
     },
     "execution_count": 13,
     "metadata": {},
     "output_type": "execute_result"
    },
    {
     "data": {
      "text/plain": [
       "{'msg': 'Saved', 'code': 200, 'data': None, 'sdkErrorCode': 0}"
      ]
     },
     "execution_count": 13,
     "metadata": {},
     "output_type": "execute_result"
    },
    {
     "data": {
      "text/plain": [
       "{'msg': 'Saved', 'code': 200, 'data': None, 'sdkErrorCode': 0}"
      ]
     },
     "execution_count": 13,
     "metadata": {},
     "output_type": "execute_result"
    },
    {
     "data": {
      "text/plain": [
       "{'msg': 'Saved', 'code': 200, 'data': None, 'sdkErrorCode': 0}"
      ]
     },
     "execution_count": 13,
     "metadata": {},
     "output_type": "execute_result"
    },
    {
     "data": {
      "text/plain": [
       "{'msg': 'Saved', 'code': 200, 'data': None, 'sdkErrorCode': 0}"
      ]
     },
     "execution_count": 13,
     "metadata": {},
     "output_type": "execute_result"
    },
    {
     "data": {
      "text/plain": [
       "{'msg': 'Saved', 'code': 200, 'data': None, 'sdkErrorCode': 0}"
      ]
     },
     "execution_count": 13,
     "metadata": {},
     "output_type": "execute_result"
    },
    {
     "data": {
      "text/plain": [
       "{'msg': 'Saved', 'code': 200, 'data': None, 'sdkErrorCode': 0}"
      ]
     },
     "execution_count": 13,
     "metadata": {},
     "output_type": "execute_result"
    },
    {
     "data": {
      "text/plain": [
       "{'msg': 'Saved', 'code': 200, 'data': None, 'sdkErrorCode': 0}"
      ]
     },
     "execution_count": 13,
     "metadata": {},
     "output_type": "execute_result"
    },
    {
     "data": {
      "text/plain": [
       "{'msg': 'Saved', 'code': 200, 'data': None, 'sdkErrorCode': 0}"
      ]
     },
     "execution_count": 13,
     "metadata": {},
     "output_type": "execute_result"
    },
    {
     "data": {
      "text/plain": [
       "{'msg': 'Saved', 'code': 200, 'data': None, 'sdkErrorCode': 0}"
      ]
     },
     "execution_count": 13,
     "metadata": {},
     "output_type": "execute_result"
    },
    {
     "data": {
      "text/plain": [
       "{'msg': 'Saved', 'code': 200, 'data': None, 'sdkErrorCode': 0}"
      ]
     },
     "execution_count": 13,
     "metadata": {},
     "output_type": "execute_result"
    },
    {
     "data": {
      "text/plain": [
       "{'msg': 'Saved', 'code': 200, 'data': None, 'sdkErrorCode': 0}"
      ]
     },
     "execution_count": 13,
     "metadata": {},
     "output_type": "execute_result"
    },
    {
     "data": {
      "text/plain": [
       "{'msg': 'Saved', 'code': 200, 'data': None, 'sdkErrorCode': 0}"
      ]
     },
     "execution_count": 13,
     "metadata": {},
     "output_type": "execute_result"
    },
    {
     "data": {
      "text/plain": [
       "{'msg': 'Saved', 'code': 200, 'data': None, 'sdkErrorCode': 0}"
      ]
     },
     "execution_count": 13,
     "metadata": {},
     "output_type": "execute_result"
    },
    {
     "data": {
      "text/plain": [
       "{'msg': 'Saved', 'code': 200, 'data': None, 'sdkErrorCode': 0}"
      ]
     },
     "execution_count": 13,
     "metadata": {},
     "output_type": "execute_result"
    },
    {
     "data": {
      "text/plain": [
       "{'msg': 'Saved', 'code': 200, 'data': None, 'sdkErrorCode': 0}"
      ]
     },
     "execution_count": 13,
     "metadata": {},
     "output_type": "execute_result"
    },
    {
     "data": {
      "text/plain": [
       "{'msg': 'Saved', 'code': 200, 'data': None, 'sdkErrorCode': 0}"
      ]
     },
     "execution_count": 13,
     "metadata": {},
     "output_type": "execute_result"
    },
    {
     "data": {
      "text/plain": [
       "{'msg': 'Saved', 'code': 200, 'data': None, 'sdkErrorCode': 0}"
      ]
     },
     "execution_count": 13,
     "metadata": {},
     "output_type": "execute_result"
    },
    {
     "data": {
      "text/plain": [
       "{'msg': 'Saved', 'code': 200, 'data': None, 'sdkErrorCode': 0}"
      ]
     },
     "execution_count": 13,
     "metadata": {},
     "output_type": "execute_result"
    },
    {
     "data": {
      "text/plain": [
       "{'msg': 'Saved', 'code': 200, 'data': None, 'sdkErrorCode': 0}"
      ]
     },
     "execution_count": 13,
     "metadata": {},
     "output_type": "execute_result"
    },
    {
     "data": {
      "text/plain": [
       "{'msg': 'Saved', 'code': 200, 'data': None, 'sdkErrorCode': 0}"
      ]
     },
     "execution_count": 13,
     "metadata": {},
     "output_type": "execute_result"
    },
    {
     "data": {
      "text/plain": [
       "{'msg': 'Saved', 'code': 200, 'data': None, 'sdkErrorCode': 0}"
      ]
     },
     "execution_count": 13,
     "metadata": {},
     "output_type": "execute_result"
    },
    {
     "data": {
      "text/plain": [
       "{'msg': 'Saved', 'code': 200, 'data': None, 'sdkErrorCode': 0}"
      ]
     },
     "execution_count": 13,
     "metadata": {},
     "output_type": "execute_result"
    },
    {
     "data": {
      "text/plain": [
       "{'msg': 'Saved', 'code': 200, 'data': None, 'sdkErrorCode': 0}"
      ]
     },
     "execution_count": 13,
     "metadata": {},
     "output_type": "execute_result"
    },
    {
     "data": {
      "text/plain": [
       "{'msg': 'Saved', 'code': 200, 'data': None, 'sdkErrorCode': 0}"
      ]
     },
     "execution_count": 13,
     "metadata": {},
     "output_type": "execute_result"
    },
    {
     "data": {
      "text/plain": [
       "{'msg': 'Saved', 'code': 200, 'data': None, 'sdkErrorCode': 0}"
      ]
     },
     "execution_count": 13,
     "metadata": {},
     "output_type": "execute_result"
    },
    {
     "data": {
      "text/plain": [
       "{'msg': 'Saved', 'code': 200, 'data': None, 'sdkErrorCode': 0}"
      ]
     },
     "execution_count": 13,
     "metadata": {},
     "output_type": "execute_result"
    },
    {
     "data": {
      "text/plain": [
       "{'msg': 'Saved', 'code': 200, 'data': None, 'sdkErrorCode': 0}"
      ]
     },
     "execution_count": 13,
     "metadata": {},
     "output_type": "execute_result"
    },
    {
     "data": {
      "text/plain": [
       "{'msg': 'Saved', 'code': 200, 'data': None, 'sdkErrorCode': 0}"
      ]
     },
     "execution_count": 13,
     "metadata": {},
     "output_type": "execute_result"
    },
    {
     "data": {
      "text/plain": [
       "{'msg': 'Saved', 'code': 200, 'data': None, 'sdkErrorCode': 0}"
      ]
     },
     "execution_count": 13,
     "metadata": {},
     "output_type": "execute_result"
    },
    {
     "data": {
      "text/plain": [
       "{'msg': 'Saved', 'code': 200, 'data': None, 'sdkErrorCode': 0}"
      ]
     },
     "execution_count": 13,
     "metadata": {},
     "output_type": "execute_result"
    },
    {
     "data": {
      "text/plain": [
       "{'msg': 'Saved', 'code': 200, 'data': None, 'sdkErrorCode': 0}"
      ]
     },
     "execution_count": 13,
     "metadata": {},
     "output_type": "execute_result"
    },
    {
     "data": {
      "text/plain": [
       "{'msg': 'Saved', 'code': 200, 'data': None, 'sdkErrorCode': 0}"
      ]
     },
     "execution_count": 13,
     "metadata": {},
     "output_type": "execute_result"
    },
    {
     "data": {
      "text/plain": [
       "{'msg': 'Saved', 'code': 200, 'data': None, 'sdkErrorCode': 0}"
      ]
     },
     "execution_count": 13,
     "metadata": {},
     "output_type": "execute_result"
    },
    {
     "data": {
      "text/plain": [
       "{'msg': 'Saved', 'code': 200, 'data': None, 'sdkErrorCode': 0}"
      ]
     },
     "execution_count": 13,
     "metadata": {},
     "output_type": "execute_result"
    },
    {
     "data": {
      "text/plain": [
       "{'msg': 'Saved', 'code': 200, 'data': None, 'sdkErrorCode': 0}"
      ]
     },
     "execution_count": 13,
     "metadata": {},
     "output_type": "execute_result"
    },
    {
     "data": {
      "text/plain": [
       "{'msg': 'Saved', 'code': 200, 'data': None, 'sdkErrorCode': 0}"
      ]
     },
     "execution_count": 13,
     "metadata": {},
     "output_type": "execute_result"
    },
    {
     "data": {
      "text/plain": [
       "{'msg': 'Saved', 'code': 200, 'data': None, 'sdkErrorCode': 0}"
      ]
     },
     "execution_count": 13,
     "metadata": {},
     "output_type": "execute_result"
    },
    {
     "data": {
      "text/plain": [
       "{'msg': 'Saved', 'code': 200, 'data': None, 'sdkErrorCode': 0}"
      ]
     },
     "execution_count": 13,
     "metadata": {},
     "output_type": "execute_result"
    },
    {
     "data": {
      "text/plain": [
       "{'msg': 'Saved', 'code': 200, 'data': None, 'sdkErrorCode': 0}"
      ]
     },
     "execution_count": 13,
     "metadata": {},
     "output_type": "execute_result"
    },
    {
     "data": {
      "text/plain": [
       "{'msg': 'Saved', 'code': 200, 'data': None, 'sdkErrorCode': 0}"
      ]
     },
     "execution_count": 13,
     "metadata": {},
     "output_type": "execute_result"
    },
    {
     "data": {
      "text/plain": [
       "{'msg': 'Saved', 'code': 200, 'data': None, 'sdkErrorCode': 0}"
      ]
     },
     "execution_count": 13,
     "metadata": {},
     "output_type": "execute_result"
    },
    {
     "data": {
      "text/plain": [
       "{'msg': 'Saved', 'code': 200, 'data': None, 'sdkErrorCode': 0}"
      ]
     },
     "execution_count": 13,
     "metadata": {},
     "output_type": "execute_result"
    },
    {
     "data": {
      "text/plain": [
       "{'msg': 'Saved', 'code': 200, 'data': None, 'sdkErrorCode': 0}"
      ]
     },
     "execution_count": 13,
     "metadata": {},
     "output_type": "execute_result"
    },
    {
     "data": {
      "text/plain": [
       "{'msg': 'Saved', 'code': 200, 'data': None, 'sdkErrorCode': 0}"
      ]
     },
     "execution_count": 13,
     "metadata": {},
     "output_type": "execute_result"
    },
    {
     "data": {
      "text/plain": [
       "{'msg': 'Saved', 'code': 200, 'data': None, 'sdkErrorCode': 0}"
      ]
     },
     "execution_count": 13,
     "metadata": {},
     "output_type": "execute_result"
    },
    {
     "data": {
      "text/plain": [
       "{'msg': 'Saved', 'code': 200, 'data': None, 'sdkErrorCode': 0}"
      ]
     },
     "execution_count": 13,
     "metadata": {},
     "output_type": "execute_result"
    },
    {
     "data": {
      "text/plain": [
       "{'msg': 'Saved', 'code': 200, 'data': None, 'sdkErrorCode': 0}"
      ]
     },
     "execution_count": 13,
     "metadata": {},
     "output_type": "execute_result"
    },
    {
     "data": {
      "text/plain": [
       "{'msg': 'Saved', 'code': 200, 'data': None, 'sdkErrorCode': 0}"
      ]
     },
     "execution_count": 13,
     "metadata": {},
     "output_type": "execute_result"
    },
    {
     "data": {
      "text/plain": [
       "{'msg': 'Saved', 'code': 200, 'data': None, 'sdkErrorCode': 0}"
      ]
     },
     "execution_count": 13,
     "metadata": {},
     "output_type": "execute_result"
    },
    {
     "data": {
      "text/plain": [
       "{'msg': 'Saved', 'code': 200, 'data': None, 'sdkErrorCode': 0}"
      ]
     },
     "execution_count": 13,
     "metadata": {},
     "output_type": "execute_result"
    },
    {
     "data": {
      "text/plain": [
       "{'msg': 'Saved', 'code': 200, 'data': None, 'sdkErrorCode': 0}"
      ]
     },
     "execution_count": 13,
     "metadata": {},
     "output_type": "execute_result"
    },
    {
     "data": {
      "text/plain": [
       "{'msg': 'Saved', 'code': 200, 'data': None, 'sdkErrorCode': 0}"
      ]
     },
     "execution_count": 13,
     "metadata": {},
     "output_type": "execute_result"
    },
    {
     "data": {
      "text/plain": [
       "{'msg': 'Saved', 'code': 200, 'data': None, 'sdkErrorCode': 0}"
      ]
     },
     "execution_count": 13,
     "metadata": {},
     "output_type": "execute_result"
    },
    {
     "data": {
      "text/plain": [
       "{'msg': 'Saved', 'code': 200, 'data': None, 'sdkErrorCode': 0}"
      ]
     },
     "execution_count": 13,
     "metadata": {},
     "output_type": "execute_result"
    },
    {
     "data": {
      "text/plain": [
       "{'msg': 'Saved', 'code': 200, 'data': None, 'sdkErrorCode': 0}"
      ]
     },
     "execution_count": 13,
     "metadata": {},
     "output_type": "execute_result"
    },
    {
     "data": {
      "text/plain": [
       "{'msg': 'Saved', 'code': 200, 'data': None, 'sdkErrorCode': 0}"
      ]
     },
     "execution_count": 13,
     "metadata": {},
     "output_type": "execute_result"
    },
    {
     "data": {
      "text/plain": [
       "{'msg': 'Saved', 'code': 200, 'data': None, 'sdkErrorCode': 0}"
      ]
     },
     "execution_count": 13,
     "metadata": {},
     "output_type": "execute_result"
    },
    {
     "data": {
      "text/plain": [
       "{'msg': 'Saved', 'code': 200, 'data': None, 'sdkErrorCode': 0}"
      ]
     },
     "execution_count": 13,
     "metadata": {},
     "output_type": "execute_result"
    },
    {
     "data": {
      "text/plain": [
       "{'msg': 'Saved', 'code': 200, 'data': None, 'sdkErrorCode': 0}"
      ]
     },
     "execution_count": 13,
     "metadata": {},
     "output_type": "execute_result"
    },
    {
     "data": {
      "text/plain": [
       "{'msg': 'Saved', 'code': 200, 'data': None, 'sdkErrorCode': 0}"
      ]
     },
     "execution_count": 13,
     "metadata": {},
     "output_type": "execute_result"
    },
    {
     "data": {
      "text/plain": [
       "{'msg': 'Saved', 'code': 200, 'data': None, 'sdkErrorCode': 0}"
      ]
     },
     "execution_count": 13,
     "metadata": {},
     "output_type": "execute_result"
    },
    {
     "data": {
      "text/plain": [
       "{'msg': 'Saved', 'code': 200, 'data': None, 'sdkErrorCode': 0}"
      ]
     },
     "execution_count": 13,
     "metadata": {},
     "output_type": "execute_result"
    },
    {
     "data": {
      "text/plain": [
       "{'msg': 'Saved', 'code': 200, 'data': None, 'sdkErrorCode': 0}"
      ]
     },
     "execution_count": 13,
     "metadata": {},
     "output_type": "execute_result"
    },
    {
     "data": {
      "text/plain": [
       "{'msg': 'Saved', 'code': 200, 'data': None, 'sdkErrorCode': 0}"
      ]
     },
     "execution_count": 13,
     "metadata": {},
     "output_type": "execute_result"
    },
    {
     "data": {
      "text/plain": [
       "{'msg': 'Saved', 'code': 200, 'data': None, 'sdkErrorCode': 0}"
      ]
     },
     "execution_count": 13,
     "metadata": {},
     "output_type": "execute_result"
    },
    {
     "data": {
      "text/plain": [
       "{'msg': 'Saved', 'code': 200, 'data': None, 'sdkErrorCode': 0}"
      ]
     },
     "execution_count": 13,
     "metadata": {},
     "output_type": "execute_result"
    },
    {
     "data": {
      "text/plain": [
       "{'msg': 'Saved', 'code': 200, 'data': None, 'sdkErrorCode': 0}"
      ]
     },
     "execution_count": 13,
     "metadata": {},
     "output_type": "execute_result"
    },
    {
     "data": {
      "text/plain": [
       "{'msg': 'Saved', 'code': 200, 'data': None, 'sdkErrorCode': 0}"
      ]
     },
     "execution_count": 13,
     "metadata": {},
     "output_type": "execute_result"
    },
    {
     "data": {
      "text/plain": [
       "{'msg': 'Saved', 'code': 200, 'data': None, 'sdkErrorCode': 0}"
      ]
     },
     "execution_count": 13,
     "metadata": {},
     "output_type": "execute_result"
    },
    {
     "data": {
      "text/plain": [
       "{'msg': 'Saved', 'code': 200, 'data': None, 'sdkErrorCode': 0}"
      ]
     },
     "execution_count": 13,
     "metadata": {},
     "output_type": "execute_result"
    },
    {
     "data": {
      "text/plain": [
       "{'msg': 'Saved', 'code': 200, 'data': None, 'sdkErrorCode': 0}"
      ]
     },
     "execution_count": 13,
     "metadata": {},
     "output_type": "execute_result"
    },
    {
     "data": {
      "text/plain": [
       "{'msg': 'Saved', 'code': 200, 'data': None, 'sdkErrorCode': 0}"
      ]
     },
     "execution_count": 13,
     "metadata": {},
     "output_type": "execute_result"
    },
    {
     "data": {
      "text/plain": [
       "{'msg': 'Saved', 'code': 200, 'data': None, 'sdkErrorCode': 0}"
      ]
     },
     "execution_count": 13,
     "metadata": {},
     "output_type": "execute_result"
    },
    {
     "data": {
      "text/plain": [
       "{'msg': 'Saved', 'code': 200, 'data': None, 'sdkErrorCode': 0}"
      ]
     },
     "execution_count": 13,
     "metadata": {},
     "output_type": "execute_result"
    },
    {
     "data": {
      "text/plain": [
       "{'msg': 'Saved', 'code': 200, 'data': None, 'sdkErrorCode': 0}"
      ]
     },
     "execution_count": 13,
     "metadata": {},
     "output_type": "execute_result"
    },
    {
     "data": {
      "text/plain": [
       "{'msg': 'Saved', 'code': 200, 'data': None, 'sdkErrorCode': 0}"
      ]
     },
     "execution_count": 13,
     "metadata": {},
     "output_type": "execute_result"
    },
    {
     "data": {
      "text/plain": [
       "{'msg': 'Saved', 'code': 200, 'data': None, 'sdkErrorCode': 0}"
      ]
     },
     "execution_count": 13,
     "metadata": {},
     "output_type": "execute_result"
    },
    {
     "data": {
      "text/plain": [
       "{'msg': 'Saved', 'code': 200, 'data': None, 'sdkErrorCode': 0}"
      ]
     },
     "execution_count": 13,
     "metadata": {},
     "output_type": "execute_result"
    },
    {
     "data": {
      "text/plain": [
       "{'msg': 'Saved', 'code': 200, 'data': None, 'sdkErrorCode': 0}"
      ]
     },
     "execution_count": 13,
     "metadata": {},
     "output_type": "execute_result"
    },
    {
     "data": {
      "text/plain": [
       "{'msg': 'Saved', 'code': 200, 'data': None, 'sdkErrorCode': 0}"
      ]
     },
     "execution_count": 13,
     "metadata": {},
     "output_type": "execute_result"
    },
    {
     "data": {
      "text/plain": [
       "{'msg': 'Saved', 'code': 200, 'data': None, 'sdkErrorCode': 0}"
      ]
     },
     "execution_count": 13,
     "metadata": {},
     "output_type": "execute_result"
    },
    {
     "data": {
      "text/plain": [
       "{'msg': 'Saved', 'code': 200, 'data': None, 'sdkErrorCode': 0}"
      ]
     },
     "execution_count": 13,
     "metadata": {},
     "output_type": "execute_result"
    },
    {
     "data": {
      "text/plain": [
       "{'msg': 'Saved', 'code': 200, 'data': None, 'sdkErrorCode': 0}"
      ]
     },
     "execution_count": 13,
     "metadata": {},
     "output_type": "execute_result"
    },
    {
     "data": {
      "text/plain": [
       "{'msg': 'Saved', 'code': 200, 'data': None, 'sdkErrorCode': 0}"
      ]
     },
     "execution_count": 13,
     "metadata": {},
     "output_type": "execute_result"
    },
    {
     "data": {
      "text/plain": [
       "{'msg': 'Saved', 'code': 200, 'data': None, 'sdkErrorCode': 0}"
      ]
     },
     "execution_count": 13,
     "metadata": {},
     "output_type": "execute_result"
    },
    {
     "data": {
      "text/plain": [
       "{'msg': 'Saved', 'code': 200, 'data': None, 'sdkErrorCode': 0}"
      ]
     },
     "execution_count": 13,
     "metadata": {},
     "output_type": "execute_result"
    },
    {
     "data": {
      "text/plain": [
       "{'msg': 'Saved', 'code': 200, 'data': None, 'sdkErrorCode': 0}"
      ]
     },
     "execution_count": 13,
     "metadata": {},
     "output_type": "execute_result"
    },
    {
     "data": {
      "text/plain": [
       "{'msg': 'Saved', 'code': 200, 'data': None, 'sdkErrorCode': 0}"
      ]
     },
     "execution_count": 13,
     "metadata": {},
     "output_type": "execute_result"
    },
    {
     "data": {
      "text/plain": [
       "{'msg': 'Saved', 'code': 200, 'data': None, 'sdkErrorCode': 0}"
      ]
     },
     "execution_count": 13,
     "metadata": {},
     "output_type": "execute_result"
    },
    {
     "data": {
      "text/plain": [
       "{'msg': 'Saved', 'code': 200, 'data': None, 'sdkErrorCode': 0}"
      ]
     },
     "execution_count": 13,
     "metadata": {},
     "output_type": "execute_result"
    },
    {
     "data": {
      "text/plain": [
       "{'msg': 'Saved', 'code': 200, 'data': None, 'sdkErrorCode': 0}"
      ]
     },
     "execution_count": 13,
     "metadata": {},
     "output_type": "execute_result"
    },
    {
     "data": {
      "text/plain": [
       "{'msg': 'Saved', 'code': 200, 'data': None, 'sdkErrorCode': 0}"
      ]
     },
     "execution_count": 13,
     "metadata": {},
     "output_type": "execute_result"
    },
    {
     "data": {
      "text/plain": [
       "{'msg': 'Saved', 'code': 200, 'data': None, 'sdkErrorCode': 0}"
      ]
     },
     "execution_count": 13,
     "metadata": {},
     "output_type": "execute_result"
    },
    {
     "data": {
      "text/plain": [
       "{'msg': 'Saved', 'code': 200, 'data': None, 'sdkErrorCode': 0}"
      ]
     },
     "execution_count": 13,
     "metadata": {},
     "output_type": "execute_result"
    },
    {
     "data": {
      "text/plain": [
       "{'msg': 'Saved', 'code': 200, 'data': None, 'sdkErrorCode': 0}"
      ]
     },
     "execution_count": 13,
     "metadata": {},
     "output_type": "execute_result"
    },
    {
     "data": {
      "text/plain": [
       "{'msg': 'Saved', 'code': 200, 'data': None, 'sdkErrorCode': 0}"
      ]
     },
     "execution_count": 13,
     "metadata": {},
     "output_type": "execute_result"
    },
    {
     "data": {
      "text/plain": [
       "{'msg': 'Saved', 'code': 200, 'data': None, 'sdkErrorCode': 0}"
      ]
     },
     "execution_count": 13,
     "metadata": {},
     "output_type": "execute_result"
    },
    {
     "data": {
      "text/plain": [
       "{'msg': 'Saved', 'code': 200, 'data': None, 'sdkErrorCode': 0}"
      ]
     },
     "execution_count": 13,
     "metadata": {},
     "output_type": "execute_result"
    },
    {
     "data": {
      "text/plain": [
       "{'msg': 'Saved', 'code': 200, 'data': None, 'sdkErrorCode': 0}"
      ]
     },
     "execution_count": 13,
     "metadata": {},
     "output_type": "execute_result"
    },
    {
     "data": {
      "text/plain": [
       "{'msg': 'Saved', 'code': 200, 'data': None, 'sdkErrorCode': 0}"
      ]
     },
     "execution_count": 13,
     "metadata": {},
     "output_type": "execute_result"
    },
    {
     "data": {
      "text/plain": [
       "{'msg': 'Saved', 'code': 200, 'data': None, 'sdkErrorCode': 0}"
      ]
     },
     "execution_count": 13,
     "metadata": {},
     "output_type": "execute_result"
    },
    {
     "data": {
      "text/plain": [
       "{'msg': 'Saved', 'code': 200, 'data': None, 'sdkErrorCode': 0}"
      ]
     },
     "execution_count": 13,
     "metadata": {},
     "output_type": "execute_result"
    },
    {
     "data": {
      "text/plain": [
       "{'msg': 'Saved', 'code': 200, 'data': None, 'sdkErrorCode': 0}"
      ]
     },
     "execution_count": 13,
     "metadata": {},
     "output_type": "execute_result"
    },
    {
     "data": {
      "text/plain": [
       "{'msg': 'Saved', 'code': 200, 'data': None, 'sdkErrorCode': 0}"
      ]
     },
     "execution_count": 13,
     "metadata": {},
     "output_type": "execute_result"
    },
    {
     "data": {
      "text/plain": [
       "{'msg': 'Saved', 'code': 200, 'data': None, 'sdkErrorCode': 0}"
      ]
     },
     "execution_count": 13,
     "metadata": {},
     "output_type": "execute_result"
    },
    {
     "data": {
      "text/plain": [
       "{'msg': 'Saved', 'code': 200, 'data': None, 'sdkErrorCode': 0}"
      ]
     },
     "execution_count": 13,
     "metadata": {},
     "output_type": "execute_result"
    },
    {
     "data": {
      "text/plain": [
       "{'msg': 'Saved', 'code': 200, 'data': None, 'sdkErrorCode': 0}"
      ]
     },
     "execution_count": 13,
     "metadata": {},
     "output_type": "execute_result"
    },
    {
     "data": {
      "text/plain": [
       "{'msg': 'Saved', 'code': 200, 'data': None, 'sdkErrorCode': 0}"
      ]
     },
     "execution_count": 13,
     "metadata": {},
     "output_type": "execute_result"
    },
    {
     "data": {
      "text/plain": [
       "{'msg': 'Saved', 'code': 200, 'data': None, 'sdkErrorCode': 0}"
      ]
     },
     "execution_count": 13,
     "metadata": {},
     "output_type": "execute_result"
    },
    {
     "data": {
      "text/plain": [
       "{'msg': 'Saved', 'code': 200, 'data': None, 'sdkErrorCode': 0}"
      ]
     },
     "execution_count": 13,
     "metadata": {},
     "output_type": "execute_result"
    },
    {
     "data": {
      "text/plain": [
       "{'msg': 'Saved', 'code': 200, 'data': None, 'sdkErrorCode': 0}"
      ]
     },
     "execution_count": 13,
     "metadata": {},
     "output_type": "execute_result"
    },
    {
     "data": {
      "text/plain": [
       "{'msg': 'Saved', 'code': 200, 'data': None, 'sdkErrorCode': 0}"
      ]
     },
     "execution_count": 13,
     "metadata": {},
     "output_type": "execute_result"
    },
    {
     "data": {
      "text/plain": [
       "{'msg': 'Saved', 'code': 200, 'data': None, 'sdkErrorCode': 0}"
      ]
     },
     "execution_count": 13,
     "metadata": {},
     "output_type": "execute_result"
    },
    {
     "data": {
      "text/plain": [
       "{'msg': 'Saved', 'code': 200, 'data': None, 'sdkErrorCode': 0}"
      ]
     },
     "execution_count": 13,
     "metadata": {},
     "output_type": "execute_result"
    },
    {
     "data": {
      "text/plain": [
       "{'msg': 'Saved', 'code': 200, 'data': None, 'sdkErrorCode': 0}"
      ]
     },
     "execution_count": 13,
     "metadata": {},
     "output_type": "execute_result"
    },
    {
     "data": {
      "text/plain": [
       "{'msg': 'Saved', 'code': 200, 'data': None, 'sdkErrorCode': 0}"
      ]
     },
     "execution_count": 13,
     "metadata": {},
     "output_type": "execute_result"
    },
    {
     "data": {
      "text/plain": [
       "{'msg': 'Saved', 'code': 200, 'data': None, 'sdkErrorCode': 0}"
      ]
     },
     "execution_count": 13,
     "metadata": {},
     "output_type": "execute_result"
    },
    {
     "data": {
      "text/plain": [
       "{'msg': 'Saved', 'code': 200, 'data': None, 'sdkErrorCode': 0}"
      ]
     },
     "execution_count": 13,
     "metadata": {},
     "output_type": "execute_result"
    },
    {
     "data": {
      "text/plain": [
       "{'msg': 'Saved', 'code': 200, 'data': None, 'sdkErrorCode': 0}"
      ]
     },
     "execution_count": 13,
     "metadata": {},
     "output_type": "execute_result"
    },
    {
     "data": {
      "text/plain": [
       "{'msg': 'Saved', 'code': 200, 'data': None, 'sdkErrorCode': 0}"
      ]
     },
     "execution_count": 13,
     "metadata": {},
     "output_type": "execute_result"
    },
    {
     "data": {
      "text/plain": [
       "{'msg': 'Saved', 'code': 200, 'data': None, 'sdkErrorCode': 0}"
      ]
     },
     "execution_count": 13,
     "metadata": {},
     "output_type": "execute_result"
    },
    {
     "data": {
      "text/plain": [
       "{'msg': 'Saved', 'code': 200, 'data': None, 'sdkErrorCode': 0}"
      ]
     },
     "execution_count": 13,
     "metadata": {},
     "output_type": "execute_result"
    },
    {
     "data": {
      "text/plain": [
       "{'msg': 'Saved', 'code': 200, 'data': None, 'sdkErrorCode': 0}"
      ]
     },
     "execution_count": 13,
     "metadata": {},
     "output_type": "execute_result"
    },
    {
     "data": {
      "text/plain": [
       "{'msg': 'Saved', 'code': 200, 'data': None, 'sdkErrorCode': 0}"
      ]
     },
     "execution_count": 13,
     "metadata": {},
     "output_type": "execute_result"
    },
    {
     "data": {
      "text/plain": [
       "{'msg': 'Saved', 'code': 200, 'data': None, 'sdkErrorCode': 0}"
      ]
     },
     "execution_count": 13,
     "metadata": {},
     "output_type": "execute_result"
    },
    {
     "data": {
      "text/plain": [
       "{'msg': 'Saved', 'code': 200, 'data': None, 'sdkErrorCode': 0}"
      ]
     },
     "execution_count": 13,
     "metadata": {},
     "output_type": "execute_result"
    },
    {
     "data": {
      "text/plain": [
       "{'msg': 'Saved', 'code': 200, 'data': None, 'sdkErrorCode': 0}"
      ]
     },
     "execution_count": 13,
     "metadata": {},
     "output_type": "execute_result"
    },
    {
     "data": {
      "text/plain": [
       "{'msg': 'Saved', 'code': 200, 'data': None, 'sdkErrorCode': 0}"
      ]
     },
     "execution_count": 13,
     "metadata": {},
     "output_type": "execute_result"
    },
    {
     "data": {
      "text/plain": [
       "{'msg': 'Saved', 'code': 200, 'data': None, 'sdkErrorCode': 0}"
      ]
     },
     "execution_count": 13,
     "metadata": {},
     "output_type": "execute_result"
    },
    {
     "data": {
      "text/plain": [
       "{'msg': 'Saved', 'code': 200, 'data': None, 'sdkErrorCode': 0}"
      ]
     },
     "execution_count": 13,
     "metadata": {},
     "output_type": "execute_result"
    },
    {
     "data": {
      "text/plain": [
       "{'msg': 'Saved', 'code': 200, 'data': None, 'sdkErrorCode': 0}"
      ]
     },
     "execution_count": 13,
     "metadata": {},
     "output_type": "execute_result"
    },
    {
     "data": {
      "text/plain": [
       "{'msg': 'Saved', 'code': 200, 'data': None, 'sdkErrorCode': 0}"
      ]
     },
     "execution_count": 13,
     "metadata": {},
     "output_type": "execute_result"
    },
    {
     "data": {
      "text/plain": [
       "{'msg': 'Saved', 'code': 200, 'data': None, 'sdkErrorCode': 0}"
      ]
     },
     "execution_count": 13,
     "metadata": {},
     "output_type": "execute_result"
    },
    {
     "data": {
      "text/plain": [
       "{'msg': 'Saved', 'code': 200, 'data': None, 'sdkErrorCode': 0}"
      ]
     },
     "execution_count": 13,
     "metadata": {},
     "output_type": "execute_result"
    },
    {
     "data": {
      "text/plain": [
       "{'msg': 'Saved', 'code': 200, 'data': None, 'sdkErrorCode': 0}"
      ]
     },
     "execution_count": 13,
     "metadata": {},
     "output_type": "execute_result"
    },
    {
     "data": {
      "text/plain": [
       "{'msg': 'Saved', 'code': 200, 'data': None, 'sdkErrorCode': 0}"
      ]
     },
     "execution_count": 13,
     "metadata": {},
     "output_type": "execute_result"
    },
    {
     "data": {
      "text/plain": [
       "{'msg': 'Saved', 'code': 200, 'data': None, 'sdkErrorCode': 0}"
      ]
     },
     "execution_count": 13,
     "metadata": {},
     "output_type": "execute_result"
    },
    {
     "data": {
      "text/plain": [
       "{'msg': 'Saved', 'code': 200, 'data': None, 'sdkErrorCode': 0}"
      ]
     },
     "execution_count": 13,
     "metadata": {},
     "output_type": "execute_result"
    },
    {
     "data": {
      "text/plain": [
       "{'msg': 'Saved', 'code': 200, 'data': None, 'sdkErrorCode': 0}"
      ]
     },
     "execution_count": 13,
     "metadata": {},
     "output_type": "execute_result"
    },
    {
     "data": {
      "text/plain": [
       "{'msg': 'Saved', 'code': 200, 'data': None, 'sdkErrorCode': 0}"
      ]
     },
     "execution_count": 13,
     "metadata": {},
     "output_type": "execute_result"
    },
    {
     "data": {
      "text/plain": [
       "{'msg': 'Saved', 'code': 200, 'data': None, 'sdkErrorCode': 0}"
      ]
     },
     "execution_count": 13,
     "metadata": {},
     "output_type": "execute_result"
    },
    {
     "data": {
      "text/plain": [
       "{'msg': 'Saved', 'code': 200, 'data': None, 'sdkErrorCode': 0}"
      ]
     },
     "execution_count": 13,
     "metadata": {},
     "output_type": "execute_result"
    },
    {
     "data": {
      "text/plain": [
       "{'msg': 'Saved', 'code': 200, 'data': None, 'sdkErrorCode': 0}"
      ]
     },
     "execution_count": 13,
     "metadata": {},
     "output_type": "execute_result"
    },
    {
     "data": {
      "text/plain": [
       "{'msg': 'Saved', 'code': 200, 'data': None, 'sdkErrorCode': 0}"
      ]
     },
     "execution_count": 13,
     "metadata": {},
     "output_type": "execute_result"
    },
    {
     "data": {
      "text/plain": [
       "{'msg': 'Saved', 'code': 200, 'data': None, 'sdkErrorCode': 0}"
      ]
     },
     "execution_count": 13,
     "metadata": {},
     "output_type": "execute_result"
    },
    {
     "data": {
      "text/plain": [
       "{'msg': 'Saved', 'code': 200, 'data': None, 'sdkErrorCode': 0}"
      ]
     },
     "execution_count": 13,
     "metadata": {},
     "output_type": "execute_result"
    },
    {
     "data": {
      "text/plain": [
       "{'msg': 'Saved', 'code': 200, 'data': None, 'sdkErrorCode': 0}"
      ]
     },
     "execution_count": 13,
     "metadata": {},
     "output_type": "execute_result"
    },
    {
     "data": {
      "text/plain": [
       "{'msg': 'Saved', 'code': 200, 'data': None, 'sdkErrorCode': 0}"
      ]
     },
     "execution_count": 13,
     "metadata": {},
     "output_type": "execute_result"
    },
    {
     "data": {
      "text/plain": [
       "{'msg': 'Saved', 'code': 200, 'data': None, 'sdkErrorCode': 0}"
      ]
     },
     "execution_count": 13,
     "metadata": {},
     "output_type": "execute_result"
    },
    {
     "data": {
      "text/plain": [
       "{'msg': 'Saved', 'code': 200, 'data': None, 'sdkErrorCode': 0}"
      ]
     },
     "execution_count": 13,
     "metadata": {},
     "output_type": "execute_result"
    },
    {
     "data": {
      "text/plain": [
       "{'msg': 'Saved', 'code': 200, 'data': None, 'sdkErrorCode': 0}"
      ]
     },
     "execution_count": 13,
     "metadata": {},
     "output_type": "execute_result"
    },
    {
     "data": {
      "text/plain": [
       "{'msg': 'Saved', 'code': 200, 'data': None, 'sdkErrorCode': 0}"
      ]
     },
     "execution_count": 13,
     "metadata": {},
     "output_type": "execute_result"
    },
    {
     "data": {
      "text/plain": [
       "{'msg': 'Saved', 'code': 200, 'data': None, 'sdkErrorCode': 0}"
      ]
     },
     "execution_count": 13,
     "metadata": {},
     "output_type": "execute_result"
    },
    {
     "data": {
      "text/plain": [
       "{'msg': 'Saved', 'code': 200, 'data': None, 'sdkErrorCode': 0}"
      ]
     },
     "execution_count": 13,
     "metadata": {},
     "output_type": "execute_result"
    },
    {
     "data": {
      "text/plain": [
       "{'msg': 'Saved', 'code': 200, 'data': None, 'sdkErrorCode': 0}"
      ]
     },
     "execution_count": 13,
     "metadata": {},
     "output_type": "execute_result"
    },
    {
     "data": {
      "text/plain": [
       "{'msg': 'Saved', 'code': 200, 'data': None, 'sdkErrorCode': 0}"
      ]
     },
     "execution_count": 13,
     "metadata": {},
     "output_type": "execute_result"
    },
    {
     "data": {
      "text/plain": [
       "{'msg': 'Saved', 'code': 200, 'data': None, 'sdkErrorCode': 0}"
      ]
     },
     "execution_count": 13,
     "metadata": {},
     "output_type": "execute_result"
    },
    {
     "data": {
      "text/plain": [
       "{'msg': 'Saved', 'code': 200, 'data': None, 'sdkErrorCode': 0}"
      ]
     },
     "execution_count": 13,
     "metadata": {},
     "output_type": "execute_result"
    },
    {
     "data": {
      "text/plain": [
       "{'msg': 'Saved', 'code': 200, 'data': None, 'sdkErrorCode': 0}"
      ]
     },
     "execution_count": 13,
     "metadata": {},
     "output_type": "execute_result"
    },
    {
     "data": {
      "text/plain": [
       "{'msg': 'Saved', 'code': 200, 'data': None, 'sdkErrorCode': 0}"
      ]
     },
     "execution_count": 13,
     "metadata": {},
     "output_type": "execute_result"
    },
    {
     "data": {
      "text/plain": [
       "{'msg': 'Saved', 'code': 200, 'data': None, 'sdkErrorCode': 0}"
      ]
     },
     "execution_count": 13,
     "metadata": {},
     "output_type": "execute_result"
    },
    {
     "data": {
      "text/plain": [
       "{'msg': 'Saved', 'code': 200, 'data': None, 'sdkErrorCode': 0}"
      ]
     },
     "execution_count": 13,
     "metadata": {},
     "output_type": "execute_result"
    },
    {
     "data": {
      "text/plain": [
       "{'msg': 'Saved', 'code': 200, 'data': None, 'sdkErrorCode': 0}"
      ]
     },
     "execution_count": 13,
     "metadata": {},
     "output_type": "execute_result"
    },
    {
     "data": {
      "text/plain": [
       "{'msg': 'Saved', 'code': 200, 'data': None, 'sdkErrorCode': 0}"
      ]
     },
     "execution_count": 13,
     "metadata": {},
     "output_type": "execute_result"
    },
    {
     "data": {
      "text/plain": [
       "{'msg': 'Saved', 'code': 200, 'data': None, 'sdkErrorCode': 0}"
      ]
     },
     "execution_count": 13,
     "metadata": {},
     "output_type": "execute_result"
    },
    {
     "data": {
      "text/plain": [
       "{'msg': 'Saved', 'code': 200, 'data': None, 'sdkErrorCode': 0}"
      ]
     },
     "execution_count": 13,
     "metadata": {},
     "output_type": "execute_result"
    },
    {
     "data": {
      "text/plain": [
       "{'msg': 'Saved', 'code': 200, 'data': None, 'sdkErrorCode': 0}"
      ]
     },
     "execution_count": 13,
     "metadata": {},
     "output_type": "execute_result"
    },
    {
     "data": {
      "text/plain": [
       "{'msg': 'Saved', 'code': 200, 'data': None, 'sdkErrorCode': 0}"
      ]
     },
     "execution_count": 13,
     "metadata": {},
     "output_type": "execute_result"
    },
    {
     "data": {
      "text/plain": [
       "{'msg': 'Saved', 'code': 200, 'data': None, 'sdkErrorCode': 0}"
      ]
     },
     "execution_count": 13,
     "metadata": {},
     "output_type": "execute_result"
    },
    {
     "data": {
      "text/plain": [
       "{'msg': 'Saved', 'code': 200, 'data': None, 'sdkErrorCode': 0}"
      ]
     },
     "execution_count": 13,
     "metadata": {},
     "output_type": "execute_result"
    },
    {
     "data": {
      "text/plain": [
       "{'msg': 'Saved', 'code': 200, 'data': None, 'sdkErrorCode': 0}"
      ]
     },
     "execution_count": 13,
     "metadata": {},
     "output_type": "execute_result"
    },
    {
     "data": {
      "text/plain": [
       "{'msg': 'Saved', 'code': 200, 'data': None, 'sdkErrorCode': 0}"
      ]
     },
     "execution_count": 13,
     "metadata": {},
     "output_type": "execute_result"
    },
    {
     "data": {
      "text/plain": [
       "{'msg': 'Saved', 'code': 200, 'data': None, 'sdkErrorCode': 0}"
      ]
     },
     "execution_count": 13,
     "metadata": {},
     "output_type": "execute_result"
    },
    {
     "data": {
      "text/plain": [
       "{'msg': 'Saved', 'code': 200, 'data': None, 'sdkErrorCode': 0}"
      ]
     },
     "execution_count": 13,
     "metadata": {},
     "output_type": "execute_result"
    },
    {
     "data": {
      "text/plain": [
       "{'msg': 'Saved', 'code': 200, 'data': None, 'sdkErrorCode': 0}"
      ]
     },
     "execution_count": 13,
     "metadata": {},
     "output_type": "execute_result"
    },
    {
     "data": {
      "text/plain": [
       "{'msg': 'Saved', 'code': 200, 'data': None, 'sdkErrorCode': 0}"
      ]
     },
     "execution_count": 13,
     "metadata": {},
     "output_type": "execute_result"
    },
    {
     "data": {
      "text/plain": [
       "{'msg': 'Saved', 'code': 200, 'data': None, 'sdkErrorCode': 0}"
      ]
     },
     "execution_count": 13,
     "metadata": {},
     "output_type": "execute_result"
    },
    {
     "data": {
      "text/plain": [
       "{'msg': 'Saved', 'code': 200, 'data': None, 'sdkErrorCode': 0}"
      ]
     },
     "execution_count": 13,
     "metadata": {},
     "output_type": "execute_result"
    },
    {
     "data": {
      "text/plain": [
       "{'msg': 'Saved', 'code': 200, 'data': None, 'sdkErrorCode': 0}"
      ]
     },
     "execution_count": 13,
     "metadata": {},
     "output_type": "execute_result"
    },
    {
     "data": {
      "text/plain": [
       "{'msg': 'Saved', 'code': 200, 'data': None, 'sdkErrorCode': 0}"
      ]
     },
     "execution_count": 13,
     "metadata": {},
     "output_type": "execute_result"
    },
    {
     "data": {
      "text/plain": [
       "{'msg': 'Saved', 'code': 200, 'data': None, 'sdkErrorCode': 0}"
      ]
     },
     "execution_count": 13,
     "metadata": {},
     "output_type": "execute_result"
    },
    {
     "data": {
      "text/plain": [
       "{'msg': 'Saved', 'code': 200, 'data': None, 'sdkErrorCode': 0}"
      ]
     },
     "execution_count": 13,
     "metadata": {},
     "output_type": "execute_result"
    },
    {
     "data": {
      "text/plain": [
       "{'msg': 'Saved', 'code': 200, 'data': None, 'sdkErrorCode': 0}"
      ]
     },
     "execution_count": 13,
     "metadata": {},
     "output_type": "execute_result"
    },
    {
     "data": {
      "text/plain": [
       "{'msg': 'Saved', 'code': 200, 'data': None, 'sdkErrorCode': 0}"
      ]
     },
     "execution_count": 13,
     "metadata": {},
     "output_type": "execute_result"
    },
    {
     "data": {
      "text/plain": [
       "{'msg': 'Saved', 'code': 200, 'data': None, 'sdkErrorCode': 0}"
      ]
     },
     "execution_count": 13,
     "metadata": {},
     "output_type": "execute_result"
    },
    {
     "data": {
      "text/plain": [
       "{'msg': 'Saved', 'code': 200, 'data': None, 'sdkErrorCode': 0}"
      ]
     },
     "execution_count": 13,
     "metadata": {},
     "output_type": "execute_result"
    },
    {
     "data": {
      "text/plain": [
       "{'msg': 'Saved', 'code': 200, 'data': None, 'sdkErrorCode': 0}"
      ]
     },
     "execution_count": 13,
     "metadata": {},
     "output_type": "execute_result"
    },
    {
     "data": {
      "text/plain": [
       "{'msg': 'Saved', 'code': 200, 'data': None, 'sdkErrorCode': 0}"
      ]
     },
     "execution_count": 13,
     "metadata": {},
     "output_type": "execute_result"
    },
    {
     "data": {
      "text/plain": [
       "{'msg': 'Saved', 'code': 200, 'data': None, 'sdkErrorCode': 0}"
      ]
     },
     "execution_count": 13,
     "metadata": {},
     "output_type": "execute_result"
    },
    {
     "data": {
      "text/plain": [
       "{'msg': 'Saved', 'code': 200, 'data': None, 'sdkErrorCode': 0}"
      ]
     },
     "execution_count": 13,
     "metadata": {},
     "output_type": "execute_result"
    },
    {
     "data": {
      "text/plain": [
       "{'msg': 'Saved', 'code': 200, 'data': None, 'sdkErrorCode': 0}"
      ]
     },
     "execution_count": 13,
     "metadata": {},
     "output_type": "execute_result"
    },
    {
     "data": {
      "text/plain": [
       "{'msg': 'Saved', 'code': 200, 'data': None, 'sdkErrorCode': 0}"
      ]
     },
     "execution_count": 13,
     "metadata": {},
     "output_type": "execute_result"
    },
    {
     "data": {
      "text/plain": [
       "{'msg': 'Saved', 'code': 200, 'data': None, 'sdkErrorCode': 0}"
      ]
     },
     "execution_count": 13,
     "metadata": {},
     "output_type": "execute_result"
    },
    {
     "data": {
      "text/plain": [
       "{'msg': 'Saved', 'code': 200, 'data': None, 'sdkErrorCode': 0}"
      ]
     },
     "execution_count": 13,
     "metadata": {},
     "output_type": "execute_result"
    },
    {
     "data": {
      "text/plain": [
       "{'msg': 'Saved', 'code': 200, 'data': None, 'sdkErrorCode': 0}"
      ]
     },
     "execution_count": 13,
     "metadata": {},
     "output_type": "execute_result"
    },
    {
     "data": {
      "text/plain": [
       "{'msg': 'Saved', 'code': 200, 'data': None, 'sdkErrorCode': 0}"
      ]
     },
     "execution_count": 13,
     "metadata": {},
     "output_type": "execute_result"
    },
    {
     "data": {
      "text/plain": [
       "{'msg': 'Saved', 'code': 200, 'data': None, 'sdkErrorCode': 0}"
      ]
     },
     "execution_count": 13,
     "metadata": {},
     "output_type": "execute_result"
    },
    {
     "data": {
      "text/plain": [
       "{'msg': 'Saved', 'code': 200, 'data': None, 'sdkErrorCode': 0}"
      ]
     },
     "execution_count": 13,
     "metadata": {},
     "output_type": "execute_result"
    },
    {
     "data": {
      "text/plain": [
       "{'msg': 'Saved', 'code': 200, 'data': None, 'sdkErrorCode': 0}"
      ]
     },
     "execution_count": 13,
     "metadata": {},
     "output_type": "execute_result"
    },
    {
     "data": {
      "text/plain": [
       "{'msg': 'Saved', 'code': 200, 'data': None, 'sdkErrorCode': 0}"
      ]
     },
     "execution_count": 13,
     "metadata": {},
     "output_type": "execute_result"
    },
    {
     "data": {
      "text/plain": [
       "{'msg': 'Saved', 'code': 200, 'data': None, 'sdkErrorCode': 0}"
      ]
     },
     "execution_count": 13,
     "metadata": {},
     "output_type": "execute_result"
    },
    {
     "data": {
      "text/plain": [
       "{'msg': 'Saved', 'code': 200, 'data': None, 'sdkErrorCode': 0}"
      ]
     },
     "execution_count": 13,
     "metadata": {},
     "output_type": "execute_result"
    },
    {
     "data": {
      "text/plain": [
       "{'msg': 'Saved', 'code': 200, 'data': None, 'sdkErrorCode': 0}"
      ]
     },
     "execution_count": 13,
     "metadata": {},
     "output_type": "execute_result"
    },
    {
     "data": {
      "text/plain": [
       "{'msg': 'Saved', 'code': 200, 'data': None, 'sdkErrorCode': 0}"
      ]
     },
     "execution_count": 13,
     "metadata": {},
     "output_type": "execute_result"
    },
    {
     "data": {
      "text/plain": [
       "{'msg': 'Saved', 'code': 200, 'data': None, 'sdkErrorCode': 0}"
      ]
     },
     "execution_count": 13,
     "metadata": {},
     "output_type": "execute_result"
    },
    {
     "data": {
      "text/plain": [
       "{'msg': 'Saved', 'code': 200, 'data': None, 'sdkErrorCode': 0}"
      ]
     },
     "execution_count": 13,
     "metadata": {},
     "output_type": "execute_result"
    },
    {
     "data": {
      "text/plain": [
       "{'msg': 'Saved', 'code': 200, 'data': None, 'sdkErrorCode': 0}"
      ]
     },
     "execution_count": 13,
     "metadata": {},
     "output_type": "execute_result"
    },
    {
     "data": {
      "text/plain": [
       "{'msg': 'Saved', 'code': 200, 'data': None, 'sdkErrorCode': 0}"
      ]
     },
     "execution_count": 13,
     "metadata": {},
     "output_type": "execute_result"
    },
    {
     "data": {
      "text/plain": [
       "{'msg': 'Saved', 'code': 200, 'data': None, 'sdkErrorCode': 0}"
      ]
     },
     "execution_count": 13,
     "metadata": {},
     "output_type": "execute_result"
    },
    {
     "data": {
      "text/plain": [
       "{'msg': 'Saved', 'code': 200, 'data': None, 'sdkErrorCode': 0}"
      ]
     },
     "execution_count": 13,
     "metadata": {},
     "output_type": "execute_result"
    },
    {
     "data": {
      "text/plain": [
       "{'msg': 'Saved', 'code': 200, 'data': None, 'sdkErrorCode': 0}"
      ]
     },
     "execution_count": 13,
     "metadata": {},
     "output_type": "execute_result"
    },
    {
     "data": {
      "text/plain": [
       "{'msg': 'Saved', 'code': 200, 'data': None, 'sdkErrorCode': 0}"
      ]
     },
     "execution_count": 13,
     "metadata": {},
     "output_type": "execute_result"
    },
    {
     "data": {
      "text/plain": [
       "{'msg': 'Saved', 'code': 200, 'data': None, 'sdkErrorCode': 0}"
      ]
     },
     "execution_count": 13,
     "metadata": {},
     "output_type": "execute_result"
    },
    {
     "data": {
      "text/plain": [
       "{'msg': 'Saved', 'code': 200, 'data': None, 'sdkErrorCode': 0}"
      ]
     },
     "execution_count": 13,
     "metadata": {},
     "output_type": "execute_result"
    },
    {
     "data": {
      "text/plain": [
       "{'msg': 'Saved', 'code': 200, 'data': None, 'sdkErrorCode': 0}"
      ]
     },
     "execution_count": 13,
     "metadata": {},
     "output_type": "execute_result"
    },
    {
     "data": {
      "text/plain": [
       "{'msg': 'Saved', 'code': 200, 'data': None, 'sdkErrorCode': 0}"
      ]
     },
     "execution_count": 13,
     "metadata": {},
     "output_type": "execute_result"
    },
    {
     "data": {
      "text/plain": [
       "{'msg': 'Saved', 'code': 200, 'data': None, 'sdkErrorCode': 0}"
      ]
     },
     "execution_count": 13,
     "metadata": {},
     "output_type": "execute_result"
    },
    {
     "data": {
      "text/plain": [
       "{'msg': 'Saved', 'code': 200, 'data': None, 'sdkErrorCode': 0}"
      ]
     },
     "execution_count": 13,
     "metadata": {},
     "output_type": "execute_result"
    },
    {
     "data": {
      "text/plain": [
       "{'msg': 'Saved', 'code': 200, 'data': None, 'sdkErrorCode': 0}"
      ]
     },
     "execution_count": 13,
     "metadata": {},
     "output_type": "execute_result"
    },
    {
     "data": {
      "text/plain": [
       "{'msg': 'Saved', 'code': 200, 'data': None, 'sdkErrorCode': 0}"
      ]
     },
     "execution_count": 13,
     "metadata": {},
     "output_type": "execute_result"
    },
    {
     "data": {
      "text/plain": [
       "{'msg': 'Saved', 'code': 200, 'data': None, 'sdkErrorCode': 0}"
      ]
     },
     "execution_count": 13,
     "metadata": {},
     "output_type": "execute_result"
    },
    {
     "data": {
      "text/plain": [
       "{'msg': 'Saved', 'code': 200, 'data': None, 'sdkErrorCode': 0}"
      ]
     },
     "execution_count": 13,
     "metadata": {},
     "output_type": "execute_result"
    },
    {
     "data": {
      "text/plain": [
       "{'msg': 'Saved', 'code': 200, 'data': None, 'sdkErrorCode': 0}"
      ]
     },
     "execution_count": 13,
     "metadata": {},
     "output_type": "execute_result"
    },
    {
     "data": {
      "text/plain": [
       "{'msg': 'Saved', 'code': 200, 'data': None, 'sdkErrorCode': 0}"
      ]
     },
     "execution_count": 13,
     "metadata": {},
     "output_type": "execute_result"
    },
    {
     "data": {
      "text/plain": [
       "{'msg': 'Saved', 'code': 200, 'data': None, 'sdkErrorCode': 0}"
      ]
     },
     "execution_count": 13,
     "metadata": {},
     "output_type": "execute_result"
    },
    {
     "data": {
      "text/plain": [
       "{'msg': 'Saved', 'code': 200, 'data': None, 'sdkErrorCode': 0}"
      ]
     },
     "execution_count": 13,
     "metadata": {},
     "output_type": "execute_result"
    },
    {
     "data": {
      "text/plain": [
       "{'msg': 'Saved', 'code': 200, 'data': None, 'sdkErrorCode': 0}"
      ]
     },
     "execution_count": 13,
     "metadata": {},
     "output_type": "execute_result"
    },
    {
     "data": {
      "text/plain": [
       "{'msg': 'Saved', 'code': 200, 'data': None, 'sdkErrorCode': 0}"
      ]
     },
     "execution_count": 13,
     "metadata": {},
     "output_type": "execute_result"
    },
    {
     "data": {
      "text/plain": [
       "{'msg': 'Saved', 'code': 200, 'data': None, 'sdkErrorCode': 0}"
      ]
     },
     "execution_count": 13,
     "metadata": {},
     "output_type": "execute_result"
    },
    {
     "data": {
      "text/plain": [
       "{'msg': 'Saved', 'code': 200, 'data': None, 'sdkErrorCode': 0}"
      ]
     },
     "execution_count": 13,
     "metadata": {},
     "output_type": "execute_result"
    },
    {
     "data": {
      "text/plain": [
       "{'msg': 'Saved', 'code': 200, 'data': None, 'sdkErrorCode': 0}"
      ]
     },
     "execution_count": 13,
     "metadata": {},
     "output_type": "execute_result"
    },
    {
     "data": {
      "text/plain": [
       "{'msg': 'Saved', 'code': 200, 'data': None, 'sdkErrorCode': 0}"
      ]
     },
     "execution_count": 13,
     "metadata": {},
     "output_type": "execute_result"
    },
    {
     "data": {
      "text/plain": [
       "{'msg': 'Saved', 'code': 200, 'data': None, 'sdkErrorCode': 0}"
      ]
     },
     "execution_count": 13,
     "metadata": {},
     "output_type": "execute_result"
    },
    {
     "data": {
      "text/plain": [
       "{'msg': 'Saved', 'code': 200, 'data': None, 'sdkErrorCode': 0}"
      ]
     },
     "execution_count": 13,
     "metadata": {},
     "output_type": "execute_result"
    },
    {
     "data": {
      "text/plain": [
       "{'msg': 'Saved', 'code': 200, 'data': None, 'sdkErrorCode': 0}"
      ]
     },
     "execution_count": 13,
     "metadata": {},
     "output_type": "execute_result"
    },
    {
     "data": {
      "text/plain": [
       "{'msg': 'Saved', 'code': 200, 'data': None, 'sdkErrorCode': 0}"
      ]
     },
     "execution_count": 13,
     "metadata": {},
     "output_type": "execute_result"
    },
    {
     "data": {
      "text/plain": [
       "{'msg': 'Saved', 'code': 200, 'data': None, 'sdkErrorCode': 0}"
      ]
     },
     "execution_count": 13,
     "metadata": {},
     "output_type": "execute_result"
    },
    {
     "data": {
      "text/plain": [
       "{'msg': 'Saved', 'code': 200, 'data': None, 'sdkErrorCode': 0}"
      ]
     },
     "execution_count": 13,
     "metadata": {},
     "output_type": "execute_result"
    },
    {
     "data": {
      "text/plain": [
       "{'msg': 'Saved', 'code': 200, 'data': None, 'sdkErrorCode': 0}"
      ]
     },
     "execution_count": 13,
     "metadata": {},
     "output_type": "execute_result"
    },
    {
     "data": {
      "text/plain": [
       "{'msg': 'Saved', 'code': 200, 'data': None, 'sdkErrorCode': 0}"
      ]
     },
     "execution_count": 13,
     "metadata": {},
     "output_type": "execute_result"
    },
    {
     "data": {
      "text/plain": [
       "{'msg': 'Saved', 'code': 200, 'data': None, 'sdkErrorCode': 0}"
      ]
     },
     "execution_count": 13,
     "metadata": {},
     "output_type": "execute_result"
    },
    {
     "data": {
      "text/plain": [
       "{'msg': 'Saved', 'code': 200, 'data': None, 'sdkErrorCode': 0}"
      ]
     },
     "execution_count": 13,
     "metadata": {},
     "output_type": "execute_result"
    },
    {
     "data": {
      "text/plain": [
       "{'msg': 'Saved', 'code': 200, 'data': None, 'sdkErrorCode': 0}"
      ]
     },
     "execution_count": 13,
     "metadata": {},
     "output_type": "execute_result"
    },
    {
     "data": {
      "text/plain": [
       "{'msg': 'Saved', 'code': 200, 'data': None, 'sdkErrorCode': 0}"
      ]
     },
     "execution_count": 13,
     "metadata": {},
     "output_type": "execute_result"
    },
    {
     "data": {
      "text/plain": [
       "{'msg': 'Saved', 'code': 200, 'data': None, 'sdkErrorCode': 0}"
      ]
     },
     "execution_count": 13,
     "metadata": {},
     "output_type": "execute_result"
    },
    {
     "data": {
      "text/plain": [
       "{'msg': 'Saved', 'code': 200, 'data': None, 'sdkErrorCode': 0}"
      ]
     },
     "execution_count": 13,
     "metadata": {},
     "output_type": "execute_result"
    },
    {
     "data": {
      "text/plain": [
       "{'msg': 'Saved', 'code': 200, 'data': None, 'sdkErrorCode': 0}"
      ]
     },
     "execution_count": 13,
     "metadata": {},
     "output_type": "execute_result"
    },
    {
     "data": {
      "text/plain": [
       "{'msg': 'Saved', 'code': 200, 'data': None, 'sdkErrorCode': 0}"
      ]
     },
     "execution_count": 13,
     "metadata": {},
     "output_type": "execute_result"
    },
    {
     "data": {
      "text/plain": [
       "{'msg': 'Saved', 'code': 200, 'data': None, 'sdkErrorCode': 0}"
      ]
     },
     "execution_count": 13,
     "metadata": {},
     "output_type": "execute_result"
    },
    {
     "data": {
      "text/plain": [
       "{'msg': 'Saved', 'code': 200, 'data': None, 'sdkErrorCode': 0}"
      ]
     },
     "execution_count": 13,
     "metadata": {},
     "output_type": "execute_result"
    },
    {
     "data": {
      "text/plain": [
       "{'msg': 'Saved', 'code': 200, 'data': None, 'sdkErrorCode': 0}"
      ]
     },
     "execution_count": 13,
     "metadata": {},
     "output_type": "execute_result"
    },
    {
     "data": {
      "text/plain": [
       "{'msg': 'Saved', 'code': 200, 'data': None, 'sdkErrorCode': 0}"
      ]
     },
     "execution_count": 13,
     "metadata": {},
     "output_type": "execute_result"
    },
    {
     "data": {
      "text/plain": [
       "{'msg': 'Saved', 'code': 200, 'data': None, 'sdkErrorCode': 0}"
      ]
     },
     "execution_count": 13,
     "metadata": {},
     "output_type": "execute_result"
    },
    {
     "data": {
      "text/plain": [
       "{'msg': 'Saved', 'code': 200, 'data': None, 'sdkErrorCode': 0}"
      ]
     },
     "execution_count": 13,
     "metadata": {},
     "output_type": "execute_result"
    },
    {
     "data": {
      "text/plain": [
       "{'msg': 'Saved', 'code': 200, 'data': None, 'sdkErrorCode': 0}"
      ]
     },
     "execution_count": 13,
     "metadata": {},
     "output_type": "execute_result"
    },
    {
     "data": {
      "text/plain": [
       "{'msg': 'Saved', 'code': 200, 'data': None, 'sdkErrorCode': 0}"
      ]
     },
     "execution_count": 13,
     "metadata": {},
     "output_type": "execute_result"
    },
    {
     "data": {
      "text/plain": [
       "{'msg': 'Saved', 'code': 200, 'data': None, 'sdkErrorCode': 0}"
      ]
     },
     "execution_count": 13,
     "metadata": {},
     "output_type": "execute_result"
    },
    {
     "data": {
      "text/plain": [
       "{'msg': 'Saved', 'code': 200, 'data': None, 'sdkErrorCode': 0}"
      ]
     },
     "execution_count": 13,
     "metadata": {},
     "output_type": "execute_result"
    },
    {
     "data": {
      "text/plain": [
       "{'msg': 'Saved', 'code': 200, 'data': None, 'sdkErrorCode': 0}"
      ]
     },
     "execution_count": 13,
     "metadata": {},
     "output_type": "execute_result"
    },
    {
     "data": {
      "text/plain": [
       "{'msg': 'Saved', 'code': 200, 'data': None, 'sdkErrorCode': 0}"
      ]
     },
     "execution_count": 13,
     "metadata": {},
     "output_type": "execute_result"
    },
    {
     "data": {
      "text/plain": [
       "{'msg': 'Saved', 'code': 200, 'data': None, 'sdkErrorCode': 0}"
      ]
     },
     "execution_count": 13,
     "metadata": {},
     "output_type": "execute_result"
    },
    {
     "data": {
      "text/plain": [
       "{'msg': 'Saved', 'code': 200, 'data': None, 'sdkErrorCode': 0}"
      ]
     },
     "execution_count": 13,
     "metadata": {},
     "output_type": "execute_result"
    },
    {
     "data": {
      "text/plain": [
       "{'msg': 'Saved', 'code': 200, 'data': None, 'sdkErrorCode': 0}"
      ]
     },
     "execution_count": 13,
     "metadata": {},
     "output_type": "execute_result"
    },
    {
     "data": {
      "text/plain": [
       "{'msg': 'Saved', 'code': 200, 'data': None, 'sdkErrorCode': 0}"
      ]
     },
     "execution_count": 13,
     "metadata": {},
     "output_type": "execute_result"
    },
    {
     "data": {
      "text/plain": [
       "{'msg': 'Saved', 'code': 200, 'data': None, 'sdkErrorCode': 0}"
      ]
     },
     "execution_count": 13,
     "metadata": {},
     "output_type": "execute_result"
    },
    {
     "data": {
      "text/plain": [
       "{'msg': 'Saved', 'code': 200, 'data': None, 'sdkErrorCode': 0}"
      ]
     },
     "execution_count": 13,
     "metadata": {},
     "output_type": "execute_result"
    },
    {
     "data": {
      "text/plain": [
       "{'msg': 'Saved', 'code': 200, 'data': None, 'sdkErrorCode': 0}"
      ]
     },
     "execution_count": 13,
     "metadata": {},
     "output_type": "execute_result"
    },
    {
     "data": {
      "text/plain": [
       "{'msg': 'Saved', 'code': 200, 'data': None, 'sdkErrorCode': 0}"
      ]
     },
     "execution_count": 13,
     "metadata": {},
     "output_type": "execute_result"
    },
    {
     "data": {
      "text/plain": [
       "{'msg': 'Saved', 'code': 200, 'data': None, 'sdkErrorCode': 0}"
      ]
     },
     "execution_count": 13,
     "metadata": {},
     "output_type": "execute_result"
    },
    {
     "data": {
      "text/plain": [
       "{'msg': 'Saved', 'code': 200, 'data': None, 'sdkErrorCode': 0}"
      ]
     },
     "execution_count": 13,
     "metadata": {},
     "output_type": "execute_result"
    },
    {
     "data": {
      "text/plain": [
       "{'msg': 'Saved', 'code': 200, 'data': None, 'sdkErrorCode': 0}"
      ]
     },
     "execution_count": 13,
     "metadata": {},
     "output_type": "execute_result"
    },
    {
     "data": {
      "text/plain": [
       "{'msg': 'Saved', 'code': 200, 'data': None, 'sdkErrorCode': 0}"
      ]
     },
     "execution_count": 13,
     "metadata": {},
     "output_type": "execute_result"
    },
    {
     "data": {
      "text/plain": [
       "{'msg': 'Saved', 'code': 200, 'data': None, 'sdkErrorCode': 0}"
      ]
     },
     "execution_count": 13,
     "metadata": {},
     "output_type": "execute_result"
    },
    {
     "data": {
      "text/plain": [
       "{'msg': 'Saved', 'code': 200, 'data': None, 'sdkErrorCode': 0}"
      ]
     },
     "execution_count": 13,
     "metadata": {},
     "output_type": "execute_result"
    },
    {
     "data": {
      "text/plain": [
       "{'msg': 'Saved', 'code': 200, 'data': None, 'sdkErrorCode': 0}"
      ]
     },
     "execution_count": 13,
     "metadata": {},
     "output_type": "execute_result"
    },
    {
     "data": {
      "text/plain": [
       "{'msg': 'Saved', 'code': 200, 'data': None, 'sdkErrorCode': 0}"
      ]
     },
     "execution_count": 13,
     "metadata": {},
     "output_type": "execute_result"
    },
    {
     "data": {
      "text/plain": [
       "{'msg': 'Saved', 'code': 200, 'data': None, 'sdkErrorCode': 0}"
      ]
     },
     "execution_count": 13,
     "metadata": {},
     "output_type": "execute_result"
    },
    {
     "data": {
      "text/plain": [
       "{'msg': 'Saved', 'code': 200, 'data': None, 'sdkErrorCode': 0}"
      ]
     },
     "execution_count": 13,
     "metadata": {},
     "output_type": "execute_result"
    },
    {
     "data": {
      "text/plain": [
       "{'msg': 'Saved', 'code': 200, 'data': None, 'sdkErrorCode': 0}"
      ]
     },
     "execution_count": 13,
     "metadata": {},
     "output_type": "execute_result"
    },
    {
     "data": {
      "text/plain": [
       "{'msg': 'Saved', 'code': 200, 'data': None, 'sdkErrorCode': 0}"
      ]
     },
     "execution_count": 13,
     "metadata": {},
     "output_type": "execute_result"
    },
    {
     "data": {
      "text/plain": [
       "{'msg': 'Saved', 'code': 200, 'data': None, 'sdkErrorCode': 0}"
      ]
     },
     "execution_count": 13,
     "metadata": {},
     "output_type": "execute_result"
    },
    {
     "data": {
      "text/plain": [
       "{'msg': 'Saved', 'code': 200, 'data': None, 'sdkErrorCode': 0}"
      ]
     },
     "execution_count": 13,
     "metadata": {},
     "output_type": "execute_result"
    },
    {
     "data": {
      "text/plain": [
       "{'msg': 'Saved', 'code': 200, 'data': None, 'sdkErrorCode': 0}"
      ]
     },
     "execution_count": 13,
     "metadata": {},
     "output_type": "execute_result"
    },
    {
     "data": {
      "text/plain": [
       "{'msg': 'Saved', 'code': 200, 'data': None, 'sdkErrorCode': 0}"
      ]
     },
     "execution_count": 13,
     "metadata": {},
     "output_type": "execute_result"
    },
    {
     "data": {
      "text/plain": [
       "{'msg': 'Saved', 'code': 200, 'data': None, 'sdkErrorCode': 0}"
      ]
     },
     "execution_count": 13,
     "metadata": {},
     "output_type": "execute_result"
    },
    {
     "data": {
      "text/plain": [
       "{'msg': 'Saved', 'code': 200, 'data': None, 'sdkErrorCode': 0}"
      ]
     },
     "execution_count": 13,
     "metadata": {},
     "output_type": "execute_result"
    },
    {
     "data": {
      "text/plain": [
       "{'msg': 'Saved', 'code': 200, 'data': None, 'sdkErrorCode': 0}"
      ]
     },
     "execution_count": 13,
     "metadata": {},
     "output_type": "execute_result"
    },
    {
     "data": {
      "text/plain": [
       "{'msg': 'Saved', 'code': 200, 'data': None, 'sdkErrorCode': 0}"
      ]
     },
     "execution_count": 13,
     "metadata": {},
     "output_type": "execute_result"
    },
    {
     "data": {
      "text/plain": [
       "{'msg': 'Saved', 'code': 200, 'data': None, 'sdkErrorCode': 0}"
      ]
     },
     "execution_count": 13,
     "metadata": {},
     "output_type": "execute_result"
    },
    {
     "data": {
      "text/plain": [
       "{'msg': 'Saved', 'code': 200, 'data': None, 'sdkErrorCode': 0}"
      ]
     },
     "execution_count": 13,
     "metadata": {},
     "output_type": "execute_result"
    },
    {
     "data": {
      "text/plain": [
       "{'msg': 'Saved', 'code': 200, 'data': None, 'sdkErrorCode': 0}"
      ]
     },
     "execution_count": 13,
     "metadata": {},
     "output_type": "execute_result"
    },
    {
     "data": {
      "text/plain": [
       "{'msg': 'Saved', 'code': 200, 'data': None, 'sdkErrorCode': 0}"
      ]
     },
     "execution_count": 13,
     "metadata": {},
     "output_type": "execute_result"
    },
    {
     "data": {
      "text/plain": [
       "{'msg': 'Saved', 'code': 200, 'data': None, 'sdkErrorCode': 0}"
      ]
     },
     "execution_count": 13,
     "metadata": {},
     "output_type": "execute_result"
    },
    {
     "data": {
      "text/plain": [
       "{'msg': 'Saved', 'code': 200, 'data': None, 'sdkErrorCode': 0}"
      ]
     },
     "execution_count": 13,
     "metadata": {},
     "output_type": "execute_result"
    },
    {
     "data": {
      "text/plain": [
       "{'msg': 'Saved', 'code': 200, 'data': None, 'sdkErrorCode': 0}"
      ]
     },
     "execution_count": 13,
     "metadata": {},
     "output_type": "execute_result"
    },
    {
     "data": {
      "text/plain": [
       "{'msg': 'Saved', 'code': 200, 'data': None, 'sdkErrorCode': 0}"
      ]
     },
     "execution_count": 13,
     "metadata": {},
     "output_type": "execute_result"
    },
    {
     "data": {
      "text/plain": [
       "{'msg': 'Saved', 'code': 200, 'data': None, 'sdkErrorCode': 0}"
      ]
     },
     "execution_count": 13,
     "metadata": {},
     "output_type": "execute_result"
    },
    {
     "data": {
      "text/plain": [
       "{'msg': 'Saved', 'code': 200, 'data': None, 'sdkErrorCode': 0}"
      ]
     },
     "execution_count": 13,
     "metadata": {},
     "output_type": "execute_result"
    },
    {
     "data": {
      "text/plain": [
       "{'msg': 'Saved', 'code': 200, 'data': None, 'sdkErrorCode': 0}"
      ]
     },
     "execution_count": 13,
     "metadata": {},
     "output_type": "execute_result"
    },
    {
     "data": {
      "text/plain": [
       "{'msg': 'Saved', 'code': 200, 'data': None, 'sdkErrorCode': 0}"
      ]
     },
     "execution_count": 13,
     "metadata": {},
     "output_type": "execute_result"
    },
    {
     "data": {
      "text/plain": [
       "{'msg': 'Saved', 'code': 200, 'data': None, 'sdkErrorCode': 0}"
      ]
     },
     "execution_count": 13,
     "metadata": {},
     "output_type": "execute_result"
    },
    {
     "data": {
      "text/plain": [
       "{'msg': 'Saved', 'code': 200, 'data': None, 'sdkErrorCode': 0}"
      ]
     },
     "execution_count": 13,
     "metadata": {},
     "output_type": "execute_result"
    },
    {
     "data": {
      "text/plain": [
       "{'msg': 'Saved', 'code': 200, 'data': None, 'sdkErrorCode': 0}"
      ]
     },
     "execution_count": 13,
     "metadata": {},
     "output_type": "execute_result"
    },
    {
     "data": {
      "text/plain": [
       "{'msg': 'Saved', 'code': 200, 'data': None, 'sdkErrorCode': 0}"
      ]
     },
     "execution_count": 13,
     "metadata": {},
     "output_type": "execute_result"
    },
    {
     "data": {
      "text/plain": [
       "{'msg': 'Saved', 'code': 200, 'data': None, 'sdkErrorCode': 0}"
      ]
     },
     "execution_count": 13,
     "metadata": {},
     "output_type": "execute_result"
    },
    {
     "data": {
      "text/plain": [
       "{'msg': 'Saved', 'code': 200, 'data': None, 'sdkErrorCode': 0}"
      ]
     },
     "execution_count": 13,
     "metadata": {},
     "output_type": "execute_result"
    },
    {
     "data": {
      "text/plain": [
       "{'msg': 'Saved', 'code': 200, 'data': None, 'sdkErrorCode': 0}"
      ]
     },
     "execution_count": 13,
     "metadata": {},
     "output_type": "execute_result"
    },
    {
     "data": {
      "text/plain": [
       "{'msg': 'Saved', 'code': 200, 'data': None, 'sdkErrorCode': 0}"
      ]
     },
     "execution_count": 13,
     "metadata": {},
     "output_type": "execute_result"
    },
    {
     "data": {
      "text/plain": [
       "{'msg': 'Saved', 'code': 200, 'data': None, 'sdkErrorCode': 0}"
      ]
     },
     "execution_count": 13,
     "metadata": {},
     "output_type": "execute_result"
    },
    {
     "data": {
      "text/plain": [
       "{'msg': 'Saved', 'code': 200, 'data': None, 'sdkErrorCode': 0}"
      ]
     },
     "execution_count": 13,
     "metadata": {},
     "output_type": "execute_result"
    },
    {
     "data": {
      "text/plain": [
       "{'msg': 'Saved', 'code': 200, 'data': None, 'sdkErrorCode': 0}"
      ]
     },
     "execution_count": 13,
     "metadata": {},
     "output_type": "execute_result"
    },
    {
     "data": {
      "text/plain": [
       "{'msg': 'Saved', 'code': 200, 'data': None, 'sdkErrorCode': 0}"
      ]
     },
     "execution_count": 13,
     "metadata": {},
     "output_type": "execute_result"
    },
    {
     "data": {
      "text/plain": [
       "{'msg': 'Saved', 'code': 200, 'data': None, 'sdkErrorCode': 0}"
      ]
     },
     "execution_count": 13,
     "metadata": {},
     "output_type": "execute_result"
    },
    {
     "data": {
      "text/plain": [
       "{'msg': 'Saved', 'code': 200, 'data': None, 'sdkErrorCode': 0}"
      ]
     },
     "execution_count": 13,
     "metadata": {},
     "output_type": "execute_result"
    },
    {
     "data": {
      "text/plain": [
       "{'msg': 'Saved', 'code': 200, 'data': None, 'sdkErrorCode': 0}"
      ]
     },
     "execution_count": 13,
     "metadata": {},
     "output_type": "execute_result"
    },
    {
     "data": {
      "text/plain": [
       "{'msg': 'Saved', 'code': 200, 'data': None, 'sdkErrorCode': 0}"
      ]
     },
     "execution_count": 13,
     "metadata": {},
     "output_type": "execute_result"
    },
    {
     "data": {
      "text/plain": [
       "{'msg': 'Saved', 'code': 200, 'data': None, 'sdkErrorCode': 0}"
      ]
     },
     "execution_count": 13,
     "metadata": {},
     "output_type": "execute_result"
    },
    {
     "data": {
      "text/plain": [
       "{'msg': 'Saved', 'code': 200, 'data': None, 'sdkErrorCode': 0}"
      ]
     },
     "execution_count": 13,
     "metadata": {},
     "output_type": "execute_result"
    },
    {
     "data": {
      "text/plain": [
       "{'msg': 'Saved', 'code': 200, 'data': None, 'sdkErrorCode': 0}"
      ]
     },
     "execution_count": 13,
     "metadata": {},
     "output_type": "execute_result"
    },
    {
     "data": {
      "text/plain": [
       "{'msg': 'Saved', 'code': 200, 'data': None, 'sdkErrorCode': 0}"
      ]
     },
     "execution_count": 13,
     "metadata": {},
     "output_type": "execute_result"
    },
    {
     "data": {
      "text/plain": [
       "{'msg': 'Saved', 'code': 200, 'data': None, 'sdkErrorCode': 0}"
      ]
     },
     "execution_count": 13,
     "metadata": {},
     "output_type": "execute_result"
    },
    {
     "data": {
      "text/plain": [
       "{'msg': 'Saved', 'code': 200, 'data': None, 'sdkErrorCode': 0}"
      ]
     },
     "execution_count": 13,
     "metadata": {},
     "output_type": "execute_result"
    },
    {
     "data": {
      "text/plain": [
       "{'msg': 'Saved', 'code': 200, 'data': None, 'sdkErrorCode': 0}"
      ]
     },
     "execution_count": 13,
     "metadata": {},
     "output_type": "execute_result"
    },
    {
     "data": {
      "text/plain": [
       "{'msg': 'Saved', 'code': 200, 'data': None, 'sdkErrorCode': 0}"
      ]
     },
     "execution_count": 13,
     "metadata": {},
     "output_type": "execute_result"
    },
    {
     "data": {
      "text/plain": [
       "{'msg': 'Saved', 'code': 200, 'data': None, 'sdkErrorCode': 0}"
      ]
     },
     "execution_count": 13,
     "metadata": {},
     "output_type": "execute_result"
    },
    {
     "data": {
      "text/plain": [
       "{'msg': 'Saved', 'code': 200, 'data': None, 'sdkErrorCode': 0}"
      ]
     },
     "execution_count": 13,
     "metadata": {},
     "output_type": "execute_result"
    },
    {
     "data": {
      "text/plain": [
       "{'msg': 'Saved', 'code': 200, 'data': None, 'sdkErrorCode': 0}"
      ]
     },
     "execution_count": 13,
     "metadata": {},
     "output_type": "execute_result"
    },
    {
     "data": {
      "text/plain": [
       "{'msg': 'Saved', 'code': 200, 'data': None, 'sdkErrorCode': 0}"
      ]
     },
     "execution_count": 13,
     "metadata": {},
     "output_type": "execute_result"
    },
    {
     "data": {
      "text/plain": [
       "{'msg': 'Saved', 'code': 200, 'data': None, 'sdkErrorCode': 0}"
      ]
     },
     "execution_count": 13,
     "metadata": {},
     "output_type": "execute_result"
    },
    {
     "data": {
      "text/plain": [
       "{'msg': 'Saved', 'code': 200, 'data': None, 'sdkErrorCode': 0}"
      ]
     },
     "execution_count": 13,
     "metadata": {},
     "output_type": "execute_result"
    },
    {
     "data": {
      "text/plain": [
       "{'msg': 'Saved', 'code': 200, 'data': None, 'sdkErrorCode': 0}"
      ]
     },
     "execution_count": 13,
     "metadata": {},
     "output_type": "execute_result"
    },
    {
     "data": {
      "text/plain": [
       "{'msg': 'Saved', 'code': 200, 'data': None, 'sdkErrorCode': 0}"
      ]
     },
     "execution_count": 13,
     "metadata": {},
     "output_type": "execute_result"
    },
    {
     "data": {
      "text/plain": [
       "{'msg': 'Saved', 'code': 200, 'data': None, 'sdkErrorCode': 0}"
      ]
     },
     "execution_count": 13,
     "metadata": {},
     "output_type": "execute_result"
    },
    {
     "data": {
      "text/plain": [
       "{'msg': 'Saved', 'code': 200, 'data': None, 'sdkErrorCode': 0}"
      ]
     },
     "execution_count": 13,
     "metadata": {},
     "output_type": "execute_result"
    },
    {
     "data": {
      "text/plain": [
       "{'msg': 'Saved', 'code': 200, 'data': None, 'sdkErrorCode': 0}"
      ]
     },
     "execution_count": 13,
     "metadata": {},
     "output_type": "execute_result"
    },
    {
     "data": {
      "text/plain": [
       "{'msg': 'Saved', 'code': 200, 'data': None, 'sdkErrorCode': 0}"
      ]
     },
     "execution_count": 13,
     "metadata": {},
     "output_type": "execute_result"
    },
    {
     "data": {
      "text/plain": [
       "{'msg': 'Saved', 'code': 200, 'data': None, 'sdkErrorCode': 0}"
      ]
     },
     "execution_count": 13,
     "metadata": {},
     "output_type": "execute_result"
    },
    {
     "data": {
      "text/plain": [
       "{'msg': 'Saved', 'code': 200, 'data': None, 'sdkErrorCode': 0}"
      ]
     },
     "execution_count": 13,
     "metadata": {},
     "output_type": "execute_result"
    },
    {
     "data": {
      "text/plain": [
       "{'msg': 'Saved', 'code': 200, 'data': None, 'sdkErrorCode': 0}"
      ]
     },
     "execution_count": 13,
     "metadata": {},
     "output_type": "execute_result"
    },
    {
     "data": {
      "text/plain": [
       "{'msg': 'Saved', 'code': 200, 'data': None, 'sdkErrorCode': 0}"
      ]
     },
     "execution_count": 13,
     "metadata": {},
     "output_type": "execute_result"
    },
    {
     "data": {
      "text/plain": [
       "{'msg': 'Saved', 'code': 200, 'data': None, 'sdkErrorCode': 0}"
      ]
     },
     "execution_count": 13,
     "metadata": {},
     "output_type": "execute_result"
    },
    {
     "data": {
      "text/plain": [
       "{'msg': 'Saved', 'code': 200, 'data': None, 'sdkErrorCode': 0}"
      ]
     },
     "execution_count": 13,
     "metadata": {},
     "output_type": "execute_result"
    },
    {
     "data": {
      "text/plain": [
       "{'msg': 'Saved', 'code': 200, 'data': None, 'sdkErrorCode': 0}"
      ]
     },
     "execution_count": 13,
     "metadata": {},
     "output_type": "execute_result"
    },
    {
     "data": {
      "text/plain": [
       "{'msg': 'Saved', 'code': 200, 'data': None, 'sdkErrorCode': 0}"
      ]
     },
     "execution_count": 13,
     "metadata": {},
     "output_type": "execute_result"
    },
    {
     "data": {
      "text/plain": [
       "{'msg': 'Saved', 'code': 200, 'data': None, 'sdkErrorCode': 0}"
      ]
     },
     "execution_count": 13,
     "metadata": {},
     "output_type": "execute_result"
    },
    {
     "data": {
      "text/plain": [
       "{'msg': 'Saved', 'code': 200, 'data': None, 'sdkErrorCode': 0}"
      ]
     },
     "execution_count": 13,
     "metadata": {},
     "output_type": "execute_result"
    },
    {
     "data": {
      "text/plain": [
       "{'msg': 'Saved', 'code': 200, 'data': None, 'sdkErrorCode': 0}"
      ]
     },
     "execution_count": 13,
     "metadata": {},
     "output_type": "execute_result"
    },
    {
     "data": {
      "text/plain": [
       "{'msg': 'Saved', 'code': 200, 'data': None, 'sdkErrorCode': 0}"
      ]
     },
     "execution_count": 13,
     "metadata": {},
     "output_type": "execute_result"
    },
    {
     "data": {
      "text/plain": [
       "{'msg': 'Saved', 'code': 200, 'data': None, 'sdkErrorCode': 0}"
      ]
     },
     "execution_count": 13,
     "metadata": {},
     "output_type": "execute_result"
    },
    {
     "data": {
      "text/plain": [
       "{'msg': 'Saved', 'code': 200, 'data': None, 'sdkErrorCode': 0}"
      ]
     },
     "execution_count": 13,
     "metadata": {},
     "output_type": "execute_result"
    },
    {
     "data": {
      "text/plain": [
       "{'msg': 'Saved', 'code': 200, 'data': None, 'sdkErrorCode': 0}"
      ]
     },
     "execution_count": 13,
     "metadata": {},
     "output_type": "execute_result"
    },
    {
     "data": {
      "text/plain": [
       "{'msg': 'Saved', 'code': 200, 'data': None, 'sdkErrorCode': 0}"
      ]
     },
     "execution_count": 13,
     "metadata": {},
     "output_type": "execute_result"
    },
    {
     "data": {
      "text/plain": [
       "{'msg': 'Saved', 'code': 200, 'data': None, 'sdkErrorCode': 0}"
      ]
     },
     "execution_count": 13,
     "metadata": {},
     "output_type": "execute_result"
    },
    {
     "data": {
      "text/plain": [
       "{'msg': 'Saved', 'code': 200, 'data': None, 'sdkErrorCode': 0}"
      ]
     },
     "execution_count": 13,
     "metadata": {},
     "output_type": "execute_result"
    },
    {
     "data": {
      "text/plain": [
       "{'msg': 'Saved', 'code': 200, 'data': None, 'sdkErrorCode': 0}"
      ]
     },
     "execution_count": 13,
     "metadata": {},
     "output_type": "execute_result"
    },
    {
     "data": {
      "text/plain": [
       "{'msg': 'Saved', 'code': 200, 'data': None, 'sdkErrorCode': 0}"
      ]
     },
     "execution_count": 13,
     "metadata": {},
     "output_type": "execute_result"
    },
    {
     "data": {
      "text/plain": [
       "{'msg': 'Saved', 'code': 200, 'data': None, 'sdkErrorCode': 0}"
      ]
     },
     "execution_count": 13,
     "metadata": {},
     "output_type": "execute_result"
    },
    {
     "data": {
      "text/plain": [
       "{'msg': 'Saved', 'code': 200, 'data': None, 'sdkErrorCode': 0}"
      ]
     },
     "execution_count": 13,
     "metadata": {},
     "output_type": "execute_result"
    },
    {
     "data": {
      "text/plain": [
       "{'msg': 'Saved', 'code': 200, 'data': None, 'sdkErrorCode': 0}"
      ]
     },
     "execution_count": 13,
     "metadata": {},
     "output_type": "execute_result"
    },
    {
     "data": {
      "text/plain": [
       "{'msg': 'Saved', 'code': 200, 'data': None, 'sdkErrorCode': 0}"
      ]
     },
     "execution_count": 13,
     "metadata": {},
     "output_type": "execute_result"
    },
    {
     "data": {
      "text/plain": [
       "{'msg': 'Saved', 'code': 200, 'data': None, 'sdkErrorCode': 0}"
      ]
     },
     "execution_count": 13,
     "metadata": {},
     "output_type": "execute_result"
    },
    {
     "data": {
      "text/plain": [
       "{'msg': 'Saved', 'code': 200, 'data': None, 'sdkErrorCode': 0}"
      ]
     },
     "execution_count": 13,
     "metadata": {},
     "output_type": "execute_result"
    },
    {
     "data": {
      "text/plain": [
       "{'msg': 'Saved', 'code': 200, 'data': None, 'sdkErrorCode': 0}"
      ]
     },
     "execution_count": 13,
     "metadata": {},
     "output_type": "execute_result"
    },
    {
     "data": {
      "text/plain": [
       "{'msg': 'Saved', 'code': 200, 'data': None, 'sdkErrorCode': 0}"
      ]
     },
     "execution_count": 13,
     "metadata": {},
     "output_type": "execute_result"
    },
    {
     "data": {
      "text/plain": [
       "{'msg': 'Saved', 'code': 200, 'data': None, 'sdkErrorCode': 0}"
      ]
     },
     "execution_count": 13,
     "metadata": {},
     "output_type": "execute_result"
    },
    {
     "data": {
      "text/plain": [
       "{'msg': 'Saved', 'code': 200, 'data': None, 'sdkErrorCode': 0}"
      ]
     },
     "execution_count": 13,
     "metadata": {},
     "output_type": "execute_result"
    },
    {
     "data": {
      "text/plain": [
       "{'msg': 'Saved', 'code': 200, 'data': None, 'sdkErrorCode': 0}"
      ]
     },
     "execution_count": 13,
     "metadata": {},
     "output_type": "execute_result"
    },
    {
     "data": {
      "text/plain": [
       "{'msg': 'Saved', 'code': 200, 'data': None, 'sdkErrorCode': 0}"
      ]
     },
     "execution_count": 13,
     "metadata": {},
     "output_type": "execute_result"
    },
    {
     "data": {
      "text/plain": [
       "{'msg': 'Saved', 'code': 200, 'data': None, 'sdkErrorCode': 0}"
      ]
     },
     "execution_count": 13,
     "metadata": {},
     "output_type": "execute_result"
    },
    {
     "data": {
      "text/plain": [
       "{'msg': 'Saved', 'code': 200, 'data': None, 'sdkErrorCode': 0}"
      ]
     },
     "execution_count": 13,
     "metadata": {},
     "output_type": "execute_result"
    },
    {
     "data": {
      "text/plain": [
       "{'msg': 'Saved', 'code': 200, 'data': None, 'sdkErrorCode': 0}"
      ]
     },
     "execution_count": 13,
     "metadata": {},
     "output_type": "execute_result"
    },
    {
     "data": {
      "text/plain": [
       "{'msg': 'Saved', 'code': 200, 'data': None, 'sdkErrorCode': 0}"
      ]
     },
     "execution_count": 13,
     "metadata": {},
     "output_type": "execute_result"
    },
    {
     "data": {
      "text/plain": [
       "{'msg': 'Saved', 'code': 200, 'data': None, 'sdkErrorCode': 0}"
      ]
     },
     "execution_count": 13,
     "metadata": {},
     "output_type": "execute_result"
    },
    {
     "data": {
      "text/plain": [
       "{'msg': 'Saved', 'code': 200, 'data': None, 'sdkErrorCode': 0}"
      ]
     },
     "execution_count": 13,
     "metadata": {},
     "output_type": "execute_result"
    },
    {
     "data": {
      "text/plain": [
       "{'msg': 'Saved', 'code': 200, 'data': None, 'sdkErrorCode': 0}"
      ]
     },
     "execution_count": 13,
     "metadata": {},
     "output_type": "execute_result"
    },
    {
     "data": {
      "text/plain": [
       "{'msg': 'Saved', 'code': 200, 'data': None, 'sdkErrorCode': 0}"
      ]
     },
     "execution_count": 13,
     "metadata": {},
     "output_type": "execute_result"
    },
    {
     "data": {
      "text/plain": [
       "{'msg': 'Saved', 'code': 200, 'data': None, 'sdkErrorCode': 0}"
      ]
     },
     "execution_count": 13,
     "metadata": {},
     "output_type": "execute_result"
    },
    {
     "data": {
      "text/plain": [
       "{'msg': 'Saved', 'code': 200, 'data': None, 'sdkErrorCode': 0}"
      ]
     },
     "execution_count": 13,
     "metadata": {},
     "output_type": "execute_result"
    },
    {
     "data": {
      "text/plain": [
       "{'msg': 'Saved', 'code': 200, 'data': None, 'sdkErrorCode': 0}"
      ]
     },
     "execution_count": 13,
     "metadata": {},
     "output_type": "execute_result"
    },
    {
     "data": {
      "text/plain": [
       "{'msg': 'Saved', 'code': 200, 'data': None, 'sdkErrorCode': 0}"
      ]
     },
     "execution_count": 13,
     "metadata": {},
     "output_type": "execute_result"
    },
    {
     "data": {
      "text/plain": [
       "{'msg': 'Saved', 'code': 200, 'data': None, 'sdkErrorCode': 0}"
      ]
     },
     "execution_count": 13,
     "metadata": {},
     "output_type": "execute_result"
    },
    {
     "data": {
      "text/plain": [
       "{'msg': 'Saved', 'code': 200, 'data': None, 'sdkErrorCode': 0}"
      ]
     },
     "execution_count": 13,
     "metadata": {},
     "output_type": "execute_result"
    },
    {
     "data": {
      "text/plain": [
       "{'msg': 'Saved', 'code': 200, 'data': None, 'sdkErrorCode': 0}"
      ]
     },
     "execution_count": 13,
     "metadata": {},
     "output_type": "execute_result"
    },
    {
     "data": {
      "text/plain": [
       "{'msg': 'Saved', 'code': 200, 'data': None, 'sdkErrorCode': 0}"
      ]
     },
     "execution_count": 13,
     "metadata": {},
     "output_type": "execute_result"
    },
    {
     "data": {
      "text/plain": [
       "{'msg': 'Saved', 'code': 200, 'data': None, 'sdkErrorCode': 0}"
      ]
     },
     "execution_count": 13,
     "metadata": {},
     "output_type": "execute_result"
    },
    {
     "data": {
      "text/plain": [
       "{'msg': 'Saved', 'code': 200, 'data': None, 'sdkErrorCode': 0}"
      ]
     },
     "execution_count": 13,
     "metadata": {},
     "output_type": "execute_result"
    },
    {
     "data": {
      "text/plain": [
       "{'msg': 'Saved', 'code': 200, 'data': None, 'sdkErrorCode': 0}"
      ]
     },
     "execution_count": 13,
     "metadata": {},
     "output_type": "execute_result"
    },
    {
     "data": {
      "text/plain": [
       "{'msg': 'Saved', 'code': 200, 'data': None, 'sdkErrorCode': 0}"
      ]
     },
     "execution_count": 13,
     "metadata": {},
     "output_type": "execute_result"
    },
    {
     "data": {
      "text/plain": [
       "{'msg': 'Saved', 'code': 200, 'data': None, 'sdkErrorCode': 0}"
      ]
     },
     "execution_count": 13,
     "metadata": {},
     "output_type": "execute_result"
    },
    {
     "data": {
      "text/plain": [
       "{'msg': 'Saved', 'code': 200, 'data': None, 'sdkErrorCode': 0}"
      ]
     },
     "execution_count": 13,
     "metadata": {},
     "output_type": "execute_result"
    },
    {
     "data": {
      "text/plain": [
       "{'msg': 'Saved', 'code': 200, 'data': None, 'sdkErrorCode': 0}"
      ]
     },
     "execution_count": 13,
     "metadata": {},
     "output_type": "execute_result"
    },
    {
     "data": {
      "text/plain": [
       "{'msg': 'Saved', 'code': 200, 'data': None, 'sdkErrorCode': 0}"
      ]
     },
     "execution_count": 13,
     "metadata": {},
     "output_type": "execute_result"
    },
    {
     "data": {
      "text/plain": [
       "{'msg': 'Saved', 'code': 200, 'data': None, 'sdkErrorCode': 0}"
      ]
     },
     "execution_count": 13,
     "metadata": {},
     "output_type": "execute_result"
    },
    {
     "data": {
      "text/plain": [
       "{'msg': 'Saved', 'code': 200, 'data': None, 'sdkErrorCode': 0}"
      ]
     },
     "execution_count": 13,
     "metadata": {},
     "output_type": "execute_result"
    },
    {
     "data": {
      "text/plain": [
       "{'msg': 'Saved', 'code': 200, 'data': None, 'sdkErrorCode': 0}"
      ]
     },
     "execution_count": 13,
     "metadata": {},
     "output_type": "execute_result"
    },
    {
     "data": {
      "text/plain": [
       "{'msg': 'Saved', 'code': 200, 'data': None, 'sdkErrorCode': 0}"
      ]
     },
     "execution_count": 13,
     "metadata": {},
     "output_type": "execute_result"
    },
    {
     "data": {
      "text/plain": [
       "{'msg': 'Saved', 'code': 200, 'data': None, 'sdkErrorCode': 0}"
      ]
     },
     "execution_count": 13,
     "metadata": {},
     "output_type": "execute_result"
    },
    {
     "data": {
      "text/plain": [
       "{'msg': 'Saved', 'code': 200, 'data': None, 'sdkErrorCode': 0}"
      ]
     },
     "execution_count": 13,
     "metadata": {},
     "output_type": "execute_result"
    },
    {
     "data": {
      "text/plain": [
       "{'msg': 'Saved', 'code': 200, 'data': None, 'sdkErrorCode': 0}"
      ]
     },
     "execution_count": 13,
     "metadata": {},
     "output_type": "execute_result"
    },
    {
     "data": {
      "text/plain": [
       "{'msg': 'Saved', 'code': 200, 'data': None, 'sdkErrorCode': 0}"
      ]
     },
     "execution_count": 13,
     "metadata": {},
     "output_type": "execute_result"
    },
    {
     "data": {
      "text/plain": [
       "{'msg': 'Saved', 'code': 200, 'data': None, 'sdkErrorCode': 0}"
      ]
     },
     "execution_count": 13,
     "metadata": {},
     "output_type": "execute_result"
    },
    {
     "data": {
      "text/plain": [
       "{'msg': 'Saved', 'code': 200, 'data': None, 'sdkErrorCode': 0}"
      ]
     },
     "execution_count": 13,
     "metadata": {},
     "output_type": "execute_result"
    },
    {
     "data": {
      "text/plain": [
       "{'msg': 'Saved', 'code': 200, 'data': None, 'sdkErrorCode': 0}"
      ]
     },
     "execution_count": 13,
     "metadata": {},
     "output_type": "execute_result"
    },
    {
     "data": {
      "text/plain": [
       "{'msg': 'Saved', 'code': 200, 'data': None, 'sdkErrorCode': 0}"
      ]
     },
     "execution_count": 13,
     "metadata": {},
     "output_type": "execute_result"
    },
    {
     "data": {
      "text/plain": [
       "{'msg': 'Saved', 'code': 200, 'data': None, 'sdkErrorCode': 0}"
      ]
     },
     "execution_count": 13,
     "metadata": {},
     "output_type": "execute_result"
    },
    {
     "data": {
      "text/plain": [
       "{'msg': 'Saved', 'code': 200, 'data': None, 'sdkErrorCode': 0}"
      ]
     },
     "execution_count": 13,
     "metadata": {},
     "output_type": "execute_result"
    },
    {
     "data": {
      "text/plain": [
       "{'msg': 'Saved', 'code': 200, 'data': None, 'sdkErrorCode': 0}"
      ]
     },
     "execution_count": 13,
     "metadata": {},
     "output_type": "execute_result"
    },
    {
     "data": {
      "text/plain": [
       "{'msg': 'Saved', 'code': 200, 'data': None, 'sdkErrorCode': 0}"
      ]
     },
     "execution_count": 13,
     "metadata": {},
     "output_type": "execute_result"
    },
    {
     "data": {
      "text/plain": [
       "{'msg': 'Saved', 'code': 200, 'data': None, 'sdkErrorCode': 0}"
      ]
     },
     "execution_count": 13,
     "metadata": {},
     "output_type": "execute_result"
    },
    {
     "data": {
      "text/plain": [
       "{'msg': 'Saved', 'code': 200, 'data': None, 'sdkErrorCode': 0}"
      ]
     },
     "execution_count": 13,
     "metadata": {},
     "output_type": "execute_result"
    },
    {
     "data": {
      "text/plain": [
       "{'msg': 'Saved', 'code': 200, 'data': None, 'sdkErrorCode': 0}"
      ]
     },
     "execution_count": 13,
     "metadata": {},
     "output_type": "execute_result"
    },
    {
     "data": {
      "text/plain": [
       "{'msg': 'Saved', 'code': 200, 'data': None, 'sdkErrorCode': 0}"
      ]
     },
     "execution_count": 13,
     "metadata": {},
     "output_type": "execute_result"
    },
    {
     "data": {
      "text/plain": [
       "{'msg': 'Saved', 'code': 200, 'data': None, 'sdkErrorCode': 0}"
      ]
     },
     "execution_count": 13,
     "metadata": {},
     "output_type": "execute_result"
    },
    {
     "data": {
      "text/plain": [
       "{'msg': 'Saved', 'code': 200, 'data': None, 'sdkErrorCode': 0}"
      ]
     },
     "execution_count": 13,
     "metadata": {},
     "output_type": "execute_result"
    },
    {
     "data": {
      "text/plain": [
       "{'msg': 'Saved', 'code': 200, 'data': None, 'sdkErrorCode': 0}"
      ]
     },
     "execution_count": 13,
     "metadata": {},
     "output_type": "execute_result"
    },
    {
     "data": {
      "text/plain": [
       "{'msg': 'Saved', 'code': 200, 'data': None, 'sdkErrorCode': 0}"
      ]
     },
     "execution_count": 13,
     "metadata": {},
     "output_type": "execute_result"
    },
    {
     "data": {
      "text/plain": [
       "{'msg': 'Saved', 'code': 200, 'data': None, 'sdkErrorCode': 0}"
      ]
     },
     "execution_count": 13,
     "metadata": {},
     "output_type": "execute_result"
    },
    {
     "data": {
      "text/plain": [
       "{'msg': 'Saved', 'code': 200, 'data': None, 'sdkErrorCode': 0}"
      ]
     },
     "execution_count": 13,
     "metadata": {},
     "output_type": "execute_result"
    },
    {
     "data": {
      "text/plain": [
       "{'msg': 'Saved', 'code': 200, 'data': None, 'sdkErrorCode': 0}"
      ]
     },
     "execution_count": 13,
     "metadata": {},
     "output_type": "execute_result"
    },
    {
     "data": {
      "text/plain": [
       "{'msg': 'Saved', 'code': 200, 'data': None, 'sdkErrorCode': 0}"
      ]
     },
     "execution_count": 13,
     "metadata": {},
     "output_type": "execute_result"
    },
    {
     "data": {
      "text/plain": [
       "{'msg': 'Saved', 'code': 200, 'data': None, 'sdkErrorCode': 0}"
      ]
     },
     "execution_count": 13,
     "metadata": {},
     "output_type": "execute_result"
    },
    {
     "data": {
      "text/plain": [
       "{'msg': 'Saved', 'code': 200, 'data': None, 'sdkErrorCode': 0}"
      ]
     },
     "execution_count": 13,
     "metadata": {},
     "output_type": "execute_result"
    },
    {
     "data": {
      "text/plain": [
       "{'msg': 'Saved', 'code': 200, 'data': None, 'sdkErrorCode': 0}"
      ]
     },
     "execution_count": 13,
     "metadata": {},
     "output_type": "execute_result"
    },
    {
     "data": {
      "text/plain": [
       "{'msg': 'Saved', 'code': 200, 'data': None, 'sdkErrorCode': 0}"
      ]
     },
     "execution_count": 13,
     "metadata": {},
     "output_type": "execute_result"
    },
    {
     "data": {
      "text/plain": [
       "{'msg': 'Saved', 'code': 200, 'data': None, 'sdkErrorCode': 0}"
      ]
     },
     "execution_count": 13,
     "metadata": {},
     "output_type": "execute_result"
    },
    {
     "data": {
      "text/plain": [
       "{'msg': 'Saved', 'code': 200, 'data': None, 'sdkErrorCode': 0}"
      ]
     },
     "execution_count": 13,
     "metadata": {},
     "output_type": "execute_result"
    },
    {
     "data": {
      "text/plain": [
       "{'msg': 'Saved', 'code': 200, 'data': None, 'sdkErrorCode': 0}"
      ]
     },
     "execution_count": 13,
     "metadata": {},
     "output_type": "execute_result"
    },
    {
     "data": {
      "text/plain": [
       "{'msg': 'Saved', 'code': 200, 'data': None, 'sdkErrorCode': 0}"
      ]
     },
     "execution_count": 13,
     "metadata": {},
     "output_type": "execute_result"
    },
    {
     "data": {
      "text/plain": [
       "{'msg': 'Saved', 'code': 200, 'data': None, 'sdkErrorCode': 0}"
      ]
     },
     "execution_count": 13,
     "metadata": {},
     "output_type": "execute_result"
    },
    {
     "data": {
      "text/plain": [
       "{'msg': 'Saved', 'code': 200, 'data': None, 'sdkErrorCode': 0}"
      ]
     },
     "execution_count": 13,
     "metadata": {},
     "output_type": "execute_result"
    },
    {
     "data": {
      "text/plain": [
       "{'msg': 'Saved', 'code': 200, 'data': None, 'sdkErrorCode': 0}"
      ]
     },
     "execution_count": 13,
     "metadata": {},
     "output_type": "execute_result"
    },
    {
     "data": {
      "text/plain": [
       "{'msg': 'Saved', 'code': 200, 'data': None, 'sdkErrorCode': 0}"
      ]
     },
     "execution_count": 13,
     "metadata": {},
     "output_type": "execute_result"
    },
    {
     "data": {
      "text/plain": [
       "{'msg': 'Saved', 'code': 200, 'data': None, 'sdkErrorCode': 0}"
      ]
     },
     "execution_count": 13,
     "metadata": {},
     "output_type": "execute_result"
    },
    {
     "data": {
      "text/plain": [
       "{'msg': 'Saved', 'code': 200, 'data': None, 'sdkErrorCode': 0}"
      ]
     },
     "execution_count": 13,
     "metadata": {},
     "output_type": "execute_result"
    },
    {
     "data": {
      "text/plain": [
       "{'msg': 'Saved', 'code': 200, 'data': None, 'sdkErrorCode': 0}"
      ]
     },
     "execution_count": 13,
     "metadata": {},
     "output_type": "execute_result"
    },
    {
     "data": {
      "text/plain": [
       "{'msg': 'Saved', 'code': 200, 'data': None, 'sdkErrorCode': 0}"
      ]
     },
     "execution_count": 13,
     "metadata": {},
     "output_type": "execute_result"
    },
    {
     "data": {
      "text/plain": [
       "{'msg': 'Saved', 'code': 200, 'data': None, 'sdkErrorCode': 0}"
      ]
     },
     "execution_count": 13,
     "metadata": {},
     "output_type": "execute_result"
    },
    {
     "data": {
      "text/plain": [
       "{'msg': 'Saved', 'code': 200, 'data': None, 'sdkErrorCode': 0}"
      ]
     },
     "execution_count": 13,
     "metadata": {},
     "output_type": "execute_result"
    },
    {
     "data": {
      "text/plain": [
       "{'msg': 'Saved', 'code': 200, 'data': None, 'sdkErrorCode': 0}"
      ]
     },
     "execution_count": 13,
     "metadata": {},
     "output_type": "execute_result"
    },
    {
     "data": {
      "text/plain": [
       "{'msg': 'Saved', 'code': 200, 'data': None, 'sdkErrorCode': 0}"
      ]
     },
     "execution_count": 13,
     "metadata": {},
     "output_type": "execute_result"
    },
    {
     "data": {
      "text/plain": [
       "{'msg': 'Saved', 'code': 200, 'data': None, 'sdkErrorCode': 0}"
      ]
     },
     "execution_count": 13,
     "metadata": {},
     "output_type": "execute_result"
    },
    {
     "data": {
      "text/plain": [
       "{'msg': 'Saved', 'code': 200, 'data': None, 'sdkErrorCode': 0}"
      ]
     },
     "execution_count": 13,
     "metadata": {},
     "output_type": "execute_result"
    },
    {
     "data": {
      "text/plain": [
       "{'msg': 'Saved', 'code': 200, 'data': None, 'sdkErrorCode': 0}"
      ]
     },
     "execution_count": 13,
     "metadata": {},
     "output_type": "execute_result"
    },
    {
     "data": {
      "text/plain": [
       "{'msg': 'Saved', 'code': 200, 'data': None, 'sdkErrorCode': 0}"
      ]
     },
     "execution_count": 13,
     "metadata": {},
     "output_type": "execute_result"
    },
    {
     "data": {
      "text/plain": [
       "{'msg': 'Saved', 'code': 200, 'data': None, 'sdkErrorCode': 0}"
      ]
     },
     "execution_count": 13,
     "metadata": {},
     "output_type": "execute_result"
    },
    {
     "data": {
      "text/plain": [
       "{'msg': 'Saved', 'code': 200, 'data': None, 'sdkErrorCode': 0}"
      ]
     },
     "execution_count": 13,
     "metadata": {},
     "output_type": "execute_result"
    },
    {
     "data": {
      "text/plain": [
       "{'msg': 'Saved', 'code': 200, 'data': None, 'sdkErrorCode': 0}"
      ]
     },
     "execution_count": 13,
     "metadata": {},
     "output_type": "execute_result"
    },
    {
     "data": {
      "text/plain": [
       "{'msg': 'Saved', 'code': 200, 'data': None, 'sdkErrorCode': 0}"
      ]
     },
     "execution_count": 13,
     "metadata": {},
     "output_type": "execute_result"
    },
    {
     "data": {
      "text/plain": [
       "{'msg': 'Saved', 'code': 200, 'data': None, 'sdkErrorCode': 0}"
      ]
     },
     "execution_count": 13,
     "metadata": {},
     "output_type": "execute_result"
    },
    {
     "data": {
      "text/plain": [
       "{'msg': 'Saved', 'code': 200, 'data': None, 'sdkErrorCode': 0}"
      ]
     },
     "execution_count": 13,
     "metadata": {},
     "output_type": "execute_result"
    },
    {
     "data": {
      "text/plain": [
       "{'msg': 'Saved', 'code': 200, 'data': None, 'sdkErrorCode': 0}"
      ]
     },
     "execution_count": 13,
     "metadata": {},
     "output_type": "execute_result"
    },
    {
     "data": {
      "text/plain": [
       "{'msg': 'Saved', 'code': 200, 'data': None, 'sdkErrorCode': 0}"
      ]
     },
     "execution_count": 13,
     "metadata": {},
     "output_type": "execute_result"
    },
    {
     "data": {
      "text/plain": [
       "{'msg': 'Saved', 'code': 200, 'data': None, 'sdkErrorCode': 0}"
      ]
     },
     "execution_count": 13,
     "metadata": {},
     "output_type": "execute_result"
    },
    {
     "data": {
      "text/plain": [
       "{'msg': 'Saved', 'code': 200, 'data': None, 'sdkErrorCode': 0}"
      ]
     },
     "execution_count": 13,
     "metadata": {},
     "output_type": "execute_result"
    },
    {
     "data": {
      "text/plain": [
       "{'msg': 'Saved', 'code': 200, 'data': None, 'sdkErrorCode': 0}"
      ]
     },
     "execution_count": 13,
     "metadata": {},
     "output_type": "execute_result"
    },
    {
     "data": {
      "text/plain": [
       "{'msg': 'Saved', 'code': 200, 'data': None, 'sdkErrorCode': 0}"
      ]
     },
     "execution_count": 13,
     "metadata": {},
     "output_type": "execute_result"
    },
    {
     "data": {
      "text/plain": [
       "{'msg': 'Saved', 'code': 200, 'data': None, 'sdkErrorCode': 0}"
      ]
     },
     "execution_count": 13,
     "metadata": {},
     "output_type": "execute_result"
    },
    {
     "data": {
      "text/plain": [
       "{'msg': 'Saved', 'code': 200, 'data': None, 'sdkErrorCode': 0}"
      ]
     },
     "execution_count": 13,
     "metadata": {},
     "output_type": "execute_result"
    },
    {
     "data": {
      "text/plain": [
       "{'msg': 'Saved', 'code': 200, 'data': None, 'sdkErrorCode': 0}"
      ]
     },
     "execution_count": 13,
     "metadata": {},
     "output_type": "execute_result"
    },
    {
     "data": {
      "text/plain": [
       "{'msg': 'Saved', 'code': 200, 'data': None, 'sdkErrorCode': 0}"
      ]
     },
     "execution_count": 13,
     "metadata": {},
     "output_type": "execute_result"
    },
    {
     "data": {
      "text/plain": [
       "{'msg': 'Saved', 'code': 200, 'data': None, 'sdkErrorCode': 0}"
      ]
     },
     "execution_count": 13,
     "metadata": {},
     "output_type": "execute_result"
    },
    {
     "data": {
      "text/plain": [
       "{'msg': 'Saved', 'code': 200, 'data': None, 'sdkErrorCode': 0}"
      ]
     },
     "execution_count": 13,
     "metadata": {},
     "output_type": "execute_result"
    },
    {
     "data": {
      "text/plain": [
       "{'msg': 'Saved', 'code': 200, 'data': None, 'sdkErrorCode': 0}"
      ]
     },
     "execution_count": 13,
     "metadata": {},
     "output_type": "execute_result"
    },
    {
     "data": {
      "text/plain": [
       "{'msg': 'Saved', 'code': 200, 'data': None, 'sdkErrorCode': 0}"
      ]
     },
     "execution_count": 13,
     "metadata": {},
     "output_type": "execute_result"
    },
    {
     "data": {
      "text/plain": [
       "{'msg': 'Saved', 'code': 200, 'data': None, 'sdkErrorCode': 0}"
      ]
     },
     "execution_count": 13,
     "metadata": {},
     "output_type": "execute_result"
    },
    {
     "data": {
      "text/plain": [
       "{'msg': 'Saved', 'code': 200, 'data': None, 'sdkErrorCode': 0}"
      ]
     },
     "execution_count": 13,
     "metadata": {},
     "output_type": "execute_result"
    },
    {
     "data": {
      "text/plain": [
       "{'msg': 'Saved', 'code': 200, 'data': None, 'sdkErrorCode': 0}"
      ]
     },
     "execution_count": 13,
     "metadata": {},
     "output_type": "execute_result"
    },
    {
     "data": {
      "text/plain": [
       "{'msg': 'Saved', 'code': 200, 'data': None, 'sdkErrorCode': 0}"
      ]
     },
     "execution_count": 13,
     "metadata": {},
     "output_type": "execute_result"
    },
    {
     "data": {
      "text/plain": [
       "{'msg': 'Saved', 'code': 200, 'data': None, 'sdkErrorCode': 0}"
      ]
     },
     "execution_count": 13,
     "metadata": {},
     "output_type": "execute_result"
    },
    {
     "data": {
      "text/plain": [
       "{'msg': 'Saved', 'code': 200, 'data': None, 'sdkErrorCode': 0}"
      ]
     },
     "execution_count": 13,
     "metadata": {},
     "output_type": "execute_result"
    },
    {
     "data": {
      "text/plain": [
       "{'msg': 'Saved', 'code': 200, 'data': None, 'sdkErrorCode': 0}"
      ]
     },
     "execution_count": 13,
     "metadata": {},
     "output_type": "execute_result"
    },
    {
     "data": {
      "text/plain": [
       "{'msg': 'Saved', 'code': 200, 'data': None, 'sdkErrorCode': 0}"
      ]
     },
     "execution_count": 13,
     "metadata": {},
     "output_type": "execute_result"
    },
    {
     "data": {
      "text/plain": [
       "{'msg': 'Saved', 'code': 200, 'data': None, 'sdkErrorCode': 0}"
      ]
     },
     "execution_count": 13,
     "metadata": {},
     "output_type": "execute_result"
    },
    {
     "data": {
      "text/plain": [
       "{'msg': 'Saved', 'code': 200, 'data': None, 'sdkErrorCode': 0}"
      ]
     },
     "execution_count": 13,
     "metadata": {},
     "output_type": "execute_result"
    },
    {
     "data": {
      "text/plain": [
       "{'msg': 'Saved', 'code': 200, 'data': None, 'sdkErrorCode': 0}"
      ]
     },
     "execution_count": 13,
     "metadata": {},
     "output_type": "execute_result"
    },
    {
     "data": {
      "text/plain": [
       "{'msg': 'Saved', 'code': 200, 'data': None, 'sdkErrorCode': 0}"
      ]
     },
     "execution_count": 13,
     "metadata": {},
     "output_type": "execute_result"
    },
    {
     "data": {
      "text/plain": [
       "{'msg': 'Saved', 'code': 200, 'data': None, 'sdkErrorCode': 0}"
      ]
     },
     "execution_count": 13,
     "metadata": {},
     "output_type": "execute_result"
    },
    {
     "data": {
      "text/plain": [
       "{'msg': 'Saved', 'code': 200, 'data': None, 'sdkErrorCode': 0}"
      ]
     },
     "execution_count": 13,
     "metadata": {},
     "output_type": "execute_result"
    },
    {
     "data": {
      "text/plain": [
       "{'msg': 'Saved', 'code': 200, 'data': None, 'sdkErrorCode': 0}"
      ]
     },
     "execution_count": 13,
     "metadata": {},
     "output_type": "execute_result"
    },
    {
     "data": {
      "text/plain": [
       "{'msg': 'Saved', 'code': 200, 'data': None, 'sdkErrorCode': 0}"
      ]
     },
     "execution_count": 13,
     "metadata": {},
     "output_type": "execute_result"
    },
    {
     "data": {
      "text/plain": [
       "{'msg': 'Saved', 'code': 200, 'data': None, 'sdkErrorCode': 0}"
      ]
     },
     "execution_count": 13,
     "metadata": {},
     "output_type": "execute_result"
    },
    {
     "data": {
      "text/plain": [
       "{'msg': 'Saved', 'code': 200, 'data': None, 'sdkErrorCode': 0}"
      ]
     },
     "execution_count": 13,
     "metadata": {},
     "output_type": "execute_result"
    },
    {
     "data": {
      "text/plain": [
       "{'msg': 'Saved', 'code': 200, 'data': None, 'sdkErrorCode': 0}"
      ]
     },
     "execution_count": 13,
     "metadata": {},
     "output_type": "execute_result"
    },
    {
     "data": {
      "text/plain": [
       "{'msg': 'Saved', 'code': 200, 'data': None, 'sdkErrorCode': 0}"
      ]
     },
     "execution_count": 13,
     "metadata": {},
     "output_type": "execute_result"
    },
    {
     "data": {
      "text/plain": [
       "{'msg': 'Saved', 'code': 200, 'data': None, 'sdkErrorCode': 0}"
      ]
     },
     "execution_count": 13,
     "metadata": {},
     "output_type": "execute_result"
    },
    {
     "data": {
      "text/plain": [
       "{'msg': 'Saved', 'code': 200, 'data': None, 'sdkErrorCode': 0}"
      ]
     },
     "execution_count": 13,
     "metadata": {},
     "output_type": "execute_result"
    },
    {
     "data": {
      "text/plain": [
       "{'msg': 'Saved', 'code': 200, 'data': None, 'sdkErrorCode': 0}"
      ]
     },
     "execution_count": 13,
     "metadata": {},
     "output_type": "execute_result"
    },
    {
     "data": {
      "text/plain": [
       "{'msg': 'Saved', 'code': 200, 'data': None, 'sdkErrorCode': 0}"
      ]
     },
     "execution_count": 13,
     "metadata": {},
     "output_type": "execute_result"
    },
    {
     "data": {
      "text/plain": [
       "{'msg': 'Saved', 'code': 200, 'data': None, 'sdkErrorCode': 0}"
      ]
     },
     "execution_count": 13,
     "metadata": {},
     "output_type": "execute_result"
    },
    {
     "data": {
      "text/plain": [
       "{'msg': 'Saved', 'code': 200, 'data': None, 'sdkErrorCode': 0}"
      ]
     },
     "execution_count": 13,
     "metadata": {},
     "output_type": "execute_result"
    },
    {
     "data": {
      "text/plain": [
       "{'msg': 'Saved', 'code': 200, 'data': None, 'sdkErrorCode': 0}"
      ]
     },
     "execution_count": 13,
     "metadata": {},
     "output_type": "execute_result"
    },
    {
     "data": {
      "text/plain": [
       "{'msg': 'Saved', 'code': 200, 'data': None, 'sdkErrorCode': 0}"
      ]
     },
     "execution_count": 13,
     "metadata": {},
     "output_type": "execute_result"
    },
    {
     "data": {
      "text/plain": [
       "{'msg': 'Saved', 'code': 200, 'data': None, 'sdkErrorCode': 0}"
      ]
     },
     "execution_count": 13,
     "metadata": {},
     "output_type": "execute_result"
    },
    {
     "data": {
      "text/plain": [
       "{'msg': 'Saved', 'code': 200, 'data': None, 'sdkErrorCode': 0}"
      ]
     },
     "execution_count": 13,
     "metadata": {},
     "output_type": "execute_result"
    },
    {
     "data": {
      "text/plain": [
       "{'msg': 'Saved', 'code': 200, 'data': None, 'sdkErrorCode': 0}"
      ]
     },
     "execution_count": 13,
     "metadata": {},
     "output_type": "execute_result"
    },
    {
     "data": {
      "text/plain": [
       "{'msg': 'Saved', 'code': 200, 'data': None, 'sdkErrorCode': 0}"
      ]
     },
     "execution_count": 13,
     "metadata": {},
     "output_type": "execute_result"
    },
    {
     "data": {
      "text/plain": [
       "{'msg': 'Saved', 'code': 200, 'data': None, 'sdkErrorCode': 0}"
      ]
     },
     "execution_count": 13,
     "metadata": {},
     "output_type": "execute_result"
    },
    {
     "data": {
      "text/plain": [
       "{'msg': 'Saved', 'code': 200, 'data': None, 'sdkErrorCode': 0}"
      ]
     },
     "execution_count": 13,
     "metadata": {},
     "output_type": "execute_result"
    },
    {
     "data": {
      "text/plain": [
       "{'msg': 'Saved', 'code': 200, 'data': None, 'sdkErrorCode': 0}"
      ]
     },
     "execution_count": 13,
     "metadata": {},
     "output_type": "execute_result"
    },
    {
     "data": {
      "text/plain": [
       "{'msg': 'Saved', 'code': 200, 'data': None, 'sdkErrorCode': 0}"
      ]
     },
     "execution_count": 13,
     "metadata": {},
     "output_type": "execute_result"
    },
    {
     "data": {
      "text/plain": [
       "{'msg': 'Saved', 'code': 200, 'data': None, 'sdkErrorCode': 0}"
      ]
     },
     "execution_count": 13,
     "metadata": {},
     "output_type": "execute_result"
    },
    {
     "data": {
      "text/plain": [
       "{'msg': 'Saved', 'code': 200, 'data': None, 'sdkErrorCode': 0}"
      ]
     },
     "execution_count": 13,
     "metadata": {},
     "output_type": "execute_result"
    },
    {
     "data": {
      "text/plain": [
       "{'msg': 'Saved', 'code': 200, 'data': None, 'sdkErrorCode': 0}"
      ]
     },
     "execution_count": 13,
     "metadata": {},
     "output_type": "execute_result"
    },
    {
     "data": {
      "text/plain": [
       "{'msg': 'Saved', 'code': 200, 'data': None, 'sdkErrorCode': 0}"
      ]
     },
     "execution_count": 13,
     "metadata": {},
     "output_type": "execute_result"
    },
    {
     "data": {
      "text/plain": [
       "{'msg': 'Saved', 'code': 200, 'data': None, 'sdkErrorCode': 0}"
      ]
     },
     "execution_count": 13,
     "metadata": {},
     "output_type": "execute_result"
    },
    {
     "data": {
      "text/plain": [
       "{'msg': 'Saved', 'code': 200, 'data': None, 'sdkErrorCode': 0}"
      ]
     },
     "execution_count": 13,
     "metadata": {},
     "output_type": "execute_result"
    },
    {
     "data": {
      "text/plain": [
       "{'msg': 'Saved', 'code': 200, 'data': None, 'sdkErrorCode': 0}"
      ]
     },
     "execution_count": 13,
     "metadata": {},
     "output_type": "execute_result"
    },
    {
     "data": {
      "text/plain": [
       "{'msg': 'Saved', 'code': 200, 'data': None, 'sdkErrorCode': 0}"
      ]
     },
     "execution_count": 13,
     "metadata": {},
     "output_type": "execute_result"
    },
    {
     "data": {
      "text/plain": [
       "{'msg': 'Saved', 'code': 200, 'data': None, 'sdkErrorCode': 0}"
      ]
     },
     "execution_count": 13,
     "metadata": {},
     "output_type": "execute_result"
    },
    {
     "data": {
      "text/plain": [
       "{'msg': 'Saved', 'code': 200, 'data': None, 'sdkErrorCode': 0}"
      ]
     },
     "execution_count": 13,
     "metadata": {},
     "output_type": "execute_result"
    },
    {
     "data": {
      "text/plain": [
       "{'msg': 'Saved', 'code': 200, 'data': None, 'sdkErrorCode': 0}"
      ]
     },
     "execution_count": 13,
     "metadata": {},
     "output_type": "execute_result"
    },
    {
     "data": {
      "text/plain": [
       "{'msg': 'Saved', 'code': 200, 'data': None, 'sdkErrorCode': 0}"
      ]
     },
     "execution_count": 13,
     "metadata": {},
     "output_type": "execute_result"
    },
    {
     "data": {
      "text/plain": [
       "{'msg': 'Saved', 'code': 200, 'data': None, 'sdkErrorCode': 0}"
      ]
     },
     "execution_count": 13,
     "metadata": {},
     "output_type": "execute_result"
    },
    {
     "data": {
      "text/plain": [
       "{'msg': 'Saved', 'code': 200, 'data': None, 'sdkErrorCode': 0}"
      ]
     },
     "execution_count": 13,
     "metadata": {},
     "output_type": "execute_result"
    },
    {
     "data": {
      "text/plain": [
       "{'msg': 'Saved', 'code': 200, 'data': None, 'sdkErrorCode': 0}"
      ]
     },
     "execution_count": 13,
     "metadata": {},
     "output_type": "execute_result"
    },
    {
     "data": {
      "text/plain": [
       "{'msg': 'Saved', 'code': 200, 'data': None, 'sdkErrorCode': 0}"
      ]
     },
     "execution_count": 13,
     "metadata": {},
     "output_type": "execute_result"
    },
    {
     "data": {
      "text/plain": [
       "{'msg': 'Saved', 'code': 200, 'data': None, 'sdkErrorCode': 0}"
      ]
     },
     "execution_count": 13,
     "metadata": {},
     "output_type": "execute_result"
    },
    {
     "data": {
      "text/plain": [
       "{'msg': 'Saved', 'code': 200, 'data': None, 'sdkErrorCode': 0}"
      ]
     },
     "execution_count": 13,
     "metadata": {},
     "output_type": "execute_result"
    },
    {
     "data": {
      "text/plain": [
       "{'msg': 'Saved', 'code': 200, 'data': None, 'sdkErrorCode': 0}"
      ]
     },
     "execution_count": 13,
     "metadata": {},
     "output_type": "execute_result"
    },
    {
     "data": {
      "text/plain": [
       "{'msg': 'Saved', 'code': 200, 'data': None, 'sdkErrorCode': 0}"
      ]
     },
     "execution_count": 13,
     "metadata": {},
     "output_type": "execute_result"
    },
    {
     "data": {
      "text/plain": [
       "{'msg': 'Saved', 'code': 200, 'data': None, 'sdkErrorCode': 0}"
      ]
     },
     "execution_count": 13,
     "metadata": {},
     "output_type": "execute_result"
    },
    {
     "data": {
      "text/plain": [
       "{'msg': 'Saved', 'code': 200, 'data': None, 'sdkErrorCode': 0}"
      ]
     },
     "execution_count": 13,
     "metadata": {},
     "output_type": "execute_result"
    },
    {
     "data": {
      "text/plain": [
       "{'msg': 'Saved', 'code': 200, 'data': None, 'sdkErrorCode': 0}"
      ]
     },
     "execution_count": 13,
     "metadata": {},
     "output_type": "execute_result"
    },
    {
     "data": {
      "text/plain": [
       "{'msg': 'Saved', 'code': 200, 'data': None, 'sdkErrorCode': 0}"
      ]
     },
     "execution_count": 13,
     "metadata": {},
     "output_type": "execute_result"
    },
    {
     "data": {
      "text/plain": [
       "{'msg': 'Saved', 'code': 200, 'data': None, 'sdkErrorCode': 0}"
      ]
     },
     "execution_count": 13,
     "metadata": {},
     "output_type": "execute_result"
    },
    {
     "data": {
      "text/plain": [
       "{'msg': 'Saved', 'code': 200, 'data': None, 'sdkErrorCode': 0}"
      ]
     },
     "execution_count": 13,
     "metadata": {},
     "output_type": "execute_result"
    },
    {
     "data": {
      "text/plain": [
       "{'msg': 'Saved', 'code': 200, 'data': None, 'sdkErrorCode': 0}"
      ]
     },
     "execution_count": 13,
     "metadata": {},
     "output_type": "execute_result"
    },
    {
     "data": {
      "text/plain": [
       "{'msg': 'Saved', 'code': 200, 'data': None, 'sdkErrorCode': 0}"
      ]
     },
     "execution_count": 13,
     "metadata": {},
     "output_type": "execute_result"
    },
    {
     "data": {
      "text/plain": [
       "{'msg': 'Saved', 'code': 200, 'data': None, 'sdkErrorCode': 0}"
      ]
     },
     "execution_count": 13,
     "metadata": {},
     "output_type": "execute_result"
    },
    {
     "data": {
      "text/plain": [
       "{'msg': 'Saved', 'code': 200, 'data': None, 'sdkErrorCode': 0}"
      ]
     },
     "execution_count": 13,
     "metadata": {},
     "output_type": "execute_result"
    },
    {
     "data": {
      "text/plain": [
       "{'msg': 'Saved', 'code': 200, 'data': None, 'sdkErrorCode': 0}"
      ]
     },
     "execution_count": 13,
     "metadata": {},
     "output_type": "execute_result"
    },
    {
     "data": {
      "text/plain": [
       "{'msg': 'Saved', 'code': 200, 'data': None, 'sdkErrorCode': 0}"
      ]
     },
     "execution_count": 13,
     "metadata": {},
     "output_type": "execute_result"
    },
    {
     "data": {
      "text/plain": [
       "{'msg': 'Saved', 'code': 200, 'data': None, 'sdkErrorCode': 0}"
      ]
     },
     "execution_count": 13,
     "metadata": {},
     "output_type": "execute_result"
    },
    {
     "data": {
      "text/plain": [
       "{'msg': 'Saved', 'code': 200, 'data': None, 'sdkErrorCode': 0}"
      ]
     },
     "execution_count": 13,
     "metadata": {},
     "output_type": "execute_result"
    },
    {
     "data": {
      "text/plain": [
       "{'msg': 'Saved', 'code': 200, 'data': None, 'sdkErrorCode': 0}"
      ]
     },
     "execution_count": 13,
     "metadata": {},
     "output_type": "execute_result"
    },
    {
     "data": {
      "text/plain": [
       "{'msg': 'Saved', 'code': 200, 'data': None, 'sdkErrorCode': 0}"
      ]
     },
     "execution_count": 13,
     "metadata": {},
     "output_type": "execute_result"
    },
    {
     "data": {
      "text/plain": [
       "{'msg': 'Saved', 'code': 200, 'data': None, 'sdkErrorCode': 0}"
      ]
     },
     "execution_count": 13,
     "metadata": {},
     "output_type": "execute_result"
    },
    {
     "data": {
      "text/plain": [
       "{'msg': 'Saved', 'code': 200, 'data': None, 'sdkErrorCode': 0}"
      ]
     },
     "execution_count": 13,
     "metadata": {},
     "output_type": "execute_result"
    },
    {
     "data": {
      "text/plain": [
       "{'msg': 'Saved', 'code': 200, 'data': None, 'sdkErrorCode': 0}"
      ]
     },
     "execution_count": 13,
     "metadata": {},
     "output_type": "execute_result"
    },
    {
     "data": {
      "text/plain": [
       "{'msg': 'Saved', 'code': 200, 'data': None, 'sdkErrorCode': 0}"
      ]
     },
     "execution_count": 13,
     "metadata": {},
     "output_type": "execute_result"
    },
    {
     "data": {
      "text/plain": [
       "{'msg': 'Saved', 'code': 200, 'data': None, 'sdkErrorCode': 0}"
      ]
     },
     "execution_count": 13,
     "metadata": {},
     "output_type": "execute_result"
    },
    {
     "data": {
      "text/plain": [
       "{'msg': 'Saved', 'code': 200, 'data': None, 'sdkErrorCode': 0}"
      ]
     },
     "execution_count": 13,
     "metadata": {},
     "output_type": "execute_result"
    },
    {
     "data": {
      "text/plain": [
       "{'msg': 'Saved', 'code': 200, 'data': None, 'sdkErrorCode': 0}"
      ]
     },
     "execution_count": 13,
     "metadata": {},
     "output_type": "execute_result"
    },
    {
     "data": {
      "text/plain": [
       "{'msg': 'Saved', 'code': 200, 'data': None, 'sdkErrorCode': 0}"
      ]
     },
     "execution_count": 13,
     "metadata": {},
     "output_type": "execute_result"
    },
    {
     "data": {
      "text/plain": [
       "{'msg': 'Saved', 'code': 200, 'data': None, 'sdkErrorCode': 0}"
      ]
     },
     "execution_count": 13,
     "metadata": {},
     "output_type": "execute_result"
    },
    {
     "data": {
      "text/plain": [
       "{'msg': 'Saved', 'code': 200, 'data': None, 'sdkErrorCode': 0}"
      ]
     },
     "execution_count": 13,
     "metadata": {},
     "output_type": "execute_result"
    },
    {
     "data": {
      "text/plain": [
       "{'msg': 'Saved', 'code': 200, 'data': None, 'sdkErrorCode': 0}"
      ]
     },
     "execution_count": 13,
     "metadata": {},
     "output_type": "execute_result"
    },
    {
     "data": {
      "text/plain": [
       "{'msg': 'Saved', 'code': 200, 'data': None, 'sdkErrorCode': 0}"
      ]
     },
     "execution_count": 13,
     "metadata": {},
     "output_type": "execute_result"
    },
    {
     "data": {
      "text/plain": [
       "{'msg': 'Saved', 'code': 200, 'data': None, 'sdkErrorCode': 0}"
      ]
     },
     "execution_count": 13,
     "metadata": {},
     "output_type": "execute_result"
    },
    {
     "data": {
      "text/plain": [
       "{'msg': 'Saved', 'code': 200, 'data': None, 'sdkErrorCode': 0}"
      ]
     },
     "execution_count": 13,
     "metadata": {},
     "output_type": "execute_result"
    },
    {
     "data": {
      "text/plain": [
       "{'msg': 'Saved', 'code': 200, 'data': None, 'sdkErrorCode': 0}"
      ]
     },
     "execution_count": 13,
     "metadata": {},
     "output_type": "execute_result"
    },
    {
     "data": {
      "text/plain": [
       "{'msg': 'Saved', 'code': 200, 'data': None, 'sdkErrorCode': 0}"
      ]
     },
     "execution_count": 13,
     "metadata": {},
     "output_type": "execute_result"
    },
    {
     "data": {
      "text/plain": [
       "{'msg': 'Saved', 'code': 200, 'data': None, 'sdkErrorCode': 0}"
      ]
     },
     "execution_count": 13,
     "metadata": {},
     "output_type": "execute_result"
    },
    {
     "data": {
      "text/plain": [
       "{'msg': 'Saved', 'code': 200, 'data': None, 'sdkErrorCode': 0}"
      ]
     },
     "execution_count": 13,
     "metadata": {},
     "output_type": "execute_result"
    },
    {
     "data": {
      "text/plain": [
       "{'msg': 'Saved', 'code': 200, 'data': None, 'sdkErrorCode': 0}"
      ]
     },
     "execution_count": 13,
     "metadata": {},
     "output_type": "execute_result"
    },
    {
     "data": {
      "text/plain": [
       "{'msg': 'Saved', 'code': 200, 'data': None, 'sdkErrorCode': 0}"
      ]
     },
     "execution_count": 13,
     "metadata": {},
     "output_type": "execute_result"
    },
    {
     "data": {
      "text/plain": [
       "{'msg': 'Saved', 'code': 200, 'data': None, 'sdkErrorCode': 0}"
      ]
     },
     "execution_count": 13,
     "metadata": {},
     "output_type": "execute_result"
    },
    {
     "data": {
      "text/plain": [
       "{'msg': 'Saved', 'code': 200, 'data': None, 'sdkErrorCode': 0}"
      ]
     },
     "execution_count": 13,
     "metadata": {},
     "output_type": "execute_result"
    },
    {
     "data": {
      "text/plain": [
       "{'msg': 'Saved', 'code': 200, 'data': None, 'sdkErrorCode': 0}"
      ]
     },
     "execution_count": 13,
     "metadata": {},
     "output_type": "execute_result"
    },
    {
     "data": {
      "text/plain": [
       "{'msg': 'Saved', 'code': 200, 'data': None, 'sdkErrorCode': 0}"
      ]
     },
     "execution_count": 13,
     "metadata": {},
     "output_type": "execute_result"
    },
    {
     "data": {
      "text/plain": [
       "{'msg': 'Saved', 'code': 200, 'data': None, 'sdkErrorCode': 0}"
      ]
     },
     "execution_count": 13,
     "metadata": {},
     "output_type": "execute_result"
    },
    {
     "data": {
      "text/plain": [
       "{'msg': 'Saved', 'code': 200, 'data': None, 'sdkErrorCode': 0}"
      ]
     },
     "execution_count": 13,
     "metadata": {},
     "output_type": "execute_result"
    },
    {
     "data": {
      "text/plain": [
       "{'msg': 'Saved', 'code': 200, 'data': None, 'sdkErrorCode': 0}"
      ]
     },
     "execution_count": 13,
     "metadata": {},
     "output_type": "execute_result"
    },
    {
     "data": {
      "text/plain": [
       "{'msg': 'Saved', 'code': 200, 'data': None, 'sdkErrorCode': 0}"
      ]
     },
     "execution_count": 13,
     "metadata": {},
     "output_type": "execute_result"
    },
    {
     "data": {
      "text/plain": [
       "{'msg': 'Saved', 'code': 200, 'data': None, 'sdkErrorCode': 0}"
      ]
     },
     "execution_count": 13,
     "metadata": {},
     "output_type": "execute_result"
    },
    {
     "data": {
      "text/plain": [
       "{'msg': 'Saved', 'code': 200, 'data': None, 'sdkErrorCode': 0}"
      ]
     },
     "execution_count": 13,
     "metadata": {},
     "output_type": "execute_result"
    },
    {
     "data": {
      "text/plain": [
       "{'msg': 'Saved', 'code': 200, 'data': None, 'sdkErrorCode': 0}"
      ]
     },
     "execution_count": 13,
     "metadata": {},
     "output_type": "execute_result"
    },
    {
     "data": {
      "text/plain": [
       "{'msg': 'Saved', 'code': 200, 'data': None, 'sdkErrorCode': 0}"
      ]
     },
     "execution_count": 13,
     "metadata": {},
     "output_type": "execute_result"
    },
    {
     "data": {
      "text/plain": [
       "{'msg': 'Saved', 'code': 200, 'data': None, 'sdkErrorCode': 0}"
      ]
     },
     "execution_count": 13,
     "metadata": {},
     "output_type": "execute_result"
    },
    {
     "data": {
      "text/plain": [
       "{'msg': 'Saved', 'code': 200, 'data': None, 'sdkErrorCode': 0}"
      ]
     },
     "execution_count": 13,
     "metadata": {},
     "output_type": "execute_result"
    },
    {
     "data": {
      "text/plain": [
       "{'msg': 'Saved', 'code': 200, 'data': None, 'sdkErrorCode': 0}"
      ]
     },
     "execution_count": 13,
     "metadata": {},
     "output_type": "execute_result"
    },
    {
     "data": {
      "text/plain": [
       "{'msg': 'Saved', 'code': 200, 'data': None, 'sdkErrorCode': 0}"
      ]
     },
     "execution_count": 13,
     "metadata": {},
     "output_type": "execute_result"
    },
    {
     "data": {
      "text/plain": [
       "{'msg': 'Saved', 'code': 200, 'data': None, 'sdkErrorCode': 0}"
      ]
     },
     "execution_count": 13,
     "metadata": {},
     "output_type": "execute_result"
    },
    {
     "data": {
      "text/plain": [
       "{'msg': 'Saved', 'code': 200, 'data': None, 'sdkErrorCode': 0}"
      ]
     },
     "execution_count": 13,
     "metadata": {},
     "output_type": "execute_result"
    },
    {
     "data": {
      "text/plain": [
       "{'msg': 'Saved', 'code': 200, 'data': None, 'sdkErrorCode': 0}"
      ]
     },
     "execution_count": 13,
     "metadata": {},
     "output_type": "execute_result"
    },
    {
     "data": {
      "text/plain": [
       "{'msg': 'Saved', 'code': 200, 'data': None, 'sdkErrorCode': 0}"
      ]
     },
     "execution_count": 13,
     "metadata": {},
     "output_type": "execute_result"
    },
    {
     "data": {
      "text/plain": [
       "{'msg': 'Saved', 'code': 200, 'data': None, 'sdkErrorCode': 0}"
      ]
     },
     "execution_count": 13,
     "metadata": {},
     "output_type": "execute_result"
    },
    {
     "data": {
      "text/plain": [
       "{'msg': 'Saved', 'code': 200, 'data': None, 'sdkErrorCode': 0}"
      ]
     },
     "execution_count": 13,
     "metadata": {},
     "output_type": "execute_result"
    },
    {
     "data": {
      "text/plain": [
       "{'msg': 'Saved', 'code': 200, 'data': None, 'sdkErrorCode': 0}"
      ]
     },
     "execution_count": 13,
     "metadata": {},
     "output_type": "execute_result"
    },
    {
     "data": {
      "text/plain": [
       "{'msg': 'Saved', 'code': 200, 'data': None, 'sdkErrorCode': 0}"
      ]
     },
     "execution_count": 13,
     "metadata": {},
     "output_type": "execute_result"
    },
    {
     "data": {
      "text/plain": [
       "{'msg': 'Saved', 'code': 200, 'data': None, 'sdkErrorCode': 0}"
      ]
     },
     "execution_count": 13,
     "metadata": {},
     "output_type": "execute_result"
    },
    {
     "data": {
      "text/plain": [
       "{'msg': 'Saved', 'code': 200, 'data': None, 'sdkErrorCode': 0}"
      ]
     },
     "execution_count": 13,
     "metadata": {},
     "output_type": "execute_result"
    },
    {
     "data": {
      "text/plain": [
       "{'msg': 'Saved', 'code': 200, 'data': None, 'sdkErrorCode': 0}"
      ]
     },
     "execution_count": 13,
     "metadata": {},
     "output_type": "execute_result"
    },
    {
     "data": {
      "text/plain": [
       "{'msg': 'Saved', 'code': 200, 'data': None, 'sdkErrorCode': 0}"
      ]
     },
     "execution_count": 13,
     "metadata": {},
     "output_type": "execute_result"
    },
    {
     "data": {
      "text/plain": [
       "{'msg': 'Saved', 'code': 200, 'data': None, 'sdkErrorCode': 0}"
      ]
     },
     "execution_count": 13,
     "metadata": {},
     "output_type": "execute_result"
    },
    {
     "data": {
      "text/plain": [
       "{'msg': 'Saved', 'code': 200, 'data': None, 'sdkErrorCode': 0}"
      ]
     },
     "execution_count": 13,
     "metadata": {},
     "output_type": "execute_result"
    },
    {
     "data": {
      "text/plain": [
       "{'msg': 'Saved', 'code': 200, 'data': None, 'sdkErrorCode': 0}"
      ]
     },
     "execution_count": 13,
     "metadata": {},
     "output_type": "execute_result"
    },
    {
     "data": {
      "text/plain": [
       "{'msg': 'Saved', 'code': 200, 'data': None, 'sdkErrorCode': 0}"
      ]
     },
     "execution_count": 13,
     "metadata": {},
     "output_type": "execute_result"
    },
    {
     "data": {
      "text/plain": [
       "{'msg': 'Saved', 'code': 200, 'data': None, 'sdkErrorCode': 0}"
      ]
     },
     "execution_count": 13,
     "metadata": {},
     "output_type": "execute_result"
    },
    {
     "data": {
      "text/plain": [
       "{'msg': 'Saved', 'code': 200, 'data': None, 'sdkErrorCode': 0}"
      ]
     },
     "execution_count": 13,
     "metadata": {},
     "output_type": "execute_result"
    },
    {
     "data": {
      "text/plain": [
       "{'msg': 'Saved', 'code': 200, 'data': None, 'sdkErrorCode': 0}"
      ]
     },
     "execution_count": 13,
     "metadata": {},
     "output_type": "execute_result"
    },
    {
     "data": {
      "text/plain": [
       "{'msg': 'Saved', 'code': 200, 'data': None, 'sdkErrorCode': 0}"
      ]
     },
     "execution_count": 13,
     "metadata": {},
     "output_type": "execute_result"
    },
    {
     "data": {
      "text/plain": [
       "{'msg': 'Saved', 'code': 200, 'data': None, 'sdkErrorCode': 0}"
      ]
     },
     "execution_count": 13,
     "metadata": {},
     "output_type": "execute_result"
    },
    {
     "data": {
      "text/plain": [
       "{'msg': 'Saved', 'code': 200, 'data': None, 'sdkErrorCode': 0}"
      ]
     },
     "execution_count": 13,
     "metadata": {},
     "output_type": "execute_result"
    },
    {
     "data": {
      "text/plain": [
       "{'msg': 'Saved', 'code': 200, 'data': None, 'sdkErrorCode': 0}"
      ]
     },
     "execution_count": 13,
     "metadata": {},
     "output_type": "execute_result"
    },
    {
     "data": {
      "text/plain": [
       "{'msg': 'Saved', 'code': 200, 'data': None, 'sdkErrorCode': 0}"
      ]
     },
     "execution_count": 13,
     "metadata": {},
     "output_type": "execute_result"
    },
    {
     "data": {
      "text/plain": [
       "{'msg': 'Saved', 'code': 200, 'data': None, 'sdkErrorCode': 0}"
      ]
     },
     "execution_count": 13,
     "metadata": {},
     "output_type": "execute_result"
    },
    {
     "data": {
      "text/plain": [
       "{'msg': 'Saved', 'code': 200, 'data': None, 'sdkErrorCode': 0}"
      ]
     },
     "execution_count": 13,
     "metadata": {},
     "output_type": "execute_result"
    },
    {
     "data": {
      "text/plain": [
       "{'msg': 'Saved', 'code': 200, 'data': None, 'sdkErrorCode': 0}"
      ]
     },
     "execution_count": 13,
     "metadata": {},
     "output_type": "execute_result"
    },
    {
     "data": {
      "text/plain": [
       "{'msg': 'Saved', 'code': 200, 'data': None, 'sdkErrorCode': 0}"
      ]
     },
     "execution_count": 13,
     "metadata": {},
     "output_type": "execute_result"
    },
    {
     "data": {
      "text/plain": [
       "{'msg': 'Saved', 'code': 200, 'data': None, 'sdkErrorCode': 0}"
      ]
     },
     "execution_count": 13,
     "metadata": {},
     "output_type": "execute_result"
    },
    {
     "data": {
      "text/plain": [
       "{'msg': 'Saved', 'code': 200, 'data': None, 'sdkErrorCode': 0}"
      ]
     },
     "execution_count": 13,
     "metadata": {},
     "output_type": "execute_result"
    },
    {
     "data": {
      "text/plain": [
       "{'msg': 'Saved', 'code': 200, 'data': None, 'sdkErrorCode': 0}"
      ]
     },
     "execution_count": 13,
     "metadata": {},
     "output_type": "execute_result"
    },
    {
     "data": {
      "text/plain": [
       "{'msg': 'Saved', 'code': 200, 'data': None, 'sdkErrorCode': 0}"
      ]
     },
     "execution_count": 13,
     "metadata": {},
     "output_type": "execute_result"
    },
    {
     "data": {
      "text/plain": [
       "{'msg': 'Saved', 'code': 200, 'data': None, 'sdkErrorCode': 0}"
      ]
     },
     "execution_count": 13,
     "metadata": {},
     "output_type": "execute_result"
    },
    {
     "data": {
      "text/plain": [
       "{'msg': 'Saved', 'code': 200, 'data': None, 'sdkErrorCode': 0}"
      ]
     },
     "execution_count": 13,
     "metadata": {},
     "output_type": "execute_result"
    },
    {
     "data": {
      "text/plain": [
       "{'msg': 'Saved', 'code': 200, 'data': None, 'sdkErrorCode': 0}"
      ]
     },
     "execution_count": 13,
     "metadata": {},
     "output_type": "execute_result"
    },
    {
     "data": {
      "text/plain": [
       "{'msg': 'Saved', 'code': 200, 'data': None, 'sdkErrorCode': 0}"
      ]
     },
     "execution_count": 13,
     "metadata": {},
     "output_type": "execute_result"
    },
    {
     "data": {
      "text/plain": [
       "{'msg': 'Saved', 'code': 200, 'data': None, 'sdkErrorCode': 0}"
      ]
     },
     "execution_count": 13,
     "metadata": {},
     "output_type": "execute_result"
    },
    {
     "data": {
      "text/plain": [
       "{'msg': 'Saved', 'code': 200, 'data': None, 'sdkErrorCode': 0}"
      ]
     },
     "execution_count": 13,
     "metadata": {},
     "output_type": "execute_result"
    },
    {
     "data": {
      "text/plain": [
       "{'msg': 'Saved', 'code': 200, 'data': None, 'sdkErrorCode': 0}"
      ]
     },
     "execution_count": 13,
     "metadata": {},
     "output_type": "execute_result"
    },
    {
     "data": {
      "text/plain": [
       "{'msg': 'Saved', 'code': 200, 'data': None, 'sdkErrorCode': 0}"
      ]
     },
     "execution_count": 13,
     "metadata": {},
     "output_type": "execute_result"
    },
    {
     "data": {
      "text/plain": [
       "{'msg': 'Saved', 'code': 200, 'data': None, 'sdkErrorCode': 0}"
      ]
     },
     "execution_count": 13,
     "metadata": {},
     "output_type": "execute_result"
    },
    {
     "data": {
      "text/plain": [
       "{'msg': 'Saved', 'code': 200, 'data': None, 'sdkErrorCode': 0}"
      ]
     },
     "execution_count": 13,
     "metadata": {},
     "output_type": "execute_result"
    },
    {
     "data": {
      "text/plain": [
       "{'msg': 'Saved', 'code': 200, 'data': None, 'sdkErrorCode': 0}"
      ]
     },
     "execution_count": 13,
     "metadata": {},
     "output_type": "execute_result"
    },
    {
     "data": {
      "text/plain": [
       "{'msg': 'Saved', 'code': 200, 'data': None, 'sdkErrorCode': 0}"
      ]
     },
     "execution_count": 13,
     "metadata": {},
     "output_type": "execute_result"
    },
    {
     "data": {
      "text/plain": [
       "{'msg': 'Saved', 'code': 200, 'data': None, 'sdkErrorCode': 0}"
      ]
     },
     "execution_count": 13,
     "metadata": {},
     "output_type": "execute_result"
    },
    {
     "data": {
      "text/plain": [
       "{'msg': 'Saved', 'code': 200, 'data': None, 'sdkErrorCode': 0}"
      ]
     },
     "execution_count": 13,
     "metadata": {},
     "output_type": "execute_result"
    },
    {
     "data": {
      "text/plain": [
       "{'msg': 'Saved', 'code': 200, 'data': None, 'sdkErrorCode': 0}"
      ]
     },
     "execution_count": 13,
     "metadata": {},
     "output_type": "execute_result"
    },
    {
     "data": {
      "text/plain": [
       "{'msg': 'Saved', 'code': 200, 'data': None, 'sdkErrorCode': 0}"
      ]
     },
     "execution_count": 13,
     "metadata": {},
     "output_type": "execute_result"
    },
    {
     "data": {
      "text/plain": [
       "{'msg': 'Saved', 'code': 200, 'data': None, 'sdkErrorCode': 0}"
      ]
     },
     "execution_count": 13,
     "metadata": {},
     "output_type": "execute_result"
    },
    {
     "data": {
      "text/plain": [
       "{'msg': 'Saved', 'code': 200, 'data': None, 'sdkErrorCode': 0}"
      ]
     },
     "execution_count": 13,
     "metadata": {},
     "output_type": "execute_result"
    },
    {
     "data": {
      "text/plain": [
       "{'msg': 'Saved', 'code': 200, 'data': None, 'sdkErrorCode': 0}"
      ]
     },
     "execution_count": 13,
     "metadata": {},
     "output_type": "execute_result"
    },
    {
     "data": {
      "text/plain": [
       "{'msg': 'Saved', 'code': 200, 'data': None, 'sdkErrorCode': 0}"
      ]
     },
     "execution_count": 13,
     "metadata": {},
     "output_type": "execute_result"
    },
    {
     "data": {
      "text/plain": [
       "{'msg': 'Saved', 'code': 200, 'data': None, 'sdkErrorCode': 0}"
      ]
     },
     "execution_count": 13,
     "metadata": {},
     "output_type": "execute_result"
    },
    {
     "data": {
      "text/plain": [
       "{'msg': 'Saved', 'code': 200, 'data': None, 'sdkErrorCode': 0}"
      ]
     },
     "execution_count": 13,
     "metadata": {},
     "output_type": "execute_result"
    },
    {
     "data": {
      "text/plain": [
       "{'msg': 'Saved', 'code': 200, 'data': None, 'sdkErrorCode': 0}"
      ]
     },
     "execution_count": 13,
     "metadata": {},
     "output_type": "execute_result"
    },
    {
     "data": {
      "text/plain": [
       "{'msg': 'Saved', 'code': 200, 'data': None, 'sdkErrorCode': 0}"
      ]
     },
     "execution_count": 13,
     "metadata": {},
     "output_type": "execute_result"
    },
    {
     "data": {
      "text/plain": [
       "{'msg': 'Saved', 'code': 200, 'data': None, 'sdkErrorCode': 0}"
      ]
     },
     "execution_count": 13,
     "metadata": {},
     "output_type": "execute_result"
    },
    {
     "data": {
      "text/plain": [
       "{'msg': 'Saved', 'code': 200, 'data': None, 'sdkErrorCode': 0}"
      ]
     },
     "execution_count": 13,
     "metadata": {},
     "output_type": "execute_result"
    },
    {
     "data": {
      "text/plain": [
       "{'msg': 'Saved', 'code': 200, 'data': None, 'sdkErrorCode': 0}"
      ]
     },
     "execution_count": 13,
     "metadata": {},
     "output_type": "execute_result"
    },
    {
     "data": {
      "text/plain": [
       "{'msg': 'Saved', 'code': 200, 'data': None, 'sdkErrorCode': 0}"
      ]
     },
     "execution_count": 13,
     "metadata": {},
     "output_type": "execute_result"
    },
    {
     "data": {
      "text/plain": [
       "{'msg': 'Saved', 'code': 200, 'data': None, 'sdkErrorCode': 0}"
      ]
     },
     "execution_count": 13,
     "metadata": {},
     "output_type": "execute_result"
    },
    {
     "data": {
      "text/plain": [
       "{'msg': 'Saved', 'code': 200, 'data': None, 'sdkErrorCode': 0}"
      ]
     },
     "execution_count": 13,
     "metadata": {},
     "output_type": "execute_result"
    },
    {
     "data": {
      "text/plain": [
       "{'msg': 'Saved', 'code': 200, 'data': None, 'sdkErrorCode': 0}"
      ]
     },
     "execution_count": 13,
     "metadata": {},
     "output_type": "execute_result"
    },
    {
     "data": {
      "text/plain": [
       "{'msg': 'Saved', 'code': 200, 'data': None, 'sdkErrorCode': 0}"
      ]
     },
     "execution_count": 13,
     "metadata": {},
     "output_type": "execute_result"
    },
    {
     "data": {
      "text/plain": [
       "{'msg': 'Saved', 'code': 200, 'data': None, 'sdkErrorCode': 0}"
      ]
     },
     "execution_count": 13,
     "metadata": {},
     "output_type": "execute_result"
    },
    {
     "data": {
      "text/plain": [
       "{'msg': 'Saved', 'code': 200, 'data': None, 'sdkErrorCode': 0}"
      ]
     },
     "execution_count": 13,
     "metadata": {},
     "output_type": "execute_result"
    },
    {
     "data": {
      "text/plain": [
       "{'msg': 'Saved', 'code': 200, 'data': None, 'sdkErrorCode': 0}"
      ]
     },
     "execution_count": 13,
     "metadata": {},
     "output_type": "execute_result"
    },
    {
     "data": {
      "text/plain": [
       "{'msg': 'Saved', 'code': 200, 'data': None, 'sdkErrorCode': 0}"
      ]
     },
     "execution_count": 13,
     "metadata": {},
     "output_type": "execute_result"
    },
    {
     "data": {
      "text/plain": [
       "{'msg': 'Saved', 'code': 200, 'data': None, 'sdkErrorCode': 0}"
      ]
     },
     "execution_count": 13,
     "metadata": {},
     "output_type": "execute_result"
    },
    {
     "data": {
      "text/plain": [
       "{'msg': 'Saved', 'code': 200, 'data': None, 'sdkErrorCode': 0}"
      ]
     },
     "execution_count": 13,
     "metadata": {},
     "output_type": "execute_result"
    },
    {
     "data": {
      "text/plain": [
       "{'msg': 'Saved', 'code': 200, 'data': None, 'sdkErrorCode': 0}"
      ]
     },
     "execution_count": 13,
     "metadata": {},
     "output_type": "execute_result"
    },
    {
     "data": {
      "text/plain": [
       "{'msg': 'Saved', 'code': 200, 'data': None, 'sdkErrorCode': 0}"
      ]
     },
     "execution_count": 13,
     "metadata": {},
     "output_type": "execute_result"
    },
    {
     "data": {
      "text/plain": [
       "{'msg': 'Saved', 'code': 200, 'data': None, 'sdkErrorCode': 0}"
      ]
     },
     "execution_count": 13,
     "metadata": {},
     "output_type": "execute_result"
    },
    {
     "data": {
      "text/plain": [
       "{'msg': 'Saved', 'code': 200, 'data': None, 'sdkErrorCode': 0}"
      ]
     },
     "execution_count": 13,
     "metadata": {},
     "output_type": "execute_result"
    },
    {
     "data": {
      "text/plain": [
       "{'msg': 'Saved', 'code': 200, 'data': None, 'sdkErrorCode': 0}"
      ]
     },
     "execution_count": 13,
     "metadata": {},
     "output_type": "execute_result"
    },
    {
     "data": {
      "text/plain": [
       "{'msg': 'Saved', 'code': 200, 'data': None, 'sdkErrorCode': 0}"
      ]
     },
     "execution_count": 13,
     "metadata": {},
     "output_type": "execute_result"
    },
    {
     "data": {
      "text/plain": [
       "{'msg': 'Saved', 'code': 200, 'data': None, 'sdkErrorCode': 0}"
      ]
     },
     "execution_count": 13,
     "metadata": {},
     "output_type": "execute_result"
    },
    {
     "data": {
      "text/plain": [
       "{'msg': 'Saved', 'code': 200, 'data': None, 'sdkErrorCode': 0}"
      ]
     },
     "execution_count": 13,
     "metadata": {},
     "output_type": "execute_result"
    },
    {
     "data": {
      "text/plain": [
       "{'msg': 'Saved', 'code': 200, 'data': None, 'sdkErrorCode': 0}"
      ]
     },
     "execution_count": 13,
     "metadata": {},
     "output_type": "execute_result"
    },
    {
     "data": {
      "text/plain": [
       "{'msg': 'Saved', 'code': 200, 'data': None, 'sdkErrorCode': 0}"
      ]
     },
     "execution_count": 13,
     "metadata": {},
     "output_type": "execute_result"
    },
    {
     "data": {
      "text/plain": [
       "{'msg': 'Saved', 'code': 200, 'data': None, 'sdkErrorCode': 0}"
      ]
     },
     "execution_count": 13,
     "metadata": {},
     "output_type": "execute_result"
    },
    {
     "data": {
      "text/plain": [
       "{'msg': 'Saved', 'code': 200, 'data': None, 'sdkErrorCode': 0}"
      ]
     },
     "execution_count": 13,
     "metadata": {},
     "output_type": "execute_result"
    },
    {
     "data": {
      "text/plain": [
       "{'msg': 'Saved', 'code': 200, 'data': None, 'sdkErrorCode': 0}"
      ]
     },
     "execution_count": 13,
     "metadata": {},
     "output_type": "execute_result"
    },
    {
     "data": {
      "text/plain": [
       "{'msg': 'Saved', 'code': 200, 'data': None, 'sdkErrorCode': 0}"
      ]
     },
     "execution_count": 13,
     "metadata": {},
     "output_type": "execute_result"
    },
    {
     "data": {
      "text/plain": [
       "{'msg': 'Saved', 'code': 200, 'data': None, 'sdkErrorCode': 0}"
      ]
     },
     "execution_count": 13,
     "metadata": {},
     "output_type": "execute_result"
    },
    {
     "data": {
      "text/plain": [
       "{'msg': 'Saved', 'code': 200, 'data': None, 'sdkErrorCode': 0}"
      ]
     },
     "execution_count": 13,
     "metadata": {},
     "output_type": "execute_result"
    },
    {
     "data": {
      "text/plain": [
       "{'msg': 'Saved', 'code': 200, 'data': None, 'sdkErrorCode': 0}"
      ]
     },
     "execution_count": 13,
     "metadata": {},
     "output_type": "execute_result"
    },
    {
     "data": {
      "text/plain": [
       "{'msg': 'Saved', 'code': 200, 'data': None, 'sdkErrorCode': 0}"
      ]
     },
     "execution_count": 13,
     "metadata": {},
     "output_type": "execute_result"
    },
    {
     "data": {
      "text/plain": [
       "{'msg': 'Saved', 'code': 200, 'data': None, 'sdkErrorCode': 0}"
      ]
     },
     "execution_count": 13,
     "metadata": {},
     "output_type": "execute_result"
    },
    {
     "data": {
      "text/plain": [
       "{'msg': 'Saved', 'code': 200, 'data': None, 'sdkErrorCode': 0}"
      ]
     },
     "execution_count": 13,
     "metadata": {},
     "output_type": "execute_result"
    },
    {
     "data": {
      "text/plain": [
       "{'msg': 'Saved', 'code': 200, 'data': None, 'sdkErrorCode': 0}"
      ]
     },
     "execution_count": 13,
     "metadata": {},
     "output_type": "execute_result"
    },
    {
     "data": {
      "text/plain": [
       "{'msg': 'Saved', 'code': 200, 'data': None, 'sdkErrorCode': 0}"
      ]
     },
     "execution_count": 13,
     "metadata": {},
     "output_type": "execute_result"
    },
    {
     "data": {
      "text/plain": [
       "{'msg': 'Saved', 'code': 200, 'data': None, 'sdkErrorCode': 0}"
      ]
     },
     "execution_count": 13,
     "metadata": {},
     "output_type": "execute_result"
    },
    {
     "data": {
      "text/plain": [
       "{'msg': 'Saved', 'code': 200, 'data': None, 'sdkErrorCode': 0}"
      ]
     },
     "execution_count": 13,
     "metadata": {},
     "output_type": "execute_result"
    },
    {
     "data": {
      "text/plain": [
       "{'msg': 'Saved', 'code': 200, 'data': None, 'sdkErrorCode': 0}"
      ]
     },
     "execution_count": 13,
     "metadata": {},
     "output_type": "execute_result"
    },
    {
     "data": {
      "text/plain": [
       "{'msg': 'Saved', 'code': 200, 'data': None, 'sdkErrorCode': 0}"
      ]
     },
     "execution_count": 13,
     "metadata": {},
     "output_type": "execute_result"
    },
    {
     "data": {
      "text/plain": [
       "{'msg': 'Saved', 'code': 200, 'data': None, 'sdkErrorCode': 0}"
      ]
     },
     "execution_count": 13,
     "metadata": {},
     "output_type": "execute_result"
    },
    {
     "data": {
      "text/plain": [
       "{'msg': 'Saved', 'code': 200, 'data': None, 'sdkErrorCode': 0}"
      ]
     },
     "execution_count": 13,
     "metadata": {},
     "output_type": "execute_result"
    },
    {
     "data": {
      "text/plain": [
       "{'msg': 'Saved', 'code': 200, 'data': None, 'sdkErrorCode': 0}"
      ]
     },
     "execution_count": 13,
     "metadata": {},
     "output_type": "execute_result"
    },
    {
     "data": {
      "text/plain": [
       "{'msg': 'Saved', 'code': 200, 'data': None, 'sdkErrorCode': 0}"
      ]
     },
     "execution_count": 13,
     "metadata": {},
     "output_type": "execute_result"
    },
    {
     "data": {
      "text/plain": [
       "{'msg': 'Saved', 'code': 200, 'data': None, 'sdkErrorCode': 0}"
      ]
     },
     "execution_count": 13,
     "metadata": {},
     "output_type": "execute_result"
    },
    {
     "data": {
      "text/plain": [
       "{'msg': 'Saved', 'code': 200, 'data': None, 'sdkErrorCode': 0}"
      ]
     },
     "execution_count": 13,
     "metadata": {},
     "output_type": "execute_result"
    },
    {
     "data": {
      "text/plain": [
       "{'msg': 'Saved', 'code': 200, 'data': None, 'sdkErrorCode': 0}"
      ]
     },
     "execution_count": 13,
     "metadata": {},
     "output_type": "execute_result"
    },
    {
     "data": {
      "text/plain": [
       "{'msg': 'Saved', 'code': 200, 'data': None, 'sdkErrorCode': 0}"
      ]
     },
     "execution_count": 13,
     "metadata": {},
     "output_type": "execute_result"
    },
    {
     "data": {
      "text/plain": [
       "{'msg': 'Saved', 'code': 200, 'data': None, 'sdkErrorCode': 0}"
      ]
     },
     "execution_count": 13,
     "metadata": {},
     "output_type": "execute_result"
    },
    {
     "data": {
      "text/plain": [
       "{'msg': 'Saved', 'code': 200, 'data': None, 'sdkErrorCode': 0}"
      ]
     },
     "execution_count": 13,
     "metadata": {},
     "output_type": "execute_result"
    },
    {
     "data": {
      "text/plain": [
       "{'msg': 'Saved', 'code': 200, 'data': None, 'sdkErrorCode': 0}"
      ]
     },
     "execution_count": 13,
     "metadata": {},
     "output_type": "execute_result"
    },
    {
     "data": {
      "text/plain": [
       "{'msg': 'Saved', 'code': 200, 'data': None, 'sdkErrorCode': 0}"
      ]
     },
     "execution_count": 13,
     "metadata": {},
     "output_type": "execute_result"
    },
    {
     "data": {
      "text/plain": [
       "{'msg': 'Saved', 'code': 200, 'data': None, 'sdkErrorCode': 0}"
      ]
     },
     "execution_count": 13,
     "metadata": {},
     "output_type": "execute_result"
    },
    {
     "data": {
      "text/plain": [
       "{'msg': 'Saved', 'code': 200, 'data': None, 'sdkErrorCode': 0}"
      ]
     },
     "execution_count": 13,
     "metadata": {},
     "output_type": "execute_result"
    },
    {
     "data": {
      "text/plain": [
       "{'msg': 'Saved', 'code': 200, 'data': None, 'sdkErrorCode': 0}"
      ]
     },
     "execution_count": 13,
     "metadata": {},
     "output_type": "execute_result"
    },
    {
     "data": {
      "text/plain": [
       "{'msg': 'Saved', 'code': 200, 'data': None, 'sdkErrorCode': 0}"
      ]
     },
     "execution_count": 13,
     "metadata": {},
     "output_type": "execute_result"
    },
    {
     "data": {
      "text/plain": [
       "{'msg': 'Saved', 'code': 200, 'data': None, 'sdkErrorCode': 0}"
      ]
     },
     "execution_count": 13,
     "metadata": {},
     "output_type": "execute_result"
    },
    {
     "data": {
      "text/plain": [
       "{'msg': 'Saved', 'code': 200, 'data': None, 'sdkErrorCode': 0}"
      ]
     },
     "execution_count": 13,
     "metadata": {},
     "output_type": "execute_result"
    },
    {
     "data": {
      "text/plain": [
       "{'msg': 'Saved', 'code': 200, 'data': None, 'sdkErrorCode': 0}"
      ]
     },
     "execution_count": 13,
     "metadata": {},
     "output_type": "execute_result"
    },
    {
     "data": {
      "text/plain": [
       "{'msg': 'Saved', 'code': 200, 'data': None, 'sdkErrorCode': 0}"
      ]
     },
     "execution_count": 13,
     "metadata": {},
     "output_type": "execute_result"
    },
    {
     "data": {
      "text/plain": [
       "{'msg': 'Saved', 'code': 200, 'data': None, 'sdkErrorCode': 0}"
      ]
     },
     "execution_count": 13,
     "metadata": {},
     "output_type": "execute_result"
    },
    {
     "data": {
      "text/plain": [
       "{'msg': 'Saved', 'code': 200, 'data': None, 'sdkErrorCode': 0}"
      ]
     },
     "execution_count": 13,
     "metadata": {},
     "output_type": "execute_result"
    },
    {
     "data": {
      "text/plain": [
       "{'msg': 'Saved', 'code': 200, 'data': None, 'sdkErrorCode': 0}"
      ]
     },
     "execution_count": 13,
     "metadata": {},
     "output_type": "execute_result"
    },
    {
     "data": {
      "text/plain": [
       "{'msg': 'Saved', 'code': 200, 'data': None, 'sdkErrorCode': 0}"
      ]
     },
     "execution_count": 13,
     "metadata": {},
     "output_type": "execute_result"
    },
    {
     "data": {
      "text/plain": [
       "{'msg': 'Saved', 'code': 200, 'data': None, 'sdkErrorCode': 0}"
      ]
     },
     "execution_count": 13,
     "metadata": {},
     "output_type": "execute_result"
    },
    {
     "data": {
      "text/plain": [
       "{'msg': 'Saved', 'code': 200, 'data': None, 'sdkErrorCode': 0}"
      ]
     },
     "execution_count": 13,
     "metadata": {},
     "output_type": "execute_result"
    },
    {
     "data": {
      "text/plain": [
       "{'msg': 'Saved', 'code': 200, 'data': None, 'sdkErrorCode': 0}"
      ]
     },
     "execution_count": 13,
     "metadata": {},
     "output_type": "execute_result"
    },
    {
     "data": {
      "text/plain": [
       "{'msg': 'Saved', 'code': 200, 'data': None, 'sdkErrorCode': 0}"
      ]
     },
     "execution_count": 13,
     "metadata": {},
     "output_type": "execute_result"
    },
    {
     "data": {
      "text/plain": [
       "{'msg': 'Saved', 'code': 200, 'data': None, 'sdkErrorCode': 0}"
      ]
     },
     "execution_count": 13,
     "metadata": {},
     "output_type": "execute_result"
    },
    {
     "data": {
      "text/plain": [
       "{'msg': 'Saved', 'code': 200, 'data': None, 'sdkErrorCode': 0}"
      ]
     },
     "execution_count": 13,
     "metadata": {},
     "output_type": "execute_result"
    },
    {
     "data": {
      "text/plain": [
       "{'msg': 'Saved', 'code': 200, 'data': None, 'sdkErrorCode': 0}"
      ]
     },
     "execution_count": 13,
     "metadata": {},
     "output_type": "execute_result"
    },
    {
     "data": {
      "text/plain": [
       "{'msg': 'Saved', 'code': 200, 'data': None, 'sdkErrorCode': 0}"
      ]
     },
     "execution_count": 13,
     "metadata": {},
     "output_type": "execute_result"
    },
    {
     "data": {
      "text/plain": [
       "{'msg': 'Saved', 'code': 200, 'data': None, 'sdkErrorCode': 0}"
      ]
     },
     "execution_count": 13,
     "metadata": {},
     "output_type": "execute_result"
    },
    {
     "data": {
      "text/plain": [
       "{'msg': 'Saved', 'code': 200, 'data': None, 'sdkErrorCode': 0}"
      ]
     },
     "execution_count": 13,
     "metadata": {},
     "output_type": "execute_result"
    },
    {
     "data": {
      "text/plain": [
       "{'msg': 'Saved', 'code': 200, 'data': None, 'sdkErrorCode': 0}"
      ]
     },
     "execution_count": 13,
     "metadata": {},
     "output_type": "execute_result"
    },
    {
     "data": {
      "text/plain": [
       "{'msg': 'Saved', 'code': 200, 'data': None, 'sdkErrorCode': 0}"
      ]
     },
     "execution_count": 13,
     "metadata": {},
     "output_type": "execute_result"
    },
    {
     "data": {
      "text/plain": [
       "{'msg': 'Saved', 'code': 200, 'data': None, 'sdkErrorCode': 0}"
      ]
     },
     "execution_count": 13,
     "metadata": {},
     "output_type": "execute_result"
    },
    {
     "data": {
      "text/plain": [
       "{'msg': 'Saved', 'code': 200, 'data': None, 'sdkErrorCode': 0}"
      ]
     },
     "execution_count": 13,
     "metadata": {},
     "output_type": "execute_result"
    },
    {
     "data": {
      "text/plain": [
       "{'msg': 'Saved', 'code': 200, 'data': None, 'sdkErrorCode': 0}"
      ]
     },
     "execution_count": 13,
     "metadata": {},
     "output_type": "execute_result"
    },
    {
     "data": {
      "text/plain": [
       "{'msg': 'Saved', 'code': 200, 'data': None, 'sdkErrorCode': 0}"
      ]
     },
     "execution_count": 13,
     "metadata": {},
     "output_type": "execute_result"
    },
    {
     "data": {
      "text/plain": [
       "{'msg': 'Saved', 'code': 200, 'data': None, 'sdkErrorCode': 0}"
      ]
     },
     "execution_count": 13,
     "metadata": {},
     "output_type": "execute_result"
    },
    {
     "data": {
      "text/plain": [
       "{'msg': 'Saved', 'code': 200, 'data': None, 'sdkErrorCode': 0}"
      ]
     },
     "execution_count": 13,
     "metadata": {},
     "output_type": "execute_result"
    },
    {
     "data": {
      "text/plain": [
       "{'msg': 'Saved', 'code': 200, 'data': None, 'sdkErrorCode': 0}"
      ]
     },
     "execution_count": 13,
     "metadata": {},
     "output_type": "execute_result"
    },
    {
     "data": {
      "text/plain": [
       "{'msg': 'Saved', 'code': 200, 'data': None, 'sdkErrorCode': 0}"
      ]
     },
     "execution_count": 13,
     "metadata": {},
     "output_type": "execute_result"
    },
    {
     "data": {
      "text/plain": [
       "{'msg': 'Saved', 'code': 200, 'data': None, 'sdkErrorCode': 0}"
      ]
     },
     "execution_count": 13,
     "metadata": {},
     "output_type": "execute_result"
    },
    {
     "data": {
      "text/plain": [
       "{'msg': 'Saved', 'code': 200, 'data': None, 'sdkErrorCode': 0}"
      ]
     },
     "execution_count": 13,
     "metadata": {},
     "output_type": "execute_result"
    },
    {
     "data": {
      "text/plain": [
       "{'msg': 'Saved', 'code': 200, 'data': None, 'sdkErrorCode': 0}"
      ]
     },
     "execution_count": 13,
     "metadata": {},
     "output_type": "execute_result"
    },
    {
     "data": {
      "text/plain": [
       "{'msg': 'Saved', 'code': 200, 'data': None, 'sdkErrorCode': 0}"
      ]
     },
     "execution_count": 13,
     "metadata": {},
     "output_type": "execute_result"
    },
    {
     "data": {
      "text/plain": [
       "{'msg': 'Saved', 'code': 200, 'data': None, 'sdkErrorCode': 0}"
      ]
     },
     "execution_count": 13,
     "metadata": {},
     "output_type": "execute_result"
    },
    {
     "data": {
      "text/plain": [
       "{'msg': 'Saved', 'code': 200, 'data': None, 'sdkErrorCode': 0}"
      ]
     },
     "execution_count": 13,
     "metadata": {},
     "output_type": "execute_result"
    },
    {
     "data": {
      "text/plain": [
       "{'msg': 'Saved', 'code': 200, 'data': None, 'sdkErrorCode': 0}"
      ]
     },
     "execution_count": 13,
     "metadata": {},
     "output_type": "execute_result"
    },
    {
     "data": {
      "text/plain": [
       "{'msg': 'Saved', 'code': 200, 'data': None, 'sdkErrorCode': 0}"
      ]
     },
     "execution_count": 13,
     "metadata": {},
     "output_type": "execute_result"
    },
    {
     "data": {
      "text/plain": [
       "{'msg': 'Saved', 'code': 200, 'data': None, 'sdkErrorCode': 0}"
      ]
     },
     "execution_count": 13,
     "metadata": {},
     "output_type": "execute_result"
    },
    {
     "data": {
      "text/plain": [
       "{'msg': 'Saved', 'code': 200, 'data': None, 'sdkErrorCode': 0}"
      ]
     },
     "execution_count": 13,
     "metadata": {},
     "output_type": "execute_result"
    },
    {
     "data": {
      "text/plain": [
       "{'msg': 'Saved', 'code': 200, 'data': None, 'sdkErrorCode': 0}"
      ]
     },
     "execution_count": 13,
     "metadata": {},
     "output_type": "execute_result"
    },
    {
     "data": {
      "text/plain": [
       "{'msg': 'Saved', 'code': 200, 'data': None, 'sdkErrorCode': 0}"
      ]
     },
     "execution_count": 13,
     "metadata": {},
     "output_type": "execute_result"
    },
    {
     "data": {
      "text/plain": [
       "{'msg': 'Saved', 'code': 200, 'data': None, 'sdkErrorCode': 0}"
      ]
     },
     "execution_count": 13,
     "metadata": {},
     "output_type": "execute_result"
    },
    {
     "data": {
      "text/plain": [
       "{'msg': 'Saved', 'code': 200, 'data': None, 'sdkErrorCode': 0}"
      ]
     },
     "execution_count": 13,
     "metadata": {},
     "output_type": "execute_result"
    },
    {
     "data": {
      "text/plain": [
       "{'msg': 'Saved', 'code': 200, 'data': None, 'sdkErrorCode': 0}"
      ]
     },
     "execution_count": 13,
     "metadata": {},
     "output_type": "execute_result"
    },
    {
     "data": {
      "text/plain": [
       "{'msg': 'Saved', 'code': 200, 'data': None, 'sdkErrorCode': 0}"
      ]
     },
     "execution_count": 13,
     "metadata": {},
     "output_type": "execute_result"
    },
    {
     "data": {
      "text/plain": [
       "{'msg': 'Saved', 'code': 200, 'data': None, 'sdkErrorCode': 0}"
      ]
     },
     "execution_count": 13,
     "metadata": {},
     "output_type": "execute_result"
    },
    {
     "data": {
      "text/plain": [
       "{'msg': 'Saved', 'code': 200, 'data': None, 'sdkErrorCode': 0}"
      ]
     },
     "execution_count": 13,
     "metadata": {},
     "output_type": "execute_result"
    },
    {
     "data": {
      "text/plain": [
       "{'msg': 'Saved', 'code': 200, 'data': None, 'sdkErrorCode': 0}"
      ]
     },
     "execution_count": 13,
     "metadata": {},
     "output_type": "execute_result"
    },
    {
     "data": {
      "text/plain": [
       "{'msg': 'Saved', 'code': 200, 'data': None, 'sdkErrorCode': 0}"
      ]
     },
     "execution_count": 13,
     "metadata": {},
     "output_type": "execute_result"
    },
    {
     "data": {
      "text/plain": [
       "{'msg': 'Saved', 'code': 200, 'data': None, 'sdkErrorCode': 0}"
      ]
     },
     "execution_count": 13,
     "metadata": {},
     "output_type": "execute_result"
    },
    {
     "data": {
      "text/plain": [
       "{'msg': 'Saved', 'code': 200, 'data': None, 'sdkErrorCode': 0}"
      ]
     },
     "execution_count": 13,
     "metadata": {},
     "output_type": "execute_result"
    },
    {
     "data": {
      "text/plain": [
       "{'msg': 'Saved', 'code': 200, 'data': None, 'sdkErrorCode': 0}"
      ]
     },
     "execution_count": 13,
     "metadata": {},
     "output_type": "execute_result"
    },
    {
     "data": {
      "text/plain": [
       "{'msg': 'Saved', 'code': 200, 'data': None, 'sdkErrorCode': 0}"
      ]
     },
     "execution_count": 13,
     "metadata": {},
     "output_type": "execute_result"
    },
    {
     "data": {
      "text/plain": [
       "{'msg': 'Saved', 'code': 200, 'data': None, 'sdkErrorCode': 0}"
      ]
     },
     "execution_count": 13,
     "metadata": {},
     "output_type": "execute_result"
    },
    {
     "data": {
      "text/plain": [
       "{'msg': 'Saved', 'code': 200, 'data': None, 'sdkErrorCode': 0}"
      ]
     },
     "execution_count": 13,
     "metadata": {},
     "output_type": "execute_result"
    },
    {
     "data": {
      "text/plain": [
       "{'msg': 'Saved', 'code': 200, 'data': None, 'sdkErrorCode': 0}"
      ]
     },
     "execution_count": 13,
     "metadata": {},
     "output_type": "execute_result"
    },
    {
     "data": {
      "text/plain": [
       "{'msg': 'Saved', 'code': 200, 'data': None, 'sdkErrorCode': 0}"
      ]
     },
     "execution_count": 13,
     "metadata": {},
     "output_type": "execute_result"
    },
    {
     "data": {
      "text/plain": [
       "{'msg': 'Saved', 'code': 200, 'data': None, 'sdkErrorCode': 0}"
      ]
     },
     "execution_count": 13,
     "metadata": {},
     "output_type": "execute_result"
    },
    {
     "data": {
      "text/plain": [
       "{'msg': 'Saved', 'code': 200, 'data': None, 'sdkErrorCode': 0}"
      ]
     },
     "execution_count": 13,
     "metadata": {},
     "output_type": "execute_result"
    },
    {
     "data": {
      "text/plain": [
       "{'msg': 'Saved', 'code': 200, 'data': None, 'sdkErrorCode': 0}"
      ]
     },
     "execution_count": 13,
     "metadata": {},
     "output_type": "execute_result"
    },
    {
     "data": {
      "text/plain": [
       "{'msg': 'Saved', 'code': 200, 'data': None, 'sdkErrorCode': 0}"
      ]
     },
     "execution_count": 13,
     "metadata": {},
     "output_type": "execute_result"
    },
    {
     "data": {
      "text/plain": [
       "{'msg': 'Saved', 'code': 200, 'data': None, 'sdkErrorCode': 0}"
      ]
     },
     "execution_count": 13,
     "metadata": {},
     "output_type": "execute_result"
    },
    {
     "data": {
      "text/plain": [
       "{'msg': 'Saved', 'code': 200, 'data': None, 'sdkErrorCode': 0}"
      ]
     },
     "execution_count": 13,
     "metadata": {},
     "output_type": "execute_result"
    },
    {
     "data": {
      "text/plain": [
       "{'msg': 'Saved', 'code': 200, 'data': None, 'sdkErrorCode': 0}"
      ]
     },
     "execution_count": 13,
     "metadata": {},
     "output_type": "execute_result"
    },
    {
     "data": {
      "text/plain": [
       "{'msg': 'Saved', 'code': 200, 'data': None, 'sdkErrorCode': 0}"
      ]
     },
     "execution_count": 13,
     "metadata": {},
     "output_type": "execute_result"
    },
    {
     "data": {
      "text/plain": [
       "{'msg': 'Saved', 'code': 200, 'data': None, 'sdkErrorCode': 0}"
      ]
     },
     "execution_count": 13,
     "metadata": {},
     "output_type": "execute_result"
    },
    {
     "data": {
      "text/plain": [
       "{'msg': 'Saved', 'code': 200, 'data': None, 'sdkErrorCode': 0}"
      ]
     },
     "execution_count": 13,
     "metadata": {},
     "output_type": "execute_result"
    },
    {
     "data": {
      "text/plain": [
       "{'msg': 'Saved', 'code': 200, 'data': None, 'sdkErrorCode': 0}"
      ]
     },
     "execution_count": 13,
     "metadata": {},
     "output_type": "execute_result"
    },
    {
     "data": {
      "text/plain": [
       "{'msg': 'Saved', 'code': 200, 'data': None, 'sdkErrorCode': 0}"
      ]
     },
     "execution_count": 13,
     "metadata": {},
     "output_type": "execute_result"
    },
    {
     "data": {
      "text/plain": [
       "{'msg': 'Saved', 'code': 200, 'data': None, 'sdkErrorCode': 0}"
      ]
     },
     "execution_count": 13,
     "metadata": {},
     "output_type": "execute_result"
    },
    {
     "data": {
      "text/plain": [
       "{'msg': 'Saved', 'code': 200, 'data': None, 'sdkErrorCode': 0}"
      ]
     },
     "execution_count": 13,
     "metadata": {},
     "output_type": "execute_result"
    },
    {
     "data": {
      "text/plain": [
       "{'msg': 'Saved', 'code': 200, 'data': None, 'sdkErrorCode': 0}"
      ]
     },
     "execution_count": 13,
     "metadata": {},
     "output_type": "execute_result"
    },
    {
     "data": {
      "text/plain": [
       "{'msg': 'Saved', 'code': 200, 'data': None, 'sdkErrorCode': 0}"
      ]
     },
     "execution_count": 13,
     "metadata": {},
     "output_type": "execute_result"
    },
    {
     "data": {
      "text/plain": [
       "{'msg': 'Saved', 'code': 200, 'data': None, 'sdkErrorCode': 0}"
      ]
     },
     "execution_count": 13,
     "metadata": {},
     "output_type": "execute_result"
    },
    {
     "data": {
      "text/plain": [
       "{'msg': 'Saved', 'code': 200, 'data': None, 'sdkErrorCode': 0}"
      ]
     },
     "execution_count": 13,
     "metadata": {},
     "output_type": "execute_result"
    },
    {
     "data": {
      "text/plain": [
       "{'msg': 'Saved', 'code': 200, 'data': None, 'sdkErrorCode': 0}"
      ]
     },
     "execution_count": 13,
     "metadata": {},
     "output_type": "execute_result"
    },
    {
     "data": {
      "text/plain": [
       "{'msg': 'Saved', 'code': 200, 'data': None, 'sdkErrorCode': 0}"
      ]
     },
     "execution_count": 13,
     "metadata": {},
     "output_type": "execute_result"
    },
    {
     "data": {
      "text/plain": [
       "{'msg': 'Saved', 'code': 200, 'data': None, 'sdkErrorCode': 0}"
      ]
     },
     "execution_count": 13,
     "metadata": {},
     "output_type": "execute_result"
    },
    {
     "data": {
      "text/plain": [
       "{'msg': 'Saved', 'code': 200, 'data': None, 'sdkErrorCode': 0}"
      ]
     },
     "execution_count": 13,
     "metadata": {},
     "output_type": "execute_result"
    },
    {
     "data": {
      "text/plain": [
       "{'msg': 'Saved', 'code': 200, 'data': None, 'sdkErrorCode': 0}"
      ]
     },
     "execution_count": 13,
     "metadata": {},
     "output_type": "execute_result"
    },
    {
     "data": {
      "text/plain": [
       "{'msg': 'Saved', 'code': 200, 'data': None, 'sdkErrorCode': 0}"
      ]
     },
     "execution_count": 13,
     "metadata": {},
     "output_type": "execute_result"
    },
    {
     "data": {
      "text/plain": [
       "{'msg': 'Saved', 'code': 200, 'data': None, 'sdkErrorCode': 0}"
      ]
     },
     "execution_count": 13,
     "metadata": {},
     "output_type": "execute_result"
    },
    {
     "data": {
      "text/plain": [
       "{'msg': 'Saved', 'code': 200, 'data': None, 'sdkErrorCode': 0}"
      ]
     },
     "execution_count": 13,
     "metadata": {},
     "output_type": "execute_result"
    },
    {
     "data": {
      "text/plain": [
       "{'msg': 'Saved', 'code': 200, 'data': None, 'sdkErrorCode': 0}"
      ]
     },
     "execution_count": 13,
     "metadata": {},
     "output_type": "execute_result"
    },
    {
     "data": {
      "text/plain": [
       "{'msg': 'Saved', 'code': 200, 'data': None, 'sdkErrorCode': 0}"
      ]
     },
     "execution_count": 13,
     "metadata": {},
     "output_type": "execute_result"
    },
    {
     "data": {
      "text/plain": [
       "{'msg': 'Saved', 'code': 200, 'data': None, 'sdkErrorCode': 0}"
      ]
     },
     "execution_count": 13,
     "metadata": {},
     "output_type": "execute_result"
    },
    {
     "data": {
      "text/plain": [
       "{'msg': 'Saved', 'code': 200, 'data': None, 'sdkErrorCode': 0}"
      ]
     },
     "execution_count": 13,
     "metadata": {},
     "output_type": "execute_result"
    },
    {
     "data": {
      "text/plain": [
       "{'msg': 'Saved', 'code': 200, 'data': None, 'sdkErrorCode': 0}"
      ]
     },
     "execution_count": 13,
     "metadata": {},
     "output_type": "execute_result"
    },
    {
     "data": {
      "text/plain": [
       "{'msg': 'Saved', 'code': 200, 'data': None, 'sdkErrorCode': 0}"
      ]
     },
     "execution_count": 13,
     "metadata": {},
     "output_type": "execute_result"
    },
    {
     "data": {
      "text/plain": [
       "{'msg': 'Saved', 'code': 200, 'data': None, 'sdkErrorCode': 0}"
      ]
     },
     "execution_count": 13,
     "metadata": {},
     "output_type": "execute_result"
    },
    {
     "data": {
      "text/plain": [
       "{'msg': 'Saved', 'code': 200, 'data': None, 'sdkErrorCode': 0}"
      ]
     },
     "execution_count": 13,
     "metadata": {},
     "output_type": "execute_result"
    },
    {
     "data": {
      "text/plain": [
       "{'msg': 'Saved', 'code': 200, 'data': None, 'sdkErrorCode': 0}"
      ]
     },
     "execution_count": 13,
     "metadata": {},
     "output_type": "execute_result"
    },
    {
     "data": {
      "text/plain": [
       "{'msg': 'Saved', 'code': 200, 'data': None, 'sdkErrorCode': 0}"
      ]
     },
     "execution_count": 13,
     "metadata": {},
     "output_type": "execute_result"
    },
    {
     "data": {
      "text/plain": [
       "{'msg': 'Saved', 'code': 200, 'data': None, 'sdkErrorCode': 0}"
      ]
     },
     "execution_count": 13,
     "metadata": {},
     "output_type": "execute_result"
    },
    {
     "data": {
      "text/plain": [
       "{'msg': 'Saved', 'code': 200, 'data': None, 'sdkErrorCode': 0}"
      ]
     },
     "execution_count": 13,
     "metadata": {},
     "output_type": "execute_result"
    },
    {
     "data": {
      "text/plain": [
       "{'msg': 'Saved', 'code': 200, 'data': None, 'sdkErrorCode': 0}"
      ]
     },
     "execution_count": 13,
     "metadata": {},
     "output_type": "execute_result"
    },
    {
     "data": {
      "text/plain": [
       "{'msg': 'Saved', 'code': 200, 'data': None, 'sdkErrorCode': 0}"
      ]
     },
     "execution_count": 13,
     "metadata": {},
     "output_type": "execute_result"
    },
    {
     "data": {
      "text/plain": [
       "{'msg': 'Saved', 'code': 200, 'data': None, 'sdkErrorCode': 0}"
      ]
     },
     "execution_count": 13,
     "metadata": {},
     "output_type": "execute_result"
    },
    {
     "data": {
      "text/plain": [
       "{'msg': 'Saved', 'code': 200, 'data': None, 'sdkErrorCode': 0}"
      ]
     },
     "execution_count": 13,
     "metadata": {},
     "output_type": "execute_result"
    },
    {
     "data": {
      "text/plain": [
       "{'msg': 'Saved', 'code': 200, 'data': None, 'sdkErrorCode': 0}"
      ]
     },
     "execution_count": 13,
     "metadata": {},
     "output_type": "execute_result"
    },
    {
     "data": {
      "text/plain": [
       "{'msg': 'Saved', 'code': 200, 'data': None, 'sdkErrorCode': 0}"
      ]
     },
     "execution_count": 13,
     "metadata": {},
     "output_type": "execute_result"
    },
    {
     "data": {
      "text/plain": [
       "{'msg': 'Saved', 'code': 200, 'data': None, 'sdkErrorCode': 0}"
      ]
     },
     "execution_count": 13,
     "metadata": {},
     "output_type": "execute_result"
    },
    {
     "data": {
      "text/plain": [
       "{'msg': 'Saved', 'code': 200, 'data': None, 'sdkErrorCode': 0}"
      ]
     },
     "execution_count": 13,
     "metadata": {},
     "output_type": "execute_result"
    },
    {
     "data": {
      "text/plain": [
       "{'msg': 'Saved', 'code': 200, 'data': None, 'sdkErrorCode': 0}"
      ]
     },
     "execution_count": 13,
     "metadata": {},
     "output_type": "execute_result"
    },
    {
     "data": {
      "text/plain": [
       "{'msg': 'Saved', 'code': 200, 'data': None, 'sdkErrorCode': 0}"
      ]
     },
     "execution_count": 13,
     "metadata": {},
     "output_type": "execute_result"
    },
    {
     "data": {
      "text/plain": [
       "{'msg': 'Saved', 'code': 200, 'data': None, 'sdkErrorCode': 0}"
      ]
     },
     "execution_count": 13,
     "metadata": {},
     "output_type": "execute_result"
    },
    {
     "data": {
      "text/plain": [
       "{'msg': 'Saved', 'code': 200, 'data': None, 'sdkErrorCode': 0}"
      ]
     },
     "execution_count": 13,
     "metadata": {},
     "output_type": "execute_result"
    },
    {
     "data": {
      "text/plain": [
       "{'msg': 'Saved', 'code': 200, 'data': None, 'sdkErrorCode': 0}"
      ]
     },
     "execution_count": 13,
     "metadata": {},
     "output_type": "execute_result"
    },
    {
     "data": {
      "text/plain": [
       "{'msg': 'Saved', 'code': 200, 'data': None, 'sdkErrorCode': 0}"
      ]
     },
     "execution_count": 13,
     "metadata": {},
     "output_type": "execute_result"
    },
    {
     "data": {
      "text/plain": [
       "{'msg': 'Saved', 'code': 200, 'data': None, 'sdkErrorCode': 0}"
      ]
     },
     "execution_count": 13,
     "metadata": {},
     "output_type": "execute_result"
    },
    {
     "data": {
      "text/plain": [
       "{'msg': 'Saved', 'code': 200, 'data': None, 'sdkErrorCode': 0}"
      ]
     },
     "execution_count": 13,
     "metadata": {},
     "output_type": "execute_result"
    },
    {
     "data": {
      "text/plain": [
       "{'msg': 'Saved', 'code': 200, 'data': None, 'sdkErrorCode': 0}"
      ]
     },
     "execution_count": 13,
     "metadata": {},
     "output_type": "execute_result"
    },
    {
     "data": {
      "text/plain": [
       "{'msg': 'Saved', 'code': 200, 'data': None, 'sdkErrorCode': 0}"
      ]
     },
     "execution_count": 13,
     "metadata": {},
     "output_type": "execute_result"
    },
    {
     "data": {
      "text/plain": [
       "{'msg': 'Saved', 'code': 200, 'data': None, 'sdkErrorCode': 0}"
      ]
     },
     "execution_count": 13,
     "metadata": {},
     "output_type": "execute_result"
    },
    {
     "data": {
      "text/plain": [
       "{'msg': 'Saved', 'code': 200, 'data': None, 'sdkErrorCode': 0}"
      ]
     },
     "execution_count": 13,
     "metadata": {},
     "output_type": "execute_result"
    },
    {
     "data": {
      "text/plain": [
       "{'msg': 'Saved', 'code': 200, 'data': None, 'sdkErrorCode': 0}"
      ]
     },
     "execution_count": 13,
     "metadata": {},
     "output_type": "execute_result"
    },
    {
     "data": {
      "text/plain": [
       "{'msg': 'Saved', 'code': 200, 'data': None, 'sdkErrorCode': 0}"
      ]
     },
     "execution_count": 13,
     "metadata": {},
     "output_type": "execute_result"
    },
    {
     "data": {
      "text/plain": [
       "{'msg': 'Saved', 'code': 200, 'data': None, 'sdkErrorCode': 0}"
      ]
     },
     "execution_count": 13,
     "metadata": {},
     "output_type": "execute_result"
    },
    {
     "data": {
      "text/plain": [
       "{'msg': 'Saved', 'code': 200, 'data': None, 'sdkErrorCode': 0}"
      ]
     },
     "execution_count": 13,
     "metadata": {},
     "output_type": "execute_result"
    },
    {
     "data": {
      "text/plain": [
       "{'msg': 'Saved', 'code': 200, 'data': None, 'sdkErrorCode': 0}"
      ]
     },
     "execution_count": 13,
     "metadata": {},
     "output_type": "execute_result"
    },
    {
     "data": {
      "text/plain": [
       "{'msg': 'Saved', 'code': 200, 'data': None, 'sdkErrorCode': 0}"
      ]
     },
     "execution_count": 13,
     "metadata": {},
     "output_type": "execute_result"
    },
    {
     "data": {
      "text/plain": [
       "{'msg': 'Saved', 'code': 200, 'data': None, 'sdkErrorCode': 0}"
      ]
     },
     "execution_count": 13,
     "metadata": {},
     "output_type": "execute_result"
    },
    {
     "data": {
      "text/plain": [
       "{'msg': 'Saved', 'code': 200, 'data': None, 'sdkErrorCode': 0}"
      ]
     },
     "execution_count": 13,
     "metadata": {},
     "output_type": "execute_result"
    },
    {
     "data": {
      "text/plain": [
       "{'msg': 'Saved', 'code': 200, 'data': None, 'sdkErrorCode': 0}"
      ]
     },
     "execution_count": 13,
     "metadata": {},
     "output_type": "execute_result"
    }
   ],
   "source": [
    "for exp in exps:\n",
    "    test_start = exp.get_parameters_summary('test_start')['valueCurrent']\n",
    "    ols_rmse_norm = bench_fr.loc[bench_fr.test_start==pd.to_datetime(test_start)].test_rmse_fr_norm.to_list()[0]\n",
    "    exp.log_parameter('ols_rmse_norm', ols_rmse_norm)"
   ]
  },
  {
   "cell_type": "code",
   "execution_count": null,
   "metadata": {},
   "outputs": [],
   "source": []
  }
 ],
 "metadata": {
  "kernelspec": {
   "display_name": "Python 3",
   "language": "python",
   "name": "python3"
  },
  "language_info": {
   "codemirror_mode": {
    "name": "ipython",
    "version": 3
   },
   "file_extension": ".py",
   "mimetype": "text/x-python",
   "name": "python",
   "nbconvert_exporter": "python",
   "pygments_lexer": "ipython3",
   "version": "3.7.6"
  }
 },
 "nbformat": 4,
 "nbformat_minor": 4
}
