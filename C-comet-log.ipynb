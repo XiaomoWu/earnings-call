{
 "cells": [
  {
   "cell_type": "markdown",
   "metadata": {},
   "source": [
    "# init"
   ]
  },
  {
   "cell_type": "code",
   "execution_count": 1,
   "metadata": {},
   "outputs": [
    {
     "data": {
      "text/html": [
       "<style type='text/css'>\n",
       ".datatable table.frame { margin-bottom: 0; }\n",
       ".datatable table.frame thead { border-bottom: none; }\n",
       ".datatable table.frame tr.coltypes td {  color: #FFFFFF;  line-height: 6px;  padding: 0 0.5em;}\n",
       ".datatable .bool    { background: #DDDD99; }\n",
       ".datatable .object  { background: #565656; }\n",
       ".datatable .int     { background: #5D9E5D; }\n",
       ".datatable .float   { background: #4040CC; }\n",
       ".datatable .str     { background: #CC4040; }\n",
       ".datatable .row_index {  background: var(--jp-border-color3);  border-right: 1px solid var(--jp-border-color0);  color: var(--jp-ui-font-color3);  font-size: 9px;}\n",
       ".datatable .frame tr.coltypes .row_index {  background: var(--jp-border-color0);}\n",
       ".datatable th:nth-child(2) { padding-left: 12px; }\n",
       ".datatable .hellipsis {  color: var(--jp-cell-editor-border-color);}\n",
       ".datatable .vellipsis {  background: var(--jp-layout-color0);  color: var(--jp-cell-editor-border-color);}\n",
       ".datatable .na {  color: var(--jp-cell-editor-border-color);  font-size: 80%;}\n",
       ".datatable .footer { font-size: 9px; }\n",
       ".datatable .frame_dimensions {  background: var(--jp-border-color3);  border-top: 1px solid var(--jp-border-color0);  color: var(--jp-ui-font-color3);  display: inline-block;  opacity: 0.6;  padding: 1px 10px 1px 5px;}\n",
       "</style>\n"
      ],
      "text/plain": [
       "<IPython.core.display.HTML object>"
      ]
     },
     "metadata": {},
     "output_type": "display_data"
    },
    {
     "data": {
      "text/html": [
       "<style type='text/css'>\n",
       ".datatable table.frame { margin-bottom: 0; }\n",
       ".datatable table.frame thead { border-bottom: none; }\n",
       ".datatable table.frame tr.coltypes td {  color: #FFFFFF;  line-height: 6px;  padding: 0 0.5em;}\n",
       ".datatable .bool    { background: #DDDD99; }\n",
       ".datatable .object  { background: #565656; }\n",
       ".datatable .int     { background: #5D9E5D; }\n",
       ".datatable .float   { background: #4040CC; }\n",
       ".datatable .str     { background: #CC4040; }\n",
       ".datatable .row_index {  background: var(--jp-border-color3);  border-right: 1px solid var(--jp-border-color0);  color: var(--jp-ui-font-color3);  font-size: 9px;}\n",
       ".datatable .frame tr.coltypes .row_index {  background: var(--jp-border-color0);}\n",
       ".datatable th:nth-child(2) { padding-left: 12px; }\n",
       ".datatable .hellipsis {  color: var(--jp-cell-editor-border-color);}\n",
       ".datatable .vellipsis {  background: var(--jp-layout-color0);  color: var(--jp-cell-editor-border-color);}\n",
       ".datatable .na {  color: var(--jp-cell-editor-border-color);  font-size: 80%;}\n",
       ".datatable .footer { font-size: 9px; }\n",
       ".datatable .frame_dimensions {  background: var(--jp-border-color3);  border-top: 1px solid var(--jp-border-color0);  color: var(--jp-ui-font-color3);  display: inline-block;  opacity: 0.6;  padding: 1px 10px 1px 5px;}\n",
       "</style>\n"
      ],
      "text/plain": [
       "<IPython.core.display.HTML object>"
      ]
     },
     "metadata": {},
     "output_type": "display_data"
    }
   ],
   "source": [
    "import comet_ml\n",
    "import datatable as dt\n",
    "import pandas as pd\n",
    "import pyarrow.feather as feather\n",
    "import pyarrow as pa\n",
    "\n",
    "from tqdm.auto import tqdm\n",
    "from datatable import f, update\n",
    "\n",
    "dt.init_styles()"
   ]
  },
  {
   "cell_type": "markdown",
   "metadata": {},
   "source": [
    "# Download Comet"
   ]
  },
  {
   "cell_type": "markdown",
   "metadata": {},
   "source": [
    "## Download `y_car`"
   ]
  },
  {
   "cell_type": "code",
   "execution_count": 4,
   "metadata": {
    "scrolled": true
   },
   "outputs": [
    {
     "name": "stdout",
     "output_type": "stream",
     "text": [
      "Wall time: 12 s\n"
     ]
    }
   ],
   "source": [
    "%%time\n",
    "comet_api = comet_ml.API()\n",
    "exps = comet_api.query('amiao', 'earnings-call', \n",
    "                       (comet_ml.api.Parameter('note').startswith('STL-49') & \\\n",
    "                       (comet_ml.api.Metric('test_rmse')!=None)),\n",
    "                       archived=False)\n",
    "\n",
    "y_car = dt.Frame()\n",
    "for exp in exps:\n",
    "    note = exp.get_parameters_summary('note')['valueCurrent']\n",
    "    model_name = note[:6]\n",
    "    try:\n",
    "        asset_id = [asset['assetId'] for asset in exp.get_asset_list() \n",
    "                    if asset['fileName']=='y_car.feather'][0]\n",
    "        roll_type = exp.get_parameters_summary('roll_type')['valueCurrent']\n",
    "        yqtr = exp.get_parameters_summary('yqtr')['valueCurrent']\n",
    "\n",
    "        y = dt.Frame(feather.read_feather(pa.BufferReader(exp.get_asset(asset_id))))\n",
    "    except Exception as e:\n",
    "        print(e)\n",
    "        print(exp.get_name())\n",
    "        print(asset_id)\n",
    "        print('-----------')\n",
    "    y[:, update(yqtr=yqtr, model_name=model_name, note=note, roll_type=roll_type)]\n",
    "    \n",
    "    y_car.rbind(y, force=True, bynames=True)\n",
    "\n",
    "# append new results to existing comet log\n",
    "old_y_car = feather.read_feather('data/y_car_comet.feather')\n",
    "all_y_car = pd.concat([old_y_car, y_car.to_pandas()], ignore_index=True)\n",
    "all_y_car = pd.DataFrame.drop_duplicates(all_y_car, ignore_index=True)\n",
    "all_y_car = all_y_car[all_y_car.note.notnull()]\n",
    "\n",
    "feather.write_feather(all_y_car, 'data/y_car_comet.feather', compression='uncompressed');"
   ]
  },
  {
   "cell_type": "markdown",
   "metadata": {},
   "source": [
    "## Download parameters"
   ]
  },
  {
   "cell_type": "code",
   "execution_count": 5,
   "metadata": {
    "scrolled": true
   },
   "outputs": [
    {
     "name": "stdout",
     "output_type": "stream",
     "text": [
      "Wall time: 8.39 s\n"
     ]
    }
   ],
   "source": [
    "%%time\n",
    "\n",
    "comet_api = comet_ml.API()\n",
    "exps = comet_api.query('amiao', 'earnings-call', \n",
    "                       (comet_ml.api.Parameter('note').startswith('STL-49') & \\\n",
    "                       (comet_ml.api.Metric('test_rmse')!=None)),\n",
    "                       archived=False)\n",
    "\n",
    "params_comet = []\n",
    "for exp in exps:\n",
    "    # get parameter\n",
    "    log = {param['name']:param['valueCurrent'] for param in exp.get_parameters_summary()}\n",
    "    \n",
    "    # get metadat\n",
    "    log = {**log, **exp.get_metadata()}\n",
    "    \n",
    "    # delete useless params\n",
    "    for key in ['checkpoint_path', 'f']:\n",
    "        log.pop(\"key\", None)\n",
    "    params_comet.append(log)\n",
    "    \n",
    "\n",
    "params_comet = pd.DataFrame(params_comet)\n",
    "\n",
    "# append new results to existing comet log\n",
    "old_params_comet = feather.read_feather('data/params_comet.feather')\n",
    "all_params_comet = pd.concat([old_params_comet, params_comet], ignore_index=True)\n",
    "all_params_comet = pd.DataFrame.drop_duplicates(all_params_comet, ignore_index=True);\n",
    "feather.write_feather(all_params_comet, 'data/params_comet.feather', compression='uncompressed');"
   ]
  },
  {
   "cell_type": "markdown",
   "metadata": {},
   "source": [
    "# Modify param"
   ]
  },
  {
   "cell_type": "code",
   "execution_count": 40,
   "metadata": {
    "scrolled": true
   },
   "outputs": [
    {
     "data": {
      "text/plain": [
       "{'msg': 'Saved', 'code': 200, 'data': None, 'sdkErrorCode': 0}"
      ]
     },
     "execution_count": 40,
     "metadata": {},
     "output_type": "execute_result"
    },
    {
     "data": {
      "text/plain": [
       "{'msg': 'Saved', 'code': 200, 'data': None, 'sdkErrorCode': 0}"
      ]
     },
     "execution_count": 40,
     "metadata": {},
     "output_type": "execute_result"
    },
    {
     "data": {
      "text/plain": [
       "{'msg': 'Saved', 'code': 200, 'data': None, 'sdkErrorCode': 0}"
      ]
     },
     "execution_count": 40,
     "metadata": {},
     "output_type": "execute_result"
    },
    {
     "data": {
      "text/plain": [
       "{'msg': 'Saved', 'code': 200, 'data': None, 'sdkErrorCode': 0}"
      ]
     },
     "execution_count": 40,
     "metadata": {},
     "output_type": "execute_result"
    },
    {
     "data": {
      "text/plain": [
       "{'msg': 'Saved', 'code': 200, 'data': None, 'sdkErrorCode': 0}"
      ]
     },
     "execution_count": 40,
     "metadata": {},
     "output_type": "execute_result"
    },
    {
     "data": {
      "text/plain": [
       "{'msg': 'Saved', 'code': 200, 'data': None, 'sdkErrorCode': 0}"
      ]
     },
     "execution_count": 40,
     "metadata": {},
     "output_type": "execute_result"
    },
    {
     "data": {
      "text/plain": [
       "{'msg': 'Saved', 'code': 200, 'data': None, 'sdkErrorCode': 0}"
      ]
     },
     "execution_count": 40,
     "metadata": {},
     "output_type": "execute_result"
    },
    {
     "data": {
      "text/plain": [
       "{'msg': 'Saved', 'code': 200, 'data': None, 'sdkErrorCode': 0}"
      ]
     },
     "execution_count": 40,
     "metadata": {},
     "output_type": "execute_result"
    },
    {
     "data": {
      "text/plain": [
       "{'msg': 'Saved', 'code': 200, 'data': None, 'sdkErrorCode': 0}"
      ]
     },
     "execution_count": 40,
     "metadata": {},
     "output_type": "execute_result"
    },
    {
     "data": {
      "text/plain": [
       "{'msg': 'Saved', 'code': 200, 'data': None, 'sdkErrorCode': 0}"
      ]
     },
     "execution_count": 40,
     "metadata": {},
     "output_type": "execute_result"
    },
    {
     "data": {
      "text/plain": [
       "{'msg': 'Saved', 'code': 200, 'data': None, 'sdkErrorCode': 0}"
      ]
     },
     "execution_count": 40,
     "metadata": {},
     "output_type": "execute_result"
    },
    {
     "data": {
      "text/plain": [
       "{'msg': 'Saved', 'code': 200, 'data': None, 'sdkErrorCode': 0}"
      ]
     },
     "execution_count": 40,
     "metadata": {},
     "output_type": "execute_result"
    },
    {
     "data": {
      "text/plain": [
       "{'msg': 'Saved', 'code': 200, 'data': None, 'sdkErrorCode': 0}"
      ]
     },
     "execution_count": 40,
     "metadata": {},
     "output_type": "execute_result"
    },
    {
     "data": {
      "text/plain": [
       "{'msg': 'Saved', 'code': 200, 'data': None, 'sdkErrorCode': 0}"
      ]
     },
     "execution_count": 40,
     "metadata": {},
     "output_type": "execute_result"
    },
    {
     "data": {
      "text/plain": [
       "{'msg': 'Saved', 'code': 200, 'data': None, 'sdkErrorCode': 0}"
      ]
     },
     "execution_count": 40,
     "metadata": {},
     "output_type": "execute_result"
    },
    {
     "data": {
      "text/plain": [
       "{'msg': 'Saved', 'code': 200, 'data': None, 'sdkErrorCode': 0}"
      ]
     },
     "execution_count": 40,
     "metadata": {},
     "output_type": "execute_result"
    },
    {
     "data": {
      "text/plain": [
       "{'msg': 'Saved', 'code': 200, 'data': None, 'sdkErrorCode': 0}"
      ]
     },
     "execution_count": 40,
     "metadata": {},
     "output_type": "execute_result"
    },
    {
     "data": {
      "text/plain": [
       "{'msg': 'Saved', 'code': 200, 'data': None, 'sdkErrorCode': 0}"
      ]
     },
     "execution_count": 40,
     "metadata": {},
     "output_type": "execute_result"
    },
    {
     "data": {
      "text/plain": [
       "{'msg': 'Saved', 'code': 200, 'data': None, 'sdkErrorCode': 0}"
      ]
     },
     "execution_count": 40,
     "metadata": {},
     "output_type": "execute_result"
    },
    {
     "data": {
      "text/plain": [
       "{'msg': 'Saved', 'code': 200, 'data': None, 'sdkErrorCode': 0}"
      ]
     },
     "execution_count": 40,
     "metadata": {},
     "output_type": "execute_result"
    },
    {
     "data": {
      "text/plain": [
       "{'msg': 'Saved', 'code': 200, 'data': None, 'sdkErrorCode': 0}"
      ]
     },
     "execution_count": 40,
     "metadata": {},
     "output_type": "execute_result"
    },
    {
     "data": {
      "text/plain": [
       "{'msg': 'Saved', 'code': 200, 'data': None, 'sdkErrorCode': 0}"
      ]
     },
     "execution_count": 40,
     "metadata": {},
     "output_type": "execute_result"
    },
    {
     "data": {
      "text/plain": [
       "{'msg': 'Saved', 'code': 200, 'data': None, 'sdkErrorCode': 0}"
      ]
     },
     "execution_count": 40,
     "metadata": {},
     "output_type": "execute_result"
    },
    {
     "data": {
      "text/plain": [
       "{'msg': 'Saved', 'code': 200, 'data': None, 'sdkErrorCode': 0}"
      ]
     },
     "execution_count": 40,
     "metadata": {},
     "output_type": "execute_result"
    }
   ],
   "source": [
    "query = ((comet_ml.api.Parameter('roll_type')=='5y') &\n",
    "         (comet_ml.api.Parameter('note')=='STL-39,bsz=32,lr=3.00e-04'))\n",
    "\n",
    "exps = comet_ml.api.API().query('amiao', 'earnings-call', query, archived=False)\n",
    "\n",
    "for exp in exps:\n",
    "    # roll_type = exp.get_parameters_summary('roll_type').valueCurrent\n",
    "    exp.log_parameter('note', 'STL-40,bsz=32,lr=3.00e-04')"
   ]
  },
  {
   "cell_type": "markdown",
   "metadata": {},
   "source": [
    "# upload `test_start`"
   ]
  },
  {
   "cell_type": "code",
   "execution_count": null,
   "metadata": {},
   "outputs": [],
   "source": [
    "split_df = pd.read_csv(f'data/split_dates.csv')\n",
    "\n",
    "query = ((comet_ml.api.Parameter('test_start')==None) & \\\n",
    "         (comet_ml.api.Parameter('test_end')==None) & \\\n",
    "         (comet_ml.api.Parameter('train_start')==None) & \\\n",
    "         (comet_ml.api.Parameter('train_end')==None))\n",
    "\n",
    "exps = comet_ml.api.API().query('amiao', 'earnings-call', query, archived=False)\n",
    "\n",
    "for exp in tqdm(exps):\n",
    "    window = exp.get_parameters_summary('window')['valueCurrent']\n",
    "    roll_type = exp.get_parameters_summary('roll_type')['valueCurrent']\n",
    "         \n",
    "    train_start = split_df.loc[(split_df.roll_type==roll_type) & (split_df.window==window)].train_start.to_list()[0]\n",
    "    train_end = split_df.loc[(split_df.roll_type==roll_type) & (split_df.window==window)].train_end.to_list()[0]\n",
    "    test_start = split_df.loc[(split_df.roll_type==roll_type) & (split_df.window==window)].test_start.to_list()[0]         \n",
    "    test_end = split_df.loc[(split_df.roll_type==roll_type) & (split_df.window==window)].test_end.to_list()[0]\n",
    "         \n",
    "    # print(f'{roll_type}-{test_start}')\n",
    "         \n",
    "    exp.log_parameter('train_start', train_start)\n",
    "    exp.log_parameter('train_end', train_end)\n",
    "    exp.log_parameter('test_start', test_start)\n",
    "    exp.log_parameter('test_end', test_end)"
   ]
  },
  {
   "cell_type": "markdown",
   "metadata": {},
   "source": [
    "# upload `OLS_rmse` "
   ]
  },
  {
   "cell_type": "code",
   "execution_count": 19,
   "metadata": {
    "scrolled": true
   },
   "outputs": [
    {
     "data": {
      "application/vnd.jupyter.widget-view+json": {
       "model_id": "51bb41dcc37a46cc9fa595050d1e241c",
       "version_major": 2,
       "version_minor": 0
      },
      "text/plain": [
       "HBox(children=(FloatProgress(value=0.0, max=1552.0), HTML(value='')))"
      ]
     },
     "metadata": {},
     "output_type": "display_data"
    },
    {
     "data": {
      "text/plain": [
       "{'msg': 'Saved', 'code': 200, 'data': None, 'sdkErrorCode': 0}"
      ]
     },
     "execution_count": 19,
     "metadata": {},
     "output_type": "execute_result"
    },
    {
     "data": {
      "text/plain": [
       "{'msg': 'Saved', 'code': 200, 'data': None, 'sdkErrorCode': 0}"
      ]
     },
     "execution_count": 19,
     "metadata": {},
     "output_type": "execute_result"
    },
    {
     "data": {
      "text/plain": [
       "{'msg': 'Saved', 'code': 200, 'data': None, 'sdkErrorCode': 0}"
      ]
     },
     "execution_count": 19,
     "metadata": {},
     "output_type": "execute_result"
    },
    {
     "data": {
      "text/plain": [
       "{'msg': 'Saved', 'code': 200, 'data': None, 'sdkErrorCode': 0}"
      ]
     },
     "execution_count": 19,
     "metadata": {},
     "output_type": "execute_result"
    },
    {
     "data": {
      "text/plain": [
       "{'msg': 'Saved', 'code': 200, 'data': None, 'sdkErrorCode': 0}"
      ]
     },
     "execution_count": 19,
     "metadata": {},
     "output_type": "execute_result"
    },
    {
     "data": {
      "text/plain": [
       "{'msg': 'Saved', 'code': 200, 'data': None, 'sdkErrorCode': 0}"
      ]
     },
     "execution_count": 19,
     "metadata": {},
     "output_type": "execute_result"
    },
    {
     "data": {
      "text/plain": [
       "{'msg': 'Saved', 'code': 200, 'data': None, 'sdkErrorCode': 0}"
      ]
     },
     "execution_count": 19,
     "metadata": {},
     "output_type": "execute_result"
    },
    {
     "data": {
      "text/plain": [
       "{'msg': 'Saved', 'code': 200, 'data': None, 'sdkErrorCode': 0}"
      ]
     },
     "execution_count": 19,
     "metadata": {},
     "output_type": "execute_result"
    },
    {
     "data": {
      "text/plain": [
       "{'msg': 'Saved', 'code': 200, 'data': None, 'sdkErrorCode': 0}"
      ]
     },
     "execution_count": 19,
     "metadata": {},
     "output_type": "execute_result"
    },
    {
     "data": {
      "text/plain": [
       "{'msg': 'Saved', 'code': 200, 'data': None, 'sdkErrorCode': 0}"
      ]
     },
     "execution_count": 19,
     "metadata": {},
     "output_type": "execute_result"
    },
    {
     "data": {
      "text/plain": [
       "{'msg': 'Saved', 'code': 200, 'data': None, 'sdkErrorCode': 0}"
      ]
     },
     "execution_count": 19,
     "metadata": {},
     "output_type": "execute_result"
    },
    {
     "data": {
      "text/plain": [
       "{'msg': 'Saved', 'code': 200, 'data': None, 'sdkErrorCode': 0}"
      ]
     },
     "execution_count": 19,
     "metadata": {},
     "output_type": "execute_result"
    },
    {
     "data": {
      "text/plain": [
       "{'msg': 'Saved', 'code': 200, 'data': None, 'sdkErrorCode': 0}"
      ]
     },
     "execution_count": 19,
     "metadata": {},
     "output_type": "execute_result"
    },
    {
     "data": {
      "text/plain": [
       "{'msg': 'Saved', 'code': 200, 'data': None, 'sdkErrorCode': 0}"
      ]
     },
     "execution_count": 19,
     "metadata": {},
     "output_type": "execute_result"
    },
    {
     "name": "stdout",
     "output_type": "stream",
     "text": [
      "\n"
     ]
    }
   ],
   "source": [
    "bench_fr = pd.read_feather('data/bench_fr.feather')\n",
    "\n",
    "query = (comet_ml.api.Parameter('ols_rmse_norm')!=None)\n",
    "\n",
    "exps = comet_ml.api.API().query('amiao', 'earnings-call', query, archived=False)\n",
    "\n",
    "for exp in tqdm(exps):\n",
    "    test_start = exp.get_parameters_summary('test_start')['valueCurrent'] # char\n",
    "    current_ols_rmse = float(exp.get_parameters_summary('ols_rmse_norm')['valueCurrent'])\n",
    "    \n",
    "    true_ols_rmse = bench_fr.loc[(bench_fr.roll_type=='3y') & (bench_fr.test_start==pd.to_datetime(test_start))].test_rmse_fr_norm.to_list()[0]\n",
    "    \n",
    "    if current_ols_rmse != true_ols_rmse:\n",
    "        exp.log_parameter('ols_rmse_norm', true_ols_rmse)"
   ]
  },
  {
   "cell_type": "code",
   "execution_count": null,
   "metadata": {},
   "outputs": [],
   "source": []
  }
 ],
 "metadata": {
  "kernelspec": {
   "display_name": "Python 3",
   "language": "python",
   "name": "python3"
  },
  "language_info": {
   "codemirror_mode": {
    "name": "ipython",
    "version": 3
   },
   "file_extension": ".py",
   "mimetype": "text/x-python",
   "name": "python",
   "nbconvert_exporter": "python",
   "pygments_lexer": "ipython3",
   "version": "3.8.3"
  },
  "toc-autonumbering": true
 },
 "nbformat": 4,
 "nbformat_minor": 4
}
