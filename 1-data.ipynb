{
 "cells": [
  {
   "cell_type": "markdown",
   "metadata": {},
   "source": [
    "# init"
   ]
  },
  {
   "cell_type": "markdown",
   "metadata": {},
   "source": [
    "**Data Pre-processing**\n",
    "- 2011-2018 (8 years) . CC before 2011 has no indicator of the MD and QA parts.\n",
    "- for 2012-2018, ~98% have MD/QA indicators; for 2011, ~93% has MD/QA"
   ]
  },
  {
   "cell_type": "code",
   "execution_count": 2,
   "metadata": {},
   "outputs": [],
   "source": [
    "# library\n",
    "library(feather)\n",
    "library(stringdist)\n",
    "library(tools)\n",
    "library(pdftools)\n",
    "options('sd_num_thread'=8)\n",
    "\n",
    "# data_dir\n",
    "DATA_DIR = \"C:/Users/rossz/OneDrive/CC/data\"\n",
    "WRDS_DOWNLOAD_DIR = str_c(DATA_DIR, '/WRDS-download')"
   ]
  },
  {
   "cell_type": "markdown",
   "metadata": {
    "toc-hr-collapsed": false
   },
   "source": [
    "# WRDS"
   ]
  },
  {
   "cell_type": "markdown",
   "metadata": {},
   "source": [
    "## establish connection"
   ]
  },
  {
   "cell_type": "code",
   "execution_count": 20,
   "metadata": {},
   "outputs": [],
   "source": [
    "library(RPostgres)\n",
    "\n",
    "# connect to wrds\n",
    "wrds <- dbConnect(Postgres(),\n",
    "                  host='wrds-pgdata.wharton.upenn.edu',\n",
    "                  port=9737,\n",
    "                  dbname='wrds',\n",
    "                  sslmode='require',\n",
    "                  user='xiaomowu',\n",
    "                  password='SLCyz2018')"
   ]
  },
  {
   "cell_type": "markdown",
   "metadata": {},
   "source": [
    "## unit test"
   ]
  },
  {
   "cell_type": "code",
   "execution_count": 17,
   "metadata": {
    "scrolled": true
   },
   "outputs": [
    {
     "name": "stdout",
     "output_type": "stream",
     "text": [
      "  [1] \"aha\"                \"ahasamp\"            \"audit\"             \n",
      "  [4] \"blab\"               \"block\"              \"boardex\"           \n",
      "  [7] \"boardsmp\"           \"bvd\"                \"bvdsamp\"           \n",
      " [10] \"calcbnch\"           \"cboe\"               \"centris\"           \n",
      " [13] \"ciq\"                \"ciqsamp\"            \"cisdm\"             \n",
      " [16] \"clrvt\"              \"clrvtsmp\"           \"comp\"              \n",
      " [19] \"compa\"              \"compb\"              \"compdcur\"          \n",
      " [22] \"compg\"              \"comph\"              \"compm\"             \n",
      " [25] \"compmcur\"           \"compsamp\"           \"compseg\"           \n",
      " [28] \"compsnap\"           \"comscore\"           \"contrib\"           \n",
      " [31] \"crsp\"               \"crspa\"              \"crspm\"             \n",
      " [34] \"crspq\"              \"crspsamp\"           \"csmar\"             \n",
      " [37] \"dealscan\"           \"djones\"             \"dmef\"              \n",
      " [40] \"doe\"                \"emdb\"               \"etfg\"              \n",
      " [43] \"etfgsamp\"           \"eureka\"             \"execcomp\"          \n",
      " [46] \"factset\"            \"ff\"                 \"fisd\"              \n",
      " [49] \"fisdsamp\"           \"frb\"                \"fssamp\"            \n",
      " [52] \"ftse\"               \"ginsight\"           \"gmi\"               \n",
      " [55] \"govpx\"              \"govpxsmp\"           \"gsi\"               \n",
      " [58] \"hbase\"              \"hbsamp\"             \"hfr\"               \n",
      " [61] \"ibes\"               \"ibescorp\"           \"ibeskpi\"           \n",
      " [64] \"ifgr\"               \"ims\"                \"information_schema\"\n",
      " [67] \"iri\"                \"kld\"                \"ktmine\"            \n",
      " [70] \"ktsamp\"             \"levin\"              \"lspd\"              \n",
      " [73] \"macrofin\"           \"markit\"             \"mfl\"               \n",
      " [76] \"msfanly\"            \"msfinst\"            \"msrb\"              \n",
      " [79] \"omtrial\"            \"optionm\"            \"otc\"               \n",
      " [82] \"pg_catalog\"         \"phlx\"               \"ppublica\"          \n",
      " [85] \"pwt\"                \"rent\"               \"reprisk\"           \n",
      " [88] \"revere\"             \"risk\"               \"rpna\"              \n",
      " [91] \"rpnasamp\"           \"sdc\"                \"secsamp\"           \n",
      " [94] \"snapsamp\"           \"snl\"                \"snlsamp\"           \n",
      " [97] \"sprat\"              \"sustain\"            \"taqm_2003\"         \n",
      "[100] \"taqm_2004\"          \"taqm_2005\"          \"taqm_2006\"         \n",
      "[103] \"taqm_2007\"          \"taqm_2008\"          \"taqm_2009\"         \n",
      "[106] \"taqm_2010\"          \"taqm_2011\"          \"taqm_2012\"         \n",
      "[109] \"taqm_2013\"          \"taqm_2014\"          \"taqm_2015\"         \n",
      "[112] \"taqm_2016\"          \"taqm_2017\"          \"taqm_2018\"         \n",
      "[115] \"taqm_2019\"          \"taqmsec\"            \"tass\"              \n",
      "[118] \"tfn\"                \"totalq\"             \"trace\"             \n",
      "[121] \"trown\"              \"trsdcgs\"            \"trws\"              \n",
      "[124] \"twoiq\"              \"wrdsapps\"           \"wrdsrpts\"          \n",
      "[127] \"wrdssec\"            \"zacks\"             \n"
     ]
    }
   ],
   "source": [
    "# Determine the data libraries available at WRDS\n",
    "res <- dbSendQuery(wrds, \"select distinct table_schema\n",
    "                   from information_schema.tables\n",
    "                   where table_type ='VIEW'\n",
    "                   or table_type ='FOREIGN TABLE'\n",
    "                   order by table_schema\")\n",
    "data <- dbFetch(res, n=-1)\n",
    "dbClearResult(res)\n",
    "print(setDT(data)[, sort(table_schema)])"
   ]
  },
  {
   "cell_type": "code",
   "execution_count": 6,
   "metadata": {
    "scrolled": true
   },
   "outputs": [
    {
     "name": "stdout",
     "output_type": "stream",
     "text": [
      "  [1] \"aco_amda\"          \"aco_imda\"          \"aco_indfnta\"      \n",
      "  [4] \"aco_indfntq\"       \"aco_indfntytd\"     \"aco_indsta\"       \n",
      "  [7] \"aco_indstq\"        \"aco_indstytd\"      \"aco_notesa\"       \n",
      " [10] \"aco_notesq\"        \"aco_notessa\"       \"aco_notesytd\"     \n",
      " [13] \"aco_pnfnda\"        \"aco_pnfndq\"        \"aco_pnfndytd\"     \n",
      " [16] \"aco_pnfnta\"        \"aco_pnfntq\"        \"aco_pnfntytd\"     \n",
      " [19] \"aco_transa\"        \"aco_transq\"        \"aco_transsa\"      \n",
      " [22] \"aco_transytd\"      \"adsprate\"          \"anncomp\"          \n",
      " [25] \"asec_amda\"         \"asec_imda\"         \"asec_notesa\"      \n",
      " [28] \"asec_notesq\"       \"asec_transa\"       \"asec_transq\"      \n",
      " [31] \"bank_aacctchg\"     \"bank_adesind\"      \"bank_afnd1\"       \n",
      " [34] \"bank_afnd2\"        \"bank_afnddc1\"      \"bank_afnddc2\"     \n",
      " [37] \"bank_afntind\"      \"bank_funda\"        \"bank_funda_fncd\"  \n",
      " [40] \"bank_fundq\"        \"bank_fundq_fncd\"   \"bank_iacctchg\"    \n",
      " [43] \"bank_idesind\"      \"bank_ifndq\"        \"bank_ifndytd\"     \n",
      " [46] \"bank_ifntq\"        \"bank_ifntytd\"      \"bank_names\"       \n",
      " [49] \"bank_namesq\"       \"chars\"             \"co_aacctchg\"      \n",
      " [52] \"co_aaudit\"         \"co_adesind\"        \"co_adjfact\"       \n",
      " [55] \"co_afnd1\"          \"co_afnd2\"          \"co_afnddc1\"       \n",
      " [58] \"co_afnddc2\"        \"co_afntind1\"       \"co_afntind2\"      \n",
      " [61] \"co_ainvval\"        \"co_amkt\"           \"co_busdescl\"      \n",
      " [64] \"co_cotype\"         \"co_filedate\"       \"co_fortune\"       \n",
      " [67] \"co_hgic\"           \"co_iacctchg\"       \"co_iaudit\"        \n",
      " [70] \"co_idesind\"        \"co_ifndq\"          \"co_ifndsa\"        \n",
      " [73] \"co_ifndytd\"        \"co_ifntq\"          \"co_ifntsa\"        \n",
      " [76] \"co_ifntytd\"        \"co_imkt\"           \"co_industry\"      \n",
      " [79] \"co_ipcd\"           \"co_mthly\"          \"co_offtitl\"       \n",
      " [82] \"codirfin\"          \"colev\"             \"company\"          \n",
      " [85] \"coperol\"           \"currency\"          \"dd_group\"         \n",
      " [88] \"dd_group_xref\"     \"dd_item\"           \"dd_package\"       \n",
      " [91] \"deferredcomp\"      \"directorcomp\"      \"ecind_desc\"       \n",
      " [94] \"ecind_mth\"         \"ex_black\"          \"ex_header\"        \n",
      " [97] \"exnames\"           \"exrt_dly\"          \"exrt_mth\"         \n",
      "[100] \"filings\"           \"funda\"             \"funda_fncd\"       \n",
      "[103] \"fundq\"             \"fundq_fncd\"        \"g_chars\"          \n",
      "[106] \"g_co_aaudit\"       \"g_co_adesind\"      \"g_co_afnd1\"       \n",
      "[109] \"g_co_afnd2\"        \"g_co_afnddc1\"      \"g_co_afnddc2\"     \n",
      "[112] \"g_co_afntind1\"     \"g_co_afntind2\"     \"g_co_ainvval\"     \n",
      "[115] \"g_co_hgic\"         \"g_co_iaudit\"       \"g_co_idesind\"     \n",
      "[118] \"g_co_ifndq\"        \"g_co_ifndsa\"       \"g_co_ifndytd\"     \n",
      "[121] \"g_co_ifntq\"        \"g_co_ifntsa\"       \"g_co_ifntytd\"     \n",
      "[124] \"g_co_industry\"     \"g_co_ipcd\"         \"g_co_offtitl\"     \n",
      "[127] \"g_company\"         \"g_currency\"        \"g_ecind_desc\"     \n",
      "[130] \"g_ecind_mth\"       \"g_exrt_dly\"        \"g_exrt_mth\"       \n",
      "[133] \"g_funda\"           \"g_funda_fncd\"      \"g_fundq\"          \n",
      "[136] \"g_fundq_fncd\"      \"g_idx_daily\"       \"g_idx_index\"      \n",
      "[139] \"g_idx_mth\"         \"g_idxcst_his\"      \"g_names\"          \n",
      "[142] \"g_names_ix\"        \"g_names_ix_cst\"    \"g_namesq\"         \n",
      "[145] \"g_sec_adesind\"     \"g_sec_adjfact\"     \"g_sec_afnd\"       \n",
      "[148] \"g_sec_afnddc\"      \"g_sec_afnt\"        \"g_sec_divid\"      \n",
      "[151] \"g_sec_dprc\"        \"g_sec_dtrt\"        \"g_sec_history\"    \n",
      "[154] \"g_sec_idesind\"     \"g_sec_ifnd\"        \"g_sec_ifnt\"       \n",
      "[157] \"g_sec_split\"       \"g_secd\"            \"g_secnamesd\"      \n",
      "[160] \"g_security\"        \"g_sedolgvkey\"      \"idx_ann\"          \n",
      "[163] \"idx_anndes\"        \"idx_daily\"         \"idx_index\"        \n",
      "[166] \"idx_mth\"           \"idx_qrt\"           \"idx_qrtdes\"       \n",
      "[169] \"idxcst_his\"        \"io_qaggregate\"     \"io_qbuysell\"      \n",
      "[172] \"io_qchanges\"       \"io_qfloatadj\"      \"io_qholders\"      \n",
      "[175] \"it_mbuysell\"       \"it_msummary\"       \"it_r_rltn\"        \n",
      "[178] \"ltawdtab\"          \"names\"             \"names_aco_indsta\" \n",
      "[181] \"names_aco_indstq\"  \"names_aco_pnfnda\"  \"names_aco_pnfndq\" \n",
      "[184] \"names_adsprate\"    \"names_ix\"          \"names_ix_cst\"     \n",
      "[187] \"names_seg\"         \"namesd\"            \"namesm\"           \n",
      "[190] \"namesq\"            \"outstandingawards\" \"pension\"          \n",
      "[193] \"person\"            \"planbasedawards\"   \"r_accstd\"         \n",
      "[196] \"r_acqmeth\"         \"r_auditors\"        \"r_auopic\"         \n",
      "[199] \"r_balpres\"         \"r_cf_formt\"        \"r_co_status\"      \n",
      "[202] \"r_coindpre\"        \"r_compstat\"        \"r_consol\"         \n",
      "[205] \"r_country\"         \"r_cstclscd\"        \"r_datacode\"       \n",
      "[208] \"r_datafmt\"         \"r_divtaxmarker\"    \"r_docsrce\"        \n",
      "[211] \"r_ex_codes\"        \"r_exchgtier\"       \"r_exrt_typ\"       \n",
      "[214] \"r_fndfntcd\"        \"r_footnts\"         \"r_foricd\"         \n",
      "[217] \"r_giccd\"           \"r_hcalendr\"        \"r_idxclscd\"       \n",
      "[220] \"r_inactvcd\"        \"r_incstats\"        \"r_indfmt\"         \n",
      "[223] \"r_indsec\"          \"r_invval\"          \"r_issuetyp\"       \n",
      "[226] \"r_majidxcl\"        \"r_mic_codes\"       \"r_naiccd\"         \n",
      "[229] \"r_notetype\"        \"r_ntsubtype\"       \"r_offcrso\"        \n",
      "[232] \"r_ogmethod\"        \"r_opinions\"        \"r_prc_stat\"       \n",
      "[235] \"r_qsrcdoc\"         \"r_sec_stat\"        \"r_secannfn\"       \n",
      "[238] \"r_sectors\"         \"r_siccd\"           \"r_spiicd\"         \n",
      "[241] \"r_spmicd\"          \"r_statalrt\"        \"r_states\"         \n",
      "[244] \"r_stko\"            \"r_titles\"          \"r_updates\"        \n",
      "[247] \"sec_adesind\"       \"sec_adjfact\"       \"sec_afnd\"         \n",
      "[250] \"sec_afnddc\"        \"sec_afnt\"          \"sec_divid\"        \n",
      "[253] \"sec_dprc\"          \"sec_dtrt\"          \"sec_history\"      \n",
      "[256] \"sec_idesind\"       \"sec_ifnd\"          \"sec_ifnt\"         \n",
      "[259] \"sec_mdivfn\"        \"sec_mshare\"        \"sec_msptfn\"       \n",
      "[262] \"sec_mth\"           \"sec_mthdiv\"        \"sec_mthprc\"       \n",
      "[265] \"sec_mthspt\"        \"sec_mthtrt\"        \"sec_shortint\"     \n",
      "[268] \"sec_spind\"         \"sec_split\"         \"secd\"             \n",
      "[271] \"secm\"              \"security\"          \"sedolgvkey\"       \n",
      "[274] \"seg_ann\"           \"seg_annfund\"       \"seg_customer\"     \n",
      "[277] \"seg_geo\"           \"seg_naics\"         \"seg_product\"      \n",
      "[280] \"seg_type\"          \"spidx_cst\"         \"spind\"            \n",
      "[283] \"spind_dly\"         \"spind_mth\"         \"stgrttab\"         \n",
      "[286] \"wrds_seg_customer\" \"wrds_seg_geo\"      \"wrds_seg_product\" \n",
      "[289] \"wrds_segmerged\"    \"xfl_column\"        \"xfl_table\"        \n"
     ]
    }
   ],
   "source": [
    "# Determine the datasets within a given library\n",
    "library = 'comp'\n",
    "res <- dbSendQuery(wrds, sprintf(\"select distinct table_name\n",
    "                   from information_schema.columns\n",
    "                   where table_schema='%s'\n",
    "                   order by table_name\", library))\n",
    "data <- dbFetch(res, n=-1)\n",
    "dbClearResult(res)\n",
    "setDT(data)[, sort(table_name)] %>% print()"
   ]
  },
  {
   "cell_type": "code",
   "execution_count": null,
   "metadata": {
    "scrolled": true
   },
   "outputs": [],
   "source": [
    "# Determine the variables (column headers) within a given dataset\n",
    "library = 'ibes'\n",
    "dataset = 'det_epsus'\n",
    "res <- dbSendQuery(wrds, sprintf(\"select column_name\n",
    "                   from information_schema.columns\n",
    "                   where table_schema='%s'\n",
    "                   and table_name='%s'\n",
    "                   order by column_name\", library, dataset))\n",
    "data <- dbFetch(res, n=-1)\n",
    "dbClearResult(res)\n",
    "setDT(data)[, column_name] %>% print()"
   ]
  },
  {
   "cell_type": "code",
   "execution_count": null,
   "metadata": {},
   "outputs": [],
   "source": [
    "# To query the crsp.dsf dataset\n",
    "library = \"ibes\"\n",
    "dataset = 'ptgdet'\n",
    "res <- dbSendQuery(wrds, sprintf(\"select * from %s.%s\", library, dataset))\n",
    "data <- dbFetch(res, n=-1) %>% setDT()\n",
    "dbClearResult(res)\n",
    "nrow(data)"
   ]
  },
  {
   "cell_type": "markdown",
   "metadata": {
    "toc-hr-collapsed": false
   },
   "source": [
    "## I/B/E/S"
   ]
  },
  {
   "cell_type": "markdown",
   "metadata": {},
   "source": [
    "### Detail"
   ]
  },
  {
   "cell_type": "code",
   "execution_count": null,
   "metadata": {},
   "outputs": [],
   "source": [
    "library = 'ibes'\n",
    "dataset = 'det_epsus' # eps\n",
    "# dataset = 'det_xepsus' # non-eps\n",
    "years = 2000:2018\n",
    "\n",
    "for (year in years) {\n",
    "    print(sprintf('Start %s at %s', year, now()))\n",
    "    query = sprintf(\"select * from %s.%s where to_char(anndats,'yyyy')='%s'\", library, dataset, year)\n",
    "    save_name_short = sprintf('%s_%s_%s', library, dataset, year)\n",
    "    save_name_full = sprintf('../data/WRDS-download/%s_%s_%s.rds', library, dataset, year)\n",
    "    \n",
    "    res <- dbSendQuery(wrds, query)\n",
    "    data <- setDT(dbFetch(res, n=-1)); dbClearResult(res)\n",
    "    \n",
    "    assign(save_name_short, data)\n",
    "    sprintf('%s_%s: %s', dataset, year, nrow(data))\n",
    "    saveRDS(data, save_name_full)\n",
    "}"
   ]
  },
  {
   "cell_type": "code",
   "execution_count": 48,
   "metadata": {},
   "outputs": [
    {
     "data": {
      "text/html": [
       "'detu_epsus: 5107651'"
      ],
      "text/latex": [
       "'detu\\_epsus: 5107651'"
      ],
      "text/markdown": [
       "'detu_epsus: 5107651'"
      ],
      "text/plain": [
       "[1] \"detu_epsus: 5107651\""
      ]
     },
     "metadata": {},
     "output_type": "display_data"
    },
    {
     "name": "stdout",
     "output_type": "stream",
     "text": [
      "-ibes_detu_epsus- saved  (22.79 secs)\n"
     ]
    }
   ],
   "source": [
    "library = 'ibes'\n",
    "dataset = 'detu_epsus' # eps\n",
    "# dataset = 'det_xepsus' # non-eps\n",
    "\n",
    "query = sprintf(\"select ticker, estimator, analys, pdf, fpi, value, fpedats, revdats, revtims, anndats, anntims from %s.%s where fpedats between '2000-01-01' and '2018-12-31' and (fpi='6' or fpi='7')\", library, dataset, year)\n",
    "\n",
    "res <- dbSendQuery(wrds, query)\n",
    "ibes_detu_epsus<- setDT(dbFetch(res, n=-1)); dbClearResult(res)\n",
    "\n",
    "sprintf('%s: %s', dataset, nrow(ibes_detu_epsus))\n",
    "sv(ibes_detu_epsus, path=WRDS_DOWNLOAD_DIR)"
   ]
  },
  {
   "cell_type": "markdown",
   "metadata": {},
   "source": [
    "### actuals"
   ]
  },
  {
   "cell_type": "code",
   "execution_count": 69,
   "metadata": {},
   "outputs": [
    {
     "data": {
      "text/html": [
       "'actu_epsus: 480384'"
      ],
      "text/latex": [
       "'actu\\_epsus: 480384'"
      ],
      "text/markdown": [
       "'actu_epsus: 480384'"
      ],
      "text/plain": [
       "[1] \"actu_epsus: 480384\""
      ]
     },
     "metadata": {},
     "output_type": "display_data"
    },
    {
     "name": "stdout",
     "output_type": "stream",
     "text": [
      "-ibes_actu_epsus- saved  (0.82 secs)\n"
     ]
    },
    {
     "data": {
      "text/html": [
       "<table>\n",
       "<thead><tr><th scope=col>ticker</th><th scope=col>repdats</th><th scope=col>act</th><th scope=col>fpedats</th><th scope=col>pdicity</th></tr></thead>\n",
       "<tbody>\n",
       "\t<tr><td>0000      </td><td>2014-02-14</td><td>NA        </td><td>2012-12-31</td><td>QTR       </td></tr>\n",
       "</tbody>\n",
       "</table>\n"
      ],
      "text/latex": [
       "\\begin{tabular}{r|lllll}\n",
       " ticker & repdats & act & fpedats & pdicity\\\\\n",
       "\\hline\n",
       "\t 0000       & 2014-02-14 & NA         & 2012-12-31 & QTR       \\\\\n",
       "\\end{tabular}\n"
      ],
      "text/markdown": [
       "\n",
       "| ticker | repdats | act | fpedats | pdicity |\n",
       "|---|---|---|---|---|\n",
       "| 0000       | 2014-02-14 | NA         | 2012-12-31 | QTR        |\n",
       "\n"
      ],
      "text/plain": [
       "  ticker repdats    act fpedats    pdicity\n",
       "1 0000   2014-02-14 NA  2012-12-31 QTR    "
      ]
     },
     "metadata": {},
     "output_type": "display_data"
    }
   ],
   "source": [
    "library = 'ibes'\n",
    "dataset = 'actu_epsus' \n",
    "\n",
    "query = sprintf(\"select ticker, anndats as repdats, value as act, pends as fpedats, pdicity from %s.%s where pends between '2000-01-01' and '2018-12-31' and pdicity='QTR'\", library, dataset, year)\n",
    "\n",
    "res <- dbSendQuery(wrds, query)\n",
    "ibes_actu_epsus<- setDT(dbFetch(res, n=-1)); dbClearResult(res)\n",
    "\n",
    "sprintf('%s: %s', dataset, nrow(ibes_actu_epsus))\n",
    "sv(ibes_actu_epsus, path=WRDS_DOWNLOAD_DIR)\n",
    "ibes_actu_epsus[1]"
   ]
  },
  {
   "cell_type": "markdown",
   "metadata": {},
   "source": [
    "### Summary"
   ]
  },
  {
   "cell_type": "code",
   "execution_count": 9,
   "metadata": {},
   "outputs": [
    {
     "name": "stdout",
     "output_type": "stream",
     "text": [
      "-statsum_epsus- saved  (43.43 secs)\n"
     ]
    }
   ],
   "source": [
    "library = 'ibes'\n",
    "dataset = 'statsum_epsus' # summary eps\n",
    "query = sprintf(\"select * from %s.%s\", library, dataset)\n",
    "\n",
    "res <- dbSendQuery(wrds, query)\n",
    "ibes_statsum_epsus <- setDT(dbFetch(res, n=-1)); dbClearResult(res)\n",
    "\n",
    "ibes_statsum_epsus[1]\n",
    "sv(ibes_statsum_epsus, path=WRDS_DOWNLOAD_DIR)"
   ]
  },
  {
   "cell_type": "code",
   "execution_count": null,
   "metadata": {},
   "outputs": [],
   "source": [
    "library = 'ibes'\n",
    "dataset = 'statsum_xepsus' # summary xeps\n",
    "\n",
    "query = sprintf(\"select * from %s.%s\", library, dataset)\n",
    "res <- dbSendQuery(wrds, query)\n",
    "ibes_statsum_xepsus <- setDT(dbFetch(res, n=-1)); dbClearResult(res)\n",
    "ibes_statsum_xepsus[1]\n",
    "sv(ibes_statsum_xepsus, path=WRDS_DOWNLOAD_DIR)"
   ]
  },
  {
   "cell_type": "markdown",
   "metadata": {},
   "source": [
    "### Surprise"
   ]
  },
  {
   "cell_type": "code",
   "execution_count": null,
   "metadata": {},
   "outputs": [],
   "source": [
    "library = 'ibes'\n",
    "dataset = 'surpsum' # summary surprise \n",
    "\n",
    "query = sprintf(\"select * from %s.%s\", library, dataset)\n",
    "res <- dbSendQuery(wrds, query)\n",
    "ibes_surpsum <- setDT(dbFetch(res, n=-1)); dbClearResult(res)\n",
    "ibes_surpsum[1]\n",
    "sv(ibes_surpsum, path=WRDS_DOWNLOAD_DIR)"
   ]
  },
  {
   "cell_type": "markdown",
   "metadata": {},
   "source": [
    "## price target"
   ]
  },
  {
   "cell_type": "code",
   "execution_count": null,
   "metadata": {},
   "outputs": [],
   "source": [
    "library = \"ibes\"\n",
    "dataset = 'ptgdet'\n",
    "res <- dbSendQuery(wrds, sprintf(\"select * from %s.%s\", library, dataset))\n",
    "ptgdet <- dbFetch(res, n=-1) %>% setDT()\n",
    "dbClearResult(res)\n",
    "sv(ptgdet, path='/data/WRDS-download')"
   ]
  },
  {
   "cell_type": "code",
   "execution_count": 6,
   "metadata": {},
   "outputs": [
    {
     "data": {
      "text/html": [
       "5245752"
      ],
      "text/latex": [
       "5245752"
      ],
      "text/markdown": [
       "5245752"
      ],
      "text/plain": [
       "[1] 5245752"
      ]
     },
     "metadata": {},
     "output_type": "display_data"
    }
   ],
   "source": [
    "nrow(ptgdet)"
   ]
  },
  {
   "cell_type": "code",
   "execution_count": 5,
   "metadata": {},
   "outputs": [
    {
     "data": {
      "text/html": [
       "<table>\n",
       "<thead><tr><th scope=col>ticker</th><th scope=col>cusip</th><th scope=col>oftic</th><th scope=col>cname</th><th scope=col>actdats</th><th scope=col>estimid</th><th scope=col>alysnam</th><th scope=col>horizon</th><th scope=col>value</th><th scope=col>estcur</th><th scope=col>curr</th><th scope=col>amaskcd</th><th scope=col>usfirm</th><th scope=col>measure</th><th scope=col>acttims</th><th scope=col>anndats</th><th scope=col>anntims</th></tr></thead>\n",
       "<tbody>\n",
       "\t<tr><td>0000          </td><td>87482X10      </td><td>TLMR          </td><td>TALMER BANCORP</td><td>2014-03-10    </td><td>PRMDN082      </td><td>PERMDENIED    </td><td>12            </td><td>16            </td><td>USD           </td><td>USD           </td><td>538750        </td><td>1             </td><td>PTG           </td><td>32043         </td><td>2014-03-10    </td><td>1200          </td></tr>\n",
       "</tbody>\n",
       "</table>\n"
      ],
      "text/latex": [
       "\\begin{tabular}{r|lllllllllllllllll}\n",
       " ticker & cusip & oftic & cname & actdats & estimid & alysnam & horizon & value & estcur & curr & amaskcd & usfirm & measure & acttims & anndats & anntims\\\\\n",
       "\\hline\n",
       "\t 0000           & 87482X10       & TLMR           & TALMER BANCORP & 2014-03-10     & PRMDN082       & PERMDENIED     & 12             & 16             & USD            & USD            & 538750         & 1              & PTG            & 32043          & 2014-03-10     & 1200          \\\\\n",
       "\\end{tabular}\n"
      ],
      "text/markdown": [
       "\n",
       "| ticker | cusip | oftic | cname | actdats | estimid | alysnam | horizon | value | estcur | curr | amaskcd | usfirm | measure | acttims | anndats | anntims |\n",
       "|---|---|---|---|---|---|---|---|---|---|---|---|---|---|---|---|---|\n",
       "| 0000           | 87482X10       | TLMR           | TALMER BANCORP | 2014-03-10     | PRMDN082       | PERMDENIED     | 12             | 16             | USD            | USD            | 538750         | 1              | PTG            | 32043          | 2014-03-10     | 1200           |\n",
       "\n"
      ],
      "text/plain": [
       "  ticker cusip    oftic cname          actdats    estimid  alysnam    horizon\n",
       "1 0000   87482X10 TLMR  TALMER BANCORP 2014-03-10 PRMDN082 PERMDENIED 12     \n",
       "  value estcur curr amaskcd usfirm measure acttims anndats    anntims\n",
       "1 16    USD    USD  538750  1      PTG     32043   2014-03-10 1200   "
      ]
     },
     "metadata": {},
     "output_type": "display_data"
    }
   ],
   "source": [
    "ptgdet[1]"
   ]
  },
  {
   "cell_type": "markdown",
   "metadata": {},
   "source": [
    "## recommend"
   ]
  },
  {
   "cell_type": "code",
   "execution_count": null,
   "metadata": {},
   "outputs": [],
   "source": [
    "library = 'ibes'\n",
    "dataset = 'recddet'\n",
    "res <- dbSendQuery(wrds, sprintf(\"select * from %s.%s\", library, dataset))\n",
    "recddet <- dbFetch(res, n=-1) %>% setDT()\n",
    "dbClearResult(res)\n",
    "sv(recddet, path='/data/WRDS-download')"
   ]
  },
  {
   "cell_type": "code",
   "execution_count": 7,
   "metadata": {},
   "outputs": [
    {
     "data": {
      "text/html": [
       "2812735"
      ],
      "text/latex": [
       "2812735"
      ],
      "text/markdown": [
       "2812735"
      ],
      "text/plain": [
       "[1] 2812735"
      ]
     },
     "metadata": {},
     "output_type": "display_data"
    }
   ],
   "source": [
    "nrow(recddet)"
   ]
  },
  {
   "cell_type": "code",
   "execution_count": 8,
   "metadata": {},
   "outputs": [
    {
     "data": {
      "text/html": [
       "<table>\n",
       "<thead><tr><th scope=col>ticker</th><th scope=col>cusip</th><th scope=col>cname</th><th scope=col>oftic</th><th scope=col>actdats</th><th scope=col>estimid</th><th scope=col>analyst</th><th scope=col>ereccd</th><th scope=col>etext</th><th scope=col>ireccd</th><th scope=col>itext</th><th scope=col>emaskcd</th><th scope=col>amaskcd</th><th scope=col>usfirm</th><th scope=col>acttims</th><th scope=col>revdats</th><th scope=col>revtims</th><th scope=col>anndats</th><th scope=col>anntims</th></tr></thead>\n",
       "<tbody>\n",
       "\t<tr><td>0000          </td><td>87482X10      </td><td>TALMER BANCORP</td><td>TLMR          </td><td>2014-03-10    </td><td>PRMDN082      </td><td>PERMDENIED    </td><td>2             </td><td>OUTPERFORM    </td><td>2             </td><td>BUY           </td><td>50659         </td><td>538750        </td><td>1             </td><td>32043         </td><td>2016-01-26    </td><td>34552         </td><td>2014-03-10    </td><td>1200          </td></tr>\n",
       "</tbody>\n",
       "</table>\n"
      ],
      "text/latex": [
       "\\begin{tabular}{r|lllllllllllllllllll}\n",
       " ticker & cusip & cname & oftic & actdats & estimid & analyst & ereccd & etext & ireccd & itext & emaskcd & amaskcd & usfirm & acttims & revdats & revtims & anndats & anntims\\\\\n",
       "\\hline\n",
       "\t 0000           & 87482X10       & TALMER BANCORP & TLMR           & 2014-03-10     & PRMDN082       & PERMDENIED     & 2              & OUTPERFORM     & 2              & BUY            & 50659          & 538750         & 1              & 32043          & 2016-01-26     & 34552          & 2014-03-10     & 1200          \\\\\n",
       "\\end{tabular}\n"
      ],
      "text/markdown": [
       "\n",
       "| ticker | cusip | cname | oftic | actdats | estimid | analyst | ereccd | etext | ireccd | itext | emaskcd | amaskcd | usfirm | acttims | revdats | revtims | anndats | anntims |\n",
       "|---|---|---|---|---|---|---|---|---|---|---|---|---|---|---|---|---|---|---|\n",
       "| 0000           | 87482X10       | TALMER BANCORP | TLMR           | 2014-03-10     | PRMDN082       | PERMDENIED     | 2              | OUTPERFORM     | 2              | BUY            | 50659          | 538750         | 1              | 32043          | 2016-01-26     | 34552          | 2014-03-10     | 1200           |\n",
       "\n"
      ],
      "text/plain": [
       "  ticker cusip    cname          oftic actdats    estimid  analyst    ereccd\n",
       "1 0000   87482X10 TALMER BANCORP TLMR  2014-03-10 PRMDN082 PERMDENIED 2     \n",
       "  etext      ireccd itext emaskcd amaskcd usfirm acttims revdats    revtims\n",
       "1 OUTPERFORM 2      BUY   50659   538750  1      32043   2016-01-26 34552  \n",
       "  anndats    anntims\n",
       "1 2014-03-10 1200   "
      ]
     },
     "metadata": {},
     "output_type": "display_data"
    }
   ],
   "source": [
    "recddet[1]"
   ]
  },
  {
   "cell_type": "markdown",
   "metadata": {},
   "source": [
    "## stock price"
   ]
  },
  {
   "cell_type": "code",
   "execution_count": null,
   "metadata": {
    "scrolled": true
   },
   "outputs": [],
   "source": [
    "library = 'comp'\n",
    "dataset = 'secd' # factors\n",
    "years = 2000:2018\n",
    "\n",
    "system.time({\n",
    "secd = list()\n",
    "for (year in years) {\n",
    "    print(sprintf('Start %s at %s', year, now()))\n",
    "    query = sprintf(\"select * from %s.%s where to_char(datadate,'yyyy')='%s'\", library, dataset, year)\n",
    "\n",
    "    res <- dbSendQuery(wrds, query)\n",
    "    data <- setDT(dbFetch(res, n=-1)); dbClearResult(res)\n",
    "    \n",
    "    print(sprintf('%s_%s: %s obs', dataset, year, nrow(data)))\n",
    "    secd[[as.character(year)]] = data\n",
    "}\n",
    "secd = rbindlist(secd, use=T)\n",
    "})\n",
    "sv(secd, path=WRDS_DOWNLOAD_DIR)"
   ]
  },
  {
   "cell_type": "markdown",
   "metadata": {},
   "source": [
    "Download `CRSP`\n",
    "It's *deprecated*!"
   ]
  },
  {
   "cell_type": "code",
   "execution_count": null,
   "metadata": {
    "scrolled": true
   },
   "outputs": [],
   "source": [
    "library = 'crspq'\n",
    "dataset = 'dsf' # factors\n",
    "years = 2001:2018\n",
    "\n",
    "for (year in years) {\n",
    "    print(sprintf('Start %s at %s', year, now()))\n",
    "    query = sprintf(\"select * from %s.%s where to_char(date,'yyyy')='%s'\", library, dataset, year)\n",
    "    save_name_short = sprintf('%s_%s', dataset, year)\n",
    "    save_name_full = sprintf('../data/WRDS-download/%s_%s.rds', dataset, year)\n",
    "\n",
    "    res <- dbSendQuery(wrds, query)\n",
    "    data <- setDT(dbFetch(res, n=-1)); dbClearResult(res)\n",
    "    \n",
    "    sprintf('%s_%s: %s', dataset, year, nrow(data))\n",
    "    assign(save_name_short, data)\n",
    "    saveRDS(data, save_name_full)\n",
    "}"
   ]
  },
  {
   "cell_type": "code",
   "execution_count": 31,
   "metadata": {},
   "outputs": [
    {
     "name": "stdout",
     "output_type": "stream",
     "text": [
      "-dsf_2001- loaded  (1.11 secs)\n"
     ]
    }
   ],
   "source": [
    "ld(dsf_2001, path=WRDS_DOWNLOAD_DIR)"
   ]
  },
  {
   "cell_type": "code",
   "execution_count": 32,
   "metadata": {},
   "outputs": [
    {
     "data": {
      "text/html": [
       "<table>\n",
       "<thead><tr><th scope=col>cusip</th><th scope=col>permno</th><th scope=col>permco</th><th scope=col>issuno</th><th scope=col>hexcd</th><th scope=col>hsiccd</th><th scope=col>date</th><th scope=col>bidlo</th><th scope=col>askhi</th><th scope=col>prc</th><th scope=col>vol</th><th scope=col>ret</th><th scope=col>bid</th><th scope=col>ask</th><th scope=col>shrout</th><th scope=col>cfacpr</th><th scope=col>cfacshr</th><th scope=col>openprc</th><th scope=col>numtrd</th><th scope=col>retx</th></tr></thead>\n",
       "<tbody>\n",
       "\t<tr><td>36720410  </td><td>10001     </td><td>7953      </td><td>10398     </td><td>2         </td><td>4925      </td><td>2001-01-02</td><td>9.3125    </td><td>9.875     </td><td>9.875     </td><td>3849      </td><td>0.01282051</td><td>9.5       </td><td>9.875     </td><td>2498      </td><td>1.5       </td><td>1.5       </td><td>9.3125    </td><td>9         </td><td>0.01282051</td></tr>\n",
       "</tbody>\n",
       "</table>\n"
      ],
      "text/latex": [
       "\\begin{tabular}{r|llllllllllllllllllll}\n",
       " cusip & permno & permco & issuno & hexcd & hsiccd & date & bidlo & askhi & prc & vol & ret & bid & ask & shrout & cfacpr & cfacshr & openprc & numtrd & retx\\\\\n",
       "\\hline\n",
       "\t 36720410   & 10001      & 7953       & 10398      & 2          & 4925       & 2001-01-02 & 9.3125     & 9.875      & 9.875      & 3849       & 0.01282051 & 9.5        & 9.875      & 2498       & 1.5        & 1.5        & 9.3125     & 9          & 0.01282051\\\\\n",
       "\\end{tabular}\n"
      ],
      "text/markdown": [
       "\n",
       "| cusip | permno | permco | issuno | hexcd | hsiccd | date | bidlo | askhi | prc | vol | ret | bid | ask | shrout | cfacpr | cfacshr | openprc | numtrd | retx |\n",
       "|---|---|---|---|---|---|---|---|---|---|---|---|---|---|---|---|---|---|---|---|\n",
       "| 36720410   | 10001      | 7953       | 10398      | 2          | 4925       | 2001-01-02 | 9.3125     | 9.875      | 9.875      | 3849       | 0.01282051 | 9.5        | 9.875      | 2498       | 1.5        | 1.5        | 9.3125     | 9          | 0.01282051 |\n",
       "\n"
      ],
      "text/plain": [
       "  cusip    permno permco issuno hexcd hsiccd date       bidlo  askhi prc   vol \n",
       "1 36720410 10001  7953   10398  2     4925   2001-01-02 9.3125 9.875 9.875 3849\n",
       "  ret        bid ask   shrout cfacpr cfacshr openprc numtrd retx      \n",
       "1 0.01282051 9.5 9.875 2498   1.5    1.5     9.3125  9      0.01282051"
      ]
     },
     "metadata": {},
     "output_type": "display_data"
    }
   ],
   "source": [
    "dsf_2001[1]"
   ]
  },
  {
   "cell_type": "markdown",
   "metadata": {},
   "source": [
    "## factors"
   ]
  },
  {
   "cell_type": "code",
   "execution_count": 7,
   "metadata": {},
   "outputs": [
    {
     "data": {
      "text/html": [
       "'factors_daily: 1860532'"
      ],
      "text/latex": [
       "'factors\\_daily: 1860532'"
      ],
      "text/markdown": [
       "'factors_daily: 1860532'"
      ],
      "text/plain": [
       "[1] \"factors_daily: 1860532\""
      ]
     },
     "metadata": {},
     "output_type": "display_data"
    },
    {
     "name": "stdout",
     "output_type": "stream",
     "text": [
      "-factors- saved  (0.09 secs)\n"
     ]
    }
   ],
   "source": [
    "library = 'ff'\n",
    "dataset = 'factors_daily' # factors\n",
    "\n",
    "query = sprintf(\"select * from %s.%s\", library, dataset)\n",
    "res <- dbSendQuery(wrds, query)\n",
    "factors <- setDT(dbFetch(res, n=-1)); dbClearResult(res)\n",
    "sprintf('%s: %s', dataset, nrow(data))\n",
    "sv(factors, path='/data/WRDS-download')"
   ]
  },
  {
   "cell_type": "code",
   "execution_count": 6,
   "metadata": {},
   "outputs": [
    {
     "data": {
      "text/html": [
       "<table>\n",
       "<thead><tr><th scope=col>date</th><th scope=col>mktrf</th><th scope=col>smb</th><th scope=col>hml</th><th scope=col>rf</th><th scope=col>umd</th></tr></thead>\n",
       "<tbody>\n",
       "\t<tr><td>1926-07-01</td><td>0.001     </td><td>-0.0024   </td><td>-0.0028   </td><td>9e-05     </td><td>NA        </td></tr>\n",
       "</tbody>\n",
       "</table>\n"
      ],
      "text/latex": [
       "\\begin{tabular}{r|llllll}\n",
       " date & mktrf & smb & hml & rf & umd\\\\\n",
       "\\hline\n",
       "\t 1926-07-01 & 0.001      & -0.0024    & -0.0028    & 9e-05      & NA        \\\\\n",
       "\\end{tabular}\n"
      ],
      "text/markdown": [
       "\n",
       "| date | mktrf | smb | hml | rf | umd |\n",
       "|---|---|---|---|---|---|\n",
       "| 1926-07-01 | 0.001      | -0.0024    | -0.0028    | 9e-05      | NA         |\n",
       "\n"
      ],
      "text/plain": [
       "  date       mktrf smb     hml     rf    umd\n",
       "1 1926-07-01 0.001 -0.0024 -0.0028 9e-05 NA "
      ]
     },
     "metadata": {},
     "output_type": "display_data"
    }
   ],
   "source": [
    "factors[1]"
   ]
  },
  {
   "cell_type": "markdown",
   "metadata": {
    "toc-hr-collapsed": false
   },
   "source": [
    "## firm-id"
   ]
  },
  {
   "cell_type": "markdown",
   "metadata": {},
   "source": [
    "### `ibes.id`"
   ]
  },
  {
   "cell_type": "code",
   "execution_count": 4,
   "metadata": {},
   "outputs": [
    {
     "data": {
      "text/html": [
       "'nrow: 86242'"
      ],
      "text/latex": [
       "'nrow: 86242'"
      ],
      "text/markdown": [
       "'nrow: 86242'"
      ],
      "text/plain": [
       "[1] \"nrow: 86242\""
      ]
     },
     "metadata": {},
     "output_type": "display_data"
    },
    {
     "name": "stdout",
     "output_type": "stream",
     "text": [
      "-ibes_id- saved  (0.15 secs)\n"
     ]
    },
    {
     "data": {
      "text/html": [
       "'id: 240098'"
      ],
      "text/latex": [
       "'id: 240098'"
      ],
      "text/markdown": [
       "'id: 240098'"
      ],
      "text/plain": [
       "[1] \"id: 240098\""
      ]
     },
     "metadata": {},
     "output_type": "display_data"
    },
    {
     "data": {
      "text/html": [
       "<table>\n",
       "<thead><tr><th scope=col>ticker</th><th scope=col>cusip</th><th scope=col>cname</th><th scope=col>oftic</th><th scope=col>sdates</th></tr></thead>\n",
       "<tbody>\n",
       "\t<tr><td>0000          </td><td>87482X10      </td><td>TALMER BANCORP</td><td>TLMR          </td><td>2014-02-20    </td></tr>\n",
       "</tbody>\n",
       "</table>\n"
      ],
      "text/latex": [
       "\\begin{tabular}{r|lllll}\n",
       " ticker & cusip & cname & oftic & sdates\\\\\n",
       "\\hline\n",
       "\t 0000           & 87482X10       & TALMER BANCORP & TLMR           & 2014-02-20    \\\\\n",
       "\\end{tabular}\n"
      ],
      "text/markdown": [
       "\n",
       "| ticker | cusip | cname | oftic | sdates |\n",
       "|---|---|---|---|---|\n",
       "| 0000           | 87482X10       | TALMER BANCORP | TLMR           | 2014-02-20     |\n",
       "\n"
      ],
      "text/plain": [
       "  ticker cusip    cname          oftic sdates    \n",
       "1 0000   87482X10 TALMER BANCORP TLMR  2014-02-20"
      ]
     },
     "metadata": {},
     "output_type": "display_data"
    },
    {
     "name": "stdout",
     "output_type": "stream",
     "text": [
      "-ibes_id2- saved  (0.54 secs)\n"
     ]
    }
   ],
   "source": [
    "library = 'ibes'\n",
    "dataset = 'id' # firm names\n",
    "\n",
    "query = sprintf(\"select ticker, cusip, cname, sdates from %s.%s where usfirm=1 and cusip != ''\", library, dataset)\n",
    "res <- dbSendQuery(wrds, query)\n",
    "ibes_id <- setDT(dbFetch(res, n=-1)); dbClearResult(res)\n",
    "sprintf('nrow: %s', nrow(ibes_id))\n",
    "sv(ibes_id, path=WRDS_DOWNLOAD_DIR)\n",
    "\n",
    "query = sprintf(\"select ticker, cusip, cname, oftic, sdates from %s.%s\", library, dataset)\n",
    "res <- dbSendQuery(wrds, query)\n",
    "ibes_id2 <- setDT(dbFetch(res, n=-1)); dbClearResult(res)\n",
    "sprintf('%s: %s', dataset, nrow(ibes_id2))\n",
    "\n",
    "ibes_id2[1]\n",
    "sv(ibes_id2, path=WRDS_DOWNLOAD_DIR)"
   ]
  },
  {
   "cell_type": "markdown",
   "metadata": {},
   "source": [
    "### `comp.security`\n",
    "The table being used:\n",
    "- `comp_security`: link I/B/E/S to Compustat"
   ]
  },
  {
   "cell_type": "code",
   "execution_count": 391,
   "metadata": {},
   "outputs": [
    {
     "data": {
      "text/html": [
       "'security: 58376'"
      ],
      "text/latex": [
       "'security: 58376'"
      ],
      "text/markdown": [
       "'security: 58376'"
      ],
      "text/plain": [
       "[1] \"security: 58376\""
      ]
     },
     "metadata": {},
     "output_type": "display_data"
    },
    {
     "data": {
      "text/html": [
       "<table>\n",
       "<thead><tr><th scope=col>tic</th><th scope=col>gvkey</th><th scope=col>iid</th><th scope=col>cusip</th><th scope=col>dlrsni</th><th scope=col>dsci</th><th scope=col>epf</th><th scope=col>exchg</th><th scope=col>excntry</th><th scope=col>ibtic</th><th scope=col>isin</th><th scope=col>secstat</th><th scope=col>sedol</th><th scope=col>tpci</th><th scope=col>dldtei</th></tr></thead>\n",
       "<tbody>\n",
       "\t<tr><td>AE.2      </td><td>001000    </td><td>01        </td><td>000032102 </td><td>09        </td><td>COM USD1  </td><td>NA        </td><td>12        </td><td>USA       </td><td>NA        </td><td>NA        </td><td>I         </td><td>NA        </td><td>0         </td><td>1978-06-30</td></tr>\n",
       "</tbody>\n",
       "</table>\n"
      ],
      "text/latex": [
       "\\begin{tabular}{r|lllllllllllllll}\n",
       " tic & gvkey & iid & cusip & dlrsni & dsci & epf & exchg & excntry & ibtic & isin & secstat & sedol & tpci & dldtei\\\\\n",
       "\\hline\n",
       "\t AE.2       & 001000     & 01         & 000032102  & 09         & COM USD1   & NA         & 12         & USA        & NA         & NA         & I          & NA         & 0          & 1978-06-30\\\\\n",
       "\\end{tabular}\n"
      ],
      "text/markdown": [
       "\n",
       "| tic | gvkey | iid | cusip | dlrsni | dsci | epf | exchg | excntry | ibtic | isin | secstat | sedol | tpci | dldtei |\n",
       "|---|---|---|---|---|---|---|---|---|---|---|---|---|---|---|\n",
       "| AE.2       | 001000     | 01         | 000032102  | 09         | COM USD1   | NA         | 12         | USA        | NA         | NA         | I          | NA         | 0          | 1978-06-30 |\n",
       "\n"
      ],
      "text/plain": [
       "  tic  gvkey  iid cusip     dlrsni dsci     epf exchg excntry ibtic isin\n",
       "1 AE.2 001000 01  000032102 09     COM USD1 NA  12    USA     NA    NA  \n",
       "  secstat sedol tpci dldtei    \n",
       "1 I       NA    0    1978-06-30"
      ]
     },
     "metadata": {},
     "output_type": "display_data"
    },
    {
     "name": "stdout",
     "output_type": "stream",
     "text": [
      "-comp_security- saved  (0.34 secs)\n"
     ]
    }
   ],
   "source": [
    "library = 'compm'\n",
    "dataset = 'security' # firm names\n",
    "\n",
    "query = sprintf(\"select * from %s.%s\", library, dataset)\n",
    "res <- dbSendQuery(wrds, query)\n",
    "comp_security <- setDT(dbFetch(res, n=-1)); dbClearResult(res)\n",
    "sprintf('%s: %s', dataset, nrow(comp_security))\n",
    "\n",
    "comp_security[1]\n",
    "sv(comp_security, path=WRDS_DOWNLOAD_DIR)"
   ]
  },
  {
   "cell_type": "markdown",
   "metadata": {},
   "source": [
    "### `crsp.stocknames`"
   ]
  },
  {
   "cell_type": "code",
   "execution_count": 88,
   "metadata": {},
   "outputs": [
    {
     "data": {
      "text/html": [
       "'stocknames: 55738'"
      ],
      "text/latex": [
       "'stocknames: 55738'"
      ],
      "text/markdown": [
       "'stocknames: 55738'"
      ],
      "text/plain": [
       "[1] \"stocknames: 55738\""
      ]
     },
     "metadata": {},
     "output_type": "display_data"
    },
    {
     "data": {
      "text/html": [
       "<table>\n",
       "<thead><tr><th scope=col>permno</th><th scope=col>ncusip</th><th scope=col>comnam</th><th scope=col>namedt</th><th scope=col>nameenddt</th></tr></thead>\n",
       "<tbody>\n",
       "\t<tr><td>10000                    </td><td>68391610                 </td><td>OPTIMUM MANUFACTURING INC</td><td>1986-01-07               </td><td>1987-06-11               </td></tr>\n",
       "</tbody>\n",
       "</table>\n"
      ],
      "text/latex": [
       "\\begin{tabular}{r|lllll}\n",
       " permno & ncusip & comnam & namedt & nameenddt\\\\\n",
       "\\hline\n",
       "\t 10000                     & 68391610                  & OPTIMUM MANUFACTURING INC & 1986-01-07                & 1987-06-11               \\\\\n",
       "\\end{tabular}\n"
      ],
      "text/markdown": [
       "\n",
       "| permno | ncusip | comnam | namedt | nameenddt |\n",
       "|---|---|---|---|---|\n",
       "| 10000                     | 68391610                  | OPTIMUM MANUFACTURING INC | 1986-01-07                | 1987-06-11                |\n",
       "\n"
      ],
      "text/plain": [
       "  permno ncusip   comnam                    namedt     nameenddt \n",
       "1 10000  68391610 OPTIMUM MANUFACTURING INC 1986-01-07 1987-06-11"
      ]
     },
     "metadata": {},
     "output_type": "display_data"
    },
    {
     "name": "stdout",
     "output_type": "stream",
     "text": [
      "-crsp_stocknames- saved  (0.17 secs)\n"
     ]
    }
   ],
   "source": [
    "library = 'crsp'\n",
    "dataset = 'stocknames' # firm names\n",
    "\n",
    "query = sprintf(\"select permno, ncusip, comnam, namedt, nameenddt from %s.%s where ncusip != ''\", library, dataset)\n",
    "res <- dbSendQuery(wrds, query)\n",
    "crsp_stocknames <- setDT(dbFetch(res, n=-1)); dbClearResult(res)\n",
    "sprintf('nrow: %s', nrow(crsp_stocknames))\n",
    "sv(crsp_stocknames, path=WRDS_DOWNLOAD_DIR)\n",
    "\n",
    "query = sprintf(\"select ticker, comnam, permno, ncusip, namedt, nameenddt from %s.%s\", library, dataset)\n",
    "res <- dbSendQuery(wrds, query)\n",
    "crsp_stocknames2 <- setDT(dbFetch(res, n=-1)); dbClearResult(res)\n",
    "sprintf('nrow: %s', nrow(crsp_stocknames2))\n",
    "crsp_stocknames2[1]\n",
    "sv(crsp_stocknames2, path=WRDS_DOWNLOAD_DIR)"
   ]
  },
  {
   "cell_type": "markdown",
   "metadata": {},
   "source": [
    "### `crsp.ccm`"
   ]
  },
  {
   "cell_type": "code",
   "execution_count": 22,
   "metadata": {},
   "outputs": [
    {
     "data": {
      "text/html": [
       "'nrow: 32235'"
      ],
      "text/latex": [
       "'nrow: 32235'"
      ],
      "text/markdown": [
       "'nrow: 32235'"
      ],
      "text/plain": [
       "[1] \"nrow: 32235\""
      ]
     },
     "metadata": {},
     "output_type": "display_data"
    },
    {
     "name": "stdout",
     "output_type": "stream",
     "text": [
      "-crsp_ccmlink- saved  (0.13 secs)\n"
     ]
    },
    {
     "data": {
      "text/html": [
       "<table>\n",
       "<thead><tr><th scope=col>gvkey</th><th scope=col>permco</th><th scope=col>permno</th><th scope=col>linkdt</th><th scope=col>linkenddt</th></tr></thead>\n",
       "<tbody>\n",
       "\t<tr><td>001000    </td><td>23369     </td><td>25881     </td><td>1970-11-13</td><td>1978-06-30</td></tr>\n",
       "</tbody>\n",
       "</table>\n"
      ],
      "text/latex": [
       "\\begin{tabular}{r|lllll}\n",
       " gvkey & permco & permno & linkdt & linkenddt\\\\\n",
       "\\hline\n",
       "\t 001000     & 23369      & 25881      & 1970-11-13 & 1978-06-30\\\\\n",
       "\\end{tabular}\n"
      ],
      "text/markdown": [
       "\n",
       "| gvkey | permco | permno | linkdt | linkenddt |\n",
       "|---|---|---|---|---|\n",
       "| 001000     | 23369      | 25881      | 1970-11-13 | 1978-06-30 |\n",
       "\n"
      ],
      "text/plain": [
       "  gvkey  permco permno linkdt     linkenddt \n",
       "1 001000 23369  25881  1970-11-13 1978-06-30"
      ]
     },
     "metadata": {},
     "output_type": "display_data"
    }
   ],
   "source": [
    "library = 'crsp'\n",
    "dataset = 'ccmxpf_linktable' # firm names\n",
    "\n",
    "query = sprintf(\"select gvkey, lpermco as permco, lpermno as permno, linkdt, linkenddt from %s.%s where usedflag=1 and linkprim in ('P', 'C')\", library, dataset)\n",
    "res <- dbSendQuery(wrds, query)\n",
    "crsp_ccmlink <- setDT(dbFetch(res, n=-1)); dbClearResult(res)\n",
    "sprintf('nrow: %s', nrow(crsp_ccmlink))\n",
    "sv(crsp_ccmlink, path=WRDS_DOWNLOAD_DIR)\n",
    "crsp_ccmlink[1]"
   ]
  },
  {
   "cell_type": "markdown",
   "metadata": {},
   "source": [
    "## index-constituent"
   ]
  },
  {
   "cell_type": "code",
   "execution_count": 63,
   "metadata": {},
   "outputs": [
    {
     "name": "stdout",
     "output_type": "stream",
     "text": [
      "-comp_idx_prof- already exists, will NOT load again!  (0 secs)\n",
      "-comp_idx_cst- already exists, will NOT load again!  (0 secs)\n",
      "-comp_security- already exists, will NOT load again!  (0 secs)\n",
      "-crsp_stocknames- already exists, will NOT load again!  (0 secs)\n"
     ]
    }
   ],
   "source": [
    "ld(comp_idx_prof, path=WRDS_DOWNLOAD_DIR)\n",
    "ld(comp_idx_cst, path=WRDS_DOWNLOAD_DIR)\n",
    "ld(comp_security, path=WRDS_DOWNLOAD_DIR)\n",
    "ld(crsp_stocknames, path=WRDS_DOWNLOAD_DIR)"
   ]
  },
  {
   "cell_type": "code",
   "execution_count": 74,
   "metadata": {
    "scrolled": true
   },
   "outputs": [
    {
     "data": {
      "text/html": [
       "<table>\n",
       "<thead><tr><th scope=col>gvkey</th><th scope=col>iid</th><th scope=col>gvkeyx</th><th scope=col>from</th><th scope=col>thru</th><th scope=col>tic</th><th scope=col>cusip</th><th scope=col>sedol</th></tr></thead>\n",
       "<tbody>\n",
       "\t<tr><td>001300    </td><td>01        </td><td>000005    </td><td>1925-12-07</td><td>2008-02-18</td><td>HON       </td><td>438516    </td><td>2020459   </td></tr>\n",
       "\t<tr><td>001356    </td><td>01        </td><td>000005    </td><td>1959-06-01</td><td>2013-09-22</td><td>AA.3      </td><td>013817    </td><td>BYVZDB3   </td></tr>\n",
       "\t<tr><td>001447    </td><td>01        </td><td>000005    </td><td>1982-08-30</td><td>NA        </td><td>AXP       </td><td>025816    </td><td>2026082   </td></tr>\n",
       "\t<tr><td>001487    </td><td>01        </td><td>000005    </td><td>2004-04-08</td><td>2008-09-21</td><td>AIG       </td><td>026874    </td><td>2027342   </td></tr>\n",
       "\t<tr><td>001581    </td><td>01        </td><td>000005    </td><td>1939-03-14</td><td>2004-04-07</td><td>T.2       </td><td>001957    </td><td>2064888   </td></tr>\n",
       "\t<tr><td>001690    </td><td>01        </td><td>000005    </td><td>2015-03-19</td><td>NA        </td><td>AAPL      </td><td>037833    </td><td>2046251   </td></tr>\n",
       "\t<tr><td>002136    </td><td>01        </td><td>000005    </td><td>2004-04-08</td><td>NA        </td><td>VZ        </td><td>92343V    </td><td>2090571   </td></tr>\n",
       "\t<tr><td>002285    </td><td>01        </td><td>000005    </td><td>1987-03-12</td><td>NA        </td><td>BA        </td><td>097023    </td><td>2108601   </td></tr>\n",
       "\t<tr><td>002817    </td><td>01        </td><td>000005    </td><td>1991-05-06</td><td>NA        </td><td>CAT       </td><td>149123    </td><td>2180201   </td></tr>\n",
       "\t<tr><td>002968    </td><td>01        </td><td>000005    </td><td>2001-01-02</td><td>NA        </td><td>JPM       </td><td>46625H    </td><td>2190385   </td></tr>\n",
       "\t<tr><td>002991    </td><td>01        </td><td>000005    </td><td>1984-07-10</td><td>1999-10-31</td><td>CVX       </td><td>166764    </td><td>2838555   </td></tr>\n",
       "\t<tr><td>002991    </td><td>01        </td><td>000005    </td><td>2008-02-19</td><td>NA        </td><td>CVX       </td><td>166764    </td><td>2838555   </td></tr>\n",
       "\t<tr><td>003144    </td><td>01        </td><td>000005    </td><td>1932-05-26</td><td>NA        </td><td>KO        </td><td>191216    </td><td>2206657   </td></tr>\n",
       "\t<tr><td>003243    </td><td>01        </td><td>000005    </td><td>1997-03-17</td><td>2009-06-07</td><td>C         </td><td>172967    </td><td>2297907   </td></tr>\n",
       "\t<tr><td>003980    </td><td>01        </td><td>000005    </td><td>1991-05-06</td><td>NA        </td><td>DIS       </td><td>254687    </td><td>2270726   </td></tr>\n",
       "\t<tr><td>004060    </td><td>01        </td><td>000005    </td><td>2017-09-01</td><td>2019-04-01</td><td>DWDP      </td><td>26078J    </td><td>BYP66M4   </td></tr>\n",
       "\t<tr><td>004087    </td><td>01        </td><td>000005    </td><td>1935-11-20</td><td>2017-08-31</td><td>DD        </td><td>263534    </td><td>2018175   </td></tr>\n",
       "\t<tr><td>004194    </td><td>01        </td><td>000005    </td><td>1930-07-18</td><td>2004-04-07</td><td>EKDKQ     </td><td>277461    </td><td>2300601   </td></tr>\n",
       "\t<tr><td>004503    </td><td>01        </td><td>000005    </td><td>1928-10-01</td><td>NA        </td><td>XOM       </td><td>30231G    </td><td>2326618   </td></tr>\n",
       "\t<tr><td>005047    </td><td>01        </td><td>000005    </td><td>1907-11-07</td><td>2018-06-25</td><td>GE        </td><td>369604    </td><td>2380498   </td></tr>\n",
       "\t<tr><td>005073    </td><td>01        </td><td>000005    </td><td>1915-03-16</td><td>2009-06-07</td><td>MTLQQ     </td><td>62010A    </td><td>2365804   </td></tr>\n",
       "\t<tr><td>005234    </td><td>01        </td><td>000005    </td><td>1930-07-18</td><td>1999-10-31</td><td>GT        </td><td>382550    </td><td>2378200   </td></tr>\n",
       "\t<tr><td>005606    </td><td>01        </td><td>000005    </td><td>1997-03-17</td><td>2013-09-22</td><td>HPQ       </td><td>40434L    </td><td>BYX4D52   </td></tr>\n",
       "\t<tr><td>005680    </td><td>01        </td><td>000005    </td><td>1999-11-01</td><td>NA        </td><td>HD        </td><td>437076    </td><td>2434209   </td></tr>\n",
       "\t<tr><td>006008    </td><td>01        </td><td>000005    </td><td>1999-11-01</td><td>NA        </td><td>INTC      </td><td>458140    </td><td>2463247   </td></tr>\n",
       "\t<tr><td>006066    </td><td>01        </td><td>000005    </td><td>1932-05-26</td><td>NA        </td><td>IBM       </td><td>459200    </td><td>2005973   </td></tr>\n",
       "\t<tr><td>006104    </td><td>01        </td><td>000005    </td><td>1956-07-03</td><td>2004-04-07</td><td>IP        </td><td>460146    </td><td>2465254   </td></tr>\n",
       "\t<tr><td>006266    </td><td>01        </td><td>000005    </td><td>1997-03-17</td><td>NA        </td><td>JNJ       </td><td>478160    </td><td>2475833   </td></tr>\n",
       "\t<tr><td>007154    </td><td>01        </td><td>000005    </td><td>1985-10-30</td><td>NA        </td><td>MCD       </td><td>580135    </td><td>2550707   </td></tr>\n",
       "\t<tr><td>007257    </td><td>01        </td><td>000005    </td><td>1979-06-29</td><td>NA        </td><td>MRK       </td><td>58933Y    </td><td>2778844   </td></tr>\n",
       "\t<tr><td>007435    </td><td>01        </td><td>000005    </td><td>1976-08-09</td><td>NA        </td><td>MMM       </td><td>88579Y    </td><td>2595708   </td></tr>\n",
       "\t<tr><td>007562    </td><td>01        </td><td>000005    </td><td>1991-05-06</td><td>2001-01-01</td><td>JPM.Z     </td><td>616880    </td><td>NA        </td></tr>\n",
       "\t<tr><td>007647    </td><td>01        </td><td>000005    </td><td>2008-02-19</td><td>2013-09-22</td><td>BAC       </td><td>060505    </td><td>2295677   </td></tr>\n",
       "\t<tr><td>007906    </td><td>01        </td><td>000005    </td><td>2013-09-23</td><td>NA        </td><td>NKE       </td><td>654106    </td><td>2640147   </td></tr>\n",
       "\t<tr><td>008530    </td><td>01        </td><td>000005    </td><td>2004-04-08</td><td>NA        </td><td>PFE       </td><td>717081    </td><td>2684703   </td></tr>\n",
       "\t<tr><td>008543    </td><td>01        </td><td>000005    </td><td>1985-10-30</td><td>2008-02-18</td><td>MO        </td><td>02209S    </td><td>2692632   </td></tr>\n",
       "\t<tr><td>008762    </td><td>01        </td><td>000005    </td><td>1932-05-26</td><td>NA        </td><td>PG        </td><td>742718    </td><td>2704407   </td></tr>\n",
       "\t<tr><td>009563    </td><td>01        </td><td>000005    </td><td>1924-01-22</td><td>1999-10-31</td><td>S.1       </td><td>812387    </td><td>2787312   </td></tr>\n",
       "\t<tr><td>009899    </td><td>01        </td><td>000005    </td><td>1999-11-01</td><td>2015-03-18</td><td>T         </td><td>00206R    </td><td>2831811   </td></tr>\n",
       "\t<tr><td>010857    </td><td>01        </td><td>000005    </td><td>1928-10-01</td><td>1999-10-31</td><td>UK.1      </td><td>905581    </td><td>NA        </td></tr>\n",
       "\t<tr><td>010903    </td><td>01        </td><td>000005    </td><td>2012-09-24</td><td>NA        </td><td>UNH       </td><td>91324P    </td><td>2917766   </td></tr>\n",
       "\t<tr><td>010983    </td><td>01        </td><td>000005    </td><td>1975-05-01</td><td>NA        </td><td>UTX       </td><td>913017    </td><td>2915500   </td></tr>\n",
       "\t<tr><td>011259    </td><td>01        </td><td>000005    </td><td>1997-03-17</td><td>NA        </td><td>WMT       </td><td>931142    </td><td>2936921   </td></tr>\n",
       "\t<tr><td>011264    </td><td>01        </td><td>000005    </td><td>2018-06-26</td><td>NA        </td><td>WBA       </td><td>931427    </td><td>BTN1Y44   </td></tr>\n",
       "\t<tr><td>012141    </td><td>01        </td><td>000005    </td><td>1999-11-01</td><td>NA        </td><td>MSFT      </td><td>594918    </td><td>2588173   </td></tr>\n",
       "\t<tr><td>020779    </td><td>01        </td><td>000005    </td><td>2009-06-08</td><td>NA        </td><td>CSCO      </td><td>17275R    </td><td>2198163   </td></tr>\n",
       "\t<tr><td>062689    </td><td>05        </td><td>000005    </td><td>2009-06-08</td><td>NA        </td><td>TRV       </td><td>89417E    </td><td>2769503   </td></tr>\n",
       "\t<tr><td>114628    </td><td>01        </td><td>000005    </td><td>2013-09-23</td><td>NA        </td><td>GS        </td><td>38141G    </td><td>2407966   </td></tr>\n",
       "\t<tr><td>142953    </td><td>01        </td><td>000005    </td><td>2008-09-22</td><td>2012-09-23</td><td>MDLZ      </td><td>609207    </td><td>B8CKK03   </td></tr>\n",
       "\t<tr><td>179534    </td><td>01        </td><td>000005    </td><td>2013-09-23</td><td>NA        </td><td>V         </td><td>92826C    </td><td>B2PZN04   </td></tr>\n",
       "</tbody>\n",
       "</table>\n"
      ],
      "text/latex": [
       "\\begin{tabular}{r|llllllll}\n",
       " gvkey & iid & gvkeyx & from & thru & tic & cusip & sedol\\\\\n",
       "\\hline\n",
       "\t 001300     & 01         & 000005     & 1925-12-07 & 2008-02-18 & HON        & 438516     & 2020459   \\\\\n",
       "\t 001356     & 01         & 000005     & 1959-06-01 & 2013-09-22 & AA.3       & 013817     & BYVZDB3   \\\\\n",
       "\t 001447     & 01         & 000005     & 1982-08-30 & NA         & AXP        & 025816     & 2026082   \\\\\n",
       "\t 001487     & 01         & 000005     & 2004-04-08 & 2008-09-21 & AIG        & 026874     & 2027342   \\\\\n",
       "\t 001581     & 01         & 000005     & 1939-03-14 & 2004-04-07 & T.2        & 001957     & 2064888   \\\\\n",
       "\t 001690     & 01         & 000005     & 2015-03-19 & NA         & AAPL       & 037833     & 2046251   \\\\\n",
       "\t 002136     & 01         & 000005     & 2004-04-08 & NA         & VZ         & 92343V     & 2090571   \\\\\n",
       "\t 002285     & 01         & 000005     & 1987-03-12 & NA         & BA         & 097023     & 2108601   \\\\\n",
       "\t 002817     & 01         & 000005     & 1991-05-06 & NA         & CAT        & 149123     & 2180201   \\\\\n",
       "\t 002968     & 01         & 000005     & 2001-01-02 & NA         & JPM        & 46625H     & 2190385   \\\\\n",
       "\t 002991     & 01         & 000005     & 1984-07-10 & 1999-10-31 & CVX        & 166764     & 2838555   \\\\\n",
       "\t 002991     & 01         & 000005     & 2008-02-19 & NA         & CVX        & 166764     & 2838555   \\\\\n",
       "\t 003144     & 01         & 000005     & 1932-05-26 & NA         & KO         & 191216     & 2206657   \\\\\n",
       "\t 003243     & 01         & 000005     & 1997-03-17 & 2009-06-07 & C          & 172967     & 2297907   \\\\\n",
       "\t 003980     & 01         & 000005     & 1991-05-06 & NA         & DIS        & 254687     & 2270726   \\\\\n",
       "\t 004060     & 01         & 000005     & 2017-09-01 & 2019-04-01 & DWDP       & 26078J     & BYP66M4   \\\\\n",
       "\t 004087     & 01         & 000005     & 1935-11-20 & 2017-08-31 & DD         & 263534     & 2018175   \\\\\n",
       "\t 004194     & 01         & 000005     & 1930-07-18 & 2004-04-07 & EKDKQ      & 277461     & 2300601   \\\\\n",
       "\t 004503     & 01         & 000005     & 1928-10-01 & NA         & XOM        & 30231G     & 2326618   \\\\\n",
       "\t 005047     & 01         & 000005     & 1907-11-07 & 2018-06-25 & GE         & 369604     & 2380498   \\\\\n",
       "\t 005073     & 01         & 000005     & 1915-03-16 & 2009-06-07 & MTLQQ      & 62010A     & 2365804   \\\\\n",
       "\t 005234     & 01         & 000005     & 1930-07-18 & 1999-10-31 & GT         & 382550     & 2378200   \\\\\n",
       "\t 005606     & 01         & 000005     & 1997-03-17 & 2013-09-22 & HPQ        & 40434L     & BYX4D52   \\\\\n",
       "\t 005680     & 01         & 000005     & 1999-11-01 & NA         & HD         & 437076     & 2434209   \\\\\n",
       "\t 006008     & 01         & 000005     & 1999-11-01 & NA         & INTC       & 458140     & 2463247   \\\\\n",
       "\t 006066     & 01         & 000005     & 1932-05-26 & NA         & IBM        & 459200     & 2005973   \\\\\n",
       "\t 006104     & 01         & 000005     & 1956-07-03 & 2004-04-07 & IP         & 460146     & 2465254   \\\\\n",
       "\t 006266     & 01         & 000005     & 1997-03-17 & NA         & JNJ        & 478160     & 2475833   \\\\\n",
       "\t 007154     & 01         & 000005     & 1985-10-30 & NA         & MCD        & 580135     & 2550707   \\\\\n",
       "\t 007257     & 01         & 000005     & 1979-06-29 & NA         & MRK        & 58933Y     & 2778844   \\\\\n",
       "\t 007435     & 01         & 000005     & 1976-08-09 & NA         & MMM        & 88579Y     & 2595708   \\\\\n",
       "\t 007562     & 01         & 000005     & 1991-05-06 & 2001-01-01 & JPM.Z      & 616880     & NA        \\\\\n",
       "\t 007647     & 01         & 000005     & 2008-02-19 & 2013-09-22 & BAC        & 060505     & 2295677   \\\\\n",
       "\t 007906     & 01         & 000005     & 2013-09-23 & NA         & NKE        & 654106     & 2640147   \\\\\n",
       "\t 008530     & 01         & 000005     & 2004-04-08 & NA         & PFE        & 717081     & 2684703   \\\\\n",
       "\t 008543     & 01         & 000005     & 1985-10-30 & 2008-02-18 & MO         & 02209S     & 2692632   \\\\\n",
       "\t 008762     & 01         & 000005     & 1932-05-26 & NA         & PG         & 742718     & 2704407   \\\\\n",
       "\t 009563     & 01         & 000005     & 1924-01-22 & 1999-10-31 & S.1        & 812387     & 2787312   \\\\\n",
       "\t 009899     & 01         & 000005     & 1999-11-01 & 2015-03-18 & T          & 00206R     & 2831811   \\\\\n",
       "\t 010857     & 01         & 000005     & 1928-10-01 & 1999-10-31 & UK.1       & 905581     & NA        \\\\\n",
       "\t 010903     & 01         & 000005     & 2012-09-24 & NA         & UNH        & 91324P     & 2917766   \\\\\n",
       "\t 010983     & 01         & 000005     & 1975-05-01 & NA         & UTX        & 913017     & 2915500   \\\\\n",
       "\t 011259     & 01         & 000005     & 1997-03-17 & NA         & WMT        & 931142     & 2936921   \\\\\n",
       "\t 011264     & 01         & 000005     & 2018-06-26 & NA         & WBA        & 931427     & BTN1Y44   \\\\\n",
       "\t 012141     & 01         & 000005     & 1999-11-01 & NA         & MSFT       & 594918     & 2588173   \\\\\n",
       "\t 020779     & 01         & 000005     & 2009-06-08 & NA         & CSCO       & 17275R     & 2198163   \\\\\n",
       "\t 062689     & 05         & 000005     & 2009-06-08 & NA         & TRV        & 89417E     & 2769503   \\\\\n",
       "\t 114628     & 01         & 000005     & 2013-09-23 & NA         & GS         & 38141G     & 2407966   \\\\\n",
       "\t 142953     & 01         & 000005     & 2008-09-22 & 2012-09-23 & MDLZ       & 609207     & B8CKK03   \\\\\n",
       "\t 179534     & 01         & 000005     & 2013-09-23 & NA         & V          & 92826C     & B2PZN04   \\\\\n",
       "\\end{tabular}\n"
      ],
      "text/markdown": [
       "\n",
       "| gvkey | iid | gvkeyx | from | thru | tic | cusip | sedol |\n",
       "|---|---|---|---|---|---|---|---|\n",
       "| 001300     | 01         | 000005     | 1925-12-07 | 2008-02-18 | HON        | 438516     | 2020459    |\n",
       "| 001356     | 01         | 000005     | 1959-06-01 | 2013-09-22 | AA.3       | 013817     | BYVZDB3    |\n",
       "| 001447     | 01         | 000005     | 1982-08-30 | NA         | AXP        | 025816     | 2026082    |\n",
       "| 001487     | 01         | 000005     | 2004-04-08 | 2008-09-21 | AIG        | 026874     | 2027342    |\n",
       "| 001581     | 01         | 000005     | 1939-03-14 | 2004-04-07 | T.2        | 001957     | 2064888    |\n",
       "| 001690     | 01         | 000005     | 2015-03-19 | NA         | AAPL       | 037833     | 2046251    |\n",
       "| 002136     | 01         | 000005     | 2004-04-08 | NA         | VZ         | 92343V     | 2090571    |\n",
       "| 002285     | 01         | 000005     | 1987-03-12 | NA         | BA         | 097023     | 2108601    |\n",
       "| 002817     | 01         | 000005     | 1991-05-06 | NA         | CAT        | 149123     | 2180201    |\n",
       "| 002968     | 01         | 000005     | 2001-01-02 | NA         | JPM        | 46625H     | 2190385    |\n",
       "| 002991     | 01         | 000005     | 1984-07-10 | 1999-10-31 | CVX        | 166764     | 2838555    |\n",
       "| 002991     | 01         | 000005     | 2008-02-19 | NA         | CVX        | 166764     | 2838555    |\n",
       "| 003144     | 01         | 000005     | 1932-05-26 | NA         | KO         | 191216     | 2206657    |\n",
       "| 003243     | 01         | 000005     | 1997-03-17 | 2009-06-07 | C          | 172967     | 2297907    |\n",
       "| 003980     | 01         | 000005     | 1991-05-06 | NA         | DIS        | 254687     | 2270726    |\n",
       "| 004060     | 01         | 000005     | 2017-09-01 | 2019-04-01 | DWDP       | 26078J     | BYP66M4    |\n",
       "| 004087     | 01         | 000005     | 1935-11-20 | 2017-08-31 | DD         | 263534     | 2018175    |\n",
       "| 004194     | 01         | 000005     | 1930-07-18 | 2004-04-07 | EKDKQ      | 277461     | 2300601    |\n",
       "| 004503     | 01         | 000005     | 1928-10-01 | NA         | XOM        | 30231G     | 2326618    |\n",
       "| 005047     | 01         | 000005     | 1907-11-07 | 2018-06-25 | GE         | 369604     | 2380498    |\n",
       "| 005073     | 01         | 000005     | 1915-03-16 | 2009-06-07 | MTLQQ      | 62010A     | 2365804    |\n",
       "| 005234     | 01         | 000005     | 1930-07-18 | 1999-10-31 | GT         | 382550     | 2378200    |\n",
       "| 005606     | 01         | 000005     | 1997-03-17 | 2013-09-22 | HPQ        | 40434L     | BYX4D52    |\n",
       "| 005680     | 01         | 000005     | 1999-11-01 | NA         | HD         | 437076     | 2434209    |\n",
       "| 006008     | 01         | 000005     | 1999-11-01 | NA         | INTC       | 458140     | 2463247    |\n",
       "| 006066     | 01         | 000005     | 1932-05-26 | NA         | IBM        | 459200     | 2005973    |\n",
       "| 006104     | 01         | 000005     | 1956-07-03 | 2004-04-07 | IP         | 460146     | 2465254    |\n",
       "| 006266     | 01         | 000005     | 1997-03-17 | NA         | JNJ        | 478160     | 2475833    |\n",
       "| 007154     | 01         | 000005     | 1985-10-30 | NA         | MCD        | 580135     | 2550707    |\n",
       "| 007257     | 01         | 000005     | 1979-06-29 | NA         | MRK        | 58933Y     | 2778844    |\n",
       "| 007435     | 01         | 000005     | 1976-08-09 | NA         | MMM        | 88579Y     | 2595708    |\n",
       "| 007562     | 01         | 000005     | 1991-05-06 | 2001-01-01 | JPM.Z      | 616880     | NA         |\n",
       "| 007647     | 01         | 000005     | 2008-02-19 | 2013-09-22 | BAC        | 060505     | 2295677    |\n",
       "| 007906     | 01         | 000005     | 2013-09-23 | NA         | NKE        | 654106     | 2640147    |\n",
       "| 008530     | 01         | 000005     | 2004-04-08 | NA         | PFE        | 717081     | 2684703    |\n",
       "| 008543     | 01         | 000005     | 1985-10-30 | 2008-02-18 | MO         | 02209S     | 2692632    |\n",
       "| 008762     | 01         | 000005     | 1932-05-26 | NA         | PG         | 742718     | 2704407    |\n",
       "| 009563     | 01         | 000005     | 1924-01-22 | 1999-10-31 | S.1        | 812387     | 2787312    |\n",
       "| 009899     | 01         | 000005     | 1999-11-01 | 2015-03-18 | T          | 00206R     | 2831811    |\n",
       "| 010857     | 01         | 000005     | 1928-10-01 | 1999-10-31 | UK.1       | 905581     | NA         |\n",
       "| 010903     | 01         | 000005     | 2012-09-24 | NA         | UNH        | 91324P     | 2917766    |\n",
       "| 010983     | 01         | 000005     | 1975-05-01 | NA         | UTX        | 913017     | 2915500    |\n",
       "| 011259     | 01         | 000005     | 1997-03-17 | NA         | WMT        | 931142     | 2936921    |\n",
       "| 011264     | 01         | 000005     | 2018-06-26 | NA         | WBA        | 931427     | BTN1Y44    |\n",
       "| 012141     | 01         | 000005     | 1999-11-01 | NA         | MSFT       | 594918     | 2588173    |\n",
       "| 020779     | 01         | 000005     | 2009-06-08 | NA         | CSCO       | 17275R     | 2198163    |\n",
       "| 062689     | 05         | 000005     | 2009-06-08 | NA         | TRV        | 89417E     | 2769503    |\n",
       "| 114628     | 01         | 000005     | 2013-09-23 | NA         | GS         | 38141G     | 2407966    |\n",
       "| 142953     | 01         | 000005     | 2008-09-22 | 2012-09-23 | MDLZ       | 609207     | B8CKK03    |\n",
       "| 179534     | 01         | 000005     | 2013-09-23 | NA         | V          | 92826C     | B2PZN04    |\n",
       "\n"
      ],
      "text/plain": [
       "   gvkey  iid gvkeyx from       thru       tic   cusip  sedol  \n",
       "1  001300 01  000005 1925-12-07 2008-02-18 HON   438516 2020459\n",
       "2  001356 01  000005 1959-06-01 2013-09-22 AA.3  013817 BYVZDB3\n",
       "3  001447 01  000005 1982-08-30 <NA>       AXP   025816 2026082\n",
       "4  001487 01  000005 2004-04-08 2008-09-21 AIG   026874 2027342\n",
       "5  001581 01  000005 1939-03-14 2004-04-07 T.2   001957 2064888\n",
       "6  001690 01  000005 2015-03-19 <NA>       AAPL  037833 2046251\n",
       "7  002136 01  000005 2004-04-08 <NA>       VZ    92343V 2090571\n",
       "8  002285 01  000005 1987-03-12 <NA>       BA    097023 2108601\n",
       "9  002817 01  000005 1991-05-06 <NA>       CAT   149123 2180201\n",
       "10 002968 01  000005 2001-01-02 <NA>       JPM   46625H 2190385\n",
       "11 002991 01  000005 1984-07-10 1999-10-31 CVX   166764 2838555\n",
       "12 002991 01  000005 2008-02-19 <NA>       CVX   166764 2838555\n",
       "13 003144 01  000005 1932-05-26 <NA>       KO    191216 2206657\n",
       "14 003243 01  000005 1997-03-17 2009-06-07 C     172967 2297907\n",
       "15 003980 01  000005 1991-05-06 <NA>       DIS   254687 2270726\n",
       "16 004060 01  000005 2017-09-01 2019-04-01 DWDP  26078J BYP66M4\n",
       "17 004087 01  000005 1935-11-20 2017-08-31 DD    263534 2018175\n",
       "18 004194 01  000005 1930-07-18 2004-04-07 EKDKQ 277461 2300601\n",
       "19 004503 01  000005 1928-10-01 <NA>       XOM   30231G 2326618\n",
       "20 005047 01  000005 1907-11-07 2018-06-25 GE    369604 2380498\n",
       "21 005073 01  000005 1915-03-16 2009-06-07 MTLQQ 62010A 2365804\n",
       "22 005234 01  000005 1930-07-18 1999-10-31 GT    382550 2378200\n",
       "23 005606 01  000005 1997-03-17 2013-09-22 HPQ   40434L BYX4D52\n",
       "24 005680 01  000005 1999-11-01 <NA>       HD    437076 2434209\n",
       "25 006008 01  000005 1999-11-01 <NA>       INTC  458140 2463247\n",
       "26 006066 01  000005 1932-05-26 <NA>       IBM   459200 2005973\n",
       "27 006104 01  000005 1956-07-03 2004-04-07 IP    460146 2465254\n",
       "28 006266 01  000005 1997-03-17 <NA>       JNJ   478160 2475833\n",
       "29 007154 01  000005 1985-10-30 <NA>       MCD   580135 2550707\n",
       "30 007257 01  000005 1979-06-29 <NA>       MRK   58933Y 2778844\n",
       "31 007435 01  000005 1976-08-09 <NA>       MMM   88579Y 2595708\n",
       "32 007562 01  000005 1991-05-06 2001-01-01 JPM.Z 616880 NA     \n",
       "33 007647 01  000005 2008-02-19 2013-09-22 BAC   060505 2295677\n",
       "34 007906 01  000005 2013-09-23 <NA>       NKE   654106 2640147\n",
       "35 008530 01  000005 2004-04-08 <NA>       PFE   717081 2684703\n",
       "36 008543 01  000005 1985-10-30 2008-02-18 MO    02209S 2692632\n",
       "37 008762 01  000005 1932-05-26 <NA>       PG    742718 2704407\n",
       "38 009563 01  000005 1924-01-22 1999-10-31 S.1   812387 2787312\n",
       "39 009899 01  000005 1999-11-01 2015-03-18 T     00206R 2831811\n",
       "40 010857 01  000005 1928-10-01 1999-10-31 UK.1  905581 NA     \n",
       "41 010903 01  000005 2012-09-24 <NA>       UNH   91324P 2917766\n",
       "42 010983 01  000005 1975-05-01 <NA>       UTX   913017 2915500\n",
       "43 011259 01  000005 1997-03-17 <NA>       WMT   931142 2936921\n",
       "44 011264 01  000005 2018-06-26 <NA>       WBA   931427 BTN1Y44\n",
       "45 012141 01  000005 1999-11-01 <NA>       MSFT  594918 2588173\n",
       "46 020779 01  000005 2009-06-08 <NA>       CSCO  17275R 2198163\n",
       "47 062689 05  000005 2009-06-08 <NA>       TRV   89417E 2769503\n",
       "48 114628 01  000005 2013-09-23 <NA>       GS    38141G 2407966\n",
       "49 142953 01  000005 2008-09-22 2012-09-23 MDLZ  609207 B8CKK03\n",
       "50 179534 01  000005 2013-09-23 <NA>       V     92826C B2PZN04"
      ]
     },
     "metadata": {},
     "output_type": "display_data"
    }
   ],
   "source": [
    "x = unique(comp_idx_cst[gvkeyx=='000005'\n",
    "    ][comp_security[, .(gvkey, iid, tic, cusip=str_sub(cusip, 1, 6), sedol)], \n",
    "      on=.(gvkey, iid), nomatch=0])\n",
    "x\n",
    "# x[1]\n",
    "# crsp_stocknames[1]\n",
    "# y = x[crsp_stocknames[, .(cusip=str_sub(ncusip, 1, 6), comnam)], on=.(cusip)]\n",
    "# y[1]"
   ]
  },
  {
   "cell_type": "code",
   "execution_count": 12,
   "metadata": {},
   "outputs": [
    {
     "data": {
      "text/html": [
       "'idx_index: 2133'"
      ],
      "text/latex": [
       "'idx\\_index: 2133'"
      ],
      "text/markdown": [
       "'idx_index: 2133'"
      ],
      "text/plain": [
       "[1] \"idx_index: 2133\""
      ]
     },
     "metadata": {},
     "output_type": "display_data"
    },
    {
     "data": {
      "text/html": [
       "<table>\n",
       "<thead><tr><th scope=col>conm</th><th scope=col>gvkeyx</th><th scope=col>idx13key</th><th scope=col>idxcstflg</th><th scope=col>idxstat</th><th scope=col>indexcat</th><th scope=col>indexgeo</th><th scope=col>indexid</th><th scope=col>indextype</th><th scope=col>indexval</th><th scope=col>spii</th><th scope=col>spmi</th><th scope=col>tic</th><th scope=col>tici</th></tr></thead>\n",
       "<tbody>\n",
       "\t<tr><td>S&amp;P Industrials-Wed</td><td>000001                 </td><td>0000000000000          </td><td>N                      </td><td>A                      </td><td>S&amp;P                </td><td>USA                    </td><td>500                    </td><td>LGCAP                  </td><td>000000000              </td><td>NA                     </td><td>NA                     </td><td>I0001                  </td><td>I0001                  </td></tr>\n",
       "</tbody>\n",
       "</table>\n"
      ],
      "text/latex": [
       "\\begin{tabular}{r|llllllllllllll}\n",
       " conm & gvkeyx & idx13key & idxcstflg & idxstat & indexcat & indexgeo & indexid & indextype & indexval & spii & spmi & tic & tici\\\\\n",
       "\\hline\n",
       "\t S\\&P Industrials-Wed & 000001                & 0000000000000         & N                     & A                     & S\\&P                 & USA                   & 500                   & LGCAP                 & 000000000             & NA                    & NA                    & I0001                 & I0001                \\\\\n",
       "\\end{tabular}\n"
      ],
      "text/markdown": [
       "\n",
       "| conm | gvkeyx | idx13key | idxcstflg | idxstat | indexcat | indexgeo | indexid | indextype | indexval | spii | spmi | tic | tici |\n",
       "|---|---|---|---|---|---|---|---|---|---|---|---|---|---|\n",
       "| S&P Industrials-Wed | 000001              | 0000000000000       | N                   | A                   | S&P                 | USA                 | 500                 | LGCAP               | 000000000           | NA                  | NA                  | I0001               | I0001               |\n",
       "\n"
      ],
      "text/plain": [
       "  conm                gvkeyx idx13key      idxcstflg idxstat indexcat indexgeo\n",
       "1 S&P Industrials-Wed 000001 0000000000000 N         A       S&P      USA     \n",
       "  indexid indextype indexval  spii spmi tic   tici \n",
       "1 500     LGCAP     000000000 NA   NA   I0001 I0001"
      ]
     },
     "metadata": {},
     "output_type": "display_data"
    },
    {
     "name": "stdout",
     "output_type": "stream",
     "text": [
      "-comp_idx_prof- saved  (0.03 secs)\n"
     ]
    }
   ],
   "source": [
    "library = 'compa'\n",
    "dataset = 'idx_index' # firm names\n",
    "\n",
    "query = sprintf(\"select * from %s.%s\", library, dataset)\n",
    "res <- dbSendQuery(wrds, query)\n",
    "comp_idx_prof <- setDT(dbFetch(res, n=-1)); dbClearResult(res)\n",
    "sprintf('%s: %s', dataset, nrow(comp_idx_prof))\n",
    "\n",
    "comp_idx_prof[1]\n",
    "sv(comp_idx_prof, path=WRDS_DOWNLOAD_DIR)"
   ]
  },
  {
   "cell_type": "code",
   "execution_count": 16,
   "metadata": {},
   "outputs": [
    {
     "data": {
      "text/html": [
       "'idxcst_his: 87146'"
      ],
      "text/latex": [
       "'idxcst\\_his: 87146'"
      ],
      "text/markdown": [
       "'idxcst_his: 87146'"
      ],
      "text/plain": [
       "[1] \"idxcst_his: 87146\""
      ]
     },
     "metadata": {},
     "output_type": "display_data"
    },
    {
     "data": {
      "text/html": [
       "<table>\n",
       "<thead><tr><th scope=col>gvkey</th><th scope=col>iid</th><th scope=col>gvkeyx</th><th scope=col>from</th><th scope=col>thru</th></tr></thead>\n",
       "<tbody>\n",
       "\t<tr><td>001004    </td><td>01        </td><td>030824    </td><td>1994-10-01</td><td>NA        </td></tr>\n",
       "</tbody>\n",
       "</table>\n"
      ],
      "text/latex": [
       "\\begin{tabular}{r|lllll}\n",
       " gvkey & iid & gvkeyx & from & thru\\\\\n",
       "\\hline\n",
       "\t 001004     & 01         & 030824     & 1994-10-01 & NA        \\\\\n",
       "\\end{tabular}\n"
      ],
      "text/markdown": [
       "\n",
       "| gvkey | iid | gvkeyx | from | thru |\n",
       "|---|---|---|---|---|\n",
       "| 001004     | 01         | 030824     | 1994-10-01 | NA         |\n",
       "\n"
      ],
      "text/plain": [
       "  gvkey  iid gvkeyx from       thru\n",
       "1 001004 01  030824 1994-10-01 <NA>"
      ]
     },
     "metadata": {},
     "output_type": "display_data"
    },
    {
     "name": "stdout",
     "output_type": "stream",
     "text": [
      "-comp_idx_cst- saved  (0.18 secs)\n"
     ]
    }
   ],
   "source": [
    "library = 'compa'\n",
    "dataset = 'idxcst_his' # firm names\n",
    "\n",
    "query = sprintf(\"select * from %s.%s\", library, dataset)\n",
    "res <- dbSendQuery(wrds, query)\n",
    "comp_idx_cst <- setDT(dbFetch(res, n=-1)); dbClearResult(res)\n",
    "sprintf('%s: %s', dataset, nrow(comp_idx_cst))\n",
    "\n",
    "comp_idx_cst[1]\n",
    "sv(comp_idx_cst, path=WRDS_DOWNLOAD_DIR)"
   ]
  },
  {
   "cell_type": "markdown",
   "metadata": {},
   "source": [
    "## keydev"
   ]
  },
  {
   "cell_type": "code",
   "execution_count": 30,
   "metadata": {},
   "outputs": [
    {
     "data": {
      "text/html": [
       "'wrds_keydev: 1'"
      ],
      "text/latex": [
       "'wrds\\_keydev: 1'"
      ],
      "text/markdown": [
       "'wrds_keydev: 1'"
      ],
      "text/plain": [
       "[1] \"wrds_keydev: 1\""
      ]
     },
     "metadata": {},
     "output_type": "display_data"
    }
   ],
   "source": [
    "library = 'ciq'\n",
    "dataset = 'wrds_keydev' # everything except for `headline` and `situation`\n",
    "\n",
    "query = sprintf(\"select * from %s.%s \n",
    "    where keydeveventtypeid in (28, 48, 55, 61, 144)\", library, dataset)\n",
    "res <- dbSendQuery(wrds, query)\n",
    "ciq_wrds_keydev <- setDT(dbFetch(res, n=-1)); dbClearResult(res)\n",
    "sprintf('%s: %s', dataset, nrow(ciq_wrds_keydev))\n",
    "\n",
    "# `mostimportantdateutc` is in UTC but R doesn't recognize,\n",
    "# so we need to set it explictly\n",
    "ciq_wrds_keydev[, ':='(mostimportantdateutc=force_tz(mostimportantdateutc, 'UTC'))]\n",
    "\n",
    "sv(ciq_wrds_keydev, path=WRDS_DOWNLOAD_DIR)"
   ]
  },
  {
   "cell_type": "code",
   "execution_count": null,
   "metadata": {},
   "outputs": [],
   "source": [
    "library = 'ciq'\n",
    "dataset = 'ciqkeydev' # `headline` and `situation`\n",
    "\n",
    "query = sprintf(\"select * from %s.%s \n",
    "    where keydevid in \n",
    "        (select keydevid from ciq.wrds_keydev\n",
    "        where keydeveventtypeid in (28, 48, 55, 61, 144))\",\n",
    "    library, dataset)\n",
    "res <- dbSendQuery(wrds, query)\n",
    "ciq_keydev <- setDT(dbFetch(res, n=-1)); dbClearResult(res)\n",
    "sprintf('%s: %s', dataset, nrow(ciq_keydev))\n",
    "\n",
    "# `mostimportantdateutc` is in UTC but R doesn't recognize,\n",
    "# so we need to set it explictly\n",
    "ciq_keydev[, ':='(mostimportantdateutc=force_tz(mostimportantdateutc, 'UTC'))]\n",
    "\n",
    "sv(ciq_keydev, path=WRDS_DOWNLOAD_DIR)"
   ]
  },
  {
   "cell_type": "markdown",
   "metadata": {
    "toc-hr-collapsed": false
   },
   "source": [
    "# Parse CC"
   ]
  },
  {
   "cell_type": "markdown",
   "metadata": {
    "toc-hr-collapsed": true
   },
   "source": [
    "## `ICLINK`"
   ]
  },
  {
   "cell_type": "markdown",
   "metadata": {},
   "source": [
    "More explanation on score system:\n",
    "- 0: BEST match: using (cusip, cusip dates and company names)       \n",
    "          or (exchange ticker, company names and 6-digit cusip)     \n",
    "- 1: Cusips and cusip dates match but company names do not match    \n",
    "- 2: Cusips and company names match but cusip dates do not match    \n",
    "- 3: Cusips match but cusip dates and company names do not match    \n",
    "- 4: tickers and 6-digit cusips match but company names do not match   \n",
    "- 5: tickers and company names match but 6-digit cusips do not match       \n",
    "- 6: tickers match but company names and 6-digit cusips do not match  "
   ]
  },
  {
   "cell_type": "markdown",
   "metadata": {},
   "source": [
    "### Link by `CUSIP`"
   ]
  },
  {
   "cell_type": "markdown",
   "metadata": {},
   "source": [
    "**1.1 IBES: Get the list of IBES Tickers for US firms in IBES**"
   ]
  },
  {
   "cell_type": "code",
   "execution_count": 3,
   "metadata": {},
   "outputs": [
    {
     "name": "stdout",
     "output_type": "stream",
     "text": [
      "-ibes_id- loaded  (0.12 secs)\n"
     ]
    },
    {
     "data": {
      "text/html": [
       "<table>\n",
       "<thead><tr><th scope=col>ticker</th><th scope=col>cusip</th><th scope=col>cname</th><th scope=col>fdate</th><th scope=col>ldate</th></tr></thead>\n",
       "<tbody>\n",
       "\t<tr><td>0000          </td><td>87482X10      </td><td>TALMER BANCORP</td><td>2014-02-20    </td><td>2014-03-20    </td></tr>\n",
       "</tbody>\n",
       "</table>\n"
      ],
      "text/latex": [
       "\\begin{tabular}{r|lllll}\n",
       " ticker & cusip & cname & fdate & ldate\\\\\n",
       "\\hline\n",
       "\t 0000           & 87482X10       & TALMER BANCORP & 2014-02-20     & 2014-03-20    \\\\\n",
       "\\end{tabular}\n"
      ],
      "text/markdown": [
       "\n",
       "| ticker | cusip | cname | fdate | ldate |\n",
       "|---|---|---|---|---|\n",
       "| 0000           | 87482X10       | TALMER BANCORP | 2014-02-20     | 2014-03-20     |\n",
       "\n"
      ],
      "text/plain": [
       "  ticker cusip    cname          fdate      ldate     \n",
       "1 0000   87482X10 TALMER BANCORP 2014-02-20 2014-03-20"
      ]
     },
     "metadata": {},
     "output_type": "display_data"
    }
   ],
   "source": [
    "ld(ibes_id, path=WRDS_DOWNLOAD_DIR, force=T)\n",
    "\n",
    "ibes_id = ibes_id[, ':='(fdate=min(sdates), ldate=max(sdates)), \n",
    "     keyby=.(ticker, cusip)\n",
    "    ][order(ticker, cusip, sdates)\n",
    "    ][sdates==ldate\n",
    "    ][, .(ticker, cusip, cname, fdate, ldate)]\n",
    "ibes_id[1]"
   ]
  },
  {
   "cell_type": "markdown",
   "metadata": {},
   "source": [
    "**1.2 CRSP: Get all permno-ncusip combinations**"
   ]
  },
  {
   "cell_type": "code",
   "execution_count": 4,
   "metadata": {},
   "outputs": [
    {
     "name": "stdout",
     "output_type": "stream",
     "text": [
      "-crsp_stocknames- loaded  (0.09 secs)\n"
     ]
    }
   ],
   "source": [
    "ld(crsp_stocknames, path=WRDS_DOWNLOAD_DIR, force=T)\n",
    "\n",
    "crsp_stocknames = crsp_stocknames[, ':='(enddt=nameenddt)\n",
    "    ][, ':='(namedt=min(namedt), nameenddt=max(nameenddt)), \n",
    "     keyby=.(permno, ncusip)\n",
    "    ][enddt==nameenddt\n",
    "    ][, ':='(enddt=NULL)]"
   ]
  },
  {
   "cell_type": "markdown",
   "metadata": {},
   "source": [
    "**1.3 Create CUSIP Link Table**"
   ]
  },
  {
   "cell_type": "code",
   "execution_count": 5,
   "metadata": {},
   "outputs": [],
   "source": [
    "# Link by full cusip, company names and dates\n",
    "# Keep link with most recent company name\n",
    "\n",
    "cusip_link = crsp_stocknames[ibes_id, on=c('ncusip==cusip'), nomatch=0\n",
    "    ][order(ticker, permno, -ldate),\n",
    "    ][, .SD[1], keyby=.(ticker, permno)\n",
    "    ][, ':='(name_ratio=stringsim(comnam, cname))]"
   ]
  },
  {
   "cell_type": "code",
   "execution_count": 6,
   "metadata": {},
   "outputs": [],
   "source": [
    "# Calculate name matching ratio using\n",
    "\n",
    "name_ratio_p10 = quantile(cusip_link$name_ratio, 0.1)\n",
    "\n",
    "cusip_link = cusip_link[, ':='(score=ifelse((fdate<nameenddt) & (ldate>namedt) & (name_ratio>name_ratio_p10), 0, \n",
    "    ifelse((fdate<nameenddt) & (ldate>namedt), 1, \n",
    "    ifelse(name_ratio>name_ratio_p10, 2, 3))))\n",
    "    ][, .(ticker, permno, cname, comnam, name_ratio, score)] %>% unique()"
   ]
  },
  {
   "cell_type": "markdown",
   "metadata": {},
   "source": [
    "### Link by Ticker"
   ]
  },
  {
   "cell_type": "markdown",
   "metadata": {},
   "source": [
    "**Find links for the remaining unmatched cases using Exchange Ticker**"
   ]
  },
  {
   "cell_type": "code",
   "execution_count": 7,
   "metadata": {},
   "outputs": [
    {
     "name": "stdout",
     "output_type": "stream",
     "text": [
      "-ibes_id2- loaded  (0.43 secs)\n"
     ]
    },
    {
     "data": {
      "text/html": [
       "8287"
      ],
      "text/latex": [
       "8287"
      ],
      "text/markdown": [
       "8287"
      ],
      "text/plain": [
       "[1] 8287"
      ]
     },
     "metadata": {},
     "output_type": "display_data"
    }
   ],
   "source": [
    "# Identify remaining unmatched cases \n",
    "# Add IBES identifying information\n",
    "\n",
    "# Create first and last 'start dates' for Exchange Tickers\n",
    "# Label date range variables and keep only most recent company name\n",
    "\n",
    "ld(ibes_id2, path=WRDS_DOWNLOAD_DIR)\n",
    "\n",
    "nomatch = unique(cusip_link[, .(permno, ticker)\n",
    "    ][ibes_id[, (ticker)], on=.(ticker), nomatch=NA\n",
    "    ][is.na(permno)])[, ':='(permno=NULL)\n",
    "    ][ibes_id2[!is.na(oftic)], on=.(ticker), nomatch=0\n",
    "    ][, ':='(fdate=min(sdates), ldate=max(sdates)), \n",
    "     keyby=.(ticker, oftic)\n",
    "    ][sdates==fdate]\n",
    "nrow(nomatch)"
   ]
  },
  {
   "cell_type": "code",
   "execution_count": 11,
   "metadata": {
    "scrolled": true
   },
   "outputs": [
    {
     "name": "stdout",
     "output_type": "stream",
     "text": [
      "-crsp_stocknames2- already exists, will NOT load again!  (0 secs)\n"
     ]
    },
    {
     "data": {
      "text/html": [
       "268"
      ],
      "text/latex": [
       "268"
      ],
      "text/markdown": [
       "268"
      ],
      "text/plain": [
       "[1] 268"
      ]
     },
     "metadata": {},
     "output_type": "display_data"
    }
   ],
   "source": [
    "# Get entire list of CRSP stocks with Exchange Ticker information\n",
    "# Arrange effective dates for link by Exchange Ticker\n",
    "\n",
    "# Merge remaining unmatched cases using Exchange Ticker \n",
    "# Note: Use ticker date ranges as exchange tickers are reused overtime\n",
    "\n",
    "# Score using company name using 6-digit CUSIP and company name spelling distance\n",
    "\n",
    "# Some companies may have more than one TICKER-PERMNO link\n",
    "# so re-sort and keep the case (PERMNO & Company name from CRSP)\n",
    "# that gives the lowest score for each IBES TICKER \n",
    "\n",
    "ld(crsp_stocknames2, path=WRDS_DOWNLOAD_DIR)\n",
    "\n",
    "cusip_link2 = crsp_stocknames2[!is.na(ticker)\n",
    "    ][order(permno, ticker, namedt)\n",
    "    ][, ':='(namedt_ind=namedt, nameenddt_ind=nameenddt)\n",
    "    ][, ':='(namedt=min(namedt), nameenddt=max(nameenddt)), keyby=.(permno, ticker)\n",
    "    ][nameenddt_ind==nameenddt\n",
    "    ][, .(crsp_ticker=ticker, comnam, permno, ncusip, namedt, nameenddt)\n",
    "    ][nomatch, on=c('crsp_ticker==oftic'), nomatch=0\n",
    "    ][ldate>namedt & fdate<nameenddt\n",
    "    ][, ':='(name_ratio=stringsim(comnam, cname), \n",
    "             cusip6=str_sub(cusip, 1, 6),\n",
    "             ncusip6=str_sub(ncusip, 1, 6))\n",
    "    ][, ':='(score=ifelse(cusip6==ncusip6 & name_ratio>name_ratio_p10, 0,\n",
    "     ifelse(cusip6==ncusip6, 4,\n",
    "     ifelse(name_ratio>name_ratio_p10, 5, 6))))\n",
    "    ][order(ticker, score), .SD[1], keyby=.(ticker)\n",
    "    ][, .(ticker, permno, cname, comnam, score)\n",
    "    ] %>% unique()\n",
    "\n",
    "cusip_link2[, .N]"
   ]
  },
  {
   "cell_type": "code",
   "execution_count": 12,
   "metadata": {},
   "outputs": [
    {
     "data": {
      "text/html": [
       "<table>\n",
       "<thead><tr><th scope=col>ticker</th><th scope=col>permno</th><th scope=col>cname</th><th scope=col>comnam</th><th scope=col>score</th></tr></thead>\n",
       "<tbody>\n",
       "\t<tr><td>008Y                    </td><td>13038                   </td><td>BURCON NUTRASCIE        </td><td>BURCON NUTRASCIENCE CORP</td><td>0                       </td></tr>\n",
       "</tbody>\n",
       "</table>\n"
      ],
      "text/latex": [
       "\\begin{tabular}{r|lllll}\n",
       " ticker & permno & cname & comnam & score\\\\\n",
       "\\hline\n",
       "\t 008Y                     & 13038                    & BURCON NUTRASCIE         & BURCON NUTRASCIENCE CORP & 0                       \\\\\n",
       "\\end{tabular}\n"
      ],
      "text/markdown": [
       "\n",
       "| ticker | permno | cname | comnam | score |\n",
       "|---|---|---|---|---|\n",
       "| 008Y                     | 13038                    | BURCON NUTRASCIE         | BURCON NUTRASCIENCE CORP | 0                        |\n",
       "\n"
      ],
      "text/plain": [
       "  ticker permno cname            comnam                   score\n",
       "1 008Y   13038  BURCON NUTRASCIE BURCON NUTRASCIENCE CORP 0    "
      ]
     },
     "metadata": {},
     "output_type": "display_data"
    }
   ],
   "source": [
    "cusip_link2[1]"
   ]
  },
  {
   "cell_type": "markdown",
   "metadata": {},
   "source": [
    "### Combine two link tables"
   ]
  },
  {
   "cell_type": "code",
   "execution_count": 17,
   "metadata": {},
   "outputs": [
    {
     "name": "stdout",
     "output_type": "stream",
     "text": [
      "-iclink- saved  (0.11 secs)\n"
     ]
    }
   ],
   "source": [
    "iclink = rbindlist(list(cusip_link, cusip_link2), fill=T)\n",
    "sv(iclink)"
   ]
  },
  {
   "cell_type": "code",
   "execution_count": 15,
   "metadata": {
    "scrolled": true
   },
   "outputs": [
    {
     "data": {
      "text/html": [
       "<table>\n",
       "<thead><tr><th scope=col>ticker</th><th scope=col>permno</th><th scope=col>cname</th><th scope=col>comnam</th><th scope=col>name_ratio</th><th scope=col>score</th></tr></thead>\n",
       "<tbody>\n",
       "\t<tr><td>0000                           </td><td>14471                          </td><td>TALMER BANCORP                 </td><td>TALMER BANCORP INC             </td><td>0.7777778                      </td><td>0                              </td></tr>\n",
       "\t<tr><td>0001                           </td><td>14392                          </td><td>EP ENGR CORP                   </td><td>E P ENERGY CORP                </td><td>0.7333333                      </td><td>0                              </td></tr>\n",
       "\t<tr><td>0004                           </td><td>14418                          </td><td>AMERICAN CAPITAL               </td><td>AMERICAN CAPITAL SR FLOATING LT</td><td>0.5161290                      </td><td>0                              </td></tr>\n",
       "\t<tr><td>000R                           </td><td>14378                          </td><td>CARECOM                        </td><td>CARE COM INC                   </td><td>0.5833333                      </td><td>0                              </td></tr>\n",
       "\t<tr><td>000V                           </td><td>14423                          </td><td>EIGER                          </td><td>EIGER BIOPHARMACEUTICALS INC   </td><td>0.1785714                      </td><td>1                              </td></tr>\n",
       "</tbody>\n",
       "</table>\n"
      ],
      "text/latex": [
       "\\begin{tabular}{r|llllll}\n",
       " ticker & permno & cname & comnam & name\\_ratio & score\\\\\n",
       "\\hline\n",
       "\t 0000                            & 14471                           & TALMER BANCORP                  & TALMER BANCORP INC              & 0.7777778                       & 0                              \\\\\n",
       "\t 0001                            & 14392                           & EP ENGR CORP                    & E P ENERGY CORP                 & 0.7333333                       & 0                              \\\\\n",
       "\t 0004                            & 14418                           & AMERICAN CAPITAL                & AMERICAN CAPITAL SR FLOATING LT & 0.5161290                       & 0                              \\\\\n",
       "\t 000R                            & 14378                           & CARECOM                         & CARE COM INC                    & 0.5833333                       & 0                              \\\\\n",
       "\t 000V                            & 14423                           & EIGER                           & EIGER BIOPHARMACEUTICALS INC    & 0.1785714                       & 1                              \\\\\n",
       "\\end{tabular}\n"
      ],
      "text/markdown": [
       "\n",
       "| ticker | permno | cname | comnam | name_ratio | score |\n",
       "|---|---|---|---|---|---|\n",
       "| 0000                            | 14471                           | TALMER BANCORP                  | TALMER BANCORP INC              | 0.7777778                       | 0                               |\n",
       "| 0001                            | 14392                           | EP ENGR CORP                    | E P ENERGY CORP                 | 0.7333333                       | 0                               |\n",
       "| 0004                            | 14418                           | AMERICAN CAPITAL                | AMERICAN CAPITAL SR FLOATING LT | 0.5161290                       | 0                               |\n",
       "| 000R                            | 14378                           | CARECOM                         | CARE COM INC                    | 0.5833333                       | 0                               |\n",
       "| 000V                            | 14423                           | EIGER                           | EIGER BIOPHARMACEUTICALS INC    | 0.1785714                       | 1                               |\n",
       "\n"
      ],
      "text/plain": [
       "  ticker permno cname            comnam                          name_ratio\n",
       "1 0000   14471  TALMER BANCORP   TALMER BANCORP INC              0.7777778 \n",
       "2 0001   14392  EP ENGR CORP     E P ENERGY CORP                 0.7333333 \n",
       "3 0004   14418  AMERICAN CAPITAL AMERICAN CAPITAL SR FLOATING LT 0.5161290 \n",
       "4 000R   14378  CARECOM          CARE COM INC                    0.5833333 \n",
       "5 000V   14423  EIGER            EIGER BIOPHARMACEUTICALS INC    0.1785714 \n",
       "  score\n",
       "1 0    \n",
       "2 0    \n",
       "3 0    \n",
       "4 0    \n",
       "5 1    "
      ]
     },
     "metadata": {},
     "output_type": "display_data"
    }
   ],
   "source": [
    "iclink[1:5]"
   ]
  },
  {
   "cell_type": "code",
   "execution_count": 16,
   "metadata": {},
   "outputs": [
    {
     "data": {
      "text/html": [
       "20045"
      ],
      "text/latex": [
       "20045"
      ],
      "text/markdown": [
       "20045"
      ],
      "text/plain": [
       "[1] 20045"
      ]
     },
     "metadata": {},
     "output_type": "display_data"
    }
   ],
   "source": [
    "nrow(iclink)"
   ]
  },
  {
   "cell_type": "markdown",
   "metadata": {},
   "source": [
    "## `SUE`"
   ]
  },
  {
   "cell_type": "code",
   "execution_count": 70,
   "metadata": {},
   "outputs": [
    {
     "name": "stdout",
     "output_type": "stream",
     "text": [
      "-comp_idx_cst- already exists, will NOT load again!  (0 secs)\n",
      "-comp_security- already exists, will NOT load again!  (0 secs)\n",
      "-crsp_ccmlink- already exists, will NOT load again!  (0 secs)\n",
      "-ibes_detu_epsus- already exists, will NOT load again!  (0 secs)\n",
      "-ibes_actu_epsus- already exists, will NOT load again!  (0 secs)\n",
      "-iclink- already exists, will NOT load again!  (0 secs)\n"
     ]
    }
   ],
   "source": [
    "ld(comp_idx_cst, path=WRDS_DOWNLOAD_DIR)\n",
    "ld(comp_security, path=WRDS_DOWNLOAD_DIR)\n",
    "ld(crsp_ccmlink, path=WRDS_DOWNLOAD_DIR)\n",
    "ld(ibes_detu_epsus, path=WRDS_DOWNLOAD_DIR)\n",
    "ld(ibes_actu_epsus, path=WRDS_DOWNLOAD_DIR)\n",
    "ld(iclink)"
   ]
  },
  {
   "cell_type": "code",
   "execution_count": 44,
   "metadata": {},
   "outputs": [
    {
     "data": {
      "text/html": [
       "1729"
      ],
      "text/latex": [
       "1729"
      ],
      "text/markdown": [
       "1729"
      ],
      "text/plain": [
       "[1] 1729"
      ]
     },
     "metadata": {},
     "output_type": "display_data"
    },
    {
     "data": {
      "text/html": [
       "<table>\n",
       "<thead><tr><th scope=col>ticker</th><th scope=col>permno</th><th scope=col>linkdt</th><th scope=col>linkenddt</th></tr></thead>\n",
       "<tbody>\n",
       "\t<tr><td>004W      </td><td>14714     </td><td>2014-06-06</td><td>2019-11-14</td></tr>\n",
       "\t<tr><td>00C6      </td><td>14939     </td><td>2014-11-03</td><td>2019-11-14</td></tr>\n",
       "\t<tr><td>00VP      </td><td>15703     </td><td>2015-10-15</td><td>2019-11-14</td></tr>\n",
       "</tbody>\n",
       "</table>\n"
      ],
      "text/latex": [
       "\\begin{tabular}{r|llll}\n",
       " ticker & permno & linkdt & linkenddt\\\\\n",
       "\\hline\n",
       "\t 004W       & 14714      & 2014-06-06 & 2019-11-14\\\\\n",
       "\t 00C6       & 14939      & 2014-11-03 & 2019-11-14\\\\\n",
       "\t 00VP       & 15703      & 2015-10-15 & 2019-11-14\\\\\n",
       "\\end{tabular}\n"
      ],
      "text/markdown": [
       "\n",
       "| ticker | permno | linkdt | linkenddt |\n",
       "|---|---|---|---|\n",
       "| 004W       | 14714      | 2014-06-06 | 2019-11-14 |\n",
       "| 00C6       | 14939      | 2014-11-03 | 2019-11-14 |\n",
       "| 00VP       | 15703      | 2015-10-15 | 2019-11-14 |\n",
       "\n"
      ],
      "text/plain": [
       "  ticker permno linkdt     linkenddt \n",
       "1 004W   14714  2014-06-06 2019-11-14\n",
       "2 00C6   14939  2014-11-03 2019-11-14\n",
       "3 00VP   15703  2015-10-15 2019-11-14"
      ]
     },
     "metadata": {},
     "output_type": "display_data"
    }
   ],
   "source": [
    "##################################\n",
    "# Step 1. S&P 500 Index Universe #\n",
    "##################################\n",
    "\n",
    "# All companies that were ever included in S&P 500 index as an example \n",
    "# Linking Compustat GVKEY and IBES Tickers using ICLINK               \n",
    "# For unmatched GVKEYs, use header IBTIC link in Compustat Security file \n",
    "\n",
    "# Fill linkenddt missing value (.E in SAS dataset) with today's date\n",
    "\n",
    "sp500 = comp_idx_cst[gvkeyx=='000003', .(gvkey)]\n",
    "ccm = crsp_ccmlink[is.na(linkenddt), linkenddt := today()]\n",
    "sec = comp_security[, .(ibtic, gvkey)]\n",
    "\n",
    "# Start the sequence of left join\n",
    "gvkey = ccm[sp500, on=.(gvkey)]\n",
    "gvkey = sec[!is.na(ibtic)][gvkey, on=.(gvkey)]\n",
    "\n",
    "# high quality links from iclink\n",
    "# score = 0 or 1\n",
    "# fill missing ticker with ibtic\n",
    "# Keep relevant columns and drop duplicates if there is any\n",
    "\n",
    "iclink_hq = iclink[score<=1]\n",
    "gvkey = iclink_hq[gvkey, on=.(permno)\n",
    "    ][is.na(ticker), ticker := ibtic\n",
    "    ][, .(gvkey, permco, permno, linkdt, linkenddt, ticker)\n",
    "    ] %>% unique()\n",
    "# date ranges from gvkey\n",
    "\n",
    "# min linkdt for ticker and permno combination\n",
    "# max linkenddt for ticker and permno combination\n",
    "# link date range \n",
    "gvkey_dt = gvkey[!is.na(ticker) & !is.na(permno)\n",
    "    ][, .(linkdt=min(linkdt, na.rm=T), linkenddt=max(linkenddt, na.rm=T)), keyby=.(ticker, permno)]\n",
    "nrow(gvkey_dt)\n",
    "gvkey_dt[1:3]"
   ]
  },
  {
   "cell_type": "code",
   "execution_count": 68,
   "metadata": {
    "scrolled": true
   },
   "outputs": [
    {
     "data": {
      "text/html": [
       "446849"
      ],
      "text/latex": [
       "446849"
      ],
      "text/markdown": [
       "446849"
      ],
      "text/plain": [
       "[1] 446849"
      ]
     },
     "metadata": {},
     "output_type": "display_data"
    },
    {
     "data": {
      "text/html": [
       "<table>\n",
       "<thead><tr><th scope=col>ticker</th><th scope=col>fpedats</th><th scope=col>estimator</th><th scope=col>analys</th><th scope=col>anndats</th><th scope=col>anntims</th><th scope=col>revdats</th><th scope=col>revtims</th><th scope=col>value</th><th scope=col>permno</th><th scope=col>basis</th></tr></thead>\n",
       "<tbody>\n",
       "\t<tr><td>ZY        </td><td>2018-10-31</td><td>52135     </td><td>563949    </td><td>2018-10-15</td><td>68640     </td><td>2018-11-14</td><td>73439     </td><td>0.647     </td><td>40539     </td><td>D         </td></tr>\n",
       "\t<tr><td>ZY        </td><td>2018-10-31</td><td>60902     </td><td>502726    </td><td>2018-09-11</td><td> 3840     </td><td>2018-11-19</td><td> 4078     </td><td>1.200     </td><td>40539     </td><td>D         </td></tr>\n",
       "\t<tr><td>ZY        </td><td>2018-10-31</td><td>88989     </td><td>626091    </td><td>2018-11-01</td><td>22320     </td><td>2018-11-01</td><td>41989     </td><td>1.220     </td><td>40539     </td><td>D         </td></tr>\n",
       "\t<tr><td>ZY        </td><td>2018-10-31</td><td>91263     </td><td>593895    </td><td>2018-08-22</td><td> 4500     </td><td>2018-11-12</td><td>33141     </td><td>1.200     </td><td>40539     </td><td>D         </td></tr>\n",
       "\t<tr><td>ZY        </td><td>2018-10-31</td><td>91560     </td><td>620865    </td><td>2018-09-04</td><td> 5880     </td><td>2018-11-13</td><td>34736     </td><td>1.220     </td><td>40539     </td><td>D         </td></tr>\n",
       "\t<tr><td>ZY        </td><td>2018-10-31</td><td>91613     </td><td>630583    </td><td>2018-11-15</td><td>52080     </td><td>2018-11-16</td><td>15690     </td><td>0.610     </td><td>40539     </td><td>D         </td></tr>\n",
       "</tbody>\n",
       "</table>\n"
      ],
      "text/latex": [
       "\\begin{tabular}{r|lllllllllll}\n",
       " ticker & fpedats & estimator & analys & anndats & anntims & revdats & revtims & value & permno & basis\\\\\n",
       "\\hline\n",
       "\t ZY         & 2018-10-31 & 52135      & 563949     & 2018-10-15 & 68640      & 2018-11-14 & 73439      & 0.647      & 40539      & D         \\\\\n",
       "\t ZY         & 2018-10-31 & 60902      & 502726     & 2018-09-11 &  3840      & 2018-11-19 &  4078      & 1.200      & 40539      & D         \\\\\n",
       "\t ZY         & 2018-10-31 & 88989      & 626091     & 2018-11-01 & 22320      & 2018-11-01 & 41989      & 1.220      & 40539      & D         \\\\\n",
       "\t ZY         & 2018-10-31 & 91263      & 593895     & 2018-08-22 &  4500      & 2018-11-12 & 33141      & 1.200      & 40539      & D         \\\\\n",
       "\t ZY         & 2018-10-31 & 91560      & 620865     & 2018-09-04 &  5880      & 2018-11-13 & 34736      & 1.220      & 40539      & D         \\\\\n",
       "\t ZY         & 2018-10-31 & 91613      & 630583     & 2018-11-15 & 52080      & 2018-11-16 & 15690      & 0.610      & 40539      & D         \\\\\n",
       "\\end{tabular}\n"
      ],
      "text/markdown": [
       "\n",
       "| ticker | fpedats | estimator | analys | anndats | anntims | revdats | revtims | value | permno | basis |\n",
       "|---|---|---|---|---|---|---|---|---|---|---|\n",
       "| ZY         | 2018-10-31 | 52135      | 563949     | 2018-10-15 | 68640      | 2018-11-14 | 73439      | 0.647      | 40539      | D          |\n",
       "| ZY         | 2018-10-31 | 60902      | 502726     | 2018-09-11 |  3840      | 2018-11-19 |  4078      | 1.200      | 40539      | D          |\n",
       "| ZY         | 2018-10-31 | 88989      | 626091     | 2018-11-01 | 22320      | 2018-11-01 | 41989      | 1.220      | 40539      | D          |\n",
       "| ZY         | 2018-10-31 | 91263      | 593895     | 2018-08-22 |  4500      | 2018-11-12 | 33141      | 1.200      | 40539      | D          |\n",
       "| ZY         | 2018-10-31 | 91560      | 620865     | 2018-09-04 |  5880      | 2018-11-13 | 34736      | 1.220      | 40539      | D          |\n",
       "| ZY         | 2018-10-31 | 91613      | 630583     | 2018-11-15 | 52080      | 2018-11-16 | 15690      | 0.610      | 40539      | D          |\n",
       "\n"
      ],
      "text/plain": [
       "  ticker fpedats    estimator analys anndats    anntims revdats    revtims\n",
       "1 ZY     2018-10-31 52135     563949 2018-10-15 68640   2018-11-14 73439  \n",
       "2 ZY     2018-10-31 60902     502726 2018-09-11  3840   2018-11-19  4078  \n",
       "3 ZY     2018-10-31 88989     626091 2018-11-01 22320   2018-11-01 41989  \n",
       "4 ZY     2018-10-31 91263     593895 2018-08-22  4500   2018-11-12 33141  \n",
       "5 ZY     2018-10-31 91560     620865 2018-09-04  5880   2018-11-13 34736  \n",
       "6 ZY     2018-10-31 91613     630583 2018-11-15 52080   2018-11-16 15690  \n",
       "  value permno basis\n",
       "1 0.647 40539  D    \n",
       "2 1.200 40539  D    \n",
       "3 1.220 40539  D    \n",
       "4 1.200 40539  D    \n",
       "5 1.220 40539  D    \n",
       "6 0.610 40539  D    "
      ]
     },
     "metadata": {},
     "output_type": "display_data"
    }
   ],
   "source": [
    "#######################################\n",
    "# Step 2. Extract Estimates from IBES #\n",
    "#######################################\n",
    "\n",
    "# Extract estimates from IBES Unadjusted file and select    \n",
    "# the latest estimate for a firm within broker-analyst group\n",
    "# \"fpi in (6,7)\" selects quarterly forecast for the current \n",
    "# and the next fiscal quarter  \n",
    "\n",
    "ibes = gvkey_dt[ibes_detu_epsus[fpedats>=as.Date('2010-01-01')], \n",
    "     on=.(ticker), allow.cartesian=T\n",
    "    ][linkdt<=anndats & anndats<=linkenddt]\n",
    "\n",
    "# merge to get date range linkdt and linkenddt to fulfill date requirement\n",
    "# Count number of estimates reported on primary/diluted basis \n",
    "\n",
    "# Determine whether most analysts report estimates on primary/diluted basis\n",
    "# following Livnat and Mendenhall (2006)   \n",
    "\n",
    "# Keep the latest observation for a given analyst\n",
    "# Group by company fpedats estimator analys then pick the last record in the group\n",
    "\n",
    "ibes[pdf=='P', ':='(p_count=.N), by=.(ticker, fpedats)]\n",
    "ibes[pdf=='D', ':='(d_count=.N), by=.(ticker, fpedats)]\n",
    "\n",
    "ibes = ibes[, ':='(p_count=fillna(p_count, 0), d_count=fillna(d_count, 0))\n",
    "    ][, ':='(basis=ifelse(p_count>d_count, 'P', 'D'))\n",
    "    ][order(ticker, fpedats, estimator, analys, -anndats, anntims, revdats, revtims)\n",
    "    ][, .(ticker, fpedats, estimator, analys, anndats, anntims, revdats, revtims, value, permno, basis)\n",
    "    ][, .SD[1], keyby=.(ticker, fpedats, estimator, analys)]\n",
    "\n",
    "nrow(ibes)\n",
    "tail(ibes)"
   ]
  },
  {
   "cell_type": "code",
   "execution_count": 74,
   "metadata": {
    "scrolled": true
   },
   "outputs": [
    {
     "data": {
      "text/html": [
       "310293"
      ],
      "text/latex": [
       "310293"
      ],
      "text/markdown": [
       "310293"
      ],
      "text/plain": [
       "[1] 310293"
      ]
     },
     "metadata": {},
     "output_type": "display_data"
    },
    {
     "data": {
      "text/html": [
       "<table>\n",
       "<thead><tr><th scope=col>ticker</th><th scope=col>repdats</th><th scope=col>act</th><th scope=col>fpedats</th><th scope=col>estimator</th><th scope=col>analys</th><th scope=col>anndats</th><th scope=col>anntims</th><th scope=col>revdats</th><th scope=col>revtims</th><th scope=col>value</th><th scope=col>permno</th><th scope=col>basis</th></tr></thead>\n",
       "<tbody>\n",
       "\t<tr><td>004W      </td><td>2014-08-07</td><td>0.35      </td><td>2014-06-30</td><td> 31       </td><td> 72523    </td><td>2014-07-01</td><td>27000     </td><td>2014-07-01</td><td>38312     </td><td>0.130     </td><td>14714     </td><td>D         </td></tr>\n",
       "\t<tr><td>004W      </td><td>2014-08-07</td><td>0.35      </td><td>2014-06-30</td><td> 98       </td><td> 90646    </td><td>2014-07-01</td><td>22320     </td><td>2014-07-01</td><td>30994     </td><td>0.170     </td><td>14714     </td><td>D         </td></tr>\n",
       "\t<tr><td>004W      </td><td>2014-08-07</td><td>0.35      </td><td>2014-06-30</td><td>100       </td><td> 76979    </td><td>2014-07-01</td><td>23220     </td><td>2014-08-04</td><td>65067     </td><td>0.099     </td><td>14714     </td><td>D         </td></tr>\n",
       "\t<tr><td>004W      </td><td>2014-08-07</td><td>0.35      </td><td>2014-06-30</td><td>228       </td><td> 79979    </td><td>2014-07-01</td><td>22920     </td><td>2014-07-01</td><td>47972     </td><td>0.160     </td><td>14714     </td><td>D         </td></tr>\n",
       "\t<tr><td>004W      </td><td>2014-08-07</td><td>0.35      </td><td>2014-06-30</td><td>260       </td><td> 71551    </td><td>2014-07-01</td><td>  960     </td><td>2014-07-24</td><td>39318     </td><td>0.110     </td><td>14714     </td><td>D         </td></tr>\n",
       "\t<tr><td>004W      </td><td>2014-08-07</td><td>0.35      </td><td>2014-06-30</td><td>282       </td><td>127095    </td><td>2014-07-01</td><td>20160     </td><td>2014-08-04</td><td> 1188     </td><td>0.130     </td><td>14714     </td><td>D         </td></tr>\n",
       "</tbody>\n",
       "</table>\n"
      ],
      "text/latex": [
       "\\begin{tabular}{r|lllllllllllll}\n",
       " ticker & repdats & act & fpedats & estimator & analys & anndats & anntims & revdats & revtims & value & permno & basis\\\\\n",
       "\\hline\n",
       "\t 004W       & 2014-08-07 & 0.35       & 2014-06-30 &  31        &  72523     & 2014-07-01 & 27000      & 2014-07-01 & 38312      & 0.130      & 14714      & D         \\\\\n",
       "\t 004W       & 2014-08-07 & 0.35       & 2014-06-30 &  98        &  90646     & 2014-07-01 & 22320      & 2014-07-01 & 30994      & 0.170      & 14714      & D         \\\\\n",
       "\t 004W       & 2014-08-07 & 0.35       & 2014-06-30 & 100        &  76979     & 2014-07-01 & 23220      & 2014-08-04 & 65067      & 0.099      & 14714      & D         \\\\\n",
       "\t 004W       & 2014-08-07 & 0.35       & 2014-06-30 & 228        &  79979     & 2014-07-01 & 22920      & 2014-07-01 & 47972      & 0.160      & 14714      & D         \\\\\n",
       "\t 004W       & 2014-08-07 & 0.35       & 2014-06-30 & 260        &  71551     & 2014-07-01 &   960      & 2014-07-24 & 39318      & 0.110      & 14714      & D         \\\\\n",
       "\t 004W       & 2014-08-07 & 0.35       & 2014-06-30 & 282        & 127095     & 2014-07-01 & 20160      & 2014-08-04 &  1188      & 0.130      & 14714      & D         \\\\\n",
       "\\end{tabular}\n"
      ],
      "text/markdown": [
       "\n",
       "| ticker | repdats | act | fpedats | estimator | analys | anndats | anntims | revdats | revtims | value | permno | basis |\n",
       "|---|---|---|---|---|---|---|---|---|---|---|---|---|\n",
       "| 004W       | 2014-08-07 | 0.35       | 2014-06-30 |  31        |  72523     | 2014-07-01 | 27000      | 2014-07-01 | 38312      | 0.130      | 14714      | D          |\n",
       "| 004W       | 2014-08-07 | 0.35       | 2014-06-30 |  98        |  90646     | 2014-07-01 | 22320      | 2014-07-01 | 30994      | 0.170      | 14714      | D          |\n",
       "| 004W       | 2014-08-07 | 0.35       | 2014-06-30 | 100        |  76979     | 2014-07-01 | 23220      | 2014-08-04 | 65067      | 0.099      | 14714      | D          |\n",
       "| 004W       | 2014-08-07 | 0.35       | 2014-06-30 | 228        |  79979     | 2014-07-01 | 22920      | 2014-07-01 | 47972      | 0.160      | 14714      | D          |\n",
       "| 004W       | 2014-08-07 | 0.35       | 2014-06-30 | 260        |  71551     | 2014-07-01 |   960      | 2014-07-24 | 39318      | 0.110      | 14714      | D          |\n",
       "| 004W       | 2014-08-07 | 0.35       | 2014-06-30 | 282        | 127095     | 2014-07-01 | 20160      | 2014-08-04 |  1188      | 0.130      | 14714      | D          |\n",
       "\n"
      ],
      "text/plain": [
       "  ticker repdats    act  fpedats    estimator analys anndats    anntims\n",
       "1 004W   2014-08-07 0.35 2014-06-30  31        72523 2014-07-01 27000  \n",
       "2 004W   2014-08-07 0.35 2014-06-30  98        90646 2014-07-01 22320  \n",
       "3 004W   2014-08-07 0.35 2014-06-30 100        76979 2014-07-01 23220  \n",
       "4 004W   2014-08-07 0.35 2014-06-30 228        79979 2014-07-01 22920  \n",
       "5 004W   2014-08-07 0.35 2014-06-30 260        71551 2014-07-01   960  \n",
       "6 004W   2014-08-07 0.35 2014-06-30 282       127095 2014-07-01 20160  \n",
       "  revdats    revtims value permno basis\n",
       "1 2014-07-01 38312   0.130 14714  D    \n",
       "2 2014-07-01 30994   0.170 14714  D    \n",
       "3 2014-08-04 65067   0.099 14714  D    \n",
       "4 2014-07-01 47972   0.160 14714  D    \n",
       "5 2014-07-24 39318   0.110 14714  D    \n",
       "6 2014-08-04  1188   0.130 14714  D    "
      ]
     },
     "metadata": {},
     "output_type": "display_data"
    }
   ],
   "source": [
    "#######################################\n",
    "# Step 3. Link Estimates with Actuals #\n",
    "#######################################\n",
    "\n",
    "# Link Unadjusted estimates with Unadjusted actuals and CRSP permnos  \n",
    "# Keep only the estimates issued within 90 days before the report date\n",
    "# Join with the estimate piece of the data\n",
    "\n",
    "ibes_act = ibes_actu_epsus\n",
    "ibes_act = ibes_act[ibes, on=.(ticker, fpedats)\n",
    "    ][, ':='(dgap=repdats-anndats)\n",
    "    ][, ':='(flag=ifelse((dgap>=0) & (dgap<=90) & !is.na(repdats) & !is.na(anndats), 1, 0))\n",
    "    ][flag==1\n",
    "    ][, ':='(flag=NULL, dgap=NULL, pdicity=NULL)]\n",
    "\n",
    "# Select all relevant combinations of Permnos and Date\n",
    "\n",
    "ibes_act"
   ]
  },
  {
   "cell_type": "markdown",
   "metadata": {},
   "source": [
    "## `cc_transcript`"
   ]
  },
  {
   "cell_type": "markdown",
   "metadata": {},
   "source": [
    "Unit test"
   ]
  },
  {
   "cell_type": "code",
   "execution_count": 453,
   "metadata": {
    "scrolled": true
   },
   "outputs": [
    {
     "data": {
      "text/html": [
       "'E*TRADE FINANCIAL CORPORATION FQ4 2017 EARNINGS CALL | JAN 25, 2018\\r\\nCopyright © 2019 by S&amp;P Global '"
      ],
      "text/latex": [
       "'E*TRADE FINANCIAL CORPORATION FQ4 2017 EARNINGS CALL \\textbar{} JAN 25, 2018\\textbackslash{}r\\textbackslash{}nCopyright © 2019 by S\\&P Global '"
      ],
      "text/markdown": [
       "'E*TRADE FINANCIAL CORPORATION FQ4 2017 EARNINGS CALL | JAN 25, 2018\\r\\nCopyright © 2019 by S&amp;P Global '"
      ],
      "text/plain": [
       "[1] \"E*TRADE FINANCIAL CORPORATION FQ4 2017 EARNINGS CALL | JAN 25, 2018\\r\\nCopyright © 2019 by S&P Global \""
      ]
     },
     "metadata": {},
     "output_type": "display_data"
    },
    {
     "data": {
      "text/html": [
       "'E*TRADE FINANCIAL CORPORATION FQ4 2017 EARNINGS CALL | JAN 25, 2018\\r\\n'"
      ],
      "text/latex": [
       "'E*TRADE FINANCIAL CORPORATION FQ4 2017 EARNINGS CALL \\textbar{} JAN 25, 2018\\textbackslash{}r\\textbackslash{}n'"
      ],
      "text/markdown": [
       "'E*TRADE FINANCIAL CORPORATION FQ4 2017 EARNINGS CALL | JAN 25, 2018\\r\\n'"
      ],
      "text/plain": [
       "[1] \"E*TRADE FINANCIAL CORPORATION FQ4 2017 EARNINGS CALL | JAN 25, 2018\\r\\n\""
      ]
     },
     "metadata": {},
     "output_type": "display_data"
    },
    {
     "data": {
      "text/html": [
       "'Presentation\\r\\nOperator\\r\\nGood evening, and thank you for joining E*TRADE\\'s Fourth Quarter and Full Ye'"
      ],
      "text/latex": [
       "'Presentation\\textbackslash{}r\\textbackslash{}nOperator\\textbackslash{}r\\textbackslash{}nGood evening, and thank you for joining E*TRADE\\textbackslash{}'s Fourth Quarter and Full Ye'"
      ],
      "text/markdown": [
       "'Presentation\\r\\nOperator\\r\\nGood evening, and thank you for joining E*TRADE\\'s Fourth Quarter and Full Ye'"
      ],
      "text/plain": [
       "[1] \"Presentation\\r\\nOperator\\r\\nGood evening, and thank you for joining E*TRADE's Fourth Quarter and Full Ye\""
      ]
     },
     "metadata": {},
     "output_type": "display_data"
    }
   ],
   "source": [
    "path = 'C:/Users/rossz/OneDrive/CC/data/ciq-transcripts/ciq-sp500-2018-0201-0400/cc_2018/ETRADE Financial Corporation, Q4 2017 Earnings Call, Jan 25, 2018.pdf'\n",
    "cc = pdf_text(path)\n",
    "n_page = length(cc)\n",
    "\n",
    "str_sub(cc[n_page], 1, 100)\n",
    "header = str_extract(cc[n_page], '^.+(\\\\r\\\\n)*20\\\\d{2}\\\\r\\\\n')\n",
    "header\n",
    "cc = str_replace_all(cc, fixed(header), '')\n",
    "str_sub(cc[5], 1, 100)"
   ]
  },
  {
   "cell_type": "markdown",
   "metadata": {},
   "source": [
    "load data"
   ]
  },
  {
   "cell_type": "code",
   "execution_count": 1,
   "metadata": {
    "scrolled": true
   },
   "outputs": [
    {
     "name": "stdout",
     "output_type": "stream",
     "text": [
      "N of all transcripts: 6478 \n",
      "N of Earnings Call: 2917 \n"
     ]
    }
   ],
   "source": [
    "cc_paths = list.files(\n",
    "    'C:/Users/rossz/OneDrive/CC/data/ciq-transcripts',\n",
    "    recursive=T,\n",
    "    pattern='.pdf$',\n",
    "    full=T)\n",
    "cat('N of all transcripts:', length(cc_paths), '\\n')\n",
    "\n",
    "cc_paths = cc_paths[str_detect(cc_paths, regex('Earnings', ignore=T))]\n",
    "cat('N of Earnings Call:', length(cc_paths), '\\n')"
   ]
  },
  {
   "cell_type": "code",
   "execution_count": 4,
   "metadata": {
    "scrolled": true
   },
   "outputs": [
    {
     "data": {
      "text/html": [
       "<table>\n",
       "<thead><tr><th scope=col>cc_filename</th><th scope=col>date</th><th scope=col>md</th><th scope=col>qa</th><th scope=col>cc_path</th></tr></thead>\n",
       "<tbody>\n",
       "\t<tr><td>Kimberly-Clark Corporation, Q1 2017 Earnings Call, Apr 24, 2017                                                                                     </td><td>2017-04-24                                                                                                                                          </td><td>Presentation Operato                                                                                                                                </td><td>Question and Answer                                                                                                                                 </td><td>C:/Users/rossz/OneDrive/CC/data/ciq-transcripts/ciq-sp500-2017-1001-1200/cc_2017/Kimberly-Clark Corporation, Q1 2017 Earnings Call, Apr 24, 2017.pdf</td></tr>\n",
       "</tbody>\n",
       "</table>\n"
      ],
      "text/latex": [
       "\\begin{tabular}{r|lllll}\n",
       " cc\\_filename & date & md & qa & cc\\_path\\\\\n",
       "\\hline\n",
       "\t Kimberly-Clark Corporation, Q1 2017 Earnings Call, Apr 24, 2017                                                                                        & 2017-04-24                                                                                                                                             & Presentation Operato                                                                                                                                   & Question and Answer                                                                                                                                    & C:/Users/rossz/OneDrive/CC/data/ciq-transcripts/ciq-sp500-2017-1001-1200/cc\\_2017/Kimberly-Clark Corporation, Q1 2017 Earnings Call, Apr 24, 2017.pdf\\\\\n",
       "\\end{tabular}\n"
      ],
      "text/markdown": [
       "\n",
       "| cc_filename | date | md | qa | cc_path |\n",
       "|---|---|---|---|---|\n",
       "| Kimberly-Clark Corporation, Q1 2017 Earnings Call, Apr 24, 2017                                                                                      | 2017-04-24                                                                                                                                           | Presentation Operato                                                                                                                                 | Question and Answer                                                                                                                                  | C:/Users/rossz/OneDrive/CC/data/ciq-transcripts/ciq-sp500-2017-1001-1200/cc_2017/Kimberly-Clark Corporation, Q1 2017 Earnings Call, Apr 24, 2017.pdf |\n",
       "\n"
      ],
      "text/plain": [
       "  cc_filename                                                     date      \n",
       "1 Kimberly-Clark Corporation, Q1 2017 Earnings Call, Apr 24, 2017 2017-04-24\n",
       "  md                   qa                  \n",
       "1 Presentation Operato Question and Answer \n",
       "  cc_path                                                                                                                                             \n",
       "1 C:/Users/rossz/OneDrive/CC/data/ciq-transcripts/ciq-sp500-2017-1001-1200/cc_2017/Kimberly-Clark Corporation, Q1 2017 Earnings Call, Apr 24, 2017.pdf"
      ]
     },
     "metadata": {},
     "output_type": "display_data"
    }
   ],
   "source": [
    "parse_one_page <- function(cc_path) {\n",
    "    obs = list()\n",
    "    \n",
    "    cc = pdf_text(cc_path)\n",
    "    n_page = length(cc)\n",
    "    \n",
    "    # cc_filename\n",
    "    cc_filename = str_match(\n",
    "        cc_path,\n",
    "        regex('/([^/]+?)\\\\.pdf', ignore=T))[,2]\n",
    "    \n",
    "    # remove header\n",
    "    header = str_extract(cc[n_page], '^.+(\\\\r\\\\n)*20\\\\d{2}\\\\r\\\\n')\n",
    "    cc = str_replace_all(cc, fixed(header), '')\n",
    "    \n",
    "    # remove footer\n",
    "    cc = str_replace_all(cc, '\\\\r\\\\n.+\\\\r\\\\n.+\\\\r\\\\n$', '')\n",
    "    \n",
    "    # determin which page is TOC\n",
    "    toc_pagenum = str_which(cc, regex('contents[\\\\s\\\\S]+table of contents', ignore=T))\n",
    "    if (length(toc_pagenum) > 1) {\n",
    "        stop('len(toc_pagenum) > 1 !!')\n",
    "    }\n",
    "    \n",
    "    # extract pagenum\n",
    "    toc_page = cc[toc_pagenum]\n",
    "    toc_participants = str_match(\n",
    "        toc_page, \n",
    "        regex('contents[\\\\s\\\\S]+table of contents[\\\\s.]+(call participants.+)?', ignore=T))[,2]\n",
    "    participants_pagenum = as.integer(str_match(toc_participants, '[\\\\. ]+(\\\\d+)')[,2])\n",
    "    \n",
    "    toc_md = str_match(\n",
    "        toc_page,\n",
    "        regex('contents[\\\\s\\\\S]+table of contents[\\\\s\\\\S]+(presentation.+)', ignore=T))[,2]\n",
    "    md_pagenum = as.integer(str_match(toc_md, '[\\\\. ]+(\\\\d+)')[,2])\n",
    "    \n",
    "    toc_qa = str_match(\n",
    "        toc_page,\n",
    "        regex('contents[\\\\s\\\\S]+table of contents[\\\\s\\\\S]+(question and answer.+)', ignore=T))[,2]\n",
    "    qa_pagenum = as.integer(str_match(toc_qa, '[\\\\. ]+(\\\\d+)')[,2])\n",
    "    \n",
    "    # extract {md, qa}\n",
    "    if (!is.na(qa_pagenum)) {\n",
    "        md = str_c(cc[md_pagenum:(qa_pagenum-1)], collapse=' ') %>% str_replace_all('\\\\r\\\\n', ' ')\n",
    "        qa = str_c(cc[qa_pagenum:(n_page-1)], collapse='') %>% str_replace_all('\\\\r\\\\n', ' ')\n",
    "\n",
    "        # test if `md` and `qa` parsed successfully\n",
    "        # if failed, parse again\n",
    "        if ((str_sub(md, 1, 12) != 'Presentation') | (str_sub(qa, 1, 19) != 'Question and Answer')) {\n",
    "            md_pagenum = str_which(cc, '^Presentation')\n",
    "            qa_pagenum = str_which(cc, '^Question and Answer')\n",
    "            \n",
    "            md = str_c(cc[md_pagenum:(qa_pagenum-1)], collapse='') %>% str_replace_all('\\\\r\\\\n', ' ')\n",
    "            qa = str_c(cc[qa_pagenum:(n_page-1)], collapse='') %>% str_replace_all('\\\\r\\\\n', ' ')\n",
    "            \n",
    "            if ((str_sub(md, 1, 12) != 'Presentation') | (str_sub(qa, 1, 19) != 'Question and Answer')) {\n",
    "                cat('MD/QA parsing error!:', cc_path, '\\n')\n",
    "                cat('\\t MD:', str_sub(md, 1, 13), '\\n')\n",
    "                cat('\\t QA:', str_sub(qa, 1, 20), '\\n')\n",
    "#                 cat('\\t New MD:', str_sub(md, 1, 13), '\\n')\n",
    "#                 cat('\\t New QA:', str_sub(qa, 1, 20), '\\n')\n",
    "            }\n",
    "\n",
    "        }\n",
    "        \n",
    "    } else {\n",
    "        md = str_c(cc[md_pagenum:(n_page-1)], collapse=' ') %>% str_replace_all('\\\\r\\\\n', ' ')\n",
    "        qa = NA\n",
    "        if (str_sub(md, 1, 12) != 'Presentation') {\n",
    "            md_pagenum = str_which(cc, '^Presentation')\n",
    "            md = str_c(cc[md_pagenum:(n_page-1)], collapse=' ') %>% str_replace_all('\\\\r\\\\n', ' ')\n",
    "            \n",
    "            if (str_sub(md, 1, 12) != 'Presentation') {\n",
    "                cat('MD parsing error!:', cc_path, '\\n')\n",
    "                cat('\\t MD:', str_sub(md, 1, 13), '\\n')\n",
    "                cat('\\t New MD:', str_sub(md, 1, 13), '\\n')\n",
    "            }\n",
    "        }\n",
    "    }\n",
    "\n",
    "    # get date\n",
    "    date=mdy(\n",
    "      str_match(cc_filename, regex('Call, (.+, 20\\\\d{2})', ignore=T))[,2])\n",
    "    \n",
    "    # prepare output\n",
    "    obs$cc_filename = cc_filename\n",
    "    obs$date = date\n",
    "    # obs$participants_pagenum = participants_pagenum\n",
    "    # obs$md_pagenum = md_pagenum\n",
    "    # obs$qa_pagenum = qa_pagenum\n",
    "    obs$md = md\n",
    "    obs$qa = qa\n",
    "    obs$cc_path = cc_path\n",
    "    obs\n",
    "    \n",
    "}\n",
    "\n",
    "# parse all pdf\n",
    "ciq_transcripts = list()\n",
    "for (i in sample(1:length(cc_paths), 10)) {\n",
    "# for (i in 1:length(cc_paths)) {\n",
    "    ciq_transcripts[[i]] = parse_one_page(cc_paths[i])\n",
    "}\n",
    "ciq_transcripts = rbindlist(ciq_transcripts)\n",
    "ciq_transcripts[1][, ':='(md = str_sub(md, 1, 20), qa = str_sub(qa, 1, 20))][]"
   ]
  },
  {
   "cell_type": "code",
   "execution_count": 15,
   "metadata": {},
   "outputs": [
    {
     "name": "stdout",
     "output_type": "stream",
     "text": [
      "-ciq_transcripts- saved  (5.15 secs)\n"
     ]
    }
   ],
   "source": [
    "sv(ciq_transcripts)"
   ]
  },
  {
   "cell_type": "markdown",
   "metadata": {},
   "source": [
    "## `cc_meta`"
   ]
  },
  {
   "cell_type": "markdown",
   "metadata": {},
   "source": [
    "Notes: **linking `ibtic` and `gvkey`**\n",
    "- one `gvkey` may have multiple `iid`, but in this situation, `iid` only have two variants: `01` and `01C`, so we assume these `iid` are the same.\n",
    "- The case where `gvkey` has multiple `iid` only accounts for 2.2% of the data.\n",
    "- Therefore, we assume `gvkey` and `ibtic` has one-to-one map\n",
    "- `f_comp_security`: the final linking table"
   ]
  },
  {
   "cell_type": "code",
   "execution_count": 3,
   "metadata": {},
   "outputs": [
    {
     "name": "stdout",
     "output_type": "stream",
     "text": [
      "-ciq_wrds_keydev- loaded  (4.55 secs)\n",
      "-ciq_keydev- loaded  (26.62 secs)\n",
      "-comp_security- loaded  (0.22 secs)\n"
     ]
    }
   ],
   "source": [
    "ld(ciq_wrds_keydev, path=WRDS_DOWNLOAD_DIR)\n",
    "ld(ciq_keydev, path=WRDS_DOWNLOAD_DIR)\n",
    "ld(comp_security, path=WRDS_DOWNLOAD_DIR)"
   ]
  },
  {
   "cell_type": "code",
   "execution_count": 5,
   "metadata": {},
   "outputs": [
    {
     "data": {
      "text/html": [
       "<table>\n",
       "<thead><tr><th scope=col>gvkey</th><th scope=col>ibtic</th></tr></thead>\n",
       "<tbody>\n",
       "\t<tr><td>001001</td><td>AMFD  </td></tr>\n",
       "</tbody>\n",
       "</table>\n"
      ],
      "text/latex": [
       "\\begin{tabular}{r|ll}\n",
       " gvkey & ibtic\\\\\n",
       "\\hline\n",
       "\t 001001 & AMFD  \\\\\n",
       "\\end{tabular}\n"
      ],
      "text/markdown": [
       "\n",
       "| gvkey | ibtic |\n",
       "|---|---|\n",
       "| 001001 | AMFD   |\n",
       "\n"
      ],
      "text/plain": [
       "  gvkey  ibtic\n",
       "1 001001 AMFD "
      ]
     },
     "metadata": {},
     "output_type": "display_data"
    }
   ],
   "source": [
    "f_comp_security = comp_security[!is.na(ibtic),\n",
    "     .(gvkey, ibtic)\n",
    "    ] %>% unique(by=c('gvkey'))\n",
    "f_comp_security[1]"
   ]
  },
  {
   "cell_type": "code",
   "execution_count": 11,
   "metadata": {},
   "outputs": [
    {
     "data": {
      "text/html": [
       "<table>\n",
       "<thead><tr><th scope=col>keydevid</th><th scope=col>companyid</th><th scope=col>companyname</th><th scope=col>keydeveventtypeid</th><th scope=col>eventtype</th><th scope=col>keydevstatusid</th><th scope=col>statustype</th><th scope=col>keydevtoobjectroletypeid</th><th scope=col>objectroletype</th><th scope=col>announcedate</th><th scope=col>announcetime</th><th scope=col>enterdate</th><th scope=col>entertime</th><th scope=col>lastmodifieddate</th><th scope=col>mostimportantdateutc</th><th scope=col>gvkey</th></tr></thead>\n",
       "<tbody>\n",
       "\t<tr><td>300677948          </td><td>18511              </td><td>3i Group plc       </td><td>48                 </td><td>Earnings Calls     </td><td>1                  </td><td>Active             </td><td>1                  </td><td>Target             </td><td>2015-05-11         </td><td>0                  </td><td>2015-05-11         </td><td>13560              </td><td>2017-06-29 11:01:00</td><td>2015-05-14 09:00:00</td><td>210835             </td></tr>\n",
       "</tbody>\n",
       "</table>\n"
      ],
      "text/latex": [
       "\\begin{tabular}{r|llllllllllllllll}\n",
       " keydevid & companyid & companyname & keydeveventtypeid & eventtype & keydevstatusid & statustype & keydevtoobjectroletypeid & objectroletype & announcedate & announcetime & enterdate & entertime & lastmodifieddate & mostimportantdateutc & gvkey\\\\\n",
       "\\hline\n",
       "\t 300677948           & 18511               & 3i Group plc        & 48                  & Earnings Calls      & 1                   & Active              & 1                   & Target              & 2015-05-11          & 0                   & 2015-05-11          & 13560               & 2017-06-29 11:01:00 & 2015-05-14 09:00:00 & 210835             \\\\\n",
       "\\end{tabular}\n"
      ],
      "text/markdown": [
       "\n",
       "| keydevid | companyid | companyname | keydeveventtypeid | eventtype | keydevstatusid | statustype | keydevtoobjectroletypeid | objectroletype | announcedate | announcetime | enterdate | entertime | lastmodifieddate | mostimportantdateutc | gvkey |\n",
       "|---|---|---|---|---|---|---|---|---|---|---|---|---|---|---|---|\n",
       "| 300677948           | 18511               | 3i Group plc        | 48                  | Earnings Calls      | 1                   | Active              | 1                   | Target              | 2015-05-11          | 0                   | 2015-05-11          | 13560               | 2017-06-29 11:01:00 | 2015-05-14 09:00:00 | 210835              |\n",
       "\n"
      ],
      "text/plain": [
       "  keydevid  companyid companyname  keydeveventtypeid eventtype     \n",
       "1 300677948 18511     3i Group plc 48                Earnings Calls\n",
       "  keydevstatusid statustype keydevtoobjectroletypeid objectroletype\n",
       "1 1              Active     1                        Target        \n",
       "  announcedate announcetime enterdate  entertime lastmodifieddate   \n",
       "1 2015-05-11   0            2015-05-11 13560     2017-06-29 11:01:00\n",
       "  mostimportantdateutc gvkey \n",
       "1 2015-05-14 09:00:00  210835"
      ]
     },
     "metadata": {},
     "output_type": "display_data"
    }
   ],
   "source": [
    "ciq_wrds_keydev[keydevid=='300677948']"
   ]
  },
  {
   "cell_type": "code",
   "execution_count": 12,
   "metadata": {},
   "outputs": [
    {
     "data": {
      "text/html": [
       "<table>\n",
       "<thead><tr><th scope=col>headline</th><th scope=col>situation</th><th scope=col>keydevid</th><th scope=col>announceddate</th><th scope=col>entereddate</th><th scope=col>lastmodifieddate</th><th scope=col>mostimportantdateutc</th></tr></thead>\n",
       "<tbody>\n",
       "\t<tr><td>3i Group plc, Q4 2015 Earnings Call, May 14, 2015</td><td>3i Group plc, Q4 2015 Earnings Call, May 14, 2015</td><td>300677948                                        </td><td>2015-05-11                                       </td><td>2015-05-11 03:46:00                              </td><td>2017-06-29 11:01:00                              </td><td>2015-05-14 09:00:00                              </td></tr>\n",
       "</tbody>\n",
       "</table>\n"
      ],
      "text/latex": [
       "\\begin{tabular}{r|lllllll}\n",
       " headline & situation & keydevid & announceddate & entereddate & lastmodifieddate & mostimportantdateutc\\\\\n",
       "\\hline\n",
       "\t 3i Group plc, Q4 2015 Earnings Call, May 14, 2015 & 3i Group plc, Q4 2015 Earnings Call, May 14, 2015 & 300677948                                         & 2015-05-11                                        & 2015-05-11 03:46:00                               & 2017-06-29 11:01:00                               & 2015-05-14 09:00:00                              \\\\\n",
       "\\end{tabular}\n"
      ],
      "text/markdown": [
       "\n",
       "| headline | situation | keydevid | announceddate | entereddate | lastmodifieddate | mostimportantdateutc |\n",
       "|---|---|---|---|---|---|---|\n",
       "| 3i Group plc, Q4 2015 Earnings Call, May 14, 2015 | 3i Group plc, Q4 2015 Earnings Call, May 14, 2015 | 300677948                                         | 2015-05-11                                        | 2015-05-11 03:46:00                               | 2017-06-29 11:01:00                               | 2015-05-14 09:00:00                               |\n",
       "\n"
      ],
      "text/plain": [
       "  headline                                         \n",
       "1 3i Group plc, Q4 2015 Earnings Call, May 14, 2015\n",
       "  situation                                         keydevid  announceddate\n",
       "1 3i Group plc, Q4 2015 Earnings Call, May 14, 2015 300677948 2015-05-11   \n",
       "  entereddate         lastmodifieddate    mostimportantdateutc\n",
       "1 2015-05-11 03:46:00 2017-06-29 11:01:00 2015-05-14 09:00:00 "
      ]
     },
     "metadata": {},
     "output_type": "display_data"
    }
   ],
   "source": [
    "ciq_keydev[keydevid=='300677948']"
   ]
  },
  {
   "cell_type": "markdown",
   "metadata": {},
   "source": [
    "Notes on `cc_meta`\n",
    "- there's only 1 obs where `headline_date` is missing (`keydevid==1853842`)"
   ]
  },
  {
   "cell_type": "code",
   "execution_count": 6,
   "metadata": {},
   "outputs": [
    {
     "name": "stderr",
     "output_type": "stream",
     "text": [
      "Warning message:\n",
      "\" 29 failed to parse.\""
     ]
    },
    {
     "data": {
      "text/html": [
       "800387"
      ],
      "text/latex": [
       "800387"
      ],
      "text/markdown": [
       "800387"
      ],
      "text/plain": [
       "[1] 800387"
      ]
     },
     "metadata": {},
     "output_type": "display_data"
    }
   ],
   "source": [
    "# `announceddate` (ciq_keydev) and `announcedate` (ciq_wrds_keydev) are the same\n",
    "# same for `entereddate` and `enterdate`\n",
    "\n",
    "extract_headline_date <- function(headline) {\n",
    "    regex_date = regex('results.+?((January|February|March|April|May|June|July|August|September|October|November|December) ?\\\\d+,? ?20\\\\d{2}).*?;?', ignore=T)\n",
    "    date = str_match(headline, regex_date)[,2]\n",
    "    date = mdy(date)\n",
    "}\n",
    "\n",
    "cc_meta = ciq_keydev[\n",
    "     ciq_wrds_keydev[keydeveventtypeid %in% c(28, 48)],\n",
    "     on=.(keydevid), nomatch=0\n",
    "    ][, .(keydeveventtypeid,\n",
    "      headline, \n",
    "      headline_date=mdy(\n",
    "        str_match(headline, regex('Calls?, (.+?20\\\\d{2})', ignore=T))[,2]),\n",
    "      announcedate, \n",
    "      companyname, gvkey, keydevid,\n",
    "      mostimportantdateutc)\n",
    "    ][keydeveventtypeid==28,\n",
    "      headline_date:=extract_headline_date(headline)\n",
    "    ][f_comp_security, on=.(gvkey), nomatch=0]\n",
    "\n",
    "nrow(cc_meta)\n",
    "# cc_meta[keydeveventtypeid==28][1]"
   ]
  },
  {
   "cell_type": "code",
   "execution_count": 28,
   "metadata": {},
   "outputs": [
    {
     "data": {
      "text/html": [
       "<table>\n",
       "<thead><tr><th scope=col>keydeveventtypeid</th><th scope=col>headline</th><th scope=col>headline_date</th><th scope=col>announcedate</th><th scope=col>companyname</th><th scope=col>gvkey</th><th scope=col>keydevid</th><th scope=col>mostimportantdateutc</th><th scope=col>i.mostimportantdateutc</th><th scope=col>ibtic</th></tr></thead>\n",
       "<tbody>\n",
       "\t<tr><td>48                                             </td><td>Apple Inc., Q2 2015 Earnings Call, Apr 28, 2015</td><td>2015-04-28                                     </td><td>2015-03-30                                     </td><td>Apple Inc.                                     </td><td>001690                                         </td><td>289919480                                      </td><td>2015-04-27 21:00:00                            </td><td>2015-04-27 21:00:00                            </td><td>AAPL                                           </td></tr>\n",
       "</tbody>\n",
       "</table>\n"
      ],
      "text/latex": [
       "\\begin{tabular}{r|llllllllll}\n",
       " keydeveventtypeid & headline & headline\\_date & announcedate & companyname & gvkey & keydevid & mostimportantdateutc & i.mostimportantdateutc & ibtic\\\\\n",
       "\\hline\n",
       "\t 48                                              & Apple Inc., Q2 2015 Earnings Call, Apr 28, 2015 & 2015-04-28                                      & 2015-03-30                                      & Apple Inc.                                      & 001690                                          & 289919480                                       & 2015-04-27 21:00:00                             & 2015-04-27 21:00:00                             & AAPL                                           \\\\\n",
       "\\end{tabular}\n"
      ],
      "text/markdown": [
       "\n",
       "| keydeveventtypeid | headline | headline_date | announcedate | companyname | gvkey | keydevid | mostimportantdateutc | i.mostimportantdateutc | ibtic |\n",
       "|---|---|---|---|---|---|---|---|---|---|\n",
       "| 48                                              | Apple Inc., Q2 2015 Earnings Call, Apr 28, 2015 | 2015-04-28                                      | 2015-03-30                                      | Apple Inc.                                      | 001690                                          | 289919480                                       | 2015-04-27 21:00:00                             | 2015-04-27 21:00:00                             | AAPL                                            |\n",
       "\n"
      ],
      "text/plain": [
       "  keydeveventtypeid headline                                       \n",
       "1 48                Apple Inc., Q2 2015 Earnings Call, Apr 28, 2015\n",
       "  headline_date announcedate companyname gvkey  keydevid  mostimportantdateutc\n",
       "1 2015-04-28    2015-03-30   Apple Inc.  001690 289919480 2015-04-27 21:00:00 \n",
       "  i.mostimportantdateutc ibtic\n",
       "1 2015-04-27 21:00:00    AAPL "
      ]
     },
     "metadata": {},
     "output_type": "display_data"
    }
   ],
   "source": [
    "cc_meta[keydevid=='289919480']"
   ]
  },
  {
   "cell_type": "code",
   "execution_count": 32,
   "metadata": {},
   "outputs": [
    {
     "data": {
      "text/plain": [
       "[1] \"2017-10-23 20:00:00 EDT\""
      ]
     },
     "metadata": {},
     "output_type": "display_data"
    }
   ],
   "source": [
    "cc_meta[keydevid=='538707756', with_tz(mostimportantdateutc, 'America/New_York')]"
   ]
  },
  {
   "cell_type": "code",
   "execution_count": null,
   "metadata": {},
   "outputs": [],
   "source": []
  },
  {
   "cell_type": "code",
   "execution_count": 44,
   "metadata": {
    "scrolled": true
   },
   "outputs": [
    {
     "data": {
      "text/html": [
       "<table>\n",
       "<thead><tr><th scope=col>keydeveventtypeid</th><th scope=col>headline</th><th scope=col>headline_date</th><th scope=col>announcedate</th><th scope=col>companyname</th><th scope=col>gvkey</th><th scope=col>keydevid</th><th scope=col>mostimportantdateutc</th><th scope=col>i.mostimportantdateutc</th><th scope=col>ibtic</th></tr></thead>\n",
       "<tbody>\n",
       "\t<tr><td>48                                                                              </td><td>AMR Corporation, Q1 2005 Earnings Call, Apr 20, 2005                            </td><td>2005-04-20                                                                      </td><td>2005-04-04                                                                      </td><td>American Airlines Group Inc.                                                    </td><td>001045                                                                          </td><td>  1551245                                                                       </td><td>2005-04-20 00:00:00                                                             </td><td>2005-04-20 00:00:00                                                             </td><td>AMR                                                                             </td></tr>\n",
       "\t<tr><td>48                                                                                  </td><td>Adams Resources &amp; Energy, Inc., Q3 2017 Pre Recorded Earnings Call, Nov 10, 2017</td><td>2017-11-10                                                                          </td><td>2017-11-07                                                                          </td><td><span style=white-space:pre-wrap>Adams Resources &amp; Energy, Inc.    </span>      </td><td>001121                                                                              </td><td>542907441                                                                           </td><td>2017-11-10 00:00:00                                                                 </td><td>2017-11-10 00:00:00                                                                 </td><td>AA3B                                                                                </td></tr>\n",
       "\t<tr><td>48                                                                              </td><td>Rio Tinto Alcan, Inc., Q1 2007 Earnings Call, Apr 24, 2007                      </td><td>2007-04-24                                                                      </td><td>2007-04-24                                                                      </td><td>Rio Tinto Alcan Inc.                                                            </td><td>001243                                                                          </td><td>  4021541                                                                       </td><td>2007-04-24 00:00:00                                                             </td><td>2007-04-24 00:00:00                                                             </td><td>AL                                                                              </td></tr>\n",
       "\t<tr><td>48                                                                              </td><td>AFLAC Inc., Q4 2004 Earnings Call, Feb-03-2005                                  </td><td>2005-02-03                                                                      </td><td>2005-01-24                                                                      </td><td>Aflac Incorporated                                                              </td><td>001449                                                                          </td><td>  1010210                                                                       </td><td>2005-02-03 00:10:00                                                             </td><td>2005-02-03 00:10:00                                                             </td><td>AFL                                                                             </td></tr>\n",
       "\t<tr><td>48                                                                              </td><td>AFLAC Inc., Q4 2006 Earnings Call, Feb-01-2007                                  </td><td>2007-02-01                                                                      </td><td>2007-01-23                                                                      </td><td>Aflac Incorporated                                                              </td><td>001449                                                                          </td><td>  3436575                                                                       </td><td>2007-02-01 00:10:00                                                             </td><td>2007-02-01 00:10:00                                                             </td><td>AFL                                                                             </td></tr>\n",
       "\t<tr><td>48                                                                              </td><td>AFLAC Inc., Q4 2005 Earnings Call, Feb-01-2006                                  </td><td>2006-02-01                                                                      </td><td>2006-01-23                                                                      </td><td>Aflac Incorporated                                                              </td><td>001449                                                                          </td><td>  2550730                                                                       </td><td>2006-02-01 00:10:00                                                             </td><td>2006-02-01 00:10:00                                                             </td><td>AFL                                                                             </td></tr>\n",
       "\t<tr><td>48                                                                              </td><td>American International Group, Inc., Q3 2010 Earnings Call, Nov 05, 2010         </td><td>2010-11-05                                                                      </td><td>2010-11-02                                                                      </td><td>American International Group, Inc.                                              </td><td>001487                                                                          </td><td>115247098                                                                       </td><td>2010-11-05 00:00:00                                                             </td><td>2010-11-05 00:00:00                                                             </td><td>AIG                                                                             </td></tr>\n",
       "\t<tr><td>48                                                                              </td><td>Andrew Corporation, Q3 2007 Earnings Call, Aug 01, 2007                         </td><td>2007-08-01                                                                      </td><td>2006-12-23                                                                      </td><td>Andrew LLC                                                                      </td><td>001651                                                                          </td><td>  3386785                                                                       </td><td>2007-08-01 00:00:00                                                             </td><td>2007-08-01 00:00:00                                                             </td><td>ANDW                                                                            </td></tr>\n",
       "\t<tr><td>48                                                                              </td><td>Andrew Corporation, Q4 2007 Earnings Call, Nov 01, 2007                         </td><td>2007-11-01                                                                      </td><td>2006-12-23                                                                      </td><td>Andrew LLC                                                                      </td><td>001651                                                                          </td><td>  3386786                                                                       </td><td>2007-11-01 00:00:00                                                             </td><td>2007-11-01 00:00:00                                                             </td><td>ANDW                                                                            </td></tr>\n",
       "\t<tr><td>48                                                                              </td><td>Apple Inc., Q2 2005 Earnings Call, Apr 13, 2005                                 </td><td>2005-04-13                                                                      </td><td>2005-03-28                                                                      </td><td>Apple Inc.                                                                      </td><td>001690                                                                          </td><td>  1533943                                                                       </td><td>2005-04-13 00:00:00                                                             </td><td>2005-04-13 00:00:00                                                             </td><td>AAPL                                                                            </td></tr>\n",
       "\t<tr><td>48                                                                              </td><td>Apple Inc., Q4 2006 Earnings Call, Oct 18, 2006                                 </td><td>2006-10-18                                                                      </td><td>2006-03-20                                                                      </td><td>Apple Inc.                                                                      </td><td>001690                                                                          </td><td>  2710236                                                                       </td><td>2006-10-18 00:00:00                                                             </td><td>2006-10-18 00:00:00                                                             </td><td>AAPL                                                                            </td></tr>\n",
       "\t<tr><td>48                                                                              </td><td>Apple Inc., Q2 2015 Earnings Call, Apr 28, 2015                                 </td><td>2015-04-28                                                                      </td><td>2015-03-30                                                                      </td><td>Apple Inc.                                                                      </td><td>001690                                                                          </td><td>289919480                                                                       </td><td>2015-04-27 21:00:00                                                             </td><td>2015-04-27 21:00:00                                                             </td><td>AAPL                                                                            </td></tr>\n",
       "\t<tr><td>48                                                                              </td><td>Ashland Inc., Q2 2005 Earnings Call, Apr 25, 2005                               </td><td>2005-04-25                                                                      </td><td>2005-04-14                                                                      </td><td>Ashland Global Holdings Inc.                                                    </td><td>001794                                                                          </td><td>  1566583                                                                       </td><td>2005-04-25 00:00:00                                                             </td><td>2005-04-25 00:00:00                                                             </td><td>ASH                                                                             </td></tr>\n",
       "\t<tr><td>48                                                                              </td><td>Southern Company Gas, Q4 2015 Earnings Calls, Feb 11, 2016                      </td><td>2016-02-11                                                                      </td><td>2016-05-05                                                                      </td><td>Southern Company Gas                                                            </td><td>001837                                                                          </td><td>585210177                                                                       </td><td>2016-02-11 00:00:00                                                             </td><td>2016-02-11 00:00:00                                                             </td><td>AGLT                                                                            </td></tr>\n",
       "\t<tr><td>48                                                                              </td><td>Automatic Data Processing, Inc., Q4 2006 Earnings Call, Jul 27, 2006            </td><td>2006-07-27                                                                      </td><td>2006-03-28                                                                      </td><td>Automatic Data Processing, Inc.                                                 </td><td>001891                                                                          </td><td>  2729030                                                                       </td><td>2006-07-27 00:00:00                                                             </td><td>2006-07-27 00:00:00                                                             </td><td>AUD                                                                             </td></tr>\n",
       "\t<tr><td>48                                                                              </td><td>British American Tobacco plc, Q3 2007 Earnings Call, Nov 01, 2007               </td><td>2007-11-01                                                                      </td><td>2007-11-01                                                                      </td><td>British American Tobacco p.l.c.                                                 </td><td>001932                                                                          </td><td>137432983                                                                       </td><td>2007-11-01 00:00:00                                                             </td><td>2007-11-01 00:00:00                                                             </td><td>BTI                                                                             </td></tr>\n",
       "\t<tr><td>48                                                                              </td><td>BCE, Inc., Q2 2006 Earnings Call, Aug 02, 2006                                  </td><td>2006-08-02                                                                      </td><td>2006-01-31                                                                      </td><td>BCE Inc.                                                                        </td><td>002137                                                                          </td><td>  2606067                                                                       </td><td>2006-08-02 00:00:00                                                             </td><td>2006-08-02 00:00:00                                                             </td><td>BCE2                                                                            </td></tr>\n",
       "\t<tr><td>48                                                                              </td><td>Bob Evans Farms Inc., Q1 2008 Earnings Call, Aug 14, 2007                       </td><td>2007-08-14                                                                      </td><td>2007-06-05                                                                      </td><td>Bob Evans Farms, Inc.                                                           </td><td>002282                                                                          </td><td>  4369217                                                                       </td><td>2007-08-14 00:00:00                                                             </td><td>2007-08-14 00:00:00                                                             </td><td>BOBE                                                                            </td></tr>\n",
       "\t<tr><td>48                                                                              </td><td>Rexam plc, 11 Months 2011 Earnings Call, Nov 17, 2011                           </td><td>2011-11-17                                                                      </td><td>2011-11-16                                                                      </td><td>Rexam Ltd.                                                                      </td><td>002338                                                                          </td><td>145517263                                                                       </td><td>2011-11-17 00:00:00                                                             </td><td>2011-11-17 00:00:00                                                             </td><td>BWTR                                                                            </td></tr>\n",
       "\t<tr><td>48                                                                              </td><td>TELUS Corporation, Q2 2008 Earnings Call, Aug 08, 2008                          </td><td>2008-08-08                                                                      </td><td>2008-04-09                                                                      </td><td>TELUS Corporation                                                               </td><td>002408                                                                          </td><td>  5378191                                                                       </td><td>2008-08-08 00:00:00                                                             </td><td>2008-08-08 00:00:00                                                             </td><td>BCT1                                                                            </td></tr>\n",
       "\t<tr><td>48                                                                              </td><td>TELUS Corporation, Q4 2006 Earnings Call, Feb 16, 2007                          </td><td>2007-02-16                                                                      </td><td>2007-02-16                                                                      </td><td>TELUS Corporation                                                               </td><td>002408                                                                          </td><td>137428321                                                                       </td><td>2007-02-16 00:00:00                                                             </td><td>2007-02-16 00:00:00                                                             </td><td>BCT1                                                                            </td></tr>\n",
       "\t<tr><td>48                                                                              </td><td>TELUS Corporation, Q2 2007 Earnings Call, Aug 03, 2007                          </td><td>2007-08-03                                                                      </td><td>2007-03-15                                                                      </td><td>TELUS Corporation                                                               </td><td>002408                                                                          </td><td>  3705452                                                                       </td><td>2007-08-03 00:00:00                                                             </td><td>2007-08-03 00:00:00                                                             </td><td>BCT1                                                                            </td></tr>\n",
       "\t<tr><td>48                                                                              </td><td>BT Group plc, Q4 2006 Earnings Call, May 18, 2006                               </td><td>2006-05-18                                                                      </td><td>2006-05-18                                                                      </td><td>BT Group plc                                                                    </td><td>002411                                                                          </td><td>137435940                                                                       </td><td>2006-05-18 00:00:00                                                             </td><td>2006-05-18 00:00:00                                                             </td><td>BTY                                                                             </td></tr>\n",
       "\t<tr><td>48                                                                              </td><td>BT Group plc, Q4 2007 Earnings Call, May 17, 2007                               </td><td>2007-05-17                                                                      </td><td>2007-05-16                                                                      </td><td>BT Group plc                                                                    </td><td>002411                                                                          </td><td>137427525                                                                       </td><td>2007-05-17 00:00:00                                                             </td><td>2007-05-17 00:00:00                                                             </td><td>BTY                                                                             </td></tr>\n",
       "\t<tr><td>48                                                                              </td><td>BT Group plc, Q2 2007 Earnings Call, Nov 09, 2007                               </td><td>2007-11-09                                                                      </td><td>2007-11-09                                                                      </td><td>BT Group plc                                                                    </td><td>002411                                                                          </td><td>137430862                                                                       </td><td>2007-11-09 00:00:00                                                             </td><td>2007-11-09 00:00:00                                                             </td><td>BTY                                                                             </td></tr>\n",
       "\t<tr><td>48                                                                              </td><td>BT Group plc, Q1 2007 Earnings Call, Jul 26, 2007                               </td><td>2007-07-26                                                                      </td><td>2007-07-26                                                                      </td><td>BT Group plc                                                                    </td><td>002411                                                                          </td><td>137429533                                                                       </td><td>2007-07-26 00:00:00                                                             </td><td>2007-07-26 00:00:00                                                             </td><td>BTY                                                                             </td></tr>\n",
       "\t<tr><td>48                                                                              </td><td>BT Group plc, Q2 2006 Earnings Call, Nov 09, 2006                               </td><td>2006-11-09                                                                      </td><td>2006-11-09                                                                      </td><td>BT Group plc                                                                    </td><td>002411                                                                          </td><td>137428471                                                                       </td><td>2006-11-09 00:00:00                                                             </td><td>2006-11-09 00:00:00                                                             </td><td>BTY                                                                             </td></tr>\n",
       "\t<tr><td>48                                                                              </td><td>My Freightworld Technologies, Inc., H1 2012 Earnings Call, Aug 28, 2012         </td><td>2012-08-28                                                                      </td><td>2012-08-28                                                                      </td><td>myFreightWorld Technologies, Inc.                                               </td><td>002586                                                                          </td><td>216182560                                                                       </td><td>2012-08-28 00:00:00                                                             </td><td>2012-08-28 00:00:00                                                             </td><td>FOGL                                                                            </td></tr>\n",
       "\t<tr><td>48                                                                              </td><td>Canon Inc., Q2 2017 Earnings Call, Jul 27, 2017                                 </td><td>2017-07-27                                                                      </td><td>2017-07-17                                                                      </td><td>Canon Inc.                                                                      </td><td>002721                                                                          </td><td>531036687                                                                       </td><td>2017-07-27 00:00:00                                                             </td><td>2017-07-27 00:00:00                                                             </td><td>CANN                                                                            </td></tr>\n",
       "\t<tr><td>48                                                                              </td><td>Canon Inc., Q1 2017 Earnings Call, Apr 26, 2017                                 </td><td>2017-04-26                                                                      </td><td>2017-04-26                                                                      </td><td>Canon Inc.                                                                      </td><td>002721                                                                          </td><td>428751170                                                                       </td><td>2017-04-26 00:00:00                                                             </td><td>2017-04-26 00:00:00                                                             </td><td>CANN                                                                            </td></tr>\n",
       "\t<tr><td>48                                                                              </td><td>Canon Inc., Q3 2017 Earnings Call, Oct 24, 2017                                 </td><td>2017-10-24                                                                      </td><td>2017-09-26                                                                      </td><td>Canon Inc.                                                                      </td><td>002721                                                                          </td><td>538707756                                                                       </td><td>2017-10-24 00:00:00                                                             </td><td>2017-10-24 00:00:00                                                             </td><td>CANN                                                                            </td></tr>\n",
       "\t<tr><td>48                                                                              </td><td>Canon Inc., 2017 Earnings Call, Jan 30, 2018                                    </td><td>2018-01-30                                                                      </td><td>2017-12-27                                                                      </td><td>Canon Inc.                                                                      </td><td>002721                                                                          </td><td>547795677                                                                       </td><td>2018-01-30 00:00:00                                                             </td><td>2018-01-30 00:00:00                                                             </td><td>CANN                                                                            </td></tr>\n",
       "\t<tr><td>48                                                                              </td><td>Canon Inc., Q3 2016 Earnings Call, Oct 26, 2016                                 </td><td>2016-10-26                                                                      </td><td>2016-10-26                                                                      </td><td>Canon Inc.                                                                      </td><td>002721                                                                          </td><td>407257413                                                                       </td><td>2016-10-26 00:00:00                                                             </td><td>2016-10-26 00:00:00                                                             </td><td>CANN                                                                            </td></tr>\n",
       "\t<tr><td>48                                                                              </td><td>Canon Inc., Q2 2016 Earnings Call, Jul 26, 2016                                 </td><td>2016-07-26                                                                      </td><td>2016-07-26                                                                      </td><td>Canon Inc.                                                                      </td><td>002721                                                                          </td><td>377775783                                                                       </td><td>2016-07-26 00:00:00                                                             </td><td>2016-07-26 00:00:00                                                             </td><td>CANN                                                                            </td></tr>\n",
       "\t<tr><td>48                                                                              </td><td>Canon Inc., 2015 Earnings Call, Jan 27, 2016                                    </td><td>2016-01-27                                                                      </td><td>2016-01-27                                                                      </td><td>Canon Inc.                                                                      </td><td>002721                                                                          </td><td>323519389                                                                       </td><td>2016-01-27 00:00:00                                                             </td><td>2016-01-27 00:00:00                                                             </td><td>CANN                                                                            </td></tr>\n",
       "\t<tr><td>48                                                                              </td><td>Canon Inc., Q3 2015 Earnings Call, Oct 27, 2015                                 </td><td>2015-10-27                                                                      </td><td>2015-10-27                                                                      </td><td>Canon Inc.                                                                      </td><td>002721                                                                          </td><td>315277140                                                                       </td><td>2015-10-27 00:00:00                                                             </td><td>2015-10-27 00:00:00                                                             </td><td>CANN                                                                            </td></tr>\n",
       "\t<tr><td>48                                                                              </td><td>Canon Inc., Q2 2013 Earnings Call, Jul 24, 2013                                 </td><td>2013-07-24                                                                      </td><td>2013-07-24                                                                      </td><td>Canon Inc.                                                                      </td><td>002721                                                                          </td><td>243540931                                                                       </td><td>2013-07-24 00:00:00                                                             </td><td>2013-07-24 00:00:00                                                             </td><td>CANN                                                                            </td></tr>\n",
       "\t<tr><td>48                                                                              </td><td>Canon Inc., Q1 2013 Earnings Call, Apr 24, 2013                                 </td><td>2013-04-24                                                                      </td><td>2013-04-24                                                                      </td><td>Canon Inc.                                                                      </td><td>002721                                                                          </td><td>237395502                                                                       </td><td>2013-04-24 00:00:00                                                             </td><td>2013-04-24 00:00:00                                                             </td><td>CANN                                                                            </td></tr>\n",
       "\t<tr><td>48                                                                              </td><td>Canon Inc., Q1 2014 Earnings Call, Apr 24, 2014                                 </td><td>2014-04-24                                                                      </td><td>2014-04-24                                                                      </td><td>Canon Inc.                                                                      </td><td>002721                                                                          </td><td>262539550                                                                       </td><td>2014-04-24 00:00:00                                                             </td><td>2014-04-24 00:00:00                                                             </td><td>CANN                                                                            </td></tr>\n",
       "\t<tr><td>48                                                                              </td><td>Canon Inc., 2013 Earnings Call, Jan 29, 2014                                    </td><td>2014-01-29                                                                      </td><td>2014-01-29                                                                      </td><td>Canon Inc.                                                                      </td><td>002721                                                                          </td><td>254838816                                                                       </td><td>2014-01-29 00:00:00                                                             </td><td>2014-01-29 00:00:00                                                             </td><td>CANN                                                                            </td></tr>\n",
       "\t<tr><td>48                                                                              </td><td>Canon Inc., Q3 2013 Earnings Call, Oct 24, 2013                                 </td><td>2013-10-24                                                                      </td><td>2013-10-24                                                                      </td><td>Canon Inc.                                                                      </td><td>002721                                                                          </td><td>248822476                                                                       </td><td>2013-10-24 00:00:00                                                             </td><td>2013-10-24 00:00:00                                                             </td><td>CANN                                                                            </td></tr>\n",
       "\t<tr><td>48                                                                              </td><td>Canon Inc., Q2 2014 Earnings Call, Jul 24, 2014                                 </td><td>2014-07-24                                                                      </td><td>2014-07-24                                                                      </td><td>Canon Inc.                                                                      </td><td>002721                                                                          </td><td>269025144                                                                       </td><td>2014-07-24 00:00:00                                                             </td><td>2014-07-24 00:00:00                                                             </td><td>CANN                                                                            </td></tr>\n",
       "\t<tr><td>48                                                                              </td><td>Canon Inc., 2014 Earnings Call, Jan 28, 2015                                    </td><td>2015-01-28                                                                      </td><td>2015-01-28                                                                      </td><td>Canon Inc.                                                                      </td><td>002721                                                                          </td><td>283093746                                                                       </td><td>2015-01-28 00:00:00                                                             </td><td>2015-01-28 00:00:00                                                             </td><td>CANN                                                                            </td></tr>\n",
       "\t<tr><td>48                                                                              </td><td>Canon Inc., Q3 2014 Earnings Call, Oct 27, 2014                                 </td><td>2014-10-27                                                                      </td><td>2014-10-27                                                                      </td><td>Canon Inc.                                                                      </td><td>002721                                                                          </td><td>275299347                                                                       </td><td>2014-10-27 00:00:00                                                             </td><td>2014-10-27 00:00:00                                                             </td><td>CANN                                                                            </td></tr>\n",
       "\t<tr><td>48                                                                              </td><td>Canon Inc., Q2 2015 Earnings Call, Jul 27, 2015                                 </td><td>2015-07-27                                                                      </td><td>2015-07-27                                                                      </td><td>Canon Inc.                                                                      </td><td>002721                                                                          </td><td>307776860                                                                       </td><td>2015-07-27 00:00:00                                                             </td><td>2015-07-27 00:00:00                                                             </td><td>CANN                                                                            </td></tr>\n",
       "\t<tr><td>48                                                                              </td><td>Canon Inc., 2009 Earnings Call, Jan-27-2010                                     </td><td>2010-01-27                                                                      </td><td>2010-01-26                                                                      </td><td>Canon Inc.                                                                      </td><td>002721                                                                          </td><td>109405524                                                                       </td><td>2010-01-27 00:00:00                                                             </td><td>2010-01-27 00:00:00                                                             </td><td>CANN                                                                            </td></tr>\n",
       "\t<tr><td>48                                                                              </td><td>Canon Inc., Q3 2009 Earnings Call, Oct 27, 2009                                 </td><td>2009-10-27                                                                      </td><td>2009-10-27                                                                      </td><td>Canon Inc.                                                                      </td><td>002721                                                                          </td><td> 79218524                                                                       </td><td>2009-10-27 00:00:00                                                             </td><td>2009-10-27 00:00:00                                                             </td><td>CANN                                                                            </td></tr>\n",
       "\t<tr><td>48                                                                              </td><td>Canon Inc., Q1 2007 Earnings Call, Apr 24, 2007                                 </td><td>2007-04-24                                                                      </td><td>2007-04-23                                                                      </td><td>Canon Inc.                                                                      </td><td>002721                                                                          </td><td>  4941032                                                                       </td><td>2007-04-24 00:00:00                                                             </td><td>2007-04-24 00:00:00                                                             </td><td>CANN                                                                            </td></tr>\n",
       "\t<tr><td>48                                                                              </td><td>Canon Inc., Q1 2012 Earnings Call, Apr 25, 2012                                 </td><td>2012-04-25                                                                      </td><td>2012-04-18                                                                      </td><td>Canon Inc.                                                                      </td><td>002721                                                                          </td><td>201625095                                                                       </td><td>2012-04-25 00:00:00                                                             </td><td>2012-04-25 00:00:00                                                             </td><td>CANN                                                                            </td></tr>\n",
       "\t<tr><td>48                                                                              </td><td>Canon Inc., 2011 Earnings Call, Jan 30, 2012                                    </td><td>2012-01-30                                                                      </td><td>2012-01-17                                                                      </td><td>Canon Inc.                                                                      </td><td>002721                                                                          </td><td>146115533                                                                       </td><td>2012-01-30 00:00:00                                                             </td><td>2012-01-30 00:00:00                                                             </td><td>CANN                                                                            </td></tr>\n",
       "\t<tr><td>48                                                                              </td><td>Canon Inc., 2012 Earnings Call, Jan 30, 2013                                    </td><td>2013-01-30                                                                      </td><td>2013-01-30                                                                      </td><td>Canon Inc.                                                                      </td><td>002721                                                                          </td><td>226871837                                                                       </td><td>2013-01-30 00:00:00                                                             </td><td>2013-01-30 00:00:00                                                             </td><td>CANN                                                                            </td></tr>\n",
       "\t<tr><td>48                                                                              </td><td>Canon Inc., Q3 2012 Earnings Call, Oct 25, 2012                                 </td><td>2012-10-25                                                                      </td><td>2012-10-25                                                                      </td><td>Canon Inc.                                                                      </td><td>002721                                                                          </td><td>226667277                                                                       </td><td>2012-10-25 00:00:00                                                             </td><td>2012-10-25 00:00:00                                                             </td><td>CANN                                                                            </td></tr>\n",
       "\t<tr><td>48                                                                              </td><td>Canon Inc., Q2 2012 Earnings Call, Jul 25, 2012                                 </td><td>2012-07-25                                                                      </td><td>2012-07-25                                                                      </td><td>Canon Inc.                                                                      </td><td>002721                                                                          </td><td>214636083                                                                       </td><td>2012-07-25 00:00:00                                                             </td><td>2012-07-25 00:00:00                                                             </td><td>CANN                                                                            </td></tr>\n",
       "\t<tr><td>48                                                                              </td><td>Canon Inc., Q3 2007 Earnings Call, Oct 25, 2007                                 </td><td>2007-10-25                                                                      </td><td>2007-10-23                                                                      </td><td>Canon Inc.                                                                      </td><td>002721                                                                          </td><td>  4941029                                                                       </td><td>2007-10-25 00:00:00                                                             </td><td>2007-10-25 00:00:00                                                             </td><td>CANN                                                                            </td></tr>\n",
       "\t<tr><td>48                                                                              </td><td>Canon Inc., 2010 Earnings Call, Jan 27, 2011                                    </td><td>2011-01-27                                                                      </td><td>2011-01-20                                                                      </td><td>Canon Inc.                                                                      </td><td>002721                                                                          </td><td>118482025                                                                       </td><td>2011-01-27 00:00:00                                                             </td><td>2011-01-27 00:00:00                                                             </td><td>CANN                                                                            </td></tr>\n",
       "\t<tr><td>48                                                                              </td><td>Canon Inc., Q1 2011 Earnings Call, Apr 26, 2011                                 </td><td>2011-04-26                                                                      </td><td>2011-04-23                                                                      </td><td>Canon Inc.                                                                      </td><td>002721                                                                          </td><td>130534522                                                                       </td><td>2011-04-26 00:00:00                                                             </td><td>2011-04-26 00:00:00                                                             </td><td>CANN                                                                            </td></tr>\n",
       "\t<tr><td>48                                                                              </td><td>Canon Inc., Q1 2008 Earnings Call, Apr 27, 2008                                 </td><td>2008-04-27                                                                      </td><td>2008-04-27                                                                      </td><td>Canon Inc.                                                                      </td><td>002721                                                                          </td><td>137429489                                                                       </td><td>2008-04-27 00:00:00                                                             </td><td>2008-04-27 00:00:00                                                             </td><td>CANN                                                                            </td></tr>\n",
       "\t<tr><td>48                                                                              </td><td>Canon Inc., Q4 2007 Earnings Call, Jan 30, 2008                                 </td><td>2008-01-30                                                                      </td><td>2008-01-30                                                                      </td><td>Canon Inc.                                                                      </td><td>002721                                                                          </td><td>137431697                                                                       </td><td>2008-01-30 00:00:00                                                             </td><td>2008-01-30 00:00:00                                                             </td><td>CANN                                                                            </td></tr>\n",
       "\t<tr><td>48                                                                              </td><td>Canon Inc., Q2 2011 Earnings Call, Jul 25, 2011                                 </td><td>2011-07-25                                                                      </td><td>2011-07-19                                                                      </td><td>Canon Inc.                                                                      </td><td>002721                                                                          </td><td>137657094                                                                       </td><td>2011-07-25 00:00:00                                                             </td><td>2011-07-25 00:00:00                                                             </td><td>CANN                                                                            </td></tr>\n",
       "\t<tr><td>48                                                                              </td><td>Canon Inc., Q3 2011 Earnings Call, Oct 25, 2011                                 </td><td>2011-10-25                                                                      </td><td>2011-10-18                                                                      </td><td>Canon Inc.                                                                      </td><td>002721                                                                          </td><td>141781145                                                                       </td><td>2011-10-25 00:00:00                                                             </td><td>2011-10-25 00:00:00                                                             </td><td>CANN                                                                            </td></tr>\n",
       "\t<tr><td>48                                                                              </td><td>Canon Inc., Q1 2018 Earnings Call, Apr 25, 2018                                 </td><td>2018-04-25                                                                      </td><td>2018-04-25                                                                      </td><td>Canon Inc.                                                                      </td><td>002721                                                                          </td><td>560456382                                                                       </td><td>2018-04-25 00:00:00                                                             </td><td>2018-04-25 00:00:00                                                             </td><td>CANN                                                                            </td></tr>\n",
       "\t<tr><td>48                                                                              </td><td>Canon Inc., Q1 2015 Earnings Call, Apr 27, 2015                                 </td><td>2015-04-27                                                                      </td><td>2015-04-27                                                                      </td><td>Canon Inc.                                                                      </td><td>002721                                                                          </td><td>292547493                                                                       </td><td>2015-04-27 00:00:00                                                             </td><td>2015-04-27 00:00:00                                                             </td><td>CANN                                                                            </td></tr>\n",
       "\t<tr><td>48                                                                              </td><td>Canon Inc., H1 2007 Earnings Call, Jul 26, 2007                                 </td><td>2007-07-26                                                                      </td><td>2007-07-26                                                                      </td><td>Canon Inc.                                                                      </td><td>002721                                                                          </td><td>  4769756                                                                       </td><td>2007-07-26 00:00:00                                                             </td><td>2007-07-26 00:00:00                                                             </td><td>CANN                                                                            </td></tr>\n",
       "\t<tr><td>48                                                                              </td><td>Canon Inc., Q2 2006 Earnings Call, Jul 27, 2006                                 </td><td>2006-07-27                                                                      </td><td>2006-07-27                                                                      </td><td>Canon Inc.                                                                      </td><td>002721                                                                          </td><td>  3057511                                                                       </td><td>2006-07-27 00:00:00                                                             </td><td>2006-07-27 00:00:00                                                             </td><td>CANN                                                                            </td></tr>\n",
       "\t<tr><td>48                                                                              </td><td>Canon Inc., Q1 2016 Earnings Call, Apr 26, 2016                                 </td><td>2016-04-26                                                                      </td><td>2016-04-26                                                                      </td><td>Canon Inc.                                                                      </td><td>002721                                                                          </td><td>331981363                                                                       </td><td>2016-04-26 00:00:00                                                             </td><td>2016-04-26 00:00:00                                                             </td><td>CANN                                                                            </td></tr>\n",
       "\t<tr><td>48                                                                              </td><td>Canon Inc., 2016 Earnings Call, Jan 31, 2017                                    </td><td>2017-01-31                                                                      </td><td>2017-01-31                                                                      </td><td>Canon Inc.                                                                      </td><td>002721                                                                          </td><td>418562670                                                                       </td><td>2017-01-31 00:00:00                                                             </td><td>2017-01-31 00:00:00                                                             </td><td>CANN                                                                            </td></tr>\n",
       "\t<tr><td>48                                                                              </td><td>Caterpillar Inc., Q3 2005 Earnings Call, Oct 20, 2005                           </td><td>2005-10-20                                                                      </td><td>2005-04-01                                                                      </td><td>Caterpillar Inc.                                                                </td><td>002817                                                                          </td><td>  1542397                                                                       </td><td>2005-10-20 00:00:00                                                             </td><td>2005-10-20 00:00:00                                                             </td><td>CAT                                                                             </td></tr>\n",
       "\t<tr><td>48                                                                              </td><td>CA, Inc., Q1 2007 Earnings Call, Aug 14, 2006                                   </td><td>2006-08-14                                                                      </td><td>2006-08-07                                                                      </td><td>CA, Inc.                                                                        </td><td>003310                                                                          </td><td>  3084025                                                                       </td><td>2006-08-14 00:00:00                                                             </td><td>2006-08-14 00:00:00                                                             </td><td>CASI                                                                            </td></tr>\n",
       "\t<tr><td>48                                                                              </td><td>Corning Inc., Q4 2005 Earnings Call, Feb 03, 2006                               </td><td>2006-02-03                                                                      </td><td>2006-01-24                                                                      </td><td>Corning Incorporated                                                            </td><td>003532                                                                          </td><td>  2554362                                                                       </td><td>2006-02-03 00:00:00                                                             </td><td>2006-02-03 00:00:00                                                             </td><td>GLW                                                                             </td></tr>\n",
       "\t<tr><td>48                                                                              </td><td>Curtiss-Wright Corp., Q2 2006 Earnings Call, Jul-29-2006                        </td><td>2006-07-29                                                                      </td><td>2006-07-06                                                                      </td><td>Curtiss-Wright Corporation                                                      </td><td>003662                                                                          </td><td>  3014905                                                                       </td><td>2006-07-29 03:00:00                                                             </td><td>2006-07-29 03:00:00                                                             </td><td>CW                                                                              </td></tr>\n",
       "\t<tr><td>48                                                                                                                          </td><td><span style=white-space:pre-wrap>Deere &amp; Co., Q3 2005 Earnings Call, Aug 16, 2005                                </span></td><td>2005-08-16                                                                                                                  </td><td>2005-05-12                                                                                                                  </td><td><span style=white-space:pre-wrap>Deere &amp; Company                   </span>                                              </td><td>003835                                                                                                                      </td><td><span style=white-space:pre-wrap>  1617893</span>                                                                           </td><td>2005-08-16 00:00:00                                                                                                         </td><td>2005-08-16 00:00:00                                                                                                         </td><td><span style=white-space:pre-wrap>DE  </span>                                                                                </td></tr>\n",
       "\t<tr><td>48                                                                              </td><td>Western Forest Products Inc., Q2 2007 Earnings Call, Aug 14, 2007               </td><td>2007-08-14                                                                      </td><td>2007-08-13                                                                      </td><td>Western Forest Products Inc.                                                    </td><td>004019                                                                          </td><td>  4711166                                                                       </td><td>2007-08-14 00:00:00                                                             </td><td>2007-08-14 00:00:00                                                             </td><td>DOM1                                                                            </td></tr>\n",
       "\t<tr><td>48                                                                              </td><td>SORL Auto Parts, Inc., Q2 2018 Earnings Call, Aug 15, 2018                      </td><td>2018-08-15                                                                      </td><td>2018-08-07                                                                      </td><td>SORL Auto Parts, Inc.                                                           </td><td>004341                                                                          </td><td>576595244                                                                       </td><td>2018-08-15 00:01:00                                                             </td><td>2018-08-15 00:01:00                                                             </td><td>SAUP                                                                            </td></tr>\n",
       "\t<tr><td>48                                                                              </td><td>SORL Auto Parts, Inc., Q4 2006 Earnings Call, Mar-27-2007                       </td><td>2007-03-27                                                                      </td><td>2007-03-21                                                                      </td><td>SORL Auto Parts, Inc.                                                           </td><td>004341                                                                          </td><td>  3751671                                                                       </td><td>2007-03-27 00:00:00                                                             </td><td>2007-03-27 00:00:00                                                             </td><td>SAUP                                                                            </td></tr>\n",
       "\t<tr><td>48                                                                              </td><td>SORL Auto Parts, Inc., Q1 2007 Earnings Call, May-16-2007                       </td><td>2007-05-16                                                                      </td><td>2007-05-14                                                                      </td><td>SORL Auto Parts, Inc.                                                           </td><td>004341                                                                          </td><td>  4193031                                                                       </td><td>2007-05-16 00:00:00                                                             </td><td>2007-05-16 00:00:00                                                             </td><td>SAUP                                                                            </td></tr>\n",
       "\t<tr><td>48                                                                              </td><td>Viskase Companies Inc., Q3 2013 Earnings Call, Nov 21, 2013                     </td><td>2013-11-21                                                                      </td><td>2013-11-20                                                                      </td><td>Viskase Companies, Inc.                                                         </td><td>004412                                                                          </td><td>254518145                                                                       </td><td>2013-11-21 00:00:00                                                             </td><td>2013-11-21 00:00:00                                                             </td><td>ENVR                                                                            </td></tr>\n",
       "\t<tr><td>48                                                                              </td><td>Viskase Companies Inc., Q2 2014 Earnings Call, Aug 22, 2013                     </td><td>2013-08-22                                                                      </td><td>2013-08-21                                                                      </td><td>Viskase Companies, Inc.                                                         </td><td>004412                                                                          </td><td>280004568                                                                       </td><td>2013-08-22 00:00:00                                                             </td><td>2013-08-22 00:00:00                                                             </td><td>ENVR                                                                            </td></tr>\n",
       "\t<tr><td>48                                                                              </td><td>Equifax Inc., Q4 2011 Earnings Call, Mar 06, 2012                               </td><td>2012-03-06                                                                      </td><td>2012-03-05                                                                      </td><td>Equifax Inc.                                                                    </td><td>004423                                                                          </td><td>172373696                                                                       </td><td>2012-03-06 00:00:00                                                             </td><td>2012-03-06 00:00:00                                                             </td><td>EFX                                                                             </td></tr>\n",
       "\t<tr><td>48                                                                              </td><td>DMC Global Inc., Q2 2017 Earnings Call, Jul 28, 2017                            </td><td>2017-07-28                                                                      </td><td>2017-07-13                                                                      </td><td>DMC Global Inc.                                                                 </td><td>004497                                                                          </td><td>530301302                                                                       </td><td>2017-07-27 21:00:00                                                             </td><td>2017-07-27 21:00:00                                                             </td><td>BOOM                                                                            </td></tr>\n",
       "\t<tr><td>48                                                                              </td><td>US Bancorp, Q3 2005 Earnings Call, Oct 18, 2005                                 </td><td>2005-10-18                                                                      </td><td>2005-10-07                                                                      </td><td>U.S. Bancorp                                                                    </td><td>004723                                                                          </td><td>  1907380                                                                       </td><td>2005-10-18 00:00:00                                                             </td><td>2005-10-18 00:00:00                                                             </td><td>FNAC                                                                            </td></tr>\n",
       "\t<tr><td>48                                                                              </td><td>Franklin Resources Inc., Q2 2012 Pre Recorded Earnings Call, May 02, 2012       </td><td>2012-05-02                                                                      </td><td>2012-04-12                                                                      </td><td>Franklin Resources, Inc.                                                        </td><td>004885                                                                          </td><td>184476420                                                                       </td><td>2012-05-02 00:00:00                                                             </td><td>2012-05-02 00:00:00                                                             </td><td>FRRI                                                                            </td></tr>\n",
       "\t<tr><td>48                                                                              </td><td>Franklin Resources Inc., Q1 2012 Earnings Call, Feb 01, 2012                    </td><td>2012-02-01                                                                      </td><td>2012-01-13                                                                      </td><td>Franklin Resources, Inc.                                                        </td><td>004885                                                                          </td><td>145980875                                                                       </td><td>2012-02-01 00:00:00                                                             </td><td>2012-02-01 00:00:00                                                             </td><td>FRRI                                                                            </td></tr>\n",
       "\t<tr><td>48                                                                              </td><td>Franklin Resources Inc., Q4 2012 Pre Recorded Earnings Call, Oct 25, 2012       </td><td>2012-10-25                                                                      </td><td>2012-10-11                                                                      </td><td>Franklin Resources, Inc.                                                        </td><td>004885                                                                          </td><td>222841106                                                                       </td><td>2012-10-25 00:00:00                                                             </td><td>2012-10-25 00:00:00                                                             </td><td>FRRI                                                                            </td></tr>\n",
       "\t<tr><td>48                                                                              </td><td>Franklin Resources Inc., Q1 2013 Pre Recorded Earnings Call, Feb 01, 2013       </td><td>2013-02-01                                                                      </td><td>2013-01-10                                                                      </td><td>Franklin Resources, Inc.                                                        </td><td>004885                                                                          </td><td>225974384                                                                       </td><td>2013-02-01 00:00:00                                                             </td><td>2013-02-01 00:00:00                                                             </td><td>FRRI                                                                            </td></tr>\n",
       "\t<tr><td>48                                                                              </td><td>Franklin Resources Inc., Q4 2011 Earnings Call, Oct 27, 2011                    </td><td>2011-10-27                                                                      </td><td>2011-10-11                                                                      </td><td>Franklin Resources, Inc.                                                        </td><td>004885                                                                          </td><td>141522446                                                                       </td><td>2011-10-27 00:00:00                                                             </td><td>2011-10-27 00:00:00                                                             </td><td>FRRI                                                                            </td></tr>\n",
       "\t<tr><td>48                                                                              </td><td>Franklin Resources, Inc., Q3 2015 Pre Recorded Earnings Call, Jul 29, 2015      </td><td>2015-07-29                                                                      </td><td>2015-07-02                                                                      </td><td>Franklin Resources, Inc.                                                        </td><td>004885                                                                          </td><td>305856031                                                                       </td><td>2015-07-29 00:00:00                                                             </td><td>2015-07-29 00:00:00                                                             </td><td>FRRI                                                                            </td></tr>\n",
       "\t<tr><td>48                                                                              </td><td>Franklin Resources, Inc., Q2 2015 Pre Recorded Earnings Call, Apr 29, 2015      </td><td>2015-04-29                                                                      </td><td>2015-04-14                                                                      </td><td>Franklin Resources, Inc.                                                        </td><td>004885                                                                          </td><td>291347622                                                                       </td><td>2015-04-29 00:00:00                                                             </td><td>2015-04-29 00:00:00                                                             </td><td>FRRI                                                                            </td></tr>\n",
       "\t<tr><td>48                                                                              </td><td>Franklin Resources Inc., Q3 2014 Pre Recorded Earnings Call, Jul 30, 2014       </td><td>2014-07-30                                                                      </td><td>2014-07-30                                                                      </td><td>Franklin Resources, Inc.                                                        </td><td>004885                                                                          </td><td>269353081                                                                       </td><td>2014-07-30 00:00:00                                                             </td><td>2014-07-30 00:00:00                                                             </td><td>FRRI                                                                            </td></tr>\n",
       "\t<tr><td>48                                                                              </td><td>Franklin Resources Inc., Q4 2014 Pre Recorded Earnings Call, Oct 27, 2014       </td><td>2014-10-27                                                                      </td><td>2014-10-10                                                                      </td><td>Franklin Resources, Inc.                                                        </td><td>004885                                                                          </td><td>274265406                                                                       </td><td>2014-10-27 00:00:00                                                             </td><td>2014-10-27 00:00:00                                                             </td><td>FRRI                                                                            </td></tr>\n",
       "\t<tr><td>48                                                                              </td><td>Franklin Resources, Inc., Q1 2015 Pre Recorded Earnings Call, Jan 30, 2015      </td><td>2015-01-30                                                                      </td><td>2015-01-08                                                                      </td><td>Franklin Resources, Inc.                                                        </td><td>004885                                                                          </td><td>281512568                                                                       </td><td>2015-01-30 00:00:00                                                             </td><td>2015-01-30 00:00:00                                                             </td><td>FRRI                                                                            </td></tr>\n",
       "\t<tr><td>48                                                                              </td><td>Franklin Resources Inc., Q2 2013 Pre Recorded Earnings Call, Apr 30, 2013       </td><td>2013-04-30                                                                      </td><td>2013-04-10                                                                      </td><td>Franklin Resources, Inc.                                                        </td><td>004885                                                                          </td><td>235948626                                                                       </td><td>2013-04-30 00:00:00                                                             </td><td>2013-04-30 00:00:00                                                             </td><td>FRRI                                                                            </td></tr>\n",
       "\t<tr><td>48                                                                              </td><td>Franklin Resources Inc., Q3 2013 Pre Recorded Earnings Call, Jul 29, 2013       </td><td>2013-07-29                                                                      </td><td>2013-07-03                                                                      </td><td>Franklin Resources, Inc.                                                        </td><td>004885                                                                          </td><td>243693032                                                                       </td><td>2013-07-29 00:00:00                                                             </td><td>2013-07-29 00:00:00                                                             </td><td>FRRI                                                                            </td></tr>\n",
       "\t<tr><td>48                                                                              </td><td>Franklin Resources Inc., Q2 2014 Pre Recorded Earnings Call, Apr 28, 2014       </td><td>2014-04-28                                                                      </td><td>2014-04-11                                                                      </td><td>Franklin Resources, Inc.                                                        </td><td>004885                                                                          </td><td>261915714                                                                       </td><td>2014-04-28 00:00:00                                                             </td><td>2014-04-28 00:00:00                                                             </td><td>FRRI                                                                            </td></tr>\n",
       "\t<tr><td>48                                                                              </td><td>Franklin Resources Inc., Q1 2014 Pre Recorded Earnings Call, Jan 30, 2014       </td><td>2014-01-30                                                                      </td><td>2014-01-10                                                                      </td><td>Franklin Resources, Inc.                                                        </td><td>004885                                                                          </td><td>253997936                                                                       </td><td>2014-01-30 00:00:00                                                             </td><td>2014-01-30 00:00:00                                                             </td><td>FRRI                                                                            </td></tr>\n",
       "\t<tr><td>48                                                                              </td><td>Franklin Resources Inc., Q4 2013 Pre Recorded Earnings Call, Oct 24, 2013       </td><td>2013-10-24                                                                      </td><td>2013-10-07                                                                      </td><td>Franklin Resources, Inc.                                                        </td><td>004885                                                                          </td><td>247855378                                                                       </td><td>2013-10-24 00:00:00                                                             </td><td>2013-10-24 00:00:00                                                             </td><td>FRRI                                                                            </td></tr>\n",
       "\t<tr><td>48                                                                              </td><td>Franklin Resources, Inc., Q2 2016 Pre Recorded Earnings Call, Apr 27, 2016      </td><td>2016-04-27                                                                      </td><td>2016-04-11                                                                      </td><td>Franklin Resources, Inc.                                                        </td><td>004885                                                                          </td><td>330709118                                                                       </td><td>2016-04-27 00:00:00                                                             </td><td>2016-04-27 00:00:00                                                             </td><td>FRRI                                                                            </td></tr>\n",
       "\t<tr><td>48                                                                              </td><td>Franklin Resources Inc., Q3 2012 Pre Recorded Earnings Call, Jul 30, 2012       </td><td>2012-07-30                                                                      </td><td>2012-07-13                                                                      </td><td>Franklin Resources, Inc.                                                        </td><td>004885                                                                          </td><td>214174243                                                                       </td><td>2012-07-30 00:00:00                                                             </td><td>2012-07-30 00:00:00                                                             </td><td>FRRI                                                                            </td></tr>\n",
       "\t<tr><td>48                                                                              </td><td>Franklin Resources, Inc., Q4 2015 Pre Recorded Earnings Call, Oct 22, 2015      </td><td>2015-10-22                                                                      </td><td>2015-10-07                                                                      </td><td>Franklin Resources, Inc.                                                        </td><td>004885                                                                          </td><td>313049944                                                                       </td><td>2015-10-22 00:00:00                                                             </td><td>2015-10-22 00:00:00                                                             </td><td>FRRI                                                                            </td></tr>\n",
       "\t<tr><td>48                                                                              </td><td>Franklin Resources, Inc., Q1 2016 Pre Recorded Earnings Call, Feb 03, 2016      </td><td>2016-02-03                                                                      </td><td>2016-01-13                                                                      </td><td>Franklin Resources, Inc.                                                        </td><td>004885                                                                          </td><td>322094111                                                                       </td><td>2016-02-03 00:00:00                                                             </td><td>2016-02-03 00:00:00                                                             </td><td>FRRI                                                                            </td></tr>\n",
       "\t<tr><td>48                                                                              </td><td>Franklin Resources, Inc., Q3 2016 Pre Recorded Earnings Call, Jul 28, 2016      </td><td>2016-07-28                                                                      </td><td>2016-07-11                                                                      </td><td>Franklin Resources, Inc.                                                        </td><td>004885                                                                          </td><td>373871223                                                                       </td><td>2016-07-28 00:00:00                                                             </td><td>2016-07-28 00:00:00                                                             </td><td>FRRI                                                                            </td></tr>\n",
       "</tbody>\n",
       "</table>\n"
      ],
      "text/latex": [
       "\\begin{tabular}{r|llllllllll}\n",
       " keydeveventtypeid & headline & headline\\_date & announcedate & companyname & gvkey & keydevid & mostimportantdateutc & i.mostimportantdateutc & ibtic\\\\\n",
       "\\hline\n",
       "\t 48                                                                               & AMR Corporation, Q1 2005 Earnings Call, Apr 20, 2005                             & 2005-04-20                                                                       & 2005-04-04                                                                       & American Airlines Group Inc.                                                     & 001045                                                                           &   1551245                                                                        & 2005-04-20 00:00:00                                                              & 2005-04-20 00:00:00                                                              & AMR                                                                             \\\\\n",
       "\t 48                                                                                 & Adams Resources \\& Energy, Inc., Q3 2017 Pre Recorded Earnings Call, Nov 10, 2017 & 2017-11-10                                                                         & 2017-11-07                                                                         & Adams Resources \\& Energy, Inc.                                                   & 001121                                                                             & 542907441                                                                          & 2017-11-10 00:00:00                                                                & 2017-11-10 00:00:00                                                                & AA3B                                                                              \\\\\n",
       "\t 48                                                                               & Rio Tinto Alcan, Inc., Q1 2007 Earnings Call, Apr 24, 2007                       & 2007-04-24                                                                       & 2007-04-24                                                                       & Rio Tinto Alcan Inc.                                                             & 001243                                                                           &   4021541                                                                        & 2007-04-24 00:00:00                                                              & 2007-04-24 00:00:00                                                              & AL                                                                              \\\\\n",
       "\t 48                                                                               & AFLAC Inc., Q4 2004 Earnings Call, Feb-03-2005                                   & 2005-02-03                                                                       & 2005-01-24                                                                       & Aflac Incorporated                                                               & 001449                                                                           &   1010210                                                                        & 2005-02-03 00:10:00                                                              & 2005-02-03 00:10:00                                                              & AFL                                                                             \\\\\n",
       "\t 48                                                                               & AFLAC Inc., Q4 2006 Earnings Call, Feb-01-2007                                   & 2007-02-01                                                                       & 2007-01-23                                                                       & Aflac Incorporated                                                               & 001449                                                                           &   3436575                                                                        & 2007-02-01 00:10:00                                                              & 2007-02-01 00:10:00                                                              & AFL                                                                             \\\\\n",
       "\t 48                                                                               & AFLAC Inc., Q4 2005 Earnings Call, Feb-01-2006                                   & 2006-02-01                                                                       & 2006-01-23                                                                       & Aflac Incorporated                                                               & 001449                                                                           &   2550730                                                                        & 2006-02-01 00:10:00                                                              & 2006-02-01 00:10:00                                                              & AFL                                                                             \\\\\n",
       "\t 48                                                                               & American International Group, Inc., Q3 2010 Earnings Call, Nov 05, 2010          & 2010-11-05                                                                       & 2010-11-02                                                                       & American International Group, Inc.                                               & 001487                                                                           & 115247098                                                                        & 2010-11-05 00:00:00                                                              & 2010-11-05 00:00:00                                                              & AIG                                                                             \\\\\n",
       "\t 48                                                                               & Andrew Corporation, Q3 2007 Earnings Call, Aug 01, 2007                          & 2007-08-01                                                                       & 2006-12-23                                                                       & Andrew LLC                                                                       & 001651                                                                           &   3386785                                                                        & 2007-08-01 00:00:00                                                              & 2007-08-01 00:00:00                                                              & ANDW                                                                            \\\\\n",
       "\t 48                                                                               & Andrew Corporation, Q4 2007 Earnings Call, Nov 01, 2007                          & 2007-11-01                                                                       & 2006-12-23                                                                       & Andrew LLC                                                                       & 001651                                                                           &   3386786                                                                        & 2007-11-01 00:00:00                                                              & 2007-11-01 00:00:00                                                              & ANDW                                                                            \\\\\n",
       "\t 48                                                                               & Apple Inc., Q2 2005 Earnings Call, Apr 13, 2005                                  & 2005-04-13                                                                       & 2005-03-28                                                                       & Apple Inc.                                                                       & 001690                                                                           &   1533943                                                                        & 2005-04-13 00:00:00                                                              & 2005-04-13 00:00:00                                                              & AAPL                                                                            \\\\\n",
       "\t 48                                                                               & Apple Inc., Q4 2006 Earnings Call, Oct 18, 2006                                  & 2006-10-18                                                                       & 2006-03-20                                                                       & Apple Inc.                                                                       & 001690                                                                           &   2710236                                                                        & 2006-10-18 00:00:00                                                              & 2006-10-18 00:00:00                                                              & AAPL                                                                            \\\\\n",
       "\t 48                                                                               & Apple Inc., Q2 2015 Earnings Call, Apr 28, 2015                                  & 2015-04-28                                                                       & 2015-03-30                                                                       & Apple Inc.                                                                       & 001690                                                                           & 289919480                                                                        & 2015-04-27 21:00:00                                                              & 2015-04-27 21:00:00                                                              & AAPL                                                                            \\\\\n",
       "\t 48                                                                               & Ashland Inc., Q2 2005 Earnings Call, Apr 25, 2005                                & 2005-04-25                                                                       & 2005-04-14                                                                       & Ashland Global Holdings Inc.                                                     & 001794                                                                           &   1566583                                                                        & 2005-04-25 00:00:00                                                              & 2005-04-25 00:00:00                                                              & ASH                                                                             \\\\\n",
       "\t 48                                                                               & Southern Company Gas, Q4 2015 Earnings Calls, Feb 11, 2016                       & 2016-02-11                                                                       & 2016-05-05                                                                       & Southern Company Gas                                                             & 001837                                                                           & 585210177                                                                        & 2016-02-11 00:00:00                                                              & 2016-02-11 00:00:00                                                              & AGLT                                                                            \\\\\n",
       "\t 48                                                                               & Automatic Data Processing, Inc., Q4 2006 Earnings Call, Jul 27, 2006             & 2006-07-27                                                                       & 2006-03-28                                                                       & Automatic Data Processing, Inc.                                                  & 001891                                                                           &   2729030                                                                        & 2006-07-27 00:00:00                                                              & 2006-07-27 00:00:00                                                              & AUD                                                                             \\\\\n",
       "\t 48                                                                               & British American Tobacco plc, Q3 2007 Earnings Call, Nov 01, 2007                & 2007-11-01                                                                       & 2007-11-01                                                                       & British American Tobacco p.l.c.                                                  & 001932                                                                           & 137432983                                                                        & 2007-11-01 00:00:00                                                              & 2007-11-01 00:00:00                                                              & BTI                                                                             \\\\\n",
       "\t 48                                                                               & BCE, Inc., Q2 2006 Earnings Call, Aug 02, 2006                                   & 2006-08-02                                                                       & 2006-01-31                                                                       & BCE Inc.                                                                         & 002137                                                                           &   2606067                                                                        & 2006-08-02 00:00:00                                                              & 2006-08-02 00:00:00                                                              & BCE2                                                                            \\\\\n",
       "\t 48                                                                               & Bob Evans Farms Inc., Q1 2008 Earnings Call, Aug 14, 2007                        & 2007-08-14                                                                       & 2007-06-05                                                                       & Bob Evans Farms, Inc.                                                            & 002282                                                                           &   4369217                                                                        & 2007-08-14 00:00:00                                                              & 2007-08-14 00:00:00                                                              & BOBE                                                                            \\\\\n",
       "\t 48                                                                               & Rexam plc, 11 Months 2011 Earnings Call, Nov 17, 2011                            & 2011-11-17                                                                       & 2011-11-16                                                                       & Rexam Ltd.                                                                       & 002338                                                                           & 145517263                                                                        & 2011-11-17 00:00:00                                                              & 2011-11-17 00:00:00                                                              & BWTR                                                                            \\\\\n",
       "\t 48                                                                               & TELUS Corporation, Q2 2008 Earnings Call, Aug 08, 2008                           & 2008-08-08                                                                       & 2008-04-09                                                                       & TELUS Corporation                                                                & 002408                                                                           &   5378191                                                                        & 2008-08-08 00:00:00                                                              & 2008-08-08 00:00:00                                                              & BCT1                                                                            \\\\\n",
       "\t 48                                                                               & TELUS Corporation, Q4 2006 Earnings Call, Feb 16, 2007                           & 2007-02-16                                                                       & 2007-02-16                                                                       & TELUS Corporation                                                                & 002408                                                                           & 137428321                                                                        & 2007-02-16 00:00:00                                                              & 2007-02-16 00:00:00                                                              & BCT1                                                                            \\\\\n",
       "\t 48                                                                               & TELUS Corporation, Q2 2007 Earnings Call, Aug 03, 2007                           & 2007-08-03                                                                       & 2007-03-15                                                                       & TELUS Corporation                                                                & 002408                                                                           &   3705452                                                                        & 2007-08-03 00:00:00                                                              & 2007-08-03 00:00:00                                                              & BCT1                                                                            \\\\\n",
       "\t 48                                                                               & BT Group plc, Q4 2006 Earnings Call, May 18, 2006                                & 2006-05-18                                                                       & 2006-05-18                                                                       & BT Group plc                                                                     & 002411                                                                           & 137435940                                                                        & 2006-05-18 00:00:00                                                              & 2006-05-18 00:00:00                                                              & BTY                                                                             \\\\\n",
       "\t 48                                                                               & BT Group plc, Q4 2007 Earnings Call, May 17, 2007                                & 2007-05-17                                                                       & 2007-05-16                                                                       & BT Group plc                                                                     & 002411                                                                           & 137427525                                                                        & 2007-05-17 00:00:00                                                              & 2007-05-17 00:00:00                                                              & BTY                                                                             \\\\\n",
       "\t 48                                                                               & BT Group plc, Q2 2007 Earnings Call, Nov 09, 2007                                & 2007-11-09                                                                       & 2007-11-09                                                                       & BT Group plc                                                                     & 002411                                                                           & 137430862                                                                        & 2007-11-09 00:00:00                                                              & 2007-11-09 00:00:00                                                              & BTY                                                                             \\\\\n",
       "\t 48                                                                               & BT Group plc, Q1 2007 Earnings Call, Jul 26, 2007                                & 2007-07-26                                                                       & 2007-07-26                                                                       & BT Group plc                                                                     & 002411                                                                           & 137429533                                                                        & 2007-07-26 00:00:00                                                              & 2007-07-26 00:00:00                                                              & BTY                                                                             \\\\\n",
       "\t 48                                                                               & BT Group plc, Q2 2006 Earnings Call, Nov 09, 2006                                & 2006-11-09                                                                       & 2006-11-09                                                                       & BT Group plc                                                                     & 002411                                                                           & 137428471                                                                        & 2006-11-09 00:00:00                                                              & 2006-11-09 00:00:00                                                              & BTY                                                                             \\\\\n",
       "\t 48                                                                               & My Freightworld Technologies, Inc., H1 2012 Earnings Call, Aug 28, 2012          & 2012-08-28                                                                       & 2012-08-28                                                                       & myFreightWorld Technologies, Inc.                                                & 002586                                                                           & 216182560                                                                        & 2012-08-28 00:00:00                                                              & 2012-08-28 00:00:00                                                              & FOGL                                                                            \\\\\n",
       "\t 48                                                                               & Canon Inc., Q2 2017 Earnings Call, Jul 27, 2017                                  & 2017-07-27                                                                       & 2017-07-17                                                                       & Canon Inc.                                                                       & 002721                                                                           & 531036687                                                                        & 2017-07-27 00:00:00                                                              & 2017-07-27 00:00:00                                                              & CANN                                                                            \\\\\n",
       "\t 48                                                                               & Canon Inc., Q1 2017 Earnings Call, Apr 26, 2017                                  & 2017-04-26                                                                       & 2017-04-26                                                                       & Canon Inc.                                                                       & 002721                                                                           & 428751170                                                                        & 2017-04-26 00:00:00                                                              & 2017-04-26 00:00:00                                                              & CANN                                                                            \\\\\n",
       "\t 48                                                                               & Canon Inc., Q3 2017 Earnings Call, Oct 24, 2017                                  & 2017-10-24                                                                       & 2017-09-26                                                                       & Canon Inc.                                                                       & 002721                                                                           & 538707756                                                                        & 2017-10-24 00:00:00                                                              & 2017-10-24 00:00:00                                                              & CANN                                                                            \\\\\n",
       "\t 48                                                                               & Canon Inc., 2017 Earnings Call, Jan 30, 2018                                     & 2018-01-30                                                                       & 2017-12-27                                                                       & Canon Inc.                                                                       & 002721                                                                           & 547795677                                                                        & 2018-01-30 00:00:00                                                              & 2018-01-30 00:00:00                                                              & CANN                                                                            \\\\\n",
       "\t 48                                                                               & Canon Inc., Q3 2016 Earnings Call, Oct 26, 2016                                  & 2016-10-26                                                                       & 2016-10-26                                                                       & Canon Inc.                                                                       & 002721                                                                           & 407257413                                                                        & 2016-10-26 00:00:00                                                              & 2016-10-26 00:00:00                                                              & CANN                                                                            \\\\\n",
       "\t 48                                                                               & Canon Inc., Q2 2016 Earnings Call, Jul 26, 2016                                  & 2016-07-26                                                                       & 2016-07-26                                                                       & Canon Inc.                                                                       & 002721                                                                           & 377775783                                                                        & 2016-07-26 00:00:00                                                              & 2016-07-26 00:00:00                                                              & CANN                                                                            \\\\\n",
       "\t 48                                                                               & Canon Inc., 2015 Earnings Call, Jan 27, 2016                                     & 2016-01-27                                                                       & 2016-01-27                                                                       & Canon Inc.                                                                       & 002721                                                                           & 323519389                                                                        & 2016-01-27 00:00:00                                                              & 2016-01-27 00:00:00                                                              & CANN                                                                            \\\\\n",
       "\t 48                                                                               & Canon Inc., Q3 2015 Earnings Call, Oct 27, 2015                                  & 2015-10-27                                                                       & 2015-10-27                                                                       & Canon Inc.                                                                       & 002721                                                                           & 315277140                                                                        & 2015-10-27 00:00:00                                                              & 2015-10-27 00:00:00                                                              & CANN                                                                            \\\\\n",
       "\t 48                                                                               & Canon Inc., Q2 2013 Earnings Call, Jul 24, 2013                                  & 2013-07-24                                                                       & 2013-07-24                                                                       & Canon Inc.                                                                       & 002721                                                                           & 243540931                                                                        & 2013-07-24 00:00:00                                                              & 2013-07-24 00:00:00                                                              & CANN                                                                            \\\\\n",
       "\t 48                                                                               & Canon Inc., Q1 2013 Earnings Call, Apr 24, 2013                                  & 2013-04-24                                                                       & 2013-04-24                                                                       & Canon Inc.                                                                       & 002721                                                                           & 237395502                                                                        & 2013-04-24 00:00:00                                                              & 2013-04-24 00:00:00                                                              & CANN                                                                            \\\\\n",
       "\t 48                                                                               & Canon Inc., Q1 2014 Earnings Call, Apr 24, 2014                                  & 2014-04-24                                                                       & 2014-04-24                                                                       & Canon Inc.                                                                       & 002721                                                                           & 262539550                                                                        & 2014-04-24 00:00:00                                                              & 2014-04-24 00:00:00                                                              & CANN                                                                            \\\\\n",
       "\t 48                                                                               & Canon Inc., 2013 Earnings Call, Jan 29, 2014                                     & 2014-01-29                                                                       & 2014-01-29                                                                       & Canon Inc.                                                                       & 002721                                                                           & 254838816                                                                        & 2014-01-29 00:00:00                                                              & 2014-01-29 00:00:00                                                              & CANN                                                                            \\\\\n",
       "\t 48                                                                               & Canon Inc., Q3 2013 Earnings Call, Oct 24, 2013                                  & 2013-10-24                                                                       & 2013-10-24                                                                       & Canon Inc.                                                                       & 002721                                                                           & 248822476                                                                        & 2013-10-24 00:00:00                                                              & 2013-10-24 00:00:00                                                              & CANN                                                                            \\\\\n",
       "\t 48                                                                               & Canon Inc., Q2 2014 Earnings Call, Jul 24, 2014                                  & 2014-07-24                                                                       & 2014-07-24                                                                       & Canon Inc.                                                                       & 002721                                                                           & 269025144                                                                        & 2014-07-24 00:00:00                                                              & 2014-07-24 00:00:00                                                              & CANN                                                                            \\\\\n",
       "\t 48                                                                               & Canon Inc., 2014 Earnings Call, Jan 28, 2015                                     & 2015-01-28                                                                       & 2015-01-28                                                                       & Canon Inc.                                                                       & 002721                                                                           & 283093746                                                                        & 2015-01-28 00:00:00                                                              & 2015-01-28 00:00:00                                                              & CANN                                                                            \\\\\n",
       "\t 48                                                                               & Canon Inc., Q3 2014 Earnings Call, Oct 27, 2014                                  & 2014-10-27                                                                       & 2014-10-27                                                                       & Canon Inc.                                                                       & 002721                                                                           & 275299347                                                                        & 2014-10-27 00:00:00                                                              & 2014-10-27 00:00:00                                                              & CANN                                                                            \\\\\n",
       "\t 48                                                                               & Canon Inc., Q2 2015 Earnings Call, Jul 27, 2015                                  & 2015-07-27                                                                       & 2015-07-27                                                                       & Canon Inc.                                                                       & 002721                                                                           & 307776860                                                                        & 2015-07-27 00:00:00                                                              & 2015-07-27 00:00:00                                                              & CANN                                                                            \\\\\n",
       "\t 48                                                                               & Canon Inc., 2009 Earnings Call, Jan-27-2010                                      & 2010-01-27                                                                       & 2010-01-26                                                                       & Canon Inc.                                                                       & 002721                                                                           & 109405524                                                                        & 2010-01-27 00:00:00                                                              & 2010-01-27 00:00:00                                                              & CANN                                                                            \\\\\n",
       "\t 48                                                                               & Canon Inc., Q3 2009 Earnings Call, Oct 27, 2009                                  & 2009-10-27                                                                       & 2009-10-27                                                                       & Canon Inc.                                                                       & 002721                                                                           &  79218524                                                                        & 2009-10-27 00:00:00                                                              & 2009-10-27 00:00:00                                                              & CANN                                                                            \\\\\n",
       "\t 48                                                                               & Canon Inc., Q1 2007 Earnings Call, Apr 24, 2007                                  & 2007-04-24                                                                       & 2007-04-23                                                                       & Canon Inc.                                                                       & 002721                                                                           &   4941032                                                                        & 2007-04-24 00:00:00                                                              & 2007-04-24 00:00:00                                                              & CANN                                                                            \\\\\n",
       "\t 48                                                                               & Canon Inc., Q1 2012 Earnings Call, Apr 25, 2012                                  & 2012-04-25                                                                       & 2012-04-18                                                                       & Canon Inc.                                                                       & 002721                                                                           & 201625095                                                                        & 2012-04-25 00:00:00                                                              & 2012-04-25 00:00:00                                                              & CANN                                                                            \\\\\n",
       "\t 48                                                                               & Canon Inc., 2011 Earnings Call, Jan 30, 2012                                     & 2012-01-30                                                                       & 2012-01-17                                                                       & Canon Inc.                                                                       & 002721                                                                           & 146115533                                                                        & 2012-01-30 00:00:00                                                              & 2012-01-30 00:00:00                                                              & CANN                                                                            \\\\\n",
       "\t 48                                                                               & Canon Inc., 2012 Earnings Call, Jan 30, 2013                                     & 2013-01-30                                                                       & 2013-01-30                                                                       & Canon Inc.                                                                       & 002721                                                                           & 226871837                                                                        & 2013-01-30 00:00:00                                                              & 2013-01-30 00:00:00                                                              & CANN                                                                            \\\\\n",
       "\t 48                                                                               & Canon Inc., Q3 2012 Earnings Call, Oct 25, 2012                                  & 2012-10-25                                                                       & 2012-10-25                                                                       & Canon Inc.                                                                       & 002721                                                                           & 226667277                                                                        & 2012-10-25 00:00:00                                                              & 2012-10-25 00:00:00                                                              & CANN                                                                            \\\\\n",
       "\t 48                                                                               & Canon Inc., Q2 2012 Earnings Call, Jul 25, 2012                                  & 2012-07-25                                                                       & 2012-07-25                                                                       & Canon Inc.                                                                       & 002721                                                                           & 214636083                                                                        & 2012-07-25 00:00:00                                                              & 2012-07-25 00:00:00                                                              & CANN                                                                            \\\\\n",
       "\t 48                                                                               & Canon Inc., Q3 2007 Earnings Call, Oct 25, 2007                                  & 2007-10-25                                                                       & 2007-10-23                                                                       & Canon Inc.                                                                       & 002721                                                                           &   4941029                                                                        & 2007-10-25 00:00:00                                                              & 2007-10-25 00:00:00                                                              & CANN                                                                            \\\\\n",
       "\t 48                                                                               & Canon Inc., 2010 Earnings Call, Jan 27, 2011                                     & 2011-01-27                                                                       & 2011-01-20                                                                       & Canon Inc.                                                                       & 002721                                                                           & 118482025                                                                        & 2011-01-27 00:00:00                                                              & 2011-01-27 00:00:00                                                              & CANN                                                                            \\\\\n",
       "\t 48                                                                               & Canon Inc., Q1 2011 Earnings Call, Apr 26, 2011                                  & 2011-04-26                                                                       & 2011-04-23                                                                       & Canon Inc.                                                                       & 002721                                                                           & 130534522                                                                        & 2011-04-26 00:00:00                                                              & 2011-04-26 00:00:00                                                              & CANN                                                                            \\\\\n",
       "\t 48                                                                               & Canon Inc., Q1 2008 Earnings Call, Apr 27, 2008                                  & 2008-04-27                                                                       & 2008-04-27                                                                       & Canon Inc.                                                                       & 002721                                                                           & 137429489                                                                        & 2008-04-27 00:00:00                                                              & 2008-04-27 00:00:00                                                              & CANN                                                                            \\\\\n",
       "\t 48                                                                               & Canon Inc., Q4 2007 Earnings Call, Jan 30, 2008                                  & 2008-01-30                                                                       & 2008-01-30                                                                       & Canon Inc.                                                                       & 002721                                                                           & 137431697                                                                        & 2008-01-30 00:00:00                                                              & 2008-01-30 00:00:00                                                              & CANN                                                                            \\\\\n",
       "\t 48                                                                               & Canon Inc., Q2 2011 Earnings Call, Jul 25, 2011                                  & 2011-07-25                                                                       & 2011-07-19                                                                       & Canon Inc.                                                                       & 002721                                                                           & 137657094                                                                        & 2011-07-25 00:00:00                                                              & 2011-07-25 00:00:00                                                              & CANN                                                                            \\\\\n",
       "\t 48                                                                               & Canon Inc., Q3 2011 Earnings Call, Oct 25, 2011                                  & 2011-10-25                                                                       & 2011-10-18                                                                       & Canon Inc.                                                                       & 002721                                                                           & 141781145                                                                        & 2011-10-25 00:00:00                                                              & 2011-10-25 00:00:00                                                              & CANN                                                                            \\\\\n",
       "\t 48                                                                               & Canon Inc., Q1 2018 Earnings Call, Apr 25, 2018                                  & 2018-04-25                                                                       & 2018-04-25                                                                       & Canon Inc.                                                                       & 002721                                                                           & 560456382                                                                        & 2018-04-25 00:00:00                                                              & 2018-04-25 00:00:00                                                              & CANN                                                                            \\\\\n",
       "\t 48                                                                               & Canon Inc., Q1 2015 Earnings Call, Apr 27, 2015                                  & 2015-04-27                                                                       & 2015-04-27                                                                       & Canon Inc.                                                                       & 002721                                                                           & 292547493                                                                        & 2015-04-27 00:00:00                                                              & 2015-04-27 00:00:00                                                              & CANN                                                                            \\\\\n",
       "\t 48                                                                               & Canon Inc., H1 2007 Earnings Call, Jul 26, 2007                                  & 2007-07-26                                                                       & 2007-07-26                                                                       & Canon Inc.                                                                       & 002721                                                                           &   4769756                                                                        & 2007-07-26 00:00:00                                                              & 2007-07-26 00:00:00                                                              & CANN                                                                            \\\\\n",
       "\t 48                                                                               & Canon Inc., Q2 2006 Earnings Call, Jul 27, 2006                                  & 2006-07-27                                                                       & 2006-07-27                                                                       & Canon Inc.                                                                       & 002721                                                                           &   3057511                                                                        & 2006-07-27 00:00:00                                                              & 2006-07-27 00:00:00                                                              & CANN                                                                            \\\\\n",
       "\t 48                                                                               & Canon Inc., Q1 2016 Earnings Call, Apr 26, 2016                                  & 2016-04-26                                                                       & 2016-04-26                                                                       & Canon Inc.                                                                       & 002721                                                                           & 331981363                                                                        & 2016-04-26 00:00:00                                                              & 2016-04-26 00:00:00                                                              & CANN                                                                            \\\\\n",
       "\t 48                                                                               & Canon Inc., 2016 Earnings Call, Jan 31, 2017                                     & 2017-01-31                                                                       & 2017-01-31                                                                       & Canon Inc.                                                                       & 002721                                                                           & 418562670                                                                        & 2017-01-31 00:00:00                                                              & 2017-01-31 00:00:00                                                              & CANN                                                                            \\\\\n",
       "\t 48                                                                               & Caterpillar Inc., Q3 2005 Earnings Call, Oct 20, 2005                            & 2005-10-20                                                                       & 2005-04-01                                                                       & Caterpillar Inc.                                                                 & 002817                                                                           &   1542397                                                                        & 2005-10-20 00:00:00                                                              & 2005-10-20 00:00:00                                                              & CAT                                                                             \\\\\n",
       "\t 48                                                                               & CA, Inc., Q1 2007 Earnings Call, Aug 14, 2006                                    & 2006-08-14                                                                       & 2006-08-07                                                                       & CA, Inc.                                                                         & 003310                                                                           &   3084025                                                                        & 2006-08-14 00:00:00                                                              & 2006-08-14 00:00:00                                                              & CASI                                                                            \\\\\n",
       "\t 48                                                                               & Corning Inc., Q4 2005 Earnings Call, Feb 03, 2006                                & 2006-02-03                                                                       & 2006-01-24                                                                       & Corning Incorporated                                                             & 003532                                                                           &   2554362                                                                        & 2006-02-03 00:00:00                                                              & 2006-02-03 00:00:00                                                              & GLW                                                                             \\\\\n",
       "\t 48                                                                               & Curtiss-Wright Corp., Q2 2006 Earnings Call, Jul-29-2006                         & 2006-07-29                                                                       & 2006-07-06                                                                       & Curtiss-Wright Corporation                                                       & 003662                                                                           &   3014905                                                                        & 2006-07-29 03:00:00                                                              & 2006-07-29 03:00:00                                                              & CW                                                                              \\\\\n",
       "\t 48                                                                                 & Deere \\& Co., Q3 2005 Earnings Call, Aug 16, 2005                                 & 2005-08-16                                                                         & 2005-05-12                                                                         & Deere \\& Company                                                                  & 003835                                                                             &   1617893                                                                          & 2005-08-16 00:00:00                                                                & 2005-08-16 00:00:00                                                                & DE                                                                                \\\\\n",
       "\t 48                                                                               & Western Forest Products Inc., Q2 2007 Earnings Call, Aug 14, 2007                & 2007-08-14                                                                       & 2007-08-13                                                                       & Western Forest Products Inc.                                                     & 004019                                                                           &   4711166                                                                        & 2007-08-14 00:00:00                                                              & 2007-08-14 00:00:00                                                              & DOM1                                                                            \\\\\n",
       "\t 48                                                                               & SORL Auto Parts, Inc., Q2 2018 Earnings Call, Aug 15, 2018                       & 2018-08-15                                                                       & 2018-08-07                                                                       & SORL Auto Parts, Inc.                                                            & 004341                                                                           & 576595244                                                                        & 2018-08-15 00:01:00                                                              & 2018-08-15 00:01:00                                                              & SAUP                                                                            \\\\\n",
       "\t 48                                                                               & SORL Auto Parts, Inc., Q4 2006 Earnings Call, Mar-27-2007                        & 2007-03-27                                                                       & 2007-03-21                                                                       & SORL Auto Parts, Inc.                                                            & 004341                                                                           &   3751671                                                                        & 2007-03-27 00:00:00                                                              & 2007-03-27 00:00:00                                                              & SAUP                                                                            \\\\\n",
       "\t 48                                                                               & SORL Auto Parts, Inc., Q1 2007 Earnings Call, May-16-2007                        & 2007-05-16                                                                       & 2007-05-14                                                                       & SORL Auto Parts, Inc.                                                            & 004341                                                                           &   4193031                                                                        & 2007-05-16 00:00:00                                                              & 2007-05-16 00:00:00                                                              & SAUP                                                                            \\\\\n",
       "\t 48                                                                               & Viskase Companies Inc., Q3 2013 Earnings Call, Nov 21, 2013                      & 2013-11-21                                                                       & 2013-11-20                                                                       & Viskase Companies, Inc.                                                          & 004412                                                                           & 254518145                                                                        & 2013-11-21 00:00:00                                                              & 2013-11-21 00:00:00                                                              & ENVR                                                                            \\\\\n",
       "\t 48                                                                               & Viskase Companies Inc., Q2 2014 Earnings Call, Aug 22, 2013                      & 2013-08-22                                                                       & 2013-08-21                                                                       & Viskase Companies, Inc.                                                          & 004412                                                                           & 280004568                                                                        & 2013-08-22 00:00:00                                                              & 2013-08-22 00:00:00                                                              & ENVR                                                                            \\\\\n",
       "\t 48                                                                               & Equifax Inc., Q4 2011 Earnings Call, Mar 06, 2012                                & 2012-03-06                                                                       & 2012-03-05                                                                       & Equifax Inc.                                                                     & 004423                                                                           & 172373696                                                                        & 2012-03-06 00:00:00                                                              & 2012-03-06 00:00:00                                                              & EFX                                                                             \\\\\n",
       "\t 48                                                                               & DMC Global Inc., Q2 2017 Earnings Call, Jul 28, 2017                             & 2017-07-28                                                                       & 2017-07-13                                                                       & DMC Global Inc.                                                                  & 004497                                                                           & 530301302                                                                        & 2017-07-27 21:00:00                                                              & 2017-07-27 21:00:00                                                              & BOOM                                                                            \\\\\n",
       "\t 48                                                                               & US Bancorp, Q3 2005 Earnings Call, Oct 18, 2005                                  & 2005-10-18                                                                       & 2005-10-07                                                                       & U.S. Bancorp                                                                     & 004723                                                                           &   1907380                                                                        & 2005-10-18 00:00:00                                                              & 2005-10-18 00:00:00                                                              & FNAC                                                                            \\\\\n",
       "\t 48                                                                               & Franklin Resources Inc., Q2 2012 Pre Recorded Earnings Call, May 02, 2012        & 2012-05-02                                                                       & 2012-04-12                                                                       & Franklin Resources, Inc.                                                         & 004885                                                                           & 184476420                                                                        & 2012-05-02 00:00:00                                                              & 2012-05-02 00:00:00                                                              & FRRI                                                                            \\\\\n",
       "\t 48                                                                               & Franklin Resources Inc., Q1 2012 Earnings Call, Feb 01, 2012                     & 2012-02-01                                                                       & 2012-01-13                                                                       & Franklin Resources, Inc.                                                         & 004885                                                                           & 145980875                                                                        & 2012-02-01 00:00:00                                                              & 2012-02-01 00:00:00                                                              & FRRI                                                                            \\\\\n",
       "\t 48                                                                               & Franklin Resources Inc., Q4 2012 Pre Recorded Earnings Call, Oct 25, 2012        & 2012-10-25                                                                       & 2012-10-11                                                                       & Franklin Resources, Inc.                                                         & 004885                                                                           & 222841106                                                                        & 2012-10-25 00:00:00                                                              & 2012-10-25 00:00:00                                                              & FRRI                                                                            \\\\\n",
       "\t 48                                                                               & Franklin Resources Inc., Q1 2013 Pre Recorded Earnings Call, Feb 01, 2013        & 2013-02-01                                                                       & 2013-01-10                                                                       & Franklin Resources, Inc.                                                         & 004885                                                                           & 225974384                                                                        & 2013-02-01 00:00:00                                                              & 2013-02-01 00:00:00                                                              & FRRI                                                                            \\\\\n",
       "\t 48                                                                               & Franklin Resources Inc., Q4 2011 Earnings Call, Oct 27, 2011                     & 2011-10-27                                                                       & 2011-10-11                                                                       & Franklin Resources, Inc.                                                         & 004885                                                                           & 141522446                                                                        & 2011-10-27 00:00:00                                                              & 2011-10-27 00:00:00                                                              & FRRI                                                                            \\\\\n",
       "\t 48                                                                               & Franklin Resources, Inc., Q3 2015 Pre Recorded Earnings Call, Jul 29, 2015       & 2015-07-29                                                                       & 2015-07-02                                                                       & Franklin Resources, Inc.                                                         & 004885                                                                           & 305856031                                                                        & 2015-07-29 00:00:00                                                              & 2015-07-29 00:00:00                                                              & FRRI                                                                            \\\\\n",
       "\t 48                                                                               & Franklin Resources, Inc., Q2 2015 Pre Recorded Earnings Call, Apr 29, 2015       & 2015-04-29                                                                       & 2015-04-14                                                                       & Franklin Resources, Inc.                                                         & 004885                                                                           & 291347622                                                                        & 2015-04-29 00:00:00                                                              & 2015-04-29 00:00:00                                                              & FRRI                                                                            \\\\\n",
       "\t 48                                                                               & Franklin Resources Inc., Q3 2014 Pre Recorded Earnings Call, Jul 30, 2014        & 2014-07-30                                                                       & 2014-07-30                                                                       & Franklin Resources, Inc.                                                         & 004885                                                                           & 269353081                                                                        & 2014-07-30 00:00:00                                                              & 2014-07-30 00:00:00                                                              & FRRI                                                                            \\\\\n",
       "\t 48                                                                               & Franklin Resources Inc., Q4 2014 Pre Recorded Earnings Call, Oct 27, 2014        & 2014-10-27                                                                       & 2014-10-10                                                                       & Franklin Resources, Inc.                                                         & 004885                                                                           & 274265406                                                                        & 2014-10-27 00:00:00                                                              & 2014-10-27 00:00:00                                                              & FRRI                                                                            \\\\\n",
       "\t 48                                                                               & Franklin Resources, Inc., Q1 2015 Pre Recorded Earnings Call, Jan 30, 2015       & 2015-01-30                                                                       & 2015-01-08                                                                       & Franklin Resources, Inc.                                                         & 004885                                                                           & 281512568                                                                        & 2015-01-30 00:00:00                                                              & 2015-01-30 00:00:00                                                              & FRRI                                                                            \\\\\n",
       "\t 48                                                                               & Franklin Resources Inc., Q2 2013 Pre Recorded Earnings Call, Apr 30, 2013        & 2013-04-30                                                                       & 2013-04-10                                                                       & Franklin Resources, Inc.                                                         & 004885                                                                           & 235948626                                                                        & 2013-04-30 00:00:00                                                              & 2013-04-30 00:00:00                                                              & FRRI                                                                            \\\\\n",
       "\t 48                                                                               & Franklin Resources Inc., Q3 2013 Pre Recorded Earnings Call, Jul 29, 2013        & 2013-07-29                                                                       & 2013-07-03                                                                       & Franklin Resources, Inc.                                                         & 004885                                                                           & 243693032                                                                        & 2013-07-29 00:00:00                                                              & 2013-07-29 00:00:00                                                              & FRRI                                                                            \\\\\n",
       "\t 48                                                                               & Franklin Resources Inc., Q2 2014 Pre Recorded Earnings Call, Apr 28, 2014        & 2014-04-28                                                                       & 2014-04-11                                                                       & Franklin Resources, Inc.                                                         & 004885                                                                           & 261915714                                                                        & 2014-04-28 00:00:00                                                              & 2014-04-28 00:00:00                                                              & FRRI                                                                            \\\\\n",
       "\t 48                                                                               & Franklin Resources Inc., Q1 2014 Pre Recorded Earnings Call, Jan 30, 2014        & 2014-01-30                                                                       & 2014-01-10                                                                       & Franklin Resources, Inc.                                                         & 004885                                                                           & 253997936                                                                        & 2014-01-30 00:00:00                                                              & 2014-01-30 00:00:00                                                              & FRRI                                                                            \\\\\n",
       "\t 48                                                                               & Franklin Resources Inc., Q4 2013 Pre Recorded Earnings Call, Oct 24, 2013        & 2013-10-24                                                                       & 2013-10-07                                                                       & Franklin Resources, Inc.                                                         & 004885                                                                           & 247855378                                                                        & 2013-10-24 00:00:00                                                              & 2013-10-24 00:00:00                                                              & FRRI                                                                            \\\\\n",
       "\t 48                                                                               & Franklin Resources, Inc., Q2 2016 Pre Recorded Earnings Call, Apr 27, 2016       & 2016-04-27                                                                       & 2016-04-11                                                                       & Franklin Resources, Inc.                                                         & 004885                                                                           & 330709118                                                                        & 2016-04-27 00:00:00                                                              & 2016-04-27 00:00:00                                                              & FRRI                                                                            \\\\\n",
       "\t 48                                                                               & Franklin Resources Inc., Q3 2012 Pre Recorded Earnings Call, Jul 30, 2012        & 2012-07-30                                                                       & 2012-07-13                                                                       & Franklin Resources, Inc.                                                         & 004885                                                                           & 214174243                                                                        & 2012-07-30 00:00:00                                                              & 2012-07-30 00:00:00                                                              & FRRI                                                                            \\\\\n",
       "\t 48                                                                               & Franklin Resources, Inc., Q4 2015 Pre Recorded Earnings Call, Oct 22, 2015       & 2015-10-22                                                                       & 2015-10-07                                                                       & Franklin Resources, Inc.                                                         & 004885                                                                           & 313049944                                                                        & 2015-10-22 00:00:00                                                              & 2015-10-22 00:00:00                                                              & FRRI                                                                            \\\\\n",
       "\t 48                                                                               & Franklin Resources, Inc., Q1 2016 Pre Recorded Earnings Call, Feb 03, 2016       & 2016-02-03                                                                       & 2016-01-13                                                                       & Franklin Resources, Inc.                                                         & 004885                                                                           & 322094111                                                                        & 2016-02-03 00:00:00                                                              & 2016-02-03 00:00:00                                                              & FRRI                                                                            \\\\\n",
       "\t 48                                                                               & Franklin Resources, Inc., Q3 2016 Pre Recorded Earnings Call, Jul 28, 2016       & 2016-07-28                                                                       & 2016-07-11                                                                       & Franklin Resources, Inc.                                                         & 004885                                                                           & 373871223                                                                        & 2016-07-28 00:00:00                                                              & 2016-07-28 00:00:00                                                              & FRRI                                                                            \\\\\n",
       "\\end{tabular}\n"
      ],
      "text/markdown": [
       "\n",
       "| keydeveventtypeid | headline | headline_date | announcedate | companyname | gvkey | keydevid | mostimportantdateutc | i.mostimportantdateutc | ibtic |\n",
       "|---|---|---|---|---|---|---|---|---|---|\n",
       "| 48                                                                               | AMR Corporation, Q1 2005 Earnings Call, Apr 20, 2005                             | 2005-04-20                                                                       | 2005-04-04                                                                       | American Airlines Group Inc.                                                     | 001045                                                                           |   1551245                                                                        | 2005-04-20 00:00:00                                                              | 2005-04-20 00:00:00                                                              | AMR                                                                              |\n",
       "| 48                                                                               | Adams Resources & Energy, Inc., Q3 2017 Pre Recorded Earnings Call, Nov 10, 2017 | 2017-11-10                                                                       | 2017-11-07                                                                       | Adams Resources & Energy, Inc.                                                   | 001121                                                                           | 542907441                                                                        | 2017-11-10 00:00:00                                                              | 2017-11-10 00:00:00                                                              | AA3B                                                                             |\n",
       "| 48                                                                               | Rio Tinto Alcan, Inc., Q1 2007 Earnings Call, Apr 24, 2007                       | 2007-04-24                                                                       | 2007-04-24                                                                       | Rio Tinto Alcan Inc.                                                             | 001243                                                                           |   4021541                                                                        | 2007-04-24 00:00:00                                                              | 2007-04-24 00:00:00                                                              | AL                                                                               |\n",
       "| 48                                                                               | AFLAC Inc., Q4 2004 Earnings Call, Feb-03-2005                                   | 2005-02-03                                                                       | 2005-01-24                                                                       | Aflac Incorporated                                                               | 001449                                                                           |   1010210                                                                        | 2005-02-03 00:10:00                                                              | 2005-02-03 00:10:00                                                              | AFL                                                                              |\n",
       "| 48                                                                               | AFLAC Inc., Q4 2006 Earnings Call, Feb-01-2007                                   | 2007-02-01                                                                       | 2007-01-23                                                                       | Aflac Incorporated                                                               | 001449                                                                           |   3436575                                                                        | 2007-02-01 00:10:00                                                              | 2007-02-01 00:10:00                                                              | AFL                                                                              |\n",
       "| 48                                                                               | AFLAC Inc., Q4 2005 Earnings Call, Feb-01-2006                                   | 2006-02-01                                                                       | 2006-01-23                                                                       | Aflac Incorporated                                                               | 001449                                                                           |   2550730                                                                        | 2006-02-01 00:10:00                                                              | 2006-02-01 00:10:00                                                              | AFL                                                                              |\n",
       "| 48                                                                               | American International Group, Inc., Q3 2010 Earnings Call, Nov 05, 2010          | 2010-11-05                                                                       | 2010-11-02                                                                       | American International Group, Inc.                                               | 001487                                                                           | 115247098                                                                        | 2010-11-05 00:00:00                                                              | 2010-11-05 00:00:00                                                              | AIG                                                                              |\n",
       "| 48                                                                               | Andrew Corporation, Q3 2007 Earnings Call, Aug 01, 2007                          | 2007-08-01                                                                       | 2006-12-23                                                                       | Andrew LLC                                                                       | 001651                                                                           |   3386785                                                                        | 2007-08-01 00:00:00                                                              | 2007-08-01 00:00:00                                                              | ANDW                                                                             |\n",
       "| 48                                                                               | Andrew Corporation, Q4 2007 Earnings Call, Nov 01, 2007                          | 2007-11-01                                                                       | 2006-12-23                                                                       | Andrew LLC                                                                       | 001651                                                                           |   3386786                                                                        | 2007-11-01 00:00:00                                                              | 2007-11-01 00:00:00                                                              | ANDW                                                                             |\n",
       "| 48                                                                               | Apple Inc., Q2 2005 Earnings Call, Apr 13, 2005                                  | 2005-04-13                                                                       | 2005-03-28                                                                       | Apple Inc.                                                                       | 001690                                                                           |   1533943                                                                        | 2005-04-13 00:00:00                                                              | 2005-04-13 00:00:00                                                              | AAPL                                                                             |\n",
       "| 48                                                                               | Apple Inc., Q4 2006 Earnings Call, Oct 18, 2006                                  | 2006-10-18                                                                       | 2006-03-20                                                                       | Apple Inc.                                                                       | 001690                                                                           |   2710236                                                                        | 2006-10-18 00:00:00                                                              | 2006-10-18 00:00:00                                                              | AAPL                                                                             |\n",
       "| 48                                                                               | Apple Inc., Q2 2015 Earnings Call, Apr 28, 2015                                  | 2015-04-28                                                                       | 2015-03-30                                                                       | Apple Inc.                                                                       | 001690                                                                           | 289919480                                                                        | 2015-04-27 21:00:00                                                              | 2015-04-27 21:00:00                                                              | AAPL                                                                             |\n",
       "| 48                                                                               | Ashland Inc., Q2 2005 Earnings Call, Apr 25, 2005                                | 2005-04-25                                                                       | 2005-04-14                                                                       | Ashland Global Holdings Inc.                                                     | 001794                                                                           |   1566583                                                                        | 2005-04-25 00:00:00                                                              | 2005-04-25 00:00:00                                                              | ASH                                                                              |\n",
       "| 48                                                                               | Southern Company Gas, Q4 2015 Earnings Calls, Feb 11, 2016                       | 2016-02-11                                                                       | 2016-05-05                                                                       | Southern Company Gas                                                             | 001837                                                                           | 585210177                                                                        | 2016-02-11 00:00:00                                                              | 2016-02-11 00:00:00                                                              | AGLT                                                                             |\n",
       "| 48                                                                               | Automatic Data Processing, Inc., Q4 2006 Earnings Call, Jul 27, 2006             | 2006-07-27                                                                       | 2006-03-28                                                                       | Automatic Data Processing, Inc.                                                  | 001891                                                                           |   2729030                                                                        | 2006-07-27 00:00:00                                                              | 2006-07-27 00:00:00                                                              | AUD                                                                              |\n",
       "| 48                                                                               | British American Tobacco plc, Q3 2007 Earnings Call, Nov 01, 2007                | 2007-11-01                                                                       | 2007-11-01                                                                       | British American Tobacco p.l.c.                                                  | 001932                                                                           | 137432983                                                                        | 2007-11-01 00:00:00                                                              | 2007-11-01 00:00:00                                                              | BTI                                                                              |\n",
       "| 48                                                                               | BCE, Inc., Q2 2006 Earnings Call, Aug 02, 2006                                   | 2006-08-02                                                                       | 2006-01-31                                                                       | BCE Inc.                                                                         | 002137                                                                           |   2606067                                                                        | 2006-08-02 00:00:00                                                              | 2006-08-02 00:00:00                                                              | BCE2                                                                             |\n",
       "| 48                                                                               | Bob Evans Farms Inc., Q1 2008 Earnings Call, Aug 14, 2007                        | 2007-08-14                                                                       | 2007-06-05                                                                       | Bob Evans Farms, Inc.                                                            | 002282                                                                           |   4369217                                                                        | 2007-08-14 00:00:00                                                              | 2007-08-14 00:00:00                                                              | BOBE                                                                             |\n",
       "| 48                                                                               | Rexam plc, 11 Months 2011 Earnings Call, Nov 17, 2011                            | 2011-11-17                                                                       | 2011-11-16                                                                       | Rexam Ltd.                                                                       | 002338                                                                           | 145517263                                                                        | 2011-11-17 00:00:00                                                              | 2011-11-17 00:00:00                                                              | BWTR                                                                             |\n",
       "| 48                                                                               | TELUS Corporation, Q2 2008 Earnings Call, Aug 08, 2008                           | 2008-08-08                                                                       | 2008-04-09                                                                       | TELUS Corporation                                                                | 002408                                                                           |   5378191                                                                        | 2008-08-08 00:00:00                                                              | 2008-08-08 00:00:00                                                              | BCT1                                                                             |\n",
       "| 48                                                                               | TELUS Corporation, Q4 2006 Earnings Call, Feb 16, 2007                           | 2007-02-16                                                                       | 2007-02-16                                                                       | TELUS Corporation                                                                | 002408                                                                           | 137428321                                                                        | 2007-02-16 00:00:00                                                              | 2007-02-16 00:00:00                                                              | BCT1                                                                             |\n",
       "| 48                                                                               | TELUS Corporation, Q2 2007 Earnings Call, Aug 03, 2007                           | 2007-08-03                                                                       | 2007-03-15                                                                       | TELUS Corporation                                                                | 002408                                                                           |   3705452                                                                        | 2007-08-03 00:00:00                                                              | 2007-08-03 00:00:00                                                              | BCT1                                                                             |\n",
       "| 48                                                                               | BT Group plc, Q4 2006 Earnings Call, May 18, 2006                                | 2006-05-18                                                                       | 2006-05-18                                                                       | BT Group plc                                                                     | 002411                                                                           | 137435940                                                                        | 2006-05-18 00:00:00                                                              | 2006-05-18 00:00:00                                                              | BTY                                                                              |\n",
       "| 48                                                                               | BT Group plc, Q4 2007 Earnings Call, May 17, 2007                                | 2007-05-17                                                                       | 2007-05-16                                                                       | BT Group plc                                                                     | 002411                                                                           | 137427525                                                                        | 2007-05-17 00:00:00                                                              | 2007-05-17 00:00:00                                                              | BTY                                                                              |\n",
       "| 48                                                                               | BT Group plc, Q2 2007 Earnings Call, Nov 09, 2007                                | 2007-11-09                                                                       | 2007-11-09                                                                       | BT Group plc                                                                     | 002411                                                                           | 137430862                                                                        | 2007-11-09 00:00:00                                                              | 2007-11-09 00:00:00                                                              | BTY                                                                              |\n",
       "| 48                                                                               | BT Group plc, Q1 2007 Earnings Call, Jul 26, 2007                                | 2007-07-26                                                                       | 2007-07-26                                                                       | BT Group plc                                                                     | 002411                                                                           | 137429533                                                                        | 2007-07-26 00:00:00                                                              | 2007-07-26 00:00:00                                                              | BTY                                                                              |\n",
       "| 48                                                                               | BT Group plc, Q2 2006 Earnings Call, Nov 09, 2006                                | 2006-11-09                                                                       | 2006-11-09                                                                       | BT Group plc                                                                     | 002411                                                                           | 137428471                                                                        | 2006-11-09 00:00:00                                                              | 2006-11-09 00:00:00                                                              | BTY                                                                              |\n",
       "| 48                                                                               | My Freightworld Technologies, Inc., H1 2012 Earnings Call, Aug 28, 2012          | 2012-08-28                                                                       | 2012-08-28                                                                       | myFreightWorld Technologies, Inc.                                                | 002586                                                                           | 216182560                                                                        | 2012-08-28 00:00:00                                                              | 2012-08-28 00:00:00                                                              | FOGL                                                                             |\n",
       "| 48                                                                               | Canon Inc., Q2 2017 Earnings Call, Jul 27, 2017                                  | 2017-07-27                                                                       | 2017-07-17                                                                       | Canon Inc.                                                                       | 002721                                                                           | 531036687                                                                        | 2017-07-27 00:00:00                                                              | 2017-07-27 00:00:00                                                              | CANN                                                                             |\n",
       "| 48                                                                               | Canon Inc., Q1 2017 Earnings Call, Apr 26, 2017                                  | 2017-04-26                                                                       | 2017-04-26                                                                       | Canon Inc.                                                                       | 002721                                                                           | 428751170                                                                        | 2017-04-26 00:00:00                                                              | 2017-04-26 00:00:00                                                              | CANN                                                                             |\n",
       "| 48                                                                               | Canon Inc., Q3 2017 Earnings Call, Oct 24, 2017                                  | 2017-10-24                                                                       | 2017-09-26                                                                       | Canon Inc.                                                                       | 002721                                                                           | 538707756                                                                        | 2017-10-24 00:00:00                                                              | 2017-10-24 00:00:00                                                              | CANN                                                                             |\n",
       "| 48                                                                               | Canon Inc., 2017 Earnings Call, Jan 30, 2018                                     | 2018-01-30                                                                       | 2017-12-27                                                                       | Canon Inc.                                                                       | 002721                                                                           | 547795677                                                                        | 2018-01-30 00:00:00                                                              | 2018-01-30 00:00:00                                                              | CANN                                                                             |\n",
       "| 48                                                                               | Canon Inc., Q3 2016 Earnings Call, Oct 26, 2016                                  | 2016-10-26                                                                       | 2016-10-26                                                                       | Canon Inc.                                                                       | 002721                                                                           | 407257413                                                                        | 2016-10-26 00:00:00                                                              | 2016-10-26 00:00:00                                                              | CANN                                                                             |\n",
       "| 48                                                                               | Canon Inc., Q2 2016 Earnings Call, Jul 26, 2016                                  | 2016-07-26                                                                       | 2016-07-26                                                                       | Canon Inc.                                                                       | 002721                                                                           | 377775783                                                                        | 2016-07-26 00:00:00                                                              | 2016-07-26 00:00:00                                                              | CANN                                                                             |\n",
       "| 48                                                                               | Canon Inc., 2015 Earnings Call, Jan 27, 2016                                     | 2016-01-27                                                                       | 2016-01-27                                                                       | Canon Inc.                                                                       | 002721                                                                           | 323519389                                                                        | 2016-01-27 00:00:00                                                              | 2016-01-27 00:00:00                                                              | CANN                                                                             |\n",
       "| 48                                                                               | Canon Inc., Q3 2015 Earnings Call, Oct 27, 2015                                  | 2015-10-27                                                                       | 2015-10-27                                                                       | Canon Inc.                                                                       | 002721                                                                           | 315277140                                                                        | 2015-10-27 00:00:00                                                              | 2015-10-27 00:00:00                                                              | CANN                                                                             |\n",
       "| 48                                                                               | Canon Inc., Q2 2013 Earnings Call, Jul 24, 2013                                  | 2013-07-24                                                                       | 2013-07-24                                                                       | Canon Inc.                                                                       | 002721                                                                           | 243540931                                                                        | 2013-07-24 00:00:00                                                              | 2013-07-24 00:00:00                                                              | CANN                                                                             |\n",
       "| 48                                                                               | Canon Inc., Q1 2013 Earnings Call, Apr 24, 2013                                  | 2013-04-24                                                                       | 2013-04-24                                                                       | Canon Inc.                                                                       | 002721                                                                           | 237395502                                                                        | 2013-04-24 00:00:00                                                              | 2013-04-24 00:00:00                                                              | CANN                                                                             |\n",
       "| 48                                                                               | Canon Inc., Q1 2014 Earnings Call, Apr 24, 2014                                  | 2014-04-24                                                                       | 2014-04-24                                                                       | Canon Inc.                                                                       | 002721                                                                           | 262539550                                                                        | 2014-04-24 00:00:00                                                              | 2014-04-24 00:00:00                                                              | CANN                                                                             |\n",
       "| 48                                                                               | Canon Inc., 2013 Earnings Call, Jan 29, 2014                                     | 2014-01-29                                                                       | 2014-01-29                                                                       | Canon Inc.                                                                       | 002721                                                                           | 254838816                                                                        | 2014-01-29 00:00:00                                                              | 2014-01-29 00:00:00                                                              | CANN                                                                             |\n",
       "| 48                                                                               | Canon Inc., Q3 2013 Earnings Call, Oct 24, 2013                                  | 2013-10-24                                                                       | 2013-10-24                                                                       | Canon Inc.                                                                       | 002721                                                                           | 248822476                                                                        | 2013-10-24 00:00:00                                                              | 2013-10-24 00:00:00                                                              | CANN                                                                             |\n",
       "| 48                                                                               | Canon Inc., Q2 2014 Earnings Call, Jul 24, 2014                                  | 2014-07-24                                                                       | 2014-07-24                                                                       | Canon Inc.                                                                       | 002721                                                                           | 269025144                                                                        | 2014-07-24 00:00:00                                                              | 2014-07-24 00:00:00                                                              | CANN                                                                             |\n",
       "| 48                                                                               | Canon Inc., 2014 Earnings Call, Jan 28, 2015                                     | 2015-01-28                                                                       | 2015-01-28                                                                       | Canon Inc.                                                                       | 002721                                                                           | 283093746                                                                        | 2015-01-28 00:00:00                                                              | 2015-01-28 00:00:00                                                              | CANN                                                                             |\n",
       "| 48                                                                               | Canon Inc., Q3 2014 Earnings Call, Oct 27, 2014                                  | 2014-10-27                                                                       | 2014-10-27                                                                       | Canon Inc.                                                                       | 002721                                                                           | 275299347                                                                        | 2014-10-27 00:00:00                                                              | 2014-10-27 00:00:00                                                              | CANN                                                                             |\n",
       "| 48                                                                               | Canon Inc., Q2 2015 Earnings Call, Jul 27, 2015                                  | 2015-07-27                                                                       | 2015-07-27                                                                       | Canon Inc.                                                                       | 002721                                                                           | 307776860                                                                        | 2015-07-27 00:00:00                                                              | 2015-07-27 00:00:00                                                              | CANN                                                                             |\n",
       "| 48                                                                               | Canon Inc., 2009 Earnings Call, Jan-27-2010                                      | 2010-01-27                                                                       | 2010-01-26                                                                       | Canon Inc.                                                                       | 002721                                                                           | 109405524                                                                        | 2010-01-27 00:00:00                                                              | 2010-01-27 00:00:00                                                              | CANN                                                                             |\n",
       "| 48                                                                               | Canon Inc., Q3 2009 Earnings Call, Oct 27, 2009                                  | 2009-10-27                                                                       | 2009-10-27                                                                       | Canon Inc.                                                                       | 002721                                                                           |  79218524                                                                        | 2009-10-27 00:00:00                                                              | 2009-10-27 00:00:00                                                              | CANN                                                                             |\n",
       "| 48                                                                               | Canon Inc., Q1 2007 Earnings Call, Apr 24, 2007                                  | 2007-04-24                                                                       | 2007-04-23                                                                       | Canon Inc.                                                                       | 002721                                                                           |   4941032                                                                        | 2007-04-24 00:00:00                                                              | 2007-04-24 00:00:00                                                              | CANN                                                                             |\n",
       "| 48                                                                               | Canon Inc., Q1 2012 Earnings Call, Apr 25, 2012                                  | 2012-04-25                                                                       | 2012-04-18                                                                       | Canon Inc.                                                                       | 002721                                                                           | 201625095                                                                        | 2012-04-25 00:00:00                                                              | 2012-04-25 00:00:00                                                              | CANN                                                                             |\n",
       "| 48                                                                               | Canon Inc., 2011 Earnings Call, Jan 30, 2012                                     | 2012-01-30                                                                       | 2012-01-17                                                                       | Canon Inc.                                                                       | 002721                                                                           | 146115533                                                                        | 2012-01-30 00:00:00                                                              | 2012-01-30 00:00:00                                                              | CANN                                                                             |\n",
       "| 48                                                                               | Canon Inc., 2012 Earnings Call, Jan 30, 2013                                     | 2013-01-30                                                                       | 2013-01-30                                                                       | Canon Inc.                                                                       | 002721                                                                           | 226871837                                                                        | 2013-01-30 00:00:00                                                              | 2013-01-30 00:00:00                                                              | CANN                                                                             |\n",
       "| 48                                                                               | Canon Inc., Q3 2012 Earnings Call, Oct 25, 2012                                  | 2012-10-25                                                                       | 2012-10-25                                                                       | Canon Inc.                                                                       | 002721                                                                           | 226667277                                                                        | 2012-10-25 00:00:00                                                              | 2012-10-25 00:00:00                                                              | CANN                                                                             |\n",
       "| 48                                                                               | Canon Inc., Q2 2012 Earnings Call, Jul 25, 2012                                  | 2012-07-25                                                                       | 2012-07-25                                                                       | Canon Inc.                                                                       | 002721                                                                           | 214636083                                                                        | 2012-07-25 00:00:00                                                              | 2012-07-25 00:00:00                                                              | CANN                                                                             |\n",
       "| 48                                                                               | Canon Inc., Q3 2007 Earnings Call, Oct 25, 2007                                  | 2007-10-25                                                                       | 2007-10-23                                                                       | Canon Inc.                                                                       | 002721                                                                           |   4941029                                                                        | 2007-10-25 00:00:00                                                              | 2007-10-25 00:00:00                                                              | CANN                                                                             |\n",
       "| 48                                                                               | Canon Inc., 2010 Earnings Call, Jan 27, 2011                                     | 2011-01-27                                                                       | 2011-01-20                                                                       | Canon Inc.                                                                       | 002721                                                                           | 118482025                                                                        | 2011-01-27 00:00:00                                                              | 2011-01-27 00:00:00                                                              | CANN                                                                             |\n",
       "| 48                                                                               | Canon Inc., Q1 2011 Earnings Call, Apr 26, 2011                                  | 2011-04-26                                                                       | 2011-04-23                                                                       | Canon Inc.                                                                       | 002721                                                                           | 130534522                                                                        | 2011-04-26 00:00:00                                                              | 2011-04-26 00:00:00                                                              | CANN                                                                             |\n",
       "| 48                                                                               | Canon Inc., Q1 2008 Earnings Call, Apr 27, 2008                                  | 2008-04-27                                                                       | 2008-04-27                                                                       | Canon Inc.                                                                       | 002721                                                                           | 137429489                                                                        | 2008-04-27 00:00:00                                                              | 2008-04-27 00:00:00                                                              | CANN                                                                             |\n",
       "| 48                                                                               | Canon Inc., Q4 2007 Earnings Call, Jan 30, 2008                                  | 2008-01-30                                                                       | 2008-01-30                                                                       | Canon Inc.                                                                       | 002721                                                                           | 137431697                                                                        | 2008-01-30 00:00:00                                                              | 2008-01-30 00:00:00                                                              | CANN                                                                             |\n",
       "| 48                                                                               | Canon Inc., Q2 2011 Earnings Call, Jul 25, 2011                                  | 2011-07-25                                                                       | 2011-07-19                                                                       | Canon Inc.                                                                       | 002721                                                                           | 137657094                                                                        | 2011-07-25 00:00:00                                                              | 2011-07-25 00:00:00                                                              | CANN                                                                             |\n",
       "| 48                                                                               | Canon Inc., Q3 2011 Earnings Call, Oct 25, 2011                                  | 2011-10-25                                                                       | 2011-10-18                                                                       | Canon Inc.                                                                       | 002721                                                                           | 141781145                                                                        | 2011-10-25 00:00:00                                                              | 2011-10-25 00:00:00                                                              | CANN                                                                             |\n",
       "| 48                                                                               | Canon Inc., Q1 2018 Earnings Call, Apr 25, 2018                                  | 2018-04-25                                                                       | 2018-04-25                                                                       | Canon Inc.                                                                       | 002721                                                                           | 560456382                                                                        | 2018-04-25 00:00:00                                                              | 2018-04-25 00:00:00                                                              | CANN                                                                             |\n",
       "| 48                                                                               | Canon Inc., Q1 2015 Earnings Call, Apr 27, 2015                                  | 2015-04-27                                                                       | 2015-04-27                                                                       | Canon Inc.                                                                       | 002721                                                                           | 292547493                                                                        | 2015-04-27 00:00:00                                                              | 2015-04-27 00:00:00                                                              | CANN                                                                             |\n",
       "| 48                                                                               | Canon Inc., H1 2007 Earnings Call, Jul 26, 2007                                  | 2007-07-26                                                                       | 2007-07-26                                                                       | Canon Inc.                                                                       | 002721                                                                           |   4769756                                                                        | 2007-07-26 00:00:00                                                              | 2007-07-26 00:00:00                                                              | CANN                                                                             |\n",
       "| 48                                                                               | Canon Inc., Q2 2006 Earnings Call, Jul 27, 2006                                  | 2006-07-27                                                                       | 2006-07-27                                                                       | Canon Inc.                                                                       | 002721                                                                           |   3057511                                                                        | 2006-07-27 00:00:00                                                              | 2006-07-27 00:00:00                                                              | CANN                                                                             |\n",
       "| 48                                                                               | Canon Inc., Q1 2016 Earnings Call, Apr 26, 2016                                  | 2016-04-26                                                                       | 2016-04-26                                                                       | Canon Inc.                                                                       | 002721                                                                           | 331981363                                                                        | 2016-04-26 00:00:00                                                              | 2016-04-26 00:00:00                                                              | CANN                                                                             |\n",
       "| 48                                                                               | Canon Inc., 2016 Earnings Call, Jan 31, 2017                                     | 2017-01-31                                                                       | 2017-01-31                                                                       | Canon Inc.                                                                       | 002721                                                                           | 418562670                                                                        | 2017-01-31 00:00:00                                                              | 2017-01-31 00:00:00                                                              | CANN                                                                             |\n",
       "| 48                                                                               | Caterpillar Inc., Q3 2005 Earnings Call, Oct 20, 2005                            | 2005-10-20                                                                       | 2005-04-01                                                                       | Caterpillar Inc.                                                                 | 002817                                                                           |   1542397                                                                        | 2005-10-20 00:00:00                                                              | 2005-10-20 00:00:00                                                              | CAT                                                                              |\n",
       "| 48                                                                               | CA, Inc., Q1 2007 Earnings Call, Aug 14, 2006                                    | 2006-08-14                                                                       | 2006-08-07                                                                       | CA, Inc.                                                                         | 003310                                                                           |   3084025                                                                        | 2006-08-14 00:00:00                                                              | 2006-08-14 00:00:00                                                              | CASI                                                                             |\n",
       "| 48                                                                               | Corning Inc., Q4 2005 Earnings Call, Feb 03, 2006                                | 2006-02-03                                                                       | 2006-01-24                                                                       | Corning Incorporated                                                             | 003532                                                                           |   2554362                                                                        | 2006-02-03 00:00:00                                                              | 2006-02-03 00:00:00                                                              | GLW                                                                              |\n",
       "| 48                                                                               | Curtiss-Wright Corp., Q2 2006 Earnings Call, Jul-29-2006                         | 2006-07-29                                                                       | 2006-07-06                                                                       | Curtiss-Wright Corporation                                                       | 003662                                                                           |   3014905                                                                        | 2006-07-29 03:00:00                                                              | 2006-07-29 03:00:00                                                              | CW                                                                               |\n",
       "| 48                                                                               | Deere & Co., Q3 2005 Earnings Call, Aug 16, 2005                                 | 2005-08-16                                                                       | 2005-05-12                                                                       | Deere & Company                                                                  | 003835                                                                           |   1617893                                                                        | 2005-08-16 00:00:00                                                              | 2005-08-16 00:00:00                                                              | DE                                                                               |\n",
       "| 48                                                                               | Western Forest Products Inc., Q2 2007 Earnings Call, Aug 14, 2007                | 2007-08-14                                                                       | 2007-08-13                                                                       | Western Forest Products Inc.                                                     | 004019                                                                           |   4711166                                                                        | 2007-08-14 00:00:00                                                              | 2007-08-14 00:00:00                                                              | DOM1                                                                             |\n",
       "| 48                                                                               | SORL Auto Parts, Inc., Q2 2018 Earnings Call, Aug 15, 2018                       | 2018-08-15                                                                       | 2018-08-07                                                                       | SORL Auto Parts, Inc.                                                            | 004341                                                                           | 576595244                                                                        | 2018-08-15 00:01:00                                                              | 2018-08-15 00:01:00                                                              | SAUP                                                                             |\n",
       "| 48                                                                               | SORL Auto Parts, Inc., Q4 2006 Earnings Call, Mar-27-2007                        | 2007-03-27                                                                       | 2007-03-21                                                                       | SORL Auto Parts, Inc.                                                            | 004341                                                                           |   3751671                                                                        | 2007-03-27 00:00:00                                                              | 2007-03-27 00:00:00                                                              | SAUP                                                                             |\n",
       "| 48                                                                               | SORL Auto Parts, Inc., Q1 2007 Earnings Call, May-16-2007                        | 2007-05-16                                                                       | 2007-05-14                                                                       | SORL Auto Parts, Inc.                                                            | 004341                                                                           |   4193031                                                                        | 2007-05-16 00:00:00                                                              | 2007-05-16 00:00:00                                                              | SAUP                                                                             |\n",
       "| 48                                                                               | Viskase Companies Inc., Q3 2013 Earnings Call, Nov 21, 2013                      | 2013-11-21                                                                       | 2013-11-20                                                                       | Viskase Companies, Inc.                                                          | 004412                                                                           | 254518145                                                                        | 2013-11-21 00:00:00                                                              | 2013-11-21 00:00:00                                                              | ENVR                                                                             |\n",
       "| 48                                                                               | Viskase Companies Inc., Q2 2014 Earnings Call, Aug 22, 2013                      | 2013-08-22                                                                       | 2013-08-21                                                                       | Viskase Companies, Inc.                                                          | 004412                                                                           | 280004568                                                                        | 2013-08-22 00:00:00                                                              | 2013-08-22 00:00:00                                                              | ENVR                                                                             |\n",
       "| 48                                                                               | Equifax Inc., Q4 2011 Earnings Call, Mar 06, 2012                                | 2012-03-06                                                                       | 2012-03-05                                                                       | Equifax Inc.                                                                     | 004423                                                                           | 172373696                                                                        | 2012-03-06 00:00:00                                                              | 2012-03-06 00:00:00                                                              | EFX                                                                              |\n",
       "| 48                                                                               | DMC Global Inc., Q2 2017 Earnings Call, Jul 28, 2017                             | 2017-07-28                                                                       | 2017-07-13                                                                       | DMC Global Inc.                                                                  | 004497                                                                           | 530301302                                                                        | 2017-07-27 21:00:00                                                              | 2017-07-27 21:00:00                                                              | BOOM                                                                             |\n",
       "| 48                                                                               | US Bancorp, Q3 2005 Earnings Call, Oct 18, 2005                                  | 2005-10-18                                                                       | 2005-10-07                                                                       | U.S. Bancorp                                                                     | 004723                                                                           |   1907380                                                                        | 2005-10-18 00:00:00                                                              | 2005-10-18 00:00:00                                                              | FNAC                                                                             |\n",
       "| 48                                                                               | Franklin Resources Inc., Q2 2012 Pre Recorded Earnings Call, May 02, 2012        | 2012-05-02                                                                       | 2012-04-12                                                                       | Franklin Resources, Inc.                                                         | 004885                                                                           | 184476420                                                                        | 2012-05-02 00:00:00                                                              | 2012-05-02 00:00:00                                                              | FRRI                                                                             |\n",
       "| 48                                                                               | Franklin Resources Inc., Q1 2012 Earnings Call, Feb 01, 2012                     | 2012-02-01                                                                       | 2012-01-13                                                                       | Franklin Resources, Inc.                                                         | 004885                                                                           | 145980875                                                                        | 2012-02-01 00:00:00                                                              | 2012-02-01 00:00:00                                                              | FRRI                                                                             |\n",
       "| 48                                                                               | Franklin Resources Inc., Q4 2012 Pre Recorded Earnings Call, Oct 25, 2012        | 2012-10-25                                                                       | 2012-10-11                                                                       | Franklin Resources, Inc.                                                         | 004885                                                                           | 222841106                                                                        | 2012-10-25 00:00:00                                                              | 2012-10-25 00:00:00                                                              | FRRI                                                                             |\n",
       "| 48                                                                               | Franklin Resources Inc., Q1 2013 Pre Recorded Earnings Call, Feb 01, 2013        | 2013-02-01                                                                       | 2013-01-10                                                                       | Franklin Resources, Inc.                                                         | 004885                                                                           | 225974384                                                                        | 2013-02-01 00:00:00                                                              | 2013-02-01 00:00:00                                                              | FRRI                                                                             |\n",
       "| 48                                                                               | Franklin Resources Inc., Q4 2011 Earnings Call, Oct 27, 2011                     | 2011-10-27                                                                       | 2011-10-11                                                                       | Franklin Resources, Inc.                                                         | 004885                                                                           | 141522446                                                                        | 2011-10-27 00:00:00                                                              | 2011-10-27 00:00:00                                                              | FRRI                                                                             |\n",
       "| 48                                                                               | Franklin Resources, Inc., Q3 2015 Pre Recorded Earnings Call, Jul 29, 2015       | 2015-07-29                                                                       | 2015-07-02                                                                       | Franklin Resources, Inc.                                                         | 004885                                                                           | 305856031                                                                        | 2015-07-29 00:00:00                                                              | 2015-07-29 00:00:00                                                              | FRRI                                                                             |\n",
       "| 48                                                                               | Franklin Resources, Inc., Q2 2015 Pre Recorded Earnings Call, Apr 29, 2015       | 2015-04-29                                                                       | 2015-04-14                                                                       | Franklin Resources, Inc.                                                         | 004885                                                                           | 291347622                                                                        | 2015-04-29 00:00:00                                                              | 2015-04-29 00:00:00                                                              | FRRI                                                                             |\n",
       "| 48                                                                               | Franklin Resources Inc., Q3 2014 Pre Recorded Earnings Call, Jul 30, 2014        | 2014-07-30                                                                       | 2014-07-30                                                                       | Franklin Resources, Inc.                                                         | 004885                                                                           | 269353081                                                                        | 2014-07-30 00:00:00                                                              | 2014-07-30 00:00:00                                                              | FRRI                                                                             |\n",
       "| 48                                                                               | Franklin Resources Inc., Q4 2014 Pre Recorded Earnings Call, Oct 27, 2014        | 2014-10-27                                                                       | 2014-10-10                                                                       | Franklin Resources, Inc.                                                         | 004885                                                                           | 274265406                                                                        | 2014-10-27 00:00:00                                                              | 2014-10-27 00:00:00                                                              | FRRI                                                                             |\n",
       "| 48                                                                               | Franklin Resources, Inc., Q1 2015 Pre Recorded Earnings Call, Jan 30, 2015       | 2015-01-30                                                                       | 2015-01-08                                                                       | Franklin Resources, Inc.                                                         | 004885                                                                           | 281512568                                                                        | 2015-01-30 00:00:00                                                              | 2015-01-30 00:00:00                                                              | FRRI                                                                             |\n",
       "| 48                                                                               | Franklin Resources Inc., Q2 2013 Pre Recorded Earnings Call, Apr 30, 2013        | 2013-04-30                                                                       | 2013-04-10                                                                       | Franklin Resources, Inc.                                                         | 004885                                                                           | 235948626                                                                        | 2013-04-30 00:00:00                                                              | 2013-04-30 00:00:00                                                              | FRRI                                                                             |\n",
       "| 48                                                                               | Franklin Resources Inc., Q3 2013 Pre Recorded Earnings Call, Jul 29, 2013        | 2013-07-29                                                                       | 2013-07-03                                                                       | Franklin Resources, Inc.                                                         | 004885                                                                           | 243693032                                                                        | 2013-07-29 00:00:00                                                              | 2013-07-29 00:00:00                                                              | FRRI                                                                             |\n",
       "| 48                                                                               | Franklin Resources Inc., Q2 2014 Pre Recorded Earnings Call, Apr 28, 2014        | 2014-04-28                                                                       | 2014-04-11                                                                       | Franklin Resources, Inc.                                                         | 004885                                                                           | 261915714                                                                        | 2014-04-28 00:00:00                                                              | 2014-04-28 00:00:00                                                              | FRRI                                                                             |\n",
       "| 48                                                                               | Franklin Resources Inc., Q1 2014 Pre Recorded Earnings Call, Jan 30, 2014        | 2014-01-30                                                                       | 2014-01-10                                                                       | Franklin Resources, Inc.                                                         | 004885                                                                           | 253997936                                                                        | 2014-01-30 00:00:00                                                              | 2014-01-30 00:00:00                                                              | FRRI                                                                             |\n",
       "| 48                                                                               | Franklin Resources Inc., Q4 2013 Pre Recorded Earnings Call, Oct 24, 2013        | 2013-10-24                                                                       | 2013-10-07                                                                       | Franklin Resources, Inc.                                                         | 004885                                                                           | 247855378                                                                        | 2013-10-24 00:00:00                                                              | 2013-10-24 00:00:00                                                              | FRRI                                                                             |\n",
       "| 48                                                                               | Franklin Resources, Inc., Q2 2016 Pre Recorded Earnings Call, Apr 27, 2016       | 2016-04-27                                                                       | 2016-04-11                                                                       | Franklin Resources, Inc.                                                         | 004885                                                                           | 330709118                                                                        | 2016-04-27 00:00:00                                                              | 2016-04-27 00:00:00                                                              | FRRI                                                                             |\n",
       "| 48                                                                               | Franklin Resources Inc., Q3 2012 Pre Recorded Earnings Call, Jul 30, 2012        | 2012-07-30                                                                       | 2012-07-13                                                                       | Franklin Resources, Inc.                                                         | 004885                                                                           | 214174243                                                                        | 2012-07-30 00:00:00                                                              | 2012-07-30 00:00:00                                                              | FRRI                                                                             |\n",
       "| 48                                                                               | Franklin Resources, Inc., Q4 2015 Pre Recorded Earnings Call, Oct 22, 2015       | 2015-10-22                                                                       | 2015-10-07                                                                       | Franklin Resources, Inc.                                                         | 004885                                                                           | 313049944                                                                        | 2015-10-22 00:00:00                                                              | 2015-10-22 00:00:00                                                              | FRRI                                                                             |\n",
       "| 48                                                                               | Franklin Resources, Inc., Q1 2016 Pre Recorded Earnings Call, Feb 03, 2016       | 2016-02-03                                                                       | 2016-01-13                                                                       | Franklin Resources, Inc.                                                         | 004885                                                                           | 322094111                                                                        | 2016-02-03 00:00:00                                                              | 2016-02-03 00:00:00                                                              | FRRI                                                                             |\n",
       "| 48                                                                               | Franklin Resources, Inc., Q3 2016 Pre Recorded Earnings Call, Jul 28, 2016       | 2016-07-28                                                                       | 2016-07-11                                                                       | Franklin Resources, Inc.                                                         | 004885                                                                           | 373871223                                                                        | 2016-07-28 00:00:00                                                              | 2016-07-28 00:00:00                                                              | FRRI                                                                             |\n",
       "\n"
      ],
      "text/plain": [
       "    keydeveventtypeid\n",
       "1   48               \n",
       "2   48               \n",
       "3   48               \n",
       "4   48               \n",
       "5   48               \n",
       "6   48               \n",
       "7   48               \n",
       "8   48               \n",
       "9   48               \n",
       "10  48               \n",
       "11  48               \n",
       "12  48               \n",
       "13  48               \n",
       "14  48               \n",
       "15  48               \n",
       "16  48               \n",
       "17  48               \n",
       "18  48               \n",
       "19  48               \n",
       "20  48               \n",
       "21  48               \n",
       "22  48               \n",
       "23  48               \n",
       "24  48               \n",
       "25  48               \n",
       "26  48               \n",
       "27  48               \n",
       "28  48               \n",
       "29  48               \n",
       "30  48               \n",
       "31  48               \n",
       "32  48               \n",
       "33  48               \n",
       "34  48               \n",
       "35  48               \n",
       "36  48               \n",
       "37  48               \n",
       "38  48               \n",
       "39  48               \n",
       "40  48               \n",
       "41  48               \n",
       "42  48               \n",
       "43  48               \n",
       "44  48               \n",
       "45  48               \n",
       "46  48               \n",
       "47  48               \n",
       "48  48               \n",
       "49  48               \n",
       "50  48               \n",
       "51  48               \n",
       "52  48               \n",
       "53  48               \n",
       "54  48               \n",
       "55  48               \n",
       "56  48               \n",
       "57  48               \n",
       "58  48               \n",
       "59  48               \n",
       "60  48               \n",
       "61  48               \n",
       "62  48               \n",
       "63  48               \n",
       "64  48               \n",
       "65  48               \n",
       "66  48               \n",
       "67  48               \n",
       "68  48               \n",
       "69  48               \n",
       "70  48               \n",
       "71  48               \n",
       "72  48               \n",
       "73  48               \n",
       "74  48               \n",
       "75  48               \n",
       "76  48               \n",
       "77  48               \n",
       "78  48               \n",
       "79  48               \n",
       "80  48               \n",
       "81  48               \n",
       "82  48               \n",
       "83  48               \n",
       "84  48               \n",
       "85  48               \n",
       "86  48               \n",
       "87  48               \n",
       "88  48               \n",
       "89  48               \n",
       "90  48               \n",
       "91  48               \n",
       "92  48               \n",
       "93  48               \n",
       "94  48               \n",
       "95  48               \n",
       "96  48               \n",
       "97  48               \n",
       "98  48               \n",
       "99  48               \n",
       "100 48               \n",
       "    headline                                                                        \n",
       "1   AMR Corporation, Q1 2005 Earnings Call, Apr 20, 2005                            \n",
       "2   Adams Resources & Energy, Inc., Q3 2017 Pre Recorded Earnings Call, Nov 10, 2017\n",
       "3   Rio Tinto Alcan, Inc., Q1 2007 Earnings Call, Apr 24, 2007                      \n",
       "4   AFLAC Inc., Q4 2004 Earnings Call, Feb-03-2005                                  \n",
       "5   AFLAC Inc., Q4 2006 Earnings Call, Feb-01-2007                                  \n",
       "6   AFLAC Inc., Q4 2005 Earnings Call, Feb-01-2006                                  \n",
       "7   American International Group, Inc., Q3 2010 Earnings Call, Nov 05, 2010         \n",
       "8   Andrew Corporation, Q3 2007 Earnings Call, Aug 01, 2007                         \n",
       "9   Andrew Corporation, Q4 2007 Earnings Call, Nov 01, 2007                         \n",
       "10  Apple Inc., Q2 2005 Earnings Call, Apr 13, 2005                                 \n",
       "11  Apple Inc., Q4 2006 Earnings Call, Oct 18, 2006                                 \n",
       "12  Apple Inc., Q2 2015 Earnings Call, Apr 28, 2015                                 \n",
       "13  Ashland Inc., Q2 2005 Earnings Call, Apr 25, 2005                               \n",
       "14  Southern Company Gas, Q4 2015 Earnings Calls, Feb 11, 2016                      \n",
       "15  Automatic Data Processing, Inc., Q4 2006 Earnings Call, Jul 27, 2006            \n",
       "16  British American Tobacco plc, Q3 2007 Earnings Call, Nov 01, 2007               \n",
       "17  BCE, Inc., Q2 2006 Earnings Call, Aug 02, 2006                                  \n",
       "18  Bob Evans Farms Inc., Q1 2008 Earnings Call, Aug 14, 2007                       \n",
       "19  Rexam plc, 11 Months 2011 Earnings Call, Nov 17, 2011                           \n",
       "20  TELUS Corporation, Q2 2008 Earnings Call, Aug 08, 2008                          \n",
       "21  TELUS Corporation, Q4 2006 Earnings Call, Feb 16, 2007                          \n",
       "22  TELUS Corporation, Q2 2007 Earnings Call, Aug 03, 2007                          \n",
       "23  BT Group plc, Q4 2006 Earnings Call, May 18, 2006                               \n",
       "24  BT Group plc, Q4 2007 Earnings Call, May 17, 2007                               \n",
       "25  BT Group plc, Q2 2007 Earnings Call, Nov 09, 2007                               \n",
       "26  BT Group plc, Q1 2007 Earnings Call, Jul 26, 2007                               \n",
       "27  BT Group plc, Q2 2006 Earnings Call, Nov 09, 2006                               \n",
       "28  My Freightworld Technologies, Inc., H1 2012 Earnings Call, Aug 28, 2012         \n",
       "29  Canon Inc., Q2 2017 Earnings Call, Jul 27, 2017                                 \n",
       "30  Canon Inc., Q1 2017 Earnings Call, Apr 26, 2017                                 \n",
       "31  Canon Inc., Q3 2017 Earnings Call, Oct 24, 2017                                 \n",
       "32  Canon Inc., 2017 Earnings Call, Jan 30, 2018                                    \n",
       "33  Canon Inc., Q3 2016 Earnings Call, Oct 26, 2016                                 \n",
       "34  Canon Inc., Q2 2016 Earnings Call, Jul 26, 2016                                 \n",
       "35  Canon Inc., 2015 Earnings Call, Jan 27, 2016                                    \n",
       "36  Canon Inc., Q3 2015 Earnings Call, Oct 27, 2015                                 \n",
       "37  Canon Inc., Q2 2013 Earnings Call, Jul 24, 2013                                 \n",
       "38  Canon Inc., Q1 2013 Earnings Call, Apr 24, 2013                                 \n",
       "39  Canon Inc., Q1 2014 Earnings Call, Apr 24, 2014                                 \n",
       "40  Canon Inc., 2013 Earnings Call, Jan 29, 2014                                    \n",
       "41  Canon Inc., Q3 2013 Earnings Call, Oct 24, 2013                                 \n",
       "42  Canon Inc., Q2 2014 Earnings Call, Jul 24, 2014                                 \n",
       "43  Canon Inc., 2014 Earnings Call, Jan 28, 2015                                    \n",
       "44  Canon Inc., Q3 2014 Earnings Call, Oct 27, 2014                                 \n",
       "45  Canon Inc., Q2 2015 Earnings Call, Jul 27, 2015                                 \n",
       "46  Canon Inc., 2009 Earnings Call, Jan-27-2010                                     \n",
       "47  Canon Inc., Q3 2009 Earnings Call, Oct 27, 2009                                 \n",
       "48  Canon Inc., Q1 2007 Earnings Call, Apr 24, 2007                                 \n",
       "49  Canon Inc., Q1 2012 Earnings Call, Apr 25, 2012                                 \n",
       "50  Canon Inc., 2011 Earnings Call, Jan 30, 2012                                    \n",
       "51  Canon Inc., 2012 Earnings Call, Jan 30, 2013                                    \n",
       "52  Canon Inc., Q3 2012 Earnings Call, Oct 25, 2012                                 \n",
       "53  Canon Inc., Q2 2012 Earnings Call, Jul 25, 2012                                 \n",
       "54  Canon Inc., Q3 2007 Earnings Call, Oct 25, 2007                                 \n",
       "55  Canon Inc., 2010 Earnings Call, Jan 27, 2011                                    \n",
       "56  Canon Inc., Q1 2011 Earnings Call, Apr 26, 2011                                 \n",
       "57  Canon Inc., Q1 2008 Earnings Call, Apr 27, 2008                                 \n",
       "58  Canon Inc., Q4 2007 Earnings Call, Jan 30, 2008                                 \n",
       "59  Canon Inc., Q2 2011 Earnings Call, Jul 25, 2011                                 \n",
       "60  Canon Inc., Q3 2011 Earnings Call, Oct 25, 2011                                 \n",
       "61  Canon Inc., Q1 2018 Earnings Call, Apr 25, 2018                                 \n",
       "62  Canon Inc., Q1 2015 Earnings Call, Apr 27, 2015                                 \n",
       "63  Canon Inc., H1 2007 Earnings Call, Jul 26, 2007                                 \n",
       "64  Canon Inc., Q2 2006 Earnings Call, Jul 27, 2006                                 \n",
       "65  Canon Inc., Q1 2016 Earnings Call, Apr 26, 2016                                 \n",
       "66  Canon Inc., 2016 Earnings Call, Jan 31, 2017                                    \n",
       "67  Caterpillar Inc., Q3 2005 Earnings Call, Oct 20, 2005                           \n",
       "68  CA, Inc., Q1 2007 Earnings Call, Aug 14, 2006                                   \n",
       "69  Corning Inc., Q4 2005 Earnings Call, Feb 03, 2006                               \n",
       "70  Curtiss-Wright Corp., Q2 2006 Earnings Call, Jul-29-2006                        \n",
       "71  Deere & Co., Q3 2005 Earnings Call, Aug 16, 2005                                \n",
       "72  Western Forest Products Inc., Q2 2007 Earnings Call, Aug 14, 2007               \n",
       "73  SORL Auto Parts, Inc., Q2 2018 Earnings Call, Aug 15, 2018                      \n",
       "74  SORL Auto Parts, Inc., Q4 2006 Earnings Call, Mar-27-2007                       \n",
       "75  SORL Auto Parts, Inc., Q1 2007 Earnings Call, May-16-2007                       \n",
       "76  Viskase Companies Inc., Q3 2013 Earnings Call, Nov 21, 2013                     \n",
       "77  Viskase Companies Inc., Q2 2014 Earnings Call, Aug 22, 2013                     \n",
       "78  Equifax Inc., Q4 2011 Earnings Call, Mar 06, 2012                               \n",
       "79  DMC Global Inc., Q2 2017 Earnings Call, Jul 28, 2017                            \n",
       "80  US Bancorp, Q3 2005 Earnings Call, Oct 18, 2005                                 \n",
       "81  Franklin Resources Inc., Q2 2012 Pre Recorded Earnings Call, May 02, 2012       \n",
       "82  Franklin Resources Inc., Q1 2012 Earnings Call, Feb 01, 2012                    \n",
       "83  Franklin Resources Inc., Q4 2012 Pre Recorded Earnings Call, Oct 25, 2012       \n",
       "84  Franklin Resources Inc., Q1 2013 Pre Recorded Earnings Call, Feb 01, 2013       \n",
       "85  Franklin Resources Inc., Q4 2011 Earnings Call, Oct 27, 2011                    \n",
       "86  Franklin Resources, Inc., Q3 2015 Pre Recorded Earnings Call, Jul 29, 2015      \n",
       "87  Franklin Resources, Inc., Q2 2015 Pre Recorded Earnings Call, Apr 29, 2015      \n",
       "88  Franklin Resources Inc., Q3 2014 Pre Recorded Earnings Call, Jul 30, 2014       \n",
       "89  Franklin Resources Inc., Q4 2014 Pre Recorded Earnings Call, Oct 27, 2014       \n",
       "90  Franklin Resources, Inc., Q1 2015 Pre Recorded Earnings Call, Jan 30, 2015      \n",
       "91  Franklin Resources Inc., Q2 2013 Pre Recorded Earnings Call, Apr 30, 2013       \n",
       "92  Franklin Resources Inc., Q3 2013 Pre Recorded Earnings Call, Jul 29, 2013       \n",
       "93  Franklin Resources Inc., Q2 2014 Pre Recorded Earnings Call, Apr 28, 2014       \n",
       "94  Franklin Resources Inc., Q1 2014 Pre Recorded Earnings Call, Jan 30, 2014       \n",
       "95  Franklin Resources Inc., Q4 2013 Pre Recorded Earnings Call, Oct 24, 2013       \n",
       "96  Franklin Resources, Inc., Q2 2016 Pre Recorded Earnings Call, Apr 27, 2016      \n",
       "97  Franklin Resources Inc., Q3 2012 Pre Recorded Earnings Call, Jul 30, 2012       \n",
       "98  Franklin Resources, Inc., Q4 2015 Pre Recorded Earnings Call, Oct 22, 2015      \n",
       "99  Franklin Resources, Inc., Q1 2016 Pre Recorded Earnings Call, Feb 03, 2016      \n",
       "100 Franklin Resources, Inc., Q3 2016 Pre Recorded Earnings Call, Jul 28, 2016      \n",
       "    headline_date announcedate companyname                        gvkey \n",
       "1   2005-04-20    2005-04-04   American Airlines Group Inc.       001045\n",
       "2   2017-11-10    2017-11-07   Adams Resources & Energy, Inc.     001121\n",
       "3   2007-04-24    2007-04-24   Rio Tinto Alcan Inc.               001243\n",
       "4   2005-02-03    2005-01-24   Aflac Incorporated                 001449\n",
       "5   2007-02-01    2007-01-23   Aflac Incorporated                 001449\n",
       "6   2006-02-01    2006-01-23   Aflac Incorporated                 001449\n",
       "7   2010-11-05    2010-11-02   American International Group, Inc. 001487\n",
       "8   2007-08-01    2006-12-23   Andrew LLC                         001651\n",
       "9   2007-11-01    2006-12-23   Andrew LLC                         001651\n",
       "10  2005-04-13    2005-03-28   Apple Inc.                         001690\n",
       "11  2006-10-18    2006-03-20   Apple Inc.                         001690\n",
       "12  2015-04-28    2015-03-30   Apple Inc.                         001690\n",
       "13  2005-04-25    2005-04-14   Ashland Global Holdings Inc.       001794\n",
       "14  2016-02-11    2016-05-05   Southern Company Gas               001837\n",
       "15  2006-07-27    2006-03-28   Automatic Data Processing, Inc.    001891\n",
       "16  2007-11-01    2007-11-01   British American Tobacco p.l.c.    001932\n",
       "17  2006-08-02    2006-01-31   BCE Inc.                           002137\n",
       "18  2007-08-14    2007-06-05   Bob Evans Farms, Inc.              002282\n",
       "19  2011-11-17    2011-11-16   Rexam Ltd.                         002338\n",
       "20  2008-08-08    2008-04-09   TELUS Corporation                  002408\n",
       "21  2007-02-16    2007-02-16   TELUS Corporation                  002408\n",
       "22  2007-08-03    2007-03-15   TELUS Corporation                  002408\n",
       "23  2006-05-18    2006-05-18   BT Group plc                       002411\n",
       "24  2007-05-17    2007-05-16   BT Group plc                       002411\n",
       "25  2007-11-09    2007-11-09   BT Group plc                       002411\n",
       "26  2007-07-26    2007-07-26   BT Group plc                       002411\n",
       "27  2006-11-09    2006-11-09   BT Group plc                       002411\n",
       "28  2012-08-28    2012-08-28   myFreightWorld Technologies, Inc.  002586\n",
       "29  2017-07-27    2017-07-17   Canon Inc.                         002721\n",
       "30  2017-04-26    2017-04-26   Canon Inc.                         002721\n",
       "31  2017-10-24    2017-09-26   Canon Inc.                         002721\n",
       "32  2018-01-30    2017-12-27   Canon Inc.                         002721\n",
       "33  2016-10-26    2016-10-26   Canon Inc.                         002721\n",
       "34  2016-07-26    2016-07-26   Canon Inc.                         002721\n",
       "35  2016-01-27    2016-01-27   Canon Inc.                         002721\n",
       "36  2015-10-27    2015-10-27   Canon Inc.                         002721\n",
       "37  2013-07-24    2013-07-24   Canon Inc.                         002721\n",
       "38  2013-04-24    2013-04-24   Canon Inc.                         002721\n",
       "39  2014-04-24    2014-04-24   Canon Inc.                         002721\n",
       "40  2014-01-29    2014-01-29   Canon Inc.                         002721\n",
       "41  2013-10-24    2013-10-24   Canon Inc.                         002721\n",
       "42  2014-07-24    2014-07-24   Canon Inc.                         002721\n",
       "43  2015-01-28    2015-01-28   Canon Inc.                         002721\n",
       "44  2014-10-27    2014-10-27   Canon Inc.                         002721\n",
       "45  2015-07-27    2015-07-27   Canon Inc.                         002721\n",
       "46  2010-01-27    2010-01-26   Canon Inc.                         002721\n",
       "47  2009-10-27    2009-10-27   Canon Inc.                         002721\n",
       "48  2007-04-24    2007-04-23   Canon Inc.                         002721\n",
       "49  2012-04-25    2012-04-18   Canon Inc.                         002721\n",
       "50  2012-01-30    2012-01-17   Canon Inc.                         002721\n",
       "51  2013-01-30    2013-01-30   Canon Inc.                         002721\n",
       "52  2012-10-25    2012-10-25   Canon Inc.                         002721\n",
       "53  2012-07-25    2012-07-25   Canon Inc.                         002721\n",
       "54  2007-10-25    2007-10-23   Canon Inc.                         002721\n",
       "55  2011-01-27    2011-01-20   Canon Inc.                         002721\n",
       "56  2011-04-26    2011-04-23   Canon Inc.                         002721\n",
       "57  2008-04-27    2008-04-27   Canon Inc.                         002721\n",
       "58  2008-01-30    2008-01-30   Canon Inc.                         002721\n",
       "59  2011-07-25    2011-07-19   Canon Inc.                         002721\n",
       "60  2011-10-25    2011-10-18   Canon Inc.                         002721\n",
       "61  2018-04-25    2018-04-25   Canon Inc.                         002721\n",
       "62  2015-04-27    2015-04-27   Canon Inc.                         002721\n",
       "63  2007-07-26    2007-07-26   Canon Inc.                         002721\n",
       "64  2006-07-27    2006-07-27   Canon Inc.                         002721\n",
       "65  2016-04-26    2016-04-26   Canon Inc.                         002721\n",
       "66  2017-01-31    2017-01-31   Canon Inc.                         002721\n",
       "67  2005-10-20    2005-04-01   Caterpillar Inc.                   002817\n",
       "68  2006-08-14    2006-08-07   CA, Inc.                           003310\n",
       "69  2006-02-03    2006-01-24   Corning Incorporated               003532\n",
       "70  2006-07-29    2006-07-06   Curtiss-Wright Corporation         003662\n",
       "71  2005-08-16    2005-05-12   Deere & Company                    003835\n",
       "72  2007-08-14    2007-08-13   Western Forest Products Inc.       004019\n",
       "73  2018-08-15    2018-08-07   SORL Auto Parts, Inc.              004341\n",
       "74  2007-03-27    2007-03-21   SORL Auto Parts, Inc.              004341\n",
       "75  2007-05-16    2007-05-14   SORL Auto Parts, Inc.              004341\n",
       "76  2013-11-21    2013-11-20   Viskase Companies, Inc.            004412\n",
       "77  2013-08-22    2013-08-21   Viskase Companies, Inc.            004412\n",
       "78  2012-03-06    2012-03-05   Equifax Inc.                       004423\n",
       "79  2017-07-28    2017-07-13   DMC Global Inc.                    004497\n",
       "80  2005-10-18    2005-10-07   U.S. Bancorp                       004723\n",
       "81  2012-05-02    2012-04-12   Franklin Resources, Inc.           004885\n",
       "82  2012-02-01    2012-01-13   Franklin Resources, Inc.           004885\n",
       "83  2012-10-25    2012-10-11   Franklin Resources, Inc.           004885\n",
       "84  2013-02-01    2013-01-10   Franklin Resources, Inc.           004885\n",
       "85  2011-10-27    2011-10-11   Franklin Resources, Inc.           004885\n",
       "86  2015-07-29    2015-07-02   Franklin Resources, Inc.           004885\n",
       "87  2015-04-29    2015-04-14   Franklin Resources, Inc.           004885\n",
       "88  2014-07-30    2014-07-30   Franklin Resources, Inc.           004885\n",
       "89  2014-10-27    2014-10-10   Franklin Resources, Inc.           004885\n",
       "90  2015-01-30    2015-01-08   Franklin Resources, Inc.           004885\n",
       "91  2013-04-30    2013-04-10   Franklin Resources, Inc.           004885\n",
       "92  2013-07-29    2013-07-03   Franklin Resources, Inc.           004885\n",
       "93  2014-04-28    2014-04-11   Franklin Resources, Inc.           004885\n",
       "94  2014-01-30    2014-01-10   Franklin Resources, Inc.           004885\n",
       "95  2013-10-24    2013-10-07   Franklin Resources, Inc.           004885\n",
       "96  2016-04-27    2016-04-11   Franklin Resources, Inc.           004885\n",
       "97  2012-07-30    2012-07-13   Franklin Resources, Inc.           004885\n",
       "98  2015-10-22    2015-10-07   Franklin Resources, Inc.           004885\n",
       "99  2016-02-03    2016-01-13   Franklin Resources, Inc.           004885\n",
       "100 2016-07-28    2016-07-11   Franklin Resources, Inc.           004885\n",
       "    keydevid  mostimportantdateutc i.mostimportantdateutc ibtic\n",
       "1     1551245 2005-04-20 00:00:00  2005-04-20 00:00:00    AMR  \n",
       "2   542907441 2017-11-10 00:00:00  2017-11-10 00:00:00    AA3B \n",
       "3     4021541 2007-04-24 00:00:00  2007-04-24 00:00:00    AL   \n",
       "4     1010210 2005-02-03 00:10:00  2005-02-03 00:10:00    AFL  \n",
       "5     3436575 2007-02-01 00:10:00  2007-02-01 00:10:00    AFL  \n",
       "6     2550730 2006-02-01 00:10:00  2006-02-01 00:10:00    AFL  \n",
       "7   115247098 2010-11-05 00:00:00  2010-11-05 00:00:00    AIG  \n",
       "8     3386785 2007-08-01 00:00:00  2007-08-01 00:00:00    ANDW \n",
       "9     3386786 2007-11-01 00:00:00  2007-11-01 00:00:00    ANDW \n",
       "10    1533943 2005-04-13 00:00:00  2005-04-13 00:00:00    AAPL \n",
       "11    2710236 2006-10-18 00:00:00  2006-10-18 00:00:00    AAPL \n",
       "12  289919480 2015-04-27 21:00:00  2015-04-27 21:00:00    AAPL \n",
       "13    1566583 2005-04-25 00:00:00  2005-04-25 00:00:00    ASH  \n",
       "14  585210177 2016-02-11 00:00:00  2016-02-11 00:00:00    AGLT \n",
       "15    2729030 2006-07-27 00:00:00  2006-07-27 00:00:00    AUD  \n",
       "16  137432983 2007-11-01 00:00:00  2007-11-01 00:00:00    BTI  \n",
       "17    2606067 2006-08-02 00:00:00  2006-08-02 00:00:00    BCE2 \n",
       "18    4369217 2007-08-14 00:00:00  2007-08-14 00:00:00    BOBE \n",
       "19  145517263 2011-11-17 00:00:00  2011-11-17 00:00:00    BWTR \n",
       "20    5378191 2008-08-08 00:00:00  2008-08-08 00:00:00    BCT1 \n",
       "21  137428321 2007-02-16 00:00:00  2007-02-16 00:00:00    BCT1 \n",
       "22    3705452 2007-08-03 00:00:00  2007-08-03 00:00:00    BCT1 \n",
       "23  137435940 2006-05-18 00:00:00  2006-05-18 00:00:00    BTY  \n",
       "24  137427525 2007-05-17 00:00:00  2007-05-17 00:00:00    BTY  \n",
       "25  137430862 2007-11-09 00:00:00  2007-11-09 00:00:00    BTY  \n",
       "26  137429533 2007-07-26 00:00:00  2007-07-26 00:00:00    BTY  \n",
       "27  137428471 2006-11-09 00:00:00  2006-11-09 00:00:00    BTY  \n",
       "28  216182560 2012-08-28 00:00:00  2012-08-28 00:00:00    FOGL \n",
       "29  531036687 2017-07-27 00:00:00  2017-07-27 00:00:00    CANN \n",
       "30  428751170 2017-04-26 00:00:00  2017-04-26 00:00:00    CANN \n",
       "31  538707756 2017-10-24 00:00:00  2017-10-24 00:00:00    CANN \n",
       "32  547795677 2018-01-30 00:00:00  2018-01-30 00:00:00    CANN \n",
       "33  407257413 2016-10-26 00:00:00  2016-10-26 00:00:00    CANN \n",
       "34  377775783 2016-07-26 00:00:00  2016-07-26 00:00:00    CANN \n",
       "35  323519389 2016-01-27 00:00:00  2016-01-27 00:00:00    CANN \n",
       "36  315277140 2015-10-27 00:00:00  2015-10-27 00:00:00    CANN \n",
       "37  243540931 2013-07-24 00:00:00  2013-07-24 00:00:00    CANN \n",
       "38  237395502 2013-04-24 00:00:00  2013-04-24 00:00:00    CANN \n",
       "39  262539550 2014-04-24 00:00:00  2014-04-24 00:00:00    CANN \n",
       "40  254838816 2014-01-29 00:00:00  2014-01-29 00:00:00    CANN \n",
       "41  248822476 2013-10-24 00:00:00  2013-10-24 00:00:00    CANN \n",
       "42  269025144 2014-07-24 00:00:00  2014-07-24 00:00:00    CANN \n",
       "43  283093746 2015-01-28 00:00:00  2015-01-28 00:00:00    CANN \n",
       "44  275299347 2014-10-27 00:00:00  2014-10-27 00:00:00    CANN \n",
       "45  307776860 2015-07-27 00:00:00  2015-07-27 00:00:00    CANN \n",
       "46  109405524 2010-01-27 00:00:00  2010-01-27 00:00:00    CANN \n",
       "47   79218524 2009-10-27 00:00:00  2009-10-27 00:00:00    CANN \n",
       "48    4941032 2007-04-24 00:00:00  2007-04-24 00:00:00    CANN \n",
       "49  201625095 2012-04-25 00:00:00  2012-04-25 00:00:00    CANN \n",
       "50  146115533 2012-01-30 00:00:00  2012-01-30 00:00:00    CANN \n",
       "51  226871837 2013-01-30 00:00:00  2013-01-30 00:00:00    CANN \n",
       "52  226667277 2012-10-25 00:00:00  2012-10-25 00:00:00    CANN \n",
       "53  214636083 2012-07-25 00:00:00  2012-07-25 00:00:00    CANN \n",
       "54    4941029 2007-10-25 00:00:00  2007-10-25 00:00:00    CANN \n",
       "55  118482025 2011-01-27 00:00:00  2011-01-27 00:00:00    CANN \n",
       "56  130534522 2011-04-26 00:00:00  2011-04-26 00:00:00    CANN \n",
       "57  137429489 2008-04-27 00:00:00  2008-04-27 00:00:00    CANN \n",
       "58  137431697 2008-01-30 00:00:00  2008-01-30 00:00:00    CANN \n",
       "59  137657094 2011-07-25 00:00:00  2011-07-25 00:00:00    CANN \n",
       "60  141781145 2011-10-25 00:00:00  2011-10-25 00:00:00    CANN \n",
       "61  560456382 2018-04-25 00:00:00  2018-04-25 00:00:00    CANN \n",
       "62  292547493 2015-04-27 00:00:00  2015-04-27 00:00:00    CANN \n",
       "63    4769756 2007-07-26 00:00:00  2007-07-26 00:00:00    CANN \n",
       "64    3057511 2006-07-27 00:00:00  2006-07-27 00:00:00    CANN \n",
       "65  331981363 2016-04-26 00:00:00  2016-04-26 00:00:00    CANN \n",
       "66  418562670 2017-01-31 00:00:00  2017-01-31 00:00:00    CANN \n",
       "67    1542397 2005-10-20 00:00:00  2005-10-20 00:00:00    CAT  \n",
       "68    3084025 2006-08-14 00:00:00  2006-08-14 00:00:00    CASI \n",
       "69    2554362 2006-02-03 00:00:00  2006-02-03 00:00:00    GLW  \n",
       "70    3014905 2006-07-29 03:00:00  2006-07-29 03:00:00    CW   \n",
       "71    1617893 2005-08-16 00:00:00  2005-08-16 00:00:00    DE   \n",
       "72    4711166 2007-08-14 00:00:00  2007-08-14 00:00:00    DOM1 \n",
       "73  576595244 2018-08-15 00:01:00  2018-08-15 00:01:00    SAUP \n",
       "74    3751671 2007-03-27 00:00:00  2007-03-27 00:00:00    SAUP \n",
       "75    4193031 2007-05-16 00:00:00  2007-05-16 00:00:00    SAUP \n",
       "76  254518145 2013-11-21 00:00:00  2013-11-21 00:00:00    ENVR \n",
       "77  280004568 2013-08-22 00:00:00  2013-08-22 00:00:00    ENVR \n",
       "78  172373696 2012-03-06 00:00:00  2012-03-06 00:00:00    EFX  \n",
       "79  530301302 2017-07-27 21:00:00  2017-07-27 21:00:00    BOOM \n",
       "80    1907380 2005-10-18 00:00:00  2005-10-18 00:00:00    FNAC \n",
       "81  184476420 2012-05-02 00:00:00  2012-05-02 00:00:00    FRRI \n",
       "82  145980875 2012-02-01 00:00:00  2012-02-01 00:00:00    FRRI \n",
       "83  222841106 2012-10-25 00:00:00  2012-10-25 00:00:00    FRRI \n",
       "84  225974384 2013-02-01 00:00:00  2013-02-01 00:00:00    FRRI \n",
       "85  141522446 2011-10-27 00:00:00  2011-10-27 00:00:00    FRRI \n",
       "86  305856031 2015-07-29 00:00:00  2015-07-29 00:00:00    FRRI \n",
       "87  291347622 2015-04-29 00:00:00  2015-04-29 00:00:00    FRRI \n",
       "88  269353081 2014-07-30 00:00:00  2014-07-30 00:00:00    FRRI \n",
       "89  274265406 2014-10-27 00:00:00  2014-10-27 00:00:00    FRRI \n",
       "90  281512568 2015-01-30 00:00:00  2015-01-30 00:00:00    FRRI \n",
       "91  235948626 2013-04-30 00:00:00  2013-04-30 00:00:00    FRRI \n",
       "92  243693032 2013-07-29 00:00:00  2013-07-29 00:00:00    FRRI \n",
       "93  261915714 2014-04-28 00:00:00  2014-04-28 00:00:00    FRRI \n",
       "94  253997936 2014-01-30 00:00:00  2014-01-30 00:00:00    FRRI \n",
       "95  247855378 2013-10-24 00:00:00  2013-10-24 00:00:00    FRRI \n",
       "96  330709118 2016-04-27 00:00:00  2016-04-27 00:00:00    FRRI \n",
       "97  214174243 2012-07-30 00:00:00  2012-07-30 00:00:00    FRRI \n",
       "98  313049944 2015-10-22 00:00:00  2015-10-22 00:00:00    FRRI \n",
       "99  322094111 2016-02-03 00:00:00  2016-02-03 00:00:00    FRRI \n",
       "100 373871223 2016-07-28 00:00:00  2016-07-28 00:00:00    FRRI "
      ]
     },
     "metadata": {},
     "output_type": "display_data"
    }
   ],
   "source": [
    "cc_meta[keydeveventtypeid==48\n",
    "    ][headline_date != date(with_tz(mostimportantdateutc, 'America/New_York'))\n",
    "    ][1:100]"
   ]
  },
  {
   "cell_type": "code",
   "execution_count": 33,
   "metadata": {},
   "outputs": [
    {
     "name": "stdout",
     "output_type": "stream",
     "text": [
      "-cc_2- loaded  (29.32 secs)\n"
     ]
    }
   ],
   "source": [
    "ld(cc_2)"
   ]
  },
  {
   "cell_type": "code",
   "execution_count": 36,
   "metadata": {},
   "outputs": [
    {
     "data": {
      "text/html": [
       "<table>\n",
       "<thead><tr><th scope=col>n_nomatch</th><th scope=col>n</th></tr></thead>\n",
       "<tbody>\n",
       "\t<tr><td>923   </td><td>272704</td></tr>\n",
       "</tbody>\n",
       "</table>\n"
      ],
      "text/latex": [
       "\\begin{tabular}{r|ll}\n",
       " n\\_nomatch & n\\\\\n",
       "\\hline\n",
       "\t 923    & 272704\\\\\n",
       "\\end{tabular}\n"
      ],
      "text/markdown": [
       "\n",
       "| n_nomatch | n |\n",
       "|---|---|\n",
       "| 923    | 272704 |\n",
       "\n"
      ],
      "text/plain": [
       "  n_nomatch n     \n",
       "1 923       272704"
      ]
     },
     "metadata": {},
     "output_type": "display_data"
    }
   ],
   "source": [
    "cc_meta[keydeveventtypeid==48\n",
    "    ][, \n",
    "      .(n_nomatch=sum(\n",
    "          with_tz(headline_date, 'America/New_York') != date(mostimportantdateutc),\n",
    "          na.rm=T),\n",
    "        n=.N)]"
   ]
  },
  {
   "cell_type": "code",
   "execution_count": 13,
   "metadata": {},
   "outputs": [
    {
     "data": {
      "text/html": [
       "<table>\n",
       "<thead><tr><th scope=col>keydeveventtypeid</th><th scope=col>headline</th><th scope=col>headline_date</th><th scope=col>announcedate</th><th scope=col>companyname</th><th scope=col>gvkey</th><th scope=col>keydevid</th><th scope=col>mostimportantdateutc</th><th scope=col>i.mostimportantdateutc</th><th scope=col>ibtic</th></tr></thead>\n",
       "<tbody>\n",
       "\t<tr><td>48                                                                      </td><td>Aflac Incorporated, Q4 2002 Earnings Calls, Feb 03, 2003                </td><td>2003-02-03                                                              </td><td>2003-02-03                                                              </td><td>Aflac Incorporated                                                      </td><td>001449                                                                  </td><td>586581035                                                               </td><td>2003-02-04 00:10:00                                                     </td><td>2003-02-04 00:10:00                                                     </td><td>AFL                                                                     </td></tr>\n",
       "\t<tr><td>48                                                                      </td><td>Aflac Incorporated, Q4 2001 Earnings Calls, Feb 04, 2002                </td><td>2002-02-04                                                              </td><td>2002-02-04                                                              </td><td>Aflac Incorporated                                                      </td><td>001449                                                                  </td><td>586581028                                                               </td><td>2002-02-05 00:10:00                                                     </td><td>2002-02-05 00:10:00                                                     </td><td>AFL                                                                     </td></tr>\n",
       "\t<tr><td>48                                                                      </td><td>Aflac Incorporated, Q4 2003 Earnings Calls, Feb 04, 2004                </td><td>2004-02-04                                                              </td><td>2004-02-04                                                              </td><td>Aflac Incorporated                                                      </td><td>001449                                                                  </td><td>584967140                                                               </td><td>2004-02-05 00:10:00                                                     </td><td>2004-02-05 00:10:00                                                     </td><td>AFL                                                                     </td></tr>\n",
       "\t<tr><td>48                                                                      </td><td>Apple Inc., Q2 2015 Earnings Call, Apr 28, 2015                         </td><td>2015-04-28                                                              </td><td>2015-03-30                                                              </td><td>Apple Inc.                                                              </td><td>001690                                                                  </td><td>289919480                                                               </td><td>2015-04-27 21:00:00                                                     </td><td>2015-04-27 21:00:00                                                     </td><td>AAPL                                                                    </td></tr>\n",
       "\t<tr><td>48                                                                      </td><td>MUFG Americas Holdings Corporation, Q4 2002 Earnings Calls, Jan 17, 2003</td><td>2003-01-17                                                              </td><td>2003-01-17                                                              </td><td>MUFG Americas Holdings Corporation                                      </td><td>002620                                                                  </td><td>584965927                                                               </td><td>2003-01-18 04:30:00                                                     </td><td>2003-01-18 04:30:00                                                     </td><td>CFBK                                                                    </td></tr>\n",
       "\t<tr><td>48                                                                      </td><td>Cogo Group, Inc., Q2 2013 Earnings Call, Aug 15, 2013                   </td><td>2013-08-15                                                              </td><td>2013-08-08                                                              </td><td>Viewtran Group, Inc.                                                    </td><td>003820                                                                  </td><td>244293666                                                               </td><td>2013-08-16 00:00:00                                                     </td><td>2013-08-16 00:00:00                                                     </td><td>TRGI                                                                    </td></tr>\n",
       "\t<tr><td>48                                                                      </td><td>Cogo Group, Inc., Q1 2013 Earnings Call, May 15, 2013                   </td><td>2013-05-15                                                              </td><td>2013-05-06                                                              </td><td>Viewtran Group, Inc.                                                    </td><td>003820                                                                  </td><td>238221771                                                               </td><td>2013-05-16 00:00:00                                                     </td><td>2013-05-16 00:00:00                                                     </td><td>TRGI                                                                    </td></tr>\n",
       "\t<tr><td>48                                                                      </td><td>SORL Auto Parts, Inc., Q1 2019 Earnings Call, May 15, 2019              </td><td>2019-05-15                                                              </td><td>2019-05-15                                                              </td><td>SORL Auto Parts, Inc.                                                   </td><td>004341                                                                  </td><td>613664010                                                               </td><td>2019-05-16 00:00:00                                                     </td><td>2019-05-16 00:00:00                                                     </td><td>SAUP                                                                    </td></tr>\n",
       "\t<tr><td>48                                                                      </td><td>SORL Auto Parts, Inc., Q3 2018 Earnings Call, Nov 14, 2018              </td><td>2018-11-14                                                              </td><td>2018-11-12                                                              </td><td>SORL Auto Parts, Inc.                                                   </td><td>004341                                                                  </td><td>590956963                                                               </td><td>2018-11-15 00:01:00                                                     </td><td>2018-11-15 00:01:00                                                     </td><td>SAUP                                                                    </td></tr>\n",
       "\t<tr><td>48                                                                      </td><td>DMC Global Inc., Q2 2017 Earnings Call, Jul 28, 2017                    </td><td>2017-07-28                                                              </td><td>2017-07-13                                                              </td><td>DMC Global Inc.                                                         </td><td>004497                                                                  </td><td>530301302                                                               </td><td>2017-07-27 21:00:00                                                     </td><td>2017-07-27 21:00:00                                                     </td><td>BOOM                                                                    </td></tr>\n",
       "</tbody>\n",
       "</table>\n"
      ],
      "text/latex": [
       "\\begin{tabular}{r|llllllllll}\n",
       " keydeveventtypeid & headline & headline\\_date & announcedate & companyname & gvkey & keydevid & mostimportantdateutc & i.mostimportantdateutc & ibtic\\\\\n",
       "\\hline\n",
       "\t 48                                                                       & Aflac Incorporated, Q4 2002 Earnings Calls, Feb 03, 2003                 & 2003-02-03                                                               & 2003-02-03                                                               & Aflac Incorporated                                                       & 001449                                                                   & 586581035                                                                & 2003-02-04 00:10:00                                                      & 2003-02-04 00:10:00                                                      & AFL                                                                     \\\\\n",
       "\t 48                                                                       & Aflac Incorporated, Q4 2001 Earnings Calls, Feb 04, 2002                 & 2002-02-04                                                               & 2002-02-04                                                               & Aflac Incorporated                                                       & 001449                                                                   & 586581028                                                                & 2002-02-05 00:10:00                                                      & 2002-02-05 00:10:00                                                      & AFL                                                                     \\\\\n",
       "\t 48                                                                       & Aflac Incorporated, Q4 2003 Earnings Calls, Feb 04, 2004                 & 2004-02-04                                                               & 2004-02-04                                                               & Aflac Incorporated                                                       & 001449                                                                   & 584967140                                                                & 2004-02-05 00:10:00                                                      & 2004-02-05 00:10:00                                                      & AFL                                                                     \\\\\n",
       "\t 48                                                                       & Apple Inc., Q2 2015 Earnings Call, Apr 28, 2015                          & 2015-04-28                                                               & 2015-03-30                                                               & Apple Inc.                                                               & 001690                                                                   & 289919480                                                                & 2015-04-27 21:00:00                                                      & 2015-04-27 21:00:00                                                      & AAPL                                                                    \\\\\n",
       "\t 48                                                                       & MUFG Americas Holdings Corporation, Q4 2002 Earnings Calls, Jan 17, 2003 & 2003-01-17                                                               & 2003-01-17                                                               & MUFG Americas Holdings Corporation                                       & 002620                                                                   & 584965927                                                                & 2003-01-18 04:30:00                                                      & 2003-01-18 04:30:00                                                      & CFBK                                                                    \\\\\n",
       "\t 48                                                                       & Cogo Group, Inc., Q2 2013 Earnings Call, Aug 15, 2013                    & 2013-08-15                                                               & 2013-08-08                                                               & Viewtran Group, Inc.                                                     & 003820                                                                   & 244293666                                                                & 2013-08-16 00:00:00                                                      & 2013-08-16 00:00:00                                                      & TRGI                                                                    \\\\\n",
       "\t 48                                                                       & Cogo Group, Inc., Q1 2013 Earnings Call, May 15, 2013                    & 2013-05-15                                                               & 2013-05-06                                                               & Viewtran Group, Inc.                                                     & 003820                                                                   & 238221771                                                                & 2013-05-16 00:00:00                                                      & 2013-05-16 00:00:00                                                      & TRGI                                                                    \\\\\n",
       "\t 48                                                                       & SORL Auto Parts, Inc., Q1 2019 Earnings Call, May 15, 2019               & 2019-05-15                                                               & 2019-05-15                                                               & SORL Auto Parts, Inc.                                                    & 004341                                                                   & 613664010                                                                & 2019-05-16 00:00:00                                                      & 2019-05-16 00:00:00                                                      & SAUP                                                                    \\\\\n",
       "\t 48                                                                       & SORL Auto Parts, Inc., Q3 2018 Earnings Call, Nov 14, 2018               & 2018-11-14                                                               & 2018-11-12                                                               & SORL Auto Parts, Inc.                                                    & 004341                                                                   & 590956963                                                                & 2018-11-15 00:01:00                                                      & 2018-11-15 00:01:00                                                      & SAUP                                                                    \\\\\n",
       "\t 48                                                                       & DMC Global Inc., Q2 2017 Earnings Call, Jul 28, 2017                     & 2017-07-28                                                               & 2017-07-13                                                               & DMC Global Inc.                                                          & 004497                                                                   & 530301302                                                                & 2017-07-27 21:00:00                                                      & 2017-07-27 21:00:00                                                      & BOOM                                                                    \\\\\n",
       "\\end{tabular}\n"
      ],
      "text/markdown": [
       "\n",
       "| keydeveventtypeid | headline | headline_date | announcedate | companyname | gvkey | keydevid | mostimportantdateutc | i.mostimportantdateutc | ibtic |\n",
       "|---|---|---|---|---|---|---|---|---|---|\n",
       "| 48                                                                       | Aflac Incorporated, Q4 2002 Earnings Calls, Feb 03, 2003                 | 2003-02-03                                                               | 2003-02-03                                                               | Aflac Incorporated                                                       | 001449                                                                   | 586581035                                                                | 2003-02-04 00:10:00                                                      | 2003-02-04 00:10:00                                                      | AFL                                                                      |\n",
       "| 48                                                                       | Aflac Incorporated, Q4 2001 Earnings Calls, Feb 04, 2002                 | 2002-02-04                                                               | 2002-02-04                                                               | Aflac Incorporated                                                       | 001449                                                                   | 586581028                                                                | 2002-02-05 00:10:00                                                      | 2002-02-05 00:10:00                                                      | AFL                                                                      |\n",
       "| 48                                                                       | Aflac Incorporated, Q4 2003 Earnings Calls, Feb 04, 2004                 | 2004-02-04                                                               | 2004-02-04                                                               | Aflac Incorporated                                                       | 001449                                                                   | 584967140                                                                | 2004-02-05 00:10:00                                                      | 2004-02-05 00:10:00                                                      | AFL                                                                      |\n",
       "| 48                                                                       | Apple Inc., Q2 2015 Earnings Call, Apr 28, 2015                          | 2015-04-28                                                               | 2015-03-30                                                               | Apple Inc.                                                               | 001690                                                                   | 289919480                                                                | 2015-04-27 21:00:00                                                      | 2015-04-27 21:00:00                                                      | AAPL                                                                     |\n",
       "| 48                                                                       | MUFG Americas Holdings Corporation, Q4 2002 Earnings Calls, Jan 17, 2003 | 2003-01-17                                                               | 2003-01-17                                                               | MUFG Americas Holdings Corporation                                       | 002620                                                                   | 584965927                                                                | 2003-01-18 04:30:00                                                      | 2003-01-18 04:30:00                                                      | CFBK                                                                     |\n",
       "| 48                                                                       | Cogo Group, Inc., Q2 2013 Earnings Call, Aug 15, 2013                    | 2013-08-15                                                               | 2013-08-08                                                               | Viewtran Group, Inc.                                                     | 003820                                                                   | 244293666                                                                | 2013-08-16 00:00:00                                                      | 2013-08-16 00:00:00                                                      | TRGI                                                                     |\n",
       "| 48                                                                       | Cogo Group, Inc., Q1 2013 Earnings Call, May 15, 2013                    | 2013-05-15                                                               | 2013-05-06                                                               | Viewtran Group, Inc.                                                     | 003820                                                                   | 238221771                                                                | 2013-05-16 00:00:00                                                      | 2013-05-16 00:00:00                                                      | TRGI                                                                     |\n",
       "| 48                                                                       | SORL Auto Parts, Inc., Q1 2019 Earnings Call, May 15, 2019               | 2019-05-15                                                               | 2019-05-15                                                               | SORL Auto Parts, Inc.                                                    | 004341                                                                   | 613664010                                                                | 2019-05-16 00:00:00                                                      | 2019-05-16 00:00:00                                                      | SAUP                                                                     |\n",
       "| 48                                                                       | SORL Auto Parts, Inc., Q3 2018 Earnings Call, Nov 14, 2018               | 2018-11-14                                                               | 2018-11-12                                                               | SORL Auto Parts, Inc.                                                    | 004341                                                                   | 590956963                                                                | 2018-11-15 00:01:00                                                      | 2018-11-15 00:01:00                                                      | SAUP                                                                     |\n",
       "| 48                                                                       | DMC Global Inc., Q2 2017 Earnings Call, Jul 28, 2017                     | 2017-07-28                                                               | 2017-07-13                                                               | DMC Global Inc.                                                          | 004497                                                                   | 530301302                                                                | 2017-07-27 21:00:00                                                      | 2017-07-27 21:00:00                                                      | BOOM                                                                     |\n",
       "\n"
      ],
      "text/plain": [
       "   keydeveventtypeid\n",
       "1  48               \n",
       "2  48               \n",
       "3  48               \n",
       "4  48               \n",
       "5  48               \n",
       "6  48               \n",
       "7  48               \n",
       "8  48               \n",
       "9  48               \n",
       "10 48               \n",
       "   headline                                                                \n",
       "1  Aflac Incorporated, Q4 2002 Earnings Calls, Feb 03, 2003                \n",
       "2  Aflac Incorporated, Q4 2001 Earnings Calls, Feb 04, 2002                \n",
       "3  Aflac Incorporated, Q4 2003 Earnings Calls, Feb 04, 2004                \n",
       "4  Apple Inc., Q2 2015 Earnings Call, Apr 28, 2015                         \n",
       "5  MUFG Americas Holdings Corporation, Q4 2002 Earnings Calls, Jan 17, 2003\n",
       "6  Cogo Group, Inc., Q2 2013 Earnings Call, Aug 15, 2013                   \n",
       "7  Cogo Group, Inc., Q1 2013 Earnings Call, May 15, 2013                   \n",
       "8  SORL Auto Parts, Inc., Q1 2019 Earnings Call, May 15, 2019              \n",
       "9  SORL Auto Parts, Inc., Q3 2018 Earnings Call, Nov 14, 2018              \n",
       "10 DMC Global Inc., Q2 2017 Earnings Call, Jul 28, 2017                    \n",
       "   headline_date announcedate companyname                        gvkey \n",
       "1  2003-02-03    2003-02-03   Aflac Incorporated                 001449\n",
       "2  2002-02-04    2002-02-04   Aflac Incorporated                 001449\n",
       "3  2004-02-04    2004-02-04   Aflac Incorporated                 001449\n",
       "4  2015-04-28    2015-03-30   Apple Inc.                         001690\n",
       "5  2003-01-17    2003-01-17   MUFG Americas Holdings Corporation 002620\n",
       "6  2013-08-15    2013-08-08   Viewtran Group, Inc.               003820\n",
       "7  2013-05-15    2013-05-06   Viewtran Group, Inc.               003820\n",
       "8  2019-05-15    2019-05-15   SORL Auto Parts, Inc.              004341\n",
       "9  2018-11-14    2018-11-12   SORL Auto Parts, Inc.              004341\n",
       "10 2017-07-28    2017-07-13   DMC Global Inc.                    004497\n",
       "   keydevid  mostimportantdateutc i.mostimportantdateutc ibtic\n",
       "1  586581035 2003-02-04 00:10:00  2003-02-04 00:10:00    AFL  \n",
       "2  586581028 2002-02-05 00:10:00  2002-02-05 00:10:00    AFL  \n",
       "3  584967140 2004-02-05 00:10:00  2004-02-05 00:10:00    AFL  \n",
       "4  289919480 2015-04-27 21:00:00  2015-04-27 21:00:00    AAPL \n",
       "5  584965927 2003-01-18 04:30:00  2003-01-18 04:30:00    CFBK \n",
       "6  244293666 2013-08-16 00:00:00  2013-08-16 00:00:00    TRGI \n",
       "7  238221771 2013-05-16 00:00:00  2013-05-16 00:00:00    TRGI \n",
       "8  613664010 2019-05-16 00:00:00  2019-05-16 00:00:00    SAUP \n",
       "9  590956963 2018-11-15 00:01:00  2018-11-15 00:01:00    SAUP \n",
       "10 530301302 2017-07-27 21:00:00  2017-07-27 21:00:00    BOOM "
      ]
     },
     "metadata": {},
     "output_type": "display_data"
    }
   ],
   "source": [
    "cc_meta[keydeveventtypeid==48\n",
    "    ][headline_date != date(mostimportantdateutc)\n",
    "    ][1:10]"
   ]
  },
  {
   "cell_type": "code",
   "execution_count": 9,
   "metadata": {},
   "outputs": [
    {
     "data": {
      "text/html": [
       "<table>\n",
       "<thead><tr><th scope=col>keydeveventtypeid</th><th scope=col>headline</th><th scope=col>headline_date</th><th scope=col>announcedate</th><th scope=col>companyname</th><th scope=col>gvkey</th><th scope=col>keydevid</th><th scope=col>mostimportantdateutc</th><th scope=col>i.mostimportantdateutc</th><th scope=col>ibtic</th></tr></thead>\n",
       "<tbody>\n",
       "\t<tr><td>48                                            </td><td>AAR Corp., Q2 2017 Earnings Call, Dec 21, 2016</td><td>2016-12-21                                    </td><td>2016-12-12                                    </td><td>AAR Corp.                                     </td><td>001004                                        </td><td>412785388                                     </td><td>2016-12-21 21:45:00                           </td><td>2016-12-21 21:45:00                           </td><td>AIR                                           </td></tr>\n",
       "</tbody>\n",
       "</table>\n"
      ],
      "text/latex": [
       "\\begin{tabular}{r|llllllllll}\n",
       " keydeveventtypeid & headline & headline\\_date & announcedate & companyname & gvkey & keydevid & mostimportantdateutc & i.mostimportantdateutc & ibtic\\\\\n",
       "\\hline\n",
       "\t 48                                             & AAR Corp., Q2 2017 Earnings Call, Dec 21, 2016 & 2016-12-21                                     & 2016-12-12                                     & AAR Corp.                                      & 001004                                         & 412785388                                      & 2016-12-21 21:45:00                            & 2016-12-21 21:45:00                            & AIR                                           \\\\\n",
       "\\end{tabular}\n"
      ],
      "text/markdown": [
       "\n",
       "| keydeveventtypeid | headline | headline_date | announcedate | companyname | gvkey | keydevid | mostimportantdateutc | i.mostimportantdateutc | ibtic |\n",
       "|---|---|---|---|---|---|---|---|---|---|\n",
       "| 48                                             | AAR Corp., Q2 2017 Earnings Call, Dec 21, 2016 | 2016-12-21                                     | 2016-12-12                                     | AAR Corp.                                      | 001004                                         | 412785388                                      | 2016-12-21 21:45:00                            | 2016-12-21 21:45:00                            | AIR                                            |\n",
       "\n"
      ],
      "text/plain": [
       "  keydeveventtypeid headline                                      \n",
       "1 48                AAR Corp., Q2 2017 Earnings Call, Dec 21, 2016\n",
       "  headline_date announcedate companyname gvkey  keydevid  mostimportantdateutc\n",
       "1 2016-12-21    2016-12-12   AAR Corp.   001004 412785388 2016-12-21 21:45:00 \n",
       "  i.mostimportantdateutc ibtic\n",
       "1 2016-12-21 21:45:00    AIR  "
      ]
     },
     "metadata": {},
     "output_type": "display_data"
    }
   ],
   "source": [
    "cc_meta[keydeveventtypeid==48\n",
    "    ][1]"
   ]
  },
  {
   "cell_type": "code",
   "execution_count": 14,
   "metadata": {
    "scrolled": true
   },
   "outputs": [
    {
     "data": {
      "text/html": [
       "<table>\n",
       "<thead><tr><th scope=col>n</th><th scope=col>n_na</th></tr></thead>\n",
       "<tbody>\n",
       "\t<tr><td>272704</td><td>1     </td></tr>\n",
       "</tbody>\n",
       "</table>\n"
      ],
      "text/latex": [
       "\\begin{tabular}{r|ll}\n",
       " n & n\\_na\\\\\n",
       "\\hline\n",
       "\t 272704 & 1     \\\\\n",
       "\\end{tabular}\n"
      ],
      "text/markdown": [
       "\n",
       "| n | n_na |\n",
       "|---|---|\n",
       "| 272704 | 1      |\n",
       "\n"
      ],
      "text/plain": [
       "  n      n_na\n",
       "1 272704 1   "
      ]
     },
     "metadata": {},
     "output_type": "display_data"
    },
    {
     "data": {
      "text/html": [
       "<table>\n",
       "<thead><tr><th scope=col>n</th><th scope=col>n_na</th></tr></thead>\n",
       "<tbody>\n",
       "\t<tr><td>527683</td><td>105312</td></tr>\n",
       "</tbody>\n",
       "</table>\n"
      ],
      "text/latex": [
       "\\begin{tabular}{r|ll}\n",
       " n & n\\_na\\\\\n",
       "\\hline\n",
       "\t 527683 & 105312\\\\\n",
       "\\end{tabular}\n"
      ],
      "text/markdown": [
       "\n",
       "| n | n_na |\n",
       "|---|---|\n",
       "| 527683 | 105312 |\n",
       "\n"
      ],
      "text/plain": [
       "  n      n_na  \n",
       "1 527683 105312"
      ]
     },
     "metadata": {},
     "output_type": "display_data"
    },
    {
     "data": {
      "text/html": [
       "<table>\n",
       "<thead><tr><th scope=col>keydeveventtypeid</th><th scope=col>headline</th><th scope=col>headline_date</th><th scope=col>announcedate</th><th scope=col>companyname</th><th scope=col>gvkey</th><th scope=col>keydevid</th><th scope=col>ibtic</th></tr></thead>\n",
       "<tbody>\n",
       "\t<tr><td>28                                                                  </td><td>AAR Corp. Announces Financial Results for the Fourth Quarter of 2014</td><td>NA                                                                  </td><td>2014-11-13                                                          </td><td>AAR Corp.                                                           </td><td>001004                                                              </td><td>280597404                                                           </td><td>AIR                                                                 </td></tr>\n",
       "</tbody>\n",
       "</table>\n"
      ],
      "text/latex": [
       "\\begin{tabular}{r|llllllll}\n",
       " keydeveventtypeid & headline & headline\\_date & announcedate & companyname & gvkey & keydevid & ibtic\\\\\n",
       "\\hline\n",
       "\t 28                                                                   & AAR Corp. Announces Financial Results for the Fourth Quarter of 2014 & NA                                                                   & 2014-11-13                                                           & AAR Corp.                                                            & 001004                                                               & 280597404                                                            & AIR                                                                 \\\\\n",
       "\\end{tabular}\n"
      ],
      "text/markdown": [
       "\n",
       "| keydeveventtypeid | headline | headline_date | announcedate | companyname | gvkey | keydevid | ibtic |\n",
       "|---|---|---|---|---|---|---|---|\n",
       "| 28                                                                   | AAR Corp. Announces Financial Results for the Fourth Quarter of 2014 | NA                                                                   | 2014-11-13                                                           | AAR Corp.                                                            | 001004                                                               | 280597404                                                            | AIR                                                                  |\n",
       "\n"
      ],
      "text/plain": [
       "  keydeveventtypeid\n",
       "1 28               \n",
       "  headline                                                            \n",
       "1 AAR Corp. Announces Financial Results for the Fourth Quarter of 2014\n",
       "  headline_date announcedate companyname gvkey  keydevid  ibtic\n",
       "1 <NA>          2014-11-13   AAR Corp.   001004 280597404 AIR  "
      ]
     },
     "metadata": {},
     "output_type": "display_data"
    }
   ],
   "source": [
    "cc_meta[keydeveventtypeid==48\n",
    "    ][, .(n=.N, n_na=sum(is.na(headline_date)))][]\n",
    "cc_meta[keydeveventtypeid==28\n",
    "    ][, .(n=.N, n_na=sum(is.na(headline_date)))][]\n",
    "cc_meta[keydeveventtypeid==28][is.na(headline_date)][1]"
   ]
  },
  {
   "cell_type": "code",
   "execution_count": 12,
   "metadata": {},
   "outputs": [
    {
     "data": {
      "text/html": [
       "<table>\n",
       "<tbody>\n",
       "\t<tr><td>Results for the First Quarter Ended August 31, 2015</td><td>August 31, 2015                                    </td><td>August                                             </td></tr>\n",
       "</tbody>\n",
       "</table>\n"
      ],
      "text/latex": [
       "\\begin{tabular}{lll}\n",
       "\t Results for the First Quarter Ended August 31, 2015 & August 31, 2015                                     & August                                             \\\\\n",
       "\\end{tabular}\n"
      ],
      "text/markdown": [
       "\n",
       "| Results for the First Quarter Ended August 31, 2015 | August 31, 2015                                     | August                                              |\n",
       "\n"
      ],
      "text/plain": [
       "     [,1]                                                [,2]            [,3]  \n",
       "[1,] Results for the First Quarter Ended August 31, 2015 August 31, 2015 August"
      ]
     },
     "metadata": {},
     "output_type": "display_data"
    }
   ],
   "source": [
    "headline = 'AAR Corp. Announces Unaudited Consolidated Earnings Results for the First Quarter Ended August 31, 2015'\n",
    "\n",
    "regex_date = regex('results.+?((January|February|March|April|May|June|July|August|September|October|November|December) ?\\\\d+,? ?20\\\\d{2}).*?;?', ignore=T)[,2]\n",
    "\n",
    "date = str_match(headline, regex_date)\n",
    "date"
   ]
  },
  {
   "cell_type": "markdown",
   "metadata": {},
   "source": [
    "## `cc_eps`"
   ]
  },
  {
   "cell_type": "markdown",
   "metadata": {},
   "source": [
    "`ibtic` is the unique IBES ticker that's good for linking"
   ]
  },
  {
   "cell_type": "code",
   "execution_count": 20,
   "metadata": {},
   "outputs": [
    {
     "name": "stdout",
     "output_type": "stream",
     "text": [
      "-ibes_statsum_epsus- loaded  (24.98 secs)\n",
      "-ibes_surpsum- already exists, will NOT load again!  (0 secs)\n"
     ]
    }
   ],
   "source": [
    "ld(ibes_statsum_epsus, path=WRDS_DOWNLOAD_DIR)\n",
    "ld(ibes_surpsum, path=WRDS_DOWNLOAD_DIR)"
   ]
  },
  {
   "cell_type": "code",
   "execution_count": 21,
   "metadata": {},
   "outputs": [
    {
     "data": {
      "text/html": [
       "<table>\n",
       "<thead><tr><th scope=col>ticker</th><th scope=col>oftic</th><th scope=col>measure</th><th scope=col>fiscalp</th><th scope=col>pyear</th><th scope=col>pmon</th><th scope=col>usfirm</th><th scope=col>anndats</th><th scope=col>actual</th><th scope=col>surpmean</th><th scope=col>surpstdev</th><th scope=col>suescore</th></tr></thead>\n",
       "<tbody>\n",
       "\t<tr><td>0000      </td><td>TLMR      </td><td>BPS       </td><td>QTR       </td><td>2014      </td><td>3         </td><td>1         </td><td>2014-05-06</td><td>9.97      </td><td>9.81      </td><td>0.22906   </td><td>0.69852   </td></tr>\n",
       "</tbody>\n",
       "</table>\n"
      ],
      "text/latex": [
       "\\begin{tabular}{r|llllllllllll}\n",
       " ticker & oftic & measure & fiscalp & pyear & pmon & usfirm & anndats & actual & surpmean & surpstdev & suescore\\\\\n",
       "\\hline\n",
       "\t 0000       & TLMR       & BPS        & QTR        & 2014       & 3          & 1          & 2014-05-06 & 9.97       & 9.81       & 0.22906    & 0.69852   \\\\\n",
       "\\end{tabular}\n"
      ],
      "text/markdown": [
       "\n",
       "| ticker | oftic | measure | fiscalp | pyear | pmon | usfirm | anndats | actual | surpmean | surpstdev | suescore |\n",
       "|---|---|---|---|---|---|---|---|---|---|---|---|\n",
       "| 0000       | TLMR       | BPS        | QTR        | 2014       | 3          | 1          | 2014-05-06 | 9.97       | 9.81       | 0.22906    | 0.69852    |\n",
       "\n"
      ],
      "text/plain": [
       "  ticker oftic measure fiscalp pyear pmon usfirm anndats    actual surpmean\n",
       "1 0000   TLMR  BPS     QTR     2014  3    1      2014-05-06 9.97   9.81    \n",
       "  surpstdev suescore\n",
       "1 0.22906   0.69852 "
      ]
     },
     "metadata": {},
     "output_type": "display_data"
    }
   ],
   "source": [
    "ibes_surpsum[1]"
   ]
  },
  {
   "cell_type": "code",
   "execution_count": 26,
   "metadata": {},
   "outputs": [
    {
     "data": {
      "text/html": [
       "12146515"
      ],
      "text/latex": [
       "12146515"
      ],
      "text/markdown": [
       "12146515"
      ],
      "text/plain": [
       "[1] 12146515"
      ]
     },
     "metadata": {},
     "output_type": "display_data"
    },
    {
     "data": {
      "text/html": [
       "558347"
      ],
      "text/latex": [
       "558347"
      ],
      "text/markdown": [
       "558347"
      ],
      "text/plain": [
       "[1] 558347"
      ]
     },
     "metadata": {},
     "output_type": "display_data"
    }
   ],
   "source": [
    "nrow(ibes_statsum_epsus)\n",
    "nrow(ibes_surpsum[measure=='EPS' & usfirm==1])"
   ]
  },
  {
   "cell_type": "code",
   "execution_count": 29,
   "metadata": {
    "scrolled": true
   },
   "outputs": [
    {
     "data": {
      "text/html": [
       "<table>\n",
       "<thead><tr><th scope=col>ticker</th><th scope=col>oftic</th><th scope=col>measure</th><th scope=col>fiscalp</th><th scope=col>pyear</th><th scope=col>pmon</th><th scope=col>usfirm</th><th scope=col>anndats</th><th scope=col>actual</th><th scope=col>surpmean</th><th scope=col>surpstdev</th><th scope=col>suescore</th></tr></thead>\n",
       "<tbody>\n",
       "\t<tr><td>0000      </td><td>TLMR      </td><td>EPS       </td><td>QTR       </td><td>2014      </td><td> 3        </td><td>1         </td><td>2014-05-06</td><td> 0.12     </td><td>0.08000   </td><td>0.01414   </td><td> 2.82845  </td></tr>\n",
       "\t<tr><td>0000      </td><td>TLMR      </td><td>EPS       </td><td>QTR       </td><td>2014      </td><td> 6        </td><td>1         </td><td>2014-08-06</td><td> 0.27     </td><td>0.13000   </td><td>0.01225   </td><td>11.43137  </td></tr>\n",
       "\t<tr><td>0000      </td><td>TLMR      </td><td>EPS       </td><td>QTR       </td><td>2014      </td><td> 9        </td><td>1         </td><td>2014-11-04</td><td> 0.26     </td><td>0.23200   </td><td>0.05848   </td><td> 0.47879  </td></tr>\n",
       "\t<tr><td>0000      </td><td>TLMR      </td><td>EPS       </td><td>ANN       </td><td>2014      </td><td>12        </td><td>1         </td><td>2015-01-30</td><td> 1.21     </td><td>1.19400   </td><td>0.03131   </td><td> 0.51110  </td></tr>\n",
       "\t<tr><td>0000      </td><td>TLMR      </td><td>EPS       </td><td>QTR       </td><td>2014      </td><td>12        </td><td>1         </td><td>2015-01-30</td><td> 0.16     </td><td>0.17167   </td><td>0.01169   </td><td>-0.99800  </td></tr>\n",
       "\t<tr><td>0000      </td><td>TLMR      </td><td>EPS       </td><td>QTR       </td><td>2015      </td><td> 3        </td><td>1         </td><td>2015-04-30</td><td> 0.12     </td><td>0.17833   </td><td>0.01835   </td><td>-3.17927  </td></tr>\n",
       "\t<tr><td>0000      </td><td>TLMR      </td><td>EPS       </td><td>QTR       </td><td>2015      </td><td> 6        </td><td>1         </td><td>2015-07-30</td><td> 0.23     </td><td>0.21400   </td><td>0.00894   </td><td> 1.78891  </td></tr>\n",
       "\t<tr><td>0000      </td><td>TLMR      </td><td>EPS       </td><td>QTR       </td><td>2015      </td><td> 9        </td><td>1         </td><td>2015-10-28</td><td> 0.27     </td><td>0.24000   </td><td>0.01414   </td><td> 2.12134  </td></tr>\n",
       "\t<tr><td>0000      </td><td>TLMR      </td><td>EPS       </td><td>ANN       </td><td>2015      </td><td>12        </td><td>1         </td><td>2016-01-26</td><td> 1.02     </td><td>0.85600   </td><td>0.09940   </td><td> 1.64993  </td></tr>\n",
       "\t<tr><td>0000      </td><td>TLMR      </td><td>EPS       </td><td>QTR       </td><td>2015      </td><td>12        </td><td>1         </td><td>2016-01-26</td><td> 0.40     </td><td>0.23000   </td><td>0.09055   </td><td> 1.87733  </td></tr>\n",
       "\t<tr><td>0000      </td><td>TLMR      </td><td>EPS       </td><td>QTR       </td><td>2016      </td><td> 3        </td><td>1         </td><td>2016-04-27</td><td> 0.28     </td><td>0.28000   </td><td>0.01225   </td><td> 0.00000  </td></tr>\n",
       "\t<tr><td>0000      </td><td>TLMR      </td><td>EPS       </td><td>QTR       </td><td>2016      </td><td> 6        </td><td>1         </td><td>2016-07-27</td><td> 0.28     </td><td>0.31000   </td><td>0.01000   </td><td>-3.00000  </td></tr>\n",
       "\t<tr><td>0001      </td><td>EPE       </td><td>EPS       </td><td>ANN       </td><td>2013      </td><td>12        </td><td>1         </td><td>2014-02-27</td><td>-0.28     </td><td>0.50600   </td><td>0.21466   </td><td>-3.66155  </td></tr>\n",
       "\t<tr><td>0001      </td><td>EPE       </td><td>EPS       </td><td>QTR       </td><td>2013      </td><td>12        </td><td>1         </td><td>2014-02-27</td><td> 0.20     </td><td>0.22400   </td><td>0.10376   </td><td>-0.23131  </td></tr>\n",
       "\t<tr><td>0001      </td><td>EPE       </td><td>EPS       </td><td>QTR       </td><td>2014      </td><td> 3        </td><td>1         </td><td>2014-05-07</td><td> 0.18     </td><td>0.15090   </td><td>0.03553   </td><td> 0.81898  </td></tr>\n",
       "\t<tr><td>0001      </td><td>EPE       </td><td>EPS       </td><td>QTR       </td><td>2014      </td><td> 6        </td><td>1         </td><td>2014-08-06</td><td> 0.23     </td><td>0.19858   </td><td>0.02975   </td><td> 1.05617  </td></tr>\n",
       "\t<tr><td>0001      </td><td>EPE       </td><td>EPS       </td><td>QTR       </td><td>2014      </td><td> 9        </td><td>1         </td><td>2014-11-04</td><td> 0.24     </td><td>0.22411   </td><td>0.02906   </td><td> 0.54691  </td></tr>\n",
       "\t<tr><td>0001      </td><td>EPE       </td><td>EPS       </td><td>ANN       </td><td>2014      </td><td>12        </td><td>1         </td><td>2015-02-18</td><td> 0.86     </td><td>0.87665   </td><td>0.03691   </td><td>-0.45110  </td></tr>\n",
       "\t<tr><td>0001      </td><td>EPE       </td><td>EPS       </td><td>QTR       </td><td>2014      </td><td>12        </td><td>1         </td><td>2015-02-18</td><td> 0.22     </td><td>0.23095   </td><td>0.03504   </td><td>-0.31265  </td></tr>\n",
       "\t<tr><td>0001      </td><td>EPE       </td><td>EPS       </td><td>ANN       </td><td>2015      </td><td>12        </td><td>1         </td><td>2016-02-18</td><td> 0.78     </td><td>0.76650   </td><td>0.10728   </td><td> 0.12584  </td></tr>\n",
       "</tbody>\n",
       "</table>\n"
      ],
      "text/latex": [
       "\\begin{tabular}{r|llllllllllll}\n",
       " ticker & oftic & measure & fiscalp & pyear & pmon & usfirm & anndats & actual & surpmean & surpstdev & suescore\\\\\n",
       "\\hline\n",
       "\t 0000       & TLMR       & EPS        & QTR        & 2014       &  3         & 1          & 2014-05-06 &  0.12      & 0.08000    & 0.01414    &  2.82845  \\\\\n",
       "\t 0000       & TLMR       & EPS        & QTR        & 2014       &  6         & 1          & 2014-08-06 &  0.27      & 0.13000    & 0.01225    & 11.43137  \\\\\n",
       "\t 0000       & TLMR       & EPS        & QTR        & 2014       &  9         & 1          & 2014-11-04 &  0.26      & 0.23200    & 0.05848    &  0.47879  \\\\\n",
       "\t 0000       & TLMR       & EPS        & ANN        & 2014       & 12         & 1          & 2015-01-30 &  1.21      & 1.19400    & 0.03131    &  0.51110  \\\\\n",
       "\t 0000       & TLMR       & EPS        & QTR        & 2014       & 12         & 1          & 2015-01-30 &  0.16      & 0.17167    & 0.01169    & -0.99800  \\\\\n",
       "\t 0000       & TLMR       & EPS        & QTR        & 2015       &  3         & 1          & 2015-04-30 &  0.12      & 0.17833    & 0.01835    & -3.17927  \\\\\n",
       "\t 0000       & TLMR       & EPS        & QTR        & 2015       &  6         & 1          & 2015-07-30 &  0.23      & 0.21400    & 0.00894    &  1.78891  \\\\\n",
       "\t 0000       & TLMR       & EPS        & QTR        & 2015       &  9         & 1          & 2015-10-28 &  0.27      & 0.24000    & 0.01414    &  2.12134  \\\\\n",
       "\t 0000       & TLMR       & EPS        & ANN        & 2015       & 12         & 1          & 2016-01-26 &  1.02      & 0.85600    & 0.09940    &  1.64993  \\\\\n",
       "\t 0000       & TLMR       & EPS        & QTR        & 2015       & 12         & 1          & 2016-01-26 &  0.40      & 0.23000    & 0.09055    &  1.87733  \\\\\n",
       "\t 0000       & TLMR       & EPS        & QTR        & 2016       &  3         & 1          & 2016-04-27 &  0.28      & 0.28000    & 0.01225    &  0.00000  \\\\\n",
       "\t 0000       & TLMR       & EPS        & QTR        & 2016       &  6         & 1          & 2016-07-27 &  0.28      & 0.31000    & 0.01000    & -3.00000  \\\\\n",
       "\t 0001       & EPE        & EPS        & ANN        & 2013       & 12         & 1          & 2014-02-27 & -0.28      & 0.50600    & 0.21466    & -3.66155  \\\\\n",
       "\t 0001       & EPE        & EPS        & QTR        & 2013       & 12         & 1          & 2014-02-27 &  0.20      & 0.22400    & 0.10376    & -0.23131  \\\\\n",
       "\t 0001       & EPE        & EPS        & QTR        & 2014       &  3         & 1          & 2014-05-07 &  0.18      & 0.15090    & 0.03553    &  0.81898  \\\\\n",
       "\t 0001       & EPE        & EPS        & QTR        & 2014       &  6         & 1          & 2014-08-06 &  0.23      & 0.19858    & 0.02975    &  1.05617  \\\\\n",
       "\t 0001       & EPE        & EPS        & QTR        & 2014       &  9         & 1          & 2014-11-04 &  0.24      & 0.22411    & 0.02906    &  0.54691  \\\\\n",
       "\t 0001       & EPE        & EPS        & ANN        & 2014       & 12         & 1          & 2015-02-18 &  0.86      & 0.87665    & 0.03691    & -0.45110  \\\\\n",
       "\t 0001       & EPE        & EPS        & QTR        & 2014       & 12         & 1          & 2015-02-18 &  0.22      & 0.23095    & 0.03504    & -0.31265  \\\\\n",
       "\t 0001       & EPE        & EPS        & ANN        & 2015       & 12         & 1          & 2016-02-18 &  0.78      & 0.76650    & 0.10728    &  0.12584  \\\\\n",
       "\\end{tabular}\n"
      ],
      "text/markdown": [
       "\n",
       "| ticker | oftic | measure | fiscalp | pyear | pmon | usfirm | anndats | actual | surpmean | surpstdev | suescore |\n",
       "|---|---|---|---|---|---|---|---|---|---|---|---|\n",
       "| 0000       | TLMR       | EPS        | QTR        | 2014       |  3         | 1          | 2014-05-06 |  0.12      | 0.08000    | 0.01414    |  2.82845   |\n",
       "| 0000       | TLMR       | EPS        | QTR        | 2014       |  6         | 1          | 2014-08-06 |  0.27      | 0.13000    | 0.01225    | 11.43137   |\n",
       "| 0000       | TLMR       | EPS        | QTR        | 2014       |  9         | 1          | 2014-11-04 |  0.26      | 0.23200    | 0.05848    |  0.47879   |\n",
       "| 0000       | TLMR       | EPS        | ANN        | 2014       | 12         | 1          | 2015-01-30 |  1.21      | 1.19400    | 0.03131    |  0.51110   |\n",
       "| 0000       | TLMR       | EPS        | QTR        | 2014       | 12         | 1          | 2015-01-30 |  0.16      | 0.17167    | 0.01169    | -0.99800   |\n",
       "| 0000       | TLMR       | EPS        | QTR        | 2015       |  3         | 1          | 2015-04-30 |  0.12      | 0.17833    | 0.01835    | -3.17927   |\n",
       "| 0000       | TLMR       | EPS        | QTR        | 2015       |  6         | 1          | 2015-07-30 |  0.23      | 0.21400    | 0.00894    |  1.78891   |\n",
       "| 0000       | TLMR       | EPS        | QTR        | 2015       |  9         | 1          | 2015-10-28 |  0.27      | 0.24000    | 0.01414    |  2.12134   |\n",
       "| 0000       | TLMR       | EPS        | ANN        | 2015       | 12         | 1          | 2016-01-26 |  1.02      | 0.85600    | 0.09940    |  1.64993   |\n",
       "| 0000       | TLMR       | EPS        | QTR        | 2015       | 12         | 1          | 2016-01-26 |  0.40      | 0.23000    | 0.09055    |  1.87733   |\n",
       "| 0000       | TLMR       | EPS        | QTR        | 2016       |  3         | 1          | 2016-04-27 |  0.28      | 0.28000    | 0.01225    |  0.00000   |\n",
       "| 0000       | TLMR       | EPS        | QTR        | 2016       |  6         | 1          | 2016-07-27 |  0.28      | 0.31000    | 0.01000    | -3.00000   |\n",
       "| 0001       | EPE        | EPS        | ANN        | 2013       | 12         | 1          | 2014-02-27 | -0.28      | 0.50600    | 0.21466    | -3.66155   |\n",
       "| 0001       | EPE        | EPS        | QTR        | 2013       | 12         | 1          | 2014-02-27 |  0.20      | 0.22400    | 0.10376    | -0.23131   |\n",
       "| 0001       | EPE        | EPS        | QTR        | 2014       |  3         | 1          | 2014-05-07 |  0.18      | 0.15090    | 0.03553    |  0.81898   |\n",
       "| 0001       | EPE        | EPS        | QTR        | 2014       |  6         | 1          | 2014-08-06 |  0.23      | 0.19858    | 0.02975    |  1.05617   |\n",
       "| 0001       | EPE        | EPS        | QTR        | 2014       |  9         | 1          | 2014-11-04 |  0.24      | 0.22411    | 0.02906    |  0.54691   |\n",
       "| 0001       | EPE        | EPS        | ANN        | 2014       | 12         | 1          | 2015-02-18 |  0.86      | 0.87665    | 0.03691    | -0.45110   |\n",
       "| 0001       | EPE        | EPS        | QTR        | 2014       | 12         | 1          | 2015-02-18 |  0.22      | 0.23095    | 0.03504    | -0.31265   |\n",
       "| 0001       | EPE        | EPS        | ANN        | 2015       | 12         | 1          | 2016-02-18 |  0.78      | 0.76650    | 0.10728    |  0.12584   |\n",
       "\n"
      ],
      "text/plain": [
       "   ticker oftic measure fiscalp pyear pmon usfirm anndats    actual surpmean\n",
       "1  0000   TLMR  EPS     QTR     2014   3   1      2014-05-06  0.12  0.08000 \n",
       "2  0000   TLMR  EPS     QTR     2014   6   1      2014-08-06  0.27  0.13000 \n",
       "3  0000   TLMR  EPS     QTR     2014   9   1      2014-11-04  0.26  0.23200 \n",
       "4  0000   TLMR  EPS     ANN     2014  12   1      2015-01-30  1.21  1.19400 \n",
       "5  0000   TLMR  EPS     QTR     2014  12   1      2015-01-30  0.16  0.17167 \n",
       "6  0000   TLMR  EPS     QTR     2015   3   1      2015-04-30  0.12  0.17833 \n",
       "7  0000   TLMR  EPS     QTR     2015   6   1      2015-07-30  0.23  0.21400 \n",
       "8  0000   TLMR  EPS     QTR     2015   9   1      2015-10-28  0.27  0.24000 \n",
       "9  0000   TLMR  EPS     ANN     2015  12   1      2016-01-26  1.02  0.85600 \n",
       "10 0000   TLMR  EPS     QTR     2015  12   1      2016-01-26  0.40  0.23000 \n",
       "11 0000   TLMR  EPS     QTR     2016   3   1      2016-04-27  0.28  0.28000 \n",
       "12 0000   TLMR  EPS     QTR     2016   6   1      2016-07-27  0.28  0.31000 \n",
       "13 0001   EPE   EPS     ANN     2013  12   1      2014-02-27 -0.28  0.50600 \n",
       "14 0001   EPE   EPS     QTR     2013  12   1      2014-02-27  0.20  0.22400 \n",
       "15 0001   EPE   EPS     QTR     2014   3   1      2014-05-07  0.18  0.15090 \n",
       "16 0001   EPE   EPS     QTR     2014   6   1      2014-08-06  0.23  0.19858 \n",
       "17 0001   EPE   EPS     QTR     2014   9   1      2014-11-04  0.24  0.22411 \n",
       "18 0001   EPE   EPS     ANN     2014  12   1      2015-02-18  0.86  0.87665 \n",
       "19 0001   EPE   EPS     QTR     2014  12   1      2015-02-18  0.22  0.23095 \n",
       "20 0001   EPE   EPS     ANN     2015  12   1      2016-02-18  0.78  0.76650 \n",
       "   surpstdev suescore\n",
       "1  0.01414    2.82845\n",
       "2  0.01225   11.43137\n",
       "3  0.05848    0.47879\n",
       "4  0.03131    0.51110\n",
       "5  0.01169   -0.99800\n",
       "6  0.01835   -3.17927\n",
       "7  0.00894    1.78891\n",
       "8  0.01414    2.12134\n",
       "9  0.09940    1.64993\n",
       "10 0.09055    1.87733\n",
       "11 0.01225    0.00000\n",
       "12 0.01000   -3.00000\n",
       "13 0.21466   -3.66155\n",
       "14 0.10376   -0.23131\n",
       "15 0.03553    0.81898\n",
       "16 0.02975    1.05617\n",
       "17 0.02906    0.54691\n",
       "18 0.03691   -0.45110\n",
       "19 0.03504   -0.31265\n",
       "20 0.10728    0.12584"
      ]
     },
     "metadata": {},
     "output_type": "display_data"
    }
   ],
   "source": [
    "surpsum = ibes_surpsum[measure=='EPS' & usfirm==1\n",
    "    ][order(ticker, anndats)]\n",
    "surpsum[1:20]"
   ]
  },
  {
   "cell_type": "code",
   "execution_count": 48,
   "metadata": {
    "scrolled": true
   },
   "outputs": [
    {
     "data": {
      "text/html": [
       "<table>\n",
       "<thead><tr><th scope=col>ticker</th><th scope=col>oftic</th><th scope=col>measure</th><th scope=col>fiscalp</th><th scope=col>pyear</th><th scope=col>pmon</th><th scope=col>usfirm</th><th scope=col>anndats</th><th scope=col>actual</th><th scope=col>surpmean</th><th scope=col>surpstdev</th><th scope=col>suescore</th></tr></thead>\n",
       "<tbody>\n",
       "\t<tr><td>CMVT      </td><td>CMVT      </td><td>EPS       </td><td>ANN       </td><td>2006      </td><td> 1        </td><td>1         </td><td>2010-10-04</td><td> 0.57     </td><td>0.58000   </td><td>0.04761   </td><td> -0.21004 </td></tr>\n",
       "\t<tr><td>CMVT      </td><td>CMVT      </td><td>EPS       </td><td>QTR       </td><td>2006      </td><td> 1        </td><td>1         </td><td>2010-10-04</td><td> 0.14     </td><td>0.17750   </td><td>0.02500   </td><td> -1.50000 </td></tr>\n",
       "\t<tr><td>CMVT      </td><td>CMVT      </td><td>EPS       </td><td>QTR       </td><td>2006      </td><td> 4        </td><td>1         </td><td>2010-10-04</td><td>-0.36     </td><td>0.16750   </td><td>0.06076   </td><td> -8.68184 </td></tr>\n",
       "\t<tr><td>CMVT      </td><td>CMVT      </td><td>EPS       </td><td>QTR       </td><td>2006      </td><td> 7        </td><td>1         </td><td>2010-10-04</td><td>-0.45     </td><td>0.19500   </td><td>0.02887   </td><td>-22.34308 </td></tr>\n",
       "\t<tr><td>CMVT      </td><td>CMVT      </td><td>EPS       </td><td>QTR       </td><td>2006      </td><td>10        </td><td>1         </td><td>2010-10-04</td><td>-0.14     </td><td>0.18000   </td><td>0.02944   </td><td>-10.86993 </td></tr>\n",
       "\t<tr><td>CMVT      </td><td>CMVT      </td><td>EPS       </td><td>ANN       </td><td>2007      </td><td> 1        </td><td>1         </td><td>2010-10-04</td><td>-1.55     </td><td>0.69800   </td><td>0.03115   </td><td>-72.17852 </td></tr>\n",
       "\t<tr><td>CMVT      </td><td>CMVT      </td><td>EPS       </td><td>QTR       </td><td>2007      </td><td> 1        </td><td>1         </td><td>2010-10-04</td><td>-0.88     </td><td>0.17250   </td><td>0.05315   </td><td>-19.80207 </td></tr>\n",
       "\t<tr><td>CMVT      </td><td>CMVT      </td><td>EPS       </td><td>QTR       </td><td>2007      </td><td> 4        </td><td>1         </td><td>2010-10-04</td><td>-0.53     </td><td>0.09125   </td><td>0.03271   </td><td>-18.99557 </td></tr>\n",
       "\t<tr><td>CMVT      </td><td>CMVT      </td><td>EPS       </td><td>QTR       </td><td>2007      </td><td> 7        </td><td>1         </td><td>2010-10-04</td><td>-0.82     </td><td>0.16375   </td><td>0.02134   </td><td>-46.10104 </td></tr>\n",
       "\t<tr><td>CMVT      </td><td>CMVT      </td><td>EPS       </td><td>QTR       </td><td>2007      </td><td>10        </td><td>1         </td><td>2010-10-04</td><td>-0.16     </td><td>0.18250   </td><td>0.02605   </td><td>-13.14830 </td></tr>\n",
       "\t<tr><td>CMVT      </td><td>CMVT      </td><td>EPS       </td><td>ANN       </td><td>2008      </td><td> 1        </td><td>1         </td><td>2010-10-04</td><td>-1.83     </td><td>0.62000   </td><td>0.07681   </td><td>-31.89647 </td></tr>\n",
       "\t<tr><td>CMVT      </td><td>CMVT      </td><td>EPS       </td><td>QTR       </td><td>2008      </td><td> 1        </td><td>1         </td><td>2010-10-04</td><td>-0.05     </td><td>0.21250   </td><td>0.03770   </td><td> -6.96250 </td></tr>\n",
       "\t<tr><td>CMVT      </td><td>CMVT      </td><td>EPS       </td><td>QTR       </td><td>2008      </td><td> 4        </td><td>1         </td><td>2010-10-04</td><td>   NA     </td><td>0.13750   </td><td>0.06850   </td><td>       NA </td></tr>\n",
       "\t<tr><td>CMVT      </td><td>CMVT      </td><td>EPS       </td><td>QTR       </td><td>2008      </td><td> 7        </td><td>1         </td><td>2010-10-04</td><td>   NA     </td><td>0.15250   </td><td>0.06652   </td><td>       NA </td></tr>\n",
       "\t<tr><td>CMVT      </td><td>CMVT      </td><td>EPS       </td><td>QTR       </td><td>2008      </td><td>10        </td><td>1         </td><td>2010-10-04</td><td>   NA     </td><td>0.15500   </td><td>0.06557   </td><td>       NA </td></tr>\n",
       "\t<tr><td>CMVT      </td><td>CMVT      </td><td>EPS       </td><td>ANN       </td><td>2009      </td><td> 1        </td><td>1         </td><td>2010-10-04</td><td>-1.57     </td><td>0.45000   </td><td>0.14742   </td><td>-13.70216 </td></tr>\n",
       "\t<tr><td>CMVT      </td><td>CMVT      </td><td>EPS       </td><td>QTR       </td><td>2009      </td><td> 1        </td><td>1         </td><td>2010-10-04</td><td>   NA     </td><td>0.13000   </td><td>0.04359   </td><td>       NA </td></tr>\n",
       "</tbody>\n",
       "</table>\n"
      ],
      "text/latex": [
       "\\begin{tabular}{r|llllllllllll}\n",
       " ticker & oftic & measure & fiscalp & pyear & pmon & usfirm & anndats & actual & surpmean & surpstdev & suescore\\\\\n",
       "\\hline\n",
       "\t CMVT       & CMVT       & EPS        & ANN        & 2006       &  1         & 1          & 2010-10-04 &  0.57      & 0.58000    & 0.04761    &  -0.21004 \\\\\n",
       "\t CMVT       & CMVT       & EPS        & QTR        & 2006       &  1         & 1          & 2010-10-04 &  0.14      & 0.17750    & 0.02500    &  -1.50000 \\\\\n",
       "\t CMVT       & CMVT       & EPS        & QTR        & 2006       &  4         & 1          & 2010-10-04 & -0.36      & 0.16750    & 0.06076    &  -8.68184 \\\\\n",
       "\t CMVT       & CMVT       & EPS        & QTR        & 2006       &  7         & 1          & 2010-10-04 & -0.45      & 0.19500    & 0.02887    & -22.34308 \\\\\n",
       "\t CMVT       & CMVT       & EPS        & QTR        & 2006       & 10         & 1          & 2010-10-04 & -0.14      & 0.18000    & 0.02944    & -10.86993 \\\\\n",
       "\t CMVT       & CMVT       & EPS        & ANN        & 2007       &  1         & 1          & 2010-10-04 & -1.55      & 0.69800    & 0.03115    & -72.17852 \\\\\n",
       "\t CMVT       & CMVT       & EPS        & QTR        & 2007       &  1         & 1          & 2010-10-04 & -0.88      & 0.17250    & 0.05315    & -19.80207 \\\\\n",
       "\t CMVT       & CMVT       & EPS        & QTR        & 2007       &  4         & 1          & 2010-10-04 & -0.53      & 0.09125    & 0.03271    & -18.99557 \\\\\n",
       "\t CMVT       & CMVT       & EPS        & QTR        & 2007       &  7         & 1          & 2010-10-04 & -0.82      & 0.16375    & 0.02134    & -46.10104 \\\\\n",
       "\t CMVT       & CMVT       & EPS        & QTR        & 2007       & 10         & 1          & 2010-10-04 & -0.16      & 0.18250    & 0.02605    & -13.14830 \\\\\n",
       "\t CMVT       & CMVT       & EPS        & ANN        & 2008       &  1         & 1          & 2010-10-04 & -1.83      & 0.62000    & 0.07681    & -31.89647 \\\\\n",
       "\t CMVT       & CMVT       & EPS        & QTR        & 2008       &  1         & 1          & 2010-10-04 & -0.05      & 0.21250    & 0.03770    &  -6.96250 \\\\\n",
       "\t CMVT       & CMVT       & EPS        & QTR        & 2008       &  4         & 1          & 2010-10-04 &    NA      & 0.13750    & 0.06850    &        NA \\\\\n",
       "\t CMVT       & CMVT       & EPS        & QTR        & 2008       &  7         & 1          & 2010-10-04 &    NA      & 0.15250    & 0.06652    &        NA \\\\\n",
       "\t CMVT       & CMVT       & EPS        & QTR        & 2008       & 10         & 1          & 2010-10-04 &    NA      & 0.15500    & 0.06557    &        NA \\\\\n",
       "\t CMVT       & CMVT       & EPS        & ANN        & 2009       &  1         & 1          & 2010-10-04 & -1.57      & 0.45000    & 0.14742    & -13.70216 \\\\\n",
       "\t CMVT       & CMVT       & EPS        & QTR        & 2009       &  1         & 1          & 2010-10-04 &    NA      & 0.13000    & 0.04359    &        NA \\\\\n",
       "\\end{tabular}\n"
      ],
      "text/markdown": [
       "\n",
       "| ticker | oftic | measure | fiscalp | pyear | pmon | usfirm | anndats | actual | surpmean | surpstdev | suescore |\n",
       "|---|---|---|---|---|---|---|---|---|---|---|---|\n",
       "| CMVT       | CMVT       | EPS        | ANN        | 2006       |  1         | 1          | 2010-10-04 |  0.57      | 0.58000    | 0.04761    |  -0.21004  |\n",
       "| CMVT       | CMVT       | EPS        | QTR        | 2006       |  1         | 1          | 2010-10-04 |  0.14      | 0.17750    | 0.02500    |  -1.50000  |\n",
       "| CMVT       | CMVT       | EPS        | QTR        | 2006       |  4         | 1          | 2010-10-04 | -0.36      | 0.16750    | 0.06076    |  -8.68184  |\n",
       "| CMVT       | CMVT       | EPS        | QTR        | 2006       |  7         | 1          | 2010-10-04 | -0.45      | 0.19500    | 0.02887    | -22.34308  |\n",
       "| CMVT       | CMVT       | EPS        | QTR        | 2006       | 10         | 1          | 2010-10-04 | -0.14      | 0.18000    | 0.02944    | -10.86993  |\n",
       "| CMVT       | CMVT       | EPS        | ANN        | 2007       |  1         | 1          | 2010-10-04 | -1.55      | 0.69800    | 0.03115    | -72.17852  |\n",
       "| CMVT       | CMVT       | EPS        | QTR        | 2007       |  1         | 1          | 2010-10-04 | -0.88      | 0.17250    | 0.05315    | -19.80207  |\n",
       "| CMVT       | CMVT       | EPS        | QTR        | 2007       |  4         | 1          | 2010-10-04 | -0.53      | 0.09125    | 0.03271    | -18.99557  |\n",
       "| CMVT       | CMVT       | EPS        | QTR        | 2007       |  7         | 1          | 2010-10-04 | -0.82      | 0.16375    | 0.02134    | -46.10104  |\n",
       "| CMVT       | CMVT       | EPS        | QTR        | 2007       | 10         | 1          | 2010-10-04 | -0.16      | 0.18250    | 0.02605    | -13.14830  |\n",
       "| CMVT       | CMVT       | EPS        | ANN        | 2008       |  1         | 1          | 2010-10-04 | -1.83      | 0.62000    | 0.07681    | -31.89647  |\n",
       "| CMVT       | CMVT       | EPS        | QTR        | 2008       |  1         | 1          | 2010-10-04 | -0.05      | 0.21250    | 0.03770    |  -6.96250  |\n",
       "| CMVT       | CMVT       | EPS        | QTR        | 2008       |  4         | 1          | 2010-10-04 |    NA      | 0.13750    | 0.06850    |        NA  |\n",
       "| CMVT       | CMVT       | EPS        | QTR        | 2008       |  7         | 1          | 2010-10-04 |    NA      | 0.15250    | 0.06652    |        NA  |\n",
       "| CMVT       | CMVT       | EPS        | QTR        | 2008       | 10         | 1          | 2010-10-04 |    NA      | 0.15500    | 0.06557    |        NA  |\n",
       "| CMVT       | CMVT       | EPS        | ANN        | 2009       |  1         | 1          | 2010-10-04 | -1.57      | 0.45000    | 0.14742    | -13.70216  |\n",
       "| CMVT       | CMVT       | EPS        | QTR        | 2009       |  1         | 1          | 2010-10-04 |    NA      | 0.13000    | 0.04359    |        NA  |\n",
       "\n"
      ],
      "text/plain": [
       "   ticker oftic measure fiscalp pyear pmon usfirm anndats    actual surpmean\n",
       "1  CMVT   CMVT  EPS     ANN     2006   1   1      2010-10-04  0.57  0.58000 \n",
       "2  CMVT   CMVT  EPS     QTR     2006   1   1      2010-10-04  0.14  0.17750 \n",
       "3  CMVT   CMVT  EPS     QTR     2006   4   1      2010-10-04 -0.36  0.16750 \n",
       "4  CMVT   CMVT  EPS     QTR     2006   7   1      2010-10-04 -0.45  0.19500 \n",
       "5  CMVT   CMVT  EPS     QTR     2006  10   1      2010-10-04 -0.14  0.18000 \n",
       "6  CMVT   CMVT  EPS     ANN     2007   1   1      2010-10-04 -1.55  0.69800 \n",
       "7  CMVT   CMVT  EPS     QTR     2007   1   1      2010-10-04 -0.88  0.17250 \n",
       "8  CMVT   CMVT  EPS     QTR     2007   4   1      2010-10-04 -0.53  0.09125 \n",
       "9  CMVT   CMVT  EPS     QTR     2007   7   1      2010-10-04 -0.82  0.16375 \n",
       "10 CMVT   CMVT  EPS     QTR     2007  10   1      2010-10-04 -0.16  0.18250 \n",
       "11 CMVT   CMVT  EPS     ANN     2008   1   1      2010-10-04 -1.83  0.62000 \n",
       "12 CMVT   CMVT  EPS     QTR     2008   1   1      2010-10-04 -0.05  0.21250 \n",
       "13 CMVT   CMVT  EPS     QTR     2008   4   1      2010-10-04    NA  0.13750 \n",
       "14 CMVT   CMVT  EPS     QTR     2008   7   1      2010-10-04    NA  0.15250 \n",
       "15 CMVT   CMVT  EPS     QTR     2008  10   1      2010-10-04    NA  0.15500 \n",
       "16 CMVT   CMVT  EPS     ANN     2009   1   1      2010-10-04 -1.57  0.45000 \n",
       "17 CMVT   CMVT  EPS     QTR     2009   1   1      2010-10-04    NA  0.13000 \n",
       "   surpstdev suescore \n",
       "1  0.04761    -0.21004\n",
       "2  0.02500    -1.50000\n",
       "3  0.06076    -8.68184\n",
       "4  0.02887   -22.34308\n",
       "5  0.02944   -10.86993\n",
       "6  0.03115   -72.17852\n",
       "7  0.05315   -19.80207\n",
       "8  0.03271   -18.99557\n",
       "9  0.02134   -46.10104\n",
       "10 0.02605   -13.14830\n",
       "11 0.07681   -31.89647\n",
       "12 0.03770    -6.96250\n",
       "13 0.06850          NA\n",
       "14 0.06652          NA\n",
       "15 0.06557          NA\n",
       "16 0.14742   -13.70216\n",
       "17 0.04359          NA"
      ]
     },
     "metadata": {},
     "output_type": "display_data"
    }
   ],
   "source": [
    "surpsum[ticker=='CMVT' & anndats==as.Date('2010-10-04')\n",
    "    ][order(ticker, anndats, pyear, pmon)]"
   ]
  },
  {
   "cell_type": "code",
   "execution_count": 46,
   "metadata": {
    "scrolled": true
   },
   "outputs": [
    {
     "data": {
      "text/html": [
       "<table>\n",
       "<thead><tr><th scope=col>ticker</th><th scope=col>fpedats</th><th scope=col>anndats_act</th><th scope=col>actual</th><th scope=col>i.actual</th><th scope=col>pyear</th><th scope=col>pmon</th><th scope=col>surpmean</th><th scope=col>surpstdev</th><th scope=col>suescore</th></tr></thead>\n",
       "<tbody>\n",
       "\t<tr><td>AA0A      </td><td>2017-12-31</td><td>2018-02-01</td><td> 0.2200   </td><td>NA        </td><td>2017      </td><td>12        </td><td>  0.22667 </td><td>0.00577   </td><td>NA        </td></tr>\n",
       "\t<tr><td>BBWA      </td><td>2017-12-31</td><td>2018-02-15</td><td> 0.6000   </td><td>NA        </td><td>2017      </td><td>12        </td><td>  0.51500 </td><td>0.03535   </td><td>NA        </td></tr>\n",
       "\t<tr><td>BBWA      </td><td>2017-12-31</td><td>2018-02-15</td><td> 0.4300   </td><td>NA        </td><td>2017      </td><td>12        </td><td>  0.34333 </td><td>0.02517   </td><td>NA        </td></tr>\n",
       "\t<tr><td>CMVT      </td><td>2006-01-31</td><td>2010-10-04</td><td> 0.1400   </td><td>NA        </td><td>2008      </td><td> 4        </td><td>  0.13750 </td><td>0.06850   </td><td>NA        </td></tr>\n",
       "\t<tr><td>CMVT      </td><td>2006-04-30</td><td>2010-10-04</td><td>-0.3600   </td><td>NA        </td><td>2008      </td><td> 4        </td><td>  0.13750 </td><td>0.06850   </td><td>NA        </td></tr>\n",
       "\t<tr><td>CMVT      </td><td>2006-01-31</td><td>2010-10-04</td><td> 0.1400   </td><td>NA        </td><td>2008      </td><td> 7        </td><td>  0.15250 </td><td>0.06652   </td><td>NA        </td></tr>\n",
       "\t<tr><td>CMVT      </td><td>2006-04-30</td><td>2010-10-04</td><td>-0.3600   </td><td>NA        </td><td>2008      </td><td> 7        </td><td>  0.15250 </td><td>0.06652   </td><td>NA        </td></tr>\n",
       "\t<tr><td>CMVT      </td><td>2006-01-31</td><td>2010-10-04</td><td> 0.1400   </td><td>NA        </td><td>2008      </td><td>10        </td><td>  0.15500 </td><td>0.06557   </td><td>NA        </td></tr>\n",
       "\t<tr><td>CMVT      </td><td>2006-04-30</td><td>2010-10-04</td><td>-0.3600   </td><td>NA        </td><td>2008      </td><td>10        </td><td>  0.15500 </td><td>0.06557   </td><td>NA        </td></tr>\n",
       "\t<tr><td>CMVT      </td><td>2006-01-31</td><td>2010-10-04</td><td> 0.1400   </td><td>NA        </td><td>2009      </td><td> 1        </td><td>  0.13000 </td><td>0.04359   </td><td>NA        </td></tr>\n",
       "\t<tr><td>CMVT      </td><td>2006-04-30</td><td>2010-10-04</td><td>-0.3600   </td><td>NA        </td><td>2009      </td><td> 1        </td><td>  0.13000 </td><td>0.04359   </td><td>NA        </td></tr>\n",
       "\t<tr><td>CNXT      </td><td>2002-09-30</td><td>2002-10-22</td><td>-9.7000   </td><td>NA        </td><td>2002      </td><td> 9        </td><td>-10.03333 </td><td>0.04924   </td><td>NA        </td></tr>\n",
       "\t<tr><td>CNXT      </td><td>2002-09-30</td><td>2002-10-22</td><td>-1.6000   </td><td>NA        </td><td>2002      </td><td> 9        </td><td> -1.89167 </td><td>0.05149   </td><td>NA        </td></tr>\n",
       "\t<tr><td>CREO      </td><td>2002-09-30</td><td>2002-11-14</td><td> 0.0000   </td><td>NA        </td><td>2002      </td><td> 9        </td><td>  0.62600 </td><td>0.71766   </td><td>NA        </td></tr>\n",
       "\t<tr><td>CREO      </td><td>2002-09-30</td><td>2002-11-14</td><td> 0.0600   </td><td>NA        </td><td>2002      </td><td> 9        </td><td>  0.02000 </td><td>0.00000   </td><td>NA        </td></tr>\n",
       "\t<tr><td>CYWY      </td><td>2003-12-31</td><td>2004-05-11</td><td> 0.2500   </td><td>NA        </td><td>1999      </td><td>12        </td><td>  0.33750 </td><td>0.03182   </td><td>NA        </td></tr>\n",
       "\t<tr><td>DES       </td><td>2000-03-31</td><td>2001-07-27</td><td> 0.4300   </td><td>NA        </td><td>2000      </td><td> 9        </td><td>  0.67000 </td><td>     NA   </td><td>NA        </td></tr>\n",
       "\t<tr><td>DES       </td><td>2000-03-31</td><td>2001-07-27</td><td> 0.4300   </td><td>NA        </td><td>2000      </td><td>12        </td><td>  0.37000 </td><td>     NA   </td><td>NA        </td></tr>\n",
       "\t<tr><td>DII1      </td><td>2010-03-31</td><td>2010-05-06</td><td> 1.1200   </td><td>NA        </td><td>2010      </td><td> 3        </td><td>  0.82000 </td><td>     NA   </td><td>NA        </td></tr>\n",
       "\t<tr><td>HCP       </td><td>2003-09-30</td><td>2003-11-03</td><td> 0.2600   </td><td>NA        </td><td>2001      </td><td>12        </td><td>  0.42500 </td><td>0.00000   </td><td>NA        </td></tr>\n",
       "\t<tr><td>HFWA      </td><td>2012-09-30</td><td>2012-10-30</td><td> 0.1900   </td><td>NA        </td><td>2012      </td><td>12        </td><td>  0.20500 </td><td>0.02429   </td><td>NA        </td></tr>\n",
       "\t<tr><td>KIM       </td><td>2002-03-31</td><td>2002-10-29</td><td> 0.2650   </td><td>NA        </td><td>2002      </td><td> 6        </td><td>  0.28000 </td><td>0.02828   </td><td>NA        </td></tr>\n",
       "\t<tr><td>KYE       </td><td>2010-11-30</td><td>2011-01-27</td><td> 0.0000   </td><td>NA        </td><td>2010      </td><td>11        </td><td>  0.05000 </td><td>     NA   </td><td>NA        </td></tr>\n",
       "\t<tr><td>MYLG      </td><td>2013-12-31</td><td>2014-03-18</td><td>-0.8800   </td><td>NA        </td><td>2013      </td><td> 6        </td><td> -0.74201 </td><td>     NA   </td><td>NA        </td></tr>\n",
       "\t<tr><td>PERY      </td><td>2003-12-31</td><td>2004-05-05</td><td> 1.9900   </td><td>NA        </td><td>1998      </td><td>12        </td><td>  0.74880 </td><td>     NA   </td><td>NA        </td></tr>\n",
       "\t<tr><td>PWRD      </td><td>2011-03-31</td><td>2011-05-23</td><td> 0.7600   </td><td>NA        </td><td>2011      </td><td> 3        </td><td>  0.54506 </td><td>0.08704   </td><td>NA        </td></tr>\n",
       "\t<tr><td>PWRD      </td><td>2011-06-30</td><td>2011-08-22</td><td> 0.9200   </td><td>NA        </td><td>2011      </td><td> 6        </td><td>  0.58797 </td><td>0.08992   </td><td>NA        </td></tr>\n",
       "\t<tr><td>REVU      </td><td>2001-12-31</td><td>2002-02-28</td><td>-0.6800   </td><td>NA        </td><td>2001      </td><td>12        </td><td> -0.69333 </td><td>0.00577   </td><td>NA        </td></tr>\n",
       "\t<tr><td>RGFC      </td><td>2006-12-31</td><td>2009-06-12</td><td>-0.4600   </td><td>NA        </td><td>2005      </td><td>12        </td><td>  1.01000 </td><td>0.24042   </td><td>NA        </td></tr>\n",
       "\t<tr><td>RLTY      </td><td>2001-12-31</td><td>2002-02-06</td><td> 0.7950   </td><td>NA        </td><td>2001      </td><td>12        </td><td>  0.79500 </td><td>     NA   </td><td>NA        </td></tr>\n",
       "\t<tr><td>SASO      </td><td>2000-06-30</td><td>2002-09-10</td><td> 1.0400   </td><td>NA        </td><td>1999      </td><td> 6        </td><td>  0.63000 </td><td>     NA   </td><td>NA        </td></tr>\n",
       "\t<tr><td>SASO      </td><td>2001-06-30</td><td>2002-09-10</td><td> 1.4600   </td><td>NA        </td><td>1999      </td><td> 6        </td><td>  0.63000 </td><td>     NA   </td><td>NA        </td></tr>\n",
       "\t<tr><td>SASO      </td><td>2002-06-30</td><td>2002-09-10</td><td> 1.4600   </td><td>NA        </td><td>1999      </td><td> 6        </td><td>  0.63000 </td><td>     NA   </td><td>NA        </td></tr>\n",
       "\t<tr><td>SCAN      </td><td>2002-12-31</td><td>2003-03-03</td><td> 0.9000   </td><td>NA        </td><td>2001      </td><td> 3        </td><td>  0.15000 </td><td>0.00000   </td><td>NA        </td></tr>\n",
       "\t<tr><td>SCAN      </td><td>2002-12-31</td><td>2003-03-03</td><td> 0.9000   </td><td>NA        </td><td>2001      </td><td> 6        </td><td>  0.40000 </td><td>0.00000   </td><td>NA        </td></tr>\n",
       "\t<tr><td>SUN       </td><td>2012-06-30</td><td>2012-08-02</td><td> 1.2200   </td><td>NA        </td><td>2012      </td><td> 9        </td><td>  0.47188 </td><td>0.15771   </td><td>NA        </td></tr>\n",
       "\t<tr><td>TCN1      </td><td>2000-06-30</td><td>2001-04-09</td><td> 0.0190   </td><td>NA        </td><td>2000      </td><td>12        </td><td>  0.31000 </td><td>     NA   </td><td>NA        </td></tr>\n",
       "\t<tr><td>TMNI      </td><td>2001-12-31</td><td>2002-02-12</td><td> 0.1500   </td><td>NA        </td><td>2001      </td><td>12        </td><td>  0.09000 </td><td>     NA   </td><td>NA        </td></tr>\n",
       "\t<tr><td>TSU       </td><td>2000-06-30</td><td>2001-08-03</td><td>-0.0059   </td><td>NA        </td><td>2001      </td><td> 3        </td><td>  0.05591 </td><td>0.05127   </td><td>NA        </td></tr>\n",
       "\t<tr><td>VAAL      </td><td>2000-12-31</td><td>2000-06-23</td><td> 1.3700   </td><td>NA        </td><td>1992      </td><td>12        </td><td>  1.95000 </td><td>     NA   </td><td>NA        </td></tr>\n",
       "\t<tr><td>VRNT      </td><td>2006-01-31</td><td>2010-02-03</td><td>-0.1200   </td><td>NA        </td><td>2006      </td><td> 4        </td><td>  0.30857 </td><td>0.02340   </td><td>NA        </td></tr>\n",
       "\t<tr><td>VRNT      </td><td>2006-01-31</td><td>2010-02-03</td><td>-0.1200   </td><td>NA        </td><td>2006      </td><td> 7        </td><td>  0.30571 </td><td>0.10031   </td><td>NA        </td></tr>\n",
       "\t<tr><td>VRNT      </td><td>2006-01-31</td><td>2010-02-03</td><td>-0.1200   </td><td>NA        </td><td>2006      </td><td>10        </td><td>  0.33286 </td><td>0.08597   </td><td>NA        </td></tr>\n",
       "\t<tr><td>VRNT      </td><td>2006-01-31</td><td>2010-02-03</td><td>-0.1200   </td><td>NA        </td><td>2007      </td><td> 1        </td><td>  0.38000 </td><td>0.05164   </td><td>NA        </td></tr>\n",
       "\t<tr><td>VRNT      </td><td>2006-01-31</td><td>2010-02-03</td><td>-0.1200   </td><td>NA        </td><td>2007      </td><td> 4        </td><td>  0.28500 </td><td>0.01414   </td><td>NA        </td></tr>\n",
       "\t<tr><td>VRNT      </td><td>2006-01-31</td><td>2010-02-03</td><td>-0.1200   </td><td>NA        </td><td>2007      </td><td> 7        </td><td>  0.10875 </td><td>0.08132   </td><td>NA        </td></tr>\n",
       "\t<tr><td>VRNT      </td><td>2006-01-31</td><td>2010-02-03</td><td>-0.1200   </td><td>NA        </td><td>2007      </td><td>10        </td><td>  0.20250 </td><td>0.06018   </td><td>NA        </td></tr>\n",
       "\t<tr><td>VRNT      </td><td>2006-01-31</td><td>2010-02-03</td><td>-0.1200   </td><td>NA        </td><td>2008      </td><td> 1        </td><td>  0.31625 </td><td>0.04897   </td><td>NA        </td></tr>\n",
       "\t<tr><td>VTA       </td><td>2002-06-30</td><td>2002-08-08</td><td>-0.0300   </td><td>NA        </td><td>2002      </td><td> 6        </td><td> -0.05000 </td><td>     NA   </td><td>NA        </td></tr>\n",
       "</tbody>\n",
       "</table>\n"
      ],
      "text/latex": [
       "\\begin{tabular}{r|llllllllll}\n",
       " ticker & fpedats & anndats\\_act & actual & i.actual & pyear & pmon & surpmean & surpstdev & suescore\\\\\n",
       "\\hline\n",
       "\t AA0A       & 2017-12-31 & 2018-02-01 &  0.2200    & NA         & 2017       & 12         &   0.22667  & 0.00577    & NA        \\\\\n",
       "\t BBWA       & 2017-12-31 & 2018-02-15 &  0.6000    & NA         & 2017       & 12         &   0.51500  & 0.03535    & NA        \\\\\n",
       "\t BBWA       & 2017-12-31 & 2018-02-15 &  0.4300    & NA         & 2017       & 12         &   0.34333  & 0.02517    & NA        \\\\\n",
       "\t CMVT       & 2006-01-31 & 2010-10-04 &  0.1400    & NA         & 2008       &  4         &   0.13750  & 0.06850    & NA        \\\\\n",
       "\t CMVT       & 2006-04-30 & 2010-10-04 & -0.3600    & NA         & 2008       &  4         &   0.13750  & 0.06850    & NA        \\\\\n",
       "\t CMVT       & 2006-01-31 & 2010-10-04 &  0.1400    & NA         & 2008       &  7         &   0.15250  & 0.06652    & NA        \\\\\n",
       "\t CMVT       & 2006-04-30 & 2010-10-04 & -0.3600    & NA         & 2008       &  7         &   0.15250  & 0.06652    & NA        \\\\\n",
       "\t CMVT       & 2006-01-31 & 2010-10-04 &  0.1400    & NA         & 2008       & 10         &   0.15500  & 0.06557    & NA        \\\\\n",
       "\t CMVT       & 2006-04-30 & 2010-10-04 & -0.3600    & NA         & 2008       & 10         &   0.15500  & 0.06557    & NA        \\\\\n",
       "\t CMVT       & 2006-01-31 & 2010-10-04 &  0.1400    & NA         & 2009       &  1         &   0.13000  & 0.04359    & NA        \\\\\n",
       "\t CMVT       & 2006-04-30 & 2010-10-04 & -0.3600    & NA         & 2009       &  1         &   0.13000  & 0.04359    & NA        \\\\\n",
       "\t CNXT       & 2002-09-30 & 2002-10-22 & -9.7000    & NA         & 2002       &  9         & -10.03333  & 0.04924    & NA        \\\\\n",
       "\t CNXT       & 2002-09-30 & 2002-10-22 & -1.6000    & NA         & 2002       &  9         &  -1.89167  & 0.05149    & NA        \\\\\n",
       "\t CREO       & 2002-09-30 & 2002-11-14 &  0.0000    & NA         & 2002       &  9         &   0.62600  & 0.71766    & NA        \\\\\n",
       "\t CREO       & 2002-09-30 & 2002-11-14 &  0.0600    & NA         & 2002       &  9         &   0.02000  & 0.00000    & NA        \\\\\n",
       "\t CYWY       & 2003-12-31 & 2004-05-11 &  0.2500    & NA         & 1999       & 12         &   0.33750  & 0.03182    & NA        \\\\\n",
       "\t DES        & 2000-03-31 & 2001-07-27 &  0.4300    & NA         & 2000       &  9         &   0.67000  &      NA    & NA        \\\\\n",
       "\t DES        & 2000-03-31 & 2001-07-27 &  0.4300    & NA         & 2000       & 12         &   0.37000  &      NA    & NA        \\\\\n",
       "\t DII1       & 2010-03-31 & 2010-05-06 &  1.1200    & NA         & 2010       &  3         &   0.82000  &      NA    & NA        \\\\\n",
       "\t HCP        & 2003-09-30 & 2003-11-03 &  0.2600    & NA         & 2001       & 12         &   0.42500  & 0.00000    & NA        \\\\\n",
       "\t HFWA       & 2012-09-30 & 2012-10-30 &  0.1900    & NA         & 2012       & 12         &   0.20500  & 0.02429    & NA        \\\\\n",
       "\t KIM        & 2002-03-31 & 2002-10-29 &  0.2650    & NA         & 2002       &  6         &   0.28000  & 0.02828    & NA        \\\\\n",
       "\t KYE        & 2010-11-30 & 2011-01-27 &  0.0000    & NA         & 2010       & 11         &   0.05000  &      NA    & NA        \\\\\n",
       "\t MYLG       & 2013-12-31 & 2014-03-18 & -0.8800    & NA         & 2013       &  6         &  -0.74201  &      NA    & NA        \\\\\n",
       "\t PERY       & 2003-12-31 & 2004-05-05 &  1.9900    & NA         & 1998       & 12         &   0.74880  &      NA    & NA        \\\\\n",
       "\t PWRD       & 2011-03-31 & 2011-05-23 &  0.7600    & NA         & 2011       &  3         &   0.54506  & 0.08704    & NA        \\\\\n",
       "\t PWRD       & 2011-06-30 & 2011-08-22 &  0.9200    & NA         & 2011       &  6         &   0.58797  & 0.08992    & NA        \\\\\n",
       "\t REVU       & 2001-12-31 & 2002-02-28 & -0.6800    & NA         & 2001       & 12         &  -0.69333  & 0.00577    & NA        \\\\\n",
       "\t RGFC       & 2006-12-31 & 2009-06-12 & -0.4600    & NA         & 2005       & 12         &   1.01000  & 0.24042    & NA        \\\\\n",
       "\t RLTY       & 2001-12-31 & 2002-02-06 &  0.7950    & NA         & 2001       & 12         &   0.79500  &      NA    & NA        \\\\\n",
       "\t SASO       & 2000-06-30 & 2002-09-10 &  1.0400    & NA         & 1999       &  6         &   0.63000  &      NA    & NA        \\\\\n",
       "\t SASO       & 2001-06-30 & 2002-09-10 &  1.4600    & NA         & 1999       &  6         &   0.63000  &      NA    & NA        \\\\\n",
       "\t SASO       & 2002-06-30 & 2002-09-10 &  1.4600    & NA         & 1999       &  6         &   0.63000  &      NA    & NA        \\\\\n",
       "\t SCAN       & 2002-12-31 & 2003-03-03 &  0.9000    & NA         & 2001       &  3         &   0.15000  & 0.00000    & NA        \\\\\n",
       "\t SCAN       & 2002-12-31 & 2003-03-03 &  0.9000    & NA         & 2001       &  6         &   0.40000  & 0.00000    & NA        \\\\\n",
       "\t SUN        & 2012-06-30 & 2012-08-02 &  1.2200    & NA         & 2012       &  9         &   0.47188  & 0.15771    & NA        \\\\\n",
       "\t TCN1       & 2000-06-30 & 2001-04-09 &  0.0190    & NA         & 2000       & 12         &   0.31000  &      NA    & NA        \\\\\n",
       "\t TMNI       & 2001-12-31 & 2002-02-12 &  0.1500    & NA         & 2001       & 12         &   0.09000  &      NA    & NA        \\\\\n",
       "\t TSU        & 2000-06-30 & 2001-08-03 & -0.0059    & NA         & 2001       &  3         &   0.05591  & 0.05127    & NA        \\\\\n",
       "\t VAAL       & 2000-12-31 & 2000-06-23 &  1.3700    & NA         & 1992       & 12         &   1.95000  &      NA    & NA        \\\\\n",
       "\t VRNT       & 2006-01-31 & 2010-02-03 & -0.1200    & NA         & 2006       &  4         &   0.30857  & 0.02340    & NA        \\\\\n",
       "\t VRNT       & 2006-01-31 & 2010-02-03 & -0.1200    & NA         & 2006       &  7         &   0.30571  & 0.10031    & NA        \\\\\n",
       "\t VRNT       & 2006-01-31 & 2010-02-03 & -0.1200    & NA         & 2006       & 10         &   0.33286  & 0.08597    & NA        \\\\\n",
       "\t VRNT       & 2006-01-31 & 2010-02-03 & -0.1200    & NA         & 2007       &  1         &   0.38000  & 0.05164    & NA        \\\\\n",
       "\t VRNT       & 2006-01-31 & 2010-02-03 & -0.1200    & NA         & 2007       &  4         &   0.28500  & 0.01414    & NA        \\\\\n",
       "\t VRNT       & 2006-01-31 & 2010-02-03 & -0.1200    & NA         & 2007       &  7         &   0.10875  & 0.08132    & NA        \\\\\n",
       "\t VRNT       & 2006-01-31 & 2010-02-03 & -0.1200    & NA         & 2007       & 10         &   0.20250  & 0.06018    & NA        \\\\\n",
       "\t VRNT       & 2006-01-31 & 2010-02-03 & -0.1200    & NA         & 2008       &  1         &   0.31625  & 0.04897    & NA        \\\\\n",
       "\t VTA        & 2002-06-30 & 2002-08-08 & -0.0300    & NA         & 2002       &  6         &  -0.05000  &      NA    & NA        \\\\\n",
       "\\end{tabular}\n"
      ],
      "text/markdown": [
       "\n",
       "| ticker | fpedats | anndats_act | actual | i.actual | pyear | pmon | surpmean | surpstdev | suescore |\n",
       "|---|---|---|---|---|---|---|---|---|---|\n",
       "| AA0A       | 2017-12-31 | 2018-02-01 |  0.2200    | NA         | 2017       | 12         |   0.22667  | 0.00577    | NA         |\n",
       "| BBWA       | 2017-12-31 | 2018-02-15 |  0.6000    | NA         | 2017       | 12         |   0.51500  | 0.03535    | NA         |\n",
       "| BBWA       | 2017-12-31 | 2018-02-15 |  0.4300    | NA         | 2017       | 12         |   0.34333  | 0.02517    | NA         |\n",
       "| CMVT       | 2006-01-31 | 2010-10-04 |  0.1400    | NA         | 2008       |  4         |   0.13750  | 0.06850    | NA         |\n",
       "| CMVT       | 2006-04-30 | 2010-10-04 | -0.3600    | NA         | 2008       |  4         |   0.13750  | 0.06850    | NA         |\n",
       "| CMVT       | 2006-01-31 | 2010-10-04 |  0.1400    | NA         | 2008       |  7         |   0.15250  | 0.06652    | NA         |\n",
       "| CMVT       | 2006-04-30 | 2010-10-04 | -0.3600    | NA         | 2008       |  7         |   0.15250  | 0.06652    | NA         |\n",
       "| CMVT       | 2006-01-31 | 2010-10-04 |  0.1400    | NA         | 2008       | 10         |   0.15500  | 0.06557    | NA         |\n",
       "| CMVT       | 2006-04-30 | 2010-10-04 | -0.3600    | NA         | 2008       | 10         |   0.15500  | 0.06557    | NA         |\n",
       "| CMVT       | 2006-01-31 | 2010-10-04 |  0.1400    | NA         | 2009       |  1         |   0.13000  | 0.04359    | NA         |\n",
       "| CMVT       | 2006-04-30 | 2010-10-04 | -0.3600    | NA         | 2009       |  1         |   0.13000  | 0.04359    | NA         |\n",
       "| CNXT       | 2002-09-30 | 2002-10-22 | -9.7000    | NA         | 2002       |  9         | -10.03333  | 0.04924    | NA         |\n",
       "| CNXT       | 2002-09-30 | 2002-10-22 | -1.6000    | NA         | 2002       |  9         |  -1.89167  | 0.05149    | NA         |\n",
       "| CREO       | 2002-09-30 | 2002-11-14 |  0.0000    | NA         | 2002       |  9         |   0.62600  | 0.71766    | NA         |\n",
       "| CREO       | 2002-09-30 | 2002-11-14 |  0.0600    | NA         | 2002       |  9         |   0.02000  | 0.00000    | NA         |\n",
       "| CYWY       | 2003-12-31 | 2004-05-11 |  0.2500    | NA         | 1999       | 12         |   0.33750  | 0.03182    | NA         |\n",
       "| DES        | 2000-03-31 | 2001-07-27 |  0.4300    | NA         | 2000       |  9         |   0.67000  |      NA    | NA         |\n",
       "| DES        | 2000-03-31 | 2001-07-27 |  0.4300    | NA         | 2000       | 12         |   0.37000  |      NA    | NA         |\n",
       "| DII1       | 2010-03-31 | 2010-05-06 |  1.1200    | NA         | 2010       |  3         |   0.82000  |      NA    | NA         |\n",
       "| HCP        | 2003-09-30 | 2003-11-03 |  0.2600    | NA         | 2001       | 12         |   0.42500  | 0.00000    | NA         |\n",
       "| HFWA       | 2012-09-30 | 2012-10-30 |  0.1900    | NA         | 2012       | 12         |   0.20500  | 0.02429    | NA         |\n",
       "| KIM        | 2002-03-31 | 2002-10-29 |  0.2650    | NA         | 2002       |  6         |   0.28000  | 0.02828    | NA         |\n",
       "| KYE        | 2010-11-30 | 2011-01-27 |  0.0000    | NA         | 2010       | 11         |   0.05000  |      NA    | NA         |\n",
       "| MYLG       | 2013-12-31 | 2014-03-18 | -0.8800    | NA         | 2013       |  6         |  -0.74201  |      NA    | NA         |\n",
       "| PERY       | 2003-12-31 | 2004-05-05 |  1.9900    | NA         | 1998       | 12         |   0.74880  |      NA    | NA         |\n",
       "| PWRD       | 2011-03-31 | 2011-05-23 |  0.7600    | NA         | 2011       |  3         |   0.54506  | 0.08704    | NA         |\n",
       "| PWRD       | 2011-06-30 | 2011-08-22 |  0.9200    | NA         | 2011       |  6         |   0.58797  | 0.08992    | NA         |\n",
       "| REVU       | 2001-12-31 | 2002-02-28 | -0.6800    | NA         | 2001       | 12         |  -0.69333  | 0.00577    | NA         |\n",
       "| RGFC       | 2006-12-31 | 2009-06-12 | -0.4600    | NA         | 2005       | 12         |   1.01000  | 0.24042    | NA         |\n",
       "| RLTY       | 2001-12-31 | 2002-02-06 |  0.7950    | NA         | 2001       | 12         |   0.79500  |      NA    | NA         |\n",
       "| SASO       | 2000-06-30 | 2002-09-10 |  1.0400    | NA         | 1999       |  6         |   0.63000  |      NA    | NA         |\n",
       "| SASO       | 2001-06-30 | 2002-09-10 |  1.4600    | NA         | 1999       |  6         |   0.63000  |      NA    | NA         |\n",
       "| SASO       | 2002-06-30 | 2002-09-10 |  1.4600    | NA         | 1999       |  6         |   0.63000  |      NA    | NA         |\n",
       "| SCAN       | 2002-12-31 | 2003-03-03 |  0.9000    | NA         | 2001       |  3         |   0.15000  | 0.00000    | NA         |\n",
       "| SCAN       | 2002-12-31 | 2003-03-03 |  0.9000    | NA         | 2001       |  6         |   0.40000  | 0.00000    | NA         |\n",
       "| SUN        | 2012-06-30 | 2012-08-02 |  1.2200    | NA         | 2012       |  9         |   0.47188  | 0.15771    | NA         |\n",
       "| TCN1       | 2000-06-30 | 2001-04-09 |  0.0190    | NA         | 2000       | 12         |   0.31000  |      NA    | NA         |\n",
       "| TMNI       | 2001-12-31 | 2002-02-12 |  0.1500    | NA         | 2001       | 12         |   0.09000  |      NA    | NA         |\n",
       "| TSU        | 2000-06-30 | 2001-08-03 | -0.0059    | NA         | 2001       |  3         |   0.05591  | 0.05127    | NA         |\n",
       "| VAAL       | 2000-12-31 | 2000-06-23 |  1.3700    | NA         | 1992       | 12         |   1.95000  |      NA    | NA         |\n",
       "| VRNT       | 2006-01-31 | 2010-02-03 | -0.1200    | NA         | 2006       |  4         |   0.30857  | 0.02340    | NA         |\n",
       "| VRNT       | 2006-01-31 | 2010-02-03 | -0.1200    | NA         | 2006       |  7         |   0.30571  | 0.10031    | NA         |\n",
       "| VRNT       | 2006-01-31 | 2010-02-03 | -0.1200    | NA         | 2006       | 10         |   0.33286  | 0.08597    | NA         |\n",
       "| VRNT       | 2006-01-31 | 2010-02-03 | -0.1200    | NA         | 2007       |  1         |   0.38000  | 0.05164    | NA         |\n",
       "| VRNT       | 2006-01-31 | 2010-02-03 | -0.1200    | NA         | 2007       |  4         |   0.28500  | 0.01414    | NA         |\n",
       "| VRNT       | 2006-01-31 | 2010-02-03 | -0.1200    | NA         | 2007       |  7         |   0.10875  | 0.08132    | NA         |\n",
       "| VRNT       | 2006-01-31 | 2010-02-03 | -0.1200    | NA         | 2007       | 10         |   0.20250  | 0.06018    | NA         |\n",
       "| VRNT       | 2006-01-31 | 2010-02-03 | -0.1200    | NA         | 2008       |  1         |   0.31625  | 0.04897    | NA         |\n",
       "| VTA        | 2002-06-30 | 2002-08-08 | -0.0300    | NA         | 2002       |  6         |  -0.05000  |      NA    | NA         |\n",
       "\n"
      ],
      "text/plain": [
       "   ticker fpedats    anndats_act actual  i.actual pyear pmon surpmean \n",
       "1  AA0A   2017-12-31 2018-02-01   0.2200 NA       2017  12     0.22667\n",
       "2  BBWA   2017-12-31 2018-02-15   0.6000 NA       2017  12     0.51500\n",
       "3  BBWA   2017-12-31 2018-02-15   0.4300 NA       2017  12     0.34333\n",
       "4  CMVT   2006-01-31 2010-10-04   0.1400 NA       2008   4     0.13750\n",
       "5  CMVT   2006-04-30 2010-10-04  -0.3600 NA       2008   4     0.13750\n",
       "6  CMVT   2006-01-31 2010-10-04   0.1400 NA       2008   7     0.15250\n",
       "7  CMVT   2006-04-30 2010-10-04  -0.3600 NA       2008   7     0.15250\n",
       "8  CMVT   2006-01-31 2010-10-04   0.1400 NA       2008  10     0.15500\n",
       "9  CMVT   2006-04-30 2010-10-04  -0.3600 NA       2008  10     0.15500\n",
       "10 CMVT   2006-01-31 2010-10-04   0.1400 NA       2009   1     0.13000\n",
       "11 CMVT   2006-04-30 2010-10-04  -0.3600 NA       2009   1     0.13000\n",
       "12 CNXT   2002-09-30 2002-10-22  -9.7000 NA       2002   9   -10.03333\n",
       "13 CNXT   2002-09-30 2002-10-22  -1.6000 NA       2002   9    -1.89167\n",
       "14 CREO   2002-09-30 2002-11-14   0.0000 NA       2002   9     0.62600\n",
       "15 CREO   2002-09-30 2002-11-14   0.0600 NA       2002   9     0.02000\n",
       "16 CYWY   2003-12-31 2004-05-11   0.2500 NA       1999  12     0.33750\n",
       "17 DES    2000-03-31 2001-07-27   0.4300 NA       2000   9     0.67000\n",
       "18 DES    2000-03-31 2001-07-27   0.4300 NA       2000  12     0.37000\n",
       "19 DII1   2010-03-31 2010-05-06   1.1200 NA       2010   3     0.82000\n",
       "20 HCP    2003-09-30 2003-11-03   0.2600 NA       2001  12     0.42500\n",
       "21 HFWA   2012-09-30 2012-10-30   0.1900 NA       2012  12     0.20500\n",
       "22 KIM    2002-03-31 2002-10-29   0.2650 NA       2002   6     0.28000\n",
       "23 KYE    2010-11-30 2011-01-27   0.0000 NA       2010  11     0.05000\n",
       "24 MYLG   2013-12-31 2014-03-18  -0.8800 NA       2013   6    -0.74201\n",
       "25 PERY   2003-12-31 2004-05-05   1.9900 NA       1998  12     0.74880\n",
       "26 PWRD   2011-03-31 2011-05-23   0.7600 NA       2011   3     0.54506\n",
       "27 PWRD   2011-06-30 2011-08-22   0.9200 NA       2011   6     0.58797\n",
       "28 REVU   2001-12-31 2002-02-28  -0.6800 NA       2001  12    -0.69333\n",
       "29 RGFC   2006-12-31 2009-06-12  -0.4600 NA       2005  12     1.01000\n",
       "30 RLTY   2001-12-31 2002-02-06   0.7950 NA       2001  12     0.79500\n",
       "31 SASO   2000-06-30 2002-09-10   1.0400 NA       1999   6     0.63000\n",
       "32 SASO   2001-06-30 2002-09-10   1.4600 NA       1999   6     0.63000\n",
       "33 SASO   2002-06-30 2002-09-10   1.4600 NA       1999   6     0.63000\n",
       "34 SCAN   2002-12-31 2003-03-03   0.9000 NA       2001   3     0.15000\n",
       "35 SCAN   2002-12-31 2003-03-03   0.9000 NA       2001   6     0.40000\n",
       "36 SUN    2012-06-30 2012-08-02   1.2200 NA       2012   9     0.47188\n",
       "37 TCN1   2000-06-30 2001-04-09   0.0190 NA       2000  12     0.31000\n",
       "38 TMNI   2001-12-31 2002-02-12   0.1500 NA       2001  12     0.09000\n",
       "39 TSU    2000-06-30 2001-08-03  -0.0059 NA       2001   3     0.05591\n",
       "40 VAAL   2000-12-31 2000-06-23   1.3700 NA       1992  12     1.95000\n",
       "41 VRNT   2006-01-31 2010-02-03  -0.1200 NA       2006   4     0.30857\n",
       "42 VRNT   2006-01-31 2010-02-03  -0.1200 NA       2006   7     0.30571\n",
       "43 VRNT   2006-01-31 2010-02-03  -0.1200 NA       2006  10     0.33286\n",
       "44 VRNT   2006-01-31 2010-02-03  -0.1200 NA       2007   1     0.38000\n",
       "45 VRNT   2006-01-31 2010-02-03  -0.1200 NA       2007   4     0.28500\n",
       "46 VRNT   2006-01-31 2010-02-03  -0.1200 NA       2007   7     0.10875\n",
       "47 VRNT   2006-01-31 2010-02-03  -0.1200 NA       2007  10     0.20250\n",
       "48 VRNT   2006-01-31 2010-02-03  -0.1200 NA       2008   1     0.31625\n",
       "49 VTA    2002-06-30 2002-08-08  -0.0300 NA       2002   6    -0.05000\n",
       "   surpstdev suescore\n",
       "1  0.00577   NA      \n",
       "2  0.03535   NA      \n",
       "3  0.02517   NA      \n",
       "4  0.06850   NA      \n",
       "5  0.06850   NA      \n",
       "6  0.06652   NA      \n",
       "7  0.06652   NA      \n",
       "8  0.06557   NA      \n",
       "9  0.06557   NA      \n",
       "10 0.04359   NA      \n",
       "11 0.04359   NA      \n",
       "12 0.04924   NA      \n",
       "13 0.05149   NA      \n",
       "14 0.71766   NA      \n",
       "15 0.00000   NA      \n",
       "16 0.03182   NA      \n",
       "17      NA   NA      \n",
       "18      NA   NA      \n",
       "19      NA   NA      \n",
       "20 0.00000   NA      \n",
       "21 0.02429   NA      \n",
       "22 0.02828   NA      \n",
       "23      NA   NA      \n",
       "24      NA   NA      \n",
       "25      NA   NA      \n",
       "26 0.08704   NA      \n",
       "27 0.08992   NA      \n",
       "28 0.00577   NA      \n",
       "29 0.24042   NA      \n",
       "30      NA   NA      \n",
       "31      NA   NA      \n",
       "32      NA   NA      \n",
       "33      NA   NA      \n",
       "34 0.00000   NA      \n",
       "35 0.00000   NA      \n",
       "36 0.15771   NA      \n",
       "37      NA   NA      \n",
       "38      NA   NA      \n",
       "39 0.05127   NA      \n",
       "40      NA   NA      \n",
       "41 0.02340   NA      \n",
       "42 0.10031   NA      \n",
       "43 0.08597   NA      \n",
       "44 0.05164   NA      \n",
       "45 0.01414   NA      \n",
       "46 0.08132   NA      \n",
       "47 0.06018   NA      \n",
       "48 0.04897   NA      \n",
       "49      NA   NA      "
      ]
     },
     "metadata": {},
     "output_type": "display_data"
    }
   ],
   "source": [
    "x = cc_eps[surpsum, on=.(ticker, fiscalp, anndats_act=anndats),\n",
    "     nomatch=0,\n",
    "     .(ticker, fpedats, anndats_act, actual, i.actual, pyear, pmon,\n",
    "       surpmean, surpstdev, suescore)]\n",
    "x[is.na(i.actual)]"
   ]
  },
  {
   "cell_type": "code",
   "execution_count": 40,
   "metadata": {
    "scrolled": true
   },
   "outputs": [
    {
     "data": {
      "text/html": [
       "<table>\n",
       "<thead><tr><th scope=col>ticker</th><th scope=col>fpedats</th><th scope=col>anndats_act</th><th scope=col>actual</th><th scope=col>i.actual</th><th scope=col>pyear</th><th scope=col>pmon</th></tr></thead>\n",
       "<tbody>\n",
       "\t<tr><td>0000      </td><td>2014-03-31</td><td>2014-05-06</td><td>0.12      </td><td>0.12      </td><td>2014      </td><td> 3        </td></tr>\n",
       "\t<tr><td>0000      </td><td>2014-06-30</td><td>2014-08-06</td><td>0.27      </td><td>0.27      </td><td>2014      </td><td> 6        </td></tr>\n",
       "\t<tr><td>0000      </td><td>2014-09-30</td><td>2014-11-04</td><td>0.26      </td><td>0.26      </td><td>2014      </td><td> 9        </td></tr>\n",
       "\t<tr><td>0000      </td><td>2014-12-31</td><td>2015-01-30</td><td>1.21      </td><td>1.21      </td><td>2014      </td><td>12        </td></tr>\n",
       "\t<tr><td>0000      </td><td>2014-12-31</td><td>2015-01-30</td><td>0.16      </td><td>0.16      </td><td>2014      </td><td>12        </td></tr>\n",
       "\t<tr><td>0000      </td><td>2015-03-31</td><td>2015-04-30</td><td>0.12      </td><td>0.12      </td><td>2015      </td><td> 3        </td></tr>\n",
       "\t<tr><td>0000      </td><td>2015-06-30</td><td>2015-07-30</td><td>0.23      </td><td>0.23      </td><td>2015      </td><td> 6        </td></tr>\n",
       "\t<tr><td>0000      </td><td>2015-09-30</td><td>2015-10-28</td><td>0.27      </td><td>0.27      </td><td>2015      </td><td> 9        </td></tr>\n",
       "\t<tr><td>0000      </td><td>2015-12-31</td><td>2016-01-26</td><td>1.02      </td><td>1.02      </td><td>2015      </td><td>12        </td></tr>\n",
       "\t<tr><td>0000      </td><td>2015-12-31</td><td>2016-01-26</td><td>0.40      </td><td>0.40      </td><td>2015      </td><td>12        </td></tr>\n",
       "</tbody>\n",
       "</table>\n"
      ],
      "text/latex": [
       "\\begin{tabular}{r|lllllll}\n",
       " ticker & fpedats & anndats\\_act & actual & i.actual & pyear & pmon\\\\\n",
       "\\hline\n",
       "\t 0000       & 2014-03-31 & 2014-05-06 & 0.12       & 0.12       & 2014       &  3        \\\\\n",
       "\t 0000       & 2014-06-30 & 2014-08-06 & 0.27       & 0.27       & 2014       &  6        \\\\\n",
       "\t 0000       & 2014-09-30 & 2014-11-04 & 0.26       & 0.26       & 2014       &  9        \\\\\n",
       "\t 0000       & 2014-12-31 & 2015-01-30 & 1.21       & 1.21       & 2014       & 12        \\\\\n",
       "\t 0000       & 2014-12-31 & 2015-01-30 & 0.16       & 0.16       & 2014       & 12        \\\\\n",
       "\t 0000       & 2015-03-31 & 2015-04-30 & 0.12       & 0.12       & 2015       &  3        \\\\\n",
       "\t 0000       & 2015-06-30 & 2015-07-30 & 0.23       & 0.23       & 2015       &  6        \\\\\n",
       "\t 0000       & 2015-09-30 & 2015-10-28 & 0.27       & 0.27       & 2015       &  9        \\\\\n",
       "\t 0000       & 2015-12-31 & 2016-01-26 & 1.02       & 1.02       & 2015       & 12        \\\\\n",
       "\t 0000       & 2015-12-31 & 2016-01-26 & 0.40       & 0.40       & 2015       & 12        \\\\\n",
       "\\end{tabular}\n"
      ],
      "text/markdown": [
       "\n",
       "| ticker | fpedats | anndats_act | actual | i.actual | pyear | pmon |\n",
       "|---|---|---|---|---|---|---|\n",
       "| 0000       | 2014-03-31 | 2014-05-06 | 0.12       | 0.12       | 2014       |  3         |\n",
       "| 0000       | 2014-06-30 | 2014-08-06 | 0.27       | 0.27       | 2014       |  6         |\n",
       "| 0000       | 2014-09-30 | 2014-11-04 | 0.26       | 0.26       | 2014       |  9         |\n",
       "| 0000       | 2014-12-31 | 2015-01-30 | 1.21       | 1.21       | 2014       | 12         |\n",
       "| 0000       | 2014-12-31 | 2015-01-30 | 0.16       | 0.16       | 2014       | 12         |\n",
       "| 0000       | 2015-03-31 | 2015-04-30 | 0.12       | 0.12       | 2015       |  3         |\n",
       "| 0000       | 2015-06-30 | 2015-07-30 | 0.23       | 0.23       | 2015       |  6         |\n",
       "| 0000       | 2015-09-30 | 2015-10-28 | 0.27       | 0.27       | 2015       |  9         |\n",
       "| 0000       | 2015-12-31 | 2016-01-26 | 1.02       | 1.02       | 2015       | 12         |\n",
       "| 0000       | 2015-12-31 | 2016-01-26 | 0.40       | 0.40       | 2015       | 12         |\n",
       "\n"
      ],
      "text/plain": [
       "   ticker fpedats    anndats_act actual i.actual pyear pmon\n",
       "1  0000   2014-03-31 2014-05-06  0.12   0.12     2014   3  \n",
       "2  0000   2014-06-30 2014-08-06  0.27   0.27     2014   6  \n",
       "3  0000   2014-09-30 2014-11-04  0.26   0.26     2014   9  \n",
       "4  0000   2014-12-31 2015-01-30  1.21   1.21     2014  12  \n",
       "5  0000   2014-12-31 2015-01-30  0.16   0.16     2014  12  \n",
       "6  0000   2015-03-31 2015-04-30  0.12   0.12     2015   3  \n",
       "7  0000   2015-06-30 2015-07-30  0.23   0.23     2015   6  \n",
       "8  0000   2015-09-30 2015-10-28  0.27   0.27     2015   9  \n",
       "9  0000   2015-12-31 2016-01-26  1.02   1.02     2015  12  \n",
       "10 0000   2015-12-31 2016-01-26  0.40   0.40     2015  12  "
      ]
     },
     "metadata": {},
     "output_type": "display_data"
    },
    {
     "data": {
      "text/html": [
       "<table>\n",
       "<thead><tr><th scope=col>n</th><th scope=col>n_nomatch</th></tr></thead>\n",
       "<tbody>\n",
       "\t<tr><td>378837</td><td>NA    </td></tr>\n",
       "</tbody>\n",
       "</table>\n"
      ],
      "text/latex": [
       "\\begin{tabular}{r|ll}\n",
       " n & n\\_nomatch\\\\\n",
       "\\hline\n",
       "\t 378837 & NA    \\\\\n",
       "\\end{tabular}\n"
      ],
      "text/markdown": [
       "\n",
       "| n | n_nomatch |\n",
       "|---|---|\n",
       "| 378837 | NA     |\n",
       "\n"
      ],
      "text/plain": [
       "  n      n_nomatch\n",
       "1 378837 NA       "
      ]
     },
     "metadata": {},
     "output_type": "display_data"
    }
   ],
   "source": [
    "x[1:10]\n",
    "x[, .(n=.N, n_nomatch=sum(actual != i.actual))]"
   ]
  },
  {
   "cell_type": "code",
   "execution_count": 5,
   "metadata": {
    "scrolled": true
   },
   "outputs": [
    {
     "data": {
      "text/html": [
       "387772"
      ],
      "text/latex": [
       "387772"
      ],
      "text/markdown": [
       "387772"
      ],
      "text/plain": [
       "[1] 387772"
      ]
     },
     "metadata": {},
     "output_type": "display_data"
    },
    {
     "data": {
      "text/html": [
       "<table>\n",
       "<thead><tr><th scope=col>ticker</th><th scope=col>fpedats</th><th scope=col>statpers</th><th scope=col>anndats_act</th><th scope=col>fiscalp</th><th scope=col>actual</th><th scope=col>medest</th><th scope=col>meanest</th><th scope=col>stdev</th><th scope=col>highest</th><th scope=col>lowest</th><th scope=col>numest</th><th scope=col>numup</th><th scope=col>numdown</th><th scope=col>cname</th></tr></thead>\n",
       "<tbody>\n",
       "\t<tr><td>0000          </td><td>2014-03-31    </td><td>2014-04-17    </td><td>2014-05-06    </td><td>QTR           </td><td>0.12          </td><td>0.07          </td><td>0.08          </td><td>0.01          </td><td>0.1           </td><td>0.07          </td><td>4             </td><td>0             </td><td>4             </td><td>TALMER BANCORP</td></tr>\n",
       "</tbody>\n",
       "</table>\n"
      ],
      "text/latex": [
       "\\begin{tabular}{r|lllllllllllllll}\n",
       " ticker & fpedats & statpers & anndats\\_act & fiscalp & actual & medest & meanest & stdev & highest & lowest & numest & numup & numdown & cname\\\\\n",
       "\\hline\n",
       "\t 0000           & 2014-03-31     & 2014-04-17     & 2014-05-06     & QTR            & 0.12           & 0.07           & 0.08           & 0.01           & 0.1            & 0.07           & 4              & 0              & 4              & TALMER BANCORP\\\\\n",
       "\\end{tabular}\n"
      ],
      "text/markdown": [
       "\n",
       "| ticker | fpedats | statpers | anndats_act | fiscalp | actual | medest | meanest | stdev | highest | lowest | numest | numup | numdown | cname |\n",
       "|---|---|---|---|---|---|---|---|---|---|---|---|---|---|---|\n",
       "| 0000           | 2014-03-31     | 2014-04-17     | 2014-05-06     | QTR            | 0.12           | 0.07           | 0.08           | 0.01           | 0.1            | 0.07           | 4              | 0              | 4              | TALMER BANCORP |\n",
       "\n"
      ],
      "text/plain": [
       "  ticker fpedats    statpers   anndats_act fiscalp actual medest meanest stdev\n",
       "1 0000   2014-03-31 2014-04-17 2014-05-06  QTR     0.12   0.07   0.08    0.01 \n",
       "  highest lowest numest numup numdown cname         \n",
       "1 0.1     0.07   4      0     4       TALMER BANCORP"
      ]
     },
     "metadata": {},
     "output_type": "display_data"
    }
   ],
   "source": [
    "cc_eps = ibes_statsum_epsus[\n",
    "    !is.na(actual) & fpi %in% c(1, 6) & fpedats >= as.Date('2000-01-01')\n",
    "    ][usfirm==1 & measure=='EPS' & curcode==curr_act & estflag=='P' & curcode=='USD'\n",
    "    ][order(ticker, fpedats, fiscalp, -statpers), \n",
    "      .SD[1], \n",
    "      keyby=.(ticker, fpedats, fiscalp)\n",
    "    ][, .(ticker, fpedats, statpers, anndats_act, \n",
    "      fiscalp, actual, medest, meanest, stdev, highest, lowest, \n",
    "      numest, numup, numdown, cname)\n",
    "    ]\n",
    "nrow(cc_eps)\n",
    "cc_eps[1]"
   ]
  },
  {
   "cell_type": "code",
   "execution_count": null,
   "metadata": {},
   "outputs": [],
   "source": [
    "x = cc_eps[cc_meta[keydeveventtypeid==48], \n",
    "     on=c('ticker==ibtic'),\n",
    "     nomatch=0\n",
    "    ][order(ticker, fpedats, fiscalp)\n",
    "    ][, .(ticker, fiscalp, fpedats, anndats_act, headline_date, headline, companyname, cname)]"
   ]
  },
  {
   "cell_type": "code",
   "execution_count": 21,
   "metadata": {
    "scrolled": true
   },
   "outputs": [
    {
     "data": {
      "text/html": [
       "<table>\n",
       "<thead><tr><th scope=col>n</th><th scope=col>n_nomatch</th><th scope=col>pct</th></tr></thead>\n",
       "<tbody>\n",
       "\t<tr><td>8694</td><td>8692</td><td>100 </td></tr>\n",
       "</tbody>\n",
       "</table>\n"
      ],
      "text/latex": [
       "\\begin{tabular}{r|lll}\n",
       " n & n\\_nomatch & pct\\\\\n",
       "\\hline\n",
       "\t 8694 & 8692 & 100 \\\\\n",
       "\\end{tabular}\n"
      ],
      "text/markdown": [
       "\n",
       "| n | n_nomatch | pct |\n",
       "|---|---|---|\n",
       "| 8694 | 8692 | 100  |\n",
       "\n"
      ],
      "text/plain": [
       "  n    n_nomatch pct\n",
       "1 8694 8692      100"
      ]
     },
     "metadata": {},
     "output_type": "display_data"
    },
    {
     "data": {
      "text/html": [
       "<table>\n",
       "<thead><tr><th scope=col>ticker</th><th scope=col>fiscalp</th><th scope=col>fpedats</th><th scope=col>anndats_act</th><th scope=col>headline_date</th><th scope=col>headline</th><th scope=col>companyname</th><th scope=col>cname</th><th scope=col>diff</th></tr></thead>\n",
       "<tbody>\n",
       "\t<tr><td>CSC                                                                              </td><td>ANN                                                                              </td><td>2009-03-31                                                                       </td><td>2009-05-20                                                                       </td><td>2004-05-17                                                                       </td><td>DXC Technology Company, Q4 2004 Earnings Calls, May 17, 2004                     </td><td>DXC Technology Company                                                           </td><td>COMP SCIENCES                                                                    </td><td>1779 days                                                                        </td></tr>\n",
       "\t<tr><td>CSC                                                                              </td><td>QTR                                                                              </td><td>2009-03-31                                                                       </td><td>2009-05-20                                                                       </td><td>2004-05-17                                                                       </td><td>DXC Technology Company, Q4 2004 Earnings Calls, May 17, 2004                     </td><td>DXC Technology Company                                                           </td><td>COMP SCIENCES                                                                    </td><td>1779 days                                                                        </td></tr>\n",
       "\t<tr><td>GLPC                                                                             </td><td>ANN                                                                              </td><td>2004-12-31                                                                       </td><td>2008-10-10                                                                       </td><td>2008-10-14                                                                       </td><td>Impax Laboratories Inc., Q2 2008 Earnings Call, Oct-14-2008                      </td><td>Impax Laboratories, Inc.                                                         </td><td>IMPAX LAB INC                                                                    </td><td>1383 days                                                                        </td></tr>\n",
       "\t<tr><td>GLPC                                                                             </td><td>ANN                                                                              </td><td>2005-12-31                                                                       </td><td>2008-10-10                                                                       </td><td>2008-10-14                                                                       </td><td>Impax Laboratories Inc., Q2 2008 Earnings Call, Oct-14-2008                      </td><td>Impax Laboratories, Inc.                                                         </td><td>IMPAX LAB INC                                                                    </td><td>1018 days                                                                        </td></tr>\n",
       "\t<tr><td>SNRZ                                                                             </td><td>QTR                                                                              </td><td>2006-03-31                                                                       </td><td>2008-03-24                                                                       </td><td>2008-04-02                                                                       </td><td>Sunrise Senior Living Inc., Q4 2007 Earnings Call, Apr-02-2008                   </td><td>Sunrise Senior Living, LLC                                                       </td><td>SUNRISE SENIOR L                                                                 </td><td> 733 days                                                                        </td></tr>\n",
       "\t<tr><td>RWAG                                                                             </td><td>ANN                                                                              </td><td>2007-12-31                                                                       </td><td>2008-02-22                                                                       </td><td>2009-11-12                                                                       </td><td>RWE AG, Q3 2009 Earnings Call, Nov-12-2009                                       </td><td>RWE Aktiengesellschaft                                                           </td><td>RWE                                                                              </td><td> 682 days                                                                        </td></tr>\n",
       "\t<tr><td>FFIV                                                                             </td><td>QTR                                                                              </td><td>2006-12-31                                                                       </td><td>2007-01-24                                                                       </td><td>2008-10-22                                                                       </td><td>F5 Networks, Inc., Q4 2008 Earnings Call, Oct-22-2008                            </td><td>F5 Networks, Inc.                                                                </td><td>F5 NETWORKS INC                                                                  </td><td> 661 days                                                                        </td></tr>\n",
       "\t<tr><td>RWAG                                                                             </td><td>ANN                                                                              </td><td>2007-12-31                                                                       </td><td>2008-02-22                                                                       </td><td>2009-08-13                                                                       </td><td>RWE AG, Q2 2009 Earnings Call, Aug-13-2009                                       </td><td>RWE Aktiengesellschaft                                                           </td><td>RWE                                                                              </td><td> 591 days                                                                        </td></tr>\n",
       "\t<tr><td>SCHS                                                                             </td><td>QTR                                                                              </td><td>2007-10-31                                                                       </td><td>2007-11-13                                                                       </td><td>2009-06-11                                                                       </td><td>School Specialty Inc., Q4 2009 Earnings Call, Jun-11-2009                        </td><td>School Specialty, Inc.                                                           </td><td>SCHOOL SPECIALTY                                                                 </td><td> 589 days                                                                        </td></tr>\n",
       "\t<tr><td>FFIV                                                                             </td><td>QTR                                                                              </td><td>2006-12-31                                                                       </td><td>2007-01-24                                                                       </td><td>2008-07-23                                                                       </td><td>F5 Networks, Inc., Q3 2008 Earnings Call, Jul-23-2008                            </td><td>F5 Networks, Inc.                                                                </td><td>F5 NETWORKS INC                                                                  </td><td> 570 days                                                                        </td></tr>\n",
       "\t<tr><td>ALST                                                                             </td><td>ANN                                                                              </td><td>2009-12-31                                                                       </td><td>2011-06-03                                                                       </td><td>2011-06-06                                                                       </td><td>INX Inc., Q4 2010 Earnings Call, Jun 06, 2011                                    </td><td>INX Inc.                                                                         </td><td>INX                                                                              </td><td> 522 days                                                                        </td></tr>\n",
       "\t<tr><td>ALST                                                                             </td><td>QTR                                                                              </td><td>2009-12-31                                                                       </td><td>2011-06-03                                                                       </td><td>2011-06-06                                                                       </td><td>INX Inc., Q4 2010 Earnings Call, Jun 06, 2011                                    </td><td>INX Inc.                                                                         </td><td>INX                                                                              </td><td> 522 days                                                                        </td></tr>\n",
       "\t<tr><td>DURI                                                                             </td><td>QTR                                                                              </td><td>2004-09-30                                                                       </td><td>2006-02-13                                                                       </td><td>2006-02-13                                                                       </td><td>Flowserve Corp., Q4 2005 Earnings Call, Feb-13-2006                              </td><td>Flowserve Corporation                                                            </td><td>FLOWSERVE CORP                                                                   </td><td> 501 days                                                                        </td></tr>\n",
       "\t<tr><td>RWAG                                                                             </td><td>ANN                                                                              </td><td>2007-12-31                                                                       </td><td>2008-02-22                                                                       </td><td>2009-05-14                                                                       </td><td>RWE AG, Q1 2009 Earnings Call, May-14-2009                                       </td><td>RWE Aktiengesellschaft                                                           </td><td>RWE                                                                              </td><td> 500 days                                                                        </td></tr>\n",
       "\t<tr><td>BASF                                                                             </td><td>ANN                                                                              </td><td>2013-12-31                                                                       </td><td>2014-02-25                                                                       </td><td>2015-04-30                                                                       </td><td>BASF SE, Q1 2015 Earnings Call, Apr 30, 2015                                     </td><td>BASF SE                                                                          </td><td>BASF SE                                                                          </td><td> 485 days                                                                        </td></tr>\n",
       "\t<tr><td>BASF                                                                             </td><td>ANN                                                                              </td><td>2011-12-31                                                                       </td><td>2012-02-24                                                                       </td><td>2013-04-26                                                                       </td><td>BASF SE, Q1 2013 Earnings Call, Apr 26, 2013                                     </td><td>BASF SE                                                                          </td><td>BASF SE                                                                          </td><td> 482 days                                                                        </td></tr>\n",
       "\t<tr><td>FFIV                                                                             </td><td>QTR                                                                              </td><td>2010-06-30                                                                       </td><td>2010-07-21                                                                       </td><td>2011-10-25                                                                       </td><td>F5 Networks, Inc., Q4 2011 Earnings Call, Oct 25, 2011                           </td><td>F5 Networks, Inc.                                                                </td><td>F5 NETWORKS INC                                                                  </td><td> 482 days                                                                        </td></tr>\n",
       "\t<tr><td>FFIV                                                                             </td><td>QTR                                                                              </td><td>2006-12-31                                                                       </td><td>2007-01-24                                                                       </td><td>2008-04-23                                                                       </td><td>F5 Networks, Inc., Q2 2008 Earnings Call, Apr-23-2008                            </td><td>F5 Networks, Inc.                                                                </td><td>F5 NETWORKS INC                                                                  </td><td> 479 days                                                                        </td></tr>\n",
       "\t<tr><td>SCHS                                                                             </td><td>QTR                                                                              </td><td>2007-10-31                                                                       </td><td>2007-11-13                                                                       </td><td>2009-02-19                                                                       </td><td>School Specialty Inc., Q3 2009 Earnings Call, Feb-19-2009                        </td><td>School Specialty, Inc.                                                           </td><td>SCHOOL SPECIALTY                                                                 </td><td> 477 days                                                                        </td></tr>\n",
       "\t<tr><td>WMT                                                                              </td><td>QTR                                                                              </td><td>2017-10-31                                                                       </td><td>2017-11-16                                                                       </td><td>2019-02-19                                                                       </td><td>Walmart Inc., Q4 2019 Pre Recorded Earnings Call, Feb 19, 2019                   </td><td>Walmart Inc.                                                                     </td><td>WALMART                                                                          </td><td> 476 days                                                                        </td></tr>\n",
       "\t<tr><td>DURI                                                                             </td><td>QTR                                                                              </td><td>2005-03-31                                                                       </td><td>2006-06-30                                                                       </td><td>2006-07-12                                                                       </td><td>Flowserve Corp., 2005 Earnings Call, Jul-12-2006                                 </td><td>Flowserve Corporation                                                            </td><td>FLOWSERVE CORP                                                                   </td><td> 468 days                                                                        </td></tr>\n",
       "\t<tr><td>SNCR                                                                             </td><td>QTR                                                                              </td><td>2017-03-31                                                                       </td><td>2018-07-02                                                                       </td><td>2018-07-02                                                                       </td><td>Synchronoss Technologies, Inc., Q1 2018 Earnings Call, Jul 02, 2018              </td><td>Synchronoss Technologies, Inc.                                                   </td><td>SYNCHRONOSS TECH                                                                 </td><td> 458 days                                                                        </td></tr>\n",
       "\t<tr><td>SNRZ                                                                             </td><td>ANN                                                                              </td><td>2006-12-31                                                                       </td><td>2008-03-24                                                                       </td><td>2008-04-02                                                                       </td><td>Sunrise Senior Living Inc., Q4 2007 Earnings Call, Apr-02-2008                   </td><td>Sunrise Senior Living, LLC                                                       </td><td>SUNRISE SENIOR L                                                                 </td><td> 458 days                                                                        </td></tr>\n",
       "\t<tr><td>ALST                                                                             </td><td>QTR                                                                              </td><td>2010-03-31                                                                       </td><td>2011-06-03                                                                       </td><td>2011-06-06                                                                       </td><td>INX Inc., Q4 2010 Earnings Call, Jun 06, 2011                                    </td><td>INX Inc.                                                                         </td><td>INX                                                                              </td><td> 432 days                                                                        </td></tr>\n",
       "\t<tr><td>ENER                                                                             </td><td>ANN                                                                              </td><td>2006-06-30                                                                       </td><td>2006-09-12                                                                       </td><td>2007-08-29                                                                       </td><td>Energy Conversion Devices, Inc., Q4 2007 Earnings Call, Aug-29-2007              </td><td>Energy Conversion Devices, Inc.                                                  </td><td>ENERGY CONV DEVS                                                                 </td><td> 425 days                                                                        </td></tr>\n",
       "\t<tr><td>ENER                                                                             </td><td>QTR                                                                              </td><td>2006-06-30                                                                       </td><td>2006-09-12                                                                       </td><td>2007-08-29                                                                       </td><td>Energy Conversion Devices, Inc., Q4 2007 Earnings Call, Aug-29-2007              </td><td>Energy Conversion Devices, Inc.                                                  </td><td>ENERGY CONV DEVS                                                                 </td><td> 425 days                                                                        </td></tr>\n",
       "\t<tr><td>NOUT                                                                             </td><td>ANN                                                                              </td><td>2015-06-30                                                                       </td><td>2015-08-20                                                                       </td><td>2016-08-26                                                                       </td><td>Net 1 Ueps Technologies Inc., Q4 2016 Earnings Call, Aug 26, 2016                </td><td>Net 1 UEPS Technologies, Inc.                                                    </td><td>NET 1 UEPS                                                                       </td><td> 423 days                                                                        </td></tr>\n",
       "\t<tr><td>NOUT                                                                             </td><td>QTR                                                                              </td><td>2015-06-30                                                                       </td><td>2015-08-20                                                                       </td><td>2016-08-26                                                                       </td><td>Net 1 Ueps Technologies Inc., Q4 2016 Earnings Call, Aug 26, 2016                </td><td>Net 1 UEPS Technologies, Inc.                                                    </td><td>NET 1 UEPS                                                                       </td><td> 423 days                                                                        </td></tr>\n",
       "\t<tr><td>RWAG                                                                             </td><td>ANN                                                                              </td><td>2007-12-31                                                                       </td><td>2008-02-22                                                                       </td><td>2009-02-26                                                                       </td><td>RWE AG, 2008 Earnings Call, Feb-26-2009                                          </td><td>RWE Aktiengesellschaft                                                           </td><td>RWE                                                                              </td><td> 423 days                                                                        </td></tr>\n",
       "\t<tr><td>BAYR                                                                             </td><td>ANN                                                                              </td><td>2015-12-31                                                                       </td><td>2016-02-25                                                                       </td><td>2017-02-22                                                                       </td><td>Bayer AG, Q4 2016 Earnings Call, Feb 22, 2017                                    </td><td>Bayer Aktiengesellschaft                                                         </td><td>BAYER AG                                                                         </td><td> 419 days                                                                        </td></tr>\n",
       "\t<tr><td>BAYR                                                                             </td><td>QTR                                                                              </td><td>2015-12-31                                                                       </td><td>2016-02-25                                                                       </td><td>2017-02-22                                                                       </td><td>Bayer AG, Q4 2016 Earnings Call, Feb 22, 2017                                    </td><td>Bayer Aktiengesellschaft                                                         </td><td>BAYER AG                                                                         </td><td> 419 days                                                                        </td></tr>\n",
       "\t<tr><td>HARM                                                                             </td><td>ANN                                                                              </td><td>2014-06-30                                                                       </td><td>2014-08-14                                                                       </td><td>2015-08-18                                                                       </td><td>Harmony Gold Mining Company Limited, Q4 2015 Earnings Call, Aug 18, 2015         </td><td>Harmony Gold Mining Company Limited                                              </td><td>HARMONY GOLD MNG                                                                 </td><td> 414 days                                                                        </td></tr>\n",
       "\t<tr><td>MBII                                                                             </td><td>QTR                                                                              </td><td>2014-09-30                                                                       </td><td>2015-11-10                                                                       </td><td>2015-11-17                                                                       </td><td>Marrone Bio Innovations, Inc., Q3 2015 Earnings Call, Nov 17, 2015               </td><td>Marrone Bio Innovations, Inc.                                                    </td><td>MARRONE BIO INNO                                                                 </td><td> 413 days                                                                        </td></tr>\n",
       "\t<tr><td>DURI                                                                             </td><td>ANN                                                                              </td><td>2004-12-31                                                                       </td><td>2006-02-13                                                                       </td><td>2006-02-13                                                                       </td><td>Flowserve Corp., Q4 2005 Earnings Call, Feb-13-2006                              </td><td>Flowserve Corporation                                                            </td><td>FLOWSERVE CORP                                                                   </td><td> 409 days                                                                        </td></tr>\n",
       "\t<tr><td>MXS                                                                              </td><td>ANN                                                                              </td><td>2013-12-31                                                                       </td><td>2015-02-12                                                                       </td><td>2015-02-13                                                                       </td><td>MagnaChip Semiconductor Corporation, Nine Months 2014 Earnings Call, Feb 13, 2015</td><td>MagnaChip Semiconductor Corporation                                              </td><td>MAGNACHIP SEMICO                                                                 </td><td> 409 days                                                                        </td></tr>\n",
       "\t<tr><td>MXS                                                                              </td><td>QTR                                                                              </td><td>2013-12-31                                                                       </td><td>2015-02-12                                                                       </td><td>2015-02-13                                                                       </td><td>MagnaChip Semiconductor Corporation, Nine Months 2014 Earnings Call, Feb 13, 2015</td><td>MagnaChip Semiconductor Corporation                                              </td><td>MAGNACHIP SEMICO                                                                 </td><td> 409 days                                                                        </td></tr>\n",
       "\t<tr><td>SHAC                                                                             </td><td>ANN                                                                              </td><td>2013-03-31                                                                       </td><td>2014-05-12                                                                       </td><td>2014-05-12                                                                       </td><td>Sharp Corporation, 2014 Earnings Call, May 12, 2014                              </td><td>Sharp Corporation                                                                </td><td>SHARP CORP                                                                       </td><td> 407 days                                                                        </td></tr>\n",
       "\t<tr><td>BL1                                                                              </td><td>QTR                                                                              </td><td>2017-09-30                                                                       </td><td>2017-11-09                                                                       </td><td>2018-11-08                                                                       </td><td>Brookfield Asset Management Inc., Q3 2018 Earnings Call, Nov 08, 2018            </td><td>Brookfield Asset Management Inc.                                                 </td><td>BROOKFIELD ASSET                                                                 </td><td> 404 days                                                                        </td></tr>\n",
       "\t<tr><td>CNTE                                                                             </td><td>ANN                                                                              </td><td>2010-12-31                                                                       </td><td>2011-02-08                                                                       </td><td>2012-02-07                                                                       </td><td>Centene Corp., Q4 2011 Earnings Call, Feb 07, 2012                               </td><td>Centene Corporation                                                              </td><td>CENTENE                                                                          </td><td> 403 days                                                                        </td></tr>\n",
       "\t<tr><td>CNTE                                                                             </td><td>QTR                                                                              </td><td>2010-12-31                                                                       </td><td>2011-02-08                                                                       </td><td>2012-02-07                                                                       </td><td>Centene Corp., Q4 2011 Earnings Call, Feb 07, 2012                               </td><td>Centene Corporation                                                              </td><td>CENTENE                                                                          </td><td> 403 days                                                                        </td></tr>\n",
       "\t<tr><td>PEDX                                                                             </td><td>QTR                                                                              </td><td>2006-06-30                                                                       </td><td>2007-08-07                                                                       </td><td>2007-08-07                                                                       </td><td>MEDNAX, Inc., Q2 2007 Earnings Call, Aug-07-2007                                 </td><td>MEDNAX, Inc.                                                                     </td><td>PEDIATRIX MEDIC                                                                  </td><td> 403 days                                                                        </td></tr>\n",
       "\t<tr><td>ACLS                                                                             </td><td>QTR                                                                              </td><td>2007-09-30                                                                       </td><td>2007-11-01                                                                       </td><td>2008-11-05                                                                       </td><td>Axcelis Technologies Inc., Q3 2008 Earnings Call, Nov-05-2008                    </td><td>Axcelis Technologies, Inc.                                                       </td><td>AXCELIS TECH                                                                     </td><td> 402 days                                                                        </td></tr>\n",
       "\t<tr><td>SIGM                                                                             </td><td>QTR                                                                              </td><td>2016-04-30                                                                       </td><td>2016-06-06                                                                       </td><td>2017-06-06                                                                       </td><td>Sigma Designs, Inc., Q1 2018 Earnings Call, Jun 06, 2017                         </td><td>Sigma Designs, Inc.                                                              </td><td>SIGMA DESIGNS                                                                    </td><td> 402 days                                                                        </td></tr>\n",
       "\t<tr><td>BBGC                                                                             </td><td>QTR                                                                              </td><td>2009-09-30                                                                       </td><td>2009-11-03                                                                       </td><td>2010-11-02                                                                       </td><td>Bill Barrett Corp., Q3 2010 Earnings Call, Nov 02, 2010                          </td><td>HighPoint Resources Corporation                                                  </td><td>BILL BARRETT                                                                     </td><td> 398 days                                                                        </td></tr>\n",
       "\t<tr><td>BXG                                                                              </td><td>ANN                                                                              </td><td>2010-12-31                                                                       </td><td>2011-02-03                                                                       </td><td>2012-02-02                                                                       </td><td>The Blackstone Group, Q4 2011 Earnings Call, Feb 02, 2012                        </td><td>The Blackstone Group L.P.                                                        </td><td>BLACKSTONE GROUP                                                                 </td><td> 398 days                                                                        </td></tr>\n",
       "\t<tr><td>BXG                                                                              </td><td>QTR                                                                              </td><td>2010-12-31                                                                       </td><td>2011-02-03                                                                       </td><td>2012-02-02                                                                       </td><td>The Blackstone Group, Q4 2011 Earnings Call, Feb 02, 2012                        </td><td>The Blackstone Group L.P.                                                        </td><td>BLACKSTONE GROUP                                                                 </td><td> 398 days                                                                        </td></tr>\n",
       "\t<tr><td>BXG                                                                              </td><td>ANN                                                                              </td><td>2011-12-31                                                                       </td><td>2012-02-02                                                                       </td><td>2013-01-31                                                                       </td><td>The Blackstone Group, Q4 2012 Earnings Call, Jan 31, 2013                        </td><td>The Blackstone Group L.P.                                                        </td><td>BLACKSTONE GROUP                                                                 </td><td> 397 days                                                                        </td></tr>\n",
       "\t<tr><td>BXG                                                                              </td><td>QTR                                                                              </td><td>2011-12-31                                                                       </td><td>2012-02-02                                                                       </td><td>2013-01-31                                                                       </td><td>The Blackstone Group, Q4 2012 Earnings Call, Jan 31, 2013                        </td><td>The Blackstone Group L.P.                                                        </td><td>BLACKSTONE GROUP                                                                 </td><td> 397 days                                                                        </td></tr>\n",
       "\t<tr><td>HIW                                                                              </td><td>QTR                                                                              </td><td>2011-09-30                                                                       </td><td>2011-10-27                                                                       </td><td>2012-10-31                                                                       </td><td>Highwoods Properties Inc., Q3 2012 Earnings Call, Oct 31, 2012                   </td><td>Highwoods Properties, Inc.                                                       </td><td>HIGHWOODS PROPER                                                                 </td><td> 397 days                                                                        </td></tr>\n",
       "\t<tr><td>ELC                                                                              </td><td>QTR                                                                              </td><td>2012-06-30                                                                       </td><td>2013-07-31                                                                       </td><td>2013-07-31                                                                       </td><td>Lime Energy Co., 2012 Earnings Call, Jul 31, 2013                                </td><td>Lime Energy Co.                                                                  </td><td>LIME ENERGY CO                                                                   </td><td> 396 days                                                                        </td></tr>\n",
       "\t<tr><td>...</td><td>...</td><td>...</td><td>...</td><td>...</td><td>...</td><td>...</td><td>...</td><td>...</td></tr>\n",
       "\t<tr><td>URBN                                                                  </td><td>QTR                                                                   </td><td>2006-04-30                                                            </td><td>2006-05-11                                                            </td><td>2006-05-11                                                            </td><td>Urban Outfitters Inc., Q1 2007 Earnings Call, May-11-2006             </td><td>Urban Outfitters, Inc.                                                </td><td>URBAN OUTFITTERS                                                      </td><td>11 days                                                               </td></tr>\n",
       "\t<tr><td>VAL                                                                   </td><td>QTR                                                                   </td><td>2008-01-31                                                            </td><td>2008-02-11                                                            </td><td>2008-02-11                                                            </td><td>Valspar Corp., Q1 2008 Earnings Call, Feb-11-2008                     </td><td>The Valspar Corporation                                               </td><td>VALSPAR CP                                                            </td><td>11 days                                                               </td></tr>\n",
       "\t<tr><td>ANF                                                                                                               </td><td>QTR                                                                                                               </td><td>2004-07-31                                                                                                        </td><td>2004-08-10                                                                                                        </td><td>2004-08-10                                                                                                        </td><td><span style=white-space:pre-wrap>Abercrombie &amp; Fitch Co., Q2 2005 Earnings Call, Aug 10, 2004          </span></td><td><span style=white-space:pre-wrap>Abercrombie &amp; Fitch Co.          </span>                                     </td><td>ABERCROM &amp; FITCH                                                                                              </td><td>10 days                                                                                                           </td></tr>\n",
       "\t<tr><td>ANN                                                                   </td><td>QTR                                                                   </td><td>2004-10-31                                                            </td><td>2004-11-10                                                            </td><td>2004-11-10                                                            </td><td>AnnTaylor Stores Corp., Q3 2005 Earnings Call, Nov 10, 2004           </td><td>ANN INC.                                                              </td><td>ANNTAYLOR STORES                                                      </td><td>10 days                                                               </td></tr>\n",
       "\t<tr><td>BOBE                                                                  </td><td>QTR                                                                   </td><td>2010-01-31                                                            </td><td>2010-02-09                                                            </td><td>2010-02-10                                                            </td><td>Bob Evans Farms Inc., Q3 2010 Earnings Call, Feb-10-2010              </td><td>Bob Evans Farms, Inc.                                                 </td><td>BOB EVANS FARMS                                                       </td><td>10 days                                                               </td></tr>\n",
       "\t<tr><td>CYBX                                                                  </td><td>QTR                                                                   </td><td>2004-10-31                                                            </td><td>2004-11-10                                                            </td><td>2004-11-10                                                            </td><td>Cyberonics Inc., Q2 2005 Earnings Call, Nov-10-2004                   </td><td>LivaNova PLC                                                          </td><td>CYBERONICS INC                                                        </td><td>10 days                                                               </td></tr>\n",
       "\t<tr><td>DELL                                                                  </td><td>QTR                                                                   </td><td>2005-10-31                                                            </td><td>2005-11-10                                                            </td><td>2005-11-10                                                            </td><td>Dell Inc., Q3 2006 Earnings Call, Nov-10-2005                         </td><td>Dell Technologies Inc.                                                </td><td>DELL INC                                                              </td><td>10 days                                                               </td></tr>\n",
       "\t<tr><td>FD                                                                    </td><td>QTR                                                                   </td><td>2004-10-31                                                            </td><td>2004-11-10                                                            </td><td>2004-11-10                                                            </td><td>Macy's, Inc., Q3 2005 Earnings Call, Nov 10, 2004                     </td><td>Macy's, Inc.                                                          </td><td>FEDERATED DEPT S                                                      </td><td>10 days                                                               </td></tr>\n",
       "\t<tr><td>FEMP                                                                                                              </td><td>QTR                                                                                                               </td><td>2002-06-30                                                                                                        </td><td>2002-07-10                                                                                                        </td><td>2002-07-10                                                                                                        </td><td><span style=white-space:pre-wrap>M&amp;T Bank Corporation, Q2 2002 Earnings Calls, Jul 10, 2002            </span></td><td><span style=white-space:pre-wrap>M&amp;T Bank Corporation             </span>                                     </td><td>M &amp; T BANK CORP                                                                                               </td><td>10 days                                                                                                           </td></tr>\n",
       "\t<tr><td>FEMP                                                                                                              </td><td>ANN                                                                                                               </td><td>2002-12-31                                                                                                        </td><td>2003-01-10                                                                                                        </td><td>2003-01-10                                                                                                        </td><td><span style=white-space:pre-wrap>M&amp;T Bank Corporation, Q4 2002 Earnings Calls, Jan 10, 2003            </span></td><td><span style=white-space:pre-wrap>M&amp;T Bank Corporation             </span>                                     </td><td>M &amp; T BANK CORP                                                                                               </td><td>10 days                                                                                                           </td></tr>\n",
       "\t<tr><td>FEMP                                                                                                              </td><td>QTR                                                                                                               </td><td>2002-12-31                                                                                                        </td><td>2003-01-10                                                                                                        </td><td>2003-01-10                                                                                                        </td><td><span style=white-space:pre-wrap>M&amp;T Bank Corporation, Q4 2002 Earnings Calls, Jan 10, 2003            </span></td><td><span style=white-space:pre-wrap>M&amp;T Bank Corporation             </span>                                     </td><td>M &amp; T BANK CORP                                                                                               </td><td>10 days                                                                                                           </td></tr>\n",
       "\t<tr><td>FEMP                                                                                                              </td><td>QTR                                                                                                               </td><td>2003-03-31                                                                                                        </td><td>2003-04-10                                                                                                        </td><td>2003-04-10                                                                                                        </td><td><span style=white-space:pre-wrap>M&amp;T Bank Corporation, Q1 2003 Earnings Calls, Apr 10, 2003            </span></td><td><span style=white-space:pre-wrap>M&amp;T Bank Corporation             </span>                                     </td><td>M &amp; T BANK CORP                                                                                               </td><td>10 days                                                                                                           </td></tr>\n",
       "\t<tr><td>FEMP                                                                                                              </td><td>QTR                                                                                                               </td><td>2003-09-30                                                                                                        </td><td>2003-10-10                                                                                                        </td><td>2003-10-10                                                                                                        </td><td><span style=white-space:pre-wrap>M&amp;T Bank Corporation, Q3 2003 Earnings Calls, Oct 10, 2003            </span></td><td><span style=white-space:pre-wrap>M&amp;T Bank Corporation             </span>                                     </td><td>M &amp; T BANK CORP                                                                                               </td><td>10 days                                                                                                           </td></tr>\n",
       "\t<tr><td>HCSG                                                                  </td><td>QTR                                                                   </td><td>2012-09-30                                                            </td><td>2012-10-09                                                            </td><td>2012-10-10                                                            </td><td>Healthcare Services Group Inc., Q3 2012 Earnings Call, Oct 10, 2012   </td><td>Healthcare Services Group, Inc.                                       </td><td>HLTHCARE SVC GRP                                                      </td><td>10 days                                                               </td></tr>\n",
       "\t<tr><td>HCSG                                                                  </td><td>QTR                                                                   </td><td>2013-03-31                                                            </td><td>2013-04-09                                                            </td><td>2013-04-10                                                            </td><td>Healthcare Services Group Inc., Q1 2013 Earnings Call, Apr 10, 2013   </td><td>Healthcare Services Group, Inc.                                       </td><td>HLTHCARE SVC GRP                                                      </td><td>10 days                                                               </td></tr>\n",
       "\t<tr><td>JCP                                                                   </td><td>QTR                                                                   </td><td>2006-07-31                                                            </td><td>2006-08-10                                                            </td><td>2006-08-10                                                            </td><td>J. C. Penney Company, Inc., Q2 2007 Earnings Call, Aug 10, 2006       </td><td>J. C. Penney Company, Inc.                                            </td><td>JC PENNEY                                                             </td><td>10 days                                                               </td></tr>\n",
       "\t<tr><td>LPLL                                                                  </td><td>QTR                                                                   </td><td>2007-06-30                                                            </td><td>2007-07-10                                                            </td><td>2007-07-10                                                            </td><td>LG Display Co., Ltd., Q2 2007 Earnings Call, Jul 10, 2007             </td><td>LG Display Co., Ltd.                                                  </td><td>LG PHILIPS LCD                                                        </td><td>10 days                                                               </td></tr>\n",
       "\t<tr><td>LPLL                                                                  </td><td>QTR                                                                   </td><td>2008-03-31                                                            </td><td>2008-04-10                                                            </td><td>2008-04-10                                                            </td><td>LG Display Co., Ltd., Q1 2008 Earnings Call, Apr-10-2008              </td><td>LG Display Co., Ltd.                                                  </td><td>LG DISPLAY CO LT                                                      </td><td>10 days                                                               </td></tr>\n",
       "\t<tr><td>MTG1                                                                  </td><td>QTR                                                                   </td><td>2002-06-30                                                            </td><td>2002-07-10                                                            </td><td>2002-07-10                                                            </td><td>MGIC Investment Corporation, Q2 2002 Earnings Calls, Jul 10, 2002     </td><td>MGIC Investment Corporation                                           </td><td>MGIC INVT CORP W                                                      </td><td>10 days                                                               </td></tr>\n",
       "\t<tr><td>MTG1                                                                  </td><td>QTR                                                                   </td><td>2002-09-30                                                            </td><td>2002-10-10                                                            </td><td>2002-10-10                                                            </td><td>MGIC Investment Corporation, Q3 2002 Earnings Calls, Oct 10, 2002     </td><td>MGIC Investment Corporation                                           </td><td>MGIC INVT CORP W                                                      </td><td>10 days                                                               </td></tr>\n",
       "\t<tr><td>STI                                                                   </td><td>QTR                                                                   </td><td>2002-03-31                                                            </td><td>2002-04-10                                                            </td><td>2002-04-10                                                            </td><td>SunTrust Banks, Inc., Q1 2002 Earnings Calls, Apr 10, 2002            </td><td>SunTrust Banks, Inc.                                                  </td><td>SUNTRUST BKS GA                                                       </td><td>10 days                                                               </td></tr>\n",
       "\t<tr><td>STI                                                                   </td><td>QTR                                                                   </td><td>2002-06-30                                                            </td><td>2002-07-10                                                            </td><td>2002-07-10                                                            </td><td>SunTrust Banks, Inc., Q2 2002 Earnings Calls, Jul 10, 2002            </td><td>SunTrust Banks, Inc.                                                  </td><td>SUNTRUST BKS GA                                                       </td><td>10 days                                                               </td></tr>\n",
       "\t<tr><td>STI                                                                   </td><td>QTR                                                                   </td><td>2003-03-31                                                            </td><td>2003-04-10                                                            </td><td>2003-04-10                                                            </td><td>SunTrust Banks, Inc., Q1 2003 Earnings Calls, Apr 10, 2003            </td><td>SunTrust Banks, Inc.                                                  </td><td>SUNTRUST BKS GA                                                       </td><td>10 days                                                               </td></tr>\n",
       "\t<tr><td>STI                                                                   </td><td>QTR                                                                   </td><td>2003-06-30                                                            </td><td>2003-07-10                                                            </td><td>2003-07-10                                                            </td><td>SunTrust Banks, Inc., Q2 2003 Earnings Calls, Jul 10, 2003            </td><td>SunTrust Banks, Inc.                                                  </td><td>SUNTRUST BKS GA                                                       </td><td>10 days                                                               </td></tr>\n",
       "\t<tr><td>ZOLT                                                                  </td><td>QTR                                                                   </td><td>2005-12-31                                                            </td><td>2006-01-03                                                            </td><td>2006-01-10                                                            </td><td>Zoltek Companies Inc., Q4 2005 Earnings Call, Jan-10-2006             </td><td>Zoltek Companies Inc.                                                 </td><td>ZOLTEK COS INC                                                        </td><td>10 days                                                               </td></tr>\n",
       "\t<tr><td>CPSS                                                                  </td><td>QTR                                                                   </td><td>2014-03-31                                                            </td><td>2014-04-08                                                            </td><td>2014-04-09                                                            </td><td>Consumer Portfolio Services, Inc., Q1 2014 Earnings Call, Apr 09, 2014</td><td>Consumer Portfolio Services, Inc.                                     </td><td>CONSUMER PORTF.                                                       </td><td> 9 days                                                               </td></tr>\n",
       "\t<tr><td>FEMP                                                                                                              </td><td>QTR                                                                                                               </td><td>2002-09-30                                                                                                        </td><td>2002-10-09                                                                                                        </td><td>2002-10-09                                                                                                        </td><td><span style=white-space:pre-wrap>M&amp;T Bank Corporation, Q3 2002 Earnings Calls, Oct 09, 2002            </span></td><td><span style=white-space:pre-wrap>M&amp;T Bank Corporation             </span>                                     </td><td>M &amp; T BANK CORP                                                                                               </td><td> 9 days                                                                                                           </td></tr>\n",
       "\t<tr><td>HCSG                                                                  </td><td>QTR                                                                   </td><td>2013-09-30                                                            </td><td>2013-10-08                                                            </td><td>2013-10-09                                                            </td><td>Healthcare Services Group Inc., Q3 2013 Earnings Call, Oct 09, 2013   </td><td>Healthcare Services Group, Inc.                                       </td><td>HLTHCARE SVC GRP                                                      </td><td> 9 days                                                               </td></tr>\n",
       "\t<tr><td>HCSG                                                                  </td><td>QTR                                                                   </td><td>2014-03-31                                                            </td><td>2014-04-08                                                            </td><td>2014-04-09                                                            </td><td>Healthcare Services Group Inc., Q1 2014 Earnings Call, Apr 09, 2014   </td><td>Healthcare Services Group, Inc.                                       </td><td>HLTHCARE SVC GRP                                                      </td><td> 9 days                                                               </td></tr>\n",
       "\t<tr><td>HCSG                                                                  </td><td>QTR                                                                   </td><td>2014-06-30                                                            </td><td>2014-07-08                                                            </td><td>2014-07-09                                                            </td><td>Healthcare Services Group Inc., Q2 2014 Earnings Call, Jul 09, 2014   </td><td>Healthcare Services Group, Inc.                                       </td><td>HLTHCARE SVC GRP                                                      </td><td> 9 days                                                               </td></tr>\n",
       "\t<tr><td>KSS                                                                   </td><td>QTR                                                                   </td><td>2006-10-31                                                            </td><td>2006-11-09                                                            </td><td>2006-11-09                                                            </td><td>Kohl's Corp., Q3 2007 Earnings Call, Nov 09, 2006                     </td><td>Kohl's Corporation                                                    </td><td>KOHLS CORP                                                            </td><td> 9 days                                                               </td></tr>\n",
       "\t<tr><td>MHS                                                                   </td><td>QTR                                                                   </td><td>2003-09-30                                                            </td><td>2003-10-09                                                            </td><td>2003-10-09                                                            </td><td>Marriott International, Inc., Q3 2003 Earnings Calls, Oct 09, 2003    </td><td>Marriott International, Inc.                                          </td><td>MARRIOTT INTL                                                         </td><td> 9 days                                                               </td></tr>\n",
       "\t<tr><td>MTG1                                                                  </td><td>QTR                                                                   </td><td>2002-03-31                                                            </td><td>2002-04-09                                                            </td><td>2002-04-09                                                            </td><td>MGIC Investment Corporation, Q1 2002 Earnings Calls, Apr 09, 2002     </td><td>MGIC Investment Corporation                                           </td><td>MGIC INVT CORP W                                                      </td><td> 9 days                                                               </td></tr>\n",
       "\t<tr><td>MTG1                                                                  </td><td>ANN                                                                   </td><td>2002-12-31                                                            </td><td>2003-01-09                                                            </td><td>2003-01-09                                                            </td><td>MGIC Investment Corporation, Q4 2002 Earnings Calls, Jan 09, 2003     </td><td>MGIC Investment Corporation                                           </td><td>MGIC INVT CORP W                                                      </td><td> 9 days                                                               </td></tr>\n",
       "\t<tr><td>MTG1                                                                  </td><td>QTR                                                                   </td><td>2002-12-31                                                            </td><td>2003-01-09                                                            </td><td>2003-01-09                                                            </td><td>MGIC Investment Corporation, Q4 2002 Earnings Calls, Jan 09, 2003     </td><td>MGIC Investment Corporation                                           </td><td>MGIC INVT CORP W                                                      </td><td> 9 days                                                               </td></tr>\n",
       "\t<tr><td>STI                                                                   </td><td>ANN                                                                   </td><td>2001-12-31                                                            </td><td>2002-01-09                                                            </td><td>2002-01-09                                                            </td><td>SunTrust Banks, Inc., Q4 2001 Earnings Calls, Jan 09, 2002            </td><td>SunTrust Banks, Inc.                                                  </td><td>SUNTRUST BKS GA                                                       </td><td> 9 days                                                               </td></tr>\n",
       "\t<tr><td>STI                                                                   </td><td>QTR                                                                   </td><td>2001-12-31                                                            </td><td>2002-01-09                                                            </td><td>2002-01-09                                                            </td><td>SunTrust Banks, Inc., Q4 2001 Earnings Calls, Jan 09, 2002            </td><td>SunTrust Banks, Inc.                                                  </td><td>SUNTRUST BKS GA                                                       </td><td> 9 days                                                               </td></tr>\n",
       "\t<tr><td>STI                                                                   </td><td>QTR                                                                   </td><td>2002-09-30                                                            </td><td>2002-10-09                                                            </td><td>2002-10-09                                                            </td><td>SunTrust Banks, Inc., Q3 2002 Earnings Calls, Oct 09, 2002            </td><td>SunTrust Banks, Inc.                                                  </td><td>SUNTRUST BKS GA                                                       </td><td> 9 days                                                               </td></tr>\n",
       "\t<tr><td>STI                                                                   </td><td>QTR                                                                   </td><td>2003-09-30                                                            </td><td>2003-10-09                                                            </td><td>2003-10-09                                                            </td><td>SunTrust Banks, Inc., Q3 2003 Earnings Calls, Oct 09, 2003            </td><td>SunTrust Banks, Inc.                                                  </td><td>SUNTRUST BKS GA                                                       </td><td> 9 days                                                               </td></tr>\n",
       "\t<tr><td>MBWM                                                                  </td><td>QTR                                                                   </td><td>2004-03-31                                                            </td><td>2004-04-08                                                            </td><td>2004-04-08                                                            </td><td>Mercantile Bank Corporation, Q1 2004 Earnings Calls, Apr 08, 2004     </td><td>Mercantile Bank Corporation                                           </td><td>MERCANTILE BANK                                                       </td><td> 8 days                                                               </td></tr>\n",
       "\t<tr><td>STI                                                                   </td><td>ANN                                                                   </td><td>2002-12-31                                                            </td><td>2003-01-08                                                            </td><td>2003-01-08                                                            </td><td>SunTrust Banks, Inc., Q4 2002 Earnings Calls, Jan 08, 2003            </td><td>SunTrust Banks, Inc.                                                  </td><td>SUNTRUST BKS GA                                                       </td><td> 8 days                                                               </td></tr>\n",
       "\t<tr><td>STI                                                                   </td><td>QTR                                                                   </td><td>2002-12-31                                                            </td><td>2003-01-08                                                            </td><td>2003-01-08                                                            </td><td>SunTrust Banks, Inc., Q4 2002 Earnings Calls, Jan 08, 2003            </td><td>SunTrust Banks, Inc.                                                  </td><td>SUNTRUST BKS GA                                                       </td><td> 8 days                                                               </td></tr>\n",
       "\t<tr><td>STI                                                                   </td><td>QTR                                                                   </td><td>2004-03-31                                                            </td><td>2004-04-08                                                            </td><td>2004-04-08                                                            </td><td>SunTrust Banks, Inc., Q1 2004 Earnings Calls, Apr 08, 2004            </td><td>SunTrust Banks, Inc.                                                  </td><td>SUNTRUST BKS GA                                                       </td><td> 8 days                                                               </td></tr>\n",
       "\t<tr><td>MBWM                                                                  </td><td>QTR                                                                   </td><td>2003-09-30                                                            </td><td>2003-10-07                                                            </td><td>2003-10-07                                                            </td><td>Mercantile Bank Corporation, Q3 2003 Earnings Calls, Oct 07, 2003     </td><td>Mercantile Bank Corporation                                           </td><td>MERCANTILE BANK                                                       </td><td> 7 days                                                               </td></tr>\n",
       "\t<tr><td>MBWM                                                                  </td><td>ANN                                                                   </td><td>2003-12-31                                                            </td><td>2004-01-07                                                            </td><td>2004-01-07                                                            </td><td>Mercantile Bank Corporation, Q4 2003 Earnings Calls, Jan 07, 2004     </td><td>Mercantile Bank Corporation                                           </td><td>MERCANTILE BANK                                                       </td><td> 7 days                                                               </td></tr>\n",
       "\t<tr><td>MBWM                                                                  </td><td>QTR                                                                   </td><td>2003-12-31                                                            </td><td>2004-01-07                                                            </td><td>2004-01-07                                                            </td><td>Mercantile Bank Corporation, Q4 2003 Earnings Calls, Jan 07, 2004     </td><td>Mercantile Bank Corporation                                           </td><td>MERCANTILE BANK                                                       </td><td> 7 days                                                               </td></tr>\n",
       "\t<tr><td>MHS                                                                   </td><td>QTR                                                                   </td><td>2004-09-30                                                            </td><td>2004-10-07                                                            </td><td>2004-10-07                                                            </td><td>Marriott International, Inc., Q3 2004 Earnings Call, Oct-07-2004      </td><td>Marriott International, Inc.                                          </td><td>MARRIOTT INTL                                                         </td><td> 7 days                                                               </td></tr>\n",
       "\t<tr><td>STA3                                                                  </td><td>QTR                                                                   </td><td>2005-09-30                                                            </td><td>2005-10-06                                                            </td><td>2005-10-07                                                            </td><td>Center Cut Hospitality, Inc., Q3 2005 Earnings Call, Oct-07-2005      </td><td>Center Cut Hospitality, Inc                                           </td><td>LONE STAR STEAKH                                                      </td><td> 7 days                                                               </td></tr>\n",
       "\t<tr><td>ARA1                                                                  </td><td>QTR                                                                   </td><td>2006-09-30                                                            </td><td>2006-10-06                                                            </td><td>2006-10-06                                                            </td><td>Aracruz Celulose S.A., Q3 2006 Earnings Call, Oct-06-2006             </td><td>Aracruz Celulose S.A.                                                 </td><td>ARACRUZ                                                               </td><td> 6 days                                                               </td></tr>\n",
       "\t<tr><td>LMAT                                                                  </td><td>QTR                                                                   </td><td>2018-09-30                                                            </td><td>2018-10-04                                                            </td><td>2018-10-05                                                            </td><td>LeMaitre Vascular, Inc., Q3 2018 Earnings Call, Oct 05, 2018          </td><td>LeMaitre Vascular, Inc.                                               </td><td>LEMAITRE                                                              </td><td> 5 days                                                               </td></tr>\n",
       "</tbody>\n",
       "</table>\n"
      ],
      "text/latex": [
       "\\begin{tabular}{r|lllllllll}\n",
       " ticker & fiscalp & fpedats & anndats\\_act & headline\\_date & headline & companyname & cname & diff\\\\\n",
       "\\hline\n",
       "\t CSC                                                                               & ANN                                                                               & 2009-03-31                                                                        & 2009-05-20                                                                        & 2004-05-17                                                                        & DXC Technology Company, Q4 2004 Earnings Calls, May 17, 2004                      & DXC Technology Company                                                            & COMP SCIENCES                                                                     & 1779 days                                                                        \\\\\n",
       "\t CSC                                                                               & QTR                                                                               & 2009-03-31                                                                        & 2009-05-20                                                                        & 2004-05-17                                                                        & DXC Technology Company, Q4 2004 Earnings Calls, May 17, 2004                      & DXC Technology Company                                                            & COMP SCIENCES                                                                     & 1779 days                                                                        \\\\\n",
       "\t GLPC                                                                              & ANN                                                                               & 2004-12-31                                                                        & 2008-10-10                                                                        & 2008-10-14                                                                        & Impax Laboratories Inc., Q2 2008 Earnings Call, Oct-14-2008                       & Impax Laboratories, Inc.                                                          & IMPAX LAB INC                                                                     & 1383 days                                                                        \\\\\n",
       "\t GLPC                                                                              & ANN                                                                               & 2005-12-31                                                                        & 2008-10-10                                                                        & 2008-10-14                                                                        & Impax Laboratories Inc., Q2 2008 Earnings Call, Oct-14-2008                       & Impax Laboratories, Inc.                                                          & IMPAX LAB INC                                                                     & 1018 days                                                                        \\\\\n",
       "\t SNRZ                                                                              & QTR                                                                               & 2006-03-31                                                                        & 2008-03-24                                                                        & 2008-04-02                                                                        & Sunrise Senior Living Inc., Q4 2007 Earnings Call, Apr-02-2008                    & Sunrise Senior Living, LLC                                                        & SUNRISE SENIOR L                                                                  &  733 days                                                                        \\\\\n",
       "\t RWAG                                                                              & ANN                                                                               & 2007-12-31                                                                        & 2008-02-22                                                                        & 2009-11-12                                                                        & RWE AG, Q3 2009 Earnings Call, Nov-12-2009                                        & RWE Aktiengesellschaft                                                            & RWE                                                                               &  682 days                                                                        \\\\\n",
       "\t FFIV                                                                              & QTR                                                                               & 2006-12-31                                                                        & 2007-01-24                                                                        & 2008-10-22                                                                        & F5 Networks, Inc., Q4 2008 Earnings Call, Oct-22-2008                             & F5 Networks, Inc.                                                                 & F5 NETWORKS INC                                                                   &  661 days                                                                        \\\\\n",
       "\t RWAG                                                                              & ANN                                                                               & 2007-12-31                                                                        & 2008-02-22                                                                        & 2009-08-13                                                                        & RWE AG, Q2 2009 Earnings Call, Aug-13-2009                                        & RWE Aktiengesellschaft                                                            & RWE                                                                               &  591 days                                                                        \\\\\n",
       "\t SCHS                                                                              & QTR                                                                               & 2007-10-31                                                                        & 2007-11-13                                                                        & 2009-06-11                                                                        & School Specialty Inc., Q4 2009 Earnings Call, Jun-11-2009                         & School Specialty, Inc.                                                            & SCHOOL SPECIALTY                                                                  &  589 days                                                                        \\\\\n",
       "\t FFIV                                                                              & QTR                                                                               & 2006-12-31                                                                        & 2007-01-24                                                                        & 2008-07-23                                                                        & F5 Networks, Inc., Q3 2008 Earnings Call, Jul-23-2008                             & F5 Networks, Inc.                                                                 & F5 NETWORKS INC                                                                   &  570 days                                                                        \\\\\n",
       "\t ALST                                                                              & ANN                                                                               & 2009-12-31                                                                        & 2011-06-03                                                                        & 2011-06-06                                                                        & INX Inc., Q4 2010 Earnings Call, Jun 06, 2011                                     & INX Inc.                                                                          & INX                                                                               &  522 days                                                                        \\\\\n",
       "\t ALST                                                                              & QTR                                                                               & 2009-12-31                                                                        & 2011-06-03                                                                        & 2011-06-06                                                                        & INX Inc., Q4 2010 Earnings Call, Jun 06, 2011                                     & INX Inc.                                                                          & INX                                                                               &  522 days                                                                        \\\\\n",
       "\t DURI                                                                              & QTR                                                                               & 2004-09-30                                                                        & 2006-02-13                                                                        & 2006-02-13                                                                        & Flowserve Corp., Q4 2005 Earnings Call, Feb-13-2006                               & Flowserve Corporation                                                             & FLOWSERVE CORP                                                                    &  501 days                                                                        \\\\\n",
       "\t RWAG                                                                              & ANN                                                                               & 2007-12-31                                                                        & 2008-02-22                                                                        & 2009-05-14                                                                        & RWE AG, Q1 2009 Earnings Call, May-14-2009                                        & RWE Aktiengesellschaft                                                            & RWE                                                                               &  500 days                                                                        \\\\\n",
       "\t BASF                                                                              & ANN                                                                               & 2013-12-31                                                                        & 2014-02-25                                                                        & 2015-04-30                                                                        & BASF SE, Q1 2015 Earnings Call, Apr 30, 2015                                      & BASF SE                                                                           & BASF SE                                                                           &  485 days                                                                        \\\\\n",
       "\t BASF                                                                              & ANN                                                                               & 2011-12-31                                                                        & 2012-02-24                                                                        & 2013-04-26                                                                        & BASF SE, Q1 2013 Earnings Call, Apr 26, 2013                                      & BASF SE                                                                           & BASF SE                                                                           &  482 days                                                                        \\\\\n",
       "\t FFIV                                                                              & QTR                                                                               & 2010-06-30                                                                        & 2010-07-21                                                                        & 2011-10-25                                                                        & F5 Networks, Inc., Q4 2011 Earnings Call, Oct 25, 2011                            & F5 Networks, Inc.                                                                 & F5 NETWORKS INC                                                                   &  482 days                                                                        \\\\\n",
       "\t FFIV                                                                              & QTR                                                                               & 2006-12-31                                                                        & 2007-01-24                                                                        & 2008-04-23                                                                        & F5 Networks, Inc., Q2 2008 Earnings Call, Apr-23-2008                             & F5 Networks, Inc.                                                                 & F5 NETWORKS INC                                                                   &  479 days                                                                        \\\\\n",
       "\t SCHS                                                                              & QTR                                                                               & 2007-10-31                                                                        & 2007-11-13                                                                        & 2009-02-19                                                                        & School Specialty Inc., Q3 2009 Earnings Call, Feb-19-2009                         & School Specialty, Inc.                                                            & SCHOOL SPECIALTY                                                                  &  477 days                                                                        \\\\\n",
       "\t WMT                                                                               & QTR                                                                               & 2017-10-31                                                                        & 2017-11-16                                                                        & 2019-02-19                                                                        & Walmart Inc., Q4 2019 Pre Recorded Earnings Call, Feb 19, 2019                    & Walmart Inc.                                                                      & WALMART                                                                           &  476 days                                                                        \\\\\n",
       "\t DURI                                                                              & QTR                                                                               & 2005-03-31                                                                        & 2006-06-30                                                                        & 2006-07-12                                                                        & Flowserve Corp., 2005 Earnings Call, Jul-12-2006                                  & Flowserve Corporation                                                             & FLOWSERVE CORP                                                                    &  468 days                                                                        \\\\\n",
       "\t SNCR                                                                              & QTR                                                                               & 2017-03-31                                                                        & 2018-07-02                                                                        & 2018-07-02                                                                        & Synchronoss Technologies, Inc., Q1 2018 Earnings Call, Jul 02, 2018               & Synchronoss Technologies, Inc.                                                    & SYNCHRONOSS TECH                                                                  &  458 days                                                                        \\\\\n",
       "\t SNRZ                                                                              & ANN                                                                               & 2006-12-31                                                                        & 2008-03-24                                                                        & 2008-04-02                                                                        & Sunrise Senior Living Inc., Q4 2007 Earnings Call, Apr-02-2008                    & Sunrise Senior Living, LLC                                                        & SUNRISE SENIOR L                                                                  &  458 days                                                                        \\\\\n",
       "\t ALST                                                                              & QTR                                                                               & 2010-03-31                                                                        & 2011-06-03                                                                        & 2011-06-06                                                                        & INX Inc., Q4 2010 Earnings Call, Jun 06, 2011                                     & INX Inc.                                                                          & INX                                                                               &  432 days                                                                        \\\\\n",
       "\t ENER                                                                              & ANN                                                                               & 2006-06-30                                                                        & 2006-09-12                                                                        & 2007-08-29                                                                        & Energy Conversion Devices, Inc., Q4 2007 Earnings Call, Aug-29-2007               & Energy Conversion Devices, Inc.                                                   & ENERGY CONV DEVS                                                                  &  425 days                                                                        \\\\\n",
       "\t ENER                                                                              & QTR                                                                               & 2006-06-30                                                                        & 2006-09-12                                                                        & 2007-08-29                                                                        & Energy Conversion Devices, Inc., Q4 2007 Earnings Call, Aug-29-2007               & Energy Conversion Devices, Inc.                                                   & ENERGY CONV DEVS                                                                  &  425 days                                                                        \\\\\n",
       "\t NOUT                                                                              & ANN                                                                               & 2015-06-30                                                                        & 2015-08-20                                                                        & 2016-08-26                                                                        & Net 1 Ueps Technologies Inc., Q4 2016 Earnings Call, Aug 26, 2016                 & Net 1 UEPS Technologies, Inc.                                                     & NET 1 UEPS                                                                        &  423 days                                                                        \\\\\n",
       "\t NOUT                                                                              & QTR                                                                               & 2015-06-30                                                                        & 2015-08-20                                                                        & 2016-08-26                                                                        & Net 1 Ueps Technologies Inc., Q4 2016 Earnings Call, Aug 26, 2016                 & Net 1 UEPS Technologies, Inc.                                                     & NET 1 UEPS                                                                        &  423 days                                                                        \\\\\n",
       "\t RWAG                                                                              & ANN                                                                               & 2007-12-31                                                                        & 2008-02-22                                                                        & 2009-02-26                                                                        & RWE AG, 2008 Earnings Call, Feb-26-2009                                           & RWE Aktiengesellschaft                                                            & RWE                                                                               &  423 days                                                                        \\\\\n",
       "\t BAYR                                                                              & ANN                                                                               & 2015-12-31                                                                        & 2016-02-25                                                                        & 2017-02-22                                                                        & Bayer AG, Q4 2016 Earnings Call, Feb 22, 2017                                     & Bayer Aktiengesellschaft                                                          & BAYER AG                                                                          &  419 days                                                                        \\\\\n",
       "\t BAYR                                                                              & QTR                                                                               & 2015-12-31                                                                        & 2016-02-25                                                                        & 2017-02-22                                                                        & Bayer AG, Q4 2016 Earnings Call, Feb 22, 2017                                     & Bayer Aktiengesellschaft                                                          & BAYER AG                                                                          &  419 days                                                                        \\\\\n",
       "\t HARM                                                                              & ANN                                                                               & 2014-06-30                                                                        & 2014-08-14                                                                        & 2015-08-18                                                                        & Harmony Gold Mining Company Limited, Q4 2015 Earnings Call, Aug 18, 2015          & Harmony Gold Mining Company Limited                                               & HARMONY GOLD MNG                                                                  &  414 days                                                                        \\\\\n",
       "\t MBII                                                                              & QTR                                                                               & 2014-09-30                                                                        & 2015-11-10                                                                        & 2015-11-17                                                                        & Marrone Bio Innovations, Inc., Q3 2015 Earnings Call, Nov 17, 2015                & Marrone Bio Innovations, Inc.                                                     & MARRONE BIO INNO                                                                  &  413 days                                                                        \\\\\n",
       "\t DURI                                                                              & ANN                                                                               & 2004-12-31                                                                        & 2006-02-13                                                                        & 2006-02-13                                                                        & Flowserve Corp., Q4 2005 Earnings Call, Feb-13-2006                               & Flowserve Corporation                                                             & FLOWSERVE CORP                                                                    &  409 days                                                                        \\\\\n",
       "\t MXS                                                                               & ANN                                                                               & 2013-12-31                                                                        & 2015-02-12                                                                        & 2015-02-13                                                                        & MagnaChip Semiconductor Corporation, Nine Months 2014 Earnings Call, Feb 13, 2015 & MagnaChip Semiconductor Corporation                                               & MAGNACHIP SEMICO                                                                  &  409 days                                                                        \\\\\n",
       "\t MXS                                                                               & QTR                                                                               & 2013-12-31                                                                        & 2015-02-12                                                                        & 2015-02-13                                                                        & MagnaChip Semiconductor Corporation, Nine Months 2014 Earnings Call, Feb 13, 2015 & MagnaChip Semiconductor Corporation                                               & MAGNACHIP SEMICO                                                                  &  409 days                                                                        \\\\\n",
       "\t SHAC                                                                              & ANN                                                                               & 2013-03-31                                                                        & 2014-05-12                                                                        & 2014-05-12                                                                        & Sharp Corporation, 2014 Earnings Call, May 12, 2014                               & Sharp Corporation                                                                 & SHARP CORP                                                                        &  407 days                                                                        \\\\\n",
       "\t BL1                                                                               & QTR                                                                               & 2017-09-30                                                                        & 2017-11-09                                                                        & 2018-11-08                                                                        & Brookfield Asset Management Inc., Q3 2018 Earnings Call, Nov 08, 2018             & Brookfield Asset Management Inc.                                                  & BROOKFIELD ASSET                                                                  &  404 days                                                                        \\\\\n",
       "\t CNTE                                                                              & ANN                                                                               & 2010-12-31                                                                        & 2011-02-08                                                                        & 2012-02-07                                                                        & Centene Corp., Q4 2011 Earnings Call, Feb 07, 2012                                & Centene Corporation                                                               & CENTENE                                                                           &  403 days                                                                        \\\\\n",
       "\t CNTE                                                                              & QTR                                                                               & 2010-12-31                                                                        & 2011-02-08                                                                        & 2012-02-07                                                                        & Centene Corp., Q4 2011 Earnings Call, Feb 07, 2012                                & Centene Corporation                                                               & CENTENE                                                                           &  403 days                                                                        \\\\\n",
       "\t PEDX                                                                              & QTR                                                                               & 2006-06-30                                                                        & 2007-08-07                                                                        & 2007-08-07                                                                        & MEDNAX, Inc., Q2 2007 Earnings Call, Aug-07-2007                                  & MEDNAX, Inc.                                                                      & PEDIATRIX MEDIC                                                                   &  403 days                                                                        \\\\\n",
       "\t ACLS                                                                              & QTR                                                                               & 2007-09-30                                                                        & 2007-11-01                                                                        & 2008-11-05                                                                        & Axcelis Technologies Inc., Q3 2008 Earnings Call, Nov-05-2008                     & Axcelis Technologies, Inc.                                                        & AXCELIS TECH                                                                      &  402 days                                                                        \\\\\n",
       "\t SIGM                                                                              & QTR                                                                               & 2016-04-30                                                                        & 2016-06-06                                                                        & 2017-06-06                                                                        & Sigma Designs, Inc., Q1 2018 Earnings Call, Jun 06, 2017                          & Sigma Designs, Inc.                                                               & SIGMA DESIGNS                                                                     &  402 days                                                                        \\\\\n",
       "\t BBGC                                                                              & QTR                                                                               & 2009-09-30                                                                        & 2009-11-03                                                                        & 2010-11-02                                                                        & Bill Barrett Corp., Q3 2010 Earnings Call, Nov 02, 2010                           & HighPoint Resources Corporation                                                   & BILL BARRETT                                                                      &  398 days                                                                        \\\\\n",
       "\t BXG                                                                               & ANN                                                                               & 2010-12-31                                                                        & 2011-02-03                                                                        & 2012-02-02                                                                        & The Blackstone Group, Q4 2011 Earnings Call, Feb 02, 2012                         & The Blackstone Group L.P.                                                         & BLACKSTONE GROUP                                                                  &  398 days                                                                        \\\\\n",
       "\t BXG                                                                               & QTR                                                                               & 2010-12-31                                                                        & 2011-02-03                                                                        & 2012-02-02                                                                        & The Blackstone Group, Q4 2011 Earnings Call, Feb 02, 2012                         & The Blackstone Group L.P.                                                         & BLACKSTONE GROUP                                                                  &  398 days                                                                        \\\\\n",
       "\t BXG                                                                               & ANN                                                                               & 2011-12-31                                                                        & 2012-02-02                                                                        & 2013-01-31                                                                        & The Blackstone Group, Q4 2012 Earnings Call, Jan 31, 2013                         & The Blackstone Group L.P.                                                         & BLACKSTONE GROUP                                                                  &  397 days                                                                        \\\\\n",
       "\t BXG                                                                               & QTR                                                                               & 2011-12-31                                                                        & 2012-02-02                                                                        & 2013-01-31                                                                        & The Blackstone Group, Q4 2012 Earnings Call, Jan 31, 2013                         & The Blackstone Group L.P.                                                         & BLACKSTONE GROUP                                                                  &  397 days                                                                        \\\\\n",
       "\t HIW                                                                               & QTR                                                                               & 2011-09-30                                                                        & 2011-10-27                                                                        & 2012-10-31                                                                        & Highwoods Properties Inc., Q3 2012 Earnings Call, Oct 31, 2012                    & Highwoods Properties, Inc.                                                        & HIGHWOODS PROPER                                                                  &  397 days                                                                        \\\\\n",
       "\t ELC                                                                               & QTR                                                                               & 2012-06-30                                                                        & 2013-07-31                                                                        & 2013-07-31                                                                        & Lime Energy Co., 2012 Earnings Call, Jul 31, 2013                                 & Lime Energy Co.                                                                   & LIME ENERGY CO                                                                    &  396 days                                                                        \\\\\n",
       "\t ... & ... & ... & ... & ... & ... & ... & ... & ...\\\\\n",
       "\t URBN                                                                   & QTR                                                                    & 2006-04-30                                                             & 2006-05-11                                                             & 2006-05-11                                                             & Urban Outfitters Inc., Q1 2007 Earnings Call, May-11-2006              & Urban Outfitters, Inc.                                                 & URBAN OUTFITTERS                                                       & 11 days                                                               \\\\\n",
       "\t VAL                                                                    & QTR                                                                    & 2008-01-31                                                             & 2008-02-11                                                             & 2008-02-11                                                             & Valspar Corp., Q1 2008 Earnings Call, Feb-11-2008                      & The Valspar Corporation                                                & VALSPAR CP                                                             & 11 days                                                               \\\\\n",
       "\t ANF                                                                      & QTR                                                                      & 2004-07-31                                                               & 2004-08-10                                                               & 2004-08-10                                                               & Abercrombie \\& Fitch Co., Q2 2005 Earnings Call, Aug 10, 2004           & Abercrombie \\& Fitch Co.                                                & ABERCROM \\& FITCH                                                       & 10 days                                                                 \\\\\n",
       "\t ANN                                                                    & QTR                                                                    & 2004-10-31                                                             & 2004-11-10                                                             & 2004-11-10                                                             & AnnTaylor Stores Corp., Q3 2005 Earnings Call, Nov 10, 2004            & ANN INC.                                                               & ANNTAYLOR STORES                                                       & 10 days                                                               \\\\\n",
       "\t BOBE                                                                   & QTR                                                                    & 2010-01-31                                                             & 2010-02-09                                                             & 2010-02-10                                                             & Bob Evans Farms Inc., Q3 2010 Earnings Call, Feb-10-2010               & Bob Evans Farms, Inc.                                                  & BOB EVANS FARMS                                                        & 10 days                                                               \\\\\n",
       "\t CYBX                                                                   & QTR                                                                    & 2004-10-31                                                             & 2004-11-10                                                             & 2004-11-10                                                             & Cyberonics Inc., Q2 2005 Earnings Call, Nov-10-2004                    & LivaNova PLC                                                           & CYBERONICS INC                                                         & 10 days                                                               \\\\\n",
       "\t DELL                                                                   & QTR                                                                    & 2005-10-31                                                             & 2005-11-10                                                             & 2005-11-10                                                             & Dell Inc., Q3 2006 Earnings Call, Nov-10-2005                          & Dell Technologies Inc.                                                 & DELL INC                                                               & 10 days                                                               \\\\\n",
       "\t FD                                                                     & QTR                                                                    & 2004-10-31                                                             & 2004-11-10                                                             & 2004-11-10                                                             & Macy's, Inc., Q3 2005 Earnings Call, Nov 10, 2004                      & Macy's, Inc.                                                           & FEDERATED DEPT S                                                       & 10 days                                                               \\\\\n",
       "\t FEMP                                                                     & QTR                                                                      & 2002-06-30                                                               & 2002-07-10                                                               & 2002-07-10                                                               & M\\&T Bank Corporation, Q2 2002 Earnings Calls, Jul 10, 2002             & M\\&T Bank Corporation                                                   & M \\& T BANK CORP                                                        & 10 days                                                                 \\\\\n",
       "\t FEMP                                                                     & ANN                                                                      & 2002-12-31                                                               & 2003-01-10                                                               & 2003-01-10                                                               & M\\&T Bank Corporation, Q4 2002 Earnings Calls, Jan 10, 2003             & M\\&T Bank Corporation                                                   & M \\& T BANK CORP                                                        & 10 days                                                                 \\\\\n",
       "\t FEMP                                                                     & QTR                                                                      & 2002-12-31                                                               & 2003-01-10                                                               & 2003-01-10                                                               & M\\&T Bank Corporation, Q4 2002 Earnings Calls, Jan 10, 2003             & M\\&T Bank Corporation                                                   & M \\& T BANK CORP                                                        & 10 days                                                                 \\\\\n",
       "\t FEMP                                                                     & QTR                                                                      & 2003-03-31                                                               & 2003-04-10                                                               & 2003-04-10                                                               & M\\&T Bank Corporation, Q1 2003 Earnings Calls, Apr 10, 2003             & M\\&T Bank Corporation                                                   & M \\& T BANK CORP                                                        & 10 days                                                                 \\\\\n",
       "\t FEMP                                                                     & QTR                                                                      & 2003-09-30                                                               & 2003-10-10                                                               & 2003-10-10                                                               & M\\&T Bank Corporation, Q3 2003 Earnings Calls, Oct 10, 2003             & M\\&T Bank Corporation                                                   & M \\& T BANK CORP                                                        & 10 days                                                                 \\\\\n",
       "\t HCSG                                                                   & QTR                                                                    & 2012-09-30                                                             & 2012-10-09                                                             & 2012-10-10                                                             & Healthcare Services Group Inc., Q3 2012 Earnings Call, Oct 10, 2012    & Healthcare Services Group, Inc.                                        & HLTHCARE SVC GRP                                                       & 10 days                                                               \\\\\n",
       "\t HCSG                                                                   & QTR                                                                    & 2013-03-31                                                             & 2013-04-09                                                             & 2013-04-10                                                             & Healthcare Services Group Inc., Q1 2013 Earnings Call, Apr 10, 2013    & Healthcare Services Group, Inc.                                        & HLTHCARE SVC GRP                                                       & 10 days                                                               \\\\\n",
       "\t JCP                                                                    & QTR                                                                    & 2006-07-31                                                             & 2006-08-10                                                             & 2006-08-10                                                             & J. C. Penney Company, Inc., Q2 2007 Earnings Call, Aug 10, 2006        & J. C. Penney Company, Inc.                                             & JC PENNEY                                                              & 10 days                                                               \\\\\n",
       "\t LPLL                                                                   & QTR                                                                    & 2007-06-30                                                             & 2007-07-10                                                             & 2007-07-10                                                             & LG Display Co., Ltd., Q2 2007 Earnings Call, Jul 10, 2007              & LG Display Co., Ltd.                                                   & LG PHILIPS LCD                                                         & 10 days                                                               \\\\\n",
       "\t LPLL                                                                   & QTR                                                                    & 2008-03-31                                                             & 2008-04-10                                                             & 2008-04-10                                                             & LG Display Co., Ltd., Q1 2008 Earnings Call, Apr-10-2008               & LG Display Co., Ltd.                                                   & LG DISPLAY CO LT                                                       & 10 days                                                               \\\\\n",
       "\t MTG1                                                                   & QTR                                                                    & 2002-06-30                                                             & 2002-07-10                                                             & 2002-07-10                                                             & MGIC Investment Corporation, Q2 2002 Earnings Calls, Jul 10, 2002      & MGIC Investment Corporation                                            & MGIC INVT CORP W                                                       & 10 days                                                               \\\\\n",
       "\t MTG1                                                                   & QTR                                                                    & 2002-09-30                                                             & 2002-10-10                                                             & 2002-10-10                                                             & MGIC Investment Corporation, Q3 2002 Earnings Calls, Oct 10, 2002      & MGIC Investment Corporation                                            & MGIC INVT CORP W                                                       & 10 days                                                               \\\\\n",
       "\t STI                                                                    & QTR                                                                    & 2002-03-31                                                             & 2002-04-10                                                             & 2002-04-10                                                             & SunTrust Banks, Inc., Q1 2002 Earnings Calls, Apr 10, 2002             & SunTrust Banks, Inc.                                                   & SUNTRUST BKS GA                                                        & 10 days                                                               \\\\\n",
       "\t STI                                                                    & QTR                                                                    & 2002-06-30                                                             & 2002-07-10                                                             & 2002-07-10                                                             & SunTrust Banks, Inc., Q2 2002 Earnings Calls, Jul 10, 2002             & SunTrust Banks, Inc.                                                   & SUNTRUST BKS GA                                                        & 10 days                                                               \\\\\n",
       "\t STI                                                                    & QTR                                                                    & 2003-03-31                                                             & 2003-04-10                                                             & 2003-04-10                                                             & SunTrust Banks, Inc., Q1 2003 Earnings Calls, Apr 10, 2003             & SunTrust Banks, Inc.                                                   & SUNTRUST BKS GA                                                        & 10 days                                                               \\\\\n",
       "\t STI                                                                    & QTR                                                                    & 2003-06-30                                                             & 2003-07-10                                                             & 2003-07-10                                                             & SunTrust Banks, Inc., Q2 2003 Earnings Calls, Jul 10, 2003             & SunTrust Banks, Inc.                                                   & SUNTRUST BKS GA                                                        & 10 days                                                               \\\\\n",
       "\t ZOLT                                                                   & QTR                                                                    & 2005-12-31                                                             & 2006-01-03                                                             & 2006-01-10                                                             & Zoltek Companies Inc., Q4 2005 Earnings Call, Jan-10-2006              & Zoltek Companies Inc.                                                  & ZOLTEK COS INC                                                         & 10 days                                                               \\\\\n",
       "\t CPSS                                                                   & QTR                                                                    & 2014-03-31                                                             & 2014-04-08                                                             & 2014-04-09                                                             & Consumer Portfolio Services, Inc., Q1 2014 Earnings Call, Apr 09, 2014 & Consumer Portfolio Services, Inc.                                      & CONSUMER PORTF.                                                        &  9 days                                                               \\\\\n",
       "\t FEMP                                                                     & QTR                                                                      & 2002-09-30                                                               & 2002-10-09                                                               & 2002-10-09                                                               & M\\&T Bank Corporation, Q3 2002 Earnings Calls, Oct 09, 2002             & M\\&T Bank Corporation                                                   & M \\& T BANK CORP                                                        &  9 days                                                                 \\\\\n",
       "\t HCSG                                                                   & QTR                                                                    & 2013-09-30                                                             & 2013-10-08                                                             & 2013-10-09                                                             & Healthcare Services Group Inc., Q3 2013 Earnings Call, Oct 09, 2013    & Healthcare Services Group, Inc.                                        & HLTHCARE SVC GRP                                                       &  9 days                                                               \\\\\n",
       "\t HCSG                                                                   & QTR                                                                    & 2014-03-31                                                             & 2014-04-08                                                             & 2014-04-09                                                             & Healthcare Services Group Inc., Q1 2014 Earnings Call, Apr 09, 2014    & Healthcare Services Group, Inc.                                        & HLTHCARE SVC GRP                                                       &  9 days                                                               \\\\\n",
       "\t HCSG                                                                   & QTR                                                                    & 2014-06-30                                                             & 2014-07-08                                                             & 2014-07-09                                                             & Healthcare Services Group Inc., Q2 2014 Earnings Call, Jul 09, 2014    & Healthcare Services Group, Inc.                                        & HLTHCARE SVC GRP                                                       &  9 days                                                               \\\\\n",
       "\t KSS                                                                    & QTR                                                                    & 2006-10-31                                                             & 2006-11-09                                                             & 2006-11-09                                                             & Kohl's Corp., Q3 2007 Earnings Call, Nov 09, 2006                      & Kohl's Corporation                                                     & KOHLS CORP                                                             &  9 days                                                               \\\\\n",
       "\t MHS                                                                    & QTR                                                                    & 2003-09-30                                                             & 2003-10-09                                                             & 2003-10-09                                                             & Marriott International, Inc., Q3 2003 Earnings Calls, Oct 09, 2003     & Marriott International, Inc.                                           & MARRIOTT INTL                                                          &  9 days                                                               \\\\\n",
       "\t MTG1                                                                   & QTR                                                                    & 2002-03-31                                                             & 2002-04-09                                                             & 2002-04-09                                                             & MGIC Investment Corporation, Q1 2002 Earnings Calls, Apr 09, 2002      & MGIC Investment Corporation                                            & MGIC INVT CORP W                                                       &  9 days                                                               \\\\\n",
       "\t MTG1                                                                   & ANN                                                                    & 2002-12-31                                                             & 2003-01-09                                                             & 2003-01-09                                                             & MGIC Investment Corporation, Q4 2002 Earnings Calls, Jan 09, 2003      & MGIC Investment Corporation                                            & MGIC INVT CORP W                                                       &  9 days                                                               \\\\\n",
       "\t MTG1                                                                   & QTR                                                                    & 2002-12-31                                                             & 2003-01-09                                                             & 2003-01-09                                                             & MGIC Investment Corporation, Q4 2002 Earnings Calls, Jan 09, 2003      & MGIC Investment Corporation                                            & MGIC INVT CORP W                                                       &  9 days                                                               \\\\\n",
       "\t STI                                                                    & ANN                                                                    & 2001-12-31                                                             & 2002-01-09                                                             & 2002-01-09                                                             & SunTrust Banks, Inc., Q4 2001 Earnings Calls, Jan 09, 2002             & SunTrust Banks, Inc.                                                   & SUNTRUST BKS GA                                                        &  9 days                                                               \\\\\n",
       "\t STI                                                                    & QTR                                                                    & 2001-12-31                                                             & 2002-01-09                                                             & 2002-01-09                                                             & SunTrust Banks, Inc., Q4 2001 Earnings Calls, Jan 09, 2002             & SunTrust Banks, Inc.                                                   & SUNTRUST BKS GA                                                        &  9 days                                                               \\\\\n",
       "\t STI                                                                    & QTR                                                                    & 2002-09-30                                                             & 2002-10-09                                                             & 2002-10-09                                                             & SunTrust Banks, Inc., Q3 2002 Earnings Calls, Oct 09, 2002             & SunTrust Banks, Inc.                                                   & SUNTRUST BKS GA                                                        &  9 days                                                               \\\\\n",
       "\t STI                                                                    & QTR                                                                    & 2003-09-30                                                             & 2003-10-09                                                             & 2003-10-09                                                             & SunTrust Banks, Inc., Q3 2003 Earnings Calls, Oct 09, 2003             & SunTrust Banks, Inc.                                                   & SUNTRUST BKS GA                                                        &  9 days                                                               \\\\\n",
       "\t MBWM                                                                   & QTR                                                                    & 2004-03-31                                                             & 2004-04-08                                                             & 2004-04-08                                                             & Mercantile Bank Corporation, Q1 2004 Earnings Calls, Apr 08, 2004      & Mercantile Bank Corporation                                            & MERCANTILE BANK                                                        &  8 days                                                               \\\\\n",
       "\t STI                                                                    & ANN                                                                    & 2002-12-31                                                             & 2003-01-08                                                             & 2003-01-08                                                             & SunTrust Banks, Inc., Q4 2002 Earnings Calls, Jan 08, 2003             & SunTrust Banks, Inc.                                                   & SUNTRUST BKS GA                                                        &  8 days                                                               \\\\\n",
       "\t STI                                                                    & QTR                                                                    & 2002-12-31                                                             & 2003-01-08                                                             & 2003-01-08                                                             & SunTrust Banks, Inc., Q4 2002 Earnings Calls, Jan 08, 2003             & SunTrust Banks, Inc.                                                   & SUNTRUST BKS GA                                                        &  8 days                                                               \\\\\n",
       "\t STI                                                                    & QTR                                                                    & 2004-03-31                                                             & 2004-04-08                                                             & 2004-04-08                                                             & SunTrust Banks, Inc., Q1 2004 Earnings Calls, Apr 08, 2004             & SunTrust Banks, Inc.                                                   & SUNTRUST BKS GA                                                        &  8 days                                                               \\\\\n",
       "\t MBWM                                                                   & QTR                                                                    & 2003-09-30                                                             & 2003-10-07                                                             & 2003-10-07                                                             & Mercantile Bank Corporation, Q3 2003 Earnings Calls, Oct 07, 2003      & Mercantile Bank Corporation                                            & MERCANTILE BANK                                                        &  7 days                                                               \\\\\n",
       "\t MBWM                                                                   & ANN                                                                    & 2003-12-31                                                             & 2004-01-07                                                             & 2004-01-07                                                             & Mercantile Bank Corporation, Q4 2003 Earnings Calls, Jan 07, 2004      & Mercantile Bank Corporation                                            & MERCANTILE BANK                                                        &  7 days                                                               \\\\\n",
       "\t MBWM                                                                   & QTR                                                                    & 2003-12-31                                                             & 2004-01-07                                                             & 2004-01-07                                                             & Mercantile Bank Corporation, Q4 2003 Earnings Calls, Jan 07, 2004      & Mercantile Bank Corporation                                            & MERCANTILE BANK                                                        &  7 days                                                               \\\\\n",
       "\t MHS                                                                    & QTR                                                                    & 2004-09-30                                                             & 2004-10-07                                                             & 2004-10-07                                                             & Marriott International, Inc., Q3 2004 Earnings Call, Oct-07-2004       & Marriott International, Inc.                                           & MARRIOTT INTL                                                          &  7 days                                                               \\\\\n",
       "\t STA3                                                                   & QTR                                                                    & 2005-09-30                                                             & 2005-10-06                                                             & 2005-10-07                                                             & Center Cut Hospitality, Inc., Q3 2005 Earnings Call, Oct-07-2005       & Center Cut Hospitality, Inc                                            & LONE STAR STEAKH                                                       &  7 days                                                               \\\\\n",
       "\t ARA1                                                                   & QTR                                                                    & 2006-09-30                                                             & 2006-10-06                                                             & 2006-10-06                                                             & Aracruz Celulose S.A., Q3 2006 Earnings Call, Oct-06-2006              & Aracruz Celulose S.A.                                                  & ARACRUZ                                                                &  6 days                                                               \\\\\n",
       "\t LMAT                                                                   & QTR                                                                    & 2018-09-30                                                             & 2018-10-04                                                             & 2018-10-05                                                             & LeMaitre Vascular, Inc., Q3 2018 Earnings Call, Oct 05, 2018           & LeMaitre Vascular, Inc.                                                & LEMAITRE                                                               &  5 days                                                               \\\\\n",
       "\\end{tabular}\n"
      ],
      "text/markdown": [
       "\n",
       "| ticker | fiscalp | fpedats | anndats_act | headline_date | headline | companyname | cname | diff |\n",
       "|---|---|---|---|---|---|---|---|---|\n",
       "| CSC                                                                               | ANN                                                                               | 2009-03-31                                                                        | 2009-05-20                                                                        | 2004-05-17                                                                        | DXC Technology Company, Q4 2004 Earnings Calls, May 17, 2004                      | DXC Technology Company                                                            | COMP SCIENCES                                                                     | 1779 days                                                                         |\n",
       "| CSC                                                                               | QTR                                                                               | 2009-03-31                                                                        | 2009-05-20                                                                        | 2004-05-17                                                                        | DXC Technology Company, Q4 2004 Earnings Calls, May 17, 2004                      | DXC Technology Company                                                            | COMP SCIENCES                                                                     | 1779 days                                                                         |\n",
       "| GLPC                                                                              | ANN                                                                               | 2004-12-31                                                                        | 2008-10-10                                                                        | 2008-10-14                                                                        | Impax Laboratories Inc., Q2 2008 Earnings Call, Oct-14-2008                       | Impax Laboratories, Inc.                                                          | IMPAX LAB INC                                                                     | 1383 days                                                                         |\n",
       "| GLPC                                                                              | ANN                                                                               | 2005-12-31                                                                        | 2008-10-10                                                                        | 2008-10-14                                                                        | Impax Laboratories Inc., Q2 2008 Earnings Call, Oct-14-2008                       | Impax Laboratories, Inc.                                                          | IMPAX LAB INC                                                                     | 1018 days                                                                         |\n",
       "| SNRZ                                                                              | QTR                                                                               | 2006-03-31                                                                        | 2008-03-24                                                                        | 2008-04-02                                                                        | Sunrise Senior Living Inc., Q4 2007 Earnings Call, Apr-02-2008                    | Sunrise Senior Living, LLC                                                        | SUNRISE SENIOR L                                                                  |  733 days                                                                         |\n",
       "| RWAG                                                                              | ANN                                                                               | 2007-12-31                                                                        | 2008-02-22                                                                        | 2009-11-12                                                                        | RWE AG, Q3 2009 Earnings Call, Nov-12-2009                                        | RWE Aktiengesellschaft                                                            | RWE                                                                               |  682 days                                                                         |\n",
       "| FFIV                                                                              | QTR                                                                               | 2006-12-31                                                                        | 2007-01-24                                                                        | 2008-10-22                                                                        | F5 Networks, Inc., Q4 2008 Earnings Call, Oct-22-2008                             | F5 Networks, Inc.                                                                 | F5 NETWORKS INC                                                                   |  661 days                                                                         |\n",
       "| RWAG                                                                              | ANN                                                                               | 2007-12-31                                                                        | 2008-02-22                                                                        | 2009-08-13                                                                        | RWE AG, Q2 2009 Earnings Call, Aug-13-2009                                        | RWE Aktiengesellschaft                                                            | RWE                                                                               |  591 days                                                                         |\n",
       "| SCHS                                                                              | QTR                                                                               | 2007-10-31                                                                        | 2007-11-13                                                                        | 2009-06-11                                                                        | School Specialty Inc., Q4 2009 Earnings Call, Jun-11-2009                         | School Specialty, Inc.                                                            | SCHOOL SPECIALTY                                                                  |  589 days                                                                         |\n",
       "| FFIV                                                                              | QTR                                                                               | 2006-12-31                                                                        | 2007-01-24                                                                        | 2008-07-23                                                                        | F5 Networks, Inc., Q3 2008 Earnings Call, Jul-23-2008                             | F5 Networks, Inc.                                                                 | F5 NETWORKS INC                                                                   |  570 days                                                                         |\n",
       "| ALST                                                                              | ANN                                                                               | 2009-12-31                                                                        | 2011-06-03                                                                        | 2011-06-06                                                                        | INX Inc., Q4 2010 Earnings Call, Jun 06, 2011                                     | INX Inc.                                                                          | INX                                                                               |  522 days                                                                         |\n",
       "| ALST                                                                              | QTR                                                                               | 2009-12-31                                                                        | 2011-06-03                                                                        | 2011-06-06                                                                        | INX Inc., Q4 2010 Earnings Call, Jun 06, 2011                                     | INX Inc.                                                                          | INX                                                                               |  522 days                                                                         |\n",
       "| DURI                                                                              | QTR                                                                               | 2004-09-30                                                                        | 2006-02-13                                                                        | 2006-02-13                                                                        | Flowserve Corp., Q4 2005 Earnings Call, Feb-13-2006                               | Flowserve Corporation                                                             | FLOWSERVE CORP                                                                    |  501 days                                                                         |\n",
       "| RWAG                                                                              | ANN                                                                               | 2007-12-31                                                                        | 2008-02-22                                                                        | 2009-05-14                                                                        | RWE AG, Q1 2009 Earnings Call, May-14-2009                                        | RWE Aktiengesellschaft                                                            | RWE                                                                               |  500 days                                                                         |\n",
       "| BASF                                                                              | ANN                                                                               | 2013-12-31                                                                        | 2014-02-25                                                                        | 2015-04-30                                                                        | BASF SE, Q1 2015 Earnings Call, Apr 30, 2015                                      | BASF SE                                                                           | BASF SE                                                                           |  485 days                                                                         |\n",
       "| BASF                                                                              | ANN                                                                               | 2011-12-31                                                                        | 2012-02-24                                                                        | 2013-04-26                                                                        | BASF SE, Q1 2013 Earnings Call, Apr 26, 2013                                      | BASF SE                                                                           | BASF SE                                                                           |  482 days                                                                         |\n",
       "| FFIV                                                                              | QTR                                                                               | 2010-06-30                                                                        | 2010-07-21                                                                        | 2011-10-25                                                                        | F5 Networks, Inc., Q4 2011 Earnings Call, Oct 25, 2011                            | F5 Networks, Inc.                                                                 | F5 NETWORKS INC                                                                   |  482 days                                                                         |\n",
       "| FFIV                                                                              | QTR                                                                               | 2006-12-31                                                                        | 2007-01-24                                                                        | 2008-04-23                                                                        | F5 Networks, Inc., Q2 2008 Earnings Call, Apr-23-2008                             | F5 Networks, Inc.                                                                 | F5 NETWORKS INC                                                                   |  479 days                                                                         |\n",
       "| SCHS                                                                              | QTR                                                                               | 2007-10-31                                                                        | 2007-11-13                                                                        | 2009-02-19                                                                        | School Specialty Inc., Q3 2009 Earnings Call, Feb-19-2009                         | School Specialty, Inc.                                                            | SCHOOL SPECIALTY                                                                  |  477 days                                                                         |\n",
       "| WMT                                                                               | QTR                                                                               | 2017-10-31                                                                        | 2017-11-16                                                                        | 2019-02-19                                                                        | Walmart Inc., Q4 2019 Pre Recorded Earnings Call, Feb 19, 2019                    | Walmart Inc.                                                                      | WALMART                                                                           |  476 days                                                                         |\n",
       "| DURI                                                                              | QTR                                                                               | 2005-03-31                                                                        | 2006-06-30                                                                        | 2006-07-12                                                                        | Flowserve Corp., 2005 Earnings Call, Jul-12-2006                                  | Flowserve Corporation                                                             | FLOWSERVE CORP                                                                    |  468 days                                                                         |\n",
       "| SNCR                                                                              | QTR                                                                               | 2017-03-31                                                                        | 2018-07-02                                                                        | 2018-07-02                                                                        | Synchronoss Technologies, Inc., Q1 2018 Earnings Call, Jul 02, 2018               | Synchronoss Technologies, Inc.                                                    | SYNCHRONOSS TECH                                                                  |  458 days                                                                         |\n",
       "| SNRZ                                                                              | ANN                                                                               | 2006-12-31                                                                        | 2008-03-24                                                                        | 2008-04-02                                                                        | Sunrise Senior Living Inc., Q4 2007 Earnings Call, Apr-02-2008                    | Sunrise Senior Living, LLC                                                        | SUNRISE SENIOR L                                                                  |  458 days                                                                         |\n",
       "| ALST                                                                              | QTR                                                                               | 2010-03-31                                                                        | 2011-06-03                                                                        | 2011-06-06                                                                        | INX Inc., Q4 2010 Earnings Call, Jun 06, 2011                                     | INX Inc.                                                                          | INX                                                                               |  432 days                                                                         |\n",
       "| ENER                                                                              | ANN                                                                               | 2006-06-30                                                                        | 2006-09-12                                                                        | 2007-08-29                                                                        | Energy Conversion Devices, Inc., Q4 2007 Earnings Call, Aug-29-2007               | Energy Conversion Devices, Inc.                                                   | ENERGY CONV DEVS                                                                  |  425 days                                                                         |\n",
       "| ENER                                                                              | QTR                                                                               | 2006-06-30                                                                        | 2006-09-12                                                                        | 2007-08-29                                                                        | Energy Conversion Devices, Inc., Q4 2007 Earnings Call, Aug-29-2007               | Energy Conversion Devices, Inc.                                                   | ENERGY CONV DEVS                                                                  |  425 days                                                                         |\n",
       "| NOUT                                                                              | ANN                                                                               | 2015-06-30                                                                        | 2015-08-20                                                                        | 2016-08-26                                                                        | Net 1 Ueps Technologies Inc., Q4 2016 Earnings Call, Aug 26, 2016                 | Net 1 UEPS Technologies, Inc.                                                     | NET 1 UEPS                                                                        |  423 days                                                                         |\n",
       "| NOUT                                                                              | QTR                                                                               | 2015-06-30                                                                        | 2015-08-20                                                                        | 2016-08-26                                                                        | Net 1 Ueps Technologies Inc., Q4 2016 Earnings Call, Aug 26, 2016                 | Net 1 UEPS Technologies, Inc.                                                     | NET 1 UEPS                                                                        |  423 days                                                                         |\n",
       "| RWAG                                                                              | ANN                                                                               | 2007-12-31                                                                        | 2008-02-22                                                                        | 2009-02-26                                                                        | RWE AG, 2008 Earnings Call, Feb-26-2009                                           | RWE Aktiengesellschaft                                                            | RWE                                                                               |  423 days                                                                         |\n",
       "| BAYR                                                                              | ANN                                                                               | 2015-12-31                                                                        | 2016-02-25                                                                        | 2017-02-22                                                                        | Bayer AG, Q4 2016 Earnings Call, Feb 22, 2017                                     | Bayer Aktiengesellschaft                                                          | BAYER AG                                                                          |  419 days                                                                         |\n",
       "| BAYR                                                                              | QTR                                                                               | 2015-12-31                                                                        | 2016-02-25                                                                        | 2017-02-22                                                                        | Bayer AG, Q4 2016 Earnings Call, Feb 22, 2017                                     | Bayer Aktiengesellschaft                                                          | BAYER AG                                                                          |  419 days                                                                         |\n",
       "| HARM                                                                              | ANN                                                                               | 2014-06-30                                                                        | 2014-08-14                                                                        | 2015-08-18                                                                        | Harmony Gold Mining Company Limited, Q4 2015 Earnings Call, Aug 18, 2015          | Harmony Gold Mining Company Limited                                               | HARMONY GOLD MNG                                                                  |  414 days                                                                         |\n",
       "| MBII                                                                              | QTR                                                                               | 2014-09-30                                                                        | 2015-11-10                                                                        | 2015-11-17                                                                        | Marrone Bio Innovations, Inc., Q3 2015 Earnings Call, Nov 17, 2015                | Marrone Bio Innovations, Inc.                                                     | MARRONE BIO INNO                                                                  |  413 days                                                                         |\n",
       "| DURI                                                                              | ANN                                                                               | 2004-12-31                                                                        | 2006-02-13                                                                        | 2006-02-13                                                                        | Flowserve Corp., Q4 2005 Earnings Call, Feb-13-2006                               | Flowserve Corporation                                                             | FLOWSERVE CORP                                                                    |  409 days                                                                         |\n",
       "| MXS                                                                               | ANN                                                                               | 2013-12-31                                                                        | 2015-02-12                                                                        | 2015-02-13                                                                        | MagnaChip Semiconductor Corporation, Nine Months 2014 Earnings Call, Feb 13, 2015 | MagnaChip Semiconductor Corporation                                               | MAGNACHIP SEMICO                                                                  |  409 days                                                                         |\n",
       "| MXS                                                                               | QTR                                                                               | 2013-12-31                                                                        | 2015-02-12                                                                        | 2015-02-13                                                                        | MagnaChip Semiconductor Corporation, Nine Months 2014 Earnings Call, Feb 13, 2015 | MagnaChip Semiconductor Corporation                                               | MAGNACHIP SEMICO                                                                  |  409 days                                                                         |\n",
       "| SHAC                                                                              | ANN                                                                               | 2013-03-31                                                                        | 2014-05-12                                                                        | 2014-05-12                                                                        | Sharp Corporation, 2014 Earnings Call, May 12, 2014                               | Sharp Corporation                                                                 | SHARP CORP                                                                        |  407 days                                                                         |\n",
       "| BL1                                                                               | QTR                                                                               | 2017-09-30                                                                        | 2017-11-09                                                                        | 2018-11-08                                                                        | Brookfield Asset Management Inc., Q3 2018 Earnings Call, Nov 08, 2018             | Brookfield Asset Management Inc.                                                  | BROOKFIELD ASSET                                                                  |  404 days                                                                         |\n",
       "| CNTE                                                                              | ANN                                                                               | 2010-12-31                                                                        | 2011-02-08                                                                        | 2012-02-07                                                                        | Centene Corp., Q4 2011 Earnings Call, Feb 07, 2012                                | Centene Corporation                                                               | CENTENE                                                                           |  403 days                                                                         |\n",
       "| CNTE                                                                              | QTR                                                                               | 2010-12-31                                                                        | 2011-02-08                                                                        | 2012-02-07                                                                        | Centene Corp., Q4 2011 Earnings Call, Feb 07, 2012                                | Centene Corporation                                                               | CENTENE                                                                           |  403 days                                                                         |\n",
       "| PEDX                                                                              | QTR                                                                               | 2006-06-30                                                                        | 2007-08-07                                                                        | 2007-08-07                                                                        | MEDNAX, Inc., Q2 2007 Earnings Call, Aug-07-2007                                  | MEDNAX, Inc.                                                                      | PEDIATRIX MEDIC                                                                   |  403 days                                                                         |\n",
       "| ACLS                                                                              | QTR                                                                               | 2007-09-30                                                                        | 2007-11-01                                                                        | 2008-11-05                                                                        | Axcelis Technologies Inc., Q3 2008 Earnings Call, Nov-05-2008                     | Axcelis Technologies, Inc.                                                        | AXCELIS TECH                                                                      |  402 days                                                                         |\n",
       "| SIGM                                                                              | QTR                                                                               | 2016-04-30                                                                        | 2016-06-06                                                                        | 2017-06-06                                                                        | Sigma Designs, Inc., Q1 2018 Earnings Call, Jun 06, 2017                          | Sigma Designs, Inc.                                                               | SIGMA DESIGNS                                                                     |  402 days                                                                         |\n",
       "| BBGC                                                                              | QTR                                                                               | 2009-09-30                                                                        | 2009-11-03                                                                        | 2010-11-02                                                                        | Bill Barrett Corp., Q3 2010 Earnings Call, Nov 02, 2010                           | HighPoint Resources Corporation                                                   | BILL BARRETT                                                                      |  398 days                                                                         |\n",
       "| BXG                                                                               | ANN                                                                               | 2010-12-31                                                                        | 2011-02-03                                                                        | 2012-02-02                                                                        | The Blackstone Group, Q4 2011 Earnings Call, Feb 02, 2012                         | The Blackstone Group L.P.                                                         | BLACKSTONE GROUP                                                                  |  398 days                                                                         |\n",
       "| BXG                                                                               | QTR                                                                               | 2010-12-31                                                                        | 2011-02-03                                                                        | 2012-02-02                                                                        | The Blackstone Group, Q4 2011 Earnings Call, Feb 02, 2012                         | The Blackstone Group L.P.                                                         | BLACKSTONE GROUP                                                                  |  398 days                                                                         |\n",
       "| BXG                                                                               | ANN                                                                               | 2011-12-31                                                                        | 2012-02-02                                                                        | 2013-01-31                                                                        | The Blackstone Group, Q4 2012 Earnings Call, Jan 31, 2013                         | The Blackstone Group L.P.                                                         | BLACKSTONE GROUP                                                                  |  397 days                                                                         |\n",
       "| BXG                                                                               | QTR                                                                               | 2011-12-31                                                                        | 2012-02-02                                                                        | 2013-01-31                                                                        | The Blackstone Group, Q4 2012 Earnings Call, Jan 31, 2013                         | The Blackstone Group L.P.                                                         | BLACKSTONE GROUP                                                                  |  397 days                                                                         |\n",
       "| HIW                                                                               | QTR                                                                               | 2011-09-30                                                                        | 2011-10-27                                                                        | 2012-10-31                                                                        | Highwoods Properties Inc., Q3 2012 Earnings Call, Oct 31, 2012                    | Highwoods Properties, Inc.                                                        | HIGHWOODS PROPER                                                                  |  397 days                                                                         |\n",
       "| ELC                                                                               | QTR                                                                               | 2012-06-30                                                                        | 2013-07-31                                                                        | 2013-07-31                                                                        | Lime Energy Co., 2012 Earnings Call, Jul 31, 2013                                 | Lime Energy Co.                                                                   | LIME ENERGY CO                                                                    |  396 days                                                                         |\n",
       "| ... | ... | ... | ... | ... | ... | ... | ... | ... |\n",
       "| URBN                                                                   | QTR                                                                    | 2006-04-30                                                             | 2006-05-11                                                             | 2006-05-11                                                             | Urban Outfitters Inc., Q1 2007 Earnings Call, May-11-2006              | Urban Outfitters, Inc.                                                 | URBAN OUTFITTERS                                                       | 11 days                                                                |\n",
       "| VAL                                                                    | QTR                                                                    | 2008-01-31                                                             | 2008-02-11                                                             | 2008-02-11                                                             | Valspar Corp., Q1 2008 Earnings Call, Feb-11-2008                      | The Valspar Corporation                                                | VALSPAR CP                                                             | 11 days                                                                |\n",
       "| ANF                                                                    | QTR                                                                    | 2004-07-31                                                             | 2004-08-10                                                             | 2004-08-10                                                             | Abercrombie & Fitch Co., Q2 2005 Earnings Call, Aug 10, 2004           | Abercrombie & Fitch Co.                                                | ABERCROM & FITCH                                                       | 10 days                                                                |\n",
       "| ANN                                                                    | QTR                                                                    | 2004-10-31                                                             | 2004-11-10                                                             | 2004-11-10                                                             | AnnTaylor Stores Corp., Q3 2005 Earnings Call, Nov 10, 2004            | ANN INC.                                                               | ANNTAYLOR STORES                                                       | 10 days                                                                |\n",
       "| BOBE                                                                   | QTR                                                                    | 2010-01-31                                                             | 2010-02-09                                                             | 2010-02-10                                                             | Bob Evans Farms Inc., Q3 2010 Earnings Call, Feb-10-2010               | Bob Evans Farms, Inc.                                                  | BOB EVANS FARMS                                                        | 10 days                                                                |\n",
       "| CYBX                                                                   | QTR                                                                    | 2004-10-31                                                             | 2004-11-10                                                             | 2004-11-10                                                             | Cyberonics Inc., Q2 2005 Earnings Call, Nov-10-2004                    | LivaNova PLC                                                           | CYBERONICS INC                                                         | 10 days                                                                |\n",
       "| DELL                                                                   | QTR                                                                    | 2005-10-31                                                             | 2005-11-10                                                             | 2005-11-10                                                             | Dell Inc., Q3 2006 Earnings Call, Nov-10-2005                          | Dell Technologies Inc.                                                 | DELL INC                                                               | 10 days                                                                |\n",
       "| FD                                                                     | QTR                                                                    | 2004-10-31                                                             | 2004-11-10                                                             | 2004-11-10                                                             | Macy's, Inc., Q3 2005 Earnings Call, Nov 10, 2004                      | Macy's, Inc.                                                           | FEDERATED DEPT S                                                       | 10 days                                                                |\n",
       "| FEMP                                                                   | QTR                                                                    | 2002-06-30                                                             | 2002-07-10                                                             | 2002-07-10                                                             | M&T Bank Corporation, Q2 2002 Earnings Calls, Jul 10, 2002             | M&T Bank Corporation                                                   | M & T BANK CORP                                                        | 10 days                                                                |\n",
       "| FEMP                                                                   | ANN                                                                    | 2002-12-31                                                             | 2003-01-10                                                             | 2003-01-10                                                             | M&T Bank Corporation, Q4 2002 Earnings Calls, Jan 10, 2003             | M&T Bank Corporation                                                   | M & T BANK CORP                                                        | 10 days                                                                |\n",
       "| FEMP                                                                   | QTR                                                                    | 2002-12-31                                                             | 2003-01-10                                                             | 2003-01-10                                                             | M&T Bank Corporation, Q4 2002 Earnings Calls, Jan 10, 2003             | M&T Bank Corporation                                                   | M & T BANK CORP                                                        | 10 days                                                                |\n",
       "| FEMP                                                                   | QTR                                                                    | 2003-03-31                                                             | 2003-04-10                                                             | 2003-04-10                                                             | M&T Bank Corporation, Q1 2003 Earnings Calls, Apr 10, 2003             | M&T Bank Corporation                                                   | M & T BANK CORP                                                        | 10 days                                                                |\n",
       "| FEMP                                                                   | QTR                                                                    | 2003-09-30                                                             | 2003-10-10                                                             | 2003-10-10                                                             | M&T Bank Corporation, Q3 2003 Earnings Calls, Oct 10, 2003             | M&T Bank Corporation                                                   | M & T BANK CORP                                                        | 10 days                                                                |\n",
       "| HCSG                                                                   | QTR                                                                    | 2012-09-30                                                             | 2012-10-09                                                             | 2012-10-10                                                             | Healthcare Services Group Inc., Q3 2012 Earnings Call, Oct 10, 2012    | Healthcare Services Group, Inc.                                        | HLTHCARE SVC GRP                                                       | 10 days                                                                |\n",
       "| HCSG                                                                   | QTR                                                                    | 2013-03-31                                                             | 2013-04-09                                                             | 2013-04-10                                                             | Healthcare Services Group Inc., Q1 2013 Earnings Call, Apr 10, 2013    | Healthcare Services Group, Inc.                                        | HLTHCARE SVC GRP                                                       | 10 days                                                                |\n",
       "| JCP                                                                    | QTR                                                                    | 2006-07-31                                                             | 2006-08-10                                                             | 2006-08-10                                                             | J. C. Penney Company, Inc., Q2 2007 Earnings Call, Aug 10, 2006        | J. C. Penney Company, Inc.                                             | JC PENNEY                                                              | 10 days                                                                |\n",
       "| LPLL                                                                   | QTR                                                                    | 2007-06-30                                                             | 2007-07-10                                                             | 2007-07-10                                                             | LG Display Co., Ltd., Q2 2007 Earnings Call, Jul 10, 2007              | LG Display Co., Ltd.                                                   | LG PHILIPS LCD                                                         | 10 days                                                                |\n",
       "| LPLL                                                                   | QTR                                                                    | 2008-03-31                                                             | 2008-04-10                                                             | 2008-04-10                                                             | LG Display Co., Ltd., Q1 2008 Earnings Call, Apr-10-2008               | LG Display Co., Ltd.                                                   | LG DISPLAY CO LT                                                       | 10 days                                                                |\n",
       "| MTG1                                                                   | QTR                                                                    | 2002-06-30                                                             | 2002-07-10                                                             | 2002-07-10                                                             | MGIC Investment Corporation, Q2 2002 Earnings Calls, Jul 10, 2002      | MGIC Investment Corporation                                            | MGIC INVT CORP W                                                       | 10 days                                                                |\n",
       "| MTG1                                                                   | QTR                                                                    | 2002-09-30                                                             | 2002-10-10                                                             | 2002-10-10                                                             | MGIC Investment Corporation, Q3 2002 Earnings Calls, Oct 10, 2002      | MGIC Investment Corporation                                            | MGIC INVT CORP W                                                       | 10 days                                                                |\n",
       "| STI                                                                    | QTR                                                                    | 2002-03-31                                                             | 2002-04-10                                                             | 2002-04-10                                                             | SunTrust Banks, Inc., Q1 2002 Earnings Calls, Apr 10, 2002             | SunTrust Banks, Inc.                                                   | SUNTRUST BKS GA                                                        | 10 days                                                                |\n",
       "| STI                                                                    | QTR                                                                    | 2002-06-30                                                             | 2002-07-10                                                             | 2002-07-10                                                             | SunTrust Banks, Inc., Q2 2002 Earnings Calls, Jul 10, 2002             | SunTrust Banks, Inc.                                                   | SUNTRUST BKS GA                                                        | 10 days                                                                |\n",
       "| STI                                                                    | QTR                                                                    | 2003-03-31                                                             | 2003-04-10                                                             | 2003-04-10                                                             | SunTrust Banks, Inc., Q1 2003 Earnings Calls, Apr 10, 2003             | SunTrust Banks, Inc.                                                   | SUNTRUST BKS GA                                                        | 10 days                                                                |\n",
       "| STI                                                                    | QTR                                                                    | 2003-06-30                                                             | 2003-07-10                                                             | 2003-07-10                                                             | SunTrust Banks, Inc., Q2 2003 Earnings Calls, Jul 10, 2003             | SunTrust Banks, Inc.                                                   | SUNTRUST BKS GA                                                        | 10 days                                                                |\n",
       "| ZOLT                                                                   | QTR                                                                    | 2005-12-31                                                             | 2006-01-03                                                             | 2006-01-10                                                             | Zoltek Companies Inc., Q4 2005 Earnings Call, Jan-10-2006              | Zoltek Companies Inc.                                                  | ZOLTEK COS INC                                                         | 10 days                                                                |\n",
       "| CPSS                                                                   | QTR                                                                    | 2014-03-31                                                             | 2014-04-08                                                             | 2014-04-09                                                             | Consumer Portfolio Services, Inc., Q1 2014 Earnings Call, Apr 09, 2014 | Consumer Portfolio Services, Inc.                                      | CONSUMER PORTF.                                                        |  9 days                                                                |\n",
       "| FEMP                                                                   | QTR                                                                    | 2002-09-30                                                             | 2002-10-09                                                             | 2002-10-09                                                             | M&T Bank Corporation, Q3 2002 Earnings Calls, Oct 09, 2002             | M&T Bank Corporation                                                   | M & T BANK CORP                                                        |  9 days                                                                |\n",
       "| HCSG                                                                   | QTR                                                                    | 2013-09-30                                                             | 2013-10-08                                                             | 2013-10-09                                                             | Healthcare Services Group Inc., Q3 2013 Earnings Call, Oct 09, 2013    | Healthcare Services Group, Inc.                                        | HLTHCARE SVC GRP                                                       |  9 days                                                                |\n",
       "| HCSG                                                                   | QTR                                                                    | 2014-03-31                                                             | 2014-04-08                                                             | 2014-04-09                                                             | Healthcare Services Group Inc., Q1 2014 Earnings Call, Apr 09, 2014    | Healthcare Services Group, Inc.                                        | HLTHCARE SVC GRP                                                       |  9 days                                                                |\n",
       "| HCSG                                                                   | QTR                                                                    | 2014-06-30                                                             | 2014-07-08                                                             | 2014-07-09                                                             | Healthcare Services Group Inc., Q2 2014 Earnings Call, Jul 09, 2014    | Healthcare Services Group, Inc.                                        | HLTHCARE SVC GRP                                                       |  9 days                                                                |\n",
       "| KSS                                                                    | QTR                                                                    | 2006-10-31                                                             | 2006-11-09                                                             | 2006-11-09                                                             | Kohl's Corp., Q3 2007 Earnings Call, Nov 09, 2006                      | Kohl's Corporation                                                     | KOHLS CORP                                                             |  9 days                                                                |\n",
       "| MHS                                                                    | QTR                                                                    | 2003-09-30                                                             | 2003-10-09                                                             | 2003-10-09                                                             | Marriott International, Inc., Q3 2003 Earnings Calls, Oct 09, 2003     | Marriott International, Inc.                                           | MARRIOTT INTL                                                          |  9 days                                                                |\n",
       "| MTG1                                                                   | QTR                                                                    | 2002-03-31                                                             | 2002-04-09                                                             | 2002-04-09                                                             | MGIC Investment Corporation, Q1 2002 Earnings Calls, Apr 09, 2002      | MGIC Investment Corporation                                            | MGIC INVT CORP W                                                       |  9 days                                                                |\n",
       "| MTG1                                                                   | ANN                                                                    | 2002-12-31                                                             | 2003-01-09                                                             | 2003-01-09                                                             | MGIC Investment Corporation, Q4 2002 Earnings Calls, Jan 09, 2003      | MGIC Investment Corporation                                            | MGIC INVT CORP W                                                       |  9 days                                                                |\n",
       "| MTG1                                                                   | QTR                                                                    | 2002-12-31                                                             | 2003-01-09                                                             | 2003-01-09                                                             | MGIC Investment Corporation, Q4 2002 Earnings Calls, Jan 09, 2003      | MGIC Investment Corporation                                            | MGIC INVT CORP W                                                       |  9 days                                                                |\n",
       "| STI                                                                    | ANN                                                                    | 2001-12-31                                                             | 2002-01-09                                                             | 2002-01-09                                                             | SunTrust Banks, Inc., Q4 2001 Earnings Calls, Jan 09, 2002             | SunTrust Banks, Inc.                                                   | SUNTRUST BKS GA                                                        |  9 days                                                                |\n",
       "| STI                                                                    | QTR                                                                    | 2001-12-31                                                             | 2002-01-09                                                             | 2002-01-09                                                             | SunTrust Banks, Inc., Q4 2001 Earnings Calls, Jan 09, 2002             | SunTrust Banks, Inc.                                                   | SUNTRUST BKS GA                                                        |  9 days                                                                |\n",
       "| STI                                                                    | QTR                                                                    | 2002-09-30                                                             | 2002-10-09                                                             | 2002-10-09                                                             | SunTrust Banks, Inc., Q3 2002 Earnings Calls, Oct 09, 2002             | SunTrust Banks, Inc.                                                   | SUNTRUST BKS GA                                                        |  9 days                                                                |\n",
       "| STI                                                                    | QTR                                                                    | 2003-09-30                                                             | 2003-10-09                                                             | 2003-10-09                                                             | SunTrust Banks, Inc., Q3 2003 Earnings Calls, Oct 09, 2003             | SunTrust Banks, Inc.                                                   | SUNTRUST BKS GA                                                        |  9 days                                                                |\n",
       "| MBWM                                                                   | QTR                                                                    | 2004-03-31                                                             | 2004-04-08                                                             | 2004-04-08                                                             | Mercantile Bank Corporation, Q1 2004 Earnings Calls, Apr 08, 2004      | Mercantile Bank Corporation                                            | MERCANTILE BANK                                                        |  8 days                                                                |\n",
       "| STI                                                                    | ANN                                                                    | 2002-12-31                                                             | 2003-01-08                                                             | 2003-01-08                                                             | SunTrust Banks, Inc., Q4 2002 Earnings Calls, Jan 08, 2003             | SunTrust Banks, Inc.                                                   | SUNTRUST BKS GA                                                        |  8 days                                                                |\n",
       "| STI                                                                    | QTR                                                                    | 2002-12-31                                                             | 2003-01-08                                                             | 2003-01-08                                                             | SunTrust Banks, Inc., Q4 2002 Earnings Calls, Jan 08, 2003             | SunTrust Banks, Inc.                                                   | SUNTRUST BKS GA                                                        |  8 days                                                                |\n",
       "| STI                                                                    | QTR                                                                    | 2004-03-31                                                             | 2004-04-08                                                             | 2004-04-08                                                             | SunTrust Banks, Inc., Q1 2004 Earnings Calls, Apr 08, 2004             | SunTrust Banks, Inc.                                                   | SUNTRUST BKS GA                                                        |  8 days                                                                |\n",
       "| MBWM                                                                   | QTR                                                                    | 2003-09-30                                                             | 2003-10-07                                                             | 2003-10-07                                                             | Mercantile Bank Corporation, Q3 2003 Earnings Calls, Oct 07, 2003      | Mercantile Bank Corporation                                            | MERCANTILE BANK                                                        |  7 days                                                                |\n",
       "| MBWM                                                                   | ANN                                                                    | 2003-12-31                                                             | 2004-01-07                                                             | 2004-01-07                                                             | Mercantile Bank Corporation, Q4 2003 Earnings Calls, Jan 07, 2004      | Mercantile Bank Corporation                                            | MERCANTILE BANK                                                        |  7 days                                                                |\n",
       "| MBWM                                                                   | QTR                                                                    | 2003-12-31                                                             | 2004-01-07                                                             | 2004-01-07                                                             | Mercantile Bank Corporation, Q4 2003 Earnings Calls, Jan 07, 2004      | Mercantile Bank Corporation                                            | MERCANTILE BANK                                                        |  7 days                                                                |\n",
       "| MHS                                                                    | QTR                                                                    | 2004-09-30                                                             | 2004-10-07                                                             | 2004-10-07                                                             | Marriott International, Inc., Q3 2004 Earnings Call, Oct-07-2004       | Marriott International, Inc.                                           | MARRIOTT INTL                                                          |  7 days                                                                |\n",
       "| STA3                                                                   | QTR                                                                    | 2005-09-30                                                             | 2005-10-06                                                             | 2005-10-07                                                             | Center Cut Hospitality, Inc., Q3 2005 Earnings Call, Oct-07-2005       | Center Cut Hospitality, Inc                                            | LONE STAR STEAKH                                                       |  7 days                                                                |\n",
       "| ARA1                                                                   | QTR                                                                    | 2006-09-30                                                             | 2006-10-06                                                             | 2006-10-06                                                             | Aracruz Celulose S.A., Q3 2006 Earnings Call, Oct-06-2006              | Aracruz Celulose S.A.                                                  | ARACRUZ                                                                |  6 days                                                                |\n",
       "| LMAT                                                                   | QTR                                                                    | 2018-09-30                                                             | 2018-10-04                                                             | 2018-10-05                                                             | LeMaitre Vascular, Inc., Q3 2018 Earnings Call, Oct 05, 2018           | LeMaitre Vascular, Inc.                                                | LEMAITRE                                                               |  5 days                                                                |\n",
       "\n"
      ],
      "text/plain": [
       "     ticker fiscalp fpedats    anndats_act headline_date\n",
       "1    CSC    ANN     2009-03-31 2009-05-20  2004-05-17   \n",
       "2    CSC    QTR     2009-03-31 2009-05-20  2004-05-17   \n",
       "3    GLPC   ANN     2004-12-31 2008-10-10  2008-10-14   \n",
       "4    GLPC   ANN     2005-12-31 2008-10-10  2008-10-14   \n",
       "5    SNRZ   QTR     2006-03-31 2008-03-24  2008-04-02   \n",
       "6    RWAG   ANN     2007-12-31 2008-02-22  2009-11-12   \n",
       "7    FFIV   QTR     2006-12-31 2007-01-24  2008-10-22   \n",
       "8    RWAG   ANN     2007-12-31 2008-02-22  2009-08-13   \n",
       "9    SCHS   QTR     2007-10-31 2007-11-13  2009-06-11   \n",
       "10   FFIV   QTR     2006-12-31 2007-01-24  2008-07-23   \n",
       "11   ALST   ANN     2009-12-31 2011-06-03  2011-06-06   \n",
       "12   ALST   QTR     2009-12-31 2011-06-03  2011-06-06   \n",
       "13   DURI   QTR     2004-09-30 2006-02-13  2006-02-13   \n",
       "14   RWAG   ANN     2007-12-31 2008-02-22  2009-05-14   \n",
       "15   BASF   ANN     2013-12-31 2014-02-25  2015-04-30   \n",
       "16   BASF   ANN     2011-12-31 2012-02-24  2013-04-26   \n",
       "17   FFIV   QTR     2010-06-30 2010-07-21  2011-10-25   \n",
       "18   FFIV   QTR     2006-12-31 2007-01-24  2008-04-23   \n",
       "19   SCHS   QTR     2007-10-31 2007-11-13  2009-02-19   \n",
       "20   WMT    QTR     2017-10-31 2017-11-16  2019-02-19   \n",
       "21   DURI   QTR     2005-03-31 2006-06-30  2006-07-12   \n",
       "22   SNCR   QTR     2017-03-31 2018-07-02  2018-07-02   \n",
       "23   SNRZ   ANN     2006-12-31 2008-03-24  2008-04-02   \n",
       "24   ALST   QTR     2010-03-31 2011-06-03  2011-06-06   \n",
       "25   ENER   ANN     2006-06-30 2006-09-12  2007-08-29   \n",
       "26   ENER   QTR     2006-06-30 2006-09-12  2007-08-29   \n",
       "27   NOUT   ANN     2015-06-30 2015-08-20  2016-08-26   \n",
       "28   NOUT   QTR     2015-06-30 2015-08-20  2016-08-26   \n",
       "29   RWAG   ANN     2007-12-31 2008-02-22  2009-02-26   \n",
       "30   BAYR   ANN     2015-12-31 2016-02-25  2017-02-22   \n",
       "31   BAYR   QTR     2015-12-31 2016-02-25  2017-02-22   \n",
       "32   HARM   ANN     2014-06-30 2014-08-14  2015-08-18   \n",
       "33   MBII   QTR     2014-09-30 2015-11-10  2015-11-17   \n",
       "34   DURI   ANN     2004-12-31 2006-02-13  2006-02-13   \n",
       "35   MXS    ANN     2013-12-31 2015-02-12  2015-02-13   \n",
       "36   MXS    QTR     2013-12-31 2015-02-12  2015-02-13   \n",
       "37   SHAC   ANN     2013-03-31 2014-05-12  2014-05-12   \n",
       "38   BL1    QTR     2017-09-30 2017-11-09  2018-11-08   \n",
       "39   CNTE   ANN     2010-12-31 2011-02-08  2012-02-07   \n",
       "40   CNTE   QTR     2010-12-31 2011-02-08  2012-02-07   \n",
       "41   PEDX   QTR     2006-06-30 2007-08-07  2007-08-07   \n",
       "42   ACLS   QTR     2007-09-30 2007-11-01  2008-11-05   \n",
       "43   SIGM   QTR     2016-04-30 2016-06-06  2017-06-06   \n",
       "44   BBGC   QTR     2009-09-30 2009-11-03  2010-11-02   \n",
       "45   BXG    ANN     2010-12-31 2011-02-03  2012-02-02   \n",
       "46   BXG    QTR     2010-12-31 2011-02-03  2012-02-02   \n",
       "47   BXG    ANN     2011-12-31 2012-02-02  2013-01-31   \n",
       "48   BXG    QTR     2011-12-31 2012-02-02  2013-01-31   \n",
       "49   HIW    QTR     2011-09-30 2011-10-27  2012-10-31   \n",
       "50   ELC    QTR     2012-06-30 2013-07-31  2013-07-31   \n",
       "...  ...    ...     ...        ...         ...          \n",
       "8643 URBN   QTR     2006-04-30 2006-05-11  2006-05-11   \n",
       "8644 VAL    QTR     2008-01-31 2008-02-11  2008-02-11   \n",
       "8645 ANF    QTR     2004-07-31 2004-08-10  2004-08-10   \n",
       "8646 ANN    QTR     2004-10-31 2004-11-10  2004-11-10   \n",
       "8647 BOBE   QTR     2010-01-31 2010-02-09  2010-02-10   \n",
       "8648 CYBX   QTR     2004-10-31 2004-11-10  2004-11-10   \n",
       "8649 DELL   QTR     2005-10-31 2005-11-10  2005-11-10   \n",
       "8650 FD     QTR     2004-10-31 2004-11-10  2004-11-10   \n",
       "8651 FEMP   QTR     2002-06-30 2002-07-10  2002-07-10   \n",
       "8652 FEMP   ANN     2002-12-31 2003-01-10  2003-01-10   \n",
       "8653 FEMP   QTR     2002-12-31 2003-01-10  2003-01-10   \n",
       "8654 FEMP   QTR     2003-03-31 2003-04-10  2003-04-10   \n",
       "8655 FEMP   QTR     2003-09-30 2003-10-10  2003-10-10   \n",
       "8656 HCSG   QTR     2012-09-30 2012-10-09  2012-10-10   \n",
       "8657 HCSG   QTR     2013-03-31 2013-04-09  2013-04-10   \n",
       "8658 JCP    QTR     2006-07-31 2006-08-10  2006-08-10   \n",
       "8659 LPLL   QTR     2007-06-30 2007-07-10  2007-07-10   \n",
       "8660 LPLL   QTR     2008-03-31 2008-04-10  2008-04-10   \n",
       "8661 MTG1   QTR     2002-06-30 2002-07-10  2002-07-10   \n",
       "8662 MTG1   QTR     2002-09-30 2002-10-10  2002-10-10   \n",
       "8663 STI    QTR     2002-03-31 2002-04-10  2002-04-10   \n",
       "8664 STI    QTR     2002-06-30 2002-07-10  2002-07-10   \n",
       "8665 STI    QTR     2003-03-31 2003-04-10  2003-04-10   \n",
       "8666 STI    QTR     2003-06-30 2003-07-10  2003-07-10   \n",
       "8667 ZOLT   QTR     2005-12-31 2006-01-03  2006-01-10   \n",
       "8668 CPSS   QTR     2014-03-31 2014-04-08  2014-04-09   \n",
       "8669 FEMP   QTR     2002-09-30 2002-10-09  2002-10-09   \n",
       "8670 HCSG   QTR     2013-09-30 2013-10-08  2013-10-09   \n",
       "8671 HCSG   QTR     2014-03-31 2014-04-08  2014-04-09   \n",
       "8672 HCSG   QTR     2014-06-30 2014-07-08  2014-07-09   \n",
       "8673 KSS    QTR     2006-10-31 2006-11-09  2006-11-09   \n",
       "8674 MHS    QTR     2003-09-30 2003-10-09  2003-10-09   \n",
       "8675 MTG1   QTR     2002-03-31 2002-04-09  2002-04-09   \n",
       "8676 MTG1   ANN     2002-12-31 2003-01-09  2003-01-09   \n",
       "8677 MTG1   QTR     2002-12-31 2003-01-09  2003-01-09   \n",
       "8678 STI    ANN     2001-12-31 2002-01-09  2002-01-09   \n",
       "8679 STI    QTR     2001-12-31 2002-01-09  2002-01-09   \n",
       "8680 STI    QTR     2002-09-30 2002-10-09  2002-10-09   \n",
       "8681 STI    QTR     2003-09-30 2003-10-09  2003-10-09   \n",
       "8682 MBWM   QTR     2004-03-31 2004-04-08  2004-04-08   \n",
       "8683 STI    ANN     2002-12-31 2003-01-08  2003-01-08   \n",
       "8684 STI    QTR     2002-12-31 2003-01-08  2003-01-08   \n",
       "8685 STI    QTR     2004-03-31 2004-04-08  2004-04-08   \n",
       "8686 MBWM   QTR     2003-09-30 2003-10-07  2003-10-07   \n",
       "8687 MBWM   ANN     2003-12-31 2004-01-07  2004-01-07   \n",
       "8688 MBWM   QTR     2003-12-31 2004-01-07  2004-01-07   \n",
       "8689 MHS    QTR     2004-09-30 2004-10-07  2004-10-07   \n",
       "8690 STA3   QTR     2005-09-30 2005-10-06  2005-10-07   \n",
       "8691 ARA1   QTR     2006-09-30 2006-10-06  2006-10-06   \n",
       "8692 LMAT   QTR     2018-09-30 2018-10-04  2018-10-05   \n",
       "     headline                                                                         \n",
       "1    DXC Technology Company, Q4 2004 Earnings Calls, May 17, 2004                     \n",
       "2    DXC Technology Company, Q4 2004 Earnings Calls, May 17, 2004                     \n",
       "3    Impax Laboratories Inc., Q2 2008 Earnings Call, Oct-14-2008                      \n",
       "4    Impax Laboratories Inc., Q2 2008 Earnings Call, Oct-14-2008                      \n",
       "5    Sunrise Senior Living Inc., Q4 2007 Earnings Call, Apr-02-2008                   \n",
       "6    RWE AG, Q3 2009 Earnings Call, Nov-12-2009                                       \n",
       "7    F5 Networks, Inc., Q4 2008 Earnings Call, Oct-22-2008                            \n",
       "8    RWE AG, Q2 2009 Earnings Call, Aug-13-2009                                       \n",
       "9    School Specialty Inc., Q4 2009 Earnings Call, Jun-11-2009                        \n",
       "10   F5 Networks, Inc., Q3 2008 Earnings Call, Jul-23-2008                            \n",
       "11   INX Inc., Q4 2010 Earnings Call, Jun 06, 2011                                    \n",
       "12   INX Inc., Q4 2010 Earnings Call, Jun 06, 2011                                    \n",
       "13   Flowserve Corp., Q4 2005 Earnings Call, Feb-13-2006                              \n",
       "14   RWE AG, Q1 2009 Earnings Call, May-14-2009                                       \n",
       "15   BASF SE, Q1 2015 Earnings Call, Apr 30, 2015                                     \n",
       "16   BASF SE, Q1 2013 Earnings Call, Apr 26, 2013                                     \n",
       "17   F5 Networks, Inc., Q4 2011 Earnings Call, Oct 25, 2011                           \n",
       "18   F5 Networks, Inc., Q2 2008 Earnings Call, Apr-23-2008                            \n",
       "19   School Specialty Inc., Q3 2009 Earnings Call, Feb-19-2009                        \n",
       "20   Walmart Inc., Q4 2019 Pre Recorded Earnings Call, Feb 19, 2019                   \n",
       "21   Flowserve Corp., 2005 Earnings Call, Jul-12-2006                                 \n",
       "22   Synchronoss Technologies, Inc., Q1 2018 Earnings Call, Jul 02, 2018              \n",
       "23   Sunrise Senior Living Inc., Q4 2007 Earnings Call, Apr-02-2008                   \n",
       "24   INX Inc., Q4 2010 Earnings Call, Jun 06, 2011                                    \n",
       "25   Energy Conversion Devices, Inc., Q4 2007 Earnings Call, Aug-29-2007              \n",
       "26   Energy Conversion Devices, Inc., Q4 2007 Earnings Call, Aug-29-2007              \n",
       "27   Net 1 Ueps Technologies Inc., Q4 2016 Earnings Call, Aug 26, 2016                \n",
       "28   Net 1 Ueps Technologies Inc., Q4 2016 Earnings Call, Aug 26, 2016                \n",
       "29   RWE AG, 2008 Earnings Call, Feb-26-2009                                          \n",
       "30   Bayer AG, Q4 2016 Earnings Call, Feb 22, 2017                                    \n",
       "31   Bayer AG, Q4 2016 Earnings Call, Feb 22, 2017                                    \n",
       "32   Harmony Gold Mining Company Limited, Q4 2015 Earnings Call, Aug 18, 2015         \n",
       "33   Marrone Bio Innovations, Inc., Q3 2015 Earnings Call, Nov 17, 2015               \n",
       "34   Flowserve Corp., Q4 2005 Earnings Call, Feb-13-2006                              \n",
       "35   MagnaChip Semiconductor Corporation, Nine Months 2014 Earnings Call, Feb 13, 2015\n",
       "36   MagnaChip Semiconductor Corporation, Nine Months 2014 Earnings Call, Feb 13, 2015\n",
       "37   Sharp Corporation, 2014 Earnings Call, May 12, 2014                              \n",
       "38   Brookfield Asset Management Inc., Q3 2018 Earnings Call, Nov 08, 2018            \n",
       "39   Centene Corp., Q4 2011 Earnings Call, Feb 07, 2012                               \n",
       "40   Centene Corp., Q4 2011 Earnings Call, Feb 07, 2012                               \n",
       "41   MEDNAX, Inc., Q2 2007 Earnings Call, Aug-07-2007                                 \n",
       "42   Axcelis Technologies Inc., Q3 2008 Earnings Call, Nov-05-2008                    \n",
       "43   Sigma Designs, Inc., Q1 2018 Earnings Call, Jun 06, 2017                         \n",
       "44   Bill Barrett Corp., Q3 2010 Earnings Call, Nov 02, 2010                          \n",
       "45   The Blackstone Group, Q4 2011 Earnings Call, Feb 02, 2012                        \n",
       "46   The Blackstone Group, Q4 2011 Earnings Call, Feb 02, 2012                        \n",
       "47   The Blackstone Group, Q4 2012 Earnings Call, Jan 31, 2013                        \n",
       "48   The Blackstone Group, Q4 2012 Earnings Call, Jan 31, 2013                        \n",
       "49   Highwoods Properties Inc., Q3 2012 Earnings Call, Oct 31, 2012                   \n",
       "50   Lime Energy Co., 2012 Earnings Call, Jul 31, 2013                                \n",
       "...  ...                                                                              \n",
       "8643 Urban Outfitters Inc., Q1 2007 Earnings Call, May-11-2006                        \n",
       "8644 Valspar Corp., Q1 2008 Earnings Call, Feb-11-2008                                \n",
       "8645 Abercrombie & Fitch Co., Q2 2005 Earnings Call, Aug 10, 2004                     \n",
       "8646 AnnTaylor Stores Corp., Q3 2005 Earnings Call, Nov 10, 2004                      \n",
       "8647 Bob Evans Farms Inc., Q3 2010 Earnings Call, Feb-10-2010                         \n",
       "8648 Cyberonics Inc., Q2 2005 Earnings Call, Nov-10-2004                              \n",
       "8649 Dell Inc., Q3 2006 Earnings Call, Nov-10-2005                                    \n",
       "8650 Macy's, Inc., Q3 2005 Earnings Call, Nov 10, 2004                                \n",
       "8651 M&T Bank Corporation, Q2 2002 Earnings Calls, Jul 10, 2002                       \n",
       "8652 M&T Bank Corporation, Q4 2002 Earnings Calls, Jan 10, 2003                       \n",
       "8653 M&T Bank Corporation, Q4 2002 Earnings Calls, Jan 10, 2003                       \n",
       "8654 M&T Bank Corporation, Q1 2003 Earnings Calls, Apr 10, 2003                       \n",
       "8655 M&T Bank Corporation, Q3 2003 Earnings Calls, Oct 10, 2003                       \n",
       "8656 Healthcare Services Group Inc., Q3 2012 Earnings Call, Oct 10, 2012              \n",
       "8657 Healthcare Services Group Inc., Q1 2013 Earnings Call, Apr 10, 2013              \n",
       "8658 J. C. Penney Company, Inc., Q2 2007 Earnings Call, Aug 10, 2006                  \n",
       "8659 LG Display Co., Ltd., Q2 2007 Earnings Call, Jul 10, 2007                        \n",
       "8660 LG Display Co., Ltd., Q1 2008 Earnings Call, Apr-10-2008                         \n",
       "8661 MGIC Investment Corporation, Q2 2002 Earnings Calls, Jul 10, 2002                \n",
       "8662 MGIC Investment Corporation, Q3 2002 Earnings Calls, Oct 10, 2002                \n",
       "8663 SunTrust Banks, Inc., Q1 2002 Earnings Calls, Apr 10, 2002                       \n",
       "8664 SunTrust Banks, Inc., Q2 2002 Earnings Calls, Jul 10, 2002                       \n",
       "8665 SunTrust Banks, Inc., Q1 2003 Earnings Calls, Apr 10, 2003                       \n",
       "8666 SunTrust Banks, Inc., Q2 2003 Earnings Calls, Jul 10, 2003                       \n",
       "8667 Zoltek Companies Inc., Q4 2005 Earnings Call, Jan-10-2006                        \n",
       "8668 Consumer Portfolio Services, Inc., Q1 2014 Earnings Call, Apr 09, 2014           \n",
       "8669 M&T Bank Corporation, Q3 2002 Earnings Calls, Oct 09, 2002                       \n",
       "8670 Healthcare Services Group Inc., Q3 2013 Earnings Call, Oct 09, 2013              \n",
       "8671 Healthcare Services Group Inc., Q1 2014 Earnings Call, Apr 09, 2014              \n",
       "8672 Healthcare Services Group Inc., Q2 2014 Earnings Call, Jul 09, 2014              \n",
       "8673 Kohl's Corp., Q3 2007 Earnings Call, Nov 09, 2006                                \n",
       "8674 Marriott International, Inc., Q3 2003 Earnings Calls, Oct 09, 2003               \n",
       "8675 MGIC Investment Corporation, Q1 2002 Earnings Calls, Apr 09, 2002                \n",
       "8676 MGIC Investment Corporation, Q4 2002 Earnings Calls, Jan 09, 2003                \n",
       "8677 MGIC Investment Corporation, Q4 2002 Earnings Calls, Jan 09, 2003                \n",
       "8678 SunTrust Banks, Inc., Q4 2001 Earnings Calls, Jan 09, 2002                       \n",
       "8679 SunTrust Banks, Inc., Q4 2001 Earnings Calls, Jan 09, 2002                       \n",
       "8680 SunTrust Banks, Inc., Q3 2002 Earnings Calls, Oct 09, 2002                       \n",
       "8681 SunTrust Banks, Inc., Q3 2003 Earnings Calls, Oct 09, 2003                       \n",
       "8682 Mercantile Bank Corporation, Q1 2004 Earnings Calls, Apr 08, 2004                \n",
       "8683 SunTrust Banks, Inc., Q4 2002 Earnings Calls, Jan 08, 2003                       \n",
       "8684 SunTrust Banks, Inc., Q4 2002 Earnings Calls, Jan 08, 2003                       \n",
       "8685 SunTrust Banks, Inc., Q1 2004 Earnings Calls, Apr 08, 2004                       \n",
       "8686 Mercantile Bank Corporation, Q3 2003 Earnings Calls, Oct 07, 2003                \n",
       "8687 Mercantile Bank Corporation, Q4 2003 Earnings Calls, Jan 07, 2004                \n",
       "8688 Mercantile Bank Corporation, Q4 2003 Earnings Calls, Jan 07, 2004                \n",
       "8689 Marriott International, Inc., Q3 2004 Earnings Call, Oct-07-2004                 \n",
       "8690 Center Cut Hospitality, Inc., Q3 2005 Earnings Call, Oct-07-2005                 \n",
       "8691 Aracruz Celulose S.A., Q3 2006 Earnings Call, Oct-06-2006                        \n",
       "8692 LeMaitre Vascular, Inc., Q3 2018 Earnings Call, Oct 05, 2018                     \n",
       "     companyname                         cname            diff     \n",
       "1    DXC Technology Company              COMP SCIENCES    1779 days\n",
       "2    DXC Technology Company              COMP SCIENCES    1779 days\n",
       "3    Impax Laboratories, Inc.            IMPAX LAB INC    1383 days\n",
       "4    Impax Laboratories, Inc.            IMPAX LAB INC    1018 days\n",
       "5    Sunrise Senior Living, LLC          SUNRISE SENIOR L  733 days\n",
       "6    RWE Aktiengesellschaft              RWE               682 days\n",
       "7    F5 Networks, Inc.                   F5 NETWORKS INC   661 days\n",
       "8    RWE Aktiengesellschaft              RWE               591 days\n",
       "9    School Specialty, Inc.              SCHOOL SPECIALTY  589 days\n",
       "10   F5 Networks, Inc.                   F5 NETWORKS INC   570 days\n",
       "11   INX Inc.                            INX               522 days\n",
       "12   INX Inc.                            INX               522 days\n",
       "13   Flowserve Corporation               FLOWSERVE CORP    501 days\n",
       "14   RWE Aktiengesellschaft              RWE               500 days\n",
       "15   BASF SE                             BASF SE           485 days\n",
       "16   BASF SE                             BASF SE           482 days\n",
       "17   F5 Networks, Inc.                   F5 NETWORKS INC   482 days\n",
       "18   F5 Networks, Inc.                   F5 NETWORKS INC   479 days\n",
       "19   School Specialty, Inc.              SCHOOL SPECIALTY  477 days\n",
       "20   Walmart Inc.                        WALMART           476 days\n",
       "21   Flowserve Corporation               FLOWSERVE CORP    468 days\n",
       "22   Synchronoss Technologies, Inc.      SYNCHRONOSS TECH  458 days\n",
       "23   Sunrise Senior Living, LLC          SUNRISE SENIOR L  458 days\n",
       "24   INX Inc.                            INX               432 days\n",
       "25   Energy Conversion Devices, Inc.     ENERGY CONV DEVS  425 days\n",
       "26   Energy Conversion Devices, Inc.     ENERGY CONV DEVS  425 days\n",
       "27   Net 1 UEPS Technologies, Inc.       NET 1 UEPS        423 days\n",
       "28   Net 1 UEPS Technologies, Inc.       NET 1 UEPS        423 days\n",
       "29   RWE Aktiengesellschaft              RWE               423 days\n",
       "30   Bayer Aktiengesellschaft            BAYER AG          419 days\n",
       "31   Bayer Aktiengesellschaft            BAYER AG          419 days\n",
       "32   Harmony Gold Mining Company Limited HARMONY GOLD MNG  414 days\n",
       "33   Marrone Bio Innovations, Inc.       MARRONE BIO INNO  413 days\n",
       "34   Flowserve Corporation               FLOWSERVE CORP    409 days\n",
       "35   MagnaChip Semiconductor Corporation MAGNACHIP SEMICO  409 days\n",
       "36   MagnaChip Semiconductor Corporation MAGNACHIP SEMICO  409 days\n",
       "37   Sharp Corporation                   SHARP CORP        407 days\n",
       "38   Brookfield Asset Management Inc.    BROOKFIELD ASSET  404 days\n",
       "39   Centene Corporation                 CENTENE           403 days\n",
       "40   Centene Corporation                 CENTENE           403 days\n",
       "41   MEDNAX, Inc.                        PEDIATRIX MEDIC   403 days\n",
       "42   Axcelis Technologies, Inc.          AXCELIS TECH      402 days\n",
       "43   Sigma Designs, Inc.                 SIGMA DESIGNS     402 days\n",
       "44   HighPoint Resources Corporation     BILL BARRETT      398 days\n",
       "45   The Blackstone Group L.P.           BLACKSTONE GROUP  398 days\n",
       "46   The Blackstone Group L.P.           BLACKSTONE GROUP  398 days\n",
       "47   The Blackstone Group L.P.           BLACKSTONE GROUP  397 days\n",
       "48   The Blackstone Group L.P.           BLACKSTONE GROUP  397 days\n",
       "49   Highwoods Properties, Inc.          HIGHWOODS PROPER  397 days\n",
       "50   Lime Energy Co.                     LIME ENERGY CO    396 days\n",
       "...  ...                                 ...              ...      \n",
       "8643 Urban Outfitters, Inc.              URBAN OUTFITTERS 11 days  \n",
       "8644 The Valspar Corporation             VALSPAR CP       11 days  \n",
       "8645 Abercrombie & Fitch Co.             ABERCROM & FITCH 10 days  \n",
       "8646 ANN INC.                            ANNTAYLOR STORES 10 days  \n",
       "8647 Bob Evans Farms, Inc.               BOB EVANS FARMS  10 days  \n",
       "8648 LivaNova PLC                        CYBERONICS INC   10 days  \n",
       "8649 Dell Technologies Inc.              DELL INC         10 days  \n",
       "8650 Macy's, Inc.                        FEDERATED DEPT S 10 days  \n",
       "8651 M&T Bank Corporation                M & T BANK CORP  10 days  \n",
       "8652 M&T Bank Corporation                M & T BANK CORP  10 days  \n",
       "8653 M&T Bank Corporation                M & T BANK CORP  10 days  \n",
       "8654 M&T Bank Corporation                M & T BANK CORP  10 days  \n",
       "8655 M&T Bank Corporation                M & T BANK CORP  10 days  \n",
       "8656 Healthcare Services Group, Inc.     HLTHCARE SVC GRP 10 days  \n",
       "8657 Healthcare Services Group, Inc.     HLTHCARE SVC GRP 10 days  \n",
       "8658 J. C. Penney Company, Inc.          JC PENNEY        10 days  \n",
       "8659 LG Display Co., Ltd.                LG PHILIPS LCD   10 days  \n",
       "8660 LG Display Co., Ltd.                LG DISPLAY CO LT 10 days  \n",
       "8661 MGIC Investment Corporation         MGIC INVT CORP W 10 days  \n",
       "8662 MGIC Investment Corporation         MGIC INVT CORP W 10 days  \n",
       "8663 SunTrust Banks, Inc.                SUNTRUST BKS GA  10 days  \n",
       "8664 SunTrust Banks, Inc.                SUNTRUST BKS GA  10 days  \n",
       "8665 SunTrust Banks, Inc.                SUNTRUST BKS GA  10 days  \n",
       "8666 SunTrust Banks, Inc.                SUNTRUST BKS GA  10 days  \n",
       "8667 Zoltek Companies Inc.               ZOLTEK COS INC   10 days  \n",
       "8668 Consumer Portfolio Services, Inc.   CONSUMER PORTF.   9 days  \n",
       "8669 M&T Bank Corporation                M & T BANK CORP   9 days  \n",
       "8670 Healthcare Services Group, Inc.     HLTHCARE SVC GRP  9 days  \n",
       "8671 Healthcare Services Group, Inc.     HLTHCARE SVC GRP  9 days  \n",
       "8672 Healthcare Services Group, Inc.     HLTHCARE SVC GRP  9 days  \n",
       "8673 Kohl's Corporation                  KOHLS CORP        9 days  \n",
       "8674 Marriott International, Inc.        MARRIOTT INTL     9 days  \n",
       "8675 MGIC Investment Corporation         MGIC INVT CORP W  9 days  \n",
       "8676 MGIC Investment Corporation         MGIC INVT CORP W  9 days  \n",
       "8677 MGIC Investment Corporation         MGIC INVT CORP W  9 days  \n",
       "8678 SunTrust Banks, Inc.                SUNTRUST BKS GA   9 days  \n",
       "8679 SunTrust Banks, Inc.                SUNTRUST BKS GA   9 days  \n",
       "8680 SunTrust Banks, Inc.                SUNTRUST BKS GA   9 days  \n",
       "8681 SunTrust Banks, Inc.                SUNTRUST BKS GA   9 days  \n",
       "8682 Mercantile Bank Corporation         MERCANTILE BANK   8 days  \n",
       "8683 SunTrust Banks, Inc.                SUNTRUST BKS GA   8 days  \n",
       "8684 SunTrust Banks, Inc.                SUNTRUST BKS GA   8 days  \n",
       "8685 SunTrust Banks, Inc.                SUNTRUST BKS GA   8 days  \n",
       "8686 Mercantile Bank Corporation         MERCANTILE BANK   7 days  \n",
       "8687 Mercantile Bank Corporation         MERCANTILE BANK   7 days  \n",
       "8688 Mercantile Bank Corporation         MERCANTILE BANK   7 days  \n",
       "8689 Marriott International, Inc.        MARRIOTT INTL     7 days  \n",
       "8690 Center Cut Hospitality, Inc         LONE STAR STEAKH  7 days  \n",
       "8691 Aracruz Celulose S.A.               ARACRUZ           6 days  \n",
       "8692 LeMaitre Vascular, Inc.             LEMAITRE          5 days  "
      ]
     },
     "metadata": {},
     "output_type": "display_data"
    }
   ],
   "source": [
    "x = cc_eps[cc_meta[keydeveventtypeid==48], \n",
    "     on=c('ticker==ibtic', 'anndats_act==announcedate'),\n",
    "     nomatch=0\n",
    "    ][order(ticker, fpedats, fiscalp)\n",
    "    ][, .(ticker, fiscalp, fpedats, anndats_act, headline_date, headline, companyname, cname)]\n",
    "# x[1:10]\n",
    "\n",
    "x2 = x[!is.na(headline_date)\n",
    "    ][, ':='(diff=abs(fpedats-headline_date))][order(-diff)]\n",
    "x2[, .(n=.N, n_nomatch=sum(diff>=5, na.rm=T))\n",
    "    ][, pct:=round(n_nomatch/n*100)][]\n",
    "x2[diff>=5]"
   ]
  },
  {
   "cell_type": "code",
   "execution_count": 22,
   "metadata": {},
   "outputs": [
    {
     "data": {
      "text/html": [
       "<table>\n",
       "<thead><tr><th scope=col>ticker</th><th scope=col>fpedats</th><th scope=col>statpers</th><th scope=col>anndats_act</th><th scope=col>fiscalp</th><th scope=col>actual</th><th scope=col>medest</th><th scope=col>meanest</th><th scope=col>stdev</th><th scope=col>highest</th><th scope=col>lowest</th><th scope=col>numest</th><th scope=col>numup</th><th scope=col>numdown</th><th scope=col>cname</th></tr></thead>\n",
       "<tbody>\n",
       "\t<tr><td>GLPC         </td><td>2004-12-31   </td><td>2008-05-15   </td><td>2008-10-10   </td><td>ANN          </td><td>-0.84        </td><td>0.01         </td><td>0.01         </td><td>NA           </td><td>0.01         </td><td>0.01         </td><td>1            </td><td>0            </td><td>0            </td><td>IMPAX LAB INC</td></tr>\n",
       "</tbody>\n",
       "</table>\n"
      ],
      "text/latex": [
       "\\begin{tabular}{r|lllllllllllllll}\n",
       " ticker & fpedats & statpers & anndats\\_act & fiscalp & actual & medest & meanest & stdev & highest & lowest & numest & numup & numdown & cname\\\\\n",
       "\\hline\n",
       "\t GLPC          & 2004-12-31    & 2008-05-15    & 2008-10-10    & ANN           & -0.84         & 0.01          & 0.01          & NA            & 0.01          & 0.01          & 1             & 0             & 0             & IMPAX LAB INC\\\\\n",
       "\\end{tabular}\n"
      ],
      "text/markdown": [
       "\n",
       "| ticker | fpedats | statpers | anndats_act | fiscalp | actual | medest | meanest | stdev | highest | lowest | numest | numup | numdown | cname |\n",
       "|---|---|---|---|---|---|---|---|---|---|---|---|---|---|---|\n",
       "| GLPC          | 2004-12-31    | 2008-05-15    | 2008-10-10    | ANN           | -0.84         | 0.01          | 0.01          | NA            | 0.01          | 0.01          | 1             | 0             | 0             | IMPAX LAB INC |\n",
       "\n"
      ],
      "text/plain": [
       "  ticker fpedats    statpers   anndats_act fiscalp actual medest meanest stdev\n",
       "1 GLPC   2004-12-31 2008-05-15 2008-10-10  ANN     -0.84  0.01   0.01    NA   \n",
       "  highest lowest numest numup numdown cname        \n",
       "1 0.01    0.01   1      0     0       IMPAX LAB INC"
      ]
     },
     "metadata": {},
     "output_type": "display_data"
    }
   ],
   "source": [
    "cc_eps[ticker=='GLPC' & fpedats==as.Date('2004-12-31')]"
   ]
  },
  {
   "cell_type": "code",
   "execution_count": 20,
   "metadata": {},
   "outputs": [
    {
     "data": {
      "text/html": [
       "<table>\n",
       "<thead><tr><th scope=col>keydeveventtypeid</th><th scope=col>headline</th><th scope=col>headline_date</th><th scope=col>announcedate</th><th scope=col>companyname</th><th scope=col>gvkey</th><th scope=col>keydevid</th><th scope=col>ibtic</th></tr></thead>\n",
       "<tbody>\n",
       "\t<tr><td>48                                                                                                                                                                                                                           </td><td>DXC Technology Company, Q4 2004 Earnings Calls, May 17, 2004                                                                                                                                                                 </td><td>2004-05-17                                                                                                                                                                                                                   </td><td>2009-05-20                                                                                                                                                                                                                   </td><td>DXC Technology Company                                                                                                                                                                                                       </td><td>003336                                                                                                                                                                                                                       </td><td>586593426                                                                                                                                                                                                                    </td><td>CSC                                                                                                                                                                                                                          </td></tr>\n",
       "\t<tr><td>28                                                                                                                                                                                                                           </td><td>Computer Sciences Corporation Reports Unaudited Consolidated Earnings Results for the Fourth Quarter and Full Year Ended April 3, 2009; Provides Earnings Guidance for the Fiscal Year of 2010 ; Announces Impairment Charges</td><td>2009-04-03                                                                                                                                                                                                                   </td><td>2009-05-20                                                                                                                                                                                                                   </td><td>DXC Technology Company                                                                                                                                                                                                       </td><td>003336                                                                                                                                                                                                                       </td><td>  6639889                                                                                                                                                                                                                    </td><td>CSC                                                                                                                                                                                                                          </td></tr>\n",
       "</tbody>\n",
       "</table>\n"
      ],
      "text/latex": [
       "\\begin{tabular}{r|llllllll}\n",
       " keydeveventtypeid & headline & headline\\_date & announcedate & companyname & gvkey & keydevid & ibtic\\\\\n",
       "\\hline\n",
       "\t 48                                                                                                                                                                                                                            & DXC Technology Company, Q4 2004 Earnings Calls, May 17, 2004                                                                                                                                                                  & 2004-05-17                                                                                                                                                                                                                    & 2009-05-20                                                                                                                                                                                                                    & DXC Technology Company                                                                                                                                                                                                        & 003336                                                                                                                                                                                                                        & 586593426                                                                                                                                                                                                                     & CSC                                                                                                                                                                                                                          \\\\\n",
       "\t 28                                                                                                                                                                                                                            & Computer Sciences Corporation Reports Unaudited Consolidated Earnings Results for the Fourth Quarter and Full Year Ended April 3, 2009; Provides Earnings Guidance for the Fiscal Year of 2010 ; Announces Impairment Charges & 2009-04-03                                                                                                                                                                                                                    & 2009-05-20                                                                                                                                                                                                                    & DXC Technology Company                                                                                                                                                                                                        & 003336                                                                                                                                                                                                                        &   6639889                                                                                                                                                                                                                     & CSC                                                                                                                                                                                                                          \\\\\n",
       "\\end{tabular}\n"
      ],
      "text/markdown": [
       "\n",
       "| keydeveventtypeid | headline | headline_date | announcedate | companyname | gvkey | keydevid | ibtic |\n",
       "|---|---|---|---|---|---|---|---|\n",
       "| 48                                                                                                                                                                                                                            | DXC Technology Company, Q4 2004 Earnings Calls, May 17, 2004                                                                                                                                                                  | 2004-05-17                                                                                                                                                                                                                    | 2009-05-20                                                                                                                                                                                                                    | DXC Technology Company                                                                                                                                                                                                        | 003336                                                                                                                                                                                                                        | 586593426                                                                                                                                                                                                                     | CSC                                                                                                                                                                                                                           |\n",
       "| 28                                                                                                                                                                                                                            | Computer Sciences Corporation Reports Unaudited Consolidated Earnings Results for the Fourth Quarter and Full Year Ended April 3, 2009; Provides Earnings Guidance for the Fiscal Year of 2010 ; Announces Impairment Charges | 2009-04-03                                                                                                                                                                                                                    | 2009-05-20                                                                                                                                                                                                                    | DXC Technology Company                                                                                                                                                                                                        | 003336                                                                                                                                                                                                                        |   6639889                                                                                                                                                                                                                     | CSC                                                                                                                                                                                                                           |\n",
       "\n"
      ],
      "text/plain": [
       "  keydeveventtypeid\n",
       "1 48               \n",
       "2 28               \n",
       "  headline                                                                                                                                                                                                                     \n",
       "1 DXC Technology Company, Q4 2004 Earnings Calls, May 17, 2004                                                                                                                                                                 \n",
       "2 Computer Sciences Corporation Reports Unaudited Consolidated Earnings Results for the Fourth Quarter and Full Year Ended April 3, 2009; Provides Earnings Guidance for the Fiscal Year of 2010 ; Announces Impairment Charges\n",
       "  headline_date announcedate companyname            gvkey  keydevid  ibtic\n",
       "1 2004-05-17    2009-05-20   DXC Technology Company 003336 586593426 CSC  \n",
       "2 2009-04-03    2009-05-20   DXC Technology Company 003336   6639889 CSC  "
      ]
     },
     "metadata": {},
     "output_type": "display_data"
    }
   ],
   "source": [
    "cc_meta[ibtic=='CSC' & announcedate==as.Date('2009-05-20')]"
   ]
  },
  {
   "cell_type": "markdown",
   "metadata": {},
   "source": [
    "## Match `cc_transcripts` and `cc_meta`"
   ]
  },
  {
   "cell_type": "code",
   "execution_count": 20,
   "metadata": {},
   "outputs": [],
   "source": [
    "match_transcripts_and_meta <- function(ciq_transcripts, cc_meta) {\n",
    "    len_ciq_transcripts = nrow(ciq_transcripts)\n",
    "    \n",
    "    matched_headline = character(len_ciq_transcripts)\n",
    "    matched_keydevid = character(len_ciq_transcripts)\n",
    "    \n",
    "    for (i in 1:len_ciq_transcripts) {\n",
    "        transcript_date = ciq_transcripts[i, date]\n",
    "        cc_filename = ciq_transcripts[i, cc_filename]\n",
    "        lookup = cc_meta[date==transcript_date]\n",
    "        rowid = amatch(\n",
    "            toupper(cc_filename),\n",
    "            toupper(lookup[, headline]),\n",
    "            method='dl',\n",
    "            maxDist=1,\n",
    "            nthread=4)\n",
    "        matched_headline[i] = lookup[rowid, headline]\n",
    "        matched_keydevid[i] = lookup[rowid, keydevid]\n",
    "    }\n",
    "    \n",
    "    ciq_transcripts[, .(cc_filename, \n",
    "                        matched_headline=matched_headline,\n",
    "                        keydevid=matched_keydevid,\n",
    "                        date, md, qa,\n",
    "#                         participants_pagenum, md_pagenum, qa_pagenum,\n",
    "                        cc_path)]\n",
    "}\n",
    "\n",
    "ciq_cc = match_transcripts_and_meta(ciq_transcripts, ciq_cc_meta)"
   ]
  },
  {
   "cell_type": "code",
   "execution_count": 21,
   "metadata": {
    "scrolled": true
   },
   "outputs": [
    {
     "data": {
      "text/html": [
       "<table>\n",
       "<thead><tr><th scope=col>cc_filename</th><th scope=col>matched_headline</th><th scope=col>keydevid</th><th scope=col>date</th><th scope=col>md</th><th scope=col>qa</th><th scope=col>cc_path</th></tr></thead>\n",
       "<tbody>\n",
       "\t<tr><td>Weyerhaeuser Company, Q1 2018 Earnings Call, Apr 27, 2018                                                                                     </td><td>Weyerhaeuser Company, Q1 2018 Earnings Call, Apr 27, 2018                                                                                     </td><td>557610842                                                                                                                                     </td><td>2018-04-27                                                                                                                                    </td><td>Presentati                                                                                                                                    </td><td>Question a                                                                                                                                    </td><td>C:/Users/rossz/OneDrive/CC/data/ciq-transcripts/ciq-sp500-2018-1401-1600/cc_2018/Weyerhaeuser Company, Q1 2018 Earnings Call, Apr 27, 2018.pdf</td></tr>\n",
       "</tbody>\n",
       "</table>\n"
      ],
      "text/latex": [
       "\\begin{tabular}{r|lllllll}\n",
       " cc\\_filename & matched\\_headline & keydevid & date & md & qa & cc\\_path\\\\\n",
       "\\hline\n",
       "\t Weyerhaeuser Company, Q1 2018 Earnings Call, Apr 27, 2018                                                                                        & Weyerhaeuser Company, Q1 2018 Earnings Call, Apr 27, 2018                                                                                        & 557610842                                                                                                                                        & 2018-04-27                                                                                                                                       & Presentati                                                                                                                                       & Question a                                                                                                                                       & C:/Users/rossz/OneDrive/CC/data/ciq-transcripts/ciq-sp500-2018-1401-1600/cc\\_2018/Weyerhaeuser Company, Q1 2018 Earnings Call, Apr 27, 2018.pdf\\\\\n",
       "\\end{tabular}\n"
      ],
      "text/markdown": [
       "\n",
       "| cc_filename | matched_headline | keydevid | date | md | qa | cc_path |\n",
       "|---|---|---|---|---|---|---|\n",
       "| Weyerhaeuser Company, Q1 2018 Earnings Call, Apr 27, 2018                                                                                      | Weyerhaeuser Company, Q1 2018 Earnings Call, Apr 27, 2018                                                                                      | 557610842                                                                                                                                      | 2018-04-27                                                                                                                                     | Presentati                                                                                                                                     | Question a                                                                                                                                     | C:/Users/rossz/OneDrive/CC/data/ciq-transcripts/ciq-sp500-2018-1401-1600/cc_2018/Weyerhaeuser Company, Q1 2018 Earnings Call, Apr 27, 2018.pdf |\n",
       "\n"
      ],
      "text/plain": [
       "  cc_filename                                              \n",
       "1 Weyerhaeuser Company, Q1 2018 Earnings Call, Apr 27, 2018\n",
       "  matched_headline                                          keydevid \n",
       "1 Weyerhaeuser Company, Q1 2018 Earnings Call, Apr 27, 2018 557610842\n",
       "  date       md         qa        \n",
       "1 2018-04-27 Presentati Question a\n",
       "  cc_path                                                                                                                                       \n",
       "1 C:/Users/rossz/OneDrive/CC/data/ciq-transcripts/ciq-sp500-2018-1401-1600/cc_2018/Weyerhaeuser Company, Q1 2018 Earnings Call, Apr 27, 2018.pdf"
      ]
     },
     "metadata": {},
     "output_type": "display_data"
    }
   ],
   "source": [
    "ciq_cc[1:.N][, ':='(md=str_sub(md, 1, 10), qa=str_sub(qa, 1, 10))][]"
   ]
  },
  {
   "cell_type": "markdown",
   "metadata": {},
   "source": [
    "## output `feather`"
   ]
  },
  {
   "cell_type": "code",
   "execution_count": 4,
   "metadata": {},
   "outputs": [
    {
     "name": "stdout",
     "output_type": "stream",
     "text": [
      "-cc_2- already exists, will NOT load again!  (0 secs)\n",
      "nrow(cc_2): 106410 \n"
     ]
    },
    {
     "data": {
      "text/html": [
       "<table>\n",
       "<thead><tr><th scope=col>date</th><th scope=col>title</th><th scope=col>id</th><th scope=col>n_words</th><th scope=col>source</th><th scope=col>source_code</th><th scope=col>md</th><th scope=col>qa</th><th scope=col>len_md</th><th scope=col>len_qa</th></tr></thead>\n",
       "<tbody>\n",
       "\t<tr><td>2018-12-31                                                </td><td>Q4 2018 RCI Hospitality Holdings Inc Earnings Call - Final</td><td>article-FNDW000020190109eecv00001                         </td><td>9559                                                      </td><td>CQ FD Disclosure                                          </td><td>FNDW                                                      </td><td>Presentation\n",
       "OPERATO                                     </td><td>Questions and Answer                                      </td><td>13493                                                     </td><td>35988                                                     </td></tr>\n",
       "</tbody>\n",
       "</table>\n"
      ],
      "text/latex": [
       "\\begin{tabular}{r|llllllllll}\n",
       " date & title & id & n\\_words & source & source\\_code & md & qa & len\\_md & len\\_qa\\\\\n",
       "\\hline\n",
       "\t 2018-12-31                                                 & Q4 2018 RCI Hospitality Holdings Inc Earnings Call - Final & article-FNDW000020190109eecv00001                          & 9559                                                       & CQ FD Disclosure                                           & FNDW                                                       & Presentation\n",
       "OPERATO                                      & Questions and Answer                                       & 13493                                                      & 35988                                                     \\\\\n",
       "\\end{tabular}\n"
      ],
      "text/markdown": [
       "\n",
       "| date | title | id | n_words | source | source_code | md | qa | len_md | len_qa |\n",
       "|---|---|---|---|---|---|---|---|---|---|\n",
       "| 2018-12-31                                                 | Q4 2018 RCI Hospitality Holdings Inc Earnings Call - Final | article-FNDW000020190109eecv00001                          | 9559                                                       | CQ FD Disclosure                                           | FNDW                                                       | Presentation\n",
       "OPERATO                                      | Questions and Answer                                       | 13493                                                      | 35988                                                      |\n",
       "\n"
      ],
      "text/plain": [
       "  date       title                                                     \n",
       "1 2018-12-31 Q4 2018 RCI Hospitality Holdings Inc Earnings Call - Final\n",
       "  id                                n_words source           source_code\n",
       "1 article-FNDW000020190109eecv00001 9559    CQ FD Disclosure FNDW       \n",
       "  md                    qa                   len_md len_qa\n",
       "1 Presentation\\nOPERATO Questions and Answer 13493  35988 "
      ]
     },
     "metadata": {},
     "output_type": "display_data"
    }
   ],
   "source": [
    "ld(cc_2)\n",
    "cat('nrow(cc_2):', nrow(cc_2), '\\n')\n",
    "cc_2[1, .(date, title, id, n_words, source, source_code, md=str_sub(md, 1, 20), qa=str_sub(qa, 1, 20), len_md, len_qa)]"
   ]
  },
  {
   "cell_type": "markdown",
   "metadata": {},
   "source": [
    "write as `feather`"
   ]
  },
  {
   "cell_type": "code",
   "execution_count": 6,
   "metadata": {},
   "outputs": [
    {
     "data": {
      "text/plain": [
       "   user  system elapsed \n",
       "   1.94    3.00   10.67 "
      ]
     },
     "metadata": {},
     "output_type": "display_data"
    }
   ],
   "source": [
    "system.time({\n",
    "write_feather(\n",
    "    cc_2[year(date)>=2014, .(id, date, md, qa)],\n",
    "    str_c(DATA_DIR,'/cc_5y.feather'))\n",
    "})"
   ]
  },
  {
   "cell_type": "markdown",
   "metadata": {},
   "source": [
    "write as `TSV`"
   ]
  },
  {
   "cell_type": "code",
   "execution_count": 4,
   "metadata": {},
   "outputs": [
    {
     "data": {
      "text/plain": [
       "   user  system elapsed \n",
       "   2.19    1.50    7.56 "
      ]
     },
     "metadata": {},
     "output_type": "display_data"
    }
   ],
   "source": [
    "system.time({fwrite(cc_2, 'data/cc_2.tsv', sep='\\t')})"
   ]
  }
 ],
 "metadata": {
  "kernelspec": {
   "display_name": "MRO-3.5.3",
   "language": "R",
   "name": "ir353"
  },
  "language_info": {
   "codemirror_mode": "r",
   "file_extension": ".r",
   "mimetype": "text/x-r-source",
   "name": "R",
   "pygments_lexer": "r",
   "version": "3.5.3"
  },
  "toc-autonumbering": true,
  "toc-showcode": false,
  "toc-showmarkdowntxt": false
 },
 "nbformat": 4,
 "nbformat_minor": 4
}
