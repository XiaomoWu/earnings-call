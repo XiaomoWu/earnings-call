{
 "cells": [
  {
   "cell_type": "markdown",
   "metadata": {},
   "source": [
    "# init"
   ]
  },
  {
   "cell_type": "markdown",
   "metadata": {},
   "source": [
    "**Data Pre-processing**\n",
    "- 2011-2018 (8 years) . CC before 2011 has no indicator of the MD and QA parts.\n",
    "- for 2012-2018, ~98% have MD/QA indicators; for 2011, ~93% has MD/QA"
   ]
  },
  {
   "cell_type": "code",
   "execution_count": 1,
   "metadata": {},
   "outputs": [
    {
     "name": "stdout",
     "output_type": "stream",
     "text": [
      "Current working directory: /mnt/c/users/rossz/onedrive/CC"
     ]
    }
   ],
   "source": [
    "# library\n",
    "library(feather)\n",
    "library(jsonlite)\n",
    "\n",
    "# data_dir\n",
    "if (tolower(str_sub(getwd(), -11)) == 'onedrive/cc') {\n",
    "    DATA_DIR = str_c(getwd(), '/data')\n",
    "    WRDS_DOWNLOAD_DIR = str_c(DATA_DIR, '/WRDS-download')\n",
    "    cat(str_c('Current working directory: ', getwd()))\n",
    "} else {\n",
    "    cat(str_c('Please set working dir to \"~/onedrive/cc\"'))\n",
    "}"
   ]
  },
  {
   "cell_type": "markdown",
   "metadata": {
    "toc-hr-collapsed": false
   },
   "source": [
    "# WRDS"
   ]
  },
  {
   "cell_type": "markdown",
   "metadata": {},
   "source": [
    "## establish connection"
   ]
  },
  {
   "cell_type": "code",
   "execution_count": 3,
   "metadata": {},
   "outputs": [],
   "source": [
    "library(RPostgres)\n",
    "\n",
    "# connect to wrds\n",
    "wrds <- dbConnect(Postgres(),\n",
    "                  host='wrds-pgdata.wharton.upenn.edu',\n",
    "                  port=9737,\n",
    "                  dbname='wrds',\n",
    "                  sslmode='require',\n",
    "                  user='xiaomowu')"
   ]
  },
  {
   "cell_type": "markdown",
   "metadata": {},
   "source": [
    "## CIQ-Transcripts"
   ]
  },
  {
   "cell_type": "markdown",
   "metadata": {},
   "source": [
    "> Transcript meta data"
   ]
  },
  {
   "cell_type": "code",
   "execution_count": 3,
   "metadata": {},
   "outputs": [
    {
     "name": "stdout",
     "output_type": "stream",
     "text": [
      "-ciq_transcript_detail- saved  (4.71 secs)\n"
     ]
    },
    {
     "data": {
      "text/html": [
       "<table>\n",
       "<caption>A data.table: 1 × 18</caption>\n",
       "<thead>\n",
       "\t<tr><th scope=col>companyid</th><th scope=col>keydevid</th><th scope=col>transcriptid</th><th scope=col>headline</th><th scope=col>mostimportantdateutc</th><th scope=col>keydeveventtypeid</th><th scope=col>keydeveventtypename</th><th scope=col>companyname</th><th scope=col>transcriptcollectiontypeid</th><th scope=col>transcriptcollectiontypename</th><th scope=col>transcriptpresentationtypeid</th><th scope=col>transcriptpresentationtypename</th><th scope=col>transcriptcreationdate_utc</th><th scope=col>transcriptcreationtime_utc</th><th scope=col>audiolengthsec</th><th scope=col>isdelayed_flag</th><th scope=col>delayreasontypeid</th><th scope=col>delayreasontypename</th></tr>\n",
       "\t<tr><th scope=col>&lt;dbl&gt;</th><th scope=col>&lt;dbl&gt;</th><th scope=col>&lt;dbl&gt;</th><th scope=col>&lt;chr&gt;</th><th scope=col>&lt;date&gt;</th><th scope=col>&lt;dbl&gt;</th><th scope=col>&lt;chr&gt;</th><th scope=col>&lt;chr&gt;</th><th scope=col>&lt;dbl&gt;</th><th scope=col>&lt;chr&gt;</th><th scope=col>&lt;dbl&gt;</th><th scope=col>&lt;chr&gt;</th><th scope=col>&lt;date&gt;</th><th scope=col>&lt;dbl&gt;</th><th scope=col>&lt;dbl&gt;</th><th scope=col>&lt;dbl&gt;</th><th scope=col>&lt;dbl&gt;</th><th scope=col>&lt;chr&gt;</th></tr>\n",
       "</thead>\n",
       "<tbody>\n",
       "\t<tr><td>NA</td><td>637187178</td><td>1855141</td><td>NA</td><td>NA</td><td>NA</td><td>NA</td><td>NA</td><td>7</td><td>Spellchecked Copy</td><td>4</td><td>Preliminary</td><td>2019-11-06</td><td>67695</td><td>3363</td><td>1</td><td>2</td><td>Cancelled- No Audio</td></tr>\n",
       "</tbody>\n",
       "</table>\n"
      ],
      "text/latex": [
       "A data.table: 1 × 18\n",
       "\\begin{tabular}{llllllllllllllllll}\n",
       " companyid & keydevid & transcriptid & headline & mostimportantdateutc & keydeveventtypeid & keydeveventtypename & companyname & transcriptcollectiontypeid & transcriptcollectiontypename & transcriptpresentationtypeid & transcriptpresentationtypename & transcriptcreationdate\\_utc & transcriptcreationtime\\_utc & audiolengthsec & isdelayed\\_flag & delayreasontypeid & delayreasontypename\\\\\n",
       " <dbl> & <dbl> & <dbl> & <chr> & <date> & <dbl> & <chr> & <chr> & <dbl> & <chr> & <dbl> & <chr> & <date> & <dbl> & <dbl> & <dbl> & <dbl> & <chr>\\\\\n",
       "\\hline\n",
       "\t NA & 637187178 & 1855141 & NA & NA & NA & NA & NA & 7 & Spellchecked Copy & 4 & Preliminary & 2019-11-06 & 67695 & 3363 & 1 & 2 & Cancelled- No Audio\\\\\n",
       "\\end{tabular}\n"
      ],
      "text/markdown": [
       "\n",
       "A data.table: 1 × 18\n",
       "\n",
       "| companyid &lt;dbl&gt; | keydevid &lt;dbl&gt; | transcriptid &lt;dbl&gt; | headline &lt;chr&gt; | mostimportantdateutc &lt;date&gt; | keydeveventtypeid &lt;dbl&gt; | keydeveventtypename &lt;chr&gt; | companyname &lt;chr&gt; | transcriptcollectiontypeid &lt;dbl&gt; | transcriptcollectiontypename &lt;chr&gt; | transcriptpresentationtypeid &lt;dbl&gt; | transcriptpresentationtypename &lt;chr&gt; | transcriptcreationdate_utc &lt;date&gt; | transcriptcreationtime_utc &lt;dbl&gt; | audiolengthsec &lt;dbl&gt; | isdelayed_flag &lt;dbl&gt; | delayreasontypeid &lt;dbl&gt; | delayreasontypename &lt;chr&gt; |\n",
       "|---|---|---|---|---|---|---|---|---|---|---|---|---|---|---|---|---|---|\n",
       "| NA | 637187178 | 1855141 | NA | NA | NA | NA | NA | 7 | Spellchecked Copy | 4 | Preliminary | 2019-11-06 | 67695 | 3363 | 1 | 2 | Cancelled- No Audio |\n",
       "\n"
      ],
      "text/plain": [
       "  companyid keydevid  transcriptid headline mostimportantdateutc\n",
       "1 NA        637187178 1855141      NA       <NA>                \n",
       "  keydeveventtypeid keydeveventtypename companyname transcriptcollectiontypeid\n",
       "1 NA                NA                  NA          7                         \n",
       "  transcriptcollectiontypename transcriptpresentationtypeid\n",
       "1 Spellchecked Copy            4                           \n",
       "  transcriptpresentationtypename transcriptcreationdate_utc\n",
       "1 Preliminary                    2019-11-06                \n",
       "  transcriptcreationtime_utc audiolengthsec isdelayed_flag delayreasontypeid\n",
       "1 67695                      3363           1              2                \n",
       "  delayreasontypename\n",
       "1 Cancelled- No Audio"
      ]
     },
     "metadata": {},
     "output_type": "display_data"
    }
   ],
   "source": [
    "library = \"ciq\"\n",
    "dataset = 'wrds_transcript_detail'\n",
    "res <- dbSendQuery(wrds, sprintf(\"select * from %s.%s\", library, dataset))\n",
    "ciq_transcript_detail <- dbFetch(res, n=-1) %>% setDT()\n",
    "dbClearResult(res)\n",
    "sv(ciq_transcript_detail, path=WRDS_DOWNLOAD_DIR)\n",
    "ciq_transcript_detail[1]"
   ]
  },
  {
   "cell_type": "code",
   "execution_count": 4,
   "metadata": {},
   "outputs": [
    {
     "data": {
      "text/html": [
       "996866"
      ],
      "text/latex": [
       "996866"
      ],
      "text/markdown": [
       "996866"
      ],
      "text/plain": [
       "[1] 996866"
      ]
     },
     "metadata": {},
     "output_type": "display_data"
    }
   ],
   "source": [
    "nrow(ciq_transcript_detail)"
   ]
  },
  {
   "cell_type": "markdown",
   "metadata": {},
   "source": [
    "> Transcript speaker"
   ]
  },
  {
   "cell_type": "code",
   "execution_count": null,
   "metadata": {},
   "outputs": [],
   "source": [
    "library = \"ciq\"\n",
    "dataset = 'wrds_transcript_person'\n",
    "res <- dbSendQuery(wrds, sprintf(\"select * from %s.%s\", library, dataset))\n",
    "ciq_transcript_speaker <- dbFetch(res, n=-1) %>% setDT()\n",
    "dbClearResult(res)\n",
    "ciq_transcript_speaker[1]\n",
    "sv(ciq_transcript_speaker, path=WRDS_DOWNLOAD_DIR)"
   ]
  },
  {
   "cell_type": "code",
   "execution_count": 7,
   "metadata": {},
   "outputs": [
    {
     "data": {
      "text/html": [
       "51917897"
      ],
      "text/latex": [
       "51917897"
      ],
      "text/markdown": [
       "51917897"
      ],
      "text/plain": [
       "[1] 51917897"
      ]
     },
     "metadata": {},
     "output_type": "display_data"
    }
   ],
   "source": [
    "nrow(ciq_transcript_speaker)"
   ]
  },
  {
   "cell_type": "markdown",
   "metadata": {},
   "source": [
    "> Transcript component"
   ]
  },
  {
   "cell_type": "code",
   "execution_count": null,
   "metadata": {},
   "outputs": [],
   "source": [
    "library = \"ciq_transcripts\"\n",
    "dataset = 'ciqtranscriptcomponent'\n",
    "res <- dbSendQuery(wrds, sprintf(\"select * from %s.%s\", library, dataset))\n",
    "ciq_transcript_component <- dbFetch(res, n=-1) %>% setDT()\n",
    "dbClearResult(res)\n",
    "ciq_transcript_component[1]\n",
    "sv(ciq_transcript_component, path=WRDS_DOWNLOAD_DIR)"
   ]
  },
  {
   "cell_type": "markdown",
   "metadata": {},
   "source": [
    "## unit test"
   ]
  },
  {
   "cell_type": "code",
   "execution_count": null,
   "metadata": {
    "scrolled": true
   },
   "outputs": [],
   "source": [
    "# Determine the data libraries available at WRDS\n",
    "res <- dbSendQuery(wrds, \"select distinct table_schema\n",
    "                   from information_schema.tables\n",
    "                   where table_type ='VIEW'\n",
    "                   or table_type ='FOREIGN TABLE'\n",
    "                   order by table_schema\")\n",
    "data <- dbFetch(res, n=-1)\n",
    "dbClearResult(res)\n",
    "print(setDT(data)[, sort(table_schema)])"
   ]
  },
  {
   "cell_type": "code",
   "execution_count": 5,
   "metadata": {
    "scrolled": true
   },
   "outputs": [
    {
     "name": "stdout",
     "output_type": "stream",
     "text": [
      "  [1] \"chars\"                         \"ciqaddress\"                   \n",
      "  [3] \"ciqaddresstype\"                \"ciqadvisortype\"               \n",
      "  [5] \"ciqassessmentdata\"             \"ciqassessmentdatatoqualifier\" \n",
      "  [7] \"ciqassessmentobjectdetail\"     \"ciqassessmenttype\"            \n",
      "  [9] \"ciqassessmentvaluetype\"        \"ciqbusinessdescription\"       \n",
      " [11] \"ciqbusinessdescriptionlong\"    \"ciqcapstdtasrptdclasstype\"    \n",
      " [13] \"ciqcapstdtclasstype\"           \"ciqcapstdtcompntasrptddata\"   \n",
      " [15] \"ciqcapstdtcomponent\"           \"ciqcapstdtconvertibletype\"    \n",
      " [17] \"ciqcapstdtcumulativetype\"      \"ciqcapstdtdescription\"        \n",
      " [19] \"ciqcapstdtintbenchmarktype\"    \"ciqcapstdtinterestrate\"       \n",
      " [21] \"ciqcapstdtintratetype\"         \"ciqcapstdtleveltype\"          \n",
      " [23] \"ciqcapstdtnonrecoursetype\"     \"ciqcapstdtparticipatingtype\"  \n",
      " [25] \"ciqcapstdtredeemabletype\"      \"ciqcapstdtsecuredtype\"        \n",
      " [27] \"ciqcapstdtsubtype\"             \"ciqcapstdttype\"               \n",
      " [29] \"ciqcapsteqauthrzdsharestype\"   \"ciqcapsteqcomponent\"          \n",
      " [31] \"ciqcapsteqcomponentdata\"       \"ciqcapsteqconvertibletype\"    \n",
      " [33] \"ciqcapsteqsubtype\"             \"ciqcapsteqtype\"               \n",
      " [35] \"ciqcapsteqvotingrightstype\"    \"ciqchartype\"                  \n",
      " [37] \"ciqchartypetosubtype\"          \"ciqcommittee\"                 \n",
      " [39] \"ciqcompany\"                    \"ciqcompanyindustrytree\"       \n",
      " [41] \"ciqcompanyrel\"                 \"ciqcompanyreltype\"            \n",
      " [43] \"ciqcompanystatustype\"          \"ciqcompanytype\"               \n",
      " [45] \"ciqcompensation\"               \"ciqcompensationadjustment\"    \n",
      " [47] \"ciqcompensationadjustmenttype\" \"ciqcompensationdetail\"        \n",
      " [49] \"ciqcompensationsubtype\"        \"ciqcompensationtype\"          \n",
      " [51] \"ciqcountry\"                    \"ciqcurrency\"                  \n",
      " [53] \"ciqdataitem\"                   \"ciqdataitembankregulatory\"    \n",
      " [55] \"ciqdataitemconversionrule\"     \"ciqdataitemestimate\"          \n",
      " [57] \"ciqdataitemestimaterel\"        \"ciqdataitemestimatereltype\"   \n",
      " [59] \"ciqdataitemfinancial\"          \"ciqdataitemformulametric\"     \n",
      " [61] \"ciqdataitemgroup\"              \"ciqdataitemgrouptodataitem\"   \n",
      " [63] \"ciqdataitemindex\"              \"ciqdataitemindexlevelval\"     \n",
      " [65] \"ciqdataitemtransaction\"        \"ciqexchange\"                  \n",
      " [67] \"ciqexchangerate\"               \"ciqfinancialdataset\"          \n",
      " [69] \"ciqfincollection\"              \"ciqfincollectiondata\"         \n",
      " [71] \"ciqfindatacollectiontype\"      \"ciqfininstance\"               \n",
      " [73] \"ciqfininstancetocollection\"    \"ciqfininstancetocollecttype\"  \n",
      " [75] \"ciqfininstancetype\"            \"ciqfinperiod\"                 \n",
      " [77] \"ciqfinstatementrestatetype\"    \"ciqfinunittype\"               \n",
      " [79] \"ciqgvkeyiid\"                   \"ciqindextradingitemtype\"      \n",
      " [81] \"ciqindustrychar\"               \"ciqindustrytosic\"             \n",
      " [83] \"ciqindustrytype\"               \"ciqkeydev\"                    \n",
      " [85] \"ciqkeydeveventtype\"            \"ciqkeydevobjectroletype\"      \n",
      " [87] \"ciqkeydevstatus\"               \"ciqkeydevtoobjecttoeventtype\" \n",
      " [89] \"ciqobjecttype\"                 \"ciqperiodtype\"                \n",
      " [91] \"ciqperson\"                     \"ciqpersonbiography\"           \n",
      " [93] \"ciqprofessional\"               \"ciqprofessionalcoverage\"      \n",
      " [95] \"ciqprofunction\"                \"ciqprotoprofunction\"          \n",
      " [97] \"ciqratingcollateraltype\"       \"ciqratingcountry\"             \n",
      " [99] \"ciqratingcoupontype\"           \"ciqratingcurrencytype\"        \n",
      "[101] \"ciqratingdata\"                 \"ciqratingdataitemtype\"        \n",
      "[103] \"ciqratingdatatoqualifier\"      \"ciqratingdebttype\"            \n",
      "[105] \"ciqratingentity\"               \"ciqratingentitydata\"          \n",
      "[107] \"ciqratinginstrument\"           \"ciqratinginstrumentdata\"      \n",
      "[109] \"ciqratinginstrumenttype\"       \"ciqratingobjectdetail\"        \n",
      "[111] \"ciqratingobjecttoentity\"       \"ciqratingorgdebttype\"         \n",
      "[113] \"ciqratingprivateplacementtype\" \"ciqratingprogramtype\"         \n",
      "[115] \"ciqratingqualifiertype\"        \"ciqratingqualifiervaluetype\"  \n",
      "[117] \"ciqratingregion\"               \"ciqratingroletype\"            \n",
      "[119] \"ciqratingsecurity\"             \"ciqratingsecuritydata\"        \n",
      "[121] \"ciqratingstate\"                \"ciqratingsymboltype\"          \n",
      "[123] \"ciqratingtype\"                 \"ciqratingvaluetype\"           \n",
      "[125] \"ciqreportingtemplatetype\"      \"ciqrestatementtype\"           \n",
      "[127] \"ciqsecurity\"                   \"ciqsecuritygroup\"             \n",
      "[129] \"ciqsecuritysubtype\"            \"ciqsecuritytype\"              \n",
      "[131] \"ciqstate\"                      \"ciqsubtype\"                   \n",
      "[133] \"ciqsymbol\"                     \"ciqsymboltype\"                \n",
      "[135] \"ciqtradingitem\"                \"ciqtradingitemstatus\"         \n",
      "[137] \"ciqtransaccountingmethod\"      \"ciqtransaction\"               \n",
      "[139] \"ciqtransactionadvisortype\"     \"ciqtransactionconditiontype\"  \n",
      "[141] \"ciqtransactioncontrolstake\"    \"ciqtransactiondealapproach\"   \n",
      "[143] \"ciqtransactiondealattitude\"    \"ciqtransactionfeetype\"        \n",
      "[145] \"ciqtransactionreltype\"         \"ciqtransactionstaketype\"      \n",
      "[147] \"ciqtransactionstatus\"          \"ciqtransactionstatustype\"     \n",
      "[149] \"ciqtransactiontoadvisor\"       \"ciqtransactiontocompanyrel\"   \n",
      "[151] \"ciqtransactiontocompreltype\"   \"ciqtransactiontype\"           \n",
      "[153] \"ciqtransactionuseofproceeds\"   \"ciqtranscompanyreltype\"       \n",
      "[155] \"ciqtransconsiddetailscenario\"  \"ciqtransconsidstatustype\"     \n",
      "[157] \"ciqtransconsidsubtype\"         \"ciqtransconsidtype\"           \n",
      "[159] \"ciqtranscript\"                 \"ciqtranscriptcollectiontype\"  \n",
      "[161] \"ciqtranscriptcomponent\"        \"ciqtranscriptcomponenttype\"   \n",
      "[163] \"ciqtranscriptdelayreason\"      \"ciqtranscriptdelayreasontype\" \n",
      "[165] \"ciqtranscriptperson\"           \"ciqtranscriptpresentationtype\"\n",
      "[167] \"ciqtranscriptspeakertype\"      \"ciqtransdataitemmapping\"      \n",
      "[169] \"ciqtransfeatures\"              \"ciqtransma\"                   \n",
      "[171] \"ciqtransmaadvisor\"             \"ciqtransmacompanyrel\"         \n",
      "[173] \"ciqtransmaconsiddetail\"        \"ciqtransmaconsideration\"      \n",
      "[175] \"ciqtransmadatabit\"             \"ciqtransmadatadate\"           \n",
      "[177] \"ciqtransmadatafinancial\"       \"ciqtransmadatainteger\"        \n",
      "[179] \"ciqtransmadatanumeric\"         \"ciqtransmadatavarchar\"        \n",
      "[181] \"ciqtransmastatustodate\"        \"ciqtransmatocondition\"        \n",
      "[183] \"ciqtransmatoprimaryfeature\"    \"ciqtransofferdatafinancial\"   \n",
      "[185] \"ciqtransoffering\"              \"ciqtransofferingdatabit\"      \n",
      "[187] \"ciqtransofferingdatadate\"      \"ciqtransofferingdatainteger\"  \n",
      "[189] \"ciqtransofferingdatanumeric\"   \"ciqtransofferingdocuments\"    \n",
      "[191] \"ciqtransofferingfee\"           \"ciqtransofferinglockup\"       \n",
      "[193] \"ciqtransofferingregistration\"  \"ciqtransofferingrel\"          \n",
      "[195] \"ciqtransofferingstatustodate\"  \"ciqtransofferingtoadvisor\"    \n",
      "[197] \"ciqtransofferingtoseller\"      \"ciqtransoffersecuritydetail\"  \n",
      "[199] \"ciqtransoffertoprimaryfeat\"    \"ciqtransoffertotransfeature\"  \n",
      "[201] \"ciqtransoffertouseofproceeds\"  \"ciqtransprimaryfeaturetype\"   \n",
      "[203] \"ciqtranssecuritysubtype\"       \"ciqtranssecuritytype\"         \n",
      "[205] \"ciqvaluetype\"                  \"wrds_cik\"                     \n",
      "[207] \"wrds_compensation\"             \"wrds_compensationdetails\"     \n",
      "[209] \"wrds_consideration_financials\" \"wrds_cusip\"                   \n",
      "[211] \"wrds_debt\"                     \"wrds_enames\"                  \n",
      "[213] \"wrds_equity\"                   \"wrds_erating\"                 \n",
      "[215] \"wrds_gvkey\"                    \"wrds_inames\"                  \n",
      "[217] \"wrds_irating\"                  \"wrds_isin\"                    \n",
      "[219] \"wrds_keydev\"                   \"wrds_offerings\"               \n",
      "[221] \"wrds_offerings_advisors\"       \"wrds_offerings_feat\"          \n",
      "[223] \"wrds_offerings_proceeds\"       \"wrds_offerings_registration\"  \n",
      "[225] \"wrds_offerings_rel\"            \"wrds_professional\"            \n",
      "[227] \"wrds_sassessment\"              \"wrds_snames\"                  \n",
      "[229] \"wrds_srating\"                  \"wrds_summary\"                 \n",
      "[231] \"wrds_ticker\"                   \"wrds_trans_advisors\"          \n",
      "[233] \"wrds_trans_conditions\"         \"wrds_trans_considerations\"    \n",
      "[235] \"wrds_trans_features\"           \"wrds_transactions\"            \n",
      "[237] \"wrds_transcript_detail\"        \"wrds_transcript_person\"       \n"
     ]
    }
   ],
   "source": [
    "# Determine the datasets within a given library\n",
    "library = 'ciq'\n",
    "res <- dbSendQuery(wrds, sprintf(\"select distinct table_name\n",
    "                   from information_schema.columns\n",
    "                   where table_schema='%s'\n",
    "                   order by table_name\", library))\n",
    "data <- dbFetch(res, n=-1)\n",
    "dbClearResult(res)\n",
    "setDT(data)[, sort(table_name)] %>% print()"
   ]
  },
  {
   "cell_type": "code",
   "execution_count": null,
   "metadata": {
    "scrolled": true
   },
   "outputs": [],
   "source": [
    "# Determine the variables (column headers) within a given dataset\n",
    "library = 'ibes'\n",
    "dataset = 'det_epsus'\n",
    "res <- dbSendQuery(wrds, sprintf(\"select column_name\n",
    "                   from information_schema.columns\n",
    "                   where table_schema='%s'\n",
    "                   and table_name='%s'\n",
    "                   order by column_name\", library, dataset))\n",
    "data <- dbFetch(res, n=-1)\n",
    "dbClearResult(res)\n",
    "setDT(data)[, column_name] %>% print()"
   ]
  },
  {
   "cell_type": "code",
   "execution_count": null,
   "metadata": {},
   "outputs": [],
   "source": [
    "# To query the crsp.dsf dataset\n",
    "library = \"ibes\"\n",
    "dataset = 'ptgdet'\n",
    "res <- dbSendQuery(wrds, sprintf(\"select * from %s.%s\", library, dataset))\n",
    "data <- dbFetch(res, n=-1) %>% setDT()\n",
    "dbClearResult(res)\n",
    "nrow(data)"
   ]
  },
  {
   "cell_type": "markdown",
   "metadata": {
    "toc-hr-collapsed": true
   },
   "source": [
    "## I/B/E/S"
   ]
  },
  {
   "cell_type": "markdown",
   "metadata": {},
   "source": [
    "### Detail"
   ]
  },
  {
   "cell_type": "code",
   "execution_count": null,
   "metadata": {},
   "outputs": [],
   "source": [
    "library = 'ibes'\n",
    "dataset = 'det_epsus' # eps\n",
    "# dataset = 'det_xepsus' # non-eps\n",
    "years = 2000:2018\n",
    "\n",
    "for (year in years) {\n",
    "    print(sprintf('Start %s at %s', year, now()))\n",
    "    query = sprintf(\"select * from %s.%s where to_char(anndats,'yyyy')='%s'\", library, dataset, year)\n",
    "    save_name_short = sprintf('%s_%s_%s', library, dataset, year)\n",
    "    save_name_full = sprintf('../data/WRDS-download/%s_%s_%s.rds', library, dataset, year)\n",
    "    \n",
    "    res <- dbSendQuery(wrds, query)\n",
    "    data <- setDT(dbFetch(res, n=-1)); dbClearResult(res)\n",
    "    \n",
    "    assign(save_name_short, data)\n",
    "    sprintf('%s_%s: %s', dataset, year, nrow(data))\n",
    "    saveRDS(data, save_name_full)\n",
    "}"
   ]
  },
  {
   "cell_type": "code",
   "execution_count": 48,
   "metadata": {},
   "outputs": [
    {
     "data": {
      "text/html": [
       "'detu_epsus: 5107651'"
      ],
      "text/latex": [
       "'detu\\_epsus: 5107651'"
      ],
      "text/markdown": [
       "'detu_epsus: 5107651'"
      ],
      "text/plain": [
       "[1] \"detu_epsus: 5107651\""
      ]
     },
     "metadata": {},
     "output_type": "display_data"
    },
    {
     "name": "stdout",
     "output_type": "stream",
     "text": [
      "-ibes_detu_epsus- saved  (22.79 secs)\n"
     ]
    }
   ],
   "source": [
    "library = 'ibes'\n",
    "dataset = 'detu_epsus' # eps\n",
    "# dataset = 'det_xepsus' # non-eps\n",
    "\n",
    "query = sprintf(\"select ticker, estimator, analys, pdf, fpi, value, fpedats, revdats, revtims, anndats, anntims from %s.%s where fpedats between '2000-01-01' and '2018-12-31' and (fpi='6' or fpi='7')\", library, dataset, year)\n",
    "\n",
    "res <- dbSendQuery(wrds, query)\n",
    "ibes_detu_epsus<- setDT(dbFetch(res, n=-1)); dbClearResult(res)\n",
    "\n",
    "sprintf('%s: %s', dataset, nrow(ibes_detu_epsus))\n",
    "sv(ibes_detu_epsus, path=WRDS_DOWNLOAD_DIR)"
   ]
  },
  {
   "cell_type": "markdown",
   "metadata": {},
   "source": [
    "### actuals"
   ]
  },
  {
   "cell_type": "code",
   "execution_count": 69,
   "metadata": {},
   "outputs": [
    {
     "data": {
      "text/html": [
       "'actu_epsus: 480384'"
      ],
      "text/latex": [
       "'actu\\_epsus: 480384'"
      ],
      "text/markdown": [
       "'actu_epsus: 480384'"
      ],
      "text/plain": [
       "[1] \"actu_epsus: 480384\""
      ]
     },
     "metadata": {},
     "output_type": "display_data"
    },
    {
     "name": "stdout",
     "output_type": "stream",
     "text": [
      "-ibes_actu_epsus- saved  (0.82 secs)\n"
     ]
    },
    {
     "data": {
      "text/html": [
       "<table>\n",
       "<thead><tr><th scope=col>ticker</th><th scope=col>repdats</th><th scope=col>act</th><th scope=col>fpedats</th><th scope=col>pdicity</th></tr></thead>\n",
       "<tbody>\n",
       "\t<tr><td>0000      </td><td>2014-02-14</td><td>NA        </td><td>2012-12-31</td><td>QTR       </td></tr>\n",
       "</tbody>\n",
       "</table>\n"
      ],
      "text/latex": [
       "\\begin{tabular}{r|lllll}\n",
       " ticker & repdats & act & fpedats & pdicity\\\\\n",
       "\\hline\n",
       "\t 0000       & 2014-02-14 & NA         & 2012-12-31 & QTR       \\\\\n",
       "\\end{tabular}\n"
      ],
      "text/markdown": [
       "\n",
       "| ticker | repdats | act | fpedats | pdicity |\n",
       "|---|---|---|---|---|\n",
       "| 0000       | 2014-02-14 | NA         | 2012-12-31 | QTR        |\n",
       "\n"
      ],
      "text/plain": [
       "  ticker repdats    act fpedats    pdicity\n",
       "1 0000   2014-02-14 NA  2012-12-31 QTR    "
      ]
     },
     "metadata": {},
     "output_type": "display_data"
    }
   ],
   "source": [
    "library = 'ibes'\n",
    "dataset = 'actu_epsus' \n",
    "\n",
    "query = sprintf(\"select ticker, anndats as repdats, value as act, pends as fpedats, pdicity from %s.%s where pends between '2000-01-01' and '2018-12-31' and pdicity='QTR'\", library, dataset, year)\n",
    "\n",
    "res <- dbSendQuery(wrds, query)\n",
    "ibes_actu_epsus<- setDT(dbFetch(res, n=-1)); dbClearResult(res)\n",
    "\n",
    "sprintf('%s: %s', dataset, nrow(ibes_actu_epsus))\n",
    "sv(ibes_actu_epsus, path=WRDS_DOWNLOAD_DIR)\n",
    "ibes_actu_epsus[1]"
   ]
  },
  {
   "cell_type": "markdown",
   "metadata": {},
   "source": [
    "### Summary"
   ]
  },
  {
   "cell_type": "code",
   "execution_count": 9,
   "metadata": {},
   "outputs": [
    {
     "name": "stdout",
     "output_type": "stream",
     "text": [
      "-statsum_epsus- saved  (43.43 secs)\n"
     ]
    }
   ],
   "source": [
    "library = 'ibes'\n",
    "dataset = 'statsum_epsus' # summary eps\n",
    "query = sprintf(\"select * from %s.%s\", library, dataset)\n",
    "\n",
    "res <- dbSendQuery(wrds, query)\n",
    "ibes_statsum_epsus <- setDT(dbFetch(res, n=-1)); dbClearResult(res)\n",
    "\n",
    "ibes_statsum_epsus[1]\n",
    "sv(ibes_statsum_epsus, path=WRDS_DOWNLOAD_DIR)"
   ]
  },
  {
   "cell_type": "code",
   "execution_count": null,
   "metadata": {},
   "outputs": [],
   "source": [
    "library = 'ibes'\n",
    "dataset = 'statsum_xepsus' # summary xeps\n",
    "\n",
    "query = sprintf(\"select * from %s.%s\", library, dataset)\n",
    "res <- dbSendQuery(wrds, query)\n",
    "ibes_statsum_xepsus <- setDT(dbFetch(res, n=-1)); dbClearResult(res)\n",
    "ibes_statsum_xepsus[1]\n",
    "sv(ibes_statsum_xepsus, path=WRDS_DOWNLOAD_DIR)"
   ]
  },
  {
   "cell_type": "markdown",
   "metadata": {},
   "source": [
    "### Surprise"
   ]
  },
  {
   "cell_type": "code",
   "execution_count": null,
   "metadata": {},
   "outputs": [],
   "source": [
    "library = 'ibes'\n",
    "dataset = 'surpsum' # summary surprise \n",
    "\n",
    "query = sprintf(\"select * from %s.%s\", library, dataset)\n",
    "res <- dbSendQuery(wrds, query)\n",
    "ibes_surpsum <- setDT(dbFetch(res, n=-1)); dbClearResult(res)\n",
    "ibes_surpsum[1]\n",
    "sv(ibes_surpsum, path=WRDS_DOWNLOAD_DIR)"
   ]
  },
  {
   "cell_type": "markdown",
   "metadata": {},
   "source": [
    "## price target"
   ]
  },
  {
   "cell_type": "code",
   "execution_count": null,
   "metadata": {},
   "outputs": [],
   "source": [
    "library = \"ibes\"\n",
    "dataset = 'ptgdet'\n",
    "res <- dbSendQuery(wrds, sprintf(\"select * from %s.%s\", library, dataset))\n",
    "ptgdet <- dbFetch(res, n=-1) %>% setDT()\n",
    "dbClearResult(res)\n",
    "sv(ptgdet, path='/data/WRDS-download')"
   ]
  },
  {
   "cell_type": "code",
   "execution_count": 6,
   "metadata": {},
   "outputs": [
    {
     "data": {
      "text/html": [
       "5245752"
      ],
      "text/latex": [
       "5245752"
      ],
      "text/markdown": [
       "5245752"
      ],
      "text/plain": [
       "[1] 5245752"
      ]
     },
     "metadata": {},
     "output_type": "display_data"
    }
   ],
   "source": [
    "nrow(ptgdet)"
   ]
  },
  {
   "cell_type": "code",
   "execution_count": 5,
   "metadata": {},
   "outputs": [
    {
     "data": {
      "text/html": [
       "<table>\n",
       "<thead><tr><th scope=col>ticker</th><th scope=col>cusip</th><th scope=col>oftic</th><th scope=col>cname</th><th scope=col>actdats</th><th scope=col>estimid</th><th scope=col>alysnam</th><th scope=col>horizon</th><th scope=col>value</th><th scope=col>estcur</th><th scope=col>curr</th><th scope=col>amaskcd</th><th scope=col>usfirm</th><th scope=col>measure</th><th scope=col>acttims</th><th scope=col>anndats</th><th scope=col>anntims</th></tr></thead>\n",
       "<tbody>\n",
       "\t<tr><td>0000          </td><td>87482X10      </td><td>TLMR          </td><td>TALMER BANCORP</td><td>2014-03-10    </td><td>PRMDN082      </td><td>PERMDENIED    </td><td>12            </td><td>16            </td><td>USD           </td><td>USD           </td><td>538750        </td><td>1             </td><td>PTG           </td><td>32043         </td><td>2014-03-10    </td><td>1200          </td></tr>\n",
       "</tbody>\n",
       "</table>\n"
      ],
      "text/latex": [
       "\\begin{tabular}{r|lllllllllllllllll}\n",
       " ticker & cusip & oftic & cname & actdats & estimid & alysnam & horizon & value & estcur & curr & amaskcd & usfirm & measure & acttims & anndats & anntims\\\\\n",
       "\\hline\n",
       "\t 0000           & 87482X10       & TLMR           & TALMER BANCORP & 2014-03-10     & PRMDN082       & PERMDENIED     & 12             & 16             & USD            & USD            & 538750         & 1              & PTG            & 32043          & 2014-03-10     & 1200          \\\\\n",
       "\\end{tabular}\n"
      ],
      "text/markdown": [
       "\n",
       "| ticker | cusip | oftic | cname | actdats | estimid | alysnam | horizon | value | estcur | curr | amaskcd | usfirm | measure | acttims | anndats | anntims |\n",
       "|---|---|---|---|---|---|---|---|---|---|---|---|---|---|---|---|---|\n",
       "| 0000           | 87482X10       | TLMR           | TALMER BANCORP | 2014-03-10     | PRMDN082       | PERMDENIED     | 12             | 16             | USD            | USD            | 538750         | 1              | PTG            | 32043          | 2014-03-10     | 1200           |\n",
       "\n"
      ],
      "text/plain": [
       "  ticker cusip    oftic cname          actdats    estimid  alysnam    horizon\n",
       "1 0000   87482X10 TLMR  TALMER BANCORP 2014-03-10 PRMDN082 PERMDENIED 12     \n",
       "  value estcur curr amaskcd usfirm measure acttims anndats    anntims\n",
       "1 16    USD    USD  538750  1      PTG     32043   2014-03-10 1200   "
      ]
     },
     "metadata": {},
     "output_type": "display_data"
    }
   ],
   "source": [
    "ptgdet[1]"
   ]
  },
  {
   "cell_type": "markdown",
   "metadata": {},
   "source": [
    "## recommend"
   ]
  },
  {
   "cell_type": "code",
   "execution_count": null,
   "metadata": {},
   "outputs": [],
   "source": [
    "library = 'ibes'\n",
    "dataset = 'recddet'\n",
    "res <- dbSendQuery(wrds, sprintf(\"select * from %s.%s\", library, dataset))\n",
    "recddet <- dbFetch(res, n=-1) %>% setDT()\n",
    "dbClearResult(res)\n",
    "sv(recddet, path='/data/WRDS-download')"
   ]
  },
  {
   "cell_type": "code",
   "execution_count": 7,
   "metadata": {},
   "outputs": [
    {
     "data": {
      "text/html": [
       "2812735"
      ],
      "text/latex": [
       "2812735"
      ],
      "text/markdown": [
       "2812735"
      ],
      "text/plain": [
       "[1] 2812735"
      ]
     },
     "metadata": {},
     "output_type": "display_data"
    }
   ],
   "source": [
    "nrow(recddet)"
   ]
  },
  {
   "cell_type": "code",
   "execution_count": 8,
   "metadata": {},
   "outputs": [
    {
     "data": {
      "text/html": [
       "<table>\n",
       "<thead><tr><th scope=col>ticker</th><th scope=col>cusip</th><th scope=col>cname</th><th scope=col>oftic</th><th scope=col>actdats</th><th scope=col>estimid</th><th scope=col>analyst</th><th scope=col>ereccd</th><th scope=col>etext</th><th scope=col>ireccd</th><th scope=col>itext</th><th scope=col>emaskcd</th><th scope=col>amaskcd</th><th scope=col>usfirm</th><th scope=col>acttims</th><th scope=col>revdats</th><th scope=col>revtims</th><th scope=col>anndats</th><th scope=col>anntims</th></tr></thead>\n",
       "<tbody>\n",
       "\t<tr><td>0000          </td><td>87482X10      </td><td>TALMER BANCORP</td><td>TLMR          </td><td>2014-03-10    </td><td>PRMDN082      </td><td>PERMDENIED    </td><td>2             </td><td>OUTPERFORM    </td><td>2             </td><td>BUY           </td><td>50659         </td><td>538750        </td><td>1             </td><td>32043         </td><td>2016-01-26    </td><td>34552         </td><td>2014-03-10    </td><td>1200          </td></tr>\n",
       "</tbody>\n",
       "</table>\n"
      ],
      "text/latex": [
       "\\begin{tabular}{r|lllllllllllllllllll}\n",
       " ticker & cusip & cname & oftic & actdats & estimid & analyst & ereccd & etext & ireccd & itext & emaskcd & amaskcd & usfirm & acttims & revdats & revtims & anndats & anntims\\\\\n",
       "\\hline\n",
       "\t 0000           & 87482X10       & TALMER BANCORP & TLMR           & 2014-03-10     & PRMDN082       & PERMDENIED     & 2              & OUTPERFORM     & 2              & BUY            & 50659          & 538750         & 1              & 32043          & 2016-01-26     & 34552          & 2014-03-10     & 1200          \\\\\n",
       "\\end{tabular}\n"
      ],
      "text/markdown": [
       "\n",
       "| ticker | cusip | cname | oftic | actdats | estimid | analyst | ereccd | etext | ireccd | itext | emaskcd | amaskcd | usfirm | acttims | revdats | revtims | anndats | anntims |\n",
       "|---|---|---|---|---|---|---|---|---|---|---|---|---|---|---|---|---|---|---|\n",
       "| 0000           | 87482X10       | TALMER BANCORP | TLMR           | 2014-03-10     | PRMDN082       | PERMDENIED     | 2              | OUTPERFORM     | 2              | BUY            | 50659          | 538750         | 1              | 32043          | 2016-01-26     | 34552          | 2014-03-10     | 1200           |\n",
       "\n"
      ],
      "text/plain": [
       "  ticker cusip    cname          oftic actdats    estimid  analyst    ereccd\n",
       "1 0000   87482X10 TALMER BANCORP TLMR  2014-03-10 PRMDN082 PERMDENIED 2     \n",
       "  etext      ireccd itext emaskcd amaskcd usfirm acttims revdats    revtims\n",
       "1 OUTPERFORM 2      BUY   50659   538750  1      32043   2016-01-26 34552  \n",
       "  anndats    anntims\n",
       "1 2014-03-10 1200   "
      ]
     },
     "metadata": {},
     "output_type": "display_data"
    }
   ],
   "source": [
    "recddet[1]"
   ]
  },
  {
   "cell_type": "markdown",
   "metadata": {},
   "source": [
    "## stock price"
   ]
  },
  {
   "cell_type": "code",
   "execution_count": null,
   "metadata": {
    "scrolled": true
   },
   "outputs": [],
   "source": [
    "library = 'comp'\n",
    "dataset = 'secd' # factors\n",
    "years = 2000:2018\n",
    "\n",
    "system.time({\n",
    "secd = list()\n",
    "for (year in years) {\n",
    "    print(sprintf('Start %s at %s', year, now()))\n",
    "    query = sprintf(\"select * from %s.%s where to_char(datadate,'yyyy')='%s'\", library, dataset, year)\n",
    "\n",
    "    res <- dbSendQuery(wrds, query)\n",
    "    data <- setDT(dbFetch(res, n=-1)); dbClearResult(res)\n",
    "    \n",
    "    print(sprintf('%s_%s: %s obs', dataset, year, nrow(data)))\n",
    "    secd[[as.character(year)]] = data\n",
    "}\n",
    "secd = rbindlist(secd, use=T)\n",
    "})\n",
    "sv(secd, path=WRDS_DOWNLOAD_DIR)"
   ]
  },
  {
   "cell_type": "markdown",
   "metadata": {},
   "source": [
    "Download `CRSP`\n",
    "It's *deprecated*!"
   ]
  },
  {
   "cell_type": "code",
   "execution_count": null,
   "metadata": {
    "scrolled": true
   },
   "outputs": [],
   "source": [
    "library = 'crspq'\n",
    "dataset = 'dsf' # factors\n",
    "years = 2001:2018\n",
    "\n",
    "for (year in years) {\n",
    "    print(sprintf('Start %s at %s', year, now()))\n",
    "    query = sprintf(\"select * from %s.%s where to_char(date,'yyyy')='%s'\", library, dataset, year)\n",
    "    save_name_short = sprintf('%s_%s', dataset, year)\n",
    "    save_name_full = sprintf('../data/WRDS-download/%s_%s.rds', dataset, year)\n",
    "\n",
    "    res <- dbSendQuery(wrds, query)\n",
    "    data <- setDT(dbFetch(res, n=-1)); dbClearResult(res)\n",
    "    \n",
    "    sprintf('%s_%s: %s', dataset, year, nrow(data))\n",
    "    assign(save_name_short, data)\n",
    "    saveRDS(data, save_name_full)\n",
    "}"
   ]
  },
  {
   "cell_type": "code",
   "execution_count": 31,
   "metadata": {},
   "outputs": [
    {
     "name": "stdout",
     "output_type": "stream",
     "text": [
      "-dsf_2001- loaded  (1.11 secs)\n"
     ]
    }
   ],
   "source": [
    "ld(dsf_2001, path=WRDS_DOWNLOAD_DIR)"
   ]
  },
  {
   "cell_type": "code",
   "execution_count": 32,
   "metadata": {},
   "outputs": [
    {
     "data": {
      "text/html": [
       "<table>\n",
       "<thead><tr><th scope=col>cusip</th><th scope=col>permno</th><th scope=col>permco</th><th scope=col>issuno</th><th scope=col>hexcd</th><th scope=col>hsiccd</th><th scope=col>date</th><th scope=col>bidlo</th><th scope=col>askhi</th><th scope=col>prc</th><th scope=col>vol</th><th scope=col>ret</th><th scope=col>bid</th><th scope=col>ask</th><th scope=col>shrout</th><th scope=col>cfacpr</th><th scope=col>cfacshr</th><th scope=col>openprc</th><th scope=col>numtrd</th><th scope=col>retx</th></tr></thead>\n",
       "<tbody>\n",
       "\t<tr><td>36720410  </td><td>10001     </td><td>7953      </td><td>10398     </td><td>2         </td><td>4925      </td><td>2001-01-02</td><td>9.3125    </td><td>9.875     </td><td>9.875     </td><td>3849      </td><td>0.01282051</td><td>9.5       </td><td>9.875     </td><td>2498      </td><td>1.5       </td><td>1.5       </td><td>9.3125    </td><td>9         </td><td>0.01282051</td></tr>\n",
       "</tbody>\n",
       "</table>\n"
      ],
      "text/latex": [
       "\\begin{tabular}{r|llllllllllllllllllll}\n",
       " cusip & permno & permco & issuno & hexcd & hsiccd & date & bidlo & askhi & prc & vol & ret & bid & ask & shrout & cfacpr & cfacshr & openprc & numtrd & retx\\\\\n",
       "\\hline\n",
       "\t 36720410   & 10001      & 7953       & 10398      & 2          & 4925       & 2001-01-02 & 9.3125     & 9.875      & 9.875      & 3849       & 0.01282051 & 9.5        & 9.875      & 2498       & 1.5        & 1.5        & 9.3125     & 9          & 0.01282051\\\\\n",
       "\\end{tabular}\n"
      ],
      "text/markdown": [
       "\n",
       "| cusip | permno | permco | issuno | hexcd | hsiccd | date | bidlo | askhi | prc | vol | ret | bid | ask | shrout | cfacpr | cfacshr | openprc | numtrd | retx |\n",
       "|---|---|---|---|---|---|---|---|---|---|---|---|---|---|---|---|---|---|---|---|\n",
       "| 36720410   | 10001      | 7953       | 10398      | 2          | 4925       | 2001-01-02 | 9.3125     | 9.875      | 9.875      | 3849       | 0.01282051 | 9.5        | 9.875      | 2498       | 1.5        | 1.5        | 9.3125     | 9          | 0.01282051 |\n",
       "\n"
      ],
      "text/plain": [
       "  cusip    permno permco issuno hexcd hsiccd date       bidlo  askhi prc   vol \n",
       "1 36720410 10001  7953   10398  2     4925   2001-01-02 9.3125 9.875 9.875 3849\n",
       "  ret        bid ask   shrout cfacpr cfacshr openprc numtrd retx      \n",
       "1 0.01282051 9.5 9.875 2498   1.5    1.5     9.3125  9      0.01282051"
      ]
     },
     "metadata": {},
     "output_type": "display_data"
    }
   ],
   "source": [
    "dsf_2001[1]"
   ]
  },
  {
   "cell_type": "markdown",
   "metadata": {},
   "source": [
    "## factors"
   ]
  },
  {
   "cell_type": "code",
   "execution_count": 7,
   "metadata": {},
   "outputs": [
    {
     "data": {
      "text/html": [
       "'factors_daily: 1860532'"
      ],
      "text/latex": [
       "'factors\\_daily: 1860532'"
      ],
      "text/markdown": [
       "'factors_daily: 1860532'"
      ],
      "text/plain": [
       "[1] \"factors_daily: 1860532\""
      ]
     },
     "metadata": {},
     "output_type": "display_data"
    },
    {
     "name": "stdout",
     "output_type": "stream",
     "text": [
      "-factors- saved  (0.09 secs)\n"
     ]
    }
   ],
   "source": [
    "library = 'ff'\n",
    "dataset = 'factors_daily' # factors\n",
    "\n",
    "query = sprintf(\"select * from %s.%s\", library, dataset)\n",
    "res <- dbSendQuery(wrds, query)\n",
    "factors <- setDT(dbFetch(res, n=-1)); dbClearResult(res)\n",
    "sprintf('%s: %s', dataset, nrow(data))\n",
    "sv(factors, path='/data/WRDS-download')"
   ]
  },
  {
   "cell_type": "code",
   "execution_count": 6,
   "metadata": {},
   "outputs": [
    {
     "data": {
      "text/html": [
       "<table>\n",
       "<thead><tr><th scope=col>date</th><th scope=col>mktrf</th><th scope=col>smb</th><th scope=col>hml</th><th scope=col>rf</th><th scope=col>umd</th></tr></thead>\n",
       "<tbody>\n",
       "\t<tr><td>1926-07-01</td><td>0.001     </td><td>-0.0024   </td><td>-0.0028   </td><td>9e-05     </td><td>NA        </td></tr>\n",
       "</tbody>\n",
       "</table>\n"
      ],
      "text/latex": [
       "\\begin{tabular}{r|llllll}\n",
       " date & mktrf & smb & hml & rf & umd\\\\\n",
       "\\hline\n",
       "\t 1926-07-01 & 0.001      & -0.0024    & -0.0028    & 9e-05      & NA        \\\\\n",
       "\\end{tabular}\n"
      ],
      "text/markdown": [
       "\n",
       "| date | mktrf | smb | hml | rf | umd |\n",
       "|---|---|---|---|---|---|\n",
       "| 1926-07-01 | 0.001      | -0.0024    | -0.0028    | 9e-05      | NA         |\n",
       "\n"
      ],
      "text/plain": [
       "  date       mktrf smb     hml     rf    umd\n",
       "1 1926-07-01 0.001 -0.0024 -0.0028 9e-05 NA "
      ]
     },
     "metadata": {},
     "output_type": "display_data"
    }
   ],
   "source": [
    "factors[1]"
   ]
  },
  {
   "cell_type": "markdown",
   "metadata": {
    "toc-hr-collapsed": true
   },
   "source": [
    "## firm-id"
   ]
  },
  {
   "cell_type": "markdown",
   "metadata": {},
   "source": [
    "### `ibes.id`"
   ]
  },
  {
   "cell_type": "code",
   "execution_count": 4,
   "metadata": {},
   "outputs": [
    {
     "data": {
      "text/html": [
       "'nrow: 86242'"
      ],
      "text/latex": [
       "'nrow: 86242'"
      ],
      "text/markdown": [
       "'nrow: 86242'"
      ],
      "text/plain": [
       "[1] \"nrow: 86242\""
      ]
     },
     "metadata": {},
     "output_type": "display_data"
    },
    {
     "name": "stdout",
     "output_type": "stream",
     "text": [
      "-ibes_id- saved  (0.15 secs)\n"
     ]
    },
    {
     "data": {
      "text/html": [
       "'id: 240098'"
      ],
      "text/latex": [
       "'id: 240098'"
      ],
      "text/markdown": [
       "'id: 240098'"
      ],
      "text/plain": [
       "[1] \"id: 240098\""
      ]
     },
     "metadata": {},
     "output_type": "display_data"
    },
    {
     "data": {
      "text/html": [
       "<table>\n",
       "<thead><tr><th scope=col>ticker</th><th scope=col>cusip</th><th scope=col>cname</th><th scope=col>oftic</th><th scope=col>sdates</th></tr></thead>\n",
       "<tbody>\n",
       "\t<tr><td>0000          </td><td>87482X10      </td><td>TALMER BANCORP</td><td>TLMR          </td><td>2014-02-20    </td></tr>\n",
       "</tbody>\n",
       "</table>\n"
      ],
      "text/latex": [
       "\\begin{tabular}{r|lllll}\n",
       " ticker & cusip & cname & oftic & sdates\\\\\n",
       "\\hline\n",
       "\t 0000           & 87482X10       & TALMER BANCORP & TLMR           & 2014-02-20    \\\\\n",
       "\\end{tabular}\n"
      ],
      "text/markdown": [
       "\n",
       "| ticker | cusip | cname | oftic | sdates |\n",
       "|---|---|---|---|---|\n",
       "| 0000           | 87482X10       | TALMER BANCORP | TLMR           | 2014-02-20     |\n",
       "\n"
      ],
      "text/plain": [
       "  ticker cusip    cname          oftic sdates    \n",
       "1 0000   87482X10 TALMER BANCORP TLMR  2014-02-20"
      ]
     },
     "metadata": {},
     "output_type": "display_data"
    },
    {
     "name": "stdout",
     "output_type": "stream",
     "text": [
      "-ibes_id2- saved  (0.54 secs)\n"
     ]
    }
   ],
   "source": [
    "library = 'ibes'\n",
    "dataset = 'id' # firm names\n",
    "\n",
    "query = sprintf(\"select ticker, cusip, cname, sdates from %s.%s where usfirm=1 and cusip != ''\", library, dataset)\n",
    "res <- dbSendQuery(wrds, query)\n",
    "ibes_id <- setDT(dbFetch(res, n=-1)); dbClearResult(res)\n",
    "sprintf('nrow: %s', nrow(ibes_id))\n",
    "sv(ibes_id, path=WRDS_DOWNLOAD_DIR)\n",
    "\n",
    "query = sprintf(\"select ticker, cusip, cname, oftic, sdates from %s.%s\", library, dataset)\n",
    "res <- dbSendQuery(wrds, query)\n",
    "ibes_id2 <- setDT(dbFetch(res, n=-1)); dbClearResult(res)\n",
    "sprintf('%s: %s', dataset, nrow(ibes_id2))\n",
    "\n",
    "ibes_id2[1]\n",
    "sv(ibes_id2, path=WRDS_DOWNLOAD_DIR)"
   ]
  },
  {
   "cell_type": "markdown",
   "metadata": {},
   "source": [
    "### `comp.security`"
   ]
  },
  {
   "cell_type": "code",
   "execution_count": 391,
   "metadata": {},
   "outputs": [
    {
     "data": {
      "text/html": [
       "'security: 58376'"
      ],
      "text/latex": [
       "'security: 58376'"
      ],
      "text/markdown": [
       "'security: 58376'"
      ],
      "text/plain": [
       "[1] \"security: 58376\""
      ]
     },
     "metadata": {},
     "output_type": "display_data"
    },
    {
     "data": {
      "text/html": [
       "<table>\n",
       "<thead><tr><th scope=col>tic</th><th scope=col>gvkey</th><th scope=col>iid</th><th scope=col>cusip</th><th scope=col>dlrsni</th><th scope=col>dsci</th><th scope=col>epf</th><th scope=col>exchg</th><th scope=col>excntry</th><th scope=col>ibtic</th><th scope=col>isin</th><th scope=col>secstat</th><th scope=col>sedol</th><th scope=col>tpci</th><th scope=col>dldtei</th></tr></thead>\n",
       "<tbody>\n",
       "\t<tr><td>AE.2      </td><td>001000    </td><td>01        </td><td>000032102 </td><td>09        </td><td>COM USD1  </td><td>NA        </td><td>12        </td><td>USA       </td><td>NA        </td><td>NA        </td><td>I         </td><td>NA        </td><td>0         </td><td>1978-06-30</td></tr>\n",
       "</tbody>\n",
       "</table>\n"
      ],
      "text/latex": [
       "\\begin{tabular}{r|lllllllllllllll}\n",
       " tic & gvkey & iid & cusip & dlrsni & dsci & epf & exchg & excntry & ibtic & isin & secstat & sedol & tpci & dldtei\\\\\n",
       "\\hline\n",
       "\t AE.2       & 001000     & 01         & 000032102  & 09         & COM USD1   & NA         & 12         & USA        & NA         & NA         & I          & NA         & 0          & 1978-06-30\\\\\n",
       "\\end{tabular}\n"
      ],
      "text/markdown": [
       "\n",
       "| tic | gvkey | iid | cusip | dlrsni | dsci | epf | exchg | excntry | ibtic | isin | secstat | sedol | tpci | dldtei |\n",
       "|---|---|---|---|---|---|---|---|---|---|---|---|---|---|---|\n",
       "| AE.2       | 001000     | 01         | 000032102  | 09         | COM USD1   | NA         | 12         | USA        | NA         | NA         | I          | NA         | 0          | 1978-06-30 |\n",
       "\n"
      ],
      "text/plain": [
       "  tic  gvkey  iid cusip     dlrsni dsci     epf exchg excntry ibtic isin\n",
       "1 AE.2 001000 01  000032102 09     COM USD1 NA  12    USA     NA    NA  \n",
       "  secstat sedol tpci dldtei    \n",
       "1 I       NA    0    1978-06-30"
      ]
     },
     "metadata": {},
     "output_type": "display_data"
    },
    {
     "name": "stdout",
     "output_type": "stream",
     "text": [
      "-comp_security- saved  (0.34 secs)\n"
     ]
    }
   ],
   "source": [
    "library = 'compm'\n",
    "dataset = 'security' # firm names\n",
    "\n",
    "query = sprintf(\"select * from %s.%s\", library, dataset)\n",
    "res <- dbSendQuery(wrds, query)\n",
    "comp_security <- setDT(dbFetch(res, n=-1)); dbClearResult(res)\n",
    "sprintf('%s: %s', dataset, nrow(comp_security))\n",
    "\n",
    "comp_security[1]\n",
    "sv(comp_security, path=WRDS_DOWNLOAD_DIR)"
   ]
  },
  {
   "cell_type": "markdown",
   "metadata": {},
   "source": [
    "### `ciq.wrds_gvkey`"
   ]
  },
  {
   "cell_type": "code",
   "execution_count": 33,
   "metadata": {},
   "outputs": [
    {
     "data": {
      "text/html": [
       "'wrds_gvkey: 111883'"
      ],
      "text/latex": [
       "'wrds\\_gvkey: 111883'"
      ],
      "text/markdown": [
       "'wrds_gvkey: 111883'"
      ],
      "text/plain": [
       "[1] \"wrds_gvkey: 111883\""
      ]
     },
     "metadata": {},
     "output_type": "display_data"
    },
    {
     "data": {
      "text/html": [
       "<table>\n",
       "<thead><tr><th scope=col>companyid</th><th scope=col>gvkey</th><th scope=col>startdate</th><th scope=col>enddate</th><th scope=col>companyname</th></tr></thead>\n",
       "<tbody>\n",
       "\t<tr><td>18507        </td><td>235716       </td><td>NA           </td><td>NA           </td><td>2M Invest A/S</td></tr>\n",
       "</tbody>\n",
       "</table>\n"
      ],
      "text/latex": [
       "\\begin{tabular}{r|lllll}\n",
       " companyid & gvkey & startdate & enddate & companyname\\\\\n",
       "\\hline\n",
       "\t 18507         & 235716        & NA            & NA            & 2M Invest A/S\\\\\n",
       "\\end{tabular}\n"
      ],
      "text/markdown": [
       "\n",
       "| companyid | gvkey | startdate | enddate | companyname |\n",
       "|---|---|---|---|---|\n",
       "| 18507         | 235716        | NA            | NA            | 2M Invest A/S |\n",
       "\n"
      ],
      "text/plain": [
       "  companyid gvkey  startdate enddate companyname  \n",
       "1 18507     235716 <NA>      <NA>    2M Invest A/S"
      ]
     },
     "metadata": {},
     "output_type": "display_data"
    },
    {
     "name": "stdout",
     "output_type": "stream",
     "text": [
      "-ciq_wrds_gvkey- saved  (0.45 secs)\n"
     ]
    }
   ],
   "source": [
    "library = 'ciq'\n",
    "dataset = 'wrds_gvkey' # firm names\n",
    "\n",
    "query = sprintf(\"select * from %s.%s\", library, dataset)\n",
    "res <- dbSendQuery(wrds, query)\n",
    "ciq_wrds_gvkey <- setDT(dbFetch(res, n=-1)); dbClearResult(res)\n",
    "sprintf('%s: %s', dataset, nrow(ciq_wrds_gvkey))\n",
    "\n",
    "ciq_wrds_gvkey[1]\n",
    "sv(ciq_wrds_gvkey, path=WRDS_DOWNLOAD_DIR)"
   ]
  },
  {
   "cell_type": "markdown",
   "metadata": {},
   "source": [
    "### `crsp.stocknames`"
   ]
  },
  {
   "cell_type": "code",
   "execution_count": 88,
   "metadata": {},
   "outputs": [
    {
     "data": {
      "text/html": [
       "'stocknames: 55738'"
      ],
      "text/latex": [
       "'stocknames: 55738'"
      ],
      "text/markdown": [
       "'stocknames: 55738'"
      ],
      "text/plain": [
       "[1] \"stocknames: 55738\""
      ]
     },
     "metadata": {},
     "output_type": "display_data"
    },
    {
     "data": {
      "text/html": [
       "<table>\n",
       "<thead><tr><th scope=col>permno</th><th scope=col>ncusip</th><th scope=col>comnam</th><th scope=col>namedt</th><th scope=col>nameenddt</th></tr></thead>\n",
       "<tbody>\n",
       "\t<tr><td>10000                    </td><td>68391610                 </td><td>OPTIMUM MANUFACTURING INC</td><td>1986-01-07               </td><td>1987-06-11               </td></tr>\n",
       "</tbody>\n",
       "</table>\n"
      ],
      "text/latex": [
       "\\begin{tabular}{r|lllll}\n",
       " permno & ncusip & comnam & namedt & nameenddt\\\\\n",
       "\\hline\n",
       "\t 10000                     & 68391610                  & OPTIMUM MANUFACTURING INC & 1986-01-07                & 1987-06-11               \\\\\n",
       "\\end{tabular}\n"
      ],
      "text/markdown": [
       "\n",
       "| permno | ncusip | comnam | namedt | nameenddt |\n",
       "|---|---|---|---|---|\n",
       "| 10000                     | 68391610                  | OPTIMUM MANUFACTURING INC | 1986-01-07                | 1987-06-11                |\n",
       "\n"
      ],
      "text/plain": [
       "  permno ncusip   comnam                    namedt     nameenddt \n",
       "1 10000  68391610 OPTIMUM MANUFACTURING INC 1986-01-07 1987-06-11"
      ]
     },
     "metadata": {},
     "output_type": "display_data"
    },
    {
     "name": "stdout",
     "output_type": "stream",
     "text": [
      "-crsp_stocknames- saved  (0.17 secs)\n"
     ]
    }
   ],
   "source": [
    "library = 'crsp'\n",
    "dataset = 'stocknames' # firm names\n",
    "\n",
    "query = sprintf(\"select permno, ncusip, comnam, namedt, nameenddt from %s.%s where ncusip != ''\", library, dataset)\n",
    "res <- dbSendQuery(wrds, query)\n",
    "crsp_stocknames <- setDT(dbFetch(res, n=-1)); dbClearResult(res)\n",
    "sprintf('nrow: %s', nrow(crsp_stocknames))\n",
    "sv(crsp_stocknames, path=WRDS_DOWNLOAD_DIR)\n",
    "\n",
    "query = sprintf(\"select ticker, comnam, permno, ncusip, namedt, nameenddt from %s.%s\", library, dataset)\n",
    "res <- dbSendQuery(wrds, query)\n",
    "crsp_stocknames2 <- setDT(dbFetch(res, n=-1)); dbClearResult(res)\n",
    "sprintf('nrow: %s', nrow(crsp_stocknames2))\n",
    "crsp_stocknames2[1]\n",
    "sv(crsp_stocknames2, path=WRDS_DOWNLOAD_DIR)"
   ]
  },
  {
   "cell_type": "markdown",
   "metadata": {},
   "source": [
    "### `crsp.ccm`"
   ]
  },
  {
   "cell_type": "code",
   "execution_count": 22,
   "metadata": {},
   "outputs": [
    {
     "data": {
      "text/html": [
       "'nrow: 32235'"
      ],
      "text/latex": [
       "'nrow: 32235'"
      ],
      "text/markdown": [
       "'nrow: 32235'"
      ],
      "text/plain": [
       "[1] \"nrow: 32235\""
      ]
     },
     "metadata": {},
     "output_type": "display_data"
    },
    {
     "name": "stdout",
     "output_type": "stream",
     "text": [
      "-crsp_ccmlink- saved  (0.13 secs)\n"
     ]
    },
    {
     "data": {
      "text/html": [
       "<table>\n",
       "<thead><tr><th scope=col>gvkey</th><th scope=col>permco</th><th scope=col>permno</th><th scope=col>linkdt</th><th scope=col>linkenddt</th></tr></thead>\n",
       "<tbody>\n",
       "\t<tr><td>001000    </td><td>23369     </td><td>25881     </td><td>1970-11-13</td><td>1978-06-30</td></tr>\n",
       "</tbody>\n",
       "</table>\n"
      ],
      "text/latex": [
       "\\begin{tabular}{r|lllll}\n",
       " gvkey & permco & permno & linkdt & linkenddt\\\\\n",
       "\\hline\n",
       "\t 001000     & 23369      & 25881      & 1970-11-13 & 1978-06-30\\\\\n",
       "\\end{tabular}\n"
      ],
      "text/markdown": [
       "\n",
       "| gvkey | permco | permno | linkdt | linkenddt |\n",
       "|---|---|---|---|---|\n",
       "| 001000     | 23369      | 25881      | 1970-11-13 | 1978-06-30 |\n",
       "\n"
      ],
      "text/plain": [
       "  gvkey  permco permno linkdt     linkenddt \n",
       "1 001000 23369  25881  1970-11-13 1978-06-30"
      ]
     },
     "metadata": {},
     "output_type": "display_data"
    }
   ],
   "source": [
    "library = 'crsp'\n",
    "dataset = 'ccmxpf_linktable' # firm names\n",
    "\n",
    "query = sprintf(\"select gvkey, lpermco as permco, lpermno as permno, linkdt, linkenddt from %s.%s where usedflag=1 and linkprim in ('P', 'C')\", library, dataset)\n",
    "res <- dbSendQuery(wrds, query)\n",
    "crsp_ccmlink <- setDT(dbFetch(res, n=-1)); dbClearResult(res)\n",
    "sprintf('nrow: %s', nrow(crsp_ccmlink))\n",
    "sv(crsp_ccmlink, path=WRDS_DOWNLOAD_DIR)\n",
    "crsp_ccmlink[1]"
   ]
  },
  {
   "cell_type": "markdown",
   "metadata": {},
   "source": [
    "## index-cst"
   ]
  },
  {
   "cell_type": "code",
   "execution_count": 63,
   "metadata": {},
   "outputs": [
    {
     "name": "stdout",
     "output_type": "stream",
     "text": [
      "-comp_idx_prof- already exists, will NOT load again!  (0 secs)\n",
      "-comp_idx_cst- already exists, will NOT load again!  (0 secs)\n",
      "-comp_security- already exists, will NOT load again!  (0 secs)\n",
      "-crsp_stocknames- already exists, will NOT load again!  (0 secs)\n"
     ]
    }
   ],
   "source": [
    "ld(comp_idx_prof, path=WRDS_DOWNLOAD_DIR)\n",
    "ld(comp_idx_cst, path=WRDS_DOWNLOAD_DIR)\n",
    "ld(comp_security, path=WRDS_DOWNLOAD_DIR)\n",
    "ld(crsp_stocknames, path=WRDS_DOWNLOAD_DIR)"
   ]
  },
  {
   "cell_type": "code",
   "execution_count": 11,
   "metadata": {},
   "outputs": [
    {
     "data": {
      "text/html": [
       "<table>\n",
       "<caption>A data.table: 1 × 14</caption>\n",
       "<thead>\n",
       "\t<tr><th scope=col>conm</th><th scope=col>gvkeyx</th><th scope=col>idx13key</th><th scope=col>idxcstflg</th><th scope=col>idxstat</th><th scope=col>indexcat</th><th scope=col>indexgeo</th><th scope=col>indexid</th><th scope=col>indextype</th><th scope=col>indexval</th><th scope=col>spii</th><th scope=col>spmi</th><th scope=col>tic</th><th scope=col>tici</th></tr>\n",
       "\t<tr><th scope=col>&lt;chr&gt;</th><th scope=col>&lt;chr&gt;</th><th scope=col>&lt;chr&gt;</th><th scope=col>&lt;chr&gt;</th><th scope=col>&lt;chr&gt;</th><th scope=col>&lt;chr&gt;</th><th scope=col>&lt;chr&gt;</th><th scope=col>&lt;chr&gt;</th><th scope=col>&lt;chr&gt;</th><th scope=col>&lt;chr&gt;</th><th scope=col>&lt;chr&gt;</th><th scope=col>&lt;chr&gt;</th><th scope=col>&lt;chr&gt;</th><th scope=col>&lt;chr&gt;</th></tr>\n",
       "</thead>\n",
       "<tbody>\n",
       "\t<tr><td>S&amp;P 500 Comp-Ltd</td><td>000003</td><td>0000000000500</td><td>Y</td><td>A</td><td>S&amp;P</td><td>USA</td><td>500</td><td>LGCAP</td><td>500</td><td>NA</td><td>10</td><td>I0003</td><td>I0003</td></tr>\n",
       "</tbody>\n",
       "</table>\n"
      ],
      "text/latex": [
       "A data.table: 1 × 14\n",
       "\\begin{tabular}{llllllllllllll}\n",
       " conm & gvkeyx & idx13key & idxcstflg & idxstat & indexcat & indexgeo & indexid & indextype & indexval & spii & spmi & tic & tici\\\\\n",
       " <chr> & <chr> & <chr> & <chr> & <chr> & <chr> & <chr> & <chr> & <chr> & <chr> & <chr> & <chr> & <chr> & <chr>\\\\\n",
       "\\hline\n",
       "\t S\\&P 500 Comp-Ltd & 000003 & 0000000000500 & Y & A & S\\&P & USA & 500 & LGCAP & 500 & NA & 10 & I0003 & I0003\\\\\n",
       "\\end{tabular}\n"
      ],
      "text/markdown": [
       "\n",
       "A data.table: 1 × 14\n",
       "\n",
       "| conm &lt;chr&gt; | gvkeyx &lt;chr&gt; | idx13key &lt;chr&gt; | idxcstflg &lt;chr&gt; | idxstat &lt;chr&gt; | indexcat &lt;chr&gt; | indexgeo &lt;chr&gt; | indexid &lt;chr&gt; | indextype &lt;chr&gt; | indexval &lt;chr&gt; | spii &lt;chr&gt; | spmi &lt;chr&gt; | tic &lt;chr&gt; | tici &lt;chr&gt; |\n",
       "|---|---|---|---|---|---|---|---|---|---|---|---|---|---|\n",
       "| S&amp;P 500 Comp-Ltd | 000003 | 0000000000500 | Y | A | S&amp;P | USA | 500 | LGCAP | 500 | NA | 10 | I0003 | I0003 |\n",
       "\n"
      ],
      "text/plain": [
       "  conm             gvkeyx idx13key      idxcstflg idxstat indexcat indexgeo\n",
       "1 S&P 500 Comp-Ltd 000003 0000000000500 Y         A       S&P      USA     \n",
       "  indexid indextype indexval spii spmi tic   tici \n",
       "1 500     LGCAP     500      NA   10   I0003 I0003"
      ]
     },
     "metadata": {},
     "output_type": "display_data"
    },
    {
     "name": "stdout",
     "output_type": "stream",
     "text": [
      "-comp_idx_profile- saved  (0.01 secs)\n"
     ]
    }
   ],
   "source": [
    "library = 'compa'\n",
    "dataset = 'idx_index' # firm names\n",
    "\n",
    "query = sprintf(\"select * from %s.%s\", library, dataset)\n",
    "res <- dbSendQuery(wrds, query)\n",
    "comp_idx_profile <- setDT(dbFetch(res, n=-1)); dbClearResult(res)\n",
    "\n",
    "comp_idx_profile[conm=='S&P 500 Comp-Ltd']\n",
    "sv(comp_idx_profile, path=WRDS_DOWNLOAD_DIR)"
   ]
  },
  {
   "cell_type": "code",
   "execution_count": 26,
   "metadata": {},
   "outputs": [
    {
     "data": {
      "text/html": [
       "'idxcst_his: 87146'"
      ],
      "text/latex": [
       "'idxcst\\_his: 87146'"
      ],
      "text/markdown": [
       "'idxcst_his: 87146'"
      ],
      "text/plain": [
       "[1] \"idxcst_his: 87146\""
      ]
     },
     "metadata": {},
     "output_type": "display_data"
    },
    {
     "data": {
      "text/html": [
       "<table>\n",
       "<caption>A data.table: 1 × 5</caption>\n",
       "<thead>\n",
       "\t<tr><th scope=col>gvkey</th><th scope=col>iid</th><th scope=col>gvkeyx</th><th scope=col>from</th><th scope=col>thru</th></tr>\n",
       "\t<tr><th scope=col>&lt;chr&gt;</th><th scope=col>&lt;chr&gt;</th><th scope=col>&lt;chr&gt;</th><th scope=col>&lt;date&gt;</th><th scope=col>&lt;date&gt;</th></tr>\n",
       "</thead>\n",
       "<tbody>\n",
       "\t<tr><td>001004</td><td>01</td><td>030824</td><td>1994-10-01</td><td>NA</td></tr>\n",
       "</tbody>\n",
       "</table>\n"
      ],
      "text/latex": [
       "A data.table: 1 × 5\n",
       "\\begin{tabular}{lllll}\n",
       " gvkey & iid & gvkeyx & from & thru\\\\\n",
       " <chr> & <chr> & <chr> & <date> & <date>\\\\\n",
       "\\hline\n",
       "\t 001004 & 01 & 030824 & 1994-10-01 & NA\\\\\n",
       "\\end{tabular}\n"
      ],
      "text/markdown": [
       "\n",
       "A data.table: 1 × 5\n",
       "\n",
       "| gvkey &lt;chr&gt; | iid &lt;chr&gt; | gvkeyx &lt;chr&gt; | from &lt;date&gt; | thru &lt;date&gt; |\n",
       "|---|---|---|---|---|\n",
       "| 001004 | 01 | 030824 | 1994-10-01 | NA |\n",
       "\n"
      ],
      "text/plain": [
       "  gvkey  iid gvkeyx from       thru\n",
       "1 001004 01  030824 1994-10-01 <NA>"
      ]
     },
     "metadata": {},
     "output_type": "display_data"
    },
    {
     "name": "stdout",
     "output_type": "stream",
     "text": [
      "-comp_idx_cst- saved  (0.1 secs)\n"
     ]
    }
   ],
   "source": [
    "library = 'compa'\n",
    "dataset = 'idxcst_his' # firm names\n",
    "\n",
    "query = sprintf(\"select * from %s.%s\", library, dataset)\n",
    "res <- dbSendQuery(wrds, query)\n",
    "comp_idx_cst <- setDT(dbFetch(res, n=-1)); dbClearResult(res)\n",
    "\n",
    "comp_idx_cst[1]\n",
    "sv(comp_idx_cst, path=WRDS_DOWNLOAD_DIR)"
   ]
  },
  {
   "cell_type": "markdown",
   "metadata": {},
   "source": [
    "## keydev"
   ]
  },
  {
   "cell_type": "code",
   "execution_count": 30,
   "metadata": {},
   "outputs": [
    {
     "data": {
      "text/html": [
       "'wrds_keydev: 1'"
      ],
      "text/latex": [
       "'wrds\\_keydev: 1'"
      ],
      "text/markdown": [
       "'wrds_keydev: 1'"
      ],
      "text/plain": [
       "[1] \"wrds_keydev: 1\""
      ]
     },
     "metadata": {},
     "output_type": "display_data"
    }
   ],
   "source": [
    "library = 'ciq'\n",
    "dataset = 'wrds_keydev' # everything except for `headline` and `situation`\n",
    "\n",
    "query = sprintf(\"select * from %s.%s \n",
    "    where keydeveventtypeid in (28, 48, 55, 61, 144)\", library, dataset)\n",
    "res <- dbSendQuery(wrds, query)\n",
    "ciq_wrds_keydev <- setDT(dbFetch(res, n=-1)); dbClearResult(res)\n",
    "sprintf('%s: %s', dataset, nrow(ciq_wrds_keydev))\n",
    "\n",
    "# `mostimportantdateutc` is in UTC but R doesn't recognize,\n",
    "# so we need to set it explictly\n",
    "ciq_wrds_keydev[, ':='(mostimportantdateutc=force_tz(mostimportantdateutc, 'UTC'))]\n",
    "\n",
    "sv(ciq_wrds_keydev, path=WRDS_DOWNLOAD_DIR)"
   ]
  },
  {
   "cell_type": "code",
   "execution_count": null,
   "metadata": {},
   "outputs": [],
   "source": [
    "library = 'ciq'\n",
    "dataset = 'ciqkeydev' # `headline` and `situation`\n",
    "\n",
    "query = sprintf(\"select * from %s.%s \n",
    "    where keydevid in \n",
    "        (select keydevid from ciq.wrds_keydev\n",
    "        where keydeveventtypeid in (28, 48, 55, 61, 144))\",\n",
    "    library, dataset)\n",
    "res <- dbSendQuery(wrds, query)\n",
    "ciq_keydev <- setDT(dbFetch(res, n=-1)); dbClearResult(res)\n",
    "sprintf('%s: %s', dataset, nrow(ciq_keydev))\n",
    "\n",
    "# `mostimportantdateutc` is in UTC but R doesn't recognize,\n",
    "# so we need to set it explictly\n",
    "ciq_keydev[, ':='(mostimportantdateutc=force_tz(mostimportantdateutc, 'UTC'))]\n",
    "\n",
    "sv(ciq_keydev, path=WRDS_DOWNLOAD_DIR)"
   ]
  },
  {
   "cell_type": "markdown",
   "metadata": {},
   "source": [
    "## CCM"
   ]
  },
  {
   "cell_type": "markdown",
   "metadata": {},
   "source": [
    "`ccmxpf_lnkhist` from CCM provides a linktable between CRSP and Compustat"
   ]
  },
  {
   "cell_type": "code",
   "execution_count": 12,
   "metadata": {},
   "outputs": [
    {
     "data": {
      "text/html": [
       "'ccmxpf_lnkhist: 102611'"
      ],
      "text/latex": [
       "'ccmxpf\\_lnkhist: 102611'"
      ],
      "text/markdown": [
       "'ccmxpf_lnkhist: 102611'"
      ],
      "text/plain": [
       "[1] \"ccmxpf_lnkhist: 102611\""
      ]
     },
     "metadata": {},
     "output_type": "display_data"
    },
    {
     "name": "stdout",
     "output_type": "stream",
     "text": [
      "-ccm- saved  (0.28 secs)\n"
     ]
    }
   ],
   "source": [
    "library = 'crspq'\n",
    "dataset = 'ccmxpf_lnkhist'\n",
    "\n",
    "query = sprintf(\"select * from %s.%s\",\n",
    "    library, dataset)\n",
    "res <- dbSendQuery(wrds, query)\n",
    "ccm <- setDT(dbFetch(res, n=-1)); dbClearResult(res)\n",
    "sprintf('%s: %s', dataset, nrow(ccm))\n",
    "sv(ccm, path=WRDS_DOWNLOAD_DIR)"
   ]
  },
  {
   "cell_type": "markdown",
   "metadata": {},
   "source": [
    "# Coverage"
   ]
  },
  {
   "cell_type": "code",
   "execution_count": 11,
   "metadata": {},
   "outputs": [
    {
     "name": "stdout",
     "output_type": "stream",
     "text": [
      "-comp_idx_cst- loaded  (0.1 secs)\n"
     ]
    }
   ],
   "source": [
    "ld(comp_idx_cst, path=WRDS_DOWNLOAD_DIR)\n",
    "ld(comp_security, path=WRDS_DOWNLOAD_DIR)"
   ]
  },
  {
   "cell_type": "code",
   "execution_count": 12,
   "metadata": {},
   "outputs": [],
   "source": [
    "SDATE = as.Date('2005-01-01')\n",
    "EDATE = as.Date('2018-12-31')"
   ]
  },
  {
   "cell_type": "code",
   "execution_count": 44,
   "metadata": {
    "scrolled": true
   },
   "outputs": [
    {
     "data": {
      "text/html": [
       "<table>\n",
       "<thead><tr><th scope=col>gvkey</th><th scope=col>iid</th><th scope=col>gvkeyx</th><th scope=col>from</th><th scope=col>thru</th><th scope=col>tic</th><th scope=col>cusip</th><th scope=col>sedol</th></tr></thead>\n",
       "<tbody>\n",
       "\t<tr><td>001300    </td><td>01        </td><td>000005    </td><td>1925-12-07</td><td>2008-02-18</td><td>HON       </td><td>438516    </td><td>2020459   </td></tr>\n",
       "\t<tr><td>001356    </td><td>01        </td><td>000005    </td><td>1959-06-01</td><td>2013-09-22</td><td>AA.3      </td><td>013817    </td><td>BYVZDB3   </td></tr>\n",
       "\t<tr><td>001447    </td><td>01        </td><td>000005    </td><td>1982-08-30</td><td>NA        </td><td>AXP       </td><td>025816    </td><td>2026082   </td></tr>\n",
       "\t<tr><td>001487    </td><td>01        </td><td>000005    </td><td>2004-04-08</td><td>2008-09-21</td><td>AIG       </td><td>026874    </td><td>2027342   </td></tr>\n",
       "\t<tr><td>001581    </td><td>01        </td><td>000005    </td><td>1939-03-14</td><td>2004-04-07</td><td>T.2       </td><td>001957    </td><td>2064888   </td></tr>\n",
       "\t<tr><td>001690    </td><td>01        </td><td>000005    </td><td>2015-03-19</td><td>NA        </td><td>AAPL      </td><td>037833    </td><td>2046251   </td></tr>\n",
       "\t<tr><td>002136    </td><td>01        </td><td>000005    </td><td>2004-04-08</td><td>NA        </td><td>VZ        </td><td>92343V    </td><td>2090571   </td></tr>\n",
       "\t<tr><td>002285    </td><td>01        </td><td>000005    </td><td>1987-03-12</td><td>NA        </td><td>BA        </td><td>097023    </td><td>2108601   </td></tr>\n",
       "\t<tr><td>002817    </td><td>01        </td><td>000005    </td><td>1991-05-06</td><td>NA        </td><td>CAT       </td><td>149123    </td><td>2180201   </td></tr>\n",
       "\t<tr><td>002968    </td><td>01        </td><td>000005    </td><td>2001-01-02</td><td>NA        </td><td>JPM       </td><td>46625H    </td><td>2190385   </td></tr>\n",
       "\t<tr><td>002991    </td><td>01        </td><td>000005    </td><td>1984-07-10</td><td>1999-10-31</td><td>CVX       </td><td>166764    </td><td>2838555   </td></tr>\n",
       "\t<tr><td>002991    </td><td>01        </td><td>000005    </td><td>2008-02-19</td><td>NA        </td><td>CVX       </td><td>166764    </td><td>2838555   </td></tr>\n",
       "\t<tr><td>003144    </td><td>01        </td><td>000005    </td><td>1932-05-26</td><td>NA        </td><td>KO        </td><td>191216    </td><td>2206657   </td></tr>\n",
       "\t<tr><td>003243    </td><td>01        </td><td>000005    </td><td>1997-03-17</td><td>2009-06-07</td><td>C         </td><td>172967    </td><td>2297907   </td></tr>\n",
       "\t<tr><td>003980    </td><td>01        </td><td>000005    </td><td>1991-05-06</td><td>NA        </td><td>DIS       </td><td>254687    </td><td>2270726   </td></tr>\n",
       "\t<tr><td>004060    </td><td>01        </td><td>000005    </td><td>2017-09-01</td><td>2019-04-01</td><td>DWDP      </td><td>26078J    </td><td>BYP66M4   </td></tr>\n",
       "\t<tr><td>004087    </td><td>01        </td><td>000005    </td><td>1935-11-20</td><td>2017-08-31</td><td>DD        </td><td>263534    </td><td>2018175   </td></tr>\n",
       "\t<tr><td>004194    </td><td>01        </td><td>000005    </td><td>1930-07-18</td><td>2004-04-07</td><td>EKDKQ     </td><td>277461    </td><td>2300601   </td></tr>\n",
       "\t<tr><td>004503    </td><td>01        </td><td>000005    </td><td>1928-10-01</td><td>NA        </td><td>XOM       </td><td>30231G    </td><td>2326618   </td></tr>\n",
       "\t<tr><td>005047    </td><td>01        </td><td>000005    </td><td>1907-11-07</td><td>2018-06-25</td><td>GE        </td><td>369604    </td><td>2380498   </td></tr>\n",
       "\t<tr><td>005073    </td><td>01        </td><td>000005    </td><td>1915-03-16</td><td>2009-06-07</td><td>MTLQQ     </td><td>62010A    </td><td>2365804   </td></tr>\n",
       "\t<tr><td>005234    </td><td>01        </td><td>000005    </td><td>1930-07-18</td><td>1999-10-31</td><td>GT        </td><td>382550    </td><td>2378200   </td></tr>\n",
       "\t<tr><td>005606    </td><td>01        </td><td>000005    </td><td>1997-03-17</td><td>2013-09-22</td><td>HPQ       </td><td>40434L    </td><td>BYX4D52   </td></tr>\n",
       "\t<tr><td>005680    </td><td>01        </td><td>000005    </td><td>1999-11-01</td><td>NA        </td><td>HD        </td><td>437076    </td><td>2434209   </td></tr>\n",
       "\t<tr><td>006008    </td><td>01        </td><td>000005    </td><td>1999-11-01</td><td>NA        </td><td>INTC      </td><td>458140    </td><td>2463247   </td></tr>\n",
       "\t<tr><td>006066    </td><td>01        </td><td>000005    </td><td>1932-05-26</td><td>NA        </td><td>IBM       </td><td>459200    </td><td>2005973   </td></tr>\n",
       "\t<tr><td>006104    </td><td>01        </td><td>000005    </td><td>1956-07-03</td><td>2004-04-07</td><td>IP        </td><td>460146    </td><td>2465254   </td></tr>\n",
       "\t<tr><td>006266    </td><td>01        </td><td>000005    </td><td>1997-03-17</td><td>NA        </td><td>JNJ       </td><td>478160    </td><td>2475833   </td></tr>\n",
       "\t<tr><td>007154    </td><td>01        </td><td>000005    </td><td>1985-10-30</td><td>NA        </td><td>MCD       </td><td>580135    </td><td>2550707   </td></tr>\n",
       "\t<tr><td>007257    </td><td>01        </td><td>000005    </td><td>1979-06-29</td><td>NA        </td><td>MRK       </td><td>58933Y    </td><td>2778844   </td></tr>\n",
       "\t<tr><td>007435    </td><td>01        </td><td>000005    </td><td>1976-08-09</td><td>NA        </td><td>MMM       </td><td>88579Y    </td><td>2595708   </td></tr>\n",
       "\t<tr><td>007562    </td><td>01        </td><td>000005    </td><td>1991-05-06</td><td>2001-01-01</td><td>JPM.Z     </td><td>616880    </td><td>NA        </td></tr>\n",
       "\t<tr><td>007647    </td><td>01        </td><td>000005    </td><td>2008-02-19</td><td>2013-09-22</td><td>BAC       </td><td>060505    </td><td>2295677   </td></tr>\n",
       "\t<tr><td>007906    </td><td>01        </td><td>000005    </td><td>2013-09-23</td><td>NA        </td><td>NKE       </td><td>654106    </td><td>2640147   </td></tr>\n",
       "\t<tr><td>008530    </td><td>01        </td><td>000005    </td><td>2004-04-08</td><td>NA        </td><td>PFE       </td><td>717081    </td><td>2684703   </td></tr>\n",
       "\t<tr><td>008543    </td><td>01        </td><td>000005    </td><td>1985-10-30</td><td>2008-02-18</td><td>MO        </td><td>02209S    </td><td>2692632   </td></tr>\n",
       "\t<tr><td>008762    </td><td>01        </td><td>000005    </td><td>1932-05-26</td><td>NA        </td><td>PG        </td><td>742718    </td><td>2704407   </td></tr>\n",
       "\t<tr><td>009563    </td><td>01        </td><td>000005    </td><td>1924-01-22</td><td>1999-10-31</td><td>S.1       </td><td>812387    </td><td>2787312   </td></tr>\n",
       "\t<tr><td>009899    </td><td>01        </td><td>000005    </td><td>1999-11-01</td><td>2015-03-18</td><td>T         </td><td>00206R    </td><td>2831811   </td></tr>\n",
       "\t<tr><td>010857    </td><td>01        </td><td>000005    </td><td>1928-10-01</td><td>1999-10-31</td><td>UK.1      </td><td>905581    </td><td>NA        </td></tr>\n",
       "\t<tr><td>010903    </td><td>01        </td><td>000005    </td><td>2012-09-24</td><td>NA        </td><td>UNH       </td><td>91324P    </td><td>2917766   </td></tr>\n",
       "\t<tr><td>010983    </td><td>01        </td><td>000005    </td><td>1975-05-01</td><td>NA        </td><td>UTX       </td><td>913017    </td><td>2915500   </td></tr>\n",
       "\t<tr><td>011259    </td><td>01        </td><td>000005    </td><td>1997-03-17</td><td>NA        </td><td>WMT       </td><td>931142    </td><td>2936921   </td></tr>\n",
       "\t<tr><td>011264    </td><td>01        </td><td>000005    </td><td>2018-06-26</td><td>NA        </td><td>WBA       </td><td>931427    </td><td>BTN1Y44   </td></tr>\n",
       "\t<tr><td>012141    </td><td>01        </td><td>000005    </td><td>1999-11-01</td><td>NA        </td><td>MSFT      </td><td>594918    </td><td>2588173   </td></tr>\n",
       "\t<tr><td>020779    </td><td>01        </td><td>000005    </td><td>2009-06-08</td><td>NA        </td><td>CSCO      </td><td>17275R    </td><td>2198163   </td></tr>\n",
       "\t<tr><td>062689    </td><td>05        </td><td>000005    </td><td>2009-06-08</td><td>NA        </td><td>TRV       </td><td>89417E    </td><td>2769503   </td></tr>\n",
       "\t<tr><td>114628    </td><td>01        </td><td>000005    </td><td>2013-09-23</td><td>NA        </td><td>GS        </td><td>38141G    </td><td>2407966   </td></tr>\n",
       "\t<tr><td>142953    </td><td>01        </td><td>000005    </td><td>2008-09-22</td><td>2012-09-23</td><td>MDLZ      </td><td>609207    </td><td>B8CKK03   </td></tr>\n",
       "\t<tr><td>179534    </td><td>01        </td><td>000005    </td><td>2013-09-23</td><td>NA        </td><td>V         </td><td>92826C    </td><td>B2PZN04   </td></tr>\n",
       "</tbody>\n",
       "</table>\n"
      ],
      "text/latex": [
       "\\begin{tabular}{r|llllllll}\n",
       " gvkey & iid & gvkeyx & from & thru & tic & cusip & sedol\\\\\n",
       "\\hline\n",
       "\t 001300     & 01         & 000005     & 1925-12-07 & 2008-02-18 & HON        & 438516     & 2020459   \\\\\n",
       "\t 001356     & 01         & 000005     & 1959-06-01 & 2013-09-22 & AA.3       & 013817     & BYVZDB3   \\\\\n",
       "\t 001447     & 01         & 000005     & 1982-08-30 & NA         & AXP        & 025816     & 2026082   \\\\\n",
       "\t 001487     & 01         & 000005     & 2004-04-08 & 2008-09-21 & AIG        & 026874     & 2027342   \\\\\n",
       "\t 001581     & 01         & 000005     & 1939-03-14 & 2004-04-07 & T.2        & 001957     & 2064888   \\\\\n",
       "\t 001690     & 01         & 000005     & 2015-03-19 & NA         & AAPL       & 037833     & 2046251   \\\\\n",
       "\t 002136     & 01         & 000005     & 2004-04-08 & NA         & VZ         & 92343V     & 2090571   \\\\\n",
       "\t 002285     & 01         & 000005     & 1987-03-12 & NA         & BA         & 097023     & 2108601   \\\\\n",
       "\t 002817     & 01         & 000005     & 1991-05-06 & NA         & CAT        & 149123     & 2180201   \\\\\n",
       "\t 002968     & 01         & 000005     & 2001-01-02 & NA         & JPM        & 46625H     & 2190385   \\\\\n",
       "\t 002991     & 01         & 000005     & 1984-07-10 & 1999-10-31 & CVX        & 166764     & 2838555   \\\\\n",
       "\t 002991     & 01         & 000005     & 2008-02-19 & NA         & CVX        & 166764     & 2838555   \\\\\n",
       "\t 003144     & 01         & 000005     & 1932-05-26 & NA         & KO         & 191216     & 2206657   \\\\\n",
       "\t 003243     & 01         & 000005     & 1997-03-17 & 2009-06-07 & C          & 172967     & 2297907   \\\\\n",
       "\t 003980     & 01         & 000005     & 1991-05-06 & NA         & DIS        & 254687     & 2270726   \\\\\n",
       "\t 004060     & 01         & 000005     & 2017-09-01 & 2019-04-01 & DWDP       & 26078J     & BYP66M4   \\\\\n",
       "\t 004087     & 01         & 000005     & 1935-11-20 & 2017-08-31 & DD         & 263534     & 2018175   \\\\\n",
       "\t 004194     & 01         & 000005     & 1930-07-18 & 2004-04-07 & EKDKQ      & 277461     & 2300601   \\\\\n",
       "\t 004503     & 01         & 000005     & 1928-10-01 & NA         & XOM        & 30231G     & 2326618   \\\\\n",
       "\t 005047     & 01         & 000005     & 1907-11-07 & 2018-06-25 & GE         & 369604     & 2380498   \\\\\n",
       "\t 005073     & 01         & 000005     & 1915-03-16 & 2009-06-07 & MTLQQ      & 62010A     & 2365804   \\\\\n",
       "\t 005234     & 01         & 000005     & 1930-07-18 & 1999-10-31 & GT         & 382550     & 2378200   \\\\\n",
       "\t 005606     & 01         & 000005     & 1997-03-17 & 2013-09-22 & HPQ        & 40434L     & BYX4D52   \\\\\n",
       "\t 005680     & 01         & 000005     & 1999-11-01 & NA         & HD         & 437076     & 2434209   \\\\\n",
       "\t 006008     & 01         & 000005     & 1999-11-01 & NA         & INTC       & 458140     & 2463247   \\\\\n",
       "\t 006066     & 01         & 000005     & 1932-05-26 & NA         & IBM        & 459200     & 2005973   \\\\\n",
       "\t 006104     & 01         & 000005     & 1956-07-03 & 2004-04-07 & IP         & 460146     & 2465254   \\\\\n",
       "\t 006266     & 01         & 000005     & 1997-03-17 & NA         & JNJ        & 478160     & 2475833   \\\\\n",
       "\t 007154     & 01         & 000005     & 1985-10-30 & NA         & MCD        & 580135     & 2550707   \\\\\n",
       "\t 007257     & 01         & 000005     & 1979-06-29 & NA         & MRK        & 58933Y     & 2778844   \\\\\n",
       "\t 007435     & 01         & 000005     & 1976-08-09 & NA         & MMM        & 88579Y     & 2595708   \\\\\n",
       "\t 007562     & 01         & 000005     & 1991-05-06 & 2001-01-01 & JPM.Z      & 616880     & NA        \\\\\n",
       "\t 007647     & 01         & 000005     & 2008-02-19 & 2013-09-22 & BAC        & 060505     & 2295677   \\\\\n",
       "\t 007906     & 01         & 000005     & 2013-09-23 & NA         & NKE        & 654106     & 2640147   \\\\\n",
       "\t 008530     & 01         & 000005     & 2004-04-08 & NA         & PFE        & 717081     & 2684703   \\\\\n",
       "\t 008543     & 01         & 000005     & 1985-10-30 & 2008-02-18 & MO         & 02209S     & 2692632   \\\\\n",
       "\t 008762     & 01         & 000005     & 1932-05-26 & NA         & PG         & 742718     & 2704407   \\\\\n",
       "\t 009563     & 01         & 000005     & 1924-01-22 & 1999-10-31 & S.1        & 812387     & 2787312   \\\\\n",
       "\t 009899     & 01         & 000005     & 1999-11-01 & 2015-03-18 & T          & 00206R     & 2831811   \\\\\n",
       "\t 010857     & 01         & 000005     & 1928-10-01 & 1999-10-31 & UK.1       & 905581     & NA        \\\\\n",
       "\t 010903     & 01         & 000005     & 2012-09-24 & NA         & UNH        & 91324P     & 2917766   \\\\\n",
       "\t 010983     & 01         & 000005     & 1975-05-01 & NA         & UTX        & 913017     & 2915500   \\\\\n",
       "\t 011259     & 01         & 000005     & 1997-03-17 & NA         & WMT        & 931142     & 2936921   \\\\\n",
       "\t 011264     & 01         & 000005     & 2018-06-26 & NA         & WBA        & 931427     & BTN1Y44   \\\\\n",
       "\t 012141     & 01         & 000005     & 1999-11-01 & NA         & MSFT       & 594918     & 2588173   \\\\\n",
       "\t 020779     & 01         & 000005     & 2009-06-08 & NA         & CSCO       & 17275R     & 2198163   \\\\\n",
       "\t 062689     & 05         & 000005     & 2009-06-08 & NA         & TRV        & 89417E     & 2769503   \\\\\n",
       "\t 114628     & 01         & 000005     & 2013-09-23 & NA         & GS         & 38141G     & 2407966   \\\\\n",
       "\t 142953     & 01         & 000005     & 2008-09-22 & 2012-09-23 & MDLZ       & 609207     & B8CKK03   \\\\\n",
       "\t 179534     & 01         & 000005     & 2013-09-23 & NA         & V          & 92826C     & B2PZN04   \\\\\n",
       "\\end{tabular}\n"
      ],
      "text/markdown": [
       "\n",
       "| gvkey | iid | gvkeyx | from | thru | tic | cusip | sedol |\n",
       "|---|---|---|---|---|---|---|---|\n",
       "| 001300     | 01         | 000005     | 1925-12-07 | 2008-02-18 | HON        | 438516     | 2020459    |\n",
       "| 001356     | 01         | 000005     | 1959-06-01 | 2013-09-22 | AA.3       | 013817     | BYVZDB3    |\n",
       "| 001447     | 01         | 000005     | 1982-08-30 | NA         | AXP        | 025816     | 2026082    |\n",
       "| 001487     | 01         | 000005     | 2004-04-08 | 2008-09-21 | AIG        | 026874     | 2027342    |\n",
       "| 001581     | 01         | 000005     | 1939-03-14 | 2004-04-07 | T.2        | 001957     | 2064888    |\n",
       "| 001690     | 01         | 000005     | 2015-03-19 | NA         | AAPL       | 037833     | 2046251    |\n",
       "| 002136     | 01         | 000005     | 2004-04-08 | NA         | VZ         | 92343V     | 2090571    |\n",
       "| 002285     | 01         | 000005     | 1987-03-12 | NA         | BA         | 097023     | 2108601    |\n",
       "| 002817     | 01         | 000005     | 1991-05-06 | NA         | CAT        | 149123     | 2180201    |\n",
       "| 002968     | 01         | 000005     | 2001-01-02 | NA         | JPM        | 46625H     | 2190385    |\n",
       "| 002991     | 01         | 000005     | 1984-07-10 | 1999-10-31 | CVX        | 166764     | 2838555    |\n",
       "| 002991     | 01         | 000005     | 2008-02-19 | NA         | CVX        | 166764     | 2838555    |\n",
       "| 003144     | 01         | 000005     | 1932-05-26 | NA         | KO         | 191216     | 2206657    |\n",
       "| 003243     | 01         | 000005     | 1997-03-17 | 2009-06-07 | C          | 172967     | 2297907    |\n",
       "| 003980     | 01         | 000005     | 1991-05-06 | NA         | DIS        | 254687     | 2270726    |\n",
       "| 004060     | 01         | 000005     | 2017-09-01 | 2019-04-01 | DWDP       | 26078J     | BYP66M4    |\n",
       "| 004087     | 01         | 000005     | 1935-11-20 | 2017-08-31 | DD         | 263534     | 2018175    |\n",
       "| 004194     | 01         | 000005     | 1930-07-18 | 2004-04-07 | EKDKQ      | 277461     | 2300601    |\n",
       "| 004503     | 01         | 000005     | 1928-10-01 | NA         | XOM        | 30231G     | 2326618    |\n",
       "| 005047     | 01         | 000005     | 1907-11-07 | 2018-06-25 | GE         | 369604     | 2380498    |\n",
       "| 005073     | 01         | 000005     | 1915-03-16 | 2009-06-07 | MTLQQ      | 62010A     | 2365804    |\n",
       "| 005234     | 01         | 000005     | 1930-07-18 | 1999-10-31 | GT         | 382550     | 2378200    |\n",
       "| 005606     | 01         | 000005     | 1997-03-17 | 2013-09-22 | HPQ        | 40434L     | BYX4D52    |\n",
       "| 005680     | 01         | 000005     | 1999-11-01 | NA         | HD         | 437076     | 2434209    |\n",
       "| 006008     | 01         | 000005     | 1999-11-01 | NA         | INTC       | 458140     | 2463247    |\n",
       "| 006066     | 01         | 000005     | 1932-05-26 | NA         | IBM        | 459200     | 2005973    |\n",
       "| 006104     | 01         | 000005     | 1956-07-03 | 2004-04-07 | IP         | 460146     | 2465254    |\n",
       "| 006266     | 01         | 000005     | 1997-03-17 | NA         | JNJ        | 478160     | 2475833    |\n",
       "| 007154     | 01         | 000005     | 1985-10-30 | NA         | MCD        | 580135     | 2550707    |\n",
       "| 007257     | 01         | 000005     | 1979-06-29 | NA         | MRK        | 58933Y     | 2778844    |\n",
       "| 007435     | 01         | 000005     | 1976-08-09 | NA         | MMM        | 88579Y     | 2595708    |\n",
       "| 007562     | 01         | 000005     | 1991-05-06 | 2001-01-01 | JPM.Z      | 616880     | NA         |\n",
       "| 007647     | 01         | 000005     | 2008-02-19 | 2013-09-22 | BAC        | 060505     | 2295677    |\n",
       "| 007906     | 01         | 000005     | 2013-09-23 | NA         | NKE        | 654106     | 2640147    |\n",
       "| 008530     | 01         | 000005     | 2004-04-08 | NA         | PFE        | 717081     | 2684703    |\n",
       "| 008543     | 01         | 000005     | 1985-10-30 | 2008-02-18 | MO         | 02209S     | 2692632    |\n",
       "| 008762     | 01         | 000005     | 1932-05-26 | NA         | PG         | 742718     | 2704407    |\n",
       "| 009563     | 01         | 000005     | 1924-01-22 | 1999-10-31 | S.1        | 812387     | 2787312    |\n",
       "| 009899     | 01         | 000005     | 1999-11-01 | 2015-03-18 | T          | 00206R     | 2831811    |\n",
       "| 010857     | 01         | 000005     | 1928-10-01 | 1999-10-31 | UK.1       | 905581     | NA         |\n",
       "| 010903     | 01         | 000005     | 2012-09-24 | NA         | UNH        | 91324P     | 2917766    |\n",
       "| 010983     | 01         | 000005     | 1975-05-01 | NA         | UTX        | 913017     | 2915500    |\n",
       "| 011259     | 01         | 000005     | 1997-03-17 | NA         | WMT        | 931142     | 2936921    |\n",
       "| 011264     | 01         | 000005     | 2018-06-26 | NA         | WBA        | 931427     | BTN1Y44    |\n",
       "| 012141     | 01         | 000005     | 1999-11-01 | NA         | MSFT       | 594918     | 2588173    |\n",
       "| 020779     | 01         | 000005     | 2009-06-08 | NA         | CSCO       | 17275R     | 2198163    |\n",
       "| 062689     | 05         | 000005     | 2009-06-08 | NA         | TRV        | 89417E     | 2769503    |\n",
       "| 114628     | 01         | 000005     | 2013-09-23 | NA         | GS         | 38141G     | 2407966    |\n",
       "| 142953     | 01         | 000005     | 2008-09-22 | 2012-09-23 | MDLZ       | 609207     | B8CKK03    |\n",
       "| 179534     | 01         | 000005     | 2013-09-23 | NA         | V          | 92826C     | B2PZN04    |\n",
       "\n"
      ],
      "text/plain": [
       "   gvkey  iid gvkeyx from       thru       tic   cusip  sedol  \n",
       "1  001300 01  000005 1925-12-07 2008-02-18 HON   438516 2020459\n",
       "2  001356 01  000005 1959-06-01 2013-09-22 AA.3  013817 BYVZDB3\n",
       "3  001447 01  000005 1982-08-30 <NA>       AXP   025816 2026082\n",
       "4  001487 01  000005 2004-04-08 2008-09-21 AIG   026874 2027342\n",
       "5  001581 01  000005 1939-03-14 2004-04-07 T.2   001957 2064888\n",
       "6  001690 01  000005 2015-03-19 <NA>       AAPL  037833 2046251\n",
       "7  002136 01  000005 2004-04-08 <NA>       VZ    92343V 2090571\n",
       "8  002285 01  000005 1987-03-12 <NA>       BA    097023 2108601\n",
       "9  002817 01  000005 1991-05-06 <NA>       CAT   149123 2180201\n",
       "10 002968 01  000005 2001-01-02 <NA>       JPM   46625H 2190385\n",
       "11 002991 01  000005 1984-07-10 1999-10-31 CVX   166764 2838555\n",
       "12 002991 01  000005 2008-02-19 <NA>       CVX   166764 2838555\n",
       "13 003144 01  000005 1932-05-26 <NA>       KO    191216 2206657\n",
       "14 003243 01  000005 1997-03-17 2009-06-07 C     172967 2297907\n",
       "15 003980 01  000005 1991-05-06 <NA>       DIS   254687 2270726\n",
       "16 004060 01  000005 2017-09-01 2019-04-01 DWDP  26078J BYP66M4\n",
       "17 004087 01  000005 1935-11-20 2017-08-31 DD    263534 2018175\n",
       "18 004194 01  000005 1930-07-18 2004-04-07 EKDKQ 277461 2300601\n",
       "19 004503 01  000005 1928-10-01 <NA>       XOM   30231G 2326618\n",
       "20 005047 01  000005 1907-11-07 2018-06-25 GE    369604 2380498\n",
       "21 005073 01  000005 1915-03-16 2009-06-07 MTLQQ 62010A 2365804\n",
       "22 005234 01  000005 1930-07-18 1999-10-31 GT    382550 2378200\n",
       "23 005606 01  000005 1997-03-17 2013-09-22 HPQ   40434L BYX4D52\n",
       "24 005680 01  000005 1999-11-01 <NA>       HD    437076 2434209\n",
       "25 006008 01  000005 1999-11-01 <NA>       INTC  458140 2463247\n",
       "26 006066 01  000005 1932-05-26 <NA>       IBM   459200 2005973\n",
       "27 006104 01  000005 1956-07-03 2004-04-07 IP    460146 2465254\n",
       "28 006266 01  000005 1997-03-17 <NA>       JNJ   478160 2475833\n",
       "29 007154 01  000005 1985-10-30 <NA>       MCD   580135 2550707\n",
       "30 007257 01  000005 1979-06-29 <NA>       MRK   58933Y 2778844\n",
       "31 007435 01  000005 1976-08-09 <NA>       MMM   88579Y 2595708\n",
       "32 007562 01  000005 1991-05-06 2001-01-01 JPM.Z 616880 NA     \n",
       "33 007647 01  000005 2008-02-19 2013-09-22 BAC   060505 2295677\n",
       "34 007906 01  000005 2013-09-23 <NA>       NKE   654106 2640147\n",
       "35 008530 01  000005 2004-04-08 <NA>       PFE   717081 2684703\n",
       "36 008543 01  000005 1985-10-30 2008-02-18 MO    02209S 2692632\n",
       "37 008762 01  000005 1932-05-26 <NA>       PG    742718 2704407\n",
       "38 009563 01  000005 1924-01-22 1999-10-31 S.1   812387 2787312\n",
       "39 009899 01  000005 1999-11-01 2015-03-18 T     00206R 2831811\n",
       "40 010857 01  000005 1928-10-01 1999-10-31 UK.1  905581 NA     \n",
       "41 010903 01  000005 2012-09-24 <NA>       UNH   91324P 2917766\n",
       "42 010983 01  000005 1975-05-01 <NA>       UTX   913017 2915500\n",
       "43 011259 01  000005 1997-03-17 <NA>       WMT   931142 2936921\n",
       "44 011264 01  000005 2018-06-26 <NA>       WBA   931427 BTN1Y44\n",
       "45 012141 01  000005 1999-11-01 <NA>       MSFT  594918 2588173\n",
       "46 020779 01  000005 2009-06-08 <NA>       CSCO  17275R 2198163\n",
       "47 062689 05  000005 2009-06-08 <NA>       TRV   89417E 2769503\n",
       "48 114628 01  000005 2013-09-23 <NA>       GS    38141G 2407966\n",
       "49 142953 01  000005 2008-09-22 2012-09-23 MDLZ  609207 B8CKK03\n",
       "50 179534 01  000005 2013-09-23 <NA>       V     92826C B2PZN04"
      ]
     },
     "metadata": {},
     "output_type": "display_data"
    },
    {
     "name": "stdout",
     "output_type": "stream",
     "text": [
      "-dji_cst- saved  (0.01 secs)\n"
     ]
    }
   ],
   "source": [
    "# DJI\n",
    "dji_cst = unique(comp_idx_cst[gvkeyx=='000005'\n",
    "    ][comp_security[, .(gvkey, iid, tic, cusip=str_sub(cusip, 1, 6), sedol)], \n",
    "      on=.(gvkey, iid), nomatch=0])\n",
    "dji_cst\n",
    "sv(dji_cst)"
   ]
  },
  {
   "cell_type": "markdown",
   "metadata": {
    "toc-hr-collapsed": false
   },
   "source": [
    "# Y"
   ]
  },
  {
   "cell_type": "markdown",
   "metadata": {},
   "source": [
    "## Find SP 500"
   ]
  },
  {
   "cell_type": "code",
   "execution_count": 46,
   "metadata": {
    "scrolled": true
   },
   "outputs": [
    {
     "name": "stdout",
     "output_type": "stream",
     "text": [
      "-comp_idx_cst- already exists, will NOT load again!  (0 secs)\n",
      "-sp500_cst- saved  (0.01 secs)\n"
     ]
    }
   ],
   "source": [
    "# thru is missing means it's still effective\n",
    "# fill the missing with today()\n",
    "ld(comp_idx_cst, path=WRDS_DOWNLOAD_DIR)\n",
    "\n",
    "sp500_cst = comp_idx_cst[gvkeyx=='000003'\n",
    "    ][is.na(from), ':='(from=as.Date('1900-01-01'))\n",
    "    ][is.na(thru), ':='(thru=today())\n",
    "    ][order(gvkey, iid)\n",
    "    ][, .SD[1], keyby=.(gvkey)\n",
    "    ][, .(gvkey, from, thru)] %>% unique()\n",
    "\n",
    "sv(sp500_cst)"
   ]
  },
  {
   "cell_type": "code",
   "execution_count": 48,
   "metadata": {},
   "outputs": [
    {
     "data": {
      "text/html": [
       "1684"
      ],
      "text/latex": [
       "1684"
      ],
      "text/markdown": [
       "1684"
      ],
      "text/plain": [
       "[1] 1684"
      ]
     },
     "metadata": {},
     "output_type": "display_data"
    },
    {
     "data": {
      "text/html": [
       "<table>\n",
       "<caption>A data.table: 1 × 3</caption>\n",
       "<thead>\n",
       "\t<tr><th scope=col>gvkey</th><th scope=col>from</th><th scope=col>thru</th></tr>\n",
       "\t<tr><th scope=col>&lt;chr&gt;</th><th scope=col>&lt;date&gt;</th><th scope=col>&lt;date&gt;</th></tr>\n",
       "</thead>\n",
       "<tbody>\n",
       "\t<tr><td>001010</td><td>1964-03-31</td><td>1984-06-30</td></tr>\n",
       "</tbody>\n",
       "</table>\n"
      ],
      "text/latex": [
       "A data.table: 1 × 3\n",
       "\\begin{tabular}{lll}\n",
       " gvkey & from & thru\\\\\n",
       " <chr> & <date> & <date>\\\\\n",
       "\\hline\n",
       "\t 001010 & 1964-03-31 & 1984-06-30\\\\\n",
       "\\end{tabular}\n"
      ],
      "text/markdown": [
       "\n",
       "A data.table: 1 × 3\n",
       "\n",
       "| gvkey &lt;chr&gt; | from &lt;date&gt; | thru &lt;date&gt; |\n",
       "|---|---|---|\n",
       "| 001010 | 1964-03-31 | 1984-06-30 |\n",
       "\n"
      ],
      "text/plain": [
       "  gvkey  from       thru      \n",
       "1 001010 1964-03-31 1984-06-30"
      ]
     },
     "metadata": {},
     "output_type": "display_data"
    }
   ],
   "source": [
    "sp500_cst[, uniqueN(gvkey)]\n",
    "sp500_cst[1]"
   ]
  },
  {
   "cell_type": "markdown",
   "metadata": {},
   "source": [
    "## Link `gvkey` <-> `permno`"
   ]
  },
  {
   "cell_type": "markdown",
   "metadata": {},
   "source": [
    "We'll use `ccm` to link these two variables.\n",
    "\n",
    "In the next cell, I:\n",
    "- only select \"primary\" links (LC,LU,LS) which are considered to be robust\n",
    "- fill missing `linkdt` and `linkenddt`\n",
    "- for very `gvkey`, only select its **first** issue.\n",
    "- link to `ciq_wrds_keydev`\n",
    "- only select events that: \n",
    "    - later than 2000-01-01\n",
    "    - S&P 500 companies"
   ]
  },
  {
   "cell_type": "code",
   "execution_count": 38,
   "metadata": {},
   "outputs": [
    {
     "name": "stdout",
     "output_type": "stream",
     "text": [
      "-ccm- already exists, will NOT load again!  (0 secs)\n",
      "-gvkey_permno_link- saved  (0.04 secs)\n"
     ]
    }
   ],
   "source": [
    "ld(ccm, path=WRDS_DOWNLOAD_DIR)\n",
    "\n",
    "gvkey_permno_link = ccm[linktype %in% c('LC', 'LU', 'LS')\n",
    "    ][is.na(linkenddt) | linkenddt>=as.Date('2000-01-01'), \n",
    "     .(gvkey, lpermno, liid, linkdt, linkenddt)\n",
    "    ][is.na(linkenddt), ':='(linkenddt=as.Date('2020-12-31'))\n",
    "    ][is.na(linkdt), ':='(linkdt=as.Date('1990-01-01'))\n",
    "    ][order(gvkey, liid)\n",
    "    ][, .SD[1], keyby=.(gvkey)\n",
    "    ][order(gvkey, linkdt)\n",
    "    ][, ':='(liid=NULL)] %>% \n",
    "    na.omit(cols=c('gvkey', 'lpermno')) %>% \n",
    "    unique(by=c('gvkey', 'lpermno'))\n",
    "sv(gvkey_permno_link)"
   ]
  },
  {
   "cell_type": "markdown",
   "metadata": {},
   "source": [
    "## Link call <-> release"
   ]
  },
  {
   "cell_type": "code",
   "execution_count": 2,
   "metadata": {},
   "outputs": [
    {
     "name": "stdout",
     "output_type": "stream",
     "text": [
      "-ciq_wrds_keydev- loaded  (4.37 secs)\n",
      "-gvkey_permno_link- loaded  (0.01 secs)\n"
     ]
    }
   ],
   "source": [
    "ld(ciq_wrds_keydev, path=WRDS_DOWNLOAD_DIR)\n",
    "ld(gvkey_permno_link)"
   ]
  },
  {
   "cell_type": "code",
   "execution_count": 23,
   "metadata": {
    "scrolled": true
   },
   "outputs": [
    {
     "data": {
      "text/html": [
       "<table>\n",
       "<caption>A data.table: 1 × 6</caption>\n",
       "<thead>\n",
       "\t<tr><th scope=col>gvkey</th><th scope=col>release_date</th><th scope=col>release_keydevid</th><th scope=col>call_date</th><th scope=col>call_keydevid</th><th scope=col>companyname</th></tr>\n",
       "\t<tr><th scope=col>&lt;chr&gt;</th><th scope=col>&lt;date&gt;</th><th scope=col>&lt;dbl&gt;</th><th scope=col>&lt;date&gt;</th><th scope=col>&lt;dbl&gt;</th><th scope=col>&lt;chr&gt;</th></tr>\n",
       "</thead>\n",
       "<tbody>\n",
       "\t<tr><td>001004</td><td>2004-06-29</td><td>591442</td><td>2004-06-29</td><td>1012022</td><td>AAR Corp.</td></tr>\n",
       "</tbody>\n",
       "</table>\n"
      ],
      "text/latex": [
       "A data.table: 1 × 6\n",
       "\\begin{tabular}{llllll}\n",
       " gvkey & release\\_date & release\\_keydevid & call\\_date & call\\_keydevid & companyname\\\\\n",
       " <chr> & <date> & <dbl> & <date> & <dbl> & <chr>\\\\\n",
       "\\hline\n",
       "\t 001004 & 2004-06-29 & 591442 & 2004-06-29 & 1012022 & AAR Corp.\\\\\n",
       "\\end{tabular}\n"
      ],
      "text/markdown": [
       "\n",
       "A data.table: 1 × 6\n",
       "\n",
       "| gvkey &lt;chr&gt; | release_date &lt;date&gt; | release_keydevid &lt;dbl&gt; | call_date &lt;date&gt; | call_keydevid &lt;dbl&gt; | companyname &lt;chr&gt; |\n",
       "|---|---|---|---|---|---|\n",
       "| 001004 | 2004-06-29 | 591442 | 2004-06-29 | 1012022 | AAR Corp. |\n",
       "\n"
      ],
      "text/plain": [
       "  gvkey  release_date release_keydevid call_date  call_keydevid companyname\n",
       "1 001004 2004-06-29   591442           2004-06-29 1012022       AAR Corp.  "
      ]
     },
     "metadata": {},
     "output_type": "display_data"
    },
    {
     "name": "stdout",
     "output_type": "stream",
     "text": [
      "-call_release_link- saved  (1.19 secs)\n"
     ]
    }
   ],
   "source": [
    "find_prev_release <- function(t, date, keydevid, keydeveventtypeid, companyname) {\n",
    "    # t: the row_id of one earnings call\n",
    "    # n: the row_id of the closet earnings release\n",
    "    n = tail(which((date>=(date[t]-15)) & (date<=date[t]) & (keydeveventtypeid==28)), 1)\n",
    "    if (length(n) == 1) {\n",
    "        return(list('release_date' = date[n],\n",
    "             'release_keydevid' = keydevid[n],\n",
    "             'call_date' = date[t],\n",
    "             'call_keydevid' = keydevid[t],\n",
    "             'companyname' = companyname[1]))\n",
    "    }\n",
    "}\n",
    "\n",
    "call_release_link = ciq_wrds_keydev[!is.na(gvkey)\n",
    "    ][keydeveventtypeid %in% c(28, 48)\n",
    "    ][order(gvkey, mostimportantdateutc),\n",
    "      .(gvkey, date=as.Date(mostimportantdateutc), keydevid, keydeveventtypeid, companyname, eventtype)\n",
    "    ][, {ts = which(keydeveventtypeid==48)\n",
    "     lapply(ts, partial(find_prev_release, date=date, \n",
    "                        keydevid=keydevid, keydeveventtypeid=keydeveventtypeid,\n",
    "                        companyname=companyname)\n",
    "           ) %>% rbindlist()\n",
    "    },\n",
    "    keyby=.(gvkey)\n",
    "    ]\n",
    "\n",
    "call_release_link[1]\n",
    "sv(call_release_link)"
   ]
  },
  {
   "cell_type": "markdown",
   "metadata": {},
   "source": [
    "## `SUE`"
   ]
  },
  {
   "cell_type": "markdown",
   "metadata": {},
   "source": [
    "Variable Description\n",
    "- `datadate`(COMP): End Date of Earnings Report(earlier than `rdq` and `repdats`)\n",
    "- `fyearq`(COMP): fiscal year\n",
    "- `fyr`(COMP): fiscal year - end month\n",
    "- `fqtr`(COMP): fiscal quarter\n",
    "- `repdats`(IBES): Report Date of Quarterly Earnigns\n",
    "- `rdq`(COMP): Report Date of Quarterly Earnings\n",
    "- `leadrdq`(COMP): Report Date of NEXT Quarter's Earnings\n",
    "\n",
    "- `numest`: Number of Forecasts\n",
    "- `medest`: Median Forecast (based on estimates in the 90 days prior to the EAD)\n",
    "- `basis`: Whether most analysts report estimates on primary(P) / diluted(D)\n",
    "- `act`(IBES): actual earnings\n",
    "- `se`(COMP): Standard Earnings (=act/price_close)\n",
    "- `sest`: Standard Estimates (= se-sue = est/price_close)\n",
    "- `sue1`: SUE based on a rolling seasonal random walk model (LM,p. 185)\n",
    "- `sue2`: SUE accounting for  exclusion of special items\n",
    "- `sue3`: SUE based on IBES reported analyst forecasts and actuals  \n",
    "\n",
    "- `mcap`: Market Cap"
   ]
  },
  {
   "cell_type": "code",
   "execution_count": 59,
   "metadata": {
    "scrolled": true
   },
   "outputs": [
    {
     "data": {
      "text/html": [
       "<table>\n",
       "<caption>A data.table: 1 × 22</caption>\n",
       "<thead>\n",
       "\t<tr><th scope=col>gvkey</th><th scope=col>ticker</th><th scope=col>permno</th><th scope=col>conm</th><th scope=col>fyearq</th><th scope=col>fqtr</th><th scope=col>datadate</th><th scope=col>fyr</th><th scope=col>rdq</th><th scope=col>rdq1</th><th scope=col>leadrdq1</th><th scope=col>repdats</th><th scope=col>mcap</th><th scope=col>medest</th><th scope=col>act</th><th scope=col>numest</th><th scope=col>basis</th><th scope=col>sue1</th><th scope=col>sue2</th><th scope=col>sue3</th><th scope=col>se</th><th scope=col>sest</th></tr>\n",
       "\t<tr><th scope=col>&lt;chr&gt;</th><th scope=col>&lt;chr&gt;</th><th scope=col>&lt;chr&gt;</th><th scope=col>&lt;chr&gt;</th><th scope=col>&lt;dbl&gt;</th><th scope=col>&lt;dbl&gt;</th><th scope=col>&lt;date&gt;</th><th scope=col>&lt;dbl&gt;</th><th scope=col>&lt;date&gt;</th><th scope=col>&lt;date&gt;</th><th scope=col>&lt;date&gt;</th><th scope=col>&lt;date&gt;</th><th scope=col>&lt;dbl&gt;</th><th scope=col>&lt;dbl&gt;</th><th scope=col>&lt;dbl&gt;</th><th scope=col>&lt;dbl&gt;</th><th scope=col>&lt;chr&gt;</th><th scope=col>&lt;dbl&gt;</th><th scope=col>&lt;dbl&gt;</th><th scope=col>&lt;dbl&gt;</th><th scope=col>&lt;dbl&gt;</th><th scope=col>&lt;dbl&gt;</th></tr>\n",
       "</thead>\n",
       "<tbody>\n",
       "\t<tr><td>001013</td><td>ADCT</td><td>50906</td><td>ADC TELECOMMUNICATIONS INC</td><td>2010</td><td>4</td><td>2010-09-30</td><td>9</td><td>2010-11-23</td><td>2010-11-23</td><td>2011-02-23</td><td>2010-11-23</td><td>1231.524</td><td>0.16</td><td>0.15</td><td>1</td><td>D</td><td>NA</td><td>NA</td><td>-0.000789266</td><td>0.01183899</td><td>0.01262826</td></tr>\n",
       "</tbody>\n",
       "</table>\n"
      ],
      "text/latex": [
       "A data.table: 1 × 22\n",
       "\\begin{tabular}{llllllllllllllllllllll}\n",
       " gvkey & ticker & permno & conm & fyearq & fqtr & datadate & fyr & rdq & rdq1 & leadrdq1 & repdats & mcap & medest & act & numest & basis & sue1 & sue2 & sue3 & se & sest\\\\\n",
       " <chr> & <chr> & <chr> & <chr> & <dbl> & <dbl> & <date> & <dbl> & <date> & <date> & <date> & <date> & <dbl> & <dbl> & <dbl> & <dbl> & <chr> & <dbl> & <dbl> & <dbl> & <dbl> & <dbl>\\\\\n",
       "\\hline\n",
       "\t 001013 & ADCT & 50906 & ADC TELECOMMUNICATIONS INC & 2010 & 4 & 2010-09-30 & 9 & 2010-11-23 & 2010-11-23 & 2011-02-23 & 2010-11-23 & 1231.524 & 0.16 & 0.15 & 1 & D & NA & NA & -0.000789266 & 0.01183899 & 0.01262826\\\\\n",
       "\\end{tabular}\n"
      ],
      "text/markdown": [
       "\n",
       "A data.table: 1 × 22\n",
       "\n",
       "| gvkey &lt;chr&gt; | ticker &lt;chr&gt; | permno &lt;chr&gt; | conm &lt;chr&gt; | fyearq &lt;dbl&gt; | fqtr &lt;dbl&gt; | datadate &lt;date&gt; | fyr &lt;dbl&gt; | rdq &lt;date&gt; | rdq1 &lt;date&gt; | leadrdq1 &lt;date&gt; | repdats &lt;date&gt; | mcap &lt;dbl&gt; | medest &lt;dbl&gt; | act &lt;dbl&gt; | numest &lt;dbl&gt; | basis &lt;chr&gt; | sue1 &lt;dbl&gt; | sue2 &lt;dbl&gt; | sue3 &lt;dbl&gt; | se &lt;dbl&gt; | sest &lt;dbl&gt; |\n",
       "|---|---|---|---|---|---|---|---|---|---|---|---|---|---|---|---|---|---|---|---|---|---|\n",
       "| 001013 | ADCT | 50906 | ADC TELECOMMUNICATIONS INC | 2010 | 4 | 2010-09-30 | 9 | 2010-11-23 | 2010-11-23 | 2011-02-23 | 2010-11-23 | 1231.524 | 0.16 | 0.15 | 1 | D | NA | NA | -0.000789266 | 0.01183899 | 0.01262826 |\n",
       "\n"
      ],
      "text/plain": [
       "  gvkey  ticker permno conm                       fyearq fqtr datadate   fyr\n",
       "1 001013 ADCT   50906  ADC TELECOMMUNICATIONS INC 2010   4    2010-09-30 9  \n",
       "  rdq        rdq1       leadrdq1   repdats    mcap     medest act  numest basis\n",
       "1 2010-11-23 2010-11-23 2011-02-23 2010-11-23 1231.524 0.16   0.15 1      D    \n",
       "  sue1 sue2 sue3         se         sest      \n",
       "1 NA   NA   -0.000789266 0.01183899 0.01262826"
      ]
     },
     "metadata": {},
     "output_type": "display_data"
    },
    {
     "name": "stdout",
     "output_type": "stream",
     "text": [
      "-sue- saved  (0.25 secs)\n"
     ]
    }
   ],
   "source": [
    "sue = fread('data/sue_final.csv', colClasses=c('gvkey'='character'))\n",
    "sue[, ':='(permno=as.character(permno),\n",
    "           datadate=ymd(datadate),\n",
    "           rdq=ymd(rdq),\n",
    "           rdq1=ymd(rdq1),\n",
    "           leadrdq1=ymd(leadrdq1),\n",
    "           repdats=ymd(repdats),\n",
    "           sest=se-sue3)]\n",
    "sue[1]\n",
    "sv(sue)"
   ]
  },
  {
   "cell_type": "markdown",
   "metadata": {},
   "source": [
    "## `CAR`"
   ]
  },
  {
   "cell_type": "markdown",
   "metadata": {},
   "source": [
    "Compute the CAR based on the following two event types: (1) earnings announcment; (2) earnings call. Do as follows:\n",
    "\n",
    "1. Create a dataset where the first col is `permno` and the second is `event_date`.\n",
    "2. Use a Python script to compute CAR"
   ]
  },
  {
   "cell_type": "code",
   "execution_count": 41,
   "metadata": {},
   "outputs": [
    {
     "name": "stdout",
     "output_type": "stream",
     "text": [
      "-ciq_wrds_keydev- already exists, will NOT load again!  (0 secs)\n",
      "-gvkey_permno_link- already exists, will NOT load again!  (0 secs)\n",
      "-sp500_cst- already exists, will NOT load again!  (0 secs)\n"
     ]
    }
   ],
   "source": [
    "ld(ciq_wrds_keydev, path=WRDS_DOWNLOAD_DIR)\n",
    "ld(gvkey_permno_link)\n",
    "ld(sp500_cst)"
   ]
  },
  {
   "cell_type": "code",
   "execution_count": 37,
   "metadata": {},
   "outputs": [
    {
     "name": "stdout",
     "output_type": "stream",
     "text": [
      "-gvkey_permno_link- saved  (0.04 secs)\n"
     ]
    }
   ],
   "source": [
    "event_samples = ciq_wrds_keydev[gvkey_permno_link, on=.(gvkey), nomatch=0\n",
    "    ][as.Date(mostimportantdateutc)>linkdt & as.Date(mostimportantdateutc)<linkenddt\n",
    "    ][as.Date(mostimportantdateutc) >= as.Date('2000-01-01')\n",
    "    ][gvkey %in% sp500_cst[, unique(gvkey)]\n",
    "    ][, ':='(linkdt=NULL, linkenddt=NULL)]"
   ]
  },
  {
   "cell_type": "markdown",
   "metadata": {},
   "source": [
    "Then we generate two event samples:\n",
    "- `event_samples_earnings_call`: the earnings CALL (type 48)\n",
    "- `event_samples_earnings_announce`: the earnings announcement (type28)"
   ]
  },
  {
   "cell_type": "code",
   "execution_count": 5,
   "metadata": {},
   "outputs": [],
   "source": [
    "event_samples_test = event_samples[keydeveventtypeid==48,\n",
    "     .(permno=lpermno, edate=format(mostimportantdateutc, '%m/%d/%Y'))\n",
    "    ][order(permno, edate)\n",
    "    ][1:1000] %>% unique()\n",
    "\n",
    "toJSON(event_samples_test, pretty=T) %>% write('data/car/event_samples_test.json')\n",
    "\n",
    "event_samples_earnings_call = event_samples[keydeveventtypeid==48,\n",
    "     .(permno=lpermno, edate=format(mostimportantdateutc, '%m/%d/%Y'))\n",
    "    ][order(permno, edate)] %>% unique()\n",
    "\n",
    "toJSON(event_samples_earnings_call, pretty=T) %>% write('data/car/event_samples_earnings_call.json')\n",
    "\n",
    "event_samples_earnings_announce = event_samples[keydeveventtypeid==28,\n",
    "     .(permno=lpermno, edate=format(mostimportantdateutc, '%m/%d/%Y'))\n",
    "    ][order(permno, edate)] %>% unique()\n",
    "\n",
    "toJSON(event_samples_earnings_announce, pretty=T) %>% write('data/car/event_samples_earnings_announce.json')"
   ]
  },
  {
   "cell_type": "markdown",
   "metadata": {},
   "source": [
    "The produced CAR file is located in `./car/car_30d.csv`"
   ]
  },
  {
   "cell_type": "markdown",
   "metadata": {},
   "source": [
    "## =`Y` "
   ]
  },
  {
   "cell_type": "code",
   "execution_count": 9,
   "metadata": {
    "scrolled": true
   },
   "outputs": [],
   "source": [
    "# read sue\n",
    "ld(sue)"
   ]
  },
  {
   "cell_type": "code",
   "execution_count": null,
   "metadata": {},
   "outputs": [],
   "source": [
    "sue[!is.na(permno)][, ':='(n = .N), keyby=.(permno, fyearq, fqtr)\n",
    "    ][n>=2]"
   ]
  },
  {
   "cell_type": "code",
   "execution_count": 23,
   "metadata": {},
   "outputs": [
    {
     "data": {
      "text/html": [
       "<ol class=list-inline>\n",
       "\t<li>2</li>\n",
       "\t<li>3</li>\n",
       "\t<li>4</li>\n",
       "\t<li>&lt;NA&gt;</li>\n",
       "</ol>\n"
      ],
      "text/latex": [
       "\\begin{enumerate*}\n",
       "\\item 2\n",
       "\\item 3\n",
       "\\item 4\n",
       "\\item <NA>\n",
       "\\end{enumerate*}\n"
      ],
      "text/markdown": [
       "1. 2\n",
       "2. 3\n",
       "3. 4\n",
       "4. &lt;NA&gt;\n",
       "\n",
       "\n"
      ],
      "text/plain": [
       "[1]  2  3  4 NA"
      ]
     },
     "metadata": {},
     "output_type": "display_data"
    }
   ],
   "source": [
    "shift(c(1, 2, 3, 4), type='lead')"
   ]
  },
  {
   "cell_type": "code",
   "execution_count": 26,
   "metadata": {
    "scrolled": true
   },
   "outputs": [
    {
     "data": {
      "text/html": [
       "<table>\n",
       "<caption>A data.table: 39897 × 17</caption>\n",
       "<thead>\n",
       "\t<tr><th scope=col>permno</th><th scope=col>gvkey</th><th scope=col>permno</th><th scope=col>conm</th><th scope=col>fyear</th><th scope=col>fqtr</th><th scope=col>datadate</th><th scope=col>rdq</th><th scope=col>rdq1</th><th scope=col>repdats</th><th scope=col>rdq1_lead1</th><th scope=col>numest</th><th scope=col>sue</th><th scope=col>sue_lead1</th><th scope=col>se</th><th scope=col>se_lead1</th><th scope=col>sest</th></tr>\n",
       "\t<tr><th scope=col>&lt;chr&gt;</th><th scope=col>&lt;chr&gt;</th><th scope=col>&lt;chr&gt;</th><th scope=col>&lt;chr&gt;</th><th scope=col>&lt;dbl&gt;</th><th scope=col>&lt;dbl&gt;</th><th scope=col>&lt;date&gt;</th><th scope=col>&lt;date&gt;</th><th scope=col>&lt;date&gt;</th><th scope=col>&lt;date&gt;</th><th scope=col>&lt;date&gt;</th><th scope=col>&lt;dbl&gt;</th><th scope=col>&lt;dbl&gt;</th><th scope=col>&lt;dbl&gt;</th><th scope=col>&lt;dbl&gt;</th><th scope=col>&lt;dbl&gt;</th><th scope=col>&lt;dbl&gt;</th></tr>\n",
       "</thead>\n",
       "<tbody>\n",
       "\t<tr><td>10078</td><td>012136</td><td>10078</td><td>SUN MICROSYSTEMS INC</td><td>2005</td><td>3</td><td>2005-03-31</td><td>2005-04-14</td><td>2005-04-14</td><td>2005-04-14</td><td>2005-07-26</td><td>12</td><td>-0.0049504950</td><td>-0.0080428954</td><td>-0.004950495</td><td>-0.005361930</td><td> 0.000000000</td></tr>\n",
       "\t<tr><td>10078</td><td>012136</td><td>10078</td><td>SUN MICROSYSTEMS INC</td><td>2005</td><td>4</td><td>2005-06-30</td><td>2005-07-26</td><td>2005-07-26</td><td>2005-07-26</td><td>2005-11-01</td><td> 4</td><td>-0.0080428954</td><td> 0.0000000000</td><td>-0.005361930</td><td>-0.002544529</td><td> 0.002680965</td></tr>\n",
       "\t<tr><td>10078</td><td>012136</td><td>10078</td><td>SUN MICROSYSTEMS INC</td><td>2006</td><td>1</td><td>2005-09-30</td><td>2005-11-01</td><td>2005-11-01</td><td>2005-11-01</td><td>2006-01-24</td><td> 9</td><td> 0.0000000000</td><td>-0.0143198091</td><td>-0.002544529</td><td>-0.016706444</td><td>-0.002544529</td></tr>\n",
       "\t<tr><td>10078</td><td>012136</td><td>10078</td><td>SUN MICROSYSTEMS INC</td><td>2006</td><td>2</td><td>2005-12-31</td><td>2006-01-24</td><td>2006-01-24</td><td>2006-01-24</td><td>2006-04-24</td><td>18</td><td>-0.0143198091</td><td> 0.0000000000</td><td>-0.016706444</td><td>-0.011695906</td><td>-0.002386635</td></tr>\n",
       "\t<tr><td>10078</td><td>012136</td><td>10078</td><td>SUN MICROSYSTEMS INC</td><td>2006</td><td>3</td><td>2006-03-31</td><td>2006-04-24</td><td>2006-04-24</td><td>2006-04-24</td><td>2006-07-25</td><td>20</td><td> 0.0000000000</td><td> 0.0000000000</td><td>-0.011695906</td><td>-0.004819277</td><td>-0.011695906</td></tr>\n",
       "\t<tr><td>10078</td><td>012136</td><td>10078</td><td>SUN MICROSYSTEMS INC</td><td>2006</td><td>4</td><td>2006-06-30</td><td>2006-07-25</td><td>2006-07-25</td><td>2006-07-25</td><td>2006-10-26</td><td> 6</td><td> 0.0000000000</td><td> 0.0040404040</td><td>-0.004819277</td><td>-0.002020202</td><td>-0.004819277</td></tr>\n",
       "\t<tr><td>10078</td><td>012136</td><td>10078</td><td>SUN MICROSYSTEMS INC</td><td>2007</td><td>1</td><td>2006-09-30</td><td>2006-10-26</td><td>2006-10-26</td><td>2006-10-26</td><td>2007-01-23</td><td> 3</td><td> 0.0040404040</td><td> 0.0055350554</td><td>-0.002020202</td><td> 0.007380074</td><td>-0.006060606</td></tr>\n",
       "\t<tr><td>10078</td><td>012136</td><td>10078</td><td>SUN MICROSYSTEMS INC</td><td>2007</td><td>2</td><td>2006-12-31</td><td>2007-01-23</td><td>2007-01-23</td><td>2007-01-23</td><td>2007-04-24</td><td> 9</td><td> 0.0055350554</td><td>-0.0016638935</td><td> 0.007380074</td><td> 0.001663894</td><td> 0.001845018</td></tr>\n",
       "\t<tr><td>10078</td><td>012136</td><td>10078</td><td>SUN MICROSYSTEMS INC</td><td>2007</td><td>3</td><td>2007-03-31</td><td>2007-04-24</td><td>2007-04-24</td><td>2007-04-24</td><td>2007-07-30</td><td>15</td><td>-0.0016638935</td><td> 0.0076045627</td><td> 0.001663894</td><td> 0.017110266</td><td> 0.003327787</td></tr>\n",
       "\t<tr><td>10078</td><td>012136</td><td>10078</td><td>SUN MICROSYSTEMS INC</td><td>2007</td><td>4</td><td>2007-06-30</td><td>2007-07-30</td><td>2007-07-30</td><td>2007-07-30</td><td>2007-11-05</td><td> 2</td><td> 0.0076045627</td><td> 0.0293594306</td><td> 0.017110266</td><td> 0.035587189</td><td> 0.009505703</td></tr>\n",
       "\t<tr><td>10078</td><td>012136</td><td>10078</td><td>SUN MICROSYSTEMS INC</td><td>2008</td><td>1</td><td>2007-09-30</td><td>2007-11-05</td><td>2007-11-05</td><td>2007-11-05</td><td>2008-01-24</td><td> 4</td><td> 0.0293594306</td><td> 0.0027578599</td><td> 0.035587189</td><td> 0.019305019</td><td> 0.006227758</td></tr>\n",
       "\t<tr><td>10078</td><td>012136</td><td>10078</td><td>SUN MICROSYSTEMS INC</td><td>2008</td><td>2</td><td>2007-12-31</td><td>2008-01-24</td><td>2008-01-24</td><td>2008-01-24</td><td>2008-05-01</td><td>18</td><td> 0.0027578599</td><td>-0.0109465551</td><td> 0.019305019</td><td> 0.000643915</td><td> 0.016547159</td></tr>\n",
       "\t<tr><td>10078</td><td>012136</td><td>10078</td><td>SUN MICROSYSTEMS INC</td><td>2008</td><td>3</td><td>2008-03-31</td><td>2008-05-01</td><td>2008-05-01</td><td>2008-05-01</td><td>2008-08-01</td><td>11</td><td>-0.0109465551</td><td>-0.0036764706</td><td> 0.000643915</td><td> 0.016544118</td><td> 0.011590470</td></tr>\n",
       "\t<tr><td>10078</td><td>012136</td><td>10078</td><td>SUN MICROSYSTEMS INC</td><td>2008</td><td>4</td><td>2008-06-30</td><td>2008-08-01</td><td>2008-08-01</td><td>2008-08-01</td><td>2008-10-30</td><td>13</td><td>-0.0036764706</td><td>-0.0197368421</td><td> 0.016544118</td><td>-0.031578947</td><td> 0.020220588</td></tr>\n",
       "\t<tr><td>10078</td><td>012136</td><td>10078</td><td>SUN MICROSYSTEMS INC</td><td>2009</td><td>1</td><td>2008-09-30</td><td>2008-10-30</td><td>2008-10-30</td><td>2008-10-30</td><td>2009-01-27</td><td>20</td><td>-0.0197368421</td><td> 0.0235602094</td><td>-0.031578947</td><td> 0.005235602</td><td>-0.011842105</td></tr>\n",
       "\t<tr><td>10078</td><td>012136</td><td>10078</td><td>SUN MICROSYSTEMS INC</td><td>2009</td><td>2</td><td>2008-12-31</td><td>2009-01-27</td><td>2009-01-27</td><td>2009-01-27</td><td>2009-04-28</td><td>20</td><td> 0.0235602094</td><td>-0.0040983607</td><td> 0.005235602</td><td>-0.028688525</td><td>-0.018324607</td></tr>\n",
       "\t<tr><td>10078</td><td>012136</td><td>10078</td><td>SUN MICROSYSTEMS INC</td><td>2009</td><td>3</td><td>2009-03-31</td><td>2009-04-28</td><td>2009-04-28</td><td>2009-04-28</td><td>2009-08-28</td><td>16</td><td>-0.0040983607</td><td> 0.0097613883</td><td>-0.028688525</td><td>-0.017353579</td><td>-0.024590164</td></tr>\n",
       "\t<tr><td>10078</td><td>012136</td><td>10078</td><td>SUN MICROSYSTEMS INC</td><td>2009</td><td>4</td><td>2009-06-30</td><td>2009-08-28</td><td>2009-08-28</td><td>2009-08-28</td><td>2009-11-06</td><td> 4</td><td> 0.0097613883</td><td> 0.0220022002</td><td>-0.017353579</td><td>-0.009900990</td><td>-0.027114967</td></tr>\n",
       "\t<tr><td>10078</td><td>012136</td><td>10078</td><td>SUN MICROSYSTEMS INC</td><td>2010</td><td>1</td><td>2009-09-30</td><td>2009-11-06</td><td>2009-11-06</td><td>2009-11-06</td><td>2010-02-06</td><td> 5</td><td> 0.0220022002</td><td>           NA</td><td>-0.009900990</td><td>          NA</td><td>-0.031903190</td></tr>\n",
       "\t<tr><td>10104</td><td>012142</td><td>10104</td><td>ORACLE CORP         </td><td>2004</td><td>3</td><td>2005-02-28</td><td>2005-03-22</td><td>2005-03-22</td><td>2005-03-22</td><td>2005-06-29</td><td>13</td><td> 0.0007722008</td><td> 0.0019531250</td><td> 0.012355212</td><td> 0.020312500</td><td> 0.011583012</td></tr>\n",
       "\t<tr><td>10104</td><td>012142</td><td>10104</td><td>ORACLE CORP         </td><td>2004</td><td>4</td><td>2005-05-31</td><td>2005-06-29</td><td>2005-06-29</td><td>2005-06-29</td><td>2005-09-22</td><td> 6</td><td> 0.0019531250</td><td> 0.0000000000</td><td> 0.020312500</td><td> 0.010777521</td><td> 0.018359375</td></tr>\n",
       "\t<tr><td>10104</td><td>012142</td><td>10104</td><td>ORACLE CORP         </td><td>2005</td><td>1</td><td>2005-08-31</td><td>2005-09-22</td><td>2005-09-22</td><td>2005-09-22</td><td>2005-12-15</td><td>20</td><td> 0.0000000000</td><td> 0.0000000000</td><td> 0.010777521</td><td> 0.015079365</td><td> 0.010777521</td></tr>\n",
       "\t<tr><td>10104</td><td>012142</td><td>10104</td><td>ORACLE CORP         </td><td>2005</td><td>2</td><td>2005-11-30</td><td>2005-12-15</td><td>2005-12-15</td><td>2005-12-15</td><td>2006-03-20</td><td>18</td><td> 0.0000000000</td><td> 0.0008051530</td><td> 0.015079365</td><td> 0.015297907</td><td> 0.015079365</td></tr>\n",
       "\t<tr><td>10104</td><td>012142</td><td>10104</td><td>ORACLE CORP         </td><td>2005</td><td>3</td><td>2006-02-28</td><td>2006-03-20</td><td>2006-03-20</td><td>2006-03-20</td><td>2006-06-22</td><td>30</td><td> 0.0008051530</td><td> 0.0000000000</td><td> 0.015297907</td><td> 0.020393812</td><td> 0.014492754</td></tr>\n",
       "\t<tr><td>10104</td><td>012142</td><td>10104</td><td>ORACLE CORP         </td><td>2005</td><td>4</td><td>2006-05-31</td><td>2006-06-22</td><td>2006-06-22</td><td>2006-06-22</td><td>2006-09-19</td><td>18</td><td> 0.0000000000</td><td> 0.0012771392</td><td> 0.020393812</td><td> 0.011494253</td><td> 0.020393812</td></tr>\n",
       "\t<tr><td>10104</td><td>012142</td><td>10104</td><td>ORACLE CORP         </td><td>2006</td><td>1</td><td>2006-08-31</td><td>2006-09-19</td><td>2006-09-19</td><td>2006-09-19</td><td>2006-12-18</td><td>20</td><td> 0.0012771392</td><td> 0.0000000000</td><td> 0.011494253</td><td> 0.011548556</td><td> 0.010217114</td></tr>\n",
       "\t<tr><td>10104</td><td>012142</td><td>10104</td><td>ORACLE CORP         </td><td>2006</td><td>2</td><td>2006-11-30</td><td>2006-12-18</td><td>2006-12-18</td><td>2006-12-18</td><td>2007-03-20</td><td>17</td><td> 0.0000000000</td><td> 0.0012172855</td><td> 0.011548556</td><td> 0.015216068</td><td> 0.011548556</td></tr>\n",
       "\t<tr><td>10104</td><td>012142</td><td>10104</td><td>ORACLE CORP         </td><td>2006</td><td>3</td><td>2007-02-28</td><td>2007-03-20</td><td>2007-03-20</td><td>2007-03-20</td><td>2007-06-26</td><td> 5</td><td> 0.0012172855</td><td> 0.0010319917</td><td> 0.015216068</td><td> 0.019091847</td><td> 0.013998783</td></tr>\n",
       "\t<tr><td>10104</td><td>012142</td><td>10104</td><td>ORACLE CORP         </td><td>2006</td><td>4</td><td>2007-05-31</td><td>2007-06-26</td><td>2007-06-26</td><td>2007-06-26</td><td>2007-09-20</td><td> 5</td><td> 0.0010319917</td><td> 0.0004930966</td><td> 0.019091847</td><td> 0.010848126</td><td> 0.018059856</td></tr>\n",
       "\t<tr><td>10104</td><td>012142</td><td>10104</td><td>ORACLE CORP         </td><td>2007</td><td>1</td><td>2007-08-31</td><td>2007-09-20</td><td>2007-09-20</td><td>2007-09-20</td><td>2007-12-19</td><td>19</td><td> 0.0004930966</td><td> 0.0019821606</td><td> 0.010848126</td><td> 0.015361744</td><td> 0.010355030</td></tr>\n",
       "\t<tr><td>10104</td><td>012142</td><td>10104</td><td>ORACLE CORP         </td><td>2007</td><td>2</td><td>2007-11-30</td><td>2007-12-19</td><td>2007-12-19</td><td>2007-12-19</td><td>2008-03-26</td><td>22</td><td> 0.0019821606</td><td>-0.0005319149</td><td> 0.015361744</td><td> 0.015957447</td><td> 0.013379584</td></tr>\n",
       "\t<tr><td>10104</td><td>012142</td><td>10104</td><td>ORACLE CORP         </td><td>2007</td><td>3</td><td>2008-02-29</td><td>2008-03-26</td><td>2008-03-26</td><td>2008-03-26</td><td>2008-06-25</td><td> 3</td><td>-0.0005319149</td><td> 0.0013134851</td><td> 0.015957447</td><td> 0.020577933</td><td> 0.016489362</td></tr>\n",
       "\t<tr><td>10104</td><td>012142</td><td>10104</td><td>ORACLE CORP         </td><td>2007</td><td>4</td><td>2008-05-31</td><td>2008-06-25</td><td>2008-06-25</td><td>2008-06-25</td><td>2008-09-18</td><td>14</td><td> 0.0013134851</td><td> 0.0009119927</td><td> 0.020577933</td><td> 0.013223894</td><td> 0.019264448</td></tr>\n",
       "\t<tr><td>10104</td><td>012142</td><td>10104</td><td>ORACLE CORP         </td><td>2008</td><td>1</td><td>2008-08-31</td><td>2008-09-18</td><td>2008-09-18</td><td>2008-09-18</td><td>2008-12-18</td><td>17</td><td> 0.0009119927</td><td> 0.0000000000</td><td> 0.013223894</td><td> 0.021131137</td><td> 0.012311902</td></tr>\n",
       "\t<tr><td>10104</td><td>012142</td><td>10104</td><td>ORACLE CORP         </td><td>2008</td><td>2</td><td>2008-11-30</td><td>2008-12-18</td><td>2008-12-18</td><td>2008-12-18</td><td>2009-03-18</td><td>26</td><td> 0.0000000000</td><td> 0.0025740026</td><td> 0.021131137</td><td> 0.022522523</td><td> 0.021131137</td></tr>\n",
       "\t<tr><td>10104</td><td>012142</td><td>10104</td><td>ORACLE CORP         </td><td>2008</td><td>3</td><td>2009-02-28</td><td>2009-03-18</td><td>2009-03-18</td><td>2009-03-18</td><td>2009-06-23</td><td>23</td><td> 0.0025740026</td><td> 0.0010209290</td><td> 0.022522523</td><td> 0.023481368</td><td> 0.019948520</td></tr>\n",
       "\t<tr><td>10104</td><td>012142</td><td>10104</td><td>ORACLE CORP         </td><td>2008</td><td>4</td><td>2009-05-31</td><td>2009-06-23</td><td>2009-06-23</td><td>2009-06-23</td><td>2009-09-16</td><td> 6</td><td> 0.0010209290</td><td> 0.0000000000</td><td> 0.023481368</td><td> 0.013711152</td><td> 0.022460439</td></tr>\n",
       "\t<tr><td>10104</td><td>012142</td><td>10104</td><td>ORACLE CORP         </td><td>2009</td><td>1</td><td>2009-08-31</td><td>2009-09-16</td><td>2009-09-16</td><td>2009-09-16</td><td>2009-12-17</td><td>26</td><td> 0.0000000000</td><td> 0.0013586957</td><td> 0.013711152</td><td> 0.017663043</td><td> 0.013711152</td></tr>\n",
       "\t<tr><td>10104</td><td>012142</td><td>10104</td><td>ORACLE CORP         </td><td>2009</td><td>2</td><td>2009-11-30</td><td>2009-12-17</td><td>2009-12-17</td><td>2009-12-17</td><td>2010-03-25</td><td> 4</td><td> 0.0013586957</td><td> 0.0002028398</td><td> 0.017663043</td><td> 0.015415822</td><td> 0.016304348</td></tr>\n",
       "\t<tr><td>10104</td><td>012142</td><td>10104</td><td>ORACLE CORP         </td><td>2009</td><td>3</td><td>2010-02-28</td><td>2010-03-25</td><td>2010-03-25</td><td>2010-03-25</td><td>2010-06-24</td><td>12</td><td> 0.0002028398</td><td> 0.0026583961</td><td> 0.015415822</td><td> 0.026583961</td><td> 0.015212982</td></tr>\n",
       "\t<tr><td>10104</td><td>012142</td><td>10104</td><td>ORACLE CORP         </td><td>2009</td><td>4</td><td>2010-05-31</td><td>2010-06-24</td><td>2010-06-24</td><td>2010-06-24</td><td>2010-09-16</td><td>29</td><td> 0.0026583961</td><td> 0.0027466239</td><td> 0.026583961</td><td> 0.019226368</td><td> 0.023925565</td></tr>\n",
       "\t<tr><td>10104</td><td>012142</td><td>10104</td><td>ORACLE CORP         </td><td>2010</td><td>1</td><td>2010-08-31</td><td>2010-09-16</td><td>2010-09-16</td><td>2010-09-16</td><td>2010-12-16</td><td>33</td><td> 0.0027466239</td><td> 0.0018487706</td><td> 0.019226368</td><td> 0.018857460</td><td> 0.016479744</td></tr>\n",
       "\t<tr><td>10104</td><td>012142</td><td>10104</td><td>ORACLE CORP         </td><td>2010</td><td>2</td><td>2010-11-30</td><td>2010-12-16</td><td>2010-12-16</td><td>2010-12-16</td><td>2011-03-24</td><td>27</td><td> 0.0018487706</td><td> 0.0012158055</td><td> 0.018857460</td><td> 0.016413374</td><td> 0.017008689</td></tr>\n",
       "\t<tr><td>10104</td><td>012142</td><td>10104</td><td>ORACLE CORP         </td><td>2010</td><td>3</td><td>2011-02-28</td><td>2011-03-24</td><td>2011-03-24</td><td>2011-03-24</td><td>2011-06-23</td><td>12</td><td> 0.0012158055</td><td> 0.0011689071</td><td> 0.016413374</td><td> 0.021917008</td><td> 0.015197568</td></tr>\n",
       "\t<tr><td>10104</td><td>012142</td><td>10104</td><td>ORACLE CORP         </td><td>2010</td><td>4</td><td>2011-05-31</td><td>2011-06-23</td><td>2011-06-23</td><td>2011-06-23</td><td>2011-09-20</td><td>34</td><td> 0.0011689071</td><td> 0.0007125045</td><td> 0.021917008</td><td> 0.017100107</td><td> 0.020748101</td></tr>\n",
       "\t<tr><td>10104</td><td>012142</td><td>10104</td><td>ORACLE CORP         </td><td>2011</td><td>1</td><td>2011-08-31</td><td>2011-09-20</td><td>2011-09-20</td><td>2011-09-20</td><td>2011-12-20</td><td>35</td><td> 0.0007125045</td><td>-0.0009569378</td><td> 0.017100107</td><td> 0.017224880</td><td> 0.016387602</td></tr>\n",
       "\t<tr><td>10104</td><td>012142</td><td>10104</td><td>ORACLE CORP         </td><td>2011</td><td>2</td><td>2011-11-30</td><td>2011-12-20</td><td>2011-12-20</td><td>2011-12-20</td><td>2012-03-20</td><td>22</td><td>-0.0009569378</td><td> 0.0020509315</td><td> 0.017224880</td><td> 0.021192958</td><td> 0.018181818</td></tr>\n",
       "\t<tr><td>10104</td><td>012142</td><td>10104</td><td>ORACLE CORP         </td><td>2011</td><td>3</td><td>2012-02-29</td><td>2012-03-20</td><td>2012-03-20</td><td>2012-03-20</td><td>2012-06-18</td><td>34</td><td> 0.0020509315</td><td> 0.0015111447</td><td> 0.021192958</td><td> 0.030978466</td><td> 0.019142027</td></tr>\n",
       "\t<tr><td>10104</td><td>012142</td><td>10104</td><td>ORACLE CORP         </td><td>2011</td><td>4</td><td>2012-05-31</td><td>2012-06-18</td><td>2012-06-18</td><td>2012-06-18</td><td>2012-09-20</td><td>39</td><td> 0.0015111447</td><td> 0.0000000000</td><td> 0.030978466</td><td> 0.016745656</td><td> 0.029467321</td></tr>\n",
       "\t<tr><td>10104</td><td>012142</td><td>10104</td><td>ORACLE CORP         </td><td>2012</td><td>1</td><td>2012-08-31</td><td>2012-09-20</td><td>2012-09-20</td><td>2012-09-20</td><td>2012-12-18</td><td> 6</td><td> 0.0000000000</td><td> 0.0009324009</td><td> 0.016745656</td><td> 0.019891220</td><td> 0.016745656</td></tr>\n",
       "\t<tr><td>...</td><td>...</td><td>...</td><td>...</td><td>...</td><td>...</td><td>...</td><td>...</td><td>...</td><td>...</td><td>...</td><td>...</td><td>...</td><td>...</td><td>...</td><td>...</td><td>...</td></tr>\n",
       "\t<tr><td>93422</td><td>154357</td><td>93422</td><td>QEP RESOURCES INC      </td><td>2015</td><td>2</td><td>2015-06-30</td><td>2015-08-03</td><td>2015-08-03</td><td>2015-08-03</td><td>2015-10-28</td><td>13</td><td> 8.643976e-03</td><td> 7.182761e-03</td><td> 0.0048622366</td><td> 0.0007980846</td><td>-0.003781740</td></tr>\n",
       "\t<tr><td>93422</td><td>154357</td><td>93422</td><td>QEP RESOURCES INC      </td><td>2015</td><td>3</td><td>2015-09-30</td><td>2015-10-28</td><td>2015-10-28</td><td>2015-10-28</td><td>2016-02-24</td><td>15</td><td> 7.182761e-03</td><td> 7.462687e-03</td><td> 0.0007980846</td><td>-0.0007462687</td><td>-0.006384677</td></tr>\n",
       "\t<tr><td>93422</td><td>154357</td><td>93422</td><td>QEP RESOURCES INC      </td><td>2015</td><td>4</td><td>2015-12-31</td><td>2016-02-24</td><td>2016-02-24</td><td>2016-02-24</td><td>2016-04-27</td><td>15</td><td> 7.462687e-03</td><td> 4.252303e-03</td><td>-0.0007462687</td><td>-0.0375620128</td><td>-0.008208955</td></tr>\n",
       "\t<tr><td>93422</td><td>154357</td><td>93422</td><td>QEP RESOURCES INC      </td><td>2016</td><td>1</td><td>2016-03-31</td><td>2016-04-27</td><td>2016-04-27</td><td>2016-04-27</td><td>2016-07-27</td><td>17</td><td> 4.252303e-03</td><td> 6.239365e-03</td><td>-0.0375620128</td><td>-0.0130459444</td><td>-0.041814316</td></tr>\n",
       "\t<tr><td>93422</td><td>154357</td><td>93422</td><td>QEP RESOURCES INC      </td><td>2016</td><td>2</td><td>2016-06-30</td><td>2016-07-27</td><td>2016-07-27</td><td>2016-07-27</td><td>2016-10-26</td><td>19</td><td> 6.239365e-03</td><td> 1.024066e-03</td><td>-0.0130459444</td><td>-0.0107526882</td><td>-0.019285309</td></tr>\n",
       "\t<tr><td>93422</td><td>154357</td><td>93422</td><td>QEP RESOURCES INC      </td><td>2016</td><td>3</td><td>2016-09-30</td><td>2016-10-26</td><td>2016-10-26</td><td>2016-10-26</td><td>2017-02-22</td><td>18</td><td> 1.024066e-03</td><td> 4.073873e-03</td><td>-0.0107526882</td><td>-0.0081477458</td><td>-0.011776754</td></tr>\n",
       "\t<tr><td>93422</td><td>154357</td><td>93422</td><td>QEP RESOURCES INC      </td><td>2016</td><td>4</td><td>2016-12-31</td><td>2017-02-22</td><td>2017-02-22</td><td>2017-02-22</td><td>2017-04-26</td><td>14</td><td> 4.073873e-03</td><td> 5.507474e-03</td><td>-0.0081477458</td><td>-0.0110149489</td><td>-0.012221619</td></tr>\n",
       "\t<tr><td>93422</td><td>154357</td><td>93422</td><td>QEP RESOURCES INC      </td><td>2017</td><td>1</td><td>2017-03-31</td><td>2017-04-26</td><td>2017-04-26</td><td>2017-04-26</td><td>2017-07-26</td><td>19</td><td> 5.507474e-03</td><td> 7.920792e-03</td><td>-0.0110149489</td><td>-0.0118811881</td><td>-0.016522423</td></tr>\n",
       "\t<tr><td>93422</td><td>154357</td><td>93422</td><td>QEP RESOURCES INC      </td><td>2017</td><td>2</td><td>2017-06-30</td><td>2017-07-26</td><td>2017-07-26</td><td>2017-07-26</td><td>2017-10-25</td><td>19</td><td> 7.920792e-03</td><td> 1.225204e-02</td><td>-0.0118811881</td><td>-0.0116686114</td><td>-0.019801980</td></tr>\n",
       "\t<tr><td>93422</td><td>154357</td><td>93422</td><td>QEP RESOURCES INC      </td><td>2017</td><td>3</td><td>2017-09-30</td><td>2017-10-25</td><td>2017-10-25</td><td>2017-10-25</td><td>2018-02-28</td><td>20</td><td> 1.225204e-02</td><td> 1.253918e-01</td><td>-0.0116686114</td><td> 0.1180773250</td><td>-0.023920653</td></tr>\n",
       "\t<tr><td>93422</td><td>154357</td><td>93422</td><td>QEP RESOURCES INC      </td><td>2017</td><td>4</td><td>2017-12-31</td><td>2018-02-28</td><td>2018-02-28</td><td>2018-02-28</td><td>2018-04-25</td><td>21</td><td> 1.253918e-01</td><td>-4.085802e-04</td><td> 0.1180773250</td><td>-0.0204290092</td><td>-0.007314525</td></tr>\n",
       "\t<tr><td>93422</td><td>154357</td><td>93422</td><td>QEP RESOURCES INC      </td><td>2018</td><td>1</td><td>2018-03-31</td><td>2018-04-25</td><td>2018-04-25</td><td>2018-04-25</td><td>2018-07-25</td><td>21</td><td>-4.085802e-04</td><td> 1.386623e-02</td><td>-0.0204290092</td><td> 0.0048939641</td><td>-0.020020429</td></tr>\n",
       "\t<tr><td>93422</td><td>154357</td><td>93422</td><td>QEP RESOURCES INC      </td><td>2018</td><td>2</td><td>2018-06-30</td><td>2018-07-25</td><td>2018-07-25</td><td>2018-07-25</td><td>2018-11-07</td><td>17</td><td> 1.386623e-02</td><td> 1.757951e-02</td><td> 0.0048939641</td><td> 0.0150176678</td><td>-0.008972268</td></tr>\n",
       "\t<tr><td>93422</td><td>154357</td><td>93422</td><td>QEP RESOURCES INC      </td><td>2018</td><td>3</td><td>2018-09-30</td><td>2018-11-07</td><td>2018-11-07</td><td>2018-11-07</td><td>NA</td><td>17</td><td> 1.757951e-02</td><td>           NA</td><td> 0.0150176678</td><td>-0.0230905861</td><td>-0.002561837</td></tr>\n",
       "\t<tr><td>93422</td><td>154357</td><td>93422</td><td>QEP RESOURCES INC      </td><td>2018</td><td>4</td><td>2018-12-31</td><td>2019-02-20</td><td>NA</td><td>2019-02-20</td><td>NA</td><td> 0</td><td>           NA</td><td>           NA</td><td>-0.0230905861</td><td>           NA</td><td>          NA</td></tr>\n",
       "\t<tr><td>93429</td><td>184500</td><td>93429</td><td>CBOE GLOBAL MARKETS INC</td><td>2010</td><td>2</td><td>2010-06-30</td><td>2010-08-05</td><td>2010-08-05</td><td>2010-08-05</td><td>2010-11-04</td><td>13</td><td>-6.144393e-04</td><td> 1.980198e-03</td><td> 0.0082949309</td><td> 0.0128712871</td><td> 0.008909370</td></tr>\n",
       "\t<tr><td>93429</td><td>184500</td><td>93429</td><td>CBOE GLOBAL MARKETS INC</td><td>2010</td><td>3</td><td>2010-09-30</td><td>2010-11-04</td><td>2010-11-04</td><td>2010-11-04</td><td>2011-02-10</td><td>14</td><td> 1.980198e-03</td><td> 8.748906e-04</td><td> 0.0128712871</td><td> 0.0135608049</td><td> 0.010891089</td></tr>\n",
       "\t<tr><td>93429</td><td>184500</td><td>93429</td><td>CBOE GLOBAL MARKETS INC</td><td>2010</td><td>4</td><td>2010-12-31</td><td>2011-02-10</td><td>2011-02-10</td><td>2011-02-10</td><td>2011-05-05</td><td>15</td><td> 8.748906e-04</td><td> 6.903693e-04</td><td> 0.0135608049</td><td> 0.0124266483</td><td> 0.012685914</td></tr>\n",
       "\t<tr><td>93429</td><td>184500</td><td>93429</td><td>CBOE GLOBAL MARKETS INC</td><td>2011</td><td>1</td><td>2011-03-31</td><td>2011-05-05</td><td>2011-05-05</td><td>2011-05-05</td><td>2011-08-04</td><td>16</td><td> 6.903693e-04</td><td> 1.422764e-03</td><td> 0.0124266483</td><td> 0.0146341463</td><td> 0.011736279</td></tr>\n",
       "\t<tr><td>93429</td><td>184500</td><td>93429</td><td>CBOE GLOBAL MARKETS INC</td><td>2011</td><td>2</td><td>2011-06-30</td><td>2011-08-04</td><td>2011-08-04</td><td>2011-08-04</td><td>2011-11-03</td><td>16</td><td> 1.422764e-03</td><td> 2.043318e-03</td><td> 0.0146341463</td><td> 0.0204331835</td><td> 0.013211382</td></tr>\n",
       "\t<tr><td>93429</td><td>184500</td><td>93429</td><td>CBOE GLOBAL MARKETS INC</td><td>2011</td><td>3</td><td>2011-09-30</td><td>2011-11-03</td><td>2011-11-03</td><td>2011-11-03</td><td>2012-02-09</td><td>17</td><td> 2.043318e-03</td><td> 9.667440e-04</td><td> 0.0204331835</td><td> 0.0143078113</td><td> 0.018389865</td></tr>\n",
       "\t<tr><td>93429</td><td>184500</td><td>93429</td><td>CBOE GLOBAL MARKETS INC</td><td>2011</td><td>4</td><td>2011-12-31</td><td>2012-02-09</td><td>2012-02-09</td><td>2012-02-09</td><td>2012-05-01</td><td>16</td><td> 9.667440e-04</td><td> 3.518649e-04</td><td> 0.0143078113</td><td> 0.0130190007</td><td> 0.013341067</td></tr>\n",
       "\t<tr><td>93429</td><td>184500</td><td>93429</td><td>CBOE GLOBAL MARKETS INC</td><td>2012</td><td>1</td><td>2012-03-31</td><td>2012-05-01</td><td>2012-05-01</td><td>2012-05-01</td><td>2012-08-02</td><td>17</td><td> 3.518649e-04</td><td> 1.083815e-03</td><td> 0.0130190007</td><td> 0.0158959538</td><td> 0.012667136</td></tr>\n",
       "\t<tr><td>93429</td><td>184500</td><td>93429</td><td>CBOE GLOBAL MARKETS INC</td><td>2012</td><td>2</td><td>2012-06-30</td><td>2012-08-02</td><td>2012-08-02</td><td>2012-08-01</td><td>2012-11-01</td><td>14</td><td> 1.083815e-03</td><td> 1.360544e-03</td><td> 0.0158959538</td><td> 0.0146258503</td><td> 0.014812139</td></tr>\n",
       "\t<tr><td>93429</td><td>184500</td><td>93429</td><td>CBOE GLOBAL MARKETS INC</td><td>2012</td><td>3</td><td>2012-09-30</td><td>2012-11-01</td><td>2012-11-01</td><td>2012-11-01</td><td>2013-02-08</td><td>14</td><td> 1.360544e-03</td><td> 1.018330e-03</td><td> 0.0146258503</td><td> 0.0152749491</td><td> 0.013265306</td></tr>\n",
       "\t<tr><td>93429</td><td>184500</td><td>93429</td><td>CBOE GLOBAL MARKETS INC</td><td>2012</td><td>4</td><td>2012-12-31</td><td>2013-02-08</td><td>2013-02-08</td><td>2013-02-08</td><td>2013-05-03</td><td>12</td><td> 1.018330e-03</td><td> 2.707093e-04</td><td> 0.0152749491</td><td> 0.0129940444</td><td> 0.014256619</td></tr>\n",
       "\t<tr><td>93429</td><td>184500</td><td>93429</td><td>CBOE GLOBAL MARKETS INC</td><td>2013</td><td>1</td><td>2013-03-31</td><td>2013-05-03</td><td>2013-05-03</td><td>2013-05-03</td><td>2013-08-02</td><td>13</td><td> 2.707093e-04</td><td> 4.288165e-04</td><td> 0.0129940444</td><td> 0.0113636364</td><td> 0.012723335</td></tr>\n",
       "\t<tr><td>93429</td><td>184500</td><td>93429</td><td>CBOE GLOBAL MARKETS INC</td><td>2013</td><td>2</td><td>2013-06-30</td><td>2013-08-02</td><td>2013-08-02</td><td>2013-08-02</td><td>2013-11-01</td><td>12</td><td> 4.288165e-04</td><td> 4.421844e-04</td><td> 0.0113636364</td><td> 0.0103913332</td><td> 0.010934820</td></tr>\n",
       "\t<tr><td>93429</td><td>184500</td><td>93429</td><td>CBOE GLOBAL MARKETS INC</td><td>2013</td><td>3</td><td>2013-09-30</td><td>2013-11-01</td><td>2013-11-01</td><td>2013-11-01</td><td>2014-02-07</td><td>15</td><td> 4.421844e-04</td><td> 7.698229e-04</td><td> 0.0103913332</td><td> 0.0100076982</td><td> 0.009949149</td></tr>\n",
       "\t<tr><td>93429</td><td>184500</td><td>93429</td><td>CBOE GLOBAL MARKETS INC</td><td>2013</td><td>4</td><td>2013-12-31</td><td>2014-02-07</td><td>2014-02-07</td><td>2014-02-07</td><td>2014-05-06</td><td>12</td><td> 7.698229e-04</td><td> 0.000000e+00</td><td> 0.0100076982</td><td> 0.0098939929</td><td> 0.009237875</td></tr>\n",
       "\t<tr><td>93429</td><td>184500</td><td>93429</td><td>CBOE GLOBAL MARKETS INC</td><td>2014</td><td>1</td><td>2014-03-31</td><td>2014-05-06</td><td>2014-05-06</td><td>2014-05-06</td><td>2014-08-01</td><td>12</td><td> 0.000000e+00</td><td>-1.016054e-04</td><td> 0.0098939929</td><td> 0.0101605365</td><td> 0.009893993</td></tr>\n",
       "\t<tr><td>93429</td><td>184500</td><td>93429</td><td>CBOE GLOBAL MARKETS INC</td><td>2014</td><td>2</td><td>2014-06-30</td><td>2014-08-01</td><td>2014-08-01</td><td>2014-08-01</td><td>2014-10-31</td><td>12</td><td>-1.016054e-04</td><td> 5.604858e-04</td><td> 0.0101605365</td><td> 0.0106492293</td><td> 0.010262142</td></tr>\n",
       "\t<tr><td>93429</td><td>184500</td><td>93429</td><td>CBOE GLOBAL MARKETS INC</td><td>2014</td><td>3</td><td>2014-09-30</td><td>2014-10-31</td><td>2014-10-31</td><td>2014-10-31</td><td>2015-02-06</td><td>15</td><td> 5.604858e-04</td><td>-2.680542e-04</td><td> 0.0106492293</td><td> 0.0100914538</td><td> 0.010088744</td></tr>\n",
       "\t<tr><td>93429</td><td>184500</td><td>93429</td><td>CBOE GLOBAL MARKETS INC</td><td>2014</td><td>4</td><td>2014-12-31</td><td>2015-02-06</td><td>2015-02-06</td><td>2015-02-06</td><td>2015-05-01</td><td>14</td><td>-2.680542e-04</td><td> 4.355021e-04</td><td> 0.0100914538</td><td> 0.0087100427</td><td> 0.010359508</td></tr>\n",
       "\t<tr><td>93429</td><td>184500</td><td>93429</td><td>CBOE GLOBAL MARKETS INC</td><td>2015</td><td>1</td><td>2015-03-31</td><td>2015-05-01</td><td>2015-05-01</td><td>2015-05-01</td><td>2015-07-31</td><td>14</td><td> 4.355021e-04</td><td> 6.990563e-04</td><td> 0.0087100427</td><td> 0.0094372597</td><td> 0.008274541</td></tr>\n",
       "\t<tr><td>93429</td><td>184500</td><td>93429</td><td>CBOE GLOBAL MARKETS INC</td><td>2015</td><td>2</td><td>2015-06-30</td><td>2015-07-31</td><td>2015-07-31</td><td>2015-07-31</td><td>2015-10-30</td><td>14</td><td> 6.990563e-04</td><td> 4.472272e-04</td><td> 0.0094372597</td><td> 0.0113297555</td><td> 0.008738203</td></tr>\n",
       "\t<tr><td>93429</td><td>184500</td><td>93429</td><td>CBOE GLOBAL MARKETS INC</td><td>2015</td><td>3</td><td>2015-09-30</td><td>2015-10-30</td><td>2015-10-30</td><td>2015-10-30</td><td>2016-02-03</td><td>13</td><td> 4.472272e-04</td><td> 6.163328e-04</td><td> 0.0113297555</td><td> 0.0090909091</td><td> 0.010882528</td></tr>\n",
       "\t<tr><td>93429</td><td>184500</td><td>93429</td><td>CBOE GLOBAL MARKETS INC</td><td>2015</td><td>4</td><td>2015-12-31</td><td>2016-02-03</td><td>2016-02-03</td><td>2016-02-03</td><td>2016-04-29</td><td>14</td><td> 6.163328e-04</td><td>-1.530690e-04</td><td> 0.0090909091</td><td> 0.0093372111</td><td> 0.008474576</td></tr>\n",
       "\t<tr><td>93429</td><td>184500</td><td>93429</td><td>CBOE GLOBAL MARKETS INC</td><td>2016</td><td>1</td><td>2016-03-31</td><td>2016-04-29</td><td>2016-04-29</td><td>2016-04-29</td><td>2016-07-29</td><td>16</td><td>-1.530690e-04</td><td> 0.000000e+00</td><td> 0.0093372111</td><td> 0.0090063044</td><td> 0.009490280</td></tr>\n",
       "\t<tr><td>93429</td><td>184500</td><td>93429</td><td>CBOE GLOBAL MARKETS INC</td><td>2016</td><td>2</td><td>2016-06-30</td><td>2016-07-29</td><td>2016-07-29</td><td>2016-07-29</td><td>2016-10-28</td><td>16</td><td> 0.000000e+00</td><td> 1.542020e-04</td><td> 0.0090063044</td><td> 0.0089437163</td><td> 0.009006304</td></tr>\n",
       "\t<tr><td>93429</td><td>184500</td><td>93429</td><td>CBOE GLOBAL MARKETS INC</td><td>2016</td><td>3</td><td>2016-09-30</td><td>2016-10-28</td><td>2016-10-28</td><td>2016-10-28</td><td>2017-02-06</td><td>15</td><td> 1.542020e-04</td><td> 4.060089e-04</td><td> 0.0089437163</td><td> 0.0085261876</td><td> 0.008789514</td></tr>\n",
       "\t<tr><td>93429</td><td>184500</td><td>93429</td><td>CBOE GLOBAL MARKETS INC</td><td>2016</td><td>4</td><td>2016-12-31</td><td>2017-02-06</td><td>2017-02-06</td><td>2017-02-06</td><td>2017-05-09</td><td>13</td><td> 4.060089e-04</td><td> 1.110152e-03</td><td> 0.0085261876</td><td> 0.0096213149</td><td> 0.008120179</td></tr>\n",
       "\t<tr><td>93429</td><td>184500</td><td>93429</td><td>CBOE GLOBAL MARKETS INC</td><td>2017</td><td>1</td><td>2017-03-31</td><td>2017-05-09</td><td>2017-05-09</td><td>2017-05-09</td><td>2017-08-04</td><td>13</td><td> 1.110152e-03</td><td> 1.094092e-04</td><td> 0.0096213149</td><td> 0.0095185996</td><td> 0.008511163</td></tr>\n",
       "\t<tr><td>93429</td><td>184500</td><td>93429</td><td>CBOE GLOBAL MARKETS INC</td><td>2017</td><td>2</td><td>2017-06-30</td><td>2017-08-04</td><td>2017-08-04</td><td>2017-08-04</td><td>2017-11-07</td><td>14</td><td> 1.094092e-04</td><td> 9.291090e-05</td><td> 0.0095185996</td><td> 0.0082690700</td><td> 0.009409190</td></tr>\n",
       "\t<tr><td>93429</td><td>184500</td><td>93429</td><td>CBOE GLOBAL MARKETS INC</td><td>2017</td><td>3</td><td>2017-09-30</td><td>2017-11-07</td><td>2017-11-07</td><td>2017-11-07</td><td>2018-02-09</td><td>12</td><td> 9.291090e-05</td><td>-8.026326e-05</td><td> 0.0082690700</td><td> 0.0069829039</td><td> 0.008176159</td></tr>\n",
       "\t<tr><td>93429</td><td>184500</td><td>93429</td><td>CBOE GLOBAL MARKETS INC</td><td>2017</td><td>4</td><td>2017-12-31</td><td>2018-02-09</td><td>2018-02-09</td><td>2018-02-09</td><td>2018-05-04</td><td>10</td><td>-8.026326e-05</td><td> 8.764242e-04</td><td> 0.0069829039</td><td> 0.0120946538</td><td> 0.007063167</td></tr>\n",
       "\t<tr><td>93429</td><td>184500</td><td>93429</td><td>CBOE GLOBAL MARKETS INC</td><td>2018</td><td>1</td><td>2018-03-31</td><td>2018-05-04</td><td>2018-05-04</td><td>2018-05-04</td><td>2018-08-03</td><td>13</td><td> 8.764242e-04</td><td> 2.402229e-04</td><td> 0.0120946538</td><td> 0.0100893629</td><td> 0.011218230</td></tr>\n",
       "\t<tr><td>93429</td><td>184500</td><td>93429</td><td>CBOE GLOBAL MARKETS INC</td><td>2018</td><td>2</td><td>2018-06-30</td><td>2018-08-03</td><td>2018-08-03</td><td>2018-08-03</td><td>2018-11-02</td><td>12</td><td> 2.402229e-04</td><td> 5.210504e-04</td><td> 0.0100893629</td><td> 0.0110462693</td><td> 0.009849140</td></tr>\n",
       "\t<tr><td>93429</td><td>184500</td><td>93429</td><td>CBOE GLOBAL MARKETS INC</td><td>2018</td><td>3</td><td>2018-09-30</td><td>2018-11-02</td><td>2018-11-02</td><td>2018-11-02</td><td>NA</td><td>14</td><td> 5.210504e-04</td><td>           NA</td><td> 0.0110462693</td><td> 0.0157415926</td><td> 0.010525219</td></tr>\n",
       "\t<tr><td>93429</td><td>184500</td><td>93429</td><td>CBOE GLOBAL MARKETS INC</td><td>2018</td><td>4</td><td>2018-12-31</td><td>2019-02-08</td><td>NA</td><td>2019-02-08</td><td>NA</td><td> 0</td><td>           NA</td><td>           NA</td><td> 0.0157415926</td><td>           NA</td><td>          NA</td></tr>\n",
       "</tbody>\n",
       "</table>\n"
      ],
      "text/latex": [
       "A data.table: 39897 × 17\n",
       "\\begin{tabular}{lllllllllllllllll}\n",
       " permno & gvkey & permno & conm & fyear & fqtr & datadate & rdq & rdq1 & repdats & rdq1\\_lead1 & numest & sue & sue\\_lead1 & se & se\\_lead1 & sest\\\\\n",
       " <chr> & <chr> & <chr> & <chr> & <dbl> & <dbl> & <date> & <date> & <date> & <date> & <date> & <dbl> & <dbl> & <dbl> & <dbl> & <dbl> & <dbl>\\\\\n",
       "\\hline\n",
       "\t 10078 & 012136 & 10078 & SUN MICROSYSTEMS INC & 2005 & 3 & 2005-03-31 & 2005-04-14 & 2005-04-14 & 2005-04-14 & 2005-07-26 & 12 & -0.0049504950 & -0.0080428954 & -0.004950495 & -0.005361930 &  0.000000000\\\\\n",
       "\t 10078 & 012136 & 10078 & SUN MICROSYSTEMS INC & 2005 & 4 & 2005-06-30 & 2005-07-26 & 2005-07-26 & 2005-07-26 & 2005-11-01 &  4 & -0.0080428954 &  0.0000000000 & -0.005361930 & -0.002544529 &  0.002680965\\\\\n",
       "\t 10078 & 012136 & 10078 & SUN MICROSYSTEMS INC & 2006 & 1 & 2005-09-30 & 2005-11-01 & 2005-11-01 & 2005-11-01 & 2006-01-24 &  9 &  0.0000000000 & -0.0143198091 & -0.002544529 & -0.016706444 & -0.002544529\\\\\n",
       "\t 10078 & 012136 & 10078 & SUN MICROSYSTEMS INC & 2006 & 2 & 2005-12-31 & 2006-01-24 & 2006-01-24 & 2006-01-24 & 2006-04-24 & 18 & -0.0143198091 &  0.0000000000 & -0.016706444 & -0.011695906 & -0.002386635\\\\\n",
       "\t 10078 & 012136 & 10078 & SUN MICROSYSTEMS INC & 2006 & 3 & 2006-03-31 & 2006-04-24 & 2006-04-24 & 2006-04-24 & 2006-07-25 & 20 &  0.0000000000 &  0.0000000000 & -0.011695906 & -0.004819277 & -0.011695906\\\\\n",
       "\t 10078 & 012136 & 10078 & SUN MICROSYSTEMS INC & 2006 & 4 & 2006-06-30 & 2006-07-25 & 2006-07-25 & 2006-07-25 & 2006-10-26 &  6 &  0.0000000000 &  0.0040404040 & -0.004819277 & -0.002020202 & -0.004819277\\\\\n",
       "\t 10078 & 012136 & 10078 & SUN MICROSYSTEMS INC & 2007 & 1 & 2006-09-30 & 2006-10-26 & 2006-10-26 & 2006-10-26 & 2007-01-23 &  3 &  0.0040404040 &  0.0055350554 & -0.002020202 &  0.007380074 & -0.006060606\\\\\n",
       "\t 10078 & 012136 & 10078 & SUN MICROSYSTEMS INC & 2007 & 2 & 2006-12-31 & 2007-01-23 & 2007-01-23 & 2007-01-23 & 2007-04-24 &  9 &  0.0055350554 & -0.0016638935 &  0.007380074 &  0.001663894 &  0.001845018\\\\\n",
       "\t 10078 & 012136 & 10078 & SUN MICROSYSTEMS INC & 2007 & 3 & 2007-03-31 & 2007-04-24 & 2007-04-24 & 2007-04-24 & 2007-07-30 & 15 & -0.0016638935 &  0.0076045627 &  0.001663894 &  0.017110266 &  0.003327787\\\\\n",
       "\t 10078 & 012136 & 10078 & SUN MICROSYSTEMS INC & 2007 & 4 & 2007-06-30 & 2007-07-30 & 2007-07-30 & 2007-07-30 & 2007-11-05 &  2 &  0.0076045627 &  0.0293594306 &  0.017110266 &  0.035587189 &  0.009505703\\\\\n",
       "\t 10078 & 012136 & 10078 & SUN MICROSYSTEMS INC & 2008 & 1 & 2007-09-30 & 2007-11-05 & 2007-11-05 & 2007-11-05 & 2008-01-24 &  4 &  0.0293594306 &  0.0027578599 &  0.035587189 &  0.019305019 &  0.006227758\\\\\n",
       "\t 10078 & 012136 & 10078 & SUN MICROSYSTEMS INC & 2008 & 2 & 2007-12-31 & 2008-01-24 & 2008-01-24 & 2008-01-24 & 2008-05-01 & 18 &  0.0027578599 & -0.0109465551 &  0.019305019 &  0.000643915 &  0.016547159\\\\\n",
       "\t 10078 & 012136 & 10078 & SUN MICROSYSTEMS INC & 2008 & 3 & 2008-03-31 & 2008-05-01 & 2008-05-01 & 2008-05-01 & 2008-08-01 & 11 & -0.0109465551 & -0.0036764706 &  0.000643915 &  0.016544118 &  0.011590470\\\\\n",
       "\t 10078 & 012136 & 10078 & SUN MICROSYSTEMS INC & 2008 & 4 & 2008-06-30 & 2008-08-01 & 2008-08-01 & 2008-08-01 & 2008-10-30 & 13 & -0.0036764706 & -0.0197368421 &  0.016544118 & -0.031578947 &  0.020220588\\\\\n",
       "\t 10078 & 012136 & 10078 & SUN MICROSYSTEMS INC & 2009 & 1 & 2008-09-30 & 2008-10-30 & 2008-10-30 & 2008-10-30 & 2009-01-27 & 20 & -0.0197368421 &  0.0235602094 & -0.031578947 &  0.005235602 & -0.011842105\\\\\n",
       "\t 10078 & 012136 & 10078 & SUN MICROSYSTEMS INC & 2009 & 2 & 2008-12-31 & 2009-01-27 & 2009-01-27 & 2009-01-27 & 2009-04-28 & 20 &  0.0235602094 & -0.0040983607 &  0.005235602 & -0.028688525 & -0.018324607\\\\\n",
       "\t 10078 & 012136 & 10078 & SUN MICROSYSTEMS INC & 2009 & 3 & 2009-03-31 & 2009-04-28 & 2009-04-28 & 2009-04-28 & 2009-08-28 & 16 & -0.0040983607 &  0.0097613883 & -0.028688525 & -0.017353579 & -0.024590164\\\\\n",
       "\t 10078 & 012136 & 10078 & SUN MICROSYSTEMS INC & 2009 & 4 & 2009-06-30 & 2009-08-28 & 2009-08-28 & 2009-08-28 & 2009-11-06 &  4 &  0.0097613883 &  0.0220022002 & -0.017353579 & -0.009900990 & -0.027114967\\\\\n",
       "\t 10078 & 012136 & 10078 & SUN MICROSYSTEMS INC & 2010 & 1 & 2009-09-30 & 2009-11-06 & 2009-11-06 & 2009-11-06 & 2010-02-06 &  5 &  0.0220022002 &            NA & -0.009900990 &           NA & -0.031903190\\\\\n",
       "\t 10104 & 012142 & 10104 & ORACLE CORP          & 2004 & 3 & 2005-02-28 & 2005-03-22 & 2005-03-22 & 2005-03-22 & 2005-06-29 & 13 &  0.0007722008 &  0.0019531250 &  0.012355212 &  0.020312500 &  0.011583012\\\\\n",
       "\t 10104 & 012142 & 10104 & ORACLE CORP          & 2004 & 4 & 2005-05-31 & 2005-06-29 & 2005-06-29 & 2005-06-29 & 2005-09-22 &  6 &  0.0019531250 &  0.0000000000 &  0.020312500 &  0.010777521 &  0.018359375\\\\\n",
       "\t 10104 & 012142 & 10104 & ORACLE CORP          & 2005 & 1 & 2005-08-31 & 2005-09-22 & 2005-09-22 & 2005-09-22 & 2005-12-15 & 20 &  0.0000000000 &  0.0000000000 &  0.010777521 &  0.015079365 &  0.010777521\\\\\n",
       "\t 10104 & 012142 & 10104 & ORACLE CORP          & 2005 & 2 & 2005-11-30 & 2005-12-15 & 2005-12-15 & 2005-12-15 & 2006-03-20 & 18 &  0.0000000000 &  0.0008051530 &  0.015079365 &  0.015297907 &  0.015079365\\\\\n",
       "\t 10104 & 012142 & 10104 & ORACLE CORP          & 2005 & 3 & 2006-02-28 & 2006-03-20 & 2006-03-20 & 2006-03-20 & 2006-06-22 & 30 &  0.0008051530 &  0.0000000000 &  0.015297907 &  0.020393812 &  0.014492754\\\\\n",
       "\t 10104 & 012142 & 10104 & ORACLE CORP          & 2005 & 4 & 2006-05-31 & 2006-06-22 & 2006-06-22 & 2006-06-22 & 2006-09-19 & 18 &  0.0000000000 &  0.0012771392 &  0.020393812 &  0.011494253 &  0.020393812\\\\\n",
       "\t 10104 & 012142 & 10104 & ORACLE CORP          & 2006 & 1 & 2006-08-31 & 2006-09-19 & 2006-09-19 & 2006-09-19 & 2006-12-18 & 20 &  0.0012771392 &  0.0000000000 &  0.011494253 &  0.011548556 &  0.010217114\\\\\n",
       "\t 10104 & 012142 & 10104 & ORACLE CORP          & 2006 & 2 & 2006-11-30 & 2006-12-18 & 2006-12-18 & 2006-12-18 & 2007-03-20 & 17 &  0.0000000000 &  0.0012172855 &  0.011548556 &  0.015216068 &  0.011548556\\\\\n",
       "\t 10104 & 012142 & 10104 & ORACLE CORP          & 2006 & 3 & 2007-02-28 & 2007-03-20 & 2007-03-20 & 2007-03-20 & 2007-06-26 &  5 &  0.0012172855 &  0.0010319917 &  0.015216068 &  0.019091847 &  0.013998783\\\\\n",
       "\t 10104 & 012142 & 10104 & ORACLE CORP          & 2006 & 4 & 2007-05-31 & 2007-06-26 & 2007-06-26 & 2007-06-26 & 2007-09-20 &  5 &  0.0010319917 &  0.0004930966 &  0.019091847 &  0.010848126 &  0.018059856\\\\\n",
       "\t 10104 & 012142 & 10104 & ORACLE CORP          & 2007 & 1 & 2007-08-31 & 2007-09-20 & 2007-09-20 & 2007-09-20 & 2007-12-19 & 19 &  0.0004930966 &  0.0019821606 &  0.010848126 &  0.015361744 &  0.010355030\\\\\n",
       "\t 10104 & 012142 & 10104 & ORACLE CORP          & 2007 & 2 & 2007-11-30 & 2007-12-19 & 2007-12-19 & 2007-12-19 & 2008-03-26 & 22 &  0.0019821606 & -0.0005319149 &  0.015361744 &  0.015957447 &  0.013379584\\\\\n",
       "\t 10104 & 012142 & 10104 & ORACLE CORP          & 2007 & 3 & 2008-02-29 & 2008-03-26 & 2008-03-26 & 2008-03-26 & 2008-06-25 &  3 & -0.0005319149 &  0.0013134851 &  0.015957447 &  0.020577933 &  0.016489362\\\\\n",
       "\t 10104 & 012142 & 10104 & ORACLE CORP          & 2007 & 4 & 2008-05-31 & 2008-06-25 & 2008-06-25 & 2008-06-25 & 2008-09-18 & 14 &  0.0013134851 &  0.0009119927 &  0.020577933 &  0.013223894 &  0.019264448\\\\\n",
       "\t 10104 & 012142 & 10104 & ORACLE CORP          & 2008 & 1 & 2008-08-31 & 2008-09-18 & 2008-09-18 & 2008-09-18 & 2008-12-18 & 17 &  0.0009119927 &  0.0000000000 &  0.013223894 &  0.021131137 &  0.012311902\\\\\n",
       "\t 10104 & 012142 & 10104 & ORACLE CORP          & 2008 & 2 & 2008-11-30 & 2008-12-18 & 2008-12-18 & 2008-12-18 & 2009-03-18 & 26 &  0.0000000000 &  0.0025740026 &  0.021131137 &  0.022522523 &  0.021131137\\\\\n",
       "\t 10104 & 012142 & 10104 & ORACLE CORP          & 2008 & 3 & 2009-02-28 & 2009-03-18 & 2009-03-18 & 2009-03-18 & 2009-06-23 & 23 &  0.0025740026 &  0.0010209290 &  0.022522523 &  0.023481368 &  0.019948520\\\\\n",
       "\t 10104 & 012142 & 10104 & ORACLE CORP          & 2008 & 4 & 2009-05-31 & 2009-06-23 & 2009-06-23 & 2009-06-23 & 2009-09-16 &  6 &  0.0010209290 &  0.0000000000 &  0.023481368 &  0.013711152 &  0.022460439\\\\\n",
       "\t 10104 & 012142 & 10104 & ORACLE CORP          & 2009 & 1 & 2009-08-31 & 2009-09-16 & 2009-09-16 & 2009-09-16 & 2009-12-17 & 26 &  0.0000000000 &  0.0013586957 &  0.013711152 &  0.017663043 &  0.013711152\\\\\n",
       "\t 10104 & 012142 & 10104 & ORACLE CORP          & 2009 & 2 & 2009-11-30 & 2009-12-17 & 2009-12-17 & 2009-12-17 & 2010-03-25 &  4 &  0.0013586957 &  0.0002028398 &  0.017663043 &  0.015415822 &  0.016304348\\\\\n",
       "\t 10104 & 012142 & 10104 & ORACLE CORP          & 2009 & 3 & 2010-02-28 & 2010-03-25 & 2010-03-25 & 2010-03-25 & 2010-06-24 & 12 &  0.0002028398 &  0.0026583961 &  0.015415822 &  0.026583961 &  0.015212982\\\\\n",
       "\t 10104 & 012142 & 10104 & ORACLE CORP          & 2009 & 4 & 2010-05-31 & 2010-06-24 & 2010-06-24 & 2010-06-24 & 2010-09-16 & 29 &  0.0026583961 &  0.0027466239 &  0.026583961 &  0.019226368 &  0.023925565\\\\\n",
       "\t 10104 & 012142 & 10104 & ORACLE CORP          & 2010 & 1 & 2010-08-31 & 2010-09-16 & 2010-09-16 & 2010-09-16 & 2010-12-16 & 33 &  0.0027466239 &  0.0018487706 &  0.019226368 &  0.018857460 &  0.016479744\\\\\n",
       "\t 10104 & 012142 & 10104 & ORACLE CORP          & 2010 & 2 & 2010-11-30 & 2010-12-16 & 2010-12-16 & 2010-12-16 & 2011-03-24 & 27 &  0.0018487706 &  0.0012158055 &  0.018857460 &  0.016413374 &  0.017008689\\\\\n",
       "\t 10104 & 012142 & 10104 & ORACLE CORP          & 2010 & 3 & 2011-02-28 & 2011-03-24 & 2011-03-24 & 2011-03-24 & 2011-06-23 & 12 &  0.0012158055 &  0.0011689071 &  0.016413374 &  0.021917008 &  0.015197568\\\\\n",
       "\t 10104 & 012142 & 10104 & ORACLE CORP          & 2010 & 4 & 2011-05-31 & 2011-06-23 & 2011-06-23 & 2011-06-23 & 2011-09-20 & 34 &  0.0011689071 &  0.0007125045 &  0.021917008 &  0.017100107 &  0.020748101\\\\\n",
       "\t 10104 & 012142 & 10104 & ORACLE CORP          & 2011 & 1 & 2011-08-31 & 2011-09-20 & 2011-09-20 & 2011-09-20 & 2011-12-20 & 35 &  0.0007125045 & -0.0009569378 &  0.017100107 &  0.017224880 &  0.016387602\\\\\n",
       "\t 10104 & 012142 & 10104 & ORACLE CORP          & 2011 & 2 & 2011-11-30 & 2011-12-20 & 2011-12-20 & 2011-12-20 & 2012-03-20 & 22 & -0.0009569378 &  0.0020509315 &  0.017224880 &  0.021192958 &  0.018181818\\\\\n",
       "\t 10104 & 012142 & 10104 & ORACLE CORP          & 2011 & 3 & 2012-02-29 & 2012-03-20 & 2012-03-20 & 2012-03-20 & 2012-06-18 & 34 &  0.0020509315 &  0.0015111447 &  0.021192958 &  0.030978466 &  0.019142027\\\\\n",
       "\t 10104 & 012142 & 10104 & ORACLE CORP          & 2011 & 4 & 2012-05-31 & 2012-06-18 & 2012-06-18 & 2012-06-18 & 2012-09-20 & 39 &  0.0015111447 &  0.0000000000 &  0.030978466 &  0.016745656 &  0.029467321\\\\\n",
       "\t 10104 & 012142 & 10104 & ORACLE CORP          & 2012 & 1 & 2012-08-31 & 2012-09-20 & 2012-09-20 & 2012-09-20 & 2012-12-18 &  6 &  0.0000000000 &  0.0009324009 &  0.016745656 &  0.019891220 &  0.016745656\\\\\n",
       "\t ... & ... & ... & ... & ... & ... & ... & ... & ... & ... & ... & ... & ... & ... & ... & ... & ...\\\\\n",
       "\t 93422 & 154357 & 93422 & QEP RESOURCES INC       & 2015 & 2 & 2015-06-30 & 2015-08-03 & 2015-08-03 & 2015-08-03 & 2015-10-28 & 13 &  8.643976e-03 &  7.182761e-03 &  0.0048622366 &  0.0007980846 & -0.003781740\\\\\n",
       "\t 93422 & 154357 & 93422 & QEP RESOURCES INC       & 2015 & 3 & 2015-09-30 & 2015-10-28 & 2015-10-28 & 2015-10-28 & 2016-02-24 & 15 &  7.182761e-03 &  7.462687e-03 &  0.0007980846 & -0.0007462687 & -0.006384677\\\\\n",
       "\t 93422 & 154357 & 93422 & QEP RESOURCES INC       & 2015 & 4 & 2015-12-31 & 2016-02-24 & 2016-02-24 & 2016-02-24 & 2016-04-27 & 15 &  7.462687e-03 &  4.252303e-03 & -0.0007462687 & -0.0375620128 & -0.008208955\\\\\n",
       "\t 93422 & 154357 & 93422 & QEP RESOURCES INC       & 2016 & 1 & 2016-03-31 & 2016-04-27 & 2016-04-27 & 2016-04-27 & 2016-07-27 & 17 &  4.252303e-03 &  6.239365e-03 & -0.0375620128 & -0.0130459444 & -0.041814316\\\\\n",
       "\t 93422 & 154357 & 93422 & QEP RESOURCES INC       & 2016 & 2 & 2016-06-30 & 2016-07-27 & 2016-07-27 & 2016-07-27 & 2016-10-26 & 19 &  6.239365e-03 &  1.024066e-03 & -0.0130459444 & -0.0107526882 & -0.019285309\\\\\n",
       "\t 93422 & 154357 & 93422 & QEP RESOURCES INC       & 2016 & 3 & 2016-09-30 & 2016-10-26 & 2016-10-26 & 2016-10-26 & 2017-02-22 & 18 &  1.024066e-03 &  4.073873e-03 & -0.0107526882 & -0.0081477458 & -0.011776754\\\\\n",
       "\t 93422 & 154357 & 93422 & QEP RESOURCES INC       & 2016 & 4 & 2016-12-31 & 2017-02-22 & 2017-02-22 & 2017-02-22 & 2017-04-26 & 14 &  4.073873e-03 &  5.507474e-03 & -0.0081477458 & -0.0110149489 & -0.012221619\\\\\n",
       "\t 93422 & 154357 & 93422 & QEP RESOURCES INC       & 2017 & 1 & 2017-03-31 & 2017-04-26 & 2017-04-26 & 2017-04-26 & 2017-07-26 & 19 &  5.507474e-03 &  7.920792e-03 & -0.0110149489 & -0.0118811881 & -0.016522423\\\\\n",
       "\t 93422 & 154357 & 93422 & QEP RESOURCES INC       & 2017 & 2 & 2017-06-30 & 2017-07-26 & 2017-07-26 & 2017-07-26 & 2017-10-25 & 19 &  7.920792e-03 &  1.225204e-02 & -0.0118811881 & -0.0116686114 & -0.019801980\\\\\n",
       "\t 93422 & 154357 & 93422 & QEP RESOURCES INC       & 2017 & 3 & 2017-09-30 & 2017-10-25 & 2017-10-25 & 2017-10-25 & 2018-02-28 & 20 &  1.225204e-02 &  1.253918e-01 & -0.0116686114 &  0.1180773250 & -0.023920653\\\\\n",
       "\t 93422 & 154357 & 93422 & QEP RESOURCES INC       & 2017 & 4 & 2017-12-31 & 2018-02-28 & 2018-02-28 & 2018-02-28 & 2018-04-25 & 21 &  1.253918e-01 & -4.085802e-04 &  0.1180773250 & -0.0204290092 & -0.007314525\\\\\n",
       "\t 93422 & 154357 & 93422 & QEP RESOURCES INC       & 2018 & 1 & 2018-03-31 & 2018-04-25 & 2018-04-25 & 2018-04-25 & 2018-07-25 & 21 & -4.085802e-04 &  1.386623e-02 & -0.0204290092 &  0.0048939641 & -0.020020429\\\\\n",
       "\t 93422 & 154357 & 93422 & QEP RESOURCES INC       & 2018 & 2 & 2018-06-30 & 2018-07-25 & 2018-07-25 & 2018-07-25 & 2018-11-07 & 17 &  1.386623e-02 &  1.757951e-02 &  0.0048939641 &  0.0150176678 & -0.008972268\\\\\n",
       "\t 93422 & 154357 & 93422 & QEP RESOURCES INC       & 2018 & 3 & 2018-09-30 & 2018-11-07 & 2018-11-07 & 2018-11-07 & NA & 17 &  1.757951e-02 &            NA &  0.0150176678 & -0.0230905861 & -0.002561837\\\\\n",
       "\t 93422 & 154357 & 93422 & QEP RESOURCES INC       & 2018 & 4 & 2018-12-31 & 2019-02-20 & NA & 2019-02-20 & NA &  0 &            NA &            NA & -0.0230905861 &            NA &           NA\\\\\n",
       "\t 93429 & 184500 & 93429 & CBOE GLOBAL MARKETS INC & 2010 & 2 & 2010-06-30 & 2010-08-05 & 2010-08-05 & 2010-08-05 & 2010-11-04 & 13 & -6.144393e-04 &  1.980198e-03 &  0.0082949309 &  0.0128712871 &  0.008909370\\\\\n",
       "\t 93429 & 184500 & 93429 & CBOE GLOBAL MARKETS INC & 2010 & 3 & 2010-09-30 & 2010-11-04 & 2010-11-04 & 2010-11-04 & 2011-02-10 & 14 &  1.980198e-03 &  8.748906e-04 &  0.0128712871 &  0.0135608049 &  0.010891089\\\\\n",
       "\t 93429 & 184500 & 93429 & CBOE GLOBAL MARKETS INC & 2010 & 4 & 2010-12-31 & 2011-02-10 & 2011-02-10 & 2011-02-10 & 2011-05-05 & 15 &  8.748906e-04 &  6.903693e-04 &  0.0135608049 &  0.0124266483 &  0.012685914\\\\\n",
       "\t 93429 & 184500 & 93429 & CBOE GLOBAL MARKETS INC & 2011 & 1 & 2011-03-31 & 2011-05-05 & 2011-05-05 & 2011-05-05 & 2011-08-04 & 16 &  6.903693e-04 &  1.422764e-03 &  0.0124266483 &  0.0146341463 &  0.011736279\\\\\n",
       "\t 93429 & 184500 & 93429 & CBOE GLOBAL MARKETS INC & 2011 & 2 & 2011-06-30 & 2011-08-04 & 2011-08-04 & 2011-08-04 & 2011-11-03 & 16 &  1.422764e-03 &  2.043318e-03 &  0.0146341463 &  0.0204331835 &  0.013211382\\\\\n",
       "\t 93429 & 184500 & 93429 & CBOE GLOBAL MARKETS INC & 2011 & 3 & 2011-09-30 & 2011-11-03 & 2011-11-03 & 2011-11-03 & 2012-02-09 & 17 &  2.043318e-03 &  9.667440e-04 &  0.0204331835 &  0.0143078113 &  0.018389865\\\\\n",
       "\t 93429 & 184500 & 93429 & CBOE GLOBAL MARKETS INC & 2011 & 4 & 2011-12-31 & 2012-02-09 & 2012-02-09 & 2012-02-09 & 2012-05-01 & 16 &  9.667440e-04 &  3.518649e-04 &  0.0143078113 &  0.0130190007 &  0.013341067\\\\\n",
       "\t 93429 & 184500 & 93429 & CBOE GLOBAL MARKETS INC & 2012 & 1 & 2012-03-31 & 2012-05-01 & 2012-05-01 & 2012-05-01 & 2012-08-02 & 17 &  3.518649e-04 &  1.083815e-03 &  0.0130190007 &  0.0158959538 &  0.012667136\\\\\n",
       "\t 93429 & 184500 & 93429 & CBOE GLOBAL MARKETS INC & 2012 & 2 & 2012-06-30 & 2012-08-02 & 2012-08-02 & 2012-08-01 & 2012-11-01 & 14 &  1.083815e-03 &  1.360544e-03 &  0.0158959538 &  0.0146258503 &  0.014812139\\\\\n",
       "\t 93429 & 184500 & 93429 & CBOE GLOBAL MARKETS INC & 2012 & 3 & 2012-09-30 & 2012-11-01 & 2012-11-01 & 2012-11-01 & 2013-02-08 & 14 &  1.360544e-03 &  1.018330e-03 &  0.0146258503 &  0.0152749491 &  0.013265306\\\\\n",
       "\t 93429 & 184500 & 93429 & CBOE GLOBAL MARKETS INC & 2012 & 4 & 2012-12-31 & 2013-02-08 & 2013-02-08 & 2013-02-08 & 2013-05-03 & 12 &  1.018330e-03 &  2.707093e-04 &  0.0152749491 &  0.0129940444 &  0.014256619\\\\\n",
       "\t 93429 & 184500 & 93429 & CBOE GLOBAL MARKETS INC & 2013 & 1 & 2013-03-31 & 2013-05-03 & 2013-05-03 & 2013-05-03 & 2013-08-02 & 13 &  2.707093e-04 &  4.288165e-04 &  0.0129940444 &  0.0113636364 &  0.012723335\\\\\n",
       "\t 93429 & 184500 & 93429 & CBOE GLOBAL MARKETS INC & 2013 & 2 & 2013-06-30 & 2013-08-02 & 2013-08-02 & 2013-08-02 & 2013-11-01 & 12 &  4.288165e-04 &  4.421844e-04 &  0.0113636364 &  0.0103913332 &  0.010934820\\\\\n",
       "\t 93429 & 184500 & 93429 & CBOE GLOBAL MARKETS INC & 2013 & 3 & 2013-09-30 & 2013-11-01 & 2013-11-01 & 2013-11-01 & 2014-02-07 & 15 &  4.421844e-04 &  7.698229e-04 &  0.0103913332 &  0.0100076982 &  0.009949149\\\\\n",
       "\t 93429 & 184500 & 93429 & CBOE GLOBAL MARKETS INC & 2013 & 4 & 2013-12-31 & 2014-02-07 & 2014-02-07 & 2014-02-07 & 2014-05-06 & 12 &  7.698229e-04 &  0.000000e+00 &  0.0100076982 &  0.0098939929 &  0.009237875\\\\\n",
       "\t 93429 & 184500 & 93429 & CBOE GLOBAL MARKETS INC & 2014 & 1 & 2014-03-31 & 2014-05-06 & 2014-05-06 & 2014-05-06 & 2014-08-01 & 12 &  0.000000e+00 & -1.016054e-04 &  0.0098939929 &  0.0101605365 &  0.009893993\\\\\n",
       "\t 93429 & 184500 & 93429 & CBOE GLOBAL MARKETS INC & 2014 & 2 & 2014-06-30 & 2014-08-01 & 2014-08-01 & 2014-08-01 & 2014-10-31 & 12 & -1.016054e-04 &  5.604858e-04 &  0.0101605365 &  0.0106492293 &  0.010262142\\\\\n",
       "\t 93429 & 184500 & 93429 & CBOE GLOBAL MARKETS INC & 2014 & 3 & 2014-09-30 & 2014-10-31 & 2014-10-31 & 2014-10-31 & 2015-02-06 & 15 &  5.604858e-04 & -2.680542e-04 &  0.0106492293 &  0.0100914538 &  0.010088744\\\\\n",
       "\t 93429 & 184500 & 93429 & CBOE GLOBAL MARKETS INC & 2014 & 4 & 2014-12-31 & 2015-02-06 & 2015-02-06 & 2015-02-06 & 2015-05-01 & 14 & -2.680542e-04 &  4.355021e-04 &  0.0100914538 &  0.0087100427 &  0.010359508\\\\\n",
       "\t 93429 & 184500 & 93429 & CBOE GLOBAL MARKETS INC & 2015 & 1 & 2015-03-31 & 2015-05-01 & 2015-05-01 & 2015-05-01 & 2015-07-31 & 14 &  4.355021e-04 &  6.990563e-04 &  0.0087100427 &  0.0094372597 &  0.008274541\\\\\n",
       "\t 93429 & 184500 & 93429 & CBOE GLOBAL MARKETS INC & 2015 & 2 & 2015-06-30 & 2015-07-31 & 2015-07-31 & 2015-07-31 & 2015-10-30 & 14 &  6.990563e-04 &  4.472272e-04 &  0.0094372597 &  0.0113297555 &  0.008738203\\\\\n",
       "\t 93429 & 184500 & 93429 & CBOE GLOBAL MARKETS INC & 2015 & 3 & 2015-09-30 & 2015-10-30 & 2015-10-30 & 2015-10-30 & 2016-02-03 & 13 &  4.472272e-04 &  6.163328e-04 &  0.0113297555 &  0.0090909091 &  0.010882528\\\\\n",
       "\t 93429 & 184500 & 93429 & CBOE GLOBAL MARKETS INC & 2015 & 4 & 2015-12-31 & 2016-02-03 & 2016-02-03 & 2016-02-03 & 2016-04-29 & 14 &  6.163328e-04 & -1.530690e-04 &  0.0090909091 &  0.0093372111 &  0.008474576\\\\\n",
       "\t 93429 & 184500 & 93429 & CBOE GLOBAL MARKETS INC & 2016 & 1 & 2016-03-31 & 2016-04-29 & 2016-04-29 & 2016-04-29 & 2016-07-29 & 16 & -1.530690e-04 &  0.000000e+00 &  0.0093372111 &  0.0090063044 &  0.009490280\\\\\n",
       "\t 93429 & 184500 & 93429 & CBOE GLOBAL MARKETS INC & 2016 & 2 & 2016-06-30 & 2016-07-29 & 2016-07-29 & 2016-07-29 & 2016-10-28 & 16 &  0.000000e+00 &  1.542020e-04 &  0.0090063044 &  0.0089437163 &  0.009006304\\\\\n",
       "\t 93429 & 184500 & 93429 & CBOE GLOBAL MARKETS INC & 2016 & 3 & 2016-09-30 & 2016-10-28 & 2016-10-28 & 2016-10-28 & 2017-02-06 & 15 &  1.542020e-04 &  4.060089e-04 &  0.0089437163 &  0.0085261876 &  0.008789514\\\\\n",
       "\t 93429 & 184500 & 93429 & CBOE GLOBAL MARKETS INC & 2016 & 4 & 2016-12-31 & 2017-02-06 & 2017-02-06 & 2017-02-06 & 2017-05-09 & 13 &  4.060089e-04 &  1.110152e-03 &  0.0085261876 &  0.0096213149 &  0.008120179\\\\\n",
       "\t 93429 & 184500 & 93429 & CBOE GLOBAL MARKETS INC & 2017 & 1 & 2017-03-31 & 2017-05-09 & 2017-05-09 & 2017-05-09 & 2017-08-04 & 13 &  1.110152e-03 &  1.094092e-04 &  0.0096213149 &  0.0095185996 &  0.008511163\\\\\n",
       "\t 93429 & 184500 & 93429 & CBOE GLOBAL MARKETS INC & 2017 & 2 & 2017-06-30 & 2017-08-04 & 2017-08-04 & 2017-08-04 & 2017-11-07 & 14 &  1.094092e-04 &  9.291090e-05 &  0.0095185996 &  0.0082690700 &  0.009409190\\\\\n",
       "\t 93429 & 184500 & 93429 & CBOE GLOBAL MARKETS INC & 2017 & 3 & 2017-09-30 & 2017-11-07 & 2017-11-07 & 2017-11-07 & 2018-02-09 & 12 &  9.291090e-05 & -8.026326e-05 &  0.0082690700 &  0.0069829039 &  0.008176159\\\\\n",
       "\t 93429 & 184500 & 93429 & CBOE GLOBAL MARKETS INC & 2017 & 4 & 2017-12-31 & 2018-02-09 & 2018-02-09 & 2018-02-09 & 2018-05-04 & 10 & -8.026326e-05 &  8.764242e-04 &  0.0069829039 &  0.0120946538 &  0.007063167\\\\\n",
       "\t 93429 & 184500 & 93429 & CBOE GLOBAL MARKETS INC & 2018 & 1 & 2018-03-31 & 2018-05-04 & 2018-05-04 & 2018-05-04 & 2018-08-03 & 13 &  8.764242e-04 &  2.402229e-04 &  0.0120946538 &  0.0100893629 &  0.011218230\\\\\n",
       "\t 93429 & 184500 & 93429 & CBOE GLOBAL MARKETS INC & 2018 & 2 & 2018-06-30 & 2018-08-03 & 2018-08-03 & 2018-08-03 & 2018-11-02 & 12 &  2.402229e-04 &  5.210504e-04 &  0.0100893629 &  0.0110462693 &  0.009849140\\\\\n",
       "\t 93429 & 184500 & 93429 & CBOE GLOBAL MARKETS INC & 2018 & 3 & 2018-09-30 & 2018-11-02 & 2018-11-02 & 2018-11-02 & NA & 14 &  5.210504e-04 &            NA &  0.0110462693 &  0.0157415926 &  0.010525219\\\\\n",
       "\t 93429 & 184500 & 93429 & CBOE GLOBAL MARKETS INC & 2018 & 4 & 2018-12-31 & 2019-02-08 & NA & 2019-02-08 & NA &  0 &            NA &            NA &  0.0157415926 &            NA &           NA\\\\\n",
       "\\end{tabular}\n"
      ],
      "text/markdown": [
       "\n",
       "A data.table: 39897 × 17\n",
       "\n",
       "| permno &lt;chr&gt; | gvkey &lt;chr&gt; | permno &lt;chr&gt; | conm &lt;chr&gt; | fyear &lt;dbl&gt; | fqtr &lt;dbl&gt; | datadate &lt;date&gt; | rdq &lt;date&gt; | rdq1 &lt;date&gt; | repdats &lt;date&gt; | rdq1_lead1 &lt;date&gt; | numest &lt;dbl&gt; | sue &lt;dbl&gt; | sue_lead1 &lt;dbl&gt; | se &lt;dbl&gt; | se_lead1 &lt;dbl&gt; | sest &lt;dbl&gt; |\n",
       "|---|---|---|---|---|---|---|---|---|---|---|---|---|---|---|---|---|\n",
       "| 10078 | 012136 | 10078 | SUN MICROSYSTEMS INC | 2005 | 3 | 2005-03-31 | 2005-04-14 | 2005-04-14 | 2005-04-14 | 2005-07-26 | 12 | -0.0049504950 | -0.0080428954 | -0.004950495 | -0.005361930 |  0.000000000 |\n",
       "| 10078 | 012136 | 10078 | SUN MICROSYSTEMS INC | 2005 | 4 | 2005-06-30 | 2005-07-26 | 2005-07-26 | 2005-07-26 | 2005-11-01 |  4 | -0.0080428954 |  0.0000000000 | -0.005361930 | -0.002544529 |  0.002680965 |\n",
       "| 10078 | 012136 | 10078 | SUN MICROSYSTEMS INC | 2006 | 1 | 2005-09-30 | 2005-11-01 | 2005-11-01 | 2005-11-01 | 2006-01-24 |  9 |  0.0000000000 | -0.0143198091 | -0.002544529 | -0.016706444 | -0.002544529 |\n",
       "| 10078 | 012136 | 10078 | SUN MICROSYSTEMS INC | 2006 | 2 | 2005-12-31 | 2006-01-24 | 2006-01-24 | 2006-01-24 | 2006-04-24 | 18 | -0.0143198091 |  0.0000000000 | -0.016706444 | -0.011695906 | -0.002386635 |\n",
       "| 10078 | 012136 | 10078 | SUN MICROSYSTEMS INC | 2006 | 3 | 2006-03-31 | 2006-04-24 | 2006-04-24 | 2006-04-24 | 2006-07-25 | 20 |  0.0000000000 |  0.0000000000 | -0.011695906 | -0.004819277 | -0.011695906 |\n",
       "| 10078 | 012136 | 10078 | SUN MICROSYSTEMS INC | 2006 | 4 | 2006-06-30 | 2006-07-25 | 2006-07-25 | 2006-07-25 | 2006-10-26 |  6 |  0.0000000000 |  0.0040404040 | -0.004819277 | -0.002020202 | -0.004819277 |\n",
       "| 10078 | 012136 | 10078 | SUN MICROSYSTEMS INC | 2007 | 1 | 2006-09-30 | 2006-10-26 | 2006-10-26 | 2006-10-26 | 2007-01-23 |  3 |  0.0040404040 |  0.0055350554 | -0.002020202 |  0.007380074 | -0.006060606 |\n",
       "| 10078 | 012136 | 10078 | SUN MICROSYSTEMS INC | 2007 | 2 | 2006-12-31 | 2007-01-23 | 2007-01-23 | 2007-01-23 | 2007-04-24 |  9 |  0.0055350554 | -0.0016638935 |  0.007380074 |  0.001663894 |  0.001845018 |\n",
       "| 10078 | 012136 | 10078 | SUN MICROSYSTEMS INC | 2007 | 3 | 2007-03-31 | 2007-04-24 | 2007-04-24 | 2007-04-24 | 2007-07-30 | 15 | -0.0016638935 |  0.0076045627 |  0.001663894 |  0.017110266 |  0.003327787 |\n",
       "| 10078 | 012136 | 10078 | SUN MICROSYSTEMS INC | 2007 | 4 | 2007-06-30 | 2007-07-30 | 2007-07-30 | 2007-07-30 | 2007-11-05 |  2 |  0.0076045627 |  0.0293594306 |  0.017110266 |  0.035587189 |  0.009505703 |\n",
       "| 10078 | 012136 | 10078 | SUN MICROSYSTEMS INC | 2008 | 1 | 2007-09-30 | 2007-11-05 | 2007-11-05 | 2007-11-05 | 2008-01-24 |  4 |  0.0293594306 |  0.0027578599 |  0.035587189 |  0.019305019 |  0.006227758 |\n",
       "| 10078 | 012136 | 10078 | SUN MICROSYSTEMS INC | 2008 | 2 | 2007-12-31 | 2008-01-24 | 2008-01-24 | 2008-01-24 | 2008-05-01 | 18 |  0.0027578599 | -0.0109465551 |  0.019305019 |  0.000643915 |  0.016547159 |\n",
       "| 10078 | 012136 | 10078 | SUN MICROSYSTEMS INC | 2008 | 3 | 2008-03-31 | 2008-05-01 | 2008-05-01 | 2008-05-01 | 2008-08-01 | 11 | -0.0109465551 | -0.0036764706 |  0.000643915 |  0.016544118 |  0.011590470 |\n",
       "| 10078 | 012136 | 10078 | SUN MICROSYSTEMS INC | 2008 | 4 | 2008-06-30 | 2008-08-01 | 2008-08-01 | 2008-08-01 | 2008-10-30 | 13 | -0.0036764706 | -0.0197368421 |  0.016544118 | -0.031578947 |  0.020220588 |\n",
       "| 10078 | 012136 | 10078 | SUN MICROSYSTEMS INC | 2009 | 1 | 2008-09-30 | 2008-10-30 | 2008-10-30 | 2008-10-30 | 2009-01-27 | 20 | -0.0197368421 |  0.0235602094 | -0.031578947 |  0.005235602 | -0.011842105 |\n",
       "| 10078 | 012136 | 10078 | SUN MICROSYSTEMS INC | 2009 | 2 | 2008-12-31 | 2009-01-27 | 2009-01-27 | 2009-01-27 | 2009-04-28 | 20 |  0.0235602094 | -0.0040983607 |  0.005235602 | -0.028688525 | -0.018324607 |\n",
       "| 10078 | 012136 | 10078 | SUN MICROSYSTEMS INC | 2009 | 3 | 2009-03-31 | 2009-04-28 | 2009-04-28 | 2009-04-28 | 2009-08-28 | 16 | -0.0040983607 |  0.0097613883 | -0.028688525 | -0.017353579 | -0.024590164 |\n",
       "| 10078 | 012136 | 10078 | SUN MICROSYSTEMS INC | 2009 | 4 | 2009-06-30 | 2009-08-28 | 2009-08-28 | 2009-08-28 | 2009-11-06 |  4 |  0.0097613883 |  0.0220022002 | -0.017353579 | -0.009900990 | -0.027114967 |\n",
       "| 10078 | 012136 | 10078 | SUN MICROSYSTEMS INC | 2010 | 1 | 2009-09-30 | 2009-11-06 | 2009-11-06 | 2009-11-06 | 2010-02-06 |  5 |  0.0220022002 |            NA | -0.009900990 |           NA | -0.031903190 |\n",
       "| 10104 | 012142 | 10104 | ORACLE CORP          | 2004 | 3 | 2005-02-28 | 2005-03-22 | 2005-03-22 | 2005-03-22 | 2005-06-29 | 13 |  0.0007722008 |  0.0019531250 |  0.012355212 |  0.020312500 |  0.011583012 |\n",
       "| 10104 | 012142 | 10104 | ORACLE CORP          | 2004 | 4 | 2005-05-31 | 2005-06-29 | 2005-06-29 | 2005-06-29 | 2005-09-22 |  6 |  0.0019531250 |  0.0000000000 |  0.020312500 |  0.010777521 |  0.018359375 |\n",
       "| 10104 | 012142 | 10104 | ORACLE CORP          | 2005 | 1 | 2005-08-31 | 2005-09-22 | 2005-09-22 | 2005-09-22 | 2005-12-15 | 20 |  0.0000000000 |  0.0000000000 |  0.010777521 |  0.015079365 |  0.010777521 |\n",
       "| 10104 | 012142 | 10104 | ORACLE CORP          | 2005 | 2 | 2005-11-30 | 2005-12-15 | 2005-12-15 | 2005-12-15 | 2006-03-20 | 18 |  0.0000000000 |  0.0008051530 |  0.015079365 |  0.015297907 |  0.015079365 |\n",
       "| 10104 | 012142 | 10104 | ORACLE CORP          | 2005 | 3 | 2006-02-28 | 2006-03-20 | 2006-03-20 | 2006-03-20 | 2006-06-22 | 30 |  0.0008051530 |  0.0000000000 |  0.015297907 |  0.020393812 |  0.014492754 |\n",
       "| 10104 | 012142 | 10104 | ORACLE CORP          | 2005 | 4 | 2006-05-31 | 2006-06-22 | 2006-06-22 | 2006-06-22 | 2006-09-19 | 18 |  0.0000000000 |  0.0012771392 |  0.020393812 |  0.011494253 |  0.020393812 |\n",
       "| 10104 | 012142 | 10104 | ORACLE CORP          | 2006 | 1 | 2006-08-31 | 2006-09-19 | 2006-09-19 | 2006-09-19 | 2006-12-18 | 20 |  0.0012771392 |  0.0000000000 |  0.011494253 |  0.011548556 |  0.010217114 |\n",
       "| 10104 | 012142 | 10104 | ORACLE CORP          | 2006 | 2 | 2006-11-30 | 2006-12-18 | 2006-12-18 | 2006-12-18 | 2007-03-20 | 17 |  0.0000000000 |  0.0012172855 |  0.011548556 |  0.015216068 |  0.011548556 |\n",
       "| 10104 | 012142 | 10104 | ORACLE CORP          | 2006 | 3 | 2007-02-28 | 2007-03-20 | 2007-03-20 | 2007-03-20 | 2007-06-26 |  5 |  0.0012172855 |  0.0010319917 |  0.015216068 |  0.019091847 |  0.013998783 |\n",
       "| 10104 | 012142 | 10104 | ORACLE CORP          | 2006 | 4 | 2007-05-31 | 2007-06-26 | 2007-06-26 | 2007-06-26 | 2007-09-20 |  5 |  0.0010319917 |  0.0004930966 |  0.019091847 |  0.010848126 |  0.018059856 |\n",
       "| 10104 | 012142 | 10104 | ORACLE CORP          | 2007 | 1 | 2007-08-31 | 2007-09-20 | 2007-09-20 | 2007-09-20 | 2007-12-19 | 19 |  0.0004930966 |  0.0019821606 |  0.010848126 |  0.015361744 |  0.010355030 |\n",
       "| 10104 | 012142 | 10104 | ORACLE CORP          | 2007 | 2 | 2007-11-30 | 2007-12-19 | 2007-12-19 | 2007-12-19 | 2008-03-26 | 22 |  0.0019821606 | -0.0005319149 |  0.015361744 |  0.015957447 |  0.013379584 |\n",
       "| 10104 | 012142 | 10104 | ORACLE CORP          | 2007 | 3 | 2008-02-29 | 2008-03-26 | 2008-03-26 | 2008-03-26 | 2008-06-25 |  3 | -0.0005319149 |  0.0013134851 |  0.015957447 |  0.020577933 |  0.016489362 |\n",
       "| 10104 | 012142 | 10104 | ORACLE CORP          | 2007 | 4 | 2008-05-31 | 2008-06-25 | 2008-06-25 | 2008-06-25 | 2008-09-18 | 14 |  0.0013134851 |  0.0009119927 |  0.020577933 |  0.013223894 |  0.019264448 |\n",
       "| 10104 | 012142 | 10104 | ORACLE CORP          | 2008 | 1 | 2008-08-31 | 2008-09-18 | 2008-09-18 | 2008-09-18 | 2008-12-18 | 17 |  0.0009119927 |  0.0000000000 |  0.013223894 |  0.021131137 |  0.012311902 |\n",
       "| 10104 | 012142 | 10104 | ORACLE CORP          | 2008 | 2 | 2008-11-30 | 2008-12-18 | 2008-12-18 | 2008-12-18 | 2009-03-18 | 26 |  0.0000000000 |  0.0025740026 |  0.021131137 |  0.022522523 |  0.021131137 |\n",
       "| 10104 | 012142 | 10104 | ORACLE CORP          | 2008 | 3 | 2009-02-28 | 2009-03-18 | 2009-03-18 | 2009-03-18 | 2009-06-23 | 23 |  0.0025740026 |  0.0010209290 |  0.022522523 |  0.023481368 |  0.019948520 |\n",
       "| 10104 | 012142 | 10104 | ORACLE CORP          | 2008 | 4 | 2009-05-31 | 2009-06-23 | 2009-06-23 | 2009-06-23 | 2009-09-16 |  6 |  0.0010209290 |  0.0000000000 |  0.023481368 |  0.013711152 |  0.022460439 |\n",
       "| 10104 | 012142 | 10104 | ORACLE CORP          | 2009 | 1 | 2009-08-31 | 2009-09-16 | 2009-09-16 | 2009-09-16 | 2009-12-17 | 26 |  0.0000000000 |  0.0013586957 |  0.013711152 |  0.017663043 |  0.013711152 |\n",
       "| 10104 | 012142 | 10104 | ORACLE CORP          | 2009 | 2 | 2009-11-30 | 2009-12-17 | 2009-12-17 | 2009-12-17 | 2010-03-25 |  4 |  0.0013586957 |  0.0002028398 |  0.017663043 |  0.015415822 |  0.016304348 |\n",
       "| 10104 | 012142 | 10104 | ORACLE CORP          | 2009 | 3 | 2010-02-28 | 2010-03-25 | 2010-03-25 | 2010-03-25 | 2010-06-24 | 12 |  0.0002028398 |  0.0026583961 |  0.015415822 |  0.026583961 |  0.015212982 |\n",
       "| 10104 | 012142 | 10104 | ORACLE CORP          | 2009 | 4 | 2010-05-31 | 2010-06-24 | 2010-06-24 | 2010-06-24 | 2010-09-16 | 29 |  0.0026583961 |  0.0027466239 |  0.026583961 |  0.019226368 |  0.023925565 |\n",
       "| 10104 | 012142 | 10104 | ORACLE CORP          | 2010 | 1 | 2010-08-31 | 2010-09-16 | 2010-09-16 | 2010-09-16 | 2010-12-16 | 33 |  0.0027466239 |  0.0018487706 |  0.019226368 |  0.018857460 |  0.016479744 |\n",
       "| 10104 | 012142 | 10104 | ORACLE CORP          | 2010 | 2 | 2010-11-30 | 2010-12-16 | 2010-12-16 | 2010-12-16 | 2011-03-24 | 27 |  0.0018487706 |  0.0012158055 |  0.018857460 |  0.016413374 |  0.017008689 |\n",
       "| 10104 | 012142 | 10104 | ORACLE CORP          | 2010 | 3 | 2011-02-28 | 2011-03-24 | 2011-03-24 | 2011-03-24 | 2011-06-23 | 12 |  0.0012158055 |  0.0011689071 |  0.016413374 |  0.021917008 |  0.015197568 |\n",
       "| 10104 | 012142 | 10104 | ORACLE CORP          | 2010 | 4 | 2011-05-31 | 2011-06-23 | 2011-06-23 | 2011-06-23 | 2011-09-20 | 34 |  0.0011689071 |  0.0007125045 |  0.021917008 |  0.017100107 |  0.020748101 |\n",
       "| 10104 | 012142 | 10104 | ORACLE CORP          | 2011 | 1 | 2011-08-31 | 2011-09-20 | 2011-09-20 | 2011-09-20 | 2011-12-20 | 35 |  0.0007125045 | -0.0009569378 |  0.017100107 |  0.017224880 |  0.016387602 |\n",
       "| 10104 | 012142 | 10104 | ORACLE CORP          | 2011 | 2 | 2011-11-30 | 2011-12-20 | 2011-12-20 | 2011-12-20 | 2012-03-20 | 22 | -0.0009569378 |  0.0020509315 |  0.017224880 |  0.021192958 |  0.018181818 |\n",
       "| 10104 | 012142 | 10104 | ORACLE CORP          | 2011 | 3 | 2012-02-29 | 2012-03-20 | 2012-03-20 | 2012-03-20 | 2012-06-18 | 34 |  0.0020509315 |  0.0015111447 |  0.021192958 |  0.030978466 |  0.019142027 |\n",
       "| 10104 | 012142 | 10104 | ORACLE CORP          | 2011 | 4 | 2012-05-31 | 2012-06-18 | 2012-06-18 | 2012-06-18 | 2012-09-20 | 39 |  0.0015111447 |  0.0000000000 |  0.030978466 |  0.016745656 |  0.029467321 |\n",
       "| 10104 | 012142 | 10104 | ORACLE CORP          | 2012 | 1 | 2012-08-31 | 2012-09-20 | 2012-09-20 | 2012-09-20 | 2012-12-18 |  6 |  0.0000000000 |  0.0009324009 |  0.016745656 |  0.019891220 |  0.016745656 |\n",
       "| ... | ... | ... | ... | ... | ... | ... | ... | ... | ... | ... | ... | ... | ... | ... | ... | ... |\n",
       "| 93422 | 154357 | 93422 | QEP RESOURCES INC       | 2015 | 2 | 2015-06-30 | 2015-08-03 | 2015-08-03 | 2015-08-03 | 2015-10-28 | 13 |  8.643976e-03 |  7.182761e-03 |  0.0048622366 |  0.0007980846 | -0.003781740 |\n",
       "| 93422 | 154357 | 93422 | QEP RESOURCES INC       | 2015 | 3 | 2015-09-30 | 2015-10-28 | 2015-10-28 | 2015-10-28 | 2016-02-24 | 15 |  7.182761e-03 |  7.462687e-03 |  0.0007980846 | -0.0007462687 | -0.006384677 |\n",
       "| 93422 | 154357 | 93422 | QEP RESOURCES INC       | 2015 | 4 | 2015-12-31 | 2016-02-24 | 2016-02-24 | 2016-02-24 | 2016-04-27 | 15 |  7.462687e-03 |  4.252303e-03 | -0.0007462687 | -0.0375620128 | -0.008208955 |\n",
       "| 93422 | 154357 | 93422 | QEP RESOURCES INC       | 2016 | 1 | 2016-03-31 | 2016-04-27 | 2016-04-27 | 2016-04-27 | 2016-07-27 | 17 |  4.252303e-03 |  6.239365e-03 | -0.0375620128 | -0.0130459444 | -0.041814316 |\n",
       "| 93422 | 154357 | 93422 | QEP RESOURCES INC       | 2016 | 2 | 2016-06-30 | 2016-07-27 | 2016-07-27 | 2016-07-27 | 2016-10-26 | 19 |  6.239365e-03 |  1.024066e-03 | -0.0130459444 | -0.0107526882 | -0.019285309 |\n",
       "| 93422 | 154357 | 93422 | QEP RESOURCES INC       | 2016 | 3 | 2016-09-30 | 2016-10-26 | 2016-10-26 | 2016-10-26 | 2017-02-22 | 18 |  1.024066e-03 |  4.073873e-03 | -0.0107526882 | -0.0081477458 | -0.011776754 |\n",
       "| 93422 | 154357 | 93422 | QEP RESOURCES INC       | 2016 | 4 | 2016-12-31 | 2017-02-22 | 2017-02-22 | 2017-02-22 | 2017-04-26 | 14 |  4.073873e-03 |  5.507474e-03 | -0.0081477458 | -0.0110149489 | -0.012221619 |\n",
       "| 93422 | 154357 | 93422 | QEP RESOURCES INC       | 2017 | 1 | 2017-03-31 | 2017-04-26 | 2017-04-26 | 2017-04-26 | 2017-07-26 | 19 |  5.507474e-03 |  7.920792e-03 | -0.0110149489 | -0.0118811881 | -0.016522423 |\n",
       "| 93422 | 154357 | 93422 | QEP RESOURCES INC       | 2017 | 2 | 2017-06-30 | 2017-07-26 | 2017-07-26 | 2017-07-26 | 2017-10-25 | 19 |  7.920792e-03 |  1.225204e-02 | -0.0118811881 | -0.0116686114 | -0.019801980 |\n",
       "| 93422 | 154357 | 93422 | QEP RESOURCES INC       | 2017 | 3 | 2017-09-30 | 2017-10-25 | 2017-10-25 | 2017-10-25 | 2018-02-28 | 20 |  1.225204e-02 |  1.253918e-01 | -0.0116686114 |  0.1180773250 | -0.023920653 |\n",
       "| 93422 | 154357 | 93422 | QEP RESOURCES INC       | 2017 | 4 | 2017-12-31 | 2018-02-28 | 2018-02-28 | 2018-02-28 | 2018-04-25 | 21 |  1.253918e-01 | -4.085802e-04 |  0.1180773250 | -0.0204290092 | -0.007314525 |\n",
       "| 93422 | 154357 | 93422 | QEP RESOURCES INC       | 2018 | 1 | 2018-03-31 | 2018-04-25 | 2018-04-25 | 2018-04-25 | 2018-07-25 | 21 | -4.085802e-04 |  1.386623e-02 | -0.0204290092 |  0.0048939641 | -0.020020429 |\n",
       "| 93422 | 154357 | 93422 | QEP RESOURCES INC       | 2018 | 2 | 2018-06-30 | 2018-07-25 | 2018-07-25 | 2018-07-25 | 2018-11-07 | 17 |  1.386623e-02 |  1.757951e-02 |  0.0048939641 |  0.0150176678 | -0.008972268 |\n",
       "| 93422 | 154357 | 93422 | QEP RESOURCES INC       | 2018 | 3 | 2018-09-30 | 2018-11-07 | 2018-11-07 | 2018-11-07 | NA | 17 |  1.757951e-02 |            NA |  0.0150176678 | -0.0230905861 | -0.002561837 |\n",
       "| 93422 | 154357 | 93422 | QEP RESOURCES INC       | 2018 | 4 | 2018-12-31 | 2019-02-20 | NA | 2019-02-20 | NA |  0 |            NA |            NA | -0.0230905861 |            NA |           NA |\n",
       "| 93429 | 184500 | 93429 | CBOE GLOBAL MARKETS INC | 2010 | 2 | 2010-06-30 | 2010-08-05 | 2010-08-05 | 2010-08-05 | 2010-11-04 | 13 | -6.144393e-04 |  1.980198e-03 |  0.0082949309 |  0.0128712871 |  0.008909370 |\n",
       "| 93429 | 184500 | 93429 | CBOE GLOBAL MARKETS INC | 2010 | 3 | 2010-09-30 | 2010-11-04 | 2010-11-04 | 2010-11-04 | 2011-02-10 | 14 |  1.980198e-03 |  8.748906e-04 |  0.0128712871 |  0.0135608049 |  0.010891089 |\n",
       "| 93429 | 184500 | 93429 | CBOE GLOBAL MARKETS INC | 2010 | 4 | 2010-12-31 | 2011-02-10 | 2011-02-10 | 2011-02-10 | 2011-05-05 | 15 |  8.748906e-04 |  6.903693e-04 |  0.0135608049 |  0.0124266483 |  0.012685914 |\n",
       "| 93429 | 184500 | 93429 | CBOE GLOBAL MARKETS INC | 2011 | 1 | 2011-03-31 | 2011-05-05 | 2011-05-05 | 2011-05-05 | 2011-08-04 | 16 |  6.903693e-04 |  1.422764e-03 |  0.0124266483 |  0.0146341463 |  0.011736279 |\n",
       "| 93429 | 184500 | 93429 | CBOE GLOBAL MARKETS INC | 2011 | 2 | 2011-06-30 | 2011-08-04 | 2011-08-04 | 2011-08-04 | 2011-11-03 | 16 |  1.422764e-03 |  2.043318e-03 |  0.0146341463 |  0.0204331835 |  0.013211382 |\n",
       "| 93429 | 184500 | 93429 | CBOE GLOBAL MARKETS INC | 2011 | 3 | 2011-09-30 | 2011-11-03 | 2011-11-03 | 2011-11-03 | 2012-02-09 | 17 |  2.043318e-03 |  9.667440e-04 |  0.0204331835 |  0.0143078113 |  0.018389865 |\n",
       "| 93429 | 184500 | 93429 | CBOE GLOBAL MARKETS INC | 2011 | 4 | 2011-12-31 | 2012-02-09 | 2012-02-09 | 2012-02-09 | 2012-05-01 | 16 |  9.667440e-04 |  3.518649e-04 |  0.0143078113 |  0.0130190007 |  0.013341067 |\n",
       "| 93429 | 184500 | 93429 | CBOE GLOBAL MARKETS INC | 2012 | 1 | 2012-03-31 | 2012-05-01 | 2012-05-01 | 2012-05-01 | 2012-08-02 | 17 |  3.518649e-04 |  1.083815e-03 |  0.0130190007 |  0.0158959538 |  0.012667136 |\n",
       "| 93429 | 184500 | 93429 | CBOE GLOBAL MARKETS INC | 2012 | 2 | 2012-06-30 | 2012-08-02 | 2012-08-02 | 2012-08-01 | 2012-11-01 | 14 |  1.083815e-03 |  1.360544e-03 |  0.0158959538 |  0.0146258503 |  0.014812139 |\n",
       "| 93429 | 184500 | 93429 | CBOE GLOBAL MARKETS INC | 2012 | 3 | 2012-09-30 | 2012-11-01 | 2012-11-01 | 2012-11-01 | 2013-02-08 | 14 |  1.360544e-03 |  1.018330e-03 |  0.0146258503 |  0.0152749491 |  0.013265306 |\n",
       "| 93429 | 184500 | 93429 | CBOE GLOBAL MARKETS INC | 2012 | 4 | 2012-12-31 | 2013-02-08 | 2013-02-08 | 2013-02-08 | 2013-05-03 | 12 |  1.018330e-03 |  2.707093e-04 |  0.0152749491 |  0.0129940444 |  0.014256619 |\n",
       "| 93429 | 184500 | 93429 | CBOE GLOBAL MARKETS INC | 2013 | 1 | 2013-03-31 | 2013-05-03 | 2013-05-03 | 2013-05-03 | 2013-08-02 | 13 |  2.707093e-04 |  4.288165e-04 |  0.0129940444 |  0.0113636364 |  0.012723335 |\n",
       "| 93429 | 184500 | 93429 | CBOE GLOBAL MARKETS INC | 2013 | 2 | 2013-06-30 | 2013-08-02 | 2013-08-02 | 2013-08-02 | 2013-11-01 | 12 |  4.288165e-04 |  4.421844e-04 |  0.0113636364 |  0.0103913332 |  0.010934820 |\n",
       "| 93429 | 184500 | 93429 | CBOE GLOBAL MARKETS INC | 2013 | 3 | 2013-09-30 | 2013-11-01 | 2013-11-01 | 2013-11-01 | 2014-02-07 | 15 |  4.421844e-04 |  7.698229e-04 |  0.0103913332 |  0.0100076982 |  0.009949149 |\n",
       "| 93429 | 184500 | 93429 | CBOE GLOBAL MARKETS INC | 2013 | 4 | 2013-12-31 | 2014-02-07 | 2014-02-07 | 2014-02-07 | 2014-05-06 | 12 |  7.698229e-04 |  0.000000e+00 |  0.0100076982 |  0.0098939929 |  0.009237875 |\n",
       "| 93429 | 184500 | 93429 | CBOE GLOBAL MARKETS INC | 2014 | 1 | 2014-03-31 | 2014-05-06 | 2014-05-06 | 2014-05-06 | 2014-08-01 | 12 |  0.000000e+00 | -1.016054e-04 |  0.0098939929 |  0.0101605365 |  0.009893993 |\n",
       "| 93429 | 184500 | 93429 | CBOE GLOBAL MARKETS INC | 2014 | 2 | 2014-06-30 | 2014-08-01 | 2014-08-01 | 2014-08-01 | 2014-10-31 | 12 | -1.016054e-04 |  5.604858e-04 |  0.0101605365 |  0.0106492293 |  0.010262142 |\n",
       "| 93429 | 184500 | 93429 | CBOE GLOBAL MARKETS INC | 2014 | 3 | 2014-09-30 | 2014-10-31 | 2014-10-31 | 2014-10-31 | 2015-02-06 | 15 |  5.604858e-04 | -2.680542e-04 |  0.0106492293 |  0.0100914538 |  0.010088744 |\n",
       "| 93429 | 184500 | 93429 | CBOE GLOBAL MARKETS INC | 2014 | 4 | 2014-12-31 | 2015-02-06 | 2015-02-06 | 2015-02-06 | 2015-05-01 | 14 | -2.680542e-04 |  4.355021e-04 |  0.0100914538 |  0.0087100427 |  0.010359508 |\n",
       "| 93429 | 184500 | 93429 | CBOE GLOBAL MARKETS INC | 2015 | 1 | 2015-03-31 | 2015-05-01 | 2015-05-01 | 2015-05-01 | 2015-07-31 | 14 |  4.355021e-04 |  6.990563e-04 |  0.0087100427 |  0.0094372597 |  0.008274541 |\n",
       "| 93429 | 184500 | 93429 | CBOE GLOBAL MARKETS INC | 2015 | 2 | 2015-06-30 | 2015-07-31 | 2015-07-31 | 2015-07-31 | 2015-10-30 | 14 |  6.990563e-04 |  4.472272e-04 |  0.0094372597 |  0.0113297555 |  0.008738203 |\n",
       "| 93429 | 184500 | 93429 | CBOE GLOBAL MARKETS INC | 2015 | 3 | 2015-09-30 | 2015-10-30 | 2015-10-30 | 2015-10-30 | 2016-02-03 | 13 |  4.472272e-04 |  6.163328e-04 |  0.0113297555 |  0.0090909091 |  0.010882528 |\n",
       "| 93429 | 184500 | 93429 | CBOE GLOBAL MARKETS INC | 2015 | 4 | 2015-12-31 | 2016-02-03 | 2016-02-03 | 2016-02-03 | 2016-04-29 | 14 |  6.163328e-04 | -1.530690e-04 |  0.0090909091 |  0.0093372111 |  0.008474576 |\n",
       "| 93429 | 184500 | 93429 | CBOE GLOBAL MARKETS INC | 2016 | 1 | 2016-03-31 | 2016-04-29 | 2016-04-29 | 2016-04-29 | 2016-07-29 | 16 | -1.530690e-04 |  0.000000e+00 |  0.0093372111 |  0.0090063044 |  0.009490280 |\n",
       "| 93429 | 184500 | 93429 | CBOE GLOBAL MARKETS INC | 2016 | 2 | 2016-06-30 | 2016-07-29 | 2016-07-29 | 2016-07-29 | 2016-10-28 | 16 |  0.000000e+00 |  1.542020e-04 |  0.0090063044 |  0.0089437163 |  0.009006304 |\n",
       "| 93429 | 184500 | 93429 | CBOE GLOBAL MARKETS INC | 2016 | 3 | 2016-09-30 | 2016-10-28 | 2016-10-28 | 2016-10-28 | 2017-02-06 | 15 |  1.542020e-04 |  4.060089e-04 |  0.0089437163 |  0.0085261876 |  0.008789514 |\n",
       "| 93429 | 184500 | 93429 | CBOE GLOBAL MARKETS INC | 2016 | 4 | 2016-12-31 | 2017-02-06 | 2017-02-06 | 2017-02-06 | 2017-05-09 | 13 |  4.060089e-04 |  1.110152e-03 |  0.0085261876 |  0.0096213149 |  0.008120179 |\n",
       "| 93429 | 184500 | 93429 | CBOE GLOBAL MARKETS INC | 2017 | 1 | 2017-03-31 | 2017-05-09 | 2017-05-09 | 2017-05-09 | 2017-08-04 | 13 |  1.110152e-03 |  1.094092e-04 |  0.0096213149 |  0.0095185996 |  0.008511163 |\n",
       "| 93429 | 184500 | 93429 | CBOE GLOBAL MARKETS INC | 2017 | 2 | 2017-06-30 | 2017-08-04 | 2017-08-04 | 2017-08-04 | 2017-11-07 | 14 |  1.094092e-04 |  9.291090e-05 |  0.0095185996 |  0.0082690700 |  0.009409190 |\n",
       "| 93429 | 184500 | 93429 | CBOE GLOBAL MARKETS INC | 2017 | 3 | 2017-09-30 | 2017-11-07 | 2017-11-07 | 2017-11-07 | 2018-02-09 | 12 |  9.291090e-05 | -8.026326e-05 |  0.0082690700 |  0.0069829039 |  0.008176159 |\n",
       "| 93429 | 184500 | 93429 | CBOE GLOBAL MARKETS INC | 2017 | 4 | 2017-12-31 | 2018-02-09 | 2018-02-09 | 2018-02-09 | 2018-05-04 | 10 | -8.026326e-05 |  8.764242e-04 |  0.0069829039 |  0.0120946538 |  0.007063167 |\n",
       "| 93429 | 184500 | 93429 | CBOE GLOBAL MARKETS INC | 2018 | 1 | 2018-03-31 | 2018-05-04 | 2018-05-04 | 2018-05-04 | 2018-08-03 | 13 |  8.764242e-04 |  2.402229e-04 |  0.0120946538 |  0.0100893629 |  0.011218230 |\n",
       "| 93429 | 184500 | 93429 | CBOE GLOBAL MARKETS INC | 2018 | 2 | 2018-06-30 | 2018-08-03 | 2018-08-03 | 2018-08-03 | 2018-11-02 | 12 |  2.402229e-04 |  5.210504e-04 |  0.0100893629 |  0.0110462693 |  0.009849140 |\n",
       "| 93429 | 184500 | 93429 | CBOE GLOBAL MARKETS INC | 2018 | 3 | 2018-09-30 | 2018-11-02 | 2018-11-02 | 2018-11-02 | NA | 14 |  5.210504e-04 |            NA |  0.0110462693 |  0.0157415926 |  0.010525219 |\n",
       "| 93429 | 184500 | 93429 | CBOE GLOBAL MARKETS INC | 2018 | 4 | 2018-12-31 | 2019-02-08 | NA | 2019-02-08 | NA |  0 |            NA |            NA |  0.0157415926 |            NA |           NA |\n",
       "\n"
      ],
      "text/plain": [
       "      permno gvkey  permno conm                    fyear fqtr datadate  \n",
       "1     10078  012136 10078  SUN MICROSYSTEMS INC    2005  3    2005-03-31\n",
       "2     10078  012136 10078  SUN MICROSYSTEMS INC    2005  4    2005-06-30\n",
       "3     10078  012136 10078  SUN MICROSYSTEMS INC    2006  1    2005-09-30\n",
       "4     10078  012136 10078  SUN MICROSYSTEMS INC    2006  2    2005-12-31\n",
       "5     10078  012136 10078  SUN MICROSYSTEMS INC    2006  3    2006-03-31\n",
       "6     10078  012136 10078  SUN MICROSYSTEMS INC    2006  4    2006-06-30\n",
       "7     10078  012136 10078  SUN MICROSYSTEMS INC    2007  1    2006-09-30\n",
       "8     10078  012136 10078  SUN MICROSYSTEMS INC    2007  2    2006-12-31\n",
       "9     10078  012136 10078  SUN MICROSYSTEMS INC    2007  3    2007-03-31\n",
       "10    10078  012136 10078  SUN MICROSYSTEMS INC    2007  4    2007-06-30\n",
       "11    10078  012136 10078  SUN MICROSYSTEMS INC    2008  1    2007-09-30\n",
       "12    10078  012136 10078  SUN MICROSYSTEMS INC    2008  2    2007-12-31\n",
       "13    10078  012136 10078  SUN MICROSYSTEMS INC    2008  3    2008-03-31\n",
       "14    10078  012136 10078  SUN MICROSYSTEMS INC    2008  4    2008-06-30\n",
       "15    10078  012136 10078  SUN MICROSYSTEMS INC    2009  1    2008-09-30\n",
       "16    10078  012136 10078  SUN MICROSYSTEMS INC    2009  2    2008-12-31\n",
       "17    10078  012136 10078  SUN MICROSYSTEMS INC    2009  3    2009-03-31\n",
       "18    10078  012136 10078  SUN MICROSYSTEMS INC    2009  4    2009-06-30\n",
       "19    10078  012136 10078  SUN MICROSYSTEMS INC    2010  1    2009-09-30\n",
       "20    10104  012142 10104  ORACLE CORP             2004  3    2005-02-28\n",
       "21    10104  012142 10104  ORACLE CORP             2004  4    2005-05-31\n",
       "22    10104  012142 10104  ORACLE CORP             2005  1    2005-08-31\n",
       "23    10104  012142 10104  ORACLE CORP             2005  2    2005-11-30\n",
       "24    10104  012142 10104  ORACLE CORP             2005  3    2006-02-28\n",
       "25    10104  012142 10104  ORACLE CORP             2005  4    2006-05-31\n",
       "26    10104  012142 10104  ORACLE CORP             2006  1    2006-08-31\n",
       "27    10104  012142 10104  ORACLE CORP             2006  2    2006-11-30\n",
       "28    10104  012142 10104  ORACLE CORP             2006  3    2007-02-28\n",
       "29    10104  012142 10104  ORACLE CORP             2006  4    2007-05-31\n",
       "30    10104  012142 10104  ORACLE CORP             2007  1    2007-08-31\n",
       "31    10104  012142 10104  ORACLE CORP             2007  2    2007-11-30\n",
       "32    10104  012142 10104  ORACLE CORP             2007  3    2008-02-29\n",
       "33    10104  012142 10104  ORACLE CORP             2007  4    2008-05-31\n",
       "34    10104  012142 10104  ORACLE CORP             2008  1    2008-08-31\n",
       "35    10104  012142 10104  ORACLE CORP             2008  2    2008-11-30\n",
       "36    10104  012142 10104  ORACLE CORP             2008  3    2009-02-28\n",
       "37    10104  012142 10104  ORACLE CORP             2008  4    2009-05-31\n",
       "38    10104  012142 10104  ORACLE CORP             2009  1    2009-08-31\n",
       "39    10104  012142 10104  ORACLE CORP             2009  2    2009-11-30\n",
       "40    10104  012142 10104  ORACLE CORP             2009  3    2010-02-28\n",
       "41    10104  012142 10104  ORACLE CORP             2009  4    2010-05-31\n",
       "42    10104  012142 10104  ORACLE CORP             2010  1    2010-08-31\n",
       "43    10104  012142 10104  ORACLE CORP             2010  2    2010-11-30\n",
       "44    10104  012142 10104  ORACLE CORP             2010  3    2011-02-28\n",
       "45    10104  012142 10104  ORACLE CORP             2010  4    2011-05-31\n",
       "46    10104  012142 10104  ORACLE CORP             2011  1    2011-08-31\n",
       "47    10104  012142 10104  ORACLE CORP             2011  2    2011-11-30\n",
       "48    10104  012142 10104  ORACLE CORP             2011  3    2012-02-29\n",
       "49    10104  012142 10104  ORACLE CORP             2011  4    2012-05-31\n",
       "50    10104  012142 10104  ORACLE CORP             2012  1    2012-08-31\n",
       "...   ...    ...    ...    ...                     ...   ...  ...       \n",
       "39848 93422  154357 93422  QEP RESOURCES INC       2015  2    2015-06-30\n",
       "39849 93422  154357 93422  QEP RESOURCES INC       2015  3    2015-09-30\n",
       "39850 93422  154357 93422  QEP RESOURCES INC       2015  4    2015-12-31\n",
       "39851 93422  154357 93422  QEP RESOURCES INC       2016  1    2016-03-31\n",
       "39852 93422  154357 93422  QEP RESOURCES INC       2016  2    2016-06-30\n",
       "39853 93422  154357 93422  QEP RESOURCES INC       2016  3    2016-09-30\n",
       "39854 93422  154357 93422  QEP RESOURCES INC       2016  4    2016-12-31\n",
       "      rdq        rdq1       repdats    rdq1_lead1 numest sue          \n",
       "1     2005-04-14 2005-04-14 2005-04-14 2005-07-26 12     -0.0049504950\n",
       "2     2005-07-26 2005-07-26 2005-07-26 2005-11-01  4     -0.0080428954\n",
       "3     2005-11-01 2005-11-01 2005-11-01 2006-01-24  9      0.0000000000\n",
       "4     2006-01-24 2006-01-24 2006-01-24 2006-04-24 18     -0.0143198091\n",
       "5     2006-04-24 2006-04-24 2006-04-24 2006-07-25 20      0.0000000000\n",
       "6     2006-07-25 2006-07-25 2006-07-25 2006-10-26  6      0.0000000000\n",
       "7     2006-10-26 2006-10-26 2006-10-26 2007-01-23  3      0.0040404040\n",
       "8     2007-01-23 2007-01-23 2007-01-23 2007-04-24  9      0.0055350554\n",
       "9     2007-04-24 2007-04-24 2007-04-24 2007-07-30 15     -0.0016638935\n",
       "10    2007-07-30 2007-07-30 2007-07-30 2007-11-05  2      0.0076045627\n",
       "11    2007-11-05 2007-11-05 2007-11-05 2008-01-24  4      0.0293594306\n",
       "12    2008-01-24 2008-01-24 2008-01-24 2008-05-01 18      0.0027578599\n",
       "13    2008-05-01 2008-05-01 2008-05-01 2008-08-01 11     -0.0109465551\n",
       "14    2008-08-01 2008-08-01 2008-08-01 2008-10-30 13     -0.0036764706\n",
       "15    2008-10-30 2008-10-30 2008-10-30 2009-01-27 20     -0.0197368421\n",
       "16    2009-01-27 2009-01-27 2009-01-27 2009-04-28 20      0.0235602094\n",
       "17    2009-04-28 2009-04-28 2009-04-28 2009-08-28 16     -0.0040983607\n",
       "18    2009-08-28 2009-08-28 2009-08-28 2009-11-06  4      0.0097613883\n",
       "19    2009-11-06 2009-11-06 2009-11-06 2010-02-06  5      0.0220022002\n",
       "20    2005-03-22 2005-03-22 2005-03-22 2005-06-29 13      0.0007722008\n",
       "21    2005-06-29 2005-06-29 2005-06-29 2005-09-22  6      0.0019531250\n",
       "22    2005-09-22 2005-09-22 2005-09-22 2005-12-15 20      0.0000000000\n",
       "23    2005-12-15 2005-12-15 2005-12-15 2006-03-20 18      0.0000000000\n",
       "24    2006-03-20 2006-03-20 2006-03-20 2006-06-22 30      0.0008051530\n",
       "25    2006-06-22 2006-06-22 2006-06-22 2006-09-19 18      0.0000000000\n",
       "26    2006-09-19 2006-09-19 2006-09-19 2006-12-18 20      0.0012771392\n",
       "27    2006-12-18 2006-12-18 2006-12-18 2007-03-20 17      0.0000000000\n",
       "28    2007-03-20 2007-03-20 2007-03-20 2007-06-26  5      0.0012172855\n",
       "29    2007-06-26 2007-06-26 2007-06-26 2007-09-20  5      0.0010319917\n",
       "30    2007-09-20 2007-09-20 2007-09-20 2007-12-19 19      0.0004930966\n",
       "31    2007-12-19 2007-12-19 2007-12-19 2008-03-26 22      0.0019821606\n",
       "32    2008-03-26 2008-03-26 2008-03-26 2008-06-25  3     -0.0005319149\n",
       "33    2008-06-25 2008-06-25 2008-06-25 2008-09-18 14      0.0013134851\n",
       "34    2008-09-18 2008-09-18 2008-09-18 2008-12-18 17      0.0009119927\n",
       "35    2008-12-18 2008-12-18 2008-12-18 2009-03-18 26      0.0000000000\n",
       "36    2009-03-18 2009-03-18 2009-03-18 2009-06-23 23      0.0025740026\n",
       "37    2009-06-23 2009-06-23 2009-06-23 2009-09-16  6      0.0010209290\n",
       "38    2009-09-16 2009-09-16 2009-09-16 2009-12-17 26      0.0000000000\n",
       "39    2009-12-17 2009-12-17 2009-12-17 2010-03-25  4      0.0013586957\n",
       "40    2010-03-25 2010-03-25 2010-03-25 2010-06-24 12      0.0002028398\n",
       "41    2010-06-24 2010-06-24 2010-06-24 2010-09-16 29      0.0026583961\n",
       "42    2010-09-16 2010-09-16 2010-09-16 2010-12-16 33      0.0027466239\n",
       "43    2010-12-16 2010-12-16 2010-12-16 2011-03-24 27      0.0018487706\n",
       "44    2011-03-24 2011-03-24 2011-03-24 2011-06-23 12      0.0012158055\n",
       "45    2011-06-23 2011-06-23 2011-06-23 2011-09-20 34      0.0011689071\n",
       "46    2011-09-20 2011-09-20 2011-09-20 2011-12-20 35      0.0007125045\n",
       "47    2011-12-20 2011-12-20 2011-12-20 2012-03-20 22     -0.0009569378\n",
       "48    2012-03-20 2012-03-20 2012-03-20 2012-06-18 34      0.0020509315\n",
       "49    2012-06-18 2012-06-18 2012-06-18 2012-09-20 39      0.0015111447\n",
       "50    2012-09-20 2012-09-20 2012-09-20 2012-12-18  6      0.0000000000\n",
       "...   ...        ...        ...        ...        ...    ...          \n",
       "39848 2015-08-03 2015-08-03 2015-08-03 2015-10-28 13      8.643976e-03\n",
       "39849 2015-10-28 2015-10-28 2015-10-28 2016-02-24 15      7.182761e-03\n",
       "39850 2016-02-24 2016-02-24 2016-02-24 2016-04-27 15      7.462687e-03\n",
       "39851 2016-04-27 2016-04-27 2016-04-27 2016-07-27 17      4.252303e-03\n",
       "39852 2016-07-27 2016-07-27 2016-07-27 2016-10-26 19      6.239365e-03\n",
       "39853 2016-10-26 2016-10-26 2016-10-26 2017-02-22 18      1.024066e-03\n",
       "39854 2017-02-22 2017-02-22 2017-02-22 2017-04-26 14      4.073873e-03\n",
       "      sue_lead1     se            se_lead1      sest        \n",
       "1     -0.0080428954 -0.004950495  -0.005361930   0.000000000\n",
       "2      0.0000000000 -0.005361930  -0.002544529   0.002680965\n",
       "3     -0.0143198091 -0.002544529  -0.016706444  -0.002544529\n",
       "4      0.0000000000 -0.016706444  -0.011695906  -0.002386635\n",
       "5      0.0000000000 -0.011695906  -0.004819277  -0.011695906\n",
       "6      0.0040404040 -0.004819277  -0.002020202  -0.004819277\n",
       "7      0.0055350554 -0.002020202   0.007380074  -0.006060606\n",
       "8     -0.0016638935  0.007380074   0.001663894   0.001845018\n",
       "9      0.0076045627  0.001663894   0.017110266   0.003327787\n",
       "10     0.0293594306  0.017110266   0.035587189   0.009505703\n",
       "11     0.0027578599  0.035587189   0.019305019   0.006227758\n",
       "12    -0.0109465551  0.019305019   0.000643915   0.016547159\n",
       "13    -0.0036764706  0.000643915   0.016544118   0.011590470\n",
       "14    -0.0197368421  0.016544118  -0.031578947   0.020220588\n",
       "15     0.0235602094 -0.031578947   0.005235602  -0.011842105\n",
       "16    -0.0040983607  0.005235602  -0.028688525  -0.018324607\n",
       "17     0.0097613883 -0.028688525  -0.017353579  -0.024590164\n",
       "18     0.0220022002 -0.017353579  -0.009900990  -0.027114967\n",
       "19               NA -0.009900990            NA  -0.031903190\n",
       "20     0.0019531250  0.012355212   0.020312500   0.011583012\n",
       "21     0.0000000000  0.020312500   0.010777521   0.018359375\n",
       "22     0.0000000000  0.010777521   0.015079365   0.010777521\n",
       "23     0.0008051530  0.015079365   0.015297907   0.015079365\n",
       "24     0.0000000000  0.015297907   0.020393812   0.014492754\n",
       "25     0.0012771392  0.020393812   0.011494253   0.020393812\n",
       "26     0.0000000000  0.011494253   0.011548556   0.010217114\n",
       "27     0.0012172855  0.011548556   0.015216068   0.011548556\n",
       "28     0.0010319917  0.015216068   0.019091847   0.013998783\n",
       "29     0.0004930966  0.019091847   0.010848126   0.018059856\n",
       "30     0.0019821606  0.010848126   0.015361744   0.010355030\n",
       "31    -0.0005319149  0.015361744   0.015957447   0.013379584\n",
       "32     0.0013134851  0.015957447   0.020577933   0.016489362\n",
       "33     0.0009119927  0.020577933   0.013223894   0.019264448\n",
       "34     0.0000000000  0.013223894   0.021131137   0.012311902\n",
       "35     0.0025740026  0.021131137   0.022522523   0.021131137\n",
       "36     0.0010209290  0.022522523   0.023481368   0.019948520\n",
       "37     0.0000000000  0.023481368   0.013711152   0.022460439\n",
       "38     0.0013586957  0.013711152   0.017663043   0.013711152\n",
       "39     0.0002028398  0.017663043   0.015415822   0.016304348\n",
       "40     0.0026583961  0.015415822   0.026583961   0.015212982\n",
       "41     0.0027466239  0.026583961   0.019226368   0.023925565\n",
       "42     0.0018487706  0.019226368   0.018857460   0.016479744\n",
       "43     0.0012158055  0.018857460   0.016413374   0.017008689\n",
       "44     0.0011689071  0.016413374   0.021917008   0.015197568\n",
       "45     0.0007125045  0.021917008   0.017100107   0.020748101\n",
       "46    -0.0009569378  0.017100107   0.017224880   0.016387602\n",
       "47     0.0020509315  0.017224880   0.021192958   0.018181818\n",
       "48     0.0015111447  0.021192958   0.030978466   0.019142027\n",
       "49     0.0000000000  0.030978466   0.016745656   0.029467321\n",
       "50     0.0009324009  0.016745656   0.019891220   0.016745656\n",
       "...   ...           ...           ...           ...         \n",
       "39848  7.182761e-03  0.0048622366  0.0007980846 -0.003781740\n",
       "39849  7.462687e-03  0.0007980846 -0.0007462687 -0.006384677\n",
       "39850  4.252303e-03 -0.0007462687 -0.0375620128 -0.008208955\n",
       "39851  6.239365e-03 -0.0375620128 -0.0130459444 -0.041814316\n",
       "39852  1.024066e-03 -0.0130459444 -0.0107526882 -0.019285309\n",
       "39853  4.073873e-03 -0.0107526882 -0.0081477458 -0.011776754\n",
       "39854  5.507474e-03 -0.0081477458 -0.0110149489 -0.012221619\n",
       " [ reached getOption(\"max.print\") -- omitted 43 rows ]"
      ]
     },
     "metadata": {},
     "output_type": "display_data"
    }
   ],
   "source": [
    "x = sue[!is.na(permno)\n",
    "    ][, ':='(n=.N), keyby=.(permno, fyearq, fqtr)\n",
    "    ][n==1\n",
    "    ][order(permno, fyearq, fqtr)\n",
    "    ][, .(gvkey, permno, conm, fyear=fyearq, fqtr, datadate, \n",
    "          rdq, rdq1, repdats, rdq1_lead1=leadrdq1, numest, \n",
    "          sue=sue3, sue_lead1=shift(sue3, type='lead'), \n",
    "          se, se_lead1=shift(se, type='lead'), \n",
    "          sest),\n",
    "     keyby=.(permno)\n",
    "    ][car]\n",
    "\n",
    "x"
   ]
  },
  {
   "cell_type": "code",
   "execution_count": 29,
   "metadata": {},
   "outputs": [
    {
     "data": {
      "text/html": [
       "39897"
      ],
      "text/latex": [
       "39897"
      ],
      "text/markdown": [
       "39897"
      ],
      "text/plain": [
       "[1] 39897"
      ]
     },
     "metadata": {},
     "output_type": "display_data"
    },
    {
     "data": {
      "text/html": [
       "78"
      ],
      "text/latex": [
       "78"
      ],
      "text/markdown": [
       "78"
      ],
      "text/plain": [
       "[1] 78"
      ]
     },
     "metadata": {},
     "output_type": "display_data"
    },
    {
     "data": {
      "text/html": [
       "271"
      ],
      "text/latex": [
       "271"
      ],
      "text/markdown": [
       "271"
      ],
      "text/plain": [
       "[1] 271"
      ]
     },
     "metadata": {},
     "output_type": "display_data"
    }
   ],
   "source": [
    "x[, .N]\n",
    "x[, sum(rdq!=rdq1, na.rm=T)]\n",
    "x[, sum(rdq!=repdats, na.rm=T)]"
   ]
  },
  {
   "cell_type": "markdown",
   "metadata": {
    "toc-hr-collapsed": false
   },
   "source": [
    "# X"
   ]
  },
  {
   "cell_type": "markdown",
   "metadata": {},
   "source": [
    "## transcripts"
   ]
  },
  {
   "cell_type": "code",
   "execution_count": 2,
   "metadata": {},
   "outputs": [
    {
     "name": "stdout",
     "output_type": "stream",
     "text": [
      "-ciq_transcript_detail- loaded  (2.63 secs)\n"
     ]
    }
   ],
   "source": [
    "ld(ciq_transcript_detail, path=WRDS_DOWNLOAD_DIR)"
   ]
  },
  {
   "cell_type": "markdown",
   "metadata": {},
   "source": [
    "# `Dataset`"
   ]
  },
  {
   "cell_type": "markdown",
   "metadata": {},
   "source": [
    "## `CC` + `SUE`"
   ]
  },
  {
   "cell_type": "code",
   "execution_count": 15,
   "metadata": {},
   "outputs": [
    {
     "name": "stdout",
     "output_type": "stream",
     "text": [
      "-sue- loaded  (0.1 secs)\n",
      "-cc- already exists, will NOT load again!  (0 secs)\n"
     ]
    }
   ],
   "source": [
    "ld(sue)\n",
    "ld(cc)"
   ]
  },
  {
   "cell_type": "code",
   "execution_count": 16,
   "metadata": {},
   "outputs": [
    {
     "data": {
      "text/html": [
       "<table>\n",
       "<thead><tr><th scope=col>gvkey</th><th scope=col>ticker</th><th scope=col>permno</th><th scope=col>conm</th><th scope=col>fyearq</th><th scope=col>fqtr</th><th scope=col>datadate</th><th scope=col>fyr</th><th scope=col>rdq</th><th scope=col>rdq1</th><th scope=col>leadrdq1</th><th scope=col>repdats</th><th scope=col>mcap</th><th scope=col>medest</th><th scope=col>act</th><th scope=col>numest</th><th scope=col>basis</th><th scope=col>sue1</th><th scope=col>sue2</th><th scope=col>sue3</th><th scope=col>se</th></tr></thead>\n",
       "<tbody>\n",
       "\t<tr><td>001013                    </td><td>ADCT                      </td><td>50906                     </td><td>ADC TELECOMMUNICATIONS INC</td><td>2010                      </td><td>4                         </td><td>2010-09-30                </td><td>9                         </td><td>2010-11-23                </td><td>2010-11-23                </td><td>2011-02-23                </td><td>2010-11-23                </td><td>1231.524                  </td><td>0.16                      </td><td>0.15                      </td><td>1                         </td><td>D                         </td><td>NA                        </td><td>NA                        </td><td>-0.000789266              </td><td>0.01183899                </td></tr>\n",
       "</tbody>\n",
       "</table>\n"
      ],
      "text/latex": [
       "\\begin{tabular}{r|lllllllllllllllllllll}\n",
       " gvkey & ticker & permno & conm & fyearq & fqtr & datadate & fyr & rdq & rdq1 & leadrdq1 & repdats & mcap & medest & act & numest & basis & sue1 & sue2 & sue3 & se\\\\\n",
       "\\hline\n",
       "\t 001013                     & ADCT                       & 50906                      & ADC TELECOMMUNICATIONS INC & 2010                       & 4                          & 2010-09-30                 & 9                          & 2010-11-23                 & 2010-11-23                 & 2011-02-23                 & 2010-11-23                 & 1231.524                   & 0.16                       & 0.15                       & 1                          & D                          & NA                         & NA                         & -0.000789266               & 0.01183899                \\\\\n",
       "\\end{tabular}\n"
      ],
      "text/markdown": [
       "\n",
       "| gvkey | ticker | permno | conm | fyearq | fqtr | datadate | fyr | rdq | rdq1 | leadrdq1 | repdats | mcap | medest | act | numest | basis | sue1 | sue2 | sue3 | se |\n",
       "|---|---|---|---|---|---|---|---|---|---|---|---|---|---|---|---|---|---|---|---|---|\n",
       "| 001013                     | ADCT                       | 50906                      | ADC TELECOMMUNICATIONS INC | 2010                       | 4                          | 2010-09-30                 | 9                          | 2010-11-23                 | 2010-11-23                 | 2011-02-23                 | 2010-11-23                 | 1231.524                   | 0.16                       | 0.15                       | 1                          | D                          | NA                         | NA                         | -0.000789266               | 0.01183899                 |\n",
       "\n"
      ],
      "text/plain": [
       "  gvkey  ticker permno conm                       fyearq fqtr datadate   fyr\n",
       "1 001013 ADCT   50906  ADC TELECOMMUNICATIONS INC 2010   4    2010-09-30 9  \n",
       "  rdq        rdq1       leadrdq1   repdats    mcap     medest act  numest basis\n",
       "1 2010-11-23 2010-11-23 2011-02-23 2010-11-23 1231.524 0.16   0.15 1      D    \n",
       "  sue1 sue2 sue3         se        \n",
       "1 NA   NA   -0.000789266 0.01183899"
      ]
     },
     "metadata": {},
     "output_type": "display_data"
    }
   ],
   "source": [
    "sue[1]"
   ]
  },
  {
   "cell_type": "code",
   "execution_count": 52,
   "metadata": {},
   "outputs": [
    {
     "data": {
      "text/html": [
       "<table>\n",
       "<thead><tr><th scope=col>gvkey</th><th scope=col>headline_date</th><th scope=col>mid_utc</th><th scope=col>headline</th><th scope=col>keydevid</th><th scope=col>md</th><th scope=col>qa</th><th scope=col>cc_path</th></tr></thead>\n",
       "<tbody>\n",
       "\t<tr><td>001300                                                                                                                 </td><td>2007-07-19                                                                                                             </td><td>2007-07-19 08:00:00                                                                                                    </td><td>Honeywell International Inc., Q2 2007 Earnings Call, Jul-19-2007                                                       </td><td>4527845                                                                                                                </td><td>Presentati                                                                                                             </td><td>Question a                                                                                                             </td><td>C:/Users/rossz/OneDrive/CC/data/ciq-dji/001300-hon/Honeywell International Inc., Q2 2007 Earnings Call, Jul-19-2007.pdf</td></tr>\n",
       "</tbody>\n",
       "</table>\n"
      ],
      "text/latex": [
       "\\begin{tabular}{r|llllllll}\n",
       " gvkey & headline\\_date & mid\\_utc & headline & keydevid & md & qa & cc\\_path\\\\\n",
       "\\hline\n",
       "\t 001300                                                                                                                  & 2007-07-19                                                                                                              & 2007-07-19 08:00:00                                                                                                     & Honeywell International Inc., Q2 2007 Earnings Call, Jul-19-2007                                                        & 4527845                                                                                                                 & Presentati                                                                                                              & Question a                                                                                                              & C:/Users/rossz/OneDrive/CC/data/ciq-dji/001300-hon/Honeywell International Inc., Q2 2007 Earnings Call, Jul-19-2007.pdf\\\\\n",
       "\\end{tabular}\n"
      ],
      "text/markdown": [
       "\n",
       "| gvkey | headline_date | mid_utc | headline | keydevid | md | qa | cc_path |\n",
       "|---|---|---|---|---|---|---|---|\n",
       "| 001300                                                                                                                  | 2007-07-19                                                                                                              | 2007-07-19 08:00:00                                                                                                     | Honeywell International Inc., Q2 2007 Earnings Call, Jul-19-2007                                                        | 4527845                                                                                                                 | Presentati                                                                                                              | Question a                                                                                                              | C:/Users/rossz/OneDrive/CC/data/ciq-dji/001300-hon/Honeywell International Inc., Q2 2007 Earnings Call, Jul-19-2007.pdf |\n",
       "\n"
      ],
      "text/plain": [
       "  gvkey  headline_date mid_utc            \n",
       "1 001300 2007-07-19    2007-07-19 08:00:00\n",
       "  headline                                                         keydevid\n",
       "1 Honeywell International Inc., Q2 2007 Earnings Call, Jul-19-2007 4527845 \n",
       "  md         qa        \n",
       "1 Presentati Question a\n",
       "  cc_path                                                                                                                \n",
       "1 C:/Users/rossz/OneDrive/CC/data/ciq-dji/001300-hon/Honeywell International Inc., Q2 2007 Earnings Call, Jul-19-2007.pdf"
      ]
     },
     "metadata": {},
     "output_type": "display_data"
    }
   ],
   "source": [
    "cc[1][, ':='(md=str_sub(md, 1, 10), qa=str_sub(qa, 1, 10))][]"
   ]
  },
  {
   "cell_type": "code",
   "execution_count": 53,
   "metadata": {
    "scrolled": true
   },
   "outputs": [
    {
     "data": {
      "text/html": [
       "<table>\n",
       "<thead><tr><th scope=col>gvkey</th><th scope=col>headline_date</th><th scope=col>mid_utc</th><th scope=col>headline</th><th scope=col>keydevid</th><th scope=col>md</th><th scope=col>qa</th><th scope=col>cc_path</th></tr></thead>\n",
       "<tbody>\n",
       "\t<tr><td>NA                                                                                                                                     </td><td>2010-08-12                                                                                                                             </td><td>NA                                                                                                                                     </td><td>NA                                                                                                                                     </td><td>NA                                                                                                                                     </td><td>Presentati                                                                                                                             </td><td>Question a                                                                                                                             </td><td>C:/Users/rossz/OneDrive/CC/data/ciq-dji/005073-gm/General Motors Company, Q2 2010 Earnings Call, Aug-12-2010.pdf                       </td></tr>\n",
       "\t<tr><td>NA                                                                                                                                     </td><td>2010-11-10                                                                                                                             </td><td>NA                                                                                                                                     </td><td>NA                                                                                                                                     </td><td>NA                                                                                                                                     </td><td>Presentati                                                                                                                             </td><td>NA                                                                                                                                     </td><td>C:/Users/rossz/OneDrive/CC/data/ciq-dji/005073-gm/General Motors Company, Q3 2010 Earnings Call, Nov 10, 2010.pdf                      </td></tr>\n",
       "\t<tr><td>NA                                                                                                                                     </td><td>2019-06-27                                                                                                                             </td><td>NA                                                                                                                                     </td><td>NA                                                                                                                                     </td><td>NA                                                                                                                                     </td><td>Presentati                                                                                                                             </td><td>Question a                                                                                                                             </td><td>C:/Users/rossz/OneDrive/CC/data/ciq-dji/007906-nke/NIKE, Inc., Q4 2019 Earnings Call, Jun 27, 2019.pdf                                 </td></tr>\n",
       "\t<tr><td>NA                                                                                                                                     </td><td>2019-06-27                                                                                                                             </td><td>NA                                                                                                                                     </td><td>NA                                                                                                                                     </td><td>NA                                                                                                                                     </td><td>Presentati                                                                                                                             </td><td>Question a                                                                                                                             </td><td>C:/Users/rossz/OneDrive/CC/data/ciq-dji/011264-wba/Walgreens Boots Alliance, Inc., Q3 2019 Earnings Call, Jun 27, 2019.pdf             </td></tr>\n",
       "\t<tr><td>NA                                                                                                                                     </td><td>2019-07-15                                                                                                                             </td><td>NA                                                                                                                                     </td><td>NA                                                                                                                                     </td><td>NA                                                                                                                                     </td><td>Presentati                                                                                                                             </td><td>Question a                                                                                                                             </td><td>C:/Users/rossz/OneDrive/CC/data/ciq-dji/003243-c/Citigroup Inc., Q2 2019 Earnings Call, Jul 15, 2019.pdf                               </td></tr>\n",
       "\t<tr><td>NA                                                                                                                                     </td><td>2019-07-16                                                                                                                             </td><td>NA                                                                                                                                     </td><td>NA                                                                                                                                     </td><td>NA                                                                                                                                     </td><td>Presentati                                                                                                                             </td><td>Question a                                                                                                                             </td><td>C:/Users/rossz/OneDrive/CC/data/ciq-dji/002968-jpm/JPMorgan Chase  Co., Q2 2019 Earnings Call, Jul 16, 2019.pdf                        </td></tr>\n",
       "\t<tr><td>NA                                                                                                                                     </td><td>2019-07-16                                                                                                                             </td><td>NA                                                                                                                                     </td><td>NA                                                                                                                                     </td><td>NA                                                                                                                                     </td><td>Presentati                                                                                                                             </td><td>Question a                                                                                                                             </td><td>C:/Users/rossz/OneDrive/CC/data/ciq-dji/006266-jnj/Johnson  Johnson, Q2 2019 Earnings Call, Jul 16, 2019.pdf                           </td></tr>\n",
       "\t<tr><td>NA                                                                                                                                     </td><td>2019-07-16                                                                                                                             </td><td>NA                                                                                                                                     </td><td>NA                                                                                                                                     </td><td>NA                                                                                                                                     </td><td>Presentati                                                                                                                             </td><td>Question a                                                                                                                             </td><td>C:/Users/rossz/OneDrive/CC/data/ciq-dji/114628-gs/The Goldman Sachs Group, Inc., Q2 2019 Earnings Call, Jul 16, 2019.pdf               </td></tr>\n",
       "\t<tr><td>NA                                                                                                                                     </td><td>2019-07-17                                                                                                                             </td><td>NA                                                                                                                                     </td><td>NA                                                                                                                                     </td><td>NA                                                                                                                                     </td><td>Presentati                                                                                                                             </td><td>Question a                                                                                                                             </td><td>C:/Users/rossz/OneDrive/CC/data/ciq-dji/006066-ibm/International Business Machines Corporation, Q2 2019 Earnings Call, Jul 17, 2019.pdf</td></tr>\n",
       "\t<tr><td>NA                                                                                                                                     </td><td>2019-07-17                                                                                                                             </td><td>NA                                                                                                                                     </td><td>NA                                                                                                                                     </td><td>NA                                                                                                                                     </td><td>Presentati                                                                                                                             </td><td>Question a                                                                                                                             </td><td>C:/Users/rossz/OneDrive/CC/data/ciq-dji/007647-bac/Bank of America Corporation, Q2 2019 Earnings Call, Jul 17, 2019.pdf                </td></tr>\n",
       "\t<tr><td>NA                                                                                                                                     </td><td>2019-07-18                                                                                                                             </td><td>NA                                                                                                                                     </td><td>NA                                                                                                                                     </td><td>NA                                                                                                                                     </td><td>Presentati                                                                                                                             </td><td>Question a                                                                                                                             </td><td>C:/Users/rossz/OneDrive/CC/data/ciq-dji/001300-hon/Honeywell International Inc., Q2 2019 Earnings Call, Jul 18, 2019.pdf               </td></tr>\n",
       "\t<tr><td>NA                                                                                                                                     </td><td>2019-07-18                                                                                                                             </td><td>NA                                                                                                                                     </td><td>NA                                                                                                                                     </td><td>NA                                                                                                                                     </td><td>Presentati                                                                                                                             </td><td>Question a                                                                                                                             </td><td>C:/Users/rossz/OneDrive/CC/data/ciq-dji/010903-unh/UnitedHealth Group Incorporated, Q2 2019 Earnings Call, Jul 18, 2019.pdf            </td></tr>\n",
       "\t<tr><td>NA                                                                                                                                     </td><td>2019-07-18                                                                                                                             </td><td>NA                                                                                                                                     </td><td>NA                                                                                                                                     </td><td>NA                                                                                                                                     </td><td>Presentati                                                                                                                             </td><td>Question a                                                                                                                             </td><td>C:/Users/rossz/OneDrive/CC/data/ciq-dji/012141-msft/Microsoft Corporation, Q4 2019 Earnings Call, Jul 18, 2019.pdf                     </td></tr>\n",
       "\t<tr><td>NA                                                                                                                                     </td><td>2019-07-19                                                                                                                             </td><td>NA                                                                                                                                     </td><td>NA                                                                                                                                     </td><td>NA                                                                                                                                     </td><td>Presentati                                                                                                                             </td><td>Question a                                                                                                                             </td><td>C:/Users/rossz/OneDrive/CC/data/ciq-dji/001447-axp/American Express Company, Q2 2019 Earnings Call, Jul 19, 2019.pdf                   </td></tr>\n",
       "\t<tr><td>NA                                                                                                                                     </td><td>2019-07-23                                                                                                                             </td><td>NA                                                                                                                                     </td><td>NA                                                                                                                                     </td><td>NA                                                                                                                                     </td><td>Presentati                                                                                                                             </td><td>Question a                                                                                                                             </td><td>C:/Users/rossz/OneDrive/CC/data/ciq-dji/003144-ko/The Coca-Cola Company, Q2 2019 Earnings Call, Jul 23, 2019.pdf                       </td></tr>\n",
       "\t<tr><td>NA                                                                                                                                     </td><td>2019-07-23                                                                                                                             </td><td>NA                                                                                                                                     </td><td>NA                                                                                                                                     </td><td>NA                                                                                                                                     </td><td>Presentati                                                                                                                             </td><td>Question a                                                                                                                             </td><td>C:/Users/rossz/OneDrive/CC/data/ciq-dji/010983-utx/United Technologies Corporation, Q2 2019 Earnings Call, Jul 23, 2019.pdf            </td></tr>\n",
       "\t<tr><td>NA                                                                                                                                     </td><td>2019-07-23                                                                                                                             </td><td>NA                                                                                                                                     </td><td>NA                                                                                                                                     </td><td>NA                                                                                                                                     </td><td>Presentati                                                                                                                             </td><td>Question a                                                                                                                             </td><td>C:/Users/rossz/OneDrive/CC/data/ciq-dji/062689-trv/The Travelers Companies, Inc., Q2 2019 Earnings Call, Jul 23, 2019.pdf              </td></tr>\n",
       "\t<tr><td>NA                                                                                                                                     </td><td>2019-07-23                                                                                                                             </td><td>NA                                                                                                                                     </td><td>NA                                                                                                                                     </td><td>NA                                                                                                                                     </td><td>Presentati                                                                                                                             </td><td>Question a                                                                                                                             </td><td>C:/Users/rossz/OneDrive/CC/data/ciq-dji/179534-v/Visa Inc., Q3 2019 Earnings Call, Jul 23, 2019.pdf                                    </td></tr>\n",
       "\t<tr><td>NA                                                                                                                                     </td><td>2019-07-24                                                                                                                             </td><td>NA                                                                                                                                     </td><td>NA                                                                                                                                     </td><td>NA                                                                                                                                     </td><td>Presentati                                                                                                                             </td><td>Question a                                                                                                                             </td><td>C:/Users/rossz/OneDrive/CC/data/ciq-dji/002285-ba/The Boeing Company, Q2 2019 Earnings Call, Jul 24, 2019.pdf                          </td></tr>\n",
       "\t<tr><td>NA                                                                                                                                     </td><td>2019-07-24                                                                                                                             </td><td>NA                                                                                                                                     </td><td>NA                                                                                                                                     </td><td>NA                                                                                                                                     </td><td>Presentati                                                                                                                             </td><td>Question a                                                                                                                             </td><td>C:/Users/rossz/OneDrive/CC/data/ciq-dji/002817-cat/Caterpillar Inc., Q2 2019 Earnings Call, Jul 24, 2019.pdf                           </td></tr>\n",
       "\t<tr><td>NA                                                                                                                                     </td><td>2019-07-24                                                                                                                             </td><td>NA                                                                                                                                     </td><td>NA                                                                                                                                     </td><td>NA                                                                                                                                     </td><td>Presentati                                                                                                                             </td><td>Question a                                                                                                                             </td><td>C:/Users/rossz/OneDrive/CC/data/ciq-dji/009899-t/ATT Inc., Q2 2019 Earnings Call, Jul 24, 2019.pdf                                     </td></tr>\n",
       "\t<tr><td>NA                                                                                                                                     </td><td>2019-07-25                                                                                                                             </td><td>NA                                                                                                                                     </td><td>NA                                                                                                                                     </td><td>NA                                                                                                                                     </td><td>Presentati                                                                                                                             </td><td>Question a                                                                                                                             </td><td>C:/Users/rossz/OneDrive/CC/data/ciq-dji/006008-intc/Intel Corporation, Q2 2019 Earnings Call, Jul 25, 2019.pdf                         </td></tr>\n",
       "\t<tr><td>NA                                                                                                                                     </td><td>2019-07-25                                                                                                                             </td><td>NA                                                                                                                                     </td><td>NA                                                                                                                                     </td><td>NA                                                                                                                                     </td><td>Presentati                                                                                                                             </td><td>Question a                                                                                                                             </td><td>C:/Users/rossz/OneDrive/CC/data/ciq-dji/006104-ip/International Paper Company, Q2 2019 Earnings Call, Jul 25, 2019.pdf                 </td></tr>\n",
       "\t<tr><td>NA                                                                                                                                     </td><td>2019-07-25                                                                                                                             </td><td>NA                                                                                                                                     </td><td>NA                                                                                                                                     </td><td>NA                                                                                                                                     </td><td>Presentati                                                                                                                             </td><td>Question a                                                                                                                             </td><td>C:/Users/rossz/OneDrive/CC/data/ciq-dji/007435-mmm/3M Company, Q2 2019 Earnings Call, Jul 25, 2019.pdf                                 </td></tr>\n",
       "\t<tr><td>NA                                                                                                                                     </td><td>2019-07-26                                                                                                                             </td><td>NA                                                                                                                                     </td><td>NA                                                                                                                                     </td><td>NA                                                                                                                                     </td><td>Presentati                                                                                                                             </td><td>Question a                                                                                                                             </td><td>C:/Users/rossz/OneDrive/CC/data/ciq-dji/005234-gt/The Goodyear Tire  Rubber Company, Q2 2019 Earnings Call, Jul 26, 2019.pdf           </td></tr>\n",
       "\t<tr><td>NA                                                                                                                                     </td><td>2019-07-26                                                                                                                             </td><td>NA                                                                                                                                     </td><td>NA                                                                                                                                     </td><td>NA                                                                                                                                     </td><td>Presentati                                                                                                                             </td><td>Question a                                                                                                                             </td><td>C:/Users/rossz/OneDrive/CC/data/ciq-dji/007154-mcd/McDonalds Corporation, Q2 2019 Earnings Call, Jul 26, 2019.pdf                      </td></tr>\n",
       "\t<tr><td>NA                                                                                                                                     </td><td>2019-07-29                                                                                                                             </td><td>NA                                                                                                                                     </td><td>NA                                                                                                                                     </td><td>NA                                                                                                                                     </td><td>Presentati                                                                                                                             </td><td>Question a                                                                                                                             </td><td>C:/Users/rossz/OneDrive/CC/data/ciq-dji/008530-pfe/Pfizer Inc., Q2 2019 Earnings Call, Jul 29, 2019.pdf                                </td></tr>\n",
       "\t<tr><td>NA                                                                                                                                     </td><td>2019-07-30                                                                                                                             </td><td>NA                                                                                                                                     </td><td>NA                                                                                                                                     </td><td>NA                                                                                                                                     </td><td>Presentati                                                                                                                             </td><td>Question a                                                                                                                             </td><td>C:/Users/rossz/OneDrive/CC/data/ciq-dji/001690-appl/Apple Inc., Q3 2019 Earnings Call, Jul 30, 2019.pdf                                </td></tr>\n",
       "\t<tr><td>NA                                                                                                                                     </td><td>2019-07-30                                                                                                                             </td><td>NA                                                                                                                                     </td><td>NA                                                                                                                                     </td><td>NA                                                                                                                                     </td><td>Presentati                                                                                                                             </td><td>Question a                                                                                                                             </td><td>C:/Users/rossz/OneDrive/CC/data/ciq-dji/007257-mrk/Merck  Co., Inc., Q2 2019 Earnings Call, Jul 30, 2019.pdf                           </td></tr>\n",
       "\t<tr><td>NA                                                                                                                                     </td><td>2019-07-30                                                                                                                             </td><td>NA                                                                                                                                     </td><td>NA                                                                                                                                     </td><td>NA                                                                                                                                     </td><td>Presentati                                                                                                                             </td><td>Question a                                                                                                                             </td><td>C:/Users/rossz/OneDrive/CC/data/ciq-dji/008543-mo/Altria Group, Inc., Q2 2019 Earnings Call, Jul 30, 2019.pdf                          </td></tr>\n",
       "\t<tr><td>NA                                                                                                                                     </td><td>2019-07-30                                                                                                                             </td><td>NA                                                                                                                                     </td><td>NA                                                                                                                                     </td><td>NA                                                                                                                                     </td><td>Presentati                                                                                                                             </td><td>Question a                                                                                                                             </td><td>C:/Users/rossz/OneDrive/CC/data/ciq-dji/008762-pg/The Procter  Gamble Company, Q4 2019 Earnings Call, Jul 30, 2019.pdf                 </td></tr>\n",
       "\t<tr><td>NA                                                                                                                                     </td><td>2019-07-31                                                                                                                             </td><td>NA                                                                                                                                     </td><td>NA                                                                                                                                     </td><td>NA                                                                                                                                     </td><td>Presentati                                                                                                                             </td><td>Question a                                                                                                                             </td><td>C:/Users/rossz/OneDrive/CC/data/ciq-dji/005047-ge/General Electric Company, Q2 2019 Earnings Call, Jul 31, 2019.pdf                    </td></tr>\n",
       "\t<tr><td>NA                                                                                                                                     </td><td>2019-08-01                                                                                                                             </td><td>NA                                                                                                                                     </td><td>NA                                                                                                                                     </td><td>NA                                                                                                                                     </td><td>Presentati                                                                                                                             </td><td>Question a                                                                                                                             </td><td>C:/Users/rossz/OneDrive/CC/data/ciq-dji/002136-vz/Verizon Communications Inc., Q2 2019 Earnings Call, Aug 01, 2019.pdf                 </td></tr>\n",
       "\t<tr><td>NA                                                                                                                                     </td><td>2019-08-01                                                                                                                             </td><td>NA                                                                                                                                     </td><td>NA                                                                                                                                     </td><td>NA                                                                                                                                     </td><td>Presentati                                                                                                                             </td><td>Question a                                                                                                                             </td><td>C:/Users/rossz/OneDrive/CC/data/ciq-dji/004060-dd/DuPont de Nemours, Inc., Q2 2019 Earnings Call, Aug 01, 2019.pdf                     </td></tr>\n",
       "\t<tr><td>NA                                                                                                                                     </td><td>2019-08-01                                                                                                                             </td><td>NA                                                                                                                                     </td><td>NA                                                                                                                                     </td><td>NA                                                                                                                                     </td><td>Presentati                                                                                                                             </td><td>Question a                                                                                                                             </td><td>C:/Users/rossz/OneDrive/CC/data/ciq-dji/005073-gm/General Motors Company, Q2 2019 Earnings Call, Aug 01, 2019.pdf                      </td></tr>\n",
       "\t<tr><td>NA                                                                                                                                     </td><td>2019-08-02                                                                                                                             </td><td>NA                                                                                                                                     </td><td>NA                                                                                                                                     </td><td>NA                                                                                                                                     </td><td>Presentati                                                                                                                             </td><td>Question a                                                                                                                             </td><td>C:/Users/rossz/OneDrive/CC/data/ciq-dji/002991-cvx/Chevron Corporation, Q2 2019 Earnings Call, Aug 02, 2019.pdf                        </td></tr>\n",
       "\t<tr><td>NA                                                                                                                                     </td><td>2019-08-02                                                                                                                             </td><td>NA                                                                                                                                     </td><td>NA                                                                                                                                     </td><td>NA                                                                                                                                     </td><td>Presentati                                                                                                                             </td><td>Question a                                                                                                                             </td><td>C:/Users/rossz/OneDrive/CC/data/ciq-dji/004503-xom/Exxon Mobil Corporation, Q2 2019 Earnings Call, Aug 02, 2019.pdf                    </td></tr>\n",
       "\t<tr><td>NA                                                                                                                                     </td><td>2019-08-06                                                                                                                             </td><td>NA                                                                                                                                     </td><td>NA                                                                                                                                     </td><td>NA                                                                                                                                     </td><td>Presentati                                                                                                                             </td><td>Question a                                                                                                                             </td><td>C:/Users/rossz/OneDrive/CC/data/ciq-dji/003980-dis/The Walt Disney Company, Q3 2019 Earnings Call, Aug 06, 2019.pdf                    </td></tr>\n",
       "\t<tr><td>NA                                                                                                                                     </td><td>2019-08-08                                                                                                                             </td><td>NA                                                                                                                                     </td><td>NA                                                                                                                                     </td><td>NA                                                                                                                                     </td><td>Presentati                                                                                                                             </td><td>Question a                                                                                                                             </td><td>C:/Users/rossz/OneDrive/CC/data/ciq-dji/001487-aig/American International Group, Inc., Q2 2019 Earnings Call, Aug 08, 2019.pdf         </td></tr>\n",
       "\t<tr><td>NA                                                                                                                                     </td><td>2019-08-08                                                                                                                             </td><td>NA                                                                                                                                     </td><td>NA                                                                                                                                     </td><td>NA                                                                                                                                     </td><td>Presentati                                                                                                                             </td><td>Question a                                                                                                                             </td><td>C:/Users/rossz/OneDrive/CC/data/ciq-dji/004194-kodk/Eastman Kodak Company, Q2 2019 Earnings Call, Aug 08, 2019.pdf                     </td></tr>\n",
       "\t<tr><td>NA                                                                                                                                     </td><td>2019-08-14                                                                                                                             </td><td>NA                                                                                                                                     </td><td>NA                                                                                                                                     </td><td>NA                                                                                                                                     </td><td>Presentati                                                                                                                             </td><td>Question a                                                                                                                             </td><td>C:/Users/rossz/OneDrive/CC/data/ciq-dji/020779-csco/Cisco Systems, Inc., Q4 2019 Earnings Call, Aug 14, 2019.pdf                       </td></tr>\n",
       "\t<tr><td>NA                                                                                                                                     </td><td>2019-08-20                                                                                                                             </td><td>NA                                                                                                                                     </td><td>NA                                                                                                                                     </td><td>NA                                                                                                                                     </td><td>Presentati                                                                                                                             </td><td>Question a                                                                                                                             </td><td>C:/Users/rossz/OneDrive/CC/data/ciq-dji/005680-hd/The Home Depot, Inc., Q2 2020 Earnings Call, Aug 20, 2019.pdf                        </td></tr>\n",
       "\t<tr><td>NA                                                                                                                                     </td><td>2019-08-22                                                                                                                             </td><td>NA                                                                                                                                     </td><td>NA                                                                                                                                     </td><td>NA                                                                                                                                     </td><td>Presentati                                                                                                                             </td><td>Question a                                                                                                                             </td><td>C:/Users/rossz/OneDrive/CC/data/ciq-dji/005606-hpq/HP Inc., Q3 2019 Earnings Call, Aug 22, 2019.pdf                                    </td></tr>\n",
       "\t<tr><td>NA                                                                                                                                     </td><td>2019-09-24                                                                                                                             </td><td>NA                                                                                                                                     </td><td>NA                                                                                                                                     </td><td>NA                                                                                                                                     </td><td>Presentati                                                                                                                             </td><td>Question a                                                                                                                             </td><td>C:/Users/rossz/OneDrive/CC/data/ciq-dji/007906-nke/NIKE, Inc., Q1 2020 Earnings Call, Sep 24, 2019.pdf                                 </td></tr>\n",
       "\t<tr><td>NA                                                                                                                                     </td><td>2019-10-15                                                                                                                             </td><td>NA                                                                                                                                     </td><td>NA                                                                                                                                     </td><td>NA                                                                                                                                     </td><td>Presentati                                                                                                                             </td><td>Question a                                                                                                                             </td><td>C:/Users/rossz/OneDrive/CC/data/ciq-dji/002968-jpm/JPMorgan Chase  Co., Q3 2019 Earnings Call, Oct 15, 2019.pdf                        </td></tr>\n",
       "\t<tr><td>NA                                                                                                                                     </td><td>2019-10-15                                                                                                                             </td><td>NA                                                                                                                                     </td><td>NA                                                                                                                                     </td><td>NA                                                                                                                                     </td><td>Presentati                                                                                                                             </td><td>Question a                                                                                                                             </td><td>C:/Users/rossz/OneDrive/CC/data/ciq-dji/003243-c/Citigroup Inc., Q3 2019 Earnings Call, Oct 15, 2019.pdf                               </td></tr>\n",
       "\t<tr><td>NA                                                                                                                                     </td><td>2019-10-15                                                                                                                             </td><td>NA                                                                                                                                     </td><td>NA                                                                                                                                     </td><td>NA                                                                                                                                     </td><td>Presentati                                                                                                                             </td><td>Question a                                                                                                                             </td><td>C:/Users/rossz/OneDrive/CC/data/ciq-dji/006266-jnj/Johnson  Johnson, Q3 2019 Earnings Call, Oct 15, 2019.pdf                           </td></tr>\n",
       "\t<tr><td>NA                                                                                                                                     </td><td>2019-10-15                                                                                                                             </td><td>NA                                                                                                                                     </td><td>NA                                                                                                                                     </td><td>NA                                                                                                                                     </td><td>Presentati                                                                                                                             </td><td>Question a                                                                                                                             </td><td>C:/Users/rossz/OneDrive/CC/data/ciq-dji/010903-unh/UnitedHealth Group Incorporated, Q3 2019 Earnings Call, Oct 15, 2019.pdf            </td></tr>\n",
       "\t<tr><td>NA                                                                                                                                     </td><td>2019-10-15                                                                                                                             </td><td>NA                                                                                                                                     </td><td>NA                                                                                                                                     </td><td>NA                                                                                                                                     </td><td>Presentati                                                                                                                             </td><td>Question a                                                                                                                             </td><td>C:/Users/rossz/OneDrive/CC/data/ciq-dji/114628-gs/The Goldman Sachs Group, Inc., Q3 2019 Earnings Call, Oct 15, 2019.pdf               </td></tr>\n",
       "\t<tr><td>NA                                                                                                                                     </td><td>2019-10-16                                                                                                                             </td><td>NA                                                                                                                                     </td><td>NA                                                                                                                                     </td><td>NA                                                                                                                                     </td><td>Presentati                                                                                                                             </td><td>Question a                                                                                                                             </td><td>C:/Users/rossz/OneDrive/CC/data/ciq-dji/006066-ibm/International Business Machines Corporation, Q3 2019 Earnings Call, Oct 16, 2019.pdf</td></tr>\n",
       "\t<tr><td>NA                                                                                                                                     </td><td>2019-10-16                                                                                                                             </td><td>NA                                                                                                                                     </td><td>NA                                                                                                                                     </td><td>NA                                                                                                                                     </td><td>Presentati                                                                                                                             </td><td>Question a                                                                                                                             </td><td>C:/Users/rossz/OneDrive/CC/data/ciq-dji/007647-bac/Bank of America Corporation, Q3 2019 Earnings Call, Oct 16, 2019.pdf                </td></tr>\n",
       "\t<tr><td>NA                                                                                                                                     </td><td>2019-10-17                                                                                                                             </td><td>NA                                                                                                                                     </td><td>NA                                                                                                                                     </td><td>NA                                                                                                                                     </td><td>Presentati                                                                                                                             </td><td>Question a                                                                                                                             </td><td>C:/Users/rossz/OneDrive/CC/data/ciq-dji/001300-hon/Honeywell International Inc., Q3 2019 Earnings Call, Oct 17, 2019.pdf               </td></tr>\n",
       "\t<tr><td>NA                                                                                                                                     </td><td>2019-10-18                                                                                                                             </td><td>NA                                                                                                                                     </td><td>NA                                                                                                                                     </td><td>NA                                                                                                                                     </td><td>Presentati                                                                                                                             </td><td>Question a                                                                                                                             </td><td>C:/Users/rossz/OneDrive/CC/data/ciq-dji/001447-axp/American Express Company, Q3 2019 Earnings Call, Oct 18, 2019.pdf                   </td></tr>\n",
       "\t<tr><td>NA                                                                                                                                     </td><td>2019-10-18                                                                                                                             </td><td>NA                                                                                                                                     </td><td>NA                                                                                                                                     </td><td>NA                                                                                                                                     </td><td>Presentati                                                                                                                             </td><td>Question a                                                                                                                             </td><td>C:/Users/rossz/OneDrive/CC/data/ciq-dji/003144-ko/The Coca-Cola Company, Q3 2019 Earnings Call, Oct 18, 2019.pdf                       </td></tr>\n",
       "\t<tr><td>NA                                                                                                                                     </td><td>2019-10-22                                                                                                                             </td><td>NA                                                                                                                                     </td><td>NA                                                                                                                                     </td><td>NA                                                                                                                                     </td><td>Presentati                                                                                                                             </td><td>Question a                                                                                                                             </td><td>C:/Users/rossz/OneDrive/CC/data/ciq-dji/007154-mcd/McDonalds Corporation, Q3 2019 Earnings Call, Oct 22, 2019.pdf                      </td></tr>\n",
       "\t<tr><td>NA                                                                                                                                     </td><td>2019-10-22                                                                                                                             </td><td>NA                                                                                                                                     </td><td>NA                                                                                                                                     </td><td>NA                                                                                                                                     </td><td>Presentati                                                                                                                             </td><td>Question a                                                                                                                             </td><td>C:/Users/rossz/OneDrive/CC/data/ciq-dji/008762-pg/The Procter  Gamble Company, Q1 2020 Earnings Call, Oct 22, 2019.pdf                 </td></tr>\n",
       "\t<tr><td>NA                                                                                                                                     </td><td>2019-10-22                                                                                                                             </td><td>NA                                                                                                                                     </td><td>NA                                                                                                                                     </td><td>NA                                                                                                                                     </td><td>Presentati                                                                                                                             </td><td>Question a                                                                                                                             </td><td>C:/Users/rossz/OneDrive/CC/data/ciq-dji/010983-utx/United Technologies Corporation, Q3 2019 Earnings Call, Oct 22, 2019.pdf            </td></tr>\n",
       "\t<tr><td>NA                                                                                                                                     </td><td>2019-10-22                                                                                                                             </td><td>NA                                                                                                                                     </td><td>NA                                                                                                                                     </td><td>NA                                                                                                                                     </td><td>Presentati                                                                                                                             </td><td>Question a                                                                                                                             </td><td>C:/Users/rossz/OneDrive/CC/data/ciq-dji/062689-trv/The Travelers Companies, Inc., Q3 2019 Earnings Call, Oct 22, 2019.pdf              </td></tr>\n",
       "\t<tr><td>NA                                                                                                                                     </td><td>2019-10-23                                                                                                                             </td><td>NA                                                                                                                                     </td><td>NA                                                                                                                                     </td><td>NA                                                                                                                                     </td><td>Presentati                                                                                                                             </td><td>Question a                                                                                                                             </td><td>C:/Users/rossz/OneDrive/CC/data/ciq-dji/002285-ba/The Boeing Company, Q3 2019 Earnings Call, Oct 23, 2019.pdf                          </td></tr>\n",
       "\t<tr><td>NA                                                                                                                                     </td><td>2019-10-23                                                                                                                             </td><td>NA                                                                                                                                     </td><td>NA                                                                                                                                     </td><td>NA                                                                                                                                     </td><td>Presentati                                                                                                                             </td><td>Question a                                                                                                                             </td><td>C:/Users/rossz/OneDrive/CC/data/ciq-dji/002817-cat/Caterpillar Inc., Q3 2019 Earnings Call, Oct 23, 2019.pdf                           </td></tr>\n",
       "\t<tr><td>NA                                                                                                                                     </td><td>2019-10-23                                                                                                                             </td><td>NA                                                                                                                                     </td><td>NA                                                                                                                                     </td><td>NA                                                                                                                                     </td><td>Presentati                                                                                                                             </td><td>Question a                                                                                                                             </td><td>C:/Users/rossz/OneDrive/CC/data/ciq-dji/012141-msft/Microsoft Corporation, Q1 2020 Earnings Call, Oct 23, 2019.pdf                     </td></tr>\n",
       "\t<tr><td>NA                                                                                                                                     </td><td>2019-10-24                                                                                                                             </td><td>NA                                                                                                                                     </td><td>NA                                                                                                                                     </td><td>NA                                                                                                                                     </td><td>Presentati                                                                                                                             </td><td>Question a                                                                                                                             </td><td>C:/Users/rossz/OneDrive/CC/data/ciq-dji/006008-intc/Intel Corporation, Q3 2019 Earnings Call, Oct 24, 2019.pdf                         </td></tr>\n",
       "\t<tr><td>NA                                                                                                                                     </td><td>2019-10-24                                                                                                                             </td><td>NA                                                                                                                                     </td><td>NA                                                                                                                                     </td><td>NA                                                                                                                                     </td><td>Presentati                                                                                                                             </td><td>Question a                                                                                                                             </td><td>C:/Users/rossz/OneDrive/CC/data/ciq-dji/007435-mmm/3M Company, Q3 2019 Earnings Call, Oct 24, 2019.pdf                                 </td></tr>\n",
       "\t<tr><td>NA                                                                                                                                     </td><td>2019-10-24                                                                                                                             </td><td>NA                                                                                                                                     </td><td>NA                                                                                                                                     </td><td>NA                                                                                                                                     </td><td>Presentati                                                                                                                             </td><td>Question a                                                                                                                             </td><td>C:/Users/rossz/OneDrive/CC/data/ciq-dji/179534-v/Visa Inc., Q4 2019 Earnings Call, Oct 24, 2019.pdf                                    </td></tr>\n",
       "\t<tr><td>NA                                                                                                                                     </td><td>2019-10-25                                                                                                                             </td><td>NA                                                                                                                                     </td><td>NA                                                                                                                                     </td><td>NA                                                                                                                                     </td><td>Presentati                                                                                                                             </td><td>Question a                                                                                                                             </td><td>C:/Users/rossz/OneDrive/CC/data/ciq-dji/002136-vz/Verizon Communications Inc., Q3 2019 Earnings Call, Oct 25, 2019.pdf                 </td></tr>\n",
       "\t<tr><td>NA                                                                                                                                     </td><td>2019-10-25                                                                                                                             </td><td>NA                                                                                                                                     </td><td>NA                                                                                                                                     </td><td>NA                                                                                                                                     </td><td>Presentati                                                                                                                             </td><td>Question a                                                                                                                             </td><td>C:/Users/rossz/OneDrive/CC/data/ciq-dji/005234-gt/The Goodyear Tire  Rubber Company, Q3 2019 Earnings Call, Oct 25, 2019.pdf           </td></tr>\n",
       "\t<tr><td>NA                                                                                                                                     </td><td>2019-10-28                                                                                                                             </td><td>NA                                                                                                                                     </td><td>NA                                                                                                                                     </td><td>NA                                                                                                                                     </td><td>Presentati                                                                                                                             </td><td>Question a                                                                                                                             </td><td>C:/Users/rossz/OneDrive/CC/data/ciq-dji/009899-t/ATT Inc., Q3 2019 Earnings Call, Oct 28, 2019.pdf                                     </td></tr>\n",
       "\t<tr><td>NA                                                                                                                                     </td><td>2019-10-28                                                                                                                             </td><td>NA                                                                                                                                     </td><td>NA                                                                                                                                     </td><td>NA                                                                                                                                     </td><td>Presentati                                                                                                                             </td><td>Question a                                                                                                                             </td><td>C:/Users/rossz/OneDrive/CC/data/ciq-dji/011264-wba/Walgreens Boots Alliance, Inc., Q4 2019 Earnings Call, Oct 28, 2019.pdf             </td></tr>\n",
       "\t<tr><td>NA                                                                                                                                     </td><td>2019-10-29                                                                                                                             </td><td>NA                                                                                                                                     </td><td>NA                                                                                                                                     </td><td>NA                                                                                                                                     </td><td>Presentati                                                                                                                             </td><td>Question a                                                                                                                             </td><td>C:/Users/rossz/OneDrive/CC/data/ciq-dji/005073-gm/General Motors Company, Q3 2019 Earnings Call, Oct 29, 2019.pdf                      </td></tr>\n",
       "\t<tr><td>NA                                                                                                                                     </td><td>2019-10-29                                                                                                                             </td><td>NA                                                                                                                                     </td><td>NA                                                                                                                                     </td><td>NA                                                                                                                                     </td><td>Presentati                                                                                                                             </td><td>Question a                                                                                                                             </td><td>C:/Users/rossz/OneDrive/CC/data/ciq-dji/007257-mrk/Merck  Co., Inc., Q3 2019 Earnings Call, Oct 29, 2019.pdf                           </td></tr>\n",
       "\t<tr><td>NA                                                                                                                                     </td><td>2019-10-29                                                                                                                             </td><td>NA                                                                                                                                     </td><td>NA                                                                                                                                     </td><td>NA                                                                                                                                     </td><td>Presentati                                                                                                                             </td><td>Question a                                                                                                                             </td><td>C:/Users/rossz/OneDrive/CC/data/ciq-dji/008530-pfe/Pfizer Inc., Q3 2019 Earnings Call, Oct 29, 2019.pdf                                </td></tr>\n",
       "\t<tr><td>NA                                                                                                                                     </td><td>2019-10-30                                                                                                                             </td><td>NA                                                                                                                                     </td><td>NA                                                                                                                                     </td><td>NA                                                                                                                                     </td><td>Presentati                                                                                                                             </td><td>Question a                                                                                                                             </td><td>C:/Users/rossz/OneDrive/CC/data/ciq-dji/001690-appl/Apple Inc., Q4 2019 Earnings Call, Oct 30, 2019.pdf                                </td></tr>\n",
       "\t<tr><td>NA                                                                                                                                     </td><td>2019-10-30                                                                                                                             </td><td>NA                                                                                                                                     </td><td>NA                                                                                                                                     </td><td>NA                                                                                                                                     </td><td>Presentati                                                                                                                             </td><td>Question a                                                                                                                             </td><td>C:/Users/rossz/OneDrive/CC/data/ciq-dji/005047-ge/General Electric Company, Q3 2019 Earnings Call, Oct 30, 2019.pdf                    </td></tr>\n",
       "\t<tr><td>NA                                                                                                                                     </td><td>2019-10-31                                                                                                                             </td><td>NA                                                                                                                                     </td><td>NA                                                                                                                                     </td><td>NA                                                                                                                                     </td><td>Presentati                                                                                                                             </td><td>Question a                                                                                                                             </td><td>C:/Users/rossz/OneDrive/CC/data/ciq-dji/004060-dd/DuPont de Nemours, Inc., Q3 2019 Earnings Call, Oct 31, 2019.pdf                     </td></tr>\n",
       "\t<tr><td>NA                                                                                                                                     </td><td>2019-10-31                                                                                                                             </td><td>NA                                                                                                                                     </td><td>NA                                                                                                                                     </td><td>NA                                                                                                                                     </td><td>Presentati                                                                                                                             </td><td>Question a                                                                                                                             </td><td>C:/Users/rossz/OneDrive/CC/data/ciq-dji/006104-ip/International Paper Company, Q3 2019 Earnings Call, Oct 31, 2019.pdf                 </td></tr>\n",
       "\t<tr><td>NA                                                                                                                                     </td><td>2019-10-31                                                                                                                             </td><td>NA                                                                                                                                     </td><td>NA                                                                                                                                     </td><td>NA                                                                                                                                     </td><td>Presentati                                                                                                                             </td><td>Question a                                                                                                                             </td><td>C:/Users/rossz/OneDrive/CC/data/ciq-dji/008543-mo/Altria Group, Inc., Q3 2019 Earnings Call, Oct 31, 2019.pdf                          </td></tr>\n",
       "\t<tr><td>NA                                                                                                                                     </td><td>2019-11-01                                                                                                                             </td><td>NA                                                                                                                                     </td><td>NA                                                                                                                                     </td><td>NA                                                                                                                                     </td><td>Presentati                                                                                                                             </td><td>Question a                                                                                                                             </td><td>C:/Users/rossz/OneDrive/CC/data/ciq-dji/001487-aig/American International Group, Inc., Q3 2019 Earnings Call, Nov 01, 2019.pdf         </td></tr>\n",
       "\t<tr><td>NA                                                                                                                                     </td><td>2019-11-01                                                                                                                             </td><td>NA                                                                                                                                     </td><td>NA                                                                                                                                     </td><td>NA                                                                                                                                     </td><td>Presentati                                                                                                                             </td><td>Question a                                                                                                                             </td><td>C:/Users/rossz/OneDrive/CC/data/ciq-dji/002991-cvx/Chevron Corporation, Q3 2019 Earnings Call, Nov 01, 2019.pdf                        </td></tr>\n",
       "\t<tr><td>NA                                                                                                                                     </td><td>2019-11-01                                                                                                                             </td><td>NA                                                                                                                                     </td><td>NA                                                                                                                                     </td><td>NA                                                                                                                                     </td><td>Presentati                                                                                                                             </td><td>Question a                                                                                                                             </td><td>C:/Users/rossz/OneDrive/CC/data/ciq-dji/004503-xom/Exxon Mobil Corporation, Q3 2019 Earnings Call, Nov 01, 2019.pdf                    </td></tr>\n",
       "\t<tr><td>NA                                                                                                                                     </td><td>2019-11-07                                                                                                                             </td><td>NA                                                                                                                                     </td><td>NA                                                                                                                                     </td><td>NA                                                                                                                                     </td><td>Presentati                                                                                                                             </td><td>Question a                                                                                                                             </td><td>C:/Users/rossz/OneDrive/CC/data/ciq-dji/003980-dis/The Walt Disney Company, Q4 2019 Earnings Call, Nov 07, 2019.pdf                    </td></tr>\n",
       "\t<tr><td>NA                                                                                                                                     </td><td>2019-11-07                                                                                                                             </td><td>NA                                                                                                                                     </td><td>NA                                                                                                                                     </td><td>NA                                                                                                                                     </td><td>Presentati                                                                                                                             </td><td>NA                                                                                                                                     </td><td>C:/Users/rossz/OneDrive/CC/data/ciq-dji/004194-kodk/Eastman Kodak Company, Q3 2019 Earnings Call, Nov 07, 2019.pdf                     </td></tr>\n",
       "\t<tr><td>NA                                                                                                                                     </td><td>2019-11-13                                                                                                                             </td><td>NA                                                                                                                                     </td><td>NA                                                                                                                                     </td><td>NA                                                                                                                                     </td><td>Presentati                                                                                                                             </td><td>Question a                                                                                                                             </td><td>C:/Users/rossz/OneDrive/CC/data/ciq-dji/020779-csco/Cisco Systems, Inc., Q1 2020 Earnings Call, Nov 13, 2019.pdf                       </td></tr>\n",
       "</tbody>\n",
       "</table>\n"
      ],
      "text/latex": [
       "\\begin{tabular}{r|llllllll}\n",
       " gvkey & headline\\_date & mid\\_utc & headline & keydevid & md & qa & cc\\_path\\\\\n",
       "\\hline\n",
       "\t NA                                                                                                                                      & 2010-08-12                                                                                                                              & NA                                                                                                                                      & NA                                                                                                                                      & NA                                                                                                                                      & Presentati                                                                                                                              & Question a                                                                                                                              & C:/Users/rossz/OneDrive/CC/data/ciq-dji/005073-gm/General Motors Company, Q2 2010 Earnings Call, Aug-12-2010.pdf                       \\\\\n",
       "\t NA                                                                                                                                      & 2010-11-10                                                                                                                              & NA                                                                                                                                      & NA                                                                                                                                      & NA                                                                                                                                      & Presentati                                                                                                                              & NA                                                                                                                                      & C:/Users/rossz/OneDrive/CC/data/ciq-dji/005073-gm/General Motors Company, Q3 2010 Earnings Call, Nov 10, 2010.pdf                      \\\\\n",
       "\t NA                                                                                                                                      & 2019-06-27                                                                                                                              & NA                                                                                                                                      & NA                                                                                                                                      & NA                                                                                                                                      & Presentati                                                                                                                              & Question a                                                                                                                              & C:/Users/rossz/OneDrive/CC/data/ciq-dji/007906-nke/NIKE, Inc., Q4 2019 Earnings Call, Jun 27, 2019.pdf                                 \\\\\n",
       "\t NA                                                                                                                                      & 2019-06-27                                                                                                                              & NA                                                                                                                                      & NA                                                                                                                                      & NA                                                                                                                                      & Presentati                                                                                                                              & Question a                                                                                                                              & C:/Users/rossz/OneDrive/CC/data/ciq-dji/011264-wba/Walgreens Boots Alliance, Inc., Q3 2019 Earnings Call, Jun 27, 2019.pdf             \\\\\n",
       "\t NA                                                                                                                                      & 2019-07-15                                                                                                                              & NA                                                                                                                                      & NA                                                                                                                                      & NA                                                                                                                                      & Presentati                                                                                                                              & Question a                                                                                                                              & C:/Users/rossz/OneDrive/CC/data/ciq-dji/003243-c/Citigroup Inc., Q2 2019 Earnings Call, Jul 15, 2019.pdf                               \\\\\n",
       "\t NA                                                                                                                                      & 2019-07-16                                                                                                                              & NA                                                                                                                                      & NA                                                                                                                                      & NA                                                                                                                                      & Presentati                                                                                                                              & Question a                                                                                                                              & C:/Users/rossz/OneDrive/CC/data/ciq-dji/002968-jpm/JPMorgan Chase  Co., Q2 2019 Earnings Call, Jul 16, 2019.pdf                        \\\\\n",
       "\t NA                                                                                                                                      & 2019-07-16                                                                                                                              & NA                                                                                                                                      & NA                                                                                                                                      & NA                                                                                                                                      & Presentati                                                                                                                              & Question a                                                                                                                              & C:/Users/rossz/OneDrive/CC/data/ciq-dji/006266-jnj/Johnson  Johnson, Q2 2019 Earnings Call, Jul 16, 2019.pdf                           \\\\\n",
       "\t NA                                                                                                                                      & 2019-07-16                                                                                                                              & NA                                                                                                                                      & NA                                                                                                                                      & NA                                                                                                                                      & Presentati                                                                                                                              & Question a                                                                                                                              & C:/Users/rossz/OneDrive/CC/data/ciq-dji/114628-gs/The Goldman Sachs Group, Inc., Q2 2019 Earnings Call, Jul 16, 2019.pdf               \\\\\n",
       "\t NA                                                                                                                                      & 2019-07-17                                                                                                                              & NA                                                                                                                                      & NA                                                                                                                                      & NA                                                                                                                                      & Presentati                                                                                                                              & Question a                                                                                                                              & C:/Users/rossz/OneDrive/CC/data/ciq-dji/006066-ibm/International Business Machines Corporation, Q2 2019 Earnings Call, Jul 17, 2019.pdf\\\\\n",
       "\t NA                                                                                                                                      & 2019-07-17                                                                                                                              & NA                                                                                                                                      & NA                                                                                                                                      & NA                                                                                                                                      & Presentati                                                                                                                              & Question a                                                                                                                              & C:/Users/rossz/OneDrive/CC/data/ciq-dji/007647-bac/Bank of America Corporation, Q2 2019 Earnings Call, Jul 17, 2019.pdf                \\\\\n",
       "\t NA                                                                                                                                      & 2019-07-18                                                                                                                              & NA                                                                                                                                      & NA                                                                                                                                      & NA                                                                                                                                      & Presentati                                                                                                                              & Question a                                                                                                                              & C:/Users/rossz/OneDrive/CC/data/ciq-dji/001300-hon/Honeywell International Inc., Q2 2019 Earnings Call, Jul 18, 2019.pdf               \\\\\n",
       "\t NA                                                                                                                                      & 2019-07-18                                                                                                                              & NA                                                                                                                                      & NA                                                                                                                                      & NA                                                                                                                                      & Presentati                                                                                                                              & Question a                                                                                                                              & C:/Users/rossz/OneDrive/CC/data/ciq-dji/010903-unh/UnitedHealth Group Incorporated, Q2 2019 Earnings Call, Jul 18, 2019.pdf            \\\\\n",
       "\t NA                                                                                                                                      & 2019-07-18                                                                                                                              & NA                                                                                                                                      & NA                                                                                                                                      & NA                                                                                                                                      & Presentati                                                                                                                              & Question a                                                                                                                              & C:/Users/rossz/OneDrive/CC/data/ciq-dji/012141-msft/Microsoft Corporation, Q4 2019 Earnings Call, Jul 18, 2019.pdf                     \\\\\n",
       "\t NA                                                                                                                                      & 2019-07-19                                                                                                                              & NA                                                                                                                                      & NA                                                                                                                                      & NA                                                                                                                                      & Presentati                                                                                                                              & Question a                                                                                                                              & C:/Users/rossz/OneDrive/CC/data/ciq-dji/001447-axp/American Express Company, Q2 2019 Earnings Call, Jul 19, 2019.pdf                   \\\\\n",
       "\t NA                                                                                                                                      & 2019-07-23                                                                                                                              & NA                                                                                                                                      & NA                                                                                                                                      & NA                                                                                                                                      & Presentati                                                                                                                              & Question a                                                                                                                              & C:/Users/rossz/OneDrive/CC/data/ciq-dji/003144-ko/The Coca-Cola Company, Q2 2019 Earnings Call, Jul 23, 2019.pdf                       \\\\\n",
       "\t NA                                                                                                                                      & 2019-07-23                                                                                                                              & NA                                                                                                                                      & NA                                                                                                                                      & NA                                                                                                                                      & Presentati                                                                                                                              & Question a                                                                                                                              & C:/Users/rossz/OneDrive/CC/data/ciq-dji/010983-utx/United Technologies Corporation, Q2 2019 Earnings Call, Jul 23, 2019.pdf            \\\\\n",
       "\t NA                                                                                                                                      & 2019-07-23                                                                                                                              & NA                                                                                                                                      & NA                                                                                                                                      & NA                                                                                                                                      & Presentati                                                                                                                              & Question a                                                                                                                              & C:/Users/rossz/OneDrive/CC/data/ciq-dji/062689-trv/The Travelers Companies, Inc., Q2 2019 Earnings Call, Jul 23, 2019.pdf              \\\\\n",
       "\t NA                                                                                                                                      & 2019-07-23                                                                                                                              & NA                                                                                                                                      & NA                                                                                                                                      & NA                                                                                                                                      & Presentati                                                                                                                              & Question a                                                                                                                              & C:/Users/rossz/OneDrive/CC/data/ciq-dji/179534-v/Visa Inc., Q3 2019 Earnings Call, Jul 23, 2019.pdf                                    \\\\\n",
       "\t NA                                                                                                                                      & 2019-07-24                                                                                                                              & NA                                                                                                                                      & NA                                                                                                                                      & NA                                                                                                                                      & Presentati                                                                                                                              & Question a                                                                                                                              & C:/Users/rossz/OneDrive/CC/data/ciq-dji/002285-ba/The Boeing Company, Q2 2019 Earnings Call, Jul 24, 2019.pdf                          \\\\\n",
       "\t NA                                                                                                                                      & 2019-07-24                                                                                                                              & NA                                                                                                                                      & NA                                                                                                                                      & NA                                                                                                                                      & Presentati                                                                                                                              & Question a                                                                                                                              & C:/Users/rossz/OneDrive/CC/data/ciq-dji/002817-cat/Caterpillar Inc., Q2 2019 Earnings Call, Jul 24, 2019.pdf                           \\\\\n",
       "\t NA                                                                                                                                      & 2019-07-24                                                                                                                              & NA                                                                                                                                      & NA                                                                                                                                      & NA                                                                                                                                      & Presentati                                                                                                                              & Question a                                                                                                                              & C:/Users/rossz/OneDrive/CC/data/ciq-dji/009899-t/ATT Inc., Q2 2019 Earnings Call, Jul 24, 2019.pdf                                     \\\\\n",
       "\t NA                                                                                                                                      & 2019-07-25                                                                                                                              & NA                                                                                                                                      & NA                                                                                                                                      & NA                                                                                                                                      & Presentati                                                                                                                              & Question a                                                                                                                              & C:/Users/rossz/OneDrive/CC/data/ciq-dji/006008-intc/Intel Corporation, Q2 2019 Earnings Call, Jul 25, 2019.pdf                         \\\\\n",
       "\t NA                                                                                                                                      & 2019-07-25                                                                                                                              & NA                                                                                                                                      & NA                                                                                                                                      & NA                                                                                                                                      & Presentati                                                                                                                              & Question a                                                                                                                              & C:/Users/rossz/OneDrive/CC/data/ciq-dji/006104-ip/International Paper Company, Q2 2019 Earnings Call, Jul 25, 2019.pdf                 \\\\\n",
       "\t NA                                                                                                                                      & 2019-07-25                                                                                                                              & NA                                                                                                                                      & NA                                                                                                                                      & NA                                                                                                                                      & Presentati                                                                                                                              & Question a                                                                                                                              & C:/Users/rossz/OneDrive/CC/data/ciq-dji/007435-mmm/3M Company, Q2 2019 Earnings Call, Jul 25, 2019.pdf                                 \\\\\n",
       "\t NA                                                                                                                                      & 2019-07-26                                                                                                                              & NA                                                                                                                                      & NA                                                                                                                                      & NA                                                                                                                                      & Presentati                                                                                                                              & Question a                                                                                                                              & C:/Users/rossz/OneDrive/CC/data/ciq-dji/005234-gt/The Goodyear Tire  Rubber Company, Q2 2019 Earnings Call, Jul 26, 2019.pdf           \\\\\n",
       "\t NA                                                                                                                                      & 2019-07-26                                                                                                                              & NA                                                                                                                                      & NA                                                                                                                                      & NA                                                                                                                                      & Presentati                                                                                                                              & Question a                                                                                                                              & C:/Users/rossz/OneDrive/CC/data/ciq-dji/007154-mcd/McDonalds Corporation, Q2 2019 Earnings Call, Jul 26, 2019.pdf                      \\\\\n",
       "\t NA                                                                                                                                      & 2019-07-29                                                                                                                              & NA                                                                                                                                      & NA                                                                                                                                      & NA                                                                                                                                      & Presentati                                                                                                                              & Question a                                                                                                                              & C:/Users/rossz/OneDrive/CC/data/ciq-dji/008530-pfe/Pfizer Inc., Q2 2019 Earnings Call, Jul 29, 2019.pdf                                \\\\\n",
       "\t NA                                                                                                                                      & 2019-07-30                                                                                                                              & NA                                                                                                                                      & NA                                                                                                                                      & NA                                                                                                                                      & Presentati                                                                                                                              & Question a                                                                                                                              & C:/Users/rossz/OneDrive/CC/data/ciq-dji/001690-appl/Apple Inc., Q3 2019 Earnings Call, Jul 30, 2019.pdf                                \\\\\n",
       "\t NA                                                                                                                                      & 2019-07-30                                                                                                                              & NA                                                                                                                                      & NA                                                                                                                                      & NA                                                                                                                                      & Presentati                                                                                                                              & Question a                                                                                                                              & C:/Users/rossz/OneDrive/CC/data/ciq-dji/007257-mrk/Merck  Co., Inc., Q2 2019 Earnings Call, Jul 30, 2019.pdf                           \\\\\n",
       "\t NA                                                                                                                                      & 2019-07-30                                                                                                                              & NA                                                                                                                                      & NA                                                                                                                                      & NA                                                                                                                                      & Presentati                                                                                                                              & Question a                                                                                                                              & C:/Users/rossz/OneDrive/CC/data/ciq-dji/008543-mo/Altria Group, Inc., Q2 2019 Earnings Call, Jul 30, 2019.pdf                          \\\\\n",
       "\t NA                                                                                                                                      & 2019-07-30                                                                                                                              & NA                                                                                                                                      & NA                                                                                                                                      & NA                                                                                                                                      & Presentati                                                                                                                              & Question a                                                                                                                              & C:/Users/rossz/OneDrive/CC/data/ciq-dji/008762-pg/The Procter  Gamble Company, Q4 2019 Earnings Call, Jul 30, 2019.pdf                 \\\\\n",
       "\t NA                                                                                                                                      & 2019-07-31                                                                                                                              & NA                                                                                                                                      & NA                                                                                                                                      & NA                                                                                                                                      & Presentati                                                                                                                              & Question a                                                                                                                              & C:/Users/rossz/OneDrive/CC/data/ciq-dji/005047-ge/General Electric Company, Q2 2019 Earnings Call, Jul 31, 2019.pdf                    \\\\\n",
       "\t NA                                                                                                                                      & 2019-08-01                                                                                                                              & NA                                                                                                                                      & NA                                                                                                                                      & NA                                                                                                                                      & Presentati                                                                                                                              & Question a                                                                                                                              & C:/Users/rossz/OneDrive/CC/data/ciq-dji/002136-vz/Verizon Communications Inc., Q2 2019 Earnings Call, Aug 01, 2019.pdf                 \\\\\n",
       "\t NA                                                                                                                                      & 2019-08-01                                                                                                                              & NA                                                                                                                                      & NA                                                                                                                                      & NA                                                                                                                                      & Presentati                                                                                                                              & Question a                                                                                                                              & C:/Users/rossz/OneDrive/CC/data/ciq-dji/004060-dd/DuPont de Nemours, Inc., Q2 2019 Earnings Call, Aug 01, 2019.pdf                     \\\\\n",
       "\t NA                                                                                                                                      & 2019-08-01                                                                                                                              & NA                                                                                                                                      & NA                                                                                                                                      & NA                                                                                                                                      & Presentati                                                                                                                              & Question a                                                                                                                              & C:/Users/rossz/OneDrive/CC/data/ciq-dji/005073-gm/General Motors Company, Q2 2019 Earnings Call, Aug 01, 2019.pdf                      \\\\\n",
       "\t NA                                                                                                                                      & 2019-08-02                                                                                                                              & NA                                                                                                                                      & NA                                                                                                                                      & NA                                                                                                                                      & Presentati                                                                                                                              & Question a                                                                                                                              & C:/Users/rossz/OneDrive/CC/data/ciq-dji/002991-cvx/Chevron Corporation, Q2 2019 Earnings Call, Aug 02, 2019.pdf                        \\\\\n",
       "\t NA                                                                                                                                      & 2019-08-02                                                                                                                              & NA                                                                                                                                      & NA                                                                                                                                      & NA                                                                                                                                      & Presentati                                                                                                                              & Question a                                                                                                                              & C:/Users/rossz/OneDrive/CC/data/ciq-dji/004503-xom/Exxon Mobil Corporation, Q2 2019 Earnings Call, Aug 02, 2019.pdf                    \\\\\n",
       "\t NA                                                                                                                                      & 2019-08-06                                                                                                                              & NA                                                                                                                                      & NA                                                                                                                                      & NA                                                                                                                                      & Presentati                                                                                                                              & Question a                                                                                                                              & C:/Users/rossz/OneDrive/CC/data/ciq-dji/003980-dis/The Walt Disney Company, Q3 2019 Earnings Call, Aug 06, 2019.pdf                    \\\\\n",
       "\t NA                                                                                                                                      & 2019-08-08                                                                                                                              & NA                                                                                                                                      & NA                                                                                                                                      & NA                                                                                                                                      & Presentati                                                                                                                              & Question a                                                                                                                              & C:/Users/rossz/OneDrive/CC/data/ciq-dji/001487-aig/American International Group, Inc., Q2 2019 Earnings Call, Aug 08, 2019.pdf         \\\\\n",
       "\t NA                                                                                                                                      & 2019-08-08                                                                                                                              & NA                                                                                                                                      & NA                                                                                                                                      & NA                                                                                                                                      & Presentati                                                                                                                              & Question a                                                                                                                              & C:/Users/rossz/OneDrive/CC/data/ciq-dji/004194-kodk/Eastman Kodak Company, Q2 2019 Earnings Call, Aug 08, 2019.pdf                     \\\\\n",
       "\t NA                                                                                                                                      & 2019-08-14                                                                                                                              & NA                                                                                                                                      & NA                                                                                                                                      & NA                                                                                                                                      & Presentati                                                                                                                              & Question a                                                                                                                              & C:/Users/rossz/OneDrive/CC/data/ciq-dji/020779-csco/Cisco Systems, Inc., Q4 2019 Earnings Call, Aug 14, 2019.pdf                       \\\\\n",
       "\t NA                                                                                                                                      & 2019-08-20                                                                                                                              & NA                                                                                                                                      & NA                                                                                                                                      & NA                                                                                                                                      & Presentati                                                                                                                              & Question a                                                                                                                              & C:/Users/rossz/OneDrive/CC/data/ciq-dji/005680-hd/The Home Depot, Inc., Q2 2020 Earnings Call, Aug 20, 2019.pdf                        \\\\\n",
       "\t NA                                                                                                                                      & 2019-08-22                                                                                                                              & NA                                                                                                                                      & NA                                                                                                                                      & NA                                                                                                                                      & Presentati                                                                                                                              & Question a                                                                                                                              & C:/Users/rossz/OneDrive/CC/data/ciq-dji/005606-hpq/HP Inc., Q3 2019 Earnings Call, Aug 22, 2019.pdf                                    \\\\\n",
       "\t NA                                                                                                                                      & 2019-09-24                                                                                                                              & NA                                                                                                                                      & NA                                                                                                                                      & NA                                                                                                                                      & Presentati                                                                                                                              & Question a                                                                                                                              & C:/Users/rossz/OneDrive/CC/data/ciq-dji/007906-nke/NIKE, Inc., Q1 2020 Earnings Call, Sep 24, 2019.pdf                                 \\\\\n",
       "\t NA                                                                                                                                      & 2019-10-15                                                                                                                              & NA                                                                                                                                      & NA                                                                                                                                      & NA                                                                                                                                      & Presentati                                                                                                                              & Question a                                                                                                                              & C:/Users/rossz/OneDrive/CC/data/ciq-dji/002968-jpm/JPMorgan Chase  Co., Q3 2019 Earnings Call, Oct 15, 2019.pdf                        \\\\\n",
       "\t NA                                                                                                                                      & 2019-10-15                                                                                                                              & NA                                                                                                                                      & NA                                                                                                                                      & NA                                                                                                                                      & Presentati                                                                                                                              & Question a                                                                                                                              & C:/Users/rossz/OneDrive/CC/data/ciq-dji/003243-c/Citigroup Inc., Q3 2019 Earnings Call, Oct 15, 2019.pdf                               \\\\\n",
       "\t NA                                                                                                                                      & 2019-10-15                                                                                                                              & NA                                                                                                                                      & NA                                                                                                                                      & NA                                                                                                                                      & Presentati                                                                                                                              & Question a                                                                                                                              & C:/Users/rossz/OneDrive/CC/data/ciq-dji/006266-jnj/Johnson  Johnson, Q3 2019 Earnings Call, Oct 15, 2019.pdf                           \\\\\n",
       "\t NA                                                                                                                                      & 2019-10-15                                                                                                                              & NA                                                                                                                                      & NA                                                                                                                                      & NA                                                                                                                                      & Presentati                                                                                                                              & Question a                                                                                                                              & C:/Users/rossz/OneDrive/CC/data/ciq-dji/010903-unh/UnitedHealth Group Incorporated, Q3 2019 Earnings Call, Oct 15, 2019.pdf            \\\\\n",
       "\t NA                                                                                                                                      & 2019-10-15                                                                                                                              & NA                                                                                                                                      & NA                                                                                                                                      & NA                                                                                                                                      & Presentati                                                                                                                              & Question a                                                                                                                              & C:/Users/rossz/OneDrive/CC/data/ciq-dji/114628-gs/The Goldman Sachs Group, Inc., Q3 2019 Earnings Call, Oct 15, 2019.pdf               \\\\\n",
       "\t NA                                                                                                                                      & 2019-10-16                                                                                                                              & NA                                                                                                                                      & NA                                                                                                                                      & NA                                                                                                                                      & Presentati                                                                                                                              & Question a                                                                                                                              & C:/Users/rossz/OneDrive/CC/data/ciq-dji/006066-ibm/International Business Machines Corporation, Q3 2019 Earnings Call, Oct 16, 2019.pdf\\\\\n",
       "\t NA                                                                                                                                      & 2019-10-16                                                                                                                              & NA                                                                                                                                      & NA                                                                                                                                      & NA                                                                                                                                      & Presentati                                                                                                                              & Question a                                                                                                                              & C:/Users/rossz/OneDrive/CC/data/ciq-dji/007647-bac/Bank of America Corporation, Q3 2019 Earnings Call, Oct 16, 2019.pdf                \\\\\n",
       "\t NA                                                                                                                                      & 2019-10-17                                                                                                                              & NA                                                                                                                                      & NA                                                                                                                                      & NA                                                                                                                                      & Presentati                                                                                                                              & Question a                                                                                                                              & C:/Users/rossz/OneDrive/CC/data/ciq-dji/001300-hon/Honeywell International Inc., Q3 2019 Earnings Call, Oct 17, 2019.pdf               \\\\\n",
       "\t NA                                                                                                                                      & 2019-10-18                                                                                                                              & NA                                                                                                                                      & NA                                                                                                                                      & NA                                                                                                                                      & Presentati                                                                                                                              & Question a                                                                                                                              & C:/Users/rossz/OneDrive/CC/data/ciq-dji/001447-axp/American Express Company, Q3 2019 Earnings Call, Oct 18, 2019.pdf                   \\\\\n",
       "\t NA                                                                                                                                      & 2019-10-18                                                                                                                              & NA                                                                                                                                      & NA                                                                                                                                      & NA                                                                                                                                      & Presentati                                                                                                                              & Question a                                                                                                                              & C:/Users/rossz/OneDrive/CC/data/ciq-dji/003144-ko/The Coca-Cola Company, Q3 2019 Earnings Call, Oct 18, 2019.pdf                       \\\\\n",
       "\t NA                                                                                                                                      & 2019-10-22                                                                                                                              & NA                                                                                                                                      & NA                                                                                                                                      & NA                                                                                                                                      & Presentati                                                                                                                              & Question a                                                                                                                              & C:/Users/rossz/OneDrive/CC/data/ciq-dji/007154-mcd/McDonalds Corporation, Q3 2019 Earnings Call, Oct 22, 2019.pdf                      \\\\\n",
       "\t NA                                                                                                                                      & 2019-10-22                                                                                                                              & NA                                                                                                                                      & NA                                                                                                                                      & NA                                                                                                                                      & Presentati                                                                                                                              & Question a                                                                                                                              & C:/Users/rossz/OneDrive/CC/data/ciq-dji/008762-pg/The Procter  Gamble Company, Q1 2020 Earnings Call, Oct 22, 2019.pdf                 \\\\\n",
       "\t NA                                                                                                                                      & 2019-10-22                                                                                                                              & NA                                                                                                                                      & NA                                                                                                                                      & NA                                                                                                                                      & Presentati                                                                                                                              & Question a                                                                                                                              & C:/Users/rossz/OneDrive/CC/data/ciq-dji/010983-utx/United Technologies Corporation, Q3 2019 Earnings Call, Oct 22, 2019.pdf            \\\\\n",
       "\t NA                                                                                                                                      & 2019-10-22                                                                                                                              & NA                                                                                                                                      & NA                                                                                                                                      & NA                                                                                                                                      & Presentati                                                                                                                              & Question a                                                                                                                              & C:/Users/rossz/OneDrive/CC/data/ciq-dji/062689-trv/The Travelers Companies, Inc., Q3 2019 Earnings Call, Oct 22, 2019.pdf              \\\\\n",
       "\t NA                                                                                                                                      & 2019-10-23                                                                                                                              & NA                                                                                                                                      & NA                                                                                                                                      & NA                                                                                                                                      & Presentati                                                                                                                              & Question a                                                                                                                              & C:/Users/rossz/OneDrive/CC/data/ciq-dji/002285-ba/The Boeing Company, Q3 2019 Earnings Call, Oct 23, 2019.pdf                          \\\\\n",
       "\t NA                                                                                                                                      & 2019-10-23                                                                                                                              & NA                                                                                                                                      & NA                                                                                                                                      & NA                                                                                                                                      & Presentati                                                                                                                              & Question a                                                                                                                              & C:/Users/rossz/OneDrive/CC/data/ciq-dji/002817-cat/Caterpillar Inc., Q3 2019 Earnings Call, Oct 23, 2019.pdf                           \\\\\n",
       "\t NA                                                                                                                                      & 2019-10-23                                                                                                                              & NA                                                                                                                                      & NA                                                                                                                                      & NA                                                                                                                                      & Presentati                                                                                                                              & Question a                                                                                                                              & C:/Users/rossz/OneDrive/CC/data/ciq-dji/012141-msft/Microsoft Corporation, Q1 2020 Earnings Call, Oct 23, 2019.pdf                     \\\\\n",
       "\t NA                                                                                                                                      & 2019-10-24                                                                                                                              & NA                                                                                                                                      & NA                                                                                                                                      & NA                                                                                                                                      & Presentati                                                                                                                              & Question a                                                                                                                              & C:/Users/rossz/OneDrive/CC/data/ciq-dji/006008-intc/Intel Corporation, Q3 2019 Earnings Call, Oct 24, 2019.pdf                         \\\\\n",
       "\t NA                                                                                                                                      & 2019-10-24                                                                                                                              & NA                                                                                                                                      & NA                                                                                                                                      & NA                                                                                                                                      & Presentati                                                                                                                              & Question a                                                                                                                              & C:/Users/rossz/OneDrive/CC/data/ciq-dji/007435-mmm/3M Company, Q3 2019 Earnings Call, Oct 24, 2019.pdf                                 \\\\\n",
       "\t NA                                                                                                                                      & 2019-10-24                                                                                                                              & NA                                                                                                                                      & NA                                                                                                                                      & NA                                                                                                                                      & Presentati                                                                                                                              & Question a                                                                                                                              & C:/Users/rossz/OneDrive/CC/data/ciq-dji/179534-v/Visa Inc., Q4 2019 Earnings Call, Oct 24, 2019.pdf                                    \\\\\n",
       "\t NA                                                                                                                                      & 2019-10-25                                                                                                                              & NA                                                                                                                                      & NA                                                                                                                                      & NA                                                                                                                                      & Presentati                                                                                                                              & Question a                                                                                                                              & C:/Users/rossz/OneDrive/CC/data/ciq-dji/002136-vz/Verizon Communications Inc., Q3 2019 Earnings Call, Oct 25, 2019.pdf                 \\\\\n",
       "\t NA                                                                                                                                      & 2019-10-25                                                                                                                              & NA                                                                                                                                      & NA                                                                                                                                      & NA                                                                                                                                      & Presentati                                                                                                                              & Question a                                                                                                                              & C:/Users/rossz/OneDrive/CC/data/ciq-dji/005234-gt/The Goodyear Tire  Rubber Company, Q3 2019 Earnings Call, Oct 25, 2019.pdf           \\\\\n",
       "\t NA                                                                                                                                      & 2019-10-28                                                                                                                              & NA                                                                                                                                      & NA                                                                                                                                      & NA                                                                                                                                      & Presentati                                                                                                                              & Question a                                                                                                                              & C:/Users/rossz/OneDrive/CC/data/ciq-dji/009899-t/ATT Inc., Q3 2019 Earnings Call, Oct 28, 2019.pdf                                     \\\\\n",
       "\t NA                                                                                                                                      & 2019-10-28                                                                                                                              & NA                                                                                                                                      & NA                                                                                                                                      & NA                                                                                                                                      & Presentati                                                                                                                              & Question a                                                                                                                              & C:/Users/rossz/OneDrive/CC/data/ciq-dji/011264-wba/Walgreens Boots Alliance, Inc., Q4 2019 Earnings Call, Oct 28, 2019.pdf             \\\\\n",
       "\t NA                                                                                                                                      & 2019-10-29                                                                                                                              & NA                                                                                                                                      & NA                                                                                                                                      & NA                                                                                                                                      & Presentati                                                                                                                              & Question a                                                                                                                              & C:/Users/rossz/OneDrive/CC/data/ciq-dji/005073-gm/General Motors Company, Q3 2019 Earnings Call, Oct 29, 2019.pdf                      \\\\\n",
       "\t NA                                                                                                                                      & 2019-10-29                                                                                                                              & NA                                                                                                                                      & NA                                                                                                                                      & NA                                                                                                                                      & Presentati                                                                                                                              & Question a                                                                                                                              & C:/Users/rossz/OneDrive/CC/data/ciq-dji/007257-mrk/Merck  Co., Inc., Q3 2019 Earnings Call, Oct 29, 2019.pdf                           \\\\\n",
       "\t NA                                                                                                                                      & 2019-10-29                                                                                                                              & NA                                                                                                                                      & NA                                                                                                                                      & NA                                                                                                                                      & Presentati                                                                                                                              & Question a                                                                                                                              & C:/Users/rossz/OneDrive/CC/data/ciq-dji/008530-pfe/Pfizer Inc., Q3 2019 Earnings Call, Oct 29, 2019.pdf                                \\\\\n",
       "\t NA                                                                                                                                      & 2019-10-30                                                                                                                              & NA                                                                                                                                      & NA                                                                                                                                      & NA                                                                                                                                      & Presentati                                                                                                                              & Question a                                                                                                                              & C:/Users/rossz/OneDrive/CC/data/ciq-dji/001690-appl/Apple Inc., Q4 2019 Earnings Call, Oct 30, 2019.pdf                                \\\\\n",
       "\t NA                                                                                                                                      & 2019-10-30                                                                                                                              & NA                                                                                                                                      & NA                                                                                                                                      & NA                                                                                                                                      & Presentati                                                                                                                              & Question a                                                                                                                              & C:/Users/rossz/OneDrive/CC/data/ciq-dji/005047-ge/General Electric Company, Q3 2019 Earnings Call, Oct 30, 2019.pdf                    \\\\\n",
       "\t NA                                                                                                                                      & 2019-10-31                                                                                                                              & NA                                                                                                                                      & NA                                                                                                                                      & NA                                                                                                                                      & Presentati                                                                                                                              & Question a                                                                                                                              & C:/Users/rossz/OneDrive/CC/data/ciq-dji/004060-dd/DuPont de Nemours, Inc., Q3 2019 Earnings Call, Oct 31, 2019.pdf                     \\\\\n",
       "\t NA                                                                                                                                      & 2019-10-31                                                                                                                              & NA                                                                                                                                      & NA                                                                                                                                      & NA                                                                                                                                      & Presentati                                                                                                                              & Question a                                                                                                                              & C:/Users/rossz/OneDrive/CC/data/ciq-dji/006104-ip/International Paper Company, Q3 2019 Earnings Call, Oct 31, 2019.pdf                 \\\\\n",
       "\t NA                                                                                                                                      & 2019-10-31                                                                                                                              & NA                                                                                                                                      & NA                                                                                                                                      & NA                                                                                                                                      & Presentati                                                                                                                              & Question a                                                                                                                              & C:/Users/rossz/OneDrive/CC/data/ciq-dji/008543-mo/Altria Group, Inc., Q3 2019 Earnings Call, Oct 31, 2019.pdf                          \\\\\n",
       "\t NA                                                                                                                                      & 2019-11-01                                                                                                                              & NA                                                                                                                                      & NA                                                                                                                                      & NA                                                                                                                                      & Presentati                                                                                                                              & Question a                                                                                                                              & C:/Users/rossz/OneDrive/CC/data/ciq-dji/001487-aig/American International Group, Inc., Q3 2019 Earnings Call, Nov 01, 2019.pdf         \\\\\n",
       "\t NA                                                                                                                                      & 2019-11-01                                                                                                                              & NA                                                                                                                                      & NA                                                                                                                                      & NA                                                                                                                                      & Presentati                                                                                                                              & Question a                                                                                                                              & C:/Users/rossz/OneDrive/CC/data/ciq-dji/002991-cvx/Chevron Corporation, Q3 2019 Earnings Call, Nov 01, 2019.pdf                        \\\\\n",
       "\t NA                                                                                                                                      & 2019-11-01                                                                                                                              & NA                                                                                                                                      & NA                                                                                                                                      & NA                                                                                                                                      & Presentati                                                                                                                              & Question a                                                                                                                              & C:/Users/rossz/OneDrive/CC/data/ciq-dji/004503-xom/Exxon Mobil Corporation, Q3 2019 Earnings Call, Nov 01, 2019.pdf                    \\\\\n",
       "\t NA                                                                                                                                      & 2019-11-07                                                                                                                              & NA                                                                                                                                      & NA                                                                                                                                      & NA                                                                                                                                      & Presentati                                                                                                                              & Question a                                                                                                                              & C:/Users/rossz/OneDrive/CC/data/ciq-dji/003980-dis/The Walt Disney Company, Q4 2019 Earnings Call, Nov 07, 2019.pdf                    \\\\\n",
       "\t NA                                                                                                                                      & 2019-11-07                                                                                                                              & NA                                                                                                                                      & NA                                                                                                                                      & NA                                                                                                                                      & Presentati                                                                                                                              & NA                                                                                                                                      & C:/Users/rossz/OneDrive/CC/data/ciq-dji/004194-kodk/Eastman Kodak Company, Q3 2019 Earnings Call, Nov 07, 2019.pdf                     \\\\\n",
       "\t NA                                                                                                                                      & 2019-11-13                                                                                                                              & NA                                                                                                                                      & NA                                                                                                                                      & NA                                                                                                                                      & Presentati                                                                                                                              & Question a                                                                                                                              & C:/Users/rossz/OneDrive/CC/data/ciq-dji/020779-csco/Cisco Systems, Inc., Q1 2020 Earnings Call, Nov 13, 2019.pdf                       \\\\\n",
       "\\end{tabular}\n"
      ],
      "text/markdown": [
       "\n",
       "| gvkey | headline_date | mid_utc | headline | keydevid | md | qa | cc_path |\n",
       "|---|---|---|---|---|---|---|---|\n",
       "| NA                                                                                                                                      | 2010-08-12                                                                                                                              | NA                                                                                                                                      | NA                                                                                                                                      | NA                                                                                                                                      | Presentati                                                                                                                              | Question a                                                                                                                              | C:/Users/rossz/OneDrive/CC/data/ciq-dji/005073-gm/General Motors Company, Q2 2010 Earnings Call, Aug-12-2010.pdf                        |\n",
       "| NA                                                                                                                                      | 2010-11-10                                                                                                                              | NA                                                                                                                                      | NA                                                                                                                                      | NA                                                                                                                                      | Presentati                                                                                                                              | NA                                                                                                                                      | C:/Users/rossz/OneDrive/CC/data/ciq-dji/005073-gm/General Motors Company, Q3 2010 Earnings Call, Nov 10, 2010.pdf                       |\n",
       "| NA                                                                                                                                      | 2019-06-27                                                                                                                              | NA                                                                                                                                      | NA                                                                                                                                      | NA                                                                                                                                      | Presentati                                                                                                                              | Question a                                                                                                                              | C:/Users/rossz/OneDrive/CC/data/ciq-dji/007906-nke/NIKE, Inc., Q4 2019 Earnings Call, Jun 27, 2019.pdf                                  |\n",
       "| NA                                                                                                                                      | 2019-06-27                                                                                                                              | NA                                                                                                                                      | NA                                                                                                                                      | NA                                                                                                                                      | Presentati                                                                                                                              | Question a                                                                                                                              | C:/Users/rossz/OneDrive/CC/data/ciq-dji/011264-wba/Walgreens Boots Alliance, Inc., Q3 2019 Earnings Call, Jun 27, 2019.pdf              |\n",
       "| NA                                                                                                                                      | 2019-07-15                                                                                                                              | NA                                                                                                                                      | NA                                                                                                                                      | NA                                                                                                                                      | Presentati                                                                                                                              | Question a                                                                                                                              | C:/Users/rossz/OneDrive/CC/data/ciq-dji/003243-c/Citigroup Inc., Q2 2019 Earnings Call, Jul 15, 2019.pdf                                |\n",
       "| NA                                                                                                                                      | 2019-07-16                                                                                                                              | NA                                                                                                                                      | NA                                                                                                                                      | NA                                                                                                                                      | Presentati                                                                                                                              | Question a                                                                                                                              | C:/Users/rossz/OneDrive/CC/data/ciq-dji/002968-jpm/JPMorgan Chase  Co., Q2 2019 Earnings Call, Jul 16, 2019.pdf                         |\n",
       "| NA                                                                                                                                      | 2019-07-16                                                                                                                              | NA                                                                                                                                      | NA                                                                                                                                      | NA                                                                                                                                      | Presentati                                                                                                                              | Question a                                                                                                                              | C:/Users/rossz/OneDrive/CC/data/ciq-dji/006266-jnj/Johnson  Johnson, Q2 2019 Earnings Call, Jul 16, 2019.pdf                            |\n",
       "| NA                                                                                                                                      | 2019-07-16                                                                                                                              | NA                                                                                                                                      | NA                                                                                                                                      | NA                                                                                                                                      | Presentati                                                                                                                              | Question a                                                                                                                              | C:/Users/rossz/OneDrive/CC/data/ciq-dji/114628-gs/The Goldman Sachs Group, Inc., Q2 2019 Earnings Call, Jul 16, 2019.pdf                |\n",
       "| NA                                                                                                                                      | 2019-07-17                                                                                                                              | NA                                                                                                                                      | NA                                                                                                                                      | NA                                                                                                                                      | Presentati                                                                                                                              | Question a                                                                                                                              | C:/Users/rossz/OneDrive/CC/data/ciq-dji/006066-ibm/International Business Machines Corporation, Q2 2019 Earnings Call, Jul 17, 2019.pdf |\n",
       "| NA                                                                                                                                      | 2019-07-17                                                                                                                              | NA                                                                                                                                      | NA                                                                                                                                      | NA                                                                                                                                      | Presentati                                                                                                                              | Question a                                                                                                                              | C:/Users/rossz/OneDrive/CC/data/ciq-dji/007647-bac/Bank of America Corporation, Q2 2019 Earnings Call, Jul 17, 2019.pdf                 |\n",
       "| NA                                                                                                                                      | 2019-07-18                                                                                                                              | NA                                                                                                                                      | NA                                                                                                                                      | NA                                                                                                                                      | Presentati                                                                                                                              | Question a                                                                                                                              | C:/Users/rossz/OneDrive/CC/data/ciq-dji/001300-hon/Honeywell International Inc., Q2 2019 Earnings Call, Jul 18, 2019.pdf                |\n",
       "| NA                                                                                                                                      | 2019-07-18                                                                                                                              | NA                                                                                                                                      | NA                                                                                                                                      | NA                                                                                                                                      | Presentati                                                                                                                              | Question a                                                                                                                              | C:/Users/rossz/OneDrive/CC/data/ciq-dji/010903-unh/UnitedHealth Group Incorporated, Q2 2019 Earnings Call, Jul 18, 2019.pdf             |\n",
       "| NA                                                                                                                                      | 2019-07-18                                                                                                                              | NA                                                                                                                                      | NA                                                                                                                                      | NA                                                                                                                                      | Presentati                                                                                                                              | Question a                                                                                                                              | C:/Users/rossz/OneDrive/CC/data/ciq-dji/012141-msft/Microsoft Corporation, Q4 2019 Earnings Call, Jul 18, 2019.pdf                      |\n",
       "| NA                                                                                                                                      | 2019-07-19                                                                                                                              | NA                                                                                                                                      | NA                                                                                                                                      | NA                                                                                                                                      | Presentati                                                                                                                              | Question a                                                                                                                              | C:/Users/rossz/OneDrive/CC/data/ciq-dji/001447-axp/American Express Company, Q2 2019 Earnings Call, Jul 19, 2019.pdf                    |\n",
       "| NA                                                                                                                                      | 2019-07-23                                                                                                                              | NA                                                                                                                                      | NA                                                                                                                                      | NA                                                                                                                                      | Presentati                                                                                                                              | Question a                                                                                                                              | C:/Users/rossz/OneDrive/CC/data/ciq-dji/003144-ko/The Coca-Cola Company, Q2 2019 Earnings Call, Jul 23, 2019.pdf                        |\n",
       "| NA                                                                                                                                      | 2019-07-23                                                                                                                              | NA                                                                                                                                      | NA                                                                                                                                      | NA                                                                                                                                      | Presentati                                                                                                                              | Question a                                                                                                                              | C:/Users/rossz/OneDrive/CC/data/ciq-dji/010983-utx/United Technologies Corporation, Q2 2019 Earnings Call, Jul 23, 2019.pdf             |\n",
       "| NA                                                                                                                                      | 2019-07-23                                                                                                                              | NA                                                                                                                                      | NA                                                                                                                                      | NA                                                                                                                                      | Presentati                                                                                                                              | Question a                                                                                                                              | C:/Users/rossz/OneDrive/CC/data/ciq-dji/062689-trv/The Travelers Companies, Inc., Q2 2019 Earnings Call, Jul 23, 2019.pdf               |\n",
       "| NA                                                                                                                                      | 2019-07-23                                                                                                                              | NA                                                                                                                                      | NA                                                                                                                                      | NA                                                                                                                                      | Presentati                                                                                                                              | Question a                                                                                                                              | C:/Users/rossz/OneDrive/CC/data/ciq-dji/179534-v/Visa Inc., Q3 2019 Earnings Call, Jul 23, 2019.pdf                                     |\n",
       "| NA                                                                                                                                      | 2019-07-24                                                                                                                              | NA                                                                                                                                      | NA                                                                                                                                      | NA                                                                                                                                      | Presentati                                                                                                                              | Question a                                                                                                                              | C:/Users/rossz/OneDrive/CC/data/ciq-dji/002285-ba/The Boeing Company, Q2 2019 Earnings Call, Jul 24, 2019.pdf                           |\n",
       "| NA                                                                                                                                      | 2019-07-24                                                                                                                              | NA                                                                                                                                      | NA                                                                                                                                      | NA                                                                                                                                      | Presentati                                                                                                                              | Question a                                                                                                                              | C:/Users/rossz/OneDrive/CC/data/ciq-dji/002817-cat/Caterpillar Inc., Q2 2019 Earnings Call, Jul 24, 2019.pdf                            |\n",
       "| NA                                                                                                                                      | 2019-07-24                                                                                                                              | NA                                                                                                                                      | NA                                                                                                                                      | NA                                                                                                                                      | Presentati                                                                                                                              | Question a                                                                                                                              | C:/Users/rossz/OneDrive/CC/data/ciq-dji/009899-t/ATT Inc., Q2 2019 Earnings Call, Jul 24, 2019.pdf                                      |\n",
       "| NA                                                                                                                                      | 2019-07-25                                                                                                                              | NA                                                                                                                                      | NA                                                                                                                                      | NA                                                                                                                                      | Presentati                                                                                                                              | Question a                                                                                                                              | C:/Users/rossz/OneDrive/CC/data/ciq-dji/006008-intc/Intel Corporation, Q2 2019 Earnings Call, Jul 25, 2019.pdf                          |\n",
       "| NA                                                                                                                                      | 2019-07-25                                                                                                                              | NA                                                                                                                                      | NA                                                                                                                                      | NA                                                                                                                                      | Presentati                                                                                                                              | Question a                                                                                                                              | C:/Users/rossz/OneDrive/CC/data/ciq-dji/006104-ip/International Paper Company, Q2 2019 Earnings Call, Jul 25, 2019.pdf                  |\n",
       "| NA                                                                                                                                      | 2019-07-25                                                                                                                              | NA                                                                                                                                      | NA                                                                                                                                      | NA                                                                                                                                      | Presentati                                                                                                                              | Question a                                                                                                                              | C:/Users/rossz/OneDrive/CC/data/ciq-dji/007435-mmm/3M Company, Q2 2019 Earnings Call, Jul 25, 2019.pdf                                  |\n",
       "| NA                                                                                                                                      | 2019-07-26                                                                                                                              | NA                                                                                                                                      | NA                                                                                                                                      | NA                                                                                                                                      | Presentati                                                                                                                              | Question a                                                                                                                              | C:/Users/rossz/OneDrive/CC/data/ciq-dji/005234-gt/The Goodyear Tire  Rubber Company, Q2 2019 Earnings Call, Jul 26, 2019.pdf            |\n",
       "| NA                                                                                                                                      | 2019-07-26                                                                                                                              | NA                                                                                                                                      | NA                                                                                                                                      | NA                                                                                                                                      | Presentati                                                                                                                              | Question a                                                                                                                              | C:/Users/rossz/OneDrive/CC/data/ciq-dji/007154-mcd/McDonalds Corporation, Q2 2019 Earnings Call, Jul 26, 2019.pdf                       |\n",
       "| NA                                                                                                                                      | 2019-07-29                                                                                                                              | NA                                                                                                                                      | NA                                                                                                                                      | NA                                                                                                                                      | Presentati                                                                                                                              | Question a                                                                                                                              | C:/Users/rossz/OneDrive/CC/data/ciq-dji/008530-pfe/Pfizer Inc., Q2 2019 Earnings Call, Jul 29, 2019.pdf                                 |\n",
       "| NA                                                                                                                                      | 2019-07-30                                                                                                                              | NA                                                                                                                                      | NA                                                                                                                                      | NA                                                                                                                                      | Presentati                                                                                                                              | Question a                                                                                                                              | C:/Users/rossz/OneDrive/CC/data/ciq-dji/001690-appl/Apple Inc., Q3 2019 Earnings Call, Jul 30, 2019.pdf                                 |\n",
       "| NA                                                                                                                                      | 2019-07-30                                                                                                                              | NA                                                                                                                                      | NA                                                                                                                                      | NA                                                                                                                                      | Presentati                                                                                                                              | Question a                                                                                                                              | C:/Users/rossz/OneDrive/CC/data/ciq-dji/007257-mrk/Merck  Co., Inc., Q2 2019 Earnings Call, Jul 30, 2019.pdf                            |\n",
       "| NA                                                                                                                                      | 2019-07-30                                                                                                                              | NA                                                                                                                                      | NA                                                                                                                                      | NA                                                                                                                                      | Presentati                                                                                                                              | Question a                                                                                                                              | C:/Users/rossz/OneDrive/CC/data/ciq-dji/008543-mo/Altria Group, Inc., Q2 2019 Earnings Call, Jul 30, 2019.pdf                           |\n",
       "| NA                                                                                                                                      | 2019-07-30                                                                                                                              | NA                                                                                                                                      | NA                                                                                                                                      | NA                                                                                                                                      | Presentati                                                                                                                              | Question a                                                                                                                              | C:/Users/rossz/OneDrive/CC/data/ciq-dji/008762-pg/The Procter  Gamble Company, Q4 2019 Earnings Call, Jul 30, 2019.pdf                  |\n",
       "| NA                                                                                                                                      | 2019-07-31                                                                                                                              | NA                                                                                                                                      | NA                                                                                                                                      | NA                                                                                                                                      | Presentati                                                                                                                              | Question a                                                                                                                              | C:/Users/rossz/OneDrive/CC/data/ciq-dji/005047-ge/General Electric Company, Q2 2019 Earnings Call, Jul 31, 2019.pdf                     |\n",
       "| NA                                                                                                                                      | 2019-08-01                                                                                                                              | NA                                                                                                                                      | NA                                                                                                                                      | NA                                                                                                                                      | Presentati                                                                                                                              | Question a                                                                                                                              | C:/Users/rossz/OneDrive/CC/data/ciq-dji/002136-vz/Verizon Communications Inc., Q2 2019 Earnings Call, Aug 01, 2019.pdf                  |\n",
       "| NA                                                                                                                                      | 2019-08-01                                                                                                                              | NA                                                                                                                                      | NA                                                                                                                                      | NA                                                                                                                                      | Presentati                                                                                                                              | Question a                                                                                                                              | C:/Users/rossz/OneDrive/CC/data/ciq-dji/004060-dd/DuPont de Nemours, Inc., Q2 2019 Earnings Call, Aug 01, 2019.pdf                      |\n",
       "| NA                                                                                                                                      | 2019-08-01                                                                                                                              | NA                                                                                                                                      | NA                                                                                                                                      | NA                                                                                                                                      | Presentati                                                                                                                              | Question a                                                                                                                              | C:/Users/rossz/OneDrive/CC/data/ciq-dji/005073-gm/General Motors Company, Q2 2019 Earnings Call, Aug 01, 2019.pdf                       |\n",
       "| NA                                                                                                                                      | 2019-08-02                                                                                                                              | NA                                                                                                                                      | NA                                                                                                                                      | NA                                                                                                                                      | Presentati                                                                                                                              | Question a                                                                                                                              | C:/Users/rossz/OneDrive/CC/data/ciq-dji/002991-cvx/Chevron Corporation, Q2 2019 Earnings Call, Aug 02, 2019.pdf                         |\n",
       "| NA                                                                                                                                      | 2019-08-02                                                                                                                              | NA                                                                                                                                      | NA                                                                                                                                      | NA                                                                                                                                      | Presentati                                                                                                                              | Question a                                                                                                                              | C:/Users/rossz/OneDrive/CC/data/ciq-dji/004503-xom/Exxon Mobil Corporation, Q2 2019 Earnings Call, Aug 02, 2019.pdf                     |\n",
       "| NA                                                                                                                                      | 2019-08-06                                                                                                                              | NA                                                                                                                                      | NA                                                                                                                                      | NA                                                                                                                                      | Presentati                                                                                                                              | Question a                                                                                                                              | C:/Users/rossz/OneDrive/CC/data/ciq-dji/003980-dis/The Walt Disney Company, Q3 2019 Earnings Call, Aug 06, 2019.pdf                     |\n",
       "| NA                                                                                                                                      | 2019-08-08                                                                                                                              | NA                                                                                                                                      | NA                                                                                                                                      | NA                                                                                                                                      | Presentati                                                                                                                              | Question a                                                                                                                              | C:/Users/rossz/OneDrive/CC/data/ciq-dji/001487-aig/American International Group, Inc., Q2 2019 Earnings Call, Aug 08, 2019.pdf          |\n",
       "| NA                                                                                                                                      | 2019-08-08                                                                                                                              | NA                                                                                                                                      | NA                                                                                                                                      | NA                                                                                                                                      | Presentati                                                                                                                              | Question a                                                                                                                              | C:/Users/rossz/OneDrive/CC/data/ciq-dji/004194-kodk/Eastman Kodak Company, Q2 2019 Earnings Call, Aug 08, 2019.pdf                      |\n",
       "| NA                                                                                                                                      | 2019-08-14                                                                                                                              | NA                                                                                                                                      | NA                                                                                                                                      | NA                                                                                                                                      | Presentati                                                                                                                              | Question a                                                                                                                              | C:/Users/rossz/OneDrive/CC/data/ciq-dji/020779-csco/Cisco Systems, Inc., Q4 2019 Earnings Call, Aug 14, 2019.pdf                        |\n",
       "| NA                                                                                                                                      | 2019-08-20                                                                                                                              | NA                                                                                                                                      | NA                                                                                                                                      | NA                                                                                                                                      | Presentati                                                                                                                              | Question a                                                                                                                              | C:/Users/rossz/OneDrive/CC/data/ciq-dji/005680-hd/The Home Depot, Inc., Q2 2020 Earnings Call, Aug 20, 2019.pdf                         |\n",
       "| NA                                                                                                                                      | 2019-08-22                                                                                                                              | NA                                                                                                                                      | NA                                                                                                                                      | NA                                                                                                                                      | Presentati                                                                                                                              | Question a                                                                                                                              | C:/Users/rossz/OneDrive/CC/data/ciq-dji/005606-hpq/HP Inc., Q3 2019 Earnings Call, Aug 22, 2019.pdf                                     |\n",
       "| NA                                                                                                                                      | 2019-09-24                                                                                                                              | NA                                                                                                                                      | NA                                                                                                                                      | NA                                                                                                                                      | Presentati                                                                                                                              | Question a                                                                                                                              | C:/Users/rossz/OneDrive/CC/data/ciq-dji/007906-nke/NIKE, Inc., Q1 2020 Earnings Call, Sep 24, 2019.pdf                                  |\n",
       "| NA                                                                                                                                      | 2019-10-15                                                                                                                              | NA                                                                                                                                      | NA                                                                                                                                      | NA                                                                                                                                      | Presentati                                                                                                                              | Question a                                                                                                                              | C:/Users/rossz/OneDrive/CC/data/ciq-dji/002968-jpm/JPMorgan Chase  Co., Q3 2019 Earnings Call, Oct 15, 2019.pdf                         |\n",
       "| NA                                                                                                                                      | 2019-10-15                                                                                                                              | NA                                                                                                                                      | NA                                                                                                                                      | NA                                                                                                                                      | Presentati                                                                                                                              | Question a                                                                                                                              | C:/Users/rossz/OneDrive/CC/data/ciq-dji/003243-c/Citigroup Inc., Q3 2019 Earnings Call, Oct 15, 2019.pdf                                |\n",
       "| NA                                                                                                                                      | 2019-10-15                                                                                                                              | NA                                                                                                                                      | NA                                                                                                                                      | NA                                                                                                                                      | Presentati                                                                                                                              | Question a                                                                                                                              | C:/Users/rossz/OneDrive/CC/data/ciq-dji/006266-jnj/Johnson  Johnson, Q3 2019 Earnings Call, Oct 15, 2019.pdf                            |\n",
       "| NA                                                                                                                                      | 2019-10-15                                                                                                                              | NA                                                                                                                                      | NA                                                                                                                                      | NA                                                                                                                                      | Presentati                                                                                                                              | Question a                                                                                                                              | C:/Users/rossz/OneDrive/CC/data/ciq-dji/010903-unh/UnitedHealth Group Incorporated, Q3 2019 Earnings Call, Oct 15, 2019.pdf             |\n",
       "| NA                                                                                                                                      | 2019-10-15                                                                                                                              | NA                                                                                                                                      | NA                                                                                                                                      | NA                                                                                                                                      | Presentati                                                                                                                              | Question a                                                                                                                              | C:/Users/rossz/OneDrive/CC/data/ciq-dji/114628-gs/The Goldman Sachs Group, Inc., Q3 2019 Earnings Call, Oct 15, 2019.pdf                |\n",
       "| NA                                                                                                                                      | 2019-10-16                                                                                                                              | NA                                                                                                                                      | NA                                                                                                                                      | NA                                                                                                                                      | Presentati                                                                                                                              | Question a                                                                                                                              | C:/Users/rossz/OneDrive/CC/data/ciq-dji/006066-ibm/International Business Machines Corporation, Q3 2019 Earnings Call, Oct 16, 2019.pdf |\n",
       "| NA                                                                                                                                      | 2019-10-16                                                                                                                              | NA                                                                                                                                      | NA                                                                                                                                      | NA                                                                                                                                      | Presentati                                                                                                                              | Question a                                                                                                                              | C:/Users/rossz/OneDrive/CC/data/ciq-dji/007647-bac/Bank of America Corporation, Q3 2019 Earnings Call, Oct 16, 2019.pdf                 |\n",
       "| NA                                                                                                                                      | 2019-10-17                                                                                                                              | NA                                                                                                                                      | NA                                                                                                                                      | NA                                                                                                                                      | Presentati                                                                                                                              | Question a                                                                                                                              | C:/Users/rossz/OneDrive/CC/data/ciq-dji/001300-hon/Honeywell International Inc., Q3 2019 Earnings Call, Oct 17, 2019.pdf                |\n",
       "| NA                                                                                                                                      | 2019-10-18                                                                                                                              | NA                                                                                                                                      | NA                                                                                                                                      | NA                                                                                                                                      | Presentati                                                                                                                              | Question a                                                                                                                              | C:/Users/rossz/OneDrive/CC/data/ciq-dji/001447-axp/American Express Company, Q3 2019 Earnings Call, Oct 18, 2019.pdf                    |\n",
       "| NA                                                                                                                                      | 2019-10-18                                                                                                                              | NA                                                                                                                                      | NA                                                                                                                                      | NA                                                                                                                                      | Presentati                                                                                                                              | Question a                                                                                                                              | C:/Users/rossz/OneDrive/CC/data/ciq-dji/003144-ko/The Coca-Cola Company, Q3 2019 Earnings Call, Oct 18, 2019.pdf                        |\n",
       "| NA                                                                                                                                      | 2019-10-22                                                                                                                              | NA                                                                                                                                      | NA                                                                                                                                      | NA                                                                                                                                      | Presentati                                                                                                                              | Question a                                                                                                                              | C:/Users/rossz/OneDrive/CC/data/ciq-dji/007154-mcd/McDonalds Corporation, Q3 2019 Earnings Call, Oct 22, 2019.pdf                       |\n",
       "| NA                                                                                                                                      | 2019-10-22                                                                                                                              | NA                                                                                                                                      | NA                                                                                                                                      | NA                                                                                                                                      | Presentati                                                                                                                              | Question a                                                                                                                              | C:/Users/rossz/OneDrive/CC/data/ciq-dji/008762-pg/The Procter  Gamble Company, Q1 2020 Earnings Call, Oct 22, 2019.pdf                  |\n",
       "| NA                                                                                                                                      | 2019-10-22                                                                                                                              | NA                                                                                                                                      | NA                                                                                                                                      | NA                                                                                                                                      | Presentati                                                                                                                              | Question a                                                                                                                              | C:/Users/rossz/OneDrive/CC/data/ciq-dji/010983-utx/United Technologies Corporation, Q3 2019 Earnings Call, Oct 22, 2019.pdf             |\n",
       "| NA                                                                                                                                      | 2019-10-22                                                                                                                              | NA                                                                                                                                      | NA                                                                                                                                      | NA                                                                                                                                      | Presentati                                                                                                                              | Question a                                                                                                                              | C:/Users/rossz/OneDrive/CC/data/ciq-dji/062689-trv/The Travelers Companies, Inc., Q3 2019 Earnings Call, Oct 22, 2019.pdf               |\n",
       "| NA                                                                                                                                      | 2019-10-23                                                                                                                              | NA                                                                                                                                      | NA                                                                                                                                      | NA                                                                                                                                      | Presentati                                                                                                                              | Question a                                                                                                                              | C:/Users/rossz/OneDrive/CC/data/ciq-dji/002285-ba/The Boeing Company, Q3 2019 Earnings Call, Oct 23, 2019.pdf                           |\n",
       "| NA                                                                                                                                      | 2019-10-23                                                                                                                              | NA                                                                                                                                      | NA                                                                                                                                      | NA                                                                                                                                      | Presentati                                                                                                                              | Question a                                                                                                                              | C:/Users/rossz/OneDrive/CC/data/ciq-dji/002817-cat/Caterpillar Inc., Q3 2019 Earnings Call, Oct 23, 2019.pdf                            |\n",
       "| NA                                                                                                                                      | 2019-10-23                                                                                                                              | NA                                                                                                                                      | NA                                                                                                                                      | NA                                                                                                                                      | Presentati                                                                                                                              | Question a                                                                                                                              | C:/Users/rossz/OneDrive/CC/data/ciq-dji/012141-msft/Microsoft Corporation, Q1 2020 Earnings Call, Oct 23, 2019.pdf                      |\n",
       "| NA                                                                                                                                      | 2019-10-24                                                                                                                              | NA                                                                                                                                      | NA                                                                                                                                      | NA                                                                                                                                      | Presentati                                                                                                                              | Question a                                                                                                                              | C:/Users/rossz/OneDrive/CC/data/ciq-dji/006008-intc/Intel Corporation, Q3 2019 Earnings Call, Oct 24, 2019.pdf                          |\n",
       "| NA                                                                                                                                      | 2019-10-24                                                                                                                              | NA                                                                                                                                      | NA                                                                                                                                      | NA                                                                                                                                      | Presentati                                                                                                                              | Question a                                                                                                                              | C:/Users/rossz/OneDrive/CC/data/ciq-dji/007435-mmm/3M Company, Q3 2019 Earnings Call, Oct 24, 2019.pdf                                  |\n",
       "| NA                                                                                                                                      | 2019-10-24                                                                                                                              | NA                                                                                                                                      | NA                                                                                                                                      | NA                                                                                                                                      | Presentati                                                                                                                              | Question a                                                                                                                              | C:/Users/rossz/OneDrive/CC/data/ciq-dji/179534-v/Visa Inc., Q4 2019 Earnings Call, Oct 24, 2019.pdf                                     |\n",
       "| NA                                                                                                                                      | 2019-10-25                                                                                                                              | NA                                                                                                                                      | NA                                                                                                                                      | NA                                                                                                                                      | Presentati                                                                                                                              | Question a                                                                                                                              | C:/Users/rossz/OneDrive/CC/data/ciq-dji/002136-vz/Verizon Communications Inc., Q3 2019 Earnings Call, Oct 25, 2019.pdf                  |\n",
       "| NA                                                                                                                                      | 2019-10-25                                                                                                                              | NA                                                                                                                                      | NA                                                                                                                                      | NA                                                                                                                                      | Presentati                                                                                                                              | Question a                                                                                                                              | C:/Users/rossz/OneDrive/CC/data/ciq-dji/005234-gt/The Goodyear Tire  Rubber Company, Q3 2019 Earnings Call, Oct 25, 2019.pdf            |\n",
       "| NA                                                                                                                                      | 2019-10-28                                                                                                                              | NA                                                                                                                                      | NA                                                                                                                                      | NA                                                                                                                                      | Presentati                                                                                                                              | Question a                                                                                                                              | C:/Users/rossz/OneDrive/CC/data/ciq-dji/009899-t/ATT Inc., Q3 2019 Earnings Call, Oct 28, 2019.pdf                                      |\n",
       "| NA                                                                                                                                      | 2019-10-28                                                                                                                              | NA                                                                                                                                      | NA                                                                                                                                      | NA                                                                                                                                      | Presentati                                                                                                                              | Question a                                                                                                                              | C:/Users/rossz/OneDrive/CC/data/ciq-dji/011264-wba/Walgreens Boots Alliance, Inc., Q4 2019 Earnings Call, Oct 28, 2019.pdf              |\n",
       "| NA                                                                                                                                      | 2019-10-29                                                                                                                              | NA                                                                                                                                      | NA                                                                                                                                      | NA                                                                                                                                      | Presentati                                                                                                                              | Question a                                                                                                                              | C:/Users/rossz/OneDrive/CC/data/ciq-dji/005073-gm/General Motors Company, Q3 2019 Earnings Call, Oct 29, 2019.pdf                       |\n",
       "| NA                                                                                                                                      | 2019-10-29                                                                                                                              | NA                                                                                                                                      | NA                                                                                                                                      | NA                                                                                                                                      | Presentati                                                                                                                              | Question a                                                                                                                              | C:/Users/rossz/OneDrive/CC/data/ciq-dji/007257-mrk/Merck  Co., Inc., Q3 2019 Earnings Call, Oct 29, 2019.pdf                            |\n",
       "| NA                                                                                                                                      | 2019-10-29                                                                                                                              | NA                                                                                                                                      | NA                                                                                                                                      | NA                                                                                                                                      | Presentati                                                                                                                              | Question a                                                                                                                              | C:/Users/rossz/OneDrive/CC/data/ciq-dji/008530-pfe/Pfizer Inc., Q3 2019 Earnings Call, Oct 29, 2019.pdf                                 |\n",
       "| NA                                                                                                                                      | 2019-10-30                                                                                                                              | NA                                                                                                                                      | NA                                                                                                                                      | NA                                                                                                                                      | Presentati                                                                                                                              | Question a                                                                                                                              | C:/Users/rossz/OneDrive/CC/data/ciq-dji/001690-appl/Apple Inc., Q4 2019 Earnings Call, Oct 30, 2019.pdf                                 |\n",
       "| NA                                                                                                                                      | 2019-10-30                                                                                                                              | NA                                                                                                                                      | NA                                                                                                                                      | NA                                                                                                                                      | Presentati                                                                                                                              | Question a                                                                                                                              | C:/Users/rossz/OneDrive/CC/data/ciq-dji/005047-ge/General Electric Company, Q3 2019 Earnings Call, Oct 30, 2019.pdf                     |\n",
       "| NA                                                                                                                                      | 2019-10-31                                                                                                                              | NA                                                                                                                                      | NA                                                                                                                                      | NA                                                                                                                                      | Presentati                                                                                                                              | Question a                                                                                                                              | C:/Users/rossz/OneDrive/CC/data/ciq-dji/004060-dd/DuPont de Nemours, Inc., Q3 2019 Earnings Call, Oct 31, 2019.pdf                      |\n",
       "| NA                                                                                                                                      | 2019-10-31                                                                                                                              | NA                                                                                                                                      | NA                                                                                                                                      | NA                                                                                                                                      | Presentati                                                                                                                              | Question a                                                                                                                              | C:/Users/rossz/OneDrive/CC/data/ciq-dji/006104-ip/International Paper Company, Q3 2019 Earnings Call, Oct 31, 2019.pdf                  |\n",
       "| NA                                                                                                                                      | 2019-10-31                                                                                                                              | NA                                                                                                                                      | NA                                                                                                                                      | NA                                                                                                                                      | Presentati                                                                                                                              | Question a                                                                                                                              | C:/Users/rossz/OneDrive/CC/data/ciq-dji/008543-mo/Altria Group, Inc., Q3 2019 Earnings Call, Oct 31, 2019.pdf                           |\n",
       "| NA                                                                                                                                      | 2019-11-01                                                                                                                              | NA                                                                                                                                      | NA                                                                                                                                      | NA                                                                                                                                      | Presentati                                                                                                                              | Question a                                                                                                                              | C:/Users/rossz/OneDrive/CC/data/ciq-dji/001487-aig/American International Group, Inc., Q3 2019 Earnings Call, Nov 01, 2019.pdf          |\n",
       "| NA                                                                                                                                      | 2019-11-01                                                                                                                              | NA                                                                                                                                      | NA                                                                                                                                      | NA                                                                                                                                      | Presentati                                                                                                                              | Question a                                                                                                                              | C:/Users/rossz/OneDrive/CC/data/ciq-dji/002991-cvx/Chevron Corporation, Q3 2019 Earnings Call, Nov 01, 2019.pdf                         |\n",
       "| NA                                                                                                                                      | 2019-11-01                                                                                                                              | NA                                                                                                                                      | NA                                                                                                                                      | NA                                                                                                                                      | Presentati                                                                                                                              | Question a                                                                                                                              | C:/Users/rossz/OneDrive/CC/data/ciq-dji/004503-xom/Exxon Mobil Corporation, Q3 2019 Earnings Call, Nov 01, 2019.pdf                     |\n",
       "| NA                                                                                                                                      | 2019-11-07                                                                                                                              | NA                                                                                                                                      | NA                                                                                                                                      | NA                                                                                                                                      | Presentati                                                                                                                              | Question a                                                                                                                              | C:/Users/rossz/OneDrive/CC/data/ciq-dji/003980-dis/The Walt Disney Company, Q4 2019 Earnings Call, Nov 07, 2019.pdf                     |\n",
       "| NA                                                                                                                                      | 2019-11-07                                                                                                                              | NA                                                                                                                                      | NA                                                                                                                                      | NA                                                                                                                                      | Presentati                                                                                                                              | NA                                                                                                                                      | C:/Users/rossz/OneDrive/CC/data/ciq-dji/004194-kodk/Eastman Kodak Company, Q3 2019 Earnings Call, Nov 07, 2019.pdf                      |\n",
       "| NA                                                                                                                                      | 2019-11-13                                                                                                                              | NA                                                                                                                                      | NA                                                                                                                                      | NA                                                                                                                                      | Presentati                                                                                                                              | Question a                                                                                                                              | C:/Users/rossz/OneDrive/CC/data/ciq-dji/020779-csco/Cisco Systems, Inc., Q1 2020 Earnings Call, Nov 13, 2019.pdf                        |\n",
       "\n"
      ],
      "text/plain": [
       "   gvkey headline_date mid_utc headline keydevid md         qa        \n",
       "1  NA    2010-08-12    <NA>    NA       NA       Presentati Question a\n",
       "2  NA    2010-11-10    <NA>    NA       NA       Presentati NA        \n",
       "3  NA    2019-06-27    <NA>    NA       NA       Presentati Question a\n",
       "4  NA    2019-06-27    <NA>    NA       NA       Presentati Question a\n",
       "5  NA    2019-07-15    <NA>    NA       NA       Presentati Question a\n",
       "6  NA    2019-07-16    <NA>    NA       NA       Presentati Question a\n",
       "7  NA    2019-07-16    <NA>    NA       NA       Presentati Question a\n",
       "8  NA    2019-07-16    <NA>    NA       NA       Presentati Question a\n",
       "9  NA    2019-07-17    <NA>    NA       NA       Presentati Question a\n",
       "10 NA    2019-07-17    <NA>    NA       NA       Presentati Question a\n",
       "11 NA    2019-07-18    <NA>    NA       NA       Presentati Question a\n",
       "12 NA    2019-07-18    <NA>    NA       NA       Presentati Question a\n",
       "13 NA    2019-07-18    <NA>    NA       NA       Presentati Question a\n",
       "14 NA    2019-07-19    <NA>    NA       NA       Presentati Question a\n",
       "15 NA    2019-07-23    <NA>    NA       NA       Presentati Question a\n",
       "16 NA    2019-07-23    <NA>    NA       NA       Presentati Question a\n",
       "17 NA    2019-07-23    <NA>    NA       NA       Presentati Question a\n",
       "18 NA    2019-07-23    <NA>    NA       NA       Presentati Question a\n",
       "19 NA    2019-07-24    <NA>    NA       NA       Presentati Question a\n",
       "20 NA    2019-07-24    <NA>    NA       NA       Presentati Question a\n",
       "21 NA    2019-07-24    <NA>    NA       NA       Presentati Question a\n",
       "22 NA    2019-07-25    <NA>    NA       NA       Presentati Question a\n",
       "23 NA    2019-07-25    <NA>    NA       NA       Presentati Question a\n",
       "24 NA    2019-07-25    <NA>    NA       NA       Presentati Question a\n",
       "25 NA    2019-07-26    <NA>    NA       NA       Presentati Question a\n",
       "26 NA    2019-07-26    <NA>    NA       NA       Presentati Question a\n",
       "27 NA    2019-07-29    <NA>    NA       NA       Presentati Question a\n",
       "28 NA    2019-07-30    <NA>    NA       NA       Presentati Question a\n",
       "29 NA    2019-07-30    <NA>    NA       NA       Presentati Question a\n",
       "30 NA    2019-07-30    <NA>    NA       NA       Presentati Question a\n",
       "31 NA    2019-07-30    <NA>    NA       NA       Presentati Question a\n",
       "32 NA    2019-07-31    <NA>    NA       NA       Presentati Question a\n",
       "33 NA    2019-08-01    <NA>    NA       NA       Presentati Question a\n",
       "34 NA    2019-08-01    <NA>    NA       NA       Presentati Question a\n",
       "35 NA    2019-08-01    <NA>    NA       NA       Presentati Question a\n",
       "36 NA    2019-08-02    <NA>    NA       NA       Presentati Question a\n",
       "37 NA    2019-08-02    <NA>    NA       NA       Presentati Question a\n",
       "38 NA    2019-08-06    <NA>    NA       NA       Presentati Question a\n",
       "39 NA    2019-08-08    <NA>    NA       NA       Presentati Question a\n",
       "40 NA    2019-08-08    <NA>    NA       NA       Presentati Question a\n",
       "41 NA    2019-08-14    <NA>    NA       NA       Presentati Question a\n",
       "42 NA    2019-08-20    <NA>    NA       NA       Presentati Question a\n",
       "43 NA    2019-08-22    <NA>    NA       NA       Presentati Question a\n",
       "44 NA    2019-09-24    <NA>    NA       NA       Presentati Question a\n",
       "45 NA    2019-10-15    <NA>    NA       NA       Presentati Question a\n",
       "46 NA    2019-10-15    <NA>    NA       NA       Presentati Question a\n",
       "47 NA    2019-10-15    <NA>    NA       NA       Presentati Question a\n",
       "48 NA    2019-10-15    <NA>    NA       NA       Presentati Question a\n",
       "49 NA    2019-10-15    <NA>    NA       NA       Presentati Question a\n",
       "50 NA    2019-10-16    <NA>    NA       NA       Presentati Question a\n",
       "51 NA    2019-10-16    <NA>    NA       NA       Presentati Question a\n",
       "52 NA    2019-10-17    <NA>    NA       NA       Presentati Question a\n",
       "53 NA    2019-10-18    <NA>    NA       NA       Presentati Question a\n",
       "54 NA    2019-10-18    <NA>    NA       NA       Presentati Question a\n",
       "55 NA    2019-10-22    <NA>    NA       NA       Presentati Question a\n",
       "56 NA    2019-10-22    <NA>    NA       NA       Presentati Question a\n",
       "57 NA    2019-10-22    <NA>    NA       NA       Presentati Question a\n",
       "58 NA    2019-10-22    <NA>    NA       NA       Presentati Question a\n",
       "59 NA    2019-10-23    <NA>    NA       NA       Presentati Question a\n",
       "60 NA    2019-10-23    <NA>    NA       NA       Presentati Question a\n",
       "61 NA    2019-10-23    <NA>    NA       NA       Presentati Question a\n",
       "62 NA    2019-10-24    <NA>    NA       NA       Presentati Question a\n",
       "63 NA    2019-10-24    <NA>    NA       NA       Presentati Question a\n",
       "64 NA    2019-10-24    <NA>    NA       NA       Presentati Question a\n",
       "65 NA    2019-10-25    <NA>    NA       NA       Presentati Question a\n",
       "66 NA    2019-10-25    <NA>    NA       NA       Presentati Question a\n",
       "67 NA    2019-10-28    <NA>    NA       NA       Presentati Question a\n",
       "68 NA    2019-10-28    <NA>    NA       NA       Presentati Question a\n",
       "69 NA    2019-10-29    <NA>    NA       NA       Presentati Question a\n",
       "70 NA    2019-10-29    <NA>    NA       NA       Presentati Question a\n",
       "71 NA    2019-10-29    <NA>    NA       NA       Presentati Question a\n",
       "72 NA    2019-10-30    <NA>    NA       NA       Presentati Question a\n",
       "73 NA    2019-10-30    <NA>    NA       NA       Presentati Question a\n",
       "74 NA    2019-10-31    <NA>    NA       NA       Presentati Question a\n",
       "75 NA    2019-10-31    <NA>    NA       NA       Presentati Question a\n",
       "76 NA    2019-10-31    <NA>    NA       NA       Presentati Question a\n",
       "77 NA    2019-11-01    <NA>    NA       NA       Presentati Question a\n",
       "78 NA    2019-11-01    <NA>    NA       NA       Presentati Question a\n",
       "79 NA    2019-11-01    <NA>    NA       NA       Presentati Question a\n",
       "80 NA    2019-11-07    <NA>    NA       NA       Presentati Question a\n",
       "81 NA    2019-11-07    <NA>    NA       NA       Presentati NA        \n",
       "82 NA    2019-11-13    <NA>    NA       NA       Presentati Question a\n",
       "   cc_path                                                                                                                                \n",
       "1  C:/Users/rossz/OneDrive/CC/data/ciq-dji/005073-gm/General Motors Company, Q2 2010 Earnings Call, Aug-12-2010.pdf                       \n",
       "2  C:/Users/rossz/OneDrive/CC/data/ciq-dji/005073-gm/General Motors Company, Q3 2010 Earnings Call, Nov 10, 2010.pdf                      \n",
       "3  C:/Users/rossz/OneDrive/CC/data/ciq-dji/007906-nke/NIKE, Inc., Q4 2019 Earnings Call, Jun 27, 2019.pdf                                 \n",
       "4  C:/Users/rossz/OneDrive/CC/data/ciq-dji/011264-wba/Walgreens Boots Alliance, Inc., Q3 2019 Earnings Call, Jun 27, 2019.pdf             \n",
       "5  C:/Users/rossz/OneDrive/CC/data/ciq-dji/003243-c/Citigroup Inc., Q2 2019 Earnings Call, Jul 15, 2019.pdf                               \n",
       "6  C:/Users/rossz/OneDrive/CC/data/ciq-dji/002968-jpm/JPMorgan Chase  Co., Q2 2019 Earnings Call, Jul 16, 2019.pdf                        \n",
       "7  C:/Users/rossz/OneDrive/CC/data/ciq-dji/006266-jnj/Johnson  Johnson, Q2 2019 Earnings Call, Jul 16, 2019.pdf                           \n",
       "8  C:/Users/rossz/OneDrive/CC/data/ciq-dji/114628-gs/The Goldman Sachs Group, Inc., Q2 2019 Earnings Call, Jul 16, 2019.pdf               \n",
       "9  C:/Users/rossz/OneDrive/CC/data/ciq-dji/006066-ibm/International Business Machines Corporation, Q2 2019 Earnings Call, Jul 17, 2019.pdf\n",
       "10 C:/Users/rossz/OneDrive/CC/data/ciq-dji/007647-bac/Bank of America Corporation, Q2 2019 Earnings Call, Jul 17, 2019.pdf                \n",
       "11 C:/Users/rossz/OneDrive/CC/data/ciq-dji/001300-hon/Honeywell International Inc., Q2 2019 Earnings Call, Jul 18, 2019.pdf               \n",
       "12 C:/Users/rossz/OneDrive/CC/data/ciq-dji/010903-unh/UnitedHealth Group Incorporated, Q2 2019 Earnings Call, Jul 18, 2019.pdf            \n",
       "13 C:/Users/rossz/OneDrive/CC/data/ciq-dji/012141-msft/Microsoft Corporation, Q4 2019 Earnings Call, Jul 18, 2019.pdf                     \n",
       "14 C:/Users/rossz/OneDrive/CC/data/ciq-dji/001447-axp/American Express Company, Q2 2019 Earnings Call, Jul 19, 2019.pdf                   \n",
       "15 C:/Users/rossz/OneDrive/CC/data/ciq-dji/003144-ko/The Coca-Cola Company, Q2 2019 Earnings Call, Jul 23, 2019.pdf                       \n",
       "16 C:/Users/rossz/OneDrive/CC/data/ciq-dji/010983-utx/United Technologies Corporation, Q2 2019 Earnings Call, Jul 23, 2019.pdf            \n",
       "17 C:/Users/rossz/OneDrive/CC/data/ciq-dji/062689-trv/The Travelers Companies, Inc., Q2 2019 Earnings Call, Jul 23, 2019.pdf              \n",
       "18 C:/Users/rossz/OneDrive/CC/data/ciq-dji/179534-v/Visa Inc., Q3 2019 Earnings Call, Jul 23, 2019.pdf                                    \n",
       "19 C:/Users/rossz/OneDrive/CC/data/ciq-dji/002285-ba/The Boeing Company, Q2 2019 Earnings Call, Jul 24, 2019.pdf                          \n",
       "20 C:/Users/rossz/OneDrive/CC/data/ciq-dji/002817-cat/Caterpillar Inc., Q2 2019 Earnings Call, Jul 24, 2019.pdf                           \n",
       "21 C:/Users/rossz/OneDrive/CC/data/ciq-dji/009899-t/ATT Inc., Q2 2019 Earnings Call, Jul 24, 2019.pdf                                     \n",
       "22 C:/Users/rossz/OneDrive/CC/data/ciq-dji/006008-intc/Intel Corporation, Q2 2019 Earnings Call, Jul 25, 2019.pdf                         \n",
       "23 C:/Users/rossz/OneDrive/CC/data/ciq-dji/006104-ip/International Paper Company, Q2 2019 Earnings Call, Jul 25, 2019.pdf                 \n",
       "24 C:/Users/rossz/OneDrive/CC/data/ciq-dji/007435-mmm/3M Company, Q2 2019 Earnings Call, Jul 25, 2019.pdf                                 \n",
       "25 C:/Users/rossz/OneDrive/CC/data/ciq-dji/005234-gt/The Goodyear Tire  Rubber Company, Q2 2019 Earnings Call, Jul 26, 2019.pdf           \n",
       "26 C:/Users/rossz/OneDrive/CC/data/ciq-dji/007154-mcd/McDonalds Corporation, Q2 2019 Earnings Call, Jul 26, 2019.pdf                      \n",
       "27 C:/Users/rossz/OneDrive/CC/data/ciq-dji/008530-pfe/Pfizer Inc., Q2 2019 Earnings Call, Jul 29, 2019.pdf                                \n",
       "28 C:/Users/rossz/OneDrive/CC/data/ciq-dji/001690-appl/Apple Inc., Q3 2019 Earnings Call, Jul 30, 2019.pdf                                \n",
       "29 C:/Users/rossz/OneDrive/CC/data/ciq-dji/007257-mrk/Merck  Co., Inc., Q2 2019 Earnings Call, Jul 30, 2019.pdf                           \n",
       "30 C:/Users/rossz/OneDrive/CC/data/ciq-dji/008543-mo/Altria Group, Inc., Q2 2019 Earnings Call, Jul 30, 2019.pdf                          \n",
       "31 C:/Users/rossz/OneDrive/CC/data/ciq-dji/008762-pg/The Procter  Gamble Company, Q4 2019 Earnings Call, Jul 30, 2019.pdf                 \n",
       "32 C:/Users/rossz/OneDrive/CC/data/ciq-dji/005047-ge/General Electric Company, Q2 2019 Earnings Call, Jul 31, 2019.pdf                    \n",
       "33 C:/Users/rossz/OneDrive/CC/data/ciq-dji/002136-vz/Verizon Communications Inc., Q2 2019 Earnings Call, Aug 01, 2019.pdf                 \n",
       "34 C:/Users/rossz/OneDrive/CC/data/ciq-dji/004060-dd/DuPont de Nemours, Inc., Q2 2019 Earnings Call, Aug 01, 2019.pdf                     \n",
       "35 C:/Users/rossz/OneDrive/CC/data/ciq-dji/005073-gm/General Motors Company, Q2 2019 Earnings Call, Aug 01, 2019.pdf                      \n",
       "36 C:/Users/rossz/OneDrive/CC/data/ciq-dji/002991-cvx/Chevron Corporation, Q2 2019 Earnings Call, Aug 02, 2019.pdf                        \n",
       "37 C:/Users/rossz/OneDrive/CC/data/ciq-dji/004503-xom/Exxon Mobil Corporation, Q2 2019 Earnings Call, Aug 02, 2019.pdf                    \n",
       "38 C:/Users/rossz/OneDrive/CC/data/ciq-dji/003980-dis/The Walt Disney Company, Q3 2019 Earnings Call, Aug 06, 2019.pdf                    \n",
       "39 C:/Users/rossz/OneDrive/CC/data/ciq-dji/001487-aig/American International Group, Inc., Q2 2019 Earnings Call, Aug 08, 2019.pdf         \n",
       "40 C:/Users/rossz/OneDrive/CC/data/ciq-dji/004194-kodk/Eastman Kodak Company, Q2 2019 Earnings Call, Aug 08, 2019.pdf                     \n",
       "41 C:/Users/rossz/OneDrive/CC/data/ciq-dji/020779-csco/Cisco Systems, Inc., Q4 2019 Earnings Call, Aug 14, 2019.pdf                       \n",
       "42 C:/Users/rossz/OneDrive/CC/data/ciq-dji/005680-hd/The Home Depot, Inc., Q2 2020 Earnings Call, Aug 20, 2019.pdf                        \n",
       "43 C:/Users/rossz/OneDrive/CC/data/ciq-dji/005606-hpq/HP Inc., Q3 2019 Earnings Call, Aug 22, 2019.pdf                                    \n",
       "44 C:/Users/rossz/OneDrive/CC/data/ciq-dji/007906-nke/NIKE, Inc., Q1 2020 Earnings Call, Sep 24, 2019.pdf                                 \n",
       "45 C:/Users/rossz/OneDrive/CC/data/ciq-dji/002968-jpm/JPMorgan Chase  Co., Q3 2019 Earnings Call, Oct 15, 2019.pdf                        \n",
       "46 C:/Users/rossz/OneDrive/CC/data/ciq-dji/003243-c/Citigroup Inc., Q3 2019 Earnings Call, Oct 15, 2019.pdf                               \n",
       "47 C:/Users/rossz/OneDrive/CC/data/ciq-dji/006266-jnj/Johnson  Johnson, Q3 2019 Earnings Call, Oct 15, 2019.pdf                           \n",
       "48 C:/Users/rossz/OneDrive/CC/data/ciq-dji/010903-unh/UnitedHealth Group Incorporated, Q3 2019 Earnings Call, Oct 15, 2019.pdf            \n",
       "49 C:/Users/rossz/OneDrive/CC/data/ciq-dji/114628-gs/The Goldman Sachs Group, Inc., Q3 2019 Earnings Call, Oct 15, 2019.pdf               \n",
       "50 C:/Users/rossz/OneDrive/CC/data/ciq-dji/006066-ibm/International Business Machines Corporation, Q3 2019 Earnings Call, Oct 16, 2019.pdf\n",
       "51 C:/Users/rossz/OneDrive/CC/data/ciq-dji/007647-bac/Bank of America Corporation, Q3 2019 Earnings Call, Oct 16, 2019.pdf                \n",
       "52 C:/Users/rossz/OneDrive/CC/data/ciq-dji/001300-hon/Honeywell International Inc., Q3 2019 Earnings Call, Oct 17, 2019.pdf               \n",
       "53 C:/Users/rossz/OneDrive/CC/data/ciq-dji/001447-axp/American Express Company, Q3 2019 Earnings Call, Oct 18, 2019.pdf                   \n",
       "54 C:/Users/rossz/OneDrive/CC/data/ciq-dji/003144-ko/The Coca-Cola Company, Q3 2019 Earnings Call, Oct 18, 2019.pdf                       \n",
       "55 C:/Users/rossz/OneDrive/CC/data/ciq-dji/007154-mcd/McDonalds Corporation, Q3 2019 Earnings Call, Oct 22, 2019.pdf                      \n",
       "56 C:/Users/rossz/OneDrive/CC/data/ciq-dji/008762-pg/The Procter  Gamble Company, Q1 2020 Earnings Call, Oct 22, 2019.pdf                 \n",
       "57 C:/Users/rossz/OneDrive/CC/data/ciq-dji/010983-utx/United Technologies Corporation, Q3 2019 Earnings Call, Oct 22, 2019.pdf            \n",
       "58 C:/Users/rossz/OneDrive/CC/data/ciq-dji/062689-trv/The Travelers Companies, Inc., Q3 2019 Earnings Call, Oct 22, 2019.pdf              \n",
       "59 C:/Users/rossz/OneDrive/CC/data/ciq-dji/002285-ba/The Boeing Company, Q3 2019 Earnings Call, Oct 23, 2019.pdf                          \n",
       "60 C:/Users/rossz/OneDrive/CC/data/ciq-dji/002817-cat/Caterpillar Inc., Q3 2019 Earnings Call, Oct 23, 2019.pdf                           \n",
       "61 C:/Users/rossz/OneDrive/CC/data/ciq-dji/012141-msft/Microsoft Corporation, Q1 2020 Earnings Call, Oct 23, 2019.pdf                     \n",
       "62 C:/Users/rossz/OneDrive/CC/data/ciq-dji/006008-intc/Intel Corporation, Q3 2019 Earnings Call, Oct 24, 2019.pdf                         \n",
       "63 C:/Users/rossz/OneDrive/CC/data/ciq-dji/007435-mmm/3M Company, Q3 2019 Earnings Call, Oct 24, 2019.pdf                                 \n",
       "64 C:/Users/rossz/OneDrive/CC/data/ciq-dji/179534-v/Visa Inc., Q4 2019 Earnings Call, Oct 24, 2019.pdf                                    \n",
       "65 C:/Users/rossz/OneDrive/CC/data/ciq-dji/002136-vz/Verizon Communications Inc., Q3 2019 Earnings Call, Oct 25, 2019.pdf                 \n",
       "66 C:/Users/rossz/OneDrive/CC/data/ciq-dji/005234-gt/The Goodyear Tire  Rubber Company, Q3 2019 Earnings Call, Oct 25, 2019.pdf           \n",
       "67 C:/Users/rossz/OneDrive/CC/data/ciq-dji/009899-t/ATT Inc., Q3 2019 Earnings Call, Oct 28, 2019.pdf                                     \n",
       "68 C:/Users/rossz/OneDrive/CC/data/ciq-dji/011264-wba/Walgreens Boots Alliance, Inc., Q4 2019 Earnings Call, Oct 28, 2019.pdf             \n",
       "69 C:/Users/rossz/OneDrive/CC/data/ciq-dji/005073-gm/General Motors Company, Q3 2019 Earnings Call, Oct 29, 2019.pdf                      \n",
       "70 C:/Users/rossz/OneDrive/CC/data/ciq-dji/007257-mrk/Merck  Co., Inc., Q3 2019 Earnings Call, Oct 29, 2019.pdf                           \n",
       "71 C:/Users/rossz/OneDrive/CC/data/ciq-dji/008530-pfe/Pfizer Inc., Q3 2019 Earnings Call, Oct 29, 2019.pdf                                \n",
       "72 C:/Users/rossz/OneDrive/CC/data/ciq-dji/001690-appl/Apple Inc., Q4 2019 Earnings Call, Oct 30, 2019.pdf                                \n",
       "73 C:/Users/rossz/OneDrive/CC/data/ciq-dji/005047-ge/General Electric Company, Q3 2019 Earnings Call, Oct 30, 2019.pdf                    \n",
       "74 C:/Users/rossz/OneDrive/CC/data/ciq-dji/004060-dd/DuPont de Nemours, Inc., Q3 2019 Earnings Call, Oct 31, 2019.pdf                     \n",
       "75 C:/Users/rossz/OneDrive/CC/data/ciq-dji/006104-ip/International Paper Company, Q3 2019 Earnings Call, Oct 31, 2019.pdf                 \n",
       "76 C:/Users/rossz/OneDrive/CC/data/ciq-dji/008543-mo/Altria Group, Inc., Q3 2019 Earnings Call, Oct 31, 2019.pdf                          \n",
       "77 C:/Users/rossz/OneDrive/CC/data/ciq-dji/001487-aig/American International Group, Inc., Q3 2019 Earnings Call, Nov 01, 2019.pdf         \n",
       "78 C:/Users/rossz/OneDrive/CC/data/ciq-dji/002991-cvx/Chevron Corporation, Q3 2019 Earnings Call, Nov 01, 2019.pdf                        \n",
       "79 C:/Users/rossz/OneDrive/CC/data/ciq-dji/004503-xom/Exxon Mobil Corporation, Q3 2019 Earnings Call, Nov 01, 2019.pdf                    \n",
       "80 C:/Users/rossz/OneDrive/CC/data/ciq-dji/003980-dis/The Walt Disney Company, Q4 2019 Earnings Call, Nov 07, 2019.pdf                    \n",
       "81 C:/Users/rossz/OneDrive/CC/data/ciq-dji/004194-kodk/Eastman Kodak Company, Q3 2019 Earnings Call, Nov 07, 2019.pdf                     \n",
       "82 C:/Users/rossz/OneDrive/CC/data/ciq-dji/020779-csco/Cisco Systems, Inc., Q1 2020 Earnings Call, Nov 13, 2019.pdf                       "
      ]
     },
     "metadata": {},
     "output_type": "display_data"
    }
   ],
   "source": [
    "cc[is.na(gvkey)][, ':='(md=str_sub(md, 1, 10), qa=str_sub(qa, 1, 10))][]"
   ]
  },
  {
   "cell_type": "code",
   "execution_count": 19,
   "metadata": {
    "scrolled": true
   },
   "outputs": [
    {
     "data": {
      "text/html": [
       "<table>\n",
       "<thead><tr><th scope=col>gvkey</th><th scope=col>ticker</th><th scope=col>permno</th><th scope=col>conm</th><th scope=col>fyearq</th><th scope=col>fqtr</th><th scope=col>datadate</th><th scope=col>fyr</th><th scope=col>rdq</th><th scope=col>rdq1</th><th scope=col>leadrdq1</th><th scope=col>repdats</th><th scope=col>mcap</th><th scope=col>medest</th><th scope=col>act</th><th scope=col>numest</th><th scope=col>basis</th><th scope=col>sue1</th><th scope=col>sue2</th><th scope=col>sue3</th><th scope=col>se</th><th scope=col>headline</th><th scope=col>keydevid</th></tr></thead>\n",
       "<tbody>\n",
       "\t<tr><td>001300                                                          </td><td>ALD                                                             </td><td>10145                                                           </td><td>HONEYWELL INTERNATIONAL INC                                     </td><td>2007                                                            </td><td>2                                                               </td><td>2007-06-30                                                      </td><td>12                                                              </td><td>2007-07-19                                                      </td><td>2007-07-19                                                      </td><td>2007-10-19                                                      </td><td>2007-07-19                                                      </td><td>42119.73                                                        </td><td>0.76                                                            </td><td>0.78                                                            </td><td>16                                                              </td><td>D                                                               </td><td>0.002665245                                                     </td><td>0.002919561                                                     </td><td>0.000355366                                                     </td><td>0.01385928                                                      </td><td>Honeywell International Inc., Q2 2007 Earnings Call, Jul-19-2007</td><td>4527845                                                         </td></tr>\n",
       "</tbody>\n",
       "</table>\n"
      ],
      "text/latex": [
       "\\begin{tabular}{r|lllllllllllllllllllllll}\n",
       " gvkey & ticker & permno & conm & fyearq & fqtr & datadate & fyr & rdq & rdq1 & leadrdq1 & repdats & mcap & medest & act & numest & basis & sue1 & sue2 & sue3 & se & headline & keydevid\\\\\n",
       "\\hline\n",
       "\t 001300                                                           & ALD                                                              & 10145                                                            & HONEYWELL INTERNATIONAL INC                                      & 2007                                                             & 2                                                                & 2007-06-30                                                       & 12                                                               & 2007-07-19                                                       & 2007-07-19                                                       & 2007-10-19                                                       & 2007-07-19                                                       & 42119.73                                                         & 0.76                                                             & 0.78                                                             & 16                                                               & D                                                                & 0.002665245                                                      & 0.002919561                                                      & 0.000355366                                                      & 0.01385928                                                       & Honeywell International Inc., Q2 2007 Earnings Call, Jul-19-2007 & 4527845                                                         \\\\\n",
       "\\end{tabular}\n"
      ],
      "text/markdown": [
       "\n",
       "| gvkey | ticker | permno | conm | fyearq | fqtr | datadate | fyr | rdq | rdq1 | leadrdq1 | repdats | mcap | medest | act | numest | basis | sue1 | sue2 | sue3 | se | headline | keydevid |\n",
       "|---|---|---|---|---|---|---|---|---|---|---|---|---|---|---|---|---|---|---|---|---|---|---|\n",
       "| 001300                                                           | ALD                                                              | 10145                                                            | HONEYWELL INTERNATIONAL INC                                      | 2007                                                             | 2                                                                | 2007-06-30                                                       | 12                                                               | 2007-07-19                                                       | 2007-07-19                                                       | 2007-10-19                                                       | 2007-07-19                                                       | 42119.73                                                         | 0.76                                                             | 0.78                                                             | 16                                                               | D                                                                | 0.002665245                                                      | 0.002919561                                                      | 0.000355366                                                      | 0.01385928                                                       | Honeywell International Inc., Q2 2007 Earnings Call, Jul-19-2007 | 4527845                                                          |\n",
       "\n"
      ],
      "text/plain": [
       "  gvkey  ticker permno conm                        fyearq fqtr datadate   fyr\n",
       "1 001300 ALD    10145  HONEYWELL INTERNATIONAL INC 2007   2    2007-06-30 12 \n",
       "  rdq        rdq1       leadrdq1   repdats    mcap     medest act  numest basis\n",
       "1 2007-07-19 2007-07-19 2007-10-19 2007-07-19 42119.73 0.76   0.78 16     D    \n",
       "  sue1        sue2        sue3        se        \n",
       "1 0.002665245 0.002919561 0.000355366 0.01385928\n",
       "  headline                                                         keydevid\n",
       "1 Honeywell International Inc., Q2 2007 Earnings Call, Jul-19-2007 4527845 "
      ]
     },
     "metadata": {},
     "output_type": "display_data"
    }
   ],
   "source": [
    "x = sue[cc[, .(gvkey, headline_date, headline, keydevid)],\n",
    "     on=c('gvkey', 'rdq==headline_date')]\n",
    "x[1]"
   ]
  },
  {
   "cell_type": "markdown",
   "metadata": {
    "toc-hr-collapsed": true
   },
   "source": [
    "# Backup"
   ]
  },
  {
   "cell_type": "markdown",
   "metadata": {},
   "source": [
    "## `cc_transcript`"
   ]
  },
  {
   "cell_type": "code",
   "execution_count": 8,
   "metadata": {
    "scrolled": true
   },
   "outputs": [
    {
     "name": "stdout",
     "output_type": "stream",
     "text": [
      "N of all transcripts: 0 \n",
      "N of Earnings Call: 0 \n"
     ]
    }
   ],
   "source": [
    "cc_paths = list.files(\n",
    "    'C:/Users/rossz/OneDrive/CC/data/ciq-dji',\n",
    "    recursive=T,\n",
    "    pattern='.pdf$',\n",
    "    full=T)\n",
    "cat('N of all transcripts:', length(cc_paths), '\\n')\n",
    "\n",
    "cc_paths = cc_paths[str_detect(cc_paths, regex('Earnings? Call', ignore=T))]\n",
    "cat('N of Earnings Call:', length(cc_paths), '\\n')"
   ]
  },
  {
   "cell_type": "code",
   "execution_count": 3,
   "metadata": {
    "scrolled": true
   },
   "outputs": [
    {
     "name": "stdout",
     "output_type": "stream",
     "text": [
      "-cc_transcripts- saved  (8.16 secs)\n"
     ]
    }
   ],
   "source": [
    "parse_one_page <- function(cc_path) {\n",
    "    obs = list()\n",
    "    \n",
    "    cc = pdf_text(cc_path)\n",
    "    n_page = length(cc)\n",
    "    \n",
    "    # cc_filename\n",
    "    cc_filename = str_match(\n",
    "        cc_path,\n",
    "        regex('/([^/]+?)\\\\.pdf', ignore=T))[,2]\n",
    "    \n",
    "    # remove header\n",
    "    header = str_extract(cc[n_page], '^.+(\\\\r\\\\n)*20\\\\d{2}\\\\r\\\\n')\n",
    "    cc = str_replace_all(cc, fixed(header), '')\n",
    "    \n",
    "    # remove footer\n",
    "    cc = str_replace_all(cc, '\\\\r\\\\n.+\\\\r\\\\n.+\\\\r\\\\n$', '')\n",
    "    \n",
    "    # determin which page is TOC\n",
    "    toc_pagenum = str_which(cc, regex('contents[\\\\s\\\\S]+table of contents', ignore=T))\n",
    "    if (length(toc_pagenum) > 1) {\n",
    "        stop('len(toc_pagenum) > 1 !!')\n",
    "    }\n",
    "    \n",
    "    # extract pagenum\n",
    "    toc_page = cc[toc_pagenum]\n",
    "    toc_participants = str_match(\n",
    "        toc_page, \n",
    "        regex('contents[\\\\s\\\\S]+table of contents[\\\\s.]+(call participants.+)?', ignore=T))[,2]\n",
    "    participants_pagenum = as.integer(str_match(toc_participants, '[\\\\. ]+(\\\\d+)')[,2])\n",
    "    \n",
    "    toc_md = str_match(\n",
    "        toc_page,\n",
    "        regex('contents[\\\\s\\\\S]+table of contents[\\\\s\\\\S]+(presentation.+)', ignore=T))[,2]\n",
    "    md_pagenum = as.integer(str_match(toc_md, '[\\\\. ]+(\\\\d+)')[,2])\n",
    "    \n",
    "    toc_qa = str_match(\n",
    "        toc_page,\n",
    "        regex('contents[\\\\s\\\\S]+table of contents[\\\\s\\\\S]+(question and answer.+)', ignore=T))[,2]\n",
    "    qa_pagenum = as.integer(str_match(toc_qa, '[\\\\. ]+(\\\\d+)')[,2])\n",
    "    \n",
    "    # extract {md, qa}\n",
    "    if (!is.na(qa_pagenum)) {\n",
    "        md = str_c(cc[md_pagenum:(qa_pagenum-1)], collapse=' ') %>% str_replace_all('\\\\r\\\\n', ' ')\n",
    "        qa = str_c(cc[qa_pagenum:(n_page-1)], collapse='') %>% str_replace_all('\\\\r\\\\n', ' ')\n",
    "\n",
    "        # test if `md` and `qa` parsed successfully\n",
    "        # if failed, parse again\n",
    "        if ((str_sub(md, 1, 12) != 'Presentation') | (str_sub(qa, 1, 19) != 'Question and Answer')) {\n",
    "            md_pagenum = str_which(cc, '^Presentation')\n",
    "            qa_pagenum = str_which(cc, '^Question and Answer')\n",
    "            \n",
    "            md = str_c(cc[md_pagenum:(qa_pagenum-1)], collapse='') %>% str_replace_all('\\\\r\\\\n', ' ')\n",
    "            qa = str_c(cc[qa_pagenum:(n_page-1)], collapse='') %>% str_replace_all('\\\\r\\\\n', ' ')\n",
    "            \n",
    "            if ((str_sub(md, 1, 12) != 'Presentation') | (str_sub(qa, 1, 19) != 'Question and Answer')) {\n",
    "                cat('MD/QA parsing error!:', cc_path, '\\n')\n",
    "                cat('\\t MD:', str_sub(md, 1, 13), '\\n')\n",
    "                cat('\\t QA:', str_sub(qa, 1, 20), '\\n')\n",
    "                # cat('\\t New MD:', str_sub(md, 1, 13), '\\n')\n",
    "                # cat('\\t New QA:', str_sub(qa, 1, 20), '\\n')\n",
    "            }\n",
    "\n",
    "        }\n",
    "        \n",
    "    } else {\n",
    "        md = str_c(cc[md_pagenum:(n_page-1)], collapse=' ') %>% str_replace_all('\\\\r\\\\n', ' ')\n",
    "        qa = NA\n",
    "        if (str_sub(md, 1, 12) != 'Presentation') {\n",
    "            md_pagenum = str_which(cc, '^Presentation')\n",
    "            md = str_c(cc[md_pagenum:(n_page-1)], collapse=' ') %>% str_replace_all('\\\\r\\\\n', ' ')\n",
    "            \n",
    "            if (str_sub(md, 1, 12) != 'Presentation') {\n",
    "                cat('MD parsing error!:', cc_path, '\\n')\n",
    "                cat('\\t MD:', str_sub(md, 1, 13), '\\n')\n",
    "                cat('\\t New MD:', str_sub(md, 1, 13), '\\n')\n",
    "            }\n",
    "        }\n",
    "    }\n",
    "\n",
    "    # get date\n",
    "    date=mdy(\n",
    "      str_match(cc_filename, regex('Call, (.+20\\\\d{2})', ignore=T))[,2])\n",
    "    \n",
    "    # prepare output\n",
    "    obs$cc_filename = cc_filename\n",
    "    obs$date = date\n",
    "    # obs$participants_pagenum = participants_pagenum\n",
    "    # obs$md_pagenum = md_pagenum\n",
    "    # obs$qa_pagenum = qa_pagenum\n",
    "    obs$md = md\n",
    "    obs$qa = qa\n",
    "    obs$cc_path = cc_path\n",
    "    obs\n",
    "    \n",
    "}\n",
    "\n",
    "# parse all pdf\n",
    "cc_transcripts = list()\n",
    "# for (i in sample(1:length(cc_paths), 10)) {\n",
    "for (i in 1:length(cc_paths)) {\n",
    "    cc_transcripts[[i]] = parse_one_page(cc_paths[i])\n",
    "}\n",
    "\n",
    "cc_transcripts = rbindlist(cc_transcripts)[date <= EDATE]\n",
    "\n",
    "sv(cc_transcripts)"
   ]
  },
  {
   "cell_type": "code",
   "execution_count": 4,
   "metadata": {
    "scrolled": true
   },
   "outputs": [
    {
     "data": {
      "text/html": [
       "<table>\n",
       "<thead><tr><th scope=col>cc_filename</th><th scope=col>date</th><th scope=col>md</th><th scope=col>qa</th><th scope=col>cc_path</th></tr></thead>\n",
       "<tbody>\n",
       "\t<tr><td>Honeywell International Inc., Q1 2008 Earnings Call, Apr-18-2008                                                       </td><td>2008-04-18                                                                                                             </td><td>Presentation Operato                                                                                                   </td><td>Question and Answer                                                                                                    </td><td>C:/Users/rossz/OneDrive/CC/data/ciq-dji/001300-hon/Honeywell International Inc., Q1 2008 Earnings Call, Apr-18-2008.pdf</td></tr>\n",
       "</tbody>\n",
       "</table>\n"
      ],
      "text/latex": [
       "\\begin{tabular}{r|lllll}\n",
       " cc\\_filename & date & md & qa & cc\\_path\\\\\n",
       "\\hline\n",
       "\t Honeywell International Inc., Q1 2008 Earnings Call, Apr-18-2008                                                        & 2008-04-18                                                                                                              & Presentation Operato                                                                                                    & Question and Answer                                                                                                     & C:/Users/rossz/OneDrive/CC/data/ciq-dji/001300-hon/Honeywell International Inc., Q1 2008 Earnings Call, Apr-18-2008.pdf\\\\\n",
       "\\end{tabular}\n"
      ],
      "text/markdown": [
       "\n",
       "| cc_filename | date | md | qa | cc_path |\n",
       "|---|---|---|---|---|\n",
       "| Honeywell International Inc., Q1 2008 Earnings Call, Apr-18-2008                                                        | 2008-04-18                                                                                                              | Presentation Operato                                                                                                    | Question and Answer                                                                                                     | C:/Users/rossz/OneDrive/CC/data/ciq-dji/001300-hon/Honeywell International Inc., Q1 2008 Earnings Call, Apr-18-2008.pdf |\n",
       "\n"
      ],
      "text/plain": [
       "  cc_filename                                                      date      \n",
       "1 Honeywell International Inc., Q1 2008 Earnings Call, Apr-18-2008 2008-04-18\n",
       "  md                   qa                  \n",
       "1 Presentation Operato Question and Answer \n",
       "  cc_path                                                                                                                \n",
       "1 C:/Users/rossz/OneDrive/CC/data/ciq-dji/001300-hon/Honeywell International Inc., Q1 2008 Earnings Call, Apr-18-2008.pdf"
      ]
     },
     "metadata": {},
     "output_type": "display_data"
    }
   ],
   "source": [
    "cc_transcripts[1][, ':='(md = str_sub(md, 1, 20), qa = str_sub(qa, 1, 20))][]"
   ]
  },
  {
   "cell_type": "markdown",
   "metadata": {},
   "source": [
    "## `cc_meta`"
   ]
  },
  {
   "cell_type": "code",
   "execution_count": 3,
   "metadata": {},
   "outputs": [
    {
     "name": "stdout",
     "output_type": "stream",
     "text": [
      "-ciq_wrds_keydev- loaded  (11.63 secs)\n",
      "-ciq_keydev- loaded  (53.35 secs)\n",
      "-comp_security- loaded  (0.4 secs)\n"
     ]
    },
    {
     "data": {
      "text/plain": [
       "   user  system elapsed \n",
       " 53.370   1.258  68.959 "
      ]
     },
     "metadata": {},
     "output_type": "display_data"
    }
   ],
   "source": [
    "system.time({\n",
    "ld(ciq_wrds_keydev, path=WRDS_DOWNLOAD_DIR)\n",
    "ld(ciq_keydev, path=WRDS_DOWNLOAD_DIR)\n",
    "ld(comp_security, path=WRDS_DOWNLOAD_DIR)\n",
    "\n",
    "ciq_wrds_keydev = ciq_wrds_keydev[as.Date(mostimportantdateutc)>=as.Date('2005-01-01')]\n",
    "ciq_keydev = ciq_keydev[as.Date(mostimportantdateutc)>=as.Date('2005-01-01')]\n",
    "})"
   ]
  },
  {
   "cell_type": "code",
   "execution_count": 1,
   "metadata": {},
   "outputs": [
    {
     "ename": "ERROR",
     "evalue": "Error in eval(expr, envir, enclos): object 'ciq_keydev' not found\n",
     "output_type": "error",
     "traceback": [
      "Error in eval(expr, envir, enclos): object 'ciq_keydev' not found\nTraceback:\n"
     ]
    }
   ],
   "source": [
    "# `announceddate` (ciq_keydev) and `announcedate` (ciq_wrds_keydev) are the same\n",
    "# same for `entereddate` and `enterdate`\n",
    "\n",
    "extract_headline_date <- function(headline) {\n",
    "    regex_date = regex('results.+?((January|February|March|April|May|June|July|August|September|October|November|December) ?\\\\d+,? ?20\\\\d{2}).*?;?', ignore=T)\n",
    "    date = str_match(headline, regex_date)[,2]\n",
    "    date = mdy(date)\n",
    "}\n",
    "\n",
    "cc_meta = ciq_keydev[ciq_wrds_keydev[keydeveventtypeid %in% c(48)],\n",
    "     on=.(keydevid), nomatch=0\n",
    "    ][, .(keydeveventtypeid,\n",
    "      headline, \n",
    "      headline_date=mdy(\n",
    "        str_match(headline, regex('Calls?, (.+?20\\\\d{2})', ignore=T))[,2]),\n",
    "      announcedate, \n",
    "      companyname, gvkey, keydevid,\n",
    "      mostimportantdateutc)\n",
    "    ][is.na(headline_date), ':='(headline_date=as.Date(with_tz(mostimportantdateutc, 'America/New_York')))\n",
    "    ][, ':='(headline_year=year(headline_date), headline_month=month(headline_date))]\n",
    "setkey(cc_meta, headline_year, headline_month)\n",
    "\n",
    "sv(cc_meta)\n",
    "nrow(cc_meta)"
   ]
  },
  {
   "cell_type": "code",
   "execution_count": 66,
   "metadata": {},
   "outputs": [
    {
     "data": {
      "text/html": [
       "<table>\n",
       "<thead><tr><th scope=col>keydeveventtypeid</th><th scope=col>headline</th><th scope=col>headline_date</th><th scope=col>announcedate</th><th scope=col>companyname</th><th scope=col>gvkey</th><th scope=col>keydevid</th><th scope=col>mostimportantdateutc</th><th scope=col>headline_year</th><th scope=col>headline_month</th></tr></thead>\n",
       "<tbody>\n",
       "\t<tr><td>48                                                </td><td>AT&amp;T Corp., Q4 2004 Earnings Call, Jan-20-2005</td><td>2005-01-20                                        </td><td>2005-01-06                                        </td><td>AT&amp;T Corp.                                    </td><td>001581                                            </td><td>1031931                                           </td><td>2005-01-20 13:15:00                               </td><td>2005                                              </td><td>1                                                 </td></tr>\n",
       "</tbody>\n",
       "</table>\n"
      ],
      "text/latex": [
       "\\begin{tabular}{r|llllllllll}\n",
       " keydeveventtypeid & headline & headline\\_date & announcedate & companyname & gvkey & keydevid & mostimportantdateutc & headline\\_year & headline\\_month\\\\\n",
       "\\hline\n",
       "\t 48                                               & AT\\&T Corp., Q4 2004 Earnings Call, Jan-20-2005 & 2005-01-20                                       & 2005-01-06                                       & AT\\&T Corp.                                     & 001581                                           & 1031931                                          & 2005-01-20 13:15:00                              & 2005                                             & 1                                               \\\\\n",
       "\\end{tabular}\n"
      ],
      "text/markdown": [
       "\n",
       "| keydeveventtypeid | headline | headline_date | announcedate | companyname | gvkey | keydevid | mostimportantdateutc | headline_year | headline_month |\n",
       "|---|---|---|---|---|---|---|---|---|---|\n",
       "| 48                                             | AT&T Corp., Q4 2004 Earnings Call, Jan-20-2005 | 2005-01-20                                     | 2005-01-06                                     | AT&T Corp.                                     | 001581                                         | 1031931                                        | 2005-01-20 13:15:00                            | 2005                                           | 1                                              |\n",
       "\n"
      ],
      "text/plain": [
       "  keydeveventtypeid headline                                      \n",
       "1 48                AT&T Corp., Q4 2004 Earnings Call, Jan-20-2005\n",
       "  headline_date announcedate companyname gvkey  keydevid mostimportantdateutc\n",
       "1 2005-01-20    2005-01-06   AT&T Corp.  001581 1031931  2005-01-20 13:15:00 \n",
       "  headline_year headline_month\n",
       "1 2005          1             "
      ]
     },
     "metadata": {},
     "output_type": "display_data"
    }
   ],
   "source": [
    "cc_meta[1]"
   ]
  },
  {
   "cell_type": "markdown",
   "metadata": {},
   "source": [
    "## `cc_transcripts` + `cc_meta`"
   ]
  },
  {
   "cell_type": "code",
   "execution_count": 2,
   "metadata": {},
   "outputs": [
    {
     "name": "stdout",
     "output_type": "stream",
     "text": [
      "-cc_transcripts- loaded  (0.96 secs)\n",
      "-cc_meta- loaded  (1.49 secs)\n"
     ]
    }
   ],
   "source": [
    "ld(cc_transcripts)\n",
    "ld(cc_meta)"
   ]
  },
  {
   "cell_type": "code",
   "execution_count": 50,
   "metadata": {},
   "outputs": [
    {
     "name": "stdout",
     "output_type": "stream",
     "text": [
      "-cc- saved  (7.78 secs)\n"
     ]
    }
   ],
   "source": [
    "match_transcripts_and_meta <- function(cc_transcripts, cc_meta) {\n",
    "    len_cc_transcripts = nrow(cc_transcripts)\n",
    "    \n",
    "    matched_headline = character(len_cc_transcripts)\n",
    "    matched_headline_date = rep(as.Date('1970-01-01'), len_cc_transcripts)\n",
    "    matched_keydevid = numeric(len_cc_transcripts)\n",
    "    matched_gvkey = character(len_cc_transcripts)\n",
    "    matched_mid_utc = rep(as.POSIXct('1970-01-01'), len_cc_transcripts)\n",
    "    \n",
    "    for (i in 1:len_cc_transcripts) {\n",
    "        transcript_date = cc_transcripts[i, date]\n",
    "        transcript_year = year(transcript_date)\n",
    "        transcript_month = month(transcript_date)\n",
    "        \n",
    "        cc_filename = cc_transcripts[i, cc_filename]\n",
    "        lookup = cc_meta[headline_year==transcript_year & headline_month==transcript_month]\n",
    "        # lookup = cc_meta\n",
    "        rowid = amatch(\n",
    "            toupper(cc_filename),\n",
    "            toupper(lookup[, headline]),\n",
    "            method='dl',\n",
    "            maxDist=5,\n",
    "            nthread=4)\n",
    "        matched_headline[i] = lookup[rowid, headline]\n",
    "        matched_keydevid[i] = lookup[rowid, keydevid]\n",
    "        matched_gvkey[i] = lookup[rowid, gvkey]\n",
    "        matched_mid_utc[i] = lookup[rowid, mostimportantdateutc]\n",
    "        matched_headline_date[i] = lookup[rowid, headline_date]\n",
    "    }\n",
    "    \n",
    "    res = cc_transcripts[, .(gvkey=matched_gvkey,\n",
    "         headline_date=matched_headline_date,\n",
    "         mid_utc=matched_mid_utc,\n",
    "         headline=matched_headline,\n",
    "         keydevid=matched_keydevid,\n",
    "         md, qa,\n",
    "         cc_path)\n",
    "    ][order(gvkey, headline_date)]\n",
    "}\n",
    "\n",
    "cc = match_transcripts_and_meta(cc_transcripts, cc_meta)\n",
    "sv(cc)"
   ]
  },
  {
   "cell_type": "code",
   "execution_count": 3,
   "metadata": {},
   "outputs": [
    {
     "name": "stdout",
     "output_type": "stream",
     "text": [
      "-cc- loaded  (0.56 secs)\n"
     ]
    }
   ],
   "source": [
    "ld(cc)"
   ]
  },
  {
   "cell_type": "code",
   "execution_count": 5,
   "metadata": {
    "scrolled": true
   },
   "outputs": [
    {
     "data": {
      "text/html": [
       "<table>\n",
       "<thead><tr><th scope=col>gvkey</th><th scope=col>headline_date</th><th scope=col>mid_utc</th><th scope=col>headline</th><th scope=col>keydevid</th><th scope=col>md</th><th scope=col>qa</th><th scope=col>cc_path</th></tr></thead>\n",
       "<tbody>\n",
       "\t<tr><td>NA                                                                                                                                     </td><td>2010-08-12                                                                                                                             </td><td>NA                                                                                                                                     </td><td>NA                                                                                                                                     </td><td>NA                                                                                                                                     </td><td>Presentati                                                                                                                             </td><td>Question a                                                                                                                             </td><td>C:/Users/rossz/OneDrive/CC/data/ciq-dji/005073-gm/General Motors Company, Q2 2010 Earnings Call, Aug-12-2010.pdf                       </td></tr>\n",
       "\t<tr><td>NA                                                                                                                                     </td><td>2010-11-10                                                                                                                             </td><td>NA                                                                                                                                     </td><td>NA                                                                                                                                     </td><td>NA                                                                                                                                     </td><td>Presentati                                                                                                                             </td><td>NA                                                                                                                                     </td><td>C:/Users/rossz/OneDrive/CC/data/ciq-dji/005073-gm/General Motors Company, Q3 2010 Earnings Call, Nov 10, 2010.pdf                      </td></tr>\n",
       "\t<tr><td>NA                                                                                                                                     </td><td>2019-06-27                                                                                                                             </td><td>NA                                                                                                                                     </td><td>NA                                                                                                                                     </td><td>NA                                                                                                                                     </td><td>Presentati                                                                                                                             </td><td>Question a                                                                                                                             </td><td>C:/Users/rossz/OneDrive/CC/data/ciq-dji/007906-nke/NIKE, Inc., Q4 2019 Earnings Call, Jun 27, 2019.pdf                                 </td></tr>\n",
       "\t<tr><td>NA                                                                                                                                     </td><td>2019-06-27                                                                                                                             </td><td>NA                                                                                                                                     </td><td>NA                                                                                                                                     </td><td>NA                                                                                                                                     </td><td>Presentati                                                                                                                             </td><td>Question a                                                                                                                             </td><td>C:/Users/rossz/OneDrive/CC/data/ciq-dji/011264-wba/Walgreens Boots Alliance, Inc., Q3 2019 Earnings Call, Jun 27, 2019.pdf             </td></tr>\n",
       "\t<tr><td>NA                                                                                                                                     </td><td>2019-07-15                                                                                                                             </td><td>NA                                                                                                                                     </td><td>NA                                                                                                                                     </td><td>NA                                                                                                                                     </td><td>Presentati                                                                                                                             </td><td>Question a                                                                                                                             </td><td>C:/Users/rossz/OneDrive/CC/data/ciq-dji/003243-c/Citigroup Inc., Q2 2019 Earnings Call, Jul 15, 2019.pdf                               </td></tr>\n",
       "\t<tr><td>NA                                                                                                                                     </td><td>2019-07-16                                                                                                                             </td><td>NA                                                                                                                                     </td><td>NA                                                                                                                                     </td><td>NA                                                                                                                                     </td><td>Presentati                                                                                                                             </td><td>Question a                                                                                                                             </td><td>C:/Users/rossz/OneDrive/CC/data/ciq-dji/002968-jpm/JPMorgan Chase  Co., Q2 2019 Earnings Call, Jul 16, 2019.pdf                        </td></tr>\n",
       "\t<tr><td>NA                                                                                                                                     </td><td>2019-07-16                                                                                                                             </td><td>NA                                                                                                                                     </td><td>NA                                                                                                                                     </td><td>NA                                                                                                                                     </td><td>Presentati                                                                                                                             </td><td>Question a                                                                                                                             </td><td>C:/Users/rossz/OneDrive/CC/data/ciq-dji/006266-jnj/Johnson  Johnson, Q2 2019 Earnings Call, Jul 16, 2019.pdf                           </td></tr>\n",
       "\t<tr><td>NA                                                                                                                                     </td><td>2019-07-16                                                                                                                             </td><td>NA                                                                                                                                     </td><td>NA                                                                                                                                     </td><td>NA                                                                                                                                     </td><td>Presentati                                                                                                                             </td><td>Question a                                                                                                                             </td><td>C:/Users/rossz/OneDrive/CC/data/ciq-dji/114628-gs/The Goldman Sachs Group, Inc., Q2 2019 Earnings Call, Jul 16, 2019.pdf               </td></tr>\n",
       "\t<tr><td>NA                                                                                                                                     </td><td>2019-07-17                                                                                                                             </td><td>NA                                                                                                                                     </td><td>NA                                                                                                                                     </td><td>NA                                                                                                                                     </td><td>Presentati                                                                                                                             </td><td>Question a                                                                                                                             </td><td>C:/Users/rossz/OneDrive/CC/data/ciq-dji/006066-ibm/International Business Machines Corporation, Q2 2019 Earnings Call, Jul 17, 2019.pdf</td></tr>\n",
       "\t<tr><td>NA                                                                                                                                     </td><td>2019-07-17                                                                                                                             </td><td>NA                                                                                                                                     </td><td>NA                                                                                                                                     </td><td>NA                                                                                                                                     </td><td>Presentati                                                                                                                             </td><td>Question a                                                                                                                             </td><td>C:/Users/rossz/OneDrive/CC/data/ciq-dji/007647-bac/Bank of America Corporation, Q2 2019 Earnings Call, Jul 17, 2019.pdf                </td></tr>\n",
       "\t<tr><td>NA                                                                                                                                     </td><td>2019-07-18                                                                                                                             </td><td>NA                                                                                                                                     </td><td>NA                                                                                                                                     </td><td>NA                                                                                                                                     </td><td>Presentati                                                                                                                             </td><td>Question a                                                                                                                             </td><td>C:/Users/rossz/OneDrive/CC/data/ciq-dji/001300-hon/Honeywell International Inc., Q2 2019 Earnings Call, Jul 18, 2019.pdf               </td></tr>\n",
       "\t<tr><td>NA                                                                                                                                     </td><td>2019-07-18                                                                                                                             </td><td>NA                                                                                                                                     </td><td>NA                                                                                                                                     </td><td>NA                                                                                                                                     </td><td>Presentati                                                                                                                             </td><td>Question a                                                                                                                             </td><td>C:/Users/rossz/OneDrive/CC/data/ciq-dji/010903-unh/UnitedHealth Group Incorporated, Q2 2019 Earnings Call, Jul 18, 2019.pdf            </td></tr>\n",
       "\t<tr><td>NA                                                                                                                                     </td><td>2019-07-18                                                                                                                             </td><td>NA                                                                                                                                     </td><td>NA                                                                                                                                     </td><td>NA                                                                                                                                     </td><td>Presentati                                                                                                                             </td><td>Question a                                                                                                                             </td><td>C:/Users/rossz/OneDrive/CC/data/ciq-dji/012141-msft/Microsoft Corporation, Q4 2019 Earnings Call, Jul 18, 2019.pdf                     </td></tr>\n",
       "\t<tr><td>NA                                                                                                                                     </td><td>2019-07-19                                                                                                                             </td><td>NA                                                                                                                                     </td><td>NA                                                                                                                                     </td><td>NA                                                                                                                                     </td><td>Presentati                                                                                                                             </td><td>Question a                                                                                                                             </td><td>C:/Users/rossz/OneDrive/CC/data/ciq-dji/001447-axp/American Express Company, Q2 2019 Earnings Call, Jul 19, 2019.pdf                   </td></tr>\n",
       "\t<tr><td>NA                                                                                                                                     </td><td>2019-07-23                                                                                                                             </td><td>NA                                                                                                                                     </td><td>NA                                                                                                                                     </td><td>NA                                                                                                                                     </td><td>Presentati                                                                                                                             </td><td>Question a                                                                                                                             </td><td>C:/Users/rossz/OneDrive/CC/data/ciq-dji/003144-ko/The Coca-Cola Company, Q2 2019 Earnings Call, Jul 23, 2019.pdf                       </td></tr>\n",
       "\t<tr><td>NA                                                                                                                                     </td><td>2019-07-23                                                                                                                             </td><td>NA                                                                                                                                     </td><td>NA                                                                                                                                     </td><td>NA                                                                                                                                     </td><td>Presentati                                                                                                                             </td><td>Question a                                                                                                                             </td><td>C:/Users/rossz/OneDrive/CC/data/ciq-dji/010983-utx/United Technologies Corporation, Q2 2019 Earnings Call, Jul 23, 2019.pdf            </td></tr>\n",
       "\t<tr><td>NA                                                                                                                                     </td><td>2019-07-23                                                                                                                             </td><td>NA                                                                                                                                     </td><td>NA                                                                                                                                     </td><td>NA                                                                                                                                     </td><td>Presentati                                                                                                                             </td><td>Question a                                                                                                                             </td><td>C:/Users/rossz/OneDrive/CC/data/ciq-dji/062689-trv/The Travelers Companies, Inc., Q2 2019 Earnings Call, Jul 23, 2019.pdf              </td></tr>\n",
       "\t<tr><td>NA                                                                                                                                     </td><td>2019-07-23                                                                                                                             </td><td>NA                                                                                                                                     </td><td>NA                                                                                                                                     </td><td>NA                                                                                                                                     </td><td>Presentati                                                                                                                             </td><td>Question a                                                                                                                             </td><td>C:/Users/rossz/OneDrive/CC/data/ciq-dji/179534-v/Visa Inc., Q3 2019 Earnings Call, Jul 23, 2019.pdf                                    </td></tr>\n",
       "\t<tr><td>NA                                                                                                                                     </td><td>2019-07-24                                                                                                                             </td><td>NA                                                                                                                                     </td><td>NA                                                                                                                                     </td><td>NA                                                                                                                                     </td><td>Presentati                                                                                                                             </td><td>Question a                                                                                                                             </td><td>C:/Users/rossz/OneDrive/CC/data/ciq-dji/002285-ba/The Boeing Company, Q2 2019 Earnings Call, Jul 24, 2019.pdf                          </td></tr>\n",
       "\t<tr><td>NA                                                                                                                                     </td><td>2019-07-24                                                                                                                             </td><td>NA                                                                                                                                     </td><td>NA                                                                                                                                     </td><td>NA                                                                                                                                     </td><td>Presentati                                                                                                                             </td><td>Question a                                                                                                                             </td><td>C:/Users/rossz/OneDrive/CC/data/ciq-dji/002817-cat/Caterpillar Inc., Q2 2019 Earnings Call, Jul 24, 2019.pdf                           </td></tr>\n",
       "\t<tr><td>NA                                                                                                                                     </td><td>2019-07-24                                                                                                                             </td><td>NA                                                                                                                                     </td><td>NA                                                                                                                                     </td><td>NA                                                                                                                                     </td><td>Presentati                                                                                                                             </td><td>Question a                                                                                                                             </td><td>C:/Users/rossz/OneDrive/CC/data/ciq-dji/009899-t/ATT Inc., Q2 2019 Earnings Call, Jul 24, 2019.pdf                                     </td></tr>\n",
       "\t<tr><td>NA                                                                                                                                     </td><td>2019-07-25                                                                                                                             </td><td>NA                                                                                                                                     </td><td>NA                                                                                                                                     </td><td>NA                                                                                                                                     </td><td>Presentati                                                                                                                             </td><td>Question a                                                                                                                             </td><td>C:/Users/rossz/OneDrive/CC/data/ciq-dji/006008-intc/Intel Corporation, Q2 2019 Earnings Call, Jul 25, 2019.pdf                         </td></tr>\n",
       "\t<tr><td>NA                                                                                                                                     </td><td>2019-07-25                                                                                                                             </td><td>NA                                                                                                                                     </td><td>NA                                                                                                                                     </td><td>NA                                                                                                                                     </td><td>Presentati                                                                                                                             </td><td>Question a                                                                                                                             </td><td>C:/Users/rossz/OneDrive/CC/data/ciq-dji/006104-ip/International Paper Company, Q2 2019 Earnings Call, Jul 25, 2019.pdf                 </td></tr>\n",
       "\t<tr><td>NA                                                                                                                                     </td><td>2019-07-25                                                                                                                             </td><td>NA                                                                                                                                     </td><td>NA                                                                                                                                     </td><td>NA                                                                                                                                     </td><td>Presentati                                                                                                                             </td><td>Question a                                                                                                                             </td><td>C:/Users/rossz/OneDrive/CC/data/ciq-dji/007435-mmm/3M Company, Q2 2019 Earnings Call, Jul 25, 2019.pdf                                 </td></tr>\n",
       "\t<tr><td>NA                                                                                                                                     </td><td>2019-07-26                                                                                                                             </td><td>NA                                                                                                                                     </td><td>NA                                                                                                                                     </td><td>NA                                                                                                                                     </td><td>Presentati                                                                                                                             </td><td>Question a                                                                                                                             </td><td>C:/Users/rossz/OneDrive/CC/data/ciq-dji/005234-gt/The Goodyear Tire  Rubber Company, Q2 2019 Earnings Call, Jul 26, 2019.pdf           </td></tr>\n",
       "\t<tr><td>NA                                                                                                                                     </td><td>2019-07-26                                                                                                                             </td><td>NA                                                                                                                                     </td><td>NA                                                                                                                                     </td><td>NA                                                                                                                                     </td><td>Presentati                                                                                                                             </td><td>Question a                                                                                                                             </td><td>C:/Users/rossz/OneDrive/CC/data/ciq-dji/007154-mcd/McDonalds Corporation, Q2 2019 Earnings Call, Jul 26, 2019.pdf                      </td></tr>\n",
       "\t<tr><td>NA                                                                                                                                     </td><td>2019-07-29                                                                                                                             </td><td>NA                                                                                                                                     </td><td>NA                                                                                                                                     </td><td>NA                                                                                                                                     </td><td>Presentati                                                                                                                             </td><td>Question a                                                                                                                             </td><td>C:/Users/rossz/OneDrive/CC/data/ciq-dji/008530-pfe/Pfizer Inc., Q2 2019 Earnings Call, Jul 29, 2019.pdf                                </td></tr>\n",
       "\t<tr><td>NA                                                                                                                                     </td><td>2019-07-30                                                                                                                             </td><td>NA                                                                                                                                     </td><td>NA                                                                                                                                     </td><td>NA                                                                                                                                     </td><td>Presentati                                                                                                                             </td><td>Question a                                                                                                                             </td><td>C:/Users/rossz/OneDrive/CC/data/ciq-dji/001690-appl/Apple Inc., Q3 2019 Earnings Call, Jul 30, 2019.pdf                                </td></tr>\n",
       "\t<tr><td>NA                                                                                                                                     </td><td>2019-07-30                                                                                                                             </td><td>NA                                                                                                                                     </td><td>NA                                                                                                                                     </td><td>NA                                                                                                                                     </td><td>Presentati                                                                                                                             </td><td>Question a                                                                                                                             </td><td>C:/Users/rossz/OneDrive/CC/data/ciq-dji/007257-mrk/Merck  Co., Inc., Q2 2019 Earnings Call, Jul 30, 2019.pdf                           </td></tr>\n",
       "\t<tr><td>NA                                                                                                                                     </td><td>2019-07-30                                                                                                                             </td><td>NA                                                                                                                                     </td><td>NA                                                                                                                                     </td><td>NA                                                                                                                                     </td><td>Presentati                                                                                                                             </td><td>Question a                                                                                                                             </td><td>C:/Users/rossz/OneDrive/CC/data/ciq-dji/008543-mo/Altria Group, Inc., Q2 2019 Earnings Call, Jul 30, 2019.pdf                          </td></tr>\n",
       "\t<tr><td>NA                                                                                                                                     </td><td>2019-07-30                                                                                                                             </td><td>NA                                                                                                                                     </td><td>NA                                                                                                                                     </td><td>NA                                                                                                                                     </td><td>Presentati                                                                                                                             </td><td>Question a                                                                                                                             </td><td>C:/Users/rossz/OneDrive/CC/data/ciq-dji/008762-pg/The Procter  Gamble Company, Q4 2019 Earnings Call, Jul 30, 2019.pdf                 </td></tr>\n",
       "\t<tr><td>NA                                                                                                                                     </td><td>2019-07-31                                                                                                                             </td><td>NA                                                                                                                                     </td><td>NA                                                                                                                                     </td><td>NA                                                                                                                                     </td><td>Presentati                                                                                                                             </td><td>Question a                                                                                                                             </td><td>C:/Users/rossz/OneDrive/CC/data/ciq-dji/005047-ge/General Electric Company, Q2 2019 Earnings Call, Jul 31, 2019.pdf                    </td></tr>\n",
       "\t<tr><td>NA                                                                                                                                     </td><td>2019-08-01                                                                                                                             </td><td>NA                                                                                                                                     </td><td>NA                                                                                                                                     </td><td>NA                                                                                                                                     </td><td>Presentati                                                                                                                             </td><td>Question a                                                                                                                             </td><td>C:/Users/rossz/OneDrive/CC/data/ciq-dji/002136-vz/Verizon Communications Inc., Q2 2019 Earnings Call, Aug 01, 2019.pdf                 </td></tr>\n",
       "\t<tr><td>NA                                                                                                                                     </td><td>2019-08-01                                                                                                                             </td><td>NA                                                                                                                                     </td><td>NA                                                                                                                                     </td><td>NA                                                                                                                                     </td><td>Presentati                                                                                                                             </td><td>Question a                                                                                                                             </td><td>C:/Users/rossz/OneDrive/CC/data/ciq-dji/004060-dd/DuPont de Nemours, Inc., Q2 2019 Earnings Call, Aug 01, 2019.pdf                     </td></tr>\n",
       "\t<tr><td>NA                                                                                                                                     </td><td>2019-08-01                                                                                                                             </td><td>NA                                                                                                                                     </td><td>NA                                                                                                                                     </td><td>NA                                                                                                                                     </td><td>Presentati                                                                                                                             </td><td>Question a                                                                                                                             </td><td>C:/Users/rossz/OneDrive/CC/data/ciq-dji/005073-gm/General Motors Company, Q2 2019 Earnings Call, Aug 01, 2019.pdf                      </td></tr>\n",
       "\t<tr><td>NA                                                                                                                                     </td><td>2019-08-02                                                                                                                             </td><td>NA                                                                                                                                     </td><td>NA                                                                                                                                     </td><td>NA                                                                                                                                     </td><td>Presentati                                                                                                                             </td><td>Question a                                                                                                                             </td><td>C:/Users/rossz/OneDrive/CC/data/ciq-dji/002991-cvx/Chevron Corporation, Q2 2019 Earnings Call, Aug 02, 2019.pdf                        </td></tr>\n",
       "\t<tr><td>NA                                                                                                                                     </td><td>2019-08-02                                                                                                                             </td><td>NA                                                                                                                                     </td><td>NA                                                                                                                                     </td><td>NA                                                                                                                                     </td><td>Presentati                                                                                                                             </td><td>Question a                                                                                                                             </td><td>C:/Users/rossz/OneDrive/CC/data/ciq-dji/004503-xom/Exxon Mobil Corporation, Q2 2019 Earnings Call, Aug 02, 2019.pdf                    </td></tr>\n",
       "\t<tr><td>NA                                                                                                                                     </td><td>2019-08-06                                                                                                                             </td><td>NA                                                                                                                                     </td><td>NA                                                                                                                                     </td><td>NA                                                                                                                                     </td><td>Presentati                                                                                                                             </td><td>Question a                                                                                                                             </td><td>C:/Users/rossz/OneDrive/CC/data/ciq-dji/003980-dis/The Walt Disney Company, Q3 2019 Earnings Call, Aug 06, 2019.pdf                    </td></tr>\n",
       "\t<tr><td>NA                                                                                                                                     </td><td>2019-08-08                                                                                                                             </td><td>NA                                                                                                                                     </td><td>NA                                                                                                                                     </td><td>NA                                                                                                                                     </td><td>Presentati                                                                                                                             </td><td>Question a                                                                                                                             </td><td>C:/Users/rossz/OneDrive/CC/data/ciq-dji/001487-aig/American International Group, Inc., Q2 2019 Earnings Call, Aug 08, 2019.pdf         </td></tr>\n",
       "\t<tr><td>NA                                                                                                                                     </td><td>2019-08-08                                                                                                                             </td><td>NA                                                                                                                                     </td><td>NA                                                                                                                                     </td><td>NA                                                                                                                                     </td><td>Presentati                                                                                                                             </td><td>Question a                                                                                                                             </td><td>C:/Users/rossz/OneDrive/CC/data/ciq-dji/004194-kodk/Eastman Kodak Company, Q2 2019 Earnings Call, Aug 08, 2019.pdf                     </td></tr>\n",
       "\t<tr><td>NA                                                                                                                                     </td><td>2019-08-14                                                                                                                             </td><td>NA                                                                                                                                     </td><td>NA                                                                                                                                     </td><td>NA                                                                                                                                     </td><td>Presentati                                                                                                                             </td><td>Question a                                                                                                                             </td><td>C:/Users/rossz/OneDrive/CC/data/ciq-dji/020779-csco/Cisco Systems, Inc., Q4 2019 Earnings Call, Aug 14, 2019.pdf                       </td></tr>\n",
       "\t<tr><td>NA                                                                                                                                     </td><td>2019-08-20                                                                                                                             </td><td>NA                                                                                                                                     </td><td>NA                                                                                                                                     </td><td>NA                                                                                                                                     </td><td>Presentati                                                                                                                             </td><td>Question a                                                                                                                             </td><td>C:/Users/rossz/OneDrive/CC/data/ciq-dji/005680-hd/The Home Depot, Inc., Q2 2020 Earnings Call, Aug 20, 2019.pdf                        </td></tr>\n",
       "\t<tr><td>NA                                                                                                                                     </td><td>2019-08-22                                                                                                                             </td><td>NA                                                                                                                                     </td><td>NA                                                                                                                                     </td><td>NA                                                                                                                                     </td><td>Presentati                                                                                                                             </td><td>Question a                                                                                                                             </td><td>C:/Users/rossz/OneDrive/CC/data/ciq-dji/005606-hpq/HP Inc., Q3 2019 Earnings Call, Aug 22, 2019.pdf                                    </td></tr>\n",
       "\t<tr><td>NA                                                                                                                                     </td><td>2019-09-24                                                                                                                             </td><td>NA                                                                                                                                     </td><td>NA                                                                                                                                     </td><td>NA                                                                                                                                     </td><td>Presentati                                                                                                                             </td><td>Question a                                                                                                                             </td><td>C:/Users/rossz/OneDrive/CC/data/ciq-dji/007906-nke/NIKE, Inc., Q1 2020 Earnings Call, Sep 24, 2019.pdf                                 </td></tr>\n",
       "\t<tr><td>NA                                                                                                                                     </td><td>2019-10-15                                                                                                                             </td><td>NA                                                                                                                                     </td><td>NA                                                                                                                                     </td><td>NA                                                                                                                                     </td><td>Presentati                                                                                                                             </td><td>Question a                                                                                                                             </td><td>C:/Users/rossz/OneDrive/CC/data/ciq-dji/002968-jpm/JPMorgan Chase  Co., Q3 2019 Earnings Call, Oct 15, 2019.pdf                        </td></tr>\n",
       "\t<tr><td>NA                                                                                                                                     </td><td>2019-10-15                                                                                                                             </td><td>NA                                                                                                                                     </td><td>NA                                                                                                                                     </td><td>NA                                                                                                                                     </td><td>Presentati                                                                                                                             </td><td>Question a                                                                                                                             </td><td>C:/Users/rossz/OneDrive/CC/data/ciq-dji/003243-c/Citigroup Inc., Q3 2019 Earnings Call, Oct 15, 2019.pdf                               </td></tr>\n",
       "\t<tr><td>NA                                                                                                                                     </td><td>2019-10-15                                                                                                                             </td><td>NA                                                                                                                                     </td><td>NA                                                                                                                                     </td><td>NA                                                                                                                                     </td><td>Presentati                                                                                                                             </td><td>Question a                                                                                                                             </td><td>C:/Users/rossz/OneDrive/CC/data/ciq-dji/006266-jnj/Johnson  Johnson, Q3 2019 Earnings Call, Oct 15, 2019.pdf                           </td></tr>\n",
       "\t<tr><td>NA                                                                                                                                     </td><td>2019-10-15                                                                                                                             </td><td>NA                                                                                                                                     </td><td>NA                                                                                                                                     </td><td>NA                                                                                                                                     </td><td>Presentati                                                                                                                             </td><td>Question a                                                                                                                             </td><td>C:/Users/rossz/OneDrive/CC/data/ciq-dji/010903-unh/UnitedHealth Group Incorporated, Q3 2019 Earnings Call, Oct 15, 2019.pdf            </td></tr>\n",
       "\t<tr><td>NA                                                                                                                                     </td><td>2019-10-15                                                                                                                             </td><td>NA                                                                                                                                     </td><td>NA                                                                                                                                     </td><td>NA                                                                                                                                     </td><td>Presentati                                                                                                                             </td><td>Question a                                                                                                                             </td><td>C:/Users/rossz/OneDrive/CC/data/ciq-dji/114628-gs/The Goldman Sachs Group, Inc., Q3 2019 Earnings Call, Oct 15, 2019.pdf               </td></tr>\n",
       "\t<tr><td>NA                                                                                                                                     </td><td>2019-10-16                                                                                                                             </td><td>NA                                                                                                                                     </td><td>NA                                                                                                                                     </td><td>NA                                                                                                                                     </td><td>Presentati                                                                                                                             </td><td>Question a                                                                                                                             </td><td>C:/Users/rossz/OneDrive/CC/data/ciq-dji/006066-ibm/International Business Machines Corporation, Q3 2019 Earnings Call, Oct 16, 2019.pdf</td></tr>\n",
       "\t<tr><td>NA                                                                                                                                     </td><td>2019-10-16                                                                                                                             </td><td>NA                                                                                                                                     </td><td>NA                                                                                                                                     </td><td>NA                                                                                                                                     </td><td>Presentati                                                                                                                             </td><td>Question a                                                                                                                             </td><td>C:/Users/rossz/OneDrive/CC/data/ciq-dji/007647-bac/Bank of America Corporation, Q3 2019 Earnings Call, Oct 16, 2019.pdf                </td></tr>\n",
       "\t<tr><td>NA                                                                                                                                     </td><td>2019-10-17                                                                                                                             </td><td>NA                                                                                                                                     </td><td>NA                                                                                                                                     </td><td>NA                                                                                                                                     </td><td>Presentati                                                                                                                             </td><td>Question a                                                                                                                             </td><td>C:/Users/rossz/OneDrive/CC/data/ciq-dji/001300-hon/Honeywell International Inc., Q3 2019 Earnings Call, Oct 17, 2019.pdf               </td></tr>\n",
       "\t<tr><td>NA                                                                                                                                     </td><td>2019-10-18                                                                                                                             </td><td>NA                                                                                                                                     </td><td>NA                                                                                                                                     </td><td>NA                                                                                                                                     </td><td>Presentati                                                                                                                             </td><td>Question a                                                                                                                             </td><td>C:/Users/rossz/OneDrive/CC/data/ciq-dji/001447-axp/American Express Company, Q3 2019 Earnings Call, Oct 18, 2019.pdf                   </td></tr>\n",
       "\t<tr><td>NA                                                                                                                                     </td><td>2019-10-18                                                                                                                             </td><td>NA                                                                                                                                     </td><td>NA                                                                                                                                     </td><td>NA                                                                                                                                     </td><td>Presentati                                                                                                                             </td><td>Question a                                                                                                                             </td><td>C:/Users/rossz/OneDrive/CC/data/ciq-dji/003144-ko/The Coca-Cola Company, Q3 2019 Earnings Call, Oct 18, 2019.pdf                       </td></tr>\n",
       "\t<tr><td>NA                                                                                                                                     </td><td>2019-10-22                                                                                                                             </td><td>NA                                                                                                                                     </td><td>NA                                                                                                                                     </td><td>NA                                                                                                                                     </td><td>Presentati                                                                                                                             </td><td>Question a                                                                                                                             </td><td>C:/Users/rossz/OneDrive/CC/data/ciq-dji/007154-mcd/McDonalds Corporation, Q3 2019 Earnings Call, Oct 22, 2019.pdf                      </td></tr>\n",
       "\t<tr><td>NA                                                                                                                                     </td><td>2019-10-22                                                                                                                             </td><td>NA                                                                                                                                     </td><td>NA                                                                                                                                     </td><td>NA                                                                                                                                     </td><td>Presentati                                                                                                                             </td><td>Question a                                                                                                                             </td><td>C:/Users/rossz/OneDrive/CC/data/ciq-dji/008762-pg/The Procter  Gamble Company, Q1 2020 Earnings Call, Oct 22, 2019.pdf                 </td></tr>\n",
       "\t<tr><td>NA                                                                                                                                     </td><td>2019-10-22                                                                                                                             </td><td>NA                                                                                                                                     </td><td>NA                                                                                                                                     </td><td>NA                                                                                                                                     </td><td>Presentati                                                                                                                             </td><td>Question a                                                                                                                             </td><td>C:/Users/rossz/OneDrive/CC/data/ciq-dji/010983-utx/United Technologies Corporation, Q3 2019 Earnings Call, Oct 22, 2019.pdf            </td></tr>\n",
       "\t<tr><td>NA                                                                                                                                     </td><td>2019-10-22                                                                                                                             </td><td>NA                                                                                                                                     </td><td>NA                                                                                                                                     </td><td>NA                                                                                                                                     </td><td>Presentati                                                                                                                             </td><td>Question a                                                                                                                             </td><td>C:/Users/rossz/OneDrive/CC/data/ciq-dji/062689-trv/The Travelers Companies, Inc., Q3 2019 Earnings Call, Oct 22, 2019.pdf              </td></tr>\n",
       "\t<tr><td>NA                                                                                                                                     </td><td>2019-10-23                                                                                                                             </td><td>NA                                                                                                                                     </td><td>NA                                                                                                                                     </td><td>NA                                                                                                                                     </td><td>Presentati                                                                                                                             </td><td>Question a                                                                                                                             </td><td>C:/Users/rossz/OneDrive/CC/data/ciq-dji/002285-ba/The Boeing Company, Q3 2019 Earnings Call, Oct 23, 2019.pdf                          </td></tr>\n",
       "\t<tr><td>NA                                                                                                                                     </td><td>2019-10-23                                                                                                                             </td><td>NA                                                                                                                                     </td><td>NA                                                                                                                                     </td><td>NA                                                                                                                                     </td><td>Presentati                                                                                                                             </td><td>Question a                                                                                                                             </td><td>C:/Users/rossz/OneDrive/CC/data/ciq-dji/002817-cat/Caterpillar Inc., Q3 2019 Earnings Call, Oct 23, 2019.pdf                           </td></tr>\n",
       "\t<tr><td>NA                                                                                                                                     </td><td>2019-10-23                                                                                                                             </td><td>NA                                                                                                                                     </td><td>NA                                                                                                                                     </td><td>NA                                                                                                                                     </td><td>Presentati                                                                                                                             </td><td>Question a                                                                                                                             </td><td>C:/Users/rossz/OneDrive/CC/data/ciq-dji/012141-msft/Microsoft Corporation, Q1 2020 Earnings Call, Oct 23, 2019.pdf                     </td></tr>\n",
       "\t<tr><td>NA                                                                                                                                     </td><td>2019-10-24                                                                                                                             </td><td>NA                                                                                                                                     </td><td>NA                                                                                                                                     </td><td>NA                                                                                                                                     </td><td>Presentati                                                                                                                             </td><td>Question a                                                                                                                             </td><td>C:/Users/rossz/OneDrive/CC/data/ciq-dji/006008-intc/Intel Corporation, Q3 2019 Earnings Call, Oct 24, 2019.pdf                         </td></tr>\n",
       "\t<tr><td>NA                                                                                                                                     </td><td>2019-10-24                                                                                                                             </td><td>NA                                                                                                                                     </td><td>NA                                                                                                                                     </td><td>NA                                                                                                                                     </td><td>Presentati                                                                                                                             </td><td>Question a                                                                                                                             </td><td>C:/Users/rossz/OneDrive/CC/data/ciq-dji/007435-mmm/3M Company, Q3 2019 Earnings Call, Oct 24, 2019.pdf                                 </td></tr>\n",
       "\t<tr><td>NA                                                                                                                                     </td><td>2019-10-24                                                                                                                             </td><td>NA                                                                                                                                     </td><td>NA                                                                                                                                     </td><td>NA                                                                                                                                     </td><td>Presentati                                                                                                                             </td><td>Question a                                                                                                                             </td><td>C:/Users/rossz/OneDrive/CC/data/ciq-dji/179534-v/Visa Inc., Q4 2019 Earnings Call, Oct 24, 2019.pdf                                    </td></tr>\n",
       "\t<tr><td>NA                                                                                                                                     </td><td>2019-10-25                                                                                                                             </td><td>NA                                                                                                                                     </td><td>NA                                                                                                                                     </td><td>NA                                                                                                                                     </td><td>Presentati                                                                                                                             </td><td>Question a                                                                                                                             </td><td>C:/Users/rossz/OneDrive/CC/data/ciq-dji/002136-vz/Verizon Communications Inc., Q3 2019 Earnings Call, Oct 25, 2019.pdf                 </td></tr>\n",
       "\t<tr><td>NA                                                                                                                                     </td><td>2019-10-25                                                                                                                             </td><td>NA                                                                                                                                     </td><td>NA                                                                                                                                     </td><td>NA                                                                                                                                     </td><td>Presentati                                                                                                                             </td><td>Question a                                                                                                                             </td><td>C:/Users/rossz/OneDrive/CC/data/ciq-dji/005234-gt/The Goodyear Tire  Rubber Company, Q3 2019 Earnings Call, Oct 25, 2019.pdf           </td></tr>\n",
       "\t<tr><td>NA                                                                                                                                     </td><td>2019-10-28                                                                                                                             </td><td>NA                                                                                                                                     </td><td>NA                                                                                                                                     </td><td>NA                                                                                                                                     </td><td>Presentati                                                                                                                             </td><td>Question a                                                                                                                             </td><td>C:/Users/rossz/OneDrive/CC/data/ciq-dji/009899-t/ATT Inc., Q3 2019 Earnings Call, Oct 28, 2019.pdf                                     </td></tr>\n",
       "\t<tr><td>NA                                                                                                                                     </td><td>2019-10-28                                                                                                                             </td><td>NA                                                                                                                                     </td><td>NA                                                                                                                                     </td><td>NA                                                                                                                                     </td><td>Presentati                                                                                                                             </td><td>Question a                                                                                                                             </td><td>C:/Users/rossz/OneDrive/CC/data/ciq-dji/011264-wba/Walgreens Boots Alliance, Inc., Q4 2019 Earnings Call, Oct 28, 2019.pdf             </td></tr>\n",
       "\t<tr><td>NA                                                                                                                                     </td><td>2019-10-29                                                                                                                             </td><td>NA                                                                                                                                     </td><td>NA                                                                                                                                     </td><td>NA                                                                                                                                     </td><td>Presentati                                                                                                                             </td><td>Question a                                                                                                                             </td><td>C:/Users/rossz/OneDrive/CC/data/ciq-dji/005073-gm/General Motors Company, Q3 2019 Earnings Call, Oct 29, 2019.pdf                      </td></tr>\n",
       "\t<tr><td>NA                                                                                                                                     </td><td>2019-10-29                                                                                                                             </td><td>NA                                                                                                                                     </td><td>NA                                                                                                                                     </td><td>NA                                                                                                                                     </td><td>Presentati                                                                                                                             </td><td>Question a                                                                                                                             </td><td>C:/Users/rossz/OneDrive/CC/data/ciq-dji/007257-mrk/Merck  Co., Inc., Q3 2019 Earnings Call, Oct 29, 2019.pdf                           </td></tr>\n",
       "\t<tr><td>NA                                                                                                                                     </td><td>2019-10-29                                                                                                                             </td><td>NA                                                                                                                                     </td><td>NA                                                                                                                                     </td><td>NA                                                                                                                                     </td><td>Presentati                                                                                                                             </td><td>Question a                                                                                                                             </td><td>C:/Users/rossz/OneDrive/CC/data/ciq-dji/008530-pfe/Pfizer Inc., Q3 2019 Earnings Call, Oct 29, 2019.pdf                                </td></tr>\n",
       "\t<tr><td>NA                                                                                                                                     </td><td>2019-10-30                                                                                                                             </td><td>NA                                                                                                                                     </td><td>NA                                                                                                                                     </td><td>NA                                                                                                                                     </td><td>Presentati                                                                                                                             </td><td>Question a                                                                                                                             </td><td>C:/Users/rossz/OneDrive/CC/data/ciq-dji/001690-appl/Apple Inc., Q4 2019 Earnings Call, Oct 30, 2019.pdf                                </td></tr>\n",
       "\t<tr><td>NA                                                                                                                                     </td><td>2019-10-30                                                                                                                             </td><td>NA                                                                                                                                     </td><td>NA                                                                                                                                     </td><td>NA                                                                                                                                     </td><td>Presentati                                                                                                                             </td><td>Question a                                                                                                                             </td><td>C:/Users/rossz/OneDrive/CC/data/ciq-dji/005047-ge/General Electric Company, Q3 2019 Earnings Call, Oct 30, 2019.pdf                    </td></tr>\n",
       "\t<tr><td>NA                                                                                                                                     </td><td>2019-10-31                                                                                                                             </td><td>NA                                                                                                                                     </td><td>NA                                                                                                                                     </td><td>NA                                                                                                                                     </td><td>Presentati                                                                                                                             </td><td>Question a                                                                                                                             </td><td>C:/Users/rossz/OneDrive/CC/data/ciq-dji/004060-dd/DuPont de Nemours, Inc., Q3 2019 Earnings Call, Oct 31, 2019.pdf                     </td></tr>\n",
       "\t<tr><td>NA                                                                                                                                     </td><td>2019-10-31                                                                                                                             </td><td>NA                                                                                                                                     </td><td>NA                                                                                                                                     </td><td>NA                                                                                                                                     </td><td>Presentati                                                                                                                             </td><td>Question a                                                                                                                             </td><td>C:/Users/rossz/OneDrive/CC/data/ciq-dji/006104-ip/International Paper Company, Q3 2019 Earnings Call, Oct 31, 2019.pdf                 </td></tr>\n",
       "\t<tr><td>NA                                                                                                                                     </td><td>2019-10-31                                                                                                                             </td><td>NA                                                                                                                                     </td><td>NA                                                                                                                                     </td><td>NA                                                                                                                                     </td><td>Presentati                                                                                                                             </td><td>Question a                                                                                                                             </td><td>C:/Users/rossz/OneDrive/CC/data/ciq-dji/008543-mo/Altria Group, Inc., Q3 2019 Earnings Call, Oct 31, 2019.pdf                          </td></tr>\n",
       "\t<tr><td>NA                                                                                                                                     </td><td>2019-11-01                                                                                                                             </td><td>NA                                                                                                                                     </td><td>NA                                                                                                                                     </td><td>NA                                                                                                                                     </td><td>Presentati                                                                                                                             </td><td>Question a                                                                                                                             </td><td>C:/Users/rossz/OneDrive/CC/data/ciq-dji/001487-aig/American International Group, Inc., Q3 2019 Earnings Call, Nov 01, 2019.pdf         </td></tr>\n",
       "\t<tr><td>NA                                                                                                                                     </td><td>2019-11-01                                                                                                                             </td><td>NA                                                                                                                                     </td><td>NA                                                                                                                                     </td><td>NA                                                                                                                                     </td><td>Presentati                                                                                                                             </td><td>Question a                                                                                                                             </td><td>C:/Users/rossz/OneDrive/CC/data/ciq-dji/002991-cvx/Chevron Corporation, Q3 2019 Earnings Call, Nov 01, 2019.pdf                        </td></tr>\n",
       "\t<tr><td>NA                                                                                                                                     </td><td>2019-11-01                                                                                                                             </td><td>NA                                                                                                                                     </td><td>NA                                                                                                                                     </td><td>NA                                                                                                                                     </td><td>Presentati                                                                                                                             </td><td>Question a                                                                                                                             </td><td>C:/Users/rossz/OneDrive/CC/data/ciq-dji/004503-xom/Exxon Mobil Corporation, Q3 2019 Earnings Call, Nov 01, 2019.pdf                    </td></tr>\n",
       "\t<tr><td>NA                                                                                                                                     </td><td>2019-11-07                                                                                                                             </td><td>NA                                                                                                                                     </td><td>NA                                                                                                                                     </td><td>NA                                                                                                                                     </td><td>Presentati                                                                                                                             </td><td>Question a                                                                                                                             </td><td>C:/Users/rossz/OneDrive/CC/data/ciq-dji/003980-dis/The Walt Disney Company, Q4 2019 Earnings Call, Nov 07, 2019.pdf                    </td></tr>\n",
       "\t<tr><td>NA                                                                                                                                     </td><td>2019-11-07                                                                                                                             </td><td>NA                                                                                                                                     </td><td>NA                                                                                                                                     </td><td>NA                                                                                                                                     </td><td>Presentati                                                                                                                             </td><td>NA                                                                                                                                     </td><td>C:/Users/rossz/OneDrive/CC/data/ciq-dji/004194-kodk/Eastman Kodak Company, Q3 2019 Earnings Call, Nov 07, 2019.pdf                     </td></tr>\n",
       "\t<tr><td>NA                                                                                                                                     </td><td>2019-11-13                                                                                                                             </td><td>NA                                                                                                                                     </td><td>NA                                                                                                                                     </td><td>NA                                                                                                                                     </td><td>Presentati                                                                                                                             </td><td>Question a                                                                                                                             </td><td>C:/Users/rossz/OneDrive/CC/data/ciq-dji/020779-csco/Cisco Systems, Inc., Q1 2020 Earnings Call, Nov 13, 2019.pdf                       </td></tr>\n",
       "</tbody>\n",
       "</table>\n"
      ],
      "text/latex": [
       "\\begin{tabular}{r|llllllll}\n",
       " gvkey & headline\\_date & mid\\_utc & headline & keydevid & md & qa & cc\\_path\\\\\n",
       "\\hline\n",
       "\t NA                                                                                                                                      & 2010-08-12                                                                                                                              & NA                                                                                                                                      & NA                                                                                                                                      & NA                                                                                                                                      & Presentati                                                                                                                              & Question a                                                                                                                              & C:/Users/rossz/OneDrive/CC/data/ciq-dji/005073-gm/General Motors Company, Q2 2010 Earnings Call, Aug-12-2010.pdf                       \\\\\n",
       "\t NA                                                                                                                                      & 2010-11-10                                                                                                                              & NA                                                                                                                                      & NA                                                                                                                                      & NA                                                                                                                                      & Presentati                                                                                                                              & NA                                                                                                                                      & C:/Users/rossz/OneDrive/CC/data/ciq-dji/005073-gm/General Motors Company, Q3 2010 Earnings Call, Nov 10, 2010.pdf                      \\\\\n",
       "\t NA                                                                                                                                      & 2019-06-27                                                                                                                              & NA                                                                                                                                      & NA                                                                                                                                      & NA                                                                                                                                      & Presentati                                                                                                                              & Question a                                                                                                                              & C:/Users/rossz/OneDrive/CC/data/ciq-dji/007906-nke/NIKE, Inc., Q4 2019 Earnings Call, Jun 27, 2019.pdf                                 \\\\\n",
       "\t NA                                                                                                                                      & 2019-06-27                                                                                                                              & NA                                                                                                                                      & NA                                                                                                                                      & NA                                                                                                                                      & Presentati                                                                                                                              & Question a                                                                                                                              & C:/Users/rossz/OneDrive/CC/data/ciq-dji/011264-wba/Walgreens Boots Alliance, Inc., Q3 2019 Earnings Call, Jun 27, 2019.pdf             \\\\\n",
       "\t NA                                                                                                                                      & 2019-07-15                                                                                                                              & NA                                                                                                                                      & NA                                                                                                                                      & NA                                                                                                                                      & Presentati                                                                                                                              & Question a                                                                                                                              & C:/Users/rossz/OneDrive/CC/data/ciq-dji/003243-c/Citigroup Inc., Q2 2019 Earnings Call, Jul 15, 2019.pdf                               \\\\\n",
       "\t NA                                                                                                                                      & 2019-07-16                                                                                                                              & NA                                                                                                                                      & NA                                                                                                                                      & NA                                                                                                                                      & Presentati                                                                                                                              & Question a                                                                                                                              & C:/Users/rossz/OneDrive/CC/data/ciq-dji/002968-jpm/JPMorgan Chase  Co., Q2 2019 Earnings Call, Jul 16, 2019.pdf                        \\\\\n",
       "\t NA                                                                                                                                      & 2019-07-16                                                                                                                              & NA                                                                                                                                      & NA                                                                                                                                      & NA                                                                                                                                      & Presentati                                                                                                                              & Question a                                                                                                                              & C:/Users/rossz/OneDrive/CC/data/ciq-dji/006266-jnj/Johnson  Johnson, Q2 2019 Earnings Call, Jul 16, 2019.pdf                           \\\\\n",
       "\t NA                                                                                                                                      & 2019-07-16                                                                                                                              & NA                                                                                                                                      & NA                                                                                                                                      & NA                                                                                                                                      & Presentati                                                                                                                              & Question a                                                                                                                              & C:/Users/rossz/OneDrive/CC/data/ciq-dji/114628-gs/The Goldman Sachs Group, Inc., Q2 2019 Earnings Call, Jul 16, 2019.pdf               \\\\\n",
       "\t NA                                                                                                                                      & 2019-07-17                                                                                                                              & NA                                                                                                                                      & NA                                                                                                                                      & NA                                                                                                                                      & Presentati                                                                                                                              & Question a                                                                                                                              & C:/Users/rossz/OneDrive/CC/data/ciq-dji/006066-ibm/International Business Machines Corporation, Q2 2019 Earnings Call, Jul 17, 2019.pdf\\\\\n",
       "\t NA                                                                                                                                      & 2019-07-17                                                                                                                              & NA                                                                                                                                      & NA                                                                                                                                      & NA                                                                                                                                      & Presentati                                                                                                                              & Question a                                                                                                                              & C:/Users/rossz/OneDrive/CC/data/ciq-dji/007647-bac/Bank of America Corporation, Q2 2019 Earnings Call, Jul 17, 2019.pdf                \\\\\n",
       "\t NA                                                                                                                                      & 2019-07-18                                                                                                                              & NA                                                                                                                                      & NA                                                                                                                                      & NA                                                                                                                                      & Presentati                                                                                                                              & Question a                                                                                                                              & C:/Users/rossz/OneDrive/CC/data/ciq-dji/001300-hon/Honeywell International Inc., Q2 2019 Earnings Call, Jul 18, 2019.pdf               \\\\\n",
       "\t NA                                                                                                                                      & 2019-07-18                                                                                                                              & NA                                                                                                                                      & NA                                                                                                                                      & NA                                                                                                                                      & Presentati                                                                                                                              & Question a                                                                                                                              & C:/Users/rossz/OneDrive/CC/data/ciq-dji/010903-unh/UnitedHealth Group Incorporated, Q2 2019 Earnings Call, Jul 18, 2019.pdf            \\\\\n",
       "\t NA                                                                                                                                      & 2019-07-18                                                                                                                              & NA                                                                                                                                      & NA                                                                                                                                      & NA                                                                                                                                      & Presentati                                                                                                                              & Question a                                                                                                                              & C:/Users/rossz/OneDrive/CC/data/ciq-dji/012141-msft/Microsoft Corporation, Q4 2019 Earnings Call, Jul 18, 2019.pdf                     \\\\\n",
       "\t NA                                                                                                                                      & 2019-07-19                                                                                                                              & NA                                                                                                                                      & NA                                                                                                                                      & NA                                                                                                                                      & Presentati                                                                                                                              & Question a                                                                                                                              & C:/Users/rossz/OneDrive/CC/data/ciq-dji/001447-axp/American Express Company, Q2 2019 Earnings Call, Jul 19, 2019.pdf                   \\\\\n",
       "\t NA                                                                                                                                      & 2019-07-23                                                                                                                              & NA                                                                                                                                      & NA                                                                                                                                      & NA                                                                                                                                      & Presentati                                                                                                                              & Question a                                                                                                                              & C:/Users/rossz/OneDrive/CC/data/ciq-dji/003144-ko/The Coca-Cola Company, Q2 2019 Earnings Call, Jul 23, 2019.pdf                       \\\\\n",
       "\t NA                                                                                                                                      & 2019-07-23                                                                                                                              & NA                                                                                                                                      & NA                                                                                                                                      & NA                                                                                                                                      & Presentati                                                                                                                              & Question a                                                                                                                              & C:/Users/rossz/OneDrive/CC/data/ciq-dji/010983-utx/United Technologies Corporation, Q2 2019 Earnings Call, Jul 23, 2019.pdf            \\\\\n",
       "\t NA                                                                                                                                      & 2019-07-23                                                                                                                              & NA                                                                                                                                      & NA                                                                                                                                      & NA                                                                                                                                      & Presentati                                                                                                                              & Question a                                                                                                                              & C:/Users/rossz/OneDrive/CC/data/ciq-dji/062689-trv/The Travelers Companies, Inc., Q2 2019 Earnings Call, Jul 23, 2019.pdf              \\\\\n",
       "\t NA                                                                                                                                      & 2019-07-23                                                                                                                              & NA                                                                                                                                      & NA                                                                                                                                      & NA                                                                                                                                      & Presentati                                                                                                                              & Question a                                                                                                                              & C:/Users/rossz/OneDrive/CC/data/ciq-dji/179534-v/Visa Inc., Q3 2019 Earnings Call, Jul 23, 2019.pdf                                    \\\\\n",
       "\t NA                                                                                                                                      & 2019-07-24                                                                                                                              & NA                                                                                                                                      & NA                                                                                                                                      & NA                                                                                                                                      & Presentati                                                                                                                              & Question a                                                                                                                              & C:/Users/rossz/OneDrive/CC/data/ciq-dji/002285-ba/The Boeing Company, Q2 2019 Earnings Call, Jul 24, 2019.pdf                          \\\\\n",
       "\t NA                                                                                                                                      & 2019-07-24                                                                                                                              & NA                                                                                                                                      & NA                                                                                                                                      & NA                                                                                                                                      & Presentati                                                                                                                              & Question a                                                                                                                              & C:/Users/rossz/OneDrive/CC/data/ciq-dji/002817-cat/Caterpillar Inc., Q2 2019 Earnings Call, Jul 24, 2019.pdf                           \\\\\n",
       "\t NA                                                                                                                                      & 2019-07-24                                                                                                                              & NA                                                                                                                                      & NA                                                                                                                                      & NA                                                                                                                                      & Presentati                                                                                                                              & Question a                                                                                                                              & C:/Users/rossz/OneDrive/CC/data/ciq-dji/009899-t/ATT Inc., Q2 2019 Earnings Call, Jul 24, 2019.pdf                                     \\\\\n",
       "\t NA                                                                                                                                      & 2019-07-25                                                                                                                              & NA                                                                                                                                      & NA                                                                                                                                      & NA                                                                                                                                      & Presentati                                                                                                                              & Question a                                                                                                                              & C:/Users/rossz/OneDrive/CC/data/ciq-dji/006008-intc/Intel Corporation, Q2 2019 Earnings Call, Jul 25, 2019.pdf                         \\\\\n",
       "\t NA                                                                                                                                      & 2019-07-25                                                                                                                              & NA                                                                                                                                      & NA                                                                                                                                      & NA                                                                                                                                      & Presentati                                                                                                                              & Question a                                                                                                                              & C:/Users/rossz/OneDrive/CC/data/ciq-dji/006104-ip/International Paper Company, Q2 2019 Earnings Call, Jul 25, 2019.pdf                 \\\\\n",
       "\t NA                                                                                                                                      & 2019-07-25                                                                                                                              & NA                                                                                                                                      & NA                                                                                                                                      & NA                                                                                                                                      & Presentati                                                                                                                              & Question a                                                                                                                              & C:/Users/rossz/OneDrive/CC/data/ciq-dji/007435-mmm/3M Company, Q2 2019 Earnings Call, Jul 25, 2019.pdf                                 \\\\\n",
       "\t NA                                                                                                                                      & 2019-07-26                                                                                                                              & NA                                                                                                                                      & NA                                                                                                                                      & NA                                                                                                                                      & Presentati                                                                                                                              & Question a                                                                                                                              & C:/Users/rossz/OneDrive/CC/data/ciq-dji/005234-gt/The Goodyear Tire  Rubber Company, Q2 2019 Earnings Call, Jul 26, 2019.pdf           \\\\\n",
       "\t NA                                                                                                                                      & 2019-07-26                                                                                                                              & NA                                                                                                                                      & NA                                                                                                                                      & NA                                                                                                                                      & Presentati                                                                                                                              & Question a                                                                                                                              & C:/Users/rossz/OneDrive/CC/data/ciq-dji/007154-mcd/McDonalds Corporation, Q2 2019 Earnings Call, Jul 26, 2019.pdf                      \\\\\n",
       "\t NA                                                                                                                                      & 2019-07-29                                                                                                                              & NA                                                                                                                                      & NA                                                                                                                                      & NA                                                                                                                                      & Presentati                                                                                                                              & Question a                                                                                                                              & C:/Users/rossz/OneDrive/CC/data/ciq-dji/008530-pfe/Pfizer Inc., Q2 2019 Earnings Call, Jul 29, 2019.pdf                                \\\\\n",
       "\t NA                                                                                                                                      & 2019-07-30                                                                                                                              & NA                                                                                                                                      & NA                                                                                                                                      & NA                                                                                                                                      & Presentati                                                                                                                              & Question a                                                                                                                              & C:/Users/rossz/OneDrive/CC/data/ciq-dji/001690-appl/Apple Inc., Q3 2019 Earnings Call, Jul 30, 2019.pdf                                \\\\\n",
       "\t NA                                                                                                                                      & 2019-07-30                                                                                                                              & NA                                                                                                                                      & NA                                                                                                                                      & NA                                                                                                                                      & Presentati                                                                                                                              & Question a                                                                                                                              & C:/Users/rossz/OneDrive/CC/data/ciq-dji/007257-mrk/Merck  Co., Inc., Q2 2019 Earnings Call, Jul 30, 2019.pdf                           \\\\\n",
       "\t NA                                                                                                                                      & 2019-07-30                                                                                                                              & NA                                                                                                                                      & NA                                                                                                                                      & NA                                                                                                                                      & Presentati                                                                                                                              & Question a                                                                                                                              & C:/Users/rossz/OneDrive/CC/data/ciq-dji/008543-mo/Altria Group, Inc., Q2 2019 Earnings Call, Jul 30, 2019.pdf                          \\\\\n",
       "\t NA                                                                                                                                      & 2019-07-30                                                                                                                              & NA                                                                                                                                      & NA                                                                                                                                      & NA                                                                                                                                      & Presentati                                                                                                                              & Question a                                                                                                                              & C:/Users/rossz/OneDrive/CC/data/ciq-dji/008762-pg/The Procter  Gamble Company, Q4 2019 Earnings Call, Jul 30, 2019.pdf                 \\\\\n",
       "\t NA                                                                                                                                      & 2019-07-31                                                                                                                              & NA                                                                                                                                      & NA                                                                                                                                      & NA                                                                                                                                      & Presentati                                                                                                                              & Question a                                                                                                                              & C:/Users/rossz/OneDrive/CC/data/ciq-dji/005047-ge/General Electric Company, Q2 2019 Earnings Call, Jul 31, 2019.pdf                    \\\\\n",
       "\t NA                                                                                                                                      & 2019-08-01                                                                                                                              & NA                                                                                                                                      & NA                                                                                                                                      & NA                                                                                                                                      & Presentati                                                                                                                              & Question a                                                                                                                              & C:/Users/rossz/OneDrive/CC/data/ciq-dji/002136-vz/Verizon Communications Inc., Q2 2019 Earnings Call, Aug 01, 2019.pdf                 \\\\\n",
       "\t NA                                                                                                                                      & 2019-08-01                                                                                                                              & NA                                                                                                                                      & NA                                                                                                                                      & NA                                                                                                                                      & Presentati                                                                                                                              & Question a                                                                                                                              & C:/Users/rossz/OneDrive/CC/data/ciq-dji/004060-dd/DuPont de Nemours, Inc., Q2 2019 Earnings Call, Aug 01, 2019.pdf                     \\\\\n",
       "\t NA                                                                                                                                      & 2019-08-01                                                                                                                              & NA                                                                                                                                      & NA                                                                                                                                      & NA                                                                                                                                      & Presentati                                                                                                                              & Question a                                                                                                                              & C:/Users/rossz/OneDrive/CC/data/ciq-dji/005073-gm/General Motors Company, Q2 2019 Earnings Call, Aug 01, 2019.pdf                      \\\\\n",
       "\t NA                                                                                                                                      & 2019-08-02                                                                                                                              & NA                                                                                                                                      & NA                                                                                                                                      & NA                                                                                                                                      & Presentati                                                                                                                              & Question a                                                                                                                              & C:/Users/rossz/OneDrive/CC/data/ciq-dji/002991-cvx/Chevron Corporation, Q2 2019 Earnings Call, Aug 02, 2019.pdf                        \\\\\n",
       "\t NA                                                                                                                                      & 2019-08-02                                                                                                                              & NA                                                                                                                                      & NA                                                                                                                                      & NA                                                                                                                                      & Presentati                                                                                                                              & Question a                                                                                                                              & C:/Users/rossz/OneDrive/CC/data/ciq-dji/004503-xom/Exxon Mobil Corporation, Q2 2019 Earnings Call, Aug 02, 2019.pdf                    \\\\\n",
       "\t NA                                                                                                                                      & 2019-08-06                                                                                                                              & NA                                                                                                                                      & NA                                                                                                                                      & NA                                                                                                                                      & Presentati                                                                                                                              & Question a                                                                                                                              & C:/Users/rossz/OneDrive/CC/data/ciq-dji/003980-dis/The Walt Disney Company, Q3 2019 Earnings Call, Aug 06, 2019.pdf                    \\\\\n",
       "\t NA                                                                                                                                      & 2019-08-08                                                                                                                              & NA                                                                                                                                      & NA                                                                                                                                      & NA                                                                                                                                      & Presentati                                                                                                                              & Question a                                                                                                                              & C:/Users/rossz/OneDrive/CC/data/ciq-dji/001487-aig/American International Group, Inc., Q2 2019 Earnings Call, Aug 08, 2019.pdf         \\\\\n",
       "\t NA                                                                                                                                      & 2019-08-08                                                                                                                              & NA                                                                                                                                      & NA                                                                                                                                      & NA                                                                                                                                      & Presentati                                                                                                                              & Question a                                                                                                                              & C:/Users/rossz/OneDrive/CC/data/ciq-dji/004194-kodk/Eastman Kodak Company, Q2 2019 Earnings Call, Aug 08, 2019.pdf                     \\\\\n",
       "\t NA                                                                                                                                      & 2019-08-14                                                                                                                              & NA                                                                                                                                      & NA                                                                                                                                      & NA                                                                                                                                      & Presentati                                                                                                                              & Question a                                                                                                                              & C:/Users/rossz/OneDrive/CC/data/ciq-dji/020779-csco/Cisco Systems, Inc., Q4 2019 Earnings Call, Aug 14, 2019.pdf                       \\\\\n",
       "\t NA                                                                                                                                      & 2019-08-20                                                                                                                              & NA                                                                                                                                      & NA                                                                                                                                      & NA                                                                                                                                      & Presentati                                                                                                                              & Question a                                                                                                                              & C:/Users/rossz/OneDrive/CC/data/ciq-dji/005680-hd/The Home Depot, Inc., Q2 2020 Earnings Call, Aug 20, 2019.pdf                        \\\\\n",
       "\t NA                                                                                                                                      & 2019-08-22                                                                                                                              & NA                                                                                                                                      & NA                                                                                                                                      & NA                                                                                                                                      & Presentati                                                                                                                              & Question a                                                                                                                              & C:/Users/rossz/OneDrive/CC/data/ciq-dji/005606-hpq/HP Inc., Q3 2019 Earnings Call, Aug 22, 2019.pdf                                    \\\\\n",
       "\t NA                                                                                                                                      & 2019-09-24                                                                                                                              & NA                                                                                                                                      & NA                                                                                                                                      & NA                                                                                                                                      & Presentati                                                                                                                              & Question a                                                                                                                              & C:/Users/rossz/OneDrive/CC/data/ciq-dji/007906-nke/NIKE, Inc., Q1 2020 Earnings Call, Sep 24, 2019.pdf                                 \\\\\n",
       "\t NA                                                                                                                                      & 2019-10-15                                                                                                                              & NA                                                                                                                                      & NA                                                                                                                                      & NA                                                                                                                                      & Presentati                                                                                                                              & Question a                                                                                                                              & C:/Users/rossz/OneDrive/CC/data/ciq-dji/002968-jpm/JPMorgan Chase  Co., Q3 2019 Earnings Call, Oct 15, 2019.pdf                        \\\\\n",
       "\t NA                                                                                                                                      & 2019-10-15                                                                                                                              & NA                                                                                                                                      & NA                                                                                                                                      & NA                                                                                                                                      & Presentati                                                                                                                              & Question a                                                                                                                              & C:/Users/rossz/OneDrive/CC/data/ciq-dji/003243-c/Citigroup Inc., Q3 2019 Earnings Call, Oct 15, 2019.pdf                               \\\\\n",
       "\t NA                                                                                                                                      & 2019-10-15                                                                                                                              & NA                                                                                                                                      & NA                                                                                                                                      & NA                                                                                                                                      & Presentati                                                                                                                              & Question a                                                                                                                              & C:/Users/rossz/OneDrive/CC/data/ciq-dji/006266-jnj/Johnson  Johnson, Q3 2019 Earnings Call, Oct 15, 2019.pdf                           \\\\\n",
       "\t NA                                                                                                                                      & 2019-10-15                                                                                                                              & NA                                                                                                                                      & NA                                                                                                                                      & NA                                                                                                                                      & Presentati                                                                                                                              & Question a                                                                                                                              & C:/Users/rossz/OneDrive/CC/data/ciq-dji/010903-unh/UnitedHealth Group Incorporated, Q3 2019 Earnings Call, Oct 15, 2019.pdf            \\\\\n",
       "\t NA                                                                                                                                      & 2019-10-15                                                                                                                              & NA                                                                                                                                      & NA                                                                                                                                      & NA                                                                                                                                      & Presentati                                                                                                                              & Question a                                                                                                                              & C:/Users/rossz/OneDrive/CC/data/ciq-dji/114628-gs/The Goldman Sachs Group, Inc., Q3 2019 Earnings Call, Oct 15, 2019.pdf               \\\\\n",
       "\t NA                                                                                                                                      & 2019-10-16                                                                                                                              & NA                                                                                                                                      & NA                                                                                                                                      & NA                                                                                                                                      & Presentati                                                                                                                              & Question a                                                                                                                              & C:/Users/rossz/OneDrive/CC/data/ciq-dji/006066-ibm/International Business Machines Corporation, Q3 2019 Earnings Call, Oct 16, 2019.pdf\\\\\n",
       "\t NA                                                                                                                                      & 2019-10-16                                                                                                                              & NA                                                                                                                                      & NA                                                                                                                                      & NA                                                                                                                                      & Presentati                                                                                                                              & Question a                                                                                                                              & C:/Users/rossz/OneDrive/CC/data/ciq-dji/007647-bac/Bank of America Corporation, Q3 2019 Earnings Call, Oct 16, 2019.pdf                \\\\\n",
       "\t NA                                                                                                                                      & 2019-10-17                                                                                                                              & NA                                                                                                                                      & NA                                                                                                                                      & NA                                                                                                                                      & Presentati                                                                                                                              & Question a                                                                                                                              & C:/Users/rossz/OneDrive/CC/data/ciq-dji/001300-hon/Honeywell International Inc., Q3 2019 Earnings Call, Oct 17, 2019.pdf               \\\\\n",
       "\t NA                                                                                                                                      & 2019-10-18                                                                                                                              & NA                                                                                                                                      & NA                                                                                                                                      & NA                                                                                                                                      & Presentati                                                                                                                              & Question a                                                                                                                              & C:/Users/rossz/OneDrive/CC/data/ciq-dji/001447-axp/American Express Company, Q3 2019 Earnings Call, Oct 18, 2019.pdf                   \\\\\n",
       "\t NA                                                                                                                                      & 2019-10-18                                                                                                                              & NA                                                                                                                                      & NA                                                                                                                                      & NA                                                                                                                                      & Presentati                                                                                                                              & Question a                                                                                                                              & C:/Users/rossz/OneDrive/CC/data/ciq-dji/003144-ko/The Coca-Cola Company, Q3 2019 Earnings Call, Oct 18, 2019.pdf                       \\\\\n",
       "\t NA                                                                                                                                      & 2019-10-22                                                                                                                              & NA                                                                                                                                      & NA                                                                                                                                      & NA                                                                                                                                      & Presentati                                                                                                                              & Question a                                                                                                                              & C:/Users/rossz/OneDrive/CC/data/ciq-dji/007154-mcd/McDonalds Corporation, Q3 2019 Earnings Call, Oct 22, 2019.pdf                      \\\\\n",
       "\t NA                                                                                                                                      & 2019-10-22                                                                                                                              & NA                                                                                                                                      & NA                                                                                                                                      & NA                                                                                                                                      & Presentati                                                                                                                              & Question a                                                                                                                              & C:/Users/rossz/OneDrive/CC/data/ciq-dji/008762-pg/The Procter  Gamble Company, Q1 2020 Earnings Call, Oct 22, 2019.pdf                 \\\\\n",
       "\t NA                                                                                                                                      & 2019-10-22                                                                                                                              & NA                                                                                                                                      & NA                                                                                                                                      & NA                                                                                                                                      & Presentati                                                                                                                              & Question a                                                                                                                              & C:/Users/rossz/OneDrive/CC/data/ciq-dji/010983-utx/United Technologies Corporation, Q3 2019 Earnings Call, Oct 22, 2019.pdf            \\\\\n",
       "\t NA                                                                                                                                      & 2019-10-22                                                                                                                              & NA                                                                                                                                      & NA                                                                                                                                      & NA                                                                                                                                      & Presentati                                                                                                                              & Question a                                                                                                                              & C:/Users/rossz/OneDrive/CC/data/ciq-dji/062689-trv/The Travelers Companies, Inc., Q3 2019 Earnings Call, Oct 22, 2019.pdf              \\\\\n",
       "\t NA                                                                                                                                      & 2019-10-23                                                                                                                              & NA                                                                                                                                      & NA                                                                                                                                      & NA                                                                                                                                      & Presentati                                                                                                                              & Question a                                                                                                                              & C:/Users/rossz/OneDrive/CC/data/ciq-dji/002285-ba/The Boeing Company, Q3 2019 Earnings Call, Oct 23, 2019.pdf                          \\\\\n",
       "\t NA                                                                                                                                      & 2019-10-23                                                                                                                              & NA                                                                                                                                      & NA                                                                                                                                      & NA                                                                                                                                      & Presentati                                                                                                                              & Question a                                                                                                                              & C:/Users/rossz/OneDrive/CC/data/ciq-dji/002817-cat/Caterpillar Inc., Q3 2019 Earnings Call, Oct 23, 2019.pdf                           \\\\\n",
       "\t NA                                                                                                                                      & 2019-10-23                                                                                                                              & NA                                                                                                                                      & NA                                                                                                                                      & NA                                                                                                                                      & Presentati                                                                                                                              & Question a                                                                                                                              & C:/Users/rossz/OneDrive/CC/data/ciq-dji/012141-msft/Microsoft Corporation, Q1 2020 Earnings Call, Oct 23, 2019.pdf                     \\\\\n",
       "\t NA                                                                                                                                      & 2019-10-24                                                                                                                              & NA                                                                                                                                      & NA                                                                                                                                      & NA                                                                                                                                      & Presentati                                                                                                                              & Question a                                                                                                                              & C:/Users/rossz/OneDrive/CC/data/ciq-dji/006008-intc/Intel Corporation, Q3 2019 Earnings Call, Oct 24, 2019.pdf                         \\\\\n",
       "\t NA                                                                                                                                      & 2019-10-24                                                                                                                              & NA                                                                                                                                      & NA                                                                                                                                      & NA                                                                                                                                      & Presentati                                                                                                                              & Question a                                                                                                                              & C:/Users/rossz/OneDrive/CC/data/ciq-dji/007435-mmm/3M Company, Q3 2019 Earnings Call, Oct 24, 2019.pdf                                 \\\\\n",
       "\t NA                                                                                                                                      & 2019-10-24                                                                                                                              & NA                                                                                                                                      & NA                                                                                                                                      & NA                                                                                                                                      & Presentati                                                                                                                              & Question a                                                                                                                              & C:/Users/rossz/OneDrive/CC/data/ciq-dji/179534-v/Visa Inc., Q4 2019 Earnings Call, Oct 24, 2019.pdf                                    \\\\\n",
       "\t NA                                                                                                                                      & 2019-10-25                                                                                                                              & NA                                                                                                                                      & NA                                                                                                                                      & NA                                                                                                                                      & Presentati                                                                                                                              & Question a                                                                                                                              & C:/Users/rossz/OneDrive/CC/data/ciq-dji/002136-vz/Verizon Communications Inc., Q3 2019 Earnings Call, Oct 25, 2019.pdf                 \\\\\n",
       "\t NA                                                                                                                                      & 2019-10-25                                                                                                                              & NA                                                                                                                                      & NA                                                                                                                                      & NA                                                                                                                                      & Presentati                                                                                                                              & Question a                                                                                                                              & C:/Users/rossz/OneDrive/CC/data/ciq-dji/005234-gt/The Goodyear Tire  Rubber Company, Q3 2019 Earnings Call, Oct 25, 2019.pdf           \\\\\n",
       "\t NA                                                                                                                                      & 2019-10-28                                                                                                                              & NA                                                                                                                                      & NA                                                                                                                                      & NA                                                                                                                                      & Presentati                                                                                                                              & Question a                                                                                                                              & C:/Users/rossz/OneDrive/CC/data/ciq-dji/009899-t/ATT Inc., Q3 2019 Earnings Call, Oct 28, 2019.pdf                                     \\\\\n",
       "\t NA                                                                                                                                      & 2019-10-28                                                                                                                              & NA                                                                                                                                      & NA                                                                                                                                      & NA                                                                                                                                      & Presentati                                                                                                                              & Question a                                                                                                                              & C:/Users/rossz/OneDrive/CC/data/ciq-dji/011264-wba/Walgreens Boots Alliance, Inc., Q4 2019 Earnings Call, Oct 28, 2019.pdf             \\\\\n",
       "\t NA                                                                                                                                      & 2019-10-29                                                                                                                              & NA                                                                                                                                      & NA                                                                                                                                      & NA                                                                                                                                      & Presentati                                                                                                                              & Question a                                                                                                                              & C:/Users/rossz/OneDrive/CC/data/ciq-dji/005073-gm/General Motors Company, Q3 2019 Earnings Call, Oct 29, 2019.pdf                      \\\\\n",
       "\t NA                                                                                                                                      & 2019-10-29                                                                                                                              & NA                                                                                                                                      & NA                                                                                                                                      & NA                                                                                                                                      & Presentati                                                                                                                              & Question a                                                                                                                              & C:/Users/rossz/OneDrive/CC/data/ciq-dji/007257-mrk/Merck  Co., Inc., Q3 2019 Earnings Call, Oct 29, 2019.pdf                           \\\\\n",
       "\t NA                                                                                                                                      & 2019-10-29                                                                                                                              & NA                                                                                                                                      & NA                                                                                                                                      & NA                                                                                                                                      & Presentati                                                                                                                              & Question a                                                                                                                              & C:/Users/rossz/OneDrive/CC/data/ciq-dji/008530-pfe/Pfizer Inc., Q3 2019 Earnings Call, Oct 29, 2019.pdf                                \\\\\n",
       "\t NA                                                                                                                                      & 2019-10-30                                                                                                                              & NA                                                                                                                                      & NA                                                                                                                                      & NA                                                                                                                                      & Presentati                                                                                                                              & Question a                                                                                                                              & C:/Users/rossz/OneDrive/CC/data/ciq-dji/001690-appl/Apple Inc., Q4 2019 Earnings Call, Oct 30, 2019.pdf                                \\\\\n",
       "\t NA                                                                                                                                      & 2019-10-30                                                                                                                              & NA                                                                                                                                      & NA                                                                                                                                      & NA                                                                                                                                      & Presentati                                                                                                                              & Question a                                                                                                                              & C:/Users/rossz/OneDrive/CC/data/ciq-dji/005047-ge/General Electric Company, Q3 2019 Earnings Call, Oct 30, 2019.pdf                    \\\\\n",
       "\t NA                                                                                                                                      & 2019-10-31                                                                                                                              & NA                                                                                                                                      & NA                                                                                                                                      & NA                                                                                                                                      & Presentati                                                                                                                              & Question a                                                                                                                              & C:/Users/rossz/OneDrive/CC/data/ciq-dji/004060-dd/DuPont de Nemours, Inc., Q3 2019 Earnings Call, Oct 31, 2019.pdf                     \\\\\n",
       "\t NA                                                                                                                                      & 2019-10-31                                                                                                                              & NA                                                                                                                                      & NA                                                                                                                                      & NA                                                                                                                                      & Presentati                                                                                                                              & Question a                                                                                                                              & C:/Users/rossz/OneDrive/CC/data/ciq-dji/006104-ip/International Paper Company, Q3 2019 Earnings Call, Oct 31, 2019.pdf                 \\\\\n",
       "\t NA                                                                                                                                      & 2019-10-31                                                                                                                              & NA                                                                                                                                      & NA                                                                                                                                      & NA                                                                                                                                      & Presentati                                                                                                                              & Question a                                                                                                                              & C:/Users/rossz/OneDrive/CC/data/ciq-dji/008543-mo/Altria Group, Inc., Q3 2019 Earnings Call, Oct 31, 2019.pdf                          \\\\\n",
       "\t NA                                                                                                                                      & 2019-11-01                                                                                                                              & NA                                                                                                                                      & NA                                                                                                                                      & NA                                                                                                                                      & Presentati                                                                                                                              & Question a                                                                                                                              & C:/Users/rossz/OneDrive/CC/data/ciq-dji/001487-aig/American International Group, Inc., Q3 2019 Earnings Call, Nov 01, 2019.pdf         \\\\\n",
       "\t NA                                                                                                                                      & 2019-11-01                                                                                                                              & NA                                                                                                                                      & NA                                                                                                                                      & NA                                                                                                                                      & Presentati                                                                                                                              & Question a                                                                                                                              & C:/Users/rossz/OneDrive/CC/data/ciq-dji/002991-cvx/Chevron Corporation, Q3 2019 Earnings Call, Nov 01, 2019.pdf                        \\\\\n",
       "\t NA                                                                                                                                      & 2019-11-01                                                                                                                              & NA                                                                                                                                      & NA                                                                                                                                      & NA                                                                                                                                      & Presentati                                                                                                                              & Question a                                                                                                                              & C:/Users/rossz/OneDrive/CC/data/ciq-dji/004503-xom/Exxon Mobil Corporation, Q3 2019 Earnings Call, Nov 01, 2019.pdf                    \\\\\n",
       "\t NA                                                                                                                                      & 2019-11-07                                                                                                                              & NA                                                                                                                                      & NA                                                                                                                                      & NA                                                                                                                                      & Presentati                                                                                                                              & Question a                                                                                                                              & C:/Users/rossz/OneDrive/CC/data/ciq-dji/003980-dis/The Walt Disney Company, Q4 2019 Earnings Call, Nov 07, 2019.pdf                    \\\\\n",
       "\t NA                                                                                                                                      & 2019-11-07                                                                                                                              & NA                                                                                                                                      & NA                                                                                                                                      & NA                                                                                                                                      & Presentati                                                                                                                              & NA                                                                                                                                      & C:/Users/rossz/OneDrive/CC/data/ciq-dji/004194-kodk/Eastman Kodak Company, Q3 2019 Earnings Call, Nov 07, 2019.pdf                     \\\\\n",
       "\t NA                                                                                                                                      & 2019-11-13                                                                                                                              & NA                                                                                                                                      & NA                                                                                                                                      & NA                                                                                                                                      & Presentati                                                                                                                              & Question a                                                                                                                              & C:/Users/rossz/OneDrive/CC/data/ciq-dji/020779-csco/Cisco Systems, Inc., Q1 2020 Earnings Call, Nov 13, 2019.pdf                       \\\\\n",
       "\\end{tabular}\n"
      ],
      "text/markdown": [
       "\n",
       "| gvkey | headline_date | mid_utc | headline | keydevid | md | qa | cc_path |\n",
       "|---|---|---|---|---|---|---|---|\n",
       "| NA                                                                                                                                      | 2010-08-12                                                                                                                              | NA                                                                                                                                      | NA                                                                                                                                      | NA                                                                                                                                      | Presentati                                                                                                                              | Question a                                                                                                                              | C:/Users/rossz/OneDrive/CC/data/ciq-dji/005073-gm/General Motors Company, Q2 2010 Earnings Call, Aug-12-2010.pdf                        |\n",
       "| NA                                                                                                                                      | 2010-11-10                                                                                                                              | NA                                                                                                                                      | NA                                                                                                                                      | NA                                                                                                                                      | Presentati                                                                                                                              | NA                                                                                                                                      | C:/Users/rossz/OneDrive/CC/data/ciq-dji/005073-gm/General Motors Company, Q3 2010 Earnings Call, Nov 10, 2010.pdf                       |\n",
       "| NA                                                                                                                                      | 2019-06-27                                                                                                                              | NA                                                                                                                                      | NA                                                                                                                                      | NA                                                                                                                                      | Presentati                                                                                                                              | Question a                                                                                                                              | C:/Users/rossz/OneDrive/CC/data/ciq-dji/007906-nke/NIKE, Inc., Q4 2019 Earnings Call, Jun 27, 2019.pdf                                  |\n",
       "| NA                                                                                                                                      | 2019-06-27                                                                                                                              | NA                                                                                                                                      | NA                                                                                                                                      | NA                                                                                                                                      | Presentati                                                                                                                              | Question a                                                                                                                              | C:/Users/rossz/OneDrive/CC/data/ciq-dji/011264-wba/Walgreens Boots Alliance, Inc., Q3 2019 Earnings Call, Jun 27, 2019.pdf              |\n",
       "| NA                                                                                                                                      | 2019-07-15                                                                                                                              | NA                                                                                                                                      | NA                                                                                                                                      | NA                                                                                                                                      | Presentati                                                                                                                              | Question a                                                                                                                              | C:/Users/rossz/OneDrive/CC/data/ciq-dji/003243-c/Citigroup Inc., Q2 2019 Earnings Call, Jul 15, 2019.pdf                                |\n",
       "| NA                                                                                                                                      | 2019-07-16                                                                                                                              | NA                                                                                                                                      | NA                                                                                                                                      | NA                                                                                                                                      | Presentati                                                                                                                              | Question a                                                                                                                              | C:/Users/rossz/OneDrive/CC/data/ciq-dji/002968-jpm/JPMorgan Chase  Co., Q2 2019 Earnings Call, Jul 16, 2019.pdf                         |\n",
       "| NA                                                                                                                                      | 2019-07-16                                                                                                                              | NA                                                                                                                                      | NA                                                                                                                                      | NA                                                                                                                                      | Presentati                                                                                                                              | Question a                                                                                                                              | C:/Users/rossz/OneDrive/CC/data/ciq-dji/006266-jnj/Johnson  Johnson, Q2 2019 Earnings Call, Jul 16, 2019.pdf                            |\n",
       "| NA                                                                                                                                      | 2019-07-16                                                                                                                              | NA                                                                                                                                      | NA                                                                                                                                      | NA                                                                                                                                      | Presentati                                                                                                                              | Question a                                                                                                                              | C:/Users/rossz/OneDrive/CC/data/ciq-dji/114628-gs/The Goldman Sachs Group, Inc., Q2 2019 Earnings Call, Jul 16, 2019.pdf                |\n",
       "| NA                                                                                                                                      | 2019-07-17                                                                                                                              | NA                                                                                                                                      | NA                                                                                                                                      | NA                                                                                                                                      | Presentati                                                                                                                              | Question a                                                                                                                              | C:/Users/rossz/OneDrive/CC/data/ciq-dji/006066-ibm/International Business Machines Corporation, Q2 2019 Earnings Call, Jul 17, 2019.pdf |\n",
       "| NA                                                                                                                                      | 2019-07-17                                                                                                                              | NA                                                                                                                                      | NA                                                                                                                                      | NA                                                                                                                                      | Presentati                                                                                                                              | Question a                                                                                                                              | C:/Users/rossz/OneDrive/CC/data/ciq-dji/007647-bac/Bank of America Corporation, Q2 2019 Earnings Call, Jul 17, 2019.pdf                 |\n",
       "| NA                                                                                                                                      | 2019-07-18                                                                                                                              | NA                                                                                                                                      | NA                                                                                                                                      | NA                                                                                                                                      | Presentati                                                                                                                              | Question a                                                                                                                              | C:/Users/rossz/OneDrive/CC/data/ciq-dji/001300-hon/Honeywell International Inc., Q2 2019 Earnings Call, Jul 18, 2019.pdf                |\n",
       "| NA                                                                                                                                      | 2019-07-18                                                                                                                              | NA                                                                                                                                      | NA                                                                                                                                      | NA                                                                                                                                      | Presentati                                                                                                                              | Question a                                                                                                                              | C:/Users/rossz/OneDrive/CC/data/ciq-dji/010903-unh/UnitedHealth Group Incorporated, Q2 2019 Earnings Call, Jul 18, 2019.pdf             |\n",
       "| NA                                                                                                                                      | 2019-07-18                                                                                                                              | NA                                                                                                                                      | NA                                                                                                                                      | NA                                                                                                                                      | Presentati                                                                                                                              | Question a                                                                                                                              | C:/Users/rossz/OneDrive/CC/data/ciq-dji/012141-msft/Microsoft Corporation, Q4 2019 Earnings Call, Jul 18, 2019.pdf                      |\n",
       "| NA                                                                                                                                      | 2019-07-19                                                                                                                              | NA                                                                                                                                      | NA                                                                                                                                      | NA                                                                                                                                      | Presentati                                                                                                                              | Question a                                                                                                                              | C:/Users/rossz/OneDrive/CC/data/ciq-dji/001447-axp/American Express Company, Q2 2019 Earnings Call, Jul 19, 2019.pdf                    |\n",
       "| NA                                                                                                                                      | 2019-07-23                                                                                                                              | NA                                                                                                                                      | NA                                                                                                                                      | NA                                                                                                                                      | Presentati                                                                                                                              | Question a                                                                                                                              | C:/Users/rossz/OneDrive/CC/data/ciq-dji/003144-ko/The Coca-Cola Company, Q2 2019 Earnings Call, Jul 23, 2019.pdf                        |\n",
       "| NA                                                                                                                                      | 2019-07-23                                                                                                                              | NA                                                                                                                                      | NA                                                                                                                                      | NA                                                                                                                                      | Presentati                                                                                                                              | Question a                                                                                                                              | C:/Users/rossz/OneDrive/CC/data/ciq-dji/010983-utx/United Technologies Corporation, Q2 2019 Earnings Call, Jul 23, 2019.pdf             |\n",
       "| NA                                                                                                                                      | 2019-07-23                                                                                                                              | NA                                                                                                                                      | NA                                                                                                                                      | NA                                                                                                                                      | Presentati                                                                                                                              | Question a                                                                                                                              | C:/Users/rossz/OneDrive/CC/data/ciq-dji/062689-trv/The Travelers Companies, Inc., Q2 2019 Earnings Call, Jul 23, 2019.pdf               |\n",
       "| NA                                                                                                                                      | 2019-07-23                                                                                                                              | NA                                                                                                                                      | NA                                                                                                                                      | NA                                                                                                                                      | Presentati                                                                                                                              | Question a                                                                                                                              | C:/Users/rossz/OneDrive/CC/data/ciq-dji/179534-v/Visa Inc., Q3 2019 Earnings Call, Jul 23, 2019.pdf                                     |\n",
       "| NA                                                                                                                                      | 2019-07-24                                                                                                                              | NA                                                                                                                                      | NA                                                                                                                                      | NA                                                                                                                                      | Presentati                                                                                                                              | Question a                                                                                                                              | C:/Users/rossz/OneDrive/CC/data/ciq-dji/002285-ba/The Boeing Company, Q2 2019 Earnings Call, Jul 24, 2019.pdf                           |\n",
       "| NA                                                                                                                                      | 2019-07-24                                                                                                                              | NA                                                                                                                                      | NA                                                                                                                                      | NA                                                                                                                                      | Presentati                                                                                                                              | Question a                                                                                                                              | C:/Users/rossz/OneDrive/CC/data/ciq-dji/002817-cat/Caterpillar Inc., Q2 2019 Earnings Call, Jul 24, 2019.pdf                            |\n",
       "| NA                                                                                                                                      | 2019-07-24                                                                                                                              | NA                                                                                                                                      | NA                                                                                                                                      | NA                                                                                                                                      | Presentati                                                                                                                              | Question a                                                                                                                              | C:/Users/rossz/OneDrive/CC/data/ciq-dji/009899-t/ATT Inc., Q2 2019 Earnings Call, Jul 24, 2019.pdf                                      |\n",
       "| NA                                                                                                                                      | 2019-07-25                                                                                                                              | NA                                                                                                                                      | NA                                                                                                                                      | NA                                                                                                                                      | Presentati                                                                                                                              | Question a                                                                                                                              | C:/Users/rossz/OneDrive/CC/data/ciq-dji/006008-intc/Intel Corporation, Q2 2019 Earnings Call, Jul 25, 2019.pdf                          |\n",
       "| NA                                                                                                                                      | 2019-07-25                                                                                                                              | NA                                                                                                                                      | NA                                                                                                                                      | NA                                                                                                                                      | Presentati                                                                                                                              | Question a                                                                                                                              | C:/Users/rossz/OneDrive/CC/data/ciq-dji/006104-ip/International Paper Company, Q2 2019 Earnings Call, Jul 25, 2019.pdf                  |\n",
       "| NA                                                                                                                                      | 2019-07-25                                                                                                                              | NA                                                                                                                                      | NA                                                                                                                                      | NA                                                                                                                                      | Presentati                                                                                                                              | Question a                                                                                                                              | C:/Users/rossz/OneDrive/CC/data/ciq-dji/007435-mmm/3M Company, Q2 2019 Earnings Call, Jul 25, 2019.pdf                                  |\n",
       "| NA                                                                                                                                      | 2019-07-26                                                                                                                              | NA                                                                                                                                      | NA                                                                                                                                      | NA                                                                                                                                      | Presentati                                                                                                                              | Question a                                                                                                                              | C:/Users/rossz/OneDrive/CC/data/ciq-dji/005234-gt/The Goodyear Tire  Rubber Company, Q2 2019 Earnings Call, Jul 26, 2019.pdf            |\n",
       "| NA                                                                                                                                      | 2019-07-26                                                                                                                              | NA                                                                                                                                      | NA                                                                                                                                      | NA                                                                                                                                      | Presentati                                                                                                                              | Question a                                                                                                                              | C:/Users/rossz/OneDrive/CC/data/ciq-dji/007154-mcd/McDonalds Corporation, Q2 2019 Earnings Call, Jul 26, 2019.pdf                       |\n",
       "| NA                                                                                                                                      | 2019-07-29                                                                                                                              | NA                                                                                                                                      | NA                                                                                                                                      | NA                                                                                                                                      | Presentati                                                                                                                              | Question a                                                                                                                              | C:/Users/rossz/OneDrive/CC/data/ciq-dji/008530-pfe/Pfizer Inc., Q2 2019 Earnings Call, Jul 29, 2019.pdf                                 |\n",
       "| NA                                                                                                                                      | 2019-07-30                                                                                                                              | NA                                                                                                                                      | NA                                                                                                                                      | NA                                                                                                                                      | Presentati                                                                                                                              | Question a                                                                                                                              | C:/Users/rossz/OneDrive/CC/data/ciq-dji/001690-appl/Apple Inc., Q3 2019 Earnings Call, Jul 30, 2019.pdf                                 |\n",
       "| NA                                                                                                                                      | 2019-07-30                                                                                                                              | NA                                                                                                                                      | NA                                                                                                                                      | NA                                                                                                                                      | Presentati                                                                                                                              | Question a                                                                                                                              | C:/Users/rossz/OneDrive/CC/data/ciq-dji/007257-mrk/Merck  Co., Inc., Q2 2019 Earnings Call, Jul 30, 2019.pdf                            |\n",
       "| NA                                                                                                                                      | 2019-07-30                                                                                                                              | NA                                                                                                                                      | NA                                                                                                                                      | NA                                                                                                                                      | Presentati                                                                                                                              | Question a                                                                                                                              | C:/Users/rossz/OneDrive/CC/data/ciq-dji/008543-mo/Altria Group, Inc., Q2 2019 Earnings Call, Jul 30, 2019.pdf                           |\n",
       "| NA                                                                                                                                      | 2019-07-30                                                                                                                              | NA                                                                                                                                      | NA                                                                                                                                      | NA                                                                                                                                      | Presentati                                                                                                                              | Question a                                                                                                                              | C:/Users/rossz/OneDrive/CC/data/ciq-dji/008762-pg/The Procter  Gamble Company, Q4 2019 Earnings Call, Jul 30, 2019.pdf                  |\n",
       "| NA                                                                                                                                      | 2019-07-31                                                                                                                              | NA                                                                                                                                      | NA                                                                                                                                      | NA                                                                                                                                      | Presentati                                                                                                                              | Question a                                                                                                                              | C:/Users/rossz/OneDrive/CC/data/ciq-dji/005047-ge/General Electric Company, Q2 2019 Earnings Call, Jul 31, 2019.pdf                     |\n",
       "| NA                                                                                                                                      | 2019-08-01                                                                                                                              | NA                                                                                                                                      | NA                                                                                                                                      | NA                                                                                                                                      | Presentati                                                                                                                              | Question a                                                                                                                              | C:/Users/rossz/OneDrive/CC/data/ciq-dji/002136-vz/Verizon Communications Inc., Q2 2019 Earnings Call, Aug 01, 2019.pdf                  |\n",
       "| NA                                                                                                                                      | 2019-08-01                                                                                                                              | NA                                                                                                                                      | NA                                                                                                                                      | NA                                                                                                                                      | Presentati                                                                                                                              | Question a                                                                                                                              | C:/Users/rossz/OneDrive/CC/data/ciq-dji/004060-dd/DuPont de Nemours, Inc., Q2 2019 Earnings Call, Aug 01, 2019.pdf                      |\n",
       "| NA                                                                                                                                      | 2019-08-01                                                                                                                              | NA                                                                                                                                      | NA                                                                                                                                      | NA                                                                                                                                      | Presentati                                                                                                                              | Question a                                                                                                                              | C:/Users/rossz/OneDrive/CC/data/ciq-dji/005073-gm/General Motors Company, Q2 2019 Earnings Call, Aug 01, 2019.pdf                       |\n",
       "| NA                                                                                                                                      | 2019-08-02                                                                                                                              | NA                                                                                                                                      | NA                                                                                                                                      | NA                                                                                                                                      | Presentati                                                                                                                              | Question a                                                                                                                              | C:/Users/rossz/OneDrive/CC/data/ciq-dji/002991-cvx/Chevron Corporation, Q2 2019 Earnings Call, Aug 02, 2019.pdf                         |\n",
       "| NA                                                                                                                                      | 2019-08-02                                                                                                                              | NA                                                                                                                                      | NA                                                                                                                                      | NA                                                                                                                                      | Presentati                                                                                                                              | Question a                                                                                                                              | C:/Users/rossz/OneDrive/CC/data/ciq-dji/004503-xom/Exxon Mobil Corporation, Q2 2019 Earnings Call, Aug 02, 2019.pdf                     |\n",
       "| NA                                                                                                                                      | 2019-08-06                                                                                                                              | NA                                                                                                                                      | NA                                                                                                                                      | NA                                                                                                                                      | Presentati                                                                                                                              | Question a                                                                                                                              | C:/Users/rossz/OneDrive/CC/data/ciq-dji/003980-dis/The Walt Disney Company, Q3 2019 Earnings Call, Aug 06, 2019.pdf                     |\n",
       "| NA                                                                                                                                      | 2019-08-08                                                                                                                              | NA                                                                                                                                      | NA                                                                                                                                      | NA                                                                                                                                      | Presentati                                                                                                                              | Question a                                                                                                                              | C:/Users/rossz/OneDrive/CC/data/ciq-dji/001487-aig/American International Group, Inc., Q2 2019 Earnings Call, Aug 08, 2019.pdf          |\n",
       "| NA                                                                                                                                      | 2019-08-08                                                                                                                              | NA                                                                                                                                      | NA                                                                                                                                      | NA                                                                                                                                      | Presentati                                                                                                                              | Question a                                                                                                                              | C:/Users/rossz/OneDrive/CC/data/ciq-dji/004194-kodk/Eastman Kodak Company, Q2 2019 Earnings Call, Aug 08, 2019.pdf                      |\n",
       "| NA                                                                                                                                      | 2019-08-14                                                                                                                              | NA                                                                                                                                      | NA                                                                                                                                      | NA                                                                                                                                      | Presentati                                                                                                                              | Question a                                                                                                                              | C:/Users/rossz/OneDrive/CC/data/ciq-dji/020779-csco/Cisco Systems, Inc., Q4 2019 Earnings Call, Aug 14, 2019.pdf                        |\n",
       "| NA                                                                                                                                      | 2019-08-20                                                                                                                              | NA                                                                                                                                      | NA                                                                                                                                      | NA                                                                                                                                      | Presentati                                                                                                                              | Question a                                                                                                                              | C:/Users/rossz/OneDrive/CC/data/ciq-dji/005680-hd/The Home Depot, Inc., Q2 2020 Earnings Call, Aug 20, 2019.pdf                         |\n",
       "| NA                                                                                                                                      | 2019-08-22                                                                                                                              | NA                                                                                                                                      | NA                                                                                                                                      | NA                                                                                                                                      | Presentati                                                                                                                              | Question a                                                                                                                              | C:/Users/rossz/OneDrive/CC/data/ciq-dji/005606-hpq/HP Inc., Q3 2019 Earnings Call, Aug 22, 2019.pdf                                     |\n",
       "| NA                                                                                                                                      | 2019-09-24                                                                                                                              | NA                                                                                                                                      | NA                                                                                                                                      | NA                                                                                                                                      | Presentati                                                                                                                              | Question a                                                                                                                              | C:/Users/rossz/OneDrive/CC/data/ciq-dji/007906-nke/NIKE, Inc., Q1 2020 Earnings Call, Sep 24, 2019.pdf                                  |\n",
       "| NA                                                                                                                                      | 2019-10-15                                                                                                                              | NA                                                                                                                                      | NA                                                                                                                                      | NA                                                                                                                                      | Presentati                                                                                                                              | Question a                                                                                                                              | C:/Users/rossz/OneDrive/CC/data/ciq-dji/002968-jpm/JPMorgan Chase  Co., Q3 2019 Earnings Call, Oct 15, 2019.pdf                         |\n",
       "| NA                                                                                                                                      | 2019-10-15                                                                                                                              | NA                                                                                                                                      | NA                                                                                                                                      | NA                                                                                                                                      | Presentati                                                                                                                              | Question a                                                                                                                              | C:/Users/rossz/OneDrive/CC/data/ciq-dji/003243-c/Citigroup Inc., Q3 2019 Earnings Call, Oct 15, 2019.pdf                                |\n",
       "| NA                                                                                                                                      | 2019-10-15                                                                                                                              | NA                                                                                                                                      | NA                                                                                                                                      | NA                                                                                                                                      | Presentati                                                                                                                              | Question a                                                                                                                              | C:/Users/rossz/OneDrive/CC/data/ciq-dji/006266-jnj/Johnson  Johnson, Q3 2019 Earnings Call, Oct 15, 2019.pdf                            |\n",
       "| NA                                                                                                                                      | 2019-10-15                                                                                                                              | NA                                                                                                                                      | NA                                                                                                                                      | NA                                                                                                                                      | Presentati                                                                                                                              | Question a                                                                                                                              | C:/Users/rossz/OneDrive/CC/data/ciq-dji/010903-unh/UnitedHealth Group Incorporated, Q3 2019 Earnings Call, Oct 15, 2019.pdf             |\n",
       "| NA                                                                                                                                      | 2019-10-15                                                                                                                              | NA                                                                                                                                      | NA                                                                                                                                      | NA                                                                                                                                      | Presentati                                                                                                                              | Question a                                                                                                                              | C:/Users/rossz/OneDrive/CC/data/ciq-dji/114628-gs/The Goldman Sachs Group, Inc., Q3 2019 Earnings Call, Oct 15, 2019.pdf                |\n",
       "| NA                                                                                                                                      | 2019-10-16                                                                                                                              | NA                                                                                                                                      | NA                                                                                                                                      | NA                                                                                                                                      | Presentati                                                                                                                              | Question a                                                                                                                              | C:/Users/rossz/OneDrive/CC/data/ciq-dji/006066-ibm/International Business Machines Corporation, Q3 2019 Earnings Call, Oct 16, 2019.pdf |\n",
       "| NA                                                                                                                                      | 2019-10-16                                                                                                                              | NA                                                                                                                                      | NA                                                                                                                                      | NA                                                                                                                                      | Presentati                                                                                                                              | Question a                                                                                                                              | C:/Users/rossz/OneDrive/CC/data/ciq-dji/007647-bac/Bank of America Corporation, Q3 2019 Earnings Call, Oct 16, 2019.pdf                 |\n",
       "| NA                                                                                                                                      | 2019-10-17                                                                                                                              | NA                                                                                                                                      | NA                                                                                                                                      | NA                                                                                                                                      | Presentati                                                                                                                              | Question a                                                                                                                              | C:/Users/rossz/OneDrive/CC/data/ciq-dji/001300-hon/Honeywell International Inc., Q3 2019 Earnings Call, Oct 17, 2019.pdf                |\n",
       "| NA                                                                                                                                      | 2019-10-18                                                                                                                              | NA                                                                                                                                      | NA                                                                                                                                      | NA                                                                                                                                      | Presentati                                                                                                                              | Question a                                                                                                                              | C:/Users/rossz/OneDrive/CC/data/ciq-dji/001447-axp/American Express Company, Q3 2019 Earnings Call, Oct 18, 2019.pdf                    |\n",
       "| NA                                                                                                                                      | 2019-10-18                                                                                                                              | NA                                                                                                                                      | NA                                                                                                                                      | NA                                                                                                                                      | Presentati                                                                                                                              | Question a                                                                                                                              | C:/Users/rossz/OneDrive/CC/data/ciq-dji/003144-ko/The Coca-Cola Company, Q3 2019 Earnings Call, Oct 18, 2019.pdf                        |\n",
       "| NA                                                                                                                                      | 2019-10-22                                                                                                                              | NA                                                                                                                                      | NA                                                                                                                                      | NA                                                                                                                                      | Presentati                                                                                                                              | Question a                                                                                                                              | C:/Users/rossz/OneDrive/CC/data/ciq-dji/007154-mcd/McDonalds Corporation, Q3 2019 Earnings Call, Oct 22, 2019.pdf                       |\n",
       "| NA                                                                                                                                      | 2019-10-22                                                                                                                              | NA                                                                                                                                      | NA                                                                                                                                      | NA                                                                                                                                      | Presentati                                                                                                                              | Question a                                                                                                                              | C:/Users/rossz/OneDrive/CC/data/ciq-dji/008762-pg/The Procter  Gamble Company, Q1 2020 Earnings Call, Oct 22, 2019.pdf                  |\n",
       "| NA                                                                                                                                      | 2019-10-22                                                                                                                              | NA                                                                                                                                      | NA                                                                                                                                      | NA                                                                                                                                      | Presentati                                                                                                                              | Question a                                                                                                                              | C:/Users/rossz/OneDrive/CC/data/ciq-dji/010983-utx/United Technologies Corporation, Q3 2019 Earnings Call, Oct 22, 2019.pdf             |\n",
       "| NA                                                                                                                                      | 2019-10-22                                                                                                                              | NA                                                                                                                                      | NA                                                                                                                                      | NA                                                                                                                                      | Presentati                                                                                                                              | Question a                                                                                                                              | C:/Users/rossz/OneDrive/CC/data/ciq-dji/062689-trv/The Travelers Companies, Inc., Q3 2019 Earnings Call, Oct 22, 2019.pdf               |\n",
       "| NA                                                                                                                                      | 2019-10-23                                                                                                                              | NA                                                                                                                                      | NA                                                                                                                                      | NA                                                                                                                                      | Presentati                                                                                                                              | Question a                                                                                                                              | C:/Users/rossz/OneDrive/CC/data/ciq-dji/002285-ba/The Boeing Company, Q3 2019 Earnings Call, Oct 23, 2019.pdf                           |\n",
       "| NA                                                                                                                                      | 2019-10-23                                                                                                                              | NA                                                                                                                                      | NA                                                                                                                                      | NA                                                                                                                                      | Presentati                                                                                                                              | Question a                                                                                                                              | C:/Users/rossz/OneDrive/CC/data/ciq-dji/002817-cat/Caterpillar Inc., Q3 2019 Earnings Call, Oct 23, 2019.pdf                            |\n",
       "| NA                                                                                                                                      | 2019-10-23                                                                                                                              | NA                                                                                                                                      | NA                                                                                                                                      | NA                                                                                                                                      | Presentati                                                                                                                              | Question a                                                                                                                              | C:/Users/rossz/OneDrive/CC/data/ciq-dji/012141-msft/Microsoft Corporation, Q1 2020 Earnings Call, Oct 23, 2019.pdf                      |\n",
       "| NA                                                                                                                                      | 2019-10-24                                                                                                                              | NA                                                                                                                                      | NA                                                                                                                                      | NA                                                                                                                                      | Presentati                                                                                                                              | Question a                                                                                                                              | C:/Users/rossz/OneDrive/CC/data/ciq-dji/006008-intc/Intel Corporation, Q3 2019 Earnings Call, Oct 24, 2019.pdf                          |\n",
       "| NA                                                                                                                                      | 2019-10-24                                                                                                                              | NA                                                                                                                                      | NA                                                                                                                                      | NA                                                                                                                                      | Presentati                                                                                                                              | Question a                                                                                                                              | C:/Users/rossz/OneDrive/CC/data/ciq-dji/007435-mmm/3M Company, Q3 2019 Earnings Call, Oct 24, 2019.pdf                                  |\n",
       "| NA                                                                                                                                      | 2019-10-24                                                                                                                              | NA                                                                                                                                      | NA                                                                                                                                      | NA                                                                                                                                      | Presentati                                                                                                                              | Question a                                                                                                                              | C:/Users/rossz/OneDrive/CC/data/ciq-dji/179534-v/Visa Inc., Q4 2019 Earnings Call, Oct 24, 2019.pdf                                     |\n",
       "| NA                                                                                                                                      | 2019-10-25                                                                                                                              | NA                                                                                                                                      | NA                                                                                                                                      | NA                                                                                                                                      | Presentati                                                                                                                              | Question a                                                                                                                              | C:/Users/rossz/OneDrive/CC/data/ciq-dji/002136-vz/Verizon Communications Inc., Q3 2019 Earnings Call, Oct 25, 2019.pdf                  |\n",
       "| NA                                                                                                                                      | 2019-10-25                                                                                                                              | NA                                                                                                                                      | NA                                                                                                                                      | NA                                                                                                                                      | Presentati                                                                                                                              | Question a                                                                                                                              | C:/Users/rossz/OneDrive/CC/data/ciq-dji/005234-gt/The Goodyear Tire  Rubber Company, Q3 2019 Earnings Call, Oct 25, 2019.pdf            |\n",
       "| NA                                                                                                                                      | 2019-10-28                                                                                                                              | NA                                                                                                                                      | NA                                                                                                                                      | NA                                                                                                                                      | Presentati                                                                                                                              | Question a                                                                                                                              | C:/Users/rossz/OneDrive/CC/data/ciq-dji/009899-t/ATT Inc., Q3 2019 Earnings Call, Oct 28, 2019.pdf                                      |\n",
       "| NA                                                                                                                                      | 2019-10-28                                                                                                                              | NA                                                                                                                                      | NA                                                                                                                                      | NA                                                                                                                                      | Presentati                                                                                                                              | Question a                                                                                                                              | C:/Users/rossz/OneDrive/CC/data/ciq-dji/011264-wba/Walgreens Boots Alliance, Inc., Q4 2019 Earnings Call, Oct 28, 2019.pdf              |\n",
       "| NA                                                                                                                                      | 2019-10-29                                                                                                                              | NA                                                                                                                                      | NA                                                                                                                                      | NA                                                                                                                                      | Presentati                                                                                                                              | Question a                                                                                                                              | C:/Users/rossz/OneDrive/CC/data/ciq-dji/005073-gm/General Motors Company, Q3 2019 Earnings Call, Oct 29, 2019.pdf                       |\n",
       "| NA                                                                                                                                      | 2019-10-29                                                                                                                              | NA                                                                                                                                      | NA                                                                                                                                      | NA                                                                                                                                      | Presentati                                                                                                                              | Question a                                                                                                                              | C:/Users/rossz/OneDrive/CC/data/ciq-dji/007257-mrk/Merck  Co., Inc., Q3 2019 Earnings Call, Oct 29, 2019.pdf                            |\n",
       "| NA                                                                                                                                      | 2019-10-29                                                                                                                              | NA                                                                                                                                      | NA                                                                                                                                      | NA                                                                                                                                      | Presentati                                                                                                                              | Question a                                                                                                                              | C:/Users/rossz/OneDrive/CC/data/ciq-dji/008530-pfe/Pfizer Inc., Q3 2019 Earnings Call, Oct 29, 2019.pdf                                 |\n",
       "| NA                                                                                                                                      | 2019-10-30                                                                                                                              | NA                                                                                                                                      | NA                                                                                                                                      | NA                                                                                                                                      | Presentati                                                                                                                              | Question a                                                                                                                              | C:/Users/rossz/OneDrive/CC/data/ciq-dji/001690-appl/Apple Inc., Q4 2019 Earnings Call, Oct 30, 2019.pdf                                 |\n",
       "| NA                                                                                                                                      | 2019-10-30                                                                                                                              | NA                                                                                                                                      | NA                                                                                                                                      | NA                                                                                                                                      | Presentati                                                                                                                              | Question a                                                                                                                              | C:/Users/rossz/OneDrive/CC/data/ciq-dji/005047-ge/General Electric Company, Q3 2019 Earnings Call, Oct 30, 2019.pdf                     |\n",
       "| NA                                                                                                                                      | 2019-10-31                                                                                                                              | NA                                                                                                                                      | NA                                                                                                                                      | NA                                                                                                                                      | Presentati                                                                                                                              | Question a                                                                                                                              | C:/Users/rossz/OneDrive/CC/data/ciq-dji/004060-dd/DuPont de Nemours, Inc., Q3 2019 Earnings Call, Oct 31, 2019.pdf                      |\n",
       "| NA                                                                                                                                      | 2019-10-31                                                                                                                              | NA                                                                                                                                      | NA                                                                                                                                      | NA                                                                                                                                      | Presentati                                                                                                                              | Question a                                                                                                                              | C:/Users/rossz/OneDrive/CC/data/ciq-dji/006104-ip/International Paper Company, Q3 2019 Earnings Call, Oct 31, 2019.pdf                  |\n",
       "| NA                                                                                                                                      | 2019-10-31                                                                                                                              | NA                                                                                                                                      | NA                                                                                                                                      | NA                                                                                                                                      | Presentati                                                                                                                              | Question a                                                                                                                              | C:/Users/rossz/OneDrive/CC/data/ciq-dji/008543-mo/Altria Group, Inc., Q3 2019 Earnings Call, Oct 31, 2019.pdf                           |\n",
       "| NA                                                                                                                                      | 2019-11-01                                                                                                                              | NA                                                                                                                                      | NA                                                                                                                                      | NA                                                                                                                                      | Presentati                                                                                                                              | Question a                                                                                                                              | C:/Users/rossz/OneDrive/CC/data/ciq-dji/001487-aig/American International Group, Inc., Q3 2019 Earnings Call, Nov 01, 2019.pdf          |\n",
       "| NA                                                                                                                                      | 2019-11-01                                                                                                                              | NA                                                                                                                                      | NA                                                                                                                                      | NA                                                                                                                                      | Presentati                                                                                                                              | Question a                                                                                                                              | C:/Users/rossz/OneDrive/CC/data/ciq-dji/002991-cvx/Chevron Corporation, Q3 2019 Earnings Call, Nov 01, 2019.pdf                         |\n",
       "| NA                                                                                                                                      | 2019-11-01                                                                                                                              | NA                                                                                                                                      | NA                                                                                                                                      | NA                                                                                                                                      | Presentati                                                                                                                              | Question a                                                                                                                              | C:/Users/rossz/OneDrive/CC/data/ciq-dji/004503-xom/Exxon Mobil Corporation, Q3 2019 Earnings Call, Nov 01, 2019.pdf                     |\n",
       "| NA                                                                                                                                      | 2019-11-07                                                                                                                              | NA                                                                                                                                      | NA                                                                                                                                      | NA                                                                                                                                      | Presentati                                                                                                                              | Question a                                                                                                                              | C:/Users/rossz/OneDrive/CC/data/ciq-dji/003980-dis/The Walt Disney Company, Q4 2019 Earnings Call, Nov 07, 2019.pdf                     |\n",
       "| NA                                                                                                                                      | 2019-11-07                                                                                                                              | NA                                                                                                                                      | NA                                                                                                                                      | NA                                                                                                                                      | Presentati                                                                                                                              | NA                                                                                                                                      | C:/Users/rossz/OneDrive/CC/data/ciq-dji/004194-kodk/Eastman Kodak Company, Q3 2019 Earnings Call, Nov 07, 2019.pdf                      |\n",
       "| NA                                                                                                                                      | 2019-11-13                                                                                                                              | NA                                                                                                                                      | NA                                                                                                                                      | NA                                                                                                                                      | Presentati                                                                                                                              | Question a                                                                                                                              | C:/Users/rossz/OneDrive/CC/data/ciq-dji/020779-csco/Cisco Systems, Inc., Q1 2020 Earnings Call, Nov 13, 2019.pdf                        |\n",
       "\n"
      ],
      "text/plain": [
       "   gvkey headline_date mid_utc headline keydevid md         qa        \n",
       "1  NA    2010-08-12    <NA>    NA       NA       Presentati Question a\n",
       "2  NA    2010-11-10    <NA>    NA       NA       Presentati NA        \n",
       "3  NA    2019-06-27    <NA>    NA       NA       Presentati Question a\n",
       "4  NA    2019-06-27    <NA>    NA       NA       Presentati Question a\n",
       "5  NA    2019-07-15    <NA>    NA       NA       Presentati Question a\n",
       "6  NA    2019-07-16    <NA>    NA       NA       Presentati Question a\n",
       "7  NA    2019-07-16    <NA>    NA       NA       Presentati Question a\n",
       "8  NA    2019-07-16    <NA>    NA       NA       Presentati Question a\n",
       "9  NA    2019-07-17    <NA>    NA       NA       Presentati Question a\n",
       "10 NA    2019-07-17    <NA>    NA       NA       Presentati Question a\n",
       "11 NA    2019-07-18    <NA>    NA       NA       Presentati Question a\n",
       "12 NA    2019-07-18    <NA>    NA       NA       Presentati Question a\n",
       "13 NA    2019-07-18    <NA>    NA       NA       Presentati Question a\n",
       "14 NA    2019-07-19    <NA>    NA       NA       Presentati Question a\n",
       "15 NA    2019-07-23    <NA>    NA       NA       Presentati Question a\n",
       "16 NA    2019-07-23    <NA>    NA       NA       Presentati Question a\n",
       "17 NA    2019-07-23    <NA>    NA       NA       Presentati Question a\n",
       "18 NA    2019-07-23    <NA>    NA       NA       Presentati Question a\n",
       "19 NA    2019-07-24    <NA>    NA       NA       Presentati Question a\n",
       "20 NA    2019-07-24    <NA>    NA       NA       Presentati Question a\n",
       "21 NA    2019-07-24    <NA>    NA       NA       Presentati Question a\n",
       "22 NA    2019-07-25    <NA>    NA       NA       Presentati Question a\n",
       "23 NA    2019-07-25    <NA>    NA       NA       Presentati Question a\n",
       "24 NA    2019-07-25    <NA>    NA       NA       Presentati Question a\n",
       "25 NA    2019-07-26    <NA>    NA       NA       Presentati Question a\n",
       "26 NA    2019-07-26    <NA>    NA       NA       Presentati Question a\n",
       "27 NA    2019-07-29    <NA>    NA       NA       Presentati Question a\n",
       "28 NA    2019-07-30    <NA>    NA       NA       Presentati Question a\n",
       "29 NA    2019-07-30    <NA>    NA       NA       Presentati Question a\n",
       "30 NA    2019-07-30    <NA>    NA       NA       Presentati Question a\n",
       "31 NA    2019-07-30    <NA>    NA       NA       Presentati Question a\n",
       "32 NA    2019-07-31    <NA>    NA       NA       Presentati Question a\n",
       "33 NA    2019-08-01    <NA>    NA       NA       Presentati Question a\n",
       "34 NA    2019-08-01    <NA>    NA       NA       Presentati Question a\n",
       "35 NA    2019-08-01    <NA>    NA       NA       Presentati Question a\n",
       "36 NA    2019-08-02    <NA>    NA       NA       Presentati Question a\n",
       "37 NA    2019-08-02    <NA>    NA       NA       Presentati Question a\n",
       "38 NA    2019-08-06    <NA>    NA       NA       Presentati Question a\n",
       "39 NA    2019-08-08    <NA>    NA       NA       Presentati Question a\n",
       "40 NA    2019-08-08    <NA>    NA       NA       Presentati Question a\n",
       "41 NA    2019-08-14    <NA>    NA       NA       Presentati Question a\n",
       "42 NA    2019-08-20    <NA>    NA       NA       Presentati Question a\n",
       "43 NA    2019-08-22    <NA>    NA       NA       Presentati Question a\n",
       "44 NA    2019-09-24    <NA>    NA       NA       Presentati Question a\n",
       "45 NA    2019-10-15    <NA>    NA       NA       Presentati Question a\n",
       "46 NA    2019-10-15    <NA>    NA       NA       Presentati Question a\n",
       "47 NA    2019-10-15    <NA>    NA       NA       Presentati Question a\n",
       "48 NA    2019-10-15    <NA>    NA       NA       Presentati Question a\n",
       "49 NA    2019-10-15    <NA>    NA       NA       Presentati Question a\n",
       "50 NA    2019-10-16    <NA>    NA       NA       Presentati Question a\n",
       "51 NA    2019-10-16    <NA>    NA       NA       Presentati Question a\n",
       "52 NA    2019-10-17    <NA>    NA       NA       Presentati Question a\n",
       "53 NA    2019-10-18    <NA>    NA       NA       Presentati Question a\n",
       "54 NA    2019-10-18    <NA>    NA       NA       Presentati Question a\n",
       "55 NA    2019-10-22    <NA>    NA       NA       Presentati Question a\n",
       "56 NA    2019-10-22    <NA>    NA       NA       Presentati Question a\n",
       "57 NA    2019-10-22    <NA>    NA       NA       Presentati Question a\n",
       "58 NA    2019-10-22    <NA>    NA       NA       Presentati Question a\n",
       "59 NA    2019-10-23    <NA>    NA       NA       Presentati Question a\n",
       "60 NA    2019-10-23    <NA>    NA       NA       Presentati Question a\n",
       "61 NA    2019-10-23    <NA>    NA       NA       Presentati Question a\n",
       "62 NA    2019-10-24    <NA>    NA       NA       Presentati Question a\n",
       "63 NA    2019-10-24    <NA>    NA       NA       Presentati Question a\n",
       "64 NA    2019-10-24    <NA>    NA       NA       Presentati Question a\n",
       "65 NA    2019-10-25    <NA>    NA       NA       Presentati Question a\n",
       "66 NA    2019-10-25    <NA>    NA       NA       Presentati Question a\n",
       "67 NA    2019-10-28    <NA>    NA       NA       Presentati Question a\n",
       "68 NA    2019-10-28    <NA>    NA       NA       Presentati Question a\n",
       "69 NA    2019-10-29    <NA>    NA       NA       Presentati Question a\n",
       "70 NA    2019-10-29    <NA>    NA       NA       Presentati Question a\n",
       "71 NA    2019-10-29    <NA>    NA       NA       Presentati Question a\n",
       "72 NA    2019-10-30    <NA>    NA       NA       Presentati Question a\n",
       "73 NA    2019-10-30    <NA>    NA       NA       Presentati Question a\n",
       "74 NA    2019-10-31    <NA>    NA       NA       Presentati Question a\n",
       "75 NA    2019-10-31    <NA>    NA       NA       Presentati Question a\n",
       "76 NA    2019-10-31    <NA>    NA       NA       Presentati Question a\n",
       "77 NA    2019-11-01    <NA>    NA       NA       Presentati Question a\n",
       "78 NA    2019-11-01    <NA>    NA       NA       Presentati Question a\n",
       "79 NA    2019-11-01    <NA>    NA       NA       Presentati Question a\n",
       "80 NA    2019-11-07    <NA>    NA       NA       Presentati Question a\n",
       "81 NA    2019-11-07    <NA>    NA       NA       Presentati NA        \n",
       "82 NA    2019-11-13    <NA>    NA       NA       Presentati Question a\n",
       "   cc_path                                                                                                                                \n",
       "1  C:/Users/rossz/OneDrive/CC/data/ciq-dji/005073-gm/General Motors Company, Q2 2010 Earnings Call, Aug-12-2010.pdf                       \n",
       "2  C:/Users/rossz/OneDrive/CC/data/ciq-dji/005073-gm/General Motors Company, Q3 2010 Earnings Call, Nov 10, 2010.pdf                      \n",
       "3  C:/Users/rossz/OneDrive/CC/data/ciq-dji/007906-nke/NIKE, Inc., Q4 2019 Earnings Call, Jun 27, 2019.pdf                                 \n",
       "4  C:/Users/rossz/OneDrive/CC/data/ciq-dji/011264-wba/Walgreens Boots Alliance, Inc., Q3 2019 Earnings Call, Jun 27, 2019.pdf             \n",
       "5  C:/Users/rossz/OneDrive/CC/data/ciq-dji/003243-c/Citigroup Inc., Q2 2019 Earnings Call, Jul 15, 2019.pdf                               \n",
       "6  C:/Users/rossz/OneDrive/CC/data/ciq-dji/002968-jpm/JPMorgan Chase  Co., Q2 2019 Earnings Call, Jul 16, 2019.pdf                        \n",
       "7  C:/Users/rossz/OneDrive/CC/data/ciq-dji/006266-jnj/Johnson  Johnson, Q2 2019 Earnings Call, Jul 16, 2019.pdf                           \n",
       "8  C:/Users/rossz/OneDrive/CC/data/ciq-dji/114628-gs/The Goldman Sachs Group, Inc., Q2 2019 Earnings Call, Jul 16, 2019.pdf               \n",
       "9  C:/Users/rossz/OneDrive/CC/data/ciq-dji/006066-ibm/International Business Machines Corporation, Q2 2019 Earnings Call, Jul 17, 2019.pdf\n",
       "10 C:/Users/rossz/OneDrive/CC/data/ciq-dji/007647-bac/Bank of America Corporation, Q2 2019 Earnings Call, Jul 17, 2019.pdf                \n",
       "11 C:/Users/rossz/OneDrive/CC/data/ciq-dji/001300-hon/Honeywell International Inc., Q2 2019 Earnings Call, Jul 18, 2019.pdf               \n",
       "12 C:/Users/rossz/OneDrive/CC/data/ciq-dji/010903-unh/UnitedHealth Group Incorporated, Q2 2019 Earnings Call, Jul 18, 2019.pdf            \n",
       "13 C:/Users/rossz/OneDrive/CC/data/ciq-dji/012141-msft/Microsoft Corporation, Q4 2019 Earnings Call, Jul 18, 2019.pdf                     \n",
       "14 C:/Users/rossz/OneDrive/CC/data/ciq-dji/001447-axp/American Express Company, Q2 2019 Earnings Call, Jul 19, 2019.pdf                   \n",
       "15 C:/Users/rossz/OneDrive/CC/data/ciq-dji/003144-ko/The Coca-Cola Company, Q2 2019 Earnings Call, Jul 23, 2019.pdf                       \n",
       "16 C:/Users/rossz/OneDrive/CC/data/ciq-dji/010983-utx/United Technologies Corporation, Q2 2019 Earnings Call, Jul 23, 2019.pdf            \n",
       "17 C:/Users/rossz/OneDrive/CC/data/ciq-dji/062689-trv/The Travelers Companies, Inc., Q2 2019 Earnings Call, Jul 23, 2019.pdf              \n",
       "18 C:/Users/rossz/OneDrive/CC/data/ciq-dji/179534-v/Visa Inc., Q3 2019 Earnings Call, Jul 23, 2019.pdf                                    \n",
       "19 C:/Users/rossz/OneDrive/CC/data/ciq-dji/002285-ba/The Boeing Company, Q2 2019 Earnings Call, Jul 24, 2019.pdf                          \n",
       "20 C:/Users/rossz/OneDrive/CC/data/ciq-dji/002817-cat/Caterpillar Inc., Q2 2019 Earnings Call, Jul 24, 2019.pdf                           \n",
       "21 C:/Users/rossz/OneDrive/CC/data/ciq-dji/009899-t/ATT Inc., Q2 2019 Earnings Call, Jul 24, 2019.pdf                                     \n",
       "22 C:/Users/rossz/OneDrive/CC/data/ciq-dji/006008-intc/Intel Corporation, Q2 2019 Earnings Call, Jul 25, 2019.pdf                         \n",
       "23 C:/Users/rossz/OneDrive/CC/data/ciq-dji/006104-ip/International Paper Company, Q2 2019 Earnings Call, Jul 25, 2019.pdf                 \n",
       "24 C:/Users/rossz/OneDrive/CC/data/ciq-dji/007435-mmm/3M Company, Q2 2019 Earnings Call, Jul 25, 2019.pdf                                 \n",
       "25 C:/Users/rossz/OneDrive/CC/data/ciq-dji/005234-gt/The Goodyear Tire  Rubber Company, Q2 2019 Earnings Call, Jul 26, 2019.pdf           \n",
       "26 C:/Users/rossz/OneDrive/CC/data/ciq-dji/007154-mcd/McDonalds Corporation, Q2 2019 Earnings Call, Jul 26, 2019.pdf                      \n",
       "27 C:/Users/rossz/OneDrive/CC/data/ciq-dji/008530-pfe/Pfizer Inc., Q2 2019 Earnings Call, Jul 29, 2019.pdf                                \n",
       "28 C:/Users/rossz/OneDrive/CC/data/ciq-dji/001690-appl/Apple Inc., Q3 2019 Earnings Call, Jul 30, 2019.pdf                                \n",
       "29 C:/Users/rossz/OneDrive/CC/data/ciq-dji/007257-mrk/Merck  Co., Inc., Q2 2019 Earnings Call, Jul 30, 2019.pdf                           \n",
       "30 C:/Users/rossz/OneDrive/CC/data/ciq-dji/008543-mo/Altria Group, Inc., Q2 2019 Earnings Call, Jul 30, 2019.pdf                          \n",
       "31 C:/Users/rossz/OneDrive/CC/data/ciq-dji/008762-pg/The Procter  Gamble Company, Q4 2019 Earnings Call, Jul 30, 2019.pdf                 \n",
       "32 C:/Users/rossz/OneDrive/CC/data/ciq-dji/005047-ge/General Electric Company, Q2 2019 Earnings Call, Jul 31, 2019.pdf                    \n",
       "33 C:/Users/rossz/OneDrive/CC/data/ciq-dji/002136-vz/Verizon Communications Inc., Q2 2019 Earnings Call, Aug 01, 2019.pdf                 \n",
       "34 C:/Users/rossz/OneDrive/CC/data/ciq-dji/004060-dd/DuPont de Nemours, Inc., Q2 2019 Earnings Call, Aug 01, 2019.pdf                     \n",
       "35 C:/Users/rossz/OneDrive/CC/data/ciq-dji/005073-gm/General Motors Company, Q2 2019 Earnings Call, Aug 01, 2019.pdf                      \n",
       "36 C:/Users/rossz/OneDrive/CC/data/ciq-dji/002991-cvx/Chevron Corporation, Q2 2019 Earnings Call, Aug 02, 2019.pdf                        \n",
       "37 C:/Users/rossz/OneDrive/CC/data/ciq-dji/004503-xom/Exxon Mobil Corporation, Q2 2019 Earnings Call, Aug 02, 2019.pdf                    \n",
       "38 C:/Users/rossz/OneDrive/CC/data/ciq-dji/003980-dis/The Walt Disney Company, Q3 2019 Earnings Call, Aug 06, 2019.pdf                    \n",
       "39 C:/Users/rossz/OneDrive/CC/data/ciq-dji/001487-aig/American International Group, Inc., Q2 2019 Earnings Call, Aug 08, 2019.pdf         \n",
       "40 C:/Users/rossz/OneDrive/CC/data/ciq-dji/004194-kodk/Eastman Kodak Company, Q2 2019 Earnings Call, Aug 08, 2019.pdf                     \n",
       "41 C:/Users/rossz/OneDrive/CC/data/ciq-dji/020779-csco/Cisco Systems, Inc., Q4 2019 Earnings Call, Aug 14, 2019.pdf                       \n",
       "42 C:/Users/rossz/OneDrive/CC/data/ciq-dji/005680-hd/The Home Depot, Inc., Q2 2020 Earnings Call, Aug 20, 2019.pdf                        \n",
       "43 C:/Users/rossz/OneDrive/CC/data/ciq-dji/005606-hpq/HP Inc., Q3 2019 Earnings Call, Aug 22, 2019.pdf                                    \n",
       "44 C:/Users/rossz/OneDrive/CC/data/ciq-dji/007906-nke/NIKE, Inc., Q1 2020 Earnings Call, Sep 24, 2019.pdf                                 \n",
       "45 C:/Users/rossz/OneDrive/CC/data/ciq-dji/002968-jpm/JPMorgan Chase  Co., Q3 2019 Earnings Call, Oct 15, 2019.pdf                        \n",
       "46 C:/Users/rossz/OneDrive/CC/data/ciq-dji/003243-c/Citigroup Inc., Q3 2019 Earnings Call, Oct 15, 2019.pdf                               \n",
       "47 C:/Users/rossz/OneDrive/CC/data/ciq-dji/006266-jnj/Johnson  Johnson, Q3 2019 Earnings Call, Oct 15, 2019.pdf                           \n",
       "48 C:/Users/rossz/OneDrive/CC/data/ciq-dji/010903-unh/UnitedHealth Group Incorporated, Q3 2019 Earnings Call, Oct 15, 2019.pdf            \n",
       "49 C:/Users/rossz/OneDrive/CC/data/ciq-dji/114628-gs/The Goldman Sachs Group, Inc., Q3 2019 Earnings Call, Oct 15, 2019.pdf               \n",
       "50 C:/Users/rossz/OneDrive/CC/data/ciq-dji/006066-ibm/International Business Machines Corporation, Q3 2019 Earnings Call, Oct 16, 2019.pdf\n",
       "51 C:/Users/rossz/OneDrive/CC/data/ciq-dji/007647-bac/Bank of America Corporation, Q3 2019 Earnings Call, Oct 16, 2019.pdf                \n",
       "52 C:/Users/rossz/OneDrive/CC/data/ciq-dji/001300-hon/Honeywell International Inc., Q3 2019 Earnings Call, Oct 17, 2019.pdf               \n",
       "53 C:/Users/rossz/OneDrive/CC/data/ciq-dji/001447-axp/American Express Company, Q3 2019 Earnings Call, Oct 18, 2019.pdf                   \n",
       "54 C:/Users/rossz/OneDrive/CC/data/ciq-dji/003144-ko/The Coca-Cola Company, Q3 2019 Earnings Call, Oct 18, 2019.pdf                       \n",
       "55 C:/Users/rossz/OneDrive/CC/data/ciq-dji/007154-mcd/McDonalds Corporation, Q3 2019 Earnings Call, Oct 22, 2019.pdf                      \n",
       "56 C:/Users/rossz/OneDrive/CC/data/ciq-dji/008762-pg/The Procter  Gamble Company, Q1 2020 Earnings Call, Oct 22, 2019.pdf                 \n",
       "57 C:/Users/rossz/OneDrive/CC/data/ciq-dji/010983-utx/United Technologies Corporation, Q3 2019 Earnings Call, Oct 22, 2019.pdf            \n",
       "58 C:/Users/rossz/OneDrive/CC/data/ciq-dji/062689-trv/The Travelers Companies, Inc., Q3 2019 Earnings Call, Oct 22, 2019.pdf              \n",
       "59 C:/Users/rossz/OneDrive/CC/data/ciq-dji/002285-ba/The Boeing Company, Q3 2019 Earnings Call, Oct 23, 2019.pdf                          \n",
       "60 C:/Users/rossz/OneDrive/CC/data/ciq-dji/002817-cat/Caterpillar Inc., Q3 2019 Earnings Call, Oct 23, 2019.pdf                           \n",
       "61 C:/Users/rossz/OneDrive/CC/data/ciq-dji/012141-msft/Microsoft Corporation, Q1 2020 Earnings Call, Oct 23, 2019.pdf                     \n",
       "62 C:/Users/rossz/OneDrive/CC/data/ciq-dji/006008-intc/Intel Corporation, Q3 2019 Earnings Call, Oct 24, 2019.pdf                         \n",
       "63 C:/Users/rossz/OneDrive/CC/data/ciq-dji/007435-mmm/3M Company, Q3 2019 Earnings Call, Oct 24, 2019.pdf                                 \n",
       "64 C:/Users/rossz/OneDrive/CC/data/ciq-dji/179534-v/Visa Inc., Q4 2019 Earnings Call, Oct 24, 2019.pdf                                    \n",
       "65 C:/Users/rossz/OneDrive/CC/data/ciq-dji/002136-vz/Verizon Communications Inc., Q3 2019 Earnings Call, Oct 25, 2019.pdf                 \n",
       "66 C:/Users/rossz/OneDrive/CC/data/ciq-dji/005234-gt/The Goodyear Tire  Rubber Company, Q3 2019 Earnings Call, Oct 25, 2019.pdf           \n",
       "67 C:/Users/rossz/OneDrive/CC/data/ciq-dji/009899-t/ATT Inc., Q3 2019 Earnings Call, Oct 28, 2019.pdf                                     \n",
       "68 C:/Users/rossz/OneDrive/CC/data/ciq-dji/011264-wba/Walgreens Boots Alliance, Inc., Q4 2019 Earnings Call, Oct 28, 2019.pdf             \n",
       "69 C:/Users/rossz/OneDrive/CC/data/ciq-dji/005073-gm/General Motors Company, Q3 2019 Earnings Call, Oct 29, 2019.pdf                      \n",
       "70 C:/Users/rossz/OneDrive/CC/data/ciq-dji/007257-mrk/Merck  Co., Inc., Q3 2019 Earnings Call, Oct 29, 2019.pdf                           \n",
       "71 C:/Users/rossz/OneDrive/CC/data/ciq-dji/008530-pfe/Pfizer Inc., Q3 2019 Earnings Call, Oct 29, 2019.pdf                                \n",
       "72 C:/Users/rossz/OneDrive/CC/data/ciq-dji/001690-appl/Apple Inc., Q4 2019 Earnings Call, Oct 30, 2019.pdf                                \n",
       "73 C:/Users/rossz/OneDrive/CC/data/ciq-dji/005047-ge/General Electric Company, Q3 2019 Earnings Call, Oct 30, 2019.pdf                    \n",
       "74 C:/Users/rossz/OneDrive/CC/data/ciq-dji/004060-dd/DuPont de Nemours, Inc., Q3 2019 Earnings Call, Oct 31, 2019.pdf                     \n",
       "75 C:/Users/rossz/OneDrive/CC/data/ciq-dji/006104-ip/International Paper Company, Q3 2019 Earnings Call, Oct 31, 2019.pdf                 \n",
       "76 C:/Users/rossz/OneDrive/CC/data/ciq-dji/008543-mo/Altria Group, Inc., Q3 2019 Earnings Call, Oct 31, 2019.pdf                          \n",
       "77 C:/Users/rossz/OneDrive/CC/data/ciq-dji/001487-aig/American International Group, Inc., Q3 2019 Earnings Call, Nov 01, 2019.pdf         \n",
       "78 C:/Users/rossz/OneDrive/CC/data/ciq-dji/002991-cvx/Chevron Corporation, Q3 2019 Earnings Call, Nov 01, 2019.pdf                        \n",
       "79 C:/Users/rossz/OneDrive/CC/data/ciq-dji/004503-xom/Exxon Mobil Corporation, Q3 2019 Earnings Call, Nov 01, 2019.pdf                    \n",
       "80 C:/Users/rossz/OneDrive/CC/data/ciq-dji/003980-dis/The Walt Disney Company, Q4 2019 Earnings Call, Nov 07, 2019.pdf                    \n",
       "81 C:/Users/rossz/OneDrive/CC/data/ciq-dji/004194-kodk/Eastman Kodak Company, Q3 2019 Earnings Call, Nov 07, 2019.pdf                     \n",
       "82 C:/Users/rossz/OneDrive/CC/data/ciq-dji/020779-csco/Cisco Systems, Inc., Q1 2020 Earnings Call, Nov 13, 2019.pdf                       "
      ]
     },
     "metadata": {},
     "output_type": "display_data"
    }
   ],
   "source": [
    "cc[is.na(keydevid)][, ':='(md=str_sub(md, 1, 10), qa=str_sub(qa, 1, 10))][]"
   ]
  },
  {
   "cell_type": "code",
   "execution_count": 11,
   "metadata": {},
   "outputs": [
    {
     "data": {
      "text/html": [
       "<table>\n",
       "<thead><tr><th scope=col>keydeveventtypeid</th><th scope=col>headline</th><th scope=col>headline_date</th><th scope=col>announcedate</th><th scope=col>companyname</th><th scope=col>gvkey</th><th scope=col>keydevid</th><th scope=col>mostimportantdateutc</th><th scope=col>headline_year</th><th scope=col>headline_month</th></tr></thead>\n",
       "<tbody>\n",
       "\t<tr><td>48                                                        </td><td>General Motors Company, Q2 2010 Earnings Call, Aug-12-2010</td><td>2010-08-12                                                </td><td>2010-08-10                                                </td><td>General Motors Company                                    </td><td>NA                                                        </td><td>111581311                                                 </td><td>2010-08-12 14:00:00                                       </td><td>2010                                                      </td><td>8                                                         </td></tr>\n",
       "</tbody>\n",
       "</table>\n"
      ],
      "text/latex": [
       "\\begin{tabular}{r|llllllllll}\n",
       " keydeveventtypeid & headline & headline\\_date & announcedate & companyname & gvkey & keydevid & mostimportantdateutc & headline\\_year & headline\\_month\\\\\n",
       "\\hline\n",
       "\t 48                                                         & General Motors Company, Q2 2010 Earnings Call, Aug-12-2010 & 2010-08-12                                                 & 2010-08-10                                                 & General Motors Company                                     & NA                                                         & 111581311                                                  & 2010-08-12 14:00:00                                        & 2010                                                       & 8                                                         \\\\\n",
       "\\end{tabular}\n"
      ],
      "text/markdown": [
       "\n",
       "| keydeveventtypeid | headline | headline_date | announcedate | companyname | gvkey | keydevid | mostimportantdateutc | headline_year | headline_month |\n",
       "|---|---|---|---|---|---|---|---|---|---|\n",
       "| 48                                                         | General Motors Company, Q2 2010 Earnings Call, Aug-12-2010 | 2010-08-12                                                 | 2010-08-10                                                 | General Motors Company                                     | NA                                                         | 111581311                                                  | 2010-08-12 14:00:00                                        | 2010                                                       | 8                                                          |\n",
       "\n"
      ],
      "text/plain": [
       "  keydeveventtypeid headline                                                  \n",
       "1 48                General Motors Company, Q2 2010 Earnings Call, Aug-12-2010\n",
       "  headline_date announcedate companyname            gvkey keydevid \n",
       "1 2010-08-12    2010-08-10   General Motors Company NA    111581311\n",
       "  mostimportantdateutc headline_year headline_month\n",
       "1 2010-08-12 14:00:00  2010          8             "
      ]
     },
     "metadata": {},
     "output_type": "display_data"
    }
   ],
   "source": [
    "query = 'General Motors Company, Q2 2010 Earnings Call, Aug-12-2010'\n",
    "key_dt = cc_meta[headline_year==2010 & headline_month==8]\n",
    "key = key_dt[, headline]\n",
    "rowid = amatch(\n",
    "    toupper(query),\n",
    "    toupper(key),\n",
    "    method='dl',\n",
    "    maxDist=5,\n",
    "    nthread=4)\n",
    "key_dt[rowid]"
   ]
  }
 ],
 "metadata": {
  "kernelspec": {
   "display_name": "R-3.6.2",
   "language": "R",
   "name": "ir36"
  },
  "language_info": {
   "codemirror_mode": "r",
   "file_extension": ".r",
   "mimetype": "text/x-r-source",
   "name": "R",
   "pygments_lexer": "r",
   "version": "3.6.2"
  },
  "toc-autonumbering": true,
  "toc-showcode": false,
  "toc-showmarkdowntxt": false
 },
 "nbformat": 4,
 "nbformat_minor": 4
}
