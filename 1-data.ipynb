{
 "cells": [
  {
   "cell_type": "markdown",
   "metadata": {},
   "source": [
    "# init"
   ]
  },
  {
   "cell_type": "markdown",
   "metadata": {},
   "source": [
    "**Data Pre-processing**\n",
    "- 2011-2018 (8 years) . CC before 2011 has no indicator of the MD and QA parts.\n",
    "- for 2012-2018, ~98% have MD/QA indicators; for 2011, ~93% has MD/QA"
   ]
  },
  {
   "cell_type": "code",
   "execution_count": 2,
   "metadata": {},
   "outputs": [
    {
     "name": "stdout",
     "output_type": "stream",
     "text": [
      "Current working directory: C:/Users/rossz/Onedrive/CC"
     ]
    }
   ],
   "source": [
    "# library\n",
    "library(feather)\n",
    "library(stringdist)\n",
    "library(jsonlite)\n",
    "library(pdftools)\n",
    "options('sd_num_thread'=4)\n",
    "\n",
    "# data_dir\n",
    "if (tolower(str_sub(getwd(), -11)) == 'onedrive/cc') {\n",
    "    DATA_DIR = str_c(getwd(), '/data')\n",
    "    WRDS_DOWNLOAD_DIR = str_c(DATA_DIR, '/WRDS-download')\n",
    "    cat(str_c('Current working directory: ', getwd()))\n",
    "} else {\n",
    "    cat(str_c('Please set working dir to \"~/onedrive/cc\"'))\n",
    "}\n"
   ]
  },
  {
   "cell_type": "markdown",
   "metadata": {
    "toc-hr-collapsed": false
   },
   "source": [
    "# WRDS"
   ]
  },
  {
   "cell_type": "markdown",
   "metadata": {},
   "source": [
    "## establish connection"
   ]
  },
  {
   "cell_type": "code",
   "execution_count": 3,
   "metadata": {},
   "outputs": [],
   "source": [
    "library(RPostgres)\n",
    "\n",
    "# connect to wrds\n",
    "wrds <- dbConnect(Postgres(),\n",
    "                  host='wrds-pgdata.wharton.upenn.edu',\n",
    "                  port=9737,\n",
    "                  dbname='wrds',\n",
    "                  sslmode='require',\n",
    "                  user='xiaomowu',\n",
    "                  password='SLCyz2018')"
   ]
  },
  {
   "cell_type": "markdown",
   "metadata": {},
   "source": [
    "## unit test"
   ]
  },
  {
   "cell_type": "code",
   "execution_count": null,
   "metadata": {
    "scrolled": true
   },
   "outputs": [],
   "source": [
    "# Determine the data libraries available at WRDS\n",
    "res <- dbSendQuery(wrds, \"select distinct table_schema\n",
    "                   from information_schema.tables\n",
    "                   where table_type ='VIEW'\n",
    "                   or table_type ='FOREIGN TABLE'\n",
    "                   order by table_schema\")\n",
    "data <- dbFetch(res, n=-1)\n",
    "dbClearResult(res)\n",
    "print(setDT(data)[, sort(table_schema)])"
   ]
  },
  {
   "cell_type": "code",
   "execution_count": 6,
   "metadata": {
    "scrolled": true
   },
   "outputs": [
    {
     "name": "stdout",
     "output_type": "stream",
     "text": [
      "  [1] \"aco_amda\"          \"aco_imda\"          \"aco_indfnta\"      \n",
      "  [4] \"aco_indfntq\"       \"aco_indfntytd\"     \"aco_indsta\"       \n",
      "  [7] \"aco_indstq\"        \"aco_indstytd\"      \"aco_notesa\"       \n",
      " [10] \"aco_notesq\"        \"aco_notessa\"       \"aco_notesytd\"     \n",
      " [13] \"aco_pnfnda\"        \"aco_pnfndq\"        \"aco_pnfndytd\"     \n",
      " [16] \"aco_pnfnta\"        \"aco_pnfntq\"        \"aco_pnfntytd\"     \n",
      " [19] \"aco_transa\"        \"aco_transq\"        \"aco_transsa\"      \n",
      " [22] \"aco_transytd\"      \"adsprate\"          \"anncomp\"          \n",
      " [25] \"asec_amda\"         \"asec_imda\"         \"asec_notesa\"      \n",
      " [28] \"asec_notesq\"       \"asec_transa\"       \"asec_transq\"      \n",
      " [31] \"bank_aacctchg\"     \"bank_adesind\"      \"bank_afnd1\"       \n",
      " [34] \"bank_afnd2\"        \"bank_afnddc1\"      \"bank_afnddc2\"     \n",
      " [37] \"bank_afntind\"      \"bank_funda\"        \"bank_funda_fncd\"  \n",
      " [40] \"bank_fundq\"        \"bank_fundq_fncd\"   \"bank_iacctchg\"    \n",
      " [43] \"bank_idesind\"      \"bank_ifndq\"        \"bank_ifndytd\"     \n",
      " [46] \"bank_ifntq\"        \"bank_ifntytd\"      \"bank_names\"       \n",
      " [49] \"bank_namesq\"       \"chars\"             \"co_aacctchg\"      \n",
      " [52] \"co_aaudit\"         \"co_adesind\"        \"co_adjfact\"       \n",
      " [55] \"co_afnd1\"          \"co_afnd2\"          \"co_afnddc1\"       \n",
      " [58] \"co_afnddc2\"        \"co_afntind1\"       \"co_afntind2\"      \n",
      " [61] \"co_ainvval\"        \"co_amkt\"           \"co_busdescl\"      \n",
      " [64] \"co_cotype\"         \"co_filedate\"       \"co_fortune\"       \n",
      " [67] \"co_hgic\"           \"co_iacctchg\"       \"co_iaudit\"        \n",
      " [70] \"co_idesind\"        \"co_ifndq\"          \"co_ifndsa\"        \n",
      " [73] \"co_ifndytd\"        \"co_ifntq\"          \"co_ifntsa\"        \n",
      " [76] \"co_ifntytd\"        \"co_imkt\"           \"co_industry\"      \n",
      " [79] \"co_ipcd\"           \"co_mthly\"          \"co_offtitl\"       \n",
      " [82] \"codirfin\"          \"colev\"             \"company\"          \n",
      " [85] \"coperol\"           \"currency\"          \"dd_group\"         \n",
      " [88] \"dd_group_xref\"     \"dd_item\"           \"dd_package\"       \n",
      " [91] \"deferredcomp\"      \"directorcomp\"      \"ecind_desc\"       \n",
      " [94] \"ecind_mth\"         \"ex_black\"          \"ex_header\"        \n",
      " [97] \"exnames\"           \"exrt_dly\"          \"exrt_mth\"         \n",
      "[100] \"filings\"           \"funda\"             \"funda_fncd\"       \n",
      "[103] \"fundq\"             \"fundq_fncd\"        \"g_chars\"          \n",
      "[106] \"g_co_aaudit\"       \"g_co_adesind\"      \"g_co_afnd1\"       \n",
      "[109] \"g_co_afnd2\"        \"g_co_afnddc1\"      \"g_co_afnddc2\"     \n",
      "[112] \"g_co_afntind1\"     \"g_co_afntind2\"     \"g_co_ainvval\"     \n",
      "[115] \"g_co_hgic\"         \"g_co_iaudit\"       \"g_co_idesind\"     \n",
      "[118] \"g_co_ifndq\"        \"g_co_ifndsa\"       \"g_co_ifndytd\"     \n",
      "[121] \"g_co_ifntq\"        \"g_co_ifntsa\"       \"g_co_ifntytd\"     \n",
      "[124] \"g_co_industry\"     \"g_co_ipcd\"         \"g_co_offtitl\"     \n",
      "[127] \"g_company\"         \"g_currency\"        \"g_ecind_desc\"     \n",
      "[130] \"g_ecind_mth\"       \"g_exrt_dly\"        \"g_exrt_mth\"       \n",
      "[133] \"g_funda\"           \"g_funda_fncd\"      \"g_fundq\"          \n",
      "[136] \"g_fundq_fncd\"      \"g_idx_daily\"       \"g_idx_index\"      \n",
      "[139] \"g_idx_mth\"         \"g_idxcst_his\"      \"g_names\"          \n",
      "[142] \"g_names_ix\"        \"g_names_ix_cst\"    \"g_namesq\"         \n",
      "[145] \"g_sec_adesind\"     \"g_sec_adjfact\"     \"g_sec_afnd\"       \n",
      "[148] \"g_sec_afnddc\"      \"g_sec_afnt\"        \"g_sec_divid\"      \n",
      "[151] \"g_sec_dprc\"        \"g_sec_dtrt\"        \"g_sec_history\"    \n",
      "[154] \"g_sec_idesind\"     \"g_sec_ifnd\"        \"g_sec_ifnt\"       \n",
      "[157] \"g_sec_split\"       \"g_secd\"            \"g_secnamesd\"      \n",
      "[160] \"g_security\"        \"g_sedolgvkey\"      \"idx_ann\"          \n",
      "[163] \"idx_anndes\"        \"idx_daily\"         \"idx_index\"        \n",
      "[166] \"idx_mth\"           \"idx_qrt\"           \"idx_qrtdes\"       \n",
      "[169] \"idxcst_his\"        \"io_qaggregate\"     \"io_qbuysell\"      \n",
      "[172] \"io_qchanges\"       \"io_qfloatadj\"      \"io_qholders\"      \n",
      "[175] \"it_mbuysell\"       \"it_msummary\"       \"it_r_rltn\"        \n",
      "[178] \"ltawdtab\"          \"names\"             \"names_aco_indsta\" \n",
      "[181] \"names_aco_indstq\"  \"names_aco_pnfnda\"  \"names_aco_pnfndq\" \n",
      "[184] \"names_adsprate\"    \"names_ix\"          \"names_ix_cst\"     \n",
      "[187] \"names_seg\"         \"namesd\"            \"namesm\"           \n",
      "[190] \"namesq\"            \"outstandingawards\" \"pension\"          \n",
      "[193] \"person\"            \"planbasedawards\"   \"r_accstd\"         \n",
      "[196] \"r_acqmeth\"         \"r_auditors\"        \"r_auopic\"         \n",
      "[199] \"r_balpres\"         \"r_cf_formt\"        \"r_co_status\"      \n",
      "[202] \"r_coindpre\"        \"r_compstat\"        \"r_consol\"         \n",
      "[205] \"r_country\"         \"r_cstclscd\"        \"r_datacode\"       \n",
      "[208] \"r_datafmt\"         \"r_divtaxmarker\"    \"r_docsrce\"        \n",
      "[211] \"r_ex_codes\"        \"r_exchgtier\"       \"r_exrt_typ\"       \n",
      "[214] \"r_fndfntcd\"        \"r_footnts\"         \"r_foricd\"         \n",
      "[217] \"r_giccd\"           \"r_hcalendr\"        \"r_idxclscd\"       \n",
      "[220] \"r_inactvcd\"        \"r_incstats\"        \"r_indfmt\"         \n",
      "[223] \"r_indsec\"          \"r_invval\"          \"r_issuetyp\"       \n",
      "[226] \"r_majidxcl\"        \"r_mic_codes\"       \"r_naiccd\"         \n",
      "[229] \"r_notetype\"        \"r_ntsubtype\"       \"r_offcrso\"        \n",
      "[232] \"r_ogmethod\"        \"r_opinions\"        \"r_prc_stat\"       \n",
      "[235] \"r_qsrcdoc\"         \"r_sec_stat\"        \"r_secannfn\"       \n",
      "[238] \"r_sectors\"         \"r_siccd\"           \"r_spiicd\"         \n",
      "[241] \"r_spmicd\"          \"r_statalrt\"        \"r_states\"         \n",
      "[244] \"r_stko\"            \"r_titles\"          \"r_updates\"        \n",
      "[247] \"sec_adesind\"       \"sec_adjfact\"       \"sec_afnd\"         \n",
      "[250] \"sec_afnddc\"        \"sec_afnt\"          \"sec_divid\"        \n",
      "[253] \"sec_dprc\"          \"sec_dtrt\"          \"sec_history\"      \n",
      "[256] \"sec_idesind\"       \"sec_ifnd\"          \"sec_ifnt\"         \n",
      "[259] \"sec_mdivfn\"        \"sec_mshare\"        \"sec_msptfn\"       \n",
      "[262] \"sec_mth\"           \"sec_mthdiv\"        \"sec_mthprc\"       \n",
      "[265] \"sec_mthspt\"        \"sec_mthtrt\"        \"sec_shortint\"     \n",
      "[268] \"sec_spind\"         \"sec_split\"         \"secd\"             \n",
      "[271] \"secm\"              \"security\"          \"sedolgvkey\"       \n",
      "[274] \"seg_ann\"           \"seg_annfund\"       \"seg_customer\"     \n",
      "[277] \"seg_geo\"           \"seg_naics\"         \"seg_product\"      \n",
      "[280] \"seg_type\"          \"spidx_cst\"         \"spind\"            \n",
      "[283] \"spind_dly\"         \"spind_mth\"         \"stgrttab\"         \n",
      "[286] \"wrds_seg_customer\" \"wrds_seg_geo\"      \"wrds_seg_product\" \n",
      "[289] \"wrds_segmerged\"    \"xfl_column\"        \"xfl_table\"        \n"
     ]
    }
   ],
   "source": [
    "# Determine the datasets within a given library\n",
    "library = 'comp'\n",
    "res <- dbSendQuery(wrds, sprintf(\"select distinct table_name\n",
    "                   from information_schema.columns\n",
    "                   where table_schema='%s'\n",
    "                   order by table_name\", library))\n",
    "data <- dbFetch(res, n=-1)\n",
    "dbClearResult(res)\n",
    "setDT(data)[, sort(table_name)] %>% print()"
   ]
  },
  {
   "cell_type": "code",
   "execution_count": null,
   "metadata": {
    "scrolled": true
   },
   "outputs": [],
   "source": [
    "# Determine the variables (column headers) within a given dataset\n",
    "library = 'ibes'\n",
    "dataset = 'det_epsus'\n",
    "res <- dbSendQuery(wrds, sprintf(\"select column_name\n",
    "                   from information_schema.columns\n",
    "                   where table_schema='%s'\n",
    "                   and table_name='%s'\n",
    "                   order by column_name\", library, dataset))\n",
    "data <- dbFetch(res, n=-1)\n",
    "dbClearResult(res)\n",
    "setDT(data)[, column_name] %>% print()"
   ]
  },
  {
   "cell_type": "code",
   "execution_count": null,
   "metadata": {},
   "outputs": [],
   "source": [
    "# To query the crsp.dsf dataset\n",
    "library = \"ibes\"\n",
    "dataset = 'ptgdet'\n",
    "res <- dbSendQuery(wrds, sprintf(\"select * from %s.%s\", library, dataset))\n",
    "data <- dbFetch(res, n=-1) %>% setDT()\n",
    "dbClearResult(res)\n",
    "nrow(data)"
   ]
  },
  {
   "cell_type": "markdown",
   "metadata": {
    "toc-hr-collapsed": true
   },
   "source": [
    "## I/B/E/S"
   ]
  },
  {
   "cell_type": "markdown",
   "metadata": {},
   "source": [
    "### Detail"
   ]
  },
  {
   "cell_type": "code",
   "execution_count": null,
   "metadata": {},
   "outputs": [],
   "source": [
    "library = 'ibes'\n",
    "dataset = 'det_epsus' # eps\n",
    "# dataset = 'det_xepsus' # non-eps\n",
    "years = 2000:2018\n",
    "\n",
    "for (year in years) {\n",
    "    print(sprintf('Start %s at %s', year, now()))\n",
    "    query = sprintf(\"select * from %s.%s where to_char(anndats,'yyyy')='%s'\", library, dataset, year)\n",
    "    save_name_short = sprintf('%s_%s_%s', library, dataset, year)\n",
    "    save_name_full = sprintf('../data/WRDS-download/%s_%s_%s.rds', library, dataset, year)\n",
    "    \n",
    "    res <- dbSendQuery(wrds, query)\n",
    "    data <- setDT(dbFetch(res, n=-1)); dbClearResult(res)\n",
    "    \n",
    "    assign(save_name_short, data)\n",
    "    sprintf('%s_%s: %s', dataset, year, nrow(data))\n",
    "    saveRDS(data, save_name_full)\n",
    "}"
   ]
  },
  {
   "cell_type": "code",
   "execution_count": 48,
   "metadata": {},
   "outputs": [
    {
     "data": {
      "text/html": [
       "'detu_epsus: 5107651'"
      ],
      "text/latex": [
       "'detu\\_epsus: 5107651'"
      ],
      "text/markdown": [
       "'detu_epsus: 5107651'"
      ],
      "text/plain": [
       "[1] \"detu_epsus: 5107651\""
      ]
     },
     "metadata": {},
     "output_type": "display_data"
    },
    {
     "name": "stdout",
     "output_type": "stream",
     "text": [
      "-ibes_detu_epsus- saved  (22.79 secs)\n"
     ]
    }
   ],
   "source": [
    "library = 'ibes'\n",
    "dataset = 'detu_epsus' # eps\n",
    "# dataset = 'det_xepsus' # non-eps\n",
    "\n",
    "query = sprintf(\"select ticker, estimator, analys, pdf, fpi, value, fpedats, revdats, revtims, anndats, anntims from %s.%s where fpedats between '2000-01-01' and '2018-12-31' and (fpi='6' or fpi='7')\", library, dataset, year)\n",
    "\n",
    "res <- dbSendQuery(wrds, query)\n",
    "ibes_detu_epsus<- setDT(dbFetch(res, n=-1)); dbClearResult(res)\n",
    "\n",
    "sprintf('%s: %s', dataset, nrow(ibes_detu_epsus))\n",
    "sv(ibes_detu_epsus, path=WRDS_DOWNLOAD_DIR)"
   ]
  },
  {
   "cell_type": "markdown",
   "metadata": {},
   "source": [
    "### actuals"
   ]
  },
  {
   "cell_type": "code",
   "execution_count": 69,
   "metadata": {},
   "outputs": [
    {
     "data": {
      "text/html": [
       "'actu_epsus: 480384'"
      ],
      "text/latex": [
       "'actu\\_epsus: 480384'"
      ],
      "text/markdown": [
       "'actu_epsus: 480384'"
      ],
      "text/plain": [
       "[1] \"actu_epsus: 480384\""
      ]
     },
     "metadata": {},
     "output_type": "display_data"
    },
    {
     "name": "stdout",
     "output_type": "stream",
     "text": [
      "-ibes_actu_epsus- saved  (0.82 secs)\n"
     ]
    },
    {
     "data": {
      "text/html": [
       "<table>\n",
       "<thead><tr><th scope=col>ticker</th><th scope=col>repdats</th><th scope=col>act</th><th scope=col>fpedats</th><th scope=col>pdicity</th></tr></thead>\n",
       "<tbody>\n",
       "\t<tr><td>0000      </td><td>2014-02-14</td><td>NA        </td><td>2012-12-31</td><td>QTR       </td></tr>\n",
       "</tbody>\n",
       "</table>\n"
      ],
      "text/latex": [
       "\\begin{tabular}{r|lllll}\n",
       " ticker & repdats & act & fpedats & pdicity\\\\\n",
       "\\hline\n",
       "\t 0000       & 2014-02-14 & NA         & 2012-12-31 & QTR       \\\\\n",
       "\\end{tabular}\n"
      ],
      "text/markdown": [
       "\n",
       "| ticker | repdats | act | fpedats | pdicity |\n",
       "|---|---|---|---|---|\n",
       "| 0000       | 2014-02-14 | NA         | 2012-12-31 | QTR        |\n",
       "\n"
      ],
      "text/plain": [
       "  ticker repdats    act fpedats    pdicity\n",
       "1 0000   2014-02-14 NA  2012-12-31 QTR    "
      ]
     },
     "metadata": {},
     "output_type": "display_data"
    }
   ],
   "source": [
    "library = 'ibes'\n",
    "dataset = 'actu_epsus' \n",
    "\n",
    "query = sprintf(\"select ticker, anndats as repdats, value as act, pends as fpedats, pdicity from %s.%s where pends between '2000-01-01' and '2018-12-31' and pdicity='QTR'\", library, dataset, year)\n",
    "\n",
    "res <- dbSendQuery(wrds, query)\n",
    "ibes_actu_epsus<- setDT(dbFetch(res, n=-1)); dbClearResult(res)\n",
    "\n",
    "sprintf('%s: %s', dataset, nrow(ibes_actu_epsus))\n",
    "sv(ibes_actu_epsus, path=WRDS_DOWNLOAD_DIR)\n",
    "ibes_actu_epsus[1]"
   ]
  },
  {
   "cell_type": "markdown",
   "metadata": {},
   "source": [
    "### Summary"
   ]
  },
  {
   "cell_type": "code",
   "execution_count": 9,
   "metadata": {},
   "outputs": [
    {
     "name": "stdout",
     "output_type": "stream",
     "text": [
      "-statsum_epsus- saved  (43.43 secs)\n"
     ]
    }
   ],
   "source": [
    "library = 'ibes'\n",
    "dataset = 'statsum_epsus' # summary eps\n",
    "query = sprintf(\"select * from %s.%s\", library, dataset)\n",
    "\n",
    "res <- dbSendQuery(wrds, query)\n",
    "ibes_statsum_epsus <- setDT(dbFetch(res, n=-1)); dbClearResult(res)\n",
    "\n",
    "ibes_statsum_epsus[1]\n",
    "sv(ibes_statsum_epsus, path=WRDS_DOWNLOAD_DIR)"
   ]
  },
  {
   "cell_type": "code",
   "execution_count": null,
   "metadata": {},
   "outputs": [],
   "source": [
    "library = 'ibes'\n",
    "dataset = 'statsum_xepsus' # summary xeps\n",
    "\n",
    "query = sprintf(\"select * from %s.%s\", library, dataset)\n",
    "res <- dbSendQuery(wrds, query)\n",
    "ibes_statsum_xepsus <- setDT(dbFetch(res, n=-1)); dbClearResult(res)\n",
    "ibes_statsum_xepsus[1]\n",
    "sv(ibes_statsum_xepsus, path=WRDS_DOWNLOAD_DIR)"
   ]
  },
  {
   "cell_type": "markdown",
   "metadata": {},
   "source": [
    "### Surprise"
   ]
  },
  {
   "cell_type": "code",
   "execution_count": null,
   "metadata": {},
   "outputs": [],
   "source": [
    "library = 'ibes'\n",
    "dataset = 'surpsum' # summary surprise \n",
    "\n",
    "query = sprintf(\"select * from %s.%s\", library, dataset)\n",
    "res <- dbSendQuery(wrds, query)\n",
    "ibes_surpsum <- setDT(dbFetch(res, n=-1)); dbClearResult(res)\n",
    "ibes_surpsum[1]\n",
    "sv(ibes_surpsum, path=WRDS_DOWNLOAD_DIR)"
   ]
  },
  {
   "cell_type": "markdown",
   "metadata": {},
   "source": [
    "## price target"
   ]
  },
  {
   "cell_type": "code",
   "execution_count": null,
   "metadata": {},
   "outputs": [],
   "source": [
    "library = \"ibes\"\n",
    "dataset = 'ptgdet'\n",
    "res <- dbSendQuery(wrds, sprintf(\"select * from %s.%s\", library, dataset))\n",
    "ptgdet <- dbFetch(res, n=-1) %>% setDT()\n",
    "dbClearResult(res)\n",
    "sv(ptgdet, path='/data/WRDS-download')"
   ]
  },
  {
   "cell_type": "code",
   "execution_count": 6,
   "metadata": {},
   "outputs": [
    {
     "data": {
      "text/html": [
       "5245752"
      ],
      "text/latex": [
       "5245752"
      ],
      "text/markdown": [
       "5245752"
      ],
      "text/plain": [
       "[1] 5245752"
      ]
     },
     "metadata": {},
     "output_type": "display_data"
    }
   ],
   "source": [
    "nrow(ptgdet)"
   ]
  },
  {
   "cell_type": "code",
   "execution_count": 5,
   "metadata": {},
   "outputs": [
    {
     "data": {
      "text/html": [
       "<table>\n",
       "<thead><tr><th scope=col>ticker</th><th scope=col>cusip</th><th scope=col>oftic</th><th scope=col>cname</th><th scope=col>actdats</th><th scope=col>estimid</th><th scope=col>alysnam</th><th scope=col>horizon</th><th scope=col>value</th><th scope=col>estcur</th><th scope=col>curr</th><th scope=col>amaskcd</th><th scope=col>usfirm</th><th scope=col>measure</th><th scope=col>acttims</th><th scope=col>anndats</th><th scope=col>anntims</th></tr></thead>\n",
       "<tbody>\n",
       "\t<tr><td>0000          </td><td>87482X10      </td><td>TLMR          </td><td>TALMER BANCORP</td><td>2014-03-10    </td><td>PRMDN082      </td><td>PERMDENIED    </td><td>12            </td><td>16            </td><td>USD           </td><td>USD           </td><td>538750        </td><td>1             </td><td>PTG           </td><td>32043         </td><td>2014-03-10    </td><td>1200          </td></tr>\n",
       "</tbody>\n",
       "</table>\n"
      ],
      "text/latex": [
       "\\begin{tabular}{r|lllllllllllllllll}\n",
       " ticker & cusip & oftic & cname & actdats & estimid & alysnam & horizon & value & estcur & curr & amaskcd & usfirm & measure & acttims & anndats & anntims\\\\\n",
       "\\hline\n",
       "\t 0000           & 87482X10       & TLMR           & TALMER BANCORP & 2014-03-10     & PRMDN082       & PERMDENIED     & 12             & 16             & USD            & USD            & 538750         & 1              & PTG            & 32043          & 2014-03-10     & 1200          \\\\\n",
       "\\end{tabular}\n"
      ],
      "text/markdown": [
       "\n",
       "| ticker | cusip | oftic | cname | actdats | estimid | alysnam | horizon | value | estcur | curr | amaskcd | usfirm | measure | acttims | anndats | anntims |\n",
       "|---|---|---|---|---|---|---|---|---|---|---|---|---|---|---|---|---|\n",
       "| 0000           | 87482X10       | TLMR           | TALMER BANCORP | 2014-03-10     | PRMDN082       | PERMDENIED     | 12             | 16             | USD            | USD            | 538750         | 1              | PTG            | 32043          | 2014-03-10     | 1200           |\n",
       "\n"
      ],
      "text/plain": [
       "  ticker cusip    oftic cname          actdats    estimid  alysnam    horizon\n",
       "1 0000   87482X10 TLMR  TALMER BANCORP 2014-03-10 PRMDN082 PERMDENIED 12     \n",
       "  value estcur curr amaskcd usfirm measure acttims anndats    anntims\n",
       "1 16    USD    USD  538750  1      PTG     32043   2014-03-10 1200   "
      ]
     },
     "metadata": {},
     "output_type": "display_data"
    }
   ],
   "source": [
    "ptgdet[1]"
   ]
  },
  {
   "cell_type": "markdown",
   "metadata": {},
   "source": [
    "## recommend"
   ]
  },
  {
   "cell_type": "code",
   "execution_count": null,
   "metadata": {},
   "outputs": [],
   "source": [
    "library = 'ibes'\n",
    "dataset = 'recddet'\n",
    "res <- dbSendQuery(wrds, sprintf(\"select * from %s.%s\", library, dataset))\n",
    "recddet <- dbFetch(res, n=-1) %>% setDT()\n",
    "dbClearResult(res)\n",
    "sv(recddet, path='/data/WRDS-download')"
   ]
  },
  {
   "cell_type": "code",
   "execution_count": 7,
   "metadata": {},
   "outputs": [
    {
     "data": {
      "text/html": [
       "2812735"
      ],
      "text/latex": [
       "2812735"
      ],
      "text/markdown": [
       "2812735"
      ],
      "text/plain": [
       "[1] 2812735"
      ]
     },
     "metadata": {},
     "output_type": "display_data"
    }
   ],
   "source": [
    "nrow(recddet)"
   ]
  },
  {
   "cell_type": "code",
   "execution_count": 8,
   "metadata": {},
   "outputs": [
    {
     "data": {
      "text/html": [
       "<table>\n",
       "<thead><tr><th scope=col>ticker</th><th scope=col>cusip</th><th scope=col>cname</th><th scope=col>oftic</th><th scope=col>actdats</th><th scope=col>estimid</th><th scope=col>analyst</th><th scope=col>ereccd</th><th scope=col>etext</th><th scope=col>ireccd</th><th scope=col>itext</th><th scope=col>emaskcd</th><th scope=col>amaskcd</th><th scope=col>usfirm</th><th scope=col>acttims</th><th scope=col>revdats</th><th scope=col>revtims</th><th scope=col>anndats</th><th scope=col>anntims</th></tr></thead>\n",
       "<tbody>\n",
       "\t<tr><td>0000          </td><td>87482X10      </td><td>TALMER BANCORP</td><td>TLMR          </td><td>2014-03-10    </td><td>PRMDN082      </td><td>PERMDENIED    </td><td>2             </td><td>OUTPERFORM    </td><td>2             </td><td>BUY           </td><td>50659         </td><td>538750        </td><td>1             </td><td>32043         </td><td>2016-01-26    </td><td>34552         </td><td>2014-03-10    </td><td>1200          </td></tr>\n",
       "</tbody>\n",
       "</table>\n"
      ],
      "text/latex": [
       "\\begin{tabular}{r|lllllllllllllllllll}\n",
       " ticker & cusip & cname & oftic & actdats & estimid & analyst & ereccd & etext & ireccd & itext & emaskcd & amaskcd & usfirm & acttims & revdats & revtims & anndats & anntims\\\\\n",
       "\\hline\n",
       "\t 0000           & 87482X10       & TALMER BANCORP & TLMR           & 2014-03-10     & PRMDN082       & PERMDENIED     & 2              & OUTPERFORM     & 2              & BUY            & 50659          & 538750         & 1              & 32043          & 2016-01-26     & 34552          & 2014-03-10     & 1200          \\\\\n",
       "\\end{tabular}\n"
      ],
      "text/markdown": [
       "\n",
       "| ticker | cusip | cname | oftic | actdats | estimid | analyst | ereccd | etext | ireccd | itext | emaskcd | amaskcd | usfirm | acttims | revdats | revtims | anndats | anntims |\n",
       "|---|---|---|---|---|---|---|---|---|---|---|---|---|---|---|---|---|---|---|\n",
       "| 0000           | 87482X10       | TALMER BANCORP | TLMR           | 2014-03-10     | PRMDN082       | PERMDENIED     | 2              | OUTPERFORM     | 2              | BUY            | 50659          | 538750         | 1              | 32043          | 2016-01-26     | 34552          | 2014-03-10     | 1200           |\n",
       "\n"
      ],
      "text/plain": [
       "  ticker cusip    cname          oftic actdats    estimid  analyst    ereccd\n",
       "1 0000   87482X10 TALMER BANCORP TLMR  2014-03-10 PRMDN082 PERMDENIED 2     \n",
       "  etext      ireccd itext emaskcd amaskcd usfirm acttims revdats    revtims\n",
       "1 OUTPERFORM 2      BUY   50659   538750  1      32043   2016-01-26 34552  \n",
       "  anndats    anntims\n",
       "1 2014-03-10 1200   "
      ]
     },
     "metadata": {},
     "output_type": "display_data"
    }
   ],
   "source": [
    "recddet[1]"
   ]
  },
  {
   "cell_type": "markdown",
   "metadata": {},
   "source": [
    "## stock price"
   ]
  },
  {
   "cell_type": "code",
   "execution_count": null,
   "metadata": {
    "scrolled": true
   },
   "outputs": [],
   "source": [
    "library = 'comp'\n",
    "dataset = 'secd' # factors\n",
    "years = 2000:2018\n",
    "\n",
    "system.time({\n",
    "secd = list()\n",
    "for (year in years) {\n",
    "    print(sprintf('Start %s at %s', year, now()))\n",
    "    query = sprintf(\"select * from %s.%s where to_char(datadate,'yyyy')='%s'\", library, dataset, year)\n",
    "\n",
    "    res <- dbSendQuery(wrds, query)\n",
    "    data <- setDT(dbFetch(res, n=-1)); dbClearResult(res)\n",
    "    \n",
    "    print(sprintf('%s_%s: %s obs', dataset, year, nrow(data)))\n",
    "    secd[[as.character(year)]] = data\n",
    "}\n",
    "secd = rbindlist(secd, use=T)\n",
    "})\n",
    "sv(secd, path=WRDS_DOWNLOAD_DIR)"
   ]
  },
  {
   "cell_type": "markdown",
   "metadata": {},
   "source": [
    "Download `CRSP`\n",
    "It's *deprecated*!"
   ]
  },
  {
   "cell_type": "code",
   "execution_count": null,
   "metadata": {
    "scrolled": true
   },
   "outputs": [],
   "source": [
    "library = 'crspq'\n",
    "dataset = 'dsf' # factors\n",
    "years = 2001:2018\n",
    "\n",
    "for (year in years) {\n",
    "    print(sprintf('Start %s at %s', year, now()))\n",
    "    query = sprintf(\"select * from %s.%s where to_char(date,'yyyy')='%s'\", library, dataset, year)\n",
    "    save_name_short = sprintf('%s_%s', dataset, year)\n",
    "    save_name_full = sprintf('../data/WRDS-download/%s_%s.rds', dataset, year)\n",
    "\n",
    "    res <- dbSendQuery(wrds, query)\n",
    "    data <- setDT(dbFetch(res, n=-1)); dbClearResult(res)\n",
    "    \n",
    "    sprintf('%s_%s: %s', dataset, year, nrow(data))\n",
    "    assign(save_name_short, data)\n",
    "    saveRDS(data, save_name_full)\n",
    "}"
   ]
  },
  {
   "cell_type": "code",
   "execution_count": 31,
   "metadata": {},
   "outputs": [
    {
     "name": "stdout",
     "output_type": "stream",
     "text": [
      "-dsf_2001- loaded  (1.11 secs)\n"
     ]
    }
   ],
   "source": [
    "ld(dsf_2001, path=WRDS_DOWNLOAD_DIR)"
   ]
  },
  {
   "cell_type": "code",
   "execution_count": 32,
   "metadata": {},
   "outputs": [
    {
     "data": {
      "text/html": [
       "<table>\n",
       "<thead><tr><th scope=col>cusip</th><th scope=col>permno</th><th scope=col>permco</th><th scope=col>issuno</th><th scope=col>hexcd</th><th scope=col>hsiccd</th><th scope=col>date</th><th scope=col>bidlo</th><th scope=col>askhi</th><th scope=col>prc</th><th scope=col>vol</th><th scope=col>ret</th><th scope=col>bid</th><th scope=col>ask</th><th scope=col>shrout</th><th scope=col>cfacpr</th><th scope=col>cfacshr</th><th scope=col>openprc</th><th scope=col>numtrd</th><th scope=col>retx</th></tr></thead>\n",
       "<tbody>\n",
       "\t<tr><td>36720410  </td><td>10001     </td><td>7953      </td><td>10398     </td><td>2         </td><td>4925      </td><td>2001-01-02</td><td>9.3125    </td><td>9.875     </td><td>9.875     </td><td>3849      </td><td>0.01282051</td><td>9.5       </td><td>9.875     </td><td>2498      </td><td>1.5       </td><td>1.5       </td><td>9.3125    </td><td>9         </td><td>0.01282051</td></tr>\n",
       "</tbody>\n",
       "</table>\n"
      ],
      "text/latex": [
       "\\begin{tabular}{r|llllllllllllllllllll}\n",
       " cusip & permno & permco & issuno & hexcd & hsiccd & date & bidlo & askhi & prc & vol & ret & bid & ask & shrout & cfacpr & cfacshr & openprc & numtrd & retx\\\\\n",
       "\\hline\n",
       "\t 36720410   & 10001      & 7953       & 10398      & 2          & 4925       & 2001-01-02 & 9.3125     & 9.875      & 9.875      & 3849       & 0.01282051 & 9.5        & 9.875      & 2498       & 1.5        & 1.5        & 9.3125     & 9          & 0.01282051\\\\\n",
       "\\end{tabular}\n"
      ],
      "text/markdown": [
       "\n",
       "| cusip | permno | permco | issuno | hexcd | hsiccd | date | bidlo | askhi | prc | vol | ret | bid | ask | shrout | cfacpr | cfacshr | openprc | numtrd | retx |\n",
       "|---|---|---|---|---|---|---|---|---|---|---|---|---|---|---|---|---|---|---|---|\n",
       "| 36720410   | 10001      | 7953       | 10398      | 2          | 4925       | 2001-01-02 | 9.3125     | 9.875      | 9.875      | 3849       | 0.01282051 | 9.5        | 9.875      | 2498       | 1.5        | 1.5        | 9.3125     | 9          | 0.01282051 |\n",
       "\n"
      ],
      "text/plain": [
       "  cusip    permno permco issuno hexcd hsiccd date       bidlo  askhi prc   vol \n",
       "1 36720410 10001  7953   10398  2     4925   2001-01-02 9.3125 9.875 9.875 3849\n",
       "  ret        bid ask   shrout cfacpr cfacshr openprc numtrd retx      \n",
       "1 0.01282051 9.5 9.875 2498   1.5    1.5     9.3125  9      0.01282051"
      ]
     },
     "metadata": {},
     "output_type": "display_data"
    }
   ],
   "source": [
    "dsf_2001[1]"
   ]
  },
  {
   "cell_type": "markdown",
   "metadata": {},
   "source": [
    "## factors"
   ]
  },
  {
   "cell_type": "code",
   "execution_count": 7,
   "metadata": {},
   "outputs": [
    {
     "data": {
      "text/html": [
       "'factors_daily: 1860532'"
      ],
      "text/latex": [
       "'factors\\_daily: 1860532'"
      ],
      "text/markdown": [
       "'factors_daily: 1860532'"
      ],
      "text/plain": [
       "[1] \"factors_daily: 1860532\""
      ]
     },
     "metadata": {},
     "output_type": "display_data"
    },
    {
     "name": "stdout",
     "output_type": "stream",
     "text": [
      "-factors- saved  (0.09 secs)\n"
     ]
    }
   ],
   "source": [
    "library = 'ff'\n",
    "dataset = 'factors_daily' # factors\n",
    "\n",
    "query = sprintf(\"select * from %s.%s\", library, dataset)\n",
    "res <- dbSendQuery(wrds, query)\n",
    "factors <- setDT(dbFetch(res, n=-1)); dbClearResult(res)\n",
    "sprintf('%s: %s', dataset, nrow(data))\n",
    "sv(factors, path='/data/WRDS-download')"
   ]
  },
  {
   "cell_type": "code",
   "execution_count": 6,
   "metadata": {},
   "outputs": [
    {
     "data": {
      "text/html": [
       "<table>\n",
       "<thead><tr><th scope=col>date</th><th scope=col>mktrf</th><th scope=col>smb</th><th scope=col>hml</th><th scope=col>rf</th><th scope=col>umd</th></tr></thead>\n",
       "<tbody>\n",
       "\t<tr><td>1926-07-01</td><td>0.001     </td><td>-0.0024   </td><td>-0.0028   </td><td>9e-05     </td><td>NA        </td></tr>\n",
       "</tbody>\n",
       "</table>\n"
      ],
      "text/latex": [
       "\\begin{tabular}{r|llllll}\n",
       " date & mktrf & smb & hml & rf & umd\\\\\n",
       "\\hline\n",
       "\t 1926-07-01 & 0.001      & -0.0024    & -0.0028    & 9e-05      & NA        \\\\\n",
       "\\end{tabular}\n"
      ],
      "text/markdown": [
       "\n",
       "| date | mktrf | smb | hml | rf | umd |\n",
       "|---|---|---|---|---|---|\n",
       "| 1926-07-01 | 0.001      | -0.0024    | -0.0028    | 9e-05      | NA         |\n",
       "\n"
      ],
      "text/plain": [
       "  date       mktrf smb     hml     rf    umd\n",
       "1 1926-07-01 0.001 -0.0024 -0.0028 9e-05 NA "
      ]
     },
     "metadata": {},
     "output_type": "display_data"
    }
   ],
   "source": [
    "factors[1]"
   ]
  },
  {
   "cell_type": "markdown",
   "metadata": {
    "toc-hr-collapsed": true
   },
   "source": [
    "## firm-id"
   ]
  },
  {
   "cell_type": "markdown",
   "metadata": {},
   "source": [
    "### `ibes.id`"
   ]
  },
  {
   "cell_type": "code",
   "execution_count": 4,
   "metadata": {},
   "outputs": [
    {
     "data": {
      "text/html": [
       "'nrow: 86242'"
      ],
      "text/latex": [
       "'nrow: 86242'"
      ],
      "text/markdown": [
       "'nrow: 86242'"
      ],
      "text/plain": [
       "[1] \"nrow: 86242\""
      ]
     },
     "metadata": {},
     "output_type": "display_data"
    },
    {
     "name": "stdout",
     "output_type": "stream",
     "text": [
      "-ibes_id- saved  (0.15 secs)\n"
     ]
    },
    {
     "data": {
      "text/html": [
       "'id: 240098'"
      ],
      "text/latex": [
       "'id: 240098'"
      ],
      "text/markdown": [
       "'id: 240098'"
      ],
      "text/plain": [
       "[1] \"id: 240098\""
      ]
     },
     "metadata": {},
     "output_type": "display_data"
    },
    {
     "data": {
      "text/html": [
       "<table>\n",
       "<thead><tr><th scope=col>ticker</th><th scope=col>cusip</th><th scope=col>cname</th><th scope=col>oftic</th><th scope=col>sdates</th></tr></thead>\n",
       "<tbody>\n",
       "\t<tr><td>0000          </td><td>87482X10      </td><td>TALMER BANCORP</td><td>TLMR          </td><td>2014-02-20    </td></tr>\n",
       "</tbody>\n",
       "</table>\n"
      ],
      "text/latex": [
       "\\begin{tabular}{r|lllll}\n",
       " ticker & cusip & cname & oftic & sdates\\\\\n",
       "\\hline\n",
       "\t 0000           & 87482X10       & TALMER BANCORP & TLMR           & 2014-02-20    \\\\\n",
       "\\end{tabular}\n"
      ],
      "text/markdown": [
       "\n",
       "| ticker | cusip | cname | oftic | sdates |\n",
       "|---|---|---|---|---|\n",
       "| 0000           | 87482X10       | TALMER BANCORP | TLMR           | 2014-02-20     |\n",
       "\n"
      ],
      "text/plain": [
       "  ticker cusip    cname          oftic sdates    \n",
       "1 0000   87482X10 TALMER BANCORP TLMR  2014-02-20"
      ]
     },
     "metadata": {},
     "output_type": "display_data"
    },
    {
     "name": "stdout",
     "output_type": "stream",
     "text": [
      "-ibes_id2- saved  (0.54 secs)\n"
     ]
    }
   ],
   "source": [
    "library = 'ibes'\n",
    "dataset = 'id' # firm names\n",
    "\n",
    "query = sprintf(\"select ticker, cusip, cname, sdates from %s.%s where usfirm=1 and cusip != ''\", library, dataset)\n",
    "res <- dbSendQuery(wrds, query)\n",
    "ibes_id <- setDT(dbFetch(res, n=-1)); dbClearResult(res)\n",
    "sprintf('nrow: %s', nrow(ibes_id))\n",
    "sv(ibes_id, path=WRDS_DOWNLOAD_DIR)\n",
    "\n",
    "query = sprintf(\"select ticker, cusip, cname, oftic, sdates from %s.%s\", library, dataset)\n",
    "res <- dbSendQuery(wrds, query)\n",
    "ibes_id2 <- setDT(dbFetch(res, n=-1)); dbClearResult(res)\n",
    "sprintf('%s: %s', dataset, nrow(ibes_id2))\n",
    "\n",
    "ibes_id2[1]\n",
    "sv(ibes_id2, path=WRDS_DOWNLOAD_DIR)"
   ]
  },
  {
   "cell_type": "markdown",
   "metadata": {},
   "source": [
    "### `comp.security`"
   ]
  },
  {
   "cell_type": "code",
   "execution_count": 391,
   "metadata": {},
   "outputs": [
    {
     "data": {
      "text/html": [
       "'security: 58376'"
      ],
      "text/latex": [
       "'security: 58376'"
      ],
      "text/markdown": [
       "'security: 58376'"
      ],
      "text/plain": [
       "[1] \"security: 58376\""
      ]
     },
     "metadata": {},
     "output_type": "display_data"
    },
    {
     "data": {
      "text/html": [
       "<table>\n",
       "<thead><tr><th scope=col>tic</th><th scope=col>gvkey</th><th scope=col>iid</th><th scope=col>cusip</th><th scope=col>dlrsni</th><th scope=col>dsci</th><th scope=col>epf</th><th scope=col>exchg</th><th scope=col>excntry</th><th scope=col>ibtic</th><th scope=col>isin</th><th scope=col>secstat</th><th scope=col>sedol</th><th scope=col>tpci</th><th scope=col>dldtei</th></tr></thead>\n",
       "<tbody>\n",
       "\t<tr><td>AE.2      </td><td>001000    </td><td>01        </td><td>000032102 </td><td>09        </td><td>COM USD1  </td><td>NA        </td><td>12        </td><td>USA       </td><td>NA        </td><td>NA        </td><td>I         </td><td>NA        </td><td>0         </td><td>1978-06-30</td></tr>\n",
       "</tbody>\n",
       "</table>\n"
      ],
      "text/latex": [
       "\\begin{tabular}{r|lllllllllllllll}\n",
       " tic & gvkey & iid & cusip & dlrsni & dsci & epf & exchg & excntry & ibtic & isin & secstat & sedol & tpci & dldtei\\\\\n",
       "\\hline\n",
       "\t AE.2       & 001000     & 01         & 000032102  & 09         & COM USD1   & NA         & 12         & USA        & NA         & NA         & I          & NA         & 0          & 1978-06-30\\\\\n",
       "\\end{tabular}\n"
      ],
      "text/markdown": [
       "\n",
       "| tic | gvkey | iid | cusip | dlrsni | dsci | epf | exchg | excntry | ibtic | isin | secstat | sedol | tpci | dldtei |\n",
       "|---|---|---|---|---|---|---|---|---|---|---|---|---|---|---|\n",
       "| AE.2       | 001000     | 01         | 000032102  | 09         | COM USD1   | NA         | 12         | USA        | NA         | NA         | I          | NA         | 0          | 1978-06-30 |\n",
       "\n"
      ],
      "text/plain": [
       "  tic  gvkey  iid cusip     dlrsni dsci     epf exchg excntry ibtic isin\n",
       "1 AE.2 001000 01  000032102 09     COM USD1 NA  12    USA     NA    NA  \n",
       "  secstat sedol tpci dldtei    \n",
       "1 I       NA    0    1978-06-30"
      ]
     },
     "metadata": {},
     "output_type": "display_data"
    },
    {
     "name": "stdout",
     "output_type": "stream",
     "text": [
      "-comp_security- saved  (0.34 secs)\n"
     ]
    }
   ],
   "source": [
    "library = 'compm'\n",
    "dataset = 'security' # firm names\n",
    "\n",
    "query = sprintf(\"select * from %s.%s\", library, dataset)\n",
    "res <- dbSendQuery(wrds, query)\n",
    "comp_security <- setDT(dbFetch(res, n=-1)); dbClearResult(res)\n",
    "sprintf('%s: %s', dataset, nrow(comp_security))\n",
    "\n",
    "comp_security[1]\n",
    "sv(comp_security, path=WRDS_DOWNLOAD_DIR)"
   ]
  },
  {
   "cell_type": "markdown",
   "metadata": {},
   "source": [
    "### `ciq.wrds_gvkey`"
   ]
  },
  {
   "cell_type": "code",
   "execution_count": 33,
   "metadata": {},
   "outputs": [
    {
     "data": {
      "text/html": [
       "'wrds_gvkey: 111883'"
      ],
      "text/latex": [
       "'wrds\\_gvkey: 111883'"
      ],
      "text/markdown": [
       "'wrds_gvkey: 111883'"
      ],
      "text/plain": [
       "[1] \"wrds_gvkey: 111883\""
      ]
     },
     "metadata": {},
     "output_type": "display_data"
    },
    {
     "data": {
      "text/html": [
       "<table>\n",
       "<thead><tr><th scope=col>companyid</th><th scope=col>gvkey</th><th scope=col>startdate</th><th scope=col>enddate</th><th scope=col>companyname</th></tr></thead>\n",
       "<tbody>\n",
       "\t<tr><td>18507        </td><td>235716       </td><td>NA           </td><td>NA           </td><td>2M Invest A/S</td></tr>\n",
       "</tbody>\n",
       "</table>\n"
      ],
      "text/latex": [
       "\\begin{tabular}{r|lllll}\n",
       " companyid & gvkey & startdate & enddate & companyname\\\\\n",
       "\\hline\n",
       "\t 18507         & 235716        & NA            & NA            & 2M Invest A/S\\\\\n",
       "\\end{tabular}\n"
      ],
      "text/markdown": [
       "\n",
       "| companyid | gvkey | startdate | enddate | companyname |\n",
       "|---|---|---|---|---|\n",
       "| 18507         | 235716        | NA            | NA            | 2M Invest A/S |\n",
       "\n"
      ],
      "text/plain": [
       "  companyid gvkey  startdate enddate companyname  \n",
       "1 18507     235716 <NA>      <NA>    2M Invest A/S"
      ]
     },
     "metadata": {},
     "output_type": "display_data"
    },
    {
     "name": "stdout",
     "output_type": "stream",
     "text": [
      "-ciq_wrds_gvkey- saved  (0.45 secs)\n"
     ]
    }
   ],
   "source": [
    "library = 'ciq'\n",
    "dataset = 'wrds_gvkey' # firm names\n",
    "\n",
    "query = sprintf(\"select * from %s.%s\", library, dataset)\n",
    "res <- dbSendQuery(wrds, query)\n",
    "ciq_wrds_gvkey <- setDT(dbFetch(res, n=-1)); dbClearResult(res)\n",
    "sprintf('%s: %s', dataset, nrow(ciq_wrds_gvkey))\n",
    "\n",
    "ciq_wrds_gvkey[1]\n",
    "sv(ciq_wrds_gvkey, path=WRDS_DOWNLOAD_DIR)"
   ]
  },
  {
   "cell_type": "markdown",
   "metadata": {},
   "source": [
    "### `crsp.stocknames`"
   ]
  },
  {
   "cell_type": "code",
   "execution_count": 88,
   "metadata": {},
   "outputs": [
    {
     "data": {
      "text/html": [
       "'stocknames: 55738'"
      ],
      "text/latex": [
       "'stocknames: 55738'"
      ],
      "text/markdown": [
       "'stocknames: 55738'"
      ],
      "text/plain": [
       "[1] \"stocknames: 55738\""
      ]
     },
     "metadata": {},
     "output_type": "display_data"
    },
    {
     "data": {
      "text/html": [
       "<table>\n",
       "<thead><tr><th scope=col>permno</th><th scope=col>ncusip</th><th scope=col>comnam</th><th scope=col>namedt</th><th scope=col>nameenddt</th></tr></thead>\n",
       "<tbody>\n",
       "\t<tr><td>10000                    </td><td>68391610                 </td><td>OPTIMUM MANUFACTURING INC</td><td>1986-01-07               </td><td>1987-06-11               </td></tr>\n",
       "</tbody>\n",
       "</table>\n"
      ],
      "text/latex": [
       "\\begin{tabular}{r|lllll}\n",
       " permno & ncusip & comnam & namedt & nameenddt\\\\\n",
       "\\hline\n",
       "\t 10000                     & 68391610                  & OPTIMUM MANUFACTURING INC & 1986-01-07                & 1987-06-11               \\\\\n",
       "\\end{tabular}\n"
      ],
      "text/markdown": [
       "\n",
       "| permno | ncusip | comnam | namedt | nameenddt |\n",
       "|---|---|---|---|---|\n",
       "| 10000                     | 68391610                  | OPTIMUM MANUFACTURING INC | 1986-01-07                | 1987-06-11                |\n",
       "\n"
      ],
      "text/plain": [
       "  permno ncusip   comnam                    namedt     nameenddt \n",
       "1 10000  68391610 OPTIMUM MANUFACTURING INC 1986-01-07 1987-06-11"
      ]
     },
     "metadata": {},
     "output_type": "display_data"
    },
    {
     "name": "stdout",
     "output_type": "stream",
     "text": [
      "-crsp_stocknames- saved  (0.17 secs)\n"
     ]
    }
   ],
   "source": [
    "library = 'crsp'\n",
    "dataset = 'stocknames' # firm names\n",
    "\n",
    "query = sprintf(\"select permno, ncusip, comnam, namedt, nameenddt from %s.%s where ncusip != ''\", library, dataset)\n",
    "res <- dbSendQuery(wrds, query)\n",
    "crsp_stocknames <- setDT(dbFetch(res, n=-1)); dbClearResult(res)\n",
    "sprintf('nrow: %s', nrow(crsp_stocknames))\n",
    "sv(crsp_stocknames, path=WRDS_DOWNLOAD_DIR)\n",
    "\n",
    "query = sprintf(\"select ticker, comnam, permno, ncusip, namedt, nameenddt from %s.%s\", library, dataset)\n",
    "res <- dbSendQuery(wrds, query)\n",
    "crsp_stocknames2 <- setDT(dbFetch(res, n=-1)); dbClearResult(res)\n",
    "sprintf('nrow: %s', nrow(crsp_stocknames2))\n",
    "crsp_stocknames2[1]\n",
    "sv(crsp_stocknames2, path=WRDS_DOWNLOAD_DIR)"
   ]
  },
  {
   "cell_type": "markdown",
   "metadata": {},
   "source": [
    "### `crsp.ccm`"
   ]
  },
  {
   "cell_type": "code",
   "execution_count": 22,
   "metadata": {},
   "outputs": [
    {
     "data": {
      "text/html": [
       "'nrow: 32235'"
      ],
      "text/latex": [
       "'nrow: 32235'"
      ],
      "text/markdown": [
       "'nrow: 32235'"
      ],
      "text/plain": [
       "[1] \"nrow: 32235\""
      ]
     },
     "metadata": {},
     "output_type": "display_data"
    },
    {
     "name": "stdout",
     "output_type": "stream",
     "text": [
      "-crsp_ccmlink- saved  (0.13 secs)\n"
     ]
    },
    {
     "data": {
      "text/html": [
       "<table>\n",
       "<thead><tr><th scope=col>gvkey</th><th scope=col>permco</th><th scope=col>permno</th><th scope=col>linkdt</th><th scope=col>linkenddt</th></tr></thead>\n",
       "<tbody>\n",
       "\t<tr><td>001000    </td><td>23369     </td><td>25881     </td><td>1970-11-13</td><td>1978-06-30</td></tr>\n",
       "</tbody>\n",
       "</table>\n"
      ],
      "text/latex": [
       "\\begin{tabular}{r|lllll}\n",
       " gvkey & permco & permno & linkdt & linkenddt\\\\\n",
       "\\hline\n",
       "\t 001000     & 23369      & 25881      & 1970-11-13 & 1978-06-30\\\\\n",
       "\\end{tabular}\n"
      ],
      "text/markdown": [
       "\n",
       "| gvkey | permco | permno | linkdt | linkenddt |\n",
       "|---|---|---|---|---|\n",
       "| 001000     | 23369      | 25881      | 1970-11-13 | 1978-06-30 |\n",
       "\n"
      ],
      "text/plain": [
       "  gvkey  permco permno linkdt     linkenddt \n",
       "1 001000 23369  25881  1970-11-13 1978-06-30"
      ]
     },
     "metadata": {},
     "output_type": "display_data"
    }
   ],
   "source": [
    "library = 'crsp'\n",
    "dataset = 'ccmxpf_linktable' # firm names\n",
    "\n",
    "query = sprintf(\"select gvkey, lpermco as permco, lpermno as permno, linkdt, linkenddt from %s.%s where usedflag=1 and linkprim in ('P', 'C')\", library, dataset)\n",
    "res <- dbSendQuery(wrds, query)\n",
    "crsp_ccmlink <- setDT(dbFetch(res, n=-1)); dbClearResult(res)\n",
    "sprintf('nrow: %s', nrow(crsp_ccmlink))\n",
    "sv(crsp_ccmlink, path=WRDS_DOWNLOAD_DIR)\n",
    "crsp_ccmlink[1]"
   ]
  },
  {
   "cell_type": "markdown",
   "metadata": {},
   "source": [
    "## index-cst"
   ]
  },
  {
   "cell_type": "code",
   "execution_count": 63,
   "metadata": {},
   "outputs": [
    {
     "name": "stdout",
     "output_type": "stream",
     "text": [
      "-comp_idx_prof- already exists, will NOT load again!  (0 secs)\n",
      "-comp_idx_cst- already exists, will NOT load again!  (0 secs)\n",
      "-comp_security- already exists, will NOT load again!  (0 secs)\n",
      "-crsp_stocknames- already exists, will NOT load again!  (0 secs)\n"
     ]
    }
   ],
   "source": [
    "ld(comp_idx_prof, path=WRDS_DOWNLOAD_DIR)\n",
    "ld(comp_idx_cst, path=WRDS_DOWNLOAD_DIR)\n",
    "ld(comp_security, path=WRDS_DOWNLOAD_DIR)\n",
    "ld(crsp_stocknames, path=WRDS_DOWNLOAD_DIR)"
   ]
  },
  {
   "cell_type": "code",
   "execution_count": 11,
   "metadata": {},
   "outputs": [
    {
     "data": {
      "text/html": [
       "<table>\n",
       "<caption>A data.table: 1 × 14</caption>\n",
       "<thead>\n",
       "\t<tr><th scope=col>conm</th><th scope=col>gvkeyx</th><th scope=col>idx13key</th><th scope=col>idxcstflg</th><th scope=col>idxstat</th><th scope=col>indexcat</th><th scope=col>indexgeo</th><th scope=col>indexid</th><th scope=col>indextype</th><th scope=col>indexval</th><th scope=col>spii</th><th scope=col>spmi</th><th scope=col>tic</th><th scope=col>tici</th></tr>\n",
       "\t<tr><th scope=col>&lt;chr&gt;</th><th scope=col>&lt;chr&gt;</th><th scope=col>&lt;chr&gt;</th><th scope=col>&lt;chr&gt;</th><th scope=col>&lt;chr&gt;</th><th scope=col>&lt;chr&gt;</th><th scope=col>&lt;chr&gt;</th><th scope=col>&lt;chr&gt;</th><th scope=col>&lt;chr&gt;</th><th scope=col>&lt;chr&gt;</th><th scope=col>&lt;chr&gt;</th><th scope=col>&lt;chr&gt;</th><th scope=col>&lt;chr&gt;</th><th scope=col>&lt;chr&gt;</th></tr>\n",
       "</thead>\n",
       "<tbody>\n",
       "\t<tr><td>S&amp;P 500 Comp-Ltd</td><td>000003</td><td>0000000000500</td><td>Y</td><td>A</td><td>S&amp;P</td><td>USA</td><td>500</td><td>LGCAP</td><td>500</td><td>NA</td><td>10</td><td>I0003</td><td>I0003</td></tr>\n",
       "</tbody>\n",
       "</table>\n"
      ],
      "text/latex": [
       "A data.table: 1 × 14\n",
       "\\begin{tabular}{llllllllllllll}\n",
       " conm & gvkeyx & idx13key & idxcstflg & idxstat & indexcat & indexgeo & indexid & indextype & indexval & spii & spmi & tic & tici\\\\\n",
       " <chr> & <chr> & <chr> & <chr> & <chr> & <chr> & <chr> & <chr> & <chr> & <chr> & <chr> & <chr> & <chr> & <chr>\\\\\n",
       "\\hline\n",
       "\t S\\&P 500 Comp-Ltd & 000003 & 0000000000500 & Y & A & S\\&P & USA & 500 & LGCAP & 500 & NA & 10 & I0003 & I0003\\\\\n",
       "\\end{tabular}\n"
      ],
      "text/markdown": [
       "\n",
       "A data.table: 1 × 14\n",
       "\n",
       "| conm &lt;chr&gt; | gvkeyx &lt;chr&gt; | idx13key &lt;chr&gt; | idxcstflg &lt;chr&gt; | idxstat &lt;chr&gt; | indexcat &lt;chr&gt; | indexgeo &lt;chr&gt; | indexid &lt;chr&gt; | indextype &lt;chr&gt; | indexval &lt;chr&gt; | spii &lt;chr&gt; | spmi &lt;chr&gt; | tic &lt;chr&gt; | tici &lt;chr&gt; |\n",
       "|---|---|---|---|---|---|---|---|---|---|---|---|---|---|\n",
       "| S&amp;P 500 Comp-Ltd | 000003 | 0000000000500 | Y | A | S&amp;P | USA | 500 | LGCAP | 500 | NA | 10 | I0003 | I0003 |\n",
       "\n"
      ],
      "text/plain": [
       "  conm             gvkeyx idx13key      idxcstflg idxstat indexcat indexgeo\n",
       "1 S&P 500 Comp-Ltd 000003 0000000000500 Y         A       S&P      USA     \n",
       "  indexid indextype indexval spii spmi tic   tici \n",
       "1 500     LGCAP     500      NA   10   I0003 I0003"
      ]
     },
     "metadata": {},
     "output_type": "display_data"
    },
    {
     "name": "stdout",
     "output_type": "stream",
     "text": [
      "-comp_idx_profile- saved  (0.01 secs)\n"
     ]
    }
   ],
   "source": [
    "library = 'compa'\n",
    "dataset = 'idx_index' # firm names\n",
    "\n",
    "query = sprintf(\"select * from %s.%s\", library, dataset)\n",
    "res <- dbSendQuery(wrds, query)\n",
    "comp_idx_profile <- setDT(dbFetch(res, n=-1)); dbClearResult(res)\n",
    "\n",
    "comp_idx_profile[conm=='S&P 500 Comp-Ltd']\n",
    "sv(comp_idx_profile, path=WRDS_DOWNLOAD_DIR)"
   ]
  },
  {
   "cell_type": "code",
   "execution_count": 26,
   "metadata": {},
   "outputs": [
    {
     "data": {
      "text/html": [
       "'idxcst_his: 87146'"
      ],
      "text/latex": [
       "'idxcst\\_his: 87146'"
      ],
      "text/markdown": [
       "'idxcst_his: 87146'"
      ],
      "text/plain": [
       "[1] \"idxcst_his: 87146\""
      ]
     },
     "metadata": {},
     "output_type": "display_data"
    },
    {
     "data": {
      "text/html": [
       "<table>\n",
       "<caption>A data.table: 1 × 5</caption>\n",
       "<thead>\n",
       "\t<tr><th scope=col>gvkey</th><th scope=col>iid</th><th scope=col>gvkeyx</th><th scope=col>from</th><th scope=col>thru</th></tr>\n",
       "\t<tr><th scope=col>&lt;chr&gt;</th><th scope=col>&lt;chr&gt;</th><th scope=col>&lt;chr&gt;</th><th scope=col>&lt;date&gt;</th><th scope=col>&lt;date&gt;</th></tr>\n",
       "</thead>\n",
       "<tbody>\n",
       "\t<tr><td>001004</td><td>01</td><td>030824</td><td>1994-10-01</td><td>NA</td></tr>\n",
       "</tbody>\n",
       "</table>\n"
      ],
      "text/latex": [
       "A data.table: 1 × 5\n",
       "\\begin{tabular}{lllll}\n",
       " gvkey & iid & gvkeyx & from & thru\\\\\n",
       " <chr> & <chr> & <chr> & <date> & <date>\\\\\n",
       "\\hline\n",
       "\t 001004 & 01 & 030824 & 1994-10-01 & NA\\\\\n",
       "\\end{tabular}\n"
      ],
      "text/markdown": [
       "\n",
       "A data.table: 1 × 5\n",
       "\n",
       "| gvkey &lt;chr&gt; | iid &lt;chr&gt; | gvkeyx &lt;chr&gt; | from &lt;date&gt; | thru &lt;date&gt; |\n",
       "|---|---|---|---|---|\n",
       "| 001004 | 01 | 030824 | 1994-10-01 | NA |\n",
       "\n"
      ],
      "text/plain": [
       "  gvkey  iid gvkeyx from       thru\n",
       "1 001004 01  030824 1994-10-01 <NA>"
      ]
     },
     "metadata": {},
     "output_type": "display_data"
    },
    {
     "name": "stdout",
     "output_type": "stream",
     "text": [
      "-comp_idx_cst- saved  (0.1 secs)\n"
     ]
    }
   ],
   "source": [
    "library = 'compa'\n",
    "dataset = 'idxcst_his' # firm names\n",
    "\n",
    "query = sprintf(\"select * from %s.%s\", library, dataset)\n",
    "res <- dbSendQuery(wrds, query)\n",
    "comp_idx_cst <- setDT(dbFetch(res, n=-1)); dbClearResult(res)\n",
    "\n",
    "comp_idx_cst[1]\n",
    "sv(comp_idx_cst, path=WRDS_DOWNLOAD_DIR)"
   ]
  },
  {
   "cell_type": "markdown",
   "metadata": {},
   "source": [
    "## keydev"
   ]
  },
  {
   "cell_type": "code",
   "execution_count": 30,
   "metadata": {},
   "outputs": [
    {
     "data": {
      "text/html": [
       "'wrds_keydev: 1'"
      ],
      "text/latex": [
       "'wrds\\_keydev: 1'"
      ],
      "text/markdown": [
       "'wrds_keydev: 1'"
      ],
      "text/plain": [
       "[1] \"wrds_keydev: 1\""
      ]
     },
     "metadata": {},
     "output_type": "display_data"
    }
   ],
   "source": [
    "library = 'ciq'\n",
    "dataset = 'wrds_keydev' # everything except for `headline` and `situation`\n",
    "\n",
    "query = sprintf(\"select * from %s.%s \n",
    "    where keydeveventtypeid in (28, 48, 55, 61, 144)\", library, dataset)\n",
    "res <- dbSendQuery(wrds, query)\n",
    "ciq_wrds_keydev <- setDT(dbFetch(res, n=-1)); dbClearResult(res)\n",
    "sprintf('%s: %s', dataset, nrow(ciq_wrds_keydev))\n",
    "\n",
    "# `mostimportantdateutc` is in UTC but R doesn't recognize,\n",
    "# so we need to set it explictly\n",
    "ciq_wrds_keydev[, ':='(mostimportantdateutc=force_tz(mostimportantdateutc, 'UTC'))]\n",
    "\n",
    "sv(ciq_wrds_keydev, path=WRDS_DOWNLOAD_DIR)"
   ]
  },
  {
   "cell_type": "code",
   "execution_count": null,
   "metadata": {},
   "outputs": [],
   "source": [
    "library = 'ciq'\n",
    "dataset = 'ciqkeydev' # `headline` and `situation`\n",
    "\n",
    "query = sprintf(\"select * from %s.%s \n",
    "    where keydevid in \n",
    "        (select keydevid from ciq.wrds_keydev\n",
    "        where keydeveventtypeid in (28, 48, 55, 61, 144))\",\n",
    "    library, dataset)\n",
    "res <- dbSendQuery(wrds, query)\n",
    "ciq_keydev <- setDT(dbFetch(res, n=-1)); dbClearResult(res)\n",
    "sprintf('%s: %s', dataset, nrow(ciq_keydev))\n",
    "\n",
    "# `mostimportantdateutc` is in UTC but R doesn't recognize,\n",
    "# so we need to set it explictly\n",
    "ciq_keydev[, ':='(mostimportantdateutc=force_tz(mostimportantdateutc, 'UTC'))]\n",
    "\n",
    "sv(ciq_keydev, path=WRDS_DOWNLOAD_DIR)"
   ]
  },
  {
   "cell_type": "markdown",
   "metadata": {},
   "source": [
    "## CCM"
   ]
  },
  {
   "cell_type": "markdown",
   "metadata": {},
   "source": [
    "`ccmxpf_lnkhist` from CCM provides a linktable between CRSP and Compustat"
   ]
  },
  {
   "cell_type": "code",
   "execution_count": 12,
   "metadata": {},
   "outputs": [
    {
     "data": {
      "text/html": [
       "'ccmxpf_lnkhist: 102611'"
      ],
      "text/latex": [
       "'ccmxpf\\_lnkhist: 102611'"
      ],
      "text/markdown": [
       "'ccmxpf_lnkhist: 102611'"
      ],
      "text/plain": [
       "[1] \"ccmxpf_lnkhist: 102611\""
      ]
     },
     "metadata": {},
     "output_type": "display_data"
    },
    {
     "name": "stdout",
     "output_type": "stream",
     "text": [
      "-ccm- saved  (0.28 secs)\n"
     ]
    }
   ],
   "source": [
    "library = 'crspq'\n",
    "dataset = 'ccmxpf_lnkhist'\n",
    "\n",
    "query = sprintf(\"select * from %s.%s\",\n",
    "    library, dataset)\n",
    "res <- dbSendQuery(wrds, query)\n",
    "ccm <- setDT(dbFetch(res, n=-1)); dbClearResult(res)\n",
    "sprintf('%s: %s', dataset, nrow(ccm))\n",
    "sv(ccm, path=WRDS_DOWNLOAD_DIR)"
   ]
  },
  {
   "cell_type": "markdown",
   "metadata": {},
   "source": [
    "# Coverage"
   ]
  },
  {
   "cell_type": "code",
   "execution_count": 11,
   "metadata": {},
   "outputs": [
    {
     "name": "stdout",
     "output_type": "stream",
     "text": [
      "-comp_idx_cst- loaded  (0.1 secs)\n"
     ]
    }
   ],
   "source": [
    "ld(comp_idx_cst, path=WRDS_DOWNLOAD_DIR)\n",
    "ld(comp_security, path=WRDS_DOWNLOAD_DIR)"
   ]
  },
  {
   "cell_type": "code",
   "execution_count": 12,
   "metadata": {},
   "outputs": [],
   "source": [
    "SDATE = as.Date('2005-01-01')\n",
    "EDATE = as.Date('2018-12-31')"
   ]
  },
  {
   "cell_type": "code",
   "execution_count": 44,
   "metadata": {
    "scrolled": true
   },
   "outputs": [
    {
     "data": {
      "text/html": [
       "<table>\n",
       "<thead><tr><th scope=col>gvkey</th><th scope=col>iid</th><th scope=col>gvkeyx</th><th scope=col>from</th><th scope=col>thru</th><th scope=col>tic</th><th scope=col>cusip</th><th scope=col>sedol</th></tr></thead>\n",
       "<tbody>\n",
       "\t<tr><td>001300    </td><td>01        </td><td>000005    </td><td>1925-12-07</td><td>2008-02-18</td><td>HON       </td><td>438516    </td><td>2020459   </td></tr>\n",
       "\t<tr><td>001356    </td><td>01        </td><td>000005    </td><td>1959-06-01</td><td>2013-09-22</td><td>AA.3      </td><td>013817    </td><td>BYVZDB3   </td></tr>\n",
       "\t<tr><td>001447    </td><td>01        </td><td>000005    </td><td>1982-08-30</td><td>NA        </td><td>AXP       </td><td>025816    </td><td>2026082   </td></tr>\n",
       "\t<tr><td>001487    </td><td>01        </td><td>000005    </td><td>2004-04-08</td><td>2008-09-21</td><td>AIG       </td><td>026874    </td><td>2027342   </td></tr>\n",
       "\t<tr><td>001581    </td><td>01        </td><td>000005    </td><td>1939-03-14</td><td>2004-04-07</td><td>T.2       </td><td>001957    </td><td>2064888   </td></tr>\n",
       "\t<tr><td>001690    </td><td>01        </td><td>000005    </td><td>2015-03-19</td><td>NA        </td><td>AAPL      </td><td>037833    </td><td>2046251   </td></tr>\n",
       "\t<tr><td>002136    </td><td>01        </td><td>000005    </td><td>2004-04-08</td><td>NA        </td><td>VZ        </td><td>92343V    </td><td>2090571   </td></tr>\n",
       "\t<tr><td>002285    </td><td>01        </td><td>000005    </td><td>1987-03-12</td><td>NA        </td><td>BA        </td><td>097023    </td><td>2108601   </td></tr>\n",
       "\t<tr><td>002817    </td><td>01        </td><td>000005    </td><td>1991-05-06</td><td>NA        </td><td>CAT       </td><td>149123    </td><td>2180201   </td></tr>\n",
       "\t<tr><td>002968    </td><td>01        </td><td>000005    </td><td>2001-01-02</td><td>NA        </td><td>JPM       </td><td>46625H    </td><td>2190385   </td></tr>\n",
       "\t<tr><td>002991    </td><td>01        </td><td>000005    </td><td>1984-07-10</td><td>1999-10-31</td><td>CVX       </td><td>166764    </td><td>2838555   </td></tr>\n",
       "\t<tr><td>002991    </td><td>01        </td><td>000005    </td><td>2008-02-19</td><td>NA        </td><td>CVX       </td><td>166764    </td><td>2838555   </td></tr>\n",
       "\t<tr><td>003144    </td><td>01        </td><td>000005    </td><td>1932-05-26</td><td>NA        </td><td>KO        </td><td>191216    </td><td>2206657   </td></tr>\n",
       "\t<tr><td>003243    </td><td>01        </td><td>000005    </td><td>1997-03-17</td><td>2009-06-07</td><td>C         </td><td>172967    </td><td>2297907   </td></tr>\n",
       "\t<tr><td>003980    </td><td>01        </td><td>000005    </td><td>1991-05-06</td><td>NA        </td><td>DIS       </td><td>254687    </td><td>2270726   </td></tr>\n",
       "\t<tr><td>004060    </td><td>01        </td><td>000005    </td><td>2017-09-01</td><td>2019-04-01</td><td>DWDP      </td><td>26078J    </td><td>BYP66M4   </td></tr>\n",
       "\t<tr><td>004087    </td><td>01        </td><td>000005    </td><td>1935-11-20</td><td>2017-08-31</td><td>DD        </td><td>263534    </td><td>2018175   </td></tr>\n",
       "\t<tr><td>004194    </td><td>01        </td><td>000005    </td><td>1930-07-18</td><td>2004-04-07</td><td>EKDKQ     </td><td>277461    </td><td>2300601   </td></tr>\n",
       "\t<tr><td>004503    </td><td>01        </td><td>000005    </td><td>1928-10-01</td><td>NA        </td><td>XOM       </td><td>30231G    </td><td>2326618   </td></tr>\n",
       "\t<tr><td>005047    </td><td>01        </td><td>000005    </td><td>1907-11-07</td><td>2018-06-25</td><td>GE        </td><td>369604    </td><td>2380498   </td></tr>\n",
       "\t<tr><td>005073    </td><td>01        </td><td>000005    </td><td>1915-03-16</td><td>2009-06-07</td><td>MTLQQ     </td><td>62010A    </td><td>2365804   </td></tr>\n",
       "\t<tr><td>005234    </td><td>01        </td><td>000005    </td><td>1930-07-18</td><td>1999-10-31</td><td>GT        </td><td>382550    </td><td>2378200   </td></tr>\n",
       "\t<tr><td>005606    </td><td>01        </td><td>000005    </td><td>1997-03-17</td><td>2013-09-22</td><td>HPQ       </td><td>40434L    </td><td>BYX4D52   </td></tr>\n",
       "\t<tr><td>005680    </td><td>01        </td><td>000005    </td><td>1999-11-01</td><td>NA        </td><td>HD        </td><td>437076    </td><td>2434209   </td></tr>\n",
       "\t<tr><td>006008    </td><td>01        </td><td>000005    </td><td>1999-11-01</td><td>NA        </td><td>INTC      </td><td>458140    </td><td>2463247   </td></tr>\n",
       "\t<tr><td>006066    </td><td>01        </td><td>000005    </td><td>1932-05-26</td><td>NA        </td><td>IBM       </td><td>459200    </td><td>2005973   </td></tr>\n",
       "\t<tr><td>006104    </td><td>01        </td><td>000005    </td><td>1956-07-03</td><td>2004-04-07</td><td>IP        </td><td>460146    </td><td>2465254   </td></tr>\n",
       "\t<tr><td>006266    </td><td>01        </td><td>000005    </td><td>1997-03-17</td><td>NA        </td><td>JNJ       </td><td>478160    </td><td>2475833   </td></tr>\n",
       "\t<tr><td>007154    </td><td>01        </td><td>000005    </td><td>1985-10-30</td><td>NA        </td><td>MCD       </td><td>580135    </td><td>2550707   </td></tr>\n",
       "\t<tr><td>007257    </td><td>01        </td><td>000005    </td><td>1979-06-29</td><td>NA        </td><td>MRK       </td><td>58933Y    </td><td>2778844   </td></tr>\n",
       "\t<tr><td>007435    </td><td>01        </td><td>000005    </td><td>1976-08-09</td><td>NA        </td><td>MMM       </td><td>88579Y    </td><td>2595708   </td></tr>\n",
       "\t<tr><td>007562    </td><td>01        </td><td>000005    </td><td>1991-05-06</td><td>2001-01-01</td><td>JPM.Z     </td><td>616880    </td><td>NA        </td></tr>\n",
       "\t<tr><td>007647    </td><td>01        </td><td>000005    </td><td>2008-02-19</td><td>2013-09-22</td><td>BAC       </td><td>060505    </td><td>2295677   </td></tr>\n",
       "\t<tr><td>007906    </td><td>01        </td><td>000005    </td><td>2013-09-23</td><td>NA        </td><td>NKE       </td><td>654106    </td><td>2640147   </td></tr>\n",
       "\t<tr><td>008530    </td><td>01        </td><td>000005    </td><td>2004-04-08</td><td>NA        </td><td>PFE       </td><td>717081    </td><td>2684703   </td></tr>\n",
       "\t<tr><td>008543    </td><td>01        </td><td>000005    </td><td>1985-10-30</td><td>2008-02-18</td><td>MO        </td><td>02209S    </td><td>2692632   </td></tr>\n",
       "\t<tr><td>008762    </td><td>01        </td><td>000005    </td><td>1932-05-26</td><td>NA        </td><td>PG        </td><td>742718    </td><td>2704407   </td></tr>\n",
       "\t<tr><td>009563    </td><td>01        </td><td>000005    </td><td>1924-01-22</td><td>1999-10-31</td><td>S.1       </td><td>812387    </td><td>2787312   </td></tr>\n",
       "\t<tr><td>009899    </td><td>01        </td><td>000005    </td><td>1999-11-01</td><td>2015-03-18</td><td>T         </td><td>00206R    </td><td>2831811   </td></tr>\n",
       "\t<tr><td>010857    </td><td>01        </td><td>000005    </td><td>1928-10-01</td><td>1999-10-31</td><td>UK.1      </td><td>905581    </td><td>NA        </td></tr>\n",
       "\t<tr><td>010903    </td><td>01        </td><td>000005    </td><td>2012-09-24</td><td>NA        </td><td>UNH       </td><td>91324P    </td><td>2917766   </td></tr>\n",
       "\t<tr><td>010983    </td><td>01        </td><td>000005    </td><td>1975-05-01</td><td>NA        </td><td>UTX       </td><td>913017    </td><td>2915500   </td></tr>\n",
       "\t<tr><td>011259    </td><td>01        </td><td>000005    </td><td>1997-03-17</td><td>NA        </td><td>WMT       </td><td>931142    </td><td>2936921   </td></tr>\n",
       "\t<tr><td>011264    </td><td>01        </td><td>000005    </td><td>2018-06-26</td><td>NA        </td><td>WBA       </td><td>931427    </td><td>BTN1Y44   </td></tr>\n",
       "\t<tr><td>012141    </td><td>01        </td><td>000005    </td><td>1999-11-01</td><td>NA        </td><td>MSFT      </td><td>594918    </td><td>2588173   </td></tr>\n",
       "\t<tr><td>020779    </td><td>01        </td><td>000005    </td><td>2009-06-08</td><td>NA        </td><td>CSCO      </td><td>17275R    </td><td>2198163   </td></tr>\n",
       "\t<tr><td>062689    </td><td>05        </td><td>000005    </td><td>2009-06-08</td><td>NA        </td><td>TRV       </td><td>89417E    </td><td>2769503   </td></tr>\n",
       "\t<tr><td>114628    </td><td>01        </td><td>000005    </td><td>2013-09-23</td><td>NA        </td><td>GS        </td><td>38141G    </td><td>2407966   </td></tr>\n",
       "\t<tr><td>142953    </td><td>01        </td><td>000005    </td><td>2008-09-22</td><td>2012-09-23</td><td>MDLZ      </td><td>609207    </td><td>B8CKK03   </td></tr>\n",
       "\t<tr><td>179534    </td><td>01        </td><td>000005    </td><td>2013-09-23</td><td>NA        </td><td>V         </td><td>92826C    </td><td>B2PZN04   </td></tr>\n",
       "</tbody>\n",
       "</table>\n"
      ],
      "text/latex": [
       "\\begin{tabular}{r|llllllll}\n",
       " gvkey & iid & gvkeyx & from & thru & tic & cusip & sedol\\\\\n",
       "\\hline\n",
       "\t 001300     & 01         & 000005     & 1925-12-07 & 2008-02-18 & HON        & 438516     & 2020459   \\\\\n",
       "\t 001356     & 01         & 000005     & 1959-06-01 & 2013-09-22 & AA.3       & 013817     & BYVZDB3   \\\\\n",
       "\t 001447     & 01         & 000005     & 1982-08-30 & NA         & AXP        & 025816     & 2026082   \\\\\n",
       "\t 001487     & 01         & 000005     & 2004-04-08 & 2008-09-21 & AIG        & 026874     & 2027342   \\\\\n",
       "\t 001581     & 01         & 000005     & 1939-03-14 & 2004-04-07 & T.2        & 001957     & 2064888   \\\\\n",
       "\t 001690     & 01         & 000005     & 2015-03-19 & NA         & AAPL       & 037833     & 2046251   \\\\\n",
       "\t 002136     & 01         & 000005     & 2004-04-08 & NA         & VZ         & 92343V     & 2090571   \\\\\n",
       "\t 002285     & 01         & 000005     & 1987-03-12 & NA         & BA         & 097023     & 2108601   \\\\\n",
       "\t 002817     & 01         & 000005     & 1991-05-06 & NA         & CAT        & 149123     & 2180201   \\\\\n",
       "\t 002968     & 01         & 000005     & 2001-01-02 & NA         & JPM        & 46625H     & 2190385   \\\\\n",
       "\t 002991     & 01         & 000005     & 1984-07-10 & 1999-10-31 & CVX        & 166764     & 2838555   \\\\\n",
       "\t 002991     & 01         & 000005     & 2008-02-19 & NA         & CVX        & 166764     & 2838555   \\\\\n",
       "\t 003144     & 01         & 000005     & 1932-05-26 & NA         & KO         & 191216     & 2206657   \\\\\n",
       "\t 003243     & 01         & 000005     & 1997-03-17 & 2009-06-07 & C          & 172967     & 2297907   \\\\\n",
       "\t 003980     & 01         & 000005     & 1991-05-06 & NA         & DIS        & 254687     & 2270726   \\\\\n",
       "\t 004060     & 01         & 000005     & 2017-09-01 & 2019-04-01 & DWDP       & 26078J     & BYP66M4   \\\\\n",
       "\t 004087     & 01         & 000005     & 1935-11-20 & 2017-08-31 & DD         & 263534     & 2018175   \\\\\n",
       "\t 004194     & 01         & 000005     & 1930-07-18 & 2004-04-07 & EKDKQ      & 277461     & 2300601   \\\\\n",
       "\t 004503     & 01         & 000005     & 1928-10-01 & NA         & XOM        & 30231G     & 2326618   \\\\\n",
       "\t 005047     & 01         & 000005     & 1907-11-07 & 2018-06-25 & GE         & 369604     & 2380498   \\\\\n",
       "\t 005073     & 01         & 000005     & 1915-03-16 & 2009-06-07 & MTLQQ      & 62010A     & 2365804   \\\\\n",
       "\t 005234     & 01         & 000005     & 1930-07-18 & 1999-10-31 & GT         & 382550     & 2378200   \\\\\n",
       "\t 005606     & 01         & 000005     & 1997-03-17 & 2013-09-22 & HPQ        & 40434L     & BYX4D52   \\\\\n",
       "\t 005680     & 01         & 000005     & 1999-11-01 & NA         & HD         & 437076     & 2434209   \\\\\n",
       "\t 006008     & 01         & 000005     & 1999-11-01 & NA         & INTC       & 458140     & 2463247   \\\\\n",
       "\t 006066     & 01         & 000005     & 1932-05-26 & NA         & IBM        & 459200     & 2005973   \\\\\n",
       "\t 006104     & 01         & 000005     & 1956-07-03 & 2004-04-07 & IP         & 460146     & 2465254   \\\\\n",
       "\t 006266     & 01         & 000005     & 1997-03-17 & NA         & JNJ        & 478160     & 2475833   \\\\\n",
       "\t 007154     & 01         & 000005     & 1985-10-30 & NA         & MCD        & 580135     & 2550707   \\\\\n",
       "\t 007257     & 01         & 000005     & 1979-06-29 & NA         & MRK        & 58933Y     & 2778844   \\\\\n",
       "\t 007435     & 01         & 000005     & 1976-08-09 & NA         & MMM        & 88579Y     & 2595708   \\\\\n",
       "\t 007562     & 01         & 000005     & 1991-05-06 & 2001-01-01 & JPM.Z      & 616880     & NA        \\\\\n",
       "\t 007647     & 01         & 000005     & 2008-02-19 & 2013-09-22 & BAC        & 060505     & 2295677   \\\\\n",
       "\t 007906     & 01         & 000005     & 2013-09-23 & NA         & NKE        & 654106     & 2640147   \\\\\n",
       "\t 008530     & 01         & 000005     & 2004-04-08 & NA         & PFE        & 717081     & 2684703   \\\\\n",
       "\t 008543     & 01         & 000005     & 1985-10-30 & 2008-02-18 & MO         & 02209S     & 2692632   \\\\\n",
       "\t 008762     & 01         & 000005     & 1932-05-26 & NA         & PG         & 742718     & 2704407   \\\\\n",
       "\t 009563     & 01         & 000005     & 1924-01-22 & 1999-10-31 & S.1        & 812387     & 2787312   \\\\\n",
       "\t 009899     & 01         & 000005     & 1999-11-01 & 2015-03-18 & T          & 00206R     & 2831811   \\\\\n",
       "\t 010857     & 01         & 000005     & 1928-10-01 & 1999-10-31 & UK.1       & 905581     & NA        \\\\\n",
       "\t 010903     & 01         & 000005     & 2012-09-24 & NA         & UNH        & 91324P     & 2917766   \\\\\n",
       "\t 010983     & 01         & 000005     & 1975-05-01 & NA         & UTX        & 913017     & 2915500   \\\\\n",
       "\t 011259     & 01         & 000005     & 1997-03-17 & NA         & WMT        & 931142     & 2936921   \\\\\n",
       "\t 011264     & 01         & 000005     & 2018-06-26 & NA         & WBA        & 931427     & BTN1Y44   \\\\\n",
       "\t 012141     & 01         & 000005     & 1999-11-01 & NA         & MSFT       & 594918     & 2588173   \\\\\n",
       "\t 020779     & 01         & 000005     & 2009-06-08 & NA         & CSCO       & 17275R     & 2198163   \\\\\n",
       "\t 062689     & 05         & 000005     & 2009-06-08 & NA         & TRV        & 89417E     & 2769503   \\\\\n",
       "\t 114628     & 01         & 000005     & 2013-09-23 & NA         & GS         & 38141G     & 2407966   \\\\\n",
       "\t 142953     & 01         & 000005     & 2008-09-22 & 2012-09-23 & MDLZ       & 609207     & B8CKK03   \\\\\n",
       "\t 179534     & 01         & 000005     & 2013-09-23 & NA         & V          & 92826C     & B2PZN04   \\\\\n",
       "\\end{tabular}\n"
      ],
      "text/markdown": [
       "\n",
       "| gvkey | iid | gvkeyx | from | thru | tic | cusip | sedol |\n",
       "|---|---|---|---|---|---|---|---|\n",
       "| 001300     | 01         | 000005     | 1925-12-07 | 2008-02-18 | HON        | 438516     | 2020459    |\n",
       "| 001356     | 01         | 000005     | 1959-06-01 | 2013-09-22 | AA.3       | 013817     | BYVZDB3    |\n",
       "| 001447     | 01         | 000005     | 1982-08-30 | NA         | AXP        | 025816     | 2026082    |\n",
       "| 001487     | 01         | 000005     | 2004-04-08 | 2008-09-21 | AIG        | 026874     | 2027342    |\n",
       "| 001581     | 01         | 000005     | 1939-03-14 | 2004-04-07 | T.2        | 001957     | 2064888    |\n",
       "| 001690     | 01         | 000005     | 2015-03-19 | NA         | AAPL       | 037833     | 2046251    |\n",
       "| 002136     | 01         | 000005     | 2004-04-08 | NA         | VZ         | 92343V     | 2090571    |\n",
       "| 002285     | 01         | 000005     | 1987-03-12 | NA         | BA         | 097023     | 2108601    |\n",
       "| 002817     | 01         | 000005     | 1991-05-06 | NA         | CAT        | 149123     | 2180201    |\n",
       "| 002968     | 01         | 000005     | 2001-01-02 | NA         | JPM        | 46625H     | 2190385    |\n",
       "| 002991     | 01         | 000005     | 1984-07-10 | 1999-10-31 | CVX        | 166764     | 2838555    |\n",
       "| 002991     | 01         | 000005     | 2008-02-19 | NA         | CVX        | 166764     | 2838555    |\n",
       "| 003144     | 01         | 000005     | 1932-05-26 | NA         | KO         | 191216     | 2206657    |\n",
       "| 003243     | 01         | 000005     | 1997-03-17 | 2009-06-07 | C          | 172967     | 2297907    |\n",
       "| 003980     | 01         | 000005     | 1991-05-06 | NA         | DIS        | 254687     | 2270726    |\n",
       "| 004060     | 01         | 000005     | 2017-09-01 | 2019-04-01 | DWDP       | 26078J     | BYP66M4    |\n",
       "| 004087     | 01         | 000005     | 1935-11-20 | 2017-08-31 | DD         | 263534     | 2018175    |\n",
       "| 004194     | 01         | 000005     | 1930-07-18 | 2004-04-07 | EKDKQ      | 277461     | 2300601    |\n",
       "| 004503     | 01         | 000005     | 1928-10-01 | NA         | XOM        | 30231G     | 2326618    |\n",
       "| 005047     | 01         | 000005     | 1907-11-07 | 2018-06-25 | GE         | 369604     | 2380498    |\n",
       "| 005073     | 01         | 000005     | 1915-03-16 | 2009-06-07 | MTLQQ      | 62010A     | 2365804    |\n",
       "| 005234     | 01         | 000005     | 1930-07-18 | 1999-10-31 | GT         | 382550     | 2378200    |\n",
       "| 005606     | 01         | 000005     | 1997-03-17 | 2013-09-22 | HPQ        | 40434L     | BYX4D52    |\n",
       "| 005680     | 01         | 000005     | 1999-11-01 | NA         | HD         | 437076     | 2434209    |\n",
       "| 006008     | 01         | 000005     | 1999-11-01 | NA         | INTC       | 458140     | 2463247    |\n",
       "| 006066     | 01         | 000005     | 1932-05-26 | NA         | IBM        | 459200     | 2005973    |\n",
       "| 006104     | 01         | 000005     | 1956-07-03 | 2004-04-07 | IP         | 460146     | 2465254    |\n",
       "| 006266     | 01         | 000005     | 1997-03-17 | NA         | JNJ        | 478160     | 2475833    |\n",
       "| 007154     | 01         | 000005     | 1985-10-30 | NA         | MCD        | 580135     | 2550707    |\n",
       "| 007257     | 01         | 000005     | 1979-06-29 | NA         | MRK        | 58933Y     | 2778844    |\n",
       "| 007435     | 01         | 000005     | 1976-08-09 | NA         | MMM        | 88579Y     | 2595708    |\n",
       "| 007562     | 01         | 000005     | 1991-05-06 | 2001-01-01 | JPM.Z      | 616880     | NA         |\n",
       "| 007647     | 01         | 000005     | 2008-02-19 | 2013-09-22 | BAC        | 060505     | 2295677    |\n",
       "| 007906     | 01         | 000005     | 2013-09-23 | NA         | NKE        | 654106     | 2640147    |\n",
       "| 008530     | 01         | 000005     | 2004-04-08 | NA         | PFE        | 717081     | 2684703    |\n",
       "| 008543     | 01         | 000005     | 1985-10-30 | 2008-02-18 | MO         | 02209S     | 2692632    |\n",
       "| 008762     | 01         | 000005     | 1932-05-26 | NA         | PG         | 742718     | 2704407    |\n",
       "| 009563     | 01         | 000005     | 1924-01-22 | 1999-10-31 | S.1        | 812387     | 2787312    |\n",
       "| 009899     | 01         | 000005     | 1999-11-01 | 2015-03-18 | T          | 00206R     | 2831811    |\n",
       "| 010857     | 01         | 000005     | 1928-10-01 | 1999-10-31 | UK.1       | 905581     | NA         |\n",
       "| 010903     | 01         | 000005     | 2012-09-24 | NA         | UNH        | 91324P     | 2917766    |\n",
       "| 010983     | 01         | 000005     | 1975-05-01 | NA         | UTX        | 913017     | 2915500    |\n",
       "| 011259     | 01         | 000005     | 1997-03-17 | NA         | WMT        | 931142     | 2936921    |\n",
       "| 011264     | 01         | 000005     | 2018-06-26 | NA         | WBA        | 931427     | BTN1Y44    |\n",
       "| 012141     | 01         | 000005     | 1999-11-01 | NA         | MSFT       | 594918     | 2588173    |\n",
       "| 020779     | 01         | 000005     | 2009-06-08 | NA         | CSCO       | 17275R     | 2198163    |\n",
       "| 062689     | 05         | 000005     | 2009-06-08 | NA         | TRV        | 89417E     | 2769503    |\n",
       "| 114628     | 01         | 000005     | 2013-09-23 | NA         | GS         | 38141G     | 2407966    |\n",
       "| 142953     | 01         | 000005     | 2008-09-22 | 2012-09-23 | MDLZ       | 609207     | B8CKK03    |\n",
       "| 179534     | 01         | 000005     | 2013-09-23 | NA         | V          | 92826C     | B2PZN04    |\n",
       "\n"
      ],
      "text/plain": [
       "   gvkey  iid gvkeyx from       thru       tic   cusip  sedol  \n",
       "1  001300 01  000005 1925-12-07 2008-02-18 HON   438516 2020459\n",
       "2  001356 01  000005 1959-06-01 2013-09-22 AA.3  013817 BYVZDB3\n",
       "3  001447 01  000005 1982-08-30 <NA>       AXP   025816 2026082\n",
       "4  001487 01  000005 2004-04-08 2008-09-21 AIG   026874 2027342\n",
       "5  001581 01  000005 1939-03-14 2004-04-07 T.2   001957 2064888\n",
       "6  001690 01  000005 2015-03-19 <NA>       AAPL  037833 2046251\n",
       "7  002136 01  000005 2004-04-08 <NA>       VZ    92343V 2090571\n",
       "8  002285 01  000005 1987-03-12 <NA>       BA    097023 2108601\n",
       "9  002817 01  000005 1991-05-06 <NA>       CAT   149123 2180201\n",
       "10 002968 01  000005 2001-01-02 <NA>       JPM   46625H 2190385\n",
       "11 002991 01  000005 1984-07-10 1999-10-31 CVX   166764 2838555\n",
       "12 002991 01  000005 2008-02-19 <NA>       CVX   166764 2838555\n",
       "13 003144 01  000005 1932-05-26 <NA>       KO    191216 2206657\n",
       "14 003243 01  000005 1997-03-17 2009-06-07 C     172967 2297907\n",
       "15 003980 01  000005 1991-05-06 <NA>       DIS   254687 2270726\n",
       "16 004060 01  000005 2017-09-01 2019-04-01 DWDP  26078J BYP66M4\n",
       "17 004087 01  000005 1935-11-20 2017-08-31 DD    263534 2018175\n",
       "18 004194 01  000005 1930-07-18 2004-04-07 EKDKQ 277461 2300601\n",
       "19 004503 01  000005 1928-10-01 <NA>       XOM   30231G 2326618\n",
       "20 005047 01  000005 1907-11-07 2018-06-25 GE    369604 2380498\n",
       "21 005073 01  000005 1915-03-16 2009-06-07 MTLQQ 62010A 2365804\n",
       "22 005234 01  000005 1930-07-18 1999-10-31 GT    382550 2378200\n",
       "23 005606 01  000005 1997-03-17 2013-09-22 HPQ   40434L BYX4D52\n",
       "24 005680 01  000005 1999-11-01 <NA>       HD    437076 2434209\n",
       "25 006008 01  000005 1999-11-01 <NA>       INTC  458140 2463247\n",
       "26 006066 01  000005 1932-05-26 <NA>       IBM   459200 2005973\n",
       "27 006104 01  000005 1956-07-03 2004-04-07 IP    460146 2465254\n",
       "28 006266 01  000005 1997-03-17 <NA>       JNJ   478160 2475833\n",
       "29 007154 01  000005 1985-10-30 <NA>       MCD   580135 2550707\n",
       "30 007257 01  000005 1979-06-29 <NA>       MRK   58933Y 2778844\n",
       "31 007435 01  000005 1976-08-09 <NA>       MMM   88579Y 2595708\n",
       "32 007562 01  000005 1991-05-06 2001-01-01 JPM.Z 616880 NA     \n",
       "33 007647 01  000005 2008-02-19 2013-09-22 BAC   060505 2295677\n",
       "34 007906 01  000005 2013-09-23 <NA>       NKE   654106 2640147\n",
       "35 008530 01  000005 2004-04-08 <NA>       PFE   717081 2684703\n",
       "36 008543 01  000005 1985-10-30 2008-02-18 MO    02209S 2692632\n",
       "37 008762 01  000005 1932-05-26 <NA>       PG    742718 2704407\n",
       "38 009563 01  000005 1924-01-22 1999-10-31 S.1   812387 2787312\n",
       "39 009899 01  000005 1999-11-01 2015-03-18 T     00206R 2831811\n",
       "40 010857 01  000005 1928-10-01 1999-10-31 UK.1  905581 NA     \n",
       "41 010903 01  000005 2012-09-24 <NA>       UNH   91324P 2917766\n",
       "42 010983 01  000005 1975-05-01 <NA>       UTX   913017 2915500\n",
       "43 011259 01  000005 1997-03-17 <NA>       WMT   931142 2936921\n",
       "44 011264 01  000005 2018-06-26 <NA>       WBA   931427 BTN1Y44\n",
       "45 012141 01  000005 1999-11-01 <NA>       MSFT  594918 2588173\n",
       "46 020779 01  000005 2009-06-08 <NA>       CSCO  17275R 2198163\n",
       "47 062689 05  000005 2009-06-08 <NA>       TRV   89417E 2769503\n",
       "48 114628 01  000005 2013-09-23 <NA>       GS    38141G 2407966\n",
       "49 142953 01  000005 2008-09-22 2012-09-23 MDLZ  609207 B8CKK03\n",
       "50 179534 01  000005 2013-09-23 <NA>       V     92826C B2PZN04"
      ]
     },
     "metadata": {},
     "output_type": "display_data"
    },
    {
     "name": "stdout",
     "output_type": "stream",
     "text": [
      "-dji_cst- saved  (0.01 secs)\n"
     ]
    }
   ],
   "source": [
    "# DJI\n",
    "dji_cst = unique(comp_idx_cst[gvkeyx=='000005'\n",
    "    ][comp_security[, .(gvkey, iid, tic, cusip=str_sub(cusip, 1, 6), sedol)], \n",
    "      on=.(gvkey, iid), nomatch=0])\n",
    "dji_cst\n",
    "sv(dji_cst)"
   ]
  },
  {
   "cell_type": "markdown",
   "metadata": {
    "toc-hr-collapsed": false
   },
   "source": [
    "# Y"
   ]
  },
  {
   "cell_type": "markdown",
   "metadata": {},
   "source": [
    "## `SUE`"
   ]
  },
  {
   "cell_type": "markdown",
   "metadata": {},
   "source": [
    "Variable Description\n",
    "- `datadate`(COMP): End Date of Earnings Report(earlier than `rdq` and `repdats`)\n",
    "- `fyearq`(COMP): fiscal year\n",
    "- `fyr`(COMP): fiscal year - end month\n",
    "- `fqtr`(COMP): fiscal quarter\n",
    "- `repdats`(IBES): Report Date of Quarterly Earnigns\n",
    "- `rdq`(COMP): Report Date of Quarterly Earnings\n",
    "- `leadrdq`(COMP): Report Date of NEXT Quarter's Earnings\n",
    "\n",
    "- `numest`: Number of Forecasts\n",
    "- `medest`: Median Forecast (based on estimates in the 90 days prior to the EAD)\n",
    "- `basis`: Whether most analysts report estimates on primary(P) / diluted(D)\n",
    "- `act`(IBES): actual earnings\n",
    "- `se`(COMP): Standard Earnings (=act/price_close)\n",
    "- `sest`: Standard Estimates (= se-sue = est/price_close)\n",
    "- `sue1`: SUE based on a rolling seasonal random walk model (LM,p. 185)\n",
    "- `sue2`: SUE accounting for  exclusion of special items\n",
    "- `sue3`: SUE based on IBES reported analyst forecasts and actuals  \n",
    "\n",
    "- `mcap`: Market Cap"
   ]
  },
  {
   "cell_type": "code",
   "execution_count": 59,
   "metadata": {
    "scrolled": true
   },
   "outputs": [
    {
     "data": {
      "text/html": [
       "<table>\n",
       "<caption>A data.table: 1 × 22</caption>\n",
       "<thead>\n",
       "\t<tr><th scope=col>gvkey</th><th scope=col>ticker</th><th scope=col>permno</th><th scope=col>conm</th><th scope=col>fyearq</th><th scope=col>fqtr</th><th scope=col>datadate</th><th scope=col>fyr</th><th scope=col>rdq</th><th scope=col>rdq1</th><th scope=col>leadrdq1</th><th scope=col>repdats</th><th scope=col>mcap</th><th scope=col>medest</th><th scope=col>act</th><th scope=col>numest</th><th scope=col>basis</th><th scope=col>sue1</th><th scope=col>sue2</th><th scope=col>sue3</th><th scope=col>se</th><th scope=col>sest</th></tr>\n",
       "\t<tr><th scope=col>&lt;chr&gt;</th><th scope=col>&lt;chr&gt;</th><th scope=col>&lt;chr&gt;</th><th scope=col>&lt;chr&gt;</th><th scope=col>&lt;dbl&gt;</th><th scope=col>&lt;dbl&gt;</th><th scope=col>&lt;date&gt;</th><th scope=col>&lt;dbl&gt;</th><th scope=col>&lt;date&gt;</th><th scope=col>&lt;date&gt;</th><th scope=col>&lt;date&gt;</th><th scope=col>&lt;date&gt;</th><th scope=col>&lt;dbl&gt;</th><th scope=col>&lt;dbl&gt;</th><th scope=col>&lt;dbl&gt;</th><th scope=col>&lt;dbl&gt;</th><th scope=col>&lt;chr&gt;</th><th scope=col>&lt;dbl&gt;</th><th scope=col>&lt;dbl&gt;</th><th scope=col>&lt;dbl&gt;</th><th scope=col>&lt;dbl&gt;</th><th scope=col>&lt;dbl&gt;</th></tr>\n",
       "</thead>\n",
       "<tbody>\n",
       "\t<tr><td>001013</td><td>ADCT</td><td>50906</td><td>ADC TELECOMMUNICATIONS INC</td><td>2010</td><td>4</td><td>2010-09-30</td><td>9</td><td>2010-11-23</td><td>2010-11-23</td><td>2011-02-23</td><td>2010-11-23</td><td>1231.524</td><td>0.16</td><td>0.15</td><td>1</td><td>D</td><td>NA</td><td>NA</td><td>-0.000789266</td><td>0.01183899</td><td>0.01262826</td></tr>\n",
       "</tbody>\n",
       "</table>\n"
      ],
      "text/latex": [
       "A data.table: 1 × 22\n",
       "\\begin{tabular}{llllllllllllllllllllll}\n",
       " gvkey & ticker & permno & conm & fyearq & fqtr & datadate & fyr & rdq & rdq1 & leadrdq1 & repdats & mcap & medest & act & numest & basis & sue1 & sue2 & sue3 & se & sest\\\\\n",
       " <chr> & <chr> & <chr> & <chr> & <dbl> & <dbl> & <date> & <dbl> & <date> & <date> & <date> & <date> & <dbl> & <dbl> & <dbl> & <dbl> & <chr> & <dbl> & <dbl> & <dbl> & <dbl> & <dbl>\\\\\n",
       "\\hline\n",
       "\t 001013 & ADCT & 50906 & ADC TELECOMMUNICATIONS INC & 2010 & 4 & 2010-09-30 & 9 & 2010-11-23 & 2010-11-23 & 2011-02-23 & 2010-11-23 & 1231.524 & 0.16 & 0.15 & 1 & D & NA & NA & -0.000789266 & 0.01183899 & 0.01262826\\\\\n",
       "\\end{tabular}\n"
      ],
      "text/markdown": [
       "\n",
       "A data.table: 1 × 22\n",
       "\n",
       "| gvkey &lt;chr&gt; | ticker &lt;chr&gt; | permno &lt;chr&gt; | conm &lt;chr&gt; | fyearq &lt;dbl&gt; | fqtr &lt;dbl&gt; | datadate &lt;date&gt; | fyr &lt;dbl&gt; | rdq &lt;date&gt; | rdq1 &lt;date&gt; | leadrdq1 &lt;date&gt; | repdats &lt;date&gt; | mcap &lt;dbl&gt; | medest &lt;dbl&gt; | act &lt;dbl&gt; | numest &lt;dbl&gt; | basis &lt;chr&gt; | sue1 &lt;dbl&gt; | sue2 &lt;dbl&gt; | sue3 &lt;dbl&gt; | se &lt;dbl&gt; | sest &lt;dbl&gt; |\n",
       "|---|---|---|---|---|---|---|---|---|---|---|---|---|---|---|---|---|---|---|---|---|---|\n",
       "| 001013 | ADCT | 50906 | ADC TELECOMMUNICATIONS INC | 2010 | 4 | 2010-09-30 | 9 | 2010-11-23 | 2010-11-23 | 2011-02-23 | 2010-11-23 | 1231.524 | 0.16 | 0.15 | 1 | D | NA | NA | -0.000789266 | 0.01183899 | 0.01262826 |\n",
       "\n"
      ],
      "text/plain": [
       "  gvkey  ticker permno conm                       fyearq fqtr datadate   fyr\n",
       "1 001013 ADCT   50906  ADC TELECOMMUNICATIONS INC 2010   4    2010-09-30 9  \n",
       "  rdq        rdq1       leadrdq1   repdats    mcap     medest act  numest basis\n",
       "1 2010-11-23 2010-11-23 2011-02-23 2010-11-23 1231.524 0.16   0.15 1      D    \n",
       "  sue1 sue2 sue3         se         sest      \n",
       "1 NA   NA   -0.000789266 0.01183899 0.01262826"
      ]
     },
     "metadata": {},
     "output_type": "display_data"
    },
    {
     "name": "stdout",
     "output_type": "stream",
     "text": [
      "-sue- saved  (0.25 secs)\n"
     ]
    }
   ],
   "source": [
    "sue = fread('data/sue_final.csv', colClasses=c('gvkey'='character'))\n",
    "sue[, ':='(permno=as.character(permno),\n",
    "           datadate=ymd(datadate),\n",
    "           rdq=ymd(rdq),\n",
    "           rdq1=ymd(rdq1),\n",
    "           leadrdq1=ymd(leadrdq1),\n",
    "           repdats=ymd(repdats),\n",
    "           sest=se-sue3)]\n",
    "sue[1]\n",
    "sv(sue)"
   ]
  },
  {
   "cell_type": "markdown",
   "metadata": {
    "toc-hr-collapsed": false
   },
   "source": [
    "# X"
   ]
  },
  {
   "cell_type": "markdown",
   "metadata": {},
   "source": [
    "## Find SP 500"
   ]
  },
  {
   "cell_type": "code",
   "execution_count": 46,
   "metadata": {
    "scrolled": true
   },
   "outputs": [
    {
     "name": "stdout",
     "output_type": "stream",
     "text": [
      "-comp_idx_cst- already exists, will NOT load again!  (0 secs)\n",
      "-sp500_cst- saved  (0.01 secs)\n"
     ]
    }
   ],
   "source": [
    "# thru is missing means it's still effective\n",
    "# fill the missing with today()\n",
    "ld(comp_idx_cst, path=WRDS_DOWNLOAD_DIR)\n",
    "\n",
    "sp500_cst = comp_idx_cst[gvkeyx=='000003'\n",
    "    ][is.na(from), ':='(from=as.Date('1900-01-01'))\n",
    "    ][is.na(thru), ':='(thru=today())\n",
    "    ][order(gvkey, iid)\n",
    "    ][, .SD[1], keyby=.(gvkey)\n",
    "    ][, .(gvkey, from, thru)] %>% unique()\n",
    "\n",
    "sv(sp500_cst)"
   ]
  },
  {
   "cell_type": "code",
   "execution_count": 48,
   "metadata": {},
   "outputs": [
    {
     "data": {
      "text/html": [
       "1684"
      ],
      "text/latex": [
       "1684"
      ],
      "text/markdown": [
       "1684"
      ],
      "text/plain": [
       "[1] 1684"
      ]
     },
     "metadata": {},
     "output_type": "display_data"
    },
    {
     "data": {
      "text/html": [
       "<table>\n",
       "<caption>A data.table: 1 × 3</caption>\n",
       "<thead>\n",
       "\t<tr><th scope=col>gvkey</th><th scope=col>from</th><th scope=col>thru</th></tr>\n",
       "\t<tr><th scope=col>&lt;chr&gt;</th><th scope=col>&lt;date&gt;</th><th scope=col>&lt;date&gt;</th></tr>\n",
       "</thead>\n",
       "<tbody>\n",
       "\t<tr><td>001010</td><td>1964-03-31</td><td>1984-06-30</td></tr>\n",
       "</tbody>\n",
       "</table>\n"
      ],
      "text/latex": [
       "A data.table: 1 × 3\n",
       "\\begin{tabular}{lll}\n",
       " gvkey & from & thru\\\\\n",
       " <chr> & <date> & <date>\\\\\n",
       "\\hline\n",
       "\t 001010 & 1964-03-31 & 1984-06-30\\\\\n",
       "\\end{tabular}\n"
      ],
      "text/markdown": [
       "\n",
       "A data.table: 1 × 3\n",
       "\n",
       "| gvkey &lt;chr&gt; | from &lt;date&gt; | thru &lt;date&gt; |\n",
       "|---|---|---|\n",
       "| 001010 | 1964-03-31 | 1984-06-30 |\n",
       "\n"
      ],
      "text/plain": [
       "  gvkey  from       thru      \n",
       "1 001010 1964-03-31 1984-06-30"
      ]
     },
     "metadata": {},
     "output_type": "display_data"
    }
   ],
   "source": [
    "sp500_cst[, uniqueN(gvkey)]\n",
    "sp500_cst[1]"
   ]
  },
  {
   "cell_type": "markdown",
   "metadata": {},
   "source": [
    "## CAR"
   ]
  },
  {
   "cell_type": "markdown",
   "metadata": {},
   "source": [
    "Compute the CAR based on the following two event types: (1) earnings announcment; (2) earnings call. Do as follows:\n",
    "\n",
    "1. Create a dataset where the first col is `permno` and the second is `event_date`.\n",
    "2. Feed the dataset to WRDS's online event service\n",
    "3. Get results"
   ]
  },
  {
   "cell_type": "markdown",
   "metadata": {},
   "source": [
    "Before generating the event samples, we need to first add `permno` to `ciq_wrds_keydev`. We'll use `ccm` to link these two variables.\n",
    "\n",
    "In the next cell, I:\n",
    "- only select \"primary\" links (LC,LU,LS) which are considered to be robust\n",
    "- fill missing `linkdt` and `linkenddt`\n",
    "- for very `gvkey`, only select its **first** issue.\n",
    "- link to `ciq_wrds_keydev`\n",
    "- only select events that: \n",
    "    - later than 2000-01-01\n",
    "    - S&P 500 companies"
   ]
  },
  {
   "cell_type": "code",
   "execution_count": 3,
   "metadata": {},
   "outputs": [
    {
     "name": "stdout",
     "output_type": "stream",
     "text": [
      "-ciq_wrds_keydev- loaded  (4.41 secs)\n",
      "-ccm- loaded  (0.1 secs)\n",
      "-sp500_cst- loaded  (0 secs)\n"
     ]
    }
   ],
   "source": [
    "ld(ciq_wrds_keydev, path=WRDS_DOWNLOAD_DIR)\n",
    "ld(ccm, path=WRDS_DOWNLOAD_DIR)\n",
    "ld(sp500_cst)"
   ]
  },
  {
   "cell_type": "code",
   "execution_count": 4,
   "metadata": {},
   "outputs": [],
   "source": [
    "gvkey_permno_link = ccm[linktype %in% c('LC', 'LU', 'LS')\n",
    "    ][is.na(linkenddt) | linkenddt>=as.Date('2000-01-01'), \n",
    "     .(gvkey, lpermno, liid, linkdt, linkenddt)\n",
    "    ][is.na(linkenddt), ':='(linkenddt=as.Date('2020-12-31'))\n",
    "    ][is.na(linkdt), ':='(linkdt=as.Date('1990-01-01'))\n",
    "    ][order(gvkey, liid)\n",
    "    ][, .SD[1], keyby=.(gvkey)\n",
    "    ][order(gvkey, linkdt)\n",
    "    ][, ':='(liid=NULL)] %>% \n",
    "    na.omit(cols=c('gvkey', 'lpermno')) %>% \n",
    "    unique(by=c('gvkey', 'lpermno'))\n",
    "\n",
    "event_samples = ciq_wrds_keydev[gvkey_permno_link, on=.(gvkey), nomatch=0\n",
    "    ][as.Date(mostimportantdateutc)>linkdt & as.Date(mostimportantdateutc)<linkenddt\n",
    "    ][as.Date(mostimportantdateutc) >= as.Date('2000-01-01')\n",
    "    ][gvkey %in% sp500_cst[, unique(gvkey)]\n",
    "    ][, ':='(linkdt=NULL, linkenddt=NULL)]"
   ]
  },
  {
   "cell_type": "markdown",
   "metadata": {},
   "source": [
    "Then we generate two event samples:\n",
    "- `event_samples_earnings_call`: the earnings CALL (type 48)\n",
    "- `event_samples_earnings_announce`: the earnings announcement (type28)"
   ]
  },
  {
   "cell_type": "code",
   "execution_count": 5,
   "metadata": {},
   "outputs": [],
   "source": [
    "event_samples_test = event_samples[keydeveventtypeid==48,\n",
    "     .(permno=lpermno, edate=format(mostimportantdateutc, '%m/%d/%Y'))\n",
    "    ][order(permno, edate)\n",
    "    ][1:1000] %>% unique()\n",
    "\n",
    "toJSON(event_samples_test, pretty=T) %>% write('data/car/event_samples_test.json')\n",
    "\n",
    "event_samples_earnings_call = event_samples[keydeveventtypeid==48,\n",
    "     .(permno=lpermno, edate=format(mostimportantdateutc, '%m/%d/%Y'))\n",
    "    ][order(permno, edate)] %>% unique()\n",
    "\n",
    "toJSON(event_samples_earnings_call, pretty=T) %>% write('data/car/event_samples_earnings_call.json')\n",
    "\n",
    "event_samples_earnings_announce = event_samples[keydeveventtypeid==28,\n",
    "     .(permno=lpermno, edate=format(mostimportantdateutc, '%m/%d/%Y'))\n",
    "    ][order(permno, edate)] %>% unique()\n",
    "\n",
    "toJSON(event_samples_earnings_announce, pretty=T) %>% write('data/car/event_samples_earnings_announce.json')"
   ]
  },
  {
   "cell_type": "markdown",
   "metadata": {},
   "source": [
    "## `cc_transcript`"
   ]
  },
  {
   "cell_type": "code",
   "execution_count": 8,
   "metadata": {
    "scrolled": true
   },
   "outputs": [
    {
     "name": "stdout",
     "output_type": "stream",
     "text": [
      "N of all transcripts: 0 \n",
      "N of Earnings Call: 0 \n"
     ]
    }
   ],
   "source": [
    "cc_paths = list.files(\n",
    "    'C:/Users/rossz/OneDrive/CC/data/ciq-dji',\n",
    "    recursive=T,\n",
    "    pattern='.pdf$',\n",
    "    full=T)\n",
    "cat('N of all transcripts:', length(cc_paths), '\\n')\n",
    "\n",
    "cc_paths = cc_paths[str_detect(cc_paths, regex('Earnings? Call', ignore=T))]\n",
    "cat('N of Earnings Call:', length(cc_paths), '\\n')"
   ]
  },
  {
   "cell_type": "code",
   "execution_count": 3,
   "metadata": {
    "scrolled": true
   },
   "outputs": [
    {
     "name": "stdout",
     "output_type": "stream",
     "text": [
      "-cc_transcripts- saved  (8.16 secs)\n"
     ]
    }
   ],
   "source": [
    "parse_one_page <- function(cc_path) {\n",
    "    obs = list()\n",
    "    \n",
    "    cc = pdf_text(cc_path)\n",
    "    n_page = length(cc)\n",
    "    \n",
    "    # cc_filename\n",
    "    cc_filename = str_match(\n",
    "        cc_path,\n",
    "        regex('/([^/]+?)\\\\.pdf', ignore=T))[,2]\n",
    "    \n",
    "    # remove header\n",
    "    header = str_extract(cc[n_page], '^.+(\\\\r\\\\n)*20\\\\d{2}\\\\r\\\\n')\n",
    "    cc = str_replace_all(cc, fixed(header), '')\n",
    "    \n",
    "    # remove footer\n",
    "    cc = str_replace_all(cc, '\\\\r\\\\n.+\\\\r\\\\n.+\\\\r\\\\n$', '')\n",
    "    \n",
    "    # determin which page is TOC\n",
    "    toc_pagenum = str_which(cc, regex('contents[\\\\s\\\\S]+table of contents', ignore=T))\n",
    "    if (length(toc_pagenum) > 1) {\n",
    "        stop('len(toc_pagenum) > 1 !!')\n",
    "    }\n",
    "    \n",
    "    # extract pagenum\n",
    "    toc_page = cc[toc_pagenum]\n",
    "    toc_participants = str_match(\n",
    "        toc_page, \n",
    "        regex('contents[\\\\s\\\\S]+table of contents[\\\\s.]+(call participants.+)?', ignore=T))[,2]\n",
    "    participants_pagenum = as.integer(str_match(toc_participants, '[\\\\. ]+(\\\\d+)')[,2])\n",
    "    \n",
    "    toc_md = str_match(\n",
    "        toc_page,\n",
    "        regex('contents[\\\\s\\\\S]+table of contents[\\\\s\\\\S]+(presentation.+)', ignore=T))[,2]\n",
    "    md_pagenum = as.integer(str_match(toc_md, '[\\\\. ]+(\\\\d+)')[,2])\n",
    "    \n",
    "    toc_qa = str_match(\n",
    "        toc_page,\n",
    "        regex('contents[\\\\s\\\\S]+table of contents[\\\\s\\\\S]+(question and answer.+)', ignore=T))[,2]\n",
    "    qa_pagenum = as.integer(str_match(toc_qa, '[\\\\. ]+(\\\\d+)')[,2])\n",
    "    \n",
    "    # extract {md, qa}\n",
    "    if (!is.na(qa_pagenum)) {\n",
    "        md = str_c(cc[md_pagenum:(qa_pagenum-1)], collapse=' ') %>% str_replace_all('\\\\r\\\\n', ' ')\n",
    "        qa = str_c(cc[qa_pagenum:(n_page-1)], collapse='') %>% str_replace_all('\\\\r\\\\n', ' ')\n",
    "\n",
    "        # test if `md` and `qa` parsed successfully\n",
    "        # if failed, parse again\n",
    "        if ((str_sub(md, 1, 12) != 'Presentation') | (str_sub(qa, 1, 19) != 'Question and Answer')) {\n",
    "            md_pagenum = str_which(cc, '^Presentation')\n",
    "            qa_pagenum = str_which(cc, '^Question and Answer')\n",
    "            \n",
    "            md = str_c(cc[md_pagenum:(qa_pagenum-1)], collapse='') %>% str_replace_all('\\\\r\\\\n', ' ')\n",
    "            qa = str_c(cc[qa_pagenum:(n_page-1)], collapse='') %>% str_replace_all('\\\\r\\\\n', ' ')\n",
    "            \n",
    "            if ((str_sub(md, 1, 12) != 'Presentation') | (str_sub(qa, 1, 19) != 'Question and Answer')) {\n",
    "                cat('MD/QA parsing error!:', cc_path, '\\n')\n",
    "                cat('\\t MD:', str_sub(md, 1, 13), '\\n')\n",
    "                cat('\\t QA:', str_sub(qa, 1, 20), '\\n')\n",
    "                # cat('\\t New MD:', str_sub(md, 1, 13), '\\n')\n",
    "                # cat('\\t New QA:', str_sub(qa, 1, 20), '\\n')\n",
    "            }\n",
    "\n",
    "        }\n",
    "        \n",
    "    } else {\n",
    "        md = str_c(cc[md_pagenum:(n_page-1)], collapse=' ') %>% str_replace_all('\\\\r\\\\n', ' ')\n",
    "        qa = NA\n",
    "        if (str_sub(md, 1, 12) != 'Presentation') {\n",
    "            md_pagenum = str_which(cc, '^Presentation')\n",
    "            md = str_c(cc[md_pagenum:(n_page-1)], collapse=' ') %>% str_replace_all('\\\\r\\\\n', ' ')\n",
    "            \n",
    "            if (str_sub(md, 1, 12) != 'Presentation') {\n",
    "                cat('MD parsing error!:', cc_path, '\\n')\n",
    "                cat('\\t MD:', str_sub(md, 1, 13), '\\n')\n",
    "                cat('\\t New MD:', str_sub(md, 1, 13), '\\n')\n",
    "            }\n",
    "        }\n",
    "    }\n",
    "\n",
    "    # get date\n",
    "    date=mdy(\n",
    "      str_match(cc_filename, regex('Call, (.+20\\\\d{2})', ignore=T))[,2])\n",
    "    \n",
    "    # prepare output\n",
    "    obs$cc_filename = cc_filename\n",
    "    obs$date = date\n",
    "    # obs$participants_pagenum = participants_pagenum\n",
    "    # obs$md_pagenum = md_pagenum\n",
    "    # obs$qa_pagenum = qa_pagenum\n",
    "    obs$md = md\n",
    "    obs$qa = qa\n",
    "    obs$cc_path = cc_path\n",
    "    obs\n",
    "    \n",
    "}\n",
    "\n",
    "# parse all pdf\n",
    "cc_transcripts = list()\n",
    "# for (i in sample(1:length(cc_paths), 10)) {\n",
    "for (i in 1:length(cc_paths)) {\n",
    "    cc_transcripts[[i]] = parse_one_page(cc_paths[i])\n",
    "}\n",
    "\n",
    "cc_transcripts = rbindlist(cc_transcripts)[date <= EDATE]\n",
    "\n",
    "sv(cc_transcripts)"
   ]
  },
  {
   "cell_type": "code",
   "execution_count": 4,
   "metadata": {
    "scrolled": true
   },
   "outputs": [
    {
     "data": {
      "text/html": [
       "<table>\n",
       "<thead><tr><th scope=col>cc_filename</th><th scope=col>date</th><th scope=col>md</th><th scope=col>qa</th><th scope=col>cc_path</th></tr></thead>\n",
       "<tbody>\n",
       "\t<tr><td>Honeywell International Inc., Q1 2008 Earnings Call, Apr-18-2008                                                       </td><td>2008-04-18                                                                                                             </td><td>Presentation Operato                                                                                                   </td><td>Question and Answer                                                                                                    </td><td>C:/Users/rossz/OneDrive/CC/data/ciq-dji/001300-hon/Honeywell International Inc., Q1 2008 Earnings Call, Apr-18-2008.pdf</td></tr>\n",
       "</tbody>\n",
       "</table>\n"
      ],
      "text/latex": [
       "\\begin{tabular}{r|lllll}\n",
       " cc\\_filename & date & md & qa & cc\\_path\\\\\n",
       "\\hline\n",
       "\t Honeywell International Inc., Q1 2008 Earnings Call, Apr-18-2008                                                        & 2008-04-18                                                                                                              & Presentation Operato                                                                                                    & Question and Answer                                                                                                     & C:/Users/rossz/OneDrive/CC/data/ciq-dji/001300-hon/Honeywell International Inc., Q1 2008 Earnings Call, Apr-18-2008.pdf\\\\\n",
       "\\end{tabular}\n"
      ],
      "text/markdown": [
       "\n",
       "| cc_filename | date | md | qa | cc_path |\n",
       "|---|---|---|---|---|\n",
       "| Honeywell International Inc., Q1 2008 Earnings Call, Apr-18-2008                                                        | 2008-04-18                                                                                                              | Presentation Operato                                                                                                    | Question and Answer                                                                                                     | C:/Users/rossz/OneDrive/CC/data/ciq-dji/001300-hon/Honeywell International Inc., Q1 2008 Earnings Call, Apr-18-2008.pdf |\n",
       "\n"
      ],
      "text/plain": [
       "  cc_filename                                                      date      \n",
       "1 Honeywell International Inc., Q1 2008 Earnings Call, Apr-18-2008 2008-04-18\n",
       "  md                   qa                  \n",
       "1 Presentation Operato Question and Answer \n",
       "  cc_path                                                                                                                \n",
       "1 C:/Users/rossz/OneDrive/CC/data/ciq-dji/001300-hon/Honeywell International Inc., Q1 2008 Earnings Call, Apr-18-2008.pdf"
      ]
     },
     "metadata": {},
     "output_type": "display_data"
    }
   ],
   "source": [
    "cc_transcripts[1][, ':='(md = str_sub(md, 1, 20), qa = str_sub(qa, 1, 20))][]"
   ]
  },
  {
   "cell_type": "markdown",
   "metadata": {},
   "source": [
    "## `cc_meta`"
   ]
  },
  {
   "cell_type": "code",
   "execution_count": 3,
   "metadata": {},
   "outputs": [
    {
     "name": "stdout",
     "output_type": "stream",
     "text": [
      "-ciq_wrds_keydev- loaded  (11.63 secs)\n",
      "-ciq_keydev- loaded  (53.35 secs)\n",
      "-comp_security- loaded  (0.4 secs)\n"
     ]
    },
    {
     "data": {
      "text/plain": [
       "   user  system elapsed \n",
       " 53.370   1.258  68.959 "
      ]
     },
     "metadata": {},
     "output_type": "display_data"
    }
   ],
   "source": [
    "system.time({\n",
    "ld(ciq_wrds_keydev, path=WRDS_DOWNLOAD_DIR)\n",
    "ld(ciq_keydev, path=WRDS_DOWNLOAD_DIR)\n",
    "ld(comp_security, path=WRDS_DOWNLOAD_DIR)\n",
    "\n",
    "ciq_wrds_keydev = ciq_wrds_keydev[as.Date(mostimportantdateutc)>=as.Date('2005-01-01')]\n",
    "ciq_keydev = ciq_keydev[as.Date(mostimportantdateutc)>=as.Date('2005-01-01')]\n",
    "})"
   ]
  },
  {
   "cell_type": "code",
   "execution_count": 1,
   "metadata": {},
   "outputs": [
    {
     "ename": "ERROR",
     "evalue": "Error in eval(expr, envir, enclos): object 'ciq_keydev' not found\n",
     "output_type": "error",
     "traceback": [
      "Error in eval(expr, envir, enclos): object 'ciq_keydev' not found\nTraceback:\n"
     ]
    }
   ],
   "source": [
    "# `announceddate` (ciq_keydev) and `announcedate` (ciq_wrds_keydev) are the same\n",
    "# same for `entereddate` and `enterdate`\n",
    "\n",
    "extract_headline_date <- function(headline) {\n",
    "    regex_date = regex('results.+?((January|February|March|April|May|June|July|August|September|October|November|December) ?\\\\d+,? ?20\\\\d{2}).*?;?', ignore=T)\n",
    "    date = str_match(headline, regex_date)[,2]\n",
    "    date = mdy(date)\n",
    "}\n",
    "\n",
    "cc_meta = ciq_keydev[ciq_wrds_keydev[keydeveventtypeid %in% c(48)],\n",
    "     on=.(keydevid), nomatch=0\n",
    "    ][, .(keydeveventtypeid,\n",
    "      headline, \n",
    "      headline_date=mdy(\n",
    "        str_match(headline, regex('Calls?, (.+?20\\\\d{2})', ignore=T))[,2]),\n",
    "      announcedate, \n",
    "      companyname, gvkey, keydevid,\n",
    "      mostimportantdateutc)\n",
    "    ][is.na(headline_date), ':='(headline_date=as.Date(with_tz(mostimportantdateutc, 'America/New_York')))\n",
    "    ][, ':='(headline_year=year(headline_date), headline_month=month(headline_date))]\n",
    "setkey(cc_meta, headline_year, headline_month)\n",
    "\n",
    "sv(cc_meta)\n",
    "nrow(cc_meta)"
   ]
  },
  {
   "cell_type": "code",
   "execution_count": 66,
   "metadata": {},
   "outputs": [
    {
     "data": {
      "text/html": [
       "<table>\n",
       "<thead><tr><th scope=col>keydeveventtypeid</th><th scope=col>headline</th><th scope=col>headline_date</th><th scope=col>announcedate</th><th scope=col>companyname</th><th scope=col>gvkey</th><th scope=col>keydevid</th><th scope=col>mostimportantdateutc</th><th scope=col>headline_year</th><th scope=col>headline_month</th></tr></thead>\n",
       "<tbody>\n",
       "\t<tr><td>48                                                </td><td>AT&amp;T Corp., Q4 2004 Earnings Call, Jan-20-2005</td><td>2005-01-20                                        </td><td>2005-01-06                                        </td><td>AT&amp;T Corp.                                    </td><td>001581                                            </td><td>1031931                                           </td><td>2005-01-20 13:15:00                               </td><td>2005                                              </td><td>1                                                 </td></tr>\n",
       "</tbody>\n",
       "</table>\n"
      ],
      "text/latex": [
       "\\begin{tabular}{r|llllllllll}\n",
       " keydeveventtypeid & headline & headline\\_date & announcedate & companyname & gvkey & keydevid & mostimportantdateutc & headline\\_year & headline\\_month\\\\\n",
       "\\hline\n",
       "\t 48                                               & AT\\&T Corp., Q4 2004 Earnings Call, Jan-20-2005 & 2005-01-20                                       & 2005-01-06                                       & AT\\&T Corp.                                     & 001581                                           & 1031931                                          & 2005-01-20 13:15:00                              & 2005                                             & 1                                               \\\\\n",
       "\\end{tabular}\n"
      ],
      "text/markdown": [
       "\n",
       "| keydeveventtypeid | headline | headline_date | announcedate | companyname | gvkey | keydevid | mostimportantdateutc | headline_year | headline_month |\n",
       "|---|---|---|---|---|---|---|---|---|---|\n",
       "| 48                                             | AT&T Corp., Q4 2004 Earnings Call, Jan-20-2005 | 2005-01-20                                     | 2005-01-06                                     | AT&T Corp.                                     | 001581                                         | 1031931                                        | 2005-01-20 13:15:00                            | 2005                                           | 1                                              |\n",
       "\n"
      ],
      "text/plain": [
       "  keydeveventtypeid headline                                      \n",
       "1 48                AT&T Corp., Q4 2004 Earnings Call, Jan-20-2005\n",
       "  headline_date announcedate companyname gvkey  keydevid mostimportantdateutc\n",
       "1 2005-01-20    2005-01-06   AT&T Corp.  001581 1031931  2005-01-20 13:15:00 \n",
       "  headline_year headline_month\n",
       "1 2005          1             "
      ]
     },
     "metadata": {},
     "output_type": "display_data"
    }
   ],
   "source": [
    "cc_meta[1]"
   ]
  },
  {
   "cell_type": "markdown",
   "metadata": {},
   "source": [
    "## `cc_transcripts` + `cc_meta`"
   ]
  },
  {
   "cell_type": "code",
   "execution_count": 2,
   "metadata": {},
   "outputs": [
    {
     "name": "stdout",
     "output_type": "stream",
     "text": [
      "-cc_transcripts- loaded  (0.96 secs)\n",
      "-cc_meta- loaded  (1.49 secs)\n"
     ]
    }
   ],
   "source": [
    "ld(cc_transcripts)\n",
    "ld(cc_meta)"
   ]
  },
  {
   "cell_type": "code",
   "execution_count": 50,
   "metadata": {},
   "outputs": [
    {
     "name": "stdout",
     "output_type": "stream",
     "text": [
      "-cc- saved  (7.78 secs)\n"
     ]
    }
   ],
   "source": [
    "match_transcripts_and_meta <- function(cc_transcripts, cc_meta) {\n",
    "    len_cc_transcripts = nrow(cc_transcripts)\n",
    "    \n",
    "    matched_headline = character(len_cc_transcripts)\n",
    "    matched_headline_date = rep(as.Date('1970-01-01'), len_cc_transcripts)\n",
    "    matched_keydevid = numeric(len_cc_transcripts)\n",
    "    matched_gvkey = character(len_cc_transcripts)\n",
    "    matched_mid_utc = rep(as.POSIXct('1970-01-01'), len_cc_transcripts)\n",
    "    \n",
    "    for (i in 1:len_cc_transcripts) {\n",
    "        transcript_date = cc_transcripts[i, date]\n",
    "        transcript_year = year(transcript_date)\n",
    "        transcript_month = month(transcript_date)\n",
    "        \n",
    "        cc_filename = cc_transcripts[i, cc_filename]\n",
    "        lookup = cc_meta[headline_year==transcript_year & headline_month==transcript_month]\n",
    "        # lookup = cc_meta\n",
    "        rowid = amatch(\n",
    "            toupper(cc_filename),\n",
    "            toupper(lookup[, headline]),\n",
    "            method='dl',\n",
    "            maxDist=5,\n",
    "            nthread=4)\n",
    "        matched_headline[i] = lookup[rowid, headline]\n",
    "        matched_keydevid[i] = lookup[rowid, keydevid]\n",
    "        matched_gvkey[i] = lookup[rowid, gvkey]\n",
    "        matched_mid_utc[i] = lookup[rowid, mostimportantdateutc]\n",
    "        matched_headline_date[i] = lookup[rowid, headline_date]\n",
    "    }\n",
    "    \n",
    "    res = cc_transcripts[, .(gvkey=matched_gvkey,\n",
    "         headline_date=matched_headline_date,\n",
    "         mid_utc=matched_mid_utc,\n",
    "         headline=matched_headline,\n",
    "         keydevid=matched_keydevid,\n",
    "         md, qa,\n",
    "         cc_path)\n",
    "    ][order(gvkey, headline_date)]\n",
    "}\n",
    "\n",
    "cc = match_transcripts_and_meta(cc_transcripts, cc_meta)\n",
    "sv(cc)"
   ]
  },
  {
   "cell_type": "code",
   "execution_count": 3,
   "metadata": {},
   "outputs": [
    {
     "name": "stdout",
     "output_type": "stream",
     "text": [
      "-cc- loaded  (0.56 secs)\n"
     ]
    }
   ],
   "source": [
    "ld(cc)"
   ]
  },
  {
   "cell_type": "code",
   "execution_count": 5,
   "metadata": {
    "scrolled": true
   },
   "outputs": [
    {
     "data": {
      "text/html": [
       "<table>\n",
       "<thead><tr><th scope=col>gvkey</th><th scope=col>headline_date</th><th scope=col>mid_utc</th><th scope=col>headline</th><th scope=col>keydevid</th><th scope=col>md</th><th scope=col>qa</th><th scope=col>cc_path</th></tr></thead>\n",
       "<tbody>\n",
       "\t<tr><td>NA                                                                                                                                     </td><td>2010-08-12                                                                                                                             </td><td>NA                                                                                                                                     </td><td>NA                                                                                                                                     </td><td>NA                                                                                                                                     </td><td>Presentati                                                                                                                             </td><td>Question a                                                                                                                             </td><td>C:/Users/rossz/OneDrive/CC/data/ciq-dji/005073-gm/General Motors Company, Q2 2010 Earnings Call, Aug-12-2010.pdf                       </td></tr>\n",
       "\t<tr><td>NA                                                                                                                                     </td><td>2010-11-10                                                                                                                             </td><td>NA                                                                                                                                     </td><td>NA                                                                                                                                     </td><td>NA                                                                                                                                     </td><td>Presentati                                                                                                                             </td><td>NA                                                                                                                                     </td><td>C:/Users/rossz/OneDrive/CC/data/ciq-dji/005073-gm/General Motors Company, Q3 2010 Earnings Call, Nov 10, 2010.pdf                      </td></tr>\n",
       "\t<tr><td>NA                                                                                                                                     </td><td>2019-06-27                                                                                                                             </td><td>NA                                                                                                                                     </td><td>NA                                                                                                                                     </td><td>NA                                                                                                                                     </td><td>Presentati                                                                                                                             </td><td>Question a                                                                                                                             </td><td>C:/Users/rossz/OneDrive/CC/data/ciq-dji/007906-nke/NIKE, Inc., Q4 2019 Earnings Call, Jun 27, 2019.pdf                                 </td></tr>\n",
       "\t<tr><td>NA                                                                                                                                     </td><td>2019-06-27                                                                                                                             </td><td>NA                                                                                                                                     </td><td>NA                                                                                                                                     </td><td>NA                                                                                                                                     </td><td>Presentati                                                                                                                             </td><td>Question a                                                                                                                             </td><td>C:/Users/rossz/OneDrive/CC/data/ciq-dji/011264-wba/Walgreens Boots Alliance, Inc., Q3 2019 Earnings Call, Jun 27, 2019.pdf             </td></tr>\n",
       "\t<tr><td>NA                                                                                                                                     </td><td>2019-07-15                                                                                                                             </td><td>NA                                                                                                                                     </td><td>NA                                                                                                                                     </td><td>NA                                                                                                                                     </td><td>Presentati                                                                                                                             </td><td>Question a                                                                                                                             </td><td>C:/Users/rossz/OneDrive/CC/data/ciq-dji/003243-c/Citigroup Inc., Q2 2019 Earnings Call, Jul 15, 2019.pdf                               </td></tr>\n",
       "\t<tr><td>NA                                                                                                                                     </td><td>2019-07-16                                                                                                                             </td><td>NA                                                                                                                                     </td><td>NA                                                                                                                                     </td><td>NA                                                                                                                                     </td><td>Presentati                                                                                                                             </td><td>Question a                                                                                                                             </td><td>C:/Users/rossz/OneDrive/CC/data/ciq-dji/002968-jpm/JPMorgan Chase  Co., Q2 2019 Earnings Call, Jul 16, 2019.pdf                        </td></tr>\n",
       "\t<tr><td>NA                                                                                                                                     </td><td>2019-07-16                                                                                                                             </td><td>NA                                                                                                                                     </td><td>NA                                                                                                                                     </td><td>NA                                                                                                                                     </td><td>Presentati                                                                                                                             </td><td>Question a                                                                                                                             </td><td>C:/Users/rossz/OneDrive/CC/data/ciq-dji/006266-jnj/Johnson  Johnson, Q2 2019 Earnings Call, Jul 16, 2019.pdf                           </td></tr>\n",
       "\t<tr><td>NA                                                                                                                                     </td><td>2019-07-16                                                                                                                             </td><td>NA                                                                                                                                     </td><td>NA                                                                                                                                     </td><td>NA                                                                                                                                     </td><td>Presentati                                                                                                                             </td><td>Question a                                                                                                                             </td><td>C:/Users/rossz/OneDrive/CC/data/ciq-dji/114628-gs/The Goldman Sachs Group, Inc., Q2 2019 Earnings Call, Jul 16, 2019.pdf               </td></tr>\n",
       "\t<tr><td>NA                                                                                                                                     </td><td>2019-07-17                                                                                                                             </td><td>NA                                                                                                                                     </td><td>NA                                                                                                                                     </td><td>NA                                                                                                                                     </td><td>Presentati                                                                                                                             </td><td>Question a                                                                                                                             </td><td>C:/Users/rossz/OneDrive/CC/data/ciq-dji/006066-ibm/International Business Machines Corporation, Q2 2019 Earnings Call, Jul 17, 2019.pdf</td></tr>\n",
       "\t<tr><td>NA                                                                                                                                     </td><td>2019-07-17                                                                                                                             </td><td>NA                                                                                                                                     </td><td>NA                                                                                                                                     </td><td>NA                                                                                                                                     </td><td>Presentati                                                                                                                             </td><td>Question a                                                                                                                             </td><td>C:/Users/rossz/OneDrive/CC/data/ciq-dji/007647-bac/Bank of America Corporation, Q2 2019 Earnings Call, Jul 17, 2019.pdf                </td></tr>\n",
       "\t<tr><td>NA                                                                                                                                     </td><td>2019-07-18                                                                                                                             </td><td>NA                                                                                                                                     </td><td>NA                                                                                                                                     </td><td>NA                                                                                                                                     </td><td>Presentati                                                                                                                             </td><td>Question a                                                                                                                             </td><td>C:/Users/rossz/OneDrive/CC/data/ciq-dji/001300-hon/Honeywell International Inc., Q2 2019 Earnings Call, Jul 18, 2019.pdf               </td></tr>\n",
       "\t<tr><td>NA                                                                                                                                     </td><td>2019-07-18                                                                                                                             </td><td>NA                                                                                                                                     </td><td>NA                                                                                                                                     </td><td>NA                                                                                                                                     </td><td>Presentati                                                                                                                             </td><td>Question a                                                                                                                             </td><td>C:/Users/rossz/OneDrive/CC/data/ciq-dji/010903-unh/UnitedHealth Group Incorporated, Q2 2019 Earnings Call, Jul 18, 2019.pdf            </td></tr>\n",
       "\t<tr><td>NA                                                                                                                                     </td><td>2019-07-18                                                                                                                             </td><td>NA                                                                                                                                     </td><td>NA                                                                                                                                     </td><td>NA                                                                                                                                     </td><td>Presentati                                                                                                                             </td><td>Question a                                                                                                                             </td><td>C:/Users/rossz/OneDrive/CC/data/ciq-dji/012141-msft/Microsoft Corporation, Q4 2019 Earnings Call, Jul 18, 2019.pdf                     </td></tr>\n",
       "\t<tr><td>NA                                                                                                                                     </td><td>2019-07-19                                                                                                                             </td><td>NA                                                                                                                                     </td><td>NA                                                                                                                                     </td><td>NA                                                                                                                                     </td><td>Presentati                                                                                                                             </td><td>Question a                                                                                                                             </td><td>C:/Users/rossz/OneDrive/CC/data/ciq-dji/001447-axp/American Express Company, Q2 2019 Earnings Call, Jul 19, 2019.pdf                   </td></tr>\n",
       "\t<tr><td>NA                                                                                                                                     </td><td>2019-07-23                                                                                                                             </td><td>NA                                                                                                                                     </td><td>NA                                                                                                                                     </td><td>NA                                                                                                                                     </td><td>Presentati                                                                                                                             </td><td>Question a                                                                                                                             </td><td>C:/Users/rossz/OneDrive/CC/data/ciq-dji/003144-ko/The Coca-Cola Company, Q2 2019 Earnings Call, Jul 23, 2019.pdf                       </td></tr>\n",
       "\t<tr><td>NA                                                                                                                                     </td><td>2019-07-23                                                                                                                             </td><td>NA                                                                                                                                     </td><td>NA                                                                                                                                     </td><td>NA                                                                                                                                     </td><td>Presentati                                                                                                                             </td><td>Question a                                                                                                                             </td><td>C:/Users/rossz/OneDrive/CC/data/ciq-dji/010983-utx/United Technologies Corporation, Q2 2019 Earnings Call, Jul 23, 2019.pdf            </td></tr>\n",
       "\t<tr><td>NA                                                                                                                                     </td><td>2019-07-23                                                                                                                             </td><td>NA                                                                                                                                     </td><td>NA                                                                                                                                     </td><td>NA                                                                                                                                     </td><td>Presentati                                                                                                                             </td><td>Question a                                                                                                                             </td><td>C:/Users/rossz/OneDrive/CC/data/ciq-dji/062689-trv/The Travelers Companies, Inc., Q2 2019 Earnings Call, Jul 23, 2019.pdf              </td></tr>\n",
       "\t<tr><td>NA                                                                                                                                     </td><td>2019-07-23                                                                                                                             </td><td>NA                                                                                                                                     </td><td>NA                                                                                                                                     </td><td>NA                                                                                                                                     </td><td>Presentati                                                                                                                             </td><td>Question a                                                                                                                             </td><td>C:/Users/rossz/OneDrive/CC/data/ciq-dji/179534-v/Visa Inc., Q3 2019 Earnings Call, Jul 23, 2019.pdf                                    </td></tr>\n",
       "\t<tr><td>NA                                                                                                                                     </td><td>2019-07-24                                                                                                                             </td><td>NA                                                                                                                                     </td><td>NA                                                                                                                                     </td><td>NA                                                                                                                                     </td><td>Presentati                                                                                                                             </td><td>Question a                                                                                                                             </td><td>C:/Users/rossz/OneDrive/CC/data/ciq-dji/002285-ba/The Boeing Company, Q2 2019 Earnings Call, Jul 24, 2019.pdf                          </td></tr>\n",
       "\t<tr><td>NA                                                                                                                                     </td><td>2019-07-24                                                                                                                             </td><td>NA                                                                                                                                     </td><td>NA                                                                                                                                     </td><td>NA                                                                                                                                     </td><td>Presentati                                                                                                                             </td><td>Question a                                                                                                                             </td><td>C:/Users/rossz/OneDrive/CC/data/ciq-dji/002817-cat/Caterpillar Inc., Q2 2019 Earnings Call, Jul 24, 2019.pdf                           </td></tr>\n",
       "\t<tr><td>NA                                                                                                                                     </td><td>2019-07-24                                                                                                                             </td><td>NA                                                                                                                                     </td><td>NA                                                                                                                                     </td><td>NA                                                                                                                                     </td><td>Presentati                                                                                                                             </td><td>Question a                                                                                                                             </td><td>C:/Users/rossz/OneDrive/CC/data/ciq-dji/009899-t/ATT Inc., Q2 2019 Earnings Call, Jul 24, 2019.pdf                                     </td></tr>\n",
       "\t<tr><td>NA                                                                                                                                     </td><td>2019-07-25                                                                                                                             </td><td>NA                                                                                                                                     </td><td>NA                                                                                                                                     </td><td>NA                                                                                                                                     </td><td>Presentati                                                                                                                             </td><td>Question a                                                                                                                             </td><td>C:/Users/rossz/OneDrive/CC/data/ciq-dji/006008-intc/Intel Corporation, Q2 2019 Earnings Call, Jul 25, 2019.pdf                         </td></tr>\n",
       "\t<tr><td>NA                                                                                                                                     </td><td>2019-07-25                                                                                                                             </td><td>NA                                                                                                                                     </td><td>NA                                                                                                                                     </td><td>NA                                                                                                                                     </td><td>Presentati                                                                                                                             </td><td>Question a                                                                                                                             </td><td>C:/Users/rossz/OneDrive/CC/data/ciq-dji/006104-ip/International Paper Company, Q2 2019 Earnings Call, Jul 25, 2019.pdf                 </td></tr>\n",
       "\t<tr><td>NA                                                                                                                                     </td><td>2019-07-25                                                                                                                             </td><td>NA                                                                                                                                     </td><td>NA                                                                                                                                     </td><td>NA                                                                                                                                     </td><td>Presentati                                                                                                                             </td><td>Question a                                                                                                                             </td><td>C:/Users/rossz/OneDrive/CC/data/ciq-dji/007435-mmm/3M Company, Q2 2019 Earnings Call, Jul 25, 2019.pdf                                 </td></tr>\n",
       "\t<tr><td>NA                                                                                                                                     </td><td>2019-07-26                                                                                                                             </td><td>NA                                                                                                                                     </td><td>NA                                                                                                                                     </td><td>NA                                                                                                                                     </td><td>Presentati                                                                                                                             </td><td>Question a                                                                                                                             </td><td>C:/Users/rossz/OneDrive/CC/data/ciq-dji/005234-gt/The Goodyear Tire  Rubber Company, Q2 2019 Earnings Call, Jul 26, 2019.pdf           </td></tr>\n",
       "\t<tr><td>NA                                                                                                                                     </td><td>2019-07-26                                                                                                                             </td><td>NA                                                                                                                                     </td><td>NA                                                                                                                                     </td><td>NA                                                                                                                                     </td><td>Presentati                                                                                                                             </td><td>Question a                                                                                                                             </td><td>C:/Users/rossz/OneDrive/CC/data/ciq-dji/007154-mcd/McDonalds Corporation, Q2 2019 Earnings Call, Jul 26, 2019.pdf                      </td></tr>\n",
       "\t<tr><td>NA                                                                                                                                     </td><td>2019-07-29                                                                                                                             </td><td>NA                                                                                                                                     </td><td>NA                                                                                                                                     </td><td>NA                                                                                                                                     </td><td>Presentati                                                                                                                             </td><td>Question a                                                                                                                             </td><td>C:/Users/rossz/OneDrive/CC/data/ciq-dji/008530-pfe/Pfizer Inc., Q2 2019 Earnings Call, Jul 29, 2019.pdf                                </td></tr>\n",
       "\t<tr><td>NA                                                                                                                                     </td><td>2019-07-30                                                                                                                             </td><td>NA                                                                                                                                     </td><td>NA                                                                                                                                     </td><td>NA                                                                                                                                     </td><td>Presentati                                                                                                                             </td><td>Question a                                                                                                                             </td><td>C:/Users/rossz/OneDrive/CC/data/ciq-dji/001690-appl/Apple Inc., Q3 2019 Earnings Call, Jul 30, 2019.pdf                                </td></tr>\n",
       "\t<tr><td>NA                                                                                                                                     </td><td>2019-07-30                                                                                                                             </td><td>NA                                                                                                                                     </td><td>NA                                                                                                                                     </td><td>NA                                                                                                                                     </td><td>Presentati                                                                                                                             </td><td>Question a                                                                                                                             </td><td>C:/Users/rossz/OneDrive/CC/data/ciq-dji/007257-mrk/Merck  Co., Inc., Q2 2019 Earnings Call, Jul 30, 2019.pdf                           </td></tr>\n",
       "\t<tr><td>NA                                                                                                                                     </td><td>2019-07-30                                                                                                                             </td><td>NA                                                                                                                                     </td><td>NA                                                                                                                                     </td><td>NA                                                                                                                                     </td><td>Presentati                                                                                                                             </td><td>Question a                                                                                                                             </td><td>C:/Users/rossz/OneDrive/CC/data/ciq-dji/008543-mo/Altria Group, Inc., Q2 2019 Earnings Call, Jul 30, 2019.pdf                          </td></tr>\n",
       "\t<tr><td>NA                                                                                                                                     </td><td>2019-07-30                                                                                                                             </td><td>NA                                                                                                                                     </td><td>NA                                                                                                                                     </td><td>NA                                                                                                                                     </td><td>Presentati                                                                                                                             </td><td>Question a                                                                                                                             </td><td>C:/Users/rossz/OneDrive/CC/data/ciq-dji/008762-pg/The Procter  Gamble Company, Q4 2019 Earnings Call, Jul 30, 2019.pdf                 </td></tr>\n",
       "\t<tr><td>NA                                                                                                                                     </td><td>2019-07-31                                                                                                                             </td><td>NA                                                                                                                                     </td><td>NA                                                                                                                                     </td><td>NA                                                                                                                                     </td><td>Presentati                                                                                                                             </td><td>Question a                                                                                                                             </td><td>C:/Users/rossz/OneDrive/CC/data/ciq-dji/005047-ge/General Electric Company, Q2 2019 Earnings Call, Jul 31, 2019.pdf                    </td></tr>\n",
       "\t<tr><td>NA                                                                                                                                     </td><td>2019-08-01                                                                                                                             </td><td>NA                                                                                                                                     </td><td>NA                                                                                                                                     </td><td>NA                                                                                                                                     </td><td>Presentati                                                                                                                             </td><td>Question a                                                                                                                             </td><td>C:/Users/rossz/OneDrive/CC/data/ciq-dji/002136-vz/Verizon Communications Inc., Q2 2019 Earnings Call, Aug 01, 2019.pdf                 </td></tr>\n",
       "\t<tr><td>NA                                                                                                                                     </td><td>2019-08-01                                                                                                                             </td><td>NA                                                                                                                                     </td><td>NA                                                                                                                                     </td><td>NA                                                                                                                                     </td><td>Presentati                                                                                                                             </td><td>Question a                                                                                                                             </td><td>C:/Users/rossz/OneDrive/CC/data/ciq-dji/004060-dd/DuPont de Nemours, Inc., Q2 2019 Earnings Call, Aug 01, 2019.pdf                     </td></tr>\n",
       "\t<tr><td>NA                                                                                                                                     </td><td>2019-08-01                                                                                                                             </td><td>NA                                                                                                                                     </td><td>NA                                                                                                                                     </td><td>NA                                                                                                                                     </td><td>Presentati                                                                                                                             </td><td>Question a                                                                                                                             </td><td>C:/Users/rossz/OneDrive/CC/data/ciq-dji/005073-gm/General Motors Company, Q2 2019 Earnings Call, Aug 01, 2019.pdf                      </td></tr>\n",
       "\t<tr><td>NA                                                                                                                                     </td><td>2019-08-02                                                                                                                             </td><td>NA                                                                                                                                     </td><td>NA                                                                                                                                     </td><td>NA                                                                                                                                     </td><td>Presentati                                                                                                                             </td><td>Question a                                                                                                                             </td><td>C:/Users/rossz/OneDrive/CC/data/ciq-dji/002991-cvx/Chevron Corporation, Q2 2019 Earnings Call, Aug 02, 2019.pdf                        </td></tr>\n",
       "\t<tr><td>NA                                                                                                                                     </td><td>2019-08-02                                                                                                                             </td><td>NA                                                                                                                                     </td><td>NA                                                                                                                                     </td><td>NA                                                                                                                                     </td><td>Presentati                                                                                                                             </td><td>Question a                                                                                                                             </td><td>C:/Users/rossz/OneDrive/CC/data/ciq-dji/004503-xom/Exxon Mobil Corporation, Q2 2019 Earnings Call, Aug 02, 2019.pdf                    </td></tr>\n",
       "\t<tr><td>NA                                                                                                                                     </td><td>2019-08-06                                                                                                                             </td><td>NA                                                                                                                                     </td><td>NA                                                                                                                                     </td><td>NA                                                                                                                                     </td><td>Presentati                                                                                                                             </td><td>Question a                                                                                                                             </td><td>C:/Users/rossz/OneDrive/CC/data/ciq-dji/003980-dis/The Walt Disney Company, Q3 2019 Earnings Call, Aug 06, 2019.pdf                    </td></tr>\n",
       "\t<tr><td>NA                                                                                                                                     </td><td>2019-08-08                                                                                                                             </td><td>NA                                                                                                                                     </td><td>NA                                                                                                                                     </td><td>NA                                                                                                                                     </td><td>Presentati                                                                                                                             </td><td>Question a                                                                                                                             </td><td>C:/Users/rossz/OneDrive/CC/data/ciq-dji/001487-aig/American International Group, Inc., Q2 2019 Earnings Call, Aug 08, 2019.pdf         </td></tr>\n",
       "\t<tr><td>NA                                                                                                                                     </td><td>2019-08-08                                                                                                                             </td><td>NA                                                                                                                                     </td><td>NA                                                                                                                                     </td><td>NA                                                                                                                                     </td><td>Presentati                                                                                                                             </td><td>Question a                                                                                                                             </td><td>C:/Users/rossz/OneDrive/CC/data/ciq-dji/004194-kodk/Eastman Kodak Company, Q2 2019 Earnings Call, Aug 08, 2019.pdf                     </td></tr>\n",
       "\t<tr><td>NA                                                                                                                                     </td><td>2019-08-14                                                                                                                             </td><td>NA                                                                                                                                     </td><td>NA                                                                                                                                     </td><td>NA                                                                                                                                     </td><td>Presentati                                                                                                                             </td><td>Question a                                                                                                                             </td><td>C:/Users/rossz/OneDrive/CC/data/ciq-dji/020779-csco/Cisco Systems, Inc., Q4 2019 Earnings Call, Aug 14, 2019.pdf                       </td></tr>\n",
       "\t<tr><td>NA                                                                                                                                     </td><td>2019-08-20                                                                                                                             </td><td>NA                                                                                                                                     </td><td>NA                                                                                                                                     </td><td>NA                                                                                                                                     </td><td>Presentati                                                                                                                             </td><td>Question a                                                                                                                             </td><td>C:/Users/rossz/OneDrive/CC/data/ciq-dji/005680-hd/The Home Depot, Inc., Q2 2020 Earnings Call, Aug 20, 2019.pdf                        </td></tr>\n",
       "\t<tr><td>NA                                                                                                                                     </td><td>2019-08-22                                                                                                                             </td><td>NA                                                                                                                                     </td><td>NA                                                                                                                                     </td><td>NA                                                                                                                                     </td><td>Presentati                                                                                                                             </td><td>Question a                                                                                                                             </td><td>C:/Users/rossz/OneDrive/CC/data/ciq-dji/005606-hpq/HP Inc., Q3 2019 Earnings Call, Aug 22, 2019.pdf                                    </td></tr>\n",
       "\t<tr><td>NA                                                                                                                                     </td><td>2019-09-24                                                                                                                             </td><td>NA                                                                                                                                     </td><td>NA                                                                                                                                     </td><td>NA                                                                                                                                     </td><td>Presentati                                                                                                                             </td><td>Question a                                                                                                                             </td><td>C:/Users/rossz/OneDrive/CC/data/ciq-dji/007906-nke/NIKE, Inc., Q1 2020 Earnings Call, Sep 24, 2019.pdf                                 </td></tr>\n",
       "\t<tr><td>NA                                                                                                                                     </td><td>2019-10-15                                                                                                                             </td><td>NA                                                                                                                                     </td><td>NA                                                                                                                                     </td><td>NA                                                                                                                                     </td><td>Presentati                                                                                                                             </td><td>Question a                                                                                                                             </td><td>C:/Users/rossz/OneDrive/CC/data/ciq-dji/002968-jpm/JPMorgan Chase  Co., Q3 2019 Earnings Call, Oct 15, 2019.pdf                        </td></tr>\n",
       "\t<tr><td>NA                                                                                                                                     </td><td>2019-10-15                                                                                                                             </td><td>NA                                                                                                                                     </td><td>NA                                                                                                                                     </td><td>NA                                                                                                                                     </td><td>Presentati                                                                                                                             </td><td>Question a                                                                                                                             </td><td>C:/Users/rossz/OneDrive/CC/data/ciq-dji/003243-c/Citigroup Inc., Q3 2019 Earnings Call, Oct 15, 2019.pdf                               </td></tr>\n",
       "\t<tr><td>NA                                                                                                                                     </td><td>2019-10-15                                                                                                                             </td><td>NA                                                                                                                                     </td><td>NA                                                                                                                                     </td><td>NA                                                                                                                                     </td><td>Presentati                                                                                                                             </td><td>Question a                                                                                                                             </td><td>C:/Users/rossz/OneDrive/CC/data/ciq-dji/006266-jnj/Johnson  Johnson, Q3 2019 Earnings Call, Oct 15, 2019.pdf                           </td></tr>\n",
       "\t<tr><td>NA                                                                                                                                     </td><td>2019-10-15                                                                                                                             </td><td>NA                                                                                                                                     </td><td>NA                                                                                                                                     </td><td>NA                                                                                                                                     </td><td>Presentati                                                                                                                             </td><td>Question a                                                                                                                             </td><td>C:/Users/rossz/OneDrive/CC/data/ciq-dji/010903-unh/UnitedHealth Group Incorporated, Q3 2019 Earnings Call, Oct 15, 2019.pdf            </td></tr>\n",
       "\t<tr><td>NA                                                                                                                                     </td><td>2019-10-15                                                                                                                             </td><td>NA                                                                                                                                     </td><td>NA                                                                                                                                     </td><td>NA                                                                                                                                     </td><td>Presentati                                                                                                                             </td><td>Question a                                                                                                                             </td><td>C:/Users/rossz/OneDrive/CC/data/ciq-dji/114628-gs/The Goldman Sachs Group, Inc., Q3 2019 Earnings Call, Oct 15, 2019.pdf               </td></tr>\n",
       "\t<tr><td>NA                                                                                                                                     </td><td>2019-10-16                                                                                                                             </td><td>NA                                                                                                                                     </td><td>NA                                                                                                                                     </td><td>NA                                                                                                                                     </td><td>Presentati                                                                                                                             </td><td>Question a                                                                                                                             </td><td>C:/Users/rossz/OneDrive/CC/data/ciq-dji/006066-ibm/International Business Machines Corporation, Q3 2019 Earnings Call, Oct 16, 2019.pdf</td></tr>\n",
       "\t<tr><td>NA                                                                                                                                     </td><td>2019-10-16                                                                                                                             </td><td>NA                                                                                                                                     </td><td>NA                                                                                                                                     </td><td>NA                                                                                                                                     </td><td>Presentati                                                                                                                             </td><td>Question a                                                                                                                             </td><td>C:/Users/rossz/OneDrive/CC/data/ciq-dji/007647-bac/Bank of America Corporation, Q3 2019 Earnings Call, Oct 16, 2019.pdf                </td></tr>\n",
       "\t<tr><td>NA                                                                                                                                     </td><td>2019-10-17                                                                                                                             </td><td>NA                                                                                                                                     </td><td>NA                                                                                                                                     </td><td>NA                                                                                                                                     </td><td>Presentati                                                                                                                             </td><td>Question a                                                                                                                             </td><td>C:/Users/rossz/OneDrive/CC/data/ciq-dji/001300-hon/Honeywell International Inc., Q3 2019 Earnings Call, Oct 17, 2019.pdf               </td></tr>\n",
       "\t<tr><td>NA                                                                                                                                     </td><td>2019-10-18                                                                                                                             </td><td>NA                                                                                                                                     </td><td>NA                                                                                                                                     </td><td>NA                                                                                                                                     </td><td>Presentati                                                                                                                             </td><td>Question a                                                                                                                             </td><td>C:/Users/rossz/OneDrive/CC/data/ciq-dji/001447-axp/American Express Company, Q3 2019 Earnings Call, Oct 18, 2019.pdf                   </td></tr>\n",
       "\t<tr><td>NA                                                                                                                                     </td><td>2019-10-18                                                                                                                             </td><td>NA                                                                                                                                     </td><td>NA                                                                                                                                     </td><td>NA                                                                                                                                     </td><td>Presentati                                                                                                                             </td><td>Question a                                                                                                                             </td><td>C:/Users/rossz/OneDrive/CC/data/ciq-dji/003144-ko/The Coca-Cola Company, Q3 2019 Earnings Call, Oct 18, 2019.pdf                       </td></tr>\n",
       "\t<tr><td>NA                                                                                                                                     </td><td>2019-10-22                                                                                                                             </td><td>NA                                                                                                                                     </td><td>NA                                                                                                                                     </td><td>NA                                                                                                                                     </td><td>Presentati                                                                                                                             </td><td>Question a                                                                                                                             </td><td>C:/Users/rossz/OneDrive/CC/data/ciq-dji/007154-mcd/McDonalds Corporation, Q3 2019 Earnings Call, Oct 22, 2019.pdf                      </td></tr>\n",
       "\t<tr><td>NA                                                                                                                                     </td><td>2019-10-22                                                                                                                             </td><td>NA                                                                                                                                     </td><td>NA                                                                                                                                     </td><td>NA                                                                                                                                     </td><td>Presentati                                                                                                                             </td><td>Question a                                                                                                                             </td><td>C:/Users/rossz/OneDrive/CC/data/ciq-dji/008762-pg/The Procter  Gamble Company, Q1 2020 Earnings Call, Oct 22, 2019.pdf                 </td></tr>\n",
       "\t<tr><td>NA                                                                                                                                     </td><td>2019-10-22                                                                                                                             </td><td>NA                                                                                                                                     </td><td>NA                                                                                                                                     </td><td>NA                                                                                                                                     </td><td>Presentati                                                                                                                             </td><td>Question a                                                                                                                             </td><td>C:/Users/rossz/OneDrive/CC/data/ciq-dji/010983-utx/United Technologies Corporation, Q3 2019 Earnings Call, Oct 22, 2019.pdf            </td></tr>\n",
       "\t<tr><td>NA                                                                                                                                     </td><td>2019-10-22                                                                                                                             </td><td>NA                                                                                                                                     </td><td>NA                                                                                                                                     </td><td>NA                                                                                                                                     </td><td>Presentati                                                                                                                             </td><td>Question a                                                                                                                             </td><td>C:/Users/rossz/OneDrive/CC/data/ciq-dji/062689-trv/The Travelers Companies, Inc., Q3 2019 Earnings Call, Oct 22, 2019.pdf              </td></tr>\n",
       "\t<tr><td>NA                                                                                                                                     </td><td>2019-10-23                                                                                                                             </td><td>NA                                                                                                                                     </td><td>NA                                                                                                                                     </td><td>NA                                                                                                                                     </td><td>Presentati                                                                                                                             </td><td>Question a                                                                                                                             </td><td>C:/Users/rossz/OneDrive/CC/data/ciq-dji/002285-ba/The Boeing Company, Q3 2019 Earnings Call, Oct 23, 2019.pdf                          </td></tr>\n",
       "\t<tr><td>NA                                                                                                                                     </td><td>2019-10-23                                                                                                                             </td><td>NA                                                                                                                                     </td><td>NA                                                                                                                                     </td><td>NA                                                                                                                                     </td><td>Presentati                                                                                                                             </td><td>Question a                                                                                                                             </td><td>C:/Users/rossz/OneDrive/CC/data/ciq-dji/002817-cat/Caterpillar Inc., Q3 2019 Earnings Call, Oct 23, 2019.pdf                           </td></tr>\n",
       "\t<tr><td>NA                                                                                                                                     </td><td>2019-10-23                                                                                                                             </td><td>NA                                                                                                                                     </td><td>NA                                                                                                                                     </td><td>NA                                                                                                                                     </td><td>Presentati                                                                                                                             </td><td>Question a                                                                                                                             </td><td>C:/Users/rossz/OneDrive/CC/data/ciq-dji/012141-msft/Microsoft Corporation, Q1 2020 Earnings Call, Oct 23, 2019.pdf                     </td></tr>\n",
       "\t<tr><td>NA                                                                                                                                     </td><td>2019-10-24                                                                                                                             </td><td>NA                                                                                                                                     </td><td>NA                                                                                                                                     </td><td>NA                                                                                                                                     </td><td>Presentati                                                                                                                             </td><td>Question a                                                                                                                             </td><td>C:/Users/rossz/OneDrive/CC/data/ciq-dji/006008-intc/Intel Corporation, Q3 2019 Earnings Call, Oct 24, 2019.pdf                         </td></tr>\n",
       "\t<tr><td>NA                                                                                                                                     </td><td>2019-10-24                                                                                                                             </td><td>NA                                                                                                                                     </td><td>NA                                                                                                                                     </td><td>NA                                                                                                                                     </td><td>Presentati                                                                                                                             </td><td>Question a                                                                                                                             </td><td>C:/Users/rossz/OneDrive/CC/data/ciq-dji/007435-mmm/3M Company, Q3 2019 Earnings Call, Oct 24, 2019.pdf                                 </td></tr>\n",
       "\t<tr><td>NA                                                                                                                                     </td><td>2019-10-24                                                                                                                             </td><td>NA                                                                                                                                     </td><td>NA                                                                                                                                     </td><td>NA                                                                                                                                     </td><td>Presentati                                                                                                                             </td><td>Question a                                                                                                                             </td><td>C:/Users/rossz/OneDrive/CC/data/ciq-dji/179534-v/Visa Inc., Q4 2019 Earnings Call, Oct 24, 2019.pdf                                    </td></tr>\n",
       "\t<tr><td>NA                                                                                                                                     </td><td>2019-10-25                                                                                                                             </td><td>NA                                                                                                                                     </td><td>NA                                                                                                                                     </td><td>NA                                                                                                                                     </td><td>Presentati                                                                                                                             </td><td>Question a                                                                                                                             </td><td>C:/Users/rossz/OneDrive/CC/data/ciq-dji/002136-vz/Verizon Communications Inc., Q3 2019 Earnings Call, Oct 25, 2019.pdf                 </td></tr>\n",
       "\t<tr><td>NA                                                                                                                                     </td><td>2019-10-25                                                                                                                             </td><td>NA                                                                                                                                     </td><td>NA                                                                                                                                     </td><td>NA                                                                                                                                     </td><td>Presentati                                                                                                                             </td><td>Question a                                                                                                                             </td><td>C:/Users/rossz/OneDrive/CC/data/ciq-dji/005234-gt/The Goodyear Tire  Rubber Company, Q3 2019 Earnings Call, Oct 25, 2019.pdf           </td></tr>\n",
       "\t<tr><td>NA                                                                                                                                     </td><td>2019-10-28                                                                                                                             </td><td>NA                                                                                                                                     </td><td>NA                                                                                                                                     </td><td>NA                                                                                                                                     </td><td>Presentati                                                                                                                             </td><td>Question a                                                                                                                             </td><td>C:/Users/rossz/OneDrive/CC/data/ciq-dji/009899-t/ATT Inc., Q3 2019 Earnings Call, Oct 28, 2019.pdf                                     </td></tr>\n",
       "\t<tr><td>NA                                                                                                                                     </td><td>2019-10-28                                                                                                                             </td><td>NA                                                                                                                                     </td><td>NA                                                                                                                                     </td><td>NA                                                                                                                                     </td><td>Presentati                                                                                                                             </td><td>Question a                                                                                                                             </td><td>C:/Users/rossz/OneDrive/CC/data/ciq-dji/011264-wba/Walgreens Boots Alliance, Inc., Q4 2019 Earnings Call, Oct 28, 2019.pdf             </td></tr>\n",
       "\t<tr><td>NA                                                                                                                                     </td><td>2019-10-29                                                                                                                             </td><td>NA                                                                                                                                     </td><td>NA                                                                                                                                     </td><td>NA                                                                                                                                     </td><td>Presentati                                                                                                                             </td><td>Question a                                                                                                                             </td><td>C:/Users/rossz/OneDrive/CC/data/ciq-dji/005073-gm/General Motors Company, Q3 2019 Earnings Call, Oct 29, 2019.pdf                      </td></tr>\n",
       "\t<tr><td>NA                                                                                                                                     </td><td>2019-10-29                                                                                                                             </td><td>NA                                                                                                                                     </td><td>NA                                                                                                                                     </td><td>NA                                                                                                                                     </td><td>Presentati                                                                                                                             </td><td>Question a                                                                                                                             </td><td>C:/Users/rossz/OneDrive/CC/data/ciq-dji/007257-mrk/Merck  Co., Inc., Q3 2019 Earnings Call, Oct 29, 2019.pdf                           </td></tr>\n",
       "\t<tr><td>NA                                                                                                                                     </td><td>2019-10-29                                                                                                                             </td><td>NA                                                                                                                                     </td><td>NA                                                                                                                                     </td><td>NA                                                                                                                                     </td><td>Presentati                                                                                                                             </td><td>Question a                                                                                                                             </td><td>C:/Users/rossz/OneDrive/CC/data/ciq-dji/008530-pfe/Pfizer Inc., Q3 2019 Earnings Call, Oct 29, 2019.pdf                                </td></tr>\n",
       "\t<tr><td>NA                                                                                                                                     </td><td>2019-10-30                                                                                                                             </td><td>NA                                                                                                                                     </td><td>NA                                                                                                                                     </td><td>NA                                                                                                                                     </td><td>Presentati                                                                                                                             </td><td>Question a                                                                                                                             </td><td>C:/Users/rossz/OneDrive/CC/data/ciq-dji/001690-appl/Apple Inc., Q4 2019 Earnings Call, Oct 30, 2019.pdf                                </td></tr>\n",
       "\t<tr><td>NA                                                                                                                                     </td><td>2019-10-30                                                                                                                             </td><td>NA                                                                                                                                     </td><td>NA                                                                                                                                     </td><td>NA                                                                                                                                     </td><td>Presentati                                                                                                                             </td><td>Question a                                                                                                                             </td><td>C:/Users/rossz/OneDrive/CC/data/ciq-dji/005047-ge/General Electric Company, Q3 2019 Earnings Call, Oct 30, 2019.pdf                    </td></tr>\n",
       "\t<tr><td>NA                                                                                                                                     </td><td>2019-10-31                                                                                                                             </td><td>NA                                                                                                                                     </td><td>NA                                                                                                                                     </td><td>NA                                                                                                                                     </td><td>Presentati                                                                                                                             </td><td>Question a                                                                                                                             </td><td>C:/Users/rossz/OneDrive/CC/data/ciq-dji/004060-dd/DuPont de Nemours, Inc., Q3 2019 Earnings Call, Oct 31, 2019.pdf                     </td></tr>\n",
       "\t<tr><td>NA                                                                                                                                     </td><td>2019-10-31                                                                                                                             </td><td>NA                                                                                                                                     </td><td>NA                                                                                                                                     </td><td>NA                                                                                                                                     </td><td>Presentati                                                                                                                             </td><td>Question a                                                                                                                             </td><td>C:/Users/rossz/OneDrive/CC/data/ciq-dji/006104-ip/International Paper Company, Q3 2019 Earnings Call, Oct 31, 2019.pdf                 </td></tr>\n",
       "\t<tr><td>NA                                                                                                                                     </td><td>2019-10-31                                                                                                                             </td><td>NA                                                                                                                                     </td><td>NA                                                                                                                                     </td><td>NA                                                                                                                                     </td><td>Presentati                                                                                                                             </td><td>Question a                                                                                                                             </td><td>C:/Users/rossz/OneDrive/CC/data/ciq-dji/008543-mo/Altria Group, Inc., Q3 2019 Earnings Call, Oct 31, 2019.pdf                          </td></tr>\n",
       "\t<tr><td>NA                                                                                                                                     </td><td>2019-11-01                                                                                                                             </td><td>NA                                                                                                                                     </td><td>NA                                                                                                                                     </td><td>NA                                                                                                                                     </td><td>Presentati                                                                                                                             </td><td>Question a                                                                                                                             </td><td>C:/Users/rossz/OneDrive/CC/data/ciq-dji/001487-aig/American International Group, Inc., Q3 2019 Earnings Call, Nov 01, 2019.pdf         </td></tr>\n",
       "\t<tr><td>NA                                                                                                                                     </td><td>2019-11-01                                                                                                                             </td><td>NA                                                                                                                                     </td><td>NA                                                                                                                                     </td><td>NA                                                                                                                                     </td><td>Presentati                                                                                                                             </td><td>Question a                                                                                                                             </td><td>C:/Users/rossz/OneDrive/CC/data/ciq-dji/002991-cvx/Chevron Corporation, Q3 2019 Earnings Call, Nov 01, 2019.pdf                        </td></tr>\n",
       "\t<tr><td>NA                                                                                                                                     </td><td>2019-11-01                                                                                                                             </td><td>NA                                                                                                                                     </td><td>NA                                                                                                                                     </td><td>NA                                                                                                                                     </td><td>Presentati                                                                                                                             </td><td>Question a                                                                                                                             </td><td>C:/Users/rossz/OneDrive/CC/data/ciq-dji/004503-xom/Exxon Mobil Corporation, Q3 2019 Earnings Call, Nov 01, 2019.pdf                    </td></tr>\n",
       "\t<tr><td>NA                                                                                                                                     </td><td>2019-11-07                                                                                                                             </td><td>NA                                                                                                                                     </td><td>NA                                                                                                                                     </td><td>NA                                                                                                                                     </td><td>Presentati                                                                                                                             </td><td>Question a                                                                                                                             </td><td>C:/Users/rossz/OneDrive/CC/data/ciq-dji/003980-dis/The Walt Disney Company, Q4 2019 Earnings Call, Nov 07, 2019.pdf                    </td></tr>\n",
       "\t<tr><td>NA                                                                                                                                     </td><td>2019-11-07                                                                                                                             </td><td>NA                                                                                                                                     </td><td>NA                                                                                                                                     </td><td>NA                                                                                                                                     </td><td>Presentati                                                                                                                             </td><td>NA                                                                                                                                     </td><td>C:/Users/rossz/OneDrive/CC/data/ciq-dji/004194-kodk/Eastman Kodak Company, Q3 2019 Earnings Call, Nov 07, 2019.pdf                     </td></tr>\n",
       "\t<tr><td>NA                                                                                                                                     </td><td>2019-11-13                                                                                                                             </td><td>NA                                                                                                                                     </td><td>NA                                                                                                                                     </td><td>NA                                                                                                                                     </td><td>Presentati                                                                                                                             </td><td>Question a                                                                                                                             </td><td>C:/Users/rossz/OneDrive/CC/data/ciq-dji/020779-csco/Cisco Systems, Inc., Q1 2020 Earnings Call, Nov 13, 2019.pdf                       </td></tr>\n",
       "</tbody>\n",
       "</table>\n"
      ],
      "text/latex": [
       "\\begin{tabular}{r|llllllll}\n",
       " gvkey & headline\\_date & mid\\_utc & headline & keydevid & md & qa & cc\\_path\\\\\n",
       "\\hline\n",
       "\t NA                                                                                                                                      & 2010-08-12                                                                                                                              & NA                                                                                                                                      & NA                                                                                                                                      & NA                                                                                                                                      & Presentati                                                                                                                              & Question a                                                                                                                              & C:/Users/rossz/OneDrive/CC/data/ciq-dji/005073-gm/General Motors Company, Q2 2010 Earnings Call, Aug-12-2010.pdf                       \\\\\n",
       "\t NA                                                                                                                                      & 2010-11-10                                                                                                                              & NA                                                                                                                                      & NA                                                                                                                                      & NA                                                                                                                                      & Presentati                                                                                                                              & NA                                                                                                                                      & C:/Users/rossz/OneDrive/CC/data/ciq-dji/005073-gm/General Motors Company, Q3 2010 Earnings Call, Nov 10, 2010.pdf                      \\\\\n",
       "\t NA                                                                                                                                      & 2019-06-27                                                                                                                              & NA                                                                                                                                      & NA                                                                                                                                      & NA                                                                                                                                      & Presentati                                                                                                                              & Question a                                                                                                                              & C:/Users/rossz/OneDrive/CC/data/ciq-dji/007906-nke/NIKE, Inc., Q4 2019 Earnings Call, Jun 27, 2019.pdf                                 \\\\\n",
       "\t NA                                                                                                                                      & 2019-06-27                                                                                                                              & NA                                                                                                                                      & NA                                                                                                                                      & NA                                                                                                                                      & Presentati                                                                                                                              & Question a                                                                                                                              & C:/Users/rossz/OneDrive/CC/data/ciq-dji/011264-wba/Walgreens Boots Alliance, Inc., Q3 2019 Earnings Call, Jun 27, 2019.pdf             \\\\\n",
       "\t NA                                                                                                                                      & 2019-07-15                                                                                                                              & NA                                                                                                                                      & NA                                                                                                                                      & NA                                                                                                                                      & Presentati                                                                                                                              & Question a                                                                                                                              & C:/Users/rossz/OneDrive/CC/data/ciq-dji/003243-c/Citigroup Inc., Q2 2019 Earnings Call, Jul 15, 2019.pdf                               \\\\\n",
       "\t NA                                                                                                                                      & 2019-07-16                                                                                                                              & NA                                                                                                                                      & NA                                                                                                                                      & NA                                                                                                                                      & Presentati                                                                                                                              & Question a                                                                                                                              & C:/Users/rossz/OneDrive/CC/data/ciq-dji/002968-jpm/JPMorgan Chase  Co., Q2 2019 Earnings Call, Jul 16, 2019.pdf                        \\\\\n",
       "\t NA                                                                                                                                      & 2019-07-16                                                                                                                              & NA                                                                                                                                      & NA                                                                                                                                      & NA                                                                                                                                      & Presentati                                                                                                                              & Question a                                                                                                                              & C:/Users/rossz/OneDrive/CC/data/ciq-dji/006266-jnj/Johnson  Johnson, Q2 2019 Earnings Call, Jul 16, 2019.pdf                           \\\\\n",
       "\t NA                                                                                                                                      & 2019-07-16                                                                                                                              & NA                                                                                                                                      & NA                                                                                                                                      & NA                                                                                                                                      & Presentati                                                                                                                              & Question a                                                                                                                              & C:/Users/rossz/OneDrive/CC/data/ciq-dji/114628-gs/The Goldman Sachs Group, Inc., Q2 2019 Earnings Call, Jul 16, 2019.pdf               \\\\\n",
       "\t NA                                                                                                                                      & 2019-07-17                                                                                                                              & NA                                                                                                                                      & NA                                                                                                                                      & NA                                                                                                                                      & Presentati                                                                                                                              & Question a                                                                                                                              & C:/Users/rossz/OneDrive/CC/data/ciq-dji/006066-ibm/International Business Machines Corporation, Q2 2019 Earnings Call, Jul 17, 2019.pdf\\\\\n",
       "\t NA                                                                                                                                      & 2019-07-17                                                                                                                              & NA                                                                                                                                      & NA                                                                                                                                      & NA                                                                                                                                      & Presentati                                                                                                                              & Question a                                                                                                                              & C:/Users/rossz/OneDrive/CC/data/ciq-dji/007647-bac/Bank of America Corporation, Q2 2019 Earnings Call, Jul 17, 2019.pdf                \\\\\n",
       "\t NA                                                                                                                                      & 2019-07-18                                                                                                                              & NA                                                                                                                                      & NA                                                                                                                                      & NA                                                                                                                                      & Presentati                                                                                                                              & Question a                                                                                                                              & C:/Users/rossz/OneDrive/CC/data/ciq-dji/001300-hon/Honeywell International Inc., Q2 2019 Earnings Call, Jul 18, 2019.pdf               \\\\\n",
       "\t NA                                                                                                                                      & 2019-07-18                                                                                                                              & NA                                                                                                                                      & NA                                                                                                                                      & NA                                                                                                                                      & Presentati                                                                                                                              & Question a                                                                                                                              & C:/Users/rossz/OneDrive/CC/data/ciq-dji/010903-unh/UnitedHealth Group Incorporated, Q2 2019 Earnings Call, Jul 18, 2019.pdf            \\\\\n",
       "\t NA                                                                                                                                      & 2019-07-18                                                                                                                              & NA                                                                                                                                      & NA                                                                                                                                      & NA                                                                                                                                      & Presentati                                                                                                                              & Question a                                                                                                                              & C:/Users/rossz/OneDrive/CC/data/ciq-dji/012141-msft/Microsoft Corporation, Q4 2019 Earnings Call, Jul 18, 2019.pdf                     \\\\\n",
       "\t NA                                                                                                                                      & 2019-07-19                                                                                                                              & NA                                                                                                                                      & NA                                                                                                                                      & NA                                                                                                                                      & Presentati                                                                                                                              & Question a                                                                                                                              & C:/Users/rossz/OneDrive/CC/data/ciq-dji/001447-axp/American Express Company, Q2 2019 Earnings Call, Jul 19, 2019.pdf                   \\\\\n",
       "\t NA                                                                                                                                      & 2019-07-23                                                                                                                              & NA                                                                                                                                      & NA                                                                                                                                      & NA                                                                                                                                      & Presentati                                                                                                                              & Question a                                                                                                                              & C:/Users/rossz/OneDrive/CC/data/ciq-dji/003144-ko/The Coca-Cola Company, Q2 2019 Earnings Call, Jul 23, 2019.pdf                       \\\\\n",
       "\t NA                                                                                                                                      & 2019-07-23                                                                                                                              & NA                                                                                                                                      & NA                                                                                                                                      & NA                                                                                                                                      & Presentati                                                                                                                              & Question a                                                                                                                              & C:/Users/rossz/OneDrive/CC/data/ciq-dji/010983-utx/United Technologies Corporation, Q2 2019 Earnings Call, Jul 23, 2019.pdf            \\\\\n",
       "\t NA                                                                                                                                      & 2019-07-23                                                                                                                              & NA                                                                                                                                      & NA                                                                                                                                      & NA                                                                                                                                      & Presentati                                                                                                                              & Question a                                                                                                                              & C:/Users/rossz/OneDrive/CC/data/ciq-dji/062689-trv/The Travelers Companies, Inc., Q2 2019 Earnings Call, Jul 23, 2019.pdf              \\\\\n",
       "\t NA                                                                                                                                      & 2019-07-23                                                                                                                              & NA                                                                                                                                      & NA                                                                                                                                      & NA                                                                                                                                      & Presentati                                                                                                                              & Question a                                                                                                                              & C:/Users/rossz/OneDrive/CC/data/ciq-dji/179534-v/Visa Inc., Q3 2019 Earnings Call, Jul 23, 2019.pdf                                    \\\\\n",
       "\t NA                                                                                                                                      & 2019-07-24                                                                                                                              & NA                                                                                                                                      & NA                                                                                                                                      & NA                                                                                                                                      & Presentati                                                                                                                              & Question a                                                                                                                              & C:/Users/rossz/OneDrive/CC/data/ciq-dji/002285-ba/The Boeing Company, Q2 2019 Earnings Call, Jul 24, 2019.pdf                          \\\\\n",
       "\t NA                                                                                                                                      & 2019-07-24                                                                                                                              & NA                                                                                                                                      & NA                                                                                                                                      & NA                                                                                                                                      & Presentati                                                                                                                              & Question a                                                                                                                              & C:/Users/rossz/OneDrive/CC/data/ciq-dji/002817-cat/Caterpillar Inc., Q2 2019 Earnings Call, Jul 24, 2019.pdf                           \\\\\n",
       "\t NA                                                                                                                                      & 2019-07-24                                                                                                                              & NA                                                                                                                                      & NA                                                                                                                                      & NA                                                                                                                                      & Presentati                                                                                                                              & Question a                                                                                                                              & C:/Users/rossz/OneDrive/CC/data/ciq-dji/009899-t/ATT Inc., Q2 2019 Earnings Call, Jul 24, 2019.pdf                                     \\\\\n",
       "\t NA                                                                                                                                      & 2019-07-25                                                                                                                              & NA                                                                                                                                      & NA                                                                                                                                      & NA                                                                                                                                      & Presentati                                                                                                                              & Question a                                                                                                                              & C:/Users/rossz/OneDrive/CC/data/ciq-dji/006008-intc/Intel Corporation, Q2 2019 Earnings Call, Jul 25, 2019.pdf                         \\\\\n",
       "\t NA                                                                                                                                      & 2019-07-25                                                                                                                              & NA                                                                                                                                      & NA                                                                                                                                      & NA                                                                                                                                      & Presentati                                                                                                                              & Question a                                                                                                                              & C:/Users/rossz/OneDrive/CC/data/ciq-dji/006104-ip/International Paper Company, Q2 2019 Earnings Call, Jul 25, 2019.pdf                 \\\\\n",
       "\t NA                                                                                                                                      & 2019-07-25                                                                                                                              & NA                                                                                                                                      & NA                                                                                                                                      & NA                                                                                                                                      & Presentati                                                                                                                              & Question a                                                                                                                              & C:/Users/rossz/OneDrive/CC/data/ciq-dji/007435-mmm/3M Company, Q2 2019 Earnings Call, Jul 25, 2019.pdf                                 \\\\\n",
       "\t NA                                                                                                                                      & 2019-07-26                                                                                                                              & NA                                                                                                                                      & NA                                                                                                                                      & NA                                                                                                                                      & Presentati                                                                                                                              & Question a                                                                                                                              & C:/Users/rossz/OneDrive/CC/data/ciq-dji/005234-gt/The Goodyear Tire  Rubber Company, Q2 2019 Earnings Call, Jul 26, 2019.pdf           \\\\\n",
       "\t NA                                                                                                                                      & 2019-07-26                                                                                                                              & NA                                                                                                                                      & NA                                                                                                                                      & NA                                                                                                                                      & Presentati                                                                                                                              & Question a                                                                                                                              & C:/Users/rossz/OneDrive/CC/data/ciq-dji/007154-mcd/McDonalds Corporation, Q2 2019 Earnings Call, Jul 26, 2019.pdf                      \\\\\n",
       "\t NA                                                                                                                                      & 2019-07-29                                                                                                                              & NA                                                                                                                                      & NA                                                                                                                                      & NA                                                                                                                                      & Presentati                                                                                                                              & Question a                                                                                                                              & C:/Users/rossz/OneDrive/CC/data/ciq-dji/008530-pfe/Pfizer Inc., Q2 2019 Earnings Call, Jul 29, 2019.pdf                                \\\\\n",
       "\t NA                                                                                                                                      & 2019-07-30                                                                                                                              & NA                                                                                                                                      & NA                                                                                                                                      & NA                                                                                                                                      & Presentati                                                                                                                              & Question a                                                                                                                              & C:/Users/rossz/OneDrive/CC/data/ciq-dji/001690-appl/Apple Inc., Q3 2019 Earnings Call, Jul 30, 2019.pdf                                \\\\\n",
       "\t NA                                                                                                                                      & 2019-07-30                                                                                                                              & NA                                                                                                                                      & NA                                                                                                                                      & NA                                                                                                                                      & Presentati                                                                                                                              & Question a                                                                                                                              & C:/Users/rossz/OneDrive/CC/data/ciq-dji/007257-mrk/Merck  Co., Inc., Q2 2019 Earnings Call, Jul 30, 2019.pdf                           \\\\\n",
       "\t NA                                                                                                                                      & 2019-07-30                                                                                                                              & NA                                                                                                                                      & NA                                                                                                                                      & NA                                                                                                                                      & Presentati                                                                                                                              & Question a                                                                                                                              & C:/Users/rossz/OneDrive/CC/data/ciq-dji/008543-mo/Altria Group, Inc., Q2 2019 Earnings Call, Jul 30, 2019.pdf                          \\\\\n",
       "\t NA                                                                                                                                      & 2019-07-30                                                                                                                              & NA                                                                                                                                      & NA                                                                                                                                      & NA                                                                                                                                      & Presentati                                                                                                                              & Question a                                                                                                                              & C:/Users/rossz/OneDrive/CC/data/ciq-dji/008762-pg/The Procter  Gamble Company, Q4 2019 Earnings Call, Jul 30, 2019.pdf                 \\\\\n",
       "\t NA                                                                                                                                      & 2019-07-31                                                                                                                              & NA                                                                                                                                      & NA                                                                                                                                      & NA                                                                                                                                      & Presentati                                                                                                                              & Question a                                                                                                                              & C:/Users/rossz/OneDrive/CC/data/ciq-dji/005047-ge/General Electric Company, Q2 2019 Earnings Call, Jul 31, 2019.pdf                    \\\\\n",
       "\t NA                                                                                                                                      & 2019-08-01                                                                                                                              & NA                                                                                                                                      & NA                                                                                                                                      & NA                                                                                                                                      & Presentati                                                                                                                              & Question a                                                                                                                              & C:/Users/rossz/OneDrive/CC/data/ciq-dji/002136-vz/Verizon Communications Inc., Q2 2019 Earnings Call, Aug 01, 2019.pdf                 \\\\\n",
       "\t NA                                                                                                                                      & 2019-08-01                                                                                                                              & NA                                                                                                                                      & NA                                                                                                                                      & NA                                                                                                                                      & Presentati                                                                                                                              & Question a                                                                                                                              & C:/Users/rossz/OneDrive/CC/data/ciq-dji/004060-dd/DuPont de Nemours, Inc., Q2 2019 Earnings Call, Aug 01, 2019.pdf                     \\\\\n",
       "\t NA                                                                                                                                      & 2019-08-01                                                                                                                              & NA                                                                                                                                      & NA                                                                                                                                      & NA                                                                                                                                      & Presentati                                                                                                                              & Question a                                                                                                                              & C:/Users/rossz/OneDrive/CC/data/ciq-dji/005073-gm/General Motors Company, Q2 2019 Earnings Call, Aug 01, 2019.pdf                      \\\\\n",
       "\t NA                                                                                                                                      & 2019-08-02                                                                                                                              & NA                                                                                                                                      & NA                                                                                                                                      & NA                                                                                                                                      & Presentati                                                                                                                              & Question a                                                                                                                              & C:/Users/rossz/OneDrive/CC/data/ciq-dji/002991-cvx/Chevron Corporation, Q2 2019 Earnings Call, Aug 02, 2019.pdf                        \\\\\n",
       "\t NA                                                                                                                                      & 2019-08-02                                                                                                                              & NA                                                                                                                                      & NA                                                                                                                                      & NA                                                                                                                                      & Presentati                                                                                                                              & Question a                                                                                                                              & C:/Users/rossz/OneDrive/CC/data/ciq-dji/004503-xom/Exxon Mobil Corporation, Q2 2019 Earnings Call, Aug 02, 2019.pdf                    \\\\\n",
       "\t NA                                                                                                                                      & 2019-08-06                                                                                                                              & NA                                                                                                                                      & NA                                                                                                                                      & NA                                                                                                                                      & Presentati                                                                                                                              & Question a                                                                                                                              & C:/Users/rossz/OneDrive/CC/data/ciq-dji/003980-dis/The Walt Disney Company, Q3 2019 Earnings Call, Aug 06, 2019.pdf                    \\\\\n",
       "\t NA                                                                                                                                      & 2019-08-08                                                                                                                              & NA                                                                                                                                      & NA                                                                                                                                      & NA                                                                                                                                      & Presentati                                                                                                                              & Question a                                                                                                                              & C:/Users/rossz/OneDrive/CC/data/ciq-dji/001487-aig/American International Group, Inc., Q2 2019 Earnings Call, Aug 08, 2019.pdf         \\\\\n",
       "\t NA                                                                                                                                      & 2019-08-08                                                                                                                              & NA                                                                                                                                      & NA                                                                                                                                      & NA                                                                                                                                      & Presentati                                                                                                                              & Question a                                                                                                                              & C:/Users/rossz/OneDrive/CC/data/ciq-dji/004194-kodk/Eastman Kodak Company, Q2 2019 Earnings Call, Aug 08, 2019.pdf                     \\\\\n",
       "\t NA                                                                                                                                      & 2019-08-14                                                                                                                              & NA                                                                                                                                      & NA                                                                                                                                      & NA                                                                                                                                      & Presentati                                                                                                                              & Question a                                                                                                                              & C:/Users/rossz/OneDrive/CC/data/ciq-dji/020779-csco/Cisco Systems, Inc., Q4 2019 Earnings Call, Aug 14, 2019.pdf                       \\\\\n",
       "\t NA                                                                                                                                      & 2019-08-20                                                                                                                              & NA                                                                                                                                      & NA                                                                                                                                      & NA                                                                                                                                      & Presentati                                                                                                                              & Question a                                                                                                                              & C:/Users/rossz/OneDrive/CC/data/ciq-dji/005680-hd/The Home Depot, Inc., Q2 2020 Earnings Call, Aug 20, 2019.pdf                        \\\\\n",
       "\t NA                                                                                                                                      & 2019-08-22                                                                                                                              & NA                                                                                                                                      & NA                                                                                                                                      & NA                                                                                                                                      & Presentati                                                                                                                              & Question a                                                                                                                              & C:/Users/rossz/OneDrive/CC/data/ciq-dji/005606-hpq/HP Inc., Q3 2019 Earnings Call, Aug 22, 2019.pdf                                    \\\\\n",
       "\t NA                                                                                                                                      & 2019-09-24                                                                                                                              & NA                                                                                                                                      & NA                                                                                                                                      & NA                                                                                                                                      & Presentati                                                                                                                              & Question a                                                                                                                              & C:/Users/rossz/OneDrive/CC/data/ciq-dji/007906-nke/NIKE, Inc., Q1 2020 Earnings Call, Sep 24, 2019.pdf                                 \\\\\n",
       "\t NA                                                                                                                                      & 2019-10-15                                                                                                                              & NA                                                                                                                                      & NA                                                                                                                                      & NA                                                                                                                                      & Presentati                                                                                                                              & Question a                                                                                                                              & C:/Users/rossz/OneDrive/CC/data/ciq-dji/002968-jpm/JPMorgan Chase  Co., Q3 2019 Earnings Call, Oct 15, 2019.pdf                        \\\\\n",
       "\t NA                                                                                                                                      & 2019-10-15                                                                                                                              & NA                                                                                                                                      & NA                                                                                                                                      & NA                                                                                                                                      & Presentati                                                                                                                              & Question a                                                                                                                              & C:/Users/rossz/OneDrive/CC/data/ciq-dji/003243-c/Citigroup Inc., Q3 2019 Earnings Call, Oct 15, 2019.pdf                               \\\\\n",
       "\t NA                                                                                                                                      & 2019-10-15                                                                                                                              & NA                                                                                                                                      & NA                                                                                                                                      & NA                                                                                                                                      & Presentati                                                                                                                              & Question a                                                                                                                              & C:/Users/rossz/OneDrive/CC/data/ciq-dji/006266-jnj/Johnson  Johnson, Q3 2019 Earnings Call, Oct 15, 2019.pdf                           \\\\\n",
       "\t NA                                                                                                                                      & 2019-10-15                                                                                                                              & NA                                                                                                                                      & NA                                                                                                                                      & NA                                                                                                                                      & Presentati                                                                                                                              & Question a                                                                                                                              & C:/Users/rossz/OneDrive/CC/data/ciq-dji/010903-unh/UnitedHealth Group Incorporated, Q3 2019 Earnings Call, Oct 15, 2019.pdf            \\\\\n",
       "\t NA                                                                                                                                      & 2019-10-15                                                                                                                              & NA                                                                                                                                      & NA                                                                                                                                      & NA                                                                                                                                      & Presentati                                                                                                                              & Question a                                                                                                                              & C:/Users/rossz/OneDrive/CC/data/ciq-dji/114628-gs/The Goldman Sachs Group, Inc., Q3 2019 Earnings Call, Oct 15, 2019.pdf               \\\\\n",
       "\t NA                                                                                                                                      & 2019-10-16                                                                                                                              & NA                                                                                                                                      & NA                                                                                                                                      & NA                                                                                                                                      & Presentati                                                                                                                              & Question a                                                                                                                              & C:/Users/rossz/OneDrive/CC/data/ciq-dji/006066-ibm/International Business Machines Corporation, Q3 2019 Earnings Call, Oct 16, 2019.pdf\\\\\n",
       "\t NA                                                                                                                                      & 2019-10-16                                                                                                                              & NA                                                                                                                                      & NA                                                                                                                                      & NA                                                                                                                                      & Presentati                                                                                                                              & Question a                                                                                                                              & C:/Users/rossz/OneDrive/CC/data/ciq-dji/007647-bac/Bank of America Corporation, Q3 2019 Earnings Call, Oct 16, 2019.pdf                \\\\\n",
       "\t NA                                                                                                                                      & 2019-10-17                                                                                                                              & NA                                                                                                                                      & NA                                                                                                                                      & NA                                                                                                                                      & Presentati                                                                                                                              & Question a                                                                                                                              & C:/Users/rossz/OneDrive/CC/data/ciq-dji/001300-hon/Honeywell International Inc., Q3 2019 Earnings Call, Oct 17, 2019.pdf               \\\\\n",
       "\t NA                                                                                                                                      & 2019-10-18                                                                                                                              & NA                                                                                                                                      & NA                                                                                                                                      & NA                                                                                                                                      & Presentati                                                                                                                              & Question a                                                                                                                              & C:/Users/rossz/OneDrive/CC/data/ciq-dji/001447-axp/American Express Company, Q3 2019 Earnings Call, Oct 18, 2019.pdf                   \\\\\n",
       "\t NA                                                                                                                                      & 2019-10-18                                                                                                                              & NA                                                                                                                                      & NA                                                                                                                                      & NA                                                                                                                                      & Presentati                                                                                                                              & Question a                                                                                                                              & C:/Users/rossz/OneDrive/CC/data/ciq-dji/003144-ko/The Coca-Cola Company, Q3 2019 Earnings Call, Oct 18, 2019.pdf                       \\\\\n",
       "\t NA                                                                                                                                      & 2019-10-22                                                                                                                              & NA                                                                                                                                      & NA                                                                                                                                      & NA                                                                                                                                      & Presentati                                                                                                                              & Question a                                                                                                                              & C:/Users/rossz/OneDrive/CC/data/ciq-dji/007154-mcd/McDonalds Corporation, Q3 2019 Earnings Call, Oct 22, 2019.pdf                      \\\\\n",
       "\t NA                                                                                                                                      & 2019-10-22                                                                                                                              & NA                                                                                                                                      & NA                                                                                                                                      & NA                                                                                                                                      & Presentati                                                                                                                              & Question a                                                                                                                              & C:/Users/rossz/OneDrive/CC/data/ciq-dji/008762-pg/The Procter  Gamble Company, Q1 2020 Earnings Call, Oct 22, 2019.pdf                 \\\\\n",
       "\t NA                                                                                                                                      & 2019-10-22                                                                                                                              & NA                                                                                                                                      & NA                                                                                                                                      & NA                                                                                                                                      & Presentati                                                                                                                              & Question a                                                                                                                              & C:/Users/rossz/OneDrive/CC/data/ciq-dji/010983-utx/United Technologies Corporation, Q3 2019 Earnings Call, Oct 22, 2019.pdf            \\\\\n",
       "\t NA                                                                                                                                      & 2019-10-22                                                                                                                              & NA                                                                                                                                      & NA                                                                                                                                      & NA                                                                                                                                      & Presentati                                                                                                                              & Question a                                                                                                                              & C:/Users/rossz/OneDrive/CC/data/ciq-dji/062689-trv/The Travelers Companies, Inc., Q3 2019 Earnings Call, Oct 22, 2019.pdf              \\\\\n",
       "\t NA                                                                                                                                      & 2019-10-23                                                                                                                              & NA                                                                                                                                      & NA                                                                                                                                      & NA                                                                                                                                      & Presentati                                                                                                                              & Question a                                                                                                                              & C:/Users/rossz/OneDrive/CC/data/ciq-dji/002285-ba/The Boeing Company, Q3 2019 Earnings Call, Oct 23, 2019.pdf                          \\\\\n",
       "\t NA                                                                                                                                      & 2019-10-23                                                                                                                              & NA                                                                                                                                      & NA                                                                                                                                      & NA                                                                                                                                      & Presentati                                                                                                                              & Question a                                                                                                                              & C:/Users/rossz/OneDrive/CC/data/ciq-dji/002817-cat/Caterpillar Inc., Q3 2019 Earnings Call, Oct 23, 2019.pdf                           \\\\\n",
       "\t NA                                                                                                                                      & 2019-10-23                                                                                                                              & NA                                                                                                                                      & NA                                                                                                                                      & NA                                                                                                                                      & Presentati                                                                                                                              & Question a                                                                                                                              & C:/Users/rossz/OneDrive/CC/data/ciq-dji/012141-msft/Microsoft Corporation, Q1 2020 Earnings Call, Oct 23, 2019.pdf                     \\\\\n",
       "\t NA                                                                                                                                      & 2019-10-24                                                                                                                              & NA                                                                                                                                      & NA                                                                                                                                      & NA                                                                                                                                      & Presentati                                                                                                                              & Question a                                                                                                                              & C:/Users/rossz/OneDrive/CC/data/ciq-dji/006008-intc/Intel Corporation, Q3 2019 Earnings Call, Oct 24, 2019.pdf                         \\\\\n",
       "\t NA                                                                                                                                      & 2019-10-24                                                                                                                              & NA                                                                                                                                      & NA                                                                                                                                      & NA                                                                                                                                      & Presentati                                                                                                                              & Question a                                                                                                                              & C:/Users/rossz/OneDrive/CC/data/ciq-dji/007435-mmm/3M Company, Q3 2019 Earnings Call, Oct 24, 2019.pdf                                 \\\\\n",
       "\t NA                                                                                                                                      & 2019-10-24                                                                                                                              & NA                                                                                                                                      & NA                                                                                                                                      & NA                                                                                                                                      & Presentati                                                                                                                              & Question a                                                                                                                              & C:/Users/rossz/OneDrive/CC/data/ciq-dji/179534-v/Visa Inc., Q4 2019 Earnings Call, Oct 24, 2019.pdf                                    \\\\\n",
       "\t NA                                                                                                                                      & 2019-10-25                                                                                                                              & NA                                                                                                                                      & NA                                                                                                                                      & NA                                                                                                                                      & Presentati                                                                                                                              & Question a                                                                                                                              & C:/Users/rossz/OneDrive/CC/data/ciq-dji/002136-vz/Verizon Communications Inc., Q3 2019 Earnings Call, Oct 25, 2019.pdf                 \\\\\n",
       "\t NA                                                                                                                                      & 2019-10-25                                                                                                                              & NA                                                                                                                                      & NA                                                                                                                                      & NA                                                                                                                                      & Presentati                                                                                                                              & Question a                                                                                                                              & C:/Users/rossz/OneDrive/CC/data/ciq-dji/005234-gt/The Goodyear Tire  Rubber Company, Q3 2019 Earnings Call, Oct 25, 2019.pdf           \\\\\n",
       "\t NA                                                                                                                                      & 2019-10-28                                                                                                                              & NA                                                                                                                                      & NA                                                                                                                                      & NA                                                                                                                                      & Presentati                                                                                                                              & Question a                                                                                                                              & C:/Users/rossz/OneDrive/CC/data/ciq-dji/009899-t/ATT Inc., Q3 2019 Earnings Call, Oct 28, 2019.pdf                                     \\\\\n",
       "\t NA                                                                                                                                      & 2019-10-28                                                                                                                              & NA                                                                                                                                      & NA                                                                                                                                      & NA                                                                                                                                      & Presentati                                                                                                                              & Question a                                                                                                                              & C:/Users/rossz/OneDrive/CC/data/ciq-dji/011264-wba/Walgreens Boots Alliance, Inc., Q4 2019 Earnings Call, Oct 28, 2019.pdf             \\\\\n",
       "\t NA                                                                                                                                      & 2019-10-29                                                                                                                              & NA                                                                                                                                      & NA                                                                                                                                      & NA                                                                                                                                      & Presentati                                                                                                                              & Question a                                                                                                                              & C:/Users/rossz/OneDrive/CC/data/ciq-dji/005073-gm/General Motors Company, Q3 2019 Earnings Call, Oct 29, 2019.pdf                      \\\\\n",
       "\t NA                                                                                                                                      & 2019-10-29                                                                                                                              & NA                                                                                                                                      & NA                                                                                                                                      & NA                                                                                                                                      & Presentati                                                                                                                              & Question a                                                                                                                              & C:/Users/rossz/OneDrive/CC/data/ciq-dji/007257-mrk/Merck  Co., Inc., Q3 2019 Earnings Call, Oct 29, 2019.pdf                           \\\\\n",
       "\t NA                                                                                                                                      & 2019-10-29                                                                                                                              & NA                                                                                                                                      & NA                                                                                                                                      & NA                                                                                                                                      & Presentati                                                                                                                              & Question a                                                                                                                              & C:/Users/rossz/OneDrive/CC/data/ciq-dji/008530-pfe/Pfizer Inc., Q3 2019 Earnings Call, Oct 29, 2019.pdf                                \\\\\n",
       "\t NA                                                                                                                                      & 2019-10-30                                                                                                                              & NA                                                                                                                                      & NA                                                                                                                                      & NA                                                                                                                                      & Presentati                                                                                                                              & Question a                                                                                                                              & C:/Users/rossz/OneDrive/CC/data/ciq-dji/001690-appl/Apple Inc., Q4 2019 Earnings Call, Oct 30, 2019.pdf                                \\\\\n",
       "\t NA                                                                                                                                      & 2019-10-30                                                                                                                              & NA                                                                                                                                      & NA                                                                                                                                      & NA                                                                                                                                      & Presentati                                                                                                                              & Question a                                                                                                                              & C:/Users/rossz/OneDrive/CC/data/ciq-dji/005047-ge/General Electric Company, Q3 2019 Earnings Call, Oct 30, 2019.pdf                    \\\\\n",
       "\t NA                                                                                                                                      & 2019-10-31                                                                                                                              & NA                                                                                                                                      & NA                                                                                                                                      & NA                                                                                                                                      & Presentati                                                                                                                              & Question a                                                                                                                              & C:/Users/rossz/OneDrive/CC/data/ciq-dji/004060-dd/DuPont de Nemours, Inc., Q3 2019 Earnings Call, Oct 31, 2019.pdf                     \\\\\n",
       "\t NA                                                                                                                                      & 2019-10-31                                                                                                                              & NA                                                                                                                                      & NA                                                                                                                                      & NA                                                                                                                                      & Presentati                                                                                                                              & Question a                                                                                                                              & C:/Users/rossz/OneDrive/CC/data/ciq-dji/006104-ip/International Paper Company, Q3 2019 Earnings Call, Oct 31, 2019.pdf                 \\\\\n",
       "\t NA                                                                                                                                      & 2019-10-31                                                                                                                              & NA                                                                                                                                      & NA                                                                                                                                      & NA                                                                                                                                      & Presentati                                                                                                                              & Question a                                                                                                                              & C:/Users/rossz/OneDrive/CC/data/ciq-dji/008543-mo/Altria Group, Inc., Q3 2019 Earnings Call, Oct 31, 2019.pdf                          \\\\\n",
       "\t NA                                                                                                                                      & 2019-11-01                                                                                                                              & NA                                                                                                                                      & NA                                                                                                                                      & NA                                                                                                                                      & Presentati                                                                                                                              & Question a                                                                                                                              & C:/Users/rossz/OneDrive/CC/data/ciq-dji/001487-aig/American International Group, Inc., Q3 2019 Earnings Call, Nov 01, 2019.pdf         \\\\\n",
       "\t NA                                                                                                                                      & 2019-11-01                                                                                                                              & NA                                                                                                                                      & NA                                                                                                                                      & NA                                                                                                                                      & Presentati                                                                                                                              & Question a                                                                                                                              & C:/Users/rossz/OneDrive/CC/data/ciq-dji/002991-cvx/Chevron Corporation, Q3 2019 Earnings Call, Nov 01, 2019.pdf                        \\\\\n",
       "\t NA                                                                                                                                      & 2019-11-01                                                                                                                              & NA                                                                                                                                      & NA                                                                                                                                      & NA                                                                                                                                      & Presentati                                                                                                                              & Question a                                                                                                                              & C:/Users/rossz/OneDrive/CC/data/ciq-dji/004503-xom/Exxon Mobil Corporation, Q3 2019 Earnings Call, Nov 01, 2019.pdf                    \\\\\n",
       "\t NA                                                                                                                                      & 2019-11-07                                                                                                                              & NA                                                                                                                                      & NA                                                                                                                                      & NA                                                                                                                                      & Presentati                                                                                                                              & Question a                                                                                                                              & C:/Users/rossz/OneDrive/CC/data/ciq-dji/003980-dis/The Walt Disney Company, Q4 2019 Earnings Call, Nov 07, 2019.pdf                    \\\\\n",
       "\t NA                                                                                                                                      & 2019-11-07                                                                                                                              & NA                                                                                                                                      & NA                                                                                                                                      & NA                                                                                                                                      & Presentati                                                                                                                              & NA                                                                                                                                      & C:/Users/rossz/OneDrive/CC/data/ciq-dji/004194-kodk/Eastman Kodak Company, Q3 2019 Earnings Call, Nov 07, 2019.pdf                     \\\\\n",
       "\t NA                                                                                                                                      & 2019-11-13                                                                                                                              & NA                                                                                                                                      & NA                                                                                                                                      & NA                                                                                                                                      & Presentati                                                                                                                              & Question a                                                                                                                              & C:/Users/rossz/OneDrive/CC/data/ciq-dji/020779-csco/Cisco Systems, Inc., Q1 2020 Earnings Call, Nov 13, 2019.pdf                       \\\\\n",
       "\\end{tabular}\n"
      ],
      "text/markdown": [
       "\n",
       "| gvkey | headline_date | mid_utc | headline | keydevid | md | qa | cc_path |\n",
       "|---|---|---|---|---|---|---|---|\n",
       "| NA                                                                                                                                      | 2010-08-12                                                                                                                              | NA                                                                                                                                      | NA                                                                                                                                      | NA                                                                                                                                      | Presentati                                                                                                                              | Question a                                                                                                                              | C:/Users/rossz/OneDrive/CC/data/ciq-dji/005073-gm/General Motors Company, Q2 2010 Earnings Call, Aug-12-2010.pdf                        |\n",
       "| NA                                                                                                                                      | 2010-11-10                                                                                                                              | NA                                                                                                                                      | NA                                                                                                                                      | NA                                                                                                                                      | Presentati                                                                                                                              | NA                                                                                                                                      | C:/Users/rossz/OneDrive/CC/data/ciq-dji/005073-gm/General Motors Company, Q3 2010 Earnings Call, Nov 10, 2010.pdf                       |\n",
       "| NA                                                                                                                                      | 2019-06-27                                                                                                                              | NA                                                                                                                                      | NA                                                                                                                                      | NA                                                                                                                                      | Presentati                                                                                                                              | Question a                                                                                                                              | C:/Users/rossz/OneDrive/CC/data/ciq-dji/007906-nke/NIKE, Inc., Q4 2019 Earnings Call, Jun 27, 2019.pdf                                  |\n",
       "| NA                                                                                                                                      | 2019-06-27                                                                                                                              | NA                                                                                                                                      | NA                                                                                                                                      | NA                                                                                                                                      | Presentati                                                                                                                              | Question a                                                                                                                              | C:/Users/rossz/OneDrive/CC/data/ciq-dji/011264-wba/Walgreens Boots Alliance, Inc., Q3 2019 Earnings Call, Jun 27, 2019.pdf              |\n",
       "| NA                                                                                                                                      | 2019-07-15                                                                                                                              | NA                                                                                                                                      | NA                                                                                                                                      | NA                                                                                                                                      | Presentati                                                                                                                              | Question a                                                                                                                              | C:/Users/rossz/OneDrive/CC/data/ciq-dji/003243-c/Citigroup Inc., Q2 2019 Earnings Call, Jul 15, 2019.pdf                                |\n",
       "| NA                                                                                                                                      | 2019-07-16                                                                                                                              | NA                                                                                                                                      | NA                                                                                                                                      | NA                                                                                                                                      | Presentati                                                                                                                              | Question a                                                                                                                              | C:/Users/rossz/OneDrive/CC/data/ciq-dji/002968-jpm/JPMorgan Chase  Co., Q2 2019 Earnings Call, Jul 16, 2019.pdf                         |\n",
       "| NA                                                                                                                                      | 2019-07-16                                                                                                                              | NA                                                                                                                                      | NA                                                                                                                                      | NA                                                                                                                                      | Presentati                                                                                                                              | Question a                                                                                                                              | C:/Users/rossz/OneDrive/CC/data/ciq-dji/006266-jnj/Johnson  Johnson, Q2 2019 Earnings Call, Jul 16, 2019.pdf                            |\n",
       "| NA                                                                                                                                      | 2019-07-16                                                                                                                              | NA                                                                                                                                      | NA                                                                                                                                      | NA                                                                                                                                      | Presentati                                                                                                                              | Question a                                                                                                                              | C:/Users/rossz/OneDrive/CC/data/ciq-dji/114628-gs/The Goldman Sachs Group, Inc., Q2 2019 Earnings Call, Jul 16, 2019.pdf                |\n",
       "| NA                                                                                                                                      | 2019-07-17                                                                                                                              | NA                                                                                                                                      | NA                                                                                                                                      | NA                                                                                                                                      | Presentati                                                                                                                              | Question a                                                                                                                              | C:/Users/rossz/OneDrive/CC/data/ciq-dji/006066-ibm/International Business Machines Corporation, Q2 2019 Earnings Call, Jul 17, 2019.pdf |\n",
       "| NA                                                                                                                                      | 2019-07-17                                                                                                                              | NA                                                                                                                                      | NA                                                                                                                                      | NA                                                                                                                                      | Presentati                                                                                                                              | Question a                                                                                                                              | C:/Users/rossz/OneDrive/CC/data/ciq-dji/007647-bac/Bank of America Corporation, Q2 2019 Earnings Call, Jul 17, 2019.pdf                 |\n",
       "| NA                                                                                                                                      | 2019-07-18                                                                                                                              | NA                                                                                                                                      | NA                                                                                                                                      | NA                                                                                                                                      | Presentati                                                                                                                              | Question a                                                                                                                              | C:/Users/rossz/OneDrive/CC/data/ciq-dji/001300-hon/Honeywell International Inc., Q2 2019 Earnings Call, Jul 18, 2019.pdf                |\n",
       "| NA                                                                                                                                      | 2019-07-18                                                                                                                              | NA                                                                                                                                      | NA                                                                                                                                      | NA                                                                                                                                      | Presentati                                                                                                                              | Question a                                                                                                                              | C:/Users/rossz/OneDrive/CC/data/ciq-dji/010903-unh/UnitedHealth Group Incorporated, Q2 2019 Earnings Call, Jul 18, 2019.pdf             |\n",
       "| NA                                                                                                                                      | 2019-07-18                                                                                                                              | NA                                                                                                                                      | NA                                                                                                                                      | NA                                                                                                                                      | Presentati                                                                                                                              | Question a                                                                                                                              | C:/Users/rossz/OneDrive/CC/data/ciq-dji/012141-msft/Microsoft Corporation, Q4 2019 Earnings Call, Jul 18, 2019.pdf                      |\n",
       "| NA                                                                                                                                      | 2019-07-19                                                                                                                              | NA                                                                                                                                      | NA                                                                                                                                      | NA                                                                                                                                      | Presentati                                                                                                                              | Question a                                                                                                                              | C:/Users/rossz/OneDrive/CC/data/ciq-dji/001447-axp/American Express Company, Q2 2019 Earnings Call, Jul 19, 2019.pdf                    |\n",
       "| NA                                                                                                                                      | 2019-07-23                                                                                                                              | NA                                                                                                                                      | NA                                                                                                                                      | NA                                                                                                                                      | Presentati                                                                                                                              | Question a                                                                                                                              | C:/Users/rossz/OneDrive/CC/data/ciq-dji/003144-ko/The Coca-Cola Company, Q2 2019 Earnings Call, Jul 23, 2019.pdf                        |\n",
       "| NA                                                                                                                                      | 2019-07-23                                                                                                                              | NA                                                                                                                                      | NA                                                                                                                                      | NA                                                                                                                                      | Presentati                                                                                                                              | Question a                                                                                                                              | C:/Users/rossz/OneDrive/CC/data/ciq-dji/010983-utx/United Technologies Corporation, Q2 2019 Earnings Call, Jul 23, 2019.pdf             |\n",
       "| NA                                                                                                                                      | 2019-07-23                                                                                                                              | NA                                                                                                                                      | NA                                                                                                                                      | NA                                                                                                                                      | Presentati                                                                                                                              | Question a                                                                                                                              | C:/Users/rossz/OneDrive/CC/data/ciq-dji/062689-trv/The Travelers Companies, Inc., Q2 2019 Earnings Call, Jul 23, 2019.pdf               |\n",
       "| NA                                                                                                                                      | 2019-07-23                                                                                                                              | NA                                                                                                                                      | NA                                                                                                                                      | NA                                                                                                                                      | Presentati                                                                                                                              | Question a                                                                                                                              | C:/Users/rossz/OneDrive/CC/data/ciq-dji/179534-v/Visa Inc., Q3 2019 Earnings Call, Jul 23, 2019.pdf                                     |\n",
       "| NA                                                                                                                                      | 2019-07-24                                                                                                                              | NA                                                                                                                                      | NA                                                                                                                                      | NA                                                                                                                                      | Presentati                                                                                                                              | Question a                                                                                                                              | C:/Users/rossz/OneDrive/CC/data/ciq-dji/002285-ba/The Boeing Company, Q2 2019 Earnings Call, Jul 24, 2019.pdf                           |\n",
       "| NA                                                                                                                                      | 2019-07-24                                                                                                                              | NA                                                                                                                                      | NA                                                                                                                                      | NA                                                                                                                                      | Presentati                                                                                                                              | Question a                                                                                                                              | C:/Users/rossz/OneDrive/CC/data/ciq-dji/002817-cat/Caterpillar Inc., Q2 2019 Earnings Call, Jul 24, 2019.pdf                            |\n",
       "| NA                                                                                                                                      | 2019-07-24                                                                                                                              | NA                                                                                                                                      | NA                                                                                                                                      | NA                                                                                                                                      | Presentati                                                                                                                              | Question a                                                                                                                              | C:/Users/rossz/OneDrive/CC/data/ciq-dji/009899-t/ATT Inc., Q2 2019 Earnings Call, Jul 24, 2019.pdf                                      |\n",
       "| NA                                                                                                                                      | 2019-07-25                                                                                                                              | NA                                                                                                                                      | NA                                                                                                                                      | NA                                                                                                                                      | Presentati                                                                                                                              | Question a                                                                                                                              | C:/Users/rossz/OneDrive/CC/data/ciq-dji/006008-intc/Intel Corporation, Q2 2019 Earnings Call, Jul 25, 2019.pdf                          |\n",
       "| NA                                                                                                                                      | 2019-07-25                                                                                                                              | NA                                                                                                                                      | NA                                                                                                                                      | NA                                                                                                                                      | Presentati                                                                                                                              | Question a                                                                                                                              | C:/Users/rossz/OneDrive/CC/data/ciq-dji/006104-ip/International Paper Company, Q2 2019 Earnings Call, Jul 25, 2019.pdf                  |\n",
       "| NA                                                                                                                                      | 2019-07-25                                                                                                                              | NA                                                                                                                                      | NA                                                                                                                                      | NA                                                                                                                                      | Presentati                                                                                                                              | Question a                                                                                                                              | C:/Users/rossz/OneDrive/CC/data/ciq-dji/007435-mmm/3M Company, Q2 2019 Earnings Call, Jul 25, 2019.pdf                                  |\n",
       "| NA                                                                                                                                      | 2019-07-26                                                                                                                              | NA                                                                                                                                      | NA                                                                                                                                      | NA                                                                                                                                      | Presentati                                                                                                                              | Question a                                                                                                                              | C:/Users/rossz/OneDrive/CC/data/ciq-dji/005234-gt/The Goodyear Tire  Rubber Company, Q2 2019 Earnings Call, Jul 26, 2019.pdf            |\n",
       "| NA                                                                                                                                      | 2019-07-26                                                                                                                              | NA                                                                                                                                      | NA                                                                                                                                      | NA                                                                                                                                      | Presentati                                                                                                                              | Question a                                                                                                                              | C:/Users/rossz/OneDrive/CC/data/ciq-dji/007154-mcd/McDonalds Corporation, Q2 2019 Earnings Call, Jul 26, 2019.pdf                       |\n",
       "| NA                                                                                                                                      | 2019-07-29                                                                                                                              | NA                                                                                                                                      | NA                                                                                                                                      | NA                                                                                                                                      | Presentati                                                                                                                              | Question a                                                                                                                              | C:/Users/rossz/OneDrive/CC/data/ciq-dji/008530-pfe/Pfizer Inc., Q2 2019 Earnings Call, Jul 29, 2019.pdf                                 |\n",
       "| NA                                                                                                                                      | 2019-07-30                                                                                                                              | NA                                                                                                                                      | NA                                                                                                                                      | NA                                                                                                                                      | Presentati                                                                                                                              | Question a                                                                                                                              | C:/Users/rossz/OneDrive/CC/data/ciq-dji/001690-appl/Apple Inc., Q3 2019 Earnings Call, Jul 30, 2019.pdf                                 |\n",
       "| NA                                                                                                                                      | 2019-07-30                                                                                                                              | NA                                                                                                                                      | NA                                                                                                                                      | NA                                                                                                                                      | Presentati                                                                                                                              | Question a                                                                                                                              | C:/Users/rossz/OneDrive/CC/data/ciq-dji/007257-mrk/Merck  Co., Inc., Q2 2019 Earnings Call, Jul 30, 2019.pdf                            |\n",
       "| NA                                                                                                                                      | 2019-07-30                                                                                                                              | NA                                                                                                                                      | NA                                                                                                                                      | NA                                                                                                                                      | Presentati                                                                                                                              | Question a                                                                                                                              | C:/Users/rossz/OneDrive/CC/data/ciq-dji/008543-mo/Altria Group, Inc., Q2 2019 Earnings Call, Jul 30, 2019.pdf                           |\n",
       "| NA                                                                                                                                      | 2019-07-30                                                                                                                              | NA                                                                                                                                      | NA                                                                                                                                      | NA                                                                                                                                      | Presentati                                                                                                                              | Question a                                                                                                                              | C:/Users/rossz/OneDrive/CC/data/ciq-dji/008762-pg/The Procter  Gamble Company, Q4 2019 Earnings Call, Jul 30, 2019.pdf                  |\n",
       "| NA                                                                                                                                      | 2019-07-31                                                                                                                              | NA                                                                                                                                      | NA                                                                                                                                      | NA                                                                                                                                      | Presentati                                                                                                                              | Question a                                                                                                                              | C:/Users/rossz/OneDrive/CC/data/ciq-dji/005047-ge/General Electric Company, Q2 2019 Earnings Call, Jul 31, 2019.pdf                     |\n",
       "| NA                                                                                                                                      | 2019-08-01                                                                                                                              | NA                                                                                                                                      | NA                                                                                                                                      | NA                                                                                                                                      | Presentati                                                                                                                              | Question a                                                                                                                              | C:/Users/rossz/OneDrive/CC/data/ciq-dji/002136-vz/Verizon Communications Inc., Q2 2019 Earnings Call, Aug 01, 2019.pdf                  |\n",
       "| NA                                                                                                                                      | 2019-08-01                                                                                                                              | NA                                                                                                                                      | NA                                                                                                                                      | NA                                                                                                                                      | Presentati                                                                                                                              | Question a                                                                                                                              | C:/Users/rossz/OneDrive/CC/data/ciq-dji/004060-dd/DuPont de Nemours, Inc., Q2 2019 Earnings Call, Aug 01, 2019.pdf                      |\n",
       "| NA                                                                                                                                      | 2019-08-01                                                                                                                              | NA                                                                                                                                      | NA                                                                                                                                      | NA                                                                                                                                      | Presentati                                                                                                                              | Question a                                                                                                                              | C:/Users/rossz/OneDrive/CC/data/ciq-dji/005073-gm/General Motors Company, Q2 2019 Earnings Call, Aug 01, 2019.pdf                       |\n",
       "| NA                                                                                                                                      | 2019-08-02                                                                                                                              | NA                                                                                                                                      | NA                                                                                                                                      | NA                                                                                                                                      | Presentati                                                                                                                              | Question a                                                                                                                              | C:/Users/rossz/OneDrive/CC/data/ciq-dji/002991-cvx/Chevron Corporation, Q2 2019 Earnings Call, Aug 02, 2019.pdf                         |\n",
       "| NA                                                                                                                                      | 2019-08-02                                                                                                                              | NA                                                                                                                                      | NA                                                                                                                                      | NA                                                                                                                                      | Presentati                                                                                                                              | Question a                                                                                                                              | C:/Users/rossz/OneDrive/CC/data/ciq-dji/004503-xom/Exxon Mobil Corporation, Q2 2019 Earnings Call, Aug 02, 2019.pdf                     |\n",
       "| NA                                                                                                                                      | 2019-08-06                                                                                                                              | NA                                                                                                                                      | NA                                                                                                                                      | NA                                                                                                                                      | Presentati                                                                                                                              | Question a                                                                                                                              | C:/Users/rossz/OneDrive/CC/data/ciq-dji/003980-dis/The Walt Disney Company, Q3 2019 Earnings Call, Aug 06, 2019.pdf                     |\n",
       "| NA                                                                                                                                      | 2019-08-08                                                                                                                              | NA                                                                                                                                      | NA                                                                                                                                      | NA                                                                                                                                      | Presentati                                                                                                                              | Question a                                                                                                                              | C:/Users/rossz/OneDrive/CC/data/ciq-dji/001487-aig/American International Group, Inc., Q2 2019 Earnings Call, Aug 08, 2019.pdf          |\n",
       "| NA                                                                                                                                      | 2019-08-08                                                                                                                              | NA                                                                                                                                      | NA                                                                                                                                      | NA                                                                                                                                      | Presentati                                                                                                                              | Question a                                                                                                                              | C:/Users/rossz/OneDrive/CC/data/ciq-dji/004194-kodk/Eastman Kodak Company, Q2 2019 Earnings Call, Aug 08, 2019.pdf                      |\n",
       "| NA                                                                                                                                      | 2019-08-14                                                                                                                              | NA                                                                                                                                      | NA                                                                                                                                      | NA                                                                                                                                      | Presentati                                                                                                                              | Question a                                                                                                                              | C:/Users/rossz/OneDrive/CC/data/ciq-dji/020779-csco/Cisco Systems, Inc., Q4 2019 Earnings Call, Aug 14, 2019.pdf                        |\n",
       "| NA                                                                                                                                      | 2019-08-20                                                                                                                              | NA                                                                                                                                      | NA                                                                                                                                      | NA                                                                                                                                      | Presentati                                                                                                                              | Question a                                                                                                                              | C:/Users/rossz/OneDrive/CC/data/ciq-dji/005680-hd/The Home Depot, Inc., Q2 2020 Earnings Call, Aug 20, 2019.pdf                         |\n",
       "| NA                                                                                                                                      | 2019-08-22                                                                                                                              | NA                                                                                                                                      | NA                                                                                                                                      | NA                                                                                                                                      | Presentati                                                                                                                              | Question a                                                                                                                              | C:/Users/rossz/OneDrive/CC/data/ciq-dji/005606-hpq/HP Inc., Q3 2019 Earnings Call, Aug 22, 2019.pdf                                     |\n",
       "| NA                                                                                                                                      | 2019-09-24                                                                                                                              | NA                                                                                                                                      | NA                                                                                                                                      | NA                                                                                                                                      | Presentati                                                                                                                              | Question a                                                                                                                              | C:/Users/rossz/OneDrive/CC/data/ciq-dji/007906-nke/NIKE, Inc., Q1 2020 Earnings Call, Sep 24, 2019.pdf                                  |\n",
       "| NA                                                                                                                                      | 2019-10-15                                                                                                                              | NA                                                                                                                                      | NA                                                                                                                                      | NA                                                                                                                                      | Presentati                                                                                                                              | Question a                                                                                                                              | C:/Users/rossz/OneDrive/CC/data/ciq-dji/002968-jpm/JPMorgan Chase  Co., Q3 2019 Earnings Call, Oct 15, 2019.pdf                         |\n",
       "| NA                                                                                                                                      | 2019-10-15                                                                                                                              | NA                                                                                                                                      | NA                                                                                                                                      | NA                                                                                                                                      | Presentati                                                                                                                              | Question a                                                                                                                              | C:/Users/rossz/OneDrive/CC/data/ciq-dji/003243-c/Citigroup Inc., Q3 2019 Earnings Call, Oct 15, 2019.pdf                                |\n",
       "| NA                                                                                                                                      | 2019-10-15                                                                                                                              | NA                                                                                                                                      | NA                                                                                                                                      | NA                                                                                                                                      | Presentati                                                                                                                              | Question a                                                                                                                              | C:/Users/rossz/OneDrive/CC/data/ciq-dji/006266-jnj/Johnson  Johnson, Q3 2019 Earnings Call, Oct 15, 2019.pdf                            |\n",
       "| NA                                                                                                                                      | 2019-10-15                                                                                                                              | NA                                                                                                                                      | NA                                                                                                                                      | NA                                                                                                                                      | Presentati                                                                                                                              | Question a                                                                                                                              | C:/Users/rossz/OneDrive/CC/data/ciq-dji/010903-unh/UnitedHealth Group Incorporated, Q3 2019 Earnings Call, Oct 15, 2019.pdf             |\n",
       "| NA                                                                                                                                      | 2019-10-15                                                                                                                              | NA                                                                                                                                      | NA                                                                                                                                      | NA                                                                                                                                      | Presentati                                                                                                                              | Question a                                                                                                                              | C:/Users/rossz/OneDrive/CC/data/ciq-dji/114628-gs/The Goldman Sachs Group, Inc., Q3 2019 Earnings Call, Oct 15, 2019.pdf                |\n",
       "| NA                                                                                                                                      | 2019-10-16                                                                                                                              | NA                                                                                                                                      | NA                                                                                                                                      | NA                                                                                                                                      | Presentati                                                                                                                              | Question a                                                                                                                              | C:/Users/rossz/OneDrive/CC/data/ciq-dji/006066-ibm/International Business Machines Corporation, Q3 2019 Earnings Call, Oct 16, 2019.pdf |\n",
       "| NA                                                                                                                                      | 2019-10-16                                                                                                                              | NA                                                                                                                                      | NA                                                                                                                                      | NA                                                                                                                                      | Presentati                                                                                                                              | Question a                                                                                                                              | C:/Users/rossz/OneDrive/CC/data/ciq-dji/007647-bac/Bank of America Corporation, Q3 2019 Earnings Call, Oct 16, 2019.pdf                 |\n",
       "| NA                                                                                                                                      | 2019-10-17                                                                                                                              | NA                                                                                                                                      | NA                                                                                                                                      | NA                                                                                                                                      | Presentati                                                                                                                              | Question a                                                                                                                              | C:/Users/rossz/OneDrive/CC/data/ciq-dji/001300-hon/Honeywell International Inc., Q3 2019 Earnings Call, Oct 17, 2019.pdf                |\n",
       "| NA                                                                                                                                      | 2019-10-18                                                                                                                              | NA                                                                                                                                      | NA                                                                                                                                      | NA                                                                                                                                      | Presentati                                                                                                                              | Question a                                                                                                                              | C:/Users/rossz/OneDrive/CC/data/ciq-dji/001447-axp/American Express Company, Q3 2019 Earnings Call, Oct 18, 2019.pdf                    |\n",
       "| NA                                                                                                                                      | 2019-10-18                                                                                                                              | NA                                                                                                                                      | NA                                                                                                                                      | NA                                                                                                                                      | Presentati                                                                                                                              | Question a                                                                                                                              | C:/Users/rossz/OneDrive/CC/data/ciq-dji/003144-ko/The Coca-Cola Company, Q3 2019 Earnings Call, Oct 18, 2019.pdf                        |\n",
       "| NA                                                                                                                                      | 2019-10-22                                                                                                                              | NA                                                                                                                                      | NA                                                                                                                                      | NA                                                                                                                                      | Presentati                                                                                                                              | Question a                                                                                                                              | C:/Users/rossz/OneDrive/CC/data/ciq-dji/007154-mcd/McDonalds Corporation, Q3 2019 Earnings Call, Oct 22, 2019.pdf                       |\n",
       "| NA                                                                                                                                      | 2019-10-22                                                                                                                              | NA                                                                                                                                      | NA                                                                                                                                      | NA                                                                                                                                      | Presentati                                                                                                                              | Question a                                                                                                                              | C:/Users/rossz/OneDrive/CC/data/ciq-dji/008762-pg/The Procter  Gamble Company, Q1 2020 Earnings Call, Oct 22, 2019.pdf                  |\n",
       "| NA                                                                                                                                      | 2019-10-22                                                                                                                              | NA                                                                                                                                      | NA                                                                                                                                      | NA                                                                                                                                      | Presentati                                                                                                                              | Question a                                                                                                                              | C:/Users/rossz/OneDrive/CC/data/ciq-dji/010983-utx/United Technologies Corporation, Q3 2019 Earnings Call, Oct 22, 2019.pdf             |\n",
       "| NA                                                                                                                                      | 2019-10-22                                                                                                                              | NA                                                                                                                                      | NA                                                                                                                                      | NA                                                                                                                                      | Presentati                                                                                                                              | Question a                                                                                                                              | C:/Users/rossz/OneDrive/CC/data/ciq-dji/062689-trv/The Travelers Companies, Inc., Q3 2019 Earnings Call, Oct 22, 2019.pdf               |\n",
       "| NA                                                                                                                                      | 2019-10-23                                                                                                                              | NA                                                                                                                                      | NA                                                                                                                                      | NA                                                                                                                                      | Presentati                                                                                                                              | Question a                                                                                                                              | C:/Users/rossz/OneDrive/CC/data/ciq-dji/002285-ba/The Boeing Company, Q3 2019 Earnings Call, Oct 23, 2019.pdf                           |\n",
       "| NA                                                                                                                                      | 2019-10-23                                                                                                                              | NA                                                                                                                                      | NA                                                                                                                                      | NA                                                                                                                                      | Presentati                                                                                                                              | Question a                                                                                                                              | C:/Users/rossz/OneDrive/CC/data/ciq-dji/002817-cat/Caterpillar Inc., Q3 2019 Earnings Call, Oct 23, 2019.pdf                            |\n",
       "| NA                                                                                                                                      | 2019-10-23                                                                                                                              | NA                                                                                                                                      | NA                                                                                                                                      | NA                                                                                                                                      | Presentati                                                                                                                              | Question a                                                                                                                              | C:/Users/rossz/OneDrive/CC/data/ciq-dji/012141-msft/Microsoft Corporation, Q1 2020 Earnings Call, Oct 23, 2019.pdf                      |\n",
       "| NA                                                                                                                                      | 2019-10-24                                                                                                                              | NA                                                                                                                                      | NA                                                                                                                                      | NA                                                                                                                                      | Presentati                                                                                                                              | Question a                                                                                                                              | C:/Users/rossz/OneDrive/CC/data/ciq-dji/006008-intc/Intel Corporation, Q3 2019 Earnings Call, Oct 24, 2019.pdf                          |\n",
       "| NA                                                                                                                                      | 2019-10-24                                                                                                                              | NA                                                                                                                                      | NA                                                                                                                                      | NA                                                                                                                                      | Presentati                                                                                                                              | Question a                                                                                                                              | C:/Users/rossz/OneDrive/CC/data/ciq-dji/007435-mmm/3M Company, Q3 2019 Earnings Call, Oct 24, 2019.pdf                                  |\n",
       "| NA                                                                                                                                      | 2019-10-24                                                                                                                              | NA                                                                                                                                      | NA                                                                                                                                      | NA                                                                                                                                      | Presentati                                                                                                                              | Question a                                                                                                                              | C:/Users/rossz/OneDrive/CC/data/ciq-dji/179534-v/Visa Inc., Q4 2019 Earnings Call, Oct 24, 2019.pdf                                     |\n",
       "| NA                                                                                                                                      | 2019-10-25                                                                                                                              | NA                                                                                                                                      | NA                                                                                                                                      | NA                                                                                                                                      | Presentati                                                                                                                              | Question a                                                                                                                              | C:/Users/rossz/OneDrive/CC/data/ciq-dji/002136-vz/Verizon Communications Inc., Q3 2019 Earnings Call, Oct 25, 2019.pdf                  |\n",
       "| NA                                                                                                                                      | 2019-10-25                                                                                                                              | NA                                                                                                                                      | NA                                                                                                                                      | NA                                                                                                                                      | Presentati                                                                                                                              | Question a                                                                                                                              | C:/Users/rossz/OneDrive/CC/data/ciq-dji/005234-gt/The Goodyear Tire  Rubber Company, Q3 2019 Earnings Call, Oct 25, 2019.pdf            |\n",
       "| NA                                                                                                                                      | 2019-10-28                                                                                                                              | NA                                                                                                                                      | NA                                                                                                                                      | NA                                                                                                                                      | Presentati                                                                                                                              | Question a                                                                                                                              | C:/Users/rossz/OneDrive/CC/data/ciq-dji/009899-t/ATT Inc., Q3 2019 Earnings Call, Oct 28, 2019.pdf                                      |\n",
       "| NA                                                                                                                                      | 2019-10-28                                                                                                                              | NA                                                                                                                                      | NA                                                                                                                                      | NA                                                                                                                                      | Presentati                                                                                                                              | Question a                                                                                                                              | C:/Users/rossz/OneDrive/CC/data/ciq-dji/011264-wba/Walgreens Boots Alliance, Inc., Q4 2019 Earnings Call, Oct 28, 2019.pdf              |\n",
       "| NA                                                                                                                                      | 2019-10-29                                                                                                                              | NA                                                                                                                                      | NA                                                                                                                                      | NA                                                                                                                                      | Presentati                                                                                                                              | Question a                                                                                                                              | C:/Users/rossz/OneDrive/CC/data/ciq-dji/005073-gm/General Motors Company, Q3 2019 Earnings Call, Oct 29, 2019.pdf                       |\n",
       "| NA                                                                                                                                      | 2019-10-29                                                                                                                              | NA                                                                                                                                      | NA                                                                                                                                      | NA                                                                                                                                      | Presentati                                                                                                                              | Question a                                                                                                                              | C:/Users/rossz/OneDrive/CC/data/ciq-dji/007257-mrk/Merck  Co., Inc., Q3 2019 Earnings Call, Oct 29, 2019.pdf                            |\n",
       "| NA                                                                                                                                      | 2019-10-29                                                                                                                              | NA                                                                                                                                      | NA                                                                                                                                      | NA                                                                                                                                      | Presentati                                                                                                                              | Question a                                                                                                                              | C:/Users/rossz/OneDrive/CC/data/ciq-dji/008530-pfe/Pfizer Inc., Q3 2019 Earnings Call, Oct 29, 2019.pdf                                 |\n",
       "| NA                                                                                                                                      | 2019-10-30                                                                                                                              | NA                                                                                                                                      | NA                                                                                                                                      | NA                                                                                                                                      | Presentati                                                                                                                              | Question a                                                                                                                              | C:/Users/rossz/OneDrive/CC/data/ciq-dji/001690-appl/Apple Inc., Q4 2019 Earnings Call, Oct 30, 2019.pdf                                 |\n",
       "| NA                                                                                                                                      | 2019-10-30                                                                                                                              | NA                                                                                                                                      | NA                                                                                                                                      | NA                                                                                                                                      | Presentati                                                                                                                              | Question a                                                                                                                              | C:/Users/rossz/OneDrive/CC/data/ciq-dji/005047-ge/General Electric Company, Q3 2019 Earnings Call, Oct 30, 2019.pdf                     |\n",
       "| NA                                                                                                                                      | 2019-10-31                                                                                                                              | NA                                                                                                                                      | NA                                                                                                                                      | NA                                                                                                                                      | Presentati                                                                                                                              | Question a                                                                                                                              | C:/Users/rossz/OneDrive/CC/data/ciq-dji/004060-dd/DuPont de Nemours, Inc., Q3 2019 Earnings Call, Oct 31, 2019.pdf                      |\n",
       "| NA                                                                                                                                      | 2019-10-31                                                                                                                              | NA                                                                                                                                      | NA                                                                                                                                      | NA                                                                                                                                      | Presentati                                                                                                                              | Question a                                                                                                                              | C:/Users/rossz/OneDrive/CC/data/ciq-dji/006104-ip/International Paper Company, Q3 2019 Earnings Call, Oct 31, 2019.pdf                  |\n",
       "| NA                                                                                                                                      | 2019-10-31                                                                                                                              | NA                                                                                                                                      | NA                                                                                                                                      | NA                                                                                                                                      | Presentati                                                                                                                              | Question a                                                                                                                              | C:/Users/rossz/OneDrive/CC/data/ciq-dji/008543-mo/Altria Group, Inc., Q3 2019 Earnings Call, Oct 31, 2019.pdf                           |\n",
       "| NA                                                                                                                                      | 2019-11-01                                                                                                                              | NA                                                                                                                                      | NA                                                                                                                                      | NA                                                                                                                                      | Presentati                                                                                                                              | Question a                                                                                                                              | C:/Users/rossz/OneDrive/CC/data/ciq-dji/001487-aig/American International Group, Inc., Q3 2019 Earnings Call, Nov 01, 2019.pdf          |\n",
       "| NA                                                                                                                                      | 2019-11-01                                                                                                                              | NA                                                                                                                                      | NA                                                                                                                                      | NA                                                                                                                                      | Presentati                                                                                                                              | Question a                                                                                                                              | C:/Users/rossz/OneDrive/CC/data/ciq-dji/002991-cvx/Chevron Corporation, Q3 2019 Earnings Call, Nov 01, 2019.pdf                         |\n",
       "| NA                                                                                                                                      | 2019-11-01                                                                                                                              | NA                                                                                                                                      | NA                                                                                                                                      | NA                                                                                                                                      | Presentati                                                                                                                              | Question a                                                                                                                              | C:/Users/rossz/OneDrive/CC/data/ciq-dji/004503-xom/Exxon Mobil Corporation, Q3 2019 Earnings Call, Nov 01, 2019.pdf                     |\n",
       "| NA                                                                                                                                      | 2019-11-07                                                                                                                              | NA                                                                                                                                      | NA                                                                                                                                      | NA                                                                                                                                      | Presentati                                                                                                                              | Question a                                                                                                                              | C:/Users/rossz/OneDrive/CC/data/ciq-dji/003980-dis/The Walt Disney Company, Q4 2019 Earnings Call, Nov 07, 2019.pdf                     |\n",
       "| NA                                                                                                                                      | 2019-11-07                                                                                                                              | NA                                                                                                                                      | NA                                                                                                                                      | NA                                                                                                                                      | Presentati                                                                                                                              | NA                                                                                                                                      | C:/Users/rossz/OneDrive/CC/data/ciq-dji/004194-kodk/Eastman Kodak Company, Q3 2019 Earnings Call, Nov 07, 2019.pdf                      |\n",
       "| NA                                                                                                                                      | 2019-11-13                                                                                                                              | NA                                                                                                                                      | NA                                                                                                                                      | NA                                                                                                                                      | Presentati                                                                                                                              | Question a                                                                                                                              | C:/Users/rossz/OneDrive/CC/data/ciq-dji/020779-csco/Cisco Systems, Inc., Q1 2020 Earnings Call, Nov 13, 2019.pdf                        |\n",
       "\n"
      ],
      "text/plain": [
       "   gvkey headline_date mid_utc headline keydevid md         qa        \n",
       "1  NA    2010-08-12    <NA>    NA       NA       Presentati Question a\n",
       "2  NA    2010-11-10    <NA>    NA       NA       Presentati NA        \n",
       "3  NA    2019-06-27    <NA>    NA       NA       Presentati Question a\n",
       "4  NA    2019-06-27    <NA>    NA       NA       Presentati Question a\n",
       "5  NA    2019-07-15    <NA>    NA       NA       Presentati Question a\n",
       "6  NA    2019-07-16    <NA>    NA       NA       Presentati Question a\n",
       "7  NA    2019-07-16    <NA>    NA       NA       Presentati Question a\n",
       "8  NA    2019-07-16    <NA>    NA       NA       Presentati Question a\n",
       "9  NA    2019-07-17    <NA>    NA       NA       Presentati Question a\n",
       "10 NA    2019-07-17    <NA>    NA       NA       Presentati Question a\n",
       "11 NA    2019-07-18    <NA>    NA       NA       Presentati Question a\n",
       "12 NA    2019-07-18    <NA>    NA       NA       Presentati Question a\n",
       "13 NA    2019-07-18    <NA>    NA       NA       Presentati Question a\n",
       "14 NA    2019-07-19    <NA>    NA       NA       Presentati Question a\n",
       "15 NA    2019-07-23    <NA>    NA       NA       Presentati Question a\n",
       "16 NA    2019-07-23    <NA>    NA       NA       Presentati Question a\n",
       "17 NA    2019-07-23    <NA>    NA       NA       Presentati Question a\n",
       "18 NA    2019-07-23    <NA>    NA       NA       Presentati Question a\n",
       "19 NA    2019-07-24    <NA>    NA       NA       Presentati Question a\n",
       "20 NA    2019-07-24    <NA>    NA       NA       Presentati Question a\n",
       "21 NA    2019-07-24    <NA>    NA       NA       Presentati Question a\n",
       "22 NA    2019-07-25    <NA>    NA       NA       Presentati Question a\n",
       "23 NA    2019-07-25    <NA>    NA       NA       Presentati Question a\n",
       "24 NA    2019-07-25    <NA>    NA       NA       Presentati Question a\n",
       "25 NA    2019-07-26    <NA>    NA       NA       Presentati Question a\n",
       "26 NA    2019-07-26    <NA>    NA       NA       Presentati Question a\n",
       "27 NA    2019-07-29    <NA>    NA       NA       Presentati Question a\n",
       "28 NA    2019-07-30    <NA>    NA       NA       Presentati Question a\n",
       "29 NA    2019-07-30    <NA>    NA       NA       Presentati Question a\n",
       "30 NA    2019-07-30    <NA>    NA       NA       Presentati Question a\n",
       "31 NA    2019-07-30    <NA>    NA       NA       Presentati Question a\n",
       "32 NA    2019-07-31    <NA>    NA       NA       Presentati Question a\n",
       "33 NA    2019-08-01    <NA>    NA       NA       Presentati Question a\n",
       "34 NA    2019-08-01    <NA>    NA       NA       Presentati Question a\n",
       "35 NA    2019-08-01    <NA>    NA       NA       Presentati Question a\n",
       "36 NA    2019-08-02    <NA>    NA       NA       Presentati Question a\n",
       "37 NA    2019-08-02    <NA>    NA       NA       Presentati Question a\n",
       "38 NA    2019-08-06    <NA>    NA       NA       Presentati Question a\n",
       "39 NA    2019-08-08    <NA>    NA       NA       Presentati Question a\n",
       "40 NA    2019-08-08    <NA>    NA       NA       Presentati Question a\n",
       "41 NA    2019-08-14    <NA>    NA       NA       Presentati Question a\n",
       "42 NA    2019-08-20    <NA>    NA       NA       Presentati Question a\n",
       "43 NA    2019-08-22    <NA>    NA       NA       Presentati Question a\n",
       "44 NA    2019-09-24    <NA>    NA       NA       Presentati Question a\n",
       "45 NA    2019-10-15    <NA>    NA       NA       Presentati Question a\n",
       "46 NA    2019-10-15    <NA>    NA       NA       Presentati Question a\n",
       "47 NA    2019-10-15    <NA>    NA       NA       Presentati Question a\n",
       "48 NA    2019-10-15    <NA>    NA       NA       Presentati Question a\n",
       "49 NA    2019-10-15    <NA>    NA       NA       Presentati Question a\n",
       "50 NA    2019-10-16    <NA>    NA       NA       Presentati Question a\n",
       "51 NA    2019-10-16    <NA>    NA       NA       Presentati Question a\n",
       "52 NA    2019-10-17    <NA>    NA       NA       Presentati Question a\n",
       "53 NA    2019-10-18    <NA>    NA       NA       Presentati Question a\n",
       "54 NA    2019-10-18    <NA>    NA       NA       Presentati Question a\n",
       "55 NA    2019-10-22    <NA>    NA       NA       Presentati Question a\n",
       "56 NA    2019-10-22    <NA>    NA       NA       Presentati Question a\n",
       "57 NA    2019-10-22    <NA>    NA       NA       Presentati Question a\n",
       "58 NA    2019-10-22    <NA>    NA       NA       Presentati Question a\n",
       "59 NA    2019-10-23    <NA>    NA       NA       Presentati Question a\n",
       "60 NA    2019-10-23    <NA>    NA       NA       Presentati Question a\n",
       "61 NA    2019-10-23    <NA>    NA       NA       Presentati Question a\n",
       "62 NA    2019-10-24    <NA>    NA       NA       Presentati Question a\n",
       "63 NA    2019-10-24    <NA>    NA       NA       Presentati Question a\n",
       "64 NA    2019-10-24    <NA>    NA       NA       Presentati Question a\n",
       "65 NA    2019-10-25    <NA>    NA       NA       Presentati Question a\n",
       "66 NA    2019-10-25    <NA>    NA       NA       Presentati Question a\n",
       "67 NA    2019-10-28    <NA>    NA       NA       Presentati Question a\n",
       "68 NA    2019-10-28    <NA>    NA       NA       Presentati Question a\n",
       "69 NA    2019-10-29    <NA>    NA       NA       Presentati Question a\n",
       "70 NA    2019-10-29    <NA>    NA       NA       Presentati Question a\n",
       "71 NA    2019-10-29    <NA>    NA       NA       Presentati Question a\n",
       "72 NA    2019-10-30    <NA>    NA       NA       Presentati Question a\n",
       "73 NA    2019-10-30    <NA>    NA       NA       Presentati Question a\n",
       "74 NA    2019-10-31    <NA>    NA       NA       Presentati Question a\n",
       "75 NA    2019-10-31    <NA>    NA       NA       Presentati Question a\n",
       "76 NA    2019-10-31    <NA>    NA       NA       Presentati Question a\n",
       "77 NA    2019-11-01    <NA>    NA       NA       Presentati Question a\n",
       "78 NA    2019-11-01    <NA>    NA       NA       Presentati Question a\n",
       "79 NA    2019-11-01    <NA>    NA       NA       Presentati Question a\n",
       "80 NA    2019-11-07    <NA>    NA       NA       Presentati Question a\n",
       "81 NA    2019-11-07    <NA>    NA       NA       Presentati NA        \n",
       "82 NA    2019-11-13    <NA>    NA       NA       Presentati Question a\n",
       "   cc_path                                                                                                                                \n",
       "1  C:/Users/rossz/OneDrive/CC/data/ciq-dji/005073-gm/General Motors Company, Q2 2010 Earnings Call, Aug-12-2010.pdf                       \n",
       "2  C:/Users/rossz/OneDrive/CC/data/ciq-dji/005073-gm/General Motors Company, Q3 2010 Earnings Call, Nov 10, 2010.pdf                      \n",
       "3  C:/Users/rossz/OneDrive/CC/data/ciq-dji/007906-nke/NIKE, Inc., Q4 2019 Earnings Call, Jun 27, 2019.pdf                                 \n",
       "4  C:/Users/rossz/OneDrive/CC/data/ciq-dji/011264-wba/Walgreens Boots Alliance, Inc., Q3 2019 Earnings Call, Jun 27, 2019.pdf             \n",
       "5  C:/Users/rossz/OneDrive/CC/data/ciq-dji/003243-c/Citigroup Inc., Q2 2019 Earnings Call, Jul 15, 2019.pdf                               \n",
       "6  C:/Users/rossz/OneDrive/CC/data/ciq-dji/002968-jpm/JPMorgan Chase  Co., Q2 2019 Earnings Call, Jul 16, 2019.pdf                        \n",
       "7  C:/Users/rossz/OneDrive/CC/data/ciq-dji/006266-jnj/Johnson  Johnson, Q2 2019 Earnings Call, Jul 16, 2019.pdf                           \n",
       "8  C:/Users/rossz/OneDrive/CC/data/ciq-dji/114628-gs/The Goldman Sachs Group, Inc., Q2 2019 Earnings Call, Jul 16, 2019.pdf               \n",
       "9  C:/Users/rossz/OneDrive/CC/data/ciq-dji/006066-ibm/International Business Machines Corporation, Q2 2019 Earnings Call, Jul 17, 2019.pdf\n",
       "10 C:/Users/rossz/OneDrive/CC/data/ciq-dji/007647-bac/Bank of America Corporation, Q2 2019 Earnings Call, Jul 17, 2019.pdf                \n",
       "11 C:/Users/rossz/OneDrive/CC/data/ciq-dji/001300-hon/Honeywell International Inc., Q2 2019 Earnings Call, Jul 18, 2019.pdf               \n",
       "12 C:/Users/rossz/OneDrive/CC/data/ciq-dji/010903-unh/UnitedHealth Group Incorporated, Q2 2019 Earnings Call, Jul 18, 2019.pdf            \n",
       "13 C:/Users/rossz/OneDrive/CC/data/ciq-dji/012141-msft/Microsoft Corporation, Q4 2019 Earnings Call, Jul 18, 2019.pdf                     \n",
       "14 C:/Users/rossz/OneDrive/CC/data/ciq-dji/001447-axp/American Express Company, Q2 2019 Earnings Call, Jul 19, 2019.pdf                   \n",
       "15 C:/Users/rossz/OneDrive/CC/data/ciq-dji/003144-ko/The Coca-Cola Company, Q2 2019 Earnings Call, Jul 23, 2019.pdf                       \n",
       "16 C:/Users/rossz/OneDrive/CC/data/ciq-dji/010983-utx/United Technologies Corporation, Q2 2019 Earnings Call, Jul 23, 2019.pdf            \n",
       "17 C:/Users/rossz/OneDrive/CC/data/ciq-dji/062689-trv/The Travelers Companies, Inc., Q2 2019 Earnings Call, Jul 23, 2019.pdf              \n",
       "18 C:/Users/rossz/OneDrive/CC/data/ciq-dji/179534-v/Visa Inc., Q3 2019 Earnings Call, Jul 23, 2019.pdf                                    \n",
       "19 C:/Users/rossz/OneDrive/CC/data/ciq-dji/002285-ba/The Boeing Company, Q2 2019 Earnings Call, Jul 24, 2019.pdf                          \n",
       "20 C:/Users/rossz/OneDrive/CC/data/ciq-dji/002817-cat/Caterpillar Inc., Q2 2019 Earnings Call, Jul 24, 2019.pdf                           \n",
       "21 C:/Users/rossz/OneDrive/CC/data/ciq-dji/009899-t/ATT Inc., Q2 2019 Earnings Call, Jul 24, 2019.pdf                                     \n",
       "22 C:/Users/rossz/OneDrive/CC/data/ciq-dji/006008-intc/Intel Corporation, Q2 2019 Earnings Call, Jul 25, 2019.pdf                         \n",
       "23 C:/Users/rossz/OneDrive/CC/data/ciq-dji/006104-ip/International Paper Company, Q2 2019 Earnings Call, Jul 25, 2019.pdf                 \n",
       "24 C:/Users/rossz/OneDrive/CC/data/ciq-dji/007435-mmm/3M Company, Q2 2019 Earnings Call, Jul 25, 2019.pdf                                 \n",
       "25 C:/Users/rossz/OneDrive/CC/data/ciq-dji/005234-gt/The Goodyear Tire  Rubber Company, Q2 2019 Earnings Call, Jul 26, 2019.pdf           \n",
       "26 C:/Users/rossz/OneDrive/CC/data/ciq-dji/007154-mcd/McDonalds Corporation, Q2 2019 Earnings Call, Jul 26, 2019.pdf                      \n",
       "27 C:/Users/rossz/OneDrive/CC/data/ciq-dji/008530-pfe/Pfizer Inc., Q2 2019 Earnings Call, Jul 29, 2019.pdf                                \n",
       "28 C:/Users/rossz/OneDrive/CC/data/ciq-dji/001690-appl/Apple Inc., Q3 2019 Earnings Call, Jul 30, 2019.pdf                                \n",
       "29 C:/Users/rossz/OneDrive/CC/data/ciq-dji/007257-mrk/Merck  Co., Inc., Q2 2019 Earnings Call, Jul 30, 2019.pdf                           \n",
       "30 C:/Users/rossz/OneDrive/CC/data/ciq-dji/008543-mo/Altria Group, Inc., Q2 2019 Earnings Call, Jul 30, 2019.pdf                          \n",
       "31 C:/Users/rossz/OneDrive/CC/data/ciq-dji/008762-pg/The Procter  Gamble Company, Q4 2019 Earnings Call, Jul 30, 2019.pdf                 \n",
       "32 C:/Users/rossz/OneDrive/CC/data/ciq-dji/005047-ge/General Electric Company, Q2 2019 Earnings Call, Jul 31, 2019.pdf                    \n",
       "33 C:/Users/rossz/OneDrive/CC/data/ciq-dji/002136-vz/Verizon Communications Inc., Q2 2019 Earnings Call, Aug 01, 2019.pdf                 \n",
       "34 C:/Users/rossz/OneDrive/CC/data/ciq-dji/004060-dd/DuPont de Nemours, Inc., Q2 2019 Earnings Call, Aug 01, 2019.pdf                     \n",
       "35 C:/Users/rossz/OneDrive/CC/data/ciq-dji/005073-gm/General Motors Company, Q2 2019 Earnings Call, Aug 01, 2019.pdf                      \n",
       "36 C:/Users/rossz/OneDrive/CC/data/ciq-dji/002991-cvx/Chevron Corporation, Q2 2019 Earnings Call, Aug 02, 2019.pdf                        \n",
       "37 C:/Users/rossz/OneDrive/CC/data/ciq-dji/004503-xom/Exxon Mobil Corporation, Q2 2019 Earnings Call, Aug 02, 2019.pdf                    \n",
       "38 C:/Users/rossz/OneDrive/CC/data/ciq-dji/003980-dis/The Walt Disney Company, Q3 2019 Earnings Call, Aug 06, 2019.pdf                    \n",
       "39 C:/Users/rossz/OneDrive/CC/data/ciq-dji/001487-aig/American International Group, Inc., Q2 2019 Earnings Call, Aug 08, 2019.pdf         \n",
       "40 C:/Users/rossz/OneDrive/CC/data/ciq-dji/004194-kodk/Eastman Kodak Company, Q2 2019 Earnings Call, Aug 08, 2019.pdf                     \n",
       "41 C:/Users/rossz/OneDrive/CC/data/ciq-dji/020779-csco/Cisco Systems, Inc., Q4 2019 Earnings Call, Aug 14, 2019.pdf                       \n",
       "42 C:/Users/rossz/OneDrive/CC/data/ciq-dji/005680-hd/The Home Depot, Inc., Q2 2020 Earnings Call, Aug 20, 2019.pdf                        \n",
       "43 C:/Users/rossz/OneDrive/CC/data/ciq-dji/005606-hpq/HP Inc., Q3 2019 Earnings Call, Aug 22, 2019.pdf                                    \n",
       "44 C:/Users/rossz/OneDrive/CC/data/ciq-dji/007906-nke/NIKE, Inc., Q1 2020 Earnings Call, Sep 24, 2019.pdf                                 \n",
       "45 C:/Users/rossz/OneDrive/CC/data/ciq-dji/002968-jpm/JPMorgan Chase  Co., Q3 2019 Earnings Call, Oct 15, 2019.pdf                        \n",
       "46 C:/Users/rossz/OneDrive/CC/data/ciq-dji/003243-c/Citigroup Inc., Q3 2019 Earnings Call, Oct 15, 2019.pdf                               \n",
       "47 C:/Users/rossz/OneDrive/CC/data/ciq-dji/006266-jnj/Johnson  Johnson, Q3 2019 Earnings Call, Oct 15, 2019.pdf                           \n",
       "48 C:/Users/rossz/OneDrive/CC/data/ciq-dji/010903-unh/UnitedHealth Group Incorporated, Q3 2019 Earnings Call, Oct 15, 2019.pdf            \n",
       "49 C:/Users/rossz/OneDrive/CC/data/ciq-dji/114628-gs/The Goldman Sachs Group, Inc., Q3 2019 Earnings Call, Oct 15, 2019.pdf               \n",
       "50 C:/Users/rossz/OneDrive/CC/data/ciq-dji/006066-ibm/International Business Machines Corporation, Q3 2019 Earnings Call, Oct 16, 2019.pdf\n",
       "51 C:/Users/rossz/OneDrive/CC/data/ciq-dji/007647-bac/Bank of America Corporation, Q3 2019 Earnings Call, Oct 16, 2019.pdf                \n",
       "52 C:/Users/rossz/OneDrive/CC/data/ciq-dji/001300-hon/Honeywell International Inc., Q3 2019 Earnings Call, Oct 17, 2019.pdf               \n",
       "53 C:/Users/rossz/OneDrive/CC/data/ciq-dji/001447-axp/American Express Company, Q3 2019 Earnings Call, Oct 18, 2019.pdf                   \n",
       "54 C:/Users/rossz/OneDrive/CC/data/ciq-dji/003144-ko/The Coca-Cola Company, Q3 2019 Earnings Call, Oct 18, 2019.pdf                       \n",
       "55 C:/Users/rossz/OneDrive/CC/data/ciq-dji/007154-mcd/McDonalds Corporation, Q3 2019 Earnings Call, Oct 22, 2019.pdf                      \n",
       "56 C:/Users/rossz/OneDrive/CC/data/ciq-dji/008762-pg/The Procter  Gamble Company, Q1 2020 Earnings Call, Oct 22, 2019.pdf                 \n",
       "57 C:/Users/rossz/OneDrive/CC/data/ciq-dji/010983-utx/United Technologies Corporation, Q3 2019 Earnings Call, Oct 22, 2019.pdf            \n",
       "58 C:/Users/rossz/OneDrive/CC/data/ciq-dji/062689-trv/The Travelers Companies, Inc., Q3 2019 Earnings Call, Oct 22, 2019.pdf              \n",
       "59 C:/Users/rossz/OneDrive/CC/data/ciq-dji/002285-ba/The Boeing Company, Q3 2019 Earnings Call, Oct 23, 2019.pdf                          \n",
       "60 C:/Users/rossz/OneDrive/CC/data/ciq-dji/002817-cat/Caterpillar Inc., Q3 2019 Earnings Call, Oct 23, 2019.pdf                           \n",
       "61 C:/Users/rossz/OneDrive/CC/data/ciq-dji/012141-msft/Microsoft Corporation, Q1 2020 Earnings Call, Oct 23, 2019.pdf                     \n",
       "62 C:/Users/rossz/OneDrive/CC/data/ciq-dji/006008-intc/Intel Corporation, Q3 2019 Earnings Call, Oct 24, 2019.pdf                         \n",
       "63 C:/Users/rossz/OneDrive/CC/data/ciq-dji/007435-mmm/3M Company, Q3 2019 Earnings Call, Oct 24, 2019.pdf                                 \n",
       "64 C:/Users/rossz/OneDrive/CC/data/ciq-dji/179534-v/Visa Inc., Q4 2019 Earnings Call, Oct 24, 2019.pdf                                    \n",
       "65 C:/Users/rossz/OneDrive/CC/data/ciq-dji/002136-vz/Verizon Communications Inc., Q3 2019 Earnings Call, Oct 25, 2019.pdf                 \n",
       "66 C:/Users/rossz/OneDrive/CC/data/ciq-dji/005234-gt/The Goodyear Tire  Rubber Company, Q3 2019 Earnings Call, Oct 25, 2019.pdf           \n",
       "67 C:/Users/rossz/OneDrive/CC/data/ciq-dji/009899-t/ATT Inc., Q3 2019 Earnings Call, Oct 28, 2019.pdf                                     \n",
       "68 C:/Users/rossz/OneDrive/CC/data/ciq-dji/011264-wba/Walgreens Boots Alliance, Inc., Q4 2019 Earnings Call, Oct 28, 2019.pdf             \n",
       "69 C:/Users/rossz/OneDrive/CC/data/ciq-dji/005073-gm/General Motors Company, Q3 2019 Earnings Call, Oct 29, 2019.pdf                      \n",
       "70 C:/Users/rossz/OneDrive/CC/data/ciq-dji/007257-mrk/Merck  Co., Inc., Q3 2019 Earnings Call, Oct 29, 2019.pdf                           \n",
       "71 C:/Users/rossz/OneDrive/CC/data/ciq-dji/008530-pfe/Pfizer Inc., Q3 2019 Earnings Call, Oct 29, 2019.pdf                                \n",
       "72 C:/Users/rossz/OneDrive/CC/data/ciq-dji/001690-appl/Apple Inc., Q4 2019 Earnings Call, Oct 30, 2019.pdf                                \n",
       "73 C:/Users/rossz/OneDrive/CC/data/ciq-dji/005047-ge/General Electric Company, Q3 2019 Earnings Call, Oct 30, 2019.pdf                    \n",
       "74 C:/Users/rossz/OneDrive/CC/data/ciq-dji/004060-dd/DuPont de Nemours, Inc., Q3 2019 Earnings Call, Oct 31, 2019.pdf                     \n",
       "75 C:/Users/rossz/OneDrive/CC/data/ciq-dji/006104-ip/International Paper Company, Q3 2019 Earnings Call, Oct 31, 2019.pdf                 \n",
       "76 C:/Users/rossz/OneDrive/CC/data/ciq-dji/008543-mo/Altria Group, Inc., Q3 2019 Earnings Call, Oct 31, 2019.pdf                          \n",
       "77 C:/Users/rossz/OneDrive/CC/data/ciq-dji/001487-aig/American International Group, Inc., Q3 2019 Earnings Call, Nov 01, 2019.pdf         \n",
       "78 C:/Users/rossz/OneDrive/CC/data/ciq-dji/002991-cvx/Chevron Corporation, Q3 2019 Earnings Call, Nov 01, 2019.pdf                        \n",
       "79 C:/Users/rossz/OneDrive/CC/data/ciq-dji/004503-xom/Exxon Mobil Corporation, Q3 2019 Earnings Call, Nov 01, 2019.pdf                    \n",
       "80 C:/Users/rossz/OneDrive/CC/data/ciq-dji/003980-dis/The Walt Disney Company, Q4 2019 Earnings Call, Nov 07, 2019.pdf                    \n",
       "81 C:/Users/rossz/OneDrive/CC/data/ciq-dji/004194-kodk/Eastman Kodak Company, Q3 2019 Earnings Call, Nov 07, 2019.pdf                     \n",
       "82 C:/Users/rossz/OneDrive/CC/data/ciq-dji/020779-csco/Cisco Systems, Inc., Q1 2020 Earnings Call, Nov 13, 2019.pdf                       "
      ]
     },
     "metadata": {},
     "output_type": "display_data"
    }
   ],
   "source": [
    "cc[is.na(keydevid)][, ':='(md=str_sub(md, 1, 10), qa=str_sub(qa, 1, 10))][]"
   ]
  },
  {
   "cell_type": "code",
   "execution_count": 11,
   "metadata": {},
   "outputs": [
    {
     "data": {
      "text/html": [
       "<table>\n",
       "<thead><tr><th scope=col>keydeveventtypeid</th><th scope=col>headline</th><th scope=col>headline_date</th><th scope=col>announcedate</th><th scope=col>companyname</th><th scope=col>gvkey</th><th scope=col>keydevid</th><th scope=col>mostimportantdateutc</th><th scope=col>headline_year</th><th scope=col>headline_month</th></tr></thead>\n",
       "<tbody>\n",
       "\t<tr><td>48                                                        </td><td>General Motors Company, Q2 2010 Earnings Call, Aug-12-2010</td><td>2010-08-12                                                </td><td>2010-08-10                                                </td><td>General Motors Company                                    </td><td>NA                                                        </td><td>111581311                                                 </td><td>2010-08-12 14:00:00                                       </td><td>2010                                                      </td><td>8                                                         </td></tr>\n",
       "</tbody>\n",
       "</table>\n"
      ],
      "text/latex": [
       "\\begin{tabular}{r|llllllllll}\n",
       " keydeveventtypeid & headline & headline\\_date & announcedate & companyname & gvkey & keydevid & mostimportantdateutc & headline\\_year & headline\\_month\\\\\n",
       "\\hline\n",
       "\t 48                                                         & General Motors Company, Q2 2010 Earnings Call, Aug-12-2010 & 2010-08-12                                                 & 2010-08-10                                                 & General Motors Company                                     & NA                                                         & 111581311                                                  & 2010-08-12 14:00:00                                        & 2010                                                       & 8                                                         \\\\\n",
       "\\end{tabular}\n"
      ],
      "text/markdown": [
       "\n",
       "| keydeveventtypeid | headline | headline_date | announcedate | companyname | gvkey | keydevid | mostimportantdateutc | headline_year | headline_month |\n",
       "|---|---|---|---|---|---|---|---|---|---|\n",
       "| 48                                                         | General Motors Company, Q2 2010 Earnings Call, Aug-12-2010 | 2010-08-12                                                 | 2010-08-10                                                 | General Motors Company                                     | NA                                                         | 111581311                                                  | 2010-08-12 14:00:00                                        | 2010                                                       | 8                                                          |\n",
       "\n"
      ],
      "text/plain": [
       "  keydeveventtypeid headline                                                  \n",
       "1 48                General Motors Company, Q2 2010 Earnings Call, Aug-12-2010\n",
       "  headline_date announcedate companyname            gvkey keydevid \n",
       "1 2010-08-12    2010-08-10   General Motors Company NA    111581311\n",
       "  mostimportantdateutc headline_year headline_month\n",
       "1 2010-08-12 14:00:00  2010          8             "
      ]
     },
     "metadata": {},
     "output_type": "display_data"
    }
   ],
   "source": [
    "query = 'General Motors Company, Q2 2010 Earnings Call, Aug-12-2010'\n",
    "key_dt = cc_meta[headline_year==2010 & headline_month==8]\n",
    "key = key_dt[, headline]\n",
    "rowid = amatch(\n",
    "    toupper(query),\n",
    "    toupper(key),\n",
    "    method='dl',\n",
    "    maxDist=5,\n",
    "    nthread=4)\n",
    "key_dt[rowid]"
   ]
  },
  {
   "cell_type": "markdown",
   "metadata": {},
   "source": [
    "# `Dataset`"
   ]
  },
  {
   "cell_type": "markdown",
   "metadata": {},
   "source": [
    "## `CC` + `SUE`"
   ]
  },
  {
   "cell_type": "code",
   "execution_count": 15,
   "metadata": {},
   "outputs": [
    {
     "name": "stdout",
     "output_type": "stream",
     "text": [
      "-sue- loaded  (0.1 secs)\n",
      "-cc- already exists, will NOT load again!  (0 secs)\n"
     ]
    }
   ],
   "source": [
    "ld(sue)\n",
    "ld(cc)"
   ]
  },
  {
   "cell_type": "code",
   "execution_count": 16,
   "metadata": {},
   "outputs": [
    {
     "data": {
      "text/html": [
       "<table>\n",
       "<thead><tr><th scope=col>gvkey</th><th scope=col>ticker</th><th scope=col>permno</th><th scope=col>conm</th><th scope=col>fyearq</th><th scope=col>fqtr</th><th scope=col>datadate</th><th scope=col>fyr</th><th scope=col>rdq</th><th scope=col>rdq1</th><th scope=col>leadrdq1</th><th scope=col>repdats</th><th scope=col>mcap</th><th scope=col>medest</th><th scope=col>act</th><th scope=col>numest</th><th scope=col>basis</th><th scope=col>sue1</th><th scope=col>sue2</th><th scope=col>sue3</th><th scope=col>se</th></tr></thead>\n",
       "<tbody>\n",
       "\t<tr><td>001013                    </td><td>ADCT                      </td><td>50906                     </td><td>ADC TELECOMMUNICATIONS INC</td><td>2010                      </td><td>4                         </td><td>2010-09-30                </td><td>9                         </td><td>2010-11-23                </td><td>2010-11-23                </td><td>2011-02-23                </td><td>2010-11-23                </td><td>1231.524                  </td><td>0.16                      </td><td>0.15                      </td><td>1                         </td><td>D                         </td><td>NA                        </td><td>NA                        </td><td>-0.000789266              </td><td>0.01183899                </td></tr>\n",
       "</tbody>\n",
       "</table>\n"
      ],
      "text/latex": [
       "\\begin{tabular}{r|lllllllllllllllllllll}\n",
       " gvkey & ticker & permno & conm & fyearq & fqtr & datadate & fyr & rdq & rdq1 & leadrdq1 & repdats & mcap & medest & act & numest & basis & sue1 & sue2 & sue3 & se\\\\\n",
       "\\hline\n",
       "\t 001013                     & ADCT                       & 50906                      & ADC TELECOMMUNICATIONS INC & 2010                       & 4                          & 2010-09-30                 & 9                          & 2010-11-23                 & 2010-11-23                 & 2011-02-23                 & 2010-11-23                 & 1231.524                   & 0.16                       & 0.15                       & 1                          & D                          & NA                         & NA                         & -0.000789266               & 0.01183899                \\\\\n",
       "\\end{tabular}\n"
      ],
      "text/markdown": [
       "\n",
       "| gvkey | ticker | permno | conm | fyearq | fqtr | datadate | fyr | rdq | rdq1 | leadrdq1 | repdats | mcap | medest | act | numest | basis | sue1 | sue2 | sue3 | se |\n",
       "|---|---|---|---|---|---|---|---|---|---|---|---|---|---|---|---|---|---|---|---|---|\n",
       "| 001013                     | ADCT                       | 50906                      | ADC TELECOMMUNICATIONS INC | 2010                       | 4                          | 2010-09-30                 | 9                          | 2010-11-23                 | 2010-11-23                 | 2011-02-23                 | 2010-11-23                 | 1231.524                   | 0.16                       | 0.15                       | 1                          | D                          | NA                         | NA                         | -0.000789266               | 0.01183899                 |\n",
       "\n"
      ],
      "text/plain": [
       "  gvkey  ticker permno conm                       fyearq fqtr datadate   fyr\n",
       "1 001013 ADCT   50906  ADC TELECOMMUNICATIONS INC 2010   4    2010-09-30 9  \n",
       "  rdq        rdq1       leadrdq1   repdats    mcap     medest act  numest basis\n",
       "1 2010-11-23 2010-11-23 2011-02-23 2010-11-23 1231.524 0.16   0.15 1      D    \n",
       "  sue1 sue2 sue3         se        \n",
       "1 NA   NA   -0.000789266 0.01183899"
      ]
     },
     "metadata": {},
     "output_type": "display_data"
    }
   ],
   "source": [
    "sue[1]"
   ]
  },
  {
   "cell_type": "code",
   "execution_count": 52,
   "metadata": {},
   "outputs": [
    {
     "data": {
      "text/html": [
       "<table>\n",
       "<thead><tr><th scope=col>gvkey</th><th scope=col>headline_date</th><th scope=col>mid_utc</th><th scope=col>headline</th><th scope=col>keydevid</th><th scope=col>md</th><th scope=col>qa</th><th scope=col>cc_path</th></tr></thead>\n",
       "<tbody>\n",
       "\t<tr><td>001300                                                                                                                 </td><td>2007-07-19                                                                                                             </td><td>2007-07-19 08:00:00                                                                                                    </td><td>Honeywell International Inc., Q2 2007 Earnings Call, Jul-19-2007                                                       </td><td>4527845                                                                                                                </td><td>Presentati                                                                                                             </td><td>Question a                                                                                                             </td><td>C:/Users/rossz/OneDrive/CC/data/ciq-dji/001300-hon/Honeywell International Inc., Q2 2007 Earnings Call, Jul-19-2007.pdf</td></tr>\n",
       "</tbody>\n",
       "</table>\n"
      ],
      "text/latex": [
       "\\begin{tabular}{r|llllllll}\n",
       " gvkey & headline\\_date & mid\\_utc & headline & keydevid & md & qa & cc\\_path\\\\\n",
       "\\hline\n",
       "\t 001300                                                                                                                  & 2007-07-19                                                                                                              & 2007-07-19 08:00:00                                                                                                     & Honeywell International Inc., Q2 2007 Earnings Call, Jul-19-2007                                                        & 4527845                                                                                                                 & Presentati                                                                                                              & Question a                                                                                                              & C:/Users/rossz/OneDrive/CC/data/ciq-dji/001300-hon/Honeywell International Inc., Q2 2007 Earnings Call, Jul-19-2007.pdf\\\\\n",
       "\\end{tabular}\n"
      ],
      "text/markdown": [
       "\n",
       "| gvkey | headline_date | mid_utc | headline | keydevid | md | qa | cc_path |\n",
       "|---|---|---|---|---|---|---|---|\n",
       "| 001300                                                                                                                  | 2007-07-19                                                                                                              | 2007-07-19 08:00:00                                                                                                     | Honeywell International Inc., Q2 2007 Earnings Call, Jul-19-2007                                                        | 4527845                                                                                                                 | Presentati                                                                                                              | Question a                                                                                                              | C:/Users/rossz/OneDrive/CC/data/ciq-dji/001300-hon/Honeywell International Inc., Q2 2007 Earnings Call, Jul-19-2007.pdf |\n",
       "\n"
      ],
      "text/plain": [
       "  gvkey  headline_date mid_utc            \n",
       "1 001300 2007-07-19    2007-07-19 08:00:00\n",
       "  headline                                                         keydevid\n",
       "1 Honeywell International Inc., Q2 2007 Earnings Call, Jul-19-2007 4527845 \n",
       "  md         qa        \n",
       "1 Presentati Question a\n",
       "  cc_path                                                                                                                \n",
       "1 C:/Users/rossz/OneDrive/CC/data/ciq-dji/001300-hon/Honeywell International Inc., Q2 2007 Earnings Call, Jul-19-2007.pdf"
      ]
     },
     "metadata": {},
     "output_type": "display_data"
    }
   ],
   "source": [
    "cc[1][, ':='(md=str_sub(md, 1, 10), qa=str_sub(qa, 1, 10))][]"
   ]
  },
  {
   "cell_type": "code",
   "execution_count": 53,
   "metadata": {
    "scrolled": true
   },
   "outputs": [
    {
     "data": {
      "text/html": [
       "<table>\n",
       "<thead><tr><th scope=col>gvkey</th><th scope=col>headline_date</th><th scope=col>mid_utc</th><th scope=col>headline</th><th scope=col>keydevid</th><th scope=col>md</th><th scope=col>qa</th><th scope=col>cc_path</th></tr></thead>\n",
       "<tbody>\n",
       "\t<tr><td>NA                                                                                                                                     </td><td>2010-08-12                                                                                                                             </td><td>NA                                                                                                                                     </td><td>NA                                                                                                                                     </td><td>NA                                                                                                                                     </td><td>Presentati                                                                                                                             </td><td>Question a                                                                                                                             </td><td>C:/Users/rossz/OneDrive/CC/data/ciq-dji/005073-gm/General Motors Company, Q2 2010 Earnings Call, Aug-12-2010.pdf                       </td></tr>\n",
       "\t<tr><td>NA                                                                                                                                     </td><td>2010-11-10                                                                                                                             </td><td>NA                                                                                                                                     </td><td>NA                                                                                                                                     </td><td>NA                                                                                                                                     </td><td>Presentati                                                                                                                             </td><td>NA                                                                                                                                     </td><td>C:/Users/rossz/OneDrive/CC/data/ciq-dji/005073-gm/General Motors Company, Q3 2010 Earnings Call, Nov 10, 2010.pdf                      </td></tr>\n",
       "\t<tr><td>NA                                                                                                                                     </td><td>2019-06-27                                                                                                                             </td><td>NA                                                                                                                                     </td><td>NA                                                                                                                                     </td><td>NA                                                                                                                                     </td><td>Presentati                                                                                                                             </td><td>Question a                                                                                                                             </td><td>C:/Users/rossz/OneDrive/CC/data/ciq-dji/007906-nke/NIKE, Inc., Q4 2019 Earnings Call, Jun 27, 2019.pdf                                 </td></tr>\n",
       "\t<tr><td>NA                                                                                                                                     </td><td>2019-06-27                                                                                                                             </td><td>NA                                                                                                                                     </td><td>NA                                                                                                                                     </td><td>NA                                                                                                                                     </td><td>Presentati                                                                                                                             </td><td>Question a                                                                                                                             </td><td>C:/Users/rossz/OneDrive/CC/data/ciq-dji/011264-wba/Walgreens Boots Alliance, Inc., Q3 2019 Earnings Call, Jun 27, 2019.pdf             </td></tr>\n",
       "\t<tr><td>NA                                                                                                                                     </td><td>2019-07-15                                                                                                                             </td><td>NA                                                                                                                                     </td><td>NA                                                                                                                                     </td><td>NA                                                                                                                                     </td><td>Presentati                                                                                                                             </td><td>Question a                                                                                                                             </td><td>C:/Users/rossz/OneDrive/CC/data/ciq-dji/003243-c/Citigroup Inc., Q2 2019 Earnings Call, Jul 15, 2019.pdf                               </td></tr>\n",
       "\t<tr><td>NA                                                                                                                                     </td><td>2019-07-16                                                                                                                             </td><td>NA                                                                                                                                     </td><td>NA                                                                                                                                     </td><td>NA                                                                                                                                     </td><td>Presentati                                                                                                                             </td><td>Question a                                                                                                                             </td><td>C:/Users/rossz/OneDrive/CC/data/ciq-dji/002968-jpm/JPMorgan Chase  Co., Q2 2019 Earnings Call, Jul 16, 2019.pdf                        </td></tr>\n",
       "\t<tr><td>NA                                                                                                                                     </td><td>2019-07-16                                                                                                                             </td><td>NA                                                                                                                                     </td><td>NA                                                                                                                                     </td><td>NA                                                                                                                                     </td><td>Presentati                                                                                                                             </td><td>Question a                                                                                                                             </td><td>C:/Users/rossz/OneDrive/CC/data/ciq-dji/006266-jnj/Johnson  Johnson, Q2 2019 Earnings Call, Jul 16, 2019.pdf                           </td></tr>\n",
       "\t<tr><td>NA                                                                                                                                     </td><td>2019-07-16                                                                                                                             </td><td>NA                                                                                                                                     </td><td>NA                                                                                                                                     </td><td>NA                                                                                                                                     </td><td>Presentati                                                                                                                             </td><td>Question a                                                                                                                             </td><td>C:/Users/rossz/OneDrive/CC/data/ciq-dji/114628-gs/The Goldman Sachs Group, Inc., Q2 2019 Earnings Call, Jul 16, 2019.pdf               </td></tr>\n",
       "\t<tr><td>NA                                                                                                                                     </td><td>2019-07-17                                                                                                                             </td><td>NA                                                                                                                                     </td><td>NA                                                                                                                                     </td><td>NA                                                                                                                                     </td><td>Presentati                                                                                                                             </td><td>Question a                                                                                                                             </td><td>C:/Users/rossz/OneDrive/CC/data/ciq-dji/006066-ibm/International Business Machines Corporation, Q2 2019 Earnings Call, Jul 17, 2019.pdf</td></tr>\n",
       "\t<tr><td>NA                                                                                                                                     </td><td>2019-07-17                                                                                                                             </td><td>NA                                                                                                                                     </td><td>NA                                                                                                                                     </td><td>NA                                                                                                                                     </td><td>Presentati                                                                                                                             </td><td>Question a                                                                                                                             </td><td>C:/Users/rossz/OneDrive/CC/data/ciq-dji/007647-bac/Bank of America Corporation, Q2 2019 Earnings Call, Jul 17, 2019.pdf                </td></tr>\n",
       "\t<tr><td>NA                                                                                                                                     </td><td>2019-07-18                                                                                                                             </td><td>NA                                                                                                                                     </td><td>NA                                                                                                                                     </td><td>NA                                                                                                                                     </td><td>Presentati                                                                                                                             </td><td>Question a                                                                                                                             </td><td>C:/Users/rossz/OneDrive/CC/data/ciq-dji/001300-hon/Honeywell International Inc., Q2 2019 Earnings Call, Jul 18, 2019.pdf               </td></tr>\n",
       "\t<tr><td>NA                                                                                                                                     </td><td>2019-07-18                                                                                                                             </td><td>NA                                                                                                                                     </td><td>NA                                                                                                                                     </td><td>NA                                                                                                                                     </td><td>Presentati                                                                                                                             </td><td>Question a                                                                                                                             </td><td>C:/Users/rossz/OneDrive/CC/data/ciq-dji/010903-unh/UnitedHealth Group Incorporated, Q2 2019 Earnings Call, Jul 18, 2019.pdf            </td></tr>\n",
       "\t<tr><td>NA                                                                                                                                     </td><td>2019-07-18                                                                                                                             </td><td>NA                                                                                                                                     </td><td>NA                                                                                                                                     </td><td>NA                                                                                                                                     </td><td>Presentati                                                                                                                             </td><td>Question a                                                                                                                             </td><td>C:/Users/rossz/OneDrive/CC/data/ciq-dji/012141-msft/Microsoft Corporation, Q4 2019 Earnings Call, Jul 18, 2019.pdf                     </td></tr>\n",
       "\t<tr><td>NA                                                                                                                                     </td><td>2019-07-19                                                                                                                             </td><td>NA                                                                                                                                     </td><td>NA                                                                                                                                     </td><td>NA                                                                                                                                     </td><td>Presentati                                                                                                                             </td><td>Question a                                                                                                                             </td><td>C:/Users/rossz/OneDrive/CC/data/ciq-dji/001447-axp/American Express Company, Q2 2019 Earnings Call, Jul 19, 2019.pdf                   </td></tr>\n",
       "\t<tr><td>NA                                                                                                                                     </td><td>2019-07-23                                                                                                                             </td><td>NA                                                                                                                                     </td><td>NA                                                                                                                                     </td><td>NA                                                                                                                                     </td><td>Presentati                                                                                                                             </td><td>Question a                                                                                                                             </td><td>C:/Users/rossz/OneDrive/CC/data/ciq-dji/003144-ko/The Coca-Cola Company, Q2 2019 Earnings Call, Jul 23, 2019.pdf                       </td></tr>\n",
       "\t<tr><td>NA                                                                                                                                     </td><td>2019-07-23                                                                                                                             </td><td>NA                                                                                                                                     </td><td>NA                                                                                                                                     </td><td>NA                                                                                                                                     </td><td>Presentati                                                                                                                             </td><td>Question a                                                                                                                             </td><td>C:/Users/rossz/OneDrive/CC/data/ciq-dji/010983-utx/United Technologies Corporation, Q2 2019 Earnings Call, Jul 23, 2019.pdf            </td></tr>\n",
       "\t<tr><td>NA                                                                                                                                     </td><td>2019-07-23                                                                                                                             </td><td>NA                                                                                                                                     </td><td>NA                                                                                                                                     </td><td>NA                                                                                                                                     </td><td>Presentati                                                                                                                             </td><td>Question a                                                                                                                             </td><td>C:/Users/rossz/OneDrive/CC/data/ciq-dji/062689-trv/The Travelers Companies, Inc., Q2 2019 Earnings Call, Jul 23, 2019.pdf              </td></tr>\n",
       "\t<tr><td>NA                                                                                                                                     </td><td>2019-07-23                                                                                                                             </td><td>NA                                                                                                                                     </td><td>NA                                                                                                                                     </td><td>NA                                                                                                                                     </td><td>Presentati                                                                                                                             </td><td>Question a                                                                                                                             </td><td>C:/Users/rossz/OneDrive/CC/data/ciq-dji/179534-v/Visa Inc., Q3 2019 Earnings Call, Jul 23, 2019.pdf                                    </td></tr>\n",
       "\t<tr><td>NA                                                                                                                                     </td><td>2019-07-24                                                                                                                             </td><td>NA                                                                                                                                     </td><td>NA                                                                                                                                     </td><td>NA                                                                                                                                     </td><td>Presentati                                                                                                                             </td><td>Question a                                                                                                                             </td><td>C:/Users/rossz/OneDrive/CC/data/ciq-dji/002285-ba/The Boeing Company, Q2 2019 Earnings Call, Jul 24, 2019.pdf                          </td></tr>\n",
       "\t<tr><td>NA                                                                                                                                     </td><td>2019-07-24                                                                                                                             </td><td>NA                                                                                                                                     </td><td>NA                                                                                                                                     </td><td>NA                                                                                                                                     </td><td>Presentati                                                                                                                             </td><td>Question a                                                                                                                             </td><td>C:/Users/rossz/OneDrive/CC/data/ciq-dji/002817-cat/Caterpillar Inc., Q2 2019 Earnings Call, Jul 24, 2019.pdf                           </td></tr>\n",
       "\t<tr><td>NA                                                                                                                                     </td><td>2019-07-24                                                                                                                             </td><td>NA                                                                                                                                     </td><td>NA                                                                                                                                     </td><td>NA                                                                                                                                     </td><td>Presentati                                                                                                                             </td><td>Question a                                                                                                                             </td><td>C:/Users/rossz/OneDrive/CC/data/ciq-dji/009899-t/ATT Inc., Q2 2019 Earnings Call, Jul 24, 2019.pdf                                     </td></tr>\n",
       "\t<tr><td>NA                                                                                                                                     </td><td>2019-07-25                                                                                                                             </td><td>NA                                                                                                                                     </td><td>NA                                                                                                                                     </td><td>NA                                                                                                                                     </td><td>Presentati                                                                                                                             </td><td>Question a                                                                                                                             </td><td>C:/Users/rossz/OneDrive/CC/data/ciq-dji/006008-intc/Intel Corporation, Q2 2019 Earnings Call, Jul 25, 2019.pdf                         </td></tr>\n",
       "\t<tr><td>NA                                                                                                                                     </td><td>2019-07-25                                                                                                                             </td><td>NA                                                                                                                                     </td><td>NA                                                                                                                                     </td><td>NA                                                                                                                                     </td><td>Presentati                                                                                                                             </td><td>Question a                                                                                                                             </td><td>C:/Users/rossz/OneDrive/CC/data/ciq-dji/006104-ip/International Paper Company, Q2 2019 Earnings Call, Jul 25, 2019.pdf                 </td></tr>\n",
       "\t<tr><td>NA                                                                                                                                     </td><td>2019-07-25                                                                                                                             </td><td>NA                                                                                                                                     </td><td>NA                                                                                                                                     </td><td>NA                                                                                                                                     </td><td>Presentati                                                                                                                             </td><td>Question a                                                                                                                             </td><td>C:/Users/rossz/OneDrive/CC/data/ciq-dji/007435-mmm/3M Company, Q2 2019 Earnings Call, Jul 25, 2019.pdf                                 </td></tr>\n",
       "\t<tr><td>NA                                                                                                                                     </td><td>2019-07-26                                                                                                                             </td><td>NA                                                                                                                                     </td><td>NA                                                                                                                                     </td><td>NA                                                                                                                                     </td><td>Presentati                                                                                                                             </td><td>Question a                                                                                                                             </td><td>C:/Users/rossz/OneDrive/CC/data/ciq-dji/005234-gt/The Goodyear Tire  Rubber Company, Q2 2019 Earnings Call, Jul 26, 2019.pdf           </td></tr>\n",
       "\t<tr><td>NA                                                                                                                                     </td><td>2019-07-26                                                                                                                             </td><td>NA                                                                                                                                     </td><td>NA                                                                                                                                     </td><td>NA                                                                                                                                     </td><td>Presentati                                                                                                                             </td><td>Question a                                                                                                                             </td><td>C:/Users/rossz/OneDrive/CC/data/ciq-dji/007154-mcd/McDonalds Corporation, Q2 2019 Earnings Call, Jul 26, 2019.pdf                      </td></tr>\n",
       "\t<tr><td>NA                                                                                                                                     </td><td>2019-07-29                                                                                                                             </td><td>NA                                                                                                                                     </td><td>NA                                                                                                                                     </td><td>NA                                                                                                                                     </td><td>Presentati                                                                                                                             </td><td>Question a                                                                                                                             </td><td>C:/Users/rossz/OneDrive/CC/data/ciq-dji/008530-pfe/Pfizer Inc., Q2 2019 Earnings Call, Jul 29, 2019.pdf                                </td></tr>\n",
       "\t<tr><td>NA                                                                                                                                     </td><td>2019-07-30                                                                                                                             </td><td>NA                                                                                                                                     </td><td>NA                                                                                                                                     </td><td>NA                                                                                                                                     </td><td>Presentati                                                                                                                             </td><td>Question a                                                                                                                             </td><td>C:/Users/rossz/OneDrive/CC/data/ciq-dji/001690-appl/Apple Inc., Q3 2019 Earnings Call, Jul 30, 2019.pdf                                </td></tr>\n",
       "\t<tr><td>NA                                                                                                                                     </td><td>2019-07-30                                                                                                                             </td><td>NA                                                                                                                                     </td><td>NA                                                                                                                                     </td><td>NA                                                                                                                                     </td><td>Presentati                                                                                                                             </td><td>Question a                                                                                                                             </td><td>C:/Users/rossz/OneDrive/CC/data/ciq-dji/007257-mrk/Merck  Co., Inc., Q2 2019 Earnings Call, Jul 30, 2019.pdf                           </td></tr>\n",
       "\t<tr><td>NA                                                                                                                                     </td><td>2019-07-30                                                                                                                             </td><td>NA                                                                                                                                     </td><td>NA                                                                                                                                     </td><td>NA                                                                                                                                     </td><td>Presentati                                                                                                                             </td><td>Question a                                                                                                                             </td><td>C:/Users/rossz/OneDrive/CC/data/ciq-dji/008543-mo/Altria Group, Inc., Q2 2019 Earnings Call, Jul 30, 2019.pdf                          </td></tr>\n",
       "\t<tr><td>NA                                                                                                                                     </td><td>2019-07-30                                                                                                                             </td><td>NA                                                                                                                                     </td><td>NA                                                                                                                                     </td><td>NA                                                                                                                                     </td><td>Presentati                                                                                                                             </td><td>Question a                                                                                                                             </td><td>C:/Users/rossz/OneDrive/CC/data/ciq-dji/008762-pg/The Procter  Gamble Company, Q4 2019 Earnings Call, Jul 30, 2019.pdf                 </td></tr>\n",
       "\t<tr><td>NA                                                                                                                                     </td><td>2019-07-31                                                                                                                             </td><td>NA                                                                                                                                     </td><td>NA                                                                                                                                     </td><td>NA                                                                                                                                     </td><td>Presentati                                                                                                                             </td><td>Question a                                                                                                                             </td><td>C:/Users/rossz/OneDrive/CC/data/ciq-dji/005047-ge/General Electric Company, Q2 2019 Earnings Call, Jul 31, 2019.pdf                    </td></tr>\n",
       "\t<tr><td>NA                                                                                                                                     </td><td>2019-08-01                                                                                                                             </td><td>NA                                                                                                                                     </td><td>NA                                                                                                                                     </td><td>NA                                                                                                                                     </td><td>Presentati                                                                                                                             </td><td>Question a                                                                                                                             </td><td>C:/Users/rossz/OneDrive/CC/data/ciq-dji/002136-vz/Verizon Communications Inc., Q2 2019 Earnings Call, Aug 01, 2019.pdf                 </td></tr>\n",
       "\t<tr><td>NA                                                                                                                                     </td><td>2019-08-01                                                                                                                             </td><td>NA                                                                                                                                     </td><td>NA                                                                                                                                     </td><td>NA                                                                                                                                     </td><td>Presentati                                                                                                                             </td><td>Question a                                                                                                                             </td><td>C:/Users/rossz/OneDrive/CC/data/ciq-dji/004060-dd/DuPont de Nemours, Inc., Q2 2019 Earnings Call, Aug 01, 2019.pdf                     </td></tr>\n",
       "\t<tr><td>NA                                                                                                                                     </td><td>2019-08-01                                                                                                                             </td><td>NA                                                                                                                                     </td><td>NA                                                                                                                                     </td><td>NA                                                                                                                                     </td><td>Presentati                                                                                                                             </td><td>Question a                                                                                                                             </td><td>C:/Users/rossz/OneDrive/CC/data/ciq-dji/005073-gm/General Motors Company, Q2 2019 Earnings Call, Aug 01, 2019.pdf                      </td></tr>\n",
       "\t<tr><td>NA                                                                                                                                     </td><td>2019-08-02                                                                                                                             </td><td>NA                                                                                                                                     </td><td>NA                                                                                                                                     </td><td>NA                                                                                                                                     </td><td>Presentati                                                                                                                             </td><td>Question a                                                                                                                             </td><td>C:/Users/rossz/OneDrive/CC/data/ciq-dji/002991-cvx/Chevron Corporation, Q2 2019 Earnings Call, Aug 02, 2019.pdf                        </td></tr>\n",
       "\t<tr><td>NA                                                                                                                                     </td><td>2019-08-02                                                                                                                             </td><td>NA                                                                                                                                     </td><td>NA                                                                                                                                     </td><td>NA                                                                                                                                     </td><td>Presentati                                                                                                                             </td><td>Question a                                                                                                                             </td><td>C:/Users/rossz/OneDrive/CC/data/ciq-dji/004503-xom/Exxon Mobil Corporation, Q2 2019 Earnings Call, Aug 02, 2019.pdf                    </td></tr>\n",
       "\t<tr><td>NA                                                                                                                                     </td><td>2019-08-06                                                                                                                             </td><td>NA                                                                                                                                     </td><td>NA                                                                                                                                     </td><td>NA                                                                                                                                     </td><td>Presentati                                                                                                                             </td><td>Question a                                                                                                                             </td><td>C:/Users/rossz/OneDrive/CC/data/ciq-dji/003980-dis/The Walt Disney Company, Q3 2019 Earnings Call, Aug 06, 2019.pdf                    </td></tr>\n",
       "\t<tr><td>NA                                                                                                                                     </td><td>2019-08-08                                                                                                                             </td><td>NA                                                                                                                                     </td><td>NA                                                                                                                                     </td><td>NA                                                                                                                                     </td><td>Presentati                                                                                                                             </td><td>Question a                                                                                                                             </td><td>C:/Users/rossz/OneDrive/CC/data/ciq-dji/001487-aig/American International Group, Inc., Q2 2019 Earnings Call, Aug 08, 2019.pdf         </td></tr>\n",
       "\t<tr><td>NA                                                                                                                                     </td><td>2019-08-08                                                                                                                             </td><td>NA                                                                                                                                     </td><td>NA                                                                                                                                     </td><td>NA                                                                                                                                     </td><td>Presentati                                                                                                                             </td><td>Question a                                                                                                                             </td><td>C:/Users/rossz/OneDrive/CC/data/ciq-dji/004194-kodk/Eastman Kodak Company, Q2 2019 Earnings Call, Aug 08, 2019.pdf                     </td></tr>\n",
       "\t<tr><td>NA                                                                                                                                     </td><td>2019-08-14                                                                                                                             </td><td>NA                                                                                                                                     </td><td>NA                                                                                                                                     </td><td>NA                                                                                                                                     </td><td>Presentati                                                                                                                             </td><td>Question a                                                                                                                             </td><td>C:/Users/rossz/OneDrive/CC/data/ciq-dji/020779-csco/Cisco Systems, Inc., Q4 2019 Earnings Call, Aug 14, 2019.pdf                       </td></tr>\n",
       "\t<tr><td>NA                                                                                                                                     </td><td>2019-08-20                                                                                                                             </td><td>NA                                                                                                                                     </td><td>NA                                                                                                                                     </td><td>NA                                                                                                                                     </td><td>Presentati                                                                                                                             </td><td>Question a                                                                                                                             </td><td>C:/Users/rossz/OneDrive/CC/data/ciq-dji/005680-hd/The Home Depot, Inc., Q2 2020 Earnings Call, Aug 20, 2019.pdf                        </td></tr>\n",
       "\t<tr><td>NA                                                                                                                                     </td><td>2019-08-22                                                                                                                             </td><td>NA                                                                                                                                     </td><td>NA                                                                                                                                     </td><td>NA                                                                                                                                     </td><td>Presentati                                                                                                                             </td><td>Question a                                                                                                                             </td><td>C:/Users/rossz/OneDrive/CC/data/ciq-dji/005606-hpq/HP Inc., Q3 2019 Earnings Call, Aug 22, 2019.pdf                                    </td></tr>\n",
       "\t<tr><td>NA                                                                                                                                     </td><td>2019-09-24                                                                                                                             </td><td>NA                                                                                                                                     </td><td>NA                                                                                                                                     </td><td>NA                                                                                                                                     </td><td>Presentati                                                                                                                             </td><td>Question a                                                                                                                             </td><td>C:/Users/rossz/OneDrive/CC/data/ciq-dji/007906-nke/NIKE, Inc., Q1 2020 Earnings Call, Sep 24, 2019.pdf                                 </td></tr>\n",
       "\t<tr><td>NA                                                                                                                                     </td><td>2019-10-15                                                                                                                             </td><td>NA                                                                                                                                     </td><td>NA                                                                                                                                     </td><td>NA                                                                                                                                     </td><td>Presentati                                                                                                                             </td><td>Question a                                                                                                                             </td><td>C:/Users/rossz/OneDrive/CC/data/ciq-dji/002968-jpm/JPMorgan Chase  Co., Q3 2019 Earnings Call, Oct 15, 2019.pdf                        </td></tr>\n",
       "\t<tr><td>NA                                                                                                                                     </td><td>2019-10-15                                                                                                                             </td><td>NA                                                                                                                                     </td><td>NA                                                                                                                                     </td><td>NA                                                                                                                                     </td><td>Presentati                                                                                                                             </td><td>Question a                                                                                                                             </td><td>C:/Users/rossz/OneDrive/CC/data/ciq-dji/003243-c/Citigroup Inc., Q3 2019 Earnings Call, Oct 15, 2019.pdf                               </td></tr>\n",
       "\t<tr><td>NA                                                                                                                                     </td><td>2019-10-15                                                                                                                             </td><td>NA                                                                                                                                     </td><td>NA                                                                                                                                     </td><td>NA                                                                                                                                     </td><td>Presentati                                                                                                                             </td><td>Question a                                                                                                                             </td><td>C:/Users/rossz/OneDrive/CC/data/ciq-dji/006266-jnj/Johnson  Johnson, Q3 2019 Earnings Call, Oct 15, 2019.pdf                           </td></tr>\n",
       "\t<tr><td>NA                                                                                                                                     </td><td>2019-10-15                                                                                                                             </td><td>NA                                                                                                                                     </td><td>NA                                                                                                                                     </td><td>NA                                                                                                                                     </td><td>Presentati                                                                                                                             </td><td>Question a                                                                                                                             </td><td>C:/Users/rossz/OneDrive/CC/data/ciq-dji/010903-unh/UnitedHealth Group Incorporated, Q3 2019 Earnings Call, Oct 15, 2019.pdf            </td></tr>\n",
       "\t<tr><td>NA                                                                                                                                     </td><td>2019-10-15                                                                                                                             </td><td>NA                                                                                                                                     </td><td>NA                                                                                                                                     </td><td>NA                                                                                                                                     </td><td>Presentati                                                                                                                             </td><td>Question a                                                                                                                             </td><td>C:/Users/rossz/OneDrive/CC/data/ciq-dji/114628-gs/The Goldman Sachs Group, Inc., Q3 2019 Earnings Call, Oct 15, 2019.pdf               </td></tr>\n",
       "\t<tr><td>NA                                                                                                                                     </td><td>2019-10-16                                                                                                                             </td><td>NA                                                                                                                                     </td><td>NA                                                                                                                                     </td><td>NA                                                                                                                                     </td><td>Presentati                                                                                                                             </td><td>Question a                                                                                                                             </td><td>C:/Users/rossz/OneDrive/CC/data/ciq-dji/006066-ibm/International Business Machines Corporation, Q3 2019 Earnings Call, Oct 16, 2019.pdf</td></tr>\n",
       "\t<tr><td>NA                                                                                                                                     </td><td>2019-10-16                                                                                                                             </td><td>NA                                                                                                                                     </td><td>NA                                                                                                                                     </td><td>NA                                                                                                                                     </td><td>Presentati                                                                                                                             </td><td>Question a                                                                                                                             </td><td>C:/Users/rossz/OneDrive/CC/data/ciq-dji/007647-bac/Bank of America Corporation, Q3 2019 Earnings Call, Oct 16, 2019.pdf                </td></tr>\n",
       "\t<tr><td>NA                                                                                                                                     </td><td>2019-10-17                                                                                                                             </td><td>NA                                                                                                                                     </td><td>NA                                                                                                                                     </td><td>NA                                                                                                                                     </td><td>Presentati                                                                                                                             </td><td>Question a                                                                                                                             </td><td>C:/Users/rossz/OneDrive/CC/data/ciq-dji/001300-hon/Honeywell International Inc., Q3 2019 Earnings Call, Oct 17, 2019.pdf               </td></tr>\n",
       "\t<tr><td>NA                                                                                                                                     </td><td>2019-10-18                                                                                                                             </td><td>NA                                                                                                                                     </td><td>NA                                                                                                                                     </td><td>NA                                                                                                                                     </td><td>Presentati                                                                                                                             </td><td>Question a                                                                                                                             </td><td>C:/Users/rossz/OneDrive/CC/data/ciq-dji/001447-axp/American Express Company, Q3 2019 Earnings Call, Oct 18, 2019.pdf                   </td></tr>\n",
       "\t<tr><td>NA                                                                                                                                     </td><td>2019-10-18                                                                                                                             </td><td>NA                                                                                                                                     </td><td>NA                                                                                                                                     </td><td>NA                                                                                                                                     </td><td>Presentati                                                                                                                             </td><td>Question a                                                                                                                             </td><td>C:/Users/rossz/OneDrive/CC/data/ciq-dji/003144-ko/The Coca-Cola Company, Q3 2019 Earnings Call, Oct 18, 2019.pdf                       </td></tr>\n",
       "\t<tr><td>NA                                                                                                                                     </td><td>2019-10-22                                                                                                                             </td><td>NA                                                                                                                                     </td><td>NA                                                                                                                                     </td><td>NA                                                                                                                                     </td><td>Presentati                                                                                                                             </td><td>Question a                                                                                                                             </td><td>C:/Users/rossz/OneDrive/CC/data/ciq-dji/007154-mcd/McDonalds Corporation, Q3 2019 Earnings Call, Oct 22, 2019.pdf                      </td></tr>\n",
       "\t<tr><td>NA                                                                                                                                     </td><td>2019-10-22                                                                                                                             </td><td>NA                                                                                                                                     </td><td>NA                                                                                                                                     </td><td>NA                                                                                                                                     </td><td>Presentati                                                                                                                             </td><td>Question a                                                                                                                             </td><td>C:/Users/rossz/OneDrive/CC/data/ciq-dji/008762-pg/The Procter  Gamble Company, Q1 2020 Earnings Call, Oct 22, 2019.pdf                 </td></tr>\n",
       "\t<tr><td>NA                                                                                                                                     </td><td>2019-10-22                                                                                                                             </td><td>NA                                                                                                                                     </td><td>NA                                                                                                                                     </td><td>NA                                                                                                                                     </td><td>Presentati                                                                                                                             </td><td>Question a                                                                                                                             </td><td>C:/Users/rossz/OneDrive/CC/data/ciq-dji/010983-utx/United Technologies Corporation, Q3 2019 Earnings Call, Oct 22, 2019.pdf            </td></tr>\n",
       "\t<tr><td>NA                                                                                                                                     </td><td>2019-10-22                                                                                                                             </td><td>NA                                                                                                                                     </td><td>NA                                                                                                                                     </td><td>NA                                                                                                                                     </td><td>Presentati                                                                                                                             </td><td>Question a                                                                                                                             </td><td>C:/Users/rossz/OneDrive/CC/data/ciq-dji/062689-trv/The Travelers Companies, Inc., Q3 2019 Earnings Call, Oct 22, 2019.pdf              </td></tr>\n",
       "\t<tr><td>NA                                                                                                                                     </td><td>2019-10-23                                                                                                                             </td><td>NA                                                                                                                                     </td><td>NA                                                                                                                                     </td><td>NA                                                                                                                                     </td><td>Presentati                                                                                                                             </td><td>Question a                                                                                                                             </td><td>C:/Users/rossz/OneDrive/CC/data/ciq-dji/002285-ba/The Boeing Company, Q3 2019 Earnings Call, Oct 23, 2019.pdf                          </td></tr>\n",
       "\t<tr><td>NA                                                                                                                                     </td><td>2019-10-23                                                                                                                             </td><td>NA                                                                                                                                     </td><td>NA                                                                                                                                     </td><td>NA                                                                                                                                     </td><td>Presentati                                                                                                                             </td><td>Question a                                                                                                                             </td><td>C:/Users/rossz/OneDrive/CC/data/ciq-dji/002817-cat/Caterpillar Inc., Q3 2019 Earnings Call, Oct 23, 2019.pdf                           </td></tr>\n",
       "\t<tr><td>NA                                                                                                                                     </td><td>2019-10-23                                                                                                                             </td><td>NA                                                                                                                                     </td><td>NA                                                                                                                                     </td><td>NA                                                                                                                                     </td><td>Presentati                                                                                                                             </td><td>Question a                                                                                                                             </td><td>C:/Users/rossz/OneDrive/CC/data/ciq-dji/012141-msft/Microsoft Corporation, Q1 2020 Earnings Call, Oct 23, 2019.pdf                     </td></tr>\n",
       "\t<tr><td>NA                                                                                                                                     </td><td>2019-10-24                                                                                                                             </td><td>NA                                                                                                                                     </td><td>NA                                                                                                                                     </td><td>NA                                                                                                                                     </td><td>Presentati                                                                                                                             </td><td>Question a                                                                                                                             </td><td>C:/Users/rossz/OneDrive/CC/data/ciq-dji/006008-intc/Intel Corporation, Q3 2019 Earnings Call, Oct 24, 2019.pdf                         </td></tr>\n",
       "\t<tr><td>NA                                                                                                                                     </td><td>2019-10-24                                                                                                                             </td><td>NA                                                                                                                                     </td><td>NA                                                                                                                                     </td><td>NA                                                                                                                                     </td><td>Presentati                                                                                                                             </td><td>Question a                                                                                                                             </td><td>C:/Users/rossz/OneDrive/CC/data/ciq-dji/007435-mmm/3M Company, Q3 2019 Earnings Call, Oct 24, 2019.pdf                                 </td></tr>\n",
       "\t<tr><td>NA                                                                                                                                     </td><td>2019-10-24                                                                                                                             </td><td>NA                                                                                                                                     </td><td>NA                                                                                                                                     </td><td>NA                                                                                                                                     </td><td>Presentati                                                                                                                             </td><td>Question a                                                                                                                             </td><td>C:/Users/rossz/OneDrive/CC/data/ciq-dji/179534-v/Visa Inc., Q4 2019 Earnings Call, Oct 24, 2019.pdf                                    </td></tr>\n",
       "\t<tr><td>NA                                                                                                                                     </td><td>2019-10-25                                                                                                                             </td><td>NA                                                                                                                                     </td><td>NA                                                                                                                                     </td><td>NA                                                                                                                                     </td><td>Presentati                                                                                                                             </td><td>Question a                                                                                                                             </td><td>C:/Users/rossz/OneDrive/CC/data/ciq-dji/002136-vz/Verizon Communications Inc., Q3 2019 Earnings Call, Oct 25, 2019.pdf                 </td></tr>\n",
       "\t<tr><td>NA                                                                                                                                     </td><td>2019-10-25                                                                                                                             </td><td>NA                                                                                                                                     </td><td>NA                                                                                                                                     </td><td>NA                                                                                                                                     </td><td>Presentati                                                                                                                             </td><td>Question a                                                                                                                             </td><td>C:/Users/rossz/OneDrive/CC/data/ciq-dji/005234-gt/The Goodyear Tire  Rubber Company, Q3 2019 Earnings Call, Oct 25, 2019.pdf           </td></tr>\n",
       "\t<tr><td>NA                                                                                                                                     </td><td>2019-10-28                                                                                                                             </td><td>NA                                                                                                                                     </td><td>NA                                                                                                                                     </td><td>NA                                                                                                                                     </td><td>Presentati                                                                                                                             </td><td>Question a                                                                                                                             </td><td>C:/Users/rossz/OneDrive/CC/data/ciq-dji/009899-t/ATT Inc., Q3 2019 Earnings Call, Oct 28, 2019.pdf                                     </td></tr>\n",
       "\t<tr><td>NA                                                                                                                                     </td><td>2019-10-28                                                                                                                             </td><td>NA                                                                                                                                     </td><td>NA                                                                                                                                     </td><td>NA                                                                                                                                     </td><td>Presentati                                                                                                                             </td><td>Question a                                                                                                                             </td><td>C:/Users/rossz/OneDrive/CC/data/ciq-dji/011264-wba/Walgreens Boots Alliance, Inc., Q4 2019 Earnings Call, Oct 28, 2019.pdf             </td></tr>\n",
       "\t<tr><td>NA                                                                                                                                     </td><td>2019-10-29                                                                                                                             </td><td>NA                                                                                                                                     </td><td>NA                                                                                                                                     </td><td>NA                                                                                                                                     </td><td>Presentati                                                                                                                             </td><td>Question a                                                                                                                             </td><td>C:/Users/rossz/OneDrive/CC/data/ciq-dji/005073-gm/General Motors Company, Q3 2019 Earnings Call, Oct 29, 2019.pdf                      </td></tr>\n",
       "\t<tr><td>NA                                                                                                                                     </td><td>2019-10-29                                                                                                                             </td><td>NA                                                                                                                                     </td><td>NA                                                                                                                                     </td><td>NA                                                                                                                                     </td><td>Presentati                                                                                                                             </td><td>Question a                                                                                                                             </td><td>C:/Users/rossz/OneDrive/CC/data/ciq-dji/007257-mrk/Merck  Co., Inc., Q3 2019 Earnings Call, Oct 29, 2019.pdf                           </td></tr>\n",
       "\t<tr><td>NA                                                                                                                                     </td><td>2019-10-29                                                                                                                             </td><td>NA                                                                                                                                     </td><td>NA                                                                                                                                     </td><td>NA                                                                                                                                     </td><td>Presentati                                                                                                                             </td><td>Question a                                                                                                                             </td><td>C:/Users/rossz/OneDrive/CC/data/ciq-dji/008530-pfe/Pfizer Inc., Q3 2019 Earnings Call, Oct 29, 2019.pdf                                </td></tr>\n",
       "\t<tr><td>NA                                                                                                                                     </td><td>2019-10-30                                                                                                                             </td><td>NA                                                                                                                                     </td><td>NA                                                                                                                                     </td><td>NA                                                                                                                                     </td><td>Presentati                                                                                                                             </td><td>Question a                                                                                                                             </td><td>C:/Users/rossz/OneDrive/CC/data/ciq-dji/001690-appl/Apple Inc., Q4 2019 Earnings Call, Oct 30, 2019.pdf                                </td></tr>\n",
       "\t<tr><td>NA                                                                                                                                     </td><td>2019-10-30                                                                                                                             </td><td>NA                                                                                                                                     </td><td>NA                                                                                                                                     </td><td>NA                                                                                                                                     </td><td>Presentati                                                                                                                             </td><td>Question a                                                                                                                             </td><td>C:/Users/rossz/OneDrive/CC/data/ciq-dji/005047-ge/General Electric Company, Q3 2019 Earnings Call, Oct 30, 2019.pdf                    </td></tr>\n",
       "\t<tr><td>NA                                                                                                                                     </td><td>2019-10-31                                                                                                                             </td><td>NA                                                                                                                                     </td><td>NA                                                                                                                                     </td><td>NA                                                                                                                                     </td><td>Presentati                                                                                                                             </td><td>Question a                                                                                                                             </td><td>C:/Users/rossz/OneDrive/CC/data/ciq-dji/004060-dd/DuPont de Nemours, Inc., Q3 2019 Earnings Call, Oct 31, 2019.pdf                     </td></tr>\n",
       "\t<tr><td>NA                                                                                                                                     </td><td>2019-10-31                                                                                                                             </td><td>NA                                                                                                                                     </td><td>NA                                                                                                                                     </td><td>NA                                                                                                                                     </td><td>Presentati                                                                                                                             </td><td>Question a                                                                                                                             </td><td>C:/Users/rossz/OneDrive/CC/data/ciq-dji/006104-ip/International Paper Company, Q3 2019 Earnings Call, Oct 31, 2019.pdf                 </td></tr>\n",
       "\t<tr><td>NA                                                                                                                                     </td><td>2019-10-31                                                                                                                             </td><td>NA                                                                                                                                     </td><td>NA                                                                                                                                     </td><td>NA                                                                                                                                     </td><td>Presentati                                                                                                                             </td><td>Question a                                                                                                                             </td><td>C:/Users/rossz/OneDrive/CC/data/ciq-dji/008543-mo/Altria Group, Inc., Q3 2019 Earnings Call, Oct 31, 2019.pdf                          </td></tr>\n",
       "\t<tr><td>NA                                                                                                                                     </td><td>2019-11-01                                                                                                                             </td><td>NA                                                                                                                                     </td><td>NA                                                                                                                                     </td><td>NA                                                                                                                                     </td><td>Presentati                                                                                                                             </td><td>Question a                                                                                                                             </td><td>C:/Users/rossz/OneDrive/CC/data/ciq-dji/001487-aig/American International Group, Inc., Q3 2019 Earnings Call, Nov 01, 2019.pdf         </td></tr>\n",
       "\t<tr><td>NA                                                                                                                                     </td><td>2019-11-01                                                                                                                             </td><td>NA                                                                                                                                     </td><td>NA                                                                                                                                     </td><td>NA                                                                                                                                     </td><td>Presentati                                                                                                                             </td><td>Question a                                                                                                                             </td><td>C:/Users/rossz/OneDrive/CC/data/ciq-dji/002991-cvx/Chevron Corporation, Q3 2019 Earnings Call, Nov 01, 2019.pdf                        </td></tr>\n",
       "\t<tr><td>NA                                                                                                                                     </td><td>2019-11-01                                                                                                                             </td><td>NA                                                                                                                                     </td><td>NA                                                                                                                                     </td><td>NA                                                                                                                                     </td><td>Presentati                                                                                                                             </td><td>Question a                                                                                                                             </td><td>C:/Users/rossz/OneDrive/CC/data/ciq-dji/004503-xom/Exxon Mobil Corporation, Q3 2019 Earnings Call, Nov 01, 2019.pdf                    </td></tr>\n",
       "\t<tr><td>NA                                                                                                                                     </td><td>2019-11-07                                                                                                                             </td><td>NA                                                                                                                                     </td><td>NA                                                                                                                                     </td><td>NA                                                                                                                                     </td><td>Presentati                                                                                                                             </td><td>Question a                                                                                                                             </td><td>C:/Users/rossz/OneDrive/CC/data/ciq-dji/003980-dis/The Walt Disney Company, Q4 2019 Earnings Call, Nov 07, 2019.pdf                    </td></tr>\n",
       "\t<tr><td>NA                                                                                                                                     </td><td>2019-11-07                                                                                                                             </td><td>NA                                                                                                                                     </td><td>NA                                                                                                                                     </td><td>NA                                                                                                                                     </td><td>Presentati                                                                                                                             </td><td>NA                                                                                                                                     </td><td>C:/Users/rossz/OneDrive/CC/data/ciq-dji/004194-kodk/Eastman Kodak Company, Q3 2019 Earnings Call, Nov 07, 2019.pdf                     </td></tr>\n",
       "\t<tr><td>NA                                                                                                                                     </td><td>2019-11-13                                                                                                                             </td><td>NA                                                                                                                                     </td><td>NA                                                                                                                                     </td><td>NA                                                                                                                                     </td><td>Presentati                                                                                                                             </td><td>Question a                                                                                                                             </td><td>C:/Users/rossz/OneDrive/CC/data/ciq-dji/020779-csco/Cisco Systems, Inc., Q1 2020 Earnings Call, Nov 13, 2019.pdf                       </td></tr>\n",
       "</tbody>\n",
       "</table>\n"
      ],
      "text/latex": [
       "\\begin{tabular}{r|llllllll}\n",
       " gvkey & headline\\_date & mid\\_utc & headline & keydevid & md & qa & cc\\_path\\\\\n",
       "\\hline\n",
       "\t NA                                                                                                                                      & 2010-08-12                                                                                                                              & NA                                                                                                                                      & NA                                                                                                                                      & NA                                                                                                                                      & Presentati                                                                                                                              & Question a                                                                                                                              & C:/Users/rossz/OneDrive/CC/data/ciq-dji/005073-gm/General Motors Company, Q2 2010 Earnings Call, Aug-12-2010.pdf                       \\\\\n",
       "\t NA                                                                                                                                      & 2010-11-10                                                                                                                              & NA                                                                                                                                      & NA                                                                                                                                      & NA                                                                                                                                      & Presentati                                                                                                                              & NA                                                                                                                                      & C:/Users/rossz/OneDrive/CC/data/ciq-dji/005073-gm/General Motors Company, Q3 2010 Earnings Call, Nov 10, 2010.pdf                      \\\\\n",
       "\t NA                                                                                                                                      & 2019-06-27                                                                                                                              & NA                                                                                                                                      & NA                                                                                                                                      & NA                                                                                                                                      & Presentati                                                                                                                              & Question a                                                                                                                              & C:/Users/rossz/OneDrive/CC/data/ciq-dji/007906-nke/NIKE, Inc., Q4 2019 Earnings Call, Jun 27, 2019.pdf                                 \\\\\n",
       "\t NA                                                                                                                                      & 2019-06-27                                                                                                                              & NA                                                                                                                                      & NA                                                                                                                                      & NA                                                                                                                                      & Presentati                                                                                                                              & Question a                                                                                                                              & C:/Users/rossz/OneDrive/CC/data/ciq-dji/011264-wba/Walgreens Boots Alliance, Inc., Q3 2019 Earnings Call, Jun 27, 2019.pdf             \\\\\n",
       "\t NA                                                                                                                                      & 2019-07-15                                                                                                                              & NA                                                                                                                                      & NA                                                                                                                                      & NA                                                                                                                                      & Presentati                                                                                                                              & Question a                                                                                                                              & C:/Users/rossz/OneDrive/CC/data/ciq-dji/003243-c/Citigroup Inc., Q2 2019 Earnings Call, Jul 15, 2019.pdf                               \\\\\n",
       "\t NA                                                                                                                                      & 2019-07-16                                                                                                                              & NA                                                                                                                                      & NA                                                                                                                                      & NA                                                                                                                                      & Presentati                                                                                                                              & Question a                                                                                                                              & C:/Users/rossz/OneDrive/CC/data/ciq-dji/002968-jpm/JPMorgan Chase  Co., Q2 2019 Earnings Call, Jul 16, 2019.pdf                        \\\\\n",
       "\t NA                                                                                                                                      & 2019-07-16                                                                                                                              & NA                                                                                                                                      & NA                                                                                                                                      & NA                                                                                                                                      & Presentati                                                                                                                              & Question a                                                                                                                              & C:/Users/rossz/OneDrive/CC/data/ciq-dji/006266-jnj/Johnson  Johnson, Q2 2019 Earnings Call, Jul 16, 2019.pdf                           \\\\\n",
       "\t NA                                                                                                                                      & 2019-07-16                                                                                                                              & NA                                                                                                                                      & NA                                                                                                                                      & NA                                                                                                                                      & Presentati                                                                                                                              & Question a                                                                                                                              & C:/Users/rossz/OneDrive/CC/data/ciq-dji/114628-gs/The Goldman Sachs Group, Inc., Q2 2019 Earnings Call, Jul 16, 2019.pdf               \\\\\n",
       "\t NA                                                                                                                                      & 2019-07-17                                                                                                                              & NA                                                                                                                                      & NA                                                                                                                                      & NA                                                                                                                                      & Presentati                                                                                                                              & Question a                                                                                                                              & C:/Users/rossz/OneDrive/CC/data/ciq-dji/006066-ibm/International Business Machines Corporation, Q2 2019 Earnings Call, Jul 17, 2019.pdf\\\\\n",
       "\t NA                                                                                                                                      & 2019-07-17                                                                                                                              & NA                                                                                                                                      & NA                                                                                                                                      & NA                                                                                                                                      & Presentati                                                                                                                              & Question a                                                                                                                              & C:/Users/rossz/OneDrive/CC/data/ciq-dji/007647-bac/Bank of America Corporation, Q2 2019 Earnings Call, Jul 17, 2019.pdf                \\\\\n",
       "\t NA                                                                                                                                      & 2019-07-18                                                                                                                              & NA                                                                                                                                      & NA                                                                                                                                      & NA                                                                                                                                      & Presentati                                                                                                                              & Question a                                                                                                                              & C:/Users/rossz/OneDrive/CC/data/ciq-dji/001300-hon/Honeywell International Inc., Q2 2019 Earnings Call, Jul 18, 2019.pdf               \\\\\n",
       "\t NA                                                                                                                                      & 2019-07-18                                                                                                                              & NA                                                                                                                                      & NA                                                                                                                                      & NA                                                                                                                                      & Presentati                                                                                                                              & Question a                                                                                                                              & C:/Users/rossz/OneDrive/CC/data/ciq-dji/010903-unh/UnitedHealth Group Incorporated, Q2 2019 Earnings Call, Jul 18, 2019.pdf            \\\\\n",
       "\t NA                                                                                                                                      & 2019-07-18                                                                                                                              & NA                                                                                                                                      & NA                                                                                                                                      & NA                                                                                                                                      & Presentati                                                                                                                              & Question a                                                                                                                              & C:/Users/rossz/OneDrive/CC/data/ciq-dji/012141-msft/Microsoft Corporation, Q4 2019 Earnings Call, Jul 18, 2019.pdf                     \\\\\n",
       "\t NA                                                                                                                                      & 2019-07-19                                                                                                                              & NA                                                                                                                                      & NA                                                                                                                                      & NA                                                                                                                                      & Presentati                                                                                                                              & Question a                                                                                                                              & C:/Users/rossz/OneDrive/CC/data/ciq-dji/001447-axp/American Express Company, Q2 2019 Earnings Call, Jul 19, 2019.pdf                   \\\\\n",
       "\t NA                                                                                                                                      & 2019-07-23                                                                                                                              & NA                                                                                                                                      & NA                                                                                                                                      & NA                                                                                                                                      & Presentati                                                                                                                              & Question a                                                                                                                              & C:/Users/rossz/OneDrive/CC/data/ciq-dji/003144-ko/The Coca-Cola Company, Q2 2019 Earnings Call, Jul 23, 2019.pdf                       \\\\\n",
       "\t NA                                                                                                                                      & 2019-07-23                                                                                                                              & NA                                                                                                                                      & NA                                                                                                                                      & NA                                                                                                                                      & Presentati                                                                                                                              & Question a                                                                                                                              & C:/Users/rossz/OneDrive/CC/data/ciq-dji/010983-utx/United Technologies Corporation, Q2 2019 Earnings Call, Jul 23, 2019.pdf            \\\\\n",
       "\t NA                                                                                                                                      & 2019-07-23                                                                                                                              & NA                                                                                                                                      & NA                                                                                                                                      & NA                                                                                                                                      & Presentati                                                                                                                              & Question a                                                                                                                              & C:/Users/rossz/OneDrive/CC/data/ciq-dji/062689-trv/The Travelers Companies, Inc., Q2 2019 Earnings Call, Jul 23, 2019.pdf              \\\\\n",
       "\t NA                                                                                                                                      & 2019-07-23                                                                                                                              & NA                                                                                                                                      & NA                                                                                                                                      & NA                                                                                                                                      & Presentati                                                                                                                              & Question a                                                                                                                              & C:/Users/rossz/OneDrive/CC/data/ciq-dji/179534-v/Visa Inc., Q3 2019 Earnings Call, Jul 23, 2019.pdf                                    \\\\\n",
       "\t NA                                                                                                                                      & 2019-07-24                                                                                                                              & NA                                                                                                                                      & NA                                                                                                                                      & NA                                                                                                                                      & Presentati                                                                                                                              & Question a                                                                                                                              & C:/Users/rossz/OneDrive/CC/data/ciq-dji/002285-ba/The Boeing Company, Q2 2019 Earnings Call, Jul 24, 2019.pdf                          \\\\\n",
       "\t NA                                                                                                                                      & 2019-07-24                                                                                                                              & NA                                                                                                                                      & NA                                                                                                                                      & NA                                                                                                                                      & Presentati                                                                                                                              & Question a                                                                                                                              & C:/Users/rossz/OneDrive/CC/data/ciq-dji/002817-cat/Caterpillar Inc., Q2 2019 Earnings Call, Jul 24, 2019.pdf                           \\\\\n",
       "\t NA                                                                                                                                      & 2019-07-24                                                                                                                              & NA                                                                                                                                      & NA                                                                                                                                      & NA                                                                                                                                      & Presentati                                                                                                                              & Question a                                                                                                                              & C:/Users/rossz/OneDrive/CC/data/ciq-dji/009899-t/ATT Inc., Q2 2019 Earnings Call, Jul 24, 2019.pdf                                     \\\\\n",
       "\t NA                                                                                                                                      & 2019-07-25                                                                                                                              & NA                                                                                                                                      & NA                                                                                                                                      & NA                                                                                                                                      & Presentati                                                                                                                              & Question a                                                                                                                              & C:/Users/rossz/OneDrive/CC/data/ciq-dji/006008-intc/Intel Corporation, Q2 2019 Earnings Call, Jul 25, 2019.pdf                         \\\\\n",
       "\t NA                                                                                                                                      & 2019-07-25                                                                                                                              & NA                                                                                                                                      & NA                                                                                                                                      & NA                                                                                                                                      & Presentati                                                                                                                              & Question a                                                                                                                              & C:/Users/rossz/OneDrive/CC/data/ciq-dji/006104-ip/International Paper Company, Q2 2019 Earnings Call, Jul 25, 2019.pdf                 \\\\\n",
       "\t NA                                                                                                                                      & 2019-07-25                                                                                                                              & NA                                                                                                                                      & NA                                                                                                                                      & NA                                                                                                                                      & Presentati                                                                                                                              & Question a                                                                                                                              & C:/Users/rossz/OneDrive/CC/data/ciq-dji/007435-mmm/3M Company, Q2 2019 Earnings Call, Jul 25, 2019.pdf                                 \\\\\n",
       "\t NA                                                                                                                                      & 2019-07-26                                                                                                                              & NA                                                                                                                                      & NA                                                                                                                                      & NA                                                                                                                                      & Presentati                                                                                                                              & Question a                                                                                                                              & C:/Users/rossz/OneDrive/CC/data/ciq-dji/005234-gt/The Goodyear Tire  Rubber Company, Q2 2019 Earnings Call, Jul 26, 2019.pdf           \\\\\n",
       "\t NA                                                                                                                                      & 2019-07-26                                                                                                                              & NA                                                                                                                                      & NA                                                                                                                                      & NA                                                                                                                                      & Presentati                                                                                                                              & Question a                                                                                                                              & C:/Users/rossz/OneDrive/CC/data/ciq-dji/007154-mcd/McDonalds Corporation, Q2 2019 Earnings Call, Jul 26, 2019.pdf                      \\\\\n",
       "\t NA                                                                                                                                      & 2019-07-29                                                                                                                              & NA                                                                                                                                      & NA                                                                                                                                      & NA                                                                                                                                      & Presentati                                                                                                                              & Question a                                                                                                                              & C:/Users/rossz/OneDrive/CC/data/ciq-dji/008530-pfe/Pfizer Inc., Q2 2019 Earnings Call, Jul 29, 2019.pdf                                \\\\\n",
       "\t NA                                                                                                                                      & 2019-07-30                                                                                                                              & NA                                                                                                                                      & NA                                                                                                                                      & NA                                                                                                                                      & Presentati                                                                                                                              & Question a                                                                                                                              & C:/Users/rossz/OneDrive/CC/data/ciq-dji/001690-appl/Apple Inc., Q3 2019 Earnings Call, Jul 30, 2019.pdf                                \\\\\n",
       "\t NA                                                                                                                                      & 2019-07-30                                                                                                                              & NA                                                                                                                                      & NA                                                                                                                                      & NA                                                                                                                                      & Presentati                                                                                                                              & Question a                                                                                                                              & C:/Users/rossz/OneDrive/CC/data/ciq-dji/007257-mrk/Merck  Co., Inc., Q2 2019 Earnings Call, Jul 30, 2019.pdf                           \\\\\n",
       "\t NA                                                                                                                                      & 2019-07-30                                                                                                                              & NA                                                                                                                                      & NA                                                                                                                                      & NA                                                                                                                                      & Presentati                                                                                                                              & Question a                                                                                                                              & C:/Users/rossz/OneDrive/CC/data/ciq-dji/008543-mo/Altria Group, Inc., Q2 2019 Earnings Call, Jul 30, 2019.pdf                          \\\\\n",
       "\t NA                                                                                                                                      & 2019-07-30                                                                                                                              & NA                                                                                                                                      & NA                                                                                                                                      & NA                                                                                                                                      & Presentati                                                                                                                              & Question a                                                                                                                              & C:/Users/rossz/OneDrive/CC/data/ciq-dji/008762-pg/The Procter  Gamble Company, Q4 2019 Earnings Call, Jul 30, 2019.pdf                 \\\\\n",
       "\t NA                                                                                                                                      & 2019-07-31                                                                                                                              & NA                                                                                                                                      & NA                                                                                                                                      & NA                                                                                                                                      & Presentati                                                                                                                              & Question a                                                                                                                              & C:/Users/rossz/OneDrive/CC/data/ciq-dji/005047-ge/General Electric Company, Q2 2019 Earnings Call, Jul 31, 2019.pdf                    \\\\\n",
       "\t NA                                                                                                                                      & 2019-08-01                                                                                                                              & NA                                                                                                                                      & NA                                                                                                                                      & NA                                                                                                                                      & Presentati                                                                                                                              & Question a                                                                                                                              & C:/Users/rossz/OneDrive/CC/data/ciq-dji/002136-vz/Verizon Communications Inc., Q2 2019 Earnings Call, Aug 01, 2019.pdf                 \\\\\n",
       "\t NA                                                                                                                                      & 2019-08-01                                                                                                                              & NA                                                                                                                                      & NA                                                                                                                                      & NA                                                                                                                                      & Presentati                                                                                                                              & Question a                                                                                                                              & C:/Users/rossz/OneDrive/CC/data/ciq-dji/004060-dd/DuPont de Nemours, Inc., Q2 2019 Earnings Call, Aug 01, 2019.pdf                     \\\\\n",
       "\t NA                                                                                                                                      & 2019-08-01                                                                                                                              & NA                                                                                                                                      & NA                                                                                                                                      & NA                                                                                                                                      & Presentati                                                                                                                              & Question a                                                                                                                              & C:/Users/rossz/OneDrive/CC/data/ciq-dji/005073-gm/General Motors Company, Q2 2019 Earnings Call, Aug 01, 2019.pdf                      \\\\\n",
       "\t NA                                                                                                                                      & 2019-08-02                                                                                                                              & NA                                                                                                                                      & NA                                                                                                                                      & NA                                                                                                                                      & Presentati                                                                                                                              & Question a                                                                                                                              & C:/Users/rossz/OneDrive/CC/data/ciq-dji/002991-cvx/Chevron Corporation, Q2 2019 Earnings Call, Aug 02, 2019.pdf                        \\\\\n",
       "\t NA                                                                                                                                      & 2019-08-02                                                                                                                              & NA                                                                                                                                      & NA                                                                                                                                      & NA                                                                                                                                      & Presentati                                                                                                                              & Question a                                                                                                                              & C:/Users/rossz/OneDrive/CC/data/ciq-dji/004503-xom/Exxon Mobil Corporation, Q2 2019 Earnings Call, Aug 02, 2019.pdf                    \\\\\n",
       "\t NA                                                                                                                                      & 2019-08-06                                                                                                                              & NA                                                                                                                                      & NA                                                                                                                                      & NA                                                                                                                                      & Presentati                                                                                                                              & Question a                                                                                                                              & C:/Users/rossz/OneDrive/CC/data/ciq-dji/003980-dis/The Walt Disney Company, Q3 2019 Earnings Call, Aug 06, 2019.pdf                    \\\\\n",
       "\t NA                                                                                                                                      & 2019-08-08                                                                                                                              & NA                                                                                                                                      & NA                                                                                                                                      & NA                                                                                                                                      & Presentati                                                                                                                              & Question a                                                                                                                              & C:/Users/rossz/OneDrive/CC/data/ciq-dji/001487-aig/American International Group, Inc., Q2 2019 Earnings Call, Aug 08, 2019.pdf         \\\\\n",
       "\t NA                                                                                                                                      & 2019-08-08                                                                                                                              & NA                                                                                                                                      & NA                                                                                                                                      & NA                                                                                                                                      & Presentati                                                                                                                              & Question a                                                                                                                              & C:/Users/rossz/OneDrive/CC/data/ciq-dji/004194-kodk/Eastman Kodak Company, Q2 2019 Earnings Call, Aug 08, 2019.pdf                     \\\\\n",
       "\t NA                                                                                                                                      & 2019-08-14                                                                                                                              & NA                                                                                                                                      & NA                                                                                                                                      & NA                                                                                                                                      & Presentati                                                                                                                              & Question a                                                                                                                              & C:/Users/rossz/OneDrive/CC/data/ciq-dji/020779-csco/Cisco Systems, Inc., Q4 2019 Earnings Call, Aug 14, 2019.pdf                       \\\\\n",
       "\t NA                                                                                                                                      & 2019-08-20                                                                                                                              & NA                                                                                                                                      & NA                                                                                                                                      & NA                                                                                                                                      & Presentati                                                                                                                              & Question a                                                                                                                              & C:/Users/rossz/OneDrive/CC/data/ciq-dji/005680-hd/The Home Depot, Inc., Q2 2020 Earnings Call, Aug 20, 2019.pdf                        \\\\\n",
       "\t NA                                                                                                                                      & 2019-08-22                                                                                                                              & NA                                                                                                                                      & NA                                                                                                                                      & NA                                                                                                                                      & Presentati                                                                                                                              & Question a                                                                                                                              & C:/Users/rossz/OneDrive/CC/data/ciq-dji/005606-hpq/HP Inc., Q3 2019 Earnings Call, Aug 22, 2019.pdf                                    \\\\\n",
       "\t NA                                                                                                                                      & 2019-09-24                                                                                                                              & NA                                                                                                                                      & NA                                                                                                                                      & NA                                                                                                                                      & Presentati                                                                                                                              & Question a                                                                                                                              & C:/Users/rossz/OneDrive/CC/data/ciq-dji/007906-nke/NIKE, Inc., Q1 2020 Earnings Call, Sep 24, 2019.pdf                                 \\\\\n",
       "\t NA                                                                                                                                      & 2019-10-15                                                                                                                              & NA                                                                                                                                      & NA                                                                                                                                      & NA                                                                                                                                      & Presentati                                                                                                                              & Question a                                                                                                                              & C:/Users/rossz/OneDrive/CC/data/ciq-dji/002968-jpm/JPMorgan Chase  Co., Q3 2019 Earnings Call, Oct 15, 2019.pdf                        \\\\\n",
       "\t NA                                                                                                                                      & 2019-10-15                                                                                                                              & NA                                                                                                                                      & NA                                                                                                                                      & NA                                                                                                                                      & Presentati                                                                                                                              & Question a                                                                                                                              & C:/Users/rossz/OneDrive/CC/data/ciq-dji/003243-c/Citigroup Inc., Q3 2019 Earnings Call, Oct 15, 2019.pdf                               \\\\\n",
       "\t NA                                                                                                                                      & 2019-10-15                                                                                                                              & NA                                                                                                                                      & NA                                                                                                                                      & NA                                                                                                                                      & Presentati                                                                                                                              & Question a                                                                                                                              & C:/Users/rossz/OneDrive/CC/data/ciq-dji/006266-jnj/Johnson  Johnson, Q3 2019 Earnings Call, Oct 15, 2019.pdf                           \\\\\n",
       "\t NA                                                                                                                                      & 2019-10-15                                                                                                                              & NA                                                                                                                                      & NA                                                                                                                                      & NA                                                                                                                                      & Presentati                                                                                                                              & Question a                                                                                                                              & C:/Users/rossz/OneDrive/CC/data/ciq-dji/010903-unh/UnitedHealth Group Incorporated, Q3 2019 Earnings Call, Oct 15, 2019.pdf            \\\\\n",
       "\t NA                                                                                                                                      & 2019-10-15                                                                                                                              & NA                                                                                                                                      & NA                                                                                                                                      & NA                                                                                                                                      & Presentati                                                                                                                              & Question a                                                                                                                              & C:/Users/rossz/OneDrive/CC/data/ciq-dji/114628-gs/The Goldman Sachs Group, Inc., Q3 2019 Earnings Call, Oct 15, 2019.pdf               \\\\\n",
       "\t NA                                                                                                                                      & 2019-10-16                                                                                                                              & NA                                                                                                                                      & NA                                                                                                                                      & NA                                                                                                                                      & Presentati                                                                                                                              & Question a                                                                                                                              & C:/Users/rossz/OneDrive/CC/data/ciq-dji/006066-ibm/International Business Machines Corporation, Q3 2019 Earnings Call, Oct 16, 2019.pdf\\\\\n",
       "\t NA                                                                                                                                      & 2019-10-16                                                                                                                              & NA                                                                                                                                      & NA                                                                                                                                      & NA                                                                                                                                      & Presentati                                                                                                                              & Question a                                                                                                                              & C:/Users/rossz/OneDrive/CC/data/ciq-dji/007647-bac/Bank of America Corporation, Q3 2019 Earnings Call, Oct 16, 2019.pdf                \\\\\n",
       "\t NA                                                                                                                                      & 2019-10-17                                                                                                                              & NA                                                                                                                                      & NA                                                                                                                                      & NA                                                                                                                                      & Presentati                                                                                                                              & Question a                                                                                                                              & C:/Users/rossz/OneDrive/CC/data/ciq-dji/001300-hon/Honeywell International Inc., Q3 2019 Earnings Call, Oct 17, 2019.pdf               \\\\\n",
       "\t NA                                                                                                                                      & 2019-10-18                                                                                                                              & NA                                                                                                                                      & NA                                                                                                                                      & NA                                                                                                                                      & Presentati                                                                                                                              & Question a                                                                                                                              & C:/Users/rossz/OneDrive/CC/data/ciq-dji/001447-axp/American Express Company, Q3 2019 Earnings Call, Oct 18, 2019.pdf                   \\\\\n",
       "\t NA                                                                                                                                      & 2019-10-18                                                                                                                              & NA                                                                                                                                      & NA                                                                                                                                      & NA                                                                                                                                      & Presentati                                                                                                                              & Question a                                                                                                                              & C:/Users/rossz/OneDrive/CC/data/ciq-dji/003144-ko/The Coca-Cola Company, Q3 2019 Earnings Call, Oct 18, 2019.pdf                       \\\\\n",
       "\t NA                                                                                                                                      & 2019-10-22                                                                                                                              & NA                                                                                                                                      & NA                                                                                                                                      & NA                                                                                                                                      & Presentati                                                                                                                              & Question a                                                                                                                              & C:/Users/rossz/OneDrive/CC/data/ciq-dji/007154-mcd/McDonalds Corporation, Q3 2019 Earnings Call, Oct 22, 2019.pdf                      \\\\\n",
       "\t NA                                                                                                                                      & 2019-10-22                                                                                                                              & NA                                                                                                                                      & NA                                                                                                                                      & NA                                                                                                                                      & Presentati                                                                                                                              & Question a                                                                                                                              & C:/Users/rossz/OneDrive/CC/data/ciq-dji/008762-pg/The Procter  Gamble Company, Q1 2020 Earnings Call, Oct 22, 2019.pdf                 \\\\\n",
       "\t NA                                                                                                                                      & 2019-10-22                                                                                                                              & NA                                                                                                                                      & NA                                                                                                                                      & NA                                                                                                                                      & Presentati                                                                                                                              & Question a                                                                                                                              & C:/Users/rossz/OneDrive/CC/data/ciq-dji/010983-utx/United Technologies Corporation, Q3 2019 Earnings Call, Oct 22, 2019.pdf            \\\\\n",
       "\t NA                                                                                                                                      & 2019-10-22                                                                                                                              & NA                                                                                                                                      & NA                                                                                                                                      & NA                                                                                                                                      & Presentati                                                                                                                              & Question a                                                                                                                              & C:/Users/rossz/OneDrive/CC/data/ciq-dji/062689-trv/The Travelers Companies, Inc., Q3 2019 Earnings Call, Oct 22, 2019.pdf              \\\\\n",
       "\t NA                                                                                                                                      & 2019-10-23                                                                                                                              & NA                                                                                                                                      & NA                                                                                                                                      & NA                                                                                                                                      & Presentati                                                                                                                              & Question a                                                                                                                              & C:/Users/rossz/OneDrive/CC/data/ciq-dji/002285-ba/The Boeing Company, Q3 2019 Earnings Call, Oct 23, 2019.pdf                          \\\\\n",
       "\t NA                                                                                                                                      & 2019-10-23                                                                                                                              & NA                                                                                                                                      & NA                                                                                                                                      & NA                                                                                                                                      & Presentati                                                                                                                              & Question a                                                                                                                              & C:/Users/rossz/OneDrive/CC/data/ciq-dji/002817-cat/Caterpillar Inc., Q3 2019 Earnings Call, Oct 23, 2019.pdf                           \\\\\n",
       "\t NA                                                                                                                                      & 2019-10-23                                                                                                                              & NA                                                                                                                                      & NA                                                                                                                                      & NA                                                                                                                                      & Presentati                                                                                                                              & Question a                                                                                                                              & C:/Users/rossz/OneDrive/CC/data/ciq-dji/012141-msft/Microsoft Corporation, Q1 2020 Earnings Call, Oct 23, 2019.pdf                     \\\\\n",
       "\t NA                                                                                                                                      & 2019-10-24                                                                                                                              & NA                                                                                                                                      & NA                                                                                                                                      & NA                                                                                                                                      & Presentati                                                                                                                              & Question a                                                                                                                              & C:/Users/rossz/OneDrive/CC/data/ciq-dji/006008-intc/Intel Corporation, Q3 2019 Earnings Call, Oct 24, 2019.pdf                         \\\\\n",
       "\t NA                                                                                                                                      & 2019-10-24                                                                                                                              & NA                                                                                                                                      & NA                                                                                                                                      & NA                                                                                                                                      & Presentati                                                                                                                              & Question a                                                                                                                              & C:/Users/rossz/OneDrive/CC/data/ciq-dji/007435-mmm/3M Company, Q3 2019 Earnings Call, Oct 24, 2019.pdf                                 \\\\\n",
       "\t NA                                                                                                                                      & 2019-10-24                                                                                                                              & NA                                                                                                                                      & NA                                                                                                                                      & NA                                                                                                                                      & Presentati                                                                                                                              & Question a                                                                                                                              & C:/Users/rossz/OneDrive/CC/data/ciq-dji/179534-v/Visa Inc., Q4 2019 Earnings Call, Oct 24, 2019.pdf                                    \\\\\n",
       "\t NA                                                                                                                                      & 2019-10-25                                                                                                                              & NA                                                                                                                                      & NA                                                                                                                                      & NA                                                                                                                                      & Presentati                                                                                                                              & Question a                                                                                                                              & C:/Users/rossz/OneDrive/CC/data/ciq-dji/002136-vz/Verizon Communications Inc., Q3 2019 Earnings Call, Oct 25, 2019.pdf                 \\\\\n",
       "\t NA                                                                                                                                      & 2019-10-25                                                                                                                              & NA                                                                                                                                      & NA                                                                                                                                      & NA                                                                                                                                      & Presentati                                                                                                                              & Question a                                                                                                                              & C:/Users/rossz/OneDrive/CC/data/ciq-dji/005234-gt/The Goodyear Tire  Rubber Company, Q3 2019 Earnings Call, Oct 25, 2019.pdf           \\\\\n",
       "\t NA                                                                                                                                      & 2019-10-28                                                                                                                              & NA                                                                                                                                      & NA                                                                                                                                      & NA                                                                                                                                      & Presentati                                                                                                                              & Question a                                                                                                                              & C:/Users/rossz/OneDrive/CC/data/ciq-dji/009899-t/ATT Inc., Q3 2019 Earnings Call, Oct 28, 2019.pdf                                     \\\\\n",
       "\t NA                                                                                                                                      & 2019-10-28                                                                                                                              & NA                                                                                                                                      & NA                                                                                                                                      & NA                                                                                                                                      & Presentati                                                                                                                              & Question a                                                                                                                              & C:/Users/rossz/OneDrive/CC/data/ciq-dji/011264-wba/Walgreens Boots Alliance, Inc., Q4 2019 Earnings Call, Oct 28, 2019.pdf             \\\\\n",
       "\t NA                                                                                                                                      & 2019-10-29                                                                                                                              & NA                                                                                                                                      & NA                                                                                                                                      & NA                                                                                                                                      & Presentati                                                                                                                              & Question a                                                                                                                              & C:/Users/rossz/OneDrive/CC/data/ciq-dji/005073-gm/General Motors Company, Q3 2019 Earnings Call, Oct 29, 2019.pdf                      \\\\\n",
       "\t NA                                                                                                                                      & 2019-10-29                                                                                                                              & NA                                                                                                                                      & NA                                                                                                                                      & NA                                                                                                                                      & Presentati                                                                                                                              & Question a                                                                                                                              & C:/Users/rossz/OneDrive/CC/data/ciq-dji/007257-mrk/Merck  Co., Inc., Q3 2019 Earnings Call, Oct 29, 2019.pdf                           \\\\\n",
       "\t NA                                                                                                                                      & 2019-10-29                                                                                                                              & NA                                                                                                                                      & NA                                                                                                                                      & NA                                                                                                                                      & Presentati                                                                                                                              & Question a                                                                                                                              & C:/Users/rossz/OneDrive/CC/data/ciq-dji/008530-pfe/Pfizer Inc., Q3 2019 Earnings Call, Oct 29, 2019.pdf                                \\\\\n",
       "\t NA                                                                                                                                      & 2019-10-30                                                                                                                              & NA                                                                                                                                      & NA                                                                                                                                      & NA                                                                                                                                      & Presentati                                                                                                                              & Question a                                                                                                                              & C:/Users/rossz/OneDrive/CC/data/ciq-dji/001690-appl/Apple Inc., Q4 2019 Earnings Call, Oct 30, 2019.pdf                                \\\\\n",
       "\t NA                                                                                                                                      & 2019-10-30                                                                                                                              & NA                                                                                                                                      & NA                                                                                                                                      & NA                                                                                                                                      & Presentati                                                                                                                              & Question a                                                                                                                              & C:/Users/rossz/OneDrive/CC/data/ciq-dji/005047-ge/General Electric Company, Q3 2019 Earnings Call, Oct 30, 2019.pdf                    \\\\\n",
       "\t NA                                                                                                                                      & 2019-10-31                                                                                                                              & NA                                                                                                                                      & NA                                                                                                                                      & NA                                                                                                                                      & Presentati                                                                                                                              & Question a                                                                                                                              & C:/Users/rossz/OneDrive/CC/data/ciq-dji/004060-dd/DuPont de Nemours, Inc., Q3 2019 Earnings Call, Oct 31, 2019.pdf                     \\\\\n",
       "\t NA                                                                                                                                      & 2019-10-31                                                                                                                              & NA                                                                                                                                      & NA                                                                                                                                      & NA                                                                                                                                      & Presentati                                                                                                                              & Question a                                                                                                                              & C:/Users/rossz/OneDrive/CC/data/ciq-dji/006104-ip/International Paper Company, Q3 2019 Earnings Call, Oct 31, 2019.pdf                 \\\\\n",
       "\t NA                                                                                                                                      & 2019-10-31                                                                                                                              & NA                                                                                                                                      & NA                                                                                                                                      & NA                                                                                                                                      & Presentati                                                                                                                              & Question a                                                                                                                              & C:/Users/rossz/OneDrive/CC/data/ciq-dji/008543-mo/Altria Group, Inc., Q3 2019 Earnings Call, Oct 31, 2019.pdf                          \\\\\n",
       "\t NA                                                                                                                                      & 2019-11-01                                                                                                                              & NA                                                                                                                                      & NA                                                                                                                                      & NA                                                                                                                                      & Presentati                                                                                                                              & Question a                                                                                                                              & C:/Users/rossz/OneDrive/CC/data/ciq-dji/001487-aig/American International Group, Inc., Q3 2019 Earnings Call, Nov 01, 2019.pdf         \\\\\n",
       "\t NA                                                                                                                                      & 2019-11-01                                                                                                                              & NA                                                                                                                                      & NA                                                                                                                                      & NA                                                                                                                                      & Presentati                                                                                                                              & Question a                                                                                                                              & C:/Users/rossz/OneDrive/CC/data/ciq-dji/002991-cvx/Chevron Corporation, Q3 2019 Earnings Call, Nov 01, 2019.pdf                        \\\\\n",
       "\t NA                                                                                                                                      & 2019-11-01                                                                                                                              & NA                                                                                                                                      & NA                                                                                                                                      & NA                                                                                                                                      & Presentati                                                                                                                              & Question a                                                                                                                              & C:/Users/rossz/OneDrive/CC/data/ciq-dji/004503-xom/Exxon Mobil Corporation, Q3 2019 Earnings Call, Nov 01, 2019.pdf                    \\\\\n",
       "\t NA                                                                                                                                      & 2019-11-07                                                                                                                              & NA                                                                                                                                      & NA                                                                                                                                      & NA                                                                                                                                      & Presentati                                                                                                                              & Question a                                                                                                                              & C:/Users/rossz/OneDrive/CC/data/ciq-dji/003980-dis/The Walt Disney Company, Q4 2019 Earnings Call, Nov 07, 2019.pdf                    \\\\\n",
       "\t NA                                                                                                                                      & 2019-11-07                                                                                                                              & NA                                                                                                                                      & NA                                                                                                                                      & NA                                                                                                                                      & Presentati                                                                                                                              & NA                                                                                                                                      & C:/Users/rossz/OneDrive/CC/data/ciq-dji/004194-kodk/Eastman Kodak Company, Q3 2019 Earnings Call, Nov 07, 2019.pdf                     \\\\\n",
       "\t NA                                                                                                                                      & 2019-11-13                                                                                                                              & NA                                                                                                                                      & NA                                                                                                                                      & NA                                                                                                                                      & Presentati                                                                                                                              & Question a                                                                                                                              & C:/Users/rossz/OneDrive/CC/data/ciq-dji/020779-csco/Cisco Systems, Inc., Q1 2020 Earnings Call, Nov 13, 2019.pdf                       \\\\\n",
       "\\end{tabular}\n"
      ],
      "text/markdown": [
       "\n",
       "| gvkey | headline_date | mid_utc | headline | keydevid | md | qa | cc_path |\n",
       "|---|---|---|---|---|---|---|---|\n",
       "| NA                                                                                                                                      | 2010-08-12                                                                                                                              | NA                                                                                                                                      | NA                                                                                                                                      | NA                                                                                                                                      | Presentati                                                                                                                              | Question a                                                                                                                              | C:/Users/rossz/OneDrive/CC/data/ciq-dji/005073-gm/General Motors Company, Q2 2010 Earnings Call, Aug-12-2010.pdf                        |\n",
       "| NA                                                                                                                                      | 2010-11-10                                                                                                                              | NA                                                                                                                                      | NA                                                                                                                                      | NA                                                                                                                                      | Presentati                                                                                                                              | NA                                                                                                                                      | C:/Users/rossz/OneDrive/CC/data/ciq-dji/005073-gm/General Motors Company, Q3 2010 Earnings Call, Nov 10, 2010.pdf                       |\n",
       "| NA                                                                                                                                      | 2019-06-27                                                                                                                              | NA                                                                                                                                      | NA                                                                                                                                      | NA                                                                                                                                      | Presentati                                                                                                                              | Question a                                                                                                                              | C:/Users/rossz/OneDrive/CC/data/ciq-dji/007906-nke/NIKE, Inc., Q4 2019 Earnings Call, Jun 27, 2019.pdf                                  |\n",
       "| NA                                                                                                                                      | 2019-06-27                                                                                                                              | NA                                                                                                                                      | NA                                                                                                                                      | NA                                                                                                                                      | Presentati                                                                                                                              | Question a                                                                                                                              | C:/Users/rossz/OneDrive/CC/data/ciq-dji/011264-wba/Walgreens Boots Alliance, Inc., Q3 2019 Earnings Call, Jun 27, 2019.pdf              |\n",
       "| NA                                                                                                                                      | 2019-07-15                                                                                                                              | NA                                                                                                                                      | NA                                                                                                                                      | NA                                                                                                                                      | Presentati                                                                                                                              | Question a                                                                                                                              | C:/Users/rossz/OneDrive/CC/data/ciq-dji/003243-c/Citigroup Inc., Q2 2019 Earnings Call, Jul 15, 2019.pdf                                |\n",
       "| NA                                                                                                                                      | 2019-07-16                                                                                                                              | NA                                                                                                                                      | NA                                                                                                                                      | NA                                                                                                                                      | Presentati                                                                                                                              | Question a                                                                                                                              | C:/Users/rossz/OneDrive/CC/data/ciq-dji/002968-jpm/JPMorgan Chase  Co., Q2 2019 Earnings Call, Jul 16, 2019.pdf                         |\n",
       "| NA                                                                                                                                      | 2019-07-16                                                                                                                              | NA                                                                                                                                      | NA                                                                                                                                      | NA                                                                                                                                      | Presentati                                                                                                                              | Question a                                                                                                                              | C:/Users/rossz/OneDrive/CC/data/ciq-dji/006266-jnj/Johnson  Johnson, Q2 2019 Earnings Call, Jul 16, 2019.pdf                            |\n",
       "| NA                                                                                                                                      | 2019-07-16                                                                                                                              | NA                                                                                                                                      | NA                                                                                                                                      | NA                                                                                                                                      | Presentati                                                                                                                              | Question a                                                                                                                              | C:/Users/rossz/OneDrive/CC/data/ciq-dji/114628-gs/The Goldman Sachs Group, Inc., Q2 2019 Earnings Call, Jul 16, 2019.pdf                |\n",
       "| NA                                                                                                                                      | 2019-07-17                                                                                                                              | NA                                                                                                                                      | NA                                                                                                                                      | NA                                                                                                                                      | Presentati                                                                                                                              | Question a                                                                                                                              | C:/Users/rossz/OneDrive/CC/data/ciq-dji/006066-ibm/International Business Machines Corporation, Q2 2019 Earnings Call, Jul 17, 2019.pdf |\n",
       "| NA                                                                                                                                      | 2019-07-17                                                                                                                              | NA                                                                                                                                      | NA                                                                                                                                      | NA                                                                                                                                      | Presentati                                                                                                                              | Question a                                                                                                                              | C:/Users/rossz/OneDrive/CC/data/ciq-dji/007647-bac/Bank of America Corporation, Q2 2019 Earnings Call, Jul 17, 2019.pdf                 |\n",
       "| NA                                                                                                                                      | 2019-07-18                                                                                                                              | NA                                                                                                                                      | NA                                                                                                                                      | NA                                                                                                                                      | Presentati                                                                                                                              | Question a                                                                                                                              | C:/Users/rossz/OneDrive/CC/data/ciq-dji/001300-hon/Honeywell International Inc., Q2 2019 Earnings Call, Jul 18, 2019.pdf                |\n",
       "| NA                                                                                                                                      | 2019-07-18                                                                                                                              | NA                                                                                                                                      | NA                                                                                                                                      | NA                                                                                                                                      | Presentati                                                                                                                              | Question a                                                                                                                              | C:/Users/rossz/OneDrive/CC/data/ciq-dji/010903-unh/UnitedHealth Group Incorporated, Q2 2019 Earnings Call, Jul 18, 2019.pdf             |\n",
       "| NA                                                                                                                                      | 2019-07-18                                                                                                                              | NA                                                                                                                                      | NA                                                                                                                                      | NA                                                                                                                                      | Presentati                                                                                                                              | Question a                                                                                                                              | C:/Users/rossz/OneDrive/CC/data/ciq-dji/012141-msft/Microsoft Corporation, Q4 2019 Earnings Call, Jul 18, 2019.pdf                      |\n",
       "| NA                                                                                                                                      | 2019-07-19                                                                                                                              | NA                                                                                                                                      | NA                                                                                                                                      | NA                                                                                                                                      | Presentati                                                                                                                              | Question a                                                                                                                              | C:/Users/rossz/OneDrive/CC/data/ciq-dji/001447-axp/American Express Company, Q2 2019 Earnings Call, Jul 19, 2019.pdf                    |\n",
       "| NA                                                                                                                                      | 2019-07-23                                                                                                                              | NA                                                                                                                                      | NA                                                                                                                                      | NA                                                                                                                                      | Presentati                                                                                                                              | Question a                                                                                                                              | C:/Users/rossz/OneDrive/CC/data/ciq-dji/003144-ko/The Coca-Cola Company, Q2 2019 Earnings Call, Jul 23, 2019.pdf                        |\n",
       "| NA                                                                                                                                      | 2019-07-23                                                                                                                              | NA                                                                                                                                      | NA                                                                                                                                      | NA                                                                                                                                      | Presentati                                                                                                                              | Question a                                                                                                                              | C:/Users/rossz/OneDrive/CC/data/ciq-dji/010983-utx/United Technologies Corporation, Q2 2019 Earnings Call, Jul 23, 2019.pdf             |\n",
       "| NA                                                                                                                                      | 2019-07-23                                                                                                                              | NA                                                                                                                                      | NA                                                                                                                                      | NA                                                                                                                                      | Presentati                                                                                                                              | Question a                                                                                                                              | C:/Users/rossz/OneDrive/CC/data/ciq-dji/062689-trv/The Travelers Companies, Inc., Q2 2019 Earnings Call, Jul 23, 2019.pdf               |\n",
       "| NA                                                                                                                                      | 2019-07-23                                                                                                                              | NA                                                                                                                                      | NA                                                                                                                                      | NA                                                                                                                                      | Presentati                                                                                                                              | Question a                                                                                                                              | C:/Users/rossz/OneDrive/CC/data/ciq-dji/179534-v/Visa Inc., Q3 2019 Earnings Call, Jul 23, 2019.pdf                                     |\n",
       "| NA                                                                                                                                      | 2019-07-24                                                                                                                              | NA                                                                                                                                      | NA                                                                                                                                      | NA                                                                                                                                      | Presentati                                                                                                                              | Question a                                                                                                                              | C:/Users/rossz/OneDrive/CC/data/ciq-dji/002285-ba/The Boeing Company, Q2 2019 Earnings Call, Jul 24, 2019.pdf                           |\n",
       "| NA                                                                                                                                      | 2019-07-24                                                                                                                              | NA                                                                                                                                      | NA                                                                                                                                      | NA                                                                                                                                      | Presentati                                                                                                                              | Question a                                                                                                                              | C:/Users/rossz/OneDrive/CC/data/ciq-dji/002817-cat/Caterpillar Inc., Q2 2019 Earnings Call, Jul 24, 2019.pdf                            |\n",
       "| NA                                                                                                                                      | 2019-07-24                                                                                                                              | NA                                                                                                                                      | NA                                                                                                                                      | NA                                                                                                                                      | Presentati                                                                                                                              | Question a                                                                                                                              | C:/Users/rossz/OneDrive/CC/data/ciq-dji/009899-t/ATT Inc., Q2 2019 Earnings Call, Jul 24, 2019.pdf                                      |\n",
       "| NA                                                                                                                                      | 2019-07-25                                                                                                                              | NA                                                                                                                                      | NA                                                                                                                                      | NA                                                                                                                                      | Presentati                                                                                                                              | Question a                                                                                                                              | C:/Users/rossz/OneDrive/CC/data/ciq-dji/006008-intc/Intel Corporation, Q2 2019 Earnings Call, Jul 25, 2019.pdf                          |\n",
       "| NA                                                                                                                                      | 2019-07-25                                                                                                                              | NA                                                                                                                                      | NA                                                                                                                                      | NA                                                                                                                                      | Presentati                                                                                                                              | Question a                                                                                                                              | C:/Users/rossz/OneDrive/CC/data/ciq-dji/006104-ip/International Paper Company, Q2 2019 Earnings Call, Jul 25, 2019.pdf                  |\n",
       "| NA                                                                                                                                      | 2019-07-25                                                                                                                              | NA                                                                                                                                      | NA                                                                                                                                      | NA                                                                                                                                      | Presentati                                                                                                                              | Question a                                                                                                                              | C:/Users/rossz/OneDrive/CC/data/ciq-dji/007435-mmm/3M Company, Q2 2019 Earnings Call, Jul 25, 2019.pdf                                  |\n",
       "| NA                                                                                                                                      | 2019-07-26                                                                                                                              | NA                                                                                                                                      | NA                                                                                                                                      | NA                                                                                                                                      | Presentati                                                                                                                              | Question a                                                                                                                              | C:/Users/rossz/OneDrive/CC/data/ciq-dji/005234-gt/The Goodyear Tire  Rubber Company, Q2 2019 Earnings Call, Jul 26, 2019.pdf            |\n",
       "| NA                                                                                                                                      | 2019-07-26                                                                                                                              | NA                                                                                                                                      | NA                                                                                                                                      | NA                                                                                                                                      | Presentati                                                                                                                              | Question a                                                                                                                              | C:/Users/rossz/OneDrive/CC/data/ciq-dji/007154-mcd/McDonalds Corporation, Q2 2019 Earnings Call, Jul 26, 2019.pdf                       |\n",
       "| NA                                                                                                                                      | 2019-07-29                                                                                                                              | NA                                                                                                                                      | NA                                                                                                                                      | NA                                                                                                                                      | Presentati                                                                                                                              | Question a                                                                                                                              | C:/Users/rossz/OneDrive/CC/data/ciq-dji/008530-pfe/Pfizer Inc., Q2 2019 Earnings Call, Jul 29, 2019.pdf                                 |\n",
       "| NA                                                                                                                                      | 2019-07-30                                                                                                                              | NA                                                                                                                                      | NA                                                                                                                                      | NA                                                                                                                                      | Presentati                                                                                                                              | Question a                                                                                                                              | C:/Users/rossz/OneDrive/CC/data/ciq-dji/001690-appl/Apple Inc., Q3 2019 Earnings Call, Jul 30, 2019.pdf                                 |\n",
       "| NA                                                                                                                                      | 2019-07-30                                                                                                                              | NA                                                                                                                                      | NA                                                                                                                                      | NA                                                                                                                                      | Presentati                                                                                                                              | Question a                                                                                                                              | C:/Users/rossz/OneDrive/CC/data/ciq-dji/007257-mrk/Merck  Co., Inc., Q2 2019 Earnings Call, Jul 30, 2019.pdf                            |\n",
       "| NA                                                                                                                                      | 2019-07-30                                                                                                                              | NA                                                                                                                                      | NA                                                                                                                                      | NA                                                                                                                                      | Presentati                                                                                                                              | Question a                                                                                                                              | C:/Users/rossz/OneDrive/CC/data/ciq-dji/008543-mo/Altria Group, Inc., Q2 2019 Earnings Call, Jul 30, 2019.pdf                           |\n",
       "| NA                                                                                                                                      | 2019-07-30                                                                                                                              | NA                                                                                                                                      | NA                                                                                                                                      | NA                                                                                                                                      | Presentati                                                                                                                              | Question a                                                                                                                              | C:/Users/rossz/OneDrive/CC/data/ciq-dji/008762-pg/The Procter  Gamble Company, Q4 2019 Earnings Call, Jul 30, 2019.pdf                  |\n",
       "| NA                                                                                                                                      | 2019-07-31                                                                                                                              | NA                                                                                                                                      | NA                                                                                                                                      | NA                                                                                                                                      | Presentati                                                                                                                              | Question a                                                                                                                              | C:/Users/rossz/OneDrive/CC/data/ciq-dji/005047-ge/General Electric Company, Q2 2019 Earnings Call, Jul 31, 2019.pdf                     |\n",
       "| NA                                                                                                                                      | 2019-08-01                                                                                                                              | NA                                                                                                                                      | NA                                                                                                                                      | NA                                                                                                                                      | Presentati                                                                                                                              | Question a                                                                                                                              | C:/Users/rossz/OneDrive/CC/data/ciq-dji/002136-vz/Verizon Communications Inc., Q2 2019 Earnings Call, Aug 01, 2019.pdf                  |\n",
       "| NA                                                                                                                                      | 2019-08-01                                                                                                                              | NA                                                                                                                                      | NA                                                                                                                                      | NA                                                                                                                                      | Presentati                                                                                                                              | Question a                                                                                                                              | C:/Users/rossz/OneDrive/CC/data/ciq-dji/004060-dd/DuPont de Nemours, Inc., Q2 2019 Earnings Call, Aug 01, 2019.pdf                      |\n",
       "| NA                                                                                                                                      | 2019-08-01                                                                                                                              | NA                                                                                                                                      | NA                                                                                                                                      | NA                                                                                                                                      | Presentati                                                                                                                              | Question a                                                                                                                              | C:/Users/rossz/OneDrive/CC/data/ciq-dji/005073-gm/General Motors Company, Q2 2019 Earnings Call, Aug 01, 2019.pdf                       |\n",
       "| NA                                                                                                                                      | 2019-08-02                                                                                                                              | NA                                                                                                                                      | NA                                                                                                                                      | NA                                                                                                                                      | Presentati                                                                                                                              | Question a                                                                                                                              | C:/Users/rossz/OneDrive/CC/data/ciq-dji/002991-cvx/Chevron Corporation, Q2 2019 Earnings Call, Aug 02, 2019.pdf                         |\n",
       "| NA                                                                                                                                      | 2019-08-02                                                                                                                              | NA                                                                                                                                      | NA                                                                                                                                      | NA                                                                                                                                      | Presentati                                                                                                                              | Question a                                                                                                                              | C:/Users/rossz/OneDrive/CC/data/ciq-dji/004503-xom/Exxon Mobil Corporation, Q2 2019 Earnings Call, Aug 02, 2019.pdf                     |\n",
       "| NA                                                                                                                                      | 2019-08-06                                                                                                                              | NA                                                                                                                                      | NA                                                                                                                                      | NA                                                                                                                                      | Presentati                                                                                                                              | Question a                                                                                                                              | C:/Users/rossz/OneDrive/CC/data/ciq-dji/003980-dis/The Walt Disney Company, Q3 2019 Earnings Call, Aug 06, 2019.pdf                     |\n",
       "| NA                                                                                                                                      | 2019-08-08                                                                                                                              | NA                                                                                                                                      | NA                                                                                                                                      | NA                                                                                                                                      | Presentati                                                                                                                              | Question a                                                                                                                              | C:/Users/rossz/OneDrive/CC/data/ciq-dji/001487-aig/American International Group, Inc., Q2 2019 Earnings Call, Aug 08, 2019.pdf          |\n",
       "| NA                                                                                                                                      | 2019-08-08                                                                                                                              | NA                                                                                                                                      | NA                                                                                                                                      | NA                                                                                                                                      | Presentati                                                                                                                              | Question a                                                                                                                              | C:/Users/rossz/OneDrive/CC/data/ciq-dji/004194-kodk/Eastman Kodak Company, Q2 2019 Earnings Call, Aug 08, 2019.pdf                      |\n",
       "| NA                                                                                                                                      | 2019-08-14                                                                                                                              | NA                                                                                                                                      | NA                                                                                                                                      | NA                                                                                                                                      | Presentati                                                                                                                              | Question a                                                                                                                              | C:/Users/rossz/OneDrive/CC/data/ciq-dji/020779-csco/Cisco Systems, Inc., Q4 2019 Earnings Call, Aug 14, 2019.pdf                        |\n",
       "| NA                                                                                                                                      | 2019-08-20                                                                                                                              | NA                                                                                                                                      | NA                                                                                                                                      | NA                                                                                                                                      | Presentati                                                                                                                              | Question a                                                                                                                              | C:/Users/rossz/OneDrive/CC/data/ciq-dji/005680-hd/The Home Depot, Inc., Q2 2020 Earnings Call, Aug 20, 2019.pdf                         |\n",
       "| NA                                                                                                                                      | 2019-08-22                                                                                                                              | NA                                                                                                                                      | NA                                                                                                                                      | NA                                                                                                                                      | Presentati                                                                                                                              | Question a                                                                                                                              | C:/Users/rossz/OneDrive/CC/data/ciq-dji/005606-hpq/HP Inc., Q3 2019 Earnings Call, Aug 22, 2019.pdf                                     |\n",
       "| NA                                                                                                                                      | 2019-09-24                                                                                                                              | NA                                                                                                                                      | NA                                                                                                                                      | NA                                                                                                                                      | Presentati                                                                                                                              | Question a                                                                                                                              | C:/Users/rossz/OneDrive/CC/data/ciq-dji/007906-nke/NIKE, Inc., Q1 2020 Earnings Call, Sep 24, 2019.pdf                                  |\n",
       "| NA                                                                                                                                      | 2019-10-15                                                                                                                              | NA                                                                                                                                      | NA                                                                                                                                      | NA                                                                                                                                      | Presentati                                                                                                                              | Question a                                                                                                                              | C:/Users/rossz/OneDrive/CC/data/ciq-dji/002968-jpm/JPMorgan Chase  Co., Q3 2019 Earnings Call, Oct 15, 2019.pdf                         |\n",
       "| NA                                                                                                                                      | 2019-10-15                                                                                                                              | NA                                                                                                                                      | NA                                                                                                                                      | NA                                                                                                                                      | Presentati                                                                                                                              | Question a                                                                                                                              | C:/Users/rossz/OneDrive/CC/data/ciq-dji/003243-c/Citigroup Inc., Q3 2019 Earnings Call, Oct 15, 2019.pdf                                |\n",
       "| NA                                                                                                                                      | 2019-10-15                                                                                                                              | NA                                                                                                                                      | NA                                                                                                                                      | NA                                                                                                                                      | Presentati                                                                                                                              | Question a                                                                                                                              | C:/Users/rossz/OneDrive/CC/data/ciq-dji/006266-jnj/Johnson  Johnson, Q3 2019 Earnings Call, Oct 15, 2019.pdf                            |\n",
       "| NA                                                                                                                                      | 2019-10-15                                                                                                                              | NA                                                                                                                                      | NA                                                                                                                                      | NA                                                                                                                                      | Presentati                                                                                                                              | Question a                                                                                                                              | C:/Users/rossz/OneDrive/CC/data/ciq-dji/010903-unh/UnitedHealth Group Incorporated, Q3 2019 Earnings Call, Oct 15, 2019.pdf             |\n",
       "| NA                                                                                                                                      | 2019-10-15                                                                                                                              | NA                                                                                                                                      | NA                                                                                                                                      | NA                                                                                                                                      | Presentati                                                                                                                              | Question a                                                                                                                              | C:/Users/rossz/OneDrive/CC/data/ciq-dji/114628-gs/The Goldman Sachs Group, Inc., Q3 2019 Earnings Call, Oct 15, 2019.pdf                |\n",
       "| NA                                                                                                                                      | 2019-10-16                                                                                                                              | NA                                                                                                                                      | NA                                                                                                                                      | NA                                                                                                                                      | Presentati                                                                                                                              | Question a                                                                                                                              | C:/Users/rossz/OneDrive/CC/data/ciq-dji/006066-ibm/International Business Machines Corporation, Q3 2019 Earnings Call, Oct 16, 2019.pdf |\n",
       "| NA                                                                                                                                      | 2019-10-16                                                                                                                              | NA                                                                                                                                      | NA                                                                                                                                      | NA                                                                                                                                      | Presentati                                                                                                                              | Question a                                                                                                                              | C:/Users/rossz/OneDrive/CC/data/ciq-dji/007647-bac/Bank of America Corporation, Q3 2019 Earnings Call, Oct 16, 2019.pdf                 |\n",
       "| NA                                                                                                                                      | 2019-10-17                                                                                                                              | NA                                                                                                                                      | NA                                                                                                                                      | NA                                                                                                                                      | Presentati                                                                                                                              | Question a                                                                                                                              | C:/Users/rossz/OneDrive/CC/data/ciq-dji/001300-hon/Honeywell International Inc., Q3 2019 Earnings Call, Oct 17, 2019.pdf                |\n",
       "| NA                                                                                                                                      | 2019-10-18                                                                                                                              | NA                                                                                                                                      | NA                                                                                                                                      | NA                                                                                                                                      | Presentati                                                                                                                              | Question a                                                                                                                              | C:/Users/rossz/OneDrive/CC/data/ciq-dji/001447-axp/American Express Company, Q3 2019 Earnings Call, Oct 18, 2019.pdf                    |\n",
       "| NA                                                                                                                                      | 2019-10-18                                                                                                                              | NA                                                                                                                                      | NA                                                                                                                                      | NA                                                                                                                                      | Presentati                                                                                                                              | Question a                                                                                                                              | C:/Users/rossz/OneDrive/CC/data/ciq-dji/003144-ko/The Coca-Cola Company, Q3 2019 Earnings Call, Oct 18, 2019.pdf                        |\n",
       "| NA                                                                                                                                      | 2019-10-22                                                                                                                              | NA                                                                                                                                      | NA                                                                                                                                      | NA                                                                                                                                      | Presentati                                                                                                                              | Question a                                                                                                                              | C:/Users/rossz/OneDrive/CC/data/ciq-dji/007154-mcd/McDonalds Corporation, Q3 2019 Earnings Call, Oct 22, 2019.pdf                       |\n",
       "| NA                                                                                                                                      | 2019-10-22                                                                                                                              | NA                                                                                                                                      | NA                                                                                                                                      | NA                                                                                                                                      | Presentati                                                                                                                              | Question a                                                                                                                              | C:/Users/rossz/OneDrive/CC/data/ciq-dji/008762-pg/The Procter  Gamble Company, Q1 2020 Earnings Call, Oct 22, 2019.pdf                  |\n",
       "| NA                                                                                                                                      | 2019-10-22                                                                                                                              | NA                                                                                                                                      | NA                                                                                                                                      | NA                                                                                                                                      | Presentati                                                                                                                              | Question a                                                                                                                              | C:/Users/rossz/OneDrive/CC/data/ciq-dji/010983-utx/United Technologies Corporation, Q3 2019 Earnings Call, Oct 22, 2019.pdf             |\n",
       "| NA                                                                                                                                      | 2019-10-22                                                                                                                              | NA                                                                                                                                      | NA                                                                                                                                      | NA                                                                                                                                      | Presentati                                                                                                                              | Question a                                                                                                                              | C:/Users/rossz/OneDrive/CC/data/ciq-dji/062689-trv/The Travelers Companies, Inc., Q3 2019 Earnings Call, Oct 22, 2019.pdf               |\n",
       "| NA                                                                                                                                      | 2019-10-23                                                                                                                              | NA                                                                                                                                      | NA                                                                                                                                      | NA                                                                                                                                      | Presentati                                                                                                                              | Question a                                                                                                                              | C:/Users/rossz/OneDrive/CC/data/ciq-dji/002285-ba/The Boeing Company, Q3 2019 Earnings Call, Oct 23, 2019.pdf                           |\n",
       "| NA                                                                                                                                      | 2019-10-23                                                                                                                              | NA                                                                                                                                      | NA                                                                                                                                      | NA                                                                                                                                      | Presentati                                                                                                                              | Question a                                                                                                                              | C:/Users/rossz/OneDrive/CC/data/ciq-dji/002817-cat/Caterpillar Inc., Q3 2019 Earnings Call, Oct 23, 2019.pdf                            |\n",
       "| NA                                                                                                                                      | 2019-10-23                                                                                                                              | NA                                                                                                                                      | NA                                                                                                                                      | NA                                                                                                                                      | Presentati                                                                                                                              | Question a                                                                                                                              | C:/Users/rossz/OneDrive/CC/data/ciq-dji/012141-msft/Microsoft Corporation, Q1 2020 Earnings Call, Oct 23, 2019.pdf                      |\n",
       "| NA                                                                                                                                      | 2019-10-24                                                                                                                              | NA                                                                                                                                      | NA                                                                                                                                      | NA                                                                                                                                      | Presentati                                                                                                                              | Question a                                                                                                                              | C:/Users/rossz/OneDrive/CC/data/ciq-dji/006008-intc/Intel Corporation, Q3 2019 Earnings Call, Oct 24, 2019.pdf                          |\n",
       "| NA                                                                                                                                      | 2019-10-24                                                                                                                              | NA                                                                                                                                      | NA                                                                                                                                      | NA                                                                                                                                      | Presentati                                                                                                                              | Question a                                                                                                                              | C:/Users/rossz/OneDrive/CC/data/ciq-dji/007435-mmm/3M Company, Q3 2019 Earnings Call, Oct 24, 2019.pdf                                  |\n",
       "| NA                                                                                                                                      | 2019-10-24                                                                                                                              | NA                                                                                                                                      | NA                                                                                                                                      | NA                                                                                                                                      | Presentati                                                                                                                              | Question a                                                                                                                              | C:/Users/rossz/OneDrive/CC/data/ciq-dji/179534-v/Visa Inc., Q4 2019 Earnings Call, Oct 24, 2019.pdf                                     |\n",
       "| NA                                                                                                                                      | 2019-10-25                                                                                                                              | NA                                                                                                                                      | NA                                                                                                                                      | NA                                                                                                                                      | Presentati                                                                                                                              | Question a                                                                                                                              | C:/Users/rossz/OneDrive/CC/data/ciq-dji/002136-vz/Verizon Communications Inc., Q3 2019 Earnings Call, Oct 25, 2019.pdf                  |\n",
       "| NA                                                                                                                                      | 2019-10-25                                                                                                                              | NA                                                                                                                                      | NA                                                                                                                                      | NA                                                                                                                                      | Presentati                                                                                                                              | Question a                                                                                                                              | C:/Users/rossz/OneDrive/CC/data/ciq-dji/005234-gt/The Goodyear Tire  Rubber Company, Q3 2019 Earnings Call, Oct 25, 2019.pdf            |\n",
       "| NA                                                                                                                                      | 2019-10-28                                                                                                                              | NA                                                                                                                                      | NA                                                                                                                                      | NA                                                                                                                                      | Presentati                                                                                                                              | Question a                                                                                                                              | C:/Users/rossz/OneDrive/CC/data/ciq-dji/009899-t/ATT Inc., Q3 2019 Earnings Call, Oct 28, 2019.pdf                                      |\n",
       "| NA                                                                                                                                      | 2019-10-28                                                                                                                              | NA                                                                                                                                      | NA                                                                                                                                      | NA                                                                                                                                      | Presentati                                                                                                                              | Question a                                                                                                                              | C:/Users/rossz/OneDrive/CC/data/ciq-dji/011264-wba/Walgreens Boots Alliance, Inc., Q4 2019 Earnings Call, Oct 28, 2019.pdf              |\n",
       "| NA                                                                                                                                      | 2019-10-29                                                                                                                              | NA                                                                                                                                      | NA                                                                                                                                      | NA                                                                                                                                      | Presentati                                                                                                                              | Question a                                                                                                                              | C:/Users/rossz/OneDrive/CC/data/ciq-dji/005073-gm/General Motors Company, Q3 2019 Earnings Call, Oct 29, 2019.pdf                       |\n",
       "| NA                                                                                                                                      | 2019-10-29                                                                                                                              | NA                                                                                                                                      | NA                                                                                                                                      | NA                                                                                                                                      | Presentati                                                                                                                              | Question a                                                                                                                              | C:/Users/rossz/OneDrive/CC/data/ciq-dji/007257-mrk/Merck  Co., Inc., Q3 2019 Earnings Call, Oct 29, 2019.pdf                            |\n",
       "| NA                                                                                                                                      | 2019-10-29                                                                                                                              | NA                                                                                                                                      | NA                                                                                                                                      | NA                                                                                                                                      | Presentati                                                                                                                              | Question a                                                                                                                              | C:/Users/rossz/OneDrive/CC/data/ciq-dji/008530-pfe/Pfizer Inc., Q3 2019 Earnings Call, Oct 29, 2019.pdf                                 |\n",
       "| NA                                                                                                                                      | 2019-10-30                                                                                                                              | NA                                                                                                                                      | NA                                                                                                                                      | NA                                                                                                                                      | Presentati                                                                                                                              | Question a                                                                                                                              | C:/Users/rossz/OneDrive/CC/data/ciq-dji/001690-appl/Apple Inc., Q4 2019 Earnings Call, Oct 30, 2019.pdf                                 |\n",
       "| NA                                                                                                                                      | 2019-10-30                                                                                                                              | NA                                                                                                                                      | NA                                                                                                                                      | NA                                                                                                                                      | Presentati                                                                                                                              | Question a                                                                                                                              | C:/Users/rossz/OneDrive/CC/data/ciq-dji/005047-ge/General Electric Company, Q3 2019 Earnings Call, Oct 30, 2019.pdf                     |\n",
       "| NA                                                                                                                                      | 2019-10-31                                                                                                                              | NA                                                                                                                                      | NA                                                                                                                                      | NA                                                                                                                                      | Presentati                                                                                                                              | Question a                                                                                                                              | C:/Users/rossz/OneDrive/CC/data/ciq-dji/004060-dd/DuPont de Nemours, Inc., Q3 2019 Earnings Call, Oct 31, 2019.pdf                      |\n",
       "| NA                                                                                                                                      | 2019-10-31                                                                                                                              | NA                                                                                                                                      | NA                                                                                                                                      | NA                                                                                                                                      | Presentati                                                                                                                              | Question a                                                                                                                              | C:/Users/rossz/OneDrive/CC/data/ciq-dji/006104-ip/International Paper Company, Q3 2019 Earnings Call, Oct 31, 2019.pdf                  |\n",
       "| NA                                                                                                                                      | 2019-10-31                                                                                                                              | NA                                                                                                                                      | NA                                                                                                                                      | NA                                                                                                                                      | Presentati                                                                                                                              | Question a                                                                                                                              | C:/Users/rossz/OneDrive/CC/data/ciq-dji/008543-mo/Altria Group, Inc., Q3 2019 Earnings Call, Oct 31, 2019.pdf                           |\n",
       "| NA                                                                                                                                      | 2019-11-01                                                                                                                              | NA                                                                                                                                      | NA                                                                                                                                      | NA                                                                                                                                      | Presentati                                                                                                                              | Question a                                                                                                                              | C:/Users/rossz/OneDrive/CC/data/ciq-dji/001487-aig/American International Group, Inc., Q3 2019 Earnings Call, Nov 01, 2019.pdf          |\n",
       "| NA                                                                                                                                      | 2019-11-01                                                                                                                              | NA                                                                                                                                      | NA                                                                                                                                      | NA                                                                                                                                      | Presentati                                                                                                                              | Question a                                                                                                                              | C:/Users/rossz/OneDrive/CC/data/ciq-dji/002991-cvx/Chevron Corporation, Q3 2019 Earnings Call, Nov 01, 2019.pdf                         |\n",
       "| NA                                                                                                                                      | 2019-11-01                                                                                                                              | NA                                                                                                                                      | NA                                                                                                                                      | NA                                                                                                                                      | Presentati                                                                                                                              | Question a                                                                                                                              | C:/Users/rossz/OneDrive/CC/data/ciq-dji/004503-xom/Exxon Mobil Corporation, Q3 2019 Earnings Call, Nov 01, 2019.pdf                     |\n",
       "| NA                                                                                                                                      | 2019-11-07                                                                                                                              | NA                                                                                                                                      | NA                                                                                                                                      | NA                                                                                                                                      | Presentati                                                                                                                              | Question a                                                                                                                              | C:/Users/rossz/OneDrive/CC/data/ciq-dji/003980-dis/The Walt Disney Company, Q4 2019 Earnings Call, Nov 07, 2019.pdf                     |\n",
       "| NA                                                                                                                                      | 2019-11-07                                                                                                                              | NA                                                                                                                                      | NA                                                                                                                                      | NA                                                                                                                                      | Presentati                                                                                                                              | NA                                                                                                                                      | C:/Users/rossz/OneDrive/CC/data/ciq-dji/004194-kodk/Eastman Kodak Company, Q3 2019 Earnings Call, Nov 07, 2019.pdf                      |\n",
       "| NA                                                                                                                                      | 2019-11-13                                                                                                                              | NA                                                                                                                                      | NA                                                                                                                                      | NA                                                                                                                                      | Presentati                                                                                                                              | Question a                                                                                                                              | C:/Users/rossz/OneDrive/CC/data/ciq-dji/020779-csco/Cisco Systems, Inc., Q1 2020 Earnings Call, Nov 13, 2019.pdf                        |\n",
       "\n"
      ],
      "text/plain": [
       "   gvkey headline_date mid_utc headline keydevid md         qa        \n",
       "1  NA    2010-08-12    <NA>    NA       NA       Presentati Question a\n",
       "2  NA    2010-11-10    <NA>    NA       NA       Presentati NA        \n",
       "3  NA    2019-06-27    <NA>    NA       NA       Presentati Question a\n",
       "4  NA    2019-06-27    <NA>    NA       NA       Presentati Question a\n",
       "5  NA    2019-07-15    <NA>    NA       NA       Presentati Question a\n",
       "6  NA    2019-07-16    <NA>    NA       NA       Presentati Question a\n",
       "7  NA    2019-07-16    <NA>    NA       NA       Presentati Question a\n",
       "8  NA    2019-07-16    <NA>    NA       NA       Presentati Question a\n",
       "9  NA    2019-07-17    <NA>    NA       NA       Presentati Question a\n",
       "10 NA    2019-07-17    <NA>    NA       NA       Presentati Question a\n",
       "11 NA    2019-07-18    <NA>    NA       NA       Presentati Question a\n",
       "12 NA    2019-07-18    <NA>    NA       NA       Presentati Question a\n",
       "13 NA    2019-07-18    <NA>    NA       NA       Presentati Question a\n",
       "14 NA    2019-07-19    <NA>    NA       NA       Presentati Question a\n",
       "15 NA    2019-07-23    <NA>    NA       NA       Presentati Question a\n",
       "16 NA    2019-07-23    <NA>    NA       NA       Presentati Question a\n",
       "17 NA    2019-07-23    <NA>    NA       NA       Presentati Question a\n",
       "18 NA    2019-07-23    <NA>    NA       NA       Presentati Question a\n",
       "19 NA    2019-07-24    <NA>    NA       NA       Presentati Question a\n",
       "20 NA    2019-07-24    <NA>    NA       NA       Presentati Question a\n",
       "21 NA    2019-07-24    <NA>    NA       NA       Presentati Question a\n",
       "22 NA    2019-07-25    <NA>    NA       NA       Presentati Question a\n",
       "23 NA    2019-07-25    <NA>    NA       NA       Presentati Question a\n",
       "24 NA    2019-07-25    <NA>    NA       NA       Presentati Question a\n",
       "25 NA    2019-07-26    <NA>    NA       NA       Presentati Question a\n",
       "26 NA    2019-07-26    <NA>    NA       NA       Presentati Question a\n",
       "27 NA    2019-07-29    <NA>    NA       NA       Presentati Question a\n",
       "28 NA    2019-07-30    <NA>    NA       NA       Presentati Question a\n",
       "29 NA    2019-07-30    <NA>    NA       NA       Presentati Question a\n",
       "30 NA    2019-07-30    <NA>    NA       NA       Presentati Question a\n",
       "31 NA    2019-07-30    <NA>    NA       NA       Presentati Question a\n",
       "32 NA    2019-07-31    <NA>    NA       NA       Presentati Question a\n",
       "33 NA    2019-08-01    <NA>    NA       NA       Presentati Question a\n",
       "34 NA    2019-08-01    <NA>    NA       NA       Presentati Question a\n",
       "35 NA    2019-08-01    <NA>    NA       NA       Presentati Question a\n",
       "36 NA    2019-08-02    <NA>    NA       NA       Presentati Question a\n",
       "37 NA    2019-08-02    <NA>    NA       NA       Presentati Question a\n",
       "38 NA    2019-08-06    <NA>    NA       NA       Presentati Question a\n",
       "39 NA    2019-08-08    <NA>    NA       NA       Presentati Question a\n",
       "40 NA    2019-08-08    <NA>    NA       NA       Presentati Question a\n",
       "41 NA    2019-08-14    <NA>    NA       NA       Presentati Question a\n",
       "42 NA    2019-08-20    <NA>    NA       NA       Presentati Question a\n",
       "43 NA    2019-08-22    <NA>    NA       NA       Presentati Question a\n",
       "44 NA    2019-09-24    <NA>    NA       NA       Presentati Question a\n",
       "45 NA    2019-10-15    <NA>    NA       NA       Presentati Question a\n",
       "46 NA    2019-10-15    <NA>    NA       NA       Presentati Question a\n",
       "47 NA    2019-10-15    <NA>    NA       NA       Presentati Question a\n",
       "48 NA    2019-10-15    <NA>    NA       NA       Presentati Question a\n",
       "49 NA    2019-10-15    <NA>    NA       NA       Presentati Question a\n",
       "50 NA    2019-10-16    <NA>    NA       NA       Presentati Question a\n",
       "51 NA    2019-10-16    <NA>    NA       NA       Presentati Question a\n",
       "52 NA    2019-10-17    <NA>    NA       NA       Presentati Question a\n",
       "53 NA    2019-10-18    <NA>    NA       NA       Presentati Question a\n",
       "54 NA    2019-10-18    <NA>    NA       NA       Presentati Question a\n",
       "55 NA    2019-10-22    <NA>    NA       NA       Presentati Question a\n",
       "56 NA    2019-10-22    <NA>    NA       NA       Presentati Question a\n",
       "57 NA    2019-10-22    <NA>    NA       NA       Presentati Question a\n",
       "58 NA    2019-10-22    <NA>    NA       NA       Presentati Question a\n",
       "59 NA    2019-10-23    <NA>    NA       NA       Presentati Question a\n",
       "60 NA    2019-10-23    <NA>    NA       NA       Presentati Question a\n",
       "61 NA    2019-10-23    <NA>    NA       NA       Presentati Question a\n",
       "62 NA    2019-10-24    <NA>    NA       NA       Presentati Question a\n",
       "63 NA    2019-10-24    <NA>    NA       NA       Presentati Question a\n",
       "64 NA    2019-10-24    <NA>    NA       NA       Presentati Question a\n",
       "65 NA    2019-10-25    <NA>    NA       NA       Presentati Question a\n",
       "66 NA    2019-10-25    <NA>    NA       NA       Presentati Question a\n",
       "67 NA    2019-10-28    <NA>    NA       NA       Presentati Question a\n",
       "68 NA    2019-10-28    <NA>    NA       NA       Presentati Question a\n",
       "69 NA    2019-10-29    <NA>    NA       NA       Presentati Question a\n",
       "70 NA    2019-10-29    <NA>    NA       NA       Presentati Question a\n",
       "71 NA    2019-10-29    <NA>    NA       NA       Presentati Question a\n",
       "72 NA    2019-10-30    <NA>    NA       NA       Presentati Question a\n",
       "73 NA    2019-10-30    <NA>    NA       NA       Presentati Question a\n",
       "74 NA    2019-10-31    <NA>    NA       NA       Presentati Question a\n",
       "75 NA    2019-10-31    <NA>    NA       NA       Presentati Question a\n",
       "76 NA    2019-10-31    <NA>    NA       NA       Presentati Question a\n",
       "77 NA    2019-11-01    <NA>    NA       NA       Presentati Question a\n",
       "78 NA    2019-11-01    <NA>    NA       NA       Presentati Question a\n",
       "79 NA    2019-11-01    <NA>    NA       NA       Presentati Question a\n",
       "80 NA    2019-11-07    <NA>    NA       NA       Presentati Question a\n",
       "81 NA    2019-11-07    <NA>    NA       NA       Presentati NA        \n",
       "82 NA    2019-11-13    <NA>    NA       NA       Presentati Question a\n",
       "   cc_path                                                                                                                                \n",
       "1  C:/Users/rossz/OneDrive/CC/data/ciq-dji/005073-gm/General Motors Company, Q2 2010 Earnings Call, Aug-12-2010.pdf                       \n",
       "2  C:/Users/rossz/OneDrive/CC/data/ciq-dji/005073-gm/General Motors Company, Q3 2010 Earnings Call, Nov 10, 2010.pdf                      \n",
       "3  C:/Users/rossz/OneDrive/CC/data/ciq-dji/007906-nke/NIKE, Inc., Q4 2019 Earnings Call, Jun 27, 2019.pdf                                 \n",
       "4  C:/Users/rossz/OneDrive/CC/data/ciq-dji/011264-wba/Walgreens Boots Alliance, Inc., Q3 2019 Earnings Call, Jun 27, 2019.pdf             \n",
       "5  C:/Users/rossz/OneDrive/CC/data/ciq-dji/003243-c/Citigroup Inc., Q2 2019 Earnings Call, Jul 15, 2019.pdf                               \n",
       "6  C:/Users/rossz/OneDrive/CC/data/ciq-dji/002968-jpm/JPMorgan Chase  Co., Q2 2019 Earnings Call, Jul 16, 2019.pdf                        \n",
       "7  C:/Users/rossz/OneDrive/CC/data/ciq-dji/006266-jnj/Johnson  Johnson, Q2 2019 Earnings Call, Jul 16, 2019.pdf                           \n",
       "8  C:/Users/rossz/OneDrive/CC/data/ciq-dji/114628-gs/The Goldman Sachs Group, Inc., Q2 2019 Earnings Call, Jul 16, 2019.pdf               \n",
       "9  C:/Users/rossz/OneDrive/CC/data/ciq-dji/006066-ibm/International Business Machines Corporation, Q2 2019 Earnings Call, Jul 17, 2019.pdf\n",
       "10 C:/Users/rossz/OneDrive/CC/data/ciq-dji/007647-bac/Bank of America Corporation, Q2 2019 Earnings Call, Jul 17, 2019.pdf                \n",
       "11 C:/Users/rossz/OneDrive/CC/data/ciq-dji/001300-hon/Honeywell International Inc., Q2 2019 Earnings Call, Jul 18, 2019.pdf               \n",
       "12 C:/Users/rossz/OneDrive/CC/data/ciq-dji/010903-unh/UnitedHealth Group Incorporated, Q2 2019 Earnings Call, Jul 18, 2019.pdf            \n",
       "13 C:/Users/rossz/OneDrive/CC/data/ciq-dji/012141-msft/Microsoft Corporation, Q4 2019 Earnings Call, Jul 18, 2019.pdf                     \n",
       "14 C:/Users/rossz/OneDrive/CC/data/ciq-dji/001447-axp/American Express Company, Q2 2019 Earnings Call, Jul 19, 2019.pdf                   \n",
       "15 C:/Users/rossz/OneDrive/CC/data/ciq-dji/003144-ko/The Coca-Cola Company, Q2 2019 Earnings Call, Jul 23, 2019.pdf                       \n",
       "16 C:/Users/rossz/OneDrive/CC/data/ciq-dji/010983-utx/United Technologies Corporation, Q2 2019 Earnings Call, Jul 23, 2019.pdf            \n",
       "17 C:/Users/rossz/OneDrive/CC/data/ciq-dji/062689-trv/The Travelers Companies, Inc., Q2 2019 Earnings Call, Jul 23, 2019.pdf              \n",
       "18 C:/Users/rossz/OneDrive/CC/data/ciq-dji/179534-v/Visa Inc., Q3 2019 Earnings Call, Jul 23, 2019.pdf                                    \n",
       "19 C:/Users/rossz/OneDrive/CC/data/ciq-dji/002285-ba/The Boeing Company, Q2 2019 Earnings Call, Jul 24, 2019.pdf                          \n",
       "20 C:/Users/rossz/OneDrive/CC/data/ciq-dji/002817-cat/Caterpillar Inc., Q2 2019 Earnings Call, Jul 24, 2019.pdf                           \n",
       "21 C:/Users/rossz/OneDrive/CC/data/ciq-dji/009899-t/ATT Inc., Q2 2019 Earnings Call, Jul 24, 2019.pdf                                     \n",
       "22 C:/Users/rossz/OneDrive/CC/data/ciq-dji/006008-intc/Intel Corporation, Q2 2019 Earnings Call, Jul 25, 2019.pdf                         \n",
       "23 C:/Users/rossz/OneDrive/CC/data/ciq-dji/006104-ip/International Paper Company, Q2 2019 Earnings Call, Jul 25, 2019.pdf                 \n",
       "24 C:/Users/rossz/OneDrive/CC/data/ciq-dji/007435-mmm/3M Company, Q2 2019 Earnings Call, Jul 25, 2019.pdf                                 \n",
       "25 C:/Users/rossz/OneDrive/CC/data/ciq-dji/005234-gt/The Goodyear Tire  Rubber Company, Q2 2019 Earnings Call, Jul 26, 2019.pdf           \n",
       "26 C:/Users/rossz/OneDrive/CC/data/ciq-dji/007154-mcd/McDonalds Corporation, Q2 2019 Earnings Call, Jul 26, 2019.pdf                      \n",
       "27 C:/Users/rossz/OneDrive/CC/data/ciq-dji/008530-pfe/Pfizer Inc., Q2 2019 Earnings Call, Jul 29, 2019.pdf                                \n",
       "28 C:/Users/rossz/OneDrive/CC/data/ciq-dji/001690-appl/Apple Inc., Q3 2019 Earnings Call, Jul 30, 2019.pdf                                \n",
       "29 C:/Users/rossz/OneDrive/CC/data/ciq-dji/007257-mrk/Merck  Co., Inc., Q2 2019 Earnings Call, Jul 30, 2019.pdf                           \n",
       "30 C:/Users/rossz/OneDrive/CC/data/ciq-dji/008543-mo/Altria Group, Inc., Q2 2019 Earnings Call, Jul 30, 2019.pdf                          \n",
       "31 C:/Users/rossz/OneDrive/CC/data/ciq-dji/008762-pg/The Procter  Gamble Company, Q4 2019 Earnings Call, Jul 30, 2019.pdf                 \n",
       "32 C:/Users/rossz/OneDrive/CC/data/ciq-dji/005047-ge/General Electric Company, Q2 2019 Earnings Call, Jul 31, 2019.pdf                    \n",
       "33 C:/Users/rossz/OneDrive/CC/data/ciq-dji/002136-vz/Verizon Communications Inc., Q2 2019 Earnings Call, Aug 01, 2019.pdf                 \n",
       "34 C:/Users/rossz/OneDrive/CC/data/ciq-dji/004060-dd/DuPont de Nemours, Inc., Q2 2019 Earnings Call, Aug 01, 2019.pdf                     \n",
       "35 C:/Users/rossz/OneDrive/CC/data/ciq-dji/005073-gm/General Motors Company, Q2 2019 Earnings Call, Aug 01, 2019.pdf                      \n",
       "36 C:/Users/rossz/OneDrive/CC/data/ciq-dji/002991-cvx/Chevron Corporation, Q2 2019 Earnings Call, Aug 02, 2019.pdf                        \n",
       "37 C:/Users/rossz/OneDrive/CC/data/ciq-dji/004503-xom/Exxon Mobil Corporation, Q2 2019 Earnings Call, Aug 02, 2019.pdf                    \n",
       "38 C:/Users/rossz/OneDrive/CC/data/ciq-dji/003980-dis/The Walt Disney Company, Q3 2019 Earnings Call, Aug 06, 2019.pdf                    \n",
       "39 C:/Users/rossz/OneDrive/CC/data/ciq-dji/001487-aig/American International Group, Inc., Q2 2019 Earnings Call, Aug 08, 2019.pdf         \n",
       "40 C:/Users/rossz/OneDrive/CC/data/ciq-dji/004194-kodk/Eastman Kodak Company, Q2 2019 Earnings Call, Aug 08, 2019.pdf                     \n",
       "41 C:/Users/rossz/OneDrive/CC/data/ciq-dji/020779-csco/Cisco Systems, Inc., Q4 2019 Earnings Call, Aug 14, 2019.pdf                       \n",
       "42 C:/Users/rossz/OneDrive/CC/data/ciq-dji/005680-hd/The Home Depot, Inc., Q2 2020 Earnings Call, Aug 20, 2019.pdf                        \n",
       "43 C:/Users/rossz/OneDrive/CC/data/ciq-dji/005606-hpq/HP Inc., Q3 2019 Earnings Call, Aug 22, 2019.pdf                                    \n",
       "44 C:/Users/rossz/OneDrive/CC/data/ciq-dji/007906-nke/NIKE, Inc., Q1 2020 Earnings Call, Sep 24, 2019.pdf                                 \n",
       "45 C:/Users/rossz/OneDrive/CC/data/ciq-dji/002968-jpm/JPMorgan Chase  Co., Q3 2019 Earnings Call, Oct 15, 2019.pdf                        \n",
       "46 C:/Users/rossz/OneDrive/CC/data/ciq-dji/003243-c/Citigroup Inc., Q3 2019 Earnings Call, Oct 15, 2019.pdf                               \n",
       "47 C:/Users/rossz/OneDrive/CC/data/ciq-dji/006266-jnj/Johnson  Johnson, Q3 2019 Earnings Call, Oct 15, 2019.pdf                           \n",
       "48 C:/Users/rossz/OneDrive/CC/data/ciq-dji/010903-unh/UnitedHealth Group Incorporated, Q3 2019 Earnings Call, Oct 15, 2019.pdf            \n",
       "49 C:/Users/rossz/OneDrive/CC/data/ciq-dji/114628-gs/The Goldman Sachs Group, Inc., Q3 2019 Earnings Call, Oct 15, 2019.pdf               \n",
       "50 C:/Users/rossz/OneDrive/CC/data/ciq-dji/006066-ibm/International Business Machines Corporation, Q3 2019 Earnings Call, Oct 16, 2019.pdf\n",
       "51 C:/Users/rossz/OneDrive/CC/data/ciq-dji/007647-bac/Bank of America Corporation, Q3 2019 Earnings Call, Oct 16, 2019.pdf                \n",
       "52 C:/Users/rossz/OneDrive/CC/data/ciq-dji/001300-hon/Honeywell International Inc., Q3 2019 Earnings Call, Oct 17, 2019.pdf               \n",
       "53 C:/Users/rossz/OneDrive/CC/data/ciq-dji/001447-axp/American Express Company, Q3 2019 Earnings Call, Oct 18, 2019.pdf                   \n",
       "54 C:/Users/rossz/OneDrive/CC/data/ciq-dji/003144-ko/The Coca-Cola Company, Q3 2019 Earnings Call, Oct 18, 2019.pdf                       \n",
       "55 C:/Users/rossz/OneDrive/CC/data/ciq-dji/007154-mcd/McDonalds Corporation, Q3 2019 Earnings Call, Oct 22, 2019.pdf                      \n",
       "56 C:/Users/rossz/OneDrive/CC/data/ciq-dji/008762-pg/The Procter  Gamble Company, Q1 2020 Earnings Call, Oct 22, 2019.pdf                 \n",
       "57 C:/Users/rossz/OneDrive/CC/data/ciq-dji/010983-utx/United Technologies Corporation, Q3 2019 Earnings Call, Oct 22, 2019.pdf            \n",
       "58 C:/Users/rossz/OneDrive/CC/data/ciq-dji/062689-trv/The Travelers Companies, Inc., Q3 2019 Earnings Call, Oct 22, 2019.pdf              \n",
       "59 C:/Users/rossz/OneDrive/CC/data/ciq-dji/002285-ba/The Boeing Company, Q3 2019 Earnings Call, Oct 23, 2019.pdf                          \n",
       "60 C:/Users/rossz/OneDrive/CC/data/ciq-dji/002817-cat/Caterpillar Inc., Q3 2019 Earnings Call, Oct 23, 2019.pdf                           \n",
       "61 C:/Users/rossz/OneDrive/CC/data/ciq-dji/012141-msft/Microsoft Corporation, Q1 2020 Earnings Call, Oct 23, 2019.pdf                     \n",
       "62 C:/Users/rossz/OneDrive/CC/data/ciq-dji/006008-intc/Intel Corporation, Q3 2019 Earnings Call, Oct 24, 2019.pdf                         \n",
       "63 C:/Users/rossz/OneDrive/CC/data/ciq-dji/007435-mmm/3M Company, Q3 2019 Earnings Call, Oct 24, 2019.pdf                                 \n",
       "64 C:/Users/rossz/OneDrive/CC/data/ciq-dji/179534-v/Visa Inc., Q4 2019 Earnings Call, Oct 24, 2019.pdf                                    \n",
       "65 C:/Users/rossz/OneDrive/CC/data/ciq-dji/002136-vz/Verizon Communications Inc., Q3 2019 Earnings Call, Oct 25, 2019.pdf                 \n",
       "66 C:/Users/rossz/OneDrive/CC/data/ciq-dji/005234-gt/The Goodyear Tire  Rubber Company, Q3 2019 Earnings Call, Oct 25, 2019.pdf           \n",
       "67 C:/Users/rossz/OneDrive/CC/data/ciq-dji/009899-t/ATT Inc., Q3 2019 Earnings Call, Oct 28, 2019.pdf                                     \n",
       "68 C:/Users/rossz/OneDrive/CC/data/ciq-dji/011264-wba/Walgreens Boots Alliance, Inc., Q4 2019 Earnings Call, Oct 28, 2019.pdf             \n",
       "69 C:/Users/rossz/OneDrive/CC/data/ciq-dji/005073-gm/General Motors Company, Q3 2019 Earnings Call, Oct 29, 2019.pdf                      \n",
       "70 C:/Users/rossz/OneDrive/CC/data/ciq-dji/007257-mrk/Merck  Co., Inc., Q3 2019 Earnings Call, Oct 29, 2019.pdf                           \n",
       "71 C:/Users/rossz/OneDrive/CC/data/ciq-dji/008530-pfe/Pfizer Inc., Q3 2019 Earnings Call, Oct 29, 2019.pdf                                \n",
       "72 C:/Users/rossz/OneDrive/CC/data/ciq-dji/001690-appl/Apple Inc., Q4 2019 Earnings Call, Oct 30, 2019.pdf                                \n",
       "73 C:/Users/rossz/OneDrive/CC/data/ciq-dji/005047-ge/General Electric Company, Q3 2019 Earnings Call, Oct 30, 2019.pdf                    \n",
       "74 C:/Users/rossz/OneDrive/CC/data/ciq-dji/004060-dd/DuPont de Nemours, Inc., Q3 2019 Earnings Call, Oct 31, 2019.pdf                     \n",
       "75 C:/Users/rossz/OneDrive/CC/data/ciq-dji/006104-ip/International Paper Company, Q3 2019 Earnings Call, Oct 31, 2019.pdf                 \n",
       "76 C:/Users/rossz/OneDrive/CC/data/ciq-dji/008543-mo/Altria Group, Inc., Q3 2019 Earnings Call, Oct 31, 2019.pdf                          \n",
       "77 C:/Users/rossz/OneDrive/CC/data/ciq-dji/001487-aig/American International Group, Inc., Q3 2019 Earnings Call, Nov 01, 2019.pdf         \n",
       "78 C:/Users/rossz/OneDrive/CC/data/ciq-dji/002991-cvx/Chevron Corporation, Q3 2019 Earnings Call, Nov 01, 2019.pdf                        \n",
       "79 C:/Users/rossz/OneDrive/CC/data/ciq-dji/004503-xom/Exxon Mobil Corporation, Q3 2019 Earnings Call, Nov 01, 2019.pdf                    \n",
       "80 C:/Users/rossz/OneDrive/CC/data/ciq-dji/003980-dis/The Walt Disney Company, Q4 2019 Earnings Call, Nov 07, 2019.pdf                    \n",
       "81 C:/Users/rossz/OneDrive/CC/data/ciq-dji/004194-kodk/Eastman Kodak Company, Q3 2019 Earnings Call, Nov 07, 2019.pdf                     \n",
       "82 C:/Users/rossz/OneDrive/CC/data/ciq-dji/020779-csco/Cisco Systems, Inc., Q1 2020 Earnings Call, Nov 13, 2019.pdf                       "
      ]
     },
     "metadata": {},
     "output_type": "display_data"
    }
   ],
   "source": [
    "cc[is.na(gvkey)][, ':='(md=str_sub(md, 1, 10), qa=str_sub(qa, 1, 10))][]"
   ]
  },
  {
   "cell_type": "code",
   "execution_count": 19,
   "metadata": {
    "scrolled": true
   },
   "outputs": [
    {
     "data": {
      "text/html": [
       "<table>\n",
       "<thead><tr><th scope=col>gvkey</th><th scope=col>ticker</th><th scope=col>permno</th><th scope=col>conm</th><th scope=col>fyearq</th><th scope=col>fqtr</th><th scope=col>datadate</th><th scope=col>fyr</th><th scope=col>rdq</th><th scope=col>rdq1</th><th scope=col>leadrdq1</th><th scope=col>repdats</th><th scope=col>mcap</th><th scope=col>medest</th><th scope=col>act</th><th scope=col>numest</th><th scope=col>basis</th><th scope=col>sue1</th><th scope=col>sue2</th><th scope=col>sue3</th><th scope=col>se</th><th scope=col>headline</th><th scope=col>keydevid</th></tr></thead>\n",
       "<tbody>\n",
       "\t<tr><td>001300                                                          </td><td>ALD                                                             </td><td>10145                                                           </td><td>HONEYWELL INTERNATIONAL INC                                     </td><td>2007                                                            </td><td>2                                                               </td><td>2007-06-30                                                      </td><td>12                                                              </td><td>2007-07-19                                                      </td><td>2007-07-19                                                      </td><td>2007-10-19                                                      </td><td>2007-07-19                                                      </td><td>42119.73                                                        </td><td>0.76                                                            </td><td>0.78                                                            </td><td>16                                                              </td><td>D                                                               </td><td>0.002665245                                                     </td><td>0.002919561                                                     </td><td>0.000355366                                                     </td><td>0.01385928                                                      </td><td>Honeywell International Inc., Q2 2007 Earnings Call, Jul-19-2007</td><td>4527845                                                         </td></tr>\n",
       "</tbody>\n",
       "</table>\n"
      ],
      "text/latex": [
       "\\begin{tabular}{r|lllllllllllllllllllllll}\n",
       " gvkey & ticker & permno & conm & fyearq & fqtr & datadate & fyr & rdq & rdq1 & leadrdq1 & repdats & mcap & medest & act & numest & basis & sue1 & sue2 & sue3 & se & headline & keydevid\\\\\n",
       "\\hline\n",
       "\t 001300                                                           & ALD                                                              & 10145                                                            & HONEYWELL INTERNATIONAL INC                                      & 2007                                                             & 2                                                                & 2007-06-30                                                       & 12                                                               & 2007-07-19                                                       & 2007-07-19                                                       & 2007-10-19                                                       & 2007-07-19                                                       & 42119.73                                                         & 0.76                                                             & 0.78                                                             & 16                                                               & D                                                                & 0.002665245                                                      & 0.002919561                                                      & 0.000355366                                                      & 0.01385928                                                       & Honeywell International Inc., Q2 2007 Earnings Call, Jul-19-2007 & 4527845                                                         \\\\\n",
       "\\end{tabular}\n"
      ],
      "text/markdown": [
       "\n",
       "| gvkey | ticker | permno | conm | fyearq | fqtr | datadate | fyr | rdq | rdq1 | leadrdq1 | repdats | mcap | medest | act | numest | basis | sue1 | sue2 | sue3 | se | headline | keydevid |\n",
       "|---|---|---|---|---|---|---|---|---|---|---|---|---|---|---|---|---|---|---|---|---|---|---|\n",
       "| 001300                                                           | ALD                                                              | 10145                                                            | HONEYWELL INTERNATIONAL INC                                      | 2007                                                             | 2                                                                | 2007-06-30                                                       | 12                                                               | 2007-07-19                                                       | 2007-07-19                                                       | 2007-10-19                                                       | 2007-07-19                                                       | 42119.73                                                         | 0.76                                                             | 0.78                                                             | 16                                                               | D                                                                | 0.002665245                                                      | 0.002919561                                                      | 0.000355366                                                      | 0.01385928                                                       | Honeywell International Inc., Q2 2007 Earnings Call, Jul-19-2007 | 4527845                                                          |\n",
       "\n"
      ],
      "text/plain": [
       "  gvkey  ticker permno conm                        fyearq fqtr datadate   fyr\n",
       "1 001300 ALD    10145  HONEYWELL INTERNATIONAL INC 2007   2    2007-06-30 12 \n",
       "  rdq        rdq1       leadrdq1   repdats    mcap     medest act  numest basis\n",
       "1 2007-07-19 2007-07-19 2007-10-19 2007-07-19 42119.73 0.76   0.78 16     D    \n",
       "  sue1        sue2        sue3        se        \n",
       "1 0.002665245 0.002919561 0.000355366 0.01385928\n",
       "  headline                                                         keydevid\n",
       "1 Honeywell International Inc., Q2 2007 Earnings Call, Jul-19-2007 4527845 "
      ]
     },
     "metadata": {},
     "output_type": "display_data"
    }
   ],
   "source": [
    "x = sue[cc[, .(gvkey, headline_date, headline, keydevid)],\n",
    "     on=c('gvkey', 'rdq==headline_date')]\n",
    "x[1]"
   ]
  }
 ],
 "metadata": {
  "kernelspec": {
   "display_name": "R-3.6.2",
   "language": "R",
   "name": "ir36"
  },
  "language_info": {
   "codemirror_mode": "r",
   "file_extension": ".r",
   "mimetype": "text/x-r-source",
   "name": "R",
   "pygments_lexer": "r",
   "version": "3.6.2"
  },
  "toc-autonumbering": true,
  "toc-showcode": false,
  "toc-showmarkdowntxt": false
 },
 "nbformat": 4,
 "nbformat_minor": 4
}
