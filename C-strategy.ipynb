{
 "cells": [
  {
   "cell_type": "markdown",
   "metadata": {},
   "source": [
    "# Init"
   ]
  },
  {
   "cell_type": "code",
   "execution_count": 32,
   "metadata": {},
   "outputs": [
    {
     "name": "stdout",
     "output_type": "stream",
     "text": [
      "Current working directory: C:/Users/rossz/Onedrive/CC"
     ]
    }
   ],
   "source": [
    "# library\n",
    "library(feather)\n",
    "library(repr)\n",
    "library(jsonlite)\n",
    "library(dominanceanalysis)\n",
    "library(Matrix)\n",
    "suppressMessages(library(glmnet))\n",
    "library(rlist)\n",
    "\n",
    "\n",
    "# data_dir\n",
    "if (tolower(str_sub(getwd(), -11)) == 'onedrive/cc') {\n",
    "    DATA_DIR = str_c(getwd(), '/data')\n",
    "    WRDS_DOWNLOAD_DIR = str_c(DATA_DIR, '/WRDS-download')\n",
    "    cat(str_c('Current working directory: ', getwd()))\n",
    "} else {\n",
    "    cat(str_c('Please set working dir to \"~/onedrive/cc\"'))\n",
    "}\n",
    "\n",
    "# options for plot\n",
    "options(repr.plot.width=7, repr.plot.height=4, repr.plot.res = 300)"
   ]
  },
  {
   "cell_type": "markdown",
   "metadata": {},
   "source": [
    "# ranking accuracy"
   ]
  },
  {
   "cell_type": "code",
   "execution_count": 70,
   "metadata": {
    "scrolled": true
   },
   "outputs": [
    {
     "name": "stdout",
     "output_type": "stream",
     "text": [
      "-car_ranking_3y_ols- already exists, will NOT load again!  (0 secs)\n"
     ]
    }
   ],
   "source": [
    "suppressWarnings({\n",
    "    car_ranking_truth = as.data.table(read_feather('data/car_ranking.feather'))\n",
    "    car_ranking_3y_text = as.data.table(read_feather('data/car_ranking_3y_text.feather'))\n",
    "    car_ranking_3y_text_fr = as.data.table(read_feather('data/car_ranking_3y_text_fr.feather'))\n",
    "})\n",
    "ld(car_ranking_3y_ols)\n",
    "\n",
    "car_ranking = rbindlist(list(car_ranking_truth[, .(roll_type, window, docid, car=t_car, model='truth')],\n",
    "                             car_ranking_3y_text[, .(roll_type, window, docid, car=y_car, model='tsfm-text')],\n",
    "                             car_ranking_3y_text_fr[, .(roll_type, window, docid, car=y_car, model='tsfm-text-fr')],\n",
    "                             car_ranking_3y_ols[, .(roll_type, window, docid, car=y_car, model='ols')]),\n",
    "                        fill=T)\n",
    "valid_docid = intersect(car_ranking[roll_type=='1y', docid], car_ranking[roll_type==''])"
   ]
  },
  {
   "cell_type": "code",
   "execution_count": 88,
   "metadata": {
    "scrolled": true
   },
   "outputs": [
    {
     "data": {
      "text/html": [
       "<table>\n",
       "<caption>A data.table: 1 × 4</caption>\n",
       "<thead>\n",
       "\t<tr><th scope=col>ols_winner_acc</th><th scope=col>text_fr_winner_acc</th><th scope=col>ols_loser_acc</th><th scope=col>text_fr_loser_acc</th></tr>\n",
       "\t<tr><th scope=col>&lt;dbl&gt;</th><th scope=col>&lt;dbl&gt;</th><th scope=col>&lt;dbl&gt;</th><th scope=col>&lt;dbl&gt;</th></tr>\n",
       "</thead>\n",
       "<tbody>\n",
       "\t<tr><td>30.625</td><td>30.9375</td><td>19.6875</td><td>20.625</td></tr>\n",
       "</tbody>\n",
       "</table>\n"
      ],
      "text/latex": [
       "A data.table: 1 × 4\n",
       "\\begin{tabular}{llll}\n",
       " ols\\_winner\\_acc & text\\_fr\\_winner\\_acc & ols\\_loser\\_acc & text\\_fr\\_loser\\_acc\\\\\n",
       " <dbl> & <dbl> & <dbl> & <dbl>\\\\\n",
       "\\hline\n",
       "\t 30.625 & 30.9375 & 19.6875 & 20.625\\\\\n",
       "\\end{tabular}\n"
      ],
      "text/markdown": [
       "\n",
       "A data.table: 1 × 4\n",
       "\n",
       "| ols_winner_acc &lt;dbl&gt; | text_fr_winner_acc &lt;dbl&gt; | ols_loser_acc &lt;dbl&gt; | text_fr_loser_acc &lt;dbl&gt; |\n",
       "|---|---|---|---|\n",
       "| 30.625 | 30.9375 | 19.6875 | 20.625 |\n",
       "\n"
      ],
      "text/plain": [
       "  ols_winner_acc text_fr_winner_acc ols_loser_acc text_fr_loser_acc\n",
       "1 30.625         30.9375            19.6875       20.625           "
      ]
     },
     "metadata": {},
     "output_type": "display_data"
    }
   ],
   "source": [
    "top_n = 10\n",
    "\n",
    "car_ranking = car_ranking_truth[, .(roll_type, window, docid, car=t_car)\n",
    "    ][car_ranking_3y_ols[, .(roll_type, window, docid, car_ols=y_car)], on=.(roll_type, window, docid), nomatch=NULL\n",
    "    ][car_ranking_3y_text[, .(roll_type, window, docid, car_text=y_car)], on=.(roll_type, window, docid), nomatch=NULL\n",
    "    ][car_ranking_3y_text_fr[, .(roll_type, window, docid, car_text_fr=y_car)], on=.(roll_type, window, docid), nomatch=NULL\n",
    "    ][, {\n",
    "         top_truth = order(-car)[1:top_n]\n",
    "         top_ols = order(-car_ols)[1:top_n]\n",
    "         top_text = order(-car_text)[1:top_n]\n",
    "         top_text_fr = order(-car_text_fr)[1:top_n]\n",
    "    \n",
    "         btm_truth = order(car)[1:top_n]\n",
    "         btm_ols = order(car_ols)[1:top_n]\n",
    "         btm_text = order(car_text)[1:top_n]\n",
    "         btm_text_fr = order(car_text_fr)[1:top_n]\n",
    "    \n",
    "         list(ols_winner_acc=length(intersect(top_truth, top_ols))/length(top_truth)*100,\n",
    "              text_winner_acc = length(intersect(top_truth, top_text))/length(top_truth)*100,\n",
    "              text_fr_winner_acc = length(intersect(top_truth, top_text_fr))/length(top_truth)*100,\n",
    "              ols_loser_acc = length(intersect(btm_truth, btm_ols))/length(btm_truth)*100,\n",
    "              text_loser_acc = length(intersect(btm_truth, btm_text))/length(btm_text)*100,\n",
    "              text_fr_loser_acc = length(intersect(btm_truth, btm_text_fr))/length(btm_text)*100)\n",
    "      },\n",
    "      keyby=.(roll_type, window)]\n",
    "\n",
    "car_ranking[, lapply(.SD, mean), .SDcols=c('ols_winner_acc', 'text_fr_winner_acc', 'ols_loser_acc', 'text_fr_loser_acc')]"
   ]
  },
  {
   "cell_type": "markdown",
   "metadata": {},
   "source": [
    "# backtest"
   ]
  },
  {
   "cell_type": "code",
   "execution_count": 129,
   "metadata": {},
   "outputs": [
    {
     "name": "stdout",
     "output_type": "stream",
     "text": [
      "-gvkey_permno_link- already exists, will NOT load again!  (0 secs)\n"
     ]
    }
   ],
   "source": [
    "# load gvkey_permno_link\n",
    "ld(gvkey_permno_link)\n",
    "\n",
    "# load targets_df\n",
    "targets_df = as.data.table(read_feather('data/f_sue_keydevid_car_finratio_vol_transcriptid_sim_text.feather'))\n",
    "all_cols = names(targets_df)\n",
    "text_cols = c('text_present', 'text_qa', 'text_ans', 'text_ques', 'text_all')\n",
    "non_text_cols = all_cols[!all_cols %in% text_cols]\n",
    "targets_df = targets_df[, ..non_text_cols]\n",
    "\n",
    "# load car\n",
    "car = fread('./data/CAR/cars_30d_call.csv', colClass=c('integer', 'double', rep('character', times=2), 'integer', rep('double', times=7)))[,\n",
    "      ':='(edate=ymd(edate), rdate=ymd(rdate))\n",
    "    ][isevt==1 & (evttime %between% c(0,30))]"
   ]
  },
  {
   "cell_type": "code",
   "execution_count": null,
   "metadata": {},
   "outputs": [],
   "source": [
    "system.time({\n",
    "    \n",
    "buy_line = 10\n",
    "buy_start = ymd('2011-01-01')\n",
    "buy_end = ymd('2018-12-31')\n",
    "n_stock_max = 10\n",
    "\n",
    "backtest = targets_df[, .(gvkey, ciq_call_date, car_0_30)\n",
    "    ][gvkey_permno_link[, .(gvkey, permno=lpermno)], on=.(gvkey), nomatch=NULL\n",
    "    ][car_0_30>=buy_line \n",
    "    ][car[, .(permno, edate, rdate, evttime, ret)], on=.(permno, ciq_call_date=edate), nomatch=NULL\n",
    "    ][order(rdate)\n",
    "    ][, ':='(permno=NULL)\n",
    "    ][rdate %between% c(buy_start, buy_end)]\n",
    "\n",
    "len_backtest = nrow(backtest)\n",
    "\n",
    "v_cash = double(len_backtest)\n",
    "v_stock = double(len_backtest)\n",
    "n_stock = double(len_backtest)\n",
    "position = vector(\"list\", len_backtest)\n",
    "\n",
    "for (i in 1:len_backtest) {\n",
    "    if (i==1) {\n",
    "        last_v_cash = 1\n",
    "        last_v_stock = 0\n",
    "        last_n_stock = 0\n",
    "        last_position = list()\n",
    "    } else {\n",
    "        last_v_cash = v_cash[i-1]\n",
    "        last_v_stock = v_stock[i-1]\n",
    "        last_n_stock = n_stock[i-1]\n",
    "        last_position = position[[i-1]]\n",
    "    }\n",
    "    \n",
    "    gvkey = backtest[i, gvkey]\n",
    "    rdate = backtest[i, rdate]\n",
    "    evttime = backtest[i, evttime]\n",
    "    ret = backtest[i, ret]\n",
    "    \n",
    "    # on call record\n",
    "    if (evttime==0) {\n",
    "        # if n_stock < max, buy\n",
    "        if (last_n_stock<n_stock_max) {\n",
    "            v_buy = last_v_cash/(n_stock_max-last_n_stock)\n",
    "            \n",
    "            v_cash[i] = last_v_cash-v_buy\n",
    "            v_stock[i] = last_v_stock+v_buy\n",
    "            n_stock[i] = last_n_stock+1\n",
    "\n",
    "            # if stock already in position, add its weight\n",
    "            if (gvkey %in% names(last_position)) {\n",
    "                last_position[[gvkey]] = last_position[[gvkey]]+v_buy\n",
    "                position[[i]] = last_position\n",
    "            }\n",
    "            # if not in position, add to position\n",
    "            else {\n",
    "                last_position[[gvkey]] = v_buy\n",
    "                position[[i]] = last_position\n",
    "            }\n",
    "        }\n",
    "        # if n_stock == max, do nothing\n",
    "        else {\n",
    "            v_cash[i] = last_v_cash\n",
    "            v_stock[i] = last_v_stock\n",
    "            n_stock[i] = last_n_stock\n",
    "            position[[i]] = last_position\n",
    "        }\n",
    "    }\n",
    "    # on exit records\n",
    "    else if (evttime==30) {\n",
    "        # if gvkey in pos, exit return\n",
    "        if (gvkey %in% names(last_position)) {\n",
    "            v_sell = last_position[[gvkey]] * (1+ret)\n",
    "\n",
    "            v_cash[i] = last_v_cash+v_sell\n",
    "            v_stock[i] = last_v_stock-last_position[[gvkey]]\n",
    "            n_stock[i] = last_n_stock-1\n",
    "            \n",
    "            last_position[[gvkey]] = NULL\n",
    "            position[[i]] = last_position\n",
    "        }\n",
    "        # if not in (e.g., first few lines of data are evttime==30), skip\n",
    "        else {\n",
    "            v_cash[i] = last_v_cash\n",
    "            v_stock[i] = last_v_stock\n",
    "            n_stock[i] = last_n_stock\n",
    "            position[[i]] = last_position\n",
    "        }\n",
    "    } \n",
    "    # on other records, compute value change\n",
    "    else if (evttime %between% c(1, 29)) {\n",
    "        # if gvkey in pos, compute return\n",
    "        if (gvkey %in% names(last_position)) {\n",
    "            v_change = last_position[[gvkey]] * ret\n",
    "\n",
    "            last_position[[gvkey]] = last_position[[gvkey]]+v_change\n",
    "            position[[i]] = last_position\n",
    "\n",
    "            v_cash[i] = last_v_cash\n",
    "            v_stock[i] = last_v_stock+v_change\n",
    "            n_stock[i] = last_n_stock\n",
    "        }\n",
    "        # if not in (e.g., first few lines of data are evttime>0), skip\n",
    "        else {\n",
    "            v_cash[i] = last_v_cash\n",
    "            v_stock[i] = last_v_stock\n",
    "            n_stock[i] = last_n_stock\n",
    "            position[[i]] = last_position\n",
    "        }\n",
    "    }\n",
    "}\n",
    "\n",
    "backtest = data.table(backtest, n_stock=n_stock, v_cash=v_cash, v_stock=v_stock, position=position)[, ':='(v_total=v_cash+v_stock)]\n",
    "backtest\n",
    "sv(backtest)\n",
    "    \n",
    "})"
   ]
  },
  {
   "cell_type": "code",
   "execution_count": 187,
   "metadata": {},
   "outputs": [
    {
     "data": {
      "text/html": [
       "<table>\n",
       "<caption>A data.table: 0 × 2</caption>\n",
       "<thead>\n",
       "\t<tr><th scope=col>v_stock</th><th scope=col>v_pos</th></tr>\n",
       "\t<tr><th scope=col>&lt;dbl&gt;</th><th scope=col>&lt;dbl&gt;</th></tr>\n",
       "</thead>\n",
       "<tbody>\n",
       "</tbody>\n",
       "</table>\n"
      ],
      "text/latex": [
       "A data.table: 0 × 2\n",
       "\\begin{tabular}{ll}\n",
       " v\\_stock & v\\_pos\\\\\n",
       " <dbl> & <dbl>\\\\\n",
       "\\hline\n",
       "\\end{tabular}\n"
      ],
      "text/markdown": [
       "\n",
       "A data.table: 0 × 2\n",
       "\n",
       "| v_stock &lt;dbl&gt; | v_pos &lt;dbl&gt; |\n",
       "|---|---|\n",
       "\n"
      ],
      "text/plain": [
       "     v_stock v_pos"
      ]
     },
     "metadata": {},
     "output_type": "display_data"
    }
   ],
   "source": [
    "sum_list <- function(l) {\n",
    "    sum(unlist(l))\n",
    "}\n",
    "\n",
    "backtest[, .(v_stock, v_pos=sapply(position, sum_list))\n",
    "    ][abs(v_stock-v_pos)>=0.000000001]"
   ]
  },
  {
   "cell_type": "code",
   "execution_count": null,
   "metadata": {},
   "outputs": [],
   "source": [
    "backtest[, tail(.SD,1), keyby=.(rdate)] %>%\n",
    "    plot_ly(x=~rdate, y=~v_total, type='scatter', mode='lines') %>%\n",
    "    plotly::layout(autosize=F)"
   ]
  },
  {
   "cell_type": "code",
   "execution_count": null,
   "metadata": {},
   "outputs": [],
   "source": []
  }
 ],
 "metadata": {
  "kernelspec": {
   "display_name": "R-3.6.3",
   "language": "R",
   "name": "ir36"
  },
  "language_info": {
   "codemirror_mode": "r",
   "file_extension": ".r",
   "mimetype": "text/x-r-source",
   "name": "R",
   "pygments_lexer": "r",
   "version": "3.6.3"
  },
  "toc-autonumbering": true
 },
 "nbformat": 4,
 "nbformat_minor": 4
}
