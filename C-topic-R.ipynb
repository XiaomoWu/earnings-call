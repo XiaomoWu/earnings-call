{
 "cells": [
  {
   "cell_type": "markdown",
   "metadata": {},
   "source": [
    "# Explore"
   ]
  },
  {
   "cell_type": "code",
   "execution_count": 6,
   "metadata": {},
   "outputs": [],
   "source": [
    "suppressMessages(library(utilr))\n",
    "\n",
    "WORK_DIR = '/home/yu/OneDrive/CC'\n",
    "DATA_DIR = str_c(WORK_DIR, '/data')\n",
    "WRDS_DOWNLOAD_DIR = str_c(DATA_DIR, '/WRDS-download')\n",
    "setwd(WORK_DIR)"
   ]
  },
  {
   "cell_type": "code",
   "execution_count": 8,
   "metadata": {},
   "outputs": [
    {
     "name": "stdout",
     "output_type": "stream",
     "text": [
      "transcriptid_test (16.7 KB) already loaded, will NOT load again! (0 secs)\n",
      "ciq_transcript_detail (54.6 MB) already loaded, will NOT load again! (0 secs)\n"
     ]
    }
   ],
   "source": [
    "ld(transcriptid_test)\n",
    "ld(ciq_transcript_detail, path=WRDS_DOWNLOAD_DIR)"
   ]
  },
  {
   "cell_type": "code",
   "execution_count": 10,
   "metadata": {},
   "outputs": [],
   "source": [
    "detail = ciq_transcript_detail[transcriptid %in% transcriptid_test$tid]"
   ]
  },
  {
   "cell_type": "code",
   "execution_count": 13,
   "metadata": {
    "scrolled": true
   },
   "outputs": [
    {
     "data": {
      "text/plain": [
       "\n",
       "2006 2007 2008 2009 2010 2011 2012 2013 2014 2015 2016 2017 2018 2019 2020 \n",
       "   3   16   14    8    9    4    6    3    8    6   11   16   17 1184 2483 "
      ]
     },
     "metadata": {},
     "output_type": "display_data"
    }
   ],
   "source": [
    "detail[, table(year(mostimportantdateutc))]"
   ]
  }
 ],
 "metadata": {
  "kernelspec": {
   "display_name": "R-4.0.2",
   "language": "R",
   "name": "ir402"
  },
  "language_info": {
   "codemirror_mode": "r",
   "file_extension": ".r",
   "mimetype": "text/x-r-source",
   "name": "R",
   "pygments_lexer": "r",
   "version": "4.0.2"
  },
  "toc-autonumbering": true
 },
 "nbformat": 4,
 "nbformat_minor": 4
}
