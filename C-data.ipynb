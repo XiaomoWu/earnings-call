{
 "cells": [
  {
   "cell_type": "markdown",
   "metadata": {},
   "source": [
    "# Init"
   ]
  },
  {
   "cell_type": "code",
   "execution_count": 16,
   "metadata": {},
   "outputs": [
    {
     "name": "stdout",
     "output_type": "stream",
     "text": [
      "Current working directory: /home/yu/OneDrive/CC\n"
     ]
    }
   ],
   "source": [
    "# library\n",
    "library(repr)\n",
    "library(Matrix)\n",
    "suppressMessages(suppressWarnings({\n",
    "    library(jsonlite)\n",
    "    library(utilr)\n",
    "    # library(comet)\n",
    "}))\n",
    "\n",
    "WORK_DIR = '/home/yu/OneDrive/CC'\n",
    "DATA_DIR = str_c(WORK_DIR, '/data')\n",
    "WRDS_DOWNLOAD_DIR = str_c(DATA_DIR, '/WRDS-download')\n",
    "setwd(WORK_DIR)\n",
    "cat(str_c('Current working directory: ', getwd(), '\\n'))\n",
    "\n",
    "# options for plot\n",
    "options(repr.plot.width=7, repr.plot.height=4, repr.plot.res = 300)"
   ]
  },
  {
   "cell_type": "markdown",
   "metadata": {
    "toc-hr-collapsed": true,
    "toc-nb-collapsed": true
   },
   "source": [
    "# WRDS"
   ]
  },
  {
   "cell_type": "markdown",
   "metadata": {},
   "source": [
    "## establish connection"
   ]
  },
  {
   "cell_type": "code",
   "execution_count": null,
   "metadata": {},
   "outputs": [],
   "source": [
    "library(RPostgres)\n",
    "\n",
    "# connect to wrds\n",
    "wrds <- dbConnect(Postgres(),\n",
    "                  host='wrds-pgdata.wharton.upenn.edu',\n",
    "                  port=9737,\n",
    "                  dbname='wrds',\n",
    "                  sslmode='require',\n",
    "                  user='xiaomowu')"
   ]
  },
  {
   "cell_type": "markdown",
   "metadata": {},
   "source": [
    "## unit test"
   ]
  },
  {
   "cell_type": "code",
   "execution_count": 62,
   "metadata": {
    "scrolled": true
   },
   "outputs": [
    {
     "name": "stdout",
     "output_type": "stream",
     "text": [
      "  [1] \"aha\"                \"ahasamp\"            \"audit\"             \n",
      "  [4] \"auditsmp\"           \"blab\"               \"block\"             \n",
      "  [7] \"boardex\"            \"boardsmp\"           \"bvd\"               \n",
      " [10] \"bvdsamp\"            \"calcbnch\"           \"cboe\"              \n",
      " [13] \"centris\"            \"ciq\"                \"ciqsamp\"           \n",
      " [16] \"cisdm\"              \"cisdmsmp\"           \"clrvt\"             \n",
      " [19] \"clrvtsmp\"           \"comp\"               \"compa\"             \n",
      " [22] \"compb\"              \"compdcur\"           \"compg\"             \n",
      " [25] \"comph\"              \"compm\"              \"compmcur\"          \n",
      " [28] \"compsamp\"           \"compseg\"            \"compsnap\"          \n",
      " [31] \"comscore\"           \"contrib\"            \"crsp\"              \n",
      " [34] \"crspa\"              \"crspm\"              \"crspq\"             \n",
      " [37] \"crspsamp\"           \"csmar\"              \"dealscan\"          \n",
      " [40] \"djones\"             \"dmef\"               \"doe\"               \n",
      " [43] \"emdb\"               \"etfg\"               \"etfgsamp\"          \n",
      " [46] \"eureka\"             \"eursamp\"            \"execcomp\"          \n",
      " [49] \"factset\"            \"ff\"                 \"fisd\"              \n",
      " [52] \"fisdsamp\"           \"fjc\"                \"frb\"               \n",
      " [55] \"fssamp\"             \"ftse\"               \"ginsight\"          \n",
      " [58] \"gmi\"                \"govpx\"              \"govpxsmp\"          \n",
      " [61] \"gsi\"                \"hbsamp\"             \"hfr\"               \n",
      " [64] \"hfrsamp\"            \"ibes\"               \"ibescorp\"          \n",
      " [67] \"ibeskpi\"            \"ifgr\"               \"ifgrsamp\"          \n",
      " [70] \"ims\"                \"imssamp\"            \"information_schema\"\n",
      " [73] \"iri\"                \"iss\"                \"kld\"               \n",
      " [76] \"ktmine\"             \"ktsamp\"             \"levin\"             \n",
      " [79] \"lspd\"               \"lspdsamp\"           \"lvnsamp\"           \n",
      " [82] \"macrofin\"           \"markit\"             \"mfl\"               \n",
      " [85] \"midas\"              \"mrktsamp\"           \"msfanly\"           \n",
      " [88] \"msfinst\"            \"msrb\"               \"msrbsamp\"          \n",
      " [91] \"omtrial\"            \"optionm\"            \"otc\"               \n",
      " [94] \"pg_catalog\"         \"phlx\"               \"ppublica\"          \n",
      " [97] \"ppubsamp\"           \"preqin\"             \"preqsamp\"          \n",
      "[100] \"public\"             \"pwt\"                \"rent\"              \n",
      "[103] \"reprisk\"            \"repsamp\"            \"revere\"            \n",
      "[106] \"risk\"               \"risksamp\"           \"rpa\"               \n",
      "[109] \"rpna\"               \"rpnasamp\"           \"sdc\"               \n",
      "[112] \"sdcsamp\"            \"secsamp\"            \"snapsamp\"          \n",
      "[115] \"snl\"                \"snlsamp\"            \"sprat\"             \n",
      "[118] \"sustain\"            \"sustsamp\"           \"taqmsamp\"          \n",
      "[121] \"taqmsec\"            \"taqsamp\"            \"tass\"              \n",
      "[124] \"tfn\"                \"totalq\"             \"toyo\"              \n",
      "[127] \"tr_ds\"              \"trace\"              \"trdssamp\"          \n",
      "[130] \"trdstrm\"            \"tresg\"              \"trown\"             \n",
      "[133] \"trsamp\"             \"trsdcgs\"            \"trws\"              \n",
      "[136] \"twoiq\"              \"twoiqsmp\"           \"wrdsapps\"          \n",
      "[139] \"wrdsrpts\"           \"wrdssec\"            \"zacks\"             \n",
      "[142] \"zacksamp\"          \n"
     ]
    }
   ],
   "source": [
    "# Determine the data libraries available at WRDS\n",
    "res <- dbSendQuery(wrds, \"select distinct table_schema\n",
    "                   from information_schema.tables\n",
    "                   where table_type ='VIEW'\n",
    "                   or table_type ='FOREIGN TABLE'\n",
    "                   order by table_schema\")\n",
    "data <- dbFetch(res, n=-1)\n",
    "dbClearResult(res)\n",
    "print(setDT(data)[, sort(table_schema)])"
   ]
  },
  {
   "cell_type": "code",
   "execution_count": null,
   "metadata": {
    "scrolled": true
   },
   "outputs": [],
   "source": [
    "# Determine the datasets within a given library\n",
    "library = 'taqmsec'\n",
    "res <- dbSendQuery(wrds, sprintf(\"select distinct table_name\n",
    "                   from information_schema.columns\n",
    "                   where table_schema='%s'\n",
    "                   order by table_name\", library))\n",
    "data <- dbFetch(res, n=-1)\n",
    "dbClearResult(res)\n",
    "setDT(data)[, sort(table_name)] %>% print()"
   ]
  },
  {
   "cell_type": "code",
   "execution_count": 65,
   "metadata": {},
   "outputs": [
    {
     "data": {
      "text/html": [
       "<style>\n",
       ".list-inline {list-style: none; margin:0; padding: 0}\n",
       ".list-inline>li {display: inline-block}\n",
       ".list-inline>li:not(:last-child)::after {content: \"\\00b7\"; padding: 0 .5ex}\n",
       "</style>\n",
       "<ol class=list-inline><li>'cqm_'</li><li>'ctm_'</li><li>'ix_2'</li><li>'ix_c'</li><li>'ix_n'</li><li>'mast'</li><li>'nbbo'</li></ol>\n"
      ],
      "text/latex": [
       "\\begin{enumerate*}\n",
       "\\item 'cqm\\_'\n",
       "\\item 'ctm\\_'\n",
       "\\item 'ix\\_2'\n",
       "\\item 'ix\\_c'\n",
       "\\item 'ix\\_n'\n",
       "\\item 'mast'\n",
       "\\item 'nbbo'\n",
       "\\end{enumerate*}\n"
      ],
      "text/markdown": [
       "1. 'cqm_'\n",
       "2. 'ctm_'\n",
       "3. 'ix_2'\n",
       "4. 'ix_c'\n",
       "5. 'ix_n'\n",
       "6. 'mast'\n",
       "7. 'nbbo'\n",
       "\n",
       "\n"
      ],
      "text/plain": [
       "[1] \"cqm_\" \"ctm_\" \"ix_2\" \"ix_c\" \"ix_n\" \"mast\" \"nbbo\""
      ]
     },
     "metadata": {},
     "output_type": "display_data"
    }
   ],
   "source": [
    "data[, unique(str_sub(table_name, 1, 4))]"
   ]
  },
  {
   "cell_type": "code",
   "execution_count": null,
   "metadata": {
    "scrolled": true
   },
   "outputs": [],
   "source": [
    "# Determine the variables (column headers) within a given dataset\n",
    "library = 'ibes'\n",
    "dataset = 'det_epsus'\n",
    "res <- dbSendQuery(wrds, sprintf(\"select column_name\n",
    "                   from information_schema.columns\n",
    "                   where table_schema='%s'\n",
    "                   and table_name='%s'\n",
    "                   order by column_name\", library, dataset))\n",
    "data <- dbFetch(res, n=-1)\n",
    "dbClearResult(res)\n",
    "setDT(data)[, column_name] %>% print()"
   ]
  },
  {
   "cell_type": "code",
   "execution_count": null,
   "metadata": {},
   "outputs": [],
   "source": [
    "# To query the crsp.dsf dataset\n",
    "library = \"taqmsec\"\n",
    "dataset = 'ctm_20140905'\n",
    "res <- dbSendQuery(wrds, sprintf(\"select * from %s.%s\", library, dataset))\n",
    "data <- dbFetch(res, n=10) %>% setDT()\n",
    "dbClearResult(res)\n",
    "data"
   ]
  },
  {
   "cell_type": "code",
   "execution_count": 71,
   "metadata": {},
   "outputs": [
    {
     "data": {
      "text/html": [
       "<table class=\"dataframe\">\n",
       "<caption>A data.table: 10 × 17</caption>\n",
       "<thead>\n",
       "\t<tr><th scope=col>date</th><th scope=col>time_m</th><th scope=col>ex</th><th scope=col>sym_root</th><th scope=col>sym_suffix</th><th scope=col>tr_scond</th><th scope=col>size</th><th scope=col>price</th><th scope=col>tr_stop_ind</th><th scope=col>tr_corr</th><th scope=col>tr_seqnum</th><th scope=col>tr_id</th><th scope=col>tr_source</th><th scope=col>tr_rf</th><th scope=col>part_time</th><th scope=col>trf_time</th><th scope=col>tte_ind</th></tr>\n",
       "\t<tr><th scope=col>&lt;date&gt;</th><th scope=col>&lt;time&gt;</th><th scope=col>&lt;chr&gt;</th><th scope=col>&lt;chr&gt;</th><th scope=col>&lt;chr&gt;</th><th scope=col>&lt;chr&gt;</th><th scope=col>&lt;dbl&gt;</th><th scope=col>&lt;dbl&gt;</th><th scope=col>&lt;chr&gt;</th><th scope=col>&lt;chr&gt;</th><th scope=col>&lt;dbl&gt;</th><th scope=col>&lt;chr&gt;</th><th scope=col>&lt;chr&gt;</th><th scope=col>&lt;chr&gt;</th><th scope=col>&lt;time&gt;</th><th scope=col>&lt;time&gt;</th><th scope=col>&lt;chr&gt;</th></tr>\n",
       "</thead>\n",
       "<tbody>\n",
       "\t<tr><td>2018-09-05</td><td>09:30:01.004</td><td>N</td><td>A</td><td>NA</td><td>O  </td><td>12117</td><td>67.28</td><td>N</td><td>00</td><td>241801</td><td>52983593648973</td><td>C</td><td>NA</td><td>09:30:01.002</td><td>          NA</td><td>0</td></tr>\n",
       "\t<tr><td>2018-09-05</td><td>09:30:01.372</td><td>K</td><td>A</td><td>NA</td><td>F I</td><td>    2</td><td>67.39</td><td>N</td><td>00</td><td>261701</td><td>52983525028193</td><td>C</td><td>NA</td><td>09:30:01.371</td><td>          NA</td><td>1</td></tr>\n",
       "\t<tr><td>2018-09-05</td><td>09:30:02.204</td><td>N</td><td>A</td><td>NA</td><td>NA </td><td>  100</td><td>67.14</td><td>N</td><td>00</td><td>267501</td><td>52983593973839</td><td>C</td><td>NA</td><td>09:30:02.204</td><td>          NA</td><td>0</td></tr>\n",
       "\t<tr><td>2018-09-05</td><td>09:30:02.204</td><td>N</td><td>A</td><td>NA</td><td>I  </td><td>   52</td><td>67.13</td><td>N</td><td>00</td><td>267601</td><td>52983593973842</td><td>C</td><td>NA</td><td>09:30:02.204</td><td>          NA</td><td>0</td></tr>\n",
       "\t<tr><td>2018-09-05</td><td>09:30:06.343</td><td>D</td><td>A</td><td>NA</td><td>I  </td><td>    5</td><td>67.39</td><td>N</td><td>00</td><td>297301</td><td>71675223102037</td><td>C</td><td>T </td><td>09:30:01.372</td><td>09:30:06.343</td><td>0</td></tr>\n",
       "\t<tr><td>2018-09-05</td><td>09:30:21.361</td><td>D</td><td>A</td><td>NA</td><td>4 I</td><td>    1</td><td>67.28</td><td>N</td><td>00</td><td>462501</td><td>71675223816503</td><td>C</td><td>T </td><td>09:30:21.290</td><td>09:30:21.360</td><td>1</td></tr>\n",
       "\t<tr><td>2018-09-05</td><td>09:30:21.362</td><td>Y</td><td>A</td><td>NA</td><td>F  </td><td>  100</td><td>67.38</td><td>N</td><td>00</td><td>462601</td><td>52983525027946</td><td>C</td><td>NA</td><td>09:30:21.361</td><td>          NA</td><td>1</td></tr>\n",
       "\t<tr><td>2018-09-05</td><td>09:30:22.390</td><td>P</td><td>A</td><td>NA</td><td>F  </td><td>  100</td><td>67.38</td><td>N</td><td>00</td><td>463701</td><td>52983525037641</td><td>C</td><td>NA</td><td>09:30:22.389</td><td>          NA</td><td>1</td></tr>\n",
       "\t<tr><td>2018-09-05</td><td>09:30:22.390</td><td>P</td><td>A</td><td>NA</td><td>Q  </td><td>  100</td><td>67.38</td><td>N</td><td>00</td><td>463801</td><td>52983525037642</td><td>C</td><td>NA</td><td>09:30:22.389</td><td>          NA</td><td>0</td></tr>\n",
       "\t<tr><td>2018-09-05</td><td>09:30:22.390</td><td>T</td><td>A</td><td>NA</td><td>F  </td><td>  100</td><td>67.38</td><td>N</td><td>00</td><td>463901</td><td>62879133546566</td><td>C</td><td>NA</td><td>09:30:22.390</td><td>          NA</td><td>1</td></tr>\n",
       "</tbody>\n",
       "</table>\n"
      ],
      "text/latex": [
       "A data.table: 10 × 17\n",
       "\\begin{tabular}{lllllllllllllllll}\n",
       " date & time\\_m & ex & sym\\_root & sym\\_suffix & tr\\_scond & size & price & tr\\_stop\\_ind & tr\\_corr & tr\\_seqnum & tr\\_id & tr\\_source & tr\\_rf & part\\_time & trf\\_time & tte\\_ind\\\\\n",
       " <date> & <time> & <chr> & <chr> & <chr> & <chr> & <dbl> & <dbl> & <chr> & <chr> & <dbl> & <chr> & <chr> & <chr> & <time> & <time> & <chr>\\\\\n",
       "\\hline\n",
       "\t 2018-09-05 & 09:30:01.004 & N & A & NA & O   & 12117 & 67.28 & N & 00 & 241801 & 52983593648973 & C & NA & 09:30:01.002 &           NA & 0\\\\\n",
       "\t 2018-09-05 & 09:30:01.372 & K & A & NA & F I &     2 & 67.39 & N & 00 & 261701 & 52983525028193 & C & NA & 09:30:01.371 &           NA & 1\\\\\n",
       "\t 2018-09-05 & 09:30:02.204 & N & A & NA & NA  &   100 & 67.14 & N & 00 & 267501 & 52983593973839 & C & NA & 09:30:02.204 &           NA & 0\\\\\n",
       "\t 2018-09-05 & 09:30:02.204 & N & A & NA & I   &    52 & 67.13 & N & 00 & 267601 & 52983593973842 & C & NA & 09:30:02.204 &           NA & 0\\\\\n",
       "\t 2018-09-05 & 09:30:06.343 & D & A & NA & I   &     5 & 67.39 & N & 00 & 297301 & 71675223102037 & C & T  & 09:30:01.372 & 09:30:06.343 & 0\\\\\n",
       "\t 2018-09-05 & 09:30:21.361 & D & A & NA & 4 I &     1 & 67.28 & N & 00 & 462501 & 71675223816503 & C & T  & 09:30:21.290 & 09:30:21.360 & 1\\\\\n",
       "\t 2018-09-05 & 09:30:21.362 & Y & A & NA & F   &   100 & 67.38 & N & 00 & 462601 & 52983525027946 & C & NA & 09:30:21.361 &           NA & 1\\\\\n",
       "\t 2018-09-05 & 09:30:22.390 & P & A & NA & F   &   100 & 67.38 & N & 00 & 463701 & 52983525037641 & C & NA & 09:30:22.389 &           NA & 1\\\\\n",
       "\t 2018-09-05 & 09:30:22.390 & P & A & NA & Q   &   100 & 67.38 & N & 00 & 463801 & 52983525037642 & C & NA & 09:30:22.389 &           NA & 0\\\\\n",
       "\t 2018-09-05 & 09:30:22.390 & T & A & NA & F   &   100 & 67.38 & N & 00 & 463901 & 62879133546566 & C & NA & 09:30:22.390 &           NA & 1\\\\\n",
       "\\end{tabular}\n"
      ],
      "text/markdown": [
       "\n",
       "A data.table: 10 × 17\n",
       "\n",
       "| date &lt;date&gt; | time_m &lt;time&gt; | ex &lt;chr&gt; | sym_root &lt;chr&gt; | sym_suffix &lt;chr&gt; | tr_scond &lt;chr&gt; | size &lt;dbl&gt; | price &lt;dbl&gt; | tr_stop_ind &lt;chr&gt; | tr_corr &lt;chr&gt; | tr_seqnum &lt;dbl&gt; | tr_id &lt;chr&gt; | tr_source &lt;chr&gt; | tr_rf &lt;chr&gt; | part_time &lt;time&gt; | trf_time &lt;time&gt; | tte_ind &lt;chr&gt; |\n",
       "|---|---|---|---|---|---|---|---|---|---|---|---|---|---|---|---|---|\n",
       "| 2018-09-05 | 09:30:01.004 | N | A | NA | O   | 12117 | 67.28 | N | 00 | 241801 | 52983593648973 | C | NA | 09:30:01.002 |           NA | 0 |\n",
       "| 2018-09-05 | 09:30:01.372 | K | A | NA | F I |     2 | 67.39 | N | 00 | 261701 | 52983525028193 | C | NA | 09:30:01.371 |           NA | 1 |\n",
       "| 2018-09-05 | 09:30:02.204 | N | A | NA | NA  |   100 | 67.14 | N | 00 | 267501 | 52983593973839 | C | NA | 09:30:02.204 |           NA | 0 |\n",
       "| 2018-09-05 | 09:30:02.204 | N | A | NA | I   |    52 | 67.13 | N | 00 | 267601 | 52983593973842 | C | NA | 09:30:02.204 |           NA | 0 |\n",
       "| 2018-09-05 | 09:30:06.343 | D | A | NA | I   |     5 | 67.39 | N | 00 | 297301 | 71675223102037 | C | T  | 09:30:01.372 | 09:30:06.343 | 0 |\n",
       "| 2018-09-05 | 09:30:21.361 | D | A | NA | 4 I |     1 | 67.28 | N | 00 | 462501 | 71675223816503 | C | T  | 09:30:21.290 | 09:30:21.360 | 1 |\n",
       "| 2018-09-05 | 09:30:21.362 | Y | A | NA | F   |   100 | 67.38 | N | 00 | 462601 | 52983525027946 | C | NA | 09:30:21.361 |           NA | 1 |\n",
       "| 2018-09-05 | 09:30:22.390 | P | A | NA | F   |   100 | 67.38 | N | 00 | 463701 | 52983525037641 | C | NA | 09:30:22.389 |           NA | 1 |\n",
       "| 2018-09-05 | 09:30:22.390 | P | A | NA | Q   |   100 | 67.38 | N | 00 | 463801 | 52983525037642 | C | NA | 09:30:22.389 |           NA | 0 |\n",
       "| 2018-09-05 | 09:30:22.390 | T | A | NA | F   |   100 | 67.38 | N | 00 | 463901 | 62879133546566 | C | NA | 09:30:22.390 |           NA | 1 |\n",
       "\n"
      ],
      "text/plain": [
       "   date       time_m       ex sym_root sym_suffix tr_scond size  price\n",
       "1  2018-09-05 09:30:01.004 N  A        NA         O        12117 67.28\n",
       "2  2018-09-05 09:30:01.372 K  A        NA         F I          2 67.39\n",
       "3  2018-09-05 09:30:02.204 N  A        NA         NA         100 67.14\n",
       "4  2018-09-05 09:30:02.204 N  A        NA         I           52 67.13\n",
       "5  2018-09-05 09:30:06.343 D  A        NA         I            5 67.39\n",
       "6  2018-09-05 09:30:21.361 D  A        NA         4 I          1 67.28\n",
       "7  2018-09-05 09:30:21.362 Y  A        NA         F          100 67.38\n",
       "8  2018-09-05 09:30:22.390 P  A        NA         F          100 67.38\n",
       "9  2018-09-05 09:30:22.390 P  A        NA         Q          100 67.38\n",
       "10 2018-09-05 09:30:22.390 T  A        NA         F          100 67.38\n",
       "   tr_stop_ind tr_corr tr_seqnum tr_id          tr_source tr_rf part_time   \n",
       "1  N           00      241801    52983593648973 C         NA    09:30:01.002\n",
       "2  N           00      261701    52983525028193 C         NA    09:30:01.371\n",
       "3  N           00      267501    52983593973839 C         NA    09:30:02.204\n",
       "4  N           00      267601    52983593973842 C         NA    09:30:02.204\n",
       "5  N           00      297301    71675223102037 C         T     09:30:01.372\n",
       "6  N           00      462501    71675223816503 C         T     09:30:21.290\n",
       "7  N           00      462601    52983525027946 C         NA    09:30:21.361\n",
       "8  N           00      463701    52983525037641 C         NA    09:30:22.389\n",
       "9  N           00      463801    52983525037642 C         NA    09:30:22.389\n",
       "10 N           00      463901    62879133546566 C         NA    09:30:22.390\n",
       "   trf_time     tte_ind\n",
       "1            NA 0      \n",
       "2            NA 1      \n",
       "3            NA 0      \n",
       "4            NA 0      \n",
       "5  09:30:06.343 0      \n",
       "6  09:30:21.360 1      \n",
       "7            NA 1      \n",
       "8            NA 1      \n",
       "9            NA 0      \n",
       "10           NA 1      "
      ]
     },
     "metadata": {},
     "output_type": "display_data"
    }
   ],
   "source": [
    "data"
   ]
  },
  {
   "cell_type": "markdown",
   "metadata": {},
   "source": [
    "## CIQ-Transcripts"
   ]
  },
  {
   "cell_type": "markdown",
   "metadata": {},
   "source": [
    "> Transcript meta data"
   ]
  },
  {
   "cell_type": "code",
   "execution_count": null,
   "metadata": {},
   "outputs": [],
   "source": [
    "# Last downlaod: 2021-1-6 (N obs: 1173989)\n",
    "# from: beginning\n",
    "\n",
    "library = \"ciq\"\n",
    "dataset = 'wrds_transcript_detail'\n",
    "res <- dbSendQuery(wrds, sprintf(\"select * from %s.%s\", library, dataset))\n",
    "ciq_transcript_detail <- dbFetch(res, n=-1) %>% setDT()\n",
    "dbClearResult(res)\n",
    "\n",
    "sprintf('%s: %s\\n', dataset, nrow(ciq_transcript_detail)) %>% cat()\n",
    "sv(ciq_transcript_detail, path=WRDS_DOWNLOAD_DIR)\n",
    "\n",
    "ciq_transcript_detail[1]"
   ]
  },
  {
   "cell_type": "markdown",
   "metadata": {},
   "source": [
    "> Transcript speaker"
   ]
  },
  {
   "cell_type": "code",
   "execution_count": null,
   "metadata": {},
   "outputs": [],
   "source": [
    "# Last downlaod: 2021-1-6 (N obs: 62783582)\n",
    "# from: beginning\n",
    "\n",
    "library = \"ciq\"\n",
    "dataset = 'wrds_transcript_person'\n",
    "res <- dbSendQuery(wrds, sprintf(\"select * from %s.%s\", library, dataset))\n",
    "ciq_transcript_speaker <- dbFetch(res, n=-1) %>% setDT()\n",
    "dbClearResult(res)\n",
    "\n",
    "sprintf('%s: %s\\n', dataset, nrow(ciq_transcript_speaker)) %>% cat()\n",
    "sv(ciq_transcript_speaker, path=WRDS_DOWNLOAD_DIR)\n",
    "\n",
    "ciq_transcript_speaker[1]"
   ]
  },
  {
   "cell_type": "markdown",
   "metadata": {},
   "source": [
    "> Transcript component"
   ]
  },
  {
   "cell_type": "code",
   "execution_count": null,
   "metadata": {},
   "outputs": [],
   "source": [
    "# Last downlaod: 2021-1-6 (N obs: 62958141)\n",
    "# from: beginning\n",
    "\n",
    "library = \"ciq_transcripts\"\n",
    "dataset = 'ciqtranscriptcomponent'\n",
    "res <- dbSendQuery(wrds, sprintf(\"select * from %s.%s\", library, dataset))\n",
    "ciq_transcript_component <- dbFetch(res, n=-1) %>% setDT()\n",
    "dbClearResult(res)\n",
    "\n",
    "sprintf('%s: %s\\n', dataset, nrow(ciq_transcript_component)) %>% cat()\n",
    "sv(ciq_transcript_component, path=WRDS_DOWNLOAD_DIR)\n",
    "\n",
    "ciq_transcript_component[1]"
   ]
  },
  {
   "cell_type": "markdown",
   "metadata": {},
   "source": [
    "> Transcript component_type_name"
   ]
  },
  {
   "cell_type": "code",
   "execution_count": null,
   "metadata": {
    "scrolled": true
   },
   "outputs": [],
   "source": [
    "# Last downlaod: 2021-1-6 (N obs: 8)\n",
    "# from: beginning\n",
    "\n",
    "library = \"ciq_transcripts\"\n",
    "dataset = 'ciqtranscriptcomponenttype'\n",
    "res <- dbSendQuery(wrds, sprintf(\"select * from %s.%s\", library, dataset))\n",
    "ciq_transcript_componenttype <- dbFetch(res, n=-1) %>% setDT()\n",
    "dbClearResult(res)\n",
    "\n",
    "sprintf('%s: %s\\n', dataset, nrow(ciq_transcript_componenttype)) %>% cat()\n",
    "sv(ciq_transcript_componenttype, path=WRDS_DOWNLOAD_DIR)\n",
    "\n",
    "ciq_transcript_componenttype[1]"
   ]
  },
  {
   "cell_type": "markdown",
   "metadata": {},
   "source": [
    "## CIQ-people"
   ]
  },
  {
   "cell_type": "code",
   "execution_count": null,
   "metadata": {},
   "outputs": [],
   "source": [
    "# wrds_professional: career history of a persion\n",
    "library = 'ciq'\n",
    "dataset = 'wrds_professional'\n",
    "res <- dbSendQuery(wrds, sprintf(\"select *\n",
    "                   from %s.%s\", library, dataset))\n",
    "ciq_professional <- setDT(dbFetch(res, n=-1)); dbClearResult(res)\n",
    "\n",
    "ciq_professional[1]\n",
    "sv(ciq_professional, path=WRDS_DOWNLOAD_DIR)"
   ]
  },
  {
   "cell_type": "code",
   "execution_count": null,
   "metadata": {},
   "outputs": [],
   "source": [
    "# ciqperson: person info\n",
    "# - include name, email, prefix (gender), YOB, phone\n",
    "library = 'ciq'\n",
    "dataset = 'ciqperson'\n",
    "res <- dbSendQuery(wrds, sprintf(\"select *\n",
    "                   from %s.%s limit 10\", library, dataset))\n",
    "ciq_person <- setDT(dbFetch(res, n=-1)); dbClearResult(res)\n",
    "\n",
    "ciq_person[1]\n",
    "sv(ciq_person, path=WRDS_DOWNLOAD_DIR)"
   ]
  },
  {
   "cell_type": "code",
   "execution_count": 36,
   "metadata": {},
   "outputs": [
    {
     "data": {
      "text/html": [
       "<table class=\"dataframe\">\n",
       "<caption>A data.table: 1 × 10</caption>\n",
       "<thead>\n",
       "\t<tr><th scope=col>personid</th><th scope=col>firstname</th><th scope=col>middlename</th><th scope=col>lastname</th><th scope=col>emailaddress</th><th scope=col>prefix</th><th scope=col>suffix</th><th scope=col>salutation</th><th scope=col>yearborn</th><th scope=col>phonevalue</th></tr>\n",
       "\t<tr><th scope=col>&lt;dbl&gt;</th><th scope=col>&lt;chr&gt;</th><th scope=col>&lt;chr&gt;</th><th scope=col>&lt;chr&gt;</th><th scope=col>&lt;chr&gt;</th><th scope=col>&lt;chr&gt;</th><th scope=col>&lt;chr&gt;</th><th scope=col>&lt;chr&gt;</th><th scope=col>&lt;dbl&gt;</th><th scope=col>&lt;chr&gt;</th></tr>\n",
       "</thead>\n",
       "<tbody>\n",
       "\t<tr><td>65008</td><td>M.</td><td>John</td><td>Sterba</td><td>NA</td><td>Mr.</td><td>Jr.</td><td>NA</td><td>NA</td><td>212-832-7300</td></tr>\n",
       "</tbody>\n",
       "</table>\n"
      ],
      "text/latex": [
       "A data.table: 1 × 10\n",
       "\\begin{tabular}{llllllllll}\n",
       " personid & firstname & middlename & lastname & emailaddress & prefix & suffix & salutation & yearborn & phonevalue\\\\\n",
       " <dbl> & <chr> & <chr> & <chr> & <chr> & <chr> & <chr> & <chr> & <dbl> & <chr>\\\\\n",
       "\\hline\n",
       "\t 65008 & M. & John & Sterba & NA & Mr. & Jr. & NA & NA & 212-832-7300\\\\\n",
       "\\end{tabular}\n"
      ],
      "text/markdown": [
       "\n",
       "A data.table: 1 × 10\n",
       "\n",
       "| personid &lt;dbl&gt; | firstname &lt;chr&gt; | middlename &lt;chr&gt; | lastname &lt;chr&gt; | emailaddress &lt;chr&gt; | prefix &lt;chr&gt; | suffix &lt;chr&gt; | salutation &lt;chr&gt; | yearborn &lt;dbl&gt; | phonevalue &lt;chr&gt; |\n",
       "|---|---|---|---|---|---|---|---|---|---|\n",
       "| 65008 | M. | John | Sterba | NA | Mr. | Jr. | NA | NA | 212-832-7300 |\n",
       "\n"
      ],
      "text/plain": [
       "  personid firstname middlename lastname emailaddress prefix suffix salutation\n",
       "1 65008    M.        John       Sterba   NA           Mr.    Jr.    NA        \n",
       "  yearborn phonevalue  \n",
       "1 NA       212-832-7300"
      ]
     },
     "metadata": {},
     "output_type": "display_data"
    }
   ],
   "source": [
    "ciq_person[1]"
   ]
  },
  {
   "cell_type": "code",
   "execution_count": 31,
   "metadata": {},
   "outputs": [
    {
     "data": {
      "text/html": [
       "<table class=\"dataframe\">\n",
       "<caption>A data.table: 1 × 2</caption>\n",
       "<thead>\n",
       "\t<tr><th scope=col>personid</th><th scope=col>biography</th></tr>\n",
       "\t<tr><th scope=col>&lt;dbl&gt;</th><th scope=col>&lt;chr&gt;</th></tr>\n",
       "</thead>\n",
       "<tbody>\n",
       "\t<tr><td>65008</td><td>Mr. M. John Sterba, Jr., serves as a Director of Alimansky Capital Group Inc. and Bhirud Associates, Inc. Mr. Sterba served as Director of Bhirud Funds Inc. - Apex Mid Cap Growth Fund.</td></tr>\n",
       "</tbody>\n",
       "</table>\n"
      ],
      "text/latex": [
       "A data.table: 1 × 2\n",
       "\\begin{tabular}{ll}\n",
       " personid & biography\\\\\n",
       " <dbl> & <chr>\\\\\n",
       "\\hline\n",
       "\t 65008 & Mr. M. John Sterba, Jr., serves as a Director of Alimansky Capital Group Inc. and Bhirud Associates, Inc. Mr. Sterba served as Director of Bhirud Funds Inc. - Apex Mid Cap Growth Fund.\\\\\n",
       "\\end{tabular}\n"
      ],
      "text/markdown": [
       "\n",
       "A data.table: 1 × 2\n",
       "\n",
       "| personid &lt;dbl&gt; | biography &lt;chr&gt; |\n",
       "|---|---|\n",
       "| 65008 | Mr. M. John Sterba, Jr., serves as a Director of Alimansky Capital Group Inc. and Bhirud Associates, Inc. Mr. Sterba served as Director of Bhirud Funds Inc. - Apex Mid Cap Growth Fund. |\n",
       "\n"
      ],
      "text/plain": [
       "  personid\n",
       "1 65008   \n",
       "  biography                                                                                                                                                                               \n",
       "1 Mr. M. John Sterba, Jr., serves as a Director of Alimansky Capital Group Inc. and Bhirud Associates, Inc. Mr. Sterba served as Director of Bhirud Funds Inc. - Apex Mid Cap Growth Fund."
      ]
     },
     "metadata": {},
     "output_type": "display_data"
    },
    {
     "name": "stdout",
     "output_type": "stream",
     "text": [
      "\"ciq_person_biography\" saved as \"ciq_person_biography.feather\" (9.3 KB) (0 secs)\n"
     ]
    }
   ],
   "source": [
    "# ciqpersonbiography: biography\n",
    "library = 'ciq'\n",
    "dataset = 'ciqpersonbiography'\n",
    "res <- dbSendQuery(wrds, sprintf(\"select *\n",
    "                   from %s.%s limit 10\", library, dataset))\n",
    "ciq_person_biography <- setDT(dbFetch(res, n=-1)); dbClearResult(res)\n",
    "\n",
    "ciq_person_biography[1]\n",
    "sv(ciq_person_biography, path=WRDS_DOWNLOAD_DIR)"
   ]
  },
  {
   "cell_type": "markdown",
   "metadata": {
    "toc-hr-collapsed": true,
    "toc-nb-collapsed": true
   },
   "source": [
    "## IBES-earning forcast"
   ]
  },
  {
   "cell_type": "markdown",
   "metadata": {},
   "source": [
    "### Detail"
   ]
  },
  {
   "cell_type": "code",
   "execution_count": null,
   "metadata": {},
   "outputs": [],
   "source": [
    "# Last downlaod: 2021-1-15 (N obs: 18305258)\n",
    "# from: 2006\n",
    "\n",
    "# ADJUSTED\n",
    "\n",
    "library = 'ibes'\n",
    "dataset = 'det_epsus' # eps\n",
    "# dataset = 'det_xepsus' # non-eps\n",
    "\n",
    "query = sprintf(\"select * from %s.%s where anndats>='2006-01-01'::date\", library, dataset)\n",
    "res <- dbSendQuery(wrds, query)\n",
    "ibes_det_epsus <- setDT(dbFetch(res, n=-1)); dbClearResult(res)\n",
    "\n",
    "sprintf('%s: %s\\n', dataset, nrow(ibes_det_epsus)) %>% cat()\n",
    "sv(ibes_det_epsus, path=WRDS_DOWNLOAD_DIR)\n",
    "\n",
    "ibes_det_epsus[1]"
   ]
  },
  {
   "cell_type": "code",
   "execution_count": 16,
   "metadata": {},
   "outputs": [
    {
     "data": {
      "text/html": [
       "'detu_epsus: 5337607'"
      ],
      "text/latex": [
       "'detu\\_epsus: 5337607'"
      ],
      "text/markdown": [
       "'detu_epsus: 5337607'"
      ],
      "text/plain": [
       "[1] \"detu_epsus: 5337607\""
      ]
     },
     "metadata": {},
     "output_type": "display_data"
    },
    {
     "name": "stdout",
     "output_type": "stream",
     "text": [
      "\"ibes_detu_epsus\" saved as \"ibes_detu_epsus.feather\" (2.55 secs)\n"
     ]
    }
   ],
   "source": [
    "# Last downlaod: 2021-1-15 (N obs: 5337607)\n",
    "\n",
    "# UNADJUSTED\n",
    "# from 2000\n",
    "\n",
    "library = 'ibes'\n",
    "dataset = 'detu_epsus' # eps\n",
    "# dataset = 'det_xepsus' # non-eps\n",
    "\n",
    "query = sprintf(\"select ticker, estimator, analys, pdf, fpi, value, fpedats, revdats, revtims, anndats, anntims from %s.%s where fpedats>='2000-01-01'::date and (fpi='6' or fpi='7')\", library, dataset, year)\n",
    "\n",
    "res <- dbSendQuery(wrds, query)\n",
    "ibes_detu_epsus<- setDT(dbFetch(res, n=-1)); dbClearResult(res)\n",
    "\n",
    "sprintf('%s: %s', dataset, nrow(ibes_detu_epsus))\n",
    "sv(ibes_detu_epsus, path=WRDS_DOWNLOAD_DIR)"
   ]
  },
  {
   "cell_type": "markdown",
   "metadata": {},
   "source": [
    "### actuals"
   ]
  },
  {
   "cell_type": "code",
   "execution_count": 17,
   "metadata": {},
   "outputs": [
    {
     "data": {
      "text/html": [
       "'actu_epsus: 504166'"
      ],
      "text/latex": [
       "'actu\\_epsus: 504166'"
      ],
      "text/markdown": [
       "'actu_epsus: 504166'"
      ],
      "text/plain": [
       "[1] \"actu_epsus: 504166\""
      ]
     },
     "metadata": {},
     "output_type": "display_data"
    },
    {
     "name": "stdout",
     "output_type": "stream",
     "text": [
      "\"ibes_actu_epsus\" saved as \"ibes_actu_epsus.feather\" (0.14 secs)\n"
     ]
    },
    {
     "data": {
      "text/html": [
       "<table>\n",
       "<caption>A data.table: 1 × 5</caption>\n",
       "<thead>\n",
       "\t<tr><th scope=col>ticker</th><th scope=col>repdats</th><th scope=col>act</th><th scope=col>fpedats</th><th scope=col>pdicity</th></tr>\n",
       "\t<tr><th scope=col>&lt;chr&gt;</th><th scope=col>&lt;date&gt;</th><th scope=col>&lt;dbl&gt;</th><th scope=col>&lt;date&gt;</th><th scope=col>&lt;chr&gt;</th></tr>\n",
       "</thead>\n",
       "<tbody>\n",
       "\t<tr><td>0000</td><td>2014-02-14</td><td>NA</td><td>2012-12-31</td><td>QTR</td></tr>\n",
       "</tbody>\n",
       "</table>\n"
      ],
      "text/latex": [
       "A data.table: 1 × 5\n",
       "\\begin{tabular}{lllll}\n",
       " ticker & repdats & act & fpedats & pdicity\\\\\n",
       " <chr> & <date> & <dbl> & <date> & <chr>\\\\\n",
       "\\hline\n",
       "\t 0000 & 2014-02-14 & NA & 2012-12-31 & QTR\\\\\n",
       "\\end{tabular}\n"
      ],
      "text/markdown": [
       "\n",
       "A data.table: 1 × 5\n",
       "\n",
       "| ticker &lt;chr&gt; | repdats &lt;date&gt; | act &lt;dbl&gt; | fpedats &lt;date&gt; | pdicity &lt;chr&gt; |\n",
       "|---|---|---|---|---|\n",
       "| 0000 | 2014-02-14 | NA | 2012-12-31 | QTR |\n",
       "\n"
      ],
      "text/plain": [
       "  ticker repdats    act fpedats    pdicity\n",
       "1 0000   2014-02-14 NA  2012-12-31 QTR    "
      ]
     },
     "metadata": {},
     "output_type": "display_data"
    }
   ],
   "source": [
    "# Last downlaod: 2021-1-15 (N obs: 504166)\n",
    "\n",
    "# from 2000-01-01\n",
    "\n",
    "library = 'ibes'\n",
    "dataset = 'actu_epsus' \n",
    "\n",
    "query = sprintf(\"select ticker, anndats as repdats, value as act, pends as fpedats, pdicity from %s.%s where pends>='2000-01-01'::date and pdicity='QTR'\", library, dataset, year)\n",
    "\n",
    "res <- dbSendQuery(wrds, query)\n",
    "ibes_actu_epsus<- setDT(dbFetch(res, n=-1)); dbClearResult(res)\n",
    "\n",
    "sprintf('%s: %s', dataset, nrow(ibes_actu_epsus))\n",
    "sv(ibes_actu_epsus, path=WRDS_DOWNLOAD_DIR)\n",
    "ibes_actu_epsus[1]"
   ]
  },
  {
   "cell_type": "markdown",
   "metadata": {},
   "source": [
    "### Summary"
   ]
  },
  {
   "cell_type": "code",
   "execution_count": 18,
   "metadata": {},
   "outputs": [
    {
     "data": {
      "text/html": [
       "<table>\n",
       "<caption>A data.table: 1 × 26</caption>\n",
       "<thead>\n",
       "\t<tr><th scope=col>ticker</th><th scope=col>cusip</th><th scope=col>oftic</th><th scope=col>cname</th><th scope=col>statpers</th><th scope=col>measure</th><th scope=col>fiscalp</th><th scope=col>fpi</th><th scope=col>estflag</th><th scope=col>curcode</th><th scope=col>numest</th><th scope=col>numup</th><th scope=col>numdown</th><th scope=col>medest</th><th scope=col>meanest</th><th scope=col>stdev</th><th scope=col>highest</th><th scope=col>lowest</th><th scope=col>usfirm</th><th scope=col>fpedats</th><th scope=col>actual</th><th scope=col>actdats_act</th><th scope=col>acttims_act</th><th scope=col>anndats_act</th><th scope=col>anntims_act</th><th scope=col>curr_act</th></tr>\n",
       "\t<tr><th scope=col>&lt;chr&gt;</th><th scope=col>&lt;chr&gt;</th><th scope=col>&lt;chr&gt;</th><th scope=col>&lt;chr&gt;</th><th scope=col>&lt;date&gt;</th><th scope=col>&lt;chr&gt;</th><th scope=col>&lt;chr&gt;</th><th scope=col>&lt;chr&gt;</th><th scope=col>&lt;chr&gt;</th><th scope=col>&lt;chr&gt;</th><th scope=col>&lt;dbl&gt;</th><th scope=col>&lt;dbl&gt;</th><th scope=col>&lt;dbl&gt;</th><th scope=col>&lt;dbl&gt;</th><th scope=col>&lt;dbl&gt;</th><th scope=col>&lt;dbl&gt;</th><th scope=col>&lt;dbl&gt;</th><th scope=col>&lt;dbl&gt;</th><th scope=col>&lt;dbl&gt;</th><th scope=col>&lt;date&gt;</th><th scope=col>&lt;dbl&gt;</th><th scope=col>&lt;date&gt;</th><th scope=col>&lt;dbl&gt;</th><th scope=col>&lt;date&gt;</th><th scope=col>&lt;dbl&gt;</th><th scope=col>&lt;chr&gt;</th></tr>\n",
       "</thead>\n",
       "<tbody>\n",
       "\t<tr><td>0000</td><td>87482X10</td><td>TLMR</td><td>TALMER BANCORP</td><td>2014-04-17</td><td>EPS</td><td>QTR</td><td>6</td><td>P</td><td>USD</td><td>4</td><td>0</td><td>4</td><td>0.07</td><td>0.08</td><td>0.01</td><td>0.1</td><td>0.07</td><td>1</td><td>2014-03-31</td><td>0.12</td><td>2014-05-12</td><td>40087</td><td>2014-05-06</td><td>38700</td><td>USD</td></tr>\n",
       "</tbody>\n",
       "</table>\n"
      ],
      "text/latex": [
       "A data.table: 1 × 26\n",
       "\\begin{tabular}{llllllllllllllllllllllllll}\n",
       " ticker & cusip & oftic & cname & statpers & measure & fiscalp & fpi & estflag & curcode & numest & numup & numdown & medest & meanest & stdev & highest & lowest & usfirm & fpedats & actual & actdats\\_act & acttims\\_act & anndats\\_act & anntims\\_act & curr\\_act\\\\\n",
       " <chr> & <chr> & <chr> & <chr> & <date> & <chr> & <chr> & <chr> & <chr> & <chr> & <dbl> & <dbl> & <dbl> & <dbl> & <dbl> & <dbl> & <dbl> & <dbl> & <dbl> & <date> & <dbl> & <date> & <dbl> & <date> & <dbl> & <chr>\\\\\n",
       "\\hline\n",
       "\t 0000 & 87482X10 & TLMR & TALMER BANCORP & 2014-04-17 & EPS & QTR & 6 & P & USD & 4 & 0 & 4 & 0.07 & 0.08 & 0.01 & 0.1 & 0.07 & 1 & 2014-03-31 & 0.12 & 2014-05-12 & 40087 & 2014-05-06 & 38700 & USD\\\\\n",
       "\\end{tabular}\n"
      ],
      "text/markdown": [
       "\n",
       "A data.table: 1 × 26\n",
       "\n",
       "| ticker &lt;chr&gt; | cusip &lt;chr&gt; | oftic &lt;chr&gt; | cname &lt;chr&gt; | statpers &lt;date&gt; | measure &lt;chr&gt; | fiscalp &lt;chr&gt; | fpi &lt;chr&gt; | estflag &lt;chr&gt; | curcode &lt;chr&gt; | numest &lt;dbl&gt; | numup &lt;dbl&gt; | numdown &lt;dbl&gt; | medest &lt;dbl&gt; | meanest &lt;dbl&gt; | stdev &lt;dbl&gt; | highest &lt;dbl&gt; | lowest &lt;dbl&gt; | usfirm &lt;dbl&gt; | fpedats &lt;date&gt; | actual &lt;dbl&gt; | actdats_act &lt;date&gt; | acttims_act &lt;dbl&gt; | anndats_act &lt;date&gt; | anntims_act &lt;dbl&gt; | curr_act &lt;chr&gt; |\n",
       "|---|---|---|---|---|---|---|---|---|---|---|---|---|---|---|---|---|---|---|---|---|---|---|---|---|---|\n",
       "| 0000 | 87482X10 | TLMR | TALMER BANCORP | 2014-04-17 | EPS | QTR | 6 | P | USD | 4 | 0 | 4 | 0.07 | 0.08 | 0.01 | 0.1 | 0.07 | 1 | 2014-03-31 | 0.12 | 2014-05-12 | 40087 | 2014-05-06 | 38700 | USD |\n",
       "\n"
      ],
      "text/plain": [
       "  ticker cusip    oftic cname          statpers   measure fiscalp fpi estflag\n",
       "1 0000   87482X10 TLMR  TALMER BANCORP 2014-04-17 EPS     QTR     6   P      \n",
       "  curcode numest numup numdown medest meanest stdev highest lowest usfirm\n",
       "1 USD     4      0     4       0.07   0.08    0.01  0.1     0.07   1     \n",
       "  fpedats    actual actdats_act acttims_act anndats_act anntims_act curr_act\n",
       "1 2014-03-31 0.12   2014-05-12  40087       2014-05-06  38700       USD     "
      ]
     },
     "metadata": {},
     "output_type": "display_data"
    },
    {
     "name": "stdout",
     "output_type": "stream",
     "text": [
      "\"ibes_statsum_epsus\" saved as \"ibes_statsum_epsus.feather\" (16.91 secs)\n"
     ]
    }
   ],
   "source": [
    "# Last downlaod: 2021-1-15 (N obs: 12417306)\n",
    "\n",
    "# from beginning\n",
    "\n",
    "library = 'ibes'\n",
    "dataset = 'statsum_epsus' # summary eps\n",
    "query = sprintf(\"select * from %s.%s\", library, dataset)\n",
    "\n",
    "res <- dbSendQuery(wrds, query)\n",
    "ibes_statsum_epsus <- setDT(dbFetch(res, n=-1)); dbClearResult(res)\n",
    "\n",
    "sprintf('%s: %s\\n', dataset, nrow(ibes_statsum_epsus)) %>% cat()\n",
    "\n",
    "ibes_statsum_epsus[1]\n",
    "sv(ibes_statsum_epsus, path=WRDS_DOWNLOAD_DIR)"
   ]
  },
  {
   "cell_type": "code",
   "execution_count": 20,
   "metadata": {},
   "outputs": [
    {
     "data": {
      "text/html": [
       "'statsum_xepsus: 61639036'"
      ],
      "text/latex": [
       "'statsum\\_xepsus: 61639036'"
      ],
      "text/markdown": [
       "'statsum_xepsus: 61639036'"
      ],
      "text/plain": [
       "[1] \"statsum_xepsus: 61639036\""
      ]
     },
     "metadata": {},
     "output_type": "display_data"
    },
    {
     "data": {
      "text/html": [
       "<table>\n",
       "<caption>A data.table: 1 × 26</caption>\n",
       "<thead>\n",
       "\t<tr><th scope=col>ticker</th><th scope=col>cusip</th><th scope=col>oftic</th><th scope=col>cname</th><th scope=col>statpers</th><th scope=col>measure</th><th scope=col>fiscalp</th><th scope=col>fpi</th><th scope=col>estflag</th><th scope=col>curcode</th><th scope=col>numest</th><th scope=col>numup</th><th scope=col>numdown</th><th scope=col>medest</th><th scope=col>meanest</th><th scope=col>stdev</th><th scope=col>highest</th><th scope=col>lowest</th><th scope=col>usfirm</th><th scope=col>fpedats</th><th scope=col>actual</th><th scope=col>actdats_act</th><th scope=col>acttims_act</th><th scope=col>anndats_act</th><th scope=col>anntims_act</th><th scope=col>curr_act</th></tr>\n",
       "\t<tr><th scope=col>&lt;chr&gt;</th><th scope=col>&lt;chr&gt;</th><th scope=col>&lt;chr&gt;</th><th scope=col>&lt;chr&gt;</th><th scope=col>&lt;date&gt;</th><th scope=col>&lt;chr&gt;</th><th scope=col>&lt;chr&gt;</th><th scope=col>&lt;chr&gt;</th><th scope=col>&lt;chr&gt;</th><th scope=col>&lt;chr&gt;</th><th scope=col>&lt;dbl&gt;</th><th scope=col>&lt;dbl&gt;</th><th scope=col>&lt;dbl&gt;</th><th scope=col>&lt;dbl&gt;</th><th scope=col>&lt;dbl&gt;</th><th scope=col>&lt;dbl&gt;</th><th scope=col>&lt;dbl&gt;</th><th scope=col>&lt;dbl&gt;</th><th scope=col>&lt;dbl&gt;</th><th scope=col>&lt;date&gt;</th><th scope=col>&lt;dbl&gt;</th><th scope=col>&lt;date&gt;</th><th scope=col>&lt;dbl&gt;</th><th scope=col>&lt;date&gt;</th><th scope=col>&lt;dbl&gt;</th><th scope=col>&lt;chr&gt;</th></tr>\n",
       "</thead>\n",
       "<tbody>\n",
       "\t<tr><td>0000</td><td>87482X10</td><td>TLMR</td><td>TALMER BANCORP</td><td>2014-04-17</td><td>BPS</td><td>QTR</td><td>6</td><td>P</td><td>USD</td><td>4</td><td>0</td><td>0</td><td>9.84</td><td>9.81</td><td>0.23</td><td>10.03</td><td>9.53</td><td>1</td><td>2014-03-31</td><td>9.97</td><td>2014-05-12</td><td>40087</td><td>2014-05-06</td><td>38700</td><td>USD</td></tr>\n",
       "</tbody>\n",
       "</table>\n"
      ],
      "text/latex": [
       "A data.table: 1 × 26\n",
       "\\begin{tabular}{llllllllllllllllllllllllll}\n",
       " ticker & cusip & oftic & cname & statpers & measure & fiscalp & fpi & estflag & curcode & numest & numup & numdown & medest & meanest & stdev & highest & lowest & usfirm & fpedats & actual & actdats\\_act & acttims\\_act & anndats\\_act & anntims\\_act & curr\\_act\\\\\n",
       " <chr> & <chr> & <chr> & <chr> & <date> & <chr> & <chr> & <chr> & <chr> & <chr> & <dbl> & <dbl> & <dbl> & <dbl> & <dbl> & <dbl> & <dbl> & <dbl> & <dbl> & <date> & <dbl> & <date> & <dbl> & <date> & <dbl> & <chr>\\\\\n",
       "\\hline\n",
       "\t 0000 & 87482X10 & TLMR & TALMER BANCORP & 2014-04-17 & BPS & QTR & 6 & P & USD & 4 & 0 & 0 & 9.84 & 9.81 & 0.23 & 10.03 & 9.53 & 1 & 2014-03-31 & 9.97 & 2014-05-12 & 40087 & 2014-05-06 & 38700 & USD\\\\\n",
       "\\end{tabular}\n"
      ],
      "text/markdown": [
       "\n",
       "A data.table: 1 × 26\n",
       "\n",
       "| ticker &lt;chr&gt; | cusip &lt;chr&gt; | oftic &lt;chr&gt; | cname &lt;chr&gt; | statpers &lt;date&gt; | measure &lt;chr&gt; | fiscalp &lt;chr&gt; | fpi &lt;chr&gt; | estflag &lt;chr&gt; | curcode &lt;chr&gt; | numest &lt;dbl&gt; | numup &lt;dbl&gt; | numdown &lt;dbl&gt; | medest &lt;dbl&gt; | meanest &lt;dbl&gt; | stdev &lt;dbl&gt; | highest &lt;dbl&gt; | lowest &lt;dbl&gt; | usfirm &lt;dbl&gt; | fpedats &lt;date&gt; | actual &lt;dbl&gt; | actdats_act &lt;date&gt; | acttims_act &lt;dbl&gt; | anndats_act &lt;date&gt; | anntims_act &lt;dbl&gt; | curr_act &lt;chr&gt; |\n",
       "|---|---|---|---|---|---|---|---|---|---|---|---|---|---|---|---|---|---|---|---|---|---|---|---|---|---|\n",
       "| 0000 | 87482X10 | TLMR | TALMER BANCORP | 2014-04-17 | BPS | QTR | 6 | P | USD | 4 | 0 | 0 | 9.84 | 9.81 | 0.23 | 10.03 | 9.53 | 1 | 2014-03-31 | 9.97 | 2014-05-12 | 40087 | 2014-05-06 | 38700 | USD |\n",
       "\n"
      ],
      "text/plain": [
       "  ticker cusip    oftic cname          statpers   measure fiscalp fpi estflag\n",
       "1 0000   87482X10 TLMR  TALMER BANCORP 2014-04-17 BPS     QTR     6   P      \n",
       "  curcode numest numup numdown medest meanest stdev highest lowest usfirm\n",
       "1 USD     4      0     0       9.84   9.81    0.23  10.03   9.53   1     \n",
       "  fpedats    actual actdats_act acttims_act anndats_act anntims_act curr_act\n",
       "1 2014-03-31 9.97   2014-05-12  40087       2014-05-06  38700       USD     "
      ]
     },
     "metadata": {},
     "output_type": "display_data"
    },
    {
     "name": "stdout",
     "output_type": "stream",
     "text": [
      "\"ibes_statsum_xepsus\" saved as \"ibes_statsum_xepsus.feather\" (1.33 mins)\n"
     ]
    }
   ],
   "source": [
    "# Last downlaod: 2021-1-15 (N obs: 61639036)\n",
    "\n",
    "# from beginning\n",
    "\n",
    "library = 'ibes'\n",
    "dataset = 'statsum_xepsus' # summary xeps\n",
    "\n",
    "query = sprintf(\"select * from %s.%s\", library, dataset)\n",
    "res <- dbSendQuery(wrds, query)\n",
    "ibes_statsum_xepsus <- setDT(dbFetch(res, n=-1)); dbClearResult(res)\n",
    "sprintf('%s: %s', dataset, nrow(ibes_statsum_xepsus))\n",
    "\n",
    "ibes_statsum_xepsus[1]\n",
    "sv(ibes_statsum_xepsus, path=WRDS_DOWNLOAD_DIR)"
   ]
  },
  {
   "cell_type": "markdown",
   "metadata": {},
   "source": [
    "### Surprise"
   ]
  },
  {
   "cell_type": "code",
   "execution_count": 11,
   "metadata": {},
   "outputs": [
    {
     "name": "stdout",
     "output_type": "stream",
     "text": [
      "surpsum: 9813099\"ibes_surpsum\" saved as \"ibes_surpsum.feather\" (367.2 MB) (5.66 secs)\n"
     ]
    },
    {
     "data": {
      "text/html": [
       "<table>\n",
       "<caption>A data.table: 1 × 12</caption>\n",
       "<thead>\n",
       "\t<tr><th scope=col>ticker</th><th scope=col>oftic</th><th scope=col>measure</th><th scope=col>fiscalp</th><th scope=col>pyear</th><th scope=col>pmon</th><th scope=col>usfirm</th><th scope=col>anndats</th><th scope=col>actual</th><th scope=col>surpmean</th><th scope=col>surpstdev</th><th scope=col>suescore</th></tr>\n",
       "\t<tr><th scope=col>&lt;chr&gt;</th><th scope=col>&lt;chr&gt;</th><th scope=col>&lt;chr&gt;</th><th scope=col>&lt;chr&gt;</th><th scope=col>&lt;dbl&gt;</th><th scope=col>&lt;dbl&gt;</th><th scope=col>&lt;dbl&gt;</th><th scope=col>&lt;date&gt;</th><th scope=col>&lt;dbl&gt;</th><th scope=col>&lt;dbl&gt;</th><th scope=col>&lt;dbl&gt;</th><th scope=col>&lt;dbl&gt;</th></tr>\n",
       "</thead>\n",
       "<tbody>\n",
       "\t<tr><td>0000</td><td>TLMR</td><td>BPS</td><td>QTR</td><td>2014</td><td>3</td><td>1</td><td>2014-05-06</td><td>9.97</td><td>9.81</td><td>0.22906</td><td>0.69852</td></tr>\n",
       "</tbody>\n",
       "</table>\n"
      ],
      "text/latex": [
       "A data.table: 1 × 12\n",
       "\\begin{tabular}{llllllllllll}\n",
       " ticker & oftic & measure & fiscalp & pyear & pmon & usfirm & anndats & actual & surpmean & surpstdev & suescore\\\\\n",
       " <chr> & <chr> & <chr> & <chr> & <dbl> & <dbl> & <dbl> & <date> & <dbl> & <dbl> & <dbl> & <dbl>\\\\\n",
       "\\hline\n",
       "\t 0000 & TLMR & BPS & QTR & 2014 & 3 & 1 & 2014-05-06 & 9.97 & 9.81 & 0.22906 & 0.69852\\\\\n",
       "\\end{tabular}\n"
      ],
      "text/markdown": [
       "\n",
       "A data.table: 1 × 12\n",
       "\n",
       "| ticker &lt;chr&gt; | oftic &lt;chr&gt; | measure &lt;chr&gt; | fiscalp &lt;chr&gt; | pyear &lt;dbl&gt; | pmon &lt;dbl&gt; | usfirm &lt;dbl&gt; | anndats &lt;date&gt; | actual &lt;dbl&gt; | surpmean &lt;dbl&gt; | surpstdev &lt;dbl&gt; | suescore &lt;dbl&gt; |\n",
       "|---|---|---|---|---|---|---|---|---|---|---|---|\n",
       "| 0000 | TLMR | BPS | QTR | 2014 | 3 | 1 | 2014-05-06 | 9.97 | 9.81 | 0.22906 | 0.69852 |\n",
       "\n"
      ],
      "text/plain": [
       "  ticker oftic measure fiscalp pyear pmon usfirm anndats    actual surpmean\n",
       "1 0000   TLMR  BPS     QTR     2014  3    1      2014-05-06 9.97   9.81    \n",
       "  surpstdev suescore\n",
       "1 0.22906   0.69852 "
      ]
     },
     "metadata": {},
     "output_type": "display_data"
    }
   ],
   "source": [
    "# Last downlaod: 2021-1-15 (N obs: 9813099)\n",
    "\n",
    "# from beginning\n",
    "\n",
    "library = 'ibes'\n",
    "dataset = 'surpsum' # summary surprise \n",
    "\n",
    "query = sprintf(\"select * from %s.%s\", library, dataset)\n",
    "res <- dbSendQuery(wrds, query)\n",
    "ibes_surpsum <- setDT(dbFetch(res, n=-1)); dbClearResult(res)\n",
    "\n",
    "sprintf('%s: %s\\n', dataset, nrow(ibes_surpsum)) %>% cat()\n",
    "sv(ibes_surpsum, path=WRDS_DOWNLOAD_DIR)\n",
    "\n",
    "ibes_surpsum[1]"
   ]
  },
  {
   "cell_type": "markdown",
   "metadata": {
    "toc-hr-collapsed": true,
    "toc-nb-collapsed": true
   },
   "source": [
    "## IBES-price target"
   ]
  },
  {
   "cell_type": "code",
   "execution_count": null,
   "metadata": {},
   "outputs": [],
   "source": [
    "# Last downlaod: 2021-1-15 (N obs: 5506116)\n",
    "\n",
    "# from beginning\n",
    "\n",
    "library = \"ibes\"\n",
    "dataset = 'ptgdet'\n",
    "res <- dbSendQuery(wrds, sprintf(\"select * from %s.%s\", library, dataset))\n",
    "ibes_ptgdet <- dbFetch(res, n=-1) %>% setDT()\n",
    "dbClearResult(res)\n",
    "\n",
    "sprintf('%s: %s\\n', dataset, nrow(ibes_ptgdet)) %>% cat()\n",
    "sv(ibes_ptgdet, path='/data/WRDS-download')\n",
    "\n",
    "ibes_ptgdet[1]"
   ]
  },
  {
   "cell_type": "markdown",
   "metadata": {
    "toc-hr-collapsed": true,
    "toc-nb-collapsed": true
   },
   "source": [
    "## recommend"
   ]
  },
  {
   "cell_type": "code",
   "execution_count": null,
   "metadata": {},
   "outputs": [],
   "source": [
    "# Last downlaod: 2021-1-15 (N obs: 2861784)\n",
    "\n",
    "# from beginning\n",
    "\n",
    "library = 'ibes'\n",
    "dataset = 'recddet'\n",
    "res <- dbSendQuery(wrds, sprintf(\"select * from %s.%s\", library, dataset))\n",
    "ibes_recddet <- dbFetch(res, n=-1) %>% setDT()\n",
    "dbClearResult(res)\n",
    "\n",
    "sprintf('%s: %s\\n', dataset, nrow(ibes_recddet)) %>% cat()\n",
    "sv(ibes_recddet, path=WRDS_DOWNLOAD_DIR)\n",
    "\n",
    "ibes_recddet[1]"
   ]
  },
  {
   "cell_type": "markdown",
   "metadata": {
    "toc-hr-collapsed": true,
    "toc-nb-collapsed": true
   },
   "source": [
    "## financial ratio"
   ]
  },
  {
   "cell_type": "markdown",
   "metadata": {},
   "source": [
    "> **Warning!**\n",
    "\n",
    "> Even though I updated on 2021-1-15, the latest observation I can get is still way earlier: 2019-12-31. Perhaps this database is updated yearly, I've submit a query to the customer service.\n",
    "\n",
    "> Update: the database is scheduled to be updated on July 2021\n",
    "\n",
    "There's no Python or R API to download financial-ratio. So I download the csv through web query and import as R datatable.\n",
    "\n",
    "Download path: **CIQ -> North America (daily) -> Financial Ratios Firm Level**\n",
    "\n",
    "- last update: 2021-1-15 (N obs: 1049363)\n",
    "- From: 1999-12\n",
    "- Date Format: YYMMDDs10. (e.g. 1984/07/25)\n",
    "- `bm`: book-to-market\n",
    "- `debt_assets`: Total Debt/Total Assets\n",
    "- `debt_at` *(deprecated)*: Total Debt/Total Assets\n",
    "- `roa`: return on assets"
   ]
  },
  {
   "cell_type": "code",
   "execution_count": 2,
   "metadata": {},
   "outputs": [],
   "source": [
    "WRDS_DOWNLOAD_DIR = '/home/yu/OneDrive/CC/data/WRDS-download'"
   ]
  },
  {
   "cell_type": "code",
   "execution_count": 30,
   "metadata": {},
   "outputs": [
    {
     "name": "stdout",
     "output_type": "stream",
     "text": [
      "wrds_finratio: 1049363\n",
      "\"wrds_finratio\" saved as \"wrds_finratio.feather\" (11.6 MB) (0.19 secs)\n"
     ]
    },
    {
     "data": {
      "text/html": [
       "<table>\n",
       "<caption>A data.table: 1 × 7</caption>\n",
       "<thead>\n",
       "\t<tr><th scope=col>gvkey</th><th scope=col>adate</th><th scope=col>qdate</th><th scope=col>public_date</th><th scope=col>bm</th><th scope=col>roa</th><th scope=col>debt_assets</th></tr>\n",
       "\t<tr><th scope=col>&lt;chr&gt;</th><th scope=col>&lt;date&gt;</th><th scope=col>&lt;date&gt;</th><th scope=col>&lt;date&gt;</th><th scope=col>&lt;dbl&gt;</th><th scope=col>&lt;dbl&gt;</th><th scope=col>&lt;dbl&gt;</th></tr>\n",
       "</thead>\n",
       "<tbody>\n",
       "\t<tr><td>001004</td><td>1999-05-31</td><td>1999-08-31</td><td>1999-12-31</td><td>0.649</td><td>0.135</td><td>0.552</td></tr>\n",
       "</tbody>\n",
       "</table>\n"
      ],
      "text/latex": [
       "A data.table: 1 × 7\n",
       "\\begin{tabular}{lllllll}\n",
       " gvkey & adate & qdate & public\\_date & bm & roa & debt\\_assets\\\\\n",
       " <chr> & <date> & <date> & <date> & <dbl> & <dbl> & <dbl>\\\\\n",
       "\\hline\n",
       "\t 001004 & 1999-05-31 & 1999-08-31 & 1999-12-31 & 0.649 & 0.135 & 0.552\\\\\n",
       "\\end{tabular}\n"
      ],
      "text/markdown": [
       "\n",
       "A data.table: 1 × 7\n",
       "\n",
       "| gvkey &lt;chr&gt; | adate &lt;date&gt; | qdate &lt;date&gt; | public_date &lt;date&gt; | bm &lt;dbl&gt; | roa &lt;dbl&gt; | debt_assets &lt;dbl&gt; |\n",
       "|---|---|---|---|---|---|---|\n",
       "| 001004 | 1999-05-31 | 1999-08-31 | 1999-12-31 | 0.649 | 0.135 | 0.552 |\n",
       "\n"
      ],
      "text/plain": [
       "  gvkey  adate      qdate      public_date bm    roa   debt_assets\n",
       "1 001004 1999-05-31 1999-08-31 1999-12-31  0.649 0.135 0.552      "
      ]
     },
     "metadata": {},
     "output_type": "display_data"
    }
   ],
   "source": [
    "wrds_finratio = fread(str_c(WRDS_DOWNLOAD_DIR, '/financial-ratio-firm.csv'), colClass=c(rep('character', times=4), rep('double', 4)))[, ':='(adate=ymd(adate), qdate=ymd(qdate), public_date=ymd(public_date), debt_at=NULL)\n",
    "    ][order(gvkey, public_date)]\n",
    "\n",
    "sprintf('wrds_finratio: %s\\n', nrow(wrds_finratio)) %>% cat()\n",
    "sv(wrds_finratio, path=WRDS_DOWNLOAD_DIR)\n",
    "\n",
    "wrds_finratio[1]"
   ]
  },
  {
   "cell_type": "markdown",
   "metadata": {},
   "source": [
    "## index price"
   ]
  },
  {
   "cell_type": "code",
   "execution_count": 24,
   "metadata": {},
   "outputs": [
    {
     "name": "stdout",
     "output_type": "stream",
     "text": [
      "idx_daily: 7091295\n",
      "\"idx_price\" saved as \"idx_price.feather\" (226.8 MB) (5.18 secs)\n"
     ]
    },
    {
     "data": {
      "text/html": [
       "<table>\n",
       "<caption>A data.table: 1 × 10</caption>\n",
       "<thead>\n",
       "\t<tr><th scope=col>gvkeyx</th><th scope=col>dvpsxd</th><th scope=col>newnum</th><th scope=col>oldnum</th><th scope=col>prccd</th><th scope=col>prccddiv</th><th scope=col>prccddivn</th><th scope=col>prchd</th><th scope=col>prcld</th><th scope=col>datadate</th></tr>\n",
       "\t<tr><th scope=col>&lt;chr&gt;</th><th scope=col>&lt;dbl&gt;</th><th scope=col>&lt;dbl&gt;</th><th scope=col>&lt;dbl&gt;</th><th scope=col>&lt;dbl&gt;</th><th scope=col>&lt;dbl&gt;</th><th scope=col>&lt;dbl&gt;</th><th scope=col>&lt;dbl&gt;</th><th scope=col>&lt;dbl&gt;</th><th scope=col>&lt;date&gt;</th></tr>\n",
       "</thead>\n",
       "<tbody>\n",
       "\t<tr><td>000001</td><td>NA</td><td>NA</td><td>NA</td><td>1476.6</td><td>NA</td><td>NA</td><td>1502.92</td><td>1465.44</td><td>1999-01-04</td></tr>\n",
       "</tbody>\n",
       "</table>\n"
      ],
      "text/latex": [
       "A data.table: 1 × 10\n",
       "\\begin{tabular}{llllllllll}\n",
       " gvkeyx & dvpsxd & newnum & oldnum & prccd & prccddiv & prccddivn & prchd & prcld & datadate\\\\\n",
       " <chr> & <dbl> & <dbl> & <dbl> & <dbl> & <dbl> & <dbl> & <dbl> & <dbl> & <date>\\\\\n",
       "\\hline\n",
       "\t 000001 & NA & NA & NA & 1476.6 & NA & NA & 1502.92 & 1465.44 & 1999-01-04\\\\\n",
       "\\end{tabular}\n"
      ],
      "text/markdown": [
       "\n",
       "A data.table: 1 × 10\n",
       "\n",
       "| gvkeyx &lt;chr&gt; | dvpsxd &lt;dbl&gt; | newnum &lt;dbl&gt; | oldnum &lt;dbl&gt; | prccd &lt;dbl&gt; | prccddiv &lt;dbl&gt; | prccddivn &lt;dbl&gt; | prchd &lt;dbl&gt; | prcld &lt;dbl&gt; | datadate &lt;date&gt; |\n",
       "|---|---|---|---|---|---|---|---|---|---|\n",
       "| 000001 | NA | NA | NA | 1476.6 | NA | NA | 1502.92 | 1465.44 | 1999-01-04 |\n",
       "\n"
      ],
      "text/plain": [
       "  gvkeyx dvpsxd newnum oldnum prccd  prccddiv prccddivn prchd   prcld  \n",
       "1 000001 NA     NA     NA     1476.6 NA       NA        1502.92 1465.44\n",
       "  datadate  \n",
       "1 1999-01-04"
      ]
     },
     "metadata": {},
     "output_type": "display_data"
    }
   ],
   "source": [
    "# Last downlaod: 2021-1-15 (N obs: 7090166)\n",
    "\n",
    "# from beginning\n",
    "\n",
    "library = 'comp'\n",
    "dataset = 'idx_daily' # factors\n",
    "\n",
    "res <- dbSendQuery(wrds, sprintf(\"select * from %s.%s\", library, dataset))\n",
    "idx_price <- dbFetch(res, n=-1) %>% setDT()\n",
    "dbClearResult(res)\n",
    "\n",
    "sprintf('%s: %s\\n', dataset, nrow(idx_price)) %>% cat()\n",
    "sv(idx_price, path=WRDS_DOWNLOAD_DIR)\n",
    "\n",
    "idx_price[1]"
   ]
  },
  {
   "cell_type": "markdown",
   "metadata": {},
   "source": [
    "## stock price"
   ]
  },
  {
   "cell_type": "code",
   "execution_count": 27,
   "metadata": {},
   "outputs": [
    {
     "name": "stdout",
     "output_type": "stream",
     "text": [
      "secd: 59295051\n",
      "\"comp_secd\" saved as \"comp_secd.feather\" (6.5 GB) (3.87 mins)\n"
     ]
    },
    {
     "data": {
      "text/html": [
       "<table>\n",
       "<caption>A data.table: 1 × 43</caption>\n",
       "<thead>\n",
       "\t<tr><th scope=col>gvkey</th><th scope=col>iid</th><th scope=col>datadate</th><th scope=col>tic</th><th scope=col>cusip</th><th scope=col>conm</th><th scope=col>curcddv</th><th scope=col>capgn</th><th scope=col>cheqv</th><th scope=col>div</th><th scope=col>divd</th><th scope=col>divdpaydateind</th><th scope=col>divrc</th><th scope=col>divsp</th><th scope=col>dvrated</th><th scope=col>paydateind</th><th scope=col>anncdate</th><th scope=col>capgnpaydate</th><th scope=col>cheqvpaydate</th><th scope=col>divdpaydate</th><th scope=col>divrcpaydate</th><th scope=col>divsppaydate</th><th scope=col>paydate</th><th scope=col>recorddate</th><th scope=col>curcdd</th><th scope=col>adrrc</th><th scope=col>ajexdi</th><th scope=col>cshoc</th><th scope=col>cshtrd</th><th scope=col>dvi</th><th scope=col>eps</th><th scope=col>epsmo</th><th scope=col>prccd</th><th scope=col>prchd</th><th scope=col>prcld</th><th scope=col>prcod</th><th scope=col>prcstd</th><th scope=col>trfd</th><th scope=col>exchg</th><th scope=col>secstat</th><th scope=col>tpci</th><th scope=col>cik</th><th scope=col>fic</th></tr>\n",
       "\t<tr><th scope=col>&lt;chr&gt;</th><th scope=col>&lt;chr&gt;</th><th scope=col>&lt;date&gt;</th><th scope=col>&lt;chr&gt;</th><th scope=col>&lt;chr&gt;</th><th scope=col>&lt;chr&gt;</th><th scope=col>&lt;chr&gt;</th><th scope=col>&lt;dbl&gt;</th><th scope=col>&lt;dbl&gt;</th><th scope=col>&lt;dbl&gt;</th><th scope=col>&lt;dbl&gt;</th><th scope=col>&lt;chr&gt;</th><th scope=col>&lt;dbl&gt;</th><th scope=col>&lt;dbl&gt;</th><th scope=col>&lt;dbl&gt;</th><th scope=col>&lt;chr&gt;</th><th scope=col>&lt;date&gt;</th><th scope=col>&lt;date&gt;</th><th scope=col>&lt;date&gt;</th><th scope=col>&lt;date&gt;</th><th scope=col>&lt;date&gt;</th><th scope=col>&lt;date&gt;</th><th scope=col>&lt;date&gt;</th><th scope=col>&lt;date&gt;</th><th scope=col>&lt;chr&gt;</th><th scope=col>&lt;dbl&gt;</th><th scope=col>&lt;dbl&gt;</th><th scope=col>&lt;dbl&gt;</th><th scope=col>&lt;dbl&gt;</th><th scope=col>&lt;dbl&gt;</th><th scope=col>&lt;dbl&gt;</th><th scope=col>&lt;dbl&gt;</th><th scope=col>&lt;dbl&gt;</th><th scope=col>&lt;dbl&gt;</th><th scope=col>&lt;dbl&gt;</th><th scope=col>&lt;dbl&gt;</th><th scope=col>&lt;dbl&gt;</th><th scope=col>&lt;dbl&gt;</th><th scope=col>&lt;dbl&gt;</th><th scope=col>&lt;chr&gt;</th><th scope=col>&lt;chr&gt;</th><th scope=col>&lt;chr&gt;</th><th scope=col>&lt;chr&gt;</th></tr>\n",
       "</thead>\n",
       "<tbody>\n",
       "\t<tr><td>001003</td><td>01</td><td>2008-01-02</td><td>ANTQ</td><td>000354100</td><td>A.A.IMPORTINGCOINC</td><td>NA</td><td>NA</td><td>NA</td><td>NA</td><td>NA</td><td>NA</td><td>NA</td><td>NA</td><td>NA</td><td>NA</td><td>NA</td><td>NA</td><td>NA</td><td>NA</td><td>NA</td><td>NA</td><td>NA</td><td>NA</td><td>USD</td><td>NA</td><td>1</td><td>2683000</td><td>5000</td><td>NA</td><td>NA</td><td>NA</td><td>0.15</td><td>0.15</td><td>0.15</td><td>0.15</td><td>3</td><td>NA</td><td>19</td><td>I</td><td>0</td><td>0000730052</td><td>USA</td></tr>\n",
       "</tbody>\n",
       "</table>\n"
      ],
      "text/latex": [
       "A data.table: 1 × 43\n",
       "\\begin{tabular}{lllllllllllllllllllllllllllllllllllllllllll}\n",
       " gvkey & iid & datadate & tic & cusip & conm & curcddv & capgn & cheqv & div & divd & divdpaydateind & divrc & divsp & dvrated & paydateind & anncdate & capgnpaydate & cheqvpaydate & divdpaydate & divrcpaydate & divsppaydate & paydate & recorddate & curcdd & adrrc & ajexdi & cshoc & cshtrd & dvi & eps & epsmo & prccd & prchd & prcld & prcod & prcstd & trfd & exchg & secstat & tpci & cik & fic\\\\\n",
       " <chr> & <chr> & <date> & <chr> & <chr> & <chr> & <chr> & <dbl> & <dbl> & <dbl> & <dbl> & <chr> & <dbl> & <dbl> & <dbl> & <chr> & <date> & <date> & <date> & <date> & <date> & <date> & <date> & <date> & <chr> & <dbl> & <dbl> & <dbl> & <dbl> & <dbl> & <dbl> & <dbl> & <dbl> & <dbl> & <dbl> & <dbl> & <dbl> & <dbl> & <dbl> & <chr> & <chr> & <chr> & <chr>\\\\\n",
       "\\hline\n",
       "\t 001003 & 01 & 2008-01-02 & ANTQ & 000354100 & A.A.IMPORTINGCOINC & NA & NA & NA & NA & NA & NA & NA & NA & NA & NA & NA & NA & NA & NA & NA & NA & NA & NA & USD & NA & 1 & 2683000 & 5000 & NA & NA & NA & 0.15 & 0.15 & 0.15 & 0.15 & 3 & NA & 19 & I & 0 & 0000730052 & USA\\\\\n",
       "\\end{tabular}\n"
      ],
      "text/markdown": [
       "\n",
       "A data.table: 1 × 43\n",
       "\n",
       "| gvkey &lt;chr&gt; | iid &lt;chr&gt; | datadate &lt;date&gt; | tic &lt;chr&gt; | cusip &lt;chr&gt; | conm &lt;chr&gt; | curcddv &lt;chr&gt; | capgn &lt;dbl&gt; | cheqv &lt;dbl&gt; | div &lt;dbl&gt; | divd &lt;dbl&gt; | divdpaydateind &lt;chr&gt; | divrc &lt;dbl&gt; | divsp &lt;dbl&gt; | dvrated &lt;dbl&gt; | paydateind &lt;chr&gt; | anncdate &lt;date&gt; | capgnpaydate &lt;date&gt; | cheqvpaydate &lt;date&gt; | divdpaydate &lt;date&gt; | divrcpaydate &lt;date&gt; | divsppaydate &lt;date&gt; | paydate &lt;date&gt; | recorddate &lt;date&gt; | curcdd &lt;chr&gt; | adrrc &lt;dbl&gt; | ajexdi &lt;dbl&gt; | cshoc &lt;dbl&gt; | cshtrd &lt;dbl&gt; | dvi &lt;dbl&gt; | eps &lt;dbl&gt; | epsmo &lt;dbl&gt; | prccd &lt;dbl&gt; | prchd &lt;dbl&gt; | prcld &lt;dbl&gt; | prcod &lt;dbl&gt; | prcstd &lt;dbl&gt; | trfd &lt;dbl&gt; | exchg &lt;dbl&gt; | secstat &lt;chr&gt; | tpci &lt;chr&gt; | cik &lt;chr&gt; | fic &lt;chr&gt; |\n",
       "|---|---|---|---|---|---|---|---|---|---|---|---|---|---|---|---|---|---|---|---|---|---|---|---|---|---|---|---|---|---|---|---|---|---|---|---|---|---|---|---|---|---|---|\n",
       "| 001003 | 01 | 2008-01-02 | ANTQ | 000354100 | A.A.IMPORTINGCOINC | NA | NA | NA | NA | NA | NA | NA | NA | NA | NA | NA | NA | NA | NA | NA | NA | NA | NA | USD | NA | 1 | 2683000 | 5000 | NA | NA | NA | 0.15 | 0.15 | 0.15 | 0.15 | 3 | NA | 19 | I | 0 | 0000730052 | USA |\n",
       "\n"
      ],
      "text/plain": [
       "  gvkey  iid datadate   tic  cusip     conm               curcddv capgn cheqv\n",
       "1 001003 01  2008-01-02 ANTQ 000354100 A.A.IMPORTINGCOINC NA      NA    NA   \n",
       "  div divd divdpaydateind divrc divsp dvrated paydateind anncdate capgnpaydate\n",
       "1 NA  NA   NA             NA    NA    NA      NA         <NA>     <NA>        \n",
       "  cheqvpaydate divdpaydate divrcpaydate divsppaydate paydate recorddate curcdd\n",
       "1 <NA>         <NA>        <NA>         <NA>         <NA>    <NA>       USD   \n",
       "  adrrc ajexdi cshoc   cshtrd dvi eps epsmo prccd prchd prcld prcod prcstd trfd\n",
       "1 NA    1      2683000 5000   NA  NA  NA    0.15  0.15  0.15  0.15  3      NA  \n",
       "  exchg secstat tpci cik        fic\n",
       "1 19    I       0    0000730052 USA"
      ]
     },
     "metadata": {},
     "output_type": "display_data"
    }
   ],
   "source": [
    "# Last downlaod: 2021-1-15 (N obs: )\n",
    "\n",
    "# from 2000-01-01\n",
    "\n",
    "library = 'comp'\n",
    "dataset = 'secd' # factors\n",
    "\n",
    "query = sprintf(\"select * from %s.%s where datadate>='2008-01-01'::date\", library, dataset)\n",
    "\n",
    "res <- dbSendQuery(wrds, query)\n",
    "comp_secd <- setDT(dbFetch(res, n=-1))\n",
    "dbClearResult(res)\n",
    "\n",
    "sprintf('%s: %s\\n', dataset, nrow(comp_secd)) %>% cat()\n",
    "sv(comp_secd, path=WRDS_DOWNLOAD_DIR)\n",
    "\n",
    "comp_secd[1]"
   ]
  },
  {
   "cell_type": "markdown",
   "metadata": {},
   "source": [
    "Download `CRSP`\n",
    "It's *deprecated*!"
   ]
  },
  {
   "cell_type": "code",
   "execution_count": null,
   "metadata": {
    "scrolled": true
   },
   "outputs": [],
   "source": [
    "library = 'crspq'\n",
    "dataset = 'dsf' # factors\n",
    "years = 2001:2018\n",
    "\n",
    "for (year in years) {\n",
    "    print(sprintf('Start %s at %s', year, now()))\n",
    "    query = sprintf(\"select * from %s.%s where to_char(date,'yyyy')='%s'\", library, dataset, year)\n",
    "    save_name_short = sprintf('%s_%s', dataset, year)\n",
    "    save_name_full = sprintf('../data/WRDS-download/%s_%s.rds', dataset, year)\n",
    "\n",
    "    res <- dbSendQuery(wrds, query)\n",
    "    data <- setDT(dbFetch(res, n=-1)); dbClearResult(res)\n",
    "    \n",
    "    sprintf('%s_%s: %s', dataset, year, nrow(data))\n",
    "    assign(save_name_short, data)\n",
    "    saveRDS(data, save_name_full)\n",
    "}"
   ]
  },
  {
   "cell_type": "markdown",
   "metadata": {},
   "source": [
    "## stock industry"
   ]
  },
  {
   "cell_type": "code",
   "execution_count": 29,
   "metadata": {},
   "outputs": [
    {
     "name": "stdout",
     "output_type": "stream",
     "text": [
      "co_industry: 7090166\n",
      "\"comp_industry\" saved as \"comp_industry.feather\" (5.2 MB) (0.12 secs)\n"
     ]
    },
    {
     "data": {
      "text/html": [
       "<table>\n",
       "<caption>A data.table: 1 × 8</caption>\n",
       "<thead>\n",
       "\t<tr><th scope=col>gvkey</th><th scope=col>consol</th><th scope=col>popsrc</th><th scope=col>fyr</th><th scope=col>naicsh</th><th scope=col>sich</th><th scope=col>year</th><th scope=col>datadate</th></tr>\n",
       "\t<tr><th scope=col>&lt;chr&gt;</th><th scope=col>&lt;chr&gt;</th><th scope=col>&lt;chr&gt;</th><th scope=col>&lt;dbl&gt;</th><th scope=col>&lt;dbl&gt;</th><th scope=col>&lt;dbl&gt;</th><th scope=col>&lt;dbl&gt;</th><th scope=col>&lt;date&gt;</th></tr>\n",
       "</thead>\n",
       "<tbody>\n",
       "\t<tr><td>001001</td><td>C</td><td>D</td><td>12</td><td>722</td><td>NA</td><td>1985</td><td>1985-12-31</td></tr>\n",
       "</tbody>\n",
       "</table>\n"
      ],
      "text/latex": [
       "A data.table: 1 × 8\n",
       "\\begin{tabular}{llllllll}\n",
       " gvkey & consol & popsrc & fyr & naicsh & sich & year & datadate\\\\\n",
       " <chr> & <chr> & <chr> & <dbl> & <dbl> & <dbl> & <dbl> & <date>\\\\\n",
       "\\hline\n",
       "\t 001001 & C & D & 12 & 722 & NA & 1985 & 1985-12-31\\\\\n",
       "\\end{tabular}\n"
      ],
      "text/markdown": [
       "\n",
       "A data.table: 1 × 8\n",
       "\n",
       "| gvkey &lt;chr&gt; | consol &lt;chr&gt; | popsrc &lt;chr&gt; | fyr &lt;dbl&gt; | naicsh &lt;dbl&gt; | sich &lt;dbl&gt; | year &lt;dbl&gt; | datadate &lt;date&gt; |\n",
       "|---|---|---|---|---|---|---|---|\n",
       "| 001001 | C | D | 12 | 722 | NA | 1985 | 1985-12-31 |\n",
       "\n"
      ],
      "text/plain": [
       "  gvkey  consol popsrc fyr naicsh sich year datadate  \n",
       "1 001001 C      D      12  722    NA   1985 1985-12-31"
      ]
     },
     "metadata": {},
     "output_type": "display_data"
    }
   ],
   "source": [
    "# Last downlaod: 2021-1-15 (N obs: 7090166)\n",
    "\n",
    "# from: beginning\n",
    "\n",
    "library = 'comp'\n",
    "dataset = 'co_industry' # factors\n",
    "\n",
    "query = sprintf(\"select * from %s.%s\", library, dataset)\n",
    "res <- dbSendQuery(wrds, query)\n",
    "comp_industry <- setDT(dbFetch(res, n=-1))\n",
    "dbClearResult(res)\n",
    "\n",
    "sprintf('%s: %s\\n', dataset, nrow(idx_price)) %>% cat()\n",
    "sv(comp_industry, path=WRDS_DOWNLOAD_DIR)\n",
    "\n",
    "comp_industry[1]\n"
   ]
  },
  {
   "cell_type": "markdown",
   "metadata": {
    "toc-hr-collapsed": true,
    "toc-nb-collapsed": true
   },
   "source": [
    "## FF-factors"
   ]
  },
  {
   "cell_type": "markdown",
   "metadata": {},
   "source": [
    "Notes:\n",
    "- `factors` are in decimal, not percentage point. So `smb=0.0024` means the return is 0.24 percentage points"
   ]
  },
  {
   "cell_type": "code",
   "execution_count": 31,
   "metadata": {},
   "outputs": [
    {
     "name": "stdout",
     "output_type": "stream",
     "text": [
      "factors_daily: 24874\n",
      "\"ff_factors\" saved as \"ff_factors.feather\" (437.7 KB) (0 secs)\n"
     ]
    },
    {
     "data": {
      "text/html": [
       "<table>\n",
       "<caption>A data.table: 1 × 6</caption>\n",
       "<thead>\n",
       "\t<tr><th scope=col>date</th><th scope=col>mktrf</th><th scope=col>smb</th><th scope=col>hml</th><th scope=col>rf</th><th scope=col>umd</th></tr>\n",
       "\t<tr><th scope=col>&lt;date&gt;</th><th scope=col>&lt;dbl&gt;</th><th scope=col>&lt;dbl&gt;</th><th scope=col>&lt;dbl&gt;</th><th scope=col>&lt;dbl&gt;</th><th scope=col>&lt;dbl&gt;</th></tr>\n",
       "</thead>\n",
       "<tbody>\n",
       "\t<tr><td>1926-07-01</td><td>0.001</td><td>-0.0024</td><td>-0.0028</td><td>9e-05</td><td>NA</td></tr>\n",
       "</tbody>\n",
       "</table>\n"
      ],
      "text/latex": [
       "A data.table: 1 × 6\n",
       "\\begin{tabular}{llllll}\n",
       " date & mktrf & smb & hml & rf & umd\\\\\n",
       " <date> & <dbl> & <dbl> & <dbl> & <dbl> & <dbl>\\\\\n",
       "\\hline\n",
       "\t 1926-07-01 & 0.001 & -0.0024 & -0.0028 & 9e-05 & NA\\\\\n",
       "\\end{tabular}\n"
      ],
      "text/markdown": [
       "\n",
       "A data.table: 1 × 6\n",
       "\n",
       "| date &lt;date&gt; | mktrf &lt;dbl&gt; | smb &lt;dbl&gt; | hml &lt;dbl&gt; | rf &lt;dbl&gt; | umd &lt;dbl&gt; |\n",
       "|---|---|---|---|---|---|\n",
       "| 1926-07-01 | 0.001 | -0.0024 | -0.0028 | 9e-05 | NA |\n",
       "\n"
      ],
      "text/plain": [
       "  date       mktrf smb     hml     rf    umd\n",
       "1 1926-07-01 0.001 -0.0024 -0.0028 9e-05 NA "
      ]
     },
     "metadata": {},
     "output_type": "display_data"
    }
   ],
   "source": [
    "# Last downlaod: 2021-1-15 (N obs: 24874)\n",
    "\n",
    "# from: beginning\n",
    "\n",
    "library = 'ff'\n",
    "dataset = 'factors_daily' # factors\n",
    "\n",
    "query = sprintf(\"select * from %s.%s\", library, dataset)\n",
    "res <- dbSendQuery(wrds, query)\n",
    "ff_factors <- setDT(dbFetch(res, n=-1)); dbClearResult(res)\n",
    "\n",
    "sprintf('%s: %s\\n', dataset, nrow(ff_factors)) %>% cat()\n",
    "sv(ff_factors, path=WRDS_DOWNLOAD_DIR)\n",
    "\n",
    "ff_factors[1]"
   ]
  },
  {
   "cell_type": "markdown",
   "metadata": {
    "toc-hr-collapsed": true,
    "toc-nb-collapsed": true
   },
   "source": [
    "## firm ID"
   ]
  },
  {
   "cell_type": "markdown",
   "metadata": {},
   "source": [
    "### `ibes.id`"
   ]
  },
  {
   "cell_type": "code",
   "execution_count": null,
   "metadata": {},
   "outputs": [],
   "source": [
    "# Last downlaod: \n",
    "\n",
    "# from: beginning\n",
    "\n",
    "library = 'ibes'\n",
    "dataset = 'id' # firm names\n",
    "\n",
    "query = sprintf(\"select ticker, cusip, cname, sdates from %s.%s where usfirm=1 and cusip != ''\", library, dataset)\n",
    "res <- dbSendQuery(wrds, query)\n",
    "ibes_id <- setDT(dbFetch(res, n=-1)); dbClearResult(res)\n",
    "sprintf('nrow: %s', nrow(ibes_id))\n",
    "sv(ibes_id, path=WRDS_DOWNLOAD_DIR)\n",
    "\n",
    "query = sprintf(\"select ticker, cusip, cname, oftic, sdates from %s.%s\", library, dataset)\n",
    "res <- dbSendQuery(wrds, query)\n",
    "ibes_id2 <- setDT(dbFetch(res, n=-1)); dbClearResult(res)\n",
    "sprintf('%s: %s', dataset, nrow(ibes_id2))\n",
    "\n",
    "ibes_id2[1]\n",
    "sv(ibes_id2, path=WRDS_DOWNLOAD_DIR)"
   ]
  },
  {
   "cell_type": "markdown",
   "metadata": {},
   "source": [
    "### `comp.security`"
   ]
  },
  {
   "cell_type": "code",
   "execution_count": 32,
   "metadata": {},
   "outputs": [
    {
     "name": "stdout",
     "output_type": "stream",
     "text": [
      "security: 58376\n",
      "\"comp_security\" saved as \"comp_security.feather\" (4.5 MB) (0.12 secs)\n"
     ]
    },
    {
     "data": {
      "text/html": [
       "<table>\n",
       "<caption>A data.table: 1 × 15</caption>\n",
       "<thead>\n",
       "\t<tr><th scope=col>tic</th><th scope=col>gvkey</th><th scope=col>iid</th><th scope=col>cusip</th><th scope=col>dlrsni</th><th scope=col>dsci</th><th scope=col>epf</th><th scope=col>exchg</th><th scope=col>excntry</th><th scope=col>ibtic</th><th scope=col>isin</th><th scope=col>secstat</th><th scope=col>sedol</th><th scope=col>tpci</th><th scope=col>dldtei</th></tr>\n",
       "\t<tr><th scope=col>&lt;chr&gt;</th><th scope=col>&lt;chr&gt;</th><th scope=col>&lt;chr&gt;</th><th scope=col>&lt;chr&gt;</th><th scope=col>&lt;chr&gt;</th><th scope=col>&lt;chr&gt;</th><th scope=col>&lt;chr&gt;</th><th scope=col>&lt;dbl&gt;</th><th scope=col>&lt;chr&gt;</th><th scope=col>&lt;chr&gt;</th><th scope=col>&lt;chr&gt;</th><th scope=col>&lt;chr&gt;</th><th scope=col>&lt;chr&gt;</th><th scope=col>&lt;chr&gt;</th><th scope=col>&lt;date&gt;</th></tr>\n",
       "</thead>\n",
       "<tbody>\n",
       "\t<tr><td>AE.2</td><td>001000</td><td>01</td><td>000032102</td><td>09</td><td>COM USD1</td><td>NA</td><td>12</td><td>USA</td><td>NA</td><td>NA</td><td>I</td><td>NA</td><td>0</td><td>1978-06-30</td></tr>\n",
       "</tbody>\n",
       "</table>\n"
      ],
      "text/latex": [
       "A data.table: 1 × 15\n",
       "\\begin{tabular}{lllllllllllllll}\n",
       " tic & gvkey & iid & cusip & dlrsni & dsci & epf & exchg & excntry & ibtic & isin & secstat & sedol & tpci & dldtei\\\\\n",
       " <chr> & <chr> & <chr> & <chr> & <chr> & <chr> & <chr> & <dbl> & <chr> & <chr> & <chr> & <chr> & <chr> & <chr> & <date>\\\\\n",
       "\\hline\n",
       "\t AE.2 & 001000 & 01 & 000032102 & 09 & COM USD1 & NA & 12 & USA & NA & NA & I & NA & 0 & 1978-06-30\\\\\n",
       "\\end{tabular}\n"
      ],
      "text/markdown": [
       "\n",
       "A data.table: 1 × 15\n",
       "\n",
       "| tic &lt;chr&gt; | gvkey &lt;chr&gt; | iid &lt;chr&gt; | cusip &lt;chr&gt; | dlrsni &lt;chr&gt; | dsci &lt;chr&gt; | epf &lt;chr&gt; | exchg &lt;dbl&gt; | excntry &lt;chr&gt; | ibtic &lt;chr&gt; | isin &lt;chr&gt; | secstat &lt;chr&gt; | sedol &lt;chr&gt; | tpci &lt;chr&gt; | dldtei &lt;date&gt; |\n",
       "|---|---|---|---|---|---|---|---|---|---|---|---|---|---|---|\n",
       "| AE.2 | 001000 | 01 | 000032102 | 09 | COM USD1 | NA | 12 | USA | NA | NA | I | NA | 0 | 1978-06-30 |\n",
       "\n"
      ],
      "text/plain": [
       "  tic  gvkey  iid cusip     dlrsni dsci     epf exchg excntry ibtic isin\n",
       "1 AE.2 001000 01  000032102 09     COM USD1 NA  12    USA     NA    NA  \n",
       "  secstat sedol tpci dldtei    \n",
       "1 I       NA    0    1978-06-30"
      ]
     },
     "metadata": {},
     "output_type": "display_data"
    }
   ],
   "source": [
    "# Last downlaod: 2021-1-15 (N obs: 58376)\n",
    "\n",
    "# from: beginning\n",
    "\n",
    "library = 'compm'\n",
    "dataset = 'security' # firm names\n",
    "\n",
    "query = sprintf(\"select * from %s.%s\", library, dataset)\n",
    "res <- dbSendQuery(wrds, query)\n",
    "comp_security <- setDT(dbFetch(res, n=-1)); dbClearResult(res)\n",
    "\n",
    "sprintf('%s: %s\\n', dataset, nrow(comp_security)) %>% cat()\n",
    "sv(comp_security, path=WRDS_DOWNLOAD_DIR)\n",
    "\n",
    "comp_security[1]"
   ]
  },
  {
   "cell_type": "markdown",
   "metadata": {},
   "source": [
    "### `ciq.wrds_gvkey`"
   ]
  },
  {
   "cell_type": "code",
   "execution_count": 33,
   "metadata": {},
   "outputs": [
    {
     "name": "stdout",
     "output_type": "stream",
     "text": [
      "wrds_gvkey: 115536\n",
      "\"ciq_wrds_gvkey\" saved as \"ciq_wrds_gvkey.feather\" (3.7 MB) (0.08 secs)\n"
     ]
    },
    {
     "data": {
      "text/html": [
       "<table>\n",
       "<caption>A data.table: 1 × 5</caption>\n",
       "<thead>\n",
       "\t<tr><th scope=col>companyid</th><th scope=col>gvkey</th><th scope=col>startdate</th><th scope=col>enddate</th><th scope=col>companyname</th></tr>\n",
       "\t<tr><th scope=col>&lt;dbl&gt;</th><th scope=col>&lt;chr&gt;</th><th scope=col>&lt;date&gt;</th><th scope=col>&lt;date&gt;</th><th scope=col>&lt;chr&gt;</th></tr>\n",
       "</thead>\n",
       "<tbody>\n",
       "\t<tr><td>18507</td><td>235716</td><td>NA</td><td>NA</td><td>2M Invest A/S</td></tr>\n",
       "</tbody>\n",
       "</table>\n"
      ],
      "text/latex": [
       "A data.table: 1 × 5\n",
       "\\begin{tabular}{lllll}\n",
       " companyid & gvkey & startdate & enddate & companyname\\\\\n",
       " <dbl> & <chr> & <date> & <date> & <chr>\\\\\n",
       "\\hline\n",
       "\t 18507 & 235716 & NA & NA & 2M Invest A/S\\\\\n",
       "\\end{tabular}\n"
      ],
      "text/markdown": [
       "\n",
       "A data.table: 1 × 5\n",
       "\n",
       "| companyid &lt;dbl&gt; | gvkey &lt;chr&gt; | startdate &lt;date&gt; | enddate &lt;date&gt; | companyname &lt;chr&gt; |\n",
       "|---|---|---|---|---|\n",
       "| 18507 | 235716 | NA | NA | 2M Invest A/S |\n",
       "\n"
      ],
      "text/plain": [
       "  companyid gvkey  startdate enddate companyname  \n",
       "1 18507     235716 <NA>      <NA>    2M Invest A/S"
      ]
     },
     "metadata": {},
     "output_type": "display_data"
    }
   ],
   "source": [
    "# Last downlaod: 2021-1-15 (N obs: 115536)\n",
    "\n",
    "# from: beginning\n",
    "\n",
    "library = 'ciq'\n",
    "dataset = 'wrds_gvkey' # firm names\n",
    "\n",
    "query = sprintf(\"select * from %s.%s\", library, dataset)\n",
    "res <- dbSendQuery(wrds, query)\n",
    "ciq_wrds_gvkey <- setDT(dbFetch(res, n=-1)); dbClearResult(res)\n",
    "\n",
    "sprintf('%s: %s\\n', dataset, nrow(ciq_wrds_gvkey)) %>% cat()\n",
    "sv(ciq_wrds_gvkey, path=WRDS_DOWNLOAD_DIR)\n",
    "\n",
    "ciq_wrds_gvkey[1]"
   ]
  },
  {
   "cell_type": "markdown",
   "metadata": {},
   "source": [
    "### `crsp.stocknames`"
   ]
  },
  {
   "cell_type": "code",
   "execution_count": null,
   "metadata": {},
   "outputs": [],
   "source": [
    "# Last downlaod: \n",
    "\n",
    "# from: beginning\n",
    "\n",
    "library = 'crsp'\n",
    "dataset = 'stocknames' # firm names\n",
    "\n",
    "query = sprintf(\"select permno, ncusip, comnam, namedt, nameenddt from %s.%s where ncusip != ''\", library, dataset)\n",
    "res <- dbSendQuery(wrds, query)\n",
    "crsp_stocknames <- setDT(dbFetch(res, n=-1)); dbClearResult(res)\n",
    "sprintf('nrow: %s', nrow(crsp_stocknames))\n",
    "sv(crsp_stocknames, path=WRDS_DOWNLOAD_DIR)\n",
    "\n",
    "query = sprintf(\"select ticker, comnam, permno, ncusip, namedt, nameenddt from %s.%s\", library, dataset)\n",
    "res <- dbSendQuery(wrds, query)\n",
    "crsp_stocknames2 <- setDT(dbFetch(res, n=-1)); dbClearResult(res)\n",
    "sprintf('nrow: %s', nrow(crsp_stocknames2))\n",
    "crsp_stocknames2[1]\n",
    "sv(crsp_stocknames2, path=WRDS_DOWNLOAD_DIR)"
   ]
  },
  {
   "cell_type": "markdown",
   "metadata": {},
   "source": [
    "### `crsp.ccm` (CRSP+COMPUSTAT)"
   ]
  },
  {
   "cell_type": "code",
   "execution_count": 34,
   "metadata": {},
   "outputs": [
    {
     "name": "stdout",
     "output_type": "stream",
     "text": [
      "ccmxpf_linktable: 32871\n",
      "\"crsp_ccmlink\" saved as \"crsp_ccmlink.feather\" (680.4 KB) (0.01 secs)\n"
     ]
    },
    {
     "data": {
      "text/html": [
       "<table>\n",
       "<caption>A data.table: 1 × 5</caption>\n",
       "<thead>\n",
       "\t<tr><th scope=col>gvkey</th><th scope=col>permco</th><th scope=col>permno</th><th scope=col>linkdt</th><th scope=col>linkenddt</th></tr>\n",
       "\t<tr><th scope=col>&lt;chr&gt;</th><th scope=col>&lt;dbl&gt;</th><th scope=col>&lt;dbl&gt;</th><th scope=col>&lt;date&gt;</th><th scope=col>&lt;date&gt;</th></tr>\n",
       "</thead>\n",
       "<tbody>\n",
       "\t<tr><td>001000</td><td>23369</td><td>25881</td><td>1970-11-13</td><td>1978-06-30</td></tr>\n",
       "</tbody>\n",
       "</table>\n"
      ],
      "text/latex": [
       "A data.table: 1 × 5\n",
       "\\begin{tabular}{lllll}\n",
       " gvkey & permco & permno & linkdt & linkenddt\\\\\n",
       " <chr> & <dbl> & <dbl> & <date> & <date>\\\\\n",
       "\\hline\n",
       "\t 001000 & 23369 & 25881 & 1970-11-13 & 1978-06-30\\\\\n",
       "\\end{tabular}\n"
      ],
      "text/markdown": [
       "\n",
       "A data.table: 1 × 5\n",
       "\n",
       "| gvkey &lt;chr&gt; | permco &lt;dbl&gt; | permno &lt;dbl&gt; | linkdt &lt;date&gt; | linkenddt &lt;date&gt; |\n",
       "|---|---|---|---|---|\n",
       "| 001000 | 23369 | 25881 | 1970-11-13 | 1978-06-30 |\n",
       "\n"
      ],
      "text/plain": [
       "  gvkey  permco permno linkdt     linkenddt \n",
       "1 001000 23369  25881  1970-11-13 1978-06-30"
      ]
     },
     "metadata": {},
     "output_type": "display_data"
    }
   ],
   "source": [
    "# Last downlaod: 2021-1-15 (N obs: 32871)\n",
    "\n",
    "# from: beginning\n",
    "\n",
    "library = 'crsp'\n",
    "dataset = 'ccmxpf_linktable' # firm names\n",
    "\n",
    "query = sprintf(\"select gvkey, lpermco as permco, lpermno as permno, linkdt, linkenddt from %s.%s where usedflag=1 and linkprim in ('P', 'C')\", library, dataset)\n",
    "res <- dbSendQuery(wrds, query)\n",
    "crsp_ccmlink <- setDT(dbFetch(res, n=-1)); dbClearResult(res)\n",
    "\n",
    "sprintf('%s: %s\\n', dataset, nrow(crsp_ccmlink)) %>% cat()\n",
    "sv(crsp_ccmlink, path=WRDS_DOWNLOAD_DIR)\n",
    "\n",
    "crsp_ccmlink[1]"
   ]
  },
  {
   "cell_type": "markdown",
   "metadata": {},
   "source": [
    "## index constitution"
   ]
  },
  {
   "cell_type": "code",
   "execution_count": 37,
   "metadata": {},
   "outputs": [
    {
     "name": "stdout",
     "output_type": "stream",
     "text": [
      "idx_index: 2133\n",
      "\"comp_idx_profile\" saved as \"comp_idx_profile.feather\" (178.5 KB) (0.04 secs)\n"
     ]
    },
    {
     "data": {
      "text/html": [
       "<table>\n",
       "<caption>A data.table: 1 × 14</caption>\n",
       "<thead>\n",
       "\t<tr><th scope=col>conm</th><th scope=col>gvkeyx</th><th scope=col>idx13key</th><th scope=col>idxcstflg</th><th scope=col>idxstat</th><th scope=col>indexcat</th><th scope=col>indexgeo</th><th scope=col>indexid</th><th scope=col>indextype</th><th scope=col>indexval</th><th scope=col>spii</th><th scope=col>spmi</th><th scope=col>tic</th><th scope=col>tici</th></tr>\n",
       "\t<tr><th scope=col>&lt;chr&gt;</th><th scope=col>&lt;chr&gt;</th><th scope=col>&lt;chr&gt;</th><th scope=col>&lt;chr&gt;</th><th scope=col>&lt;chr&gt;</th><th scope=col>&lt;chr&gt;</th><th scope=col>&lt;chr&gt;</th><th scope=col>&lt;chr&gt;</th><th scope=col>&lt;chr&gt;</th><th scope=col>&lt;chr&gt;</th><th scope=col>&lt;chr&gt;</th><th scope=col>&lt;chr&gt;</th><th scope=col>&lt;chr&gt;</th><th scope=col>&lt;chr&gt;</th></tr>\n",
       "</thead>\n",
       "<tbody>\n",
       "\t<tr><td>S&amp;P 500 Comp-Ltd</td><td>000003</td><td>0000000000500</td><td>Y</td><td>A</td><td>S&amp;P</td><td>USA</td><td>500</td><td>LGCAP</td><td>500</td><td>NA</td><td>10</td><td>I0003</td><td>I0003</td></tr>\n",
       "</tbody>\n",
       "</table>\n"
      ],
      "text/latex": [
       "A data.table: 1 × 14\n",
       "\\begin{tabular}{llllllllllllll}\n",
       " conm & gvkeyx & idx13key & idxcstflg & idxstat & indexcat & indexgeo & indexid & indextype & indexval & spii & spmi & tic & tici\\\\\n",
       " <chr> & <chr> & <chr> & <chr> & <chr> & <chr> & <chr> & <chr> & <chr> & <chr> & <chr> & <chr> & <chr> & <chr>\\\\\n",
       "\\hline\n",
       "\t S\\&P 500 Comp-Ltd & 000003 & 0000000000500 & Y & A & S\\&P & USA & 500 & LGCAP & 500 & NA & 10 & I0003 & I0003\\\\\n",
       "\\end{tabular}\n"
      ],
      "text/markdown": [
       "\n",
       "A data.table: 1 × 14\n",
       "\n",
       "| conm &lt;chr&gt; | gvkeyx &lt;chr&gt; | idx13key &lt;chr&gt; | idxcstflg &lt;chr&gt; | idxstat &lt;chr&gt; | indexcat &lt;chr&gt; | indexgeo &lt;chr&gt; | indexid &lt;chr&gt; | indextype &lt;chr&gt; | indexval &lt;chr&gt; | spii &lt;chr&gt; | spmi &lt;chr&gt; | tic &lt;chr&gt; | tici &lt;chr&gt; |\n",
       "|---|---|---|---|---|---|---|---|---|---|---|---|---|---|\n",
       "| S&amp;P 500 Comp-Ltd | 000003 | 0000000000500 | Y | A | S&amp;P | USA | 500 | LGCAP | 500 | NA | 10 | I0003 | I0003 |\n",
       "\n"
      ],
      "text/plain": [
       "  conm             gvkeyx idx13key      idxcstflg idxstat indexcat indexgeo\n",
       "1 S&P 500 Comp-Ltd 000003 0000000000500 Y         A       S&P      USA     \n",
       "  indexid indextype indexval spii spmi tic   tici \n",
       "1 500     LGCAP     500      NA   10   I0003 I0003"
      ]
     },
     "metadata": {},
     "output_type": "display_data"
    }
   ],
   "source": [
    "# Last downlaod: 2021-1-15 (N obs: 2133)\n",
    "\n",
    "# from: beginning\n",
    "\n",
    "library = 'compa'\n",
    "dataset = 'idx_index' # firm names\n",
    "\n",
    "query = sprintf(\"select * from %s.%s\", library, dataset)\n",
    "res <- dbSendQuery(wrds, query)\n",
    "comp_idx_profile <- setDT(dbFetch(res, n=-1)); dbClearResult(res)\n",
    "\n",
    "sprintf('%s: %s\\n', dataset, nrow(comp_idx_profile)) %>% cat()\n",
    "sv(comp_idx_profile, path=WRDS_DOWNLOAD_DIR)\n",
    "\n",
    "comp_idx_profile[conm=='S&P 500 Comp-Ltd']"
   ]
  },
  {
   "cell_type": "code",
   "execution_count": null,
   "metadata": {},
   "outputs": [
    {
     "name": "stdout",
     "output_type": "stream",
     "text": [
      "idxcst_his: 87146\n",
      "\"comp_idx_cst\" saved as \"comp_idx_cst.feather\" (1.4 MB) (0.03 secs)\n"
     ]
    },
    {
     "data": {
      "text/html": [
       "<table>\n",
       "<caption>A data.table: 1 × 5</caption>\n",
       "<thead>\n",
       "\t<tr><th scope=col>gvkey</th><th scope=col>iid</th><th scope=col>gvkeyx</th><th scope=col>from</th><th scope=col>thru</th></tr>\n",
       "\t<tr><th scope=col>&lt;chr&gt;</th><th scope=col>&lt;chr&gt;</th><th scope=col>&lt;chr&gt;</th><th scope=col>&lt;date&gt;</th><th scope=col>&lt;date&gt;</th></tr>\n",
       "</thead>\n",
       "<tbody>\n",
       "\t<tr><td>001004</td><td>01</td><td>030824</td><td>1994-10-01</td><td>NA</td></tr>\n",
       "</tbody>\n",
       "</table>\n"
      ],
      "text/latex": [
       "A data.table: 1 × 5\n",
       "\\begin{tabular}{lllll}\n",
       " gvkey & iid & gvkeyx & from & thru\\\\\n",
       " <chr> & <chr> & <chr> & <date> & <date>\\\\\n",
       "\\hline\n",
       "\t 001004 & 01 & 030824 & 1994-10-01 & NA\\\\\n",
       "\\end{tabular}\n"
      ],
      "text/markdown": [
       "\n",
       "A data.table: 1 × 5\n",
       "\n",
       "| gvkey &lt;chr&gt; | iid &lt;chr&gt; | gvkeyx &lt;chr&gt; | from &lt;date&gt; | thru &lt;date&gt; |\n",
       "|---|---|---|---|---|\n",
       "| 001004 | 01 | 030824 | 1994-10-01 | NA |\n",
       "\n"
      ],
      "text/plain": [
       "  gvkey  iid gvkeyx from       thru\n",
       "1 001004 01  030824 1994-10-01 <NA>"
      ]
     },
     "metadata": {},
     "output_type": "display_data"
    }
   ],
   "source": [
    "# Last downlaod: 2021-1-15 (N obs: 87146)\n",
    "\n",
    "# from: beginning\n",
    "\n",
    "library = 'compa'\n",
    "dataset = 'idxcst_his' # firm names\n",
    "\n",
    "query = sprintf(\"select * from %s.%s\", library, dataset)\n",
    "res <- dbSendQuery(wrds, query)\n",
    "comp_idx_cst <- setDT(dbFetch(res, n=-1)); dbClearResult(res)\n",
    "\n",
    "sprintf('%s: %s\\n', dataset, nrow(comp_idx_cst)) %>% cat()\n",
    "sv(comp_idx_cst, path=WRDS_DOWNLOAD_DIR)\n",
    "\n",
    "comp_idx_cst[1]"
   ]
  },
  {
   "cell_type": "markdown",
   "metadata": {},
   "source": [
    "## keydev"
   ]
  },
  {
   "cell_type": "code",
   "execution_count": 39,
   "metadata": {},
   "outputs": [
    {
     "name": "stdout",
     "output_type": "stream",
     "text": [
      "wrds_keydev: 3454300\n",
      "\"ciq_wrds_keydev\" saved as \"ciq_wrds_keydev.feather\" (168.7 MB) (2.55 secs)\n"
     ]
    },
    {
     "data": {
      "text/html": [
       "<table>\n",
       "<caption>A data.table: 1 × 16</caption>\n",
       "<thead>\n",
       "\t<tr><th scope=col>keydevid</th><th scope=col>companyid</th><th scope=col>companyname</th><th scope=col>keydeveventtypeid</th><th scope=col>eventtype</th><th scope=col>keydevstatusid</th><th scope=col>statustype</th><th scope=col>keydevtoobjectroletypeid</th><th scope=col>objectroletype</th><th scope=col>announcedate</th><th scope=col>announcetime</th><th scope=col>enterdate</th><th scope=col>entertime</th><th scope=col>lastmodifieddate</th><th scope=col>mostimportantdateutc</th><th scope=col>gvkey</th></tr>\n",
       "\t<tr><th scope=col>&lt;dbl&gt;</th><th scope=col>&lt;dbl&gt;</th><th scope=col>&lt;chr&gt;</th><th scope=col>&lt;dbl&gt;</th><th scope=col>&lt;chr&gt;</th><th scope=col>&lt;dbl&gt;</th><th scope=col>&lt;chr&gt;</th><th scope=col>&lt;dbl&gt;</th><th scope=col>&lt;chr&gt;</th><th scope=col>&lt;date&gt;</th><th scope=col>&lt;dbl&gt;</th><th scope=col>&lt;date&gt;</th><th scope=col>&lt;dbl&gt;</th><th scope=col>&lt;dttm&gt;</th><th scope=col>&lt;dttm&gt;</th><th scope=col>&lt;chr&gt;</th></tr>\n",
       "</thead>\n",
       "<tbody>\n",
       "\t<tr><td>613802945</td><td>18511</td><td>3i Group plc</td><td>28</td><td>Announcements of Earnings</td><td>1</td><td>Active</td><td>1</td><td>Target</td><td>2019-05-16</td><td>21600</td><td>2019-05-16</td><td>27060</td><td>2019-05-16 07:31:00</td><td>2019-05-16 06:00:00</td><td>210835</td></tr>\n",
       "</tbody>\n",
       "</table>\n"
      ],
      "text/latex": [
       "A data.table: 1 × 16\n",
       "\\begin{tabular}{llllllllllllllll}\n",
       " keydevid & companyid & companyname & keydeveventtypeid & eventtype & keydevstatusid & statustype & keydevtoobjectroletypeid & objectroletype & announcedate & announcetime & enterdate & entertime & lastmodifieddate & mostimportantdateutc & gvkey\\\\\n",
       " <dbl> & <dbl> & <chr> & <dbl> & <chr> & <dbl> & <chr> & <dbl> & <chr> & <date> & <dbl> & <date> & <dbl> & <dttm> & <dttm> & <chr>\\\\\n",
       "\\hline\n",
       "\t 613802945 & 18511 & 3i Group plc & 28 & Announcements of Earnings & 1 & Active & 1 & Target & 2019-05-16 & 21600 & 2019-05-16 & 27060 & 2019-05-16 07:31:00 & 2019-05-16 06:00:00 & 210835\\\\\n",
       "\\end{tabular}\n"
      ],
      "text/markdown": [
       "\n",
       "A data.table: 1 × 16\n",
       "\n",
       "| keydevid &lt;dbl&gt; | companyid &lt;dbl&gt; | companyname &lt;chr&gt; | keydeveventtypeid &lt;dbl&gt; | eventtype &lt;chr&gt; | keydevstatusid &lt;dbl&gt; | statustype &lt;chr&gt; | keydevtoobjectroletypeid &lt;dbl&gt; | objectroletype &lt;chr&gt; | announcedate &lt;date&gt; | announcetime &lt;dbl&gt; | enterdate &lt;date&gt; | entertime &lt;dbl&gt; | lastmodifieddate &lt;dttm&gt; | mostimportantdateutc &lt;dttm&gt; | gvkey &lt;chr&gt; |\n",
       "|---|---|---|---|---|---|---|---|---|---|---|---|---|---|---|---|\n",
       "| 613802945 | 18511 | 3i Group plc | 28 | Announcements of Earnings | 1 | Active | 1 | Target | 2019-05-16 | 21600 | 2019-05-16 | 27060 | 2019-05-16 07:31:00 | 2019-05-16 06:00:00 | 210835 |\n",
       "\n"
      ],
      "text/plain": [
       "  keydevid  companyid companyname  keydeveventtypeid eventtype                \n",
       "1 613802945 18511     3i Group plc 28                Announcements of Earnings\n",
       "  keydevstatusid statustype keydevtoobjectroletypeid objectroletype\n",
       "1 1              Active     1                        Target        \n",
       "  announcedate announcetime enterdate  entertime lastmodifieddate   \n",
       "1 2019-05-16   21600        2019-05-16 27060     2019-05-16 07:31:00\n",
       "  mostimportantdateutc gvkey \n",
       "1 2019-05-16 06:00:00  210835"
      ]
     },
     "metadata": {},
     "output_type": "display_data"
    }
   ],
   "source": [
    "# Last downlaod: 2021-1-15 (N obs: 3454300)\n",
    "\n",
    "# from: beginning\n",
    "\n",
    "# 28: Announcements of Earnings\n",
    "# 48: Earnings Calls\n",
    "# 55: Expected Earnings Release Date\n",
    "# 61: Delayed Earnings Announcements\n",
    "# 144: Expected Earnings Release Date (CIQ Expected)\n",
    "\n",
    "library = 'ciq'\n",
    "dataset = 'wrds_keydev' # everything except for `headline` and `situation`\n",
    "\n",
    "query = sprintf(\"select * from %s.%s \n",
    "    where keydeveventtypeid in (28, 48, 55, 61, 144)\", library, dataset)\n",
    "res <- dbSendQuery(wrds, query)\n",
    "ciq_wrds_keydev <- setDT(dbFetch(res, n=-1)); dbClearResult(res)\n",
    "\n",
    "# `mostimportantdateutc` is in UTC but R doesn't recognize,\n",
    "# so we need to set it explictly\n",
    "ciq_wrds_keydev[, ':='(mostimportantdateutc=force_tz(mostimportantdateutc, 'UTC'))]\n",
    "\n",
    "sprintf('%s: %s\\n', dataset, nrow(ciq_wrds_keydev)) %>% cat()\n",
    "sv(ciq_wrds_keydev, path=WRDS_DOWNLOAD_DIR)\n",
    "\n",
    "ciq_wrds_keydev[1]"
   ]
  },
  {
   "cell_type": "code",
   "execution_count": 40,
   "metadata": {},
   "outputs": [
    {
     "name": "stdout",
     "output_type": "stream",
     "text": [
      "ciqkeydev: 3452193\n",
      "\"ciq_keydev\" saved as \"ciq_keydev.feather\" (899.8 MB) (7.8 secs)\n"
     ]
    },
    {
     "data": {
      "text/html": [
       "<table>\n",
       "<caption>A data.table: 1 × 7</caption>\n",
       "<thead>\n",
       "\t<tr><th scope=col>headline</th><th scope=col>situation</th><th scope=col>keydevid</th><th scope=col>announceddate</th><th scope=col>entereddate</th><th scope=col>lastmodifieddate</th><th scope=col>mostimportantdateutc</th></tr>\n",
       "\t<tr><th scope=col>&lt;chr&gt;</th><th scope=col>&lt;chr&gt;</th><th scope=col>&lt;dbl&gt;</th><th scope=col>&lt;dttm&gt;</th><th scope=col>&lt;dttm&gt;</th><th scope=col>&lt;dttm&gt;</th><th scope=col>&lt;dttm&gt;</th></tr>\n",
       "</thead>\n",
       "<tbody>\n",
       "\t<tr><td>Awilco LNG ASA Reports Earnings Results for the First Quarter of 2017</td><td>Awilco LNG ASA reported earnings results for the first quarter of 2017. For the quarter, the company reported net freight income of $0.8 million. LBITDA was $2.0 million. Loss before tax was $10.4 million. Loss was $10.4 million. Net cash used in operating activities was $1.6 million.</td><td>430225859</td><td>2017-05-05 07:30:00</td><td>2017-05-09 05:37:00</td><td>2017-07-22 03:57:00</td><td>2017-05-05 07:30:00</td></tr>\n",
       "</tbody>\n",
       "</table>\n"
      ],
      "text/latex": [
       "A data.table: 1 × 7\n",
       "\\begin{tabular}{lllllll}\n",
       " headline & situation & keydevid & announceddate & entereddate & lastmodifieddate & mostimportantdateutc\\\\\n",
       " <chr> & <chr> & <dbl> & <dttm> & <dttm> & <dttm> & <dttm>\\\\\n",
       "\\hline\n",
       "\t Awilco LNG ASA Reports Earnings Results for the First Quarter of 2017 & Awilco LNG ASA reported earnings results for the first quarter of 2017. For the quarter, the company reported net freight income of \\$0.8 million. LBITDA was \\$2.0 million. Loss before tax was \\$10.4 million. Loss was \\$10.4 million. Net cash used in operating activities was \\$1.6 million. & 430225859 & 2017-05-05 07:30:00 & 2017-05-09 05:37:00 & 2017-07-22 03:57:00 & 2017-05-05 07:30:00\\\\\n",
       "\\end{tabular}\n"
      ],
      "text/markdown": [
       "\n",
       "A data.table: 1 × 7\n",
       "\n",
       "| headline &lt;chr&gt; | situation &lt;chr&gt; | keydevid &lt;dbl&gt; | announceddate &lt;dttm&gt; | entereddate &lt;dttm&gt; | lastmodifieddate &lt;dttm&gt; | mostimportantdateutc &lt;dttm&gt; |\n",
       "|---|---|---|---|---|---|---|\n",
       "| Awilco LNG ASA Reports Earnings Results for the First Quarter of 2017 | Awilco LNG ASA reported earnings results for the first quarter of 2017. For the quarter, the company reported net freight income of $0.8 million. LBITDA was $2.0 million. Loss before tax was $10.4 million. Loss was $10.4 million. Net cash used in operating activities was $1.6 million. | 430225859 | 2017-05-05 07:30:00 | 2017-05-09 05:37:00 | 2017-07-22 03:57:00 | 2017-05-05 07:30:00 |\n",
       "\n"
      ],
      "text/plain": [
       "  headline                                                             \n",
       "1 Awilco LNG ASA Reports Earnings Results for the First Quarter of 2017\n",
       "  situation                                                                                                                                                                                                                                                                                    \n",
       "1 Awilco LNG ASA reported earnings results for the first quarter of 2017. For the quarter, the company reported net freight income of $0.8 million. LBITDA was $2.0 million. Loss before tax was $10.4 million. Loss was $10.4 million. Net cash used in operating activities was $1.6 million.\n",
       "  keydevid  announceddate       entereddate         lastmodifieddate   \n",
       "1 430225859 2017-05-05 07:30:00 2017-05-09 05:37:00 2017-07-22 03:57:00\n",
       "  mostimportantdateutc\n",
       "1 2017-05-05 07:30:00 "
      ]
     },
     "metadata": {},
     "output_type": "display_data"
    }
   ],
   "source": [
    "# Last downlaod: 2021-1-15 (N obs: 3452193)\n",
    "\n",
    "# from: beginning\n",
    "\n",
    "# 28: Announcements of Earnings\n",
    "# 48: Earnings Calls\n",
    "# 55: Expected Earnings Release Date\n",
    "# 61: Delayed Earnings Announcements\n",
    "# 144: Expected Earnings Release Date (CIQ Expected)\n",
    "\n",
    "library = 'ciq'\n",
    "dataset = 'ciqkeydev' # `headline` and `situation`\n",
    "\n",
    "query = sprintf(\"select * from %s.%s \n",
    "    where keydevid in \n",
    "        (select keydevid from ciq.wrds_keydev\n",
    "        where keydeveventtypeid in (28, 48, 55, 61, 144))\",\n",
    "    library, dataset)\n",
    "res <- dbSendQuery(wrds, query)\n",
    "ciq_keydev <- setDT(dbFetch(res, n=-1)); dbClearResult(res)\n",
    "\n",
    "# `mostimportantdateutc` is in UTC but R doesn't recognize,\n",
    "# so we need to set it explictly\n",
    "ciq_keydev[, ':='(mostimportantdateutc=force_tz(mostimportantdateutc, 'UTC'))]\n",
    "\n",
    "sprintf('%s: %s\\n', dataset, nrow(ciq_keydev)) %>% cat()\n",
    "sv(ciq_keydev, path=WRDS_DOWNLOAD_DIR)\n",
    "\n",
    "ciq_keydev[1]"
   ]
  },
  {
   "cell_type": "markdown",
   "metadata": {},
   "source": [
    "## CCM (CRSP+COMPUSTAT)"
   ]
  },
  {
   "cell_type": "code",
   "execution_count": 41,
   "metadata": {},
   "outputs": [
    {
     "name": "stdout",
     "output_type": "stream",
     "text": [
      "ccmxpf_lnkhist: 105148\n",
      "\"ccm\" saved as \"ccm.feather\" (3.1 MB) (0.06 secs)\n"
     ]
    },
    {
     "data": {
      "text/html": [
       "<table>\n",
       "<caption>A data.table: 1 × 8</caption>\n",
       "<thead>\n",
       "\t<tr><th scope=col>gvkey</th><th scope=col>linkprim</th><th scope=col>liid</th><th scope=col>linktype</th><th scope=col>lpermno</th><th scope=col>lpermco</th><th scope=col>linkdt</th><th scope=col>linkenddt</th></tr>\n",
       "\t<tr><th scope=col>&lt;chr&gt;</th><th scope=col>&lt;chr&gt;</th><th scope=col>&lt;chr&gt;</th><th scope=col>&lt;chr&gt;</th><th scope=col>&lt;dbl&gt;</th><th scope=col>&lt;dbl&gt;</th><th scope=col>&lt;date&gt;</th><th scope=col>&lt;date&gt;</th></tr>\n",
       "</thead>\n",
       "<tbody>\n",
       "\t<tr><td>001000</td><td>C</td><td>00X</td><td>NU</td><td>NA</td><td>NA</td><td>1961-01-01</td><td>1970-09-29</td></tr>\n",
       "</tbody>\n",
       "</table>\n"
      ],
      "text/latex": [
       "A data.table: 1 × 8\n",
       "\\begin{tabular}{llllllll}\n",
       " gvkey & linkprim & liid & linktype & lpermno & lpermco & linkdt & linkenddt\\\\\n",
       " <chr> & <chr> & <chr> & <chr> & <dbl> & <dbl> & <date> & <date>\\\\\n",
       "\\hline\n",
       "\t 001000 & C & 00X & NU & NA & NA & 1961-01-01 & 1970-09-29\\\\\n",
       "\\end{tabular}\n"
      ],
      "text/markdown": [
       "\n",
       "A data.table: 1 × 8\n",
       "\n",
       "| gvkey &lt;chr&gt; | linkprim &lt;chr&gt; | liid &lt;chr&gt; | linktype &lt;chr&gt; | lpermno &lt;dbl&gt; | lpermco &lt;dbl&gt; | linkdt &lt;date&gt; | linkenddt &lt;date&gt; |\n",
       "|---|---|---|---|---|---|---|---|\n",
       "| 001000 | C | 00X | NU | NA | NA | 1961-01-01 | 1970-09-29 |\n",
       "\n"
      ],
      "text/plain": [
       "  gvkey  linkprim liid linktype lpermno lpermco linkdt     linkenddt \n",
       "1 001000 C        00X  NU       NA      NA      1961-01-01 1970-09-29"
      ]
     },
     "metadata": {},
     "output_type": "display_data"
    }
   ],
   "source": [
    "# Last downlaod: 2021-1-15 (N obs: 105148)\n",
    "\n",
    "# from: beginning\n",
    "\n",
    "library = 'crspq'\n",
    "dataset = 'ccmxpf_lnkhist'\n",
    "\n",
    "query = sprintf(\"select * from %s.%s\",\n",
    "    library, dataset)\n",
    "res <- dbSendQuery(wrds, query)\n",
    "ccm <- setDT(dbFetch(res, n=-1)); dbClearResult(res)\n",
    "\n",
    "sprintf('%s: %s\\n', dataset, nrow(ccm)) %>% cat()\n",
    "sv(ccm, path=WRDS_DOWNLOAD_DIR)\n",
    "\n",
    "ccm[1]"
   ]
  },
  {
   "cell_type": "markdown",
   "metadata": {},
   "source": [
    "## money inflow"
   ]
  },
  {
   "cell_type": "code",
   "execution_count": 8,
   "metadata": {},
   "outputs": [
    {
     "name": "stdout",
     "output_type": "stream",
     "text": [
      "holdings: 24836274\"crsp_holdings\" saved as \"crsp_holdings.feather\" (4.6 GB) (55.24 secs)\n"
     ]
    }
   ],
   "source": [
    "# Last downlaod: 2021-1-15 (N obs: 24836274)\n",
    "\n",
    "# from: 2000-01-01\n",
    "\n",
    "library = 'crsp'\n",
    "dataset = 'holdings'\n",
    "\n",
    "query = sprintf(\"select crsp_portno, report_dt, percent_tna, nbr_shares, market_val, cusip, permno from %s.%s where report_dt>='2000-01-01'::date\",\n",
    "    library, dataset)\n",
    "                \n",
    "res <- dbSendQuery(wrds, query)\n",
    "crsp_holdings <- setDT(dbFetch(res, n=-1)); dbClearResult(res)\n",
    "\n",
    "sprintf('%s: %s\\n', dataset, nrow(crsp_holdings)) %>% cat()\n",
    "sv(crsp_holdings, path=WRDS_DOWNLOAD_DIR)"
   ]
  },
  {
   "cell_type": "markdown",
   "metadata": {},
   "source": [
    "## retail tracking"
   ]
  },
  {
   "cell_type": "markdown",
   "metadata": {},
   "source": [
    "Steps:\n",
    "- Download 'taq-permno-link.sas7bdat' from WRDS\n",
    "    - Located at \"Home -> Get Data -> Linking Suite by WRDS -> TAQ CRSP Link\"\n",
    "    - Select all variables and all companies"
   ]
  },
  {
   "cell_type": "markdown",
   "metadata": {
    "toc-hr-collapsed": true,
    "toc-nb-collapsed": true
   },
   "source": [
    "# Coverage"
   ]
  },
  {
   "cell_type": "markdown",
   "metadata": {},
   "source": [
    "## Find SP 500"
   ]
  },
  {
   "cell_type": "code",
   "execution_count": 5,
   "metadata": {
    "scrolled": true
   },
   "outputs": [
    {
     "name": "stdout",
     "output_type": "stream",
     "text": [
      "\"comp_idx_cst.feather\" (1.4 MB) loaded (0.05 secs)\n",
      "\"sp500_cst\" saved as \"sp500_cst.feather\" (24.8 KB) (0.01 secs)\n"
     ]
    }
   ],
   "source": [
    "# thru is missing means it's still effective\n",
    "# fill the missing with today()\n",
    "ld(comp_idx_cst, ldtype='feather', path=WRDS_DOWNLOAD_DIR)\n",
    "\n",
    "sp500_cst = comp_idx_cst[gvkeyx=='000003'\n",
    "    ][is.na(from), ':='(from=as.Date('1900-01-01'))\n",
    "    ][is.na(thru), ':='(thru=today())\n",
    "    ][order(gvkey, iid)\n",
    "    ][, .SD[1], keyby=.(gvkey)\n",
    "    ][, .(gvkey, from, thru)] %>% unique()\n",
    "\n",
    "sv(sp500_cst)"
   ]
  },
  {
   "cell_type": "markdown",
   "metadata": {},
   "source": [
    "## Find DJI"
   ]
  },
  {
   "cell_type": "code",
   "execution_count": 5,
   "metadata": {},
   "outputs": [
    {
     "name": "stdout",
     "output_type": "stream",
     "text": [
      "\"comp_idx_cst.feather\" (1.4 MB) loaded (0.05 secs)\n",
      "\"comp_security.feather\" (4.5 MB) loaded (0.15 secs)\n",
      "\"dji_cst\" saved as \"dji_cst.feather\" (5.5 KB) (0.03 secs)\n"
     ]
    },
    {
     "data": {
      "text/html": [
       "<table>\n",
       "<caption>A data.table: 50 × 8</caption>\n",
       "<thead>\n",
       "\t<tr><th scope=col>gvkey</th><th scope=col>iid</th><th scope=col>gvkeyx</th><th scope=col>from</th><th scope=col>thru</th><th scope=col>tic</th><th scope=col>cusip</th><th scope=col>sedol</th></tr>\n",
       "\t<tr><th scope=col>&lt;chr&gt;</th><th scope=col>&lt;chr&gt;</th><th scope=col>&lt;chr&gt;</th><th scope=col>&lt;date&gt;</th><th scope=col>&lt;date&gt;</th><th scope=col>&lt;chr&gt;</th><th scope=col>&lt;chr&gt;</th><th scope=col>&lt;chr&gt;</th></tr>\n",
       "</thead>\n",
       "<tbody>\n",
       "\t<tr><td>001300</td><td>01</td><td>000005</td><td>1925-12-07</td><td>2008-02-18</td><td>HON  </td><td>438516</td><td>2020459</td></tr>\n",
       "\t<tr><td>001356</td><td>01</td><td>000005</td><td>1959-06-01</td><td>2013-09-22</td><td>AA.3 </td><td>013817</td><td>BYVZDB3</td></tr>\n",
       "\t<tr><td>001447</td><td>01</td><td>000005</td><td>1982-08-30</td><td>NA</td><td>AXP  </td><td>025816</td><td>2026082</td></tr>\n",
       "\t<tr><td>001487</td><td>01</td><td>000005</td><td>2004-04-08</td><td>2008-09-21</td><td>AIG  </td><td>026874</td><td>2027342</td></tr>\n",
       "\t<tr><td>001581</td><td>01</td><td>000005</td><td>1939-03-14</td><td>2004-04-07</td><td>T.2  </td><td>001957</td><td>2064888</td></tr>\n",
       "\t<tr><td>001690</td><td>01</td><td>000005</td><td>2015-03-19</td><td>NA</td><td>AAPL </td><td>037833</td><td>2046251</td></tr>\n",
       "\t<tr><td>002136</td><td>01</td><td>000005</td><td>2004-04-08</td><td>NA</td><td>VZ   </td><td>92343V</td><td>2090571</td></tr>\n",
       "\t<tr><td>002285</td><td>01</td><td>000005</td><td>1987-03-12</td><td>NA</td><td>BA   </td><td>097023</td><td>2108601</td></tr>\n",
       "\t<tr><td>002817</td><td>01</td><td>000005</td><td>1991-05-06</td><td>NA</td><td>CAT  </td><td>149123</td><td>2180201</td></tr>\n",
       "\t<tr><td>002968</td><td>01</td><td>000005</td><td>2001-01-02</td><td>NA</td><td>JPM  </td><td>46625H</td><td>2190385</td></tr>\n",
       "\t<tr><td>002991</td><td>01</td><td>000005</td><td>1984-07-10</td><td>1999-10-31</td><td>CVX  </td><td>166764</td><td>2838555</td></tr>\n",
       "\t<tr><td>002991</td><td>01</td><td>000005</td><td>2008-02-19</td><td>NA</td><td>CVX  </td><td>166764</td><td>2838555</td></tr>\n",
       "\t<tr><td>003144</td><td>01</td><td>000005</td><td>1932-05-26</td><td>NA</td><td>KO   </td><td>191216</td><td>2206657</td></tr>\n",
       "\t<tr><td>003243</td><td>01</td><td>000005</td><td>1997-03-17</td><td>2009-06-07</td><td>C    </td><td>172967</td><td>2297907</td></tr>\n",
       "\t<tr><td>003980</td><td>01</td><td>000005</td><td>1991-05-06</td><td>NA</td><td>DIS  </td><td>254687</td><td>2270726</td></tr>\n",
       "\t<tr><td>004060</td><td>01</td><td>000005</td><td>2017-09-01</td><td>2019-04-01</td><td>DWDP </td><td>26078J</td><td>BYP66M4</td></tr>\n",
       "\t<tr><td>004087</td><td>01</td><td>000005</td><td>1935-11-20</td><td>2017-08-31</td><td>DD   </td><td>263534</td><td>2018175</td></tr>\n",
       "\t<tr><td>004194</td><td>01</td><td>000005</td><td>1930-07-18</td><td>2004-04-07</td><td>EKDKQ</td><td>277461</td><td>2300601</td></tr>\n",
       "\t<tr><td>004503</td><td>01</td><td>000005</td><td>1928-10-01</td><td>NA</td><td>XOM  </td><td>30231G</td><td>2326618</td></tr>\n",
       "\t<tr><td>005047</td><td>01</td><td>000005</td><td>1907-11-07</td><td>2018-06-25</td><td>GE   </td><td>369604</td><td>2380498</td></tr>\n",
       "\t<tr><td>005073</td><td>01</td><td>000005</td><td>1915-03-16</td><td>2009-06-07</td><td>MTLQQ</td><td>62010A</td><td>2365804</td></tr>\n",
       "\t<tr><td>005234</td><td>01</td><td>000005</td><td>1930-07-18</td><td>1999-10-31</td><td>GT   </td><td>382550</td><td>2378200</td></tr>\n",
       "\t<tr><td>005606</td><td>01</td><td>000005</td><td>1997-03-17</td><td>2013-09-22</td><td>HPQ  </td><td>40434L</td><td>BYX4D52</td></tr>\n",
       "\t<tr><td>005680</td><td>01</td><td>000005</td><td>1999-11-01</td><td>NA</td><td>HD   </td><td>437076</td><td>2434209</td></tr>\n",
       "\t<tr><td>006008</td><td>01</td><td>000005</td><td>1999-11-01</td><td>NA</td><td>INTC </td><td>458140</td><td>2463247</td></tr>\n",
       "\t<tr><td>006066</td><td>01</td><td>000005</td><td>1932-05-26</td><td>NA</td><td>IBM  </td><td>459200</td><td>2005973</td></tr>\n",
       "\t<tr><td>006104</td><td>01</td><td>000005</td><td>1956-07-03</td><td>2004-04-07</td><td>IP   </td><td>460146</td><td>2465254</td></tr>\n",
       "\t<tr><td>006266</td><td>01</td><td>000005</td><td>1997-03-17</td><td>NA</td><td>JNJ  </td><td>478160</td><td>2475833</td></tr>\n",
       "\t<tr><td>007154</td><td>01</td><td>000005</td><td>1985-10-30</td><td>NA</td><td>MCD  </td><td>580135</td><td>2550707</td></tr>\n",
       "\t<tr><td>007257</td><td>01</td><td>000005</td><td>1979-06-29</td><td>NA</td><td>MRK  </td><td>58933Y</td><td>2778844</td></tr>\n",
       "\t<tr><td>007435</td><td>01</td><td>000005</td><td>1976-08-09</td><td>NA</td><td>MMM  </td><td>88579Y</td><td>2595708</td></tr>\n",
       "\t<tr><td>007562</td><td>01</td><td>000005</td><td>1991-05-06</td><td>2001-01-01</td><td>JPM.Z</td><td>616880</td><td>NA     </td></tr>\n",
       "\t<tr><td>007647</td><td>01</td><td>000005</td><td>2008-02-19</td><td>2013-09-22</td><td>BAC  </td><td>060505</td><td>2295677</td></tr>\n",
       "\t<tr><td>007906</td><td>01</td><td>000005</td><td>2013-09-23</td><td>NA</td><td>NKE  </td><td>654106</td><td>2640147</td></tr>\n",
       "\t<tr><td>008530</td><td>01</td><td>000005</td><td>2004-04-08</td><td>NA</td><td>PFE  </td><td>717081</td><td>2684703</td></tr>\n",
       "\t<tr><td>008543</td><td>01</td><td>000005</td><td>1985-10-30</td><td>2008-02-18</td><td>MO   </td><td>02209S</td><td>2692632</td></tr>\n",
       "\t<tr><td>008762</td><td>01</td><td>000005</td><td>1932-05-26</td><td>NA</td><td>PG   </td><td>742718</td><td>2704407</td></tr>\n",
       "\t<tr><td>009563</td><td>01</td><td>000005</td><td>1924-01-22</td><td>1999-10-31</td><td>S.1  </td><td>812387</td><td>2787312</td></tr>\n",
       "\t<tr><td>009899</td><td>01</td><td>000005</td><td>1999-11-01</td><td>2015-03-18</td><td>T    </td><td>00206R</td><td>2831811</td></tr>\n",
       "\t<tr><td>010857</td><td>01</td><td>000005</td><td>1928-10-01</td><td>1999-10-31</td><td>UK.1 </td><td>905581</td><td>NA     </td></tr>\n",
       "\t<tr><td>010903</td><td>01</td><td>000005</td><td>2012-09-24</td><td>NA</td><td>UNH  </td><td>91324P</td><td>2917766</td></tr>\n",
       "\t<tr><td>010983</td><td>01</td><td>000005</td><td>1975-05-01</td><td>NA</td><td>UTX  </td><td>913017</td><td>2915500</td></tr>\n",
       "\t<tr><td>011259</td><td>01</td><td>000005</td><td>1997-03-17</td><td>NA</td><td>WMT  </td><td>931142</td><td>2936921</td></tr>\n",
       "\t<tr><td>011264</td><td>01</td><td>000005</td><td>2018-06-26</td><td>NA</td><td>WBA  </td><td>931427</td><td>BTN1Y44</td></tr>\n",
       "\t<tr><td>012141</td><td>01</td><td>000005</td><td>1999-11-01</td><td>NA</td><td>MSFT </td><td>594918</td><td>2588173</td></tr>\n",
       "\t<tr><td>020779</td><td>01</td><td>000005</td><td>2009-06-08</td><td>NA</td><td>CSCO </td><td>17275R</td><td>2198163</td></tr>\n",
       "\t<tr><td>062689</td><td>05</td><td>000005</td><td>2009-06-08</td><td>NA</td><td>TRV  </td><td>89417E</td><td>2769503</td></tr>\n",
       "\t<tr><td>114628</td><td>01</td><td>000005</td><td>2013-09-23</td><td>NA</td><td>GS   </td><td>38141G</td><td>2407966</td></tr>\n",
       "\t<tr><td>142953</td><td>01</td><td>000005</td><td>2008-09-22</td><td>2012-09-23</td><td>MDLZ </td><td>609207</td><td>B8CKK03</td></tr>\n",
       "\t<tr><td>179534</td><td>01</td><td>000005</td><td>2013-09-23</td><td>NA</td><td>V    </td><td>92826C</td><td>B2PZN04</td></tr>\n",
       "</tbody>\n",
       "</table>\n"
      ],
      "text/latex": [
       "A data.table: 50 × 8\n",
       "\\begin{tabular}{llllllll}\n",
       " gvkey & iid & gvkeyx & from & thru & tic & cusip & sedol\\\\\n",
       " <chr> & <chr> & <chr> & <date> & <date> & <chr> & <chr> & <chr>\\\\\n",
       "\\hline\n",
       "\t 001300 & 01 & 000005 & 1925-12-07 & 2008-02-18 & HON   & 438516 & 2020459\\\\\n",
       "\t 001356 & 01 & 000005 & 1959-06-01 & 2013-09-22 & AA.3  & 013817 & BYVZDB3\\\\\n",
       "\t 001447 & 01 & 000005 & 1982-08-30 & NA & AXP   & 025816 & 2026082\\\\\n",
       "\t 001487 & 01 & 000005 & 2004-04-08 & 2008-09-21 & AIG   & 026874 & 2027342\\\\\n",
       "\t 001581 & 01 & 000005 & 1939-03-14 & 2004-04-07 & T.2   & 001957 & 2064888\\\\\n",
       "\t 001690 & 01 & 000005 & 2015-03-19 & NA & AAPL  & 037833 & 2046251\\\\\n",
       "\t 002136 & 01 & 000005 & 2004-04-08 & NA & VZ    & 92343V & 2090571\\\\\n",
       "\t 002285 & 01 & 000005 & 1987-03-12 & NA & BA    & 097023 & 2108601\\\\\n",
       "\t 002817 & 01 & 000005 & 1991-05-06 & NA & CAT   & 149123 & 2180201\\\\\n",
       "\t 002968 & 01 & 000005 & 2001-01-02 & NA & JPM   & 46625H & 2190385\\\\\n",
       "\t 002991 & 01 & 000005 & 1984-07-10 & 1999-10-31 & CVX   & 166764 & 2838555\\\\\n",
       "\t 002991 & 01 & 000005 & 2008-02-19 & NA & CVX   & 166764 & 2838555\\\\\n",
       "\t 003144 & 01 & 000005 & 1932-05-26 & NA & KO    & 191216 & 2206657\\\\\n",
       "\t 003243 & 01 & 000005 & 1997-03-17 & 2009-06-07 & C     & 172967 & 2297907\\\\\n",
       "\t 003980 & 01 & 000005 & 1991-05-06 & NA & DIS   & 254687 & 2270726\\\\\n",
       "\t 004060 & 01 & 000005 & 2017-09-01 & 2019-04-01 & DWDP  & 26078J & BYP66M4\\\\\n",
       "\t 004087 & 01 & 000005 & 1935-11-20 & 2017-08-31 & DD    & 263534 & 2018175\\\\\n",
       "\t 004194 & 01 & 000005 & 1930-07-18 & 2004-04-07 & EKDKQ & 277461 & 2300601\\\\\n",
       "\t 004503 & 01 & 000005 & 1928-10-01 & NA & XOM   & 30231G & 2326618\\\\\n",
       "\t 005047 & 01 & 000005 & 1907-11-07 & 2018-06-25 & GE    & 369604 & 2380498\\\\\n",
       "\t 005073 & 01 & 000005 & 1915-03-16 & 2009-06-07 & MTLQQ & 62010A & 2365804\\\\\n",
       "\t 005234 & 01 & 000005 & 1930-07-18 & 1999-10-31 & GT    & 382550 & 2378200\\\\\n",
       "\t 005606 & 01 & 000005 & 1997-03-17 & 2013-09-22 & HPQ   & 40434L & BYX4D52\\\\\n",
       "\t 005680 & 01 & 000005 & 1999-11-01 & NA & HD    & 437076 & 2434209\\\\\n",
       "\t 006008 & 01 & 000005 & 1999-11-01 & NA & INTC  & 458140 & 2463247\\\\\n",
       "\t 006066 & 01 & 000005 & 1932-05-26 & NA & IBM   & 459200 & 2005973\\\\\n",
       "\t 006104 & 01 & 000005 & 1956-07-03 & 2004-04-07 & IP    & 460146 & 2465254\\\\\n",
       "\t 006266 & 01 & 000005 & 1997-03-17 & NA & JNJ   & 478160 & 2475833\\\\\n",
       "\t 007154 & 01 & 000005 & 1985-10-30 & NA & MCD   & 580135 & 2550707\\\\\n",
       "\t 007257 & 01 & 000005 & 1979-06-29 & NA & MRK   & 58933Y & 2778844\\\\\n",
       "\t 007435 & 01 & 000005 & 1976-08-09 & NA & MMM   & 88579Y & 2595708\\\\\n",
       "\t 007562 & 01 & 000005 & 1991-05-06 & 2001-01-01 & JPM.Z & 616880 & NA     \\\\\n",
       "\t 007647 & 01 & 000005 & 2008-02-19 & 2013-09-22 & BAC   & 060505 & 2295677\\\\\n",
       "\t 007906 & 01 & 000005 & 2013-09-23 & NA & NKE   & 654106 & 2640147\\\\\n",
       "\t 008530 & 01 & 000005 & 2004-04-08 & NA & PFE   & 717081 & 2684703\\\\\n",
       "\t 008543 & 01 & 000005 & 1985-10-30 & 2008-02-18 & MO    & 02209S & 2692632\\\\\n",
       "\t 008762 & 01 & 000005 & 1932-05-26 & NA & PG    & 742718 & 2704407\\\\\n",
       "\t 009563 & 01 & 000005 & 1924-01-22 & 1999-10-31 & S.1   & 812387 & 2787312\\\\\n",
       "\t 009899 & 01 & 000005 & 1999-11-01 & 2015-03-18 & T     & 00206R & 2831811\\\\\n",
       "\t 010857 & 01 & 000005 & 1928-10-01 & 1999-10-31 & UK.1  & 905581 & NA     \\\\\n",
       "\t 010903 & 01 & 000005 & 2012-09-24 & NA & UNH   & 91324P & 2917766\\\\\n",
       "\t 010983 & 01 & 000005 & 1975-05-01 & NA & UTX   & 913017 & 2915500\\\\\n",
       "\t 011259 & 01 & 000005 & 1997-03-17 & NA & WMT   & 931142 & 2936921\\\\\n",
       "\t 011264 & 01 & 000005 & 2018-06-26 & NA & WBA   & 931427 & BTN1Y44\\\\\n",
       "\t 012141 & 01 & 000005 & 1999-11-01 & NA & MSFT  & 594918 & 2588173\\\\\n",
       "\t 020779 & 01 & 000005 & 2009-06-08 & NA & CSCO  & 17275R & 2198163\\\\\n",
       "\t 062689 & 05 & 000005 & 2009-06-08 & NA & TRV   & 89417E & 2769503\\\\\n",
       "\t 114628 & 01 & 000005 & 2013-09-23 & NA & GS    & 38141G & 2407966\\\\\n",
       "\t 142953 & 01 & 000005 & 2008-09-22 & 2012-09-23 & MDLZ  & 609207 & B8CKK03\\\\\n",
       "\t 179534 & 01 & 000005 & 2013-09-23 & NA & V     & 92826C & B2PZN04\\\\\n",
       "\\end{tabular}\n"
      ],
      "text/markdown": [
       "\n",
       "A data.table: 50 × 8\n",
       "\n",
       "| gvkey &lt;chr&gt; | iid &lt;chr&gt; | gvkeyx &lt;chr&gt; | from &lt;date&gt; | thru &lt;date&gt; | tic &lt;chr&gt; | cusip &lt;chr&gt; | sedol &lt;chr&gt; |\n",
       "|---|---|---|---|---|---|---|---|\n",
       "| 001300 | 01 | 000005 | 1925-12-07 | 2008-02-18 | HON   | 438516 | 2020459 |\n",
       "| 001356 | 01 | 000005 | 1959-06-01 | 2013-09-22 | AA.3  | 013817 | BYVZDB3 |\n",
       "| 001447 | 01 | 000005 | 1982-08-30 | NA | AXP   | 025816 | 2026082 |\n",
       "| 001487 | 01 | 000005 | 2004-04-08 | 2008-09-21 | AIG   | 026874 | 2027342 |\n",
       "| 001581 | 01 | 000005 | 1939-03-14 | 2004-04-07 | T.2   | 001957 | 2064888 |\n",
       "| 001690 | 01 | 000005 | 2015-03-19 | NA | AAPL  | 037833 | 2046251 |\n",
       "| 002136 | 01 | 000005 | 2004-04-08 | NA | VZ    | 92343V | 2090571 |\n",
       "| 002285 | 01 | 000005 | 1987-03-12 | NA | BA    | 097023 | 2108601 |\n",
       "| 002817 | 01 | 000005 | 1991-05-06 | NA | CAT   | 149123 | 2180201 |\n",
       "| 002968 | 01 | 000005 | 2001-01-02 | NA | JPM   | 46625H | 2190385 |\n",
       "| 002991 | 01 | 000005 | 1984-07-10 | 1999-10-31 | CVX   | 166764 | 2838555 |\n",
       "| 002991 | 01 | 000005 | 2008-02-19 | NA | CVX   | 166764 | 2838555 |\n",
       "| 003144 | 01 | 000005 | 1932-05-26 | NA | KO    | 191216 | 2206657 |\n",
       "| 003243 | 01 | 000005 | 1997-03-17 | 2009-06-07 | C     | 172967 | 2297907 |\n",
       "| 003980 | 01 | 000005 | 1991-05-06 | NA | DIS   | 254687 | 2270726 |\n",
       "| 004060 | 01 | 000005 | 2017-09-01 | 2019-04-01 | DWDP  | 26078J | BYP66M4 |\n",
       "| 004087 | 01 | 000005 | 1935-11-20 | 2017-08-31 | DD    | 263534 | 2018175 |\n",
       "| 004194 | 01 | 000005 | 1930-07-18 | 2004-04-07 | EKDKQ | 277461 | 2300601 |\n",
       "| 004503 | 01 | 000005 | 1928-10-01 | NA | XOM   | 30231G | 2326618 |\n",
       "| 005047 | 01 | 000005 | 1907-11-07 | 2018-06-25 | GE    | 369604 | 2380498 |\n",
       "| 005073 | 01 | 000005 | 1915-03-16 | 2009-06-07 | MTLQQ | 62010A | 2365804 |\n",
       "| 005234 | 01 | 000005 | 1930-07-18 | 1999-10-31 | GT    | 382550 | 2378200 |\n",
       "| 005606 | 01 | 000005 | 1997-03-17 | 2013-09-22 | HPQ   | 40434L | BYX4D52 |\n",
       "| 005680 | 01 | 000005 | 1999-11-01 | NA | HD    | 437076 | 2434209 |\n",
       "| 006008 | 01 | 000005 | 1999-11-01 | NA | INTC  | 458140 | 2463247 |\n",
       "| 006066 | 01 | 000005 | 1932-05-26 | NA | IBM   | 459200 | 2005973 |\n",
       "| 006104 | 01 | 000005 | 1956-07-03 | 2004-04-07 | IP    | 460146 | 2465254 |\n",
       "| 006266 | 01 | 000005 | 1997-03-17 | NA | JNJ   | 478160 | 2475833 |\n",
       "| 007154 | 01 | 000005 | 1985-10-30 | NA | MCD   | 580135 | 2550707 |\n",
       "| 007257 | 01 | 000005 | 1979-06-29 | NA | MRK   | 58933Y | 2778844 |\n",
       "| 007435 | 01 | 000005 | 1976-08-09 | NA | MMM   | 88579Y | 2595708 |\n",
       "| 007562 | 01 | 000005 | 1991-05-06 | 2001-01-01 | JPM.Z | 616880 | NA      |\n",
       "| 007647 | 01 | 000005 | 2008-02-19 | 2013-09-22 | BAC   | 060505 | 2295677 |\n",
       "| 007906 | 01 | 000005 | 2013-09-23 | NA | NKE   | 654106 | 2640147 |\n",
       "| 008530 | 01 | 000005 | 2004-04-08 | NA | PFE   | 717081 | 2684703 |\n",
       "| 008543 | 01 | 000005 | 1985-10-30 | 2008-02-18 | MO    | 02209S | 2692632 |\n",
       "| 008762 | 01 | 000005 | 1932-05-26 | NA | PG    | 742718 | 2704407 |\n",
       "| 009563 | 01 | 000005 | 1924-01-22 | 1999-10-31 | S.1   | 812387 | 2787312 |\n",
       "| 009899 | 01 | 000005 | 1999-11-01 | 2015-03-18 | T     | 00206R | 2831811 |\n",
       "| 010857 | 01 | 000005 | 1928-10-01 | 1999-10-31 | UK.1  | 905581 | NA      |\n",
       "| 010903 | 01 | 000005 | 2012-09-24 | NA | UNH   | 91324P | 2917766 |\n",
       "| 010983 | 01 | 000005 | 1975-05-01 | NA | UTX   | 913017 | 2915500 |\n",
       "| 011259 | 01 | 000005 | 1997-03-17 | NA | WMT   | 931142 | 2936921 |\n",
       "| 011264 | 01 | 000005 | 2018-06-26 | NA | WBA   | 931427 | BTN1Y44 |\n",
       "| 012141 | 01 | 000005 | 1999-11-01 | NA | MSFT  | 594918 | 2588173 |\n",
       "| 020779 | 01 | 000005 | 2009-06-08 | NA | CSCO  | 17275R | 2198163 |\n",
       "| 062689 | 05 | 000005 | 2009-06-08 | NA | TRV   | 89417E | 2769503 |\n",
       "| 114628 | 01 | 000005 | 2013-09-23 | NA | GS    | 38141G | 2407966 |\n",
       "| 142953 | 01 | 000005 | 2008-09-22 | 2012-09-23 | MDLZ  | 609207 | B8CKK03 |\n",
       "| 179534 | 01 | 000005 | 2013-09-23 | NA | V     | 92826C | B2PZN04 |\n",
       "\n"
      ],
      "text/plain": [
       "   gvkey  iid gvkeyx from       thru       tic   cusip  sedol  \n",
       "1  001300 01  000005 1925-12-07 2008-02-18 HON   438516 2020459\n",
       "2  001356 01  000005 1959-06-01 2013-09-22 AA.3  013817 BYVZDB3\n",
       "3  001447 01  000005 1982-08-30 <NA>       AXP   025816 2026082\n",
       "4  001487 01  000005 2004-04-08 2008-09-21 AIG   026874 2027342\n",
       "5  001581 01  000005 1939-03-14 2004-04-07 T.2   001957 2064888\n",
       "6  001690 01  000005 2015-03-19 <NA>       AAPL  037833 2046251\n",
       "7  002136 01  000005 2004-04-08 <NA>       VZ    92343V 2090571\n",
       "8  002285 01  000005 1987-03-12 <NA>       BA    097023 2108601\n",
       "9  002817 01  000005 1991-05-06 <NA>       CAT   149123 2180201\n",
       "10 002968 01  000005 2001-01-02 <NA>       JPM   46625H 2190385\n",
       "11 002991 01  000005 1984-07-10 1999-10-31 CVX   166764 2838555\n",
       "12 002991 01  000005 2008-02-19 <NA>       CVX   166764 2838555\n",
       "13 003144 01  000005 1932-05-26 <NA>       KO    191216 2206657\n",
       "14 003243 01  000005 1997-03-17 2009-06-07 C     172967 2297907\n",
       "15 003980 01  000005 1991-05-06 <NA>       DIS   254687 2270726\n",
       "16 004060 01  000005 2017-09-01 2019-04-01 DWDP  26078J BYP66M4\n",
       "17 004087 01  000005 1935-11-20 2017-08-31 DD    263534 2018175\n",
       "18 004194 01  000005 1930-07-18 2004-04-07 EKDKQ 277461 2300601\n",
       "19 004503 01  000005 1928-10-01 <NA>       XOM   30231G 2326618\n",
       "20 005047 01  000005 1907-11-07 2018-06-25 GE    369604 2380498\n",
       "21 005073 01  000005 1915-03-16 2009-06-07 MTLQQ 62010A 2365804\n",
       "22 005234 01  000005 1930-07-18 1999-10-31 GT    382550 2378200\n",
       "23 005606 01  000005 1997-03-17 2013-09-22 HPQ   40434L BYX4D52\n",
       "24 005680 01  000005 1999-11-01 <NA>       HD    437076 2434209\n",
       "25 006008 01  000005 1999-11-01 <NA>       INTC  458140 2463247\n",
       "26 006066 01  000005 1932-05-26 <NA>       IBM   459200 2005973\n",
       "27 006104 01  000005 1956-07-03 2004-04-07 IP    460146 2465254\n",
       "28 006266 01  000005 1997-03-17 <NA>       JNJ   478160 2475833\n",
       "29 007154 01  000005 1985-10-30 <NA>       MCD   580135 2550707\n",
       "30 007257 01  000005 1979-06-29 <NA>       MRK   58933Y 2778844\n",
       "31 007435 01  000005 1976-08-09 <NA>       MMM   88579Y 2595708\n",
       "32 007562 01  000005 1991-05-06 2001-01-01 JPM.Z 616880 NA     \n",
       "33 007647 01  000005 2008-02-19 2013-09-22 BAC   060505 2295677\n",
       "34 007906 01  000005 2013-09-23 <NA>       NKE   654106 2640147\n",
       "35 008530 01  000005 2004-04-08 <NA>       PFE   717081 2684703\n",
       "36 008543 01  000005 1985-10-30 2008-02-18 MO    02209S 2692632\n",
       "37 008762 01  000005 1932-05-26 <NA>       PG    742718 2704407\n",
       "38 009563 01  000005 1924-01-22 1999-10-31 S.1   812387 2787312\n",
       "39 009899 01  000005 1999-11-01 2015-03-18 T     00206R 2831811\n",
       "40 010857 01  000005 1928-10-01 1999-10-31 UK.1  905581 NA     \n",
       "41 010903 01  000005 2012-09-24 <NA>       UNH   91324P 2917766\n",
       "42 010983 01  000005 1975-05-01 <NA>       UTX   913017 2915500\n",
       "43 011259 01  000005 1997-03-17 <NA>       WMT   931142 2936921\n",
       "44 011264 01  000005 2018-06-26 <NA>       WBA   931427 BTN1Y44\n",
       "45 012141 01  000005 1999-11-01 <NA>       MSFT  594918 2588173\n",
       "46 020779 01  000005 2009-06-08 <NA>       CSCO  17275R 2198163\n",
       "47 062689 05  000005 2009-06-08 <NA>       TRV   89417E 2769503\n",
       "48 114628 01  000005 2013-09-23 <NA>       GS    38141G 2407966\n",
       "49 142953 01  000005 2008-09-22 2012-09-23 MDLZ  609207 B8CKK03\n",
       "50 179534 01  000005 2013-09-23 <NA>       V     92826C B2PZN04"
      ]
     },
     "metadata": {},
     "output_type": "display_data"
    }
   ],
   "source": [
    "ld(comp_idx_cst, ldtype='feather', path=WRDS_DOWNLOAD_DIR)\n",
    "ld(comp_security, ldtype='feather', path=WRDS_DOWNLOAD_DIR)\n",
    "\n",
    "# SDATE = as.Date('2005-01-01')\n",
    "# EDATE = as.Date('2018-12-31')\n",
    "\n",
    "# DJI\n",
    "dji_cst = unique(comp_idx_cst[gvkeyx=='000005'\n",
    "    ][comp_security[, .(gvkey, iid, tic, cusip=str_sub(cusip, 1, 6), sedol)], \n",
    "      on=.(gvkey, iid), nomatch=0])\n",
    "dji_cst\n",
    "sv(dji_cst)"
   ]
  },
  {
   "cell_type": "markdown",
   "metadata": {
    "toc-nb-collapsed": true
   },
   "source": [
    "# Y (CAR+SUE+Inflow+Revision)"
   ]
  },
  {
   "cell_type": "markdown",
   "metadata": {},
   "source": [
    "## gvkey <-> permno"
   ]
  },
  {
   "cell_type": "markdown",
   "metadata": {},
   "source": [
    "We'll use `ccm` to link these two variables.\n",
    "\n",
    "In the next cell, I:\n",
    "- only select \"primary\" links (LC,LU,LS) which are considered to be robust\n",
    "- fill missing `linkdt` and `linkenddt`\n",
    "- for every `gvkey`, only select its **first** issue."
   ]
  },
  {
   "cell_type": "code",
   "execution_count": 91,
   "metadata": {},
   "outputs": [
    {
     "name": "stdout",
     "output_type": "stream",
     "text": [
      "\"ccm.feather\" (3.1 MB) loaded (0.02 secs) (2021-03-01 2:27 AM)\n",
      "\"gvkey_permno_link\" saved as \"gvkey_permno_link.feather\" (312.9 KB) (0.01 secs, 2021-03-01 02:27:30)\n"
     ]
    }
   ],
   "source": [
    "# Last run: 2021-3-1\n",
    "\n",
    "ld(ccm, path=WRDS_DOWNLOAD_DIR, force=T)\n",
    "\n",
    "gvkey_permno_link = ccm[linktype %in% c('LC', 'LU', 'LS')\n",
    "    ][is.na(linkenddt) | linkenddt>=as.Date('2000-01-01'), \n",
    "     .(gvkey, lpermno, liid, linkdt, linkenddt)\n",
    "    ][is.na(linkenddt), ':='(linkenddt=today())\n",
    "    ][is.na(linkdt), ':='(linkdt=as.Date('1990-01-01'))\n",
    "    ][order(gvkey, liid)\n",
    "    ][, .SD[1], keyby=.(gvkey)\n",
    "    ][order(gvkey, linkdt)\n",
    "    ][, ':='(liid=NULL)] %>% \n",
    "    na.omit(cols=c('gvkey', 'lpermno')) %>% \n",
    "    unique(by=c('gvkey', 'lpermno'))\n",
    "sv(gvkey_permno_link)"
   ]
  },
  {
   "cell_type": "markdown",
   "metadata": {},
   "source": [
    "## call <-> release"
   ]
  },
  {
   "cell_type": "markdown",
   "metadata": {},
   "source": [
    "Task:\n",
    "- link call and release\n",
    "- method\n",
    "  1. For any release, find all the calls within the [-180d, 180d] window, get `dt_find_post_call`\n",
    "  2. For any call, find all the releases within the [-180d, 180d] window, get `dt_find_prev_release`\n",
    "  3. merge `dt_find_post_call` and `dt_find_prev_release`, get `call_release_link`\n",
    "  4. For every `call_keydevid`, find its **closest** **previous**`release_keydevid` within [-1d, 1d]\n",
    "\n",
    "Warnings:\n",
    "- In `call_release_link`:\n",
    "    - `call_keydevid` is unique key\n",
    "    - `release_keydevid` *not* unique key, because different calls may be matched to the *same* release.\n",
    "- In `ciq_wrds_keydev`, one `keydevid` may have multiple obs because it may corresponds to multiple `gvkey`\n",
    "\n",
    "Notes:\n",
    "- `keyeventtypeid`\n",
    "  - 28: earnings announcement\n",
    "  - 48: earnings calls\n",
    "  - 61: accnounce earnings release delay\n",
    "  \n"
   ]
  },
  {
   "cell_type": "code",
   "execution_count": 7,
   "metadata": {},
   "outputs": [
    {
     "name": "stdout",
     "output_type": "stream",
     "text": [
      "\"ciq_wrds_keydev\" (168.7 MB) already in .GlobalEnv, will NOT load again! (0 secs)\n",
      "\"ciq_keydev\" (899.8 MB) already in .GlobalEnv, will NOT load again! (0 secs)\n",
      "\"gvkey_permno_link\" (312.9 KB) already in .GlobalEnv, will NOT load again! (0 secs)\n",
      "\"sp500_cst\" (24.8 KB) already in .GlobalEnv, will NOT load again! (0 secs)\n"
     ]
    }
   ],
   "source": [
    "ld(ciq_wrds_keydev, path=WRDS_DOWNLOAD_DIR)\n",
    "ld(ciq_keydev, path=WRDS_DOWNLOAD_DIR)\n",
    "ld(gvkey_permno_link)\n",
    "ld(sp500_cst)"
   ]
  },
  {
   "cell_type": "code",
   "execution_count": 8,
   "metadata": {
    "scrolled": true
   },
   "outputs": [],
   "source": [
    "find_prev_release <- function(t, date, keydevid, keydeveventtypeid, companyname) {\n",
    "    # t: the row_id of one call\n",
    "    # n: the row_ids of the closet earnings release\n",
    "    ns = which((date>=(date[t]-180)) & (date<=date[t]+180) & (keydeveventtypeid==28))\n",
    "    if (length(ns) >= 1) { # has match\n",
    "        return(list('release_date' = date[ns],\n",
    "             'release_keydevid' = keydevid[ns],\n",
    "             'call_date' = date[rep(t, length(ns))],\n",
    "             'call_keydevid' = keydevid[rep(t, length(ns))],\n",
    "             'companyname' = companyname[ns]))\n",
    "    } else if (length(ns) == 0) {# fail to find a release\n",
    "        return(list('release_date' = ymd(NA),\n",
    "             'release_keydevid' = NA_real_,\n",
    "             'call_date' = date[t],\n",
    "             'call_keydevid' = keydevid[t],\n",
    "             'companyname' = companyname[1]))\n",
    "    }\n",
    "}\n",
    "\n",
    "dt_find_prev_release = ciq_wrds_keydev[!is.na(gvkey)\n",
    "    ][keydeveventtypeid %in% c(28, 48)\n",
    "    ][order(gvkey, mostimportantdateutc),\n",
    "      .(gvkey, date=as.Date(mostimportantdateutc), keydevid, keydeveventtypeid, companyname, eventtype)\n",
    "    ][, {ts = which(keydeveventtypeid==48)\n",
    "      lapply(ts, partial(find_prev_release, date=date, \n",
    "                           keydevid=keydevid, keydeveventtypeid=keydeveventtypeid,\n",
    "                           companyname=companyname)\n",
    "              ) %>% rbindlist(fill=T, use=T)\n",
    "     },\n",
    "     keyby=.(gvkey)\n",
    "    ]"
   ]
  },
  {
   "cell_type": "code",
   "execution_count": 9,
   "metadata": {
    "scrolled": true
   },
   "outputs": [],
   "source": [
    "find_post_call <- function(t, date, keydevid, keydeveventtypeid, companyname) {\n",
    "    # t: the row_id of one announcement\n",
    "    # ns: the row_id of the closest call\n",
    "    ns = which((date>=(date[t]-180)) & (date<=date[t]+180) & (keydeveventtypeid==48))\n",
    "    if (length(n) == 1) { # has match\n",
    "        return(list('call_date' = date[ns],\n",
    "             'call_keydevid' = keydevid[ns],\n",
    "             'release_date' = date[rep(t, length(ns))],\n",
    "             'release_keydevid' = keydevid[rep(t, length(ns))],\n",
    "             'companyname' = companyname[ns]))\n",
    "    } else if (length(n) == 0) {# fail to find a release\n",
    "        return(list('call_date' = ymd(NA),\n",
    "             'call_keydevid' = NA_real_,\n",
    "             'release_date' = date[t],\n",
    "             'release_keydevid' = keydevid[t],\n",
    "             'companyname' = companyname[1]))\n",
    "    }\n",
    "}\n",
    "\n",
    "dt_find_post_call = ciq_wrds_keydev[!is.na(gvkey)\n",
    "    ][keydeveventtypeid %in% c(28, 48)\n",
    "    ][order(gvkey, mostimportantdateutc),\n",
    "      .(gvkey, date=as.Date(mostimportantdateutc), keydevid, keydeveventtypeid, companyname, eventtype)\n",
    "    ][, {ts = which(keydeveventtypeid==28)\n",
    "      lapply(ts, partial(find_post_call, date=date, \n",
    "                           keydevid=keydevid, keydeveventtypeid=keydeveventtypeid,\n",
    "                           companyname=companyname)\n",
    "            ) %>% rbindlist(fill=T, use=T)\n",
    "     },\n",
    "     keyby=.(gvkey)\n",
    "    ]"
   ]
  },
  {
   "cell_type": "code",
   "execution_count": 10,
   "metadata": {
    "scrolled": true
   },
   "outputs": [
    {
     "name": "stdout",
     "output_type": "stream",
     "text": [
      "35524 (114.45%) calls have been sucessfully matched with release event in range [-1d,1d].\n",
      "\n",
      "\"call_release_link\" saved as \"call_release_link.feather\" (1.1 MB) (0.01 secs)\n"
     ]
    },
    {
     "data": {
      "text/html": [
       "<table>\n",
       "<caption>A data.table: 1 × 7</caption>\n",
       "<thead>\n",
       "\t<tr><th scope=col>call_keydevid</th><th scope=col>gvkey</th><th scope=col>call_date</th><th scope=col>release_date</th><th scope=col>release_keydevid</th><th scope=col>companyname</th><th scope=col>nday_release_lead</th></tr>\n",
       "\t<tr><th scope=col>&lt;dbl&gt;</th><th scope=col>&lt;chr&gt;</th><th scope=col>&lt;date&gt;</th><th scope=col>&lt;date&gt;</th><th scope=col>&lt;dbl&gt;</th><th scope=col>&lt;chr&gt;</th><th scope=col>&lt;drtn&gt;</th></tr>\n",
       "</thead>\n",
       "<tbody>\n",
       "\t<tr><td>3101633</td><td>014489</td><td>2008-02-28</td><td>2008-02-28</td><td>5219816</td><td>Dell Technologies Inc.</td><td>0 days</td></tr>\n",
       "</tbody>\n",
       "</table>\n"
      ],
      "text/latex": [
       "A data.table: 1 × 7\n",
       "\\begin{tabular}{lllllll}\n",
       " call\\_keydevid & gvkey & call\\_date & release\\_date & release\\_keydevid & companyname & nday\\_release\\_lead\\\\\n",
       " <dbl> & <chr> & <date> & <date> & <dbl> & <chr> & <drtn>\\\\\n",
       "\\hline\n",
       "\t 3101633 & 014489 & 2008-02-28 & 2008-02-28 & 5219816 & Dell Technologies Inc. & 0 days\\\\\n",
       "\\end{tabular}\n"
      ],
      "text/markdown": [
       "\n",
       "A data.table: 1 × 7\n",
       "\n",
       "| call_keydevid &lt;dbl&gt; | gvkey &lt;chr&gt; | call_date &lt;date&gt; | release_date &lt;date&gt; | release_keydevid &lt;dbl&gt; | companyname &lt;chr&gt; | nday_release_lead &lt;drtn&gt; |\n",
       "|---|---|---|---|---|---|---|\n",
       "| 3101633 | 014489 | 2008-02-28 | 2008-02-28 | 5219816 | Dell Technologies Inc. | 0 days |\n",
       "\n"
      ],
      "text/plain": [
       "  call_keydevid gvkey  call_date  release_date release_keydevid\n",
       "1 3101633       014489 2008-02-28 2008-02-28   5219816         \n",
       "  companyname            nday_release_lead\n",
       "1 Dell Technologies Inc. 0 days           "
      ]
     },
     "metadata": {},
     "output_type": "display_data"
    }
   ],
   "source": [
    "call_release_link = unique(na.omit(rbindlist(list(dt_find_post_call, dt_find_prev_release), use=T)))[order(gvkey, release_date)\n",
    "    ][(gvkey %in% sp500_cst$gvkey) & (call_date %between% c(ymd('2008-01-01'), ymd('2020-12-31')))\n",
    "    ][, ':='(nday_release_lead=call_date-release_date)\n",
    "    ][nday_release_lead %between% c(-1, 1)\n",
    "    ][order(call_keydevid, nday_release_lead)\n",
    "    ][, head(.SD,1), keyby=.(call_keydevid)]\n",
    "\n",
    "n_identified_call = call_release_link[, uniqueN(call_keydevid)]\n",
    "cat(sprintf(\"%s calls have been sucessfully matched with release event in range [-1d,1d].\\n\\n\", n_identified_call))\n",
    "\n",
    "sv(call_release_link)\n",
    "call_release_link[1]"
   ]
  },
  {
   "cell_type": "markdown",
   "metadata": {},
   "source": [
    "## inflow"
   ]
  },
  {
   "cell_type": "code",
   "execution_count": 20,
   "metadata": {},
   "outputs": [
    {
     "name": "stdout",
     "output_type": "stream",
     "text": [
      "\"inflow\" saved as \"inflow.feather\" (19.9 MB) (0.18 secs)\n"
     ]
    },
    {
     "data": {
      "text/html": [
       "<table>\n",
       "<caption>A data.table: 1 × 4</caption>\n",
       "<thead>\n",
       "\t<tr><th scope=col>permno</th><th scope=col>report_dt</th><th scope=col>mv</th><th scope=col>inflow</th></tr>\n",
       "\t<tr><th scope=col>&lt;chr&gt;</th><th scope=col>&lt;date&gt;</th><th scope=col>&lt;dbl&gt;</th><th scope=col>&lt;dbl&gt;</th></tr>\n",
       "</thead>\n",
       "<tbody>\n",
       "\t<tr><td>10001</td><td>2002-11-30</td><td>0</td><td>0</td></tr>\n",
       "</tbody>\n",
       "</table>\n"
      ],
      "text/latex": [
       "A data.table: 1 × 4\n",
       "\\begin{tabular}{llll}\n",
       " permno & report\\_dt & mv & inflow\\\\\n",
       " <chr> & <date> & <dbl> & <dbl>\\\\\n",
       "\\hline\n",
       "\t 10001 & 2002-11-30 & 0 & 0\\\\\n",
       "\\end{tabular}\n"
      ],
      "text/markdown": [
       "\n",
       "A data.table: 1 × 4\n",
       "\n",
       "| permno &lt;chr&gt; | report_dt &lt;date&gt; | mv &lt;dbl&gt; | inflow &lt;dbl&gt; |\n",
       "|---|---|---|---|\n",
       "| 10001 | 2002-11-30 | 0 | 0 |\n",
       "\n"
      ],
      "text/plain": [
       "  permno report_dt  mv inflow\n",
       "1 10001  2002-11-30 0  0     "
      ]
     },
     "metadata": {},
     "output_type": "display_data"
    }
   ],
   "source": [
    "# inflow: in millions of dollars\n",
    "inflow = crsp_holdings[!is.na(permno)\n",
    "    ][, ':='(permno=as.character(permno))\n",
    "    ][, .(mv=sum(market_val, na.rm=T)), keyby=.(permno, report_dt)\n",
    "    ][order(permno, report_dt)\n",
    "    ][, ':='(inflow=(mv-shift(mv))/1e6), keyby=permno\n",
    "    ][!is.na(inflow)]\n",
    "sv(inflow)\n",
    "\n",
    "inflow[1]"
   ]
  },
  {
   "cell_type": "markdown",
   "metadata": {},
   "source": [
    "## revision"
   ]
  },
  {
   "cell_type": "markdown",
   "metadata": {},
   "source": [
    "Task:\n",
    "- $revision = \\frac{EPS_{new} - EPS_{previous}}{\\text{stock price 2 days before revision}}*100$\n",
    "- compute revision of year-end earnings for the current FY, resutling in `revision`\n",
    "- create `ibtic_gvkey_link` where `ibtic` is unique and one `gvkey` may have multiple `ibtic` matches\n",
    "- add `gvkey` to `revision`"
   ]
  },
  {
   "cell_type": "code",
   "execution_count": 29,
   "metadata": {},
   "outputs": [
    {
     "name": "stdout",
     "output_type": "stream",
     "text": [
      "\"ibes_det_epsus\" (1002.7 MB) already in .GlobalEnv, will NOT load again! (0 secs)\n",
      "\"comp_security\" (4.5 MB) already in .GlobalEnv, will NOT load again! (0 secs)\n",
      "\"comp_secd\" (6.5 GB) already in .GlobalEnv, will NOT load again! (0 secs)\n"
     ]
    }
   ],
   "source": [
    "ld(ibes_det_epsus, path=WRDS_DOWNLOAD_DIR)\n",
    "ld(comp_security, path=WRDS_DOWNLOAD_DIR) # stock ids\n",
    "ld(comp_secd, path=WRDS_DOWNLOAD_DIR)"
   ]
  },
  {
   "cell_type": "code",
   "execution_count": 30,
   "metadata": {},
   "outputs": [],
   "source": [
    "ibtic_gvkey_link = comp_security[!is.na(ibtic) & excntry=='USA', .(ibtic, gvkey, iid, dldtei)]\n",
    "comp_secd_link = comp_secd[, .(gvkey, iid, price_date=datadate, price=prccd, join_date=datadate+2)]"
   ]
  },
  {
   "cell_type": "code",
   "execution_count": 31,
   "metadata": {},
   "outputs": [],
   "source": [
    "ibes = ibes_det_epsus[anndats %between% c(ymd('2007-01-01'), ymd('2020-12-31')) & !is.na(cusip) & measure=='EPS' & usfirm==1 & fpi %in% c(1), \n",
    "     .(ticker, cname, anndats, revdats, fpedats, analys, pdf, fpi, value)\n",
    "    ][order(analys, ticker, fpedats, anndats), ':='(join_date=anndats)\n",
    "    ][ibtic_gvkey_link, on=.(ticker=ibtic), nomatch=NULL]\n",
    "\n",
    "revision = comp_secd_link[ibes, on=.(gvkey, iid, join_date), roll=T, nomatch=NULL\n",
    "    ][is.na(dldtei) | (!is.na(dldtei) & dldtei>=anndats)\n",
    "    ][, ':='(join_date=NULL, dldtei=NULL)\n",
    "    ][anndats-price_date<=30\n",
    "    ][order(analys, ticker, fpedats, anndats)\n",
    "    ][, .(gvkey, anndats, revdats, pdf, value, revision=(value-shift(value))/price*100), \n",
    "      keyby=.(analys, ticker, fpedats)\n",
    "    ][!is.na(revision)\n",
    "    ][revision %between% c(quantile(revision, 0.005), quantile(revision, 0.995))]"
   ]
  },
  {
   "cell_type": "code",
   "execution_count": 32,
   "metadata": {},
   "outputs": [
    {
     "data": {
      "text/plain": [
       "      Min.    1st Qu.     Median       Mean    3rd Qu.       Max. \n",
       "-128.80583   -0.34351   -0.01539   -0.64624    0.18900   58.96226 "
      ]
     },
     "metadata": {},
     "output_type": "display_data"
    }
   ],
   "source": [
    "revision[, summary(revision)]"
   ]
  },
  {
   "cell_type": "code",
   "execution_count": 33,
   "metadata": {},
   "outputs": [
    {
     "name": "stdout",
     "output_type": "stream",
     "text": [
      "\"revision\" saved as \"revision.feather\" (46.9 MB) (1.74 secs)\n"
     ]
    }
   ],
   "source": [
    "sv(revision)"
   ]
  },
  {
   "cell_type": "markdown",
   "metadata": {},
   "source": [
    "## retail"
   ]
  },
  {
   "cell_type": "markdown",
   "metadata": {},
   "source": [
    "Last update: 2021-03-01\n",
    "\n",
    "Steps:\n",
    "- Compute retail-tracking.sas in WRDS Cloud\n",
    "- Download `taq-crsp-link` from WRDS Cloud\n",
    "- Join"
   ]
  },
  {
   "cell_type": "code",
   "execution_count": 2,
   "metadata": {},
   "outputs": [
    {
     "data": {
      "text/html": [
       "<table class=\"dataframe\">\n",
       "<caption>A data.table: 1 × 5</caption>\n",
       "<thead>\n",
       "\t<tr><th scope=col>permno</th><th scope=col>date</th><th scope=col>symbol</th><th scope=col>cusip</th><th scope=col>match_lvl</th></tr>\n",
       "\t<tr><th scope=col>&lt;dbl&gt;</th><th scope=col>&lt;date&gt;</th><th scope=col>&lt;chr&gt;</th><th scope=col>&lt;chr&gt;</th><th scope=col>&lt;dbl&gt;</th></tr>\n",
       "</thead>\n",
       "<tbody>\n",
       "\t<tr><td>87432</td><td>2003-09-10</td><td>A</td><td>00846U10</td><td>1</td></tr>\n",
       "</tbody>\n",
       "</table>\n"
      ],
      "text/latex": [
       "A data.table: 1 × 5\n",
       "\\begin{tabular}{lllll}\n",
       " permno & date & symbol & cusip & match\\_lvl\\\\\n",
       " <dbl> & <date> & <chr> & <chr> & <dbl>\\\\\n",
       "\\hline\n",
       "\t 87432 & 2003-09-10 & A & 00846U10 & 1\\\\\n",
       "\\end{tabular}\n"
      ],
      "text/markdown": [
       "\n",
       "A data.table: 1 × 5\n",
       "\n",
       "| permno &lt;dbl&gt; | date &lt;date&gt; | symbol &lt;chr&gt; | cusip &lt;chr&gt; | match_lvl &lt;dbl&gt; |\n",
       "|---|---|---|---|---|\n",
       "| 87432 | 2003-09-10 | A | 00846U10 | 1 |\n",
       "\n"
      ],
      "text/plain": [
       "  permno date       symbol cusip    match_lvl\n",
       "1 87432  2003-09-10 A      00846U10 1        "
      ]
     },
     "metadata": {},
     "output_type": "display_data"
    }
   ],
   "source": [
    "# ----------------------------\n",
    "# Link table: TAQ <-> CUSIP\n",
    "# ----------------------------\n",
    "taq_crsp_link_daily = read_sas('data/Retail tracking/taq-crsp-link-daily.sas7bdat')%>%as.data.table()\n",
    "\n",
    "taq_crsp_link_daily = taq_crsp_link_daily[, .(permno=PERMNO, date=DATE, symbol=SYM_ROOT, cusip=CUSIP, match_lvl=MATCH_LVL)]\n",
    "\n",
    "taq_crsp_link_daily[1]"
   ]
  },
  {
   "cell_type": "code",
   "execution_count": 3,
   "metadata": {},
   "outputs": [],
   "source": [
    "# ----------------------------\n",
    "# read: retail trades\n",
    "# ----------------------------\n",
    "\n",
    "read_retail <- function(filename, if_monthly=T) {\n",
    "    x = read_sas(sprintf('data/Retail tracking/retail_%s.sas7bdat', filename)\n",
    "                ) %>% as.data.table()\n",
    "    if (!if_monthly) {\n",
    "        setnames(x, 'SYM_ROOT', 'SYMBOL')\n",
    "    }\n",
    "    setnames(x, names(x), tolower(names(x)))\n",
    "    x\n",
    "}\n",
    "\n",
    "library(haven)\n",
    "\n",
    "retail_2007_2009 = read_retail('2007_2009')\n",
    "retail_2010_2012 = read_retail('2010_2012')\n",
    "retail_2013 = read_retail('2013')\n",
    "retail_2014 = read_retail('2014')\n",
    "\n",
    "retail_2015_2016 = read_retail('2015_2016', F)\n",
    "retail_2017 = read_retail('2017', F)\n",
    "retail_2018 = read_retail('2018', F)\n",
    "retail_2018 = read_retail('2019_2020', F)\n",
    "\n",
    "\n",
    "retail = rbindlist(list(retail_2007_2009, retail_2010_2012, \n",
    "                        retail_2013, retail_2014, retail_2015_2016, \n",
    "                        retail_2017, retail_2018), fill=T)"
   ]
  },
  {
   "cell_type": "code",
   "execution_count": 4,
   "metadata": {},
   "outputs": [
    {
     "name": "stdout",
     "output_type": "stream",
     "text": [
      "\"gvkey_permno_link.feather\" (312.9 KB) loaded (0.02 secs) (2021-03-01 1:53 PM)\n",
      "\"retail\" saved as \"retail.feather\" (173.3 MB) (1.84 secs, 2021-03-01 13:54:01)\n"
     ]
    }
   ],
   "source": [
    "# -------------------------------\n",
    "# Add: retail trades <-> `permno`\n",
    "# -------------------------------\n",
    "retail_cusip = retail[taq_crsp_link_daily, on=.(symbol, date), nomatch=NULL\n",
    "    ][order(symbol, date, match_lvl)]\n",
    "\n",
    "# -------------------------------\n",
    "# Add: <-> `gvkey`\n",
    "# -------------------------------\n",
    "ld(gvkey_permno_link)\n",
    "\n",
    "retail = gvkey_permno_link[retail_cusip, \n",
    "      on=c('lpermno==permno'), nomatch=NULL\n",
    "    ][date>=linkdt & date<=linkenddt, \n",
    "      .(gvkey, date, total_vol, retail_buy_vol, retail_sell_vol)\n",
    "    ][, lapply(.SD, sum, na.rm=T), keyby=.(gvkey, date)]\n",
    "\n",
    "sv(retail)"
   ]
  },
  {
   "cell_type": "markdown",
   "metadata": {},
   "source": [
    "## SUE"
   ]
  },
  {
   "cell_type": "markdown",
   "metadata": {},
   "source": [
    "Primary key\n",
    "- [`gvkey`, `rdq`]\n",
    "- total obs: 43,822\n",
    "- N of unique PK: 43,815\n",
    "\n",
    "Variable Description\n",
    "- `datadate`(COMP): End Date of Earnings Report(earlier than `rdq` and `repdats`)\n",
    "- `fyearq`(COMP): fiscal year\n",
    "- `fyr`(COMP): fiscal year - end month\n",
    "- `fqtr`(COMP): fiscal quarter\n",
    "    - only in [1, 2, 3, 4]\n",
    "    - *no \"year-end\" earnings*\n",
    "- `repdats`(IBES): Report Date of Quarterly Earnigns\n",
    "- `rdq`(COMP): Report Date of Quarterly Earnings\n",
    "- `leadrdq`(COMP): Report Date of NEXT Quarter's Earnings\n",
    "\n",
    "- `numest`: Number of Forecasts\n",
    "- `smedest`: standard median forecast (based on estimates in the 90 days prior to the EAD), = medest/price_close\n",
    "- `sstdest`: standard error of Forecasts, = stdest/price_close\n",
    "- `basis`: Whether most analysts report estimates on primary(P) / diluted(D)\n",
    "- `act`(IBES): actual earnings\n",
    "- `se`(COMP): Standard Earnings (=act/price_close)\n",
    "- `sest`: Standard Estimates (= se-sue = est/price_close)\n",
    "- `sue1`: SUE based on a rolling seasonal random walk model (LM,p. 185)\n",
    "- `sue2`: SUE accounting for  exclusion of special items\n",
    "- `sue3`: SUE based on IBES reported analyst forecasts and actuals  \n",
    "\n",
    "- `mcap`: Market Cap"
   ]
  },
  {
   "cell_type": "code",
   "execution_count": 1,
   "metadata": {
    "scrolled": true
   },
   "outputs": [
    {
     "name": "stdout",
     "output_type": "stream",
     "text": [
      "\"sue_final.feather\" loaded as \"sue\" (0.04 secs)\n",
      "\"sue\" saved as \"sue.feather\" (4.4 MB) (0.05 secs)\n"
     ]
    },
    {
     "data": {
      "text/html": [
       "<table>\n",
       "<caption>A data.table: 1 × 24</caption>\n",
       "<thead>\n",
       "\t<tr><th scope=col>gvkey</th><th scope=col>ticker</th><th scope=col>permno</th><th scope=col>conm</th><th scope=col>fyearq</th><th scope=col>fqtr</th><th scope=col>datadate</th><th scope=col>fyr</th><th scope=col>rdq</th><th scope=col>rdq1</th><th scope=col>leadrdq1</th><th scope=col>repdats</th><th scope=col>mcap</th><th scope=col>act</th><th scope=col>numest</th><th scope=col>basis</th><th scope=col>sue1</th><th scope=col>sue2</th><th scope=col>sue3</th><th scope=col>se</th><th scope=col>sest</th><th scope=col>price_close</th><th scope=col>smedest</th><th scope=col>sstdest</th></tr>\n",
       "\t<tr><th scope=col>&lt;chr&gt;</th><th scope=col>&lt;chr&gt;</th><th scope=col>&lt;chr&gt;</th><th scope=col>&lt;chr&gt;</th><th scope=col>&lt;dbl&gt;</th><th scope=col>&lt;dbl&gt;</th><th scope=col>&lt;date&gt;</th><th scope=col>&lt;dbl&gt;</th><th scope=col>&lt;date&gt;</th><th scope=col>&lt;date&gt;</th><th scope=col>&lt;date&gt;</th><th scope=col>&lt;date&gt;</th><th scope=col>&lt;dbl&gt;</th><th scope=col>&lt;dbl&gt;</th><th scope=col>&lt;dbl&gt;</th><th scope=col>&lt;chr&gt;</th><th scope=col>&lt;dbl&gt;</th><th scope=col>&lt;dbl&gt;</th><th scope=col>&lt;dbl&gt;</th><th scope=col>&lt;dbl&gt;</th><th scope=col>&lt;dbl&gt;</th><th scope=col>&lt;dbl&gt;</th><th scope=col>&lt;dbl&gt;</th><th scope=col>&lt;dbl&gt;</th></tr>\n",
       "</thead>\n",
       "<tbody>\n",
       "\t<tr><td>001013</td><td>ADCT</td><td>50906</td><td>ADCTELECOMMUNICATIONSINC</td><td>2010</td><td>4</td><td>2010-09-30</td><td>9</td><td>2010-11-23</td><td>2010-11-23</td><td>2011-01-31</td><td>2010-11-23</td><td>1231.524</td><td>0.15</td><td>1</td><td>D</td><td>NA</td><td>NA</td><td>-0.000789266</td><td>0.01183899</td><td>0.01262826</td><td>12.67</td><td>0.01262826</td><td>NA</td></tr>\n",
       "</tbody>\n",
       "</table>\n"
      ],
      "text/latex": [
       "A data.table: 1 × 24\n",
       "\\begin{tabular}{llllllllllllllllllllllll}\n",
       " gvkey & ticker & permno & conm & fyearq & fqtr & datadate & fyr & rdq & rdq1 & leadrdq1 & repdats & mcap & act & numest & basis & sue1 & sue2 & sue3 & se & sest & price\\_close & smedest & sstdest\\\\\n",
       " <chr> & <chr> & <chr> & <chr> & <dbl> & <dbl> & <date> & <dbl> & <date> & <date> & <date> & <date> & <dbl> & <dbl> & <dbl> & <chr> & <dbl> & <dbl> & <dbl> & <dbl> & <dbl> & <dbl> & <dbl> & <dbl>\\\\\n",
       "\\hline\n",
       "\t 001013 & ADCT & 50906 & ADCTELECOMMUNICATIONSINC & 2010 & 4 & 2010-09-30 & 9 & 2010-11-23 & 2010-11-23 & 2011-01-31 & 2010-11-23 & 1231.524 & 0.15 & 1 & D & NA & NA & -0.000789266 & 0.01183899 & 0.01262826 & 12.67 & 0.01262826 & NA\\\\\n",
       "\\end{tabular}\n"
      ],
      "text/markdown": [
       "\n",
       "A data.table: 1 × 24\n",
       "\n",
       "| gvkey &lt;chr&gt; | ticker &lt;chr&gt; | permno &lt;chr&gt; | conm &lt;chr&gt; | fyearq &lt;dbl&gt; | fqtr &lt;dbl&gt; | datadate &lt;date&gt; | fyr &lt;dbl&gt; | rdq &lt;date&gt; | rdq1 &lt;date&gt; | leadrdq1 &lt;date&gt; | repdats &lt;date&gt; | mcap &lt;dbl&gt; | act &lt;dbl&gt; | numest &lt;dbl&gt; | basis &lt;chr&gt; | sue1 &lt;dbl&gt; | sue2 &lt;dbl&gt; | sue3 &lt;dbl&gt; | se &lt;dbl&gt; | sest &lt;dbl&gt; | price_close &lt;dbl&gt; | smedest &lt;dbl&gt; | sstdest &lt;dbl&gt; |\n",
       "|---|---|---|---|---|---|---|---|---|---|---|---|---|---|---|---|---|---|---|---|---|---|---|---|\n",
       "| 001013 | ADCT | 50906 | ADCTELECOMMUNICATIONSINC | 2010 | 4 | 2010-09-30 | 9 | 2010-11-23 | 2010-11-23 | 2011-01-31 | 2010-11-23 | 1231.524 | 0.15 | 1 | D | NA | NA | -0.000789266 | 0.01183899 | 0.01262826 | 12.67 | 0.01262826 | NA |\n",
       "\n"
      ],
      "text/plain": [
       "  gvkey  ticker permno conm                     fyearq fqtr datadate   fyr\n",
       "1 001013 ADCT   50906  ADCTELECOMMUNICATIONSINC 2010   4    2010-09-30 9  \n",
       "  rdq        rdq1       leadrdq1   repdats    mcap     act  numest basis sue1\n",
       "1 2010-11-23 2010-11-23 2011-01-31 2010-11-23 1231.524 0.15 1      D     NA  \n",
       "  sue2 sue3         se         sest       price_close smedest    sstdest\n",
       "1 NA   -0.000789266 0.01183899 0.01262826 12.67       0.01262826 NA     "
      ]
     },
     "metadata": {},
     "output_type": "display_data"
    }
   ],
   "source": [
    "ld('sue_final', ldname='sue', force=T)\n",
    "\n",
    "sue[, ':='(permno=as.character(permno),\n",
    "           sest=se-sue3,\n",
    "           price_close=act/se)\n",
    "    ][, ':='(smedest=medest/price_close,\n",
    "             sstdest=stdest/price_close)\n",
    "    ][, ':='(stdest=NULL, medest=NULL)]\n",
    "\n",
    "sue[1]\n",
    "sv(sue)"
   ]
  },
  {
   "cell_type": "markdown",
   "metadata": {
    "toc-hr-collapsed": true
   },
   "source": [
    "## CAR"
   ]
  },
  {
   "cell_type": "markdown",
   "metadata": {},
   "source": [
    "### prepare event list"
   ]
  },
  {
   "cell_type": "markdown",
   "metadata": {},
   "source": [
    "Compute the CAR based on the following two event types: (1) earnings announcment; (2) earnings call. Do as follows:\n",
    "\n",
    "1. Create a dataset where the first col is `permno` and the second is `event_date`.\n",
    "2. Use a Python script (`compute-car.ipynb`) to compute CAR"
   ]
  },
  {
   "cell_type": "code",
   "execution_count": 2,
   "metadata": {},
   "outputs": [
    {
     "name": "stdout",
     "output_type": "stream",
     "text": [
      "\"ciq_wrds_keydev.feather\" (168.7 MB) loaded (3.3 secs)\n",
      "\"gvkey_permno_link.feather\" (312.9 KB) loaded (0.01 secs)\n",
      "\"sp500_cst.feather\" (24.8 KB) loaded (0 secs)\n"
     ]
    }
   ],
   "source": [
    "ld(ciq_wrds_keydev, path=WRDS_DOWNLOAD_DIR)\n",
    "ld(gvkey_permno_link)\n",
    "ld(sp500_cst)"
   ]
  },
  {
   "cell_type": "code",
   "execution_count": 4,
   "metadata": {},
   "outputs": [],
   "source": [
    "event_samples = ciq_wrds_keydev[gvkey_permno_link, on=.(gvkey), nomatch=0\n",
    "    ][as.Date(mostimportantdateutc)>linkdt & as.Date(mostimportantdateutc)<linkenddt\n",
    "    ][as.Date(mostimportantdateutc) >= as.Date('2000-01-01')\n",
    "    ][gvkey %in% sp500_cst[, unique(gvkey)]\n",
    "    ][, ':='(linkdt=NULL, linkenddt=NULL)]"
   ]
  },
  {
   "cell_type": "markdown",
   "metadata": {},
   "source": [
    "Then we generate two event samples:\n",
    "- `event_samples_earnings_call`: the earnings CALL (type 48)\n",
    "- `event_samples_earnings_announce`: the earnings announcement (type28)"
   ]
  },
  {
   "cell_type": "code",
   "execution_count": 5,
   "metadata": {},
   "outputs": [],
   "source": [
    "event_samples_test = event_samples[\n",
    "      mostimportantdateutc>ymd('2019-10-01')\n",
    "    ][keydeveventtypeid==48,\n",
    "     .(permno=lpermno, edate=format(mostimportantdateutc, '%m/%d/%Y'))\n",
    "    ][order(permno, edate)\n",
    "    ] %>% unique()\n",
    "\n",
    "toJSON(event_samples_test, pretty=T) %>% write('data/CAR/event_samples_test.json')"
   ]
  },
  {
   "cell_type": "code",
   "execution_count": 6,
   "metadata": {},
   "outputs": [],
   "source": [
    "event_samples_earnings_call = event_samples[keydeveventtypeid==48,\n",
    "     .(permno=lpermno, edate=format(mostimportantdateutc, '%m/%d/%Y'))\n",
    "    ][order(permno, edate)] %>% unique()\n",
    "\n",
    "toJSON(event_samples_earnings_call, pretty=T) %>% write('data/CAR/event_samples_earnings_call.json')\n",
    "\n",
    "event_samples_earnings_announce = event_samples[keydeveventtypeid==28,\n",
    "     .(permno=lpermno, edate=format(mostimportantdateutc, '%m/%d/%Y'))\n",
    "    ][order(permno, edate)] %>% unique()\n",
    "\n",
    "toJSON(event_samples_earnings_announce, pretty=T) %>% write('data/CAR/event_samples_earnings_announce.json')"
   ]
  },
  {
   "cell_type": "markdown",
   "metadata": {},
   "source": [
    "### ==>"
   ]
  },
  {
   "cell_type": "markdown",
   "metadata": {},
   "source": [
    "> The ret/car are also in *decimals*\n",
    "\n",
    "Output these variabls:\n",
    "- `CAR[-1,-1]`\n",
    "- `CAR[-2,-2]`\n",
    "- `CAR[-30,-3]`\n",
    "- `CAR[0,1]`\n",
    "- `CAR[0,30]`\n",
    "- `alpha[-125,-31]`\n",
    "- `volatility[-125, -31]`"
   ]
  },
  {
   "cell_type": "code",
   "execution_count": 7,
   "metadata": {
    "scrolled": true
   },
   "outputs": [
    {
     "name": "stdout",
     "output_type": "stream",
     "text": [
      "\"cars_30d_call.feather\" (76.3 MB) loaded as \"car\" (0.25 secs)\n",
      "\"car\" saved as \"car.feather\" (8.8 MB) (0.04 secs)\n"
     ]
    },
    {
     "data": {
      "text/html": [
       "<table>\n",
       "<caption>A data.table: 1 × 22</caption>\n",
       "<thead>\n",
       "\t<tr><th scope=col>permno</th><th scope=col>edate</th><th scope=col>car_m1_m1</th><th scope=col>car_m2_m2</th><th scope=col>car_m30_m3</th><th scope=col>car_0_1</th><th scope=col>car_0_10</th><th scope=col>car_0_20</th><th scope=col>car_0_30</th><th scope=col>ret_m30_m3</th><th scope=col>ret_m2_m2</th><th scope=col>ret_m1_m1</th><th scope=col>ret_0_1</th><th scope=col>ret_0_10</th><th scope=col>ret_0_20</th><th scope=col>ret_0_30</th><th scope=col>alpha</th><th scope=col>beta_mktrf</th><th scope=col>beta_smb</th><th scope=col>beta_hml</th><th scope=col>volatility</th><th scope=col>volatility2</th></tr>\n",
       "\t<tr><th scope=col>&lt;chr&gt;</th><th scope=col>&lt;date&gt;</th><th scope=col>&lt;dbl&gt;</th><th scope=col>&lt;dbl&gt;</th><th scope=col>&lt;dbl&gt;</th><th scope=col>&lt;dbl&gt;</th><th scope=col>&lt;dbl&gt;</th><th scope=col>&lt;dbl&gt;</th><th scope=col>&lt;dbl&gt;</th><th scope=col>&lt;dbl&gt;</th><th scope=col>&lt;dbl&gt;</th><th scope=col>&lt;dbl&gt;</th><th scope=col>&lt;dbl&gt;</th><th scope=col>&lt;dbl&gt;</th><th scope=col>&lt;dbl&gt;</th><th scope=col>&lt;dbl&gt;</th><th scope=col>&lt;dbl&gt;</th><th scope=col>&lt;dbl&gt;</th><th scope=col>&lt;dbl&gt;</th><th scope=col>&lt;dbl&gt;</th><th scope=col>&lt;dbl&gt;</th><th scope=col>&lt;dbl&gt;</th></tr>\n",
       "</thead>\n",
       "<tbody>\n",
       "\t<tr><td>10078</td><td>2004-10-15</td><td>-0.002767933</td><td>0.005908036</td><td>-0.005490097</td><td>-0.009563919</td><td>0.08891284</td><td>0.07693825</td><td>0.1722624</td><td>0.05167966</td><td>-0.01228506</td><td>-0.0124378</td><td>0</td><td>0.1335013</td><td>0.2241814</td><td>0.3879094</td><td>-0.0005621021</td><td>1.351072</td><td>2.327937</td><td>-0.3718033</td><td>0.0332523</td><td>0.03211976</td></tr>\n",
       "</tbody>\n",
       "</table>\n"
      ],
      "text/latex": [
       "A data.table: 1 × 22\n",
       "\\begin{tabular}{llllllllllllllllllllll}\n",
       " permno & edate & car\\_m1\\_m1 & car\\_m2\\_m2 & car\\_m30\\_m3 & car\\_0\\_1 & car\\_0\\_10 & car\\_0\\_20 & car\\_0\\_30 & ret\\_m30\\_m3 & ret\\_m2\\_m2 & ret\\_m1\\_m1 & ret\\_0\\_1 & ret\\_0\\_10 & ret\\_0\\_20 & ret\\_0\\_30 & alpha & beta\\_mktrf & beta\\_smb & beta\\_hml & volatility & volatility2\\\\\n",
       " <chr> & <date> & <dbl> & <dbl> & <dbl> & <dbl> & <dbl> & <dbl> & <dbl> & <dbl> & <dbl> & <dbl> & <dbl> & <dbl> & <dbl> & <dbl> & <dbl> & <dbl> & <dbl> & <dbl> & <dbl> & <dbl>\\\\\n",
       "\\hline\n",
       "\t 10078 & 2004-10-15 & -0.002767933 & 0.005908036 & -0.005490097 & -0.009563919 & 0.08891284 & 0.07693825 & 0.1722624 & 0.05167966 & -0.01228506 & -0.0124378 & 0 & 0.1335013 & 0.2241814 & 0.3879094 & -0.0005621021 & 1.351072 & 2.327937 & -0.3718033 & 0.0332523 & 0.03211976\\\\\n",
       "\\end{tabular}\n"
      ],
      "text/markdown": [
       "\n",
       "A data.table: 1 × 22\n",
       "\n",
       "| permno &lt;chr&gt; | edate &lt;date&gt; | car_m1_m1 &lt;dbl&gt; | car_m2_m2 &lt;dbl&gt; | car_m30_m3 &lt;dbl&gt; | car_0_1 &lt;dbl&gt; | car_0_10 &lt;dbl&gt; | car_0_20 &lt;dbl&gt; | car_0_30 &lt;dbl&gt; | ret_m30_m3 &lt;dbl&gt; | ret_m2_m2 &lt;dbl&gt; | ret_m1_m1 &lt;dbl&gt; | ret_0_1 &lt;dbl&gt; | ret_0_10 &lt;dbl&gt; | ret_0_20 &lt;dbl&gt; | ret_0_30 &lt;dbl&gt; | alpha &lt;dbl&gt; | beta_mktrf &lt;dbl&gt; | beta_smb &lt;dbl&gt; | beta_hml &lt;dbl&gt; | volatility &lt;dbl&gt; | volatility2 &lt;dbl&gt; |\n",
       "|---|---|---|---|---|---|---|---|---|---|---|---|---|---|---|---|---|---|---|---|---|---|\n",
       "| 10078 | 2004-10-15 | -0.002767933 | 0.005908036 | -0.005490097 | -0.009563919 | 0.08891284 | 0.07693825 | 0.1722624 | 0.05167966 | -0.01228506 | -0.0124378 | 0 | 0.1335013 | 0.2241814 | 0.3879094 | -0.0005621021 | 1.351072 | 2.327937 | -0.3718033 | 0.0332523 | 0.03211976 |\n",
       "\n"
      ],
      "text/plain": [
       "  permno edate      car_m1_m1    car_m2_m2   car_m30_m3   car_0_1     \n",
       "1 10078  2004-10-15 -0.002767933 0.005908036 -0.005490097 -0.009563919\n",
       "  car_0_10   car_0_20   car_0_30  ret_m30_m3 ret_m2_m2   ret_m1_m1  ret_0_1\n",
       "1 0.08891284 0.07693825 0.1722624 0.05167966 -0.01228506 -0.0124378 0      \n",
       "  ret_0_10  ret_0_20  ret_0_30  alpha         beta_mktrf beta_smb beta_hml  \n",
       "1 0.1335013 0.2241814 0.3879094 -0.0005621021 1.351072   2.327937 -0.3718033\n",
       "  volatility volatility2\n",
       "1 0.0332523  0.03211976 "
      ]
     },
     "metadata": {},
     "output_type": "display_data"
    }
   ],
   "source": [
    "ld(cars_30d_call, ldname='car', path='data/CAR', force=T)\n",
    "\n",
    "car = car[, ':='(permno=as.character(permno))\n",
    "    ][order(permno, edate, rdate)\n",
    "    ][, .(car_m1_m1=abret[isevt==1 & evttime==-1],\n",
    "          car_m2_m2=abret[isevt==1 & evttime==-2],\n",
    "          car_m30_m3=sum(abret[isevt==1 & evttime %between% c(-30,-3)], na.rm=T),\n",
    "          \n",
    "          car_0_1=sum(abret[isevt==1 & evttime %between% c(0,1)], na.rm=T),\n",
    "          car_0_10=sum(abret[isevt==1 & evttime %between% c(0,10)], na.rm=T),\n",
    "          car_0_20=sum(abret[isevt==1 & evttime %between% c(0,20)], na.rm=T),\n",
    "          car_0_30=sum(abret[isevt==1 & evttime %between% c(0,30)], na.rm=T),\n",
    "          \n",
    "          ret_m30_m3=prod(1+ret[isevt==1 & evttime %between% c(-30, -3)], na.rm=T)-1,\n",
    "          ret_m2_m2=prod(1+ret[isevt==1 & evttime==-2], na.rm=T)-1,\n",
    "          ret_m1_m1=prod(1+ret[isevt==1 & evttime==-1], na.rm=T)-1,\n",
    "          \n",
    "          ret_0_1=ret[isevt==1 & evttime %between% c(0,1)],\n",
    "          ret_0_10=prod(1+ret[isevt==1 & evttime %between% c(0,10)], na.rm=T)-1,\n",
    "          ret_0_20=prod(1+ret[isevt==1 & evttime %between% c(0,20)], na.rm=T)-1,\n",
    "          ret_0_30=prod(1+ret[isevt==1 & evttime %between% c(0,30)], na.rm=T)-1,\n",
    "          \n",
    "          alpha=alpha[isevt==1 & evttime==0],\n",
    "          beta_mktrf=beta_mktrf[isevt==1 & evttime==0],\n",
    "          beta_smb=beta_smb[isevt==1 & evttime==0],\n",
    "          beta_hml=beta_hml[isevt==1 & evttime==0],\n",
    "          volatility=sd(ret[isevt==0], na.rm=T), # sd(ret[-125,-1])\n",
    "          volatility2=sd(ret[isevt==0 & evttime %between% c(95, 125)], na.rm=T)), # sd(ret[-30,-1])\n",
    "      keyby=.(permno, edate)]\n",
    "\n",
    "car[1]\n",
    "sv(car)"
   ]
  },
  {
   "cell_type": "markdown",
   "metadata": {
    "toc-hr-collapsed": true
   },
   "source": [
    "# X (transcripts)"
   ]
  },
  {
   "cell_type": "markdown",
   "metadata": {},
   "source": [
    "## Clean ciq_transcript_detail"
   ]
  },
  {
   "cell_type": "markdown",
   "metadata": {},
   "source": [
    "Task:\n",
    "- Check if there are unknown `transcriptcollectiontypeid`"
   ]
  },
  {
   "cell_type": "code",
   "execution_count": 4,
   "metadata": {},
   "outputs": [
    {
     "name": "stdout",
     "output_type": "stream",
     "text": [
      "\"sp500_cst\" (24.8 KB) already in .GlobalEnv, will NOT load again! (0 secs)\n",
      "\"call_release_link\" (1.1 MB) already in .GlobalEnv, will NOT load again! (0 secs)\n",
      "\"gvkey_permno_link\" (312.9 KB) already in .GlobalEnv, will NOT load again! (0 secs)\n",
      "\"ciq_transcript_detail.feather\" (54.6 MB) loaded (1.87 secs)\n",
      "\"ciq_transcript_component.feather\" (25 GB) loaded (4.52 mins)\n",
      "\"ciq_wrds_gvkey.feather\" (3.7 MB) loaded (0.12 secs)\n"
     ]
    }
   ],
   "source": [
    "ld(sp500_cst)\n",
    "ld(call_release_link)\n",
    "ld(gvkey_permno_link)\n",
    "ld(ciq_transcript_detail, path=WRDS_DOWNLOAD_DIR)\n",
    "ld(ciq_transcript_component, path=WRDS_DOWNLOAD_DIR)\n",
    "ld(ciq_wrds_gvkey, path=WRDS_DOWNLOAD_DIR)"
   ]
  },
  {
   "cell_type": "code",
   "execution_count": 5,
   "metadata": {
    "scrolled": true
   },
   "outputs": [
    {
     "name": "stdout",
     "output_type": "stream",
     "text": [
      "All `transcriptcollectiontypeid` are known"
     ]
    }
   ],
   "source": [
    "version_in_data = ciq_transcript_detail[, unique(transcriptcollectiontypeid)]\n",
    "if (sum(!(version_in_data %in% c(8, 1, 2, 7, 11, 10, 6, 9, 13))) > 0) {\n",
    "    cat('Unknown `transcriptcollectiontypeid` in data!!!')\n",
    "} else {cat('All `transcriptcollectiontypeid` are known')}"
   ]
  },
  {
   "cell_type": "markdown",
   "metadata": {},
   "source": [
    "Task 1: For every `keydevid`, select one `transcriptid` (which believed to be most precise)\n",
    "- Check: priority order of \"audited > proofed > edited > spellchecked\"\n",
    "- We only analyze SP500\n",
    "\n",
    "\n",
    "Task 2: \n",
    "- Add `ciq_wrds_gvkey:gvkey` to `ciq_transcript_detail`\n",
    "  - merge `ciq_wrds_gvkey` and `ciq_transcript_detail_sp500` by `companyid`\n",
    "  - one `companyid` may corresp to multiple `gvkey`, we kee ALL the matches\n",
    "\n",
    "Task 3: \n",
    "- Add `size`, `bw_adj`, and `mom` from `dgtw` to `ciq_transcript_detail_sp500`\n",
    "\n",
    "Warnings:\n",
    "> In the final `f_ciq_transcript_detail_sp500`:\n",
    ">   - `transcriptid` and `keydevid` are one-to-one mapped\n",
    ">   - unique keys: `['transcriptid', 'gvkey']` or `['keydevid', 'gvkey']`\n",
    ">   - n_row: 35593\n",
    ">   - unique_n_row: 35077"
   ]
  },
  {
   "cell_type": "code",
   "execution_count": 6,
   "metadata": {
    "scrolled": true
   },
   "outputs": [
    {
     "data": {
      "text/html": [
       "38195"
      ],
      "text/latex": [
       "38195"
      ],
      "text/markdown": [
       "38195"
      ],
      "text/plain": [
       "[1] 38195"
      ]
     },
     "metadata": {},
     "output_type": "display_data"
    },
    {
     "data": {
      "text/html": [
       "<table>\n",
       "<caption>A data.table: 1 × 20</caption>\n",
       "<thead>\n",
       "\t<tr><th scope=col>keydevid</th><th scope=col>companyid</th><th scope=col>transcriptid</th><th scope=col>headline</th><th scope=col>mostimportantdateutc</th><th scope=col>keydeveventtypeid</th><th scope=col>keydeveventtypename</th><th scope=col>companyname</th><th scope=col>transcriptcollectiontypeid</th><th scope=col>transcriptcollectiontypename</th><th scope=col>transcriptpresentationtypeid</th><th scope=col>transcriptpresentationtypename</th><th scope=col>transcriptcreationdate_utc</th><th scope=col>transcriptcreationtime_utc</th><th scope=col>audiolengthsec</th><th scope=col>isdelayed_flag</th><th scope=col>delayreasontypeid</th><th scope=col>delayreasontypename</th><th scope=col>latest_transcript_version</th><th scope=col>gvkey</th></tr>\n",
       "\t<tr><th scope=col>&lt;dbl&gt;</th><th scope=col>&lt;dbl&gt;</th><th scope=col>&lt;dbl&gt;</th><th scope=col>&lt;chr&gt;</th><th scope=col>&lt;date&gt;</th><th scope=col>&lt;dbl&gt;</th><th scope=col>&lt;chr&gt;</th><th scope=col>&lt;chr&gt;</th><th scope=col>&lt;dbl&gt;</th><th scope=col>&lt;chr&gt;</th><th scope=col>&lt;dbl&gt;</th><th scope=col>&lt;chr&gt;</th><th scope=col>&lt;date&gt;</th><th scope=col>&lt;dbl&gt;</th><th scope=col>&lt;dbl&gt;</th><th scope=col>&lt;dbl&gt;</th><th scope=col>&lt;dbl&gt;</th><th scope=col>&lt;chr&gt;</th><th scope=col>&lt;dbl&gt;</th><th scope=col>&lt;chr&gt;</th></tr>\n",
       "</thead>\n",
       "<tbody>\n",
       "\t<tr><td>4855823</td><td>18671</td><td>504</td><td>Albemarle Corp., Q3 2007 Earnings Call, Oct-23-2007</td><td>2007-10-23</td><td>48</td><td>Earnings Calls</td><td>Albemarle Corporation</td><td>6</td><td>SA Edited Copy</td><td>5</td><td>Final</td><td>2008-06-20</td><td>1898</td><td>NA</td><td>0</td><td>NA</td><td>NA</td><td>6</td><td>029751</td></tr>\n",
       "</tbody>\n",
       "</table>\n"
      ],
      "text/latex": [
       "A data.table: 1 × 20\n",
       "\\begin{tabular}{llllllllllllllllllll}\n",
       " keydevid & companyid & transcriptid & headline & mostimportantdateutc & keydeveventtypeid & keydeveventtypename & companyname & transcriptcollectiontypeid & transcriptcollectiontypename & transcriptpresentationtypeid & transcriptpresentationtypename & transcriptcreationdate\\_utc & transcriptcreationtime\\_utc & audiolengthsec & isdelayed\\_flag & delayreasontypeid & delayreasontypename & latest\\_transcript\\_version & gvkey\\\\\n",
       " <dbl> & <dbl> & <dbl> & <chr> & <date> & <dbl> & <chr> & <chr> & <dbl> & <chr> & <dbl> & <chr> & <date> & <dbl> & <dbl> & <dbl> & <dbl> & <chr> & <dbl> & <chr>\\\\\n",
       "\\hline\n",
       "\t 4855823 & 18671 & 504 & Albemarle Corp., Q3 2007 Earnings Call, Oct-23-2007 & 2007-10-23 & 48 & Earnings Calls & Albemarle Corporation & 6 & SA Edited Copy & 5 & Final & 2008-06-20 & 1898 & NA & 0 & NA & NA & 6 & 029751\\\\\n",
       "\\end{tabular}\n"
      ],
      "text/markdown": [
       "\n",
       "A data.table: 1 × 20\n",
       "\n",
       "| keydevid &lt;dbl&gt; | companyid &lt;dbl&gt; | transcriptid &lt;dbl&gt; | headline &lt;chr&gt; | mostimportantdateutc &lt;date&gt; | keydeveventtypeid &lt;dbl&gt; | keydeveventtypename &lt;chr&gt; | companyname &lt;chr&gt; | transcriptcollectiontypeid &lt;dbl&gt; | transcriptcollectiontypename &lt;chr&gt; | transcriptpresentationtypeid &lt;dbl&gt; | transcriptpresentationtypename &lt;chr&gt; | transcriptcreationdate_utc &lt;date&gt; | transcriptcreationtime_utc &lt;dbl&gt; | audiolengthsec &lt;dbl&gt; | isdelayed_flag &lt;dbl&gt; | delayreasontypeid &lt;dbl&gt; | delayreasontypename &lt;chr&gt; | latest_transcript_version &lt;dbl&gt; | gvkey &lt;chr&gt; |\n",
       "|---|---|---|---|---|---|---|---|---|---|---|---|---|---|---|---|---|---|---|---|\n",
       "| 4855823 | 18671 | 504 | Albemarle Corp., Q3 2007 Earnings Call, Oct-23-2007 | 2007-10-23 | 48 | Earnings Calls | Albemarle Corporation | 6 | SA Edited Copy | 5 | Final | 2008-06-20 | 1898 | NA | 0 | NA | NA | 6 | 029751 |\n",
       "\n"
      ],
      "text/plain": [
       "  keydevid companyid transcriptid\n",
       "1 4855823  18671     504         \n",
       "  headline                                            mostimportantdateutc\n",
       "1 Albemarle Corp., Q3 2007 Earnings Call, Oct-23-2007 2007-10-23          \n",
       "  keydeveventtypeid keydeveventtypename companyname          \n",
       "1 48                Earnings Calls      Albemarle Corporation\n",
       "  transcriptcollectiontypeid transcriptcollectiontypename\n",
       "1 6                          SA Edited Copy              \n",
       "  transcriptpresentationtypeid transcriptpresentationtypename\n",
       "1 5                            Final                         \n",
       "  transcriptcreationdate_utc transcriptcreationtime_utc audiolengthsec\n",
       "1 2008-06-20                 1898                       NA            \n",
       "  isdelayed_flag delayreasontypeid delayreasontypename\n",
       "1 0              NA                NA                 \n",
       "  latest_transcript_version gvkey \n",
       "1 6                         029751"
      ]
     },
     "metadata": {},
     "output_type": "display_data"
    },
    {
     "name": "stdout",
     "output_type": "stream",
     "text": [
      "\"f_ciq_transcript_detail_sp500\" saved as \"f_ciq_transcript_detail_sp500.feather\" (2.4 MB) (0.05 secs)\n"
     ]
    }
   ],
   "source": [
    "latest_transcriptcollectiontypeid = ciq_transcript_detail[\n",
    "     (keydeveventtypeid==48) & \n",
    "     (companyid %in% ciq_wrds_gvkey[gvkey %in% sp500_cst$gvkey, companyid])\n",
    "    ][, { \n",
    "      latest_transcript_version = NA_real_\n",
    "      for (tid in c(8, 1, 2, 7)) {\n",
    "         if (tid %in% transcriptcollectiontypeid) {\n",
    "             latest_transcript_version = tid\n",
    "             break\n",
    "         } else { \n",
    "         for (tid in c(11, 10, 6, 9, 13)) {\n",
    "             if (tid %in% transcriptcollectiontypeid) {\n",
    "                 latest_transcript_version = tid \n",
    "                 break\n",
    "             }\n",
    "         }}\n",
    "      } \n",
    "      list(latest_transcript_version=latest_transcript_version)  \n",
    "      }, \n",
    "      keyby=.(keydevid)]\n",
    "\n",
    "f_ciq_transcript_detail_sp500 = ciq_transcript_detail[     \n",
    "     (keydeveventtypeid==48) & \n",
    "     (companyid %in% ciq_wrds_gvkey[gvkey %in% sp500_cst$gvkey, companyid])\n",
    "    ][latest_transcriptcollectiontypeid, on=.(keydevid), nomatch=0\n",
    "    ][transcriptcollectiontypeid==latest_transcript_version\n",
    "    ][order(keydevid, -transcriptcreationdate_utc, -transcriptcreationtime_utc)\n",
    "    ][, .SD[1],\n",
    "      keyby=.(keydevid)\n",
    "    ][unique(ciq_wrds_gvkey[, .(companyid, gvkey)], by=c('companyid', 'gvkey')),\n",
    "      on=.(companyid),\n",
    "      nomatch=0\n",
    "    ] %>% unique()\n",
    "\n",
    "f_ciq_transcript_detail_sp500[, .N]\n",
    "f_ciq_transcript_detail_sp500[1]\n",
    "sv(f_ciq_transcript_detail_sp500)"
   ]
  },
  {
   "cell_type": "markdown",
   "metadata": {},
   "source": [
    "Task:\n",
    "- check All `f_ciq_transcript_detail_sp500:transcriptid` are identified in `ciq_transcript_component:transcriptid`"
   ]
  },
  {
   "cell_type": "code",
   "execution_count": 7,
   "metadata": {},
   "outputs": [
    {
     "name": "stdout",
     "output_type": "stream",
     "text": [
      "All `f_ciq_transcript_detail_sp500:transcriptid` are identified in `ciq_transcript_component:transcriptid`"
     ]
    }
   ],
   "source": [
    "if (sum(f_ciq_transcript_detail_sp500[, transcriptid] %in% ciq_transcript_component[, unique(transcriptid)]) == nrow(f_ciq_transcript_detail_sp500)) {\n",
    "    cat('All `f_ciq_transcript_detail_sp500:transcriptid` are identified in `ciq_transcript_component:transcriptid`')\n",
    "} else {cat('Unknown `transcriptid` found in f_ciq_transcript_detail_sp500')}"
   ]
  },
  {
   "cell_type": "markdown",
   "metadata": {},
   "source": [
    "## Clean ciq_transcript_component"
   ]
  },
  {
   "cell_type": "markdown",
   "metadata": {},
   "source": [
    "Task:\n",
    "> Select obs in `ciq_transcript_component` where `ciq_transcript_component:transcriptid` in `f_ciq_transcript_detail_sp500:transcriptid`\n",
    ">\n",
    "> Save results to `f_ciq_transcript_component_sp500`\n",
    ">\n",
    "> The output will be used in `C-preEncode.ipynb`: Section 3 (Sentencized)"
   ]
  },
  {
   "cell_type": "code",
   "execution_count": 9,
   "metadata": {},
   "outputs": [
    {
     "name": "stdout",
     "output_type": "stream",
     "text": [
      "\"f_ciq_transcript_detail_sp500\" (2.4 MB) already in .GlobalEnv, will NOT load again! (0 secs)\n"
     ]
    }
   ],
   "source": [
    "ld(f_ciq_transcript_detail_sp500)"
   ]
  },
  {
   "cell_type": "code",
   "execution_count": 10,
   "metadata": {},
   "outputs": [
    {
     "name": "stdout",
     "output_type": "stream",
     "text": [
      "\"ciq_transcript_component\" (25 GB) already in .GlobalEnv, will NOT load again! (0 secs)\n",
      "\"f_ciq_transcript_detail_sp500\" (2.4 MB) already in .GlobalEnv, will NOT load again! (0 secs)\n"
     ]
    }
   ],
   "source": [
    "ld(ciq_transcript_component, path=WRDS_DOWNLOAD_DIR)\n",
    "ld(f_ciq_transcript_detail_sp500)"
   ]
  },
  {
   "cell_type": "code",
   "execution_count": 11,
   "metadata": {},
   "outputs": [],
   "source": [
    "f_ciq_transcript_component_sp500 = ciq_transcript_component[\n",
    "     transcriptid %in% f_ciq_transcript_detail_sp500$transcriptid\n",
    "    ][order(transcriptid, componentorder)]"
   ]
  },
  {
   "cell_type": "code",
   "execution_count": 12,
   "metadata": {},
   "outputs": [
    {
     "name": "stdout",
     "output_type": "stream",
     "text": [
      "\"f_ciq_transcript_component_sp500\" saved as \"f_ciq_transcript_component_sp500.feather\" (975 MB) (6.68 secs)\n"
     ]
    }
   ],
   "source": [
    "sv(f_ciq_transcript_component_sp500)"
   ]
  },
  {
   "cell_type": "code",
   "execution_count": 13,
   "metadata": {},
   "outputs": [
    {
     "data": {
      "text/html": [
       "2896041"
      ],
      "text/latex": [
       "2896041"
      ],
      "text/markdown": [
       "2896041"
      ],
      "text/plain": [
       "[1] 2896041"
      ]
     },
     "metadata": {},
     "output_type": "display_data"
    },
    {
     "data": {
      "text/html": [
       "2896041"
      ],
      "text/latex": [
       "2896041"
      ],
      "text/markdown": [
       "2896041"
      ],
      "text/plain": [
       "[1] 2896041"
      ]
     },
     "metadata": {},
     "output_type": "display_data"
    }
   ],
   "source": [
    "f_ciq_transcript_component_sp500[, .N]\n",
    "f_ciq_transcript_component_sp500[, uniqueN(transcriptcomponentid)]"
   ]
  },
  {
   "cell_type": "code",
   "execution_count": 14,
   "metadata": {},
   "outputs": [
    {
     "name": "stdout",
     "output_type": "stream",
     "text": [
      "\"f_ciq_transcript_component_sp500\" saved as \"f_ciq_transcript_component_sp500.feather\" (975 MB) (6.7 secs)\n"
     ]
    }
   ],
   "source": [
    "# write component to disk for Python to sentencize\n",
    "sv(f_ciq_transcript_component_sp500)"
   ]
  },
  {
   "cell_type": "code",
   "execution_count": 15,
   "metadata": {},
   "outputs": [
    {
     "data": {
      "text/html": [
       "37630"
      ],
      "text/latex": [
       "37630"
      ],
      "text/markdown": [
       "37630"
      ],
      "text/plain": [
       "[1] 37630"
      ]
     },
     "metadata": {},
     "output_type": "display_data"
    }
   ],
   "source": [
    "f_ciq_transcript_component_sp500[, uniqueN(transcriptid)]"
   ]
  },
  {
   "cell_type": "markdown",
   "metadata": {},
   "source": [
    "## Prepare input for spaCy"
   ]
  },
  {
   "cell_type": "markdown",
   "metadata": {},
   "source": [
    "> Warnings\n",
    ">\n",
    "> `transcriptcomponentid` doesn't necessarily follow the correct order of speech. You must use `componentorder` to have the correct order "
   ]
  },
  {
   "cell_type": "code",
   "execution_count": 2,
   "metadata": {},
   "outputs": [
    {
     "name": "stdout",
     "output_type": "stream",
     "text": [
      "\"f_ciq_transcript_component_sp500.feather\" (975 MB) loaded (14.18 secs)\n",
      "\"ciq_transcript_speaker.feather\" (7.8 GB) loaded (2.48 mins)\n",
      "\"ciq_transcript_detail.feather\" (54.6 MB) loaded (0.95 secs)\n"
     ]
    }
   ],
   "source": [
    "ld(f_ciq_transcript_component_sp500)\n",
    "ld(ciq_transcript_speaker, path=WRDS_DOWNLOAD_DIR)\n",
    "ld(ciq_transcript_detail, path=WRDS_DOWNLOAD_DIR)"
   ]
  },
  {
   "cell_type": "code",
   "execution_count": 3,
   "metadata": {},
   "outputs": [
    {
     "name": "stdout",
     "output_type": "stream",
     "text": [
      "\"text_component_sp500\" saved as \"text_component_sp500.feather\" (978 MB) (6.34 secs)\n"
     ]
    }
   ],
   "source": [
    "# Combine \"transcript_speaker\" and \"transcript_detail\" \n",
    "text_component_sp500 = ciq_transcript_speaker[, .(transcriptcomponentid, speakertypeid)\n",
    "    ][f_ciq_transcript_component_sp500, on=.(transcriptcomponentid)]\n",
    "\n",
    "sv(text_component_sp500)"
   ]
  },
  {
   "cell_type": "code",
   "execution_count": null,
   "metadata": {},
   "outputs": [],
   "source": [
    "# Warnings:\n",
    "#  This methods is deprecated. Concatination no longer needed \n",
    "\n",
    "# Concat all components that share the same transcriptid,\n",
    "# split by ' [EOC] ' (End Of Component)\n",
    "# [EOC] is safe because I did a full text check in f_ciq_transcript_component_sp500 and \n",
    "# no occurance found.\n",
    "text_component_sp500 = text_component_sp500[order(transcriptid, componentorder)\n",
    "    ][, .(componentorder=list(componentorder),\n",
    "          componentid=list(transcriptcomponentid),\n",
    "          componenttypeid=list(transcriptcomponenttypeid),\n",
    "          speakerid=list(transcriptpersonid),\n",
    "          speakertypeid=list(speakertypeid),\n",
    "          text=str_c(componenttext, collapse=' [EOC] ')),\n",
    "      keyby=.(transcriptid)]"
   ]
  },
  {
   "cell_type": "code",
   "execution_count": 26,
   "metadata": {},
   "outputs": [
    {
     "name": "stdout",
     "output_type": "stream",
     "text": [
      "\"text_component_sp500\" saved as \"text_component_sp500.feather\" (971.8 MB) (5.18 secs)\n"
     ]
    }
   ],
   "source": [
    "sv(text_component_sp500)"
   ]
  },
  {
   "cell_type": "markdown",
   "metadata": {},
   "source": [
    "# (X,Y)"
   ]
  },
  {
   "cell_type": "markdown",
   "metadata": {},
   "source": [
    "## filter `sue`"
   ]
  },
  {
   "cell_type": "markdown",
   "metadata": {},
   "source": [
    "Task:\n",
    "- remove obs from `sue` where `act` is NA\n",
    "\n",
    "Filter:\n",
    "- `sue[!is.na(act)]`   44690->42307\n",
    "\n",
    "Notes:\n",
    "- `sue` is computed for the SP500 universe\n",
    "- ~500 obs in `f_sue` has NA `sue3` because`numest=0`\n",
    "- some `lagrdq1` in `f_sue` are NA\n",
    "- I divide `mcap` by 1000\n",
    "    \n",
    "Warnings\n",
    "- Because we need *lead-one earnings*, the last obs of each `gvkey` is removed. \n",
    "- Therefore `f_sue` will have *LESS* obs than `sue`\n",
    "- the latest `rdq` in `f_sue` is *2019-10-13* (updated: 2020-2-5)\n",
    "- When computing `se_lead1`, you MUST use price at `t`, not simply shifting future `se` backward:`se_lead1=se_(t+1)/price_close_(t)`"
   ]
  },
  {
   "cell_type": "code",
   "execution_count": 11,
   "metadata": {},
   "outputs": [
    {
     "name": "stdout",
     "output_type": "stream",
     "text": [
      "\"sue.feather\" (4.4 MB) loaded (0.02 secs, 2021-02-26 17:27:21)\n",
      "\"sp500_cst.feather\" (24.8 KB) loaded (0 secs, 2021-02-26 17:27:21)\n"
     ]
    }
   ],
   "source": [
    "ld(sue, force=T)\n",
    "ld(sp500_cst, force=T)"
   ]
  },
  {
   "cell_type": "code",
   "execution_count": 12,
   "metadata": {
    "scrolled": true
   },
   "outputs": [
    {
     "name": "stdout",
     "output_type": "stream",
     "text": [
      "N sue: 45849\n",
      "N f_sue: 43579\n",
      "\"f_sue\" saved as \"f_sue.feather\" (3.2 MB) (0.03 secs, 2021-02-26 17:27:22)\n"
     ]
    },
    {
     "data": {
      "text/html": [
       "<table class=\"dataframe\">\n",
       "<caption>A data.table: 1 × 20</caption>\n",
       "<thead>\n",
       "\t<tr><th scope=col>gvkey</th><th scope=col>permno</th><th scope=col>datadate</th><th scope=col>fyearq</th><th scope=col>fqtr</th><th scope=col>fyr</th><th scope=col>rdq</th><th scope=col>rdq1</th><th scope=col>repdats</th><th scope=col>lagrdq1</th><th scope=col>leadrdq1</th><th scope=col>mcap</th><th scope=col>act</th><th scope=col>smedest</th><th scope=col>numest</th><th scope=col>sstdest</th><th scope=col>sue</th><th scope=col>se</th><th scope=col>sest</th><th scope=col>price_close</th></tr>\n",
       "\t<tr><th scope=col>&lt;chr&gt;</th><th scope=col>&lt;chr&gt;</th><th scope=col>&lt;date&gt;</th><th scope=col>&lt;dbl&gt;</th><th scope=col>&lt;dbl&gt;</th><th scope=col>&lt;dbl&gt;</th><th scope=col>&lt;date&gt;</th><th scope=col>&lt;date&gt;</th><th scope=col>&lt;date&gt;</th><th scope=col>&lt;date&gt;</th><th scope=col>&lt;date&gt;</th><th scope=col>&lt;dbl&gt;</th><th scope=col>&lt;dbl&gt;</th><th scope=col>&lt;dbl&gt;</th><th scope=col>&lt;dbl&gt;</th><th scope=col>&lt;dbl&gt;</th><th scope=col>&lt;dbl&gt;</th><th scope=col>&lt;dbl&gt;</th><th scope=col>&lt;dbl&gt;</th><th scope=col>&lt;dbl&gt;</th></tr>\n",
       "</thead>\n",
       "<tbody>\n",
       "\t<tr><td>001013</td><td>50906</td><td>2005-01-31</td><td>2005</td><td>1</td><td>10</td><td>2005-02-28</td><td>2005-02-28</td><td>2005-02-28</td><td>NA</td><td>2005-06-01</td><td>7.64057</td><td>0.01</td><td>0.003891051</td><td>8</td><td>0</td><td>0</td><td>0.003891051</td><td>0.003891051</td><td>2.57</td></tr>\n",
       "</tbody>\n",
       "</table>\n"
      ],
      "text/latex": [
       "A data.table: 1 × 20\n",
       "\\begin{tabular}{llllllllllllllllllll}\n",
       " gvkey & permno & datadate & fyearq & fqtr & fyr & rdq & rdq1 & repdats & lagrdq1 & leadrdq1 & mcap & act & smedest & numest & sstdest & sue & se & sest & price\\_close\\\\\n",
       " <chr> & <chr> & <date> & <dbl> & <dbl> & <dbl> & <date> & <date> & <date> & <date> & <date> & <dbl> & <dbl> & <dbl> & <dbl> & <dbl> & <dbl> & <dbl> & <dbl> & <dbl>\\\\\n",
       "\\hline\n",
       "\t 001013 & 50906 & 2005-01-31 & 2005 & 1 & 10 & 2005-02-28 & 2005-02-28 & 2005-02-28 & NA & 2005-06-01 & 7.64057 & 0.01 & 0.003891051 & 8 & 0 & 0 & 0.003891051 & 0.003891051 & 2.57\\\\\n",
       "\\end{tabular}\n"
      ],
      "text/markdown": [
       "\n",
       "A data.table: 1 × 20\n",
       "\n",
       "| gvkey &lt;chr&gt; | permno &lt;chr&gt; | datadate &lt;date&gt; | fyearq &lt;dbl&gt; | fqtr &lt;dbl&gt; | fyr &lt;dbl&gt; | rdq &lt;date&gt; | rdq1 &lt;date&gt; | repdats &lt;date&gt; | lagrdq1 &lt;date&gt; | leadrdq1 &lt;date&gt; | mcap &lt;dbl&gt; | act &lt;dbl&gt; | smedest &lt;dbl&gt; | numest &lt;dbl&gt; | sstdest &lt;dbl&gt; | sue &lt;dbl&gt; | se &lt;dbl&gt; | sest &lt;dbl&gt; | price_close &lt;dbl&gt; |\n",
       "|---|---|---|---|---|---|---|---|---|---|---|---|---|---|---|---|---|---|---|---|\n",
       "| 001013 | 50906 | 2005-01-31 | 2005 | 1 | 10 | 2005-02-28 | 2005-02-28 | 2005-02-28 | NA | 2005-06-01 | 7.64057 | 0.01 | 0.003891051 | 8 | 0 | 0 | 0.003891051 | 0.003891051 | 2.57 |\n",
       "\n"
      ],
      "text/plain": [
       "  gvkey  permno datadate   fyearq fqtr fyr rdq        rdq1       repdats   \n",
       "1 001013 50906  2005-01-31 2005   1    10  2005-02-28 2005-02-28 2005-02-28\n",
       "  lagrdq1 leadrdq1   mcap    act  smedest     numest sstdest sue se         \n",
       "1 <NA>    2005-06-01 7.64057 0.01 0.003891051 8      0       0   0.003891051\n",
       "  sest        price_close\n",
       "1 0.003891051 2.57       "
      ]
     },
     "metadata": {},
     "output_type": "display_data"
    }
   ],
   "source": [
    "sprintf('N sue: %s\\n', nrow(sue)) %>% cat()\n",
    "\n",
    "f_sue = sue[!is.na(act)] # 42440, ['gvkey', 'rdq'] as unique key\n",
    "\n",
    "rdq_lag_lead_pair = f_sue[, .(gvkey, lagrdq1=rdq1, rdq1=leadrdq1)]\n",
    "\n",
    "f_sue = rdq_lag_lead_pair[f_sue, on=.(gvkey, rdq1)\n",
    "    ][gvkey %in% sp500_cst[, unique(gvkey)],\n",
    "      .(gvkey, permno, datadate, fyearq, fqtr, fyr, rdq, rdq1, repdats, lagrdq1, leadrdq1,\n",
    "        mcap=log(mcap), act, smedest, numest, sstdest, sue=sue3, se, sest, price_close)\n",
    "    ][order(gvkey, rdq)\n",
    "    ] %>% unique()\n",
    "\n",
    "sprintf('N f_sue: %s\\n', nrow(f_sue)) %>% cat()\n",
    "sv(f_sue)\n",
    "f_sue[1]"
   ]
  },
  {
   "cell_type": "code",
   "execution_count": null,
   "metadata": {},
   "outputs": [],
   "source": [
    "f_sue[, .(year=as.factor(year(rdq1)))] %>%\n",
    "    plot_ly(x=~year, type='histogram') %>%\n",
    "    plotly::layout(autosize=T)"
   ]
  },
  {
   "cell_type": "markdown",
   "metadata": {},
   "source": [
    "## sue <-> call_release_link"
   ]
  },
  {
   "cell_type": "markdown",
   "metadata": {},
   "source": [
    "Task: merge with `call_release_link`\n",
    "- select row with minimal `abs(rdq-call_date)`\n",
    "- Output: `f_sue_keydevid`\n",
    "\n",
    "Filter:\n",
    "- release event in `sue` has no match in `call_release_link` within [-1d,1d]. 42690 -> 29065\n",
    "\n",
    "Warnings:\n",
    "- n_obs of `f_sue_keydevid` is larger than that of `f_sue` because in `call_release_link` there exist multiple `call_keydevid` for the SAME `release_keydevid`\n",
    "    - e.g. `ciq_wrds_keydev[keydevid %in% c(404527363, 404314219, 404314224)]`"
   ]
  },
  {
   "cell_type": "code",
   "execution_count": 13,
   "metadata": {
    "scrolled": true
   },
   "outputs": [
    {
     "name": "stdout",
     "output_type": "stream",
     "text": [
      "\"call_release_link.feather\" (1.1 MB) loaded (0.02 secs, 2021-02-26 17:27:54)\n",
      "\"f_sue.feather\" (3.2 MB) loaded (0.01 secs, 2021-02-26 17:27:54)\n"
     ]
    }
   ],
   "source": [
    "ld(call_release_link, force=T)\n",
    "ld(f_sue, force=T)"
   ]
  },
  {
   "cell_type": "code",
   "execution_count": 14,
   "metadata": {
    "scrolled": true
   },
   "outputs": [
    {
     "name": "stdout",
     "output_type": "stream",
     "text": [
      "N f_sue: 43579\n",
      "N f_sue_keydevid: 33642\n"
     ]
    },
    {
     "data": {
      "text/html": [
       "<table class=\"dataframe\">\n",
       "<caption>A data.table: 1 × 29</caption>\n",
       "<thead>\n",
       "\t<tr><th scope=col>call_keydevid</th><th scope=col>gvkey</th><th scope=col>call_date</th><th scope=col>release_date</th><th scope=col>release_keydevid</th><th scope=col>companyname</th><th scope=col>nday_release_lead</th><th scope=col>permno</th><th scope=col>datadate</th><th scope=col>fyearq</th><th scope=col>⋯</th><th scope=col>smedest</th><th scope=col>numest</th><th scope=col>sstdest</th><th scope=col>sue</th><th scope=col>se</th><th scope=col>sest</th><th scope=col>price_close</th><th scope=col>ciq_release_date</th><th scope=col>calldate_rdq_gap</th><th scope=col>docid</th></tr>\n",
       "\t<tr><th scope=col>&lt;dbl&gt;</th><th scope=col>&lt;chr&gt;</th><th scope=col>&lt;date&gt;</th><th scope=col>&lt;date&gt;</th><th scope=col>&lt;dbl&gt;</th><th scope=col>&lt;chr&gt;</th><th scope=col>&lt;drtn&gt;</th><th scope=col>&lt;chr&gt;</th><th scope=col>&lt;date&gt;</th><th scope=col>&lt;dbl&gt;</th><th scope=col>⋯</th><th scope=col>&lt;dbl&gt;</th><th scope=col>&lt;dbl&gt;</th><th scope=col>&lt;dbl&gt;</th><th scope=col>&lt;dbl&gt;</th><th scope=col>&lt;dbl&gt;</th><th scope=col>&lt;dbl&gt;</th><th scope=col>&lt;dbl&gt;</th><th scope=col>&lt;date&gt;</th><th scope=col>&lt;drtn&gt;</th><th scope=col>&lt;chr&gt;</th></tr>\n",
       "</thead>\n",
       "<tbody>\n",
       "\t<tr><td>5152678</td><td>001013</td><td>2008-03-05</td><td>2008-03-05</td><td>5241424</td><td>CommScope Connectivity LLC</td><td>0 secs</td><td>50906</td><td>2008-01-31</td><td>2008</td><td>⋯</td><td>0.01217039</td><td>17</td><td>0.001547043</td><td>0.006761325</td><td>0.01893171</td><td>0.01217039</td><td>14.79</td><td>2008-03-05</td><td>0 days</td><td>001013-2008-03-05</td></tr>\n",
       "</tbody>\n",
       "</table>\n"
      ],
      "text/latex": [
       "A data.table: 1 × 29\n",
       "\\begin{tabular}{lllllllllllllllllllll}\n",
       " call\\_keydevid & gvkey & call\\_date & release\\_date & release\\_keydevid & companyname & nday\\_release\\_lead & permno & datadate & fyearq & ⋯ & smedest & numest & sstdest & sue & se & sest & price\\_close & ciq\\_release\\_date & calldate\\_rdq\\_gap & docid\\\\\n",
       " <dbl> & <chr> & <date> & <date> & <dbl> & <chr> & <drtn> & <chr> & <date> & <dbl> & ⋯ & <dbl> & <dbl> & <dbl> & <dbl> & <dbl> & <dbl> & <dbl> & <date> & <drtn> & <chr>\\\\\n",
       "\\hline\n",
       "\t 5152678 & 001013 & 2008-03-05 & 2008-03-05 & 5241424 & CommScope Connectivity LLC & 0 secs & 50906 & 2008-01-31 & 2008 & ⋯ & 0.01217039 & 17 & 0.001547043 & 0.006761325 & 0.01893171 & 0.01217039 & 14.79 & 2008-03-05 & 0 days & 001013-2008-03-05\\\\\n",
       "\\end{tabular}\n"
      ],
      "text/markdown": [
       "\n",
       "A data.table: 1 × 29\n",
       "\n",
       "| call_keydevid &lt;dbl&gt; | gvkey &lt;chr&gt; | call_date &lt;date&gt; | release_date &lt;date&gt; | release_keydevid &lt;dbl&gt; | companyname &lt;chr&gt; | nday_release_lead &lt;drtn&gt; | permno &lt;chr&gt; | datadate &lt;date&gt; | fyearq &lt;dbl&gt; | ⋯ ⋯ | smedest &lt;dbl&gt; | numest &lt;dbl&gt; | sstdest &lt;dbl&gt; | sue &lt;dbl&gt; | se &lt;dbl&gt; | sest &lt;dbl&gt; | price_close &lt;dbl&gt; | ciq_release_date &lt;date&gt; | calldate_rdq_gap &lt;drtn&gt; | docid &lt;chr&gt; |\n",
       "|---|---|---|---|---|---|---|---|---|---|---|---|---|---|---|---|---|---|---|---|---|\n",
       "| 5152678 | 001013 | 2008-03-05 | 2008-03-05 | 5241424 | CommScope Connectivity LLC | 0 secs | 50906 | 2008-01-31 | 2008 | ⋯ | 0.01217039 | 17 | 0.001547043 | 0.006761325 | 0.01893171 | 0.01217039 | 14.79 | 2008-03-05 | 0 days | 001013-2008-03-05 |\n",
       "\n"
      ],
      "text/plain": [
       "  call_keydevid gvkey  call_date  release_date release_keydevid\n",
       "1 5152678       001013 2008-03-05 2008-03-05   5241424         \n",
       "  companyname                nday_release_lead permno datadate   fyearq\n",
       "1 CommScope Connectivity LLC 0 secs            50906  2008-01-31 2008  \n",
       "  <U+22EF>   smedest    numest sstdest     sue         se         sest      \n",
       "1 <U+22EF> 0.01217039 17     0.001547043 0.006761325 0.01893171 0.01217039\n",
       "  price_close ciq_release_date calldate_rdq_gap docid            \n",
       "1 14.79       2008-03-05       0 days           001013-2008-03-05"
      ]
     },
     "metadata": {},
     "output_type": "display_data"
    },
    {
     "name": "stdout",
     "output_type": "stream",
     "text": [
      "\"f_sue_keydevid\" saved as \"f_sue_keydevid.feather\" (3.5 MB) (0.03 secs, 2021-02-26 17:28:09)\n"
     ]
    }
   ],
   "source": [
    "sprintf('N f_sue: %s\\n', nrow(f_sue)) %>% cat()\n",
    "\n",
    "f_sue_keydevid = call_release_link[, ':='(join_date=release_date)\n",
    "    ][copy(f_sue)[, ':='(join_date=rdq)], on=.(gvkey, join_date), roll='nearest', nomatch=NULL\n",
    "    ][, ':='(ciq_release_date=rdq)\n",
    "    ][, ':='(calldate_rdq_gap=call_date-rdq)\n",
    "    ][calldate_rdq_gap %between% c(-1, 1)\n",
    "    ][order(gvkey, rdq)\n",
    "    ][, ':='(join_date=NULL)\n",
    "    ][order(gvkey, rdq)\n",
    "    ][, ':='(docid=str_c(gvkey, '-', ciq_release_date))\n",
    "    ] %>% unique()\n",
    "\n",
    "sprintf('N f_sue_keydevid: %s\\n', nrow(f_sue_keydevid)) %>% cat()\n",
    "\n",
    "f_sue_keydevid[1]\n",
    "sv(f_sue_keydevid) "
   ]
  },
  {
   "cell_type": "code",
   "execution_count": null,
   "metadata": {},
   "outputs": [],
   "source": [
    "f_sue_keydevid[, .(year=as.factor(year(ciq_release_date)))] %>%\n",
    "    plot_ly(x=~year, type='histogram') %>%\n",
    "    plotly::layout(autosize=T)"
   ]
  },
  {
   "cell_type": "markdown",
   "metadata": {},
   "source": [
    "## <-> car"
   ]
  },
  {
   "cell_type": "markdown",
   "metadata": {},
   "source": [
    "Task: merge with `CAR`\n",
    "- `car` also includes `alpha`, `beta` and `volatility`\n",
    "- I multiplied `car` by 100!!!\n",
    "\n",
    "Filter:\n",
    "- events in `f_sue_keydevid` are not in `car`. 29065 -> 26967"
   ]
  },
  {
   "cell_type": "code",
   "execution_count": 16,
   "metadata": {},
   "outputs": [
    {
     "name": "stdout",
     "output_type": "stream",
     "text": [
      "\"f_sue_keydevid.feather\" (3.5 MB) loaded (0.01 secs, 2021-02-26 17:28:21)\n",
      "\"car.feather\" (8.8 MB) loaded (0.03 secs, 2021-02-26 17:28:21)\n"
     ]
    }
   ],
   "source": [
    "ld(f_sue_keydevid, force=T)\n",
    "ld(car, force=T)"
   ]
  },
  {
   "cell_type": "code",
   "execution_count": 17,
   "metadata": {},
   "outputs": [
    {
     "name": "stdout",
     "output_type": "stream",
     "text": [
      "N f_sue_keydevid: 33642\n",
      "N f_sue_keydevid_car: 31147\n"
     ]
    },
    {
     "data": {
      "text/html": [
       "<table class=\"dataframe\">\n",
       "<caption>A data.table: 1 × 52</caption>\n",
       "<thead>\n",
       "\t<tr><th scope=col>gvkey</th><th scope=col>docid</th><th scope=col>permno</th><th scope=col>datadate</th><th scope=col>fyearq</th><th scope=col>fqtr</th><th scope=col>fyr</th><th scope=col>rdq</th><th scope=col>rdq1</th><th scope=col>repdats</th><th scope=col>⋯</th><th scope=col>car_0_20_lead1</th><th scope=col>car_0_20_lag1</th><th scope=col>car_0_30</th><th scope=col>car_0_30_lead1</th><th scope=col>car_0_30_lag1</th><th scope=col>alpha</th><th scope=col>beta_mktrf</th><th scope=col>beta_smb</th><th scope=col>beta_hml</th><th scope=col>volatility</th></tr>\n",
       "\t<tr><th scope=col>&lt;chr&gt;</th><th scope=col>&lt;chr&gt;</th><th scope=col>&lt;chr&gt;</th><th scope=col>&lt;date&gt;</th><th scope=col>&lt;dbl&gt;</th><th scope=col>&lt;dbl&gt;</th><th scope=col>&lt;dbl&gt;</th><th scope=col>&lt;date&gt;</th><th scope=col>&lt;date&gt;</th><th scope=col>&lt;date&gt;</th><th scope=col>⋯</th><th scope=col>&lt;dbl&gt;</th><th scope=col>&lt;dbl&gt;</th><th scope=col>&lt;dbl&gt;</th><th scope=col>&lt;dbl&gt;</th><th scope=col>&lt;dbl&gt;</th><th scope=col>&lt;dbl&gt;</th><th scope=col>&lt;dbl&gt;</th><th scope=col>&lt;dbl&gt;</th><th scope=col>&lt;dbl&gt;</th><th scope=col>&lt;dbl&gt;</th></tr>\n",
       "</thead>\n",
       "<tbody>\n",
       "\t<tr><td>001013</td><td>001013-2008-03-05</td><td>50906</td><td>2008-01-31</td><td>2008</td><td>1</td><td>10</td><td>2008-03-05</td><td>2008-03-05</td><td>2008-03-05</td><td>⋯</td><td>4.561394</td><td>NA</td><td>-6.801334</td><td>0.1948368</td><td>NA</td><td>-0.08446115</td><td>0.9738662</td><td>-0.2997048</td><td>1.193008</td><td>3.171002</td></tr>\n",
       "</tbody>\n",
       "</table>\n"
      ],
      "text/latex": [
       "A data.table: 1 × 52\n",
       "\\begin{tabular}{lllllllllllllllllllll}\n",
       " gvkey & docid & permno & datadate & fyearq & fqtr & fyr & rdq & rdq1 & repdats & ⋯ & car\\_0\\_20\\_lead1 & car\\_0\\_20\\_lag1 & car\\_0\\_30 & car\\_0\\_30\\_lead1 & car\\_0\\_30\\_lag1 & alpha & beta\\_mktrf & beta\\_smb & beta\\_hml & volatility\\\\\n",
       " <chr> & <chr> & <chr> & <date> & <dbl> & <dbl> & <dbl> & <date> & <date> & <date> & ⋯ & <dbl> & <dbl> & <dbl> & <dbl> & <dbl> & <dbl> & <dbl> & <dbl> & <dbl> & <dbl>\\\\\n",
       "\\hline\n",
       "\t 001013 & 001013-2008-03-05 & 50906 & 2008-01-31 & 2008 & 1 & 10 & 2008-03-05 & 2008-03-05 & 2008-03-05 & ⋯ & 4.561394 & NA & -6.801334 & 0.1948368 & NA & -0.08446115 & 0.9738662 & -0.2997048 & 1.193008 & 3.171002\\\\\n",
       "\\end{tabular}\n"
      ],
      "text/markdown": [
       "\n",
       "A data.table: 1 × 52\n",
       "\n",
       "| gvkey &lt;chr&gt; | docid &lt;chr&gt; | permno &lt;chr&gt; | datadate &lt;date&gt; | fyearq &lt;dbl&gt; | fqtr &lt;dbl&gt; | fyr &lt;dbl&gt; | rdq &lt;date&gt; | rdq1 &lt;date&gt; | repdats &lt;date&gt; | ⋯ ⋯ | car_0_20_lead1 &lt;dbl&gt; | car_0_20_lag1 &lt;dbl&gt; | car_0_30 &lt;dbl&gt; | car_0_30_lead1 &lt;dbl&gt; | car_0_30_lag1 &lt;dbl&gt; | alpha &lt;dbl&gt; | beta_mktrf &lt;dbl&gt; | beta_smb &lt;dbl&gt; | beta_hml &lt;dbl&gt; | volatility &lt;dbl&gt; |\n",
       "|---|---|---|---|---|---|---|---|---|---|---|---|---|---|---|---|---|---|---|---|---|\n",
       "| 001013 | 001013-2008-03-05 | 50906 | 2008-01-31 | 2008 | 1 | 10 | 2008-03-05 | 2008-03-05 | 2008-03-05 | ⋯ | 4.561394 | NA | -6.801334 | 0.1948368 | NA | -0.08446115 | 0.9738662 | -0.2997048 | 1.193008 | 3.171002 |\n",
       "\n"
      ],
      "text/plain": [
       "  gvkey  docid             permno datadate   fyearq fqtr fyr rdq       \n",
       "1 001013 001013-2008-03-05 50906  2008-01-31 2008   1    10  2008-03-05\n",
       "  rdq1       repdats    <U+22EF>   car_0_20_lead1 car_0_20_lag1 car_0_30 \n",
       "1 2008-03-05 2008-03-05 <U+22EF> 4.561394       NA            -6.801334\n",
       "  car_0_30_lead1 car_0_30_lag1 alpha       beta_mktrf beta_smb   beta_hml\n",
       "1 0.1948368      NA            -0.08446115 0.9738662  -0.2997048 1.193008\n",
       "  volatility\n",
       "1 3.171002  "
      ]
     },
     "metadata": {},
     "output_type": "display_data"
    },
    {
     "name": "stdout",
     "output_type": "stream",
     "text": [
      "\"f_sue_keydevid_car\" saved as \"f_sue_keydevid_car.feather\" (9.4 MB) (0.03 secs, 2021-02-26 17:28:41)\n"
     ]
    }
   ],
   "source": [
    "sprintf('N f_sue_keydevid: %s\\n', nrow(f_sue_keydevid)) %>% cat()\n",
    "\n",
    "car_cols = c('car_m1_m1', 'car_m2_m2', 'car_m30_m3', 'car_0_1', 'car_0_10', 'car_0_20', 'car_0_30',\n",
    "             'ret_m1_m1', 'ret_m2_m2', 'ret_m30_m3', 'ret_0_1', 'ret_0_10', 'ret_0_20', 'ret_0_30',\n",
    "             'alpha', 'volatility')\n",
    "\n",
    "f_sue_keydevid_car = car[, ':='(join_date=edate)\n",
    "    ][f_sue_keydevid[, ':='(join_date=call_date)], on=.(permno, join_date), nomatch=NULL\n",
    "    ][, ':='(join_date=NULL)\n",
    "    ][, (car_cols) := lapply(.SD, function(x) 100*x), .SDcols=car_cols\n",
    "    ][, {\n",
    "      res = list()\n",
    "      for (i in 1:.N) {\n",
    "          leadrdq1_tmp = leadrdq1[i]\n",
    "          lagrdq1_tmp = lagrdq1[i]\n",
    "          lead_selector=fillna(rdq1==leadrdq1_tmp, na.value=F)\n",
    "          lag_selector=fillna(rdq1==lagrdq1_tmp, na.value=F)\n",
    "          \n",
    "          se_lead1 = se[lead_selector][1]\n",
    "          se_lag1 = se[lag_selector][1]\n",
    "          sue_lag1 = sue[lag_selector][1]\n",
    "          sue_lead1 = sue[lead_selector][1]\n",
    "          sest_lead1 = sest[lead_selector][1]\n",
    "          sest_lag1 = sest[lag_selector][1]\n",
    "          \n",
    "          car_0_10_lead1 = car_0_10[lead_selector][1]\n",
    "          car_0_10_lag1 = car_0_10[lag_selector][1]\n",
    "          car_0_20_lead1 = car_0_20[lead_selector][1]\n",
    "          car_0_20_lag1 = car_0_20[lag_selector][1]\n",
    "          car_0_30_lead1 = car_0_30[lead_selector][1]\n",
    "          car_0_30_lag1 = car_0_30[lag_selector][1]\n",
    "          \n",
    "\n",
    "          res[[i]] = list(docid=docid[i], permno=permno[i], datadate=datadate[i], fyearq=fyearq[i], fqtr=fqtr[i],\n",
    "                          fyr=fyr[i], rdq=rdq[i], rdq1=rdq1[i], repdats=repdats[i], ciq_release_date=ciq_release_date[i],\n",
    "                          call_date=call_date[i],\n",
    "                          leadrdq1=leadrdq1[i], release_keydevid=release_keydevid[i],\n",
    "                          call_keydevid=call_keydevid[i], companyname=companyname[i],\n",
    "                          mcap=mcap[i], sue=sue[i], sue_lag1=sue_lag1, sue_lead1=sue_lead1,\n",
    "                          se=se[i], se_lag1=se_lag1, se_lead1=se_lead1, \n",
    "                          sest=sest[i], sest_lag1=sest_lag1, sest_lead1=sest_lead1,\n",
    "                          smedest=smedest[i], numest=numest[i], sstdest=sstdest[i],\n",
    "                          ret_m1_m1=ret_m1_m1[i], ret_m2_m2=ret_m2_m2[i], ret_m30_m3=ret_m30_m3[i],\n",
    "                          ret_0_10=ret_0_10[i], ret_0_20=ret_0_20[i], ret_0_30=ret_0_30[i],\n",
    "                          car_m1_m1=car_m1_m1[i], car_m2_m2=car_m2_m2[i], car_m30_m3=car_m30_m3[i], \n",
    "                          car_0_10=car_0_10[i], car_0_10_lead1=car_0_10_lead1, car_0_10_lag1=car_0_10_lag1,\n",
    "                          car_0_20=car_0_20[i], car_0_20_lead1=car_0_20_lead1, car_0_20_lag1=car_0_20_lag1,\n",
    "                          car_0_30=car_0_30[i], car_0_30_lead1=car_0_30_lead1, car_0_30_lag1=car_0_30_lag1,\n",
    "                          alpha=alpha[i], beta_mktrf=beta_mktrf[i], beta_smb=beta_smb[i],\n",
    "                          beta_hml=beta_hml[i], volatility=volatility[i])}\n",
    "      res = rbindlist(res)\n",
    "      }, \n",
    "      keyby=.(gvkey)\n",
    "    ][order(gvkey, ciq_release_date)\n",
    "    ] %>% unique()\n",
    "\n",
    "sprintf('N f_sue_keydevid_car: %s\\n', nrow(f_sue_keydevid_car)) %>% cat()\n",
    "\n",
    "f_sue_keydevid_car[1]\n",
    "sv(f_sue_keydevid_car)"
   ]
  },
  {
   "cell_type": "code",
   "execution_count": null,
   "metadata": {
    "scrolled": true
   },
   "outputs": [],
   "source": [
    "# Plot: number of calls by year\n",
    "f_sue_keydevid_car[, .(year=as.factor(year(ciq_release_date)))] %>%\n",
    "    plot_ly(x=~year, type='histogram') %>%\n",
    "    plotly::layout(autosize=T)"
   ]
  },
  {
   "cell_type": "markdown",
   "metadata": {},
   "source": [
    "## <-> finratio"
   ]
  },
  {
   "cell_type": "markdown",
   "metadata": {},
   "source": [
    "Filter:\n",
    "- `gvkey` in `f_sue_keydevid_car` are not in `wrds_finratio`. \n",
    "- `abs(pubdate_calldate_gap)<=60`. \n",
    "- 26967 -> 24470"
   ]
  },
  {
   "cell_type": "code",
   "execution_count": 19,
   "metadata": {},
   "outputs": [
    {
     "name": "stdout",
     "output_type": "stream",
     "text": [
      "\"wrds_finratio.feather\" (11.6 MB) loaded (0.06 secs, 2021-02-26 17:28:51)\n",
      "\"f_sue_keydevid_car.feather\" (9.4 MB) loaded (0.01 secs, 2021-02-26 17:28:51)\n"
     ]
    }
   ],
   "source": [
    "ld(wrds_finratio, path=WRDS_DOWNLOAD_DIR, force=T)\n",
    "ld(f_sue_keydevid_car, force=T)"
   ]
  },
  {
   "cell_type": "code",
   "execution_count": 20,
   "metadata": {
    "scrolled": true
   },
   "outputs": [
    {
     "name": "stdout",
     "output_type": "stream",
     "text": [
      "N f_sue_keydevid_car: 31147\n",
      "N f_sue_keydevid_car_finratio: 27253\n"
     ]
    },
    {
     "data": {
      "text/html": [
       "<table class=\"dataframe\">\n",
       "<caption>A data.table: 1 × 55</caption>\n",
       "<thead>\n",
       "\t<tr><th scope=col>gvkey</th><th scope=col>bm</th><th scope=col>roa</th><th scope=col>debt_assets</th><th scope=col>docid</th><th scope=col>permno</th><th scope=col>datadate</th><th scope=col>fyearq</th><th scope=col>fqtr</th><th scope=col>fyr</th><th scope=col>⋯</th><th scope=col>car_0_20_lead1</th><th scope=col>car_0_20_lag1</th><th scope=col>car_0_30</th><th scope=col>car_0_30_lead1</th><th scope=col>car_0_30_lag1</th><th scope=col>alpha</th><th scope=col>beta_mktrf</th><th scope=col>beta_smb</th><th scope=col>beta_hml</th><th scope=col>volatility</th></tr>\n",
       "\t<tr><th scope=col>&lt;chr&gt;</th><th scope=col>&lt;dbl&gt;</th><th scope=col>&lt;dbl&gt;</th><th scope=col>&lt;dbl&gt;</th><th scope=col>&lt;chr&gt;</th><th scope=col>&lt;chr&gt;</th><th scope=col>&lt;date&gt;</th><th scope=col>&lt;dbl&gt;</th><th scope=col>&lt;dbl&gt;</th><th scope=col>&lt;dbl&gt;</th><th scope=col>⋯</th><th scope=col>&lt;dbl&gt;</th><th scope=col>&lt;dbl&gt;</th><th scope=col>&lt;dbl&gt;</th><th scope=col>&lt;dbl&gt;</th><th scope=col>&lt;dbl&gt;</th><th scope=col>&lt;dbl&gt;</th><th scope=col>&lt;dbl&gt;</th><th scope=col>&lt;dbl&gt;</th><th scope=col>&lt;dbl&gt;</th><th scope=col>&lt;dbl&gt;</th></tr>\n",
       "</thead>\n",
       "<tbody>\n",
       "\t<tr><td>001013</td><td>0.477</td><td>0.099</td><td>0.429</td><td>001013-2008-03-05</td><td>50906</td><td>2008-01-31</td><td>2008</td><td>1</td><td>10</td><td>⋯</td><td>4.561394</td><td>NA</td><td>-6.801334</td><td>0.1948368</td><td>NA</td><td>-0.08446115</td><td>0.9738662</td><td>-0.2997048</td><td>1.193008</td><td>3.171002</td></tr>\n",
       "</tbody>\n",
       "</table>\n"
      ],
      "text/latex": [
       "A data.table: 1 × 55\n",
       "\\begin{tabular}{lllllllllllllllllllll}\n",
       " gvkey & bm & roa & debt\\_assets & docid & permno & datadate & fyearq & fqtr & fyr & ⋯ & car\\_0\\_20\\_lead1 & car\\_0\\_20\\_lag1 & car\\_0\\_30 & car\\_0\\_30\\_lead1 & car\\_0\\_30\\_lag1 & alpha & beta\\_mktrf & beta\\_smb & beta\\_hml & volatility\\\\\n",
       " <chr> & <dbl> & <dbl> & <dbl> & <chr> & <chr> & <date> & <dbl> & <dbl> & <dbl> & ⋯ & <dbl> & <dbl> & <dbl> & <dbl> & <dbl> & <dbl> & <dbl> & <dbl> & <dbl> & <dbl>\\\\\n",
       "\\hline\n",
       "\t 001013 & 0.477 & 0.099 & 0.429 & 001013-2008-03-05 & 50906 & 2008-01-31 & 2008 & 1 & 10 & ⋯ & 4.561394 & NA & -6.801334 & 0.1948368 & NA & -0.08446115 & 0.9738662 & -0.2997048 & 1.193008 & 3.171002\\\\\n",
       "\\end{tabular}\n"
      ],
      "text/markdown": [
       "\n",
       "A data.table: 1 × 55\n",
       "\n",
       "| gvkey &lt;chr&gt; | bm &lt;dbl&gt; | roa &lt;dbl&gt; | debt_assets &lt;dbl&gt; | docid &lt;chr&gt; | permno &lt;chr&gt; | datadate &lt;date&gt; | fyearq &lt;dbl&gt; | fqtr &lt;dbl&gt; | fyr &lt;dbl&gt; | ⋯ ⋯ | car_0_20_lead1 &lt;dbl&gt; | car_0_20_lag1 &lt;dbl&gt; | car_0_30 &lt;dbl&gt; | car_0_30_lead1 &lt;dbl&gt; | car_0_30_lag1 &lt;dbl&gt; | alpha &lt;dbl&gt; | beta_mktrf &lt;dbl&gt; | beta_smb &lt;dbl&gt; | beta_hml &lt;dbl&gt; | volatility &lt;dbl&gt; |\n",
       "|---|---|---|---|---|---|---|---|---|---|---|---|---|---|---|---|---|---|---|---|---|\n",
       "| 001013 | 0.477 | 0.099 | 0.429 | 001013-2008-03-05 | 50906 | 2008-01-31 | 2008 | 1 | 10 | ⋯ | 4.561394 | NA | -6.801334 | 0.1948368 | NA | -0.08446115 | 0.9738662 | -0.2997048 | 1.193008 | 3.171002 |\n",
       "\n"
      ],
      "text/plain": [
       "  gvkey  bm    roa   debt_assets docid             permno datadate   fyearq\n",
       "1 001013 0.477 0.099 0.429       001013-2008-03-05 50906  2008-01-31 2008  \n",
       "  fqtr fyr <U+22EF>   car_0_20_lead1 car_0_20_lag1 car_0_30  car_0_30_lead1\n",
       "1 1    10  <U+22EF> 4.561394       NA            -6.801334 0.1948368     \n",
       "  car_0_30_lag1 alpha       beta_mktrf beta_smb   beta_hml volatility\n",
       "1 NA            -0.08446115 0.9738662  -0.2997048 1.193008 3.171002  "
      ]
     },
     "metadata": {},
     "output_type": "display_data"
    },
    {
     "name": "stdout",
     "output_type": "stream",
     "text": [
      "\"f_sue_keydevid_car_finratio\" saved as \"f_sue_keydevid_car_finratio.feather\" (8.6 MB) (0.02 secs, 2021-02-26 17:29:07)\n"
     ]
    }
   ],
   "source": [
    "sprintf('N f_sue_keydevid_car: %s\\n', nrow(f_sue_keydevid_car)) %>% cat()\n",
    "\n",
    "f_sue_keydevid_car_finratio = wrds_finratio[, ':='(join_date=public_date)\n",
    "    ][f_sue_keydevid_car[, ':='(join_date=call_date)], on=.(gvkey, join_date), roll='nearest'\n",
    "    ][, ':='(pubdate_calldate_gap=public_date-call_date)\n",
    "    ][!is.na(pubdate_calldate_gap)\n",
    "    ][abs(pubdate_calldate_gap)<=60\n",
    "    ][order(gvkey, ciq_release_date)\n",
    "    ][, ':='(bm=nafill(bm, 'locf'), roa=nafill(roa, 'locf'), debt_assets=nafill(debt_assets, 'locf'))\n",
    "    ][, ':='(pubdate_calldate_gap=NULL, adate=NULL, qdate=NULL, public_date=NULL, join_date=NULL)\n",
    "    ] %>% unique()\n",
    "\n",
    "sprintf('N f_sue_keydevid_car_finratio: %s\\n', nrow(f_sue_keydevid_car_finratio)) %>% cat()\n",
    "\n",
    "f_sue_keydevid_car_finratio[1]\n",
    "sv(f_sue_keydevid_car_finratio)"
   ]
  },
  {
   "cell_type": "code",
   "execution_count": null,
   "metadata": {},
   "outputs": [],
   "source": [
    "# Plot: number of calls by year\n",
    "f_sue_keydevid_car_finratio[, .(year=as.factor(year(ciq_release_date)))] %>%\n",
    "    plot_ly(x=~year, type='histogram') %>%\n",
    "    plotly::layout(autosize=T)"
   ]
  },
  {
   "cell_type": "markdown",
   "metadata": {},
   "source": [
    "## <-> volume"
   ]
  },
  {
   "cell_type": "markdown",
   "metadata": {},
   "source": [
    "Filter:\n",
    "- Some gvkey has no `iid=01` in `comp_secd`\n",
    "- 24470 -> 24451\n",
    "\n",
    "Notes:\n",
    "- For any `gvkey`, we only use `iid=01`\n",
    "- In `comp_secd` some records have `volume==0`, we just keep it."
   ]
  },
  {
   "cell_type": "code",
   "execution_count": 22,
   "metadata": {},
   "outputs": [
    {
     "name": "stdout",
     "output_type": "stream",
     "text": [
      "\"comp_secd.feather\" (6.5 GB) loaded (25.41 secs, 2021-02-26 17:29:47)\n",
      "\"f_sue_keydevid_car_finratio.feather\" (8.6 MB) loaded (0.02 secs, 2021-02-26 17:29:48)\n"
     ]
    }
   ],
   "source": [
    "ld(comp_secd, path=WRDS_DOWNLOAD_DIR)\n",
    "ld(f_sue_keydevid_car_finratio, force=T)"
   ]
  },
  {
   "cell_type": "code",
   "execution_count": 23,
   "metadata": {},
   "outputs": [
    {
     "name": "stdout",
     "output_type": "stream",
     "text": [
      "N f_sue_keydevid_car_finratio: 27253\n",
      "N f_sue_keydevid_car_finratio_vol: 27231\n"
     ]
    },
    {
     "data": {
      "text/html": [
       "<table class=\"dataframe\">\n",
       "<caption>A data.table: 1 × 56</caption>\n",
       "<thead>\n",
       "\t<tr><th scope=col>gvkey</th><th scope=col>volume</th><th scope=col>bm</th><th scope=col>roa</th><th scope=col>debt_assets</th><th scope=col>docid</th><th scope=col>permno</th><th scope=col>datadate</th><th scope=col>fyearq</th><th scope=col>fqtr</th><th scope=col>⋯</th><th scope=col>car_0_20_lead1</th><th scope=col>car_0_20_lag1</th><th scope=col>car_0_30</th><th scope=col>car_0_30_lead1</th><th scope=col>car_0_30_lag1</th><th scope=col>alpha</th><th scope=col>beta_mktrf</th><th scope=col>beta_smb</th><th scope=col>beta_hml</th><th scope=col>volatility</th></tr>\n",
       "\t<tr><th scope=col>&lt;chr&gt;</th><th scope=col>&lt;dbl&gt;</th><th scope=col>&lt;dbl&gt;</th><th scope=col>&lt;dbl&gt;</th><th scope=col>&lt;dbl&gt;</th><th scope=col>&lt;chr&gt;</th><th scope=col>&lt;chr&gt;</th><th scope=col>&lt;date&gt;</th><th scope=col>&lt;dbl&gt;</th><th scope=col>&lt;dbl&gt;</th><th scope=col>⋯</th><th scope=col>&lt;dbl&gt;</th><th scope=col>&lt;dbl&gt;</th><th scope=col>&lt;dbl&gt;</th><th scope=col>&lt;dbl&gt;</th><th scope=col>&lt;dbl&gt;</th><th scope=col>&lt;dbl&gt;</th><th scope=col>&lt;dbl&gt;</th><th scope=col>&lt;dbl&gt;</th><th scope=col>&lt;dbl&gt;</th><th scope=col>&lt;dbl&gt;</th></tr>\n",
       "</thead>\n",
       "<tbody>\n",
       "\t<tr><td>001013</td><td>3.996961</td><td>0.477</td><td>0.099</td><td>0.429</td><td>001013-2008-03-05</td><td>50906</td><td>2008-01-31</td><td>2008</td><td>1</td><td>⋯</td><td>4.561394</td><td>NA</td><td>-6.801334</td><td>0.1948368</td><td>NA</td><td>-0.08446115</td><td>0.9738662</td><td>-0.2997048</td><td>1.193008</td><td>3.171002</td></tr>\n",
       "</tbody>\n",
       "</table>\n"
      ],
      "text/latex": [
       "A data.table: 1 × 56\n",
       "\\begin{tabular}{lllllllllllllllllllll}\n",
       " gvkey & volume & bm & roa & debt\\_assets & docid & permno & datadate & fyearq & fqtr & ⋯ & car\\_0\\_20\\_lead1 & car\\_0\\_20\\_lag1 & car\\_0\\_30 & car\\_0\\_30\\_lead1 & car\\_0\\_30\\_lag1 & alpha & beta\\_mktrf & beta\\_smb & beta\\_hml & volatility\\\\\n",
       " <chr> & <dbl> & <dbl> & <dbl> & <dbl> & <chr> & <chr> & <date> & <dbl> & <dbl> & ⋯ & <dbl> & <dbl> & <dbl> & <dbl> & <dbl> & <dbl> & <dbl> & <dbl> & <dbl> & <dbl>\\\\\n",
       "\\hline\n",
       "\t 001013 & 3.996961 & 0.477 & 0.099 & 0.429 & 001013-2008-03-05 & 50906 & 2008-01-31 & 2008 & 1 & ⋯ & 4.561394 & NA & -6.801334 & 0.1948368 & NA & -0.08446115 & 0.9738662 & -0.2997048 & 1.193008 & 3.171002\\\\\n",
       "\\end{tabular}\n"
      ],
      "text/markdown": [
       "\n",
       "A data.table: 1 × 56\n",
       "\n",
       "| gvkey &lt;chr&gt; | volume &lt;dbl&gt; | bm &lt;dbl&gt; | roa &lt;dbl&gt; | debt_assets &lt;dbl&gt; | docid &lt;chr&gt; | permno &lt;chr&gt; | datadate &lt;date&gt; | fyearq &lt;dbl&gt; | fqtr &lt;dbl&gt; | ⋯ ⋯ | car_0_20_lead1 &lt;dbl&gt; | car_0_20_lag1 &lt;dbl&gt; | car_0_30 &lt;dbl&gt; | car_0_30_lead1 &lt;dbl&gt; | car_0_30_lag1 &lt;dbl&gt; | alpha &lt;dbl&gt; | beta_mktrf &lt;dbl&gt; | beta_smb &lt;dbl&gt; | beta_hml &lt;dbl&gt; | volatility &lt;dbl&gt; |\n",
       "|---|---|---|---|---|---|---|---|---|---|---|---|---|---|---|---|---|---|---|---|---|\n",
       "| 001013 | 3.996961 | 0.477 | 0.099 | 0.429 | 001013-2008-03-05 | 50906 | 2008-01-31 | 2008 | 1 | ⋯ | 4.561394 | NA | -6.801334 | 0.1948368 | NA | -0.08446115 | 0.9738662 | -0.2997048 | 1.193008 | 3.171002 |\n",
       "\n"
      ],
      "text/plain": [
       "  gvkey  volume   bm    roa   debt_assets docid             permno datadate  \n",
       "1 001013 3.996961 0.477 0.099 0.429       001013-2008-03-05 50906  2008-01-31\n",
       "  fyearq fqtr <U+22EF>   car_0_20_lead1 car_0_20_lag1 car_0_30  car_0_30_lead1\n",
       "1 2008   1    <U+22EF> 4.561394       NA            -6.801334 0.1948368     \n",
       "  car_0_30_lag1 alpha       beta_mktrf beta_smb   beta_hml volatility\n",
       "1 NA            -0.08446115 0.9738662  -0.2997048 1.193008 3.171002  "
      ]
     },
     "metadata": {},
     "output_type": "display_data"
    },
    {
     "name": "stdout",
     "output_type": "stream",
     "text": [
      "\"f_sue_keydevid_car_finratio_vol\" saved as \"f_sue_keydevid_car_finratio_vol.feather\" (8.8 MB) (0.03 secs, 2021-02-26 17:30:01)\n"
     ]
    }
   ],
   "source": [
    "sprintf('N f_sue_keydevid_car_finratio: %s\\n', nrow(f_sue_keydevid_car_finratio)) %>% cat()\n",
    "\n",
    "f_sue_keydevid_car_finratio_vol = comp_secd[datadate>ymd('2005-01-01'), .(gvkey, iid, volume=cshtrd/1e6, price_date=datadate)\n",
    "    ][order(gvkey, price_date, iid)\n",
    "    ][, head(.SD,1), keyby=.(gvkey, price_date)\n",
    "    ][, ':='(join_date=price_date)\n",
    "    ][, .(gvkey, join_date, volume, price_date, iid)\n",
    "    ][f_sue_keydevid_car_finratio[, ':='(join_date=ciq_release_date)], on=.(gvkey, join_date), nomatch=NULL\n",
    "    ][, ':='(releasedate_datadate_gap=ciq_release_date-price_date)\n",
    "    ][abs(releasedate_datadate_gap)<=0\n",
    "    ][order(-abs(releasedate_datadate_gap))\n",
    "    ][, ':='(join_date=NULL, releasedate_datadate_gap=NULL, price_date=NULL, iid=NULL)\n",
    "    ] %>% unique()\n",
    "\n",
    "sprintf('N f_sue_keydevid_car_finratio_vol: %s\\n', nrow(f_sue_keydevid_car_finratio_vol)) %>% cat()\n",
    "f_sue_keydevid_car_finratio_vol[1]\n",
    "sv(f_sue_keydevid_car_finratio_vol)"
   ]
  },
  {
   "cell_type": "code",
   "execution_count": null,
   "metadata": {},
   "outputs": [],
   "source": [
    "# Plot: number of calls by year\n",
    "f_sue_keydevid_car_finratio_vol[, .(year=as.factor(year(ciq_release_date)))] %>%\n",
    "    plot_ly(x=~year, type='histogram') %>%\n",
    "    plotly::layout(autosize=T)"
   ]
  },
  {
   "cell_type": "markdown",
   "metadata": {},
   "source": [
    "## <-> transcriptid"
   ]
  },
  {
   "cell_type": "markdown",
   "metadata": {},
   "source": [
    "Filter:\n",
    "- `call_keydevid` must also exists in `f_ciq_transcript_detail_sp500`\n",
    "- 24451 -> 24105"
   ]
  },
  {
   "cell_type": "code",
   "execution_count": 25,
   "metadata": {
    "scrolled": true
   },
   "outputs": [
    {
     "name": "stdout",
     "output_type": "stream",
     "text": [
      "\"f_ciq_transcript_detail_sp500.feather\" (2.4 MB) loaded (0.09 secs, 2021-02-26 17:30:12)\n",
      "\"f_sue_keydevid_car_finratio_vol.feather\" (8.8 MB) loaded (0.01 secs, 2021-02-26 17:30:12)\n"
     ]
    }
   ],
   "source": [
    "ld(f_ciq_transcript_detail_sp500, force=T)\n",
    "ld(f_sue_keydevid_car_finratio_vol, force=T)"
   ]
  },
  {
   "cell_type": "code",
   "execution_count": 27,
   "metadata": {
    "scrolled": true
   },
   "outputs": [
    {
     "name": "stdout",
     "output_type": "stream",
     "text": [
      "N f_sue_keydevid_car_finratio_vol: 27231\n",
      "N f_sue_keydevid_car_finratio_vol_transcriptid: 26878\n"
     ]
    },
    {
     "data": {
      "text/html": [
       "<table class=\"dataframe\">\n",
       "<caption>A data.table: 1 × 55</caption>\n",
       "<thead>\n",
       "\t<tr><th scope=col>gvkey</th><th scope=col>permno</th><th scope=col>datadate</th><th scope=col>fyear</th><th scope=col>fqtr</th><th scope=col>ciq_release_date</th><th scope=col>ciq_call_date</th><th scope=col>rdq</th><th scope=col>rdq1</th><th scope=col>repdats</th><th scope=col>⋯</th><th scope=col>car_0_30_lead1</th><th scope=col>bm</th><th scope=col>roa</th><th scope=col>debt_asset</th><th scope=col>alpha</th><th scope=col>beta_mktrf</th><th scope=col>beta_smb</th><th scope=col>beta_hml</th><th scope=col>volatility</th><th scope=col>docid</th></tr>\n",
       "\t<tr><th scope=col>&lt;chr&gt;</th><th scope=col>&lt;chr&gt;</th><th scope=col>&lt;date&gt;</th><th scope=col>&lt;dbl&gt;</th><th scope=col>&lt;dbl&gt;</th><th scope=col>&lt;date&gt;</th><th scope=col>&lt;date&gt;</th><th scope=col>&lt;date&gt;</th><th scope=col>&lt;date&gt;</th><th scope=col>&lt;date&gt;</th><th scope=col>⋯</th><th scope=col>&lt;dbl&gt;</th><th scope=col>&lt;dbl&gt;</th><th scope=col>&lt;dbl&gt;</th><th scope=col>&lt;dbl&gt;</th><th scope=col>&lt;dbl&gt;</th><th scope=col>&lt;dbl&gt;</th><th scope=col>&lt;dbl&gt;</th><th scope=col>&lt;dbl&gt;</th><th scope=col>&lt;dbl&gt;</th><th scope=col>&lt;chr&gt;</th></tr>\n",
       "</thead>\n",
       "<tbody>\n",
       "\t<tr><td>001013</td><td>50906</td><td>2008-01-31</td><td>2008</td><td>1</td><td>2008-03-05</td><td>2008-03-05</td><td>2008-03-05</td><td>2008-03-05</td><td>2008-03-05</td><td>⋯</td><td>0.1948368</td><td>0.477</td><td>0.099</td><td>0.429</td><td>-0.08446115</td><td>0.9738662</td><td>-0.2997048</td><td>1.193008</td><td>3.171002</td><td>001013-2008-03-05</td></tr>\n",
       "</tbody>\n",
       "</table>\n"
      ],
      "text/latex": [
       "A data.table: 1 × 55\n",
       "\\begin{tabular}{lllllllllllllllllllll}\n",
       " gvkey & permno & datadate & fyear & fqtr & ciq\\_release\\_date & ciq\\_call\\_date & rdq & rdq1 & repdats & ⋯ & car\\_0\\_30\\_lead1 & bm & roa & debt\\_asset & alpha & beta\\_mktrf & beta\\_smb & beta\\_hml & volatility & docid\\\\\n",
       " <chr> & <chr> & <date> & <dbl> & <dbl> & <date> & <date> & <date> & <date> & <date> & ⋯ & <dbl> & <dbl> & <dbl> & <dbl> & <dbl> & <dbl> & <dbl> & <dbl> & <dbl> & <chr>\\\\\n",
       "\\hline\n",
       "\t 001013 & 50906 & 2008-01-31 & 2008 & 1 & 2008-03-05 & 2008-03-05 & 2008-03-05 & 2008-03-05 & 2008-03-05 & ⋯ & 0.1948368 & 0.477 & 0.099 & 0.429 & -0.08446115 & 0.9738662 & -0.2997048 & 1.193008 & 3.171002 & 001013-2008-03-05\\\\\n",
       "\\end{tabular}\n"
      ],
      "text/markdown": [
       "\n",
       "A data.table: 1 × 55\n",
       "\n",
       "| gvkey &lt;chr&gt; | permno &lt;chr&gt; | datadate &lt;date&gt; | fyear &lt;dbl&gt; | fqtr &lt;dbl&gt; | ciq_release_date &lt;date&gt; | ciq_call_date &lt;date&gt; | rdq &lt;date&gt; | rdq1 &lt;date&gt; | repdats &lt;date&gt; | ⋯ ⋯ | car_0_30_lead1 &lt;dbl&gt; | bm &lt;dbl&gt; | roa &lt;dbl&gt; | debt_asset &lt;dbl&gt; | alpha &lt;dbl&gt; | beta_mktrf &lt;dbl&gt; | beta_smb &lt;dbl&gt; | beta_hml &lt;dbl&gt; | volatility &lt;dbl&gt; | docid &lt;chr&gt; |\n",
       "|---|---|---|---|---|---|---|---|---|---|---|---|---|---|---|---|---|---|---|---|---|\n",
       "| 001013 | 50906 | 2008-01-31 | 2008 | 1 | 2008-03-05 | 2008-03-05 | 2008-03-05 | 2008-03-05 | 2008-03-05 | ⋯ | 0.1948368 | 0.477 | 0.099 | 0.429 | -0.08446115 | 0.9738662 | -0.2997048 | 1.193008 | 3.171002 | 001013-2008-03-05 |\n",
       "\n"
      ],
      "text/plain": [
       "  gvkey  permno datadate   fyear fqtr ciq_release_date ciq_call_date rdq       \n",
       "1 001013 50906  2008-01-31 2008  1    2008-03-05       2008-03-05    2008-03-05\n",
       "  rdq1       repdats    <U+22EF>   car_0_30_lead1 bm    roa   debt_asset\n",
       "1 2008-03-05 2008-03-05 <U+22EF> 0.1948368      0.477 0.099 0.429     \n",
       "  alpha       beta_mktrf beta_smb   beta_hml volatility docid            \n",
       "1 -0.08446115 0.9738662  -0.2997048 1.193008 3.171002   001013-2008-03-05"
      ]
     },
     "metadata": {},
     "output_type": "display_data"
    },
    {
     "name": "stdout",
     "output_type": "stream",
     "text": [
      "\"f_sue_keydevid_car_finratio_vol_transcriptid\" saved as \"f_sue_keydevid_car_finratio_vol_transcriptid.feather\" (8.7 MB) (0.03 secs, 2021-02-26 17:30:27)\n"
     ]
    }
   ],
   "source": [
    "sprintf('N f_sue_keydevid_car_finratio_vol: %s\\n', nrow(f_sue_keydevid_car_finratio_vol)) %>% cat()\n",
    "\n",
    "f_sue_keydevid_car_finratio_vol_transcriptid = unique(f_ciq_transcript_detail_sp500[, .(join_keydevid=keydevid, transcriptid)])[f_sue_keydevid_car_finratio_vol[, ':='(join_keydevid=call_keydevid)], \n",
    "      on=.(join_keydevid),\n",
    "      nomatch=NULL\n",
    "    ][, .(gvkey, permno, datadate, fyear=fyearq, fqtr, ciq_release_date, ciq_call_date=call_date, rdq, rdq1, repdats,\n",
    "          leadrdq1, release_keydevid, call_keydevid, transcriptid,\n",
    "          mcap, sue, sue_lag1, sue_lead1, se, se_lag1, se_lead1,\n",
    "          sest, sest_lag1, sest_lead1, numest, smedest, sstdest, volume,\n",
    "          ret_m1_m1, ret_m2_m2, ret_m30_m3,\n",
    "          ret_0_10, ret_0_20, ret_0_30,\n",
    "          car_m1_m1, car_m2_m2, car_m30_m3, \n",
    "          car_0_10, car_0_10_lag1, car_0_10_lead1, car_0_20, car_0_20_lag1, car_0_20_lead1,\n",
    "          car_0_30, car_0_30_lag1, car_0_30_lead1,\n",
    "          bm, roa, debt_asset=debt_assets, alpha, beta_mktrf, beta_smb, beta_hml, volatility, docid)\n",
    "    ][order(gvkey, ciq_release_date)\n",
    "    ] %>% unique()\n",
    "\n",
    "sprintf('N f_sue_keydevid_car_finratio_vol_transcriptid: %s\\n', nrow(f_sue_keydevid_car_finratio_vol_transcriptid)) %>% cat()\n",
    "\n",
    "f_sue_keydevid_car_finratio_vol_transcriptid[1]\n",
    "sv(f_sue_keydevid_car_finratio_vol_transcriptid)"
   ]
  },
  {
   "cell_type": "code",
   "execution_count": null,
   "metadata": {},
   "outputs": [],
   "source": [
    "# Plot: number of calls per year\n",
    "f_sue_keydevid_car_finratio_vol_transcriptid[, .(year=as.factor(year(ciq_release_date)))] %>%\n",
    "    plot_ly(x=~year, type='histogram') %>%\n",
    "    plotly::layout(autosize=T)"
   ]
  },
  {
   "cell_type": "markdown",
   "metadata": {},
   "source": [
    "## <-> similarity"
   ]
  },
  {
   "cell_type": "markdown",
   "metadata": {},
   "source": [
    "Filter:\n",
    "- `docid` must also exists in `similarity`\n",
    "- 24105 -> 21822\n",
    "\n",
    "Warnings:\n",
    "- Must do this step after joining `transcripts`.\n",
    "- before joining `similarity`, please first create `similarity.feather` in Python!"
   ]
  },
  {
   "cell_type": "code",
   "execution_count": 29,
   "metadata": {},
   "outputs": [
    {
     "name": "stdout",
     "output_type": "stream",
     "text": [
      "\"similarity.feather\" (1022.2 KB) loaded (0 secs, 2021-02-26 17:30:37)\n",
      "\"similarity_finbert.feather\" (334.8 KB) loaded (0 secs, 2021-02-26 17:30:37)\n",
      "\"f_sue_keydevid_car_finratio_vol_transcriptid.feather\" (8.7 MB) loaded (0.01 secs, 2021-02-26 17:30:37)\n"
     ]
    }
   ],
   "source": [
    "ld(similarity, force=T)\n",
    "ld(similarity_finbert, force=T)\n",
    "ld(f_sue_keydevid_car_finratio_vol_transcriptid, force=T)"
   ]
  },
  {
   "cell_type": "code",
   "execution_count": 32,
   "metadata": {
    "scrolled": true
   },
   "outputs": [
    {
     "name": "stdout",
     "output_type": "stream",
     "text": [
      "N f_sue_keydevid_car_finratio_vol_transcriptid: 26878\n",
      "N f_sue_keydevid_car_finratio_vol_transcriptid_sim: 26878\n",
      "\"f_sue_keydevid_car_finratio_vol_transcriptid_sim\" saved as \"f_sue_keydevid_car_finratio_vol_transcriptid_sim.feather\" (9.4 MB) (0.03 secs, 2021-02-26 17:32:20)\n"
     ]
    },
    {
     "data": {
      "text/html": [
       "<table class=\"dataframe\">\n",
       "<caption>A data.table: 1 × 59</caption>\n",
       "<thead>\n",
       "\t<tr><th scope=col>transcriptid</th><th scope=col>similarity_finbert</th><th scope=col>similarity_unigram</th><th scope=col>similarity_bigram</th><th scope=col>similarity_allgram</th><th scope=col>gvkey</th><th scope=col>permno</th><th scope=col>datadate</th><th scope=col>fyear</th><th scope=col>fqtr</th><th scope=col>⋯</th><th scope=col>car_0_30_lead1</th><th scope=col>bm</th><th scope=col>roa</th><th scope=col>debt_asset</th><th scope=col>alpha</th><th scope=col>beta_mktrf</th><th scope=col>beta_smb</th><th scope=col>beta_hml</th><th scope=col>volatility</th><th scope=col>docid</th></tr>\n",
       "\t<tr><th scope=col>&lt;int&gt;</th><th scope=col>&lt;dbl&gt;</th><th scope=col>&lt;dbl&gt;</th><th scope=col>&lt;dbl&gt;</th><th scope=col>&lt;dbl&gt;</th><th scope=col>&lt;chr&gt;</th><th scope=col>&lt;chr&gt;</th><th scope=col>&lt;date&gt;</th><th scope=col>&lt;dbl&gt;</th><th scope=col>&lt;dbl&gt;</th><th scope=col>⋯</th><th scope=col>&lt;dbl&gt;</th><th scope=col>&lt;dbl&gt;</th><th scope=col>&lt;dbl&gt;</th><th scope=col>&lt;dbl&gt;</th><th scope=col>&lt;dbl&gt;</th><th scope=col>&lt;dbl&gt;</th><th scope=col>&lt;dbl&gt;</th><th scope=col>&lt;dbl&gt;</th><th scope=col>&lt;dbl&gt;</th><th scope=col>&lt;chr&gt;</th></tr>\n",
       "</thead>\n",
       "<tbody>\n",
       "\t<tr><td>320</td><td>0.9328347</td><td>0.8019376</td><td>0.3446537</td><td>0.7719722</td><td>001013</td><td>50906</td><td>2008-01-31</td><td>2008</td><td>1</td><td>⋯</td><td>0.1948368</td><td>0.477</td><td>0.099</td><td>0.429</td><td>-0.08446115</td><td>0.9738662</td><td>-0.2997048</td><td>1.193008</td><td>3.171002</td><td>001013-2008-03-05</td></tr>\n",
       "</tbody>\n",
       "</table>\n"
      ],
      "text/latex": [
       "A data.table: 1 × 59\n",
       "\\begin{tabular}{lllllllllllllllllllll}\n",
       " transcriptid & similarity\\_finbert & similarity\\_unigram & similarity\\_bigram & similarity\\_allgram & gvkey & permno & datadate & fyear & fqtr & ⋯ & car\\_0\\_30\\_lead1 & bm & roa & debt\\_asset & alpha & beta\\_mktrf & beta\\_smb & beta\\_hml & volatility & docid\\\\\n",
       " <int> & <dbl> & <dbl> & <dbl> & <dbl> & <chr> & <chr> & <date> & <dbl> & <dbl> & ⋯ & <dbl> & <dbl> & <dbl> & <dbl> & <dbl> & <dbl> & <dbl> & <dbl> & <dbl> & <chr>\\\\\n",
       "\\hline\n",
       "\t 320 & 0.9328347 & 0.8019376 & 0.3446537 & 0.7719722 & 001013 & 50906 & 2008-01-31 & 2008 & 1 & ⋯ & 0.1948368 & 0.477 & 0.099 & 0.429 & -0.08446115 & 0.9738662 & -0.2997048 & 1.193008 & 3.171002 & 001013-2008-03-05\\\\\n",
       "\\end{tabular}\n"
      ],
      "text/markdown": [
       "\n",
       "A data.table: 1 × 59\n",
       "\n",
       "| transcriptid &lt;int&gt; | similarity_finbert &lt;dbl&gt; | similarity_unigram &lt;dbl&gt; | similarity_bigram &lt;dbl&gt; | similarity_allgram &lt;dbl&gt; | gvkey &lt;chr&gt; | permno &lt;chr&gt; | datadate &lt;date&gt; | fyear &lt;dbl&gt; | fqtr &lt;dbl&gt; | ⋯ ⋯ | car_0_30_lead1 &lt;dbl&gt; | bm &lt;dbl&gt; | roa &lt;dbl&gt; | debt_asset &lt;dbl&gt; | alpha &lt;dbl&gt; | beta_mktrf &lt;dbl&gt; | beta_smb &lt;dbl&gt; | beta_hml &lt;dbl&gt; | volatility &lt;dbl&gt; | docid &lt;chr&gt; |\n",
       "|---|---|---|---|---|---|---|---|---|---|---|---|---|---|---|---|---|---|---|---|---|\n",
       "| 320 | 0.9328347 | 0.8019376 | 0.3446537 | 0.7719722 | 001013 | 50906 | 2008-01-31 | 2008 | 1 | ⋯ | 0.1948368 | 0.477 | 0.099 | 0.429 | -0.08446115 | 0.9738662 | -0.2997048 | 1.193008 | 3.171002 | 001013-2008-03-05 |\n",
       "\n"
      ],
      "text/plain": [
       "  transcriptid similarity_finbert similarity_unigram similarity_bigram\n",
       "1 320          0.9328347          0.8019376          0.3446537        \n",
       "  similarity_allgram gvkey  permno datadate   fyear fqtr <U+22EF>  \n",
       "1 0.7719722          001013 50906  2008-01-31 2008  1    <U+22EF>\n",
       "  car_0_30_lead1 bm    roa   debt_asset alpha       beta_mktrf beta_smb  \n",
       "1 0.1948368      0.477 0.099 0.429      -0.08446115 0.9738662  -0.2997048\n",
       "  beta_hml volatility docid            \n",
       "1 1.193008 3.171002   001013-2008-03-05"
      ]
     },
     "metadata": {},
     "output_type": "display_data"
    }
   ],
   "source": [
    "sprintf('N f_sue_keydevid_car_finratio_vol_transcriptid: %s\\n', nrow(f_sue_keydevid_car_finratio_vol_transcriptid)) %>% cat()\n",
    "\n",
    "# add similarity_ngram\n",
    "f_sue_keydevid_car_finratio_vol_transcriptid_sim = similarity[f_sue_keydevid_car_finratio_vol_transcriptid, on=.(transcriptid), nomatch=NULL] %>% unique()\n",
    "\n",
    "# add similarity_finbert\n",
    "f_sue_keydevid_car_finratio_vol_transcriptid_sim = similarity_finbert[f_sue_keydevid_car_finratio_vol_transcriptid_sim, on=.(transcriptid), nomatch=NULL] %>% unique()\n",
    "\n",
    "sprintf('N f_sue_keydevid_car_finratio_vol_transcriptid_sim: %s\\n', nrow(f_sue_keydevid_car_finratio_vol_transcriptid_sim)) %>% cat()\n",
    "sv(f_sue_keydevid_car_finratio_vol_transcriptid_sim)\n",
    "f_sue_keydevid_car_finratio_vol_transcriptid_sim[1]"
   ]
  },
  {
   "cell_type": "code",
   "execution_count": 33,
   "metadata": {},
   "outputs": [
    {
     "data": {
      "text/html": [
       "4.11855367798824"
      ],
      "text/latex": [
       "4.11855367798824"
      ],
      "text/markdown": [
       "4.11855367798824"
      ],
      "text/plain": [
       "[1] 4.118554"
      ]
     },
     "metadata": {},
     "output_type": "display_data"
    },
    {
     "data": {
      "text/html": [
       "-3.27026060969742"
      ],
      "text/latex": [
       "-3.27026060969742"
      ],
      "text/markdown": [
       "-3.27026060969742"
      ],
      "text/plain": [
       "[1] -3.270261"
      ]
     },
     "metadata": {},
     "output_type": "display_data"
    }
   ],
   "source": [
    "f_sue_keydevid_car_finratio_vol_transcriptid_sim[sue>quantile(sue,0.9,na.rm=T), mean(car_0_30, na.rm=T)]\n",
    "f_sue_keydevid_car_finratio_vol_transcriptid_sim[sue<quantile(sue,0.1,na.rm=T), mean(car_0_30, na.rm=T)]"
   ]
  },
  {
   "cell_type": "code",
   "execution_count": null,
   "metadata": {},
   "outputs": [],
   "source": [
    "# Plot: number of calls by year\n",
    "f_sue_keydevid_car_finratio_vol_transcriptid_sim[, .(year=as.factor(year(ciq_release_date)))] %>%\n",
    "    plot_ly(x=~year, type='histogram') %>%\n",
    "    plotly::layout(autosize=T)"
   ]
  },
  {
   "cell_type": "markdown",
   "metadata": {},
   "source": [
    "## <-> inflow"
   ]
  },
  {
   "cell_type": "markdown",
   "metadata": {},
   "source": [
    "Task:\n",
    "- Track the [-3, 35] and [-35, 3] money inflow before or after each earnings call\n",
    "    - use `foverlaps(query, subject)`\n",
    "    - `query=f_sue`\n",
    "    - `subject=inflow`"
   ]
  },
  {
   "cell_type": "code",
   "execution_count": 35,
   "metadata": {},
   "outputs": [
    {
     "name": "stdout",
     "output_type": "stream",
     "text": [
      "\"f_sue_keydevid_car_finratio_vol_transcriptid_sim.feather\" (9.4 MB) loaded (0.01 secs, 2021-02-26 17:32:32)\n",
      "\"inflow.feather\" (19.9 MB) loaded (0.06 secs, 2021-02-26 17:32:32)\n"
     ]
    }
   ],
   "source": [
    "ld(f_sue_keydevid_car_finratio_vol_transcriptid_sim, force=T)\n",
    "ld(inflow, force=T)"
   ]
  },
  {
   "cell_type": "code",
   "execution_count": 36,
   "metadata": {},
   "outputs": [
    {
     "name": "stdout",
     "output_type": "stream",
     "text": [
      "N f_sue_keydevid_car_finratio_vol_transcriptid_sim: 26878\n",
      "N f_sue_keydevid_car_finratio_vol_transcriptid_sim_inflow: 26878\n",
      "\"f_sue_keydevid_car_finratio_vol_transcriptid_sim_inflow\" saved as \"f_sue_keydevid_car_finratio_vol_transcriptid_sim_inflow.feather\" (10.2 MB) (0.03 secs, 2021-02-26 17:32:39)\n"
     ]
    },
    {
     "data": {
      "text/html": [
       "<table class=\"dataframe\">\n",
       "<caption>A data.table: 1 × 63</caption>\n",
       "<thead>\n",
       "\t<tr><th scope=col>permno</th><th scope=col>transcriptid</th><th scope=col>similarity_finbert</th><th scope=col>similarity_unigram</th><th scope=col>similarity_bigram</th><th scope=col>similarity_allgram</th><th scope=col>gvkey</th><th scope=col>datadate</th><th scope=col>fyear</th><th scope=col>fqtr</th><th scope=col>⋯</th><th scope=col>alpha</th><th scope=col>beta_mktrf</th><th scope=col>beta_smb</th><th scope=col>beta_hml</th><th scope=col>volatility</th><th scope=col>docid</th><th scope=col>inflow_0_90</th><th scope=col>inflow_0_60</th><th scope=col>inflow_0_30</th><th scope=col>inflow_m30_0</th></tr>\n",
       "\t<tr><th scope=col>&lt;chr&gt;</th><th scope=col>&lt;int&gt;</th><th scope=col>&lt;dbl&gt;</th><th scope=col>&lt;dbl&gt;</th><th scope=col>&lt;dbl&gt;</th><th scope=col>&lt;dbl&gt;</th><th scope=col>&lt;chr&gt;</th><th scope=col>&lt;date&gt;</th><th scope=col>&lt;dbl&gt;</th><th scope=col>&lt;dbl&gt;</th><th scope=col>⋯</th><th scope=col>&lt;dbl&gt;</th><th scope=col>&lt;dbl&gt;</th><th scope=col>&lt;dbl&gt;</th><th scope=col>&lt;dbl&gt;</th><th scope=col>&lt;dbl&gt;</th><th scope=col>&lt;chr&gt;</th><th scope=col>&lt;dbl&gt;</th><th scope=col>&lt;dbl&gt;</th><th scope=col>&lt;dbl&gt;</th><th scope=col>&lt;dbl&gt;</th></tr>\n",
       "</thead>\n",
       "<tbody>\n",
       "\t<tr><td>50906</td><td>320</td><td>0.9328347</td><td>0.8019376</td><td>0.3446537</td><td>0.7719722</td><td>001013</td><td>2008-01-31</td><td>2008</td><td>1</td><td>⋯</td><td>-0.08446115</td><td>0.9738662</td><td>-0.2997048</td><td>1.193008</td><td>3.171002</td><td>001013-2008-03-05</td><td>74.69675</td><td>74.69675</td><td>197.6949</td><td>21.2308</td></tr>\n",
       "</tbody>\n",
       "</table>\n"
      ],
      "text/latex": [
       "A data.table: 1 × 63\n",
       "\\begin{tabular}{lllllllllllllllllllll}\n",
       " permno & transcriptid & similarity\\_finbert & similarity\\_unigram & similarity\\_bigram & similarity\\_allgram & gvkey & datadate & fyear & fqtr & ⋯ & alpha & beta\\_mktrf & beta\\_smb & beta\\_hml & volatility & docid & inflow\\_0\\_90 & inflow\\_0\\_60 & inflow\\_0\\_30 & inflow\\_m30\\_0\\\\\n",
       " <chr> & <int> & <dbl> & <dbl> & <dbl> & <dbl> & <chr> & <date> & <dbl> & <dbl> & ⋯ & <dbl> & <dbl> & <dbl> & <dbl> & <dbl> & <chr> & <dbl> & <dbl> & <dbl> & <dbl>\\\\\n",
       "\\hline\n",
       "\t 50906 & 320 & 0.9328347 & 0.8019376 & 0.3446537 & 0.7719722 & 001013 & 2008-01-31 & 2008 & 1 & ⋯ & -0.08446115 & 0.9738662 & -0.2997048 & 1.193008 & 3.171002 & 001013-2008-03-05 & 74.69675 & 74.69675 & 197.6949 & 21.2308\\\\\n",
       "\\end{tabular}\n"
      ],
      "text/markdown": [
       "\n",
       "A data.table: 1 × 63\n",
       "\n",
       "| permno &lt;chr&gt; | transcriptid &lt;int&gt; | similarity_finbert &lt;dbl&gt; | similarity_unigram &lt;dbl&gt; | similarity_bigram &lt;dbl&gt; | similarity_allgram &lt;dbl&gt; | gvkey &lt;chr&gt; | datadate &lt;date&gt; | fyear &lt;dbl&gt; | fqtr &lt;dbl&gt; | ⋯ ⋯ | alpha &lt;dbl&gt; | beta_mktrf &lt;dbl&gt; | beta_smb &lt;dbl&gt; | beta_hml &lt;dbl&gt; | volatility &lt;dbl&gt; | docid &lt;chr&gt; | inflow_0_90 &lt;dbl&gt; | inflow_0_60 &lt;dbl&gt; | inflow_0_30 &lt;dbl&gt; | inflow_m30_0 &lt;dbl&gt; |\n",
       "|---|---|---|---|---|---|---|---|---|---|---|---|---|---|---|---|---|---|---|---|---|\n",
       "| 50906 | 320 | 0.9328347 | 0.8019376 | 0.3446537 | 0.7719722 | 001013 | 2008-01-31 | 2008 | 1 | ⋯ | -0.08446115 | 0.9738662 | -0.2997048 | 1.193008 | 3.171002 | 001013-2008-03-05 | 74.69675 | 74.69675 | 197.6949 | 21.2308 |\n",
       "\n"
      ],
      "text/plain": [
       "  permno transcriptid similarity_finbert similarity_unigram similarity_bigram\n",
       "1 50906  320          0.9328347          0.8019376          0.3446537        \n",
       "  similarity_allgram gvkey  datadate   fyear fqtr <U+22EF>   alpha      \n",
       "1 0.7719722          001013 2008-01-31 2008  1    <U+22EF> -0.08446115\n",
       "  beta_mktrf beta_smb   beta_hml volatility docid             inflow_0_90\n",
       "1 0.9738662  -0.2997048 1.193008 3.171002   001013-2008-03-05 74.69675   \n",
       "  inflow_0_60 inflow_0_30 inflow_m30_0\n",
       "1 74.69675    197.6949    21.2308     "
      ]
     },
     "metadata": {},
     "output_type": "display_data"
    }
   ],
   "source": [
    "sprintf('N f_sue_keydevid_car_finratio_vol_transcriptid_sim: %s\\n', nrow(f_sue_keydevid_car_finratio_vol_transcriptid_sim)) %>% cat()\n",
    "\n",
    "# subject: inflow\n",
    "inflow[, ':='(start=report_dt-95, end=report_dt+95)]\n",
    "setkey(inflow, permno, start, end)\n",
    "\n",
    "# query: f_sue\n",
    "f_sue_keydevid_car_finratio_vol_transcriptid_sim[, ':='(start=ciq_call_date, end=ciq_call_date)]\n",
    "setkey(f_sue_keydevid_car_finratio_vol_transcriptid_sim, permno, start, end)\n",
    "\n",
    "# foverlaps(query, subject)\n",
    "f_sue_keydevid_car_finratio_vol_transcriptid_sim_inflow = foverlaps(\n",
    "      f_sue_keydevid_car_finratio_vol_transcriptid_sim, inflow,\n",
    "      nomatch=NA)[, ':='(mv=NULL, i.start=NULL, i.end=NULL)\n",
    "    ][, ':='(inflow_0_90=sum(inflow[(report_dt-ciq_call_date) %between% c(-3, 85)], na.rm=T)), by=docid\n",
    "    ][, ':='(inflow_0_60=sum(inflow[(report_dt-ciq_call_date) %between% c(-3, 60)], na.rm=T)), by=docid\n",
    "    ][, ':='(inflow_0_30=sum(inflow[(report_dt-ciq_call_date) %between% c(-3, 30)], na.rm=T)), by=docid\n",
    "    ][, ':='(inflow_m30_0=sum(inflow[(report_dt-ciq_call_date) %between% c(-30, 3)], na.rm=T)), by=docid\n",
    "    ][is.na(inflow_0_90), ':='(inflow_0_90=0)\n",
    "    ][is.na(inflow_0_60), ':='(inflow_0_60=0)\n",
    "    ][is.na(inflow_0_30), ':='(inflow_0_30=0)\n",
    "    ][is.na(inflow_m30_0), ':='(inflow_m30_0=0)\n",
    "    ][, ':='(report_dt=NULL, inflow=NULL, start=NULL, end=NULL)\n",
    "    ][order(docid)] %>% unique()\n",
    "\n",
    "sprintf('N f_sue_keydevid_car_finratio_vol_transcriptid_sim_inflow: %s\\n', nrow(f_sue_keydevid_car_finratio_vol_transcriptid_sim_inflow)) %>% cat()\n",
    "\n",
    "sv(f_sue_keydevid_car_finratio_vol_transcriptid_sim_inflow)\n",
    "f_sue_keydevid_car_finratio_vol_transcriptid_sim_inflow[1]"
   ]
  },
  {
   "cell_type": "code",
   "execution_count": null,
   "metadata": {},
   "outputs": [],
   "source": [
    "# Plot: number of calls by year\n",
    "f_sue_keydevid_car_finratio_vol_transcriptid_sim_inflow[, \n",
    "      .(year=as.factor(year(ciq_release_date)))\n",
    "    ] %>% plot_ly(x=~year, type='histogram') %>%\n",
    "    plotly::layout(autosize=T)"
   ]
  },
  {
   "cell_type": "markdown",
   "metadata": {},
   "source": [
    "## <-> revision"
   ]
  },
  {
   "cell_type": "code",
   "execution_count": 38,
   "metadata": {},
   "outputs": [
    {
     "name": "stdout",
     "output_type": "stream",
     "text": [
      "\"revision.feather\" (46.9 MB) loaded (0.15 secs, 2021-02-26 17:32:46)\n",
      "\"f_sue_keydevid_car_finratio_vol_transcriptid_sim_inflow.feather\" (10.2 MB) loaded (0.01 secs, 2021-02-26 17:32:46)\n"
     ]
    }
   ],
   "source": [
    "ld(revision, force=T)\n",
    "ld(f_sue_keydevid_car_finratio_vol_transcriptid_sim_inflow, force=T)"
   ]
  },
  {
   "cell_type": "markdown",
   "metadata": {},
   "source": [
    "Task\n",
    "- How soon do anlysts revise their year-end earnings forecats after earnings call?"
   ]
  },
  {
   "cell_type": "code",
   "execution_count": 7,
   "metadata": {
    "scrolled": true
   },
   "outputs": [],
   "source": [
    "how_soon_revise = revision[, .(gvkey, anndats, analys, revision, join_date=anndats)\n",
    "    ][f_sue_keydevid_car_finratio_vol_transcriptid_sim_inflow[, .(gvkey, ciq_call_date, sue, join_date=ciq_call_date)],\n",
    "      on=.(gvkey, join_date>=join_date), allow.cartesian=T\n",
    "    ][order(gvkey, ciq_call_date, anndats), .(gvkey, ciq_call_date, anndats, analys, revision)\n",
    "    ][anndats-ciq_call_date<=30, .(t=(anndats-ciq_call_date)[1], n=.N), keyby=.(gvkey, ciq_call_date, anndats)]"
   ]
  },
  {
   "cell_type": "code",
   "execution_count": null,
   "metadata": {},
   "outputs": [],
   "source": [
    "# plot: How soon do anlysts revise their year-end earnings forecats after earnings call?\n",
    "# ==> Most in the first 2 days\n",
    "how_soon_revise[, .(n=sum(n)), keyby=.(t)] %>%\n",
    "    plot_ly(x=~t, y=~n, type='bar') %>%\n",
    "    plotly::layout(autosize=F, xaxis=list(title='N days after earnings call'),\n",
    "                   yaxis=list(title='N revisions'))"
   ]
  },
  {
   "cell_type": "markdown",
   "metadata": {},
   "source": [
    "Task:\n",
    "- <-> revision"
   ]
  },
  {
   "cell_type": "code",
   "execution_count": 39,
   "metadata": {},
   "outputs": [
    {
     "name": "stdout",
     "output_type": "stream",
     "text": [
      "N f_sue_keydevid_car_finratio_vol_transcriptid_sim_inflow: 26878\n",
      "N f_sue_keydevid_car_finratio_vol_transcriptid_sim_inflow_revision: 26878\n",
      "\"f_sue_keydevid_car_finratio_vol_transcriptid_sim_inflow_revision\" saved as \"f_sue_keydevid_car_finratio_vol_transcriptid_sim_inflow_revision.feather\" (11 MB) (0.03 secs, 2021-02-26 17:33:15)\n"
     ]
    },
    {
     "data": {
      "text/html": [
       "<table class=\"dataframe\">\n",
       "<caption>A data.table: 1 × 67</caption>\n",
       "<thead>\n",
       "\t<tr><th scope=col>gvkey</th><th scope=col>permno</th><th scope=col>transcriptid</th><th scope=col>similarity_finbert</th><th scope=col>similarity_unigram</th><th scope=col>similarity_bigram</th><th scope=col>similarity_allgram</th><th scope=col>datadate</th><th scope=col>fyear</th><th scope=col>fqtr</th><th scope=col>⋯</th><th scope=col>volatility</th><th scope=col>docid</th><th scope=col>inflow_0_90</th><th scope=col>inflow_0_60</th><th scope=col>inflow_0_30</th><th scope=col>inflow_m30_0</th><th scope=col>revision_0_90</th><th scope=col>revision_0_60</th><th scope=col>revision_0_30</th><th scope=col>revision_m30_0</th></tr>\n",
       "\t<tr><th scope=col>&lt;chr&gt;</th><th scope=col>&lt;chr&gt;</th><th scope=col>&lt;int&gt;</th><th scope=col>&lt;dbl&gt;</th><th scope=col>&lt;dbl&gt;</th><th scope=col>&lt;dbl&gt;</th><th scope=col>&lt;dbl&gt;</th><th scope=col>&lt;date&gt;</th><th scope=col>&lt;dbl&gt;</th><th scope=col>&lt;dbl&gt;</th><th scope=col>⋯</th><th scope=col>&lt;dbl&gt;</th><th scope=col>&lt;chr&gt;</th><th scope=col>&lt;dbl&gt;</th><th scope=col>&lt;dbl&gt;</th><th scope=col>&lt;dbl&gt;</th><th scope=col>&lt;dbl&gt;</th><th scope=col>&lt;dbl&gt;</th><th scope=col>&lt;dbl&gt;</th><th scope=col>&lt;dbl&gt;</th><th scope=col>&lt;dbl&gt;</th></tr>\n",
       "</thead>\n",
       "<tbody>\n",
       "\t<tr><td>001013</td><td>50906</td><td>320</td><td>0.9328347</td><td>0.8019376</td><td>0.3446537</td><td>0.7719722</td><td>2008-01-31</td><td>2008</td><td>1</td><td>⋯</td><td>3.171002</td><td>001013-2008-03-05</td><td>74.69675</td><td>74.69675</td><td>197.6949</td><td>21.2308</td><td>0.2643754</td><td>0.2291198</td><td>0.2962963</td><td>0.4074074</td></tr>\n",
       "</tbody>\n",
       "</table>\n"
      ],
      "text/latex": [
       "A data.table: 1 × 67\n",
       "\\begin{tabular}{lllllllllllllllllllll}\n",
       " gvkey & permno & transcriptid & similarity\\_finbert & similarity\\_unigram & similarity\\_bigram & similarity\\_allgram & datadate & fyear & fqtr & ⋯ & volatility & docid & inflow\\_0\\_90 & inflow\\_0\\_60 & inflow\\_0\\_30 & inflow\\_m30\\_0 & revision\\_0\\_90 & revision\\_0\\_60 & revision\\_0\\_30 & revision\\_m30\\_0\\\\\n",
       " <chr> & <chr> & <int> & <dbl> & <dbl> & <dbl> & <dbl> & <date> & <dbl> & <dbl> & ⋯ & <dbl> & <chr> & <dbl> & <dbl> & <dbl> & <dbl> & <dbl> & <dbl> & <dbl> & <dbl>\\\\\n",
       "\\hline\n",
       "\t 001013 & 50906 & 320 & 0.9328347 & 0.8019376 & 0.3446537 & 0.7719722 & 2008-01-31 & 2008 & 1 & ⋯ & 3.171002 & 001013-2008-03-05 & 74.69675 & 74.69675 & 197.6949 & 21.2308 & 0.2643754 & 0.2291198 & 0.2962963 & 0.4074074\\\\\n",
       "\\end{tabular}\n"
      ],
      "text/markdown": [
       "\n",
       "A data.table: 1 × 67\n",
       "\n",
       "| gvkey &lt;chr&gt; | permno &lt;chr&gt; | transcriptid &lt;int&gt; | similarity_finbert &lt;dbl&gt; | similarity_unigram &lt;dbl&gt; | similarity_bigram &lt;dbl&gt; | similarity_allgram &lt;dbl&gt; | datadate &lt;date&gt; | fyear &lt;dbl&gt; | fqtr &lt;dbl&gt; | ⋯ ⋯ | volatility &lt;dbl&gt; | docid &lt;chr&gt; | inflow_0_90 &lt;dbl&gt; | inflow_0_60 &lt;dbl&gt; | inflow_0_30 &lt;dbl&gt; | inflow_m30_0 &lt;dbl&gt; | revision_0_90 &lt;dbl&gt; | revision_0_60 &lt;dbl&gt; | revision_0_30 &lt;dbl&gt; | revision_m30_0 &lt;dbl&gt; |\n",
       "|---|---|---|---|---|---|---|---|---|---|---|---|---|---|---|---|---|---|---|---|---|\n",
       "| 001013 | 50906 | 320 | 0.9328347 | 0.8019376 | 0.3446537 | 0.7719722 | 2008-01-31 | 2008 | 1 | ⋯ | 3.171002 | 001013-2008-03-05 | 74.69675 | 74.69675 | 197.6949 | 21.2308 | 0.2643754 | 0.2291198 | 0.2962963 | 0.4074074 |\n",
       "\n"
      ],
      "text/plain": [
       "  gvkey  permno transcriptid similarity_finbert similarity_unigram\n",
       "1 001013 50906  320          0.9328347          0.8019376         \n",
       "  similarity_bigram similarity_allgram datadate   fyear fqtr <U+22EF>  \n",
       "1 0.3446537         0.7719722          2008-01-31 2008  1    <U+22EF>\n",
       "  volatility docid             inflow_0_90 inflow_0_60 inflow_0_30 inflow_m30_0\n",
       "1 3.171002   001013-2008-03-05 74.69675    74.69675    197.6949    21.2308     \n",
       "  revision_0_90 revision_0_60 revision_0_30 revision_m30_0\n",
       "1 0.2643754     0.2291198     0.2962963     0.4074074     "
      ]
     },
     "metadata": {},
     "output_type": "display_data"
    }
   ],
   "source": [
    "sprintf('N f_sue_keydevid_car_finratio_vol_transcriptid_sim_inflow: %s\\n', nrow(f_sue_keydevid_car_finratio_vol_transcriptid_sim_inflow)) %>% cat()\n",
    "\n",
    "# subject: inflow\n",
    "revision[, ':='(start=anndats-95, end=anndats+95)]\n",
    "setkey(revision, gvkey, start, end)\n",
    "\n",
    "# query: f_sue\n",
    "f_sue_keydevid_car_finratio_vol_transcriptid_sim_inflow[, ':='(start=ciq_call_date, end=ciq_call_date)]\n",
    "setkey(f_sue_keydevid_car_finratio_vol_transcriptid_sim_inflow, gvkey, start, end)\n",
    "\n",
    "# foverlaps(query, subject)\n",
    "f_sue_keydevid_car_finratio_vol_transcriptid_sim_inflow_revision = foverlaps(\n",
    "      f_sue_keydevid_car_finratio_vol_transcriptid_sim_inflow, revision,\n",
    "      nomatch=NA)[, ':='(i.start=NULL, i.end=NULL)\n",
    "    ][, ':='(revision_0_90=median(revision[(anndats-ciq_call_date) %between% c(-1, 85)], na.rm=T)), by=docid\n",
    "    ][, ':='(revision_0_60=median(revision[(anndats-ciq_call_date) %between% c(-1, 60)], na.rm=T)), by=docid\n",
    "    ][, ':='(revision_0_30=median(revision[(anndats-ciq_call_date) %between% c(-1, 30)], na.rm=T)), by=docid\n",
    "    ][, ':='(revision_m30_0=median(revision[(anndats-ciq_call_date) %between% c(-30, 1)], na.rm=T)), by=docid\n",
    "    ][is.na(revision_0_90), ':='(revision_0_90=0)\n",
    "    ][is.na(revision_0_60), ':='(revision_0_60=0)\n",
    "    ][is.na(revision_0_30), ':='(revision_0_30=0)\n",
    "    ][is.na(revision_m30_0), ':='(revision_m30_0=0)\n",
    "    ][, ':='(anndats=NULL, analys=NULL, ticker=NULL, fpedats=NULL, revdats=NULL, value=NULL, revision=NULL, pdf=NULL, start=NULL, end=NULL)\n",
    "    ][order(docid)] %>% unique()\n",
    "\n",
    "sprintf('N f_sue_keydevid_car_finratio_vol_transcriptid_sim_inflow_revision: %s\\n', nrow(f_sue_keydevid_car_finratio_vol_transcriptid_sim_inflow_revision)) %>% cat()\n",
    "\n",
    "sv(f_sue_keydevid_car_finratio_vol_transcriptid_sim_inflow_revision)\n",
    "f_sue_keydevid_car_finratio_vol_transcriptid_sim_inflow_revision[1]"
   ]
  },
  {
   "cell_type": "code",
   "execution_count": null,
   "metadata": {},
   "outputs": [],
   "source": [
    "# Plot: number of calls by year\n",
    "f_sue_keydevid_car_finratio_vol_transcriptid_sim_inflow_revision[, .(year=as.factor(year(ciq_release_date)))] %>%\n",
    "    plot_ly(x=~year, type='histogram') %>%\n",
    "    plotly::layout(autosize=T)"
   ]
  },
  {
   "cell_type": "markdown",
   "metadata": {},
   "source": [
    "## <-> retail"
   ]
  },
  {
   "cell_type": "code",
   "execution_count": 7,
   "metadata": {},
   "outputs": [
    {
     "data": {
      "text/html": [
       "<table class=\"dataframe\">\n",
       "<caption>A data.table: 1 × 5</caption>\n",
       "<thead>\n",
       "\t<tr><th scope=col>gvkey</th><th scope=col>date</th><th scope=col>total_vol</th><th scope=col>retail_buy_vol</th><th scope=col>retail_sell_vol</th></tr>\n",
       "\t<tr><th scope=col>&lt;chr&gt;</th><th scope=col>&lt;date&gt;</th><th scope=col>&lt;dbl&gt;</th><th scope=col>&lt;dbl&gt;</th><th scope=col>&lt;dbl&gt;</th></tr>\n",
       "</thead>\n",
       "<tbody>\n",
       "\t<tr><td>001004</td><td>2007-01-03</td><td>288900</td><td>1500</td><td>11100</td></tr>\n",
       "</tbody>\n",
       "</table>\n"
      ],
      "text/latex": [
       "A data.table: 1 × 5\n",
       "\\begin{tabular}{lllll}\n",
       " gvkey & date & total\\_vol & retail\\_buy\\_vol & retail\\_sell\\_vol\\\\\n",
       " <chr> & <date> & <dbl> & <dbl> & <dbl>\\\\\n",
       "\\hline\n",
       "\t 001004 & 2007-01-03 & 288900 & 1500 & 11100\\\\\n",
       "\\end{tabular}\n"
      ],
      "text/markdown": [
       "\n",
       "A data.table: 1 × 5\n",
       "\n",
       "| gvkey &lt;chr&gt; | date &lt;date&gt; | total_vol &lt;dbl&gt; | retail_buy_vol &lt;dbl&gt; | retail_sell_vol &lt;dbl&gt; |\n",
       "|---|---|---|---|---|\n",
       "| 001004 | 2007-01-03 | 288900 | 1500 | 11100 |\n",
       "\n"
      ],
      "text/plain": [
       "  gvkey  date       total_vol retail_buy_vol retail_sell_vol\n",
       "1 001004 2007-01-03 288900    1500           11100          "
      ]
     },
     "metadata": {},
     "output_type": "display_data"
    }
   ],
   "source": [
    "retail[1]"
   ]
  },
  {
   "cell_type": "code",
   "execution_count": 10,
   "metadata": {
    "scrolled": true
   },
   "outputs": [
    {
     "name": "stdout",
     "output_type": "stream",
     "text": [
      "retail (173.3 MB) already loaded, will NOT load again! (0 secs) (2021-03-01 2:05 PM)\n",
      "f_sue_keydevid_car_finratio_vol_transcriptid_sim_inflow_revision (11 MB) already loaded, will NOT load again! (0 secs) (2021-03-01 2:05 PM)\n",
      "N f_sue_keydevid_car_finratio_vol_transcriptid_sim_inflow_revision: 26878\n",
      "N f_sue_keydevid_car_finratio_vol_transcriptid_sim_inflow_revision_retail: 26878\n"
     ]
    },
    {
     "data": {
      "text/html": [
       "<table class=\"dataframe\">\n",
       "<caption>A data.table: 1 × 91</caption>\n",
       "<thead>\n",
       "\t<tr><th scope=col>gvkey</th><th scope=col>permno</th><th scope=col>transcriptid</th><th scope=col>similarity_finbert</th><th scope=col>similarity_unigram</th><th scope=col>similarity_bigram</th><th scope=col>similarity_allgram</th><th scope=col>datadate</th><th scope=col>fyear</th><th scope=col>fqtr</th><th scope=col>⋯</th><th scope=col>retail_sell_m3_0</th><th scope=col>retail_sell_0_3</th><th scope=col>retail_sell_0_10</th><th scope=col>retail_sell_0_30</th><th scope=col>retail_net_m30_0</th><th scope=col>retail_net_m10_0</th><th scope=col>retail_net_m3_0</th><th scope=col>retail_net_0_3</th><th scope=col>retail_net_0_10</th><th scope=col>retail_net_0_30</th></tr>\n",
       "\t<tr><th scope=col>&lt;chr&gt;</th><th scope=col>&lt;chr&gt;</th><th scope=col>&lt;int&gt;</th><th scope=col>&lt;dbl&gt;</th><th scope=col>&lt;dbl&gt;</th><th scope=col>&lt;dbl&gt;</th><th scope=col>&lt;dbl&gt;</th><th scope=col>&lt;date&gt;</th><th scope=col>&lt;dbl&gt;</th><th scope=col>&lt;dbl&gt;</th><th scope=col>⋯</th><th scope=col>&lt;dbl&gt;</th><th scope=col>&lt;dbl&gt;</th><th scope=col>&lt;dbl&gt;</th><th scope=col>&lt;dbl&gt;</th><th scope=col>&lt;dbl&gt;</th><th scope=col>&lt;dbl&gt;</th><th scope=col>&lt;dbl&gt;</th><th scope=col>&lt;dbl&gt;</th><th scope=col>&lt;dbl&gt;</th><th scope=col>&lt;dbl&gt;</th></tr>\n",
       "</thead>\n",
       "<tbody>\n",
       "\t<tr><td>001013</td><td>50906</td><td>320</td><td>0.9328347</td><td>0.8019376</td><td>0.3446537</td><td>0.7719722</td><td>2008-01-31</td><td>2008</td><td>1</td><td>⋯</td><td>152820</td><td>244485</td><td>502171</td><td>899459</td><td>-135822</td><td>-81094</td><td>-83834</td><td>105341</td><td>172821</td><td>289406</td></tr>\n",
       "</tbody>\n",
       "</table>\n"
      ],
      "text/latex": [
       "A data.table: 1 × 91\n",
       "\\begin{tabular}{lllllllllllllllllllll}\n",
       " gvkey & permno & transcriptid & similarity\\_finbert & similarity\\_unigram & similarity\\_bigram & similarity\\_allgram & datadate & fyear & fqtr & ⋯ & retail\\_sell\\_m3\\_0 & retail\\_sell\\_0\\_3 & retail\\_sell\\_0\\_10 & retail\\_sell\\_0\\_30 & retail\\_net\\_m30\\_0 & retail\\_net\\_m10\\_0 & retail\\_net\\_m3\\_0 & retail\\_net\\_0\\_3 & retail\\_net\\_0\\_10 & retail\\_net\\_0\\_30\\\\\n",
       " <chr> & <chr> & <int> & <dbl> & <dbl> & <dbl> & <dbl> & <date> & <dbl> & <dbl> & ⋯ & <dbl> & <dbl> & <dbl> & <dbl> & <dbl> & <dbl> & <dbl> & <dbl> & <dbl> & <dbl>\\\\\n",
       "\\hline\n",
       "\t 001013 & 50906 & 320 & 0.9328347 & 0.8019376 & 0.3446537 & 0.7719722 & 2008-01-31 & 2008 & 1 & ⋯ & 152820 & 244485 & 502171 & 899459 & -135822 & -81094 & -83834 & 105341 & 172821 & 289406\\\\\n",
       "\\end{tabular}\n"
      ],
      "text/markdown": [
       "\n",
       "A data.table: 1 × 91\n",
       "\n",
       "| gvkey &lt;chr&gt; | permno &lt;chr&gt; | transcriptid &lt;int&gt; | similarity_finbert &lt;dbl&gt; | similarity_unigram &lt;dbl&gt; | similarity_bigram &lt;dbl&gt; | similarity_allgram &lt;dbl&gt; | datadate &lt;date&gt; | fyear &lt;dbl&gt; | fqtr &lt;dbl&gt; | ⋯ ⋯ | retail_sell_m3_0 &lt;dbl&gt; | retail_sell_0_3 &lt;dbl&gt; | retail_sell_0_10 &lt;dbl&gt; | retail_sell_0_30 &lt;dbl&gt; | retail_net_m30_0 &lt;dbl&gt; | retail_net_m10_0 &lt;dbl&gt; | retail_net_m3_0 &lt;dbl&gt; | retail_net_0_3 &lt;dbl&gt; | retail_net_0_10 &lt;dbl&gt; | retail_net_0_30 &lt;dbl&gt; |\n",
       "|---|---|---|---|---|---|---|---|---|---|---|---|---|---|---|---|---|---|---|---|---|\n",
       "| 001013 | 50906 | 320 | 0.9328347 | 0.8019376 | 0.3446537 | 0.7719722 | 2008-01-31 | 2008 | 1 | ⋯ | 152820 | 244485 | 502171 | 899459 | -135822 | -81094 | -83834 | 105341 | 172821 | 289406 |\n",
       "\n"
      ],
      "text/plain": [
       "  gvkey  permno transcriptid similarity_finbert similarity_unigram\n",
       "1 001013 50906  320          0.9328347          0.8019376         \n",
       "  similarity_bigram similarity_allgram datadate   fyear fqtr <U+22EF>  \n",
       "1 0.3446537         0.7719722          2008-01-31 2008  1    <U+22EF>\n",
       "  retail_sell_m3_0 retail_sell_0_3 retail_sell_0_10 retail_sell_0_30\n",
       "1 152820           244485          502171           899459          \n",
       "  retail_net_m30_0 retail_net_m10_0 retail_net_m3_0 retail_net_0_3\n",
       "1 -135822          -81094           -83834          105341        \n",
       "  retail_net_0_10 retail_net_0_30\n",
       "1 172821          289406         "
      ]
     },
     "metadata": {},
     "output_type": "display_data"
    },
    {
     "name": "stdout",
     "output_type": "stream",
     "text": [
      "\"f_sue_keydevid_car_finratio_vol_transcriptid_sim_inflow_revision_retail\" saved as \"f_sue_keydevid_car_finratio_vol_transcriptid_sim_inflow_revision_retail.feather\" (14 MB) (0.03 secs, 2021-03-01 14:06:26)\n"
     ]
    }
   ],
   "source": [
    "# -------------------------------\n",
    "# compute the output: retail\n",
    "# -------------------------------\n",
    "ld(retail)\n",
    "ld(f_sue_keydevid_car_finratio_vol_transcriptid_sim_inflow_revision)\n",
    "\n",
    "sprintf('N f_sue_keydevid_car_finratio_vol_transcriptid_sim_inflow_revision: %s\\n', nrow(f_sue_keydevid_car_finratio_vol_transcriptid_sim_inflow_revision)) %>% cat()\n",
    "\n",
    "# create start/end/key for foverlaps\n",
    "f_sue_keydevid_car_finratio_vol_transcriptid_sim_inflow_revision[, ':='(start=ciq_call_date, end=ciq_call_date)]\n",
    "setkey(f_sue_keydevid_car_finratio_vol_transcriptid_sim_inflow_revision, gvkey, start, end)\n",
    "\n",
    "# create start/end/key for foverlaps\n",
    "retail[, ':='(start=date-95, end=date+95)]\n",
    "setkey(retail, gvkey, start, end)\n",
    "\n",
    "f_sue_keydevid_car_finratio_vol_transcriptid_sim_inflow_revision_retail = foverlaps(\n",
    "      f_sue_keydevid_car_finratio_vol_transcriptid_sim_inflow_revision, retail,\n",
    "      nomatch=NA)[, ':='(i.start=NULL, i.end=NULL)\n",
    "    ][, ':='(retail_tot_m30_0=sum(total_vol[(date-ciq_call_date) %between% c(-30, 0)], na.rm=T)), by=docid\n",
    "    ][, ':='(retail_tot_m10_0=sum(total_vol[(date-ciq_call_date) %between% c(-10, 0)], na.rm=T)), by=docid\n",
    "    ][, ':='(retail_tot_m3_0=sum(total_vol[(date-ciq_call_date) %between% c(-3, 0)], na.rm=T)), by=docid\n",
    "    ][, ':='(retail_tot_0_3=sum(total_vol[(date-ciq_call_date) %between% c(0, 3)], na.rm=T)), by=docid\n",
    "    ][, ':='(retail_tot_0_10=sum(total_vol[(date-ciq_call_date) %between% c(0, 10)], na.rm=T)), by=docid\n",
    "    ][, ':='(retail_tot_0_30=sum(total_vol[(date-ciq_call_date) %between% c(0, 30)], na.rm=T)), by=docid\n",
    "    ][, ':='(retail_buy_m30_0=sum(retail_buy_vol[(date-ciq_call_date) %between% c(-30, 0)], na.rm=T)), by=docid\n",
    "    ][, ':='(retail_buy_m10_0=sum(retail_buy_vol[(date-ciq_call_date) %between% c(-10, 0)], na.rm=T)), by=docid\n",
    "    ][, ':='(retail_buy_m3_0=sum(retail_buy_vol[(date-ciq_call_date) %between% c(-3, 0)], na.rm=T)), by=docid\n",
    "    ][, ':='(retail_buy_0_3=sum(retail_buy_vol[(date-ciq_call_date) %between% c(0, 3)], na.rm=T)), by=docid\n",
    "    ][, ':='(retail_buy_0_10=sum(retail_buy_vol[(date-ciq_call_date) %between% c(0, 10)], na.rm=T)), by=docid\n",
    "    ][, ':='(retail_buy_0_30=sum(retail_buy_vol[(date-ciq_call_date) %between% c(0, 30)], na.rm=T)), by=docid    \n",
    "    ][, ':='(retail_sell_m30_0=sum(retail_sell_vol[(date-ciq_call_date) %between% c(-30, 0)], na.rm=T)), by=docid\n",
    "    ][, ':='(retail_sell_m10_0=sum(retail_sell_vol[(date-ciq_call_date) %between% c(-10, 0)], na.rm=T)), by=docid\n",
    "    ][, ':='(retail_sell_m3_0=sum(retail_sell_vol[(date-ciq_call_date) %between% c(-3, 0)], na.rm=T)), by=docid\n",
    "    ][, ':='(retail_sell_0_3=sum(retail_sell_vol[(date-ciq_call_date) %between% c(0, 3)], na.rm=T)), by=docid\n",
    "    ][, ':='(retail_sell_0_10=sum(retail_sell_vol[(date-ciq_call_date) %between% c(0, 10)], na.rm=T)), by=docid\n",
    "    ][, ':='(retail_sell_0_30=sum(retail_sell_vol[(date-ciq_call_date) %between% c(0, 30)], na.rm=T)), by=docid   \n",
    "    ][, ':='(retail_net_m30_0=sum((retail_buy_vol-retail_sell_vol)[(date-ciq_call_date) %between% c(-30, 0)], na.rm=T)), by=docid\n",
    "    ][, ':='(retail_net_m10_0=sum((retail_buy_vol-retail_sell_vol)[(date-ciq_call_date) %between% c(-10, 0)], na.rm=T)), by=docid\n",
    "    ][, ':='(retail_net_m3_0=sum((retail_buy_vol-retail_sell_vol)[(date-ciq_call_date) %between% c(-3, 0)], na.rm=T)), by=docid\n",
    "    ][, ':='(retail_net_0_3=sum((retail_buy_vol-retail_sell_vol)[(date-ciq_call_date) %between% c(0, 3)], na.rm=T)), by=docid\n",
    "    ][, ':='(retail_net_0_10=sum((retail_buy_vol-retail_sell_vol)[(date-ciq_call_date) %between% c(0, 10)], na.rm=T)), by=docid\n",
    "    ][, ':='(retail_net_0_30=sum((retail_buy_vol-retail_sell_vol)[(date-ciq_call_date) %between% c(0, 30)], na.rm=T)), by=docid\n",
    "    ][, ':='(total_vol=NULL, retail_buy_vol=NULL, retail_sell_vol=NULL, start=NULL, end=NULL, date=NULL)\n",
    "    ][order(docid)] %>% unique()\n",
    "\n",
    "sprintf('N f_sue_keydevid_car_finratio_vol_transcriptid_sim_inflow_revision_retail: %s\\n', nrow(f_sue_keydevid_car_finratio_vol_transcriptid_sim_inflow_revision_retail)) %>% cat()\n",
    "\n",
    "f_sue_keydevid_car_finratio_vol_transcriptid_sim_inflow_revision_retail[1]\n",
    "sv(f_sue_keydevid_car_finratio_vol_transcriptid_sim_inflow_revision_retail)"
   ]
  },
  {
   "cell_type": "code",
   "execution_count": 12,
   "metadata": {},
   "outputs": [
    {
     "ename": "ERROR",
     "evalue": "Error: can only subtract from \"Date\" objects\n",
     "output_type": "error",
     "traceback": [
      "Error: can only subtract from \"Date\" objects\nTraceback:\n",
      "1. f_sue_keydevid_car_finratio_vol_transcriptid_sim_inflow_revision_retail[((date - \n .     ciq_call_date) %between% c(-30, 30)), .(retail_tot = sum(total_vol, \n .     na.rm = T), retail_buy = sum(retail_buy_vol, na.rm = T), \n .     retail_sell = sum(retail_sell_vol, na.rm = T)), keyby = .(date - \n .     ciq_call_date)]",
      "2. `[.data.table`(f_sue_keydevid_car_finratio_vol_transcriptid_sim_inflow_revision_retail, \n .     ((date - ciq_call_date) %between% c(-30, 30)), .(retail_tot = sum(total_vol, \n .         na.rm = T), retail_buy = sum(retail_buy_vol, na.rm = T), \n .         retail_sell = sum(retail_sell_vol, na.rm = T)), keyby = .(date - \n .         ciq_call_date))",
      "3. tryCatch(eval(.massagei(isub), x, ienv), error = function(e) {\n .     if (grepl(\":=.*defined for use in j.*only\", e$message)) \n .         stop(\"Operator := detected in i, the first argument inside DT[...], but is only valid in the second argument, j. Most often, this happens when forgetting the first comma (e.g. DT[newvar := 5] instead of DT[ , new_var := 5]). Please double-check the syntax. Run traceback(), and debugger() to get a line number.\")\n .     else .checkTypos(e, names_x)\n . })",
      "4. tryCatchList(expr, classes, parentenv, handlers)",
      "5. tryCatchOne(expr, names, parentenv, handlers[[1L]])",
      "6. value[[3L]](cond)",
      "7. .checkTypos(e, names_x)",
      "8. stop(err$message, call. = FALSE)"
     ]
    }
   ],
   "source": [
    "# ----------------------------------------\n",
    "# PLOT: retail trades change around the call day\n",
    "# ----------------------------------------\n",
    "\n",
    "dt = f_sue_keydevid_car_finratio_vol_transcriptid_sim_inflow_revision_retail[((date-ciq_call_date) %between% c(-30, 30)), \n",
    "      .(retail_tot=sum(total_vol, na.rm=T), \n",
    "        retail_buy=sum(retail_buy_vol, na.rm=T), \n",
    "        retail_sell=sum(retail_sell_vol, na.rm=T)), \n",
    "      keyby=.(date-ciq_call_date)\n",
    "    ][, c('retail_tot', 'retail_buy', 'retail_sell') := lapply(.SD, cumsum), .SDcols=is.numeric][]\n",
    "\n",
    "dt %>%\n",
    "    plot_ly(x=~date, y=~(retail_buy-retail_sell), type='scatter', mode='lines') %>%\n",
    "#     add_trace(y=~retail_buy) %>%\n",
    "#     add_trace(y=~(retail_buy-retail_sell)) %>%\n",
    "    plotly::layout(autosize=F)"
   ]
  },
  {
   "cell_type": "markdown",
   "metadata": {},
   "source": [
    "## <-> sentiment"
   ]
  },
  {
   "cell_type": "code",
   "execution_count": 17,
   "metadata": {},
   "outputs": [
    {
     "name": "stdout",
     "output_type": "stream",
     "text": [
      "sentiment (458.2 MB) already loaded, will NOT load again! (0 secs) (2021-03-01 2:11 PM)\n",
      "dt_sents_sp500 (1 GB) already loaded, will NOT load again! (0 secs) (2021-03-01 2:11 PM)\n",
      "\"ciq_transcript_speaker.feather\" (7.8 GB) loaded (1.42 mins) (2021-03-01 2:12 PM)\n"
     ]
    }
   ],
   "source": [
    "ld(sentiment)\n",
    "ld(dt_sents_sp500)\n",
    "ld(ciq_transcript_speaker, path=WRDS_DOWNLOAD_DIR)"
   ]
  },
  {
   "cell_type": "markdown",
   "metadata": {},
   "source": [
    "`speakertype`\n",
    "- 1: Operator\n",
    "- 2: Exeutives\n",
    "- 3: Analyst\n",
    "- 4: Shareholders\n",
    "- 5: Attendees\n",
    "\n",
    "`transcriptcomponenttypeid`\n",
    "- 1: Presentation Operator Message\n",
    "- 2: Presenter Speech\n",
    "- 3: Question\n",
    "- 4: Answer\n",
    "- 5: Presentation Section (NULL)\n",
    "- 6: Question and Answer Section (NULL)\n",
    "- 7: Question and Answer Operator Message\n",
    "- 8: Unknown Question and Answer Message"
   ]
  },
  {
   "cell_type": "code",
   "execution_count": 18,
   "metadata": {},
   "outputs": [
    {
     "data": {
      "text/html": [
       "<table class=\"dataframe\">\n",
       "<caption>A data.table: 1 × 3</caption>\n",
       "<thead>\n",
       "\t<tr><th scope=col>transcriptid</th><th scope=col>componentid</th><th scope=col>sentenceid</th></tr>\n",
       "\t<tr><th scope=col>&lt;int&gt;</th><th scope=col>&lt;int&gt;</th><th scope=col>&lt;int&gt;</th></tr>\n",
       "</thead>\n",
       "<tbody>\n",
       "\t<tr><td>108</td><td>30190</td><td>290</td></tr>\n",
       "</tbody>\n",
       "</table>\n"
      ],
      "text/latex": [
       "A data.table: 1 × 3\n",
       "\\begin{tabular}{lll}\n",
       " transcriptid & componentid & sentenceid\\\\\n",
       " <int> & <int> & <int>\\\\\n",
       "\\hline\n",
       "\t 108 & 30190 & 290\\\\\n",
       "\\end{tabular}\n"
      ],
      "text/markdown": [
       "\n",
       "A data.table: 1 × 3\n",
       "\n",
       "| transcriptid &lt;int&gt; | componentid &lt;int&gt; | sentenceid &lt;int&gt; |\n",
       "|---|---|---|\n",
       "| 108 | 30190 | 290 |\n",
       "\n"
      ],
      "text/plain": [
       "  transcriptid componentid sentenceid\n",
       "1 108          30190       290       "
      ]
     },
     "metadata": {},
     "output_type": "display_data"
    }
   ],
   "source": [
    "# Find (tid, sid) pair for each speaker type\n",
    "md_manager = ciq_transcript_speaker[\n",
    "      transcriptcomponenttypeid==2 & speakertypeid==2, \n",
    "      .(transcriptid, componentid=transcriptcomponentid)\n",
    "    ][dt_sents_sp500[, .(transcriptid, componentid, sentenceid)],\n",
    "      on=.(transcriptid, componentid), nomatch=NULL]\n",
    "\n",
    "qa_analyst = ciq_transcript_speaker[\n",
    "      transcriptcomponenttypeid==3 & speakertypeid==3, \n",
    "      .(transcriptid, componentid=transcriptcomponentid)\n",
    "    ][dt_sents_sp500[, .(transcriptid, componentid, sentenceid)],\n",
    "      on=.(transcriptid, componentid), nomatch=NULL]\n",
    "\n",
    "qa_manager = ciq_transcript_speaker[\n",
    "      transcriptcomponenttypeid==4 & speakertypeid==2, \n",
    "      .(transcriptid, componentid=transcriptcomponentid)\n",
    "    ][dt_sents_sp500[, .(transcriptid, componentid, sentenceid)],\n",
    "      on=.(transcriptid, componentid), nomatch=NULL]\n",
    "\n",
    "qa_all = ciq_transcript_speaker[\n",
    "      transcriptcomponenttypeid%in%c(3,4) & speakertypeid%in%c(2,3), \n",
    "      .(transcriptid, componentid=transcriptcomponentid)\n",
    "    ][dt_sents_sp500[, .(transcriptid, componentid, sentenceid)],\n",
    "      on=.(transcriptid, componentid), nomatch=NULL]\n",
    "\n",
    "qa_all[1]"
   ]
  },
  {
   "cell_type": "code",
   "execution_count": 19,
   "metadata": {},
   "outputs": [
    {
     "data": {
      "text/html": [
       "<table class=\"dataframe\">\n",
       "<caption>A data.table: 1 × 13</caption>\n",
       "<thead>\n",
       "\t<tr><th scope=col>transcriptid</th><th scope=col>sentiment_positive_md_manager</th><th scope=col>sentiment_negative_md_manager</th><th scope=col>sentiment_neutral_md_manager</th><th scope=col>sentiment_positive_qa_manager</th><th scope=col>sentiment_negative_qa_manager</th><th scope=col>sentiment_neutral_qa_manager</th><th scope=col>sentiment_positive_qa_analyst</th><th scope=col>sentiment_negative_qa_analyst</th><th scope=col>sentiment_neutral_qa_analyst</th><th scope=col>sentiment_positive_qa_all</th><th scope=col>sentiment_negative_qa_all</th><th scope=col>sentiment_neutral_qa_all</th></tr>\n",
       "\t<tr><th scope=col>&lt;int&gt;</th><th scope=col>&lt;dbl&gt;</th><th scope=col>&lt;dbl&gt;</th><th scope=col>&lt;dbl&gt;</th><th scope=col>&lt;dbl&gt;</th><th scope=col>&lt;dbl&gt;</th><th scope=col>&lt;dbl&gt;</th><th scope=col>&lt;dbl&gt;</th><th scope=col>&lt;dbl&gt;</th><th scope=col>&lt;dbl&gt;</th><th scope=col>&lt;dbl&gt;</th><th scope=col>&lt;dbl&gt;</th><th scope=col>&lt;dbl&gt;</th></tr>\n",
       "</thead>\n",
       "<tbody>\n",
       "\t<tr><td>108</td><td>0.4891194</td><td>0.1527988</td><td>0.3580818</td><td>0.366055</td><td>0.1893606</td><td>0.4445844</td><td>0.2922119</td><td>0.1317654</td><td>0.5760226</td><td>0.323859</td><td>0.1564491</td><td>0.519692</td></tr>\n",
       "</tbody>\n",
       "</table>\n"
      ],
      "text/latex": [
       "A data.table: 1 × 13\n",
       "\\begin{tabular}{lllllllllllll}\n",
       " transcriptid & sentiment\\_positive\\_md\\_manager & sentiment\\_negative\\_md\\_manager & sentiment\\_neutral\\_md\\_manager & sentiment\\_positive\\_qa\\_manager & sentiment\\_negative\\_qa\\_manager & sentiment\\_neutral\\_qa\\_manager & sentiment\\_positive\\_qa\\_analyst & sentiment\\_negative\\_qa\\_analyst & sentiment\\_neutral\\_qa\\_analyst & sentiment\\_positive\\_qa\\_all & sentiment\\_negative\\_qa\\_all & sentiment\\_neutral\\_qa\\_all\\\\\n",
       " <int> & <dbl> & <dbl> & <dbl> & <dbl> & <dbl> & <dbl> & <dbl> & <dbl> & <dbl> & <dbl> & <dbl> & <dbl>\\\\\n",
       "\\hline\n",
       "\t 108 & 0.4891194 & 0.1527988 & 0.3580818 & 0.366055 & 0.1893606 & 0.4445844 & 0.2922119 & 0.1317654 & 0.5760226 & 0.323859 & 0.1564491 & 0.519692\\\\\n",
       "\\end{tabular}\n"
      ],
      "text/markdown": [
       "\n",
       "A data.table: 1 × 13\n",
       "\n",
       "| transcriptid &lt;int&gt; | sentiment_positive_md_manager &lt;dbl&gt; | sentiment_negative_md_manager &lt;dbl&gt; | sentiment_neutral_md_manager &lt;dbl&gt; | sentiment_positive_qa_manager &lt;dbl&gt; | sentiment_negative_qa_manager &lt;dbl&gt; | sentiment_neutral_qa_manager &lt;dbl&gt; | sentiment_positive_qa_analyst &lt;dbl&gt; | sentiment_negative_qa_analyst &lt;dbl&gt; | sentiment_neutral_qa_analyst &lt;dbl&gt; | sentiment_positive_qa_all &lt;dbl&gt; | sentiment_negative_qa_all &lt;dbl&gt; | sentiment_neutral_qa_all &lt;dbl&gt; |\n",
       "|---|---|---|---|---|---|---|---|---|---|---|---|---|\n",
       "| 108 | 0.4891194 | 0.1527988 | 0.3580818 | 0.366055 | 0.1893606 | 0.4445844 | 0.2922119 | 0.1317654 | 0.5760226 | 0.323859 | 0.1564491 | 0.519692 |\n",
       "\n"
      ],
      "text/plain": [
       "  transcriptid sentiment_positive_md_manager sentiment_negative_md_manager\n",
       "1 108          0.4891194                     0.1527988                    \n",
       "  sentiment_neutral_md_manager sentiment_positive_qa_manager\n",
       "1 0.3580818                    0.366055                     \n",
       "  sentiment_negative_qa_manager sentiment_neutral_qa_manager\n",
       "1 0.1893606                     0.4445844                   \n",
       "  sentiment_positive_qa_analyst sentiment_negative_qa_analyst\n",
       "1 0.2922119                     0.1317654                    \n",
       "  sentiment_neutral_qa_analyst sentiment_positive_qa_all\n",
       "1 0.5760226                    0.323859                 \n",
       "  sentiment_negative_qa_all sentiment_neutral_qa_all\n",
       "1 0.1564491                 0.519692                "
      ]
     },
     "metadata": {},
     "output_type": "display_data"
    }
   ],
   "source": [
    "# compute sentiment\n",
    "md_manager = sentiment[, ':='(transcriptid=as.integer(transcriptid),\n",
    "                 sentenceid=as.integer(sentenceid))\n",
    "    ][md_manager, on=.(transcriptid, sentenceid), nomatch=NULL\n",
    "    ][, .(sentiment_positive_md_manager=mean(positive, na.rm=T),\n",
    "          sentiment_negative_md_manager=mean(negative, na.rm=T),\n",
    "          sentiment_neutral_md_manager=mean(neutral, na.rm=T)),\n",
    "      keyby=.(transcriptid)]\n",
    "\n",
    "qa_analyst = sentiment[, ':='(transcriptid=as.integer(transcriptid),\n",
    "                 sentenceid=as.integer(sentenceid))\n",
    "    ][qa_analyst, on=.(transcriptid, sentenceid), nomatch=NULL\n",
    "    ][, .(sentiment_positive_qa_analyst=mean(positive, na.rm=T),\n",
    "          sentiment_negative_qa_analyst=mean(negative, na.rm=T),\n",
    "          sentiment_neutral_qa_analyst=mean(neutral, na.rm=T)),\n",
    "      keyby=.(transcriptid)]\n",
    "\n",
    "qa_manager = sentiment[, ':='(transcriptid=as.integer(transcriptid),\n",
    "                 sentenceid=as.integer(sentenceid))\n",
    "    ][qa_manager, on=.(transcriptid, sentenceid), nomatch=NULL\n",
    "    ][, .(sentiment_positive_qa_manager=mean(positive, na.rm=T),\n",
    "          sentiment_negative_qa_manager=mean(negative, na.rm=T),\n",
    "          sentiment_neutral_qa_manager=mean(neutral, na.rm=T)),\n",
    "      keyby=.(transcriptid)]\n",
    "\n",
    "qa_all = sentiment[, ':='(transcriptid=as.integer(transcriptid),\n",
    "                 sentenceid=as.integer(sentenceid))\n",
    "    ][qa_all, on=.(transcriptid, sentenceid), nomatch=NULL\n",
    "    ][, .(sentiment_positive_qa_all=mean(positive, na.rm=T),\n",
    "          sentiment_negative_qa_all=mean(negative, na.rm=T),\n",
    "          sentiment_neutral_qa_all=mean(neutral, na.rm=T)),\n",
    "      keyby=.(transcriptid)]\n",
    "\n",
    "sentiment = md_manager[qa_manager, on=.(transcriptid), nomatch=NULL\n",
    "    ][qa_analyst, on=.(transcriptid), nomatch=NULL\n",
    "    ][qa_all, on=.(transcriptid), nomatch=NULL]\n",
    "\n",
    "sentiment[1]"
   ]
  },
  {
   "cell_type": "code",
   "execution_count": 20,
   "metadata": {},
   "outputs": [
    {
     "name": "stdout",
     "output_type": "stream",
     "text": [
      "\"f_sue_keydevid_car_finratio_vol_transcriptid_sim_inflow_revision_retail.feather\" (14 MB) loaded (0.02 secs) (2021-03-01 2:56 PM)\n",
      "N f_sue_keydevid_car_finratio_vol_transcriptid_sim_inflow_revision_retail: 26878\n",
      "N f_sue_keydevid_car_finratio_vol_transcriptid_sim_inflow_revision_retail_sentiment: 26327\n",
      " (103 variable)\n"
     ]
    },
    {
     "data": {
      "text/html": [
       "<table class=\"dataframe\">\n",
       "<caption>A data.table: 1 × 103</caption>\n",
       "<thead>\n",
       "\t<tr><th scope=col>transcriptid</th><th scope=col>sentiment_positive_md_manager</th><th scope=col>sentiment_negative_md_manager</th><th scope=col>sentiment_neutral_md_manager</th><th scope=col>sentiment_positive_qa_manager</th><th scope=col>sentiment_negative_qa_manager</th><th scope=col>sentiment_neutral_qa_manager</th><th scope=col>sentiment_positive_qa_analyst</th><th scope=col>sentiment_negative_qa_analyst</th><th scope=col>sentiment_neutral_qa_analyst</th><th scope=col>⋯</th><th scope=col>retail_sell_m3_0</th><th scope=col>retail_sell_0_3</th><th scope=col>retail_sell_0_10</th><th scope=col>retail_sell_0_30</th><th scope=col>retail_net_m30_0</th><th scope=col>retail_net_m10_0</th><th scope=col>retail_net_m3_0</th><th scope=col>retail_net_0_3</th><th scope=col>retail_net_0_10</th><th scope=col>retail_net_0_30</th></tr>\n",
       "\t<tr><th scope=col>&lt;int&gt;</th><th scope=col>&lt;dbl&gt;</th><th scope=col>&lt;dbl&gt;</th><th scope=col>&lt;dbl&gt;</th><th scope=col>&lt;dbl&gt;</th><th scope=col>&lt;dbl&gt;</th><th scope=col>&lt;dbl&gt;</th><th scope=col>&lt;dbl&gt;</th><th scope=col>&lt;dbl&gt;</th><th scope=col>&lt;dbl&gt;</th><th scope=col>⋯</th><th scope=col>&lt;dbl&gt;</th><th scope=col>&lt;dbl&gt;</th><th scope=col>&lt;dbl&gt;</th><th scope=col>&lt;dbl&gt;</th><th scope=col>&lt;dbl&gt;</th><th scope=col>&lt;dbl&gt;</th><th scope=col>&lt;dbl&gt;</th><th scope=col>&lt;dbl&gt;</th><th scope=col>&lt;dbl&gt;</th><th scope=col>&lt;dbl&gt;</th></tr>\n",
       "</thead>\n",
       "<tbody>\n",
       "\t<tr><td>320</td><td>0.4169185</td><td>0.1822185</td><td>0.400863</td><td>0.3166729</td><td>0.1609967</td><td>0.5223304</td><td>0.2500814</td><td>0.1686604</td><td>0.5812582</td><td>⋯</td><td>152820</td><td>244485</td><td>502171</td><td>899459</td><td>-135822</td><td>-81094</td><td>-83834</td><td>105341</td><td>172821</td><td>289406</td></tr>\n",
       "</tbody>\n",
       "</table>\n"
      ],
      "text/latex": [
       "A data.table: 1 × 103\n",
       "\\begin{tabular}{lllllllllllllllllllll}\n",
       " transcriptid & sentiment\\_positive\\_md\\_manager & sentiment\\_negative\\_md\\_manager & sentiment\\_neutral\\_md\\_manager & sentiment\\_positive\\_qa\\_manager & sentiment\\_negative\\_qa\\_manager & sentiment\\_neutral\\_qa\\_manager & sentiment\\_positive\\_qa\\_analyst & sentiment\\_negative\\_qa\\_analyst & sentiment\\_neutral\\_qa\\_analyst & ⋯ & retail\\_sell\\_m3\\_0 & retail\\_sell\\_0\\_3 & retail\\_sell\\_0\\_10 & retail\\_sell\\_0\\_30 & retail\\_net\\_m30\\_0 & retail\\_net\\_m10\\_0 & retail\\_net\\_m3\\_0 & retail\\_net\\_0\\_3 & retail\\_net\\_0\\_10 & retail\\_net\\_0\\_30\\\\\n",
       " <int> & <dbl> & <dbl> & <dbl> & <dbl> & <dbl> & <dbl> & <dbl> & <dbl> & <dbl> & ⋯ & <dbl> & <dbl> & <dbl> & <dbl> & <dbl> & <dbl> & <dbl> & <dbl> & <dbl> & <dbl>\\\\\n",
       "\\hline\n",
       "\t 320 & 0.4169185 & 0.1822185 & 0.400863 & 0.3166729 & 0.1609967 & 0.5223304 & 0.2500814 & 0.1686604 & 0.5812582 & ⋯ & 152820 & 244485 & 502171 & 899459 & -135822 & -81094 & -83834 & 105341 & 172821 & 289406\\\\\n",
       "\\end{tabular}\n"
      ],
      "text/markdown": [
       "\n",
       "A data.table: 1 × 103\n",
       "\n",
       "| transcriptid &lt;int&gt; | sentiment_positive_md_manager &lt;dbl&gt; | sentiment_negative_md_manager &lt;dbl&gt; | sentiment_neutral_md_manager &lt;dbl&gt; | sentiment_positive_qa_manager &lt;dbl&gt; | sentiment_negative_qa_manager &lt;dbl&gt; | sentiment_neutral_qa_manager &lt;dbl&gt; | sentiment_positive_qa_analyst &lt;dbl&gt; | sentiment_negative_qa_analyst &lt;dbl&gt; | sentiment_neutral_qa_analyst &lt;dbl&gt; | ⋯ ⋯ | retail_sell_m3_0 &lt;dbl&gt; | retail_sell_0_3 &lt;dbl&gt; | retail_sell_0_10 &lt;dbl&gt; | retail_sell_0_30 &lt;dbl&gt; | retail_net_m30_0 &lt;dbl&gt; | retail_net_m10_0 &lt;dbl&gt; | retail_net_m3_0 &lt;dbl&gt; | retail_net_0_3 &lt;dbl&gt; | retail_net_0_10 &lt;dbl&gt; | retail_net_0_30 &lt;dbl&gt; |\n",
       "|---|---|---|---|---|---|---|---|---|---|---|---|---|---|---|---|---|---|---|---|---|\n",
       "| 320 | 0.4169185 | 0.1822185 | 0.400863 | 0.3166729 | 0.1609967 | 0.5223304 | 0.2500814 | 0.1686604 | 0.5812582 | ⋯ | 152820 | 244485 | 502171 | 899459 | -135822 | -81094 | -83834 | 105341 | 172821 | 289406 |\n",
       "\n"
      ],
      "text/plain": [
       "  transcriptid sentiment_positive_md_manager sentiment_negative_md_manager\n",
       "1 320          0.4169185                     0.1822185                    \n",
       "  sentiment_neutral_md_manager sentiment_positive_qa_manager\n",
       "1 0.400863                     0.3166729                    \n",
       "  sentiment_negative_qa_manager sentiment_neutral_qa_manager\n",
       "1 0.1609967                     0.5223304                   \n",
       "  sentiment_positive_qa_analyst sentiment_negative_qa_analyst\n",
       "1 0.2500814                     0.1686604                    \n",
       "  sentiment_neutral_qa_analyst <U+22EF>   retail_sell_m3_0 retail_sell_0_3\n",
       "1 0.5812582                    <U+22EF> 152820           244485         \n",
       "  retail_sell_0_10 retail_sell_0_30 retail_net_m30_0 retail_net_m10_0\n",
       "1 502171           899459           -135822          -81094          \n",
       "  retail_net_m3_0 retail_net_0_3 retail_net_0_10 retail_net_0_30\n",
       "1 -83834          105341         172821          289406         "
      ]
     },
     "metadata": {},
     "output_type": "display_data"
    },
    {
     "name": "stdout",
     "output_type": "stream",
     "text": [
      "\"f_sue_keydevid_car_finratio_vol_transcriptid_sim_inflow_revision_retail_sentiment\" saved as \"f_sue_keydevid_car_finratio_vol_transcriptid_sim_inflow_revision_retail_sentiment.feather\" (16.2 MB) (0.03 secs, 2021-03-01 14:56:00)\n"
     ]
    }
   ],
   "source": [
    "# load previous datatable\n",
    "ld(f_sue_keydevid_car_finratio_vol_transcriptid_sim_inflow_revision_retail, force=T)\n",
    "\n",
    "# <-> sentiment\n",
    "sprintf('N f_sue_keydevid_car_finratio_vol_transcriptid_sim_inflow_revision_retail: %s\\n', nrow(f_sue_keydevid_car_finratio_vol_transcriptid_sim_inflow_revision_retail)) %>% cat()\n",
    "\n",
    "f_sue_keydevid_car_finratio_vol_transcriptid_sim_inflow_revision_retail_sentiment = sentiment[f_sue_keydevid_car_finratio_vol_transcriptid_sim_inflow_revision_retail, on=.(transcriptid), nomatch=NULL]\n",
    "\n",
    "# save\n",
    "sprintf('N f_sue_keydevid_car_finratio_vol_transcriptid_sim_inflow_revision_retail_sentiment: %s\\n (%s variable)\\n', nrow(f_sue_keydevid_car_finratio_vol_transcriptid_sim_inflow_revision_retail_sentiment), length(names(f_sue_keydevid_car_finratio_vol_transcriptid_sim_inflow_revision_retail_sentiment))) %>% cat()\n",
    "\n",
    "f_sue_keydevid_car_finratio_vol_transcriptid_sim_inflow_revision_retail_sentiment[1]\n",
    "sv(f_sue_keydevid_car_finratio_vol_transcriptid_sim_inflow_revision_retail_sentiment)"
   ]
  },
  {
   "cell_type": "code",
   "execution_count": 21,
   "metadata": {},
   "outputs": [
    {
     "data": {
      "text/html": [
       "4.16122175307624"
      ],
      "text/latex": [
       "4.16122175307624"
      ],
      "text/markdown": [
       "4.16122175307624"
      ],
      "text/plain": [
       "[1] 4.161222"
      ]
     },
     "metadata": {},
     "output_type": "display_data"
    },
    {
     "data": {
      "text/html": [
       "-3.32963164456697"
      ],
      "text/latex": [
       "-3.32963164456697"
      ],
      "text/markdown": [
       "-3.32963164456697"
      ],
      "text/plain": [
       "[1] -3.329632"
      ]
     },
     "metadata": {},
     "output_type": "display_data"
    }
   ],
   "source": [
    "f_sue_keydevid_car_finratio_vol_transcriptid_sim_inflow_revision_retail_sentiment[sue>quantile(sue,0.9, na.rm=T), mean(car_0_30)]\n",
    "f_sue_keydevid_car_finratio_vol_transcriptid_sim_inflow_revision_retail_sentiment[sue<quantile(sue,0.1, na.rm=T), mean(car_0_30)]"
   ]
  },
  {
   "cell_type": "code",
   "execution_count": null,
   "metadata": {},
   "outputs": [],
   "source": [
    "# Plot: number of calls by year\n",
    "f_sue_keydevid_car_finratio_vol_transcriptid_sim_inflow_revision_retail_sentiment[, .(year=as.factor(year(ciq_release_date)))] %>%\n",
    "    plot_ly(x=~year, type='histogram') %>%\n",
    "    plotly::layout(autosize=T)"
   ]
  },
  {
   "cell_type": "markdown",
   "metadata": {},
   "source": [
    "## outlier"
   ]
  },
  {
   "cell_type": "markdown",
   "metadata": {},
   "source": [
    "### find outlier companies"
   ]
  },
  {
   "cell_type": "code",
   "execution_count": 37,
   "metadata": {
    "scrolled": true
   },
   "outputs": [
    {
     "name": "stdout",
     "output_type": "stream",
     "text": [
      "\"f_sue_keydevid_car_finratio_vol_transcriptid_sim_inflow_revision_retail_sentiment.feather\" (16.2 MB) loaded (0.03 secs) (2021-03-01 3:27 PM)\n",
      "\"f_sue_keydevid_car_finratio_vol_transcriptid_sim_inflow_revision_retail_sentiment.feather\" (16.2 MB) loaded as \"filter\" (0.03 secs) (2021-03-01 3:27 PM)\n"
     ]
    },
    {
     "data": {
      "text/html": [
       "'Will remove 1.35%'"
      ],
      "text/latex": [
       "'Will remove 1.35\\%'"
      ],
      "text/markdown": [
       "'Will remove 1.35%'"
      ],
      "text/plain": [
       "[1] \"Will remove 1.35%\""
      ]
     },
     "metadata": {},
     "output_type": "display_data"
    },
    {
     "name": "stdout",
     "output_type": "stream",
     "text": [
      "\"gvkey_outlier\" saved as \"gvkey_outlier.rds\" (321 B) (0 secs, 2021-03-01 15:27:41)\n"
     ]
    }
   ],
   "source": [
    "ld(f_sue_keydevid_car_finratio_vol_transcriptid_sim_inflow_revision_retail_sentiment, force=T)\n",
    "ld(f_sue_keydevid_car_finratio_vol_transcriptid_sim_inflow_revision_retail_sentiment, filter, force=T)\n",
    "\n",
    "# find the companies that 1) n_call>=10\n",
    "gvkey_outlier = filter[, \n",
    "      .(n_tid=uniqueN(transcriptid), last_call_date=max(ciq_call_date)),\n",
    "      keyby=.(gvkey)\n",
    "    ][n_tid<10, unique(gvkey)]\n",
    "\n",
    "\n",
    "remove_rate = f_sue_keydevid_car_finratio_vol_transcriptid_sim_inflow_revision_retail_sentiment[, sum(gvkey%in%gvkey_outlier)/.N]\n",
    "\n",
    "sprintf('Will remove %s%%', round(remove_rate*100, 2))\n",
    "sv(gvkey_outlier)"
   ]
  },
  {
   "cell_type": "markdown",
   "metadata": {},
   "source": [
    "### winsorize"
   ]
  },
  {
   "cell_type": "markdown",
   "metadata": {},
   "source": [
    "Task:\n",
    "- Remove top/bottom 1% CAR\n",
    "- Add outlier flag. The flag is created in `C-benchmark.ipynb` (investigate OLS performance)\n"
   ]
  },
  {
   "cell_type": "code",
   "execution_count": 38,
   "metadata": {},
   "outputs": [
    {
     "name": "stdout",
     "output_type": "stream",
     "text": [
      "N f_sue_keydevid_car_finratio_vol_transcriptid_sim_inflow_revision_retail_sentiment: 26327\n",
      " (103 variable)\n",
      "N f_sue_keydevid_car_finratio_vol_transcriptid_sim_inflow_revision_retail_sentiment_outlier: 26327\n",
      " (104 variable)\n"
     ]
    },
    {
     "data": {
      "text/html": [
       "<table class=\"dataframe\">\n",
       "<caption>A data.table: 1 × 104</caption>\n",
       "<thead>\n",
       "\t<tr><th scope=col>transcriptid</th><th scope=col>sentiment_positive_md_manager</th><th scope=col>sentiment_negative_md_manager</th><th scope=col>sentiment_neutral_md_manager</th><th scope=col>sentiment_positive_qa_manager</th><th scope=col>sentiment_negative_qa_manager</th><th scope=col>sentiment_neutral_qa_manager</th><th scope=col>sentiment_positive_qa_analyst</th><th scope=col>sentiment_negative_qa_analyst</th><th scope=col>sentiment_neutral_qa_analyst</th><th scope=col>⋯</th><th scope=col>retail_sell_0_3</th><th scope=col>retail_sell_0_10</th><th scope=col>retail_sell_0_30</th><th scope=col>retail_net_m30_0</th><th scope=col>retail_net_m10_0</th><th scope=col>retail_net_m3_0</th><th scope=col>retail_net_0_3</th><th scope=col>retail_net_0_10</th><th scope=col>retail_net_0_30</th><th scope=col>outlier_flag1</th></tr>\n",
       "\t<tr><th scope=col>&lt;int&gt;</th><th scope=col>&lt;dbl&gt;</th><th scope=col>&lt;dbl&gt;</th><th scope=col>&lt;dbl&gt;</th><th scope=col>&lt;dbl&gt;</th><th scope=col>&lt;dbl&gt;</th><th scope=col>&lt;dbl&gt;</th><th scope=col>&lt;dbl&gt;</th><th scope=col>&lt;dbl&gt;</th><th scope=col>&lt;dbl&gt;</th><th scope=col>⋯</th><th scope=col>&lt;dbl&gt;</th><th scope=col>&lt;dbl&gt;</th><th scope=col>&lt;dbl&gt;</th><th scope=col>&lt;dbl&gt;</th><th scope=col>&lt;dbl&gt;</th><th scope=col>&lt;dbl&gt;</th><th scope=col>&lt;dbl&gt;</th><th scope=col>&lt;dbl&gt;</th><th scope=col>&lt;dbl&gt;</th><th scope=col>&lt;lgl&gt;</th></tr>\n",
       "</thead>\n",
       "<tbody>\n",
       "\t<tr><td>320</td><td>0.4169185</td><td>0.1822185</td><td>0.400863</td><td>0.3166729</td><td>0.1609967</td><td>0.5223304</td><td>0.2500814</td><td>0.1686604</td><td>0.5812582</td><td>⋯</td><td>244485</td><td>502171</td><td>899459</td><td>-135822</td><td>-81094</td><td>-83834</td><td>105341</td><td>172821</td><td>289406</td><td>TRUE</td></tr>\n",
       "</tbody>\n",
       "</table>\n"
      ],
      "text/latex": [
       "A data.table: 1 × 104\n",
       "\\begin{tabular}{lllllllllllllllllllll}\n",
       " transcriptid & sentiment\\_positive\\_md\\_manager & sentiment\\_negative\\_md\\_manager & sentiment\\_neutral\\_md\\_manager & sentiment\\_positive\\_qa\\_manager & sentiment\\_negative\\_qa\\_manager & sentiment\\_neutral\\_qa\\_manager & sentiment\\_positive\\_qa\\_analyst & sentiment\\_negative\\_qa\\_analyst & sentiment\\_neutral\\_qa\\_analyst & ⋯ & retail\\_sell\\_0\\_3 & retail\\_sell\\_0\\_10 & retail\\_sell\\_0\\_30 & retail\\_net\\_m30\\_0 & retail\\_net\\_m10\\_0 & retail\\_net\\_m3\\_0 & retail\\_net\\_0\\_3 & retail\\_net\\_0\\_10 & retail\\_net\\_0\\_30 & outlier\\_flag1\\\\\n",
       " <int> & <dbl> & <dbl> & <dbl> & <dbl> & <dbl> & <dbl> & <dbl> & <dbl> & <dbl> & ⋯ & <dbl> & <dbl> & <dbl> & <dbl> & <dbl> & <dbl> & <dbl> & <dbl> & <dbl> & <lgl>\\\\\n",
       "\\hline\n",
       "\t 320 & 0.4169185 & 0.1822185 & 0.400863 & 0.3166729 & 0.1609967 & 0.5223304 & 0.2500814 & 0.1686604 & 0.5812582 & ⋯ & 244485 & 502171 & 899459 & -135822 & -81094 & -83834 & 105341 & 172821 & 289406 & TRUE\\\\\n",
       "\\end{tabular}\n"
      ],
      "text/markdown": [
       "\n",
       "A data.table: 1 × 104\n",
       "\n",
       "| transcriptid &lt;int&gt; | sentiment_positive_md_manager &lt;dbl&gt; | sentiment_negative_md_manager &lt;dbl&gt; | sentiment_neutral_md_manager &lt;dbl&gt; | sentiment_positive_qa_manager &lt;dbl&gt; | sentiment_negative_qa_manager &lt;dbl&gt; | sentiment_neutral_qa_manager &lt;dbl&gt; | sentiment_positive_qa_analyst &lt;dbl&gt; | sentiment_negative_qa_analyst &lt;dbl&gt; | sentiment_neutral_qa_analyst &lt;dbl&gt; | ⋯ ⋯ | retail_sell_0_3 &lt;dbl&gt; | retail_sell_0_10 &lt;dbl&gt; | retail_sell_0_30 &lt;dbl&gt; | retail_net_m30_0 &lt;dbl&gt; | retail_net_m10_0 &lt;dbl&gt; | retail_net_m3_0 &lt;dbl&gt; | retail_net_0_3 &lt;dbl&gt; | retail_net_0_10 &lt;dbl&gt; | retail_net_0_30 &lt;dbl&gt; | outlier_flag1 &lt;lgl&gt; |\n",
       "|---|---|---|---|---|---|---|---|---|---|---|---|---|---|---|---|---|---|---|---|---|\n",
       "| 320 | 0.4169185 | 0.1822185 | 0.400863 | 0.3166729 | 0.1609967 | 0.5223304 | 0.2500814 | 0.1686604 | 0.5812582 | ⋯ | 244485 | 502171 | 899459 | -135822 | -81094 | -83834 | 105341 | 172821 | 289406 | TRUE |\n",
       "\n"
      ],
      "text/plain": [
       "  transcriptid sentiment_positive_md_manager sentiment_negative_md_manager\n",
       "1 320          0.4169185                     0.1822185                    \n",
       "  sentiment_neutral_md_manager sentiment_positive_qa_manager\n",
       "1 0.400863                     0.3166729                    \n",
       "  sentiment_negative_qa_manager sentiment_neutral_qa_manager\n",
       "1 0.1609967                     0.5223304                   \n",
       "  sentiment_positive_qa_analyst sentiment_negative_qa_analyst\n",
       "1 0.2500814                     0.1686604                    \n",
       "  sentiment_neutral_qa_analyst <U+22EF>   retail_sell_0_3 retail_sell_0_10\n",
       "1 0.5812582                    <U+22EF> 244485          502171          \n",
       "  retail_sell_0_30 retail_net_m30_0 retail_net_m10_0 retail_net_m3_0\n",
       "1 899459           -135822          -81094           -83834         \n",
       "  retail_net_0_3 retail_net_0_10 retail_net_0_30 outlier_flag1\n",
       "1 105341         172821          289406          TRUE         "
      ]
     },
     "metadata": {},
     "output_type": "display_data"
    },
    {
     "name": "stdout",
     "output_type": "stream",
     "text": [
      "\"f_sue_keydevid_car_finratio_vol_transcriptid_sim_inflow_revision_retail_sentiment_outlier\" saved as \"f_sue_keydevid_car_finratio_vol_transcriptid_sim_inflow_revision_retail_sentiment_outlier.feather\" (16.2 MB) (0.04 secs, 2021-03-01 15:27:47)\n"
     ]
    }
   ],
   "source": [
    "# print N obs Before processing\n",
    "sprintf('N f_sue_keydevid_car_finratio_vol_transcriptid_sim_inflow_revision_retail_sentiment: %s\\n (%s variable)\\n', nrow(f_sue_keydevid_car_finratio_vol_transcriptid_sim_inflow_revision_retail_sentiment), length(names(f_sue_keydevid_car_finratio_vol_transcriptid_sim_inflow_revision_retail_sentiment))) %>% cat()\n",
    "\n",
    "# ----------------------------\n",
    "# winsorize\n",
    "# ----------------------------\n",
    "wsrz <- function(x, level) {\n",
    "    high = quantile(x, 1-level)\n",
    "    low = quantile(x, level)\n",
    "    \n",
    "    x[x>=high] = high\n",
    "    x[x<=low] = low\n",
    "    x\n",
    "}\n",
    "\n",
    "# only cols in the following are winsorized.\n",
    "# we only winsorize target variables\n",
    "# the winsorization is carried out in place: I didn't create new variable\n",
    "cols_to_be_winsorized = c('car_0_10', 'car_0_20', 'car_0_30')\n",
    "\n",
    "f_sue_keydevid_car_finratio_vol_transcriptid_sim_inflow_revision_retail_sentiment_outlier = f_sue_keydevid_car_finratio_vol_transcriptid_sim_inflow_revision_retail_sentiment[, \n",
    "     (cols_to_be_winsorized) := lapply(.SD, wsrz, 0.01),\n",
    "     .SDcols=cols_to_be_winsorized]\n",
    "\n",
    "\n",
    "# ----------------------------\n",
    "# Add outlier flag\n",
    "# ----------------------------\n",
    "f_sue_keydevid_car_finratio_vol_transcriptid_sim_inflow_revision_retail_sentiment_outlier = f_sue_keydevid_car_finratio_vol_transcriptid_sim_inflow_revision_retail_sentiment_outlier[,\n",
    "      ':='(outlier_flag1 = ifelse(gvkey%in%gvkey_outlier, T, F))]\n",
    "\n",
    "# print N obs After processing\n",
    "sprintf('N f_sue_keydevid_car_finratio_vol_transcriptid_sim_inflow_revision_retail_sentiment_outlier: %s\\n (%s variable)\\n', nrow(f_sue_keydevid_car_finratio_vol_transcriptid_sim_inflow_revision_retail_sentiment_outlier), length(names(f_sue_keydevid_car_finratio_vol_transcriptid_sim_inflow_revision_retail_sentiment_outlier))) %>% cat()\n",
    "\n",
    "# save\n",
    "f_sue_keydevid_car_finratio_vol_transcriptid_sim_inflow_revision_retail_sentiment_outlier[1]\n",
    "sv(f_sue_keydevid_car_finratio_vol_transcriptid_sim_inflow_revision_retail_sentiment_outlier)"
   ]
  },
  {
   "cell_type": "code",
   "execution_count": null,
   "metadata": {},
   "outputs": [],
   "source": [
    "# Plot: number of calls by year\n",
    "f_sue_keydevid_car_finratio_vol_transcriptid_sim_inflow_revision_retail_sentiment_outlier[, .(year=as.factor(year(ciq_release_date)))] %>%\n",
    "    plot_ly(x=~year, type='histogram') %>%\n",
    "    plotly::layout(autosize=T)"
   ]
  },
  {
   "cell_type": "markdown",
   "metadata": {},
   "source": [
    "## standardize"
   ]
  },
  {
   "cell_type": "markdown",
   "metadata": {},
   "source": [
    "Some final touch"
   ]
  },
  {
   "cell_type": "code",
   "execution_count": 44,
   "metadata": {},
   "outputs": [
    {
     "name": "stdout",
     "output_type": "stream",
     "text": [
      "\"f_sue_keydevid_car_finratio_vol_transcriptid_sim_inflow_revision_retail_sentiment_outlier.feather\" (16.2 MB) loaded (0.03 secs) (2021-03-01 3:44 PM)\n"
     ]
    },
    {
     "data": {
      "text/html": [
       "<table class=\"dataframe\">\n",
       "<caption>A data.table: 1 × 21</caption>\n",
       "<thead>\n",
       "\t<tr><th scope=col>car_0_30</th><th scope=col>inflow_0_90</th><th scope=col>revision_0_90</th><th scope=col>transcriptid</th><th scope=col>alpha</th><th scope=col>car_m1_m1</th><th scope=col>car_m2_m2</th><th scope=col>car_m30_m3</th><th scope=col>sest</th><th scope=col>sue</th><th scope=col>⋯</th><th scope=col>sstdest</th><th scope=col>smedest</th><th scope=col>mcap</th><th scope=col>roa</th><th scope=col>bm</th><th scope=col>debt_asset</th><th scope=col>volatility</th><th scope=col>volume</th><th scope=col>similarity_bigram</th><th scope=col>sentiment_negative_qa_analyst</th></tr>\n",
       "\t<tr><th scope=col>&lt;dbl&gt;</th><th scope=col>&lt;dbl&gt;</th><th scope=col>&lt;dbl&gt;</th><th scope=col>&lt;dbl&gt;</th><th scope=col>&lt;dbl&gt;</th><th scope=col>&lt;dbl&gt;</th><th scope=col>&lt;dbl&gt;</th><th scope=col>&lt;dbl&gt;</th><th scope=col>&lt;dbl&gt;</th><th scope=col>&lt;dbl&gt;</th><th scope=col>⋯</th><th scope=col>&lt;dbl&gt;</th><th scope=col>&lt;dbl&gt;</th><th scope=col>&lt;dbl&gt;</th><th scope=col>&lt;dbl&gt;</th><th scope=col>&lt;dbl&gt;</th><th scope=col>&lt;dbl&gt;</th><th scope=col>&lt;dbl&gt;</th><th scope=col>&lt;dbl&gt;</th><th scope=col>&lt;dbl&gt;</th><th scope=col>&lt;dbl&gt;</th></tr>\n",
       "</thead>\n",
       "<tbody>\n",
       "\t<tr><td>0</td><td>0</td><td>0</td><td>0</td><td>0</td><td>0</td><td>0</td><td>0</td><td>0</td><td>0</td><td>⋯</td><td>0</td><td>0</td><td>0</td><td>0</td><td>0</td><td>0</td><td>0</td><td>0</td><td>0</td><td>0</td></tr>\n",
       "</tbody>\n",
       "</table>\n"
      ],
      "text/latex": [
       "A data.table: 1 × 21\n",
       "\\begin{tabular}{lllllllllllllllllllll}\n",
       " car\\_0\\_30 & inflow\\_0\\_90 & revision\\_0\\_90 & transcriptid & alpha & car\\_m1\\_m1 & car\\_m2\\_m2 & car\\_m30\\_m3 & sest & sue & ⋯ & sstdest & smedest & mcap & roa & bm & debt\\_asset & volatility & volume & similarity\\_bigram & sentiment\\_negative\\_qa\\_analyst\\\\\n",
       " <dbl> & <dbl> & <dbl> & <dbl> & <dbl> & <dbl> & <dbl> & <dbl> & <dbl> & <dbl> & ⋯ & <dbl> & <dbl> & <dbl> & <dbl> & <dbl> & <dbl> & <dbl> & <dbl> & <dbl> & <dbl>\\\\\n",
       "\\hline\n",
       "\t 0 & 0 & 0 & 0 & 0 & 0 & 0 & 0 & 0 & 0 & ⋯ & 0 & 0 & 0 & 0 & 0 & 0 & 0 & 0 & 0 & 0\\\\\n",
       "\\end{tabular}\n"
      ],
      "text/markdown": [
       "\n",
       "A data.table: 1 × 21\n",
       "\n",
       "| car_0_30 &lt;dbl&gt; | inflow_0_90 &lt;dbl&gt; | revision_0_90 &lt;dbl&gt; | transcriptid &lt;dbl&gt; | alpha &lt;dbl&gt; | car_m1_m1 &lt;dbl&gt; | car_m2_m2 &lt;dbl&gt; | car_m30_m3 &lt;dbl&gt; | sest &lt;dbl&gt; | sue &lt;dbl&gt; | ⋯ ⋯ | sstdest &lt;dbl&gt; | smedest &lt;dbl&gt; | mcap &lt;dbl&gt; | roa &lt;dbl&gt; | bm &lt;dbl&gt; | debt_asset &lt;dbl&gt; | volatility &lt;dbl&gt; | volume &lt;dbl&gt; | similarity_bigram &lt;dbl&gt; | sentiment_negative_qa_analyst &lt;dbl&gt; |\n",
       "|---|---|---|---|---|---|---|---|---|---|---|---|---|---|---|---|---|---|---|---|---|\n",
       "| 0 | 0 | 0 | 0 | 0 | 0 | 0 | 0 | 0 | 0 | ⋯ | 0 | 0 | 0 | 0 | 0 | 0 | 0 | 0 | 0 | 0 |\n",
       "\n"
      ],
      "text/plain": [
       "  car_0_30 inflow_0_90 revision_0_90 transcriptid alpha car_m1_m1 car_m2_m2\n",
       "1 0        0           0             0            0     0         0        \n",
       "  car_m30_m3 sest sue <U+22EF>   sstdest smedest mcap roa bm debt_asset\n",
       "1 0          0    0   <U+22EF> 0       0       0    0   0  0         \n",
       "  volatility volume similarity_bigram sentiment_negative_qa_analyst\n",
       "1 0          0      0                 0                            "
      ]
     },
     "metadata": {},
     "output_type": "display_data"
    }
   ],
   "source": [
    "ld(f_sue_keydevid_car_finratio_vol_transcriptid_sim_inflow_revision_retail_sentiment_outlier, force=T)\n",
    "\n",
    "\n",
    "# Check all keys variables are not NA\n",
    "cols = c('car_0_30', 'inflow_0_90', 'revision_0_90', 'transcriptid', 'alpha', 'car_m1_m1', 'car_m2_m2', 'car_m30_m3', 'sest', 'sue', 'numest', 'sstdest', 'smedest', 'mcap', 'roa', 'bm', 'debt_asset', 'volatility', 'volume', 'similarity_bigram', 'sentiment_negative_qa_analyst')\n",
    "\n",
    "f_sue_keydevid_car_finratio_vol_transcriptid_sim_inflow_revision_retail_sentiment_outlier = f_sue_keydevid_car_finratio_vol_transcriptid_sim_inflow_revision_retail_sentiment_outlier[!is.na(sue) & !is.na(alpha) & !is.na(sstdest)]\n",
    "\n",
    "f_sue_keydevid_car_finratio_vol_transcriptid_sim_inflow_revision_retail_sentiment_outlier[,\n",
    "      lapply(.SD, function(x) sum(is.na(x))/length(x)),\n",
    "      .SDcols=cols]"
   ]
  },
  {
   "cell_type": "markdown",
   "metadata": {},
   "source": [
    "Start standardizing..."
   ]
  },
  {
   "cell_type": "code",
   "execution_count": 45,
   "metadata": {},
   "outputs": [
    {
     "name": "stdout",
     "output_type": "stream",
     "text": [
      "N f_sue_keydevid_car_finratio_vol_transcriptid_sim_inflow_revision_retail_sentiment: 24677\n",
      " (107 variable)\n",
      "N f_sue_keydevid_car_finratio_vol_transcriptid_sim_inflow_revision_retail_sentiment_outlier_stand: 24677\n",
      " (166 variable)\n"
     ]
    },
    {
     "data": {
      "text/html": [
       "<table class=\"dataframe\">\n",
       "<caption>A data.table: 1 × 166</caption>\n",
       "<thead>\n",
       "\t<tr><th scope=col>transcriptid</th><th scope=col>sentiment_positive_md_manager</th><th scope=col>sentiment_negative_md_manager</th><th scope=col>sentiment_neutral_md_manager</th><th scope=col>sentiment_positive_qa_manager</th><th scope=col>sentiment_negative_qa_manager</th><th scope=col>sentiment_neutral_qa_manager</th><th scope=col>sentiment_positive_qa_analyst</th><th scope=col>sentiment_negative_qa_analyst</th><th scope=col>sentiment_neutral_qa_analyst</th><th scope=col>⋯</th><th scope=col>car_m30_m3_quintile</th><th scope=col>inflow_decimal</th><th scope=col>revision_decimal</th><th scope=col>retail_decimal</th><th scope=col>car_0_10_decimal</th><th scope=col>car_0_20_decimal</th><th scope=col>car_0_30_decimal</th><th scope=col>car_m1_m1_decimal</th><th scope=col>car_m2_m2_decimal</th><th scope=col>car_m30_m3_decimal</th></tr>\n",
       "\t<tr><th scope=col>&lt;int&gt;</th><th scope=col>&lt;dbl&gt;</th><th scope=col>&lt;dbl&gt;</th><th scope=col>&lt;dbl&gt;</th><th scope=col>&lt;dbl&gt;</th><th scope=col>&lt;dbl&gt;</th><th scope=col>&lt;dbl&gt;</th><th scope=col>&lt;dbl&gt;</th><th scope=col>&lt;dbl&gt;</th><th scope=col>&lt;dbl&gt;</th><th scope=col>⋯</th><th scope=col>&lt;int&gt;</th><th scope=col>&lt;int&gt;</th><th scope=col>&lt;int&gt;</th><th scope=col>&lt;int&gt;</th><th scope=col>&lt;int&gt;</th><th scope=col>&lt;int&gt;</th><th scope=col>&lt;int&gt;</th><th scope=col>&lt;int&gt;</th><th scope=col>&lt;int&gt;</th><th scope=col>&lt;int&gt;</th></tr>\n",
       "</thead>\n",
       "<tbody>\n",
       "\t<tr><td>320</td><td>0.4169185</td><td>0.1822185</td><td>0.400863</td><td>0.3166729</td><td>0.1609967</td><td>0.5223304</td><td>0.2500814</td><td>0.1686604</td><td>0.5812582</td><td>⋯</td><td>2</td><td>5</td><td>9</td><td>9</td><td>1</td><td>2</td><td>3</td><td>8</td><td>2</td><td>4</td></tr>\n",
       "</tbody>\n",
       "</table>\n"
      ],
      "text/latex": [
       "A data.table: 1 × 166\n",
       "\\begin{tabular}{lllllllllllllllllllll}\n",
       " transcriptid & sentiment\\_positive\\_md\\_manager & sentiment\\_negative\\_md\\_manager & sentiment\\_neutral\\_md\\_manager & sentiment\\_positive\\_qa\\_manager & sentiment\\_negative\\_qa\\_manager & sentiment\\_neutral\\_qa\\_manager & sentiment\\_positive\\_qa\\_analyst & sentiment\\_negative\\_qa\\_analyst & sentiment\\_neutral\\_qa\\_analyst & ⋯ & car\\_m30\\_m3\\_quintile & inflow\\_decimal & revision\\_decimal & retail\\_decimal & car\\_0\\_10\\_decimal & car\\_0\\_20\\_decimal & car\\_0\\_30\\_decimal & car\\_m1\\_m1\\_decimal & car\\_m2\\_m2\\_decimal & car\\_m30\\_m3\\_decimal\\\\\n",
       " <int> & <dbl> & <dbl> & <dbl> & <dbl> & <dbl> & <dbl> & <dbl> & <dbl> & <dbl> & ⋯ & <int> & <int> & <int> & <int> & <int> & <int> & <int> & <int> & <int> & <int>\\\\\n",
       "\\hline\n",
       "\t 320 & 0.4169185 & 0.1822185 & 0.400863 & 0.3166729 & 0.1609967 & 0.5223304 & 0.2500814 & 0.1686604 & 0.5812582 & ⋯ & 2 & 5 & 9 & 9 & 1 & 2 & 3 & 8 & 2 & 4\\\\\n",
       "\\end{tabular}\n"
      ],
      "text/markdown": [
       "\n",
       "A data.table: 1 × 166\n",
       "\n",
       "| transcriptid &lt;int&gt; | sentiment_positive_md_manager &lt;dbl&gt; | sentiment_negative_md_manager &lt;dbl&gt; | sentiment_neutral_md_manager &lt;dbl&gt; | sentiment_positive_qa_manager &lt;dbl&gt; | sentiment_negative_qa_manager &lt;dbl&gt; | sentiment_neutral_qa_manager &lt;dbl&gt; | sentiment_positive_qa_analyst &lt;dbl&gt; | sentiment_negative_qa_analyst &lt;dbl&gt; | sentiment_neutral_qa_analyst &lt;dbl&gt; | ⋯ ⋯ | car_m30_m3_quintile &lt;int&gt; | inflow_decimal &lt;int&gt; | revision_decimal &lt;int&gt; | retail_decimal &lt;int&gt; | car_0_10_decimal &lt;int&gt; | car_0_20_decimal &lt;int&gt; | car_0_30_decimal &lt;int&gt; | car_m1_m1_decimal &lt;int&gt; | car_m2_m2_decimal &lt;int&gt; | car_m30_m3_decimal &lt;int&gt; |\n",
       "|---|---|---|---|---|---|---|---|---|---|---|---|---|---|---|---|---|---|---|---|---|\n",
       "| 320 | 0.4169185 | 0.1822185 | 0.400863 | 0.3166729 | 0.1609967 | 0.5223304 | 0.2500814 | 0.1686604 | 0.5812582 | ⋯ | 2 | 5 | 9 | 9 | 1 | 2 | 3 | 8 | 2 | 4 |\n",
       "\n"
      ],
      "text/plain": [
       "  transcriptid sentiment_positive_md_manager sentiment_negative_md_manager\n",
       "1 320          0.4169185                     0.1822185                    \n",
       "  sentiment_neutral_md_manager sentiment_positive_qa_manager\n",
       "1 0.400863                     0.3166729                    \n",
       "  sentiment_negative_qa_manager sentiment_neutral_qa_manager\n",
       "1 0.1609967                     0.5223304                   \n",
       "  sentiment_positive_qa_analyst sentiment_negative_qa_analyst\n",
       "1 0.2500814                     0.1686604                    \n",
       "  sentiment_neutral_qa_analyst <U+22EF>   car_m30_m3_quintile inflow_decimal\n",
       "1 0.5812582                    <U+22EF> 2                   5             \n",
       "  revision_decimal retail_decimal car_0_10_decimal car_0_20_decimal\n",
       "1 9                9              1                2               \n",
       "  car_0_30_decimal car_m1_m1_decimal car_m2_m2_decimal car_m30_m3_decimal\n",
       "1 3                8                 2                 4                 "
      ]
     },
     "metadata": {},
     "output_type": "display_data"
    },
    {
     "name": "stdout",
     "output_type": "stream",
     "text": [
      "\"f_sue_keydevid_car_finratio_vol_transcriptid_sim_inflow_revision_retail_sentiment_outlier_stand\" saved as \"targets_final_addretail.feather\" (22.1 MB) (0.05 secs, 2021-03-01 15:44:19)\n"
     ]
    }
   ],
   "source": [
    "standardize <- function(x) {\n",
    "    # zero mean, unit variance\n",
    "    stopifnot(length(x) == sum(!is.na(x)))\n",
    "    (x-mean(x))/sd(x)\n",
    "}\n",
    "\n",
    "normalize <- function(x) {\n",
    "    # 0-1 range\n",
    "    (x - min(x)) / (max(x) - min(x))\n",
    "}\n",
    "\n",
    "binarize <- function(x) {\n",
    "    # 1: up, 0: down\n",
    "    as.integer(x>0)\n",
    "}\n",
    "\n",
    "rank <- function(x) {\n",
    "    order(x)/length(x)\n",
    "}\n",
    "\n",
    "# --------------------------------------------\n",
    "# rename aux variables\n",
    "#     pick the aux variable versions that will\n",
    "#     be used in model training\n",
    "# --------------------------------------------\n",
    "f_sue_keydevid_car_finratio_vol_transcriptid_sim_inflow_revision_retail_sentiment_outlier[, \n",
    "      ':='(inflow=inflow_0_90, revision=revision_0_90, retail=retail_net_0_3)]\n",
    "\n",
    "\n",
    "# variables that will be standardized\n",
    "cols_feature = c('alpha', 'sest', 'sue', 'numest', 'sstdest', 'smedest', \n",
    "                 'mcap', 'roa', 'bm', 'debt_asset', 'volatility', 'volume', \n",
    "                 'similarity_bigram', 'sentiment_negative_qa_analyst')\n",
    "\n",
    "cols_target = c('inflow', 'revision', 'retail',\n",
    "                'car_0_10', 'car_0_20', 'car_0_30',\n",
    "                'car_m1_m1', 'car_m2_m2', 'car_m30_m3')\n",
    "\n",
    "# print N obs before processing\n",
    "sprintf('N f_sue_keydevid_car_finratio_vol_transcriptid_sim_inflow_revision_retail_sentiment: %s\\n (%s variable)\\n', nrow(f_sue_keydevid_car_finratio_vol_transcriptid_sim_inflow_revision_retail_sentiment_outlier), length(names(f_sue_keydevid_car_finratio_vol_transcriptid_sim_inflow_revision_retail_sentiment_outlier))) %>% cat()\n",
    "\n",
    "# normalize!\n",
    "f_sue_keydevid_car_finratio_vol_transcriptid_sim_inflow_revision_retail_sentiment_outlier_stand = copy(f_sue_keydevid_car_finratio_vol_transcriptid_sim_inflow_revision_retail_sentiment_outlier)[, \n",
    "    (str_c(cols_feature, '_stand')) := lapply(.SD, standardize), .SDcols=cols_feature\n",
    "    ][, (str_c(cols_target, '_stand')) := lapply(.SD, standardize),\n",
    "      .SDcols=cols_target\n",
    "    ][, (str_c(cols_target, '_norm')) := lapply(.SD, normalize),\n",
    "      .SDcols=cols_target\n",
    "    ][, (str_c(cols_target, '_bin')) := lapply(.SD, binarize),\n",
    "      .SDcols=cols_target\n",
    "    ][, (str_c(cols_target, '_quintile')) := lapply(.SD, ntile, 5),\n",
    "      .SDcols=cols_target\n",
    "    ][, (str_c(cols_target, '_decimal')) := lapply(.SD, ntile, 10),\n",
    "      .SDcols=cols_target\n",
    "    ]\n",
    "\n",
    "\n",
    "# print N obs After processing\n",
    "sprintf('N f_sue_keydevid_car_finratio_vol_transcriptid_sim_inflow_revision_retail_sentiment_outlier_stand: %s\\n (%s variable)\\n', nrow(f_sue_keydevid_car_finratio_vol_transcriptid_sim_inflow_revision_retail_sentiment_outlier_stand), length(names(f_sue_keydevid_car_finratio_vol_transcriptid_sim_inflow_revision_retail_sentiment_outlier_stand))) %>% cat()\n",
    "\n",
    "f_sue_keydevid_car_finratio_vol_transcriptid_sim_inflow_revision_retail_sentiment_outlier_stand[1]\n",
    "sv(f_sue_keydevid_car_finratio_vol_transcriptid_sim_inflow_revision_retail_sentiment_outlier_stand, targets_final_addretail)"
   ]
  },
  {
   "cell_type": "code",
   "execution_count": null,
   "metadata": {},
   "outputs": [],
   "source": [
    "# Plot: number of calls by year\n",
    "f_sue_keydevid_car_finratio_vol_transcriptid_sim_inflow_revision_retail_sentiment_outlier_stand[, .(year=as.factor(year(ciq_release_date)))] %>%\n",
    "    plot_ly(x=~year, type='histogram') %>%\n",
    "    plotly::layout(autosize=T)"
   ]
  },
  {
   "cell_type": "code",
   "execution_count": null,
   "metadata": {},
   "outputs": [],
   "source": [
    "# hist: inflow vs. revision\n",
    "f_sue_keydevid_car_finratio_vol_transcriptid_sim_inflow_revision_retail_sentiment_outlier_stand %>%\n",
    "    plot_ly(alpha=0.6) %>%\n",
    "    add_histogram(x=~inflow_norm, name='inflow') %>%\n",
    "    add_histogram(x=~car_0_30_norm, name='car') %>%\n",
    "    add_histogram(x=~revision, name='revision') %>%\n",
    "    plotly::layout(barmode='overlay', autosize=F)"
   ]
  },
  {
   "cell_type": "markdown",
   "metadata": {},
   "source": [
    "## plot (for test)"
   ]
  },
  {
   "cell_type": "markdown",
   "metadata": {},
   "source": [
    "Task:\n",
    "- Distribution of calls within a year"
   ]
  },
  {
   "cell_type": "code",
   "execution_count": null,
   "metadata": {},
   "outputs": [],
   "source": [
    "dt = read_feather('./data/f_sue_keydevid_car_finratio_vol_transcriptid_sim_inflow_revision_sentiment_text_norm_wsrz.feather') %>% as.data.table()\n",
    "\n",
    "dt[, ':='(year=year(ciq_call_date))]\n",
    "\n",
    "add_vline <- function(y) {\n",
    "    list(type = \"line\", \n",
    "         y0 = y, y1 = y, xref = \"paper\", # i.e. y as a proportion of visible region\n",
    "         x0 = 0, x1 = 1, \n",
    "         line = list(dash='dot', width=1))\n",
    "}\n",
    "\n",
    "copy(dt)[ciq_call_date %between% c(ymd('2017-10-01'), ymd('2018-12-31')), .(car_0_30_norm, ciq_call_date, date)] %>%\n",
    "    plot_ly(x=~ciq_call_date, y=~car_0_30_norm, color=~as.factor(year(ciq_call_date)), type='scatter', mode='markers', alpha=0.3) %>%\n",
    "    plotly::layout(autosize=F, xaxis=list(title='', type='date'),\n",
    "                   yaxis=list(title='CAR'), shapes=list(add_vline(-2), add_vline(2)))"
   ]
  },
  {
   "cell_type": "code",
   "execution_count": null,
   "metadata": {},
   "outputs": [],
   "source": [
    "copy(dt)[, ':='(date=make_date(2000, month(ciq_call_date), day(ciq_call_date)))\n",
    "    ][ciq_call_date %between% c(ymd('2008-01-01'), ymd('2018-12-31')), .(car_0_30_norm, ciq_call_date, date)] %>%\n",
    "    plot_ly(x=~date, y=~car_0_30_norm, color='red', type='scatter', mode='markers', alpha=0.2) %>%\n",
    "    plotly::layout(autosize=F, xaxis=list(title='', type='date', tickformat = \"%b %d\"),\n",
    "                   yaxis=list(title='CAR'))"
   ]
  },
  {
   "cell_type": "markdown",
   "metadata": {},
   "source": [
    "Only remove missing values here. For scaling, do it in Python."
   ]
  },
  {
   "cell_type": "code",
   "execution_count": 209,
   "metadata": {},
   "outputs": [],
   "source": [
    "targets_df = as.data.table(read_feather('data/f_sue_keydevid_car_finratio_vol_transcriptid_sim_inflow_revision_text.feather'))\n",
    "\n",
    "all_cols = names(targets_df)\n",
    "text_cols = c('text_present', 'text_qa', 'text_ans', 'text_ques', 'text_all')\n",
    "non_text_cols = all_cols[!all_cols %in% text_cols]\n",
    "\n",
    "targets_df = targets_df[, ..non_text_cols]"
   ]
  },
  {
   "cell_type": "markdown",
   "metadata": {},
   "source": [
    "index vs CAR"
   ]
  },
  {
   "cell_type": "code",
   "execution_count": null,
   "metadata": {},
   "outputs": [],
   "source": [
    "ld(idx_price, path=WRDS_DOWNLOAD_DIR)\n",
    "\n",
    "spx_daily = idx_price[gvkeyx=='000003' & datadate %between% c(ymd('2008-01-01'), ymd('2018-10-01')), \n",
    "                    .(date=datadate, idx=prccd)] %>%\n",
    "    plot_ly(x=~date, y=~idx, name='Index Return', type='scatter', mode='lines') %>%\n",
    "    plotly::layout(autosize=F, legend=list(0.1, 0.9))\n",
    "\n",
    "outlier = f_sue_keydevid_car_finratio_vol_transcriptid_sim_inflow_revision_text[, .(ciq_release_date, car_0_30)] %>%\n",
    "    plot_ly(x=~ciq_release_date, y=~car_0_30, type='scatter', mode='markers', marker=list(size=1, line=list(width=1), alpha=0.5), name='CAR') %>%\n",
    "    plotly::layout(autosize=F, legend=list(0.1, 0.9))\n",
    "\n",
    "subplot(spx_daily, outlier, nrows=2, shareX=T)"
   ]
  },
  {
   "cell_type": "markdown",
   "metadata": {},
   "source": [
    "Extreme values of CAR"
   ]
  },
  {
   "cell_type": "code",
   "execution_count": null,
   "metadata": {},
   "outputs": [],
   "source": [
    "f_sue_keydevid_car_finratio_vol_transcriptid_sim_inflow_revision_text[abs(car_0_30)>=60] %>%\n",
    "    plot_ly(x=~ciq_release_date, y=~car_0_30, type='scatter', mode='markers', showlegend=T) %>% \n",
    "    plotly::layout(autosize=F)"
   ]
  },
  {
   "cell_type": "code",
   "execution_count": null,
   "metadata": {},
   "outputs": [],
   "source": [
    "f_sue_keydevid_car_finratio_vol_transcriptid_sim_inflow_revision_text %>%\n",
    "    plot_ly(x=~car_0_30, type='histogram', nbinsx=300) %>% \n",
    "    plotly::layout(autosize=F)"
   ]
  },
  {
   "cell_type": "code",
   "execution_count": 5,
   "metadata": {},
   "outputs": [],
   "source": [
    "dt = read_feather('./data/f_sue_keydevid_car_finratio_vol_transcriptid_sim_inflow_revision_text.feather')"
   ]
  },
  {
   "cell_type": "code",
   "execution_count": 7,
   "metadata": {},
   "outputs": [
    {
     "data": {
      "text/plain": [
       "      Min.    1st Qu.     Median       Mean    3rd Qu.       Max. \n",
       "-110.91022   -2.07961   -0.60965   -2.03208   -0.07435   43.82143 "
      ]
     },
     "metadata": {},
     "output_type": "display_data"
    }
   ],
   "source": [
    "setDT(dt)\n",
    "dt[, summary(inflow)]"
   ]
  },
  {
   "cell_type": "markdown",
   "metadata": {},
   "source": [
    "# Split train/val/test"
   ]
  },
  {
   "cell_type": "markdown",
   "metadata": {},
   "source": [
    "\n",
    "Task: create rolling window\n",
    "- start: `2008-01-01`\n",
    "- end: `2019-12-31`\n",
    "- training period: 3 years (12 quarters)\n",
    "- predict period: next quarter\n",
    "\n",
    "> `val` is randomly sampled from `train`, that is `val` and `train` are of same period"
   ]
  },
  {
   "cell_type": "code",
   "execution_count": null,
   "metadata": {
    "scrolled": true
   },
   "outputs": [],
   "source": [
    "get_rolling_split_dates <- function(train_start, train_end, test_start, test_end, window_size) {\n",
    "    rolling_split_dates = data.table(train_start=train_start, train_end=train_end, test_start=test_start, test_end=test_end, window_size=window_size)\n",
    "    \n",
    "    i_window = 1\n",
    "    while (test_end < ymd('2019-12-31')) {\n",
    "        i_window = i_window + 1\n",
    "        train_start = train_start %m+% months(3) \n",
    "        train_end = train_end %m+% months(4) %>% rollback()\n",
    "        test_start = test_start %m+% months(3) \n",
    "        test_end = test_end %m+% months(4) %>% rollback()\n",
    "        \n",
    "        rolling_split_dates = rbindlist(\n",
    "            list(rolling_split_dates, \n",
    "                 list(train_start=train_start, train_end=train_end, \n",
    "                      test_start=test_start, test_end=test_end,\n",
    "                      window_size=window_size)))\n",
    "    }\n",
    "    return(rolling_split_dates)\n",
    "}\n",
    "train_start_1y = ymd('2008-01-01')\n",
    "train_end_1y = ymd('2008-12-31')\n",
    "test_start_1y = ymd('2009-01-01')\n",
    "test_end_1y = ymd('2009-03-31')\n",
    "\n",
    "train_start_2y = ymd('2008-01-01')\n",
    "train_end_2y = ymd('2009-12-31')\n",
    "test_start_2y = ymd('2010-01-01')\n",
    "test_end_2y = ymd('2010-03-31')\n",
    "\n",
    "train_start_3y = ymd('2008-01-01')\n",
    "train_end_3y = ymd('2010-12-31')\n",
    "test_start_3y = ymd('2011-01-01')\n",
    "test_end_3y = ymd('2011-03-31')\n",
    "\n",
    "train_start_4y = ymd('2008-01-01')\n",
    "train_end_4y = ymd('2011-12-31')\n",
    "test_start_4y = ymd('2012-01-01')\n",
    "test_end_4y = ymd('2012-03-31')\n",
    "\n",
    "train_start_5y = ymd('2008-01-01')\n",
    "train_end_5y = ymd('2012-12-31')\n",
    "test_start_5y = ymd('2013-01-01')\n",
    "test_end_5y = ymd('2013-03-31')\n",
    "\n",
    "train_start_6y = ymd('2008-01-01')\n",
    "train_end_6y = ymd('2013-12-31')\n",
    "test_start_6y = ymd('2014-01-01')\n",
    "test_end_6y = ymd('2014-03-31')\n",
    "\n",
    "train_start_7y = ymd('2008-01-01')\n",
    "train_end_7y = ymd('2014-12-31')\n",
    "test_start_7y = ymd('2015-01-01')\n",
    "test_end_7y = ymd('2015-03-31')\n",
    "\n",
    "train_start_8y = ymd('2008-01-01')\n",
    "train_end_8y = ymd('2015-12-31')\n",
    "test_start_8y = ymd('2016-01-01')\n",
    "test_end_8y = ymd('2016-03-31')\n",
    "\n",
    "train_start_9y = ymd('2008-01-01')\n",
    "train_end_9y = ymd('2016-12-31')\n",
    "test_start_9y = ymd('2017-01-01')\n",
    "test_end_9y = ymd('2017-03-31')\n",
    "\n",
    "rolling_split_dates = rbindlist(\n",
    "    list(get_rolling_split_dates(train_start_1y, train_end_1y, test_start_1y, test_end_1y, window_size='1y'),\n",
    "         get_rolling_split_dates(train_start_2y, train_end_2y, test_start_2y, test_end_2y, window_size='2y'),\n",
    "         get_rolling_split_dates(train_start_3y, train_end_3y, test_start_3y, test_end_3y, window_size='3y'),\n",
    "         get_rolling_split_dates(train_start_4y, train_end_4y, test_start_4y, test_end_4y, window_size='4y'),\n",
    "         get_rolling_split_dates(train_start_5y, train_end_5y, test_start_5y, test_end_5y, window_size='5y'),\n",
    "         get_rolling_split_dates(train_start_6y, train_end_6y, test_start_6y, test_end_6y, window_size='6y'),\n",
    "         get_rolling_split_dates(train_start_7y, train_end_7y, test_start_7y, test_end_7y, window_size='7y'),\n",
    "         get_rolling_split_dates(train_start_8y, train_end_8y, test_start_8y, test_end_8y, window_size='8y'),\n",
    "         get_rolling_split_dates(train_start_9y, train_end_9y, test_start_9y, test_end_9y, window_size='9y')),\n",
    "    use=T)\n",
    "\n",
    "nonrolling_split = list(train_start=ymd('2008-01-01'),\n",
    "                        train_end=ymd('2017-12-31'),\n",
    "                        test_start=ymd('2018-01-01'),\n",
    "                        test_end=ymd('2018-12-31'),\n",
    "                        window_size='2008-2017')\n",
    "\n",
    "rolling_split_dates = rbindlist(list(rolling_split_dates, nonrolling_split), fill=T)[order(window_size, test_start)\n",
    "    ][, ':='(yqtr=fcase(month(test_start)==1, str_c(year(test_start)-1, '-q4'),\n",
    "                        month(test_start)==4, str_c(year(test_start), '-q1'),\n",
    "                        month(test_start)==7, str_c(year(test_start), '-q2'),\n",
    "                        month(test_start)==10, str_c(year(test_start), '-q3')))\n",
    "    ][window_size=='2008-2017', ':='(yqtr='2018')\n",
    "    ][test_end<=ymd('2019-12-31')]\n",
    "\n",
    "# print preview\n",
    "rolling_split_dates[order(window_size, yqtr)]\n",
    "\n",
    "\n",
    "# write to csv\n",
    "sv(rolling_split_dates)\n",
    "fwrite(rolling_split_dates, './data/split_dates.csv')"
   ]
  }
 ],
 "metadata": {
  "kernelspec": {
   "display_name": "R-4.0.3",
   "language": "R",
   "name": "ir403"
  },
  "language_info": {
   "codemirror_mode": "r",
   "file_extension": ".r",
   "mimetype": "text/x-r-source",
   "name": "R",
   "pygments_lexer": "r",
   "version": "4.0.4"
  },
  "toc-autonumbering": true,
  "toc-showcode": false,
  "toc-showmarkdowntxt": false
 },
 "nbformat": 4,
 "nbformat_minor": 4
}
