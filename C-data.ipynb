{
 "cells": [
  {
   "cell_type": "markdown",
   "metadata": {},
   "source": [
    "# Init"
   ]
  },
  {
   "cell_type": "code",
   "execution_count": 2,
   "metadata": {},
   "outputs": [
    {
     "name": "stdout",
     "output_type": "stream",
     "text": [
      "Current working directory: C:/Users/rossz/Onedrive/CC"
     ]
    }
   ],
   "source": [
    "# library\n",
    "library(repr)\n",
    "library(Matrix)\n",
    "suppressMessages(suppressWarnings({\n",
    "    library(glmnet)\n",
    "    library(jsonlite)\n",
    "    library(utilr)\n",
    "    # library(comet)\n",
    "}))\n",
    "\n",
    "# data_dir\n",
    "if (tolower(str_sub(getwd(), -11)) == 'onedrive/cc') {\n",
    "    DATA_DIR = str_c(getwd(), '/data')\n",
    "    WRDS_DOWNLOAD_DIR = str_c(DATA_DIR, '/WRDS-download')\n",
    "    cat(str_c('Current working directory: ', getwd()))\n",
    "} else {\n",
    "    cat(str_c('Please set working dir to \"~/onedrive/cc\"'))\n",
    "}\n",
    "\n",
    "# options for plot\n",
    "options(repr.plot.width=7, repr.plot.height=4, repr.plot.res = 300)"
   ]
  },
  {
   "cell_type": "markdown",
   "metadata": {},
   "source": [
    "# WRDS"
   ]
  },
  {
   "cell_type": "markdown",
   "metadata": {},
   "source": [
    "## establish connection"
   ]
  },
  {
   "cell_type": "code",
   "execution_count": 6,
   "metadata": {},
   "outputs": [],
   "source": [
    "library(RPostgres)\n",
    "\n",
    "# connect to wrds\n",
    "wrds <- dbConnect(Postgres(),\n",
    "                  host='wrds-pgdata.wharton.upenn.edu',\n",
    "                  port=9737,\n",
    "                  dbname='wrds',\n",
    "                  sslmode='require',\n",
    "                  user='xiaomowu')"
   ]
  },
  {
   "cell_type": "markdown",
   "metadata": {},
   "source": [
    "## unit test"
   ]
  },
  {
   "cell_type": "code",
   "execution_count": null,
   "metadata": {
    "scrolled": true
   },
   "outputs": [],
   "source": [
    "# Determine the data libraries available at WRDS\n",
    "res <- dbSendQuery(wrds, \"select distinct table_schema\n",
    "                   from information_schema.tables\n",
    "                   where table_type ='VIEW'\n",
    "                   or table_type ='FOREIGN TABLE'\n",
    "                   order by table_schema\")\n",
    "data <- dbFetch(res, n=-1)\n",
    "dbClearResult(res)\n",
    "print(setDT(data)[, sort(table_schema)])"
   ]
  },
  {
   "cell_type": "code",
   "execution_count": null,
   "metadata": {
    "scrolled": true
   },
   "outputs": [],
   "source": [
    "# Determine the datasets within a given library\n",
    "library = 'crsp'\n",
    "res <- dbSendQuery(wrds, sprintf(\"select distinct table_name\n",
    "                   from information_schema.columns\n",
    "                   where table_schema='%s'\n",
    "                   order by table_name\", library))\n",
    "data <- dbFetch(res, n=-1)\n",
    "dbClearResult(res)\n",
    "setDT(data)[, sort(table_name)] %>% print()"
   ]
  },
  {
   "cell_type": "code",
   "execution_count": null,
   "metadata": {
    "scrolled": true
   },
   "outputs": [],
   "source": [
    "# Determine the variables (column headers) within a given dataset\n",
    "library = 'ibes'\n",
    "dataset = 'det_epsus'\n",
    "res <- dbSendQuery(wrds, sprintf(\"select column_name\n",
    "                   from information_schema.columns\n",
    "                   where table_schema='%s'\n",
    "                   and table_name='%s'\n",
    "                   order by column_name\", library, dataset))\n",
    "data <- dbFetch(res, n=-1)\n",
    "dbClearResult(res)\n",
    "setDT(data)[, column_name] %>% print()"
   ]
  },
  {
   "cell_type": "code",
   "execution_count": null,
   "metadata": {},
   "outputs": [],
   "source": [
    "# To query the crsp.dsf dataset\n",
    "library = \"ibes\"\n",
    "dataset = 'ptgdet'\n",
    "res <- dbSendQuery(wrds, sprintf(\"select * from %s.%s\", library, dataset))\n",
    "data <- dbFetch(res, n=-1) %>% setDT()\n",
    "dbClearResult(res)\n",
    "nrow(data)"
   ]
  },
  {
   "cell_type": "markdown",
   "metadata": {},
   "source": [
    "## CIQ-Transcripts"
   ]
  },
  {
   "cell_type": "markdown",
   "metadata": {},
   "source": [
    "> Transcript meta data"
   ]
  },
  {
   "cell_type": "code",
   "execution_count": 85,
   "metadata": {},
   "outputs": [
    {
     "name": "stdout",
     "output_type": "stream",
     "text": [
      "-ciq_transcript_detail- saved  (4.89 secs)\n"
     ]
    },
    {
     "data": {
      "text/html": [
       "<table>\n",
       "<caption>A data.table: 1 × 18</caption>\n",
       "<thead>\n",
       "\t<tr><th scope=col>companyid</th><th scope=col>keydevid</th><th scope=col>transcriptid</th><th scope=col>headline</th><th scope=col>mostimportantdateutc</th><th scope=col>keydeveventtypeid</th><th scope=col>keydeveventtypename</th><th scope=col>companyname</th><th scope=col>transcriptcollectiontypeid</th><th scope=col>transcriptcollectiontypename</th><th scope=col>transcriptpresentationtypeid</th><th scope=col>transcriptpresentationtypename</th><th scope=col>transcriptcreationdate_utc</th><th scope=col>transcriptcreationtime_utc</th><th scope=col>audiolengthsec</th><th scope=col>isdelayed_flag</th><th scope=col>delayreasontypeid</th><th scope=col>delayreasontypename</th></tr>\n",
       "\t<tr><th scope=col>&lt;dbl&gt;</th><th scope=col>&lt;dbl&gt;</th><th scope=col>&lt;dbl&gt;</th><th scope=col>&lt;chr&gt;</th><th scope=col>&lt;date&gt;</th><th scope=col>&lt;dbl&gt;</th><th scope=col>&lt;chr&gt;</th><th scope=col>&lt;chr&gt;</th><th scope=col>&lt;dbl&gt;</th><th scope=col>&lt;chr&gt;</th><th scope=col>&lt;dbl&gt;</th><th scope=col>&lt;chr&gt;</th><th scope=col>&lt;date&gt;</th><th scope=col>&lt;dbl&gt;</th><th scope=col>&lt;dbl&gt;</th><th scope=col>&lt;dbl&gt;</th><th scope=col>&lt;dbl&gt;</th><th scope=col>&lt;chr&gt;</th></tr>\n",
       "</thead>\n",
       "<tbody>\n",
       "\t<tr><td>NA</td><td>637187178</td><td>1855141</td><td>NA</td><td>NA</td><td>NA</td><td>NA</td><td>NA</td><td>7</td><td>Spellchecked Copy</td><td>4</td><td>Preliminary</td><td>2019-11-06</td><td>67695</td><td>3363</td><td>1</td><td>2</td><td>Cancelled- No Audio</td></tr>\n",
       "</tbody>\n",
       "</table>\n"
      ],
      "text/latex": [
       "A data.table: 1 × 18\n",
       "\\begin{tabular}{llllllllllllllllll}\n",
       " companyid & keydevid & transcriptid & headline & mostimportantdateutc & keydeveventtypeid & keydeveventtypename & companyname & transcriptcollectiontypeid & transcriptcollectiontypename & transcriptpresentationtypeid & transcriptpresentationtypename & transcriptcreationdate\\_utc & transcriptcreationtime\\_utc & audiolengthsec & isdelayed\\_flag & delayreasontypeid & delayreasontypename\\\\\n",
       " <dbl> & <dbl> & <dbl> & <chr> & <date> & <dbl> & <chr> & <chr> & <dbl> & <chr> & <dbl> & <chr> & <date> & <dbl> & <dbl> & <dbl> & <dbl> & <chr>\\\\\n",
       "\\hline\n",
       "\t NA & 637187178 & 1855141 & NA & NA & NA & NA & NA & 7 & Spellchecked Copy & 4 & Preliminary & 2019-11-06 & 67695 & 3363 & 1 & 2 & Cancelled- No Audio\\\\\n",
       "\\end{tabular}\n"
      ],
      "text/markdown": [
       "\n",
       "A data.table: 1 × 18\n",
       "\n",
       "| companyid &lt;dbl&gt; | keydevid &lt;dbl&gt; | transcriptid &lt;dbl&gt; | headline &lt;chr&gt; | mostimportantdateutc &lt;date&gt; | keydeveventtypeid &lt;dbl&gt; | keydeveventtypename &lt;chr&gt; | companyname &lt;chr&gt; | transcriptcollectiontypeid &lt;dbl&gt; | transcriptcollectiontypename &lt;chr&gt; | transcriptpresentationtypeid &lt;dbl&gt; | transcriptpresentationtypename &lt;chr&gt; | transcriptcreationdate_utc &lt;date&gt; | transcriptcreationtime_utc &lt;dbl&gt; | audiolengthsec &lt;dbl&gt; | isdelayed_flag &lt;dbl&gt; | delayreasontypeid &lt;dbl&gt; | delayreasontypename &lt;chr&gt; |\n",
       "|---|---|---|---|---|---|---|---|---|---|---|---|---|---|---|---|---|---|\n",
       "| NA | 637187178 | 1855141 | NA | NA | NA | NA | NA | 7 | Spellchecked Copy | 4 | Preliminary | 2019-11-06 | 67695 | 3363 | 1 | 2 | Cancelled- No Audio |\n",
       "\n"
      ],
      "text/plain": [
       "  companyid keydevid  transcriptid headline mostimportantdateutc\n",
       "1 NA        637187178 1855141      NA       <NA>                \n",
       "  keydeveventtypeid keydeveventtypename companyname transcriptcollectiontypeid\n",
       "1 NA                NA                  NA          7                         \n",
       "  transcriptcollectiontypename transcriptpresentationtypeid\n",
       "1 Spellchecked Copy            4                           \n",
       "  transcriptpresentationtypename transcriptcreationdate_utc\n",
       "1 Preliminary                    2019-11-06                \n",
       "  transcriptcreationtime_utc audiolengthsec isdelayed_flag delayreasontypeid\n",
       "1 67695                      3363           1              2                \n",
       "  delayreasontypename\n",
       "1 Cancelled- No Audio"
      ]
     },
     "metadata": {},
     "output_type": "display_data"
    }
   ],
   "source": [
    "library = \"ciq\"\n",
    "dataset = 'wrds_transcript_detail'\n",
    "res <- dbSendQuery(wrds, sprintf(\"select * from %s.%s\", library, dataset))\n",
    "ciq_transcript_detail <- dbFetch(res, n=-1) %>% setDT()\n",
    "dbClearResult(res)\n",
    "sv(ciq_transcript_detail, path=WRDS_DOWNLOAD_DIR)\n",
    "ciq_transcript_detail[1]"
   ]
  },
  {
   "cell_type": "code",
   "execution_count": 86,
   "metadata": {},
   "outputs": [
    {
     "data": {
      "text/html": [
       "996866"
      ],
      "text/latex": [
       "996866"
      ],
      "text/markdown": [
       "996866"
      ],
      "text/plain": [
       "[1] 996866"
      ]
     },
     "metadata": {},
     "output_type": "display_data"
    }
   ],
   "source": [
    "nrow(ciq_transcript_detail)"
   ]
  },
  {
   "cell_type": "markdown",
   "metadata": {},
   "source": [
    "> Transcript speaker"
   ]
  },
  {
   "cell_type": "code",
   "execution_count": null,
   "metadata": {},
   "outputs": [],
   "source": [
    "library = \"ciq\"\n",
    "dataset = 'wrds_transcript_person'\n",
    "res <- dbSendQuery(wrds, sprintf(\"select * from %s.%s\", library, dataset))\n",
    "ciq_transcript_speaker <- dbFetch(res, n=-1) %>% setDT()\n",
    "dbClearResult(res)\n",
    "ciq_transcript_speaker[1]\n",
    "sv(ciq_transcript_speaker, path=WRDS_DOWNLOAD_DIR)"
   ]
  },
  {
   "cell_type": "code",
   "execution_count": 5,
   "metadata": {},
   "outputs": [
    {
     "data": {
      "text/html": [
       "<table>\n",
       "<caption>A data.table: 1 × 13</caption>\n",
       "<thead>\n",
       "\t<tr><th scope=col>transcriptid</th><th scope=col>transcriptcomponentid</th><th scope=col>componentorder</th><th scope=col>transcriptcomponenttypeid</th><th scope=col>transcriptcomponenttypename</th><th scope=col>transcriptpersonid</th><th scope=col>transcriptpersonname</th><th scope=col>proid</th><th scope=col>companyofperson</th><th scope=col>speakertypeid</th><th scope=col>speakertypename</th><th scope=col>componenttextpreview</th><th scope=col>word_count</th></tr>\n",
       "\t<tr><th scope=col>&lt;dbl&gt;</th><th scope=col>&lt;dbl&gt;</th><th scope=col>&lt;dbl&gt;</th><th scope=col>&lt;dbl&gt;</th><th scope=col>&lt;chr&gt;</th><th scope=col>&lt;dbl&gt;</th><th scope=col>&lt;chr&gt;</th><th scope=col>&lt;dbl&gt;</th><th scope=col>&lt;chr&gt;</th><th scope=col>&lt;dbl&gt;</th><th scope=col>&lt;chr&gt;</th><th scope=col>&lt;chr&gt;</th><th scope=col>&lt;dbl&gt;</th></tr>\n",
       "</thead>\n",
       "<tbody>\n",
       "\t<tr><td>108</td><td>30184</td><td>1</td><td>1</td><td>Presentation Operator Message</td><td>1</td><td>Operator</td><td>NA</td><td>NA</td><td>1</td><td>Operator</td><td>Good day ladies and gentlemen and welcome to the Second Quarter 2006 Agilent Technologies Inc. Earnings Conference Call.  My name is Maria, and I will be your audio coordinator for today.  (Operator Instructions).At this time, I would now turn the prese</td><td>54</td></tr>\n",
       "</tbody>\n",
       "</table>\n"
      ],
      "text/latex": [
       "A data.table: 1 × 13\n",
       "\\begin{tabular}{lllllllllllll}\n",
       " transcriptid & transcriptcomponentid & componentorder & transcriptcomponenttypeid & transcriptcomponenttypename & transcriptpersonid & transcriptpersonname & proid & companyofperson & speakertypeid & speakertypename & componenttextpreview & word\\_count\\\\\n",
       " <dbl> & <dbl> & <dbl> & <dbl> & <chr> & <dbl> & <chr> & <dbl> & <chr> & <dbl> & <chr> & <chr> & <dbl>\\\\\n",
       "\\hline\n",
       "\t 108 & 30184 & 1 & 1 & Presentation Operator Message & 1 & Operator & NA & NA & 1 & Operator & Good day ladies and gentlemen and welcome to the Second Quarter 2006 Agilent Technologies Inc. Earnings Conference Call.  My name is Maria, and I will be your audio coordinator for today.  (Operator Instructions).At this time, I would now turn the prese & 54\\\\\n",
       "\\end{tabular}\n"
      ],
      "text/markdown": [
       "\n",
       "A data.table: 1 × 13\n",
       "\n",
       "| transcriptid &lt;dbl&gt; | transcriptcomponentid &lt;dbl&gt; | componentorder &lt;dbl&gt; | transcriptcomponenttypeid &lt;dbl&gt; | transcriptcomponenttypename &lt;chr&gt; | transcriptpersonid &lt;dbl&gt; | transcriptpersonname &lt;chr&gt; | proid &lt;dbl&gt; | companyofperson &lt;chr&gt; | speakertypeid &lt;dbl&gt; | speakertypename &lt;chr&gt; | componenttextpreview &lt;chr&gt; | word_count &lt;dbl&gt; |\n",
       "|---|---|---|---|---|---|---|---|---|---|---|---|---|\n",
       "| 108 | 30184 | 1 | 1 | Presentation Operator Message | 1 | Operator | NA | NA | 1 | Operator | Good day ladies and gentlemen and welcome to the Second Quarter 2006 Agilent Technologies Inc. Earnings Conference Call.  My name is Maria, and I will be your audio coordinator for today.  (Operator Instructions).At this time, I would now turn the prese | 54 |\n",
       "\n"
      ],
      "text/plain": [
       "  transcriptid transcriptcomponentid componentorder transcriptcomponenttypeid\n",
       "1 108          30184                 1              1                        \n",
       "  transcriptcomponenttypename   transcriptpersonid transcriptpersonname proid\n",
       "1 Presentation Operator Message 1                  Operator             NA   \n",
       "  companyofperson speakertypeid speakertypename\n",
       "1 NA              1             Operator       \n",
       "  componenttextpreview                                                                                                                                                                                                                                         \n",
       "1 Good day ladies and gentlemen and welcome to the Second Quarter 2006 Agilent Technologies Inc. Earnings Conference Call.  My name is Maria, and I will be your audio coordinator for today.  (Operator Instructions).At this time, I would now turn the prese\n",
       "  word_count\n",
       "1 54        "
      ]
     },
     "metadata": {},
     "output_type": "display_data"
    }
   ],
   "source": [
    "ciq_transcript_speaker[1]"
   ]
  },
  {
   "cell_type": "markdown",
   "metadata": {},
   "source": [
    "> Transcript component"
   ]
  },
  {
   "cell_type": "code",
   "execution_count": null,
   "metadata": {},
   "outputs": [],
   "source": [
    "library = \"ciq_transcripts\"\n",
    "dataset = 'ciqtranscriptcomponent'\n",
    "res <- dbSendQuery(wrds, sprintf(\"select * from %s.%s\", library, dataset))\n",
    "ciq_transcript_component <- dbFetch(res, n=-1) %>% setDT()\n",
    "dbClearResult(res)\n",
    "ciq_transcript_component[1]\n",
    "sv(ciq_transcript_component, path=WRDS_DOWNLOAD_DIR)"
   ]
  },
  {
   "cell_type": "code",
   "execution_count": null,
   "metadata": {},
   "outputs": [],
   "source": [
    "ld(ciq_transcript_component, path=WRDS_DOWNLOAD_DIR)\n",
    "ciq_transcript_component[1]"
   ]
  },
  {
   "cell_type": "markdown",
   "metadata": {},
   "source": [
    "> Transcript component_type_name"
   ]
  },
  {
   "cell_type": "code",
   "execution_count": null,
   "metadata": {
    "scrolled": true
   },
   "outputs": [],
   "source": [
    "library = \"ciq_transcripts\"\n",
    "dataset = 'ciqtranscriptcomponenttype'\n",
    "res <- dbSendQuery(wrds, sprintf(\"select * from %s.%s\", library, dataset))\n",
    "ciq_transcript_componenttype <- dbFetch(res, n=-1) %>% setDT()\n",
    "dbClearResult(res)\n",
    "ciq_transcript_componenttype\n",
    "sv(ciq_transcript_componenttype, path=WRDS_DOWNLOAD_DIR)"
   ]
  },
  {
   "cell_type": "markdown",
   "metadata": {
    "toc-hr-collapsed": true,
    "toc-nb-collapsed": true
   },
   "source": [
    "## I/B/E/S"
   ]
  },
  {
   "cell_type": "markdown",
   "metadata": {},
   "source": [
    "### Detail"
   ]
  },
  {
   "cell_type": "code",
   "execution_count": null,
   "metadata": {},
   "outputs": [],
   "source": [
    "# ADJUSTED\n",
    "# from 2006\n",
    "\n",
    "library = 'ibes'\n",
    "dataset = 'det_epsus' # eps\n",
    "# dataset = 'det_xepsus' # non-eps\n",
    "\n",
    "query = sprintf(\"select * from %s.%s where anndats>='2006-01-01'::date\", library, dataset)\n",
    "res <- dbSendQuery(wrds, query)\n",
    "ibes_det_epsus <- setDT(dbFetch(res, n=-1)); dbClearResult(res)\n",
    "\n",
    "sv(ibes_det_epsus, path=WRDS_DOWNLOAD_DIR)"
   ]
  },
  {
   "cell_type": "code",
   "execution_count": null,
   "metadata": {},
   "outputs": [],
   "source": [
    "# UNADJUSTED\n",
    "\n",
    "library = 'ibes'\n",
    "dataset = 'detu_epsus' # eps\n",
    "# dataset = 'det_xepsus' # non-eps\n",
    "\n",
    "query = sprintf(\"select ticker, estimator, analys, pdf, fpi, value, fpedats, revdats, revtims, anndats, anntims from %s.%s where fpedats between '2000-01-01' and '2018-12-31' and (fpi='6' or fpi='7')\", library, dataset, year)\n",
    "\n",
    "res <- dbSendQuery(wrds, query)\n",
    "ibes_detu_epsus<- setDT(dbFetch(res, n=-1)); dbClearResult(res)\n",
    "\n",
    "sprintf('%s: %s', dataset, nrow(ibes_detu_epsus))\n",
    "sv(ibes_detu_epsus, path=WRDS_DOWNLOAD_DIR)"
   ]
  },
  {
   "cell_type": "markdown",
   "metadata": {},
   "source": [
    "### actuals"
   ]
  },
  {
   "cell_type": "code",
   "execution_count": null,
   "metadata": {},
   "outputs": [],
   "source": [
    "library = 'ibes'\n",
    "dataset = 'actu_epsus' \n",
    "\n",
    "query = sprintf(\"select ticker, anndats as repdats, value as act, pends as fpedats, pdicity from %s.%s where pends between '2000-01-01' and '2018-12-31' and pdicity='QTR'\", library, dataset, year)\n",
    "\n",
    "res <- dbSendQuery(wrds, query)\n",
    "ibes_actu_epsus<- setDT(dbFetch(res, n=-1)); dbClearResult(res)\n",
    "\n",
    "sprintf('%s: %s', dataset, nrow(ibes_actu_epsus))\n",
    "sv(ibes_actu_epsus, path=WRDS_DOWNLOAD_DIR)\n",
    "ibes_actu_epsus[1]"
   ]
  },
  {
   "cell_type": "markdown",
   "metadata": {},
   "source": [
    "### Summary"
   ]
  },
  {
   "cell_type": "code",
   "execution_count": null,
   "metadata": {},
   "outputs": [],
   "source": [
    "library = 'ibes'\n",
    "dataset = 'statsum_epsus' # summary eps\n",
    "query = sprintf(\"select * from %s.%s\", library, dataset)\n",
    "\n",
    "res <- dbSendQuery(wrds, query)\n",
    "ibes_statsum_epsus <- setDT(dbFetch(res, n=-1)); dbClearResult(res)\n",
    "\n",
    "ibes_statsum_epsus[1]\n",
    "sv(ibes_statsum_epsus, path=WRDS_DOWNLOAD_DIR)"
   ]
  },
  {
   "cell_type": "code",
   "execution_count": null,
   "metadata": {},
   "outputs": [],
   "source": [
    "library = 'ibes'\n",
    "dataset = 'statsum_xepsus' # summary xeps\n",
    "\n",
    "query = sprintf(\"select * from %s.%s\", library, dataset)\n",
    "res <- dbSendQuery(wrds, query)\n",
    "ibes_statsum_xepsus <- setDT(dbFetch(res, n=-1)); dbClearResult(res)\n",
    "ibes_statsum_xepsus[1]\n",
    "sv(ibes_statsum_xepsus, path=WRDS_DOWNLOAD_DIR)"
   ]
  },
  {
   "cell_type": "code",
   "execution_count": 51,
   "metadata": {},
   "outputs": [
    {
     "name": "stdout",
     "output_type": "stream",
     "text": [
      "-ibes_statsum_epsus- loaded  (21.8 secs)\n"
     ]
    }
   ],
   "source": [
    "ld(ibes_statsum_epsus, path=WRDS_DOWNLOAD_DIR)"
   ]
  },
  {
   "cell_type": "code",
   "execution_count": null,
   "metadata": {},
   "outputs": [],
   "source": []
  },
  {
   "cell_type": "markdown",
   "metadata": {},
   "source": [
    "### Surprise"
   ]
  },
  {
   "cell_type": "code",
   "execution_count": null,
   "metadata": {},
   "outputs": [],
   "source": [
    "library = 'ibes'\n",
    "dataset = 'surpsum' # summary surprise \n",
    "\n",
    "query = sprintf(\"select * from %s.%s\", library, dataset)\n",
    "res <- dbSendQuery(wrds, query)\n",
    "ibes_surpsum <- setDT(dbFetch(res, n=-1)); dbClearResult(res)\n",
    "ibes_surpsum[1]\n",
    "sv(ibes_surpsum, path=WRDS_DOWNLOAD_DIR)"
   ]
  },
  {
   "cell_type": "markdown",
   "metadata": {
    "toc-hr-collapsed": true,
    "toc-nb-collapsed": true
   },
   "source": [
    "## price target"
   ]
  },
  {
   "cell_type": "code",
   "execution_count": null,
   "metadata": {},
   "outputs": [],
   "source": [
    "library = \"ibes\"\n",
    "dataset = 'ptgdet'\n",
    "res <- dbSendQuery(wrds, sprintf(\"select * from %s.%s\", library, dataset))\n",
    "ptgdet <- dbFetch(res, n=-1) %>% setDT()\n",
    "dbClearResult(res)\n",
    "sv(ptgdet, path='/data/WRDS-download')"
   ]
  },
  {
   "cell_type": "code",
   "execution_count": null,
   "metadata": {},
   "outputs": [],
   "source": [
    "nrow(ptgdet)"
   ]
  },
  {
   "cell_type": "code",
   "execution_count": null,
   "metadata": {},
   "outputs": [],
   "source": [
    "ptgdet[1]"
   ]
  },
  {
   "cell_type": "markdown",
   "metadata": {
    "toc-hr-collapsed": true,
    "toc-nb-collapsed": true
   },
   "source": [
    "## recommend"
   ]
  },
  {
   "cell_type": "code",
   "execution_count": null,
   "metadata": {},
   "outputs": [],
   "source": [
    "library = 'ibes'\n",
    "dataset = 'recddet'\n",
    "res <- dbSendQuery(wrds, sprintf(\"select * from %s.%s\", library, dataset))\n",
    "recddet <- dbFetch(res, n=-1) %>% setDT()\n",
    "dbClearResult(res)\n",
    "sv(recddet, path='/data/WRDS-download')"
   ]
  },
  {
   "cell_type": "code",
   "execution_count": null,
   "metadata": {},
   "outputs": [],
   "source": [
    "nrow(recddet)"
   ]
  },
  {
   "cell_type": "code",
   "execution_count": null,
   "metadata": {},
   "outputs": [],
   "source": [
    "recddet[1]"
   ]
  },
  {
   "cell_type": "markdown",
   "metadata": {
    "toc-hr-collapsed": true,
    "toc-nb-collapsed": true
   },
   "source": [
    "## financial ratio"
   ]
  },
  {
   "cell_type": "markdown",
   "metadata": {},
   "source": [
    "There's no Python or R API to download financial-ratio. So I download the csv through web query and import as R datatable.\n",
    "\n",
    "Download path: **CIQ -> Financial Ratios Firm Level**\n",
    "\n",
    "- last update: 2020-5-4\n",
    "- `bm`: book-to-market\n",
    "- `debt_assets`: Total Debt/Total Assets\n",
    "- `debt_at` *(deprecated)*: Total Debt/Total Assets\n",
    "- `roa`: return on assets"
   ]
  },
  {
   "cell_type": "code",
   "execution_count": 478,
   "metadata": {},
   "outputs": [
    {
     "name": "stdout",
     "output_type": "stream",
     "text": [
      "-wrds_finratio- saved  (0.96 secs)\n"
     ]
    }
   ],
   "source": [
    "wrds_finratio = fread(str_c(WRDS_DOWNLOAD_DIR, '/financial-ratio-firm.csv'), colClass=c(rep('character', times=4), rep('double', 4)))[order(gvkey, public_date)\n",
    "    ][, ':='(adate=ymd(adate), qdate=ymd(qdate), public_date=ymd(public_date), debt_at=NULL)]\n",
    "\n",
    "sv(wrds_finratio, path=WRDS_DOWNLOAD_DIR)"
   ]
  },
  {
   "cell_type": "markdown",
   "metadata": {},
   "source": [
    "## index price"
   ]
  },
  {
   "cell_type": "code",
   "execution_count": 51,
   "metadata": {},
   "outputs": [
    {
     "name": "stdout",
     "output_type": "stream",
     "text": [
      "-idx_price- saved  (13.87 secs)\n"
     ]
    }
   ],
   "source": [
    "library = 'comp'\n",
    "dataset = 'idx_daily' # factors\n",
    "\n",
    "res <- dbSendQuery(wrds, sprintf(\"select * from %s.%s\", library, dataset))\n",
    "idx_price <- dbFetch(res, n=-1) %>% setDT()\n",
    "dbClearResult(res)\n",
    "sv(idx_price, path=WRDS_DOWNLOAD_DIR)"
   ]
  },
  {
   "cell_type": "markdown",
   "metadata": {},
   "source": [
    "## stock price"
   ]
  },
  {
   "cell_type": "markdown",
   "metadata": {},
   "source": [
    "- `2007-01-01` to `2020-01-01`\n",
    "- all stocks from COMP\n",
    "- took 47 min\n",
    "- saved as `.feather`, 17.9 GB"
   ]
  },
  {
   "cell_type": "code",
   "execution_count": 7,
   "metadata": {},
   "outputs": [
    {
     "name": "stderr",
     "output_type": "stream",
     "text": [
      "Warning message:\n",
      "\"Expired, result set already closed\"\n"
     ]
    },
    {
     "data": {
      "text/plain": [
       "   user  system elapsed \n",
       " 283.96   23.56 2839.59 "
      ]
     },
     "metadata": {},
     "output_type": "display_data"
    }
   ],
   "source": [
    "library = 'comp'\n",
    "dataset = 'secd' # factors\n",
    "\n",
    "system.time({\n",
    "    query = sprintf(\"select * from %s.%s where datadate>='2007-01-01'::date and datadate<='2020-01-01'\", library, dataset)\n",
    "\n",
    "    res <- dbSendQuery(wrds, query)\n",
    "    comp_secd <- setDT(dbFetch(res, n=-1))\n",
    "    dbClearResult(res)\n",
    "})\n",
    "\n",
    "write_feather(comp_secd, str_c(WRDS_DOWNLOAD_DIR, '/comp_secd.feather'))"
   ]
  },
  {
   "cell_type": "code",
   "execution_count": 8,
   "metadata": {},
   "outputs": [
    {
     "name": "stdout",
     "output_type": "stream",
     "text": [
      "-comp_secd- loaded  (3.44 mins)\n"
     ]
    }
   ],
   "source": [
    "ld(comp_secd, path='./data/WRDS-download')"
   ]
  },
  {
   "cell_type": "code",
   "execution_count": 9,
   "metadata": {},
   "outputs": [
    {
     "data": {
      "text/html": [
       "<table>\n",
       "<caption>A data.table: 1 × 41</caption>\n",
       "<thead>\n",
       "\t<tr><th scope=col>gvkey</th><th scope=col>iid</th><th scope=col>datadate</th><th scope=col>tic</th><th scope=col>cusip</th><th scope=col>conm</th><th scope=col>curcddv</th><th scope=col>capgn</th><th scope=col>cheqv</th><th scope=col>div</th><th scope=col>divd</th><th scope=col>divdpaydateind</th><th scope=col>divsp</th><th scope=col>dvrated</th><th scope=col>paydateind</th><th scope=col>anncdate</th><th scope=col>capgnpaydate</th><th scope=col>cheqvpaydate</th><th scope=col>divdpaydate</th><th scope=col>divsppaydate</th><th scope=col>paydate</th><th scope=col>recorddate</th><th scope=col>curcdd</th><th scope=col>adrrc</th><th scope=col>ajexdi</th><th scope=col>cshoc</th><th scope=col>cshtrd</th><th scope=col>dvi</th><th scope=col>eps</th><th scope=col>epsmo</th><th scope=col>prccd</th><th scope=col>prchd</th><th scope=col>prcld</th><th scope=col>prcod</th><th scope=col>prcstd</th><th scope=col>trfd</th><th scope=col>exchg</th><th scope=col>secstat</th><th scope=col>tpci</th><th scope=col>cik</th><th scope=col>fic</th></tr>\n",
       "\t<tr><th scope=col>&lt;chr&gt;</th><th scope=col>&lt;chr&gt;</th><th scope=col>&lt;date&gt;</th><th scope=col>&lt;chr&gt;</th><th scope=col>&lt;chr&gt;</th><th scope=col>&lt;chr&gt;</th><th scope=col>&lt;chr&gt;</th><th scope=col>&lt;dbl&gt;</th><th scope=col>&lt;dbl&gt;</th><th scope=col>&lt;dbl&gt;</th><th scope=col>&lt;dbl&gt;</th><th scope=col>&lt;chr&gt;</th><th scope=col>&lt;dbl&gt;</th><th scope=col>&lt;dbl&gt;</th><th scope=col>&lt;chr&gt;</th><th scope=col>&lt;date&gt;</th><th scope=col>&lt;date&gt;</th><th scope=col>&lt;date&gt;</th><th scope=col>&lt;date&gt;</th><th scope=col>&lt;date&gt;</th><th scope=col>&lt;date&gt;</th><th scope=col>&lt;date&gt;</th><th scope=col>&lt;chr&gt;</th><th scope=col>&lt;dbl&gt;</th><th scope=col>&lt;dbl&gt;</th><th scope=col>&lt;dbl&gt;</th><th scope=col>&lt;dbl&gt;</th><th scope=col>&lt;dbl&gt;</th><th scope=col>&lt;dbl&gt;</th><th scope=col>&lt;dbl&gt;</th><th scope=col>&lt;dbl&gt;</th><th scope=col>&lt;dbl&gt;</th><th scope=col>&lt;dbl&gt;</th><th scope=col>&lt;dbl&gt;</th><th scope=col>&lt;dbl&gt;</th><th scope=col>&lt;dbl&gt;</th><th scope=col>&lt;dbl&gt;</th><th scope=col>&lt;chr&gt;</th><th scope=col>&lt;chr&gt;</th><th scope=col>&lt;chr&gt;</th><th scope=col>&lt;chr&gt;</th></tr>\n",
       "</thead>\n",
       "<tbody>\n",
       "\t<tr><td>001004</td><td>01</td><td>2000-01-03</td><td>AIR</td><td>000361105</td><td>AAR CORP</td><td>NA</td><td>NA</td><td>NA</td><td>NA</td><td>NA</td><td>NA</td><td>NA</td><td>NA</td><td>NA</td><td>NA</td><td>NA</td><td>NA</td><td>NA</td><td>NA</td><td>NA</td><td>NA</td><td>USD</td><td>NA</td><td>1</td><td>27401000</td><td>109000</td><td>0.34</td><td>1.6</td><td>11</td><td>17.5625</td><td>18</td><td>17.5625</td><td>NA</td><td>3</td><td>1.469693</td><td>11</td><td>A</td><td>0</td><td>0000001750</td><td>USA</td></tr>\n",
       "</tbody>\n",
       "</table>\n"
      ],
      "text/latex": [
       "A data.table: 1 × 41\n",
       "\\begin{tabular}{lllllllllllllllllllllllllllllllllllllllll}\n",
       " gvkey & iid & datadate & tic & cusip & conm & curcddv & capgn & cheqv & div & divd & divdpaydateind & divsp & dvrated & paydateind & anncdate & capgnpaydate & cheqvpaydate & divdpaydate & divsppaydate & paydate & recorddate & curcdd & adrrc & ajexdi & cshoc & cshtrd & dvi & eps & epsmo & prccd & prchd & prcld & prcod & prcstd & trfd & exchg & secstat & tpci & cik & fic\\\\\n",
       " <chr> & <chr> & <date> & <chr> & <chr> & <chr> & <chr> & <dbl> & <dbl> & <dbl> & <dbl> & <chr> & <dbl> & <dbl> & <chr> & <date> & <date> & <date> & <date> & <date> & <date> & <date> & <chr> & <dbl> & <dbl> & <dbl> & <dbl> & <dbl> & <dbl> & <dbl> & <dbl> & <dbl> & <dbl> & <dbl> & <dbl> & <dbl> & <dbl> & <chr> & <chr> & <chr> & <chr>\\\\\n",
       "\\hline\n",
       "\t 001004 & 01 & 2000-01-03 & AIR & 000361105 & AAR CORP & NA & NA & NA & NA & NA & NA & NA & NA & NA & NA & NA & NA & NA & NA & NA & NA & USD & NA & 1 & 27401000 & 109000 & 0.34 & 1.6 & 11 & 17.5625 & 18 & 17.5625 & NA & 3 & 1.469693 & 11 & A & 0 & 0000001750 & USA\\\\\n",
       "\\end{tabular}\n"
      ],
      "text/markdown": [
       "\n",
       "A data.table: 1 × 41\n",
       "\n",
       "| gvkey &lt;chr&gt; | iid &lt;chr&gt; | datadate &lt;date&gt; | tic &lt;chr&gt; | cusip &lt;chr&gt; | conm &lt;chr&gt; | curcddv &lt;chr&gt; | capgn &lt;dbl&gt; | cheqv &lt;dbl&gt; | div &lt;dbl&gt; | divd &lt;dbl&gt; | divdpaydateind &lt;chr&gt; | divsp &lt;dbl&gt; | dvrated &lt;dbl&gt; | paydateind &lt;chr&gt; | anncdate &lt;date&gt; | capgnpaydate &lt;date&gt; | cheqvpaydate &lt;date&gt; | divdpaydate &lt;date&gt; | divsppaydate &lt;date&gt; | paydate &lt;date&gt; | recorddate &lt;date&gt; | curcdd &lt;chr&gt; | adrrc &lt;dbl&gt; | ajexdi &lt;dbl&gt; | cshoc &lt;dbl&gt; | cshtrd &lt;dbl&gt; | dvi &lt;dbl&gt; | eps &lt;dbl&gt; | epsmo &lt;dbl&gt; | prccd &lt;dbl&gt; | prchd &lt;dbl&gt; | prcld &lt;dbl&gt; | prcod &lt;dbl&gt; | prcstd &lt;dbl&gt; | trfd &lt;dbl&gt; | exchg &lt;dbl&gt; | secstat &lt;chr&gt; | tpci &lt;chr&gt; | cik &lt;chr&gt; | fic &lt;chr&gt; |\n",
       "|---|---|---|---|---|---|---|---|---|---|---|---|---|---|---|---|---|---|---|---|---|---|---|---|---|---|---|---|---|---|---|---|---|---|---|---|---|---|---|---|---|\n",
       "| 001004 | 01 | 2000-01-03 | AIR | 000361105 | AAR CORP | NA | NA | NA | NA | NA | NA | NA | NA | NA | NA | NA | NA | NA | NA | NA | NA | USD | NA | 1 | 27401000 | 109000 | 0.34 | 1.6 | 11 | 17.5625 | 18 | 17.5625 | NA | 3 | 1.469693 | 11 | A | 0 | 0000001750 | USA |\n",
       "\n"
      ],
      "text/plain": [
       "  gvkey  iid datadate   tic cusip     conm     curcddv capgn cheqv div divd\n",
       "1 001004 01  2000-01-03 AIR 000361105 AAR CORP NA      NA    NA    NA  NA  \n",
       "  divdpaydateind divsp dvrated paydateind anncdate capgnpaydate cheqvpaydate\n",
       "1 NA             NA    NA      NA         <NA>     <NA>         <NA>        \n",
       "  divdpaydate divsppaydate paydate recorddate curcdd adrrc ajexdi cshoc   \n",
       "1 <NA>        <NA>         <NA>    <NA>       USD    NA    1      27401000\n",
       "  cshtrd dvi  eps epsmo prccd   prchd prcld   prcod prcstd trfd     exchg\n",
       "1 109000 0.34 1.6 11    17.5625 18    17.5625 NA    3      1.469693 11   \n",
       "  secstat tpci cik        fic\n",
       "1 A       0    0000001750 USA"
      ]
     },
     "metadata": {},
     "output_type": "display_data"
    }
   ],
   "source": [
    "comp_secd[1]"
   ]
  },
  {
   "cell_type": "markdown",
   "metadata": {},
   "source": [
    "Download `CRSP`\n",
    "It's *deprecated*!"
   ]
  },
  {
   "cell_type": "code",
   "execution_count": null,
   "metadata": {
    "scrolled": true
   },
   "outputs": [],
   "source": [
    "library = 'crspq'\n",
    "dataset = 'dsf' # factors\n",
    "years = 2001:2018\n",
    "\n",
    "for (year in years) {\n",
    "    print(sprintf('Start %s at %s', year, now()))\n",
    "    query = sprintf(\"select * from %s.%s where to_char(date,'yyyy')='%s'\", library, dataset, year)\n",
    "    save_name_short = sprintf('%s_%s', dataset, year)\n",
    "    save_name_full = sprintf('../data/WRDS-download/%s_%s.rds', dataset, year)\n",
    "\n",
    "    res <- dbSendQuery(wrds, query)\n",
    "    data <- setDT(dbFetch(res, n=-1)); dbClearResult(res)\n",
    "    \n",
    "    sprintf('%s_%s: %s', dataset, year, nrow(data))\n",
    "    assign(save_name_short, data)\n",
    "    saveRDS(data, save_name_full)\n",
    "}"
   ]
  },
  {
   "cell_type": "markdown",
   "metadata": {},
   "source": [
    "## stock industry"
   ]
  },
  {
   "cell_type": "code",
   "execution_count": 19,
   "metadata": {},
   "outputs": [
    {
     "data": {
      "text/plain": [
       "   user  system elapsed \n",
       "   0.58    0.04    3.52 "
      ]
     },
     "metadata": {},
     "output_type": "display_data"
    }
   ],
   "source": [
    "library = 'comp'\n",
    "dataset = 'co_industry' # factors\n",
    "\n",
    "system.time({\n",
    "    query = sprintf(\"select * from %s.%s\", library, dataset)\n",
    "    res <- dbSendQuery(wrds, query)\n",
    "    comp_industry <- setDT(dbFetch(res, n=-1))\n",
    "    dbClearResult(res)\n",
    "})\n"
   ]
  },
  {
   "cell_type": "code",
   "execution_count": null,
   "metadata": {
    "scrolled": true
   },
   "outputs": [],
   "source": [
    "comp_industry[consol=='C', .(gvkey, naicsh, sich, year, datadate)]"
   ]
  },
  {
   "cell_type": "code",
   "execution_count": null,
   "metadata": {},
   "outputs": [],
   "source": [
    "# comp_industry[1]\n",
    "comp_secd[90000:90010, .(gvkey, trfd, datadate, prccd)]\n",
    "sp500_cst[1]"
   ]
  },
  {
   "cell_type": "code",
   "execution_count": 46,
   "metadata": {},
   "outputs": [],
   "source": [
    "xym = comp_secd[(gvkey %in% sp500_cst$gvkey) & (iid=='01'), \n",
    "      .(gvkey, ticker=tic, name=conm, date=datadate, year=year(datadate), prcice=prccd, price_adjusted=prccd/ajexdi)\n",
    "    ][comp_industry[consol=='C', .(gvkey, year, class_na=naicsh, class_sic=sich)], on=.(gvkey, year), nomatch=NULL\n",
    "    ][, ':='(return=growth(price_adjusted))\n",
    "    ][!is.na(return)\n",
    "    ][order(gvkey, date)\n",
    "    ][, ':='(year=NULL)] %>% unique()"
   ]
  },
  {
   "cell_type": "code",
   "execution_count": 54,
   "metadata": {},
   "outputs": [
    {
     "name": "stdout",
     "output_type": "stream",
     "text": [
      "-xym- saved  (9.08 secs)\n"
     ]
    }
   ],
   "source": [
    "sv(xym)"
   ]
  },
  {
   "cell_type": "markdown",
   "metadata": {
    "toc-hr-collapsed": true,
    "toc-nb-collapsed": true
   },
   "source": [
    "## FF-factors"
   ]
  },
  {
   "cell_type": "markdown",
   "metadata": {},
   "source": [
    "Notes:\n",
    "- `factors` are in decimal, not percentage point. So `smb=0.0024` means the return is 0.24 percentage points"
   ]
  },
  {
   "cell_type": "code",
   "execution_count": null,
   "metadata": {},
   "outputs": [],
   "source": [
    "library = 'ff'\n",
    "dataset = 'factors_daily' # factors\n",
    "\n",
    "query = sprintf(\"select * from %s.%s\", library, dataset)\n",
    "res <- dbSendQuery(wrds, query)\n",
    "factors <- setDT(dbFetch(res, n=-1)); dbClearResult(res)\n",
    "sprintf('%s: %s', dataset, nrow(data))\n",
    "sv(factors, path='/data/WRDS-download')"
   ]
  },
  {
   "cell_type": "code",
   "execution_count": 35,
   "metadata": {},
   "outputs": [
    {
     "data": {
      "text/html": [
       "<table>\n",
       "<caption>A data.table: 24412 × 6</caption>\n",
       "<thead>\n",
       "\t<tr><th scope=col>date</th><th scope=col>mktrf</th><th scope=col>smb</th><th scope=col>hml</th><th scope=col>rf</th><th scope=col>umd</th></tr>\n",
       "\t<tr><th scope=col>&lt;date&gt;</th><th scope=col>&lt;dbl&gt;</th><th scope=col>&lt;dbl&gt;</th><th scope=col>&lt;dbl&gt;</th><th scope=col>&lt;dbl&gt;</th><th scope=col>&lt;dbl&gt;</th></tr>\n",
       "</thead>\n",
       "<tbody>\n",
       "\t<tr><td>1926-07-01</td><td> 0.0010</td><td>-0.0024</td><td>-0.0028</td><td>9e-05</td><td>NA</td></tr>\n",
       "\t<tr><td>1926-07-02</td><td> 0.0045</td><td>-0.0032</td><td>-0.0008</td><td>9e-05</td><td>NA</td></tr>\n",
       "\t<tr><td>1926-07-06</td><td> 0.0017</td><td> 0.0027</td><td>-0.0035</td><td>9e-05</td><td>NA</td></tr>\n",
       "\t<tr><td>1926-07-07</td><td> 0.0009</td><td>-0.0059</td><td> 0.0003</td><td>9e-05</td><td>NA</td></tr>\n",
       "\t<tr><td>1926-07-08</td><td> 0.0021</td><td>-0.0036</td><td> 0.0015</td><td>9e-05</td><td>NA</td></tr>\n",
       "\t<tr><td>1926-07-09</td><td>-0.0071</td><td> 0.0044</td><td> 0.0056</td><td>9e-05</td><td>NA</td></tr>\n",
       "\t<tr><td>1926-07-10</td><td> 0.0062</td><td>-0.0050</td><td>-0.0015</td><td>9e-05</td><td>NA</td></tr>\n",
       "\t<tr><td>1926-07-12</td><td> 0.0004</td><td> 0.0003</td><td> 0.0054</td><td>9e-05</td><td>NA</td></tr>\n",
       "\t<tr><td>1926-07-13</td><td> 0.0048</td><td>-0.0026</td><td>-0.0023</td><td>9e-05</td><td>NA</td></tr>\n",
       "\t<tr><td>1926-07-14</td><td> 0.0004</td><td> 0.0009</td><td>-0.0048</td><td>9e-05</td><td>NA</td></tr>\n",
       "\t<tr><td>1926-07-15</td><td>-0.0043</td><td> 0.0054</td><td>-0.0030</td><td>9e-05</td><td>NA</td></tr>\n",
       "\t<tr><td>1926-07-16</td><td> 0.0053</td><td> 0.0001</td><td>-0.0057</td><td>9e-05</td><td>NA</td></tr>\n",
       "\t<tr><td>1926-07-17</td><td> 0.0034</td><td> 0.0043</td><td>-0.0063</td><td>9e-05</td><td>NA</td></tr>\n",
       "\t<tr><td>1926-07-19</td><td>-0.0001</td><td> 0.0001</td><td>-0.0049</td><td>9e-05</td><td>NA</td></tr>\n",
       "\t<tr><td>1926-07-20</td><td>-0.0057</td><td>-0.0023</td><td> 0.0016</td><td>9e-05</td><td>NA</td></tr>\n",
       "\t<tr><td>1926-07-21</td><td>-0.0060</td><td> 0.0021</td><td> 0.0031</td><td>9e-05</td><td>NA</td></tr>\n",
       "\t<tr><td>1926-07-22</td><td>-0.0073</td><td>-0.0030</td><td>-0.0017</td><td>9e-05</td><td>NA</td></tr>\n",
       "\t<tr><td>1926-07-23</td><td>-0.0002</td><td> 0.0008</td><td> 0.0006</td><td>9e-05</td><td>NA</td></tr>\n",
       "\t<tr><td>1926-07-24</td><td>-0.0014</td><td> 0.0044</td><td>-0.0006</td><td>9e-05</td><td>NA</td></tr>\n",
       "\t<tr><td>1926-07-26</td><td> 0.0053</td><td>-0.0038</td><td>-0.0025</td><td>9e-05</td><td>NA</td></tr>\n",
       "\t<tr><td>1926-07-27</td><td> 0.0043</td><td>-0.0045</td><td> 0.0026</td><td>9e-05</td><td>NA</td></tr>\n",
       "\t<tr><td>1926-07-28</td><td> 0.0109</td><td> 0.0004</td><td>-0.0028</td><td>9e-05</td><td>NA</td></tr>\n",
       "\t<tr><td>1926-07-29</td><td> 0.0036</td><td>-0.0061</td><td>-0.0101</td><td>9e-05</td><td>NA</td></tr>\n",
       "\t<tr><td>1926-07-30</td><td> 0.0014</td><td>-0.0047</td><td> 0.0055</td><td>9e-05</td><td>NA</td></tr>\n",
       "\t<tr><td>1926-07-31</td><td> 0.0046</td><td>-0.0012</td><td>-0.0017</td><td>9e-05</td><td>NA</td></tr>\n",
       "\t<tr><td>1926-08-02</td><td> 0.0084</td><td>-0.0022</td><td>-0.0003</td><td>1e-04</td><td>NA</td></tr>\n",
       "\t<tr><td>1926-08-03</td><td> 0.0047</td><td>-0.0027</td><td>-0.0060</td><td>1e-04</td><td>NA</td></tr>\n",
       "\t<tr><td>1926-08-04</td><td>-0.0036</td><td> 0.0016</td><td> 0.0025</td><td>1e-04</td><td>NA</td></tr>\n",
       "\t<tr><td>1926-08-05</td><td>-0.0009</td><td> 0.0001</td><td> 0.0073</td><td>1e-04</td><td>NA</td></tr>\n",
       "\t<tr><td>1926-08-06</td><td> 0.0068</td><td> 0.0008</td><td> 0.0016</td><td>1e-04</td><td>NA</td></tr>\n",
       "\t<tr><td>1926-08-07</td><td> 0.0046</td><td> 0.0008</td><td>-0.0024</td><td>1e-04</td><td>NA</td></tr>\n",
       "\t<tr><td>1926-08-09</td><td> 0.0021</td><td>-0.0004</td><td>-0.0026</td><td>1e-04</td><td>NA</td></tr>\n",
       "\t<tr><td>1926-08-10</td><td>-0.0140</td><td> 0.0034</td><td> 0.0021</td><td>1e-04</td><td>NA</td></tr>\n",
       "\t<tr><td>1926-08-11</td><td>-0.0057</td><td> 0.0021</td><td> 0.0034</td><td>1e-04</td><td>NA</td></tr>\n",
       "\t<tr><td>1926-08-12</td><td> 0.0084</td><td>-0.0077</td><td> 0.0042</td><td>1e-04</td><td>NA</td></tr>\n",
       "\t<tr><td>1926-08-13</td><td> 0.0058</td><td>-0.0085</td><td> 0.0025</td><td>1e-04</td><td>NA</td></tr>\n",
       "\t<tr><td>1926-08-14</td><td> 0.0069</td><td> 0.0015</td><td>-0.0036</td><td>1e-04</td><td>NA</td></tr>\n",
       "\t<tr><td>1926-08-16</td><td> 0.0007</td><td> 0.0023</td><td> 0.0070</td><td>1e-04</td><td>NA</td></tr>\n",
       "\t<tr><td>1926-08-17</td><td>-0.0095</td><td> 0.0034</td><td> 0.0016</td><td>1e-04</td><td>NA</td></tr>\n",
       "\t<tr><td>1926-08-18</td><td> 0.0026</td><td> 0.0008</td><td> 0.0004</td><td>1e-04</td><td>NA</td></tr>\n",
       "\t<tr><td>1926-08-19</td><td>-0.0060</td><td> 0.0012</td><td> 0.0010</td><td>1e-04</td><td>NA</td></tr>\n",
       "\t<tr><td>1926-08-20</td><td>-0.0020</td><td>-0.0036</td><td> 0.0042</td><td>1e-04</td><td>NA</td></tr>\n",
       "\t<tr><td>1926-08-21</td><td> 0.0032</td><td>-0.0006</td><td> 0.0049</td><td>1e-04</td><td>NA</td></tr>\n",
       "\t<tr><td>1926-08-23</td><td> 0.0049</td><td>-0.0048</td><td> 0.0062</td><td>1e-04</td><td>NA</td></tr>\n",
       "\t<tr><td>1926-08-24</td><td>-0.0084</td><td> 0.0050</td><td>-0.0009</td><td>1e-04</td><td>NA</td></tr>\n",
       "\t<tr><td>1926-08-25</td><td>-0.0032</td><td>-0.0043</td><td> 0.0028</td><td>1e-04</td><td>NA</td></tr>\n",
       "\t<tr><td>1926-08-26</td><td> 0.0053</td><td> 0.0009</td><td> 0.0050</td><td>1e-04</td><td>NA</td></tr>\n",
       "\t<tr><td>1926-08-27</td><td> 0.0035</td><td> 0.0013</td><td>-0.0039</td><td>1e-04</td><td>NA</td></tr>\n",
       "\t<tr><td>1926-08-28</td><td> 0.0034</td><td> 0.0015</td><td>-0.0006</td><td>1e-04</td><td>NA</td></tr>\n",
       "\t<tr><td>1926-08-30</td><td> 0.0030</td><td> 0.0000</td><td> 0.0042</td><td>1e-04</td><td>NA</td></tr>\n",
       "\t<tr><td>...</td><td>...</td><td>...</td><td>...</td><td>...</td><td>...</td></tr>\n",
       "\t<tr><td>2018-11-16</td><td> 0.0015</td><td> 0.0000</td><td>-0.0001</td><td>8e-05</td><td> 0.0009</td></tr>\n",
       "\t<tr><td>2018-11-19</td><td>-0.0188</td><td>-0.0065</td><td> 0.0232</td><td>8e-05</td><td>-0.0105</td></tr>\n",
       "\t<tr><td>2018-11-20</td><td>-0.0185</td><td> 0.0014</td><td>-0.0063</td><td>8e-05</td><td>-0.0068</td></tr>\n",
       "\t<tr><td>2018-11-21</td><td> 0.0051</td><td> 0.0097</td><td>-0.0030</td><td>8e-05</td><td>-0.0019</td></tr>\n",
       "\t<tr><td>2018-11-23</td><td>-0.0055</td><td> 0.0079</td><td>-0.0057</td><td>8e-05</td><td> 0.0003</td></tr>\n",
       "\t<tr><td>2018-11-26</td><td> 0.0162</td><td>-0.0067</td><td>-0.0018</td><td>8e-05</td><td> 0.0005</td></tr>\n",
       "\t<tr><td>2018-11-27</td><td> 0.0011</td><td>-0.0107</td><td> 0.0027</td><td>8e-05</td><td> 0.0054</td></tr>\n",
       "\t<tr><td>2018-11-28</td><td> 0.0242</td><td> 0.0048</td><td>-0.0127</td><td>8e-05</td><td> 0.0101</td></tr>\n",
       "\t<tr><td>2018-11-29</td><td>-0.0022</td><td>-0.0012</td><td>-0.0018</td><td>8e-05</td><td> 0.0031</td></tr>\n",
       "\t<tr><td>2018-11-30</td><td> 0.0078</td><td>-0.0035</td><td>-0.0038</td><td>8e-05</td><td>-0.0025</td></tr>\n",
       "\t<tr><td>2018-12-03</td><td> 0.0113</td><td>-0.0008</td><td>-0.0070</td><td>1e-04</td><td> 0.0022</td></tr>\n",
       "\t<tr><td>2018-12-04</td><td>-0.0345</td><td>-0.0097</td><td>-0.0012</td><td>1e-04</td><td> 0.0069</td></tr>\n",
       "\t<tr><td>2018-12-06</td><td>-0.0016</td><td> 0.0009</td><td>-0.0100</td><td>1e-04</td><td> 0.0053</td></tr>\n",
       "\t<tr><td>2018-12-07</td><td>-0.0236</td><td> 0.0022</td><td> 0.0128</td><td>1e-04</td><td>-0.0054</td></tr>\n",
       "\t<tr><td>2018-12-10</td><td> 0.0010</td><td>-0.0022</td><td>-0.0157</td><td>1e-04</td><td> 0.0080</td></tr>\n",
       "\t<tr><td>2018-12-11</td><td>-0.0008</td><td>-0.0008</td><td>-0.0035</td><td>1e-04</td><td> 0.0071</td></tr>\n",
       "\t<tr><td>2018-12-12</td><td> 0.0068</td><td> 0.0055</td><td>-0.0013</td><td>1e-04</td><td>-0.0006</td></tr>\n",
       "\t<tr><td>2018-12-13</td><td>-0.0026</td><td>-0.0150</td><td>-0.0017</td><td>1e-04</td><td> 0.0048</td></tr>\n",
       "\t<tr><td>2018-12-14</td><td>-0.0189</td><td>-0.0010</td><td> 0.0059</td><td>1e-04</td><td>-0.0050</td></tr>\n",
       "\t<tr><td>2018-12-17</td><td>-0.0213</td><td>-0.0025</td><td> 0.0098</td><td>1e-04</td><td>-0.0096</td></tr>\n",
       "\t<tr><td>2018-12-18</td><td>-0.0003</td><td> 0.0000</td><td>-0.0055</td><td>1e-04</td><td> 0.0030</td></tr>\n",
       "\t<tr><td>2018-12-19</td><td>-0.0158</td><td>-0.0066</td><td> 0.0017</td><td>1e-04</td><td> 0.0069</td></tr>\n",
       "\t<tr><td>2018-12-20</td><td>-0.0162</td><td>-0.0023</td><td> 0.0077</td><td>1e-04</td><td>-0.0049</td></tr>\n",
       "\t<tr><td>2018-12-21</td><td>-0.0217</td><td>-0.0058</td><td> 0.0083</td><td>1e-04</td><td> 0.0044</td></tr>\n",
       "\t<tr><td>2018-12-24</td><td>-0.0255</td><td> 0.0098</td><td>-0.0045</td><td>1e-04</td><td>-0.0020</td></tr>\n",
       "\t<tr><td>2018-12-26</td><td> 0.0506</td><td>-0.0002</td><td>-0.0105</td><td>1e-04</td><td> 0.0002</td></tr>\n",
       "\t<tr><td>2018-12-27</td><td> 0.0078</td><td>-0.0068</td><td>-0.0008</td><td>1e-04</td><td> 0.0025</td></tr>\n",
       "\t<tr><td>2018-12-28</td><td>-0.0003</td><td> 0.0075</td><td> 0.0025</td><td>1e-04</td><td> 0.0012</td></tr>\n",
       "\t<tr><td>2018-12-31</td><td> 0.0090</td><td>-0.0009</td><td>-0.0047</td><td>1e-04</td><td> 0.0063</td></tr>\n",
       "\t<tr><td>2019-01-02</td><td> 0.0023</td><td> 0.0058</td><td> 0.0115</td><td>1e-04</td><td>-0.0228</td></tr>\n",
       "\t<tr><td>2019-01-03</td><td>-0.0245</td><td> 0.0039</td><td> 0.0122</td><td>1e-04</td><td>-0.0077</td></tr>\n",
       "\t<tr><td>2019-01-04</td><td> 0.0355</td><td> 0.0044</td><td>-0.0073</td><td>1e-04</td><td>-0.0099</td></tr>\n",
       "\t<tr><td>2019-01-07</td><td> 0.0094</td><td> 0.0094</td><td>-0.0066</td><td>1e-04</td><td>-0.0084</td></tr>\n",
       "\t<tr><td>2019-01-08</td><td> 0.0101</td><td> 0.0050</td><td>-0.0053</td><td>1e-04</td><td> 0.0011</td></tr>\n",
       "\t<tr><td>2019-01-09</td><td> 0.0056</td><td> 0.0050</td><td>-0.0005</td><td>1e-04</td><td>-0.0084</td></tr>\n",
       "\t<tr><td>2019-01-10</td><td> 0.0042</td><td> 0.0001</td><td>-0.0041</td><td>1e-04</td><td>-0.0034</td></tr>\n",
       "\t<tr><td>2019-01-11</td><td>-0.0001</td><td> 0.0010</td><td> 0.0030</td><td>1e-04</td><td>-0.0019</td></tr>\n",
       "\t<tr><td>2019-01-14</td><td>-0.0060</td><td>-0.0056</td><td> 0.0087</td><td>1e-04</td><td>-0.0059</td></tr>\n",
       "\t<tr><td>2019-01-15</td><td> 0.0106</td><td> 0.0000</td><td>-0.0088</td><td>1e-04</td><td> 0.0111</td></tr>\n",
       "\t<tr><td>2019-01-16</td><td> 0.0028</td><td> 0.0010</td><td> 0.0083</td><td>1e-04</td><td>-0.0073</td></tr>\n",
       "\t<tr><td>2019-01-17</td><td> 0.0075</td><td> 0.0010</td><td>-0.0019</td><td>1e-04</td><td>-0.0021</td></tr>\n",
       "\t<tr><td>2019-01-18</td><td> 0.0129</td><td>-0.0035</td><td> 0.0012</td><td>1e-04</td><td>-0.0086</td></tr>\n",
       "\t<tr><td>2019-01-22</td><td>-0.0153</td><td>-0.0038</td><td> 0.0030</td><td>1e-04</td><td> 0.0097</td></tr>\n",
       "\t<tr><td>2019-01-23</td><td> 0.0015</td><td>-0.0041</td><td>-0.0013</td><td>1e-04</td><td> 0.0102</td></tr>\n",
       "\t<tr><td>2019-01-24</td><td> 0.0023</td><td> 0.0045</td><td>-0.0009</td><td>1e-04</td><td>-0.0105</td></tr>\n",
       "\t<tr><td>2019-01-25</td><td> 0.0090</td><td> 0.0047</td><td>-0.0036</td><td>1e-04</td><td>-0.0135</td></tr>\n",
       "\t<tr><td>2019-01-28</td><td>-0.0080</td><td>-0.0017</td><td> 0.0066</td><td>1e-04</td><td>-0.0008</td></tr>\n",
       "\t<tr><td>2019-01-29</td><td>-0.0019</td><td> 0.0000</td><td> 0.0017</td><td>1e-04</td><td>-0.0030</td></tr>\n",
       "\t<tr><td>2019-01-30</td><td> 0.0151</td><td>-0.0010</td><td>-0.0106</td><td>1e-04</td><td> 0.0006</td></tr>\n",
       "\t<tr><td>2019-01-31</td><td> 0.0092</td><td> 0.0012</td><td>-0.0109</td><td>1e-04</td><td> 0.0032</td></tr>\n",
       "</tbody>\n",
       "</table>\n"
      ],
      "text/latex": [
       "A data.table: 24412 × 6\n",
       "\\begin{tabular}{llllll}\n",
       " date & mktrf & smb & hml & rf & umd\\\\\n",
       " <date> & <dbl> & <dbl> & <dbl> & <dbl> & <dbl>\\\\\n",
       "\\hline\n",
       "\t 1926-07-01 &  0.0010 & -0.0024 & -0.0028 & 9e-05 & NA\\\\\n",
       "\t 1926-07-02 &  0.0045 & -0.0032 & -0.0008 & 9e-05 & NA\\\\\n",
       "\t 1926-07-06 &  0.0017 &  0.0027 & -0.0035 & 9e-05 & NA\\\\\n",
       "\t 1926-07-07 &  0.0009 & -0.0059 &  0.0003 & 9e-05 & NA\\\\\n",
       "\t 1926-07-08 &  0.0021 & -0.0036 &  0.0015 & 9e-05 & NA\\\\\n",
       "\t 1926-07-09 & -0.0071 &  0.0044 &  0.0056 & 9e-05 & NA\\\\\n",
       "\t 1926-07-10 &  0.0062 & -0.0050 & -0.0015 & 9e-05 & NA\\\\\n",
       "\t 1926-07-12 &  0.0004 &  0.0003 &  0.0054 & 9e-05 & NA\\\\\n",
       "\t 1926-07-13 &  0.0048 & -0.0026 & -0.0023 & 9e-05 & NA\\\\\n",
       "\t 1926-07-14 &  0.0004 &  0.0009 & -0.0048 & 9e-05 & NA\\\\\n",
       "\t 1926-07-15 & -0.0043 &  0.0054 & -0.0030 & 9e-05 & NA\\\\\n",
       "\t 1926-07-16 &  0.0053 &  0.0001 & -0.0057 & 9e-05 & NA\\\\\n",
       "\t 1926-07-17 &  0.0034 &  0.0043 & -0.0063 & 9e-05 & NA\\\\\n",
       "\t 1926-07-19 & -0.0001 &  0.0001 & -0.0049 & 9e-05 & NA\\\\\n",
       "\t 1926-07-20 & -0.0057 & -0.0023 &  0.0016 & 9e-05 & NA\\\\\n",
       "\t 1926-07-21 & -0.0060 &  0.0021 &  0.0031 & 9e-05 & NA\\\\\n",
       "\t 1926-07-22 & -0.0073 & -0.0030 & -0.0017 & 9e-05 & NA\\\\\n",
       "\t 1926-07-23 & -0.0002 &  0.0008 &  0.0006 & 9e-05 & NA\\\\\n",
       "\t 1926-07-24 & -0.0014 &  0.0044 & -0.0006 & 9e-05 & NA\\\\\n",
       "\t 1926-07-26 &  0.0053 & -0.0038 & -0.0025 & 9e-05 & NA\\\\\n",
       "\t 1926-07-27 &  0.0043 & -0.0045 &  0.0026 & 9e-05 & NA\\\\\n",
       "\t 1926-07-28 &  0.0109 &  0.0004 & -0.0028 & 9e-05 & NA\\\\\n",
       "\t 1926-07-29 &  0.0036 & -0.0061 & -0.0101 & 9e-05 & NA\\\\\n",
       "\t 1926-07-30 &  0.0014 & -0.0047 &  0.0055 & 9e-05 & NA\\\\\n",
       "\t 1926-07-31 &  0.0046 & -0.0012 & -0.0017 & 9e-05 & NA\\\\\n",
       "\t 1926-08-02 &  0.0084 & -0.0022 & -0.0003 & 1e-04 & NA\\\\\n",
       "\t 1926-08-03 &  0.0047 & -0.0027 & -0.0060 & 1e-04 & NA\\\\\n",
       "\t 1926-08-04 & -0.0036 &  0.0016 &  0.0025 & 1e-04 & NA\\\\\n",
       "\t 1926-08-05 & -0.0009 &  0.0001 &  0.0073 & 1e-04 & NA\\\\\n",
       "\t 1926-08-06 &  0.0068 &  0.0008 &  0.0016 & 1e-04 & NA\\\\\n",
       "\t 1926-08-07 &  0.0046 &  0.0008 & -0.0024 & 1e-04 & NA\\\\\n",
       "\t 1926-08-09 &  0.0021 & -0.0004 & -0.0026 & 1e-04 & NA\\\\\n",
       "\t 1926-08-10 & -0.0140 &  0.0034 &  0.0021 & 1e-04 & NA\\\\\n",
       "\t 1926-08-11 & -0.0057 &  0.0021 &  0.0034 & 1e-04 & NA\\\\\n",
       "\t 1926-08-12 &  0.0084 & -0.0077 &  0.0042 & 1e-04 & NA\\\\\n",
       "\t 1926-08-13 &  0.0058 & -0.0085 &  0.0025 & 1e-04 & NA\\\\\n",
       "\t 1926-08-14 &  0.0069 &  0.0015 & -0.0036 & 1e-04 & NA\\\\\n",
       "\t 1926-08-16 &  0.0007 &  0.0023 &  0.0070 & 1e-04 & NA\\\\\n",
       "\t 1926-08-17 & -0.0095 &  0.0034 &  0.0016 & 1e-04 & NA\\\\\n",
       "\t 1926-08-18 &  0.0026 &  0.0008 &  0.0004 & 1e-04 & NA\\\\\n",
       "\t 1926-08-19 & -0.0060 &  0.0012 &  0.0010 & 1e-04 & NA\\\\\n",
       "\t 1926-08-20 & -0.0020 & -0.0036 &  0.0042 & 1e-04 & NA\\\\\n",
       "\t 1926-08-21 &  0.0032 & -0.0006 &  0.0049 & 1e-04 & NA\\\\\n",
       "\t 1926-08-23 &  0.0049 & -0.0048 &  0.0062 & 1e-04 & NA\\\\\n",
       "\t 1926-08-24 & -0.0084 &  0.0050 & -0.0009 & 1e-04 & NA\\\\\n",
       "\t 1926-08-25 & -0.0032 & -0.0043 &  0.0028 & 1e-04 & NA\\\\\n",
       "\t 1926-08-26 &  0.0053 &  0.0009 &  0.0050 & 1e-04 & NA\\\\\n",
       "\t 1926-08-27 &  0.0035 &  0.0013 & -0.0039 & 1e-04 & NA\\\\\n",
       "\t 1926-08-28 &  0.0034 &  0.0015 & -0.0006 & 1e-04 & NA\\\\\n",
       "\t 1926-08-30 &  0.0030 &  0.0000 &  0.0042 & 1e-04 & NA\\\\\n",
       "\t ... & ... & ... & ... & ... & ...\\\\\n",
       "\t 2018-11-16 &  0.0015 &  0.0000 & -0.0001 & 8e-05 &  0.0009\\\\\n",
       "\t 2018-11-19 & -0.0188 & -0.0065 &  0.0232 & 8e-05 & -0.0105\\\\\n",
       "\t 2018-11-20 & -0.0185 &  0.0014 & -0.0063 & 8e-05 & -0.0068\\\\\n",
       "\t 2018-11-21 &  0.0051 &  0.0097 & -0.0030 & 8e-05 & -0.0019\\\\\n",
       "\t 2018-11-23 & -0.0055 &  0.0079 & -0.0057 & 8e-05 &  0.0003\\\\\n",
       "\t 2018-11-26 &  0.0162 & -0.0067 & -0.0018 & 8e-05 &  0.0005\\\\\n",
       "\t 2018-11-27 &  0.0011 & -0.0107 &  0.0027 & 8e-05 &  0.0054\\\\\n",
       "\t 2018-11-28 &  0.0242 &  0.0048 & -0.0127 & 8e-05 &  0.0101\\\\\n",
       "\t 2018-11-29 & -0.0022 & -0.0012 & -0.0018 & 8e-05 &  0.0031\\\\\n",
       "\t 2018-11-30 &  0.0078 & -0.0035 & -0.0038 & 8e-05 & -0.0025\\\\\n",
       "\t 2018-12-03 &  0.0113 & -0.0008 & -0.0070 & 1e-04 &  0.0022\\\\\n",
       "\t 2018-12-04 & -0.0345 & -0.0097 & -0.0012 & 1e-04 &  0.0069\\\\\n",
       "\t 2018-12-06 & -0.0016 &  0.0009 & -0.0100 & 1e-04 &  0.0053\\\\\n",
       "\t 2018-12-07 & -0.0236 &  0.0022 &  0.0128 & 1e-04 & -0.0054\\\\\n",
       "\t 2018-12-10 &  0.0010 & -0.0022 & -0.0157 & 1e-04 &  0.0080\\\\\n",
       "\t 2018-12-11 & -0.0008 & -0.0008 & -0.0035 & 1e-04 &  0.0071\\\\\n",
       "\t 2018-12-12 &  0.0068 &  0.0055 & -0.0013 & 1e-04 & -0.0006\\\\\n",
       "\t 2018-12-13 & -0.0026 & -0.0150 & -0.0017 & 1e-04 &  0.0048\\\\\n",
       "\t 2018-12-14 & -0.0189 & -0.0010 &  0.0059 & 1e-04 & -0.0050\\\\\n",
       "\t 2018-12-17 & -0.0213 & -0.0025 &  0.0098 & 1e-04 & -0.0096\\\\\n",
       "\t 2018-12-18 & -0.0003 &  0.0000 & -0.0055 & 1e-04 &  0.0030\\\\\n",
       "\t 2018-12-19 & -0.0158 & -0.0066 &  0.0017 & 1e-04 &  0.0069\\\\\n",
       "\t 2018-12-20 & -0.0162 & -0.0023 &  0.0077 & 1e-04 & -0.0049\\\\\n",
       "\t 2018-12-21 & -0.0217 & -0.0058 &  0.0083 & 1e-04 &  0.0044\\\\\n",
       "\t 2018-12-24 & -0.0255 &  0.0098 & -0.0045 & 1e-04 & -0.0020\\\\\n",
       "\t 2018-12-26 &  0.0506 & -0.0002 & -0.0105 & 1e-04 &  0.0002\\\\\n",
       "\t 2018-12-27 &  0.0078 & -0.0068 & -0.0008 & 1e-04 &  0.0025\\\\\n",
       "\t 2018-12-28 & -0.0003 &  0.0075 &  0.0025 & 1e-04 &  0.0012\\\\\n",
       "\t 2018-12-31 &  0.0090 & -0.0009 & -0.0047 & 1e-04 &  0.0063\\\\\n",
       "\t 2019-01-02 &  0.0023 &  0.0058 &  0.0115 & 1e-04 & -0.0228\\\\\n",
       "\t 2019-01-03 & -0.0245 &  0.0039 &  0.0122 & 1e-04 & -0.0077\\\\\n",
       "\t 2019-01-04 &  0.0355 &  0.0044 & -0.0073 & 1e-04 & -0.0099\\\\\n",
       "\t 2019-01-07 &  0.0094 &  0.0094 & -0.0066 & 1e-04 & -0.0084\\\\\n",
       "\t 2019-01-08 &  0.0101 &  0.0050 & -0.0053 & 1e-04 &  0.0011\\\\\n",
       "\t 2019-01-09 &  0.0056 &  0.0050 & -0.0005 & 1e-04 & -0.0084\\\\\n",
       "\t 2019-01-10 &  0.0042 &  0.0001 & -0.0041 & 1e-04 & -0.0034\\\\\n",
       "\t 2019-01-11 & -0.0001 &  0.0010 &  0.0030 & 1e-04 & -0.0019\\\\\n",
       "\t 2019-01-14 & -0.0060 & -0.0056 &  0.0087 & 1e-04 & -0.0059\\\\\n",
       "\t 2019-01-15 &  0.0106 &  0.0000 & -0.0088 & 1e-04 &  0.0111\\\\\n",
       "\t 2019-01-16 &  0.0028 &  0.0010 &  0.0083 & 1e-04 & -0.0073\\\\\n",
       "\t 2019-01-17 &  0.0075 &  0.0010 & -0.0019 & 1e-04 & -0.0021\\\\\n",
       "\t 2019-01-18 &  0.0129 & -0.0035 &  0.0012 & 1e-04 & -0.0086\\\\\n",
       "\t 2019-01-22 & -0.0153 & -0.0038 &  0.0030 & 1e-04 &  0.0097\\\\\n",
       "\t 2019-01-23 &  0.0015 & -0.0041 & -0.0013 & 1e-04 &  0.0102\\\\\n",
       "\t 2019-01-24 &  0.0023 &  0.0045 & -0.0009 & 1e-04 & -0.0105\\\\\n",
       "\t 2019-01-25 &  0.0090 &  0.0047 & -0.0036 & 1e-04 & -0.0135\\\\\n",
       "\t 2019-01-28 & -0.0080 & -0.0017 &  0.0066 & 1e-04 & -0.0008\\\\\n",
       "\t 2019-01-29 & -0.0019 &  0.0000 &  0.0017 & 1e-04 & -0.0030\\\\\n",
       "\t 2019-01-30 &  0.0151 & -0.0010 & -0.0106 & 1e-04 &  0.0006\\\\\n",
       "\t 2019-01-31 &  0.0092 &  0.0012 & -0.0109 & 1e-04 &  0.0032\\\\\n",
       "\\end{tabular}\n"
      ],
      "text/markdown": [
       "\n",
       "A data.table: 24412 × 6\n",
       "\n",
       "| date &lt;date&gt; | mktrf &lt;dbl&gt; | smb &lt;dbl&gt; | hml &lt;dbl&gt; | rf &lt;dbl&gt; | umd &lt;dbl&gt; |\n",
       "|---|---|---|---|---|---|\n",
       "| 1926-07-01 |  0.0010 | -0.0024 | -0.0028 | 9e-05 | NA |\n",
       "| 1926-07-02 |  0.0045 | -0.0032 | -0.0008 | 9e-05 | NA |\n",
       "| 1926-07-06 |  0.0017 |  0.0027 | -0.0035 | 9e-05 | NA |\n",
       "| 1926-07-07 |  0.0009 | -0.0059 |  0.0003 | 9e-05 | NA |\n",
       "| 1926-07-08 |  0.0021 | -0.0036 |  0.0015 | 9e-05 | NA |\n",
       "| 1926-07-09 | -0.0071 |  0.0044 |  0.0056 | 9e-05 | NA |\n",
       "| 1926-07-10 |  0.0062 | -0.0050 | -0.0015 | 9e-05 | NA |\n",
       "| 1926-07-12 |  0.0004 |  0.0003 |  0.0054 | 9e-05 | NA |\n",
       "| 1926-07-13 |  0.0048 | -0.0026 | -0.0023 | 9e-05 | NA |\n",
       "| 1926-07-14 |  0.0004 |  0.0009 | -0.0048 | 9e-05 | NA |\n",
       "| 1926-07-15 | -0.0043 |  0.0054 | -0.0030 | 9e-05 | NA |\n",
       "| 1926-07-16 |  0.0053 |  0.0001 | -0.0057 | 9e-05 | NA |\n",
       "| 1926-07-17 |  0.0034 |  0.0043 | -0.0063 | 9e-05 | NA |\n",
       "| 1926-07-19 | -0.0001 |  0.0001 | -0.0049 | 9e-05 | NA |\n",
       "| 1926-07-20 | -0.0057 | -0.0023 |  0.0016 | 9e-05 | NA |\n",
       "| 1926-07-21 | -0.0060 |  0.0021 |  0.0031 | 9e-05 | NA |\n",
       "| 1926-07-22 | -0.0073 | -0.0030 | -0.0017 | 9e-05 | NA |\n",
       "| 1926-07-23 | -0.0002 |  0.0008 |  0.0006 | 9e-05 | NA |\n",
       "| 1926-07-24 | -0.0014 |  0.0044 | -0.0006 | 9e-05 | NA |\n",
       "| 1926-07-26 |  0.0053 | -0.0038 | -0.0025 | 9e-05 | NA |\n",
       "| 1926-07-27 |  0.0043 | -0.0045 |  0.0026 | 9e-05 | NA |\n",
       "| 1926-07-28 |  0.0109 |  0.0004 | -0.0028 | 9e-05 | NA |\n",
       "| 1926-07-29 |  0.0036 | -0.0061 | -0.0101 | 9e-05 | NA |\n",
       "| 1926-07-30 |  0.0014 | -0.0047 |  0.0055 | 9e-05 | NA |\n",
       "| 1926-07-31 |  0.0046 | -0.0012 | -0.0017 | 9e-05 | NA |\n",
       "| 1926-08-02 |  0.0084 | -0.0022 | -0.0003 | 1e-04 | NA |\n",
       "| 1926-08-03 |  0.0047 | -0.0027 | -0.0060 | 1e-04 | NA |\n",
       "| 1926-08-04 | -0.0036 |  0.0016 |  0.0025 | 1e-04 | NA |\n",
       "| 1926-08-05 | -0.0009 |  0.0001 |  0.0073 | 1e-04 | NA |\n",
       "| 1926-08-06 |  0.0068 |  0.0008 |  0.0016 | 1e-04 | NA |\n",
       "| 1926-08-07 |  0.0046 |  0.0008 | -0.0024 | 1e-04 | NA |\n",
       "| 1926-08-09 |  0.0021 | -0.0004 | -0.0026 | 1e-04 | NA |\n",
       "| 1926-08-10 | -0.0140 |  0.0034 |  0.0021 | 1e-04 | NA |\n",
       "| 1926-08-11 | -0.0057 |  0.0021 |  0.0034 | 1e-04 | NA |\n",
       "| 1926-08-12 |  0.0084 | -0.0077 |  0.0042 | 1e-04 | NA |\n",
       "| 1926-08-13 |  0.0058 | -0.0085 |  0.0025 | 1e-04 | NA |\n",
       "| 1926-08-14 |  0.0069 |  0.0015 | -0.0036 | 1e-04 | NA |\n",
       "| 1926-08-16 |  0.0007 |  0.0023 |  0.0070 | 1e-04 | NA |\n",
       "| 1926-08-17 | -0.0095 |  0.0034 |  0.0016 | 1e-04 | NA |\n",
       "| 1926-08-18 |  0.0026 |  0.0008 |  0.0004 | 1e-04 | NA |\n",
       "| 1926-08-19 | -0.0060 |  0.0012 |  0.0010 | 1e-04 | NA |\n",
       "| 1926-08-20 | -0.0020 | -0.0036 |  0.0042 | 1e-04 | NA |\n",
       "| 1926-08-21 |  0.0032 | -0.0006 |  0.0049 | 1e-04 | NA |\n",
       "| 1926-08-23 |  0.0049 | -0.0048 |  0.0062 | 1e-04 | NA |\n",
       "| 1926-08-24 | -0.0084 |  0.0050 | -0.0009 | 1e-04 | NA |\n",
       "| 1926-08-25 | -0.0032 | -0.0043 |  0.0028 | 1e-04 | NA |\n",
       "| 1926-08-26 |  0.0053 |  0.0009 |  0.0050 | 1e-04 | NA |\n",
       "| 1926-08-27 |  0.0035 |  0.0013 | -0.0039 | 1e-04 | NA |\n",
       "| 1926-08-28 |  0.0034 |  0.0015 | -0.0006 | 1e-04 | NA |\n",
       "| 1926-08-30 |  0.0030 |  0.0000 |  0.0042 | 1e-04 | NA |\n",
       "| ... | ... | ... | ... | ... | ... |\n",
       "| 2018-11-16 |  0.0015 |  0.0000 | -0.0001 | 8e-05 |  0.0009 |\n",
       "| 2018-11-19 | -0.0188 | -0.0065 |  0.0232 | 8e-05 | -0.0105 |\n",
       "| 2018-11-20 | -0.0185 |  0.0014 | -0.0063 | 8e-05 | -0.0068 |\n",
       "| 2018-11-21 |  0.0051 |  0.0097 | -0.0030 | 8e-05 | -0.0019 |\n",
       "| 2018-11-23 | -0.0055 |  0.0079 | -0.0057 | 8e-05 |  0.0003 |\n",
       "| 2018-11-26 |  0.0162 | -0.0067 | -0.0018 | 8e-05 |  0.0005 |\n",
       "| 2018-11-27 |  0.0011 | -0.0107 |  0.0027 | 8e-05 |  0.0054 |\n",
       "| 2018-11-28 |  0.0242 |  0.0048 | -0.0127 | 8e-05 |  0.0101 |\n",
       "| 2018-11-29 | -0.0022 | -0.0012 | -0.0018 | 8e-05 |  0.0031 |\n",
       "| 2018-11-30 |  0.0078 | -0.0035 | -0.0038 | 8e-05 | -0.0025 |\n",
       "| 2018-12-03 |  0.0113 | -0.0008 | -0.0070 | 1e-04 |  0.0022 |\n",
       "| 2018-12-04 | -0.0345 | -0.0097 | -0.0012 | 1e-04 |  0.0069 |\n",
       "| 2018-12-06 | -0.0016 |  0.0009 | -0.0100 | 1e-04 |  0.0053 |\n",
       "| 2018-12-07 | -0.0236 |  0.0022 |  0.0128 | 1e-04 | -0.0054 |\n",
       "| 2018-12-10 |  0.0010 | -0.0022 | -0.0157 | 1e-04 |  0.0080 |\n",
       "| 2018-12-11 | -0.0008 | -0.0008 | -0.0035 | 1e-04 |  0.0071 |\n",
       "| 2018-12-12 |  0.0068 |  0.0055 | -0.0013 | 1e-04 | -0.0006 |\n",
       "| 2018-12-13 | -0.0026 | -0.0150 | -0.0017 | 1e-04 |  0.0048 |\n",
       "| 2018-12-14 | -0.0189 | -0.0010 |  0.0059 | 1e-04 | -0.0050 |\n",
       "| 2018-12-17 | -0.0213 | -0.0025 |  0.0098 | 1e-04 | -0.0096 |\n",
       "| 2018-12-18 | -0.0003 |  0.0000 | -0.0055 | 1e-04 |  0.0030 |\n",
       "| 2018-12-19 | -0.0158 | -0.0066 |  0.0017 | 1e-04 |  0.0069 |\n",
       "| 2018-12-20 | -0.0162 | -0.0023 |  0.0077 | 1e-04 | -0.0049 |\n",
       "| 2018-12-21 | -0.0217 | -0.0058 |  0.0083 | 1e-04 |  0.0044 |\n",
       "| 2018-12-24 | -0.0255 |  0.0098 | -0.0045 | 1e-04 | -0.0020 |\n",
       "| 2018-12-26 |  0.0506 | -0.0002 | -0.0105 | 1e-04 |  0.0002 |\n",
       "| 2018-12-27 |  0.0078 | -0.0068 | -0.0008 | 1e-04 |  0.0025 |\n",
       "| 2018-12-28 | -0.0003 |  0.0075 |  0.0025 | 1e-04 |  0.0012 |\n",
       "| 2018-12-31 |  0.0090 | -0.0009 | -0.0047 | 1e-04 |  0.0063 |\n",
       "| 2019-01-02 |  0.0023 |  0.0058 |  0.0115 | 1e-04 | -0.0228 |\n",
       "| 2019-01-03 | -0.0245 |  0.0039 |  0.0122 | 1e-04 | -0.0077 |\n",
       "| 2019-01-04 |  0.0355 |  0.0044 | -0.0073 | 1e-04 | -0.0099 |\n",
       "| 2019-01-07 |  0.0094 |  0.0094 | -0.0066 | 1e-04 | -0.0084 |\n",
       "| 2019-01-08 |  0.0101 |  0.0050 | -0.0053 | 1e-04 |  0.0011 |\n",
       "| 2019-01-09 |  0.0056 |  0.0050 | -0.0005 | 1e-04 | -0.0084 |\n",
       "| 2019-01-10 |  0.0042 |  0.0001 | -0.0041 | 1e-04 | -0.0034 |\n",
       "| 2019-01-11 | -0.0001 |  0.0010 |  0.0030 | 1e-04 | -0.0019 |\n",
       "| 2019-01-14 | -0.0060 | -0.0056 |  0.0087 | 1e-04 | -0.0059 |\n",
       "| 2019-01-15 |  0.0106 |  0.0000 | -0.0088 | 1e-04 |  0.0111 |\n",
       "| 2019-01-16 |  0.0028 |  0.0010 |  0.0083 | 1e-04 | -0.0073 |\n",
       "| 2019-01-17 |  0.0075 |  0.0010 | -0.0019 | 1e-04 | -0.0021 |\n",
       "| 2019-01-18 |  0.0129 | -0.0035 |  0.0012 | 1e-04 | -0.0086 |\n",
       "| 2019-01-22 | -0.0153 | -0.0038 |  0.0030 | 1e-04 |  0.0097 |\n",
       "| 2019-01-23 |  0.0015 | -0.0041 | -0.0013 | 1e-04 |  0.0102 |\n",
       "| 2019-01-24 |  0.0023 |  0.0045 | -0.0009 | 1e-04 | -0.0105 |\n",
       "| 2019-01-25 |  0.0090 |  0.0047 | -0.0036 | 1e-04 | -0.0135 |\n",
       "| 2019-01-28 | -0.0080 | -0.0017 |  0.0066 | 1e-04 | -0.0008 |\n",
       "| 2019-01-29 | -0.0019 |  0.0000 |  0.0017 | 1e-04 | -0.0030 |\n",
       "| 2019-01-30 |  0.0151 | -0.0010 | -0.0106 | 1e-04 |  0.0006 |\n",
       "| 2019-01-31 |  0.0092 |  0.0012 | -0.0109 | 1e-04 |  0.0032 |\n",
       "\n"
      ],
      "text/plain": [
       "      date       mktrf   smb     hml     rf    umd    \n",
       "1     1926-07-01  0.0010 -0.0024 -0.0028 9e-05 NA     \n",
       "2     1926-07-02  0.0045 -0.0032 -0.0008 9e-05 NA     \n",
       "3     1926-07-06  0.0017  0.0027 -0.0035 9e-05 NA     \n",
       "4     1926-07-07  0.0009 -0.0059  0.0003 9e-05 NA     \n",
       "5     1926-07-08  0.0021 -0.0036  0.0015 9e-05 NA     \n",
       "6     1926-07-09 -0.0071  0.0044  0.0056 9e-05 NA     \n",
       "7     1926-07-10  0.0062 -0.0050 -0.0015 9e-05 NA     \n",
       "8     1926-07-12  0.0004  0.0003  0.0054 9e-05 NA     \n",
       "9     1926-07-13  0.0048 -0.0026 -0.0023 9e-05 NA     \n",
       "10    1926-07-14  0.0004  0.0009 -0.0048 9e-05 NA     \n",
       "11    1926-07-15 -0.0043  0.0054 -0.0030 9e-05 NA     \n",
       "12    1926-07-16  0.0053  0.0001 -0.0057 9e-05 NA     \n",
       "13    1926-07-17  0.0034  0.0043 -0.0063 9e-05 NA     \n",
       "14    1926-07-19 -0.0001  0.0001 -0.0049 9e-05 NA     \n",
       "15    1926-07-20 -0.0057 -0.0023  0.0016 9e-05 NA     \n",
       "16    1926-07-21 -0.0060  0.0021  0.0031 9e-05 NA     \n",
       "17    1926-07-22 -0.0073 -0.0030 -0.0017 9e-05 NA     \n",
       "18    1926-07-23 -0.0002  0.0008  0.0006 9e-05 NA     \n",
       "19    1926-07-24 -0.0014  0.0044 -0.0006 9e-05 NA     \n",
       "20    1926-07-26  0.0053 -0.0038 -0.0025 9e-05 NA     \n",
       "21    1926-07-27  0.0043 -0.0045  0.0026 9e-05 NA     \n",
       "22    1926-07-28  0.0109  0.0004 -0.0028 9e-05 NA     \n",
       "23    1926-07-29  0.0036 -0.0061 -0.0101 9e-05 NA     \n",
       "24    1926-07-30  0.0014 -0.0047  0.0055 9e-05 NA     \n",
       "25    1926-07-31  0.0046 -0.0012 -0.0017 9e-05 NA     \n",
       "26    1926-08-02  0.0084 -0.0022 -0.0003 1e-04 NA     \n",
       "27    1926-08-03  0.0047 -0.0027 -0.0060 1e-04 NA     \n",
       "28    1926-08-04 -0.0036  0.0016  0.0025 1e-04 NA     \n",
       "29    1926-08-05 -0.0009  0.0001  0.0073 1e-04 NA     \n",
       "30    1926-08-06  0.0068  0.0008  0.0016 1e-04 NA     \n",
       "31    1926-08-07  0.0046  0.0008 -0.0024 1e-04 NA     \n",
       "32    1926-08-09  0.0021 -0.0004 -0.0026 1e-04 NA     \n",
       "33    1926-08-10 -0.0140  0.0034  0.0021 1e-04 NA     \n",
       "34    1926-08-11 -0.0057  0.0021  0.0034 1e-04 NA     \n",
       "35    1926-08-12  0.0084 -0.0077  0.0042 1e-04 NA     \n",
       "36    1926-08-13  0.0058 -0.0085  0.0025 1e-04 NA     \n",
       "37    1926-08-14  0.0069  0.0015 -0.0036 1e-04 NA     \n",
       "38    1926-08-16  0.0007  0.0023  0.0070 1e-04 NA     \n",
       "39    1926-08-17 -0.0095  0.0034  0.0016 1e-04 NA     \n",
       "40    1926-08-18  0.0026  0.0008  0.0004 1e-04 NA     \n",
       "41    1926-08-19 -0.0060  0.0012  0.0010 1e-04 NA     \n",
       "42    1926-08-20 -0.0020 -0.0036  0.0042 1e-04 NA     \n",
       "43    1926-08-21  0.0032 -0.0006  0.0049 1e-04 NA     \n",
       "44    1926-08-23  0.0049 -0.0048  0.0062 1e-04 NA     \n",
       "45    1926-08-24 -0.0084  0.0050 -0.0009 1e-04 NA     \n",
       "46    1926-08-25 -0.0032 -0.0043  0.0028 1e-04 NA     \n",
       "47    1926-08-26  0.0053  0.0009  0.0050 1e-04 NA     \n",
       "48    1926-08-27  0.0035  0.0013 -0.0039 1e-04 NA     \n",
       "49    1926-08-28  0.0034  0.0015 -0.0006 1e-04 NA     \n",
       "50    1926-08-30  0.0030  0.0000  0.0042 1e-04 NA     \n",
       "...   ...        ...     ...     ...     ...   ...    \n",
       "24363 2018-11-16  0.0015  0.0000 -0.0001 8e-05  0.0009\n",
       "24364 2018-11-19 -0.0188 -0.0065  0.0232 8e-05 -0.0105\n",
       "24365 2018-11-20 -0.0185  0.0014 -0.0063 8e-05 -0.0068\n",
       "24366 2018-11-21  0.0051  0.0097 -0.0030 8e-05 -0.0019\n",
       "24367 2018-11-23 -0.0055  0.0079 -0.0057 8e-05  0.0003\n",
       "24368 2018-11-26  0.0162 -0.0067 -0.0018 8e-05  0.0005\n",
       "24369 2018-11-27  0.0011 -0.0107  0.0027 8e-05  0.0054\n",
       "24370 2018-11-28  0.0242  0.0048 -0.0127 8e-05  0.0101\n",
       "24371 2018-11-29 -0.0022 -0.0012 -0.0018 8e-05  0.0031\n",
       "24372 2018-11-30  0.0078 -0.0035 -0.0038 8e-05 -0.0025\n",
       "24373 2018-12-03  0.0113 -0.0008 -0.0070 1e-04  0.0022\n",
       "24374 2018-12-04 -0.0345 -0.0097 -0.0012 1e-04  0.0069\n",
       "24375 2018-12-06 -0.0016  0.0009 -0.0100 1e-04  0.0053\n",
       "24376 2018-12-07 -0.0236  0.0022  0.0128 1e-04 -0.0054\n",
       "24377 2018-12-10  0.0010 -0.0022 -0.0157 1e-04  0.0080\n",
       "24378 2018-12-11 -0.0008 -0.0008 -0.0035 1e-04  0.0071\n",
       "24379 2018-12-12  0.0068  0.0055 -0.0013 1e-04 -0.0006\n",
       "24380 2018-12-13 -0.0026 -0.0150 -0.0017 1e-04  0.0048\n",
       "24381 2018-12-14 -0.0189 -0.0010  0.0059 1e-04 -0.0050\n",
       "24382 2018-12-17 -0.0213 -0.0025  0.0098 1e-04 -0.0096\n",
       "24383 2018-12-18 -0.0003  0.0000 -0.0055 1e-04  0.0030\n",
       "24384 2018-12-19 -0.0158 -0.0066  0.0017 1e-04  0.0069\n",
       "24385 2018-12-20 -0.0162 -0.0023  0.0077 1e-04 -0.0049\n",
       "24386 2018-12-21 -0.0217 -0.0058  0.0083 1e-04  0.0044\n",
       "24387 2018-12-24 -0.0255  0.0098 -0.0045 1e-04 -0.0020\n",
       "24388 2018-12-26  0.0506 -0.0002 -0.0105 1e-04  0.0002\n",
       "24389 2018-12-27  0.0078 -0.0068 -0.0008 1e-04  0.0025\n",
       "24390 2018-12-28 -0.0003  0.0075  0.0025 1e-04  0.0012\n",
       "24391 2018-12-31  0.0090 -0.0009 -0.0047 1e-04  0.0063\n",
       "24392 2019-01-02  0.0023  0.0058  0.0115 1e-04 -0.0228\n",
       "24393 2019-01-03 -0.0245  0.0039  0.0122 1e-04 -0.0077\n",
       "24394 2019-01-04  0.0355  0.0044 -0.0073 1e-04 -0.0099\n",
       "24395 2019-01-07  0.0094  0.0094 -0.0066 1e-04 -0.0084\n",
       "24396 2019-01-08  0.0101  0.0050 -0.0053 1e-04  0.0011\n",
       "24397 2019-01-09  0.0056  0.0050 -0.0005 1e-04 -0.0084\n",
       "24398 2019-01-10  0.0042  0.0001 -0.0041 1e-04 -0.0034\n",
       "24399 2019-01-11 -0.0001  0.0010  0.0030 1e-04 -0.0019\n",
       "24400 2019-01-14 -0.0060 -0.0056  0.0087 1e-04 -0.0059\n",
       "24401 2019-01-15  0.0106  0.0000 -0.0088 1e-04  0.0111\n",
       "24402 2019-01-16  0.0028  0.0010  0.0083 1e-04 -0.0073\n",
       "24403 2019-01-17  0.0075  0.0010 -0.0019 1e-04 -0.0021\n",
       "24404 2019-01-18  0.0129 -0.0035  0.0012 1e-04 -0.0086\n",
       "24405 2019-01-22 -0.0153 -0.0038  0.0030 1e-04  0.0097\n",
       "24406 2019-01-23  0.0015 -0.0041 -0.0013 1e-04  0.0102\n",
       "24407 2019-01-24  0.0023  0.0045 -0.0009 1e-04 -0.0105\n",
       "24408 2019-01-25  0.0090  0.0047 -0.0036 1e-04 -0.0135\n",
       "24409 2019-01-28 -0.0080 -0.0017  0.0066 1e-04 -0.0008\n",
       "24410 2019-01-29 -0.0019  0.0000  0.0017 1e-04 -0.0030\n",
       "24411 2019-01-30  0.0151 -0.0010 -0.0106 1e-04  0.0006\n",
       "24412 2019-01-31  0.0092  0.0012 -0.0109 1e-04  0.0032"
      ]
     },
     "metadata": {},
     "output_type": "display_data"
    }
   ],
   "source": [
    "factors"
   ]
  },
  {
   "cell_type": "markdown",
   "metadata": {
    "toc-hr-collapsed": true,
    "toc-nb-collapsed": true
   },
   "source": [
    "## firm ID"
   ]
  },
  {
   "cell_type": "markdown",
   "metadata": {},
   "source": [
    "### `ibes.id`"
   ]
  },
  {
   "cell_type": "code",
   "execution_count": null,
   "metadata": {},
   "outputs": [],
   "source": [
    "library = 'ibes'\n",
    "dataset = 'id' # firm names\n",
    "\n",
    "query = sprintf(\"select ticker, cusip, cname, sdates from %s.%s where usfirm=1 and cusip != ''\", library, dataset)\n",
    "res <- dbSendQuery(wrds, query)\n",
    "ibes_id <- setDT(dbFetch(res, n=-1)); dbClearResult(res)\n",
    "sprintf('nrow: %s', nrow(ibes_id))\n",
    "sv(ibes_id, path=WRDS_DOWNLOAD_DIR)\n",
    "\n",
    "query = sprintf(\"select ticker, cusip, cname, oftic, sdates from %s.%s\", library, dataset)\n",
    "res <- dbSendQuery(wrds, query)\n",
    "ibes_id2 <- setDT(dbFetch(res, n=-1)); dbClearResult(res)\n",
    "sprintf('%s: %s', dataset, nrow(ibes_id2))\n",
    "\n",
    "ibes_id2[1]\n",
    "sv(ibes_id2, path=WRDS_DOWNLOAD_DIR)"
   ]
  },
  {
   "cell_type": "markdown",
   "metadata": {},
   "source": [
    "### `comp.security`"
   ]
  },
  {
   "cell_type": "code",
   "execution_count": 134,
   "metadata": {},
   "outputs": [
    {
     "data": {
      "text/html": [
       "'security: 58376'"
      ],
      "text/latex": [
       "'security: 58376'"
      ],
      "text/markdown": [
       "'security: 58376'"
      ],
      "text/plain": [
       "[1] \"security: 58376\""
      ]
     },
     "metadata": {},
     "output_type": "display_data"
    },
    {
     "data": {
      "text/html": [
       "<table>\n",
       "<caption>A data.table: 1 × 15</caption>\n",
       "<thead>\n",
       "\t<tr><th scope=col>tic</th><th scope=col>gvkey</th><th scope=col>iid</th><th scope=col>cusip</th><th scope=col>dlrsni</th><th scope=col>dsci</th><th scope=col>epf</th><th scope=col>exchg</th><th scope=col>excntry</th><th scope=col>ibtic</th><th scope=col>isin</th><th scope=col>secstat</th><th scope=col>sedol</th><th scope=col>tpci</th><th scope=col>dldtei</th></tr>\n",
       "\t<tr><th scope=col>&lt;chr&gt;</th><th scope=col>&lt;chr&gt;</th><th scope=col>&lt;chr&gt;</th><th scope=col>&lt;chr&gt;</th><th scope=col>&lt;chr&gt;</th><th scope=col>&lt;chr&gt;</th><th scope=col>&lt;chr&gt;</th><th scope=col>&lt;dbl&gt;</th><th scope=col>&lt;chr&gt;</th><th scope=col>&lt;chr&gt;</th><th scope=col>&lt;chr&gt;</th><th scope=col>&lt;chr&gt;</th><th scope=col>&lt;chr&gt;</th><th scope=col>&lt;chr&gt;</th><th scope=col>&lt;date&gt;</th></tr>\n",
       "</thead>\n",
       "<tbody>\n",
       "\t<tr><td>AE.2</td><td>001000</td><td>01</td><td>000032102</td><td>09</td><td>COM USD1</td><td>NA</td><td>12</td><td>USA</td><td>NA</td><td>NA</td><td>I</td><td>NA</td><td>0</td><td>1978-06-30</td></tr>\n",
       "</tbody>\n",
       "</table>\n"
      ],
      "text/latex": [
       "A data.table: 1 × 15\n",
       "\\begin{tabular}{lllllllllllllll}\n",
       " tic & gvkey & iid & cusip & dlrsni & dsci & epf & exchg & excntry & ibtic & isin & secstat & sedol & tpci & dldtei\\\\\n",
       " <chr> & <chr> & <chr> & <chr> & <chr> & <chr> & <chr> & <dbl> & <chr> & <chr> & <chr> & <chr> & <chr> & <chr> & <date>\\\\\n",
       "\\hline\n",
       "\t AE.2 & 001000 & 01 & 000032102 & 09 & COM USD1 & NA & 12 & USA & NA & NA & I & NA & 0 & 1978-06-30\\\\\n",
       "\\end{tabular}\n"
      ],
      "text/markdown": [
       "\n",
       "A data.table: 1 × 15\n",
       "\n",
       "| tic &lt;chr&gt; | gvkey &lt;chr&gt; | iid &lt;chr&gt; | cusip &lt;chr&gt; | dlrsni &lt;chr&gt; | dsci &lt;chr&gt; | epf &lt;chr&gt; | exchg &lt;dbl&gt; | excntry &lt;chr&gt; | ibtic &lt;chr&gt; | isin &lt;chr&gt; | secstat &lt;chr&gt; | sedol &lt;chr&gt; | tpci &lt;chr&gt; | dldtei &lt;date&gt; |\n",
       "|---|---|---|---|---|---|---|---|---|---|---|---|---|---|---|\n",
       "| AE.2 | 001000 | 01 | 000032102 | 09 | COM USD1 | NA | 12 | USA | NA | NA | I | NA | 0 | 1978-06-30 |\n",
       "\n"
      ],
      "text/plain": [
       "  tic  gvkey  iid cusip     dlrsni dsci     epf exchg excntry ibtic isin\n",
       "1 AE.2 001000 01  000032102 09     COM USD1 NA  12    USA     NA    NA  \n",
       "  secstat sedol tpci dldtei    \n",
       "1 I       NA    0    1978-06-30"
      ]
     },
     "metadata": {},
     "output_type": "display_data"
    },
    {
     "name": "stdout",
     "output_type": "stream",
     "text": [
      "-comp_security- saved  (0.33 secs)\n"
     ]
    }
   ],
   "source": [
    "library = 'compm'\n",
    "dataset = 'security' # firm names\n",
    "\n",
    "query = sprintf(\"select * from %s.%s\", library, dataset)\n",
    "res <- dbSendQuery(wrds, query)\n",
    "comp_security <- setDT(dbFetch(res, n=-1)); dbClearResult(res)\n",
    "sprintf('%s: %s', dataset, nrow(comp_security))\n",
    "\n",
    "comp_security[1]\n",
    "sv(comp_security, path=WRDS_DOWNLOAD_DIR)"
   ]
  },
  {
   "cell_type": "markdown",
   "metadata": {},
   "source": [
    "### `ciq.wrds_gvkey`"
   ]
  },
  {
   "cell_type": "code",
   "execution_count": null,
   "metadata": {},
   "outputs": [],
   "source": [
    "library = 'ciq'\n",
    "dataset = 'wrds_gvkey' # firm names\n",
    "\n",
    "query = sprintf(\"select * from %s.%s\", library, dataset)\n",
    "res <- dbSendQuery(wrds, query)\n",
    "ciq_wrds_gvkey <- setDT(dbFetch(res, n=-1)); dbClearResult(res)\n",
    "sprintf('%s: %s', dataset, nrow(ciq_wrds_gvkey))\n",
    "\n",
    "ciq_wrds_gvkey[1]\n",
    "sv(ciq_wrds_gvkey, path=WRDS_DOWNLOAD_DIR)"
   ]
  },
  {
   "cell_type": "code",
   "execution_count": 12,
   "metadata": {
    "scrolled": true
   },
   "outputs": [
    {
     "name": "stdout",
     "output_type": "stream",
     "text": [
      "-ciq_wrds_gvkey- already exists, will NOT load again!  (0 secs)\n"
     ]
    },
    {
     "data": {
      "text/html": [
       "<table>\n",
       "<caption>A data.table: 47 × 5</caption>\n",
       "<thead>\n",
       "\t<tr><th scope=col>companyid</th><th scope=col>gvkey</th><th scope=col>startdate</th><th scope=col>enddate</th><th scope=col>companyname</th></tr>\n",
       "\t<tr><th scope=col>&lt;dbl&gt;</th><th scope=col>&lt;chr&gt;</th><th scope=col>&lt;date&gt;</th><th scope=col>&lt;date&gt;</th><th scope=col>&lt;chr&gt;</th></tr>\n",
       "</thead>\n",
       "<tbody>\n",
       "\t<tr><td>   363476</td><td>065135</td><td>NA</td><td>NA</td><td>Friede Goldman Halter Inc.                                                                          </td></tr>\n",
       "\t<tr><td>   398625</td><td>114628</td><td>NA</td><td>NA</td><td>The Goldman Sachs Group, Inc.                                                                       </td></tr>\n",
       "\t<tr><td>  4463182</td><td>200484</td><td>NA</td><td>NA</td><td>Rich Goldman Holdings Limited                                                                       </td></tr>\n",
       "\t<tr><td>  9176987</td><td>159155</td><td>NA</td><td>NA</td><td>Corts Trust For Goldman Sachs Capital I                                                             </td></tr>\n",
       "\t<tr><td>  9563181</td><td>266220</td><td>NA</td><td>NA</td><td>CABCO Series 2004-1 Trust (Goldman Sachs Capital I)                                                 </td></tr>\n",
       "\t<tr><td>  9863691</td><td>160346</td><td>NA</td><td>NA</td><td>Corts Trust II For Goldman Sachs Capital I                                                          </td></tr>\n",
       "\t<tr><td> 10097185</td><td>160560</td><td>NA</td><td>NA</td><td>CABCO Series 2004-101 Trust (Goldman Sachs Capital I)                                               </td></tr>\n",
       "\t<tr><td> 10625760</td><td>216255</td><td>NA</td><td>NA</td><td>Strats Trust Goldman Sachs Group                                                                    </td></tr>\n",
       "\t<tr><td> 28113913</td><td>161697</td><td>NA</td><td>NA</td><td>Goldman Sachs Trust - Goldman Sachs Equity Income Fund                                              </td></tr>\n",
       "\t<tr><td> 28121135</td><td>161698</td><td>NA</td><td>NA</td><td>Goldman Sachs Variable Insurance Trust - Goldman Sachs U.S. Equity Insights Fund                    </td></tr>\n",
       "\t<tr><td> 28214164</td><td>161696</td><td>NA</td><td>NA</td><td>Goldman Sachs Trust - Goldman Sachs Capital Growth Fund                                             </td></tr>\n",
       "\t<tr><td> 28369815</td><td>278616</td><td>NA</td><td>NA</td><td>Goldman Sachs Dynamic Opportunities Limited                                                         </td></tr>\n",
       "\t<tr><td> 28817196</td><td>161719</td><td>NA</td><td>NA</td><td>Goldman S.Adjust. Rate Govt.Fu                                                                      </td></tr>\n",
       "\t<tr><td> 28817198</td><td>161720</td><td>NA</td><td>NA</td><td>Goldman S. Govt. Income                                                                             </td></tr>\n",
       "\t<tr><td> 28817203</td><td>161721</td><td>NA</td><td>NA</td><td>Goldman S. Short-Duration Govt                                                                      </td></tr>\n",
       "\t<tr><td> 28862377</td><td>165372</td><td>NA</td><td>NA</td><td>Strats Tr Goldman Cap I                                                                             </td></tr>\n",
       "\t<tr><td> 29070707</td><td>161699</td><td>NA</td><td>NA</td><td>Goldman Sachs Trust - Goldman Sachs International Equity ESG Fund                                   </td></tr>\n",
       "\t<tr><td> 29832076</td><td>216286</td><td>NA</td><td>NA</td><td>Lehman ABS Corp., Corporate Backed Trust Certs, Goldman Sachs Cap. I Sec.-Backed Series 2004-4 Trust</td></tr>\n",
       "\t<tr><td> 29834172</td><td>216279</td><td>NA</td><td>NA</td><td>Corporate Backed Trust Certificates Goldman Sachs Capital I Securities Backed Series 2004-7         </td></tr>\n",
       "\t<tr><td> 32860081</td><td>160845</td><td>NA</td><td>NA</td><td>STRATS Trust for Goldman Sachs Group Securities, Series 2006-2                                      </td></tr>\n",
       "\t<tr><td> 32860162</td><td>216278</td><td>NA</td><td>NA</td><td>Corporate Backed Trust Certificates, Goldman Sachs Capital I Securities-Backed Series 2004-6        </td></tr>\n",
       "\t<tr><td> 32860293</td><td>216293</td><td>NA</td><td>NA</td><td>Corporate Backed Trust Certificates Goldman Sachs Group Note-Backed Series 2003-12                  </td></tr>\n",
       "\t<tr><td> 59517274</td><td>254680</td><td>NA</td><td>NA</td><td>Goldman Sachs Global Holdings L.L.C.                                                                </td></tr>\n",
       "\t<tr><td>141047784</td><td>190961</td><td>NA</td><td>NA</td><td>Fixed Income Trust For Goldman Sachs Subordinated Notes, Series 2011-1                              </td></tr>\n",
       "\t<tr><td>223280820</td><td>023353</td><td>NA</td><td>NA</td><td>Goldman Sachs BDC, Inc.                                                                             </td></tr>\n",
       "\t<tr><td>242032420</td><td>019249</td><td>NA</td><td>NA</td><td>Goldman Sachs MLP Income Opportunities Fund                                                         </td></tr>\n",
       "\t<tr><td>262828687</td><td>020962</td><td>NA</td><td>NA</td><td>Goldman Sachs U.S. Income Builder Trust                                                             </td></tr>\n",
       "\t<tr><td>268076438</td><td>021840</td><td>NA</td><td>NA</td><td>Goldman Sachs MLP and Energy Renaissance Fund                                                       </td></tr>\n",
       "\t<tr><td>280408734</td><td>026490</td><td>NA</td><td>NA</td><td>Goldman Sachs ETF Trust - Goldman Sachs ActiveBeta International Equity ETF                         </td></tr>\n",
       "\t<tr><td>280408735</td><td>026259</td><td>NA</td><td>NA</td><td>Goldman Sachs ETF Trust - Goldman Sachs ActiveBeta Emerging Markets Equity ETF                      </td></tr>\n",
       "\t<tr><td>280408736</td><td>026992</td><td>NA</td><td>NA</td><td>Goldman Sachs ETF Trust - Goldman Sachs ActiveBeta Europe Equity ETF                                </td></tr>\n",
       "\t<tr><td>280408737</td><td>026993</td><td>NA</td><td>NA</td><td>Goldman Sachs ETF Trust - Goldman Sachs ActiveBeta Japan Equity ETF                                 </td></tr>\n",
       "\t<tr><td>280408738</td><td>026212</td><td>NA</td><td>NA</td><td>Goldman Sachs ETF Trust - Goldman Sachs ActiveBeta U.S. Large Cap Equity ETF                        </td></tr>\n",
       "\t<tr><td>280408739</td><td>030721</td><td>NA</td><td>NA</td><td>Goldman Sachs ETF Trust - Goldman Sachs ActiveBeta U.S. Small Cap Equity ETF                        </td></tr>\n",
       "\t<tr><td>341731516</td><td>028880</td><td>NA</td><td>NA</td><td>Goldman Sachs ETF Trust - Goldman Sachs Hedge Industry VIP ETF                                      </td></tr>\n",
       "\t<tr><td>379291762</td><td>027994</td><td>NA</td><td>NA</td><td>Goldman Sachs ETF Trust - Goldman Sachs Access Treasury 0-1 Year ETF                                </td></tr>\n",
       "\t<tr><td>423845628</td><td>032394</td><td>NA</td><td>NA</td><td>Goldman Sachs ETF Trust - Goldman Sachs Access High Yield Corporate Bond ETF                        </td></tr>\n",
       "\t<tr><td>423845629</td><td>031780</td><td>NA</td><td>NA</td><td>Goldman Sachs ETF Trust - Goldman Sachs Access Investment Grade Corporate Bond ETF                  </td></tr>\n",
       "\t<tr><td>429643413</td><td>032430</td><td>NA</td><td>NA</td><td>Goldman Sachs ETF Trust - Goldman Sachs Equal Weight U.S. Large Cap Equity ETF                      </td></tr>\n",
       "\t<tr><td>553411751</td><td>033650</td><td>NA</td><td>NA</td><td>Goldman Sachs ETF Trust - Goldman Sachs JUST U.S. Large Cap Equity ETF                              </td></tr>\n",
       "\t<tr><td>561776827</td><td>034252</td><td>NA</td><td>NA</td><td>Goldman Sachs ETF Trust - Goldman Sachs Access Inflation Protected USD Bond ETF                     </td></tr>\n",
       "\t<tr><td>576596217</td><td>034898</td><td>NA</td><td>NA</td><td>Goldman Sachs ETF Trust - Goldman Sachs Motif New Age Consumer ETF                                  </td></tr>\n",
       "\t<tr><td>576596266</td><td>034895</td><td>NA</td><td>NA</td><td>Goldman Sachs ETF Trust - Goldman Sachs Motif Manufacturing Revolution ETF                          </td></tr>\n",
       "\t<tr><td>576596330</td><td>034896</td><td>NA</td><td>NA</td><td>Goldman Sachs ETF Trust - Goldman Sachs Motif Human Evolution ETF                                   </td></tr>\n",
       "\t<tr><td>576596414</td><td>034897</td><td>NA</td><td>NA</td><td>Goldman Sachs ETF Trust - Goldman Sachs Motif Finance Reimagined ETF                                </td></tr>\n",
       "\t<tr><td>576596528</td><td>034894</td><td>NA</td><td>NA</td><td>Goldman Sachs ETF Trust - Goldman Sachs Motif Data-Driven World ETF                                 </td></tr>\n",
       "\t<tr><td>589287946</td><td>035106</td><td>NA</td><td>NA</td><td>Goldman Sachs ETF Trust - Goldman Sachs Access Ultra Short Bond ETF                                 </td></tr>\n",
       "</tbody>\n",
       "</table>\n"
      ],
      "text/latex": [
       "A data.table: 47 × 5\n",
       "\\begin{tabular}{lllll}\n",
       " companyid & gvkey & startdate & enddate & companyname\\\\\n",
       " <dbl> & <chr> & <date> & <date> & <chr>\\\\\n",
       "\\hline\n",
       "\t    363476 & 065135 & NA & NA & Friede Goldman Halter Inc.                                                                          \\\\\n",
       "\t    398625 & 114628 & NA & NA & The Goldman Sachs Group, Inc.                                                                       \\\\\n",
       "\t   4463182 & 200484 & NA & NA & Rich Goldman Holdings Limited                                                                       \\\\\n",
       "\t   9176987 & 159155 & NA & NA & Corts Trust For Goldman Sachs Capital I                                                             \\\\\n",
       "\t   9563181 & 266220 & NA & NA & CABCO Series 2004-1 Trust (Goldman Sachs Capital I)                                                 \\\\\n",
       "\t   9863691 & 160346 & NA & NA & Corts Trust II For Goldman Sachs Capital I                                                          \\\\\n",
       "\t  10097185 & 160560 & NA & NA & CABCO Series 2004-101 Trust (Goldman Sachs Capital I)                                               \\\\\n",
       "\t  10625760 & 216255 & NA & NA & Strats Trust Goldman Sachs Group                                                                    \\\\\n",
       "\t  28113913 & 161697 & NA & NA & Goldman Sachs Trust - Goldman Sachs Equity Income Fund                                              \\\\\n",
       "\t  28121135 & 161698 & NA & NA & Goldman Sachs Variable Insurance Trust - Goldman Sachs U.S. Equity Insights Fund                    \\\\\n",
       "\t  28214164 & 161696 & NA & NA & Goldman Sachs Trust - Goldman Sachs Capital Growth Fund                                             \\\\\n",
       "\t  28369815 & 278616 & NA & NA & Goldman Sachs Dynamic Opportunities Limited                                                         \\\\\n",
       "\t  28817196 & 161719 & NA & NA & Goldman S.Adjust. Rate Govt.Fu                                                                      \\\\\n",
       "\t  28817198 & 161720 & NA & NA & Goldman S. Govt. Income                                                                             \\\\\n",
       "\t  28817203 & 161721 & NA & NA & Goldman S. Short-Duration Govt                                                                      \\\\\n",
       "\t  28862377 & 165372 & NA & NA & Strats Tr Goldman Cap I                                                                             \\\\\n",
       "\t  29070707 & 161699 & NA & NA & Goldman Sachs Trust - Goldman Sachs International Equity ESG Fund                                   \\\\\n",
       "\t  29832076 & 216286 & NA & NA & Lehman ABS Corp., Corporate Backed Trust Certs, Goldman Sachs Cap. I Sec.-Backed Series 2004-4 Trust\\\\\n",
       "\t  29834172 & 216279 & NA & NA & Corporate Backed Trust Certificates Goldman Sachs Capital I Securities Backed Series 2004-7         \\\\\n",
       "\t  32860081 & 160845 & NA & NA & STRATS Trust for Goldman Sachs Group Securities, Series 2006-2                                      \\\\\n",
       "\t  32860162 & 216278 & NA & NA & Corporate Backed Trust Certificates, Goldman Sachs Capital I Securities-Backed Series 2004-6        \\\\\n",
       "\t  32860293 & 216293 & NA & NA & Corporate Backed Trust Certificates Goldman Sachs Group Note-Backed Series 2003-12                  \\\\\n",
       "\t  59517274 & 254680 & NA & NA & Goldman Sachs Global Holdings L.L.C.                                                                \\\\\n",
       "\t 141047784 & 190961 & NA & NA & Fixed Income Trust For Goldman Sachs Subordinated Notes, Series 2011-1                              \\\\\n",
       "\t 223280820 & 023353 & NA & NA & Goldman Sachs BDC, Inc.                                                                             \\\\\n",
       "\t 242032420 & 019249 & NA & NA & Goldman Sachs MLP Income Opportunities Fund                                                         \\\\\n",
       "\t 262828687 & 020962 & NA & NA & Goldman Sachs U.S. Income Builder Trust                                                             \\\\\n",
       "\t 268076438 & 021840 & NA & NA & Goldman Sachs MLP and Energy Renaissance Fund                                                       \\\\\n",
       "\t 280408734 & 026490 & NA & NA & Goldman Sachs ETF Trust - Goldman Sachs ActiveBeta International Equity ETF                         \\\\\n",
       "\t 280408735 & 026259 & NA & NA & Goldman Sachs ETF Trust - Goldman Sachs ActiveBeta Emerging Markets Equity ETF                      \\\\\n",
       "\t 280408736 & 026992 & NA & NA & Goldman Sachs ETF Trust - Goldman Sachs ActiveBeta Europe Equity ETF                                \\\\\n",
       "\t 280408737 & 026993 & NA & NA & Goldman Sachs ETF Trust - Goldman Sachs ActiveBeta Japan Equity ETF                                 \\\\\n",
       "\t 280408738 & 026212 & NA & NA & Goldman Sachs ETF Trust - Goldman Sachs ActiveBeta U.S. Large Cap Equity ETF                        \\\\\n",
       "\t 280408739 & 030721 & NA & NA & Goldman Sachs ETF Trust - Goldman Sachs ActiveBeta U.S. Small Cap Equity ETF                        \\\\\n",
       "\t 341731516 & 028880 & NA & NA & Goldman Sachs ETF Trust - Goldman Sachs Hedge Industry VIP ETF                                      \\\\\n",
       "\t 379291762 & 027994 & NA & NA & Goldman Sachs ETF Trust - Goldman Sachs Access Treasury 0-1 Year ETF                                \\\\\n",
       "\t 423845628 & 032394 & NA & NA & Goldman Sachs ETF Trust - Goldman Sachs Access High Yield Corporate Bond ETF                        \\\\\n",
       "\t 423845629 & 031780 & NA & NA & Goldman Sachs ETF Trust - Goldman Sachs Access Investment Grade Corporate Bond ETF                  \\\\\n",
       "\t 429643413 & 032430 & NA & NA & Goldman Sachs ETF Trust - Goldman Sachs Equal Weight U.S. Large Cap Equity ETF                      \\\\\n",
       "\t 553411751 & 033650 & NA & NA & Goldman Sachs ETF Trust - Goldman Sachs JUST U.S. Large Cap Equity ETF                              \\\\\n",
       "\t 561776827 & 034252 & NA & NA & Goldman Sachs ETF Trust - Goldman Sachs Access Inflation Protected USD Bond ETF                     \\\\\n",
       "\t 576596217 & 034898 & NA & NA & Goldman Sachs ETF Trust - Goldman Sachs Motif New Age Consumer ETF                                  \\\\\n",
       "\t 576596266 & 034895 & NA & NA & Goldman Sachs ETF Trust - Goldman Sachs Motif Manufacturing Revolution ETF                          \\\\\n",
       "\t 576596330 & 034896 & NA & NA & Goldman Sachs ETF Trust - Goldman Sachs Motif Human Evolution ETF                                   \\\\\n",
       "\t 576596414 & 034897 & NA & NA & Goldman Sachs ETF Trust - Goldman Sachs Motif Finance Reimagined ETF                                \\\\\n",
       "\t 576596528 & 034894 & NA & NA & Goldman Sachs ETF Trust - Goldman Sachs Motif Data-Driven World ETF                                 \\\\\n",
       "\t 589287946 & 035106 & NA & NA & Goldman Sachs ETF Trust - Goldman Sachs Access Ultra Short Bond ETF                                 \\\\\n",
       "\\end{tabular}\n"
      ],
      "text/markdown": [
       "\n",
       "A data.table: 47 × 5\n",
       "\n",
       "| companyid &lt;dbl&gt; | gvkey &lt;chr&gt; | startdate &lt;date&gt; | enddate &lt;date&gt; | companyname &lt;chr&gt; |\n",
       "|---|---|---|---|---|\n",
       "|    363476 | 065135 | NA | NA | Friede Goldman Halter Inc.                                                                           |\n",
       "|    398625 | 114628 | NA | NA | The Goldman Sachs Group, Inc.                                                                        |\n",
       "|   4463182 | 200484 | NA | NA | Rich Goldman Holdings Limited                                                                        |\n",
       "|   9176987 | 159155 | NA | NA | Corts Trust For Goldman Sachs Capital I                                                              |\n",
       "|   9563181 | 266220 | NA | NA | CABCO Series 2004-1 Trust (Goldman Sachs Capital I)                                                  |\n",
       "|   9863691 | 160346 | NA | NA | Corts Trust II For Goldman Sachs Capital I                                                           |\n",
       "|  10097185 | 160560 | NA | NA | CABCO Series 2004-101 Trust (Goldman Sachs Capital I)                                                |\n",
       "|  10625760 | 216255 | NA | NA | Strats Trust Goldman Sachs Group                                                                     |\n",
       "|  28113913 | 161697 | NA | NA | Goldman Sachs Trust - Goldman Sachs Equity Income Fund                                               |\n",
       "|  28121135 | 161698 | NA | NA | Goldman Sachs Variable Insurance Trust - Goldman Sachs U.S. Equity Insights Fund                     |\n",
       "|  28214164 | 161696 | NA | NA | Goldman Sachs Trust - Goldman Sachs Capital Growth Fund                                              |\n",
       "|  28369815 | 278616 | NA | NA | Goldman Sachs Dynamic Opportunities Limited                                                          |\n",
       "|  28817196 | 161719 | NA | NA | Goldman S.Adjust. Rate Govt.Fu                                                                       |\n",
       "|  28817198 | 161720 | NA | NA | Goldman S. Govt. Income                                                                              |\n",
       "|  28817203 | 161721 | NA | NA | Goldman S. Short-Duration Govt                                                                       |\n",
       "|  28862377 | 165372 | NA | NA | Strats Tr Goldman Cap I                                                                              |\n",
       "|  29070707 | 161699 | NA | NA | Goldman Sachs Trust - Goldman Sachs International Equity ESG Fund                                    |\n",
       "|  29832076 | 216286 | NA | NA | Lehman ABS Corp., Corporate Backed Trust Certs, Goldman Sachs Cap. I Sec.-Backed Series 2004-4 Trust |\n",
       "|  29834172 | 216279 | NA | NA | Corporate Backed Trust Certificates Goldman Sachs Capital I Securities Backed Series 2004-7          |\n",
       "|  32860081 | 160845 | NA | NA | STRATS Trust for Goldman Sachs Group Securities, Series 2006-2                                       |\n",
       "|  32860162 | 216278 | NA | NA | Corporate Backed Trust Certificates, Goldman Sachs Capital I Securities-Backed Series 2004-6         |\n",
       "|  32860293 | 216293 | NA | NA | Corporate Backed Trust Certificates Goldman Sachs Group Note-Backed Series 2003-12                   |\n",
       "|  59517274 | 254680 | NA | NA | Goldman Sachs Global Holdings L.L.C.                                                                 |\n",
       "| 141047784 | 190961 | NA | NA | Fixed Income Trust For Goldman Sachs Subordinated Notes, Series 2011-1                               |\n",
       "| 223280820 | 023353 | NA | NA | Goldman Sachs BDC, Inc.                                                                              |\n",
       "| 242032420 | 019249 | NA | NA | Goldman Sachs MLP Income Opportunities Fund                                                          |\n",
       "| 262828687 | 020962 | NA | NA | Goldman Sachs U.S. Income Builder Trust                                                              |\n",
       "| 268076438 | 021840 | NA | NA | Goldman Sachs MLP and Energy Renaissance Fund                                                        |\n",
       "| 280408734 | 026490 | NA | NA | Goldman Sachs ETF Trust - Goldman Sachs ActiveBeta International Equity ETF                          |\n",
       "| 280408735 | 026259 | NA | NA | Goldman Sachs ETF Trust - Goldman Sachs ActiveBeta Emerging Markets Equity ETF                       |\n",
       "| 280408736 | 026992 | NA | NA | Goldman Sachs ETF Trust - Goldman Sachs ActiveBeta Europe Equity ETF                                 |\n",
       "| 280408737 | 026993 | NA | NA | Goldman Sachs ETF Trust - Goldman Sachs ActiveBeta Japan Equity ETF                                  |\n",
       "| 280408738 | 026212 | NA | NA | Goldman Sachs ETF Trust - Goldman Sachs ActiveBeta U.S. Large Cap Equity ETF                         |\n",
       "| 280408739 | 030721 | NA | NA | Goldman Sachs ETF Trust - Goldman Sachs ActiveBeta U.S. Small Cap Equity ETF                         |\n",
       "| 341731516 | 028880 | NA | NA | Goldman Sachs ETF Trust - Goldman Sachs Hedge Industry VIP ETF                                       |\n",
       "| 379291762 | 027994 | NA | NA | Goldman Sachs ETF Trust - Goldman Sachs Access Treasury 0-1 Year ETF                                 |\n",
       "| 423845628 | 032394 | NA | NA | Goldman Sachs ETF Trust - Goldman Sachs Access High Yield Corporate Bond ETF                         |\n",
       "| 423845629 | 031780 | NA | NA | Goldman Sachs ETF Trust - Goldman Sachs Access Investment Grade Corporate Bond ETF                   |\n",
       "| 429643413 | 032430 | NA | NA | Goldman Sachs ETF Trust - Goldman Sachs Equal Weight U.S. Large Cap Equity ETF                       |\n",
       "| 553411751 | 033650 | NA | NA | Goldman Sachs ETF Trust - Goldman Sachs JUST U.S. Large Cap Equity ETF                               |\n",
       "| 561776827 | 034252 | NA | NA | Goldman Sachs ETF Trust - Goldman Sachs Access Inflation Protected USD Bond ETF                      |\n",
       "| 576596217 | 034898 | NA | NA | Goldman Sachs ETF Trust - Goldman Sachs Motif New Age Consumer ETF                                   |\n",
       "| 576596266 | 034895 | NA | NA | Goldman Sachs ETF Trust - Goldman Sachs Motif Manufacturing Revolution ETF                           |\n",
       "| 576596330 | 034896 | NA | NA | Goldman Sachs ETF Trust - Goldman Sachs Motif Human Evolution ETF                                    |\n",
       "| 576596414 | 034897 | NA | NA | Goldman Sachs ETF Trust - Goldman Sachs Motif Finance Reimagined ETF                                 |\n",
       "| 576596528 | 034894 | NA | NA | Goldman Sachs ETF Trust - Goldman Sachs Motif Data-Driven World ETF                                  |\n",
       "| 589287946 | 035106 | NA | NA | Goldman Sachs ETF Trust - Goldman Sachs Access Ultra Short Bond ETF                                  |\n",
       "\n"
      ],
      "text/plain": [
       "   companyid gvkey  startdate enddate\n",
       "1     363476 065135 <NA>      <NA>   \n",
       "2     398625 114628 <NA>      <NA>   \n",
       "3    4463182 200484 <NA>      <NA>   \n",
       "4    9176987 159155 <NA>      <NA>   \n",
       "5    9563181 266220 <NA>      <NA>   \n",
       "6    9863691 160346 <NA>      <NA>   \n",
       "7   10097185 160560 <NA>      <NA>   \n",
       "8   10625760 216255 <NA>      <NA>   \n",
       "9   28113913 161697 <NA>      <NA>   \n",
       "10  28121135 161698 <NA>      <NA>   \n",
       "11  28214164 161696 <NA>      <NA>   \n",
       "12  28369815 278616 <NA>      <NA>   \n",
       "13  28817196 161719 <NA>      <NA>   \n",
       "14  28817198 161720 <NA>      <NA>   \n",
       "15  28817203 161721 <NA>      <NA>   \n",
       "16  28862377 165372 <NA>      <NA>   \n",
       "17  29070707 161699 <NA>      <NA>   \n",
       "18  29832076 216286 <NA>      <NA>   \n",
       "19  29834172 216279 <NA>      <NA>   \n",
       "20  32860081 160845 <NA>      <NA>   \n",
       "21  32860162 216278 <NA>      <NA>   \n",
       "22  32860293 216293 <NA>      <NA>   \n",
       "23  59517274 254680 <NA>      <NA>   \n",
       "24 141047784 190961 <NA>      <NA>   \n",
       "25 223280820 023353 <NA>      <NA>   \n",
       "26 242032420 019249 <NA>      <NA>   \n",
       "27 262828687 020962 <NA>      <NA>   \n",
       "28 268076438 021840 <NA>      <NA>   \n",
       "29 280408734 026490 <NA>      <NA>   \n",
       "30 280408735 026259 <NA>      <NA>   \n",
       "31 280408736 026992 <NA>      <NA>   \n",
       "32 280408737 026993 <NA>      <NA>   \n",
       "33 280408738 026212 <NA>      <NA>   \n",
       "34 280408739 030721 <NA>      <NA>   \n",
       "35 341731516 028880 <NA>      <NA>   \n",
       "36 379291762 027994 <NA>      <NA>   \n",
       "37 423845628 032394 <NA>      <NA>   \n",
       "38 423845629 031780 <NA>      <NA>   \n",
       "39 429643413 032430 <NA>      <NA>   \n",
       "40 553411751 033650 <NA>      <NA>   \n",
       "41 561776827 034252 <NA>      <NA>   \n",
       "42 576596217 034898 <NA>      <NA>   \n",
       "43 576596266 034895 <NA>      <NA>   \n",
       "44 576596330 034896 <NA>      <NA>   \n",
       "45 576596414 034897 <NA>      <NA>   \n",
       "46 576596528 034894 <NA>      <NA>   \n",
       "47 589287946 035106 <NA>      <NA>   \n",
       "   companyname                                                                                         \n",
       "1  Friede Goldman Halter Inc.                                                                          \n",
       "2  The Goldman Sachs Group, Inc.                                                                       \n",
       "3  Rich Goldman Holdings Limited                                                                       \n",
       "4  Corts Trust For Goldman Sachs Capital I                                                             \n",
       "5  CABCO Series 2004-1 Trust (Goldman Sachs Capital I)                                                 \n",
       "6  Corts Trust II For Goldman Sachs Capital I                                                          \n",
       "7  CABCO Series 2004-101 Trust (Goldman Sachs Capital I)                                               \n",
       "8  Strats Trust Goldman Sachs Group                                                                    \n",
       "9  Goldman Sachs Trust - Goldman Sachs Equity Income Fund                                              \n",
       "10 Goldman Sachs Variable Insurance Trust - Goldman Sachs U.S. Equity Insights Fund                    \n",
       "11 Goldman Sachs Trust - Goldman Sachs Capital Growth Fund                                             \n",
       "12 Goldman Sachs Dynamic Opportunities Limited                                                         \n",
       "13 Goldman S.Adjust. Rate Govt.Fu                                                                      \n",
       "14 Goldman S. Govt. Income                                                                             \n",
       "15 Goldman S. Short-Duration Govt                                                                      \n",
       "16 Strats Tr Goldman Cap I                                                                             \n",
       "17 Goldman Sachs Trust - Goldman Sachs International Equity ESG Fund                                   \n",
       "18 Lehman ABS Corp., Corporate Backed Trust Certs, Goldman Sachs Cap. I Sec.-Backed Series 2004-4 Trust\n",
       "19 Corporate Backed Trust Certificates Goldman Sachs Capital I Securities Backed Series 2004-7         \n",
       "20 STRATS Trust for Goldman Sachs Group Securities, Series 2006-2                                      \n",
       "21 Corporate Backed Trust Certificates, Goldman Sachs Capital I Securities-Backed Series 2004-6        \n",
       "22 Corporate Backed Trust Certificates Goldman Sachs Group Note-Backed Series 2003-12                  \n",
       "23 Goldman Sachs Global Holdings L.L.C.                                                                \n",
       "24 Fixed Income Trust For Goldman Sachs Subordinated Notes, Series 2011-1                              \n",
       "25 Goldman Sachs BDC, Inc.                                                                             \n",
       "26 Goldman Sachs MLP Income Opportunities Fund                                                         \n",
       "27 Goldman Sachs U.S. Income Builder Trust                                                             \n",
       "28 Goldman Sachs MLP and Energy Renaissance Fund                                                       \n",
       "29 Goldman Sachs ETF Trust - Goldman Sachs ActiveBeta International Equity ETF                         \n",
       "30 Goldman Sachs ETF Trust - Goldman Sachs ActiveBeta Emerging Markets Equity ETF                      \n",
       "31 Goldman Sachs ETF Trust - Goldman Sachs ActiveBeta Europe Equity ETF                                \n",
       "32 Goldman Sachs ETF Trust - Goldman Sachs ActiveBeta Japan Equity ETF                                 \n",
       "33 Goldman Sachs ETF Trust - Goldman Sachs ActiveBeta U.S. Large Cap Equity ETF                        \n",
       "34 Goldman Sachs ETF Trust - Goldman Sachs ActiveBeta U.S. Small Cap Equity ETF                        \n",
       "35 Goldman Sachs ETF Trust - Goldman Sachs Hedge Industry VIP ETF                                      \n",
       "36 Goldman Sachs ETF Trust - Goldman Sachs Access Treasury 0-1 Year ETF                                \n",
       "37 Goldman Sachs ETF Trust - Goldman Sachs Access High Yield Corporate Bond ETF                        \n",
       "38 Goldman Sachs ETF Trust - Goldman Sachs Access Investment Grade Corporate Bond ETF                  \n",
       "39 Goldman Sachs ETF Trust - Goldman Sachs Equal Weight U.S. Large Cap Equity ETF                      \n",
       "40 Goldman Sachs ETF Trust - Goldman Sachs JUST U.S. Large Cap Equity ETF                              \n",
       "41 Goldman Sachs ETF Trust - Goldman Sachs Access Inflation Protected USD Bond ETF                     \n",
       "42 Goldman Sachs ETF Trust - Goldman Sachs Motif New Age Consumer ETF                                  \n",
       "43 Goldman Sachs ETF Trust - Goldman Sachs Motif Manufacturing Revolution ETF                          \n",
       "44 Goldman Sachs ETF Trust - Goldman Sachs Motif Human Evolution ETF                                   \n",
       "45 Goldman Sachs ETF Trust - Goldman Sachs Motif Finance Reimagined ETF                                \n",
       "46 Goldman Sachs ETF Trust - Goldman Sachs Motif Data-Driven World ETF                                 \n",
       "47 Goldman Sachs ETF Trust - Goldman Sachs Access Ultra Short Bond ETF                                 "
      ]
     },
     "metadata": {},
     "output_type": "display_data"
    }
   ],
   "source": [
    "ld(ciq_wrds_gvkey, path=WRDS_DOWNLOAD_DIR)\n",
    "ciq_wrds_gvkey[str_detect(companyname, 'Goldman')]"
   ]
  },
  {
   "cell_type": "markdown",
   "metadata": {},
   "source": [
    "### `crsp.stocknames`"
   ]
  },
  {
   "cell_type": "code",
   "execution_count": null,
   "metadata": {},
   "outputs": [],
   "source": [
    "library = 'crsp'\n",
    "dataset = 'stocknames' # firm names\n",
    "\n",
    "query = sprintf(\"select permno, ncusip, comnam, namedt, nameenddt from %s.%s where ncusip != ''\", library, dataset)\n",
    "res <- dbSendQuery(wrds, query)\n",
    "crsp_stocknames <- setDT(dbFetch(res, n=-1)); dbClearResult(res)\n",
    "sprintf('nrow: %s', nrow(crsp_stocknames))\n",
    "sv(crsp_stocknames, path=WRDS_DOWNLOAD_DIR)\n",
    "\n",
    "query = sprintf(\"select ticker, comnam, permno, ncusip, namedt, nameenddt from %s.%s\", library, dataset)\n",
    "res <- dbSendQuery(wrds, query)\n",
    "crsp_stocknames2 <- setDT(dbFetch(res, n=-1)); dbClearResult(res)\n",
    "sprintf('nrow: %s', nrow(crsp_stocknames2))\n",
    "crsp_stocknames2[1]\n",
    "sv(crsp_stocknames2, path=WRDS_DOWNLOAD_DIR)"
   ]
  },
  {
   "cell_type": "markdown",
   "metadata": {},
   "source": [
    "### `crsp.ccm`"
   ]
  },
  {
   "cell_type": "code",
   "execution_count": null,
   "metadata": {},
   "outputs": [],
   "source": [
    "library = 'crsp'\n",
    "dataset = 'ccmxpf_linktable' # firm names\n",
    "\n",
    "query = sprintf(\"select gvkey, lpermco as permco, lpermno as permno, linkdt, linkenddt from %s.%s where usedflag=1 and linkprim in ('P', 'C')\", library, dataset)\n",
    "res <- dbSendQuery(wrds, query)\n",
    "crsp_ccmlink <- setDT(dbFetch(res, n=-1)); dbClearResult(res)\n",
    "sprintf('nrow: %s', nrow(crsp_ccmlink))\n",
    "sv(crsp_ccmlink, path=WRDS_DOWNLOAD_DIR)\n",
    "crsp_ccmlink[1]"
   ]
  },
  {
   "cell_type": "code",
   "execution_count": 358,
   "metadata": {},
   "outputs": [
    {
     "name": "stdout",
     "output_type": "stream",
     "text": [
      "-crsp_ccmlink- already exists, will NOT load again!  (0 secs)\n"
     ]
    },
    {
     "data": {
      "text/html": [
       "<table>\n",
       "<caption>A data.table: 1 × 5</caption>\n",
       "<thead>\n",
       "\t<tr><th scope=col>gvkey</th><th scope=col>permco</th><th scope=col>permno</th><th scope=col>linkdt</th><th scope=col>linkenddt</th></tr>\n",
       "\t<tr><th scope=col>&lt;chr&gt;</th><th scope=col>&lt;dbl&gt;</th><th scope=col>&lt;dbl&gt;</th><th scope=col>&lt;date&gt;</th><th scope=col>&lt;date&gt;</th></tr>\n",
       "</thead>\n",
       "<tbody>\n",
       "\t<tr><td>001000</td><td>23369</td><td>25881</td><td>1970-11-13</td><td>1978-06-30</td></tr>\n",
       "</tbody>\n",
       "</table>\n"
      ],
      "text/latex": [
       "A data.table: 1 × 5\n",
       "\\begin{tabular}{lllll}\n",
       " gvkey & permco & permno & linkdt & linkenddt\\\\\n",
       " <chr> & <dbl> & <dbl> & <date> & <date>\\\\\n",
       "\\hline\n",
       "\t 001000 & 23369 & 25881 & 1970-11-13 & 1978-06-30\\\\\n",
       "\\end{tabular}\n"
      ],
      "text/markdown": [
       "\n",
       "A data.table: 1 × 5\n",
       "\n",
       "| gvkey &lt;chr&gt; | permco &lt;dbl&gt; | permno &lt;dbl&gt; | linkdt &lt;date&gt; | linkenddt &lt;date&gt; |\n",
       "|---|---|---|---|---|\n",
       "| 001000 | 23369 | 25881 | 1970-11-13 | 1978-06-30 |\n",
       "\n"
      ],
      "text/plain": [
       "  gvkey  permco permno linkdt     linkenddt \n",
       "1 001000 23369  25881  1970-11-13 1978-06-30"
      ]
     },
     "metadata": {},
     "output_type": "display_data"
    }
   ],
   "source": [
    "ld(crsp_ccmlink, path=WRDS_DOWNLOAD_DIR)\n",
    "crsp_ccmlink[1]"
   ]
  },
  {
   "cell_type": "markdown",
   "metadata": {},
   "source": [
    "## index constitution"
   ]
  },
  {
   "cell_type": "code",
   "execution_count": null,
   "metadata": {},
   "outputs": [],
   "source": [
    "ld(comp_idx_prof, path=WRDS_DOWNLOAD_DIR)\n",
    "ld(comp_idx_cst, path=WRDS_DOWNLOAD_DIR)\n",
    "ld(crsp_stocknames, path=WRDS_DOWNLOAD_DIR)"
   ]
  },
  {
   "cell_type": "code",
   "execution_count": null,
   "metadata": {},
   "outputs": [],
   "source": [
    "library = 'compa'\n",
    "dataset = 'idx_index' # firm names\n",
    "\n",
    "query = sprintf(\"select * from %s.%s\", library, dataset)\n",
    "res <- dbSendQuery(wrds, query)\n",
    "comp_idx_profile <- setDT(dbFetch(res, n=-1)); dbClearResult(res)\n",
    "\n",
    "comp_idx_profile[conm=='S&P 500 Comp-Ltd']\n",
    "sv(comp_idx_profile, path=WRDS_DOWNLOAD_DIR)"
   ]
  },
  {
   "cell_type": "code",
   "execution_count": null,
   "metadata": {},
   "outputs": [],
   "source": [
    "library = 'compa'\n",
    "dataset = 'idxcst_his' # firm names\n",
    "\n",
    "query = sprintf(\"select * from %s.%s\", library, dataset)\n",
    "res <- dbSendQuery(wrds, query)\n",
    "comp_idx_cst <- setDT(dbFetch(res, n=-1)); dbClearResult(res)\n",
    "\n",
    "comp_idx_cst[1]\n",
    "sv(comp_idx_cst, path=WRDS_DOWNLOAD_DIR)"
   ]
  },
  {
   "cell_type": "markdown",
   "metadata": {},
   "source": [
    "## keydev"
   ]
  },
  {
   "cell_type": "markdown",
   "metadata": {},
   "source": [
    "Last download: 2020-04-23"
   ]
  },
  {
   "cell_type": "code",
   "execution_count": 107,
   "metadata": {},
   "outputs": [
    {
     "data": {
      "text/html": [
       "'wrds_keydev: 3054577'"
      ],
      "text/latex": [
       "'wrds\\_keydev: 3054577'"
      ],
      "text/markdown": [
       "'wrds_keydev: 3054577'"
      ],
      "text/plain": [
       "[1] \"wrds_keydev: 3054577\""
      ]
     },
     "metadata": {},
     "output_type": "display_data"
    },
    {
     "name": "stdout",
     "output_type": "stream",
     "text": [
      "-ciq_wrds_keydev- saved  (14.6 secs)\n"
     ]
    }
   ],
   "source": [
    "library = 'ciq'\n",
    "dataset = 'wrds_keydev' # everything except for `headline` and `situation`\n",
    "\n",
    "query = sprintf(\"select * from %s.%s \n",
    "    where keydeveventtypeid in (28, 48, 55, 61, 144)\", library, dataset)\n",
    "res <- dbSendQuery(wrds, query)\n",
    "ciq_wrds_keydev <- setDT(dbFetch(res, n=-1)); dbClearResult(res)\n",
    "sprintf('%s: %s', dataset, nrow(ciq_wrds_keydev))\n",
    "\n",
    "# `mostimportantdateutc` is in UTC but R doesn't recognize,\n",
    "# so we need to set it explictly\n",
    "ciq_wrds_keydev[, ':='(mostimportantdateutc=force_tz(mostimportantdateutc, 'UTC'))]\n",
    "\n",
    "sv(ciq_wrds_keydev, path=WRDS_DOWNLOAD_DIR)"
   ]
  },
  {
   "cell_type": "code",
   "execution_count": 108,
   "metadata": {},
   "outputs": [
    {
     "data": {
      "text/html": [
       "'ciqkeydev: 3053099'"
      ],
      "text/latex": [
       "'ciqkeydev: 3053099'"
      ],
      "text/markdown": [
       "'ciqkeydev: 3053099'"
      ],
      "text/plain": [
       "[1] \"ciqkeydev: 3053099\""
      ]
     },
     "metadata": {},
     "output_type": "display_data"
    },
    {
     "name": "stdout",
     "output_type": "stream",
     "text": [
      "-ciq_keydev- saved  (56.69 secs)\n"
     ]
    }
   ],
   "source": [
    "library = 'ciq'\n",
    "dataset = 'ciqkeydev' # `headline` and `situation`\n",
    "\n",
    "query = sprintf(\"select * from %s.%s \n",
    "    where keydevid in \n",
    "        (select keydevid from ciq.wrds_keydev\n",
    "        where keydeveventtypeid in (28, 48, 55, 61, 144))\",\n",
    "    library, dataset)\n",
    "res <- dbSendQuery(wrds, query)\n",
    "ciq_keydev <- setDT(dbFetch(res, n=-1)); dbClearResult(res)\n",
    "sprintf('%s: %s', dataset, nrow(ciq_keydev))\n",
    "\n",
    "# `mostimportantdateutc` is in UTC but R doesn't recognize,\n",
    "# so we need to set it explictly\n",
    "ciq_keydev[, ':='(mostimportantdateutc=force_tz(mostimportantdateutc, 'UTC'))]\n",
    "\n",
    "sv(ciq_keydev, path=WRDS_DOWNLOAD_DIR)"
   ]
  },
  {
   "cell_type": "markdown",
   "metadata": {},
   "source": [
    "## CCM"
   ]
  },
  {
   "cell_type": "markdown",
   "metadata": {},
   "source": [
    "Notes:\n",
    "- Last download: 2020-04-23\n",
    "- `ccmxpf_lnkhist` from CCM provides a linktable between CRSP and Compustat"
   ]
  },
  {
   "cell_type": "code",
   "execution_count": 109,
   "metadata": {},
   "outputs": [
    {
     "data": {
      "text/html": [
       "'ccmxpf_lnkhist: 103457'"
      ],
      "text/latex": [
       "'ccmxpf\\_lnkhist: 103457'"
      ],
      "text/markdown": [
       "'ccmxpf_lnkhist: 103457'"
      ],
      "text/plain": [
       "[1] \"ccmxpf_lnkhist: 103457\""
      ]
     },
     "metadata": {},
     "output_type": "display_data"
    },
    {
     "name": "stdout",
     "output_type": "stream",
     "text": [
      "-ccm- saved  (0.27 secs)\n"
     ]
    }
   ],
   "source": [
    "library = 'crspq'\n",
    "dataset = 'ccmxpf_lnkhist'\n",
    "\n",
    "query = sprintf(\"select * from %s.%s\",\n",
    "    library, dataset)\n",
    "res <- dbSendQuery(wrds, query)\n",
    "ccm <- setDT(dbFetch(res, n=-1)); dbClearResult(res)\n",
    "sprintf('%s: %s', dataset, nrow(ccm))\n",
    "sv(ccm, path=WRDS_DOWNLOAD_DIR)"
   ]
  },
  {
   "cell_type": "markdown",
   "metadata": {},
   "source": [
    "## money inflow"
   ]
  },
  {
   "cell_type": "code",
   "execution_count": 34,
   "metadata": {},
   "outputs": [
    {
     "data": {
      "text/html": [
       "'holdings: 221817585'"
      ],
      "text/latex": [
       "'holdings: 221817585'"
      ],
      "text/markdown": [
       "'holdings: 221817585'"
      ],
      "text/plain": [
       "[1] \"holdings: 221817585\""
      ]
     },
     "metadata": {},
     "output_type": "display_data"
    },
    {
     "name": "stdout",
     "output_type": "stream",
     "text": [
      "-holdings- saved  (6.62 mins)\n"
     ]
    }
   ],
   "source": [
    "library = 'crsp'\n",
    "dataset = 'holdings'\n",
    "\n",
    "query = sprintf(\"select crsp_portno, report_dt, percent_tna, nbr_shares, market_val, cusip, permno from %s.%s where report_dt>'2008-01-01'::date\",\n",
    "    library, dataset)\n",
    "                \n",
    "res <- dbSendQuery(wrds, query)\n",
    "holdings <- setDT(dbFetch(res, n=-1)); dbClearResult(res)\n",
    "sprintf('%s: %s', dataset, nrow(holdings))\n",
    "\n",
    "sv(holdings, path=WRDS_DOWNLOAD_DIR)"
   ]
  },
  {
   "cell_type": "markdown",
   "metadata": {},
   "source": [
    "## retail tracking"
   ]
  },
  {
   "cell_type": "code",
   "execution_count": 16,
   "metadata": {},
   "outputs": [
    {
     "ename": "ERROR",
     "evalue": "Error: Failed to prepare query: ERROR:  permission denied for schema taqm_2003\nLINE 1: select * from taqm_2003.ctm20030112 limit 10\n                      ^\n\n",
     "output_type": "error",
     "traceback": [
      "Error: Failed to prepare query: ERROR:  permission denied for schema taqm_2003\nLINE 1: select * from taqm_2003.ctm20030112 limit 10\n                      ^\n\nTraceback:\n",
      "1. dbSendQuery(wrds, sprintf(\"select * from %s.%s limit 10\", library, \n .     dataset))",
      "2. dbSendQuery(wrds, sprintf(\"select * from %s.%s limit 10\", library, \n .     dataset))",
      "3. .local(conn, statement, ...)",
      "4. new(\"PqResult\", conn = conn, ptr = result_create(conn@ptr, statement), \n .     sql = statement, bigint = conn@bigint)",
      "5. initialize(value, ...)",
      "6. initialize(value, ...)",
      "7. result_create(conn@ptr, statement)"
     ]
    }
   ],
   "source": [
    "taq_year = 2003 # 2003~2020\n",
    "taq_month = str_pad(1, 2, pad='0')\n",
    "taq_day = str_pad(12, 2, pad='0')\n",
    "\n",
    "library = str_c('taqm_', taq_year)\n",
    "dataset = str_c('ctm', taq_year, taq_month, taq_day)\n",
    "\n",
    "res <- dbSendQuery(wrds, sprintf(\"select * from %s.%s limit 10\", library, dataset))\n",
    "\n",
    "data <- dbFetch(res, n=-1)\n",
    "dbClearResult(res)\n",
    "\n",
    "setDT(data)\n"
   ]
  },
  {
   "cell_type": "code",
   "execution_count": 22,
   "metadata": {
    "scrolled": true
   },
   "outputs": [
    {
     "name": "stdout",
     "output_type": "stream",
     "text": [
      "  [1] \"aha\"                \"ahasamp\"            \"audit\"             \n",
      "  [4] \"blab\"               \"block\"              \"boardex\"           \n",
      "  [7] \"boardsmp\"           \"bvd\"                \"bvdsamp\"           \n",
      " [10] \"calcbnch\"           \"cboe\"               \"centris\"           \n",
      " [13] \"ciq\"                \"ciqsamp\"            \"cisdm\"             \n",
      " [16] \"cisdmsmp\"           \"clrvt\"              \"clrvtsmp\"          \n",
      " [19] \"comp\"               \"compa\"              \"compb\"             \n",
      " [22] \"compdcur\"           \"compg\"              \"comph\"             \n",
      " [25] \"compm\"              \"compmcur\"           \"compsamp\"          \n",
      " [28] \"compseg\"            \"compsnap\"           \"comscore\"          \n",
      " [31] \"contrib\"            \"crsp\"               \"crspm\"             \n",
      " [34] \"crspq\"              \"crspsamp\"           \"csmar\"             \n",
      " [37] \"dealscan\"           \"djones\"             \"dmef\"              \n",
      " [40] \"doe\"                \"emdb\"               \"etfg\"              \n",
      " [43] \"etfgsamp\"           \"eureka\"             \"execcomp\"          \n",
      " [46] \"factset\"            \"ff\"                 \"fisd\"              \n",
      " [49] \"fisdsamp\"           \"frb\"                \"fssamp\"            \n",
      " [52] \"ftse\"               \"ginsight\"           \"gmi\"               \n",
      " [55] \"govpx\"              \"govpxsmp\"           \"gsi\"               \n",
      " [58] \"hbase\"              \"hbsamp\"             \"hfr\"               \n",
      " [61] \"hfrsamp\"            \"ibes\"               \"ibescorp\"          \n",
      " [64] \"ibeskpi\"            \"ifgr\"               \"ifgrsamp\"          \n",
      " [67] \"ims\"                \"imssamp\"            \"information_schema\"\n",
      " [70] \"iri\"                \"kld\"                \"ktmine\"            \n",
      " [73] \"ktsamp\"             \"levin\"              \"lspd\"              \n",
      " [76] \"lspdsamp\"           \"lvnsamp\"            \"macrofin\"          \n",
      " [79] \"markit\"             \"mfl\"                \"mrktsamp\"          \n",
      " [82] \"msfanly\"            \"msfinst\"            \"msrb\"              \n",
      " [85] \"msrbsamp\"           \"omtrial\"            \"optionm\"           \n",
      " [88] \"otc\"                \"pg_catalog\"         \"phlx\"              \n",
      " [91] \"ppublica\"           \"ppubsamp\"           \"public\"            \n",
      " [94] \"pwt\"                \"rent\"               \"reprisk\"           \n",
      " [97] \"repsamp\"            \"revere\"             \"risk\"              \n",
      "[100] \"risksamp\"           \"rpna\"               \"rpnasamp\"          \n",
      "[103] \"sdc\"                \"sdcsamp\"            \"secsamp\"           \n",
      "[106] \"snapsamp\"           \"snl\"                \"snlsamp\"           \n",
      "[109] \"sprat\"              \"sustain\"            \"sustsamp\"          \n",
      "[112] \"taqm_2003\"          \"taqm_2004\"          \"taqm_2005\"         \n",
      "[115] \"taqm_2006\"          \"taqm_2007\"          \"taqm_2008\"         \n",
      "[118] \"taqm_2009\"          \"taqm_2010\"          \"taqm_2011\"         \n",
      "[121] \"taqm_2012\"          \"taqm_2013\"          \"taqm_2014\"         \n",
      "[124] \"taqm_2015\"          \"taqm_2016\"          \"taqm_2017\"         \n",
      "[127] \"taqm_2018\"          \"taqm_2019\"          \"taqm_2020\"         \n",
      "[130] \"taqmsamp\"           \"taqmsec\"            \"taqsamp\"           \n",
      "[133] \"tass\"               \"tfn\"                \"totalq\"            \n",
      "[136] \"toyo\"               \"trace\"              \"trown\"             \n",
      "[139] \"trsamp\"             \"trsdcgs\"            \"trws\"              \n",
      "[142] \"twoiq\"              \"twoiqsmp\"           \"wappsamp\"          \n",
      "[145] \"wrdsapps\"           \"wrdssec\"            \"zacks\"             \n",
      "[148] \"zacksamp\"          \n"
     ]
    }
   ],
   "source": [
    "# Determine the data libraries available at WRDS\n",
    "res <- dbSendQuery(wrds, \"select distinct table_schema\n",
    "                   from information_schema.tables\n",
    "                   where table_type ='VIEW'\n",
    "                   or table_type ='FOREIGN TABLE'\n",
    "                   order by table_schema\")\n",
    "data <- dbFetch(res, n=-1)\n",
    "dbClearResult(res)\n",
    "print(setDT(data)[, sort(table_schema)])"
   ]
  },
  {
   "cell_type": "code",
   "execution_count": 50,
   "metadata": {
    "scrolled": true
   },
   "outputs": [
    {
     "data": {
      "text/html": [
       "<table>\n",
       "<caption>A data.table: 26736 × 1</caption>\n",
       "<thead>\n",
       "\t<tr><th scope=col>table_name</th></tr>\n",
       "\t<tr><th scope=col>&lt;chr&gt;</th></tr>\n",
       "</thead>\n",
       "<tbody>\n",
       "\t<tr><td>cqm_20030910</td></tr>\n",
       "\t<tr><td>cqm_20030911</td></tr>\n",
       "\t<tr><td>cqm_20030912</td></tr>\n",
       "\t<tr><td>cqm_20030915</td></tr>\n",
       "\t<tr><td>cqm_20030916</td></tr>\n",
       "\t<tr><td>cqm_20030917</td></tr>\n",
       "\t<tr><td>cqm_20030918</td></tr>\n",
       "\t<tr><td>cqm_20030919</td></tr>\n",
       "\t<tr><td>cqm_20030922</td></tr>\n",
       "\t<tr><td>cqm_20030923</td></tr>\n",
       "\t<tr><td>cqm_20030924</td></tr>\n",
       "\t<tr><td>cqm_20030925</td></tr>\n",
       "\t<tr><td>cqm_20030926</td></tr>\n",
       "\t<tr><td>cqm_20030929</td></tr>\n",
       "\t<tr><td>cqm_20030930</td></tr>\n",
       "\t<tr><td>cqm_20031001</td></tr>\n",
       "\t<tr><td>cqm_20031002</td></tr>\n",
       "\t<tr><td>cqm_20031003</td></tr>\n",
       "\t<tr><td>cqm_20031006</td></tr>\n",
       "\t<tr><td>cqm_20031007</td></tr>\n",
       "\t<tr><td>cqm_20031008</td></tr>\n",
       "\t<tr><td>cqm_20031009</td></tr>\n",
       "\t<tr><td>cqm_20031010</td></tr>\n",
       "\t<tr><td>cqm_20031013</td></tr>\n",
       "\t<tr><td>cqm_20031014</td></tr>\n",
       "\t<tr><td>cqm_20031015</td></tr>\n",
       "\t<tr><td>cqm_20031016</td></tr>\n",
       "\t<tr><td>cqm_20031017</td></tr>\n",
       "\t<tr><td>cqm_20031020</td></tr>\n",
       "\t<tr><td>cqm_20031021</td></tr>\n",
       "\t<tr><td>cqm_20031022</td></tr>\n",
       "\t<tr><td>cqm_20031023</td></tr>\n",
       "\t<tr><td>cqm_20031024</td></tr>\n",
       "\t<tr><td>cqm_20031027</td></tr>\n",
       "\t<tr><td>cqm_20031028</td></tr>\n",
       "\t<tr><td>cqm_20031029</td></tr>\n",
       "\t<tr><td>cqm_20031030</td></tr>\n",
       "\t<tr><td>cqm_20031031</td></tr>\n",
       "\t<tr><td>cqm_20031103</td></tr>\n",
       "\t<tr><td>cqm_20031104</td></tr>\n",
       "\t<tr><td>cqm_20031105</td></tr>\n",
       "\t<tr><td>cqm_20031106</td></tr>\n",
       "\t<tr><td>cqm_20031107</td></tr>\n",
       "\t<tr><td>cqm_20031110</td></tr>\n",
       "\t<tr><td>cqm_20031111</td></tr>\n",
       "\t<tr><td>cqm_20031112</td></tr>\n",
       "\t<tr><td>cqm_20031113</td></tr>\n",
       "\t<tr><td>cqm_20031114</td></tr>\n",
       "\t<tr><td>cqm_20031117</td></tr>\n",
       "\t<tr><td>cqm_20031118</td></tr>\n",
       "\t<tr><td>...</td></tr>\n",
       "\t<tr><td>nbbom_20191021</td></tr>\n",
       "\t<tr><td>nbbom_20191022</td></tr>\n",
       "\t<tr><td>nbbom_20191023</td></tr>\n",
       "\t<tr><td>nbbom_20191024</td></tr>\n",
       "\t<tr><td>nbbom_20191025</td></tr>\n",
       "\t<tr><td>nbbom_20191028</td></tr>\n",
       "\t<tr><td>nbbom_20191029</td></tr>\n",
       "\t<tr><td>nbbom_20191030</td></tr>\n",
       "\t<tr><td>nbbom_20191031</td></tr>\n",
       "\t<tr><td>nbbom_20191101</td></tr>\n",
       "\t<tr><td>nbbom_20191104</td></tr>\n",
       "\t<tr><td>nbbom_20191105</td></tr>\n",
       "\t<tr><td>nbbom_20191106</td></tr>\n",
       "\t<tr><td>nbbom_20191107</td></tr>\n",
       "\t<tr><td>nbbom_20191108</td></tr>\n",
       "\t<tr><td>nbbom_20191111</td></tr>\n",
       "\t<tr><td>nbbom_20191112</td></tr>\n",
       "\t<tr><td>nbbom_20191113</td></tr>\n",
       "\t<tr><td>nbbom_20191114</td></tr>\n",
       "\t<tr><td>nbbom_20191115</td></tr>\n",
       "\t<tr><td>nbbom_20191118</td></tr>\n",
       "\t<tr><td>nbbom_20191119</td></tr>\n",
       "\t<tr><td>nbbom_20191120</td></tr>\n",
       "\t<tr><td>nbbom_20191121</td></tr>\n",
       "\t<tr><td>nbbom_20191122</td></tr>\n",
       "\t<tr><td>nbbom_20191125</td></tr>\n",
       "\t<tr><td>nbbom_20191126</td></tr>\n",
       "\t<tr><td>nbbom_20191127</td></tr>\n",
       "\t<tr><td>nbbom_20191129</td></tr>\n",
       "\t<tr><td>nbbom_20191202</td></tr>\n",
       "\t<tr><td>nbbom_20191203</td></tr>\n",
       "\t<tr><td>nbbom_20191204</td></tr>\n",
       "\t<tr><td>nbbom_20191205</td></tr>\n",
       "\t<tr><td>nbbom_20191206</td></tr>\n",
       "\t<tr><td>nbbom_20191209</td></tr>\n",
       "\t<tr><td>nbbom_20191210</td></tr>\n",
       "\t<tr><td>nbbom_20191211</td></tr>\n",
       "\t<tr><td>nbbom_20191212</td></tr>\n",
       "\t<tr><td>nbbom_20191213</td></tr>\n",
       "\t<tr><td>nbbom_20191216</td></tr>\n",
       "\t<tr><td>nbbom_20191217</td></tr>\n",
       "\t<tr><td>nbbom_20191218</td></tr>\n",
       "\t<tr><td>nbbom_20191219</td></tr>\n",
       "\t<tr><td>nbbom_20191220</td></tr>\n",
       "\t<tr><td>nbbom_20191223</td></tr>\n",
       "\t<tr><td>nbbom_20191224</td></tr>\n",
       "\t<tr><td>nbbom_20191226</td></tr>\n",
       "\t<tr><td>nbbom_20191227</td></tr>\n",
       "\t<tr><td>nbbom_20191230</td></tr>\n",
       "\t<tr><td>nbbom_20191231</td></tr>\n",
       "</tbody>\n",
       "</table>\n"
      ],
      "text/latex": [
       "A data.table: 26736 × 1\n",
       "\\begin{tabular}{l}\n",
       " table\\_name\\\\\n",
       " <chr>\\\\\n",
       "\\hline\n",
       "\t cqm\\_20030910\\\\\n",
       "\t cqm\\_20030911\\\\\n",
       "\t cqm\\_20030912\\\\\n",
       "\t cqm\\_20030915\\\\\n",
       "\t cqm\\_20030916\\\\\n",
       "\t cqm\\_20030917\\\\\n",
       "\t cqm\\_20030918\\\\\n",
       "\t cqm\\_20030919\\\\\n",
       "\t cqm\\_20030922\\\\\n",
       "\t cqm\\_20030923\\\\\n",
       "\t cqm\\_20030924\\\\\n",
       "\t cqm\\_20030925\\\\\n",
       "\t cqm\\_20030926\\\\\n",
       "\t cqm\\_20030929\\\\\n",
       "\t cqm\\_20030930\\\\\n",
       "\t cqm\\_20031001\\\\\n",
       "\t cqm\\_20031002\\\\\n",
       "\t cqm\\_20031003\\\\\n",
       "\t cqm\\_20031006\\\\\n",
       "\t cqm\\_20031007\\\\\n",
       "\t cqm\\_20031008\\\\\n",
       "\t cqm\\_20031009\\\\\n",
       "\t cqm\\_20031010\\\\\n",
       "\t cqm\\_20031013\\\\\n",
       "\t cqm\\_20031014\\\\\n",
       "\t cqm\\_20031015\\\\\n",
       "\t cqm\\_20031016\\\\\n",
       "\t cqm\\_20031017\\\\\n",
       "\t cqm\\_20031020\\\\\n",
       "\t cqm\\_20031021\\\\\n",
       "\t cqm\\_20031022\\\\\n",
       "\t cqm\\_20031023\\\\\n",
       "\t cqm\\_20031024\\\\\n",
       "\t cqm\\_20031027\\\\\n",
       "\t cqm\\_20031028\\\\\n",
       "\t cqm\\_20031029\\\\\n",
       "\t cqm\\_20031030\\\\\n",
       "\t cqm\\_20031031\\\\\n",
       "\t cqm\\_20031103\\\\\n",
       "\t cqm\\_20031104\\\\\n",
       "\t cqm\\_20031105\\\\\n",
       "\t cqm\\_20031106\\\\\n",
       "\t cqm\\_20031107\\\\\n",
       "\t cqm\\_20031110\\\\\n",
       "\t cqm\\_20031111\\\\\n",
       "\t cqm\\_20031112\\\\\n",
       "\t cqm\\_20031113\\\\\n",
       "\t cqm\\_20031114\\\\\n",
       "\t cqm\\_20031117\\\\\n",
       "\t cqm\\_20031118\\\\\n",
       "\t ...\\\\\n",
       "\t nbbom\\_20191021\\\\\n",
       "\t nbbom\\_20191022\\\\\n",
       "\t nbbom\\_20191023\\\\\n",
       "\t nbbom\\_20191024\\\\\n",
       "\t nbbom\\_20191025\\\\\n",
       "\t nbbom\\_20191028\\\\\n",
       "\t nbbom\\_20191029\\\\\n",
       "\t nbbom\\_20191030\\\\\n",
       "\t nbbom\\_20191031\\\\\n",
       "\t nbbom\\_20191101\\\\\n",
       "\t nbbom\\_20191104\\\\\n",
       "\t nbbom\\_20191105\\\\\n",
       "\t nbbom\\_20191106\\\\\n",
       "\t nbbom\\_20191107\\\\\n",
       "\t nbbom\\_20191108\\\\\n",
       "\t nbbom\\_20191111\\\\\n",
       "\t nbbom\\_20191112\\\\\n",
       "\t nbbom\\_20191113\\\\\n",
       "\t nbbom\\_20191114\\\\\n",
       "\t nbbom\\_20191115\\\\\n",
       "\t nbbom\\_20191118\\\\\n",
       "\t nbbom\\_20191119\\\\\n",
       "\t nbbom\\_20191120\\\\\n",
       "\t nbbom\\_20191121\\\\\n",
       "\t nbbom\\_20191122\\\\\n",
       "\t nbbom\\_20191125\\\\\n",
       "\t nbbom\\_20191126\\\\\n",
       "\t nbbom\\_20191127\\\\\n",
       "\t nbbom\\_20191129\\\\\n",
       "\t nbbom\\_20191202\\\\\n",
       "\t nbbom\\_20191203\\\\\n",
       "\t nbbom\\_20191204\\\\\n",
       "\t nbbom\\_20191205\\\\\n",
       "\t nbbom\\_20191206\\\\\n",
       "\t nbbom\\_20191209\\\\\n",
       "\t nbbom\\_20191210\\\\\n",
       "\t nbbom\\_20191211\\\\\n",
       "\t nbbom\\_20191212\\\\\n",
       "\t nbbom\\_20191213\\\\\n",
       "\t nbbom\\_20191216\\\\\n",
       "\t nbbom\\_20191217\\\\\n",
       "\t nbbom\\_20191218\\\\\n",
       "\t nbbom\\_20191219\\\\\n",
       "\t nbbom\\_20191220\\\\\n",
       "\t nbbom\\_20191223\\\\\n",
       "\t nbbom\\_20191224\\\\\n",
       "\t nbbom\\_20191226\\\\\n",
       "\t nbbom\\_20191227\\\\\n",
       "\t nbbom\\_20191230\\\\\n",
       "\t nbbom\\_20191231\\\\\n",
       "\\end{tabular}\n"
      ],
      "text/markdown": [
       "\n",
       "A data.table: 26736 × 1\n",
       "\n",
       "| table_name &lt;chr&gt; |\n",
       "|---|\n",
       "| cqm_20030910 |\n",
       "| cqm_20030911 |\n",
       "| cqm_20030912 |\n",
       "| cqm_20030915 |\n",
       "| cqm_20030916 |\n",
       "| cqm_20030917 |\n",
       "| cqm_20030918 |\n",
       "| cqm_20030919 |\n",
       "| cqm_20030922 |\n",
       "| cqm_20030923 |\n",
       "| cqm_20030924 |\n",
       "| cqm_20030925 |\n",
       "| cqm_20030926 |\n",
       "| cqm_20030929 |\n",
       "| cqm_20030930 |\n",
       "| cqm_20031001 |\n",
       "| cqm_20031002 |\n",
       "| cqm_20031003 |\n",
       "| cqm_20031006 |\n",
       "| cqm_20031007 |\n",
       "| cqm_20031008 |\n",
       "| cqm_20031009 |\n",
       "| cqm_20031010 |\n",
       "| cqm_20031013 |\n",
       "| cqm_20031014 |\n",
       "| cqm_20031015 |\n",
       "| cqm_20031016 |\n",
       "| cqm_20031017 |\n",
       "| cqm_20031020 |\n",
       "| cqm_20031021 |\n",
       "| cqm_20031022 |\n",
       "| cqm_20031023 |\n",
       "| cqm_20031024 |\n",
       "| cqm_20031027 |\n",
       "| cqm_20031028 |\n",
       "| cqm_20031029 |\n",
       "| cqm_20031030 |\n",
       "| cqm_20031031 |\n",
       "| cqm_20031103 |\n",
       "| cqm_20031104 |\n",
       "| cqm_20031105 |\n",
       "| cqm_20031106 |\n",
       "| cqm_20031107 |\n",
       "| cqm_20031110 |\n",
       "| cqm_20031111 |\n",
       "| cqm_20031112 |\n",
       "| cqm_20031113 |\n",
       "| cqm_20031114 |\n",
       "| cqm_20031117 |\n",
       "| cqm_20031118 |\n",
       "| ... |\n",
       "| nbbom_20191021 |\n",
       "| nbbom_20191022 |\n",
       "| nbbom_20191023 |\n",
       "| nbbom_20191024 |\n",
       "| nbbom_20191025 |\n",
       "| nbbom_20191028 |\n",
       "| nbbom_20191029 |\n",
       "| nbbom_20191030 |\n",
       "| nbbom_20191031 |\n",
       "| nbbom_20191101 |\n",
       "| nbbom_20191104 |\n",
       "| nbbom_20191105 |\n",
       "| nbbom_20191106 |\n",
       "| nbbom_20191107 |\n",
       "| nbbom_20191108 |\n",
       "| nbbom_20191111 |\n",
       "| nbbom_20191112 |\n",
       "| nbbom_20191113 |\n",
       "| nbbom_20191114 |\n",
       "| nbbom_20191115 |\n",
       "| nbbom_20191118 |\n",
       "| nbbom_20191119 |\n",
       "| nbbom_20191120 |\n",
       "| nbbom_20191121 |\n",
       "| nbbom_20191122 |\n",
       "| nbbom_20191125 |\n",
       "| nbbom_20191126 |\n",
       "| nbbom_20191127 |\n",
       "| nbbom_20191129 |\n",
       "| nbbom_20191202 |\n",
       "| nbbom_20191203 |\n",
       "| nbbom_20191204 |\n",
       "| nbbom_20191205 |\n",
       "| nbbom_20191206 |\n",
       "| nbbom_20191209 |\n",
       "| nbbom_20191210 |\n",
       "| nbbom_20191211 |\n",
       "| nbbom_20191212 |\n",
       "| nbbom_20191213 |\n",
       "| nbbom_20191216 |\n",
       "| nbbom_20191217 |\n",
       "| nbbom_20191218 |\n",
       "| nbbom_20191219 |\n",
       "| nbbom_20191220 |\n",
       "| nbbom_20191223 |\n",
       "| nbbom_20191224 |\n",
       "| nbbom_20191226 |\n",
       "| nbbom_20191227 |\n",
       "| nbbom_20191230 |\n",
       "| nbbom_20191231 |\n",
       "\n"
      ],
      "text/plain": [
       "      table_name    \n",
       "1     cqm_20030910  \n",
       "2     cqm_20030911  \n",
       "3     cqm_20030912  \n",
       "4     cqm_20030915  \n",
       "5     cqm_20030916  \n",
       "6     cqm_20030917  \n",
       "7     cqm_20030918  \n",
       "8     cqm_20030919  \n",
       "9     cqm_20030922  \n",
       "10    cqm_20030923  \n",
       "11    cqm_20030924  \n",
       "12    cqm_20030925  \n",
       "13    cqm_20030926  \n",
       "14    cqm_20030929  \n",
       "15    cqm_20030930  \n",
       "16    cqm_20031001  \n",
       "17    cqm_20031002  \n",
       "18    cqm_20031003  \n",
       "19    cqm_20031006  \n",
       "20    cqm_20031007  \n",
       "21    cqm_20031008  \n",
       "22    cqm_20031009  \n",
       "23    cqm_20031010  \n",
       "24    cqm_20031013  \n",
       "25    cqm_20031014  \n",
       "26    cqm_20031015  \n",
       "27    cqm_20031016  \n",
       "28    cqm_20031017  \n",
       "29    cqm_20031020  \n",
       "30    cqm_20031021  \n",
       "31    cqm_20031022  \n",
       "32    cqm_20031023  \n",
       "33    cqm_20031024  \n",
       "34    cqm_20031027  \n",
       "35    cqm_20031028  \n",
       "36    cqm_20031029  \n",
       "37    cqm_20031030  \n",
       "38    cqm_20031031  \n",
       "39    cqm_20031103  \n",
       "40    cqm_20031104  \n",
       "41    cqm_20031105  \n",
       "42    cqm_20031106  \n",
       "43    cqm_20031107  \n",
       "44    cqm_20031110  \n",
       "45    cqm_20031111  \n",
       "46    cqm_20031112  \n",
       "47    cqm_20031113  \n",
       "48    cqm_20031114  \n",
       "49    cqm_20031117  \n",
       "50    cqm_20031118  \n",
       "...   ...           \n",
       "26687 nbbom_20191021\n",
       "26688 nbbom_20191022\n",
       "26689 nbbom_20191023\n",
       "26690 nbbom_20191024\n",
       "26691 nbbom_20191025\n",
       "26692 nbbom_20191028\n",
       "26693 nbbom_20191029\n",
       "26694 nbbom_20191030\n",
       "26695 nbbom_20191031\n",
       "26696 nbbom_20191101\n",
       "26697 nbbom_20191104\n",
       "26698 nbbom_20191105\n",
       "26699 nbbom_20191106\n",
       "26700 nbbom_20191107\n",
       "26701 nbbom_20191108\n",
       "26702 nbbom_20191111\n",
       "26703 nbbom_20191112\n",
       "26704 nbbom_20191113\n",
       "26705 nbbom_20191114\n",
       "26706 nbbom_20191115\n",
       "26707 nbbom_20191118\n",
       "26708 nbbom_20191119\n",
       "26709 nbbom_20191120\n",
       "26710 nbbom_20191121\n",
       "26711 nbbom_20191122\n",
       "26712 nbbom_20191125\n",
       "26713 nbbom_20191126\n",
       "26714 nbbom_20191127\n",
       "26715 nbbom_20191129\n",
       "26716 nbbom_20191202\n",
       "26717 nbbom_20191203\n",
       "26718 nbbom_20191204\n",
       "26719 nbbom_20191205\n",
       "26720 nbbom_20191206\n",
       "26721 nbbom_20191209\n",
       "26722 nbbom_20191210\n",
       "26723 nbbom_20191211\n",
       "26724 nbbom_20191212\n",
       "26725 nbbom_20191213\n",
       "26726 nbbom_20191216\n",
       "26727 nbbom_20191217\n",
       "26728 nbbom_20191218\n",
       "26729 nbbom_20191219\n",
       "26730 nbbom_20191220\n",
       "26731 nbbom_20191223\n",
       "26732 nbbom_20191224\n",
       "26733 nbbom_20191226\n",
       "26734 nbbom_20191227\n",
       "26735 nbbom_20191230\n",
       "26736 nbbom_20191231"
      ]
     },
     "metadata": {},
     "output_type": "display_data"
    }
   ],
   "source": [
    "# Determine the datasets within a given library\n",
    "library = 'taqmsec'\n",
    "res <- dbSendQuery(wrds, sprintf(\"select distinct table_name\n",
    "                   from information_schema.columns\n",
    "                   where table_schema='%s'\n",
    "                   order by table_name\", library))\n",
    "data <- dbFetch(res, n=-1)\n",
    "dbClearResult(res)\n",
    "setDT(data)\n",
    "data"
   ]
  },
  {
   "cell_type": "code",
   "execution_count": 44,
   "metadata": {},
   "outputs": [
    {
     "data": {
      "text/plain": [
       "\n",
       "  cqm   ctm   ix_   mas   nbb \n",
       " 4084  4111 12223  2238  4080 "
      ]
     },
     "metadata": {},
     "output_type": "display_data"
    }
   ],
   "source": [
    "data[, table(str_sub(table_name,1,3))]"
   ]
  },
  {
   "cell_type": "code",
   "execution_count": 49,
   "metadata": {
    "scrolled": true
   },
   "outputs": [
    {
     "ename": "ERROR",
     "evalue": "Error: Failed to prepare query: ERROR:  permission denied for schema taqm_2010\nLINE 1: select * from taqm_2010.ctm_20100706 limit 10\n                      ^\n\n",
     "output_type": "error",
     "traceback": [
      "Error: Failed to prepare query: ERROR:  permission denied for schema taqm_2010\nLINE 1: select * from taqm_2010.ctm_20100706 limit 10\n                      ^\n\nTraceback:\n",
      "1. dbSendQuery(wrds, sprintf(\"select * from %s.%s limit 10\", library, \n .     dataset))",
      "2. dbSendQuery(wrds, sprintf(\"select * from %s.%s limit 10\", library, \n .     dataset))",
      "3. .local(conn, statement, ...)",
      "4. new(\"PqResult\", conn = conn, ptr = result_create(conn@ptr, statement), \n .     sql = statement, bigint = conn@bigint)",
      "5. initialize(value, ...)",
      "6. initialize(value, ...)",
      "7. result_create(conn@ptr, statement)"
     ]
    }
   ],
   "source": [
    "# Determine the variables (column headers) within a given dataset\n",
    "library = 'taqmsec'\n",
    "dataset = 'ctm_20100706'\n",
    "res <- dbSendQuery(wrds, sprintf(\"select * from %s.%s limit 10\", library, dataset))\n",
    "data <- dbFetch(res, n=-1)\n",
    "dbClearResult(res)\n",
    "\n",
    "data"
   ]
  },
  {
   "cell_type": "markdown",
   "metadata": {
    "toc-hr-collapsed": true,
    "toc-nb-collapsed": true
   },
   "source": [
    "# Coverage"
   ]
  },
  {
   "cell_type": "markdown",
   "metadata": {},
   "source": [
    "## Find SP 500"
   ]
  },
  {
   "cell_type": "code",
   "execution_count": null,
   "metadata": {
    "scrolled": true
   },
   "outputs": [],
   "source": [
    "# thru is missing means it's still effective\n",
    "# fill the missing with today()\n",
    "ld(comp_idx_cst, path=WRDS_DOWNLOAD_DIR)\n",
    "\n",
    "sp500_cst = comp_idx_cst[gvkeyx=='000003'\n",
    "    ][is.na(from), ':='(from=as.Date('1900-01-01'))\n",
    "    ][is.na(thru), ':='(thru=today())\n",
    "    ][order(gvkey, iid)\n",
    "    ][, .SD[1], keyby=.(gvkey)\n",
    "    ][, .(gvkey, from, thru)] %>% unique()\n",
    "\n",
    "sv(sp500_cst)"
   ]
  },
  {
   "cell_type": "code",
   "execution_count": null,
   "metadata": {},
   "outputs": [],
   "source": [
    "sp500_cst[, uniqueN(gvkey)]\n",
    "sp500_cst[1]"
   ]
  },
  {
   "cell_type": "markdown",
   "metadata": {},
   "source": [
    "## Find DJI"
   ]
  },
  {
   "cell_type": "code",
   "execution_count": null,
   "metadata": {},
   "outputs": [],
   "source": [
    "ld(comp_idx_cst, path=WRDS_DOWNLOAD_DIR)\n",
    "ld(comp_security, path=WRDS_DOWNLOAD_DIR)"
   ]
  },
  {
   "cell_type": "code",
   "execution_count": null,
   "metadata": {},
   "outputs": [],
   "source": [
    "SDATE = as.Date('2005-01-01')\n",
    "EDATE = as.Date('2018-12-31')"
   ]
  },
  {
   "cell_type": "code",
   "execution_count": null,
   "metadata": {
    "scrolled": true
   },
   "outputs": [],
   "source": [
    "# DJI\n",
    "dji_cst = unique(comp_idx_cst[gvkeyx=='000005'\n",
    "    ][comp_security[, .(gvkey, iid, tic, cusip=str_sub(cusip, 1, 6), sedol)], \n",
    "      on=.(gvkey, iid), nomatch=0])\n",
    "dji_cst\n",
    "sv(dji_cst)"
   ]
  },
  {
   "cell_type": "markdown",
   "metadata": {
    "toc-hr-collapsed": true,
    "toc-nb-collapsed": true
   },
   "source": [
    "# Y (CAR)"
   ]
  },
  {
   "cell_type": "markdown",
   "metadata": {},
   "source": [
    "## `gvkey` <-> `permno`"
   ]
  },
  {
   "cell_type": "markdown",
   "metadata": {},
   "source": [
    "We'll use `ccm` to link these two variables.\n",
    "\n",
    "In the next cell, I:\n",
    "- only select \"primary\" links (LC,LU,LS) which are considered to be robust\n",
    "- fill missing `linkdt` and `linkenddt`\n",
    "- for every `gvkey`, only select its **first** issue."
   ]
  },
  {
   "cell_type": "code",
   "execution_count": 322,
   "metadata": {},
   "outputs": [
    {
     "name": "stdout",
     "output_type": "stream",
     "text": [
      "-ccm- loaded  (0.35 secs)\n",
      "-gvkey_permno_link- saved  (0.04 secs)\n"
     ]
    }
   ],
   "source": [
    "ld(ccm, path=WRDS_DOWNLOAD_DIR, force=T)\n",
    "\n",
    "gvkey_permno_link = ccm[linktype %in% c('LC', 'LU', 'LS')\n",
    "    ][is.na(linkenddt) | linkenddt>=as.Date('2000-01-01'), \n",
    "     .(gvkey, lpermno, liid, linkdt, linkenddt)\n",
    "    ][is.na(linkenddt), ':='(linkenddt=as.Date('2020-12-31'))\n",
    "    ][is.na(linkdt), ':='(linkdt=as.Date('1990-01-01'))\n",
    "    ][order(gvkey, liid)\n",
    "    ][, .SD[1], keyby=.(gvkey)\n",
    "    ][order(gvkey, linkdt)\n",
    "    ][, ':='(liid=NULL)] %>% \n",
    "    na.omit(cols=c('gvkey', 'lpermno')) %>% \n",
    "    unique(by=c('gvkey', 'lpermno'))\n",
    "sv(gvkey_permno_link)"
   ]
  },
  {
   "cell_type": "markdown",
   "metadata": {},
   "source": [
    "## call <-> release"
   ]
  },
  {
   "cell_type": "markdown",
   "metadata": {},
   "source": [
    "Task:\n",
    "- link call and release\n",
    "- method\n",
    "  1. For any release, find all the calls within the [-180d, 180d] window, get `dt_find_post_call`\n",
    "  2. For any call, find all the releases within the [-180d, 180d] window, get `dt_find_prev_release`\n",
    "  3. merge `dt_find_post_call` and `dt_find_prev_release`, get `call_release_link`\n",
    "  4. For every `call_keydevid`, find its **closest** **previous**`release_keydevid` within [-1d, 1d]\n",
    "\n",
    "Warnings:\n",
    "- In `call_release_link`:\n",
    "    - `call_keydevid` is unique key\n",
    "    - `release_keydevid` *not* unique key, because different calls may be matched to the *same* release.\n",
    "- In `ciq_wrds_keydev`, one `keydevid` may have multiple obs because it may corresponds to multiple `gvkey`\n",
    "\n",
    "Notes:\n",
    "- `keyeventtypeid`\n",
    "  - 28: earnings announcement\n",
    "  - 48: earnings calls\n",
    "  - 61: accnounce earnings release delay\n",
    "  \n"
   ]
  },
  {
   "cell_type": "code",
   "execution_count": 10,
   "metadata": {},
   "outputs": [
    {
     "name": "stdout",
     "output_type": "stream",
     "text": [
      "-ciq_wrds_keydev- loaded  (5.77 secs)\n",
      "-ciq_keydev- loaded  (25.33 secs)\n",
      "-gvkey_permno_link- loaded  (0.02 secs)\n"
     ]
    }
   ],
   "source": [
    "ld(ciq_wrds_keydev, path=WRDS_DOWNLOAD_DIR, force=T)\n",
    "ld(ciq_keydev, path=WRDS_DOWNLOAD_DIR, force=T)\n",
    "ld(gvkey_permno_link, force=T)"
   ]
  },
  {
   "cell_type": "code",
   "execution_count": 277,
   "metadata": {
    "scrolled": true
   },
   "outputs": [],
   "source": [
    "find_prev_release <- function(t, date, keydevid, keydeveventtypeid, companyname) {\n",
    "    # t: the row_id of one call\n",
    "    # n: the row_ids of the closet earnings release\n",
    "    ns = which((date>=(date[t]-180)) & (date<=date[t]+180) & (keydeveventtypeid==28))\n",
    "    if (length(ns) >= 1) { # has match\n",
    "        return(list('release_date' = date[ns],\n",
    "             'release_keydevid' = keydevid[ns],\n",
    "             'call_date' = date[rep(t, length(ns))],\n",
    "             'call_keydevid' = keydevid[rep(t, length(ns))],\n",
    "             'companyname' = companyname[ns]))\n",
    "    } else if (length(ns) == 0) {# fail to find a release\n",
    "        return(list('release_date' = ymd(NA),\n",
    "             'release_keydevid' = NA_real_,\n",
    "             'call_date' = date[t],\n",
    "             'call_keydevid' = keydevid[t],\n",
    "             'companyname' = companyname[1]))\n",
    "    }\n",
    "}\n",
    "\n",
    "dt_find_prev_release = ciq_wrds_keydev[!is.na(gvkey)\n",
    "    ][keydeveventtypeid %in% c(28, 48)\n",
    "    ][order(gvkey, mostimportantdateutc),\n",
    "      .(gvkey, date=as.Date(mostimportantdateutc), keydevid, keydeveventtypeid, companyname, eventtype)\n",
    "    ][, {ts = which(keydeveventtypeid==48)\n",
    "      lapply(ts, partial(find_prev_release, date=date, \n",
    "                         keydevid=keydevid, keydeveventtypeid=keydeveventtypeid,\n",
    "                         companyname=companyname)\n",
    "            ) %>% rbindlist(fill=T, use=T)\n",
    "     },\n",
    "     keyby=.(gvkey)\n",
    "    ]"
   ]
  },
  {
   "cell_type": "code",
   "execution_count": 278,
   "metadata": {
    "scrolled": true
   },
   "outputs": [],
   "source": [
    "find_post_call <- function(t, date, keydevid, keydeveventtypeid, companyname) {\n",
    "    # t: the row_id of one announcement\n",
    "    # ns: the row_id of the closest call\n",
    "    ns = which((date>=(date[t]-180)) & (date<=date[t]+180) & (keydeveventtypeid==48))\n",
    "    if (length(n) == 1) { # has match\n",
    "        return(list('call_date' = date[ns],\n",
    "             'call_keydevid' = keydevid[ns],\n",
    "             'release_date' = date[rep(t, length(ns))],\n",
    "             'release_keydevid' = keydevid[rep(t, length(ns))],\n",
    "             'companyname' = companyname[ns]))\n",
    "    } else if (length(n) == 0) {# fail to find a release\n",
    "        return(list('call_date' = ymd(NA),\n",
    "             'call_keydevid' = NA_real_,\n",
    "             'release_date' = date[t],\n",
    "             'release_keydevid' = keydevid[t],\n",
    "             'companyname' = companyname[1]))\n",
    "    }\n",
    "}\n",
    "\n",
    "dt_find_post_call = ciq_wrds_keydev[!is.na(gvkey)\n",
    "    ][keydeveventtypeid %in% c(28, 48)\n",
    "    ][order(gvkey, mostimportantdateutc),\n",
    "      .(gvkey, date=as.Date(mostimportantdateutc), keydevid, keydeveventtypeid, companyname, eventtype)\n",
    "    ][, {ts = which(keydeveventtypeid==28)\n",
    "      lapply(ts, partial(find_post_call, date=date, \n",
    "                         keydevid=keydevid, keydeveventtypeid=keydeveventtypeid,\n",
    "                         companyname=companyname)\n",
    "            ) %>% rbindlist(fill=T, use=T)\n",
    "     },\n",
    "     keyby=.(gvkey)\n",
    "    ]"
   ]
  },
  {
   "cell_type": "code",
   "execution_count": 385,
   "metadata": {
    "scrolled": true
   },
   "outputs": [
    {
     "name": "stdout",
     "output_type": "stream",
     "text": [
      "30657 (98.77%) calls have been sucessfully matched with release event in range [-1,1].\n",
      "\n",
      "-call_release_link- saved  (0.09 secs)\n"
     ]
    },
    {
     "data": {
      "text/html": [
       "<table>\n",
       "<caption>A data.table: 1 × 7</caption>\n",
       "<thead>\n",
       "\t<tr><th scope=col>call_keydevid</th><th scope=col>gvkey</th><th scope=col>call_date</th><th scope=col>release_date</th><th scope=col>release_keydevid</th><th scope=col>companyname</th><th scope=col>nday_release_lead</th></tr>\n",
       "\t<tr><th scope=col>&lt;dbl&gt;</th><th scope=col>&lt;chr&gt;</th><th scope=col>&lt;date&gt;</th><th scope=col>&lt;date&gt;</th><th scope=col>&lt;dbl&gt;</th><th scope=col>&lt;chr&gt;</th><th scope=col>&lt;drtn&gt;</th></tr>\n",
       "</thead>\n",
       "<tbody>\n",
       "\t<tr><td>3101633</td><td>014489</td><td>2008-02-28</td><td>2008-02-28</td><td>5219816</td><td>Dell Technologies Inc.</td><td>0 days</td></tr>\n",
       "</tbody>\n",
       "</table>\n"
      ],
      "text/latex": [
       "A data.table: 1 × 7\n",
       "\\begin{tabular}{lllllll}\n",
       " call\\_keydevid & gvkey & call\\_date & release\\_date & release\\_keydevid & companyname & nday\\_release\\_lead\\\\\n",
       " <dbl> & <chr> & <date> & <date> & <dbl> & <chr> & <drtn>\\\\\n",
       "\\hline\n",
       "\t 3101633 & 014489 & 2008-02-28 & 2008-02-28 & 5219816 & Dell Technologies Inc. & 0 days\\\\\n",
       "\\end{tabular}\n"
      ],
      "text/markdown": [
       "\n",
       "A data.table: 1 × 7\n",
       "\n",
       "| call_keydevid &lt;dbl&gt; | gvkey &lt;chr&gt; | call_date &lt;date&gt; | release_date &lt;date&gt; | release_keydevid &lt;dbl&gt; | companyname &lt;chr&gt; | nday_release_lead &lt;drtn&gt; |\n",
       "|---|---|---|---|---|---|---|\n",
       "| 3101633 | 014489 | 2008-02-28 | 2008-02-28 | 5219816 | Dell Technologies Inc. | 0 days |\n",
       "\n"
      ],
      "text/plain": [
       "  call_keydevid gvkey  call_date  release_date release_keydevid\n",
       "1 3101633       014489 2008-02-28 2008-02-28   5219816         \n",
       "  companyname            nday_release_lead\n",
       "1 Dell Technologies Inc. 0 days           "
      ]
     },
     "metadata": {},
     "output_type": "display_data"
    }
   ],
   "source": [
    "call_release_link = unique(na.omit(rbindlist(list(dt_find_post_call, dt_find_prev_release), use=T)))[order(gvkey, release_date)\n",
    "    ][(gvkey %in% sp500_cst$gvkey) & (call_date %between% c(ymd('2008-01-01'), ymd('2018-12-31')))\n",
    "    ][, ':='(nday_release_lead=call_date-release_date)\n",
    "    ][nday_release_lead %between% c(-1, 1)\n",
    "    ][order(call_keydevid, nday_release_lead)\n",
    "    ][, head(.SD,1), keyby=.(call_keydevid)]\n",
    "\n",
    "n_identified_call = call_release_link[, uniqueN(call_keydevid)]\n",
    "cat(sprintf(\"%s (%.2f%%) calls have been sucessfully matched with release event in range [-1d,1d].\\n\\n\", n_identified_call, round(n_identified_call/31040*100, 2)))\n",
    "\n",
    "sv(call_release_link)\n",
    "call_release_link[1]"
   ]
  },
  {
   "cell_type": "markdown",
   "metadata": {},
   "source": [
    "## infolow"
   ]
  },
  {
   "cell_type": "code",
   "execution_count": 30,
   "metadata": {
    "scrolled": true
   },
   "outputs": [
    {
     "name": "stdout",
     "output_type": "stream",
     "text": [
      "-holdings- loaded  (1.48 mins)\n"
     ]
    }
   ],
   "source": [
    "ld(holdings, path=WRDS_DOWNLOAD_DIR)"
   ]
  },
  {
   "cell_type": "code",
   "execution_count": 31,
   "metadata": {},
   "outputs": [
    {
     "data": {
      "text/html": [
       "<table>\n",
       "<caption>A data.table: 1 × 4</caption>\n",
       "<thead>\n",
       "\t<tr><th scope=col>permno</th><th scope=col>report_dt</th><th scope=col>mv</th><th scope=col>inflow</th></tr>\n",
       "\t<tr><th scope=col>&lt;chr&gt;</th><th scope=col>&lt;date&gt;</th><th scope=col>&lt;dbl&gt;</th><th scope=col>&lt;dbl&gt;</th></tr>\n",
       "</thead>\n",
       "<tbody>\n",
       "\t<tr><td>10001</td><td>2010-04-30</td><td>89377.28</td><td>0.08315468</td></tr>\n",
       "</tbody>\n",
       "</table>\n"
      ],
      "text/latex": [
       "A data.table: 1 × 4\n",
       "\\begin{tabular}{llll}\n",
       " permno & report\\_dt & mv & inflow\\\\\n",
       " <chr> & <date> & <dbl> & <dbl>\\\\\n",
       "\\hline\n",
       "\t 10001 & 2010-04-30 & 89377.28 & 0.08315468\\\\\n",
       "\\end{tabular}\n"
      ],
      "text/markdown": [
       "\n",
       "A data.table: 1 × 4\n",
       "\n",
       "| permno &lt;chr&gt; | report_dt &lt;date&gt; | mv &lt;dbl&gt; | inflow &lt;dbl&gt; |\n",
       "|---|---|---|---|\n",
       "| 10001 | 2010-04-30 | 89377.28 | 0.08315468 |\n",
       "\n"
      ],
      "text/plain": [
       "  permno report_dt  mv       inflow    \n",
       "1 10001  2010-04-30 89377.28 0.08315468"
      ]
     },
     "metadata": {},
     "output_type": "display_data"
    }
   ],
   "source": [
    "# inflow: in millions of dollars\n",
    "inflow = holdings[!is.na(permno)\n",
    "    ][, ':='(permno=as.character(permno))\n",
    "    ][, .(mv=sum(market_val, na.rm=T)), keyby=.(permno, report_dt)\n",
    "    ][order(permno, report_dt)\n",
    "    ][, ':='(inflow=(mv-shift(mv))/1e6), keyby=permno\n",
    "    ][!is.na(inflow)]\n",
    "inflow[1]"
   ]
  },
  {
   "cell_type": "code",
   "execution_count": 56,
   "metadata": {},
   "outputs": [
    {
     "name": "stdout",
     "output_type": "stream",
     "text": [
      "-inflow- saved  (0.89 secs)\n"
     ]
    }
   ],
   "source": [
    "sv(inflow)"
   ]
  },
  {
   "cell_type": "markdown",
   "metadata": {},
   "source": [
    "## revision"
   ]
  },
  {
   "cell_type": "markdown",
   "metadata": {},
   "source": [
    "Task:\n",
    "- $revision = \\frac{EPS_{new} - EPS_{previous}}{\\text{stock price 2 days before revision}}*100$\n",
    "- compute revision of year-end earnings for the current FY, resutling in `revision`\n",
    "- create `ibtic_gvkey_link` where `ibtic` is unique and one `gvkey` may have multiple `ibtic` matches\n",
    "- add `gvkey` to `revision`"
   ]
  },
  {
   "cell_type": "code",
   "execution_count": 2,
   "metadata": {},
   "outputs": [],
   "source": [
    "ld(ibes_det_epsus, path=WRDS_DOWNLOAD_DIR)\n",
    "ld(comp_security, path=WRDS_DOWNLOAD_DIR) # stock ids\n",
    "\n",
    "comp_secd = read_feather(str_c(WRDS_DOWNLOAD_DIR, '/comp_secd.feather')) %>% as.data.table() # daily stock price"
   ]
  },
  {
   "cell_type": "code",
   "execution_count": 144,
   "metadata": {},
   "outputs": [],
   "source": [
    "ibtic_gvkey_link = comp_security[!is.na(ibtic) & excntry=='USA', .(ibtic, gvkey, iid, dldtei)]\n",
    "comp_secd_link = comp_secd[, .(gvkey, iid, price_date=datadate, price=prccd, join_date=datadate+2)]"
   ]
  },
  {
   "cell_type": "code",
   "execution_count": 158,
   "metadata": {},
   "outputs": [],
   "source": [
    "ibes = ibes_det_epsus[anndats %between% c(ymd('2007-01-01'), ymd('2019-01-01')) & !is.na(cusip) & measure=='EPS' & usfirm==1 & fpi %in% c(1), \n",
    "     .(ticker, cname, anndats, revdats, fpedats, analys, pdf, fpi, value)\n",
    "    ][order(analys, ticker, fpedats, anndats), ':='(join_date=anndats)\n",
    "    ][ibtic_gvkey_link, on=.(ticker=ibtic), nomatch=NULL]\n",
    "\n",
    "revision = comp_secd_link[ibes, on=.(gvkey, iid, join_date), roll=T, nomatch=NULL\n",
    "    ][is.na(dldtei) | (!is.na(dldtei) & dldtei>=anndats)\n",
    "    ][, ':='(join_date=NULL, dldtei=NULL)\n",
    "    ][anndats-price_date<=30\n",
    "    ][order(analys, ticker, fpedats, anndats)\n",
    "    ][, .(gvkey, anndats, revdats, pdf, value, revision=(value-shift(value))/price*100), \n",
    "      keyby=.(analys, ticker, fpedats)\n",
    "    ][!is.na(revision)\n",
    "    ][revision %between% c(quantile(revision, 0.005), quantile(revision, 0.995))]"
   ]
  },
  {
   "cell_type": "code",
   "execution_count": 159,
   "metadata": {},
   "outputs": [
    {
     "data": {
      "text/plain": [
       "      Min.    1st Qu.     Median       Mean    3rd Qu.       Max. \n",
       "-115.82106   -0.32189   -0.00989   -0.55922    0.19482   48.66412 "
      ]
     },
     "metadata": {},
     "output_type": "display_data"
    }
   ],
   "source": [
    "revision[, summary(revision)]"
   ]
  },
  {
   "cell_type": "code",
   "execution_count": 160,
   "metadata": {},
   "outputs": [
    {
     "name": "stdout",
     "output_type": "stream",
     "text": [
      "-revision- saved  (3.64 secs)\n"
     ]
    }
   ],
   "source": [
    "sv(revision)"
   ]
  },
  {
   "cell_type": "markdown",
   "metadata": {},
   "source": [
    "## retail"
   ]
  },
  {
   "cell_type": "code",
   "execution_count": 9,
   "metadata": {},
   "outputs": [
    {
     "data": {
      "text/html": [
       "<table>\n",
       "<caption>A data.table: 1 × 6</caption>\n",
       "<thead>\n",
       "\t<tr><th scope=col>SYM_ROOT</th><th scope=col>DATE</th><th scope=col>total_vol</th><th scope=col>retail_buy_vol</th><th scope=col>retail_sell_vol</th><th scope=col>DATE_END</th></tr>\n",
       "\t<tr><th scope=col>&lt;chr&gt;</th><th scope=col>&lt;date&gt;</th><th scope=col>&lt;dbl&gt;</th><th scope=col>&lt;dbl&gt;</th><th scope=col>&lt;dbl&gt;</th><th scope=col>&lt;date&gt;</th></tr>\n",
       "</thead>\n",
       "<tbody>\n",
       "\t<tr><td>A</td><td>2017-01-03</td><td>398438</td><td>17572</td><td>24209</td><td>2017-01-03</td></tr>\n",
       "</tbody>\n",
       "</table>\n"
      ],
      "text/latex": [
       "A data.table: 1 × 6\n",
       "\\begin{tabular}{llllll}\n",
       " SYM\\_ROOT & DATE & total\\_vol & retail\\_buy\\_vol & retail\\_sell\\_vol & DATE\\_END\\\\\n",
       " <chr> & <date> & <dbl> & <dbl> & <dbl> & <date>\\\\\n",
       "\\hline\n",
       "\t A & 2017-01-03 & 398438 & 17572 & 24209 & 2017-01-03\\\\\n",
       "\\end{tabular}\n"
      ],
      "text/markdown": [
       "\n",
       "A data.table: 1 × 6\n",
       "\n",
       "| SYM_ROOT &lt;chr&gt; | DATE &lt;date&gt; | total_vol &lt;dbl&gt; | retail_buy_vol &lt;dbl&gt; | retail_sell_vol &lt;dbl&gt; | DATE_END &lt;date&gt; |\n",
       "|---|---|---|---|---|---|\n",
       "| A | 2017-01-03 | 398438 | 17572 | 24209 | 2017-01-03 |\n",
       "\n"
      ],
      "text/plain": [
       "  SYM_ROOT DATE       total_vol retail_buy_vol retail_sell_vol DATE_END  \n",
       "1 A        2017-01-03 398438    17572          24209           2017-01-03"
      ]
     },
     "metadata": {},
     "output_type": "display_data"
    }
   ],
   "source": [
    "library(haven)\n",
    "\n",
    "# ----------------------------\n",
    "# read: retail trades\n",
    "# ----------------------------\n",
    "\n",
    "retail2017 = read_sas('data/retail tracking/retail2017.sas7bdat') %>% as.data.table()\n",
    "\n",
    "retail2015_2016 = read_sas('data/retail tracking/retail2015_2016.sas7bdat') %>% as.data.table()\n",
    "\n",
    "retail = rbindlist(list(retail2017, retail2015_2016))\n",
    "\n",
    "retail[, ':='(DATE_END=DATE)]\n",
    "retail[1]"
   ]
  },
  {
   "cell_type": "code",
   "execution_count": 10,
   "metadata": {
    "scrolled": true
   },
   "outputs": [
    {
     "data": {
      "text/html": [
       "<table>\n",
       "<caption>A data.table: 1 × 6</caption>\n",
       "<thead>\n",
       "\t<tr><th scope=col>sym_root</th><th scope=col>cusip</th><th scope=col>date</th><th scope=col>total_vol</th><th scope=col>retail_buy_vol</th><th scope=col>retail_sell_vol</th></tr>\n",
       "\t<tr><th scope=col>&lt;chr&gt;</th><th scope=col>&lt;chr&gt;</th><th scope=col>&lt;date&gt;</th><th scope=col>&lt;dbl&gt;</th><th scope=col>&lt;dbl&gt;</th><th scope=col>&lt;dbl&gt;</th></tr>\n",
       "</thead>\n",
       "<tbody>\n",
       "\t<tr><td>A</td><td>00846U101</td><td>2017-01-03</td><td>398438</td><td>17572</td><td>24209</td></tr>\n",
       "</tbody>\n",
       "</table>\n"
      ],
      "text/latex": [
       "A data.table: 1 × 6\n",
       "\\begin{tabular}{llllll}\n",
       " sym\\_root & cusip & date & total\\_vol & retail\\_buy\\_vol & retail\\_sell\\_vol\\\\\n",
       " <chr> & <chr> & <date> & <dbl> & <dbl> & <dbl>\\\\\n",
       "\\hline\n",
       "\t A & 00846U101 & 2017-01-03 & 398438 & 17572 & 24209\\\\\n",
       "\\end{tabular}\n"
      ],
      "text/markdown": [
       "\n",
       "A data.table: 1 × 6\n",
       "\n",
       "| sym_root &lt;chr&gt; | cusip &lt;chr&gt; | date &lt;date&gt; | total_vol &lt;dbl&gt; | retail_buy_vol &lt;dbl&gt; | retail_sell_vol &lt;dbl&gt; |\n",
       "|---|---|---|---|---|---|\n",
       "| A | 00846U101 | 2017-01-03 | 398438 | 17572 | 24209 |\n",
       "\n"
      ],
      "text/plain": [
       "  sym_root cusip     date       total_vol retail_buy_vol retail_sell_vol\n",
       "1 A        00846U101 2017-01-03 398438    17572          24209          "
      ]
     },
     "metadata": {},
     "output_type": "display_data"
    }
   ],
   "source": [
    "# -------------------------------\n",
    "# Add: retail trades <-> `cusip`\n",
    "# -------------------------------\n",
    "\n",
    "cusip_sysroot = read_sas('data/retail tracking/cusip-taq_symbol.sas7bdat') %>% as.data.table()\n",
    "\n",
    "cusip_sysroot = cusip_sysroot[is.na(first_available_date), ':='(first_available_date=ymd('1800-01-01'))\n",
    "    ][first_available_date<=last_available_date, .(CUSIP, SYMBOL, first_available_date, last_available_date)\n",
    "    ] %>% unique()\n",
    "\n",
    "setkey(cusip_sysroot, SYMBOL, first_available_date, last_available_date)\n",
    "\n",
    "retail_cusip = foverlaps(retail, cusip_sysroot, by.x=c('SYM_ROOT', 'DATE', 'DATE_END'), by.y=c('SYMBOL', 'first_available_date', 'last_available_date'), type='within', nomatch=NULL)\n",
    "retail_cusip = retail_cusip[, .(sym_root=SYM_ROOT, cusip=CUSIP, date=DATE, total_vol, retail_buy_vol, retail_sell_vol)]\n",
    "retail_cusip[1]"
   ]
  },
  {
   "cell_type": "code",
   "execution_count": 15,
   "metadata": {},
   "outputs": [
    {
     "data": {
      "text/html": [
       "<table>\n",
       "<caption>A data.table: 1 × 6</caption>\n",
       "<thead>\n",
       "\t<tr><th scope=col>sym_root</th><th scope=col>cusip</th><th scope=col>date</th><th scope=col>total_vol</th><th scope=col>retail_buy_vol</th><th scope=col>retail_sell_vol</th></tr>\n",
       "\t<tr><th scope=col>&lt;chr&gt;</th><th scope=col>&lt;chr&gt;</th><th scope=col>&lt;date&gt;</th><th scope=col>&lt;dbl&gt;</th><th scope=col>&lt;dbl&gt;</th><th scope=col>&lt;dbl&gt;</th></tr>\n",
       "</thead>\n",
       "<tbody>\n",
       "\t<tr><td>A</td><td>00846U101</td><td>2017-01-03</td><td>398438</td><td>17572</td><td>24209</td></tr>\n",
       "</tbody>\n",
       "</table>\n"
      ],
      "text/latex": [
       "A data.table: 1 × 6\n",
       "\\begin{tabular}{llllll}\n",
       " sym\\_root & cusip & date & total\\_vol & retail\\_buy\\_vol & retail\\_sell\\_vol\\\\\n",
       " <chr> & <chr> & <date> & <dbl> & <dbl> & <dbl>\\\\\n",
       "\\hline\n",
       "\t A & 00846U101 & 2017-01-03 & 398438 & 17572 & 24209\\\\\n",
       "\\end{tabular}\n"
      ],
      "text/markdown": [
       "\n",
       "A data.table: 1 × 6\n",
       "\n",
       "| sym_root &lt;chr&gt; | cusip &lt;chr&gt; | date &lt;date&gt; | total_vol &lt;dbl&gt; | retail_buy_vol &lt;dbl&gt; | retail_sell_vol &lt;dbl&gt; |\n",
       "|---|---|---|---|---|---|\n",
       "| A | 00846U101 | 2017-01-03 | 398438 | 17572 | 24209 |\n",
       "\n"
      ],
      "text/plain": [
       "  sym_root cusip     date       total_vol retail_buy_vol retail_sell_vol\n",
       "1 A        00846U101 2017-01-03 398438    17572          24209          "
      ]
     },
     "metadata": {},
     "output_type": "display_data"
    }
   ],
   "source": [
    "retail_cusip[1]"
   ]
  },
  {
   "cell_type": "code",
   "execution_count": 22,
   "metadata": {},
   "outputs": [
    {
     "name": "stdout",
     "output_type": "stream",
     "text": [
      "-comp_security- already exists, will NOT load again!  (0 secs)\n"
     ]
    },
    {
     "data": {
      "text/html": [
       "<table>\n",
       "<caption>A data.table: 1 × 5</caption>\n",
       "<thead>\n",
       "\t<tr><th scope=col>gvkey</th><th scope=col>date</th><th scope=col>total_vol</th><th scope=col>retail_buy_vol</th><th scope=col>retail_sell_vol</th></tr>\n",
       "\t<tr><th scope=col>&lt;chr&gt;</th><th scope=col>&lt;date&gt;</th><th scope=col>&lt;dbl&gt;</th><th scope=col>&lt;dbl&gt;</th><th scope=col>&lt;dbl&gt;</th></tr>\n",
       "</thead>\n",
       "<tbody>\n",
       "\t<tr><td>001004</td><td>2015-01-02</td><td>23105</td><td>4134</td><td>1186</td></tr>\n",
       "</tbody>\n",
       "</table>\n"
      ],
      "text/latex": [
       "A data.table: 1 × 5\n",
       "\\begin{tabular}{lllll}\n",
       " gvkey & date & total\\_vol & retail\\_buy\\_vol & retail\\_sell\\_vol\\\\\n",
       " <chr> & <date> & <dbl> & <dbl> & <dbl>\\\\\n",
       "\\hline\n",
       "\t 001004 & 2015-01-02 & 23105 & 4134 & 1186\\\\\n",
       "\\end{tabular}\n"
      ],
      "text/markdown": [
       "\n",
       "A data.table: 1 × 5\n",
       "\n",
       "| gvkey &lt;chr&gt; | date &lt;date&gt; | total_vol &lt;dbl&gt; | retail_buy_vol &lt;dbl&gt; | retail_sell_vol &lt;dbl&gt; |\n",
       "|---|---|---|---|---|\n",
       "| 001004 | 2015-01-02 | 23105 | 4134 | 1186 |\n",
       "\n"
      ],
      "text/plain": [
       "  gvkey  date       total_vol retail_buy_vol retail_sell_vol\n",
       "1 001004 2015-01-02 23105     4134           1186           "
      ]
     },
     "metadata": {},
     "output_type": "display_data"
    },
    {
     "name": "stdout",
     "output_type": "stream",
     "text": [
      "-retail_cusip_gvkey- saved  (10.89 secs)\n"
     ]
    }
   ],
   "source": [
    "# -------------------------------\n",
    "# Add: <-> `gvkey`\n",
    "# -------------------------------\n",
    "\n",
    "ld(comp_security, path=WRDS_DOWNLOAD_DIR)\n",
    "\n",
    "retail_cusip_gvkey = comp_security[, .(gvkey, cusip)\n",
    "    ][retail_cusip, on=.(cusip), nomatch=NULL\n",
    "    ][, .(total_vol=sum(total_vol, na.rm=T),\n",
    "          retail_buy_vol=sum(retail_buy_vol, na.rm=T),\n",
    "          retail_sell_vol=sum(retail_sell_vol, na.rm=T)), \n",
    "      keyby=.(gvkey, date)]\n",
    "\n",
    "retail_cusip_gvkey[1]\n",
    "sv(retail_cusip_gvkey)"
   ]
  },
  {
   "cell_type": "markdown",
   "metadata": {},
   "source": [
    "## `SUE`"
   ]
  },
  {
   "cell_type": "markdown",
   "metadata": {},
   "source": [
    "Primary key\n",
    "- [`gvkey`, `rdq`]\n",
    "- total obs: 43,822\n",
    "- N of unique PK: 43,815\n",
    "\n",
    "Variable Description\n",
    "- `datadate`(COMP): End Date of Earnings Report(earlier than `rdq` and `repdats`)\n",
    "- `fyearq`(COMP): fiscal year\n",
    "- `fyr`(COMP): fiscal year - end month\n",
    "- `fqtr`(COMP): fiscal quarter\n",
    "    - only in [1, 2, 3, 4]\n",
    "    - *no \"year-end\" earnings*\n",
    "- `repdats`(IBES): Report Date of Quarterly Earnigns\n",
    "- `rdq`(COMP): Report Date of Quarterly Earnings\n",
    "- `leadrdq`(COMP): Report Date of NEXT Quarter's Earnings\n",
    "\n",
    "- `numest`: Number of Forecasts\n",
    "- `smedest`: standard median forecast (based on estimates in the 90 days prior to the EAD), = medest/price_close\n",
    "- `sstdest`: standard error of Forecasts, = stdest/price_close\n",
    "- `basis`: Whether most analysts report estimates on primary(P) / diluted(D)\n",
    "- `act`(IBES): actual earnings\n",
    "- `se`(COMP): Standard Earnings (=act/price_close)\n",
    "- `sest`: Standard Estimates (= se-sue = est/price_close)\n",
    "- `sue1`: SUE based on a rolling seasonal random walk model (LM,p. 185)\n",
    "- `sue2`: SUE accounting for  exclusion of special items\n",
    "- `sue3`: SUE based on IBES reported analyst forecasts and actuals  \n",
    "\n",
    "- `mcap`: Market Cap"
   ]
  },
  {
   "cell_type": "code",
   "execution_count": 346,
   "metadata": {
    "scrolled": true
   },
   "outputs": [
    {
     "data": {
      "text/html": [
       "<table>\n",
       "<caption>A data.table: 1 × 24</caption>\n",
       "<thead>\n",
       "\t<tr><th scope=col>gvkey</th><th scope=col>ticker</th><th scope=col>permno</th><th scope=col>conm</th><th scope=col>fyearq</th><th scope=col>fqtr</th><th scope=col>datadate</th><th scope=col>fyr</th><th scope=col>rdq</th><th scope=col>rdq1</th><th scope=col>leadrdq1</th><th scope=col>repdats</th><th scope=col>mcap</th><th scope=col>act</th><th scope=col>numest</th><th scope=col>basis</th><th scope=col>sue1</th><th scope=col>sue2</th><th scope=col>sue3</th><th scope=col>se</th><th scope=col>sest</th><th scope=col>price_close</th><th scope=col>smedest</th><th scope=col>sstdest</th></tr>\n",
       "\t<tr><th scope=col>&lt;chr&gt;</th><th scope=col>&lt;chr&gt;</th><th scope=col>&lt;chr&gt;</th><th scope=col>&lt;chr&gt;</th><th scope=col>&lt;dbl&gt;</th><th scope=col>&lt;dbl&gt;</th><th scope=col>&lt;date&gt;</th><th scope=col>&lt;dbl&gt;</th><th scope=col>&lt;date&gt;</th><th scope=col>&lt;date&gt;</th><th scope=col>&lt;date&gt;</th><th scope=col>&lt;date&gt;</th><th scope=col>&lt;dbl&gt;</th><th scope=col>&lt;dbl&gt;</th><th scope=col>&lt;dbl&gt;</th><th scope=col>&lt;chr&gt;</th><th scope=col>&lt;dbl&gt;</th><th scope=col>&lt;dbl&gt;</th><th scope=col>&lt;dbl&gt;</th><th scope=col>&lt;dbl&gt;</th><th scope=col>&lt;dbl&gt;</th><th scope=col>&lt;dbl&gt;</th><th scope=col>&lt;dbl&gt;</th><th scope=col>&lt;dbl&gt;</th></tr>\n",
       "</thead>\n",
       "<tbody>\n",
       "\t<tr><td>001013</td><td>ADCT</td><td>50906</td><td>ADC TELECOMMUNICATIONS INC</td><td>2010</td><td>4</td><td>2010-09-30</td><td>9</td><td>2010-11-23</td><td>2010-11-23</td><td>2011-02-23</td><td>2010-11-23</td><td>1231.524</td><td>0.15</td><td>1</td><td>D</td><td>NA</td><td>NA</td><td>-0.000789266</td><td>0.01183899</td><td>0.01262826</td><td>12.67</td><td>0.01262826</td><td>NA</td></tr>\n",
       "</tbody>\n",
       "</table>\n"
      ],
      "text/latex": [
       "A data.table: 1 × 24\n",
       "\\begin{tabular}{llllllllllllllllllllllll}\n",
       " gvkey & ticker & permno & conm & fyearq & fqtr & datadate & fyr & rdq & rdq1 & leadrdq1 & repdats & mcap & act & numest & basis & sue1 & sue2 & sue3 & se & sest & price\\_close & smedest & sstdest\\\\\n",
       " <chr> & <chr> & <chr> & <chr> & <dbl> & <dbl> & <date> & <dbl> & <date> & <date> & <date> & <date> & <dbl> & <dbl> & <dbl> & <chr> & <dbl> & <dbl> & <dbl> & <dbl> & <dbl> & <dbl> & <dbl> & <dbl>\\\\\n",
       "\\hline\n",
       "\t 001013 & ADCT & 50906 & ADC TELECOMMUNICATIONS INC & 2010 & 4 & 2010-09-30 & 9 & 2010-11-23 & 2010-11-23 & 2011-02-23 & 2010-11-23 & 1231.524 & 0.15 & 1 & D & NA & NA & -0.000789266 & 0.01183899 & 0.01262826 & 12.67 & 0.01262826 & NA\\\\\n",
       "\\end{tabular}\n"
      ],
      "text/markdown": [
       "\n",
       "A data.table: 1 × 24\n",
       "\n",
       "| gvkey &lt;chr&gt; | ticker &lt;chr&gt; | permno &lt;chr&gt; | conm &lt;chr&gt; | fyearq &lt;dbl&gt; | fqtr &lt;dbl&gt; | datadate &lt;date&gt; | fyr &lt;dbl&gt; | rdq &lt;date&gt; | rdq1 &lt;date&gt; | leadrdq1 &lt;date&gt; | repdats &lt;date&gt; | mcap &lt;dbl&gt; | act &lt;dbl&gt; | numest &lt;dbl&gt; | basis &lt;chr&gt; | sue1 &lt;dbl&gt; | sue2 &lt;dbl&gt; | sue3 &lt;dbl&gt; | se &lt;dbl&gt; | sest &lt;dbl&gt; | price_close &lt;dbl&gt; | smedest &lt;dbl&gt; | sstdest &lt;dbl&gt; |\n",
       "|---|---|---|---|---|---|---|---|---|---|---|---|---|---|---|---|---|---|---|---|---|---|---|---|\n",
       "| 001013 | ADCT | 50906 | ADC TELECOMMUNICATIONS INC | 2010 | 4 | 2010-09-30 | 9 | 2010-11-23 | 2010-11-23 | 2011-02-23 | 2010-11-23 | 1231.524 | 0.15 | 1 | D | NA | NA | -0.000789266 | 0.01183899 | 0.01262826 | 12.67 | 0.01262826 | NA |\n",
       "\n"
      ],
      "text/plain": [
       "  gvkey  ticker permno conm                       fyearq fqtr datadate   fyr\n",
       "1 001013 ADCT   50906  ADC TELECOMMUNICATIONS INC 2010   4    2010-09-30 9  \n",
       "  rdq        rdq1       leadrdq1   repdats    mcap     act  numest basis sue1\n",
       "1 2010-11-23 2010-11-23 2011-02-23 2010-11-23 1231.524 0.15 1      D     NA  \n",
       "  sue2 sue3         se         sest       price_close smedest    sstdest\n",
       "1 NA   -0.000789266 0.01183899 0.01262826 12.67       0.01262826 NA     "
      ]
     },
     "metadata": {},
     "output_type": "display_data"
    },
    {
     "name": "stdout",
     "output_type": "stream",
     "text": [
      "-sue- saved  (0.27 secs)\n"
     ]
    }
   ],
   "source": [
    "sue = fread('data/sue_final.csv', colClasses=c('gvkey'='character'))\n",
    "sue[, ':='(permno=as.character(permno),\n",
    "           datadate=ymd(datadate),\n",
    "           rdq=ymd(rdq),\n",
    "           rdq1=ymd(rdq1),\n",
    "           leadrdq1=ymd(leadrdq1),\n",
    "           repdats=ymd(repdats),\n",
    "           sest=se-sue3,\n",
    "           price_close=act/se)\n",
    "    ][, ':='(smedest=medest/price_close,\n",
    "             sstdest=stdest/price_close)\n",
    "    ][, ':='(stdest=NULL, medest=NULL)]\n",
    "sue[1]\n",
    "sv(sue)"
   ]
  },
  {
   "cell_type": "markdown",
   "metadata": {},
   "source": [
    "## `CAR`"
   ]
  },
  {
   "cell_type": "markdown",
   "metadata": {},
   "source": [
    "### prepare event list"
   ]
  },
  {
   "cell_type": "markdown",
   "metadata": {},
   "source": [
    "Compute the CAR based on the following two event types: (1) earnings announcment; (2) earnings call. Do as follows:\n",
    "\n",
    "1. Create a dataset where the first col is `permno` and the second is `event_date`.\n",
    "2. Use a Python script (`compute-car.ipynb`) to compute CAR"
   ]
  },
  {
   "cell_type": "code",
   "execution_count": 263,
   "metadata": {},
   "outputs": [
    {
     "name": "stdout",
     "output_type": "stream",
     "text": [
      "-ciq_wrds_keydev- loaded  (10.7 secs)\n",
      "-gvkey_permno_link- loaded  (0.02 secs)\n",
      "-sp500_cst- loaded  (0.01 secs)\n"
     ]
    }
   ],
   "source": [
    "ld(ciq_wrds_keydev, path=WRDS_DOWNLOAD_DIR)\n",
    "ld(gvkey_permno_link)\n",
    "ld(sp500_cst)"
   ]
  },
  {
   "cell_type": "code",
   "execution_count": 266,
   "metadata": {
    "scrolled": true
   },
   "outputs": [
    {
     "data": {
      "text/html": [
       "<table>\n",
       "<caption>A data.table: 17932 × 4</caption>\n",
       "<thead>\n",
       "\t<tr><th scope=col>gvkey</th><th scope=col>lpermno</th><th scope=col>linkdt</th><th scope=col>linkenddt</th></tr>\n",
       "\t<tr><th scope=col>&lt;chr&gt;</th><th scope=col>&lt;dbl&gt;</th><th scope=col>&lt;date&gt;</th><th scope=col>&lt;date&gt;</th></tr>\n",
       "</thead>\n",
       "<tbody>\n",
       "\t<tr><td>001004</td><td>54594</td><td>1972-04-24</td><td>2020-12-31</td></tr>\n",
       "\t<tr><td>001013</td><td>50906</td><td>1979-03-16</td><td>2010-12-31</td></tr>\n",
       "\t<tr><td>001034</td><td>65832</td><td>1984-02-15</td><td>2008-12-29</td></tr>\n",
       "\t<tr><td>001036</td><td>65453</td><td>1983-12-06</td><td>2001-05-31</td></tr>\n",
       "\t<tr><td>001038</td><td>66413</td><td>1983-08-18</td><td>2004-12-31</td></tr>\n",
       "\t<tr><td>001043</td><td>80071</td><td>1993-12-06</td><td>2000-01-27</td></tr>\n",
       "\t<tr><td>001045</td><td>21020</td><td>1962-01-31</td><td>2012-01-04</td></tr>\n",
       "\t<tr><td>001050</td><td>11499</td><td>1980-11-28</td><td>2020-12-31</td></tr>\n",
       "\t<tr><td>001056</td><td>62500</td><td>1977-06-30</td><td>2007-08-31</td></tr>\n",
       "\t<tr><td>001062</td><td>26649</td><td>1965-01-29</td><td>2020-12-31</td></tr>\n",
       "\t<tr><td>001072</td><td>81912</td><td>1995-08-15</td><td>2020-12-31</td></tr>\n",
       "\t<tr><td>001075</td><td>27991</td><td>1962-01-31</td><td>2020-12-31</td></tr>\n",
       "\t<tr><td>001076</td><td>10517</td><td>1993-01-01</td><td>2010-11-30</td></tr>\n",
       "\t<tr><td>001078</td><td>20482</td><td>1962-01-31</td><td>2020-12-31</td></tr>\n",
       "\t<tr><td>001081</td><td>10560</td><td>1987-07-16</td><td>2007-10-26</td></tr>\n",
       "\t<tr><td>001082</td><td>10568</td><td>1982-06-29</td><td>2011-08-31</td></tr>\n",
       "\t<tr><td>001094</td><td>10656</td><td>1972-12-14</td><td>2019-10-02</td></tr>\n",
       "\t<tr><td>001095</td><td>10123</td><td>1989-09-07</td><td>2002-06-14</td></tr>\n",
       "\t<tr><td>001097</td><td>11647</td><td>1994-10-01</td><td>2004-12-03</td></tr>\n",
       "\t<tr><td>001099</td><td>63837</td><td>1972-12-14</td><td>2000-11-30</td></tr>\n",
       "\t<tr><td>001104</td><td>60038</td><td>1972-12-14</td><td>2020-12-31</td></tr>\n",
       "\t<tr><td>001109</td><td>85084</td><td>1986-09-22</td><td>2009-04-24</td></tr>\n",
       "\t<tr><td>001111</td><td>79678</td><td>1993-10-22</td><td>2008-07-09</td></tr>\n",
       "\t<tr><td>001115</td><td>10752</td><td>1979-12-05</td><td>2000-12-29</td></tr>\n",
       "\t<tr><td>001117</td><td>10779</td><td>1978-10-03</td><td>2003-05-07</td></tr>\n",
       "\t<tr><td>001119</td><td>10065</td><td>1982-01-29</td><td>2020-12-31</td></tr>\n",
       "\t<tr><td>001121</td><td>61487</td><td>1975-02-07</td><td>2020-12-31</td></tr>\n",
       "\t<tr><td>001148</td><td>64514</td><td>1980-11-21</td><td>2001-02-28</td></tr>\n",
       "\t<tr><td>001154</td><td>85164</td><td>1985-05-10</td><td>2003-12-23</td></tr>\n",
       "\t<tr><td>001161</td><td>61241</td><td>1972-12-14</td><td>2020-12-31</td></tr>\n",
       "\t<tr><td>001164</td><td>11042</td><td>1986-08-22</td><td>2002-07-29</td></tr>\n",
       "\t<tr><td>001166</td><td>11077</td><td>1981-05-12</td><td>2015-08-20</td></tr>\n",
       "\t<tr><td>001173</td><td>11157</td><td>1975-02-28</td><td>2013-06-28</td></tr>\n",
       "\t<tr><td>001177</td><td>46850</td><td>1968-09-24</td><td>2000-12-13</td></tr>\n",
       "\t<tr><td>001186</td><td>78223</td><td>1982-11-01</td><td>2020-12-31</td></tr>\n",
       "\t<tr><td>001203</td><td>61081</td><td>1973-01-31</td><td>2000-02-29</td></tr>\n",
       "\t<tr><td>001209</td><td>28222</td><td>1962-01-31</td><td>2020-12-31</td></tr>\n",
       "\t<tr><td>001210</td><td>11368</td><td>1984-04-23</td><td>2020-12-31</td></tr>\n",
       "\t<tr><td>001213</td><td>51721</td><td>1971-01-05</td><td>2003-08-15</td></tr>\n",
       "\t<tr><td>001228</td><td>11456</td><td>1990-04-23</td><td>2011-07-25</td></tr>\n",
       "\t<tr><td>001230</td><td>28804</td><td>1966-01-31</td><td>2020-12-31</td></tr>\n",
       "\t<tr><td>001234</td><td>11587</td><td>1972-12-14</td><td>2020-12-31</td></tr>\n",
       "\t<tr><td>001238</td><td>82233</td><td>1995-09-21</td><td>2002-04-05</td></tr>\n",
       "\t<tr><td>001239</td><td>42083</td><td>1965-06-11</td><td>2011-05-10</td></tr>\n",
       "\t<tr><td>001240</td><td>50032</td><td>1970-02-10</td><td>2006-06-30</td></tr>\n",
       "\t<tr><td>001243</td><td>24264</td><td>1962-01-31</td><td>2007-11-14</td></tr>\n",
       "\t<tr><td>001244</td><td>11624</td><td>1983-05-26</td><td>2004-07-30</td></tr>\n",
       "\t<tr><td>001246</td><td>48514</td><td>1969-06-16</td><td>2008-10-31</td></tr>\n",
       "\t<tr><td>001254</td><td>11691</td><td>1972-12-14</td><td>2020-12-31</td></tr>\n",
       "\t<tr><td>001257</td><td>49330</td><td>1969-10-07</td><td>2020-12-31</td></tr>\n",
       "\t<tr><td>...</td><td>...</td><td>...</td><td>...</td></tr>\n",
       "\t<tr><td>295786</td><td>14144</td><td>2013-09-30</td><td>2013-09-30</td></tr>\n",
       "\t<tr><td>295917</td><td>16914</td><td>2017-08-09</td><td>2020-12-31</td></tr>\n",
       "\t<tr><td>296318</td><td>13013</td><td>2011-10-06</td><td>2018-12-31</td></tr>\n",
       "\t<tr><td>296697</td><td>14132</td><td>2013-09-18</td><td>2020-12-31</td></tr>\n",
       "\t<tr><td>296753</td><td>13255</td><td>2012-02-02</td><td>2017-09-29</td></tr>\n",
       "\t<tr><td>296866</td><td>16179</td><td>2016-07-25</td><td>2020-12-31</td></tr>\n",
       "\t<tr><td>296885</td><td>13707</td><td>2012-12-27</td><td>2020-12-31</td></tr>\n",
       "\t<tr><td>296944</td><td>14417</td><td>2014-01-29</td><td>2018-07-03</td></tr>\n",
       "\t<tr><td>297094</td><td>15364</td><td>2015-05-12</td><td>2020-12-31</td></tr>\n",
       "\t<tr><td>297095</td><td>17258</td><td>2018-01-31</td><td>2020-12-31</td></tr>\n",
       "\t<tr><td>297209</td><td>13104</td><td>2011-11-11</td><td>2017-09-12</td></tr>\n",
       "\t<tr><td>297434</td><td>18054</td><td>2018-08-17</td><td>2020-12-31</td></tr>\n",
       "\t<tr><td>297507</td><td>16786</td><td>2017-06-15</td><td>2020-12-31</td></tr>\n",
       "\t<tr><td>297510</td><td>16161</td><td>2016-07-29</td><td>2020-12-31</td></tr>\n",
       "\t<tr><td>298036</td><td>85077</td><td>2018-07-24</td><td>2020-12-31</td></tr>\n",
       "\t<tr><td>300107</td><td>15971</td><td>2016-03-07</td><td>2020-12-31</td></tr>\n",
       "\t<tr><td>308989</td><td>18262</td><td>2018-11-21</td><td>2020-12-31</td></tr>\n",
       "\t<tr><td>311524</td><td>13861</td><td>2013-04-18</td><td>2014-12-31</td></tr>\n",
       "\t<tr><td>312009</td><td>89139</td><td>2015-12-31</td><td>2020-12-31</td></tr>\n",
       "\t<tr><td>312079</td><td>15002</td><td>2014-10-22</td><td>2020-12-31</td></tr>\n",
       "\t<tr><td>314536</td><td>18125</td><td>2018-09-28</td><td>2020-12-31</td></tr>\n",
       "\t<tr><td>314866</td><td>14527</td><td>2014-03-26</td><td>2017-09-29</td></tr>\n",
       "\t<tr><td>314917</td><td>18756</td><td>2019-06-26</td><td>2020-12-31</td></tr>\n",
       "\t<tr><td>314996</td><td>16894</td><td>2017-08-03</td><td>2020-12-31</td></tr>\n",
       "\t<tr><td>315258</td><td>17110</td><td>2017-11-10</td><td>2020-12-31</td></tr>\n",
       "\t<tr><td>315318</td><td>14406</td><td>2014-01-23</td><td>2020-12-31</td></tr>\n",
       "\t<tr><td>315629</td><td>16348</td><td>2016-11-01</td><td>2020-12-31</td></tr>\n",
       "\t<tr><td>315639</td><td>15419</td><td>2015-06-19</td><td>2020-12-31</td></tr>\n",
       "\t<tr><td>315887</td><td>14344</td><td>2013-12-12</td><td>2020-12-31</td></tr>\n",
       "\t<tr><td>316056</td><td>14297</td><td>2013-12-02</td><td>2020-12-31</td></tr>\n",
       "\t<tr><td>317260</td><td>14756</td><td>2014-06-12</td><td>2020-12-31</td></tr>\n",
       "\t<tr><td>317264</td><td>14642</td><td>2014-05-08</td><td>2020-12-31</td></tr>\n",
       "\t<tr><td>317427</td><td>15920</td><td>2016-01-12</td><td>2020-12-31</td></tr>\n",
       "\t<tr><td>318005</td><td>16699</td><td>2017-05-18</td><td>2020-12-31</td></tr>\n",
       "\t<tr><td>318728</td><td>16496</td><td>2016-12-09</td><td>2020-12-31</td></tr>\n",
       "\t<tr><td>318815</td><td>15904</td><td>2015-12-07</td><td>2020-12-31</td></tr>\n",
       "\t<tr><td>319507</td><td>16469</td><td>2016-11-18</td><td>2019-12-31</td></tr>\n",
       "\t<tr><td>321467</td><td>19147</td><td>2019-12-04</td><td>2020-12-31</td></tr>\n",
       "\t<tr><td>321764</td><td>18483</td><td>2019-04-24</td><td>2020-12-31</td></tr>\n",
       "\t<tr><td>323308</td><td>18827</td><td>2019-07-31</td><td>2020-12-31</td></tr>\n",
       "\t<tr><td>324684</td><td>17808</td><td>2018-05-31</td><td>2020-12-31</td></tr>\n",
       "\t<tr><td>325211</td><td>18824</td><td>2019-07-26</td><td>2020-12-31</td></tr>\n",
       "\t<tr><td>326688</td><td>17676</td><td>2018-05-02</td><td>2020-12-31</td></tr>\n",
       "\t<tr><td>327451</td><td>17884</td><td>2018-06-18</td><td>2020-12-31</td></tr>\n",
       "\t<tr><td>328032</td><td>18313</td><td>2018-12-10</td><td>2020-12-31</td></tr>\n",
       "\t<tr><td>328795</td><td>18144</td><td>2018-11-01</td><td>2020-12-31</td></tr>\n",
       "\t<tr><td>330227</td><td>18399</td><td>2019-02-11</td><td>2020-12-31</td></tr>\n",
       "\t<tr><td>330942</td><td>18444</td><td>2019-03-13</td><td>2020-12-31</td></tr>\n",
       "\t<tr><td>331856</td><td>14615</td><td>2019-04-15</td><td>2020-12-31</td></tr>\n",
       "\t<tr><td>332115</td><td>80577</td><td>2019-05-10</td><td>2020-12-31</td></tr>\n",
       "</tbody>\n",
       "</table>\n"
      ],
      "text/latex": [
       "A data.table: 17932 × 4\n",
       "\\begin{tabular}{llll}\n",
       " gvkey & lpermno & linkdt & linkenddt\\\\\n",
       " <chr> & <dbl> & <date> & <date>\\\\\n",
       "\\hline\n",
       "\t 001004 & 54594 & 1972-04-24 & 2020-12-31\\\\\n",
       "\t 001013 & 50906 & 1979-03-16 & 2010-12-31\\\\\n",
       "\t 001034 & 65832 & 1984-02-15 & 2008-12-29\\\\\n",
       "\t 001036 & 65453 & 1983-12-06 & 2001-05-31\\\\\n",
       "\t 001038 & 66413 & 1983-08-18 & 2004-12-31\\\\\n",
       "\t 001043 & 80071 & 1993-12-06 & 2000-01-27\\\\\n",
       "\t 001045 & 21020 & 1962-01-31 & 2012-01-04\\\\\n",
       "\t 001050 & 11499 & 1980-11-28 & 2020-12-31\\\\\n",
       "\t 001056 & 62500 & 1977-06-30 & 2007-08-31\\\\\n",
       "\t 001062 & 26649 & 1965-01-29 & 2020-12-31\\\\\n",
       "\t 001072 & 81912 & 1995-08-15 & 2020-12-31\\\\\n",
       "\t 001075 & 27991 & 1962-01-31 & 2020-12-31\\\\\n",
       "\t 001076 & 10517 & 1993-01-01 & 2010-11-30\\\\\n",
       "\t 001078 & 20482 & 1962-01-31 & 2020-12-31\\\\\n",
       "\t 001081 & 10560 & 1987-07-16 & 2007-10-26\\\\\n",
       "\t 001082 & 10568 & 1982-06-29 & 2011-08-31\\\\\n",
       "\t 001094 & 10656 & 1972-12-14 & 2019-10-02\\\\\n",
       "\t 001095 & 10123 & 1989-09-07 & 2002-06-14\\\\\n",
       "\t 001097 & 11647 & 1994-10-01 & 2004-12-03\\\\\n",
       "\t 001099 & 63837 & 1972-12-14 & 2000-11-30\\\\\n",
       "\t 001104 & 60038 & 1972-12-14 & 2020-12-31\\\\\n",
       "\t 001109 & 85084 & 1986-09-22 & 2009-04-24\\\\\n",
       "\t 001111 & 79678 & 1993-10-22 & 2008-07-09\\\\\n",
       "\t 001115 & 10752 & 1979-12-05 & 2000-12-29\\\\\n",
       "\t 001117 & 10779 & 1978-10-03 & 2003-05-07\\\\\n",
       "\t 001119 & 10065 & 1982-01-29 & 2020-12-31\\\\\n",
       "\t 001121 & 61487 & 1975-02-07 & 2020-12-31\\\\\n",
       "\t 001148 & 64514 & 1980-11-21 & 2001-02-28\\\\\n",
       "\t 001154 & 85164 & 1985-05-10 & 2003-12-23\\\\\n",
       "\t 001161 & 61241 & 1972-12-14 & 2020-12-31\\\\\n",
       "\t 001164 & 11042 & 1986-08-22 & 2002-07-29\\\\\n",
       "\t 001166 & 11077 & 1981-05-12 & 2015-08-20\\\\\n",
       "\t 001173 & 11157 & 1975-02-28 & 2013-06-28\\\\\n",
       "\t 001177 & 46850 & 1968-09-24 & 2000-12-13\\\\\n",
       "\t 001186 & 78223 & 1982-11-01 & 2020-12-31\\\\\n",
       "\t 001203 & 61081 & 1973-01-31 & 2000-02-29\\\\\n",
       "\t 001209 & 28222 & 1962-01-31 & 2020-12-31\\\\\n",
       "\t 001210 & 11368 & 1984-04-23 & 2020-12-31\\\\\n",
       "\t 001213 & 51721 & 1971-01-05 & 2003-08-15\\\\\n",
       "\t 001228 & 11456 & 1990-04-23 & 2011-07-25\\\\\n",
       "\t 001230 & 28804 & 1966-01-31 & 2020-12-31\\\\\n",
       "\t 001234 & 11587 & 1972-12-14 & 2020-12-31\\\\\n",
       "\t 001238 & 82233 & 1995-09-21 & 2002-04-05\\\\\n",
       "\t 001239 & 42083 & 1965-06-11 & 2011-05-10\\\\\n",
       "\t 001240 & 50032 & 1970-02-10 & 2006-06-30\\\\\n",
       "\t 001243 & 24264 & 1962-01-31 & 2007-11-14\\\\\n",
       "\t 001244 & 11624 & 1983-05-26 & 2004-07-30\\\\\n",
       "\t 001246 & 48514 & 1969-06-16 & 2008-10-31\\\\\n",
       "\t 001254 & 11691 & 1972-12-14 & 2020-12-31\\\\\n",
       "\t 001257 & 49330 & 1969-10-07 & 2020-12-31\\\\\n",
       "\t ... & ... & ... & ...\\\\\n",
       "\t 295786 & 14144 & 2013-09-30 & 2013-09-30\\\\\n",
       "\t 295917 & 16914 & 2017-08-09 & 2020-12-31\\\\\n",
       "\t 296318 & 13013 & 2011-10-06 & 2018-12-31\\\\\n",
       "\t 296697 & 14132 & 2013-09-18 & 2020-12-31\\\\\n",
       "\t 296753 & 13255 & 2012-02-02 & 2017-09-29\\\\\n",
       "\t 296866 & 16179 & 2016-07-25 & 2020-12-31\\\\\n",
       "\t 296885 & 13707 & 2012-12-27 & 2020-12-31\\\\\n",
       "\t 296944 & 14417 & 2014-01-29 & 2018-07-03\\\\\n",
       "\t 297094 & 15364 & 2015-05-12 & 2020-12-31\\\\\n",
       "\t 297095 & 17258 & 2018-01-31 & 2020-12-31\\\\\n",
       "\t 297209 & 13104 & 2011-11-11 & 2017-09-12\\\\\n",
       "\t 297434 & 18054 & 2018-08-17 & 2020-12-31\\\\\n",
       "\t 297507 & 16786 & 2017-06-15 & 2020-12-31\\\\\n",
       "\t 297510 & 16161 & 2016-07-29 & 2020-12-31\\\\\n",
       "\t 298036 & 85077 & 2018-07-24 & 2020-12-31\\\\\n",
       "\t 300107 & 15971 & 2016-03-07 & 2020-12-31\\\\\n",
       "\t 308989 & 18262 & 2018-11-21 & 2020-12-31\\\\\n",
       "\t 311524 & 13861 & 2013-04-18 & 2014-12-31\\\\\n",
       "\t 312009 & 89139 & 2015-12-31 & 2020-12-31\\\\\n",
       "\t 312079 & 15002 & 2014-10-22 & 2020-12-31\\\\\n",
       "\t 314536 & 18125 & 2018-09-28 & 2020-12-31\\\\\n",
       "\t 314866 & 14527 & 2014-03-26 & 2017-09-29\\\\\n",
       "\t 314917 & 18756 & 2019-06-26 & 2020-12-31\\\\\n",
       "\t 314996 & 16894 & 2017-08-03 & 2020-12-31\\\\\n",
       "\t 315258 & 17110 & 2017-11-10 & 2020-12-31\\\\\n",
       "\t 315318 & 14406 & 2014-01-23 & 2020-12-31\\\\\n",
       "\t 315629 & 16348 & 2016-11-01 & 2020-12-31\\\\\n",
       "\t 315639 & 15419 & 2015-06-19 & 2020-12-31\\\\\n",
       "\t 315887 & 14344 & 2013-12-12 & 2020-12-31\\\\\n",
       "\t 316056 & 14297 & 2013-12-02 & 2020-12-31\\\\\n",
       "\t 317260 & 14756 & 2014-06-12 & 2020-12-31\\\\\n",
       "\t 317264 & 14642 & 2014-05-08 & 2020-12-31\\\\\n",
       "\t 317427 & 15920 & 2016-01-12 & 2020-12-31\\\\\n",
       "\t 318005 & 16699 & 2017-05-18 & 2020-12-31\\\\\n",
       "\t 318728 & 16496 & 2016-12-09 & 2020-12-31\\\\\n",
       "\t 318815 & 15904 & 2015-12-07 & 2020-12-31\\\\\n",
       "\t 319507 & 16469 & 2016-11-18 & 2019-12-31\\\\\n",
       "\t 321467 & 19147 & 2019-12-04 & 2020-12-31\\\\\n",
       "\t 321764 & 18483 & 2019-04-24 & 2020-12-31\\\\\n",
       "\t 323308 & 18827 & 2019-07-31 & 2020-12-31\\\\\n",
       "\t 324684 & 17808 & 2018-05-31 & 2020-12-31\\\\\n",
       "\t 325211 & 18824 & 2019-07-26 & 2020-12-31\\\\\n",
       "\t 326688 & 17676 & 2018-05-02 & 2020-12-31\\\\\n",
       "\t 327451 & 17884 & 2018-06-18 & 2020-12-31\\\\\n",
       "\t 328032 & 18313 & 2018-12-10 & 2020-12-31\\\\\n",
       "\t 328795 & 18144 & 2018-11-01 & 2020-12-31\\\\\n",
       "\t 330227 & 18399 & 2019-02-11 & 2020-12-31\\\\\n",
       "\t 330942 & 18444 & 2019-03-13 & 2020-12-31\\\\\n",
       "\t 331856 & 14615 & 2019-04-15 & 2020-12-31\\\\\n",
       "\t 332115 & 80577 & 2019-05-10 & 2020-12-31\\\\\n",
       "\\end{tabular}\n"
      ],
      "text/markdown": [
       "\n",
       "A data.table: 17932 × 4\n",
       "\n",
       "| gvkey &lt;chr&gt; | lpermno &lt;dbl&gt; | linkdt &lt;date&gt; | linkenddt &lt;date&gt; |\n",
       "|---|---|---|---|\n",
       "| 001004 | 54594 | 1972-04-24 | 2020-12-31 |\n",
       "| 001013 | 50906 | 1979-03-16 | 2010-12-31 |\n",
       "| 001034 | 65832 | 1984-02-15 | 2008-12-29 |\n",
       "| 001036 | 65453 | 1983-12-06 | 2001-05-31 |\n",
       "| 001038 | 66413 | 1983-08-18 | 2004-12-31 |\n",
       "| 001043 | 80071 | 1993-12-06 | 2000-01-27 |\n",
       "| 001045 | 21020 | 1962-01-31 | 2012-01-04 |\n",
       "| 001050 | 11499 | 1980-11-28 | 2020-12-31 |\n",
       "| 001056 | 62500 | 1977-06-30 | 2007-08-31 |\n",
       "| 001062 | 26649 | 1965-01-29 | 2020-12-31 |\n",
       "| 001072 | 81912 | 1995-08-15 | 2020-12-31 |\n",
       "| 001075 | 27991 | 1962-01-31 | 2020-12-31 |\n",
       "| 001076 | 10517 | 1993-01-01 | 2010-11-30 |\n",
       "| 001078 | 20482 | 1962-01-31 | 2020-12-31 |\n",
       "| 001081 | 10560 | 1987-07-16 | 2007-10-26 |\n",
       "| 001082 | 10568 | 1982-06-29 | 2011-08-31 |\n",
       "| 001094 | 10656 | 1972-12-14 | 2019-10-02 |\n",
       "| 001095 | 10123 | 1989-09-07 | 2002-06-14 |\n",
       "| 001097 | 11647 | 1994-10-01 | 2004-12-03 |\n",
       "| 001099 | 63837 | 1972-12-14 | 2000-11-30 |\n",
       "| 001104 | 60038 | 1972-12-14 | 2020-12-31 |\n",
       "| 001109 | 85084 | 1986-09-22 | 2009-04-24 |\n",
       "| 001111 | 79678 | 1993-10-22 | 2008-07-09 |\n",
       "| 001115 | 10752 | 1979-12-05 | 2000-12-29 |\n",
       "| 001117 | 10779 | 1978-10-03 | 2003-05-07 |\n",
       "| 001119 | 10065 | 1982-01-29 | 2020-12-31 |\n",
       "| 001121 | 61487 | 1975-02-07 | 2020-12-31 |\n",
       "| 001148 | 64514 | 1980-11-21 | 2001-02-28 |\n",
       "| 001154 | 85164 | 1985-05-10 | 2003-12-23 |\n",
       "| 001161 | 61241 | 1972-12-14 | 2020-12-31 |\n",
       "| 001164 | 11042 | 1986-08-22 | 2002-07-29 |\n",
       "| 001166 | 11077 | 1981-05-12 | 2015-08-20 |\n",
       "| 001173 | 11157 | 1975-02-28 | 2013-06-28 |\n",
       "| 001177 | 46850 | 1968-09-24 | 2000-12-13 |\n",
       "| 001186 | 78223 | 1982-11-01 | 2020-12-31 |\n",
       "| 001203 | 61081 | 1973-01-31 | 2000-02-29 |\n",
       "| 001209 | 28222 | 1962-01-31 | 2020-12-31 |\n",
       "| 001210 | 11368 | 1984-04-23 | 2020-12-31 |\n",
       "| 001213 | 51721 | 1971-01-05 | 2003-08-15 |\n",
       "| 001228 | 11456 | 1990-04-23 | 2011-07-25 |\n",
       "| 001230 | 28804 | 1966-01-31 | 2020-12-31 |\n",
       "| 001234 | 11587 | 1972-12-14 | 2020-12-31 |\n",
       "| 001238 | 82233 | 1995-09-21 | 2002-04-05 |\n",
       "| 001239 | 42083 | 1965-06-11 | 2011-05-10 |\n",
       "| 001240 | 50032 | 1970-02-10 | 2006-06-30 |\n",
       "| 001243 | 24264 | 1962-01-31 | 2007-11-14 |\n",
       "| 001244 | 11624 | 1983-05-26 | 2004-07-30 |\n",
       "| 001246 | 48514 | 1969-06-16 | 2008-10-31 |\n",
       "| 001254 | 11691 | 1972-12-14 | 2020-12-31 |\n",
       "| 001257 | 49330 | 1969-10-07 | 2020-12-31 |\n",
       "| ... | ... | ... | ... |\n",
       "| 295786 | 14144 | 2013-09-30 | 2013-09-30 |\n",
       "| 295917 | 16914 | 2017-08-09 | 2020-12-31 |\n",
       "| 296318 | 13013 | 2011-10-06 | 2018-12-31 |\n",
       "| 296697 | 14132 | 2013-09-18 | 2020-12-31 |\n",
       "| 296753 | 13255 | 2012-02-02 | 2017-09-29 |\n",
       "| 296866 | 16179 | 2016-07-25 | 2020-12-31 |\n",
       "| 296885 | 13707 | 2012-12-27 | 2020-12-31 |\n",
       "| 296944 | 14417 | 2014-01-29 | 2018-07-03 |\n",
       "| 297094 | 15364 | 2015-05-12 | 2020-12-31 |\n",
       "| 297095 | 17258 | 2018-01-31 | 2020-12-31 |\n",
       "| 297209 | 13104 | 2011-11-11 | 2017-09-12 |\n",
       "| 297434 | 18054 | 2018-08-17 | 2020-12-31 |\n",
       "| 297507 | 16786 | 2017-06-15 | 2020-12-31 |\n",
       "| 297510 | 16161 | 2016-07-29 | 2020-12-31 |\n",
       "| 298036 | 85077 | 2018-07-24 | 2020-12-31 |\n",
       "| 300107 | 15971 | 2016-03-07 | 2020-12-31 |\n",
       "| 308989 | 18262 | 2018-11-21 | 2020-12-31 |\n",
       "| 311524 | 13861 | 2013-04-18 | 2014-12-31 |\n",
       "| 312009 | 89139 | 2015-12-31 | 2020-12-31 |\n",
       "| 312079 | 15002 | 2014-10-22 | 2020-12-31 |\n",
       "| 314536 | 18125 | 2018-09-28 | 2020-12-31 |\n",
       "| 314866 | 14527 | 2014-03-26 | 2017-09-29 |\n",
       "| 314917 | 18756 | 2019-06-26 | 2020-12-31 |\n",
       "| 314996 | 16894 | 2017-08-03 | 2020-12-31 |\n",
       "| 315258 | 17110 | 2017-11-10 | 2020-12-31 |\n",
       "| 315318 | 14406 | 2014-01-23 | 2020-12-31 |\n",
       "| 315629 | 16348 | 2016-11-01 | 2020-12-31 |\n",
       "| 315639 | 15419 | 2015-06-19 | 2020-12-31 |\n",
       "| 315887 | 14344 | 2013-12-12 | 2020-12-31 |\n",
       "| 316056 | 14297 | 2013-12-02 | 2020-12-31 |\n",
       "| 317260 | 14756 | 2014-06-12 | 2020-12-31 |\n",
       "| 317264 | 14642 | 2014-05-08 | 2020-12-31 |\n",
       "| 317427 | 15920 | 2016-01-12 | 2020-12-31 |\n",
       "| 318005 | 16699 | 2017-05-18 | 2020-12-31 |\n",
       "| 318728 | 16496 | 2016-12-09 | 2020-12-31 |\n",
       "| 318815 | 15904 | 2015-12-07 | 2020-12-31 |\n",
       "| 319507 | 16469 | 2016-11-18 | 2019-12-31 |\n",
       "| 321467 | 19147 | 2019-12-04 | 2020-12-31 |\n",
       "| 321764 | 18483 | 2019-04-24 | 2020-12-31 |\n",
       "| 323308 | 18827 | 2019-07-31 | 2020-12-31 |\n",
       "| 324684 | 17808 | 2018-05-31 | 2020-12-31 |\n",
       "| 325211 | 18824 | 2019-07-26 | 2020-12-31 |\n",
       "| 326688 | 17676 | 2018-05-02 | 2020-12-31 |\n",
       "| 327451 | 17884 | 2018-06-18 | 2020-12-31 |\n",
       "| 328032 | 18313 | 2018-12-10 | 2020-12-31 |\n",
       "| 328795 | 18144 | 2018-11-01 | 2020-12-31 |\n",
       "| 330227 | 18399 | 2019-02-11 | 2020-12-31 |\n",
       "| 330942 | 18444 | 2019-03-13 | 2020-12-31 |\n",
       "| 331856 | 14615 | 2019-04-15 | 2020-12-31 |\n",
       "| 332115 | 80577 | 2019-05-10 | 2020-12-31 |\n",
       "\n"
      ],
      "text/plain": [
       "      gvkey  lpermno linkdt     linkenddt \n",
       "1     001004 54594   1972-04-24 2020-12-31\n",
       "2     001013 50906   1979-03-16 2010-12-31\n",
       "3     001034 65832   1984-02-15 2008-12-29\n",
       "4     001036 65453   1983-12-06 2001-05-31\n",
       "5     001038 66413   1983-08-18 2004-12-31\n",
       "6     001043 80071   1993-12-06 2000-01-27\n",
       "7     001045 21020   1962-01-31 2012-01-04\n",
       "8     001050 11499   1980-11-28 2020-12-31\n",
       "9     001056 62500   1977-06-30 2007-08-31\n",
       "10    001062 26649   1965-01-29 2020-12-31\n",
       "11    001072 81912   1995-08-15 2020-12-31\n",
       "12    001075 27991   1962-01-31 2020-12-31\n",
       "13    001076 10517   1993-01-01 2010-11-30\n",
       "14    001078 20482   1962-01-31 2020-12-31\n",
       "15    001081 10560   1987-07-16 2007-10-26\n",
       "16    001082 10568   1982-06-29 2011-08-31\n",
       "17    001094 10656   1972-12-14 2019-10-02\n",
       "18    001095 10123   1989-09-07 2002-06-14\n",
       "19    001097 11647   1994-10-01 2004-12-03\n",
       "20    001099 63837   1972-12-14 2000-11-30\n",
       "21    001104 60038   1972-12-14 2020-12-31\n",
       "22    001109 85084   1986-09-22 2009-04-24\n",
       "23    001111 79678   1993-10-22 2008-07-09\n",
       "24    001115 10752   1979-12-05 2000-12-29\n",
       "25    001117 10779   1978-10-03 2003-05-07\n",
       "26    001119 10065   1982-01-29 2020-12-31\n",
       "27    001121 61487   1975-02-07 2020-12-31\n",
       "28    001148 64514   1980-11-21 2001-02-28\n",
       "29    001154 85164   1985-05-10 2003-12-23\n",
       "30    001161 61241   1972-12-14 2020-12-31\n",
       "31    001164 11042   1986-08-22 2002-07-29\n",
       "32    001166 11077   1981-05-12 2015-08-20\n",
       "33    001173 11157   1975-02-28 2013-06-28\n",
       "34    001177 46850   1968-09-24 2000-12-13\n",
       "35    001186 78223   1982-11-01 2020-12-31\n",
       "36    001203 61081   1973-01-31 2000-02-29\n",
       "37    001209 28222   1962-01-31 2020-12-31\n",
       "38    001210 11368   1984-04-23 2020-12-31\n",
       "39    001213 51721   1971-01-05 2003-08-15\n",
       "40    001228 11456   1990-04-23 2011-07-25\n",
       "41    001230 28804   1966-01-31 2020-12-31\n",
       "42    001234 11587   1972-12-14 2020-12-31\n",
       "43    001238 82233   1995-09-21 2002-04-05\n",
       "44    001239 42083   1965-06-11 2011-05-10\n",
       "45    001240 50032   1970-02-10 2006-06-30\n",
       "46    001243 24264   1962-01-31 2007-11-14\n",
       "47    001244 11624   1983-05-26 2004-07-30\n",
       "48    001246 48514   1969-06-16 2008-10-31\n",
       "49    001254 11691   1972-12-14 2020-12-31\n",
       "50    001257 49330   1969-10-07 2020-12-31\n",
       "...   ...    ...     ...        ...       \n",
       "17883 295786 14144   2013-09-30 2013-09-30\n",
       "17884 295917 16914   2017-08-09 2020-12-31\n",
       "17885 296318 13013   2011-10-06 2018-12-31\n",
       "17886 296697 14132   2013-09-18 2020-12-31\n",
       "17887 296753 13255   2012-02-02 2017-09-29\n",
       "17888 296866 16179   2016-07-25 2020-12-31\n",
       "17889 296885 13707   2012-12-27 2020-12-31\n",
       "17890 296944 14417   2014-01-29 2018-07-03\n",
       "17891 297094 15364   2015-05-12 2020-12-31\n",
       "17892 297095 17258   2018-01-31 2020-12-31\n",
       "17893 297209 13104   2011-11-11 2017-09-12\n",
       "17894 297434 18054   2018-08-17 2020-12-31\n",
       "17895 297507 16786   2017-06-15 2020-12-31\n",
       "17896 297510 16161   2016-07-29 2020-12-31\n",
       "17897 298036 85077   2018-07-24 2020-12-31\n",
       "17898 300107 15971   2016-03-07 2020-12-31\n",
       "17899 308989 18262   2018-11-21 2020-12-31\n",
       "17900 311524 13861   2013-04-18 2014-12-31\n",
       "17901 312009 89139   2015-12-31 2020-12-31\n",
       "17902 312079 15002   2014-10-22 2020-12-31\n",
       "17903 314536 18125   2018-09-28 2020-12-31\n",
       "17904 314866 14527   2014-03-26 2017-09-29\n",
       "17905 314917 18756   2019-06-26 2020-12-31\n",
       "17906 314996 16894   2017-08-03 2020-12-31\n",
       "17907 315258 17110   2017-11-10 2020-12-31\n",
       "17908 315318 14406   2014-01-23 2020-12-31\n",
       "17909 315629 16348   2016-11-01 2020-12-31\n",
       "17910 315639 15419   2015-06-19 2020-12-31\n",
       "17911 315887 14344   2013-12-12 2020-12-31\n",
       "17912 316056 14297   2013-12-02 2020-12-31\n",
       "17913 317260 14756   2014-06-12 2020-12-31\n",
       "17914 317264 14642   2014-05-08 2020-12-31\n",
       "17915 317427 15920   2016-01-12 2020-12-31\n",
       "17916 318005 16699   2017-05-18 2020-12-31\n",
       "17917 318728 16496   2016-12-09 2020-12-31\n",
       "17918 318815 15904   2015-12-07 2020-12-31\n",
       "17919 319507 16469   2016-11-18 2019-12-31\n",
       "17920 321467 19147   2019-12-04 2020-12-31\n",
       "17921 321764 18483   2019-04-24 2020-12-31\n",
       "17922 323308 18827   2019-07-31 2020-12-31\n",
       "17923 324684 17808   2018-05-31 2020-12-31\n",
       "17924 325211 18824   2019-07-26 2020-12-31\n",
       "17925 326688 17676   2018-05-02 2020-12-31\n",
       "17926 327451 17884   2018-06-18 2020-12-31\n",
       "17927 328032 18313   2018-12-10 2020-12-31\n",
       "17928 328795 18144   2018-11-01 2020-12-31\n",
       "17929 330227 18399   2019-02-11 2020-12-31\n",
       "17930 330942 18444   2019-03-13 2020-12-31\n",
       "17931 331856 14615   2019-04-15 2020-12-31\n",
       "17932 332115 80577   2019-05-10 2020-12-31"
      ]
     },
     "metadata": {},
     "output_type": "display_data"
    }
   ],
   "source": [
    "gvkey_permno_link"
   ]
  },
  {
   "cell_type": "code",
   "execution_count": 264,
   "metadata": {},
   "outputs": [],
   "source": [
    "event_samples = ciq_wrds_keydev[gvkey_permno_link, on=.(gvkey), nomatch=0\n",
    "    ][as.Date(mostimportantdateutc)>linkdt & as.Date(mostimportantdateutc)<linkenddt\n",
    "    ][as.Date(mostimportantdateutc) >= as.Date('2000-01-01')\n",
    "    ][gvkey %in% sp500_cst[, unique(gvkey)]\n",
    "    ][, ':='(linkdt=NULL, linkenddt=NULL)]"
   ]
  },
  {
   "cell_type": "markdown",
   "metadata": {},
   "source": [
    "Then we generate two event samples:\n",
    "- `event_samples_earnings_call`: the earnings CALL (type 48)\n",
    "- `event_samples_earnings_announce`: the earnings announcement (type28)"
   ]
  },
  {
   "cell_type": "code",
   "execution_count": 31,
   "metadata": {},
   "outputs": [],
   "source": [
    "event_samples_test = event_samples[\n",
    "      mostimportantdateutc>ymd('2019-01-01')\n",
    "    ][keydeveventtypeid==48,\n",
    "     .(permno=lpermno, edate=format(mostimportantdateutc, '%m/%d/%Y'))\n",
    "    ][order(permno, edate)\n",
    "    ] %>% unique()\n",
    "\n",
    "toJSON(event_samples_test, pretty=T) %>% write('data/car/event_samples_test.json')"
   ]
  },
  {
   "cell_type": "code",
   "execution_count": 32,
   "metadata": {},
   "outputs": [],
   "source": [
    "event_samples_earnings_call = event_samples[keydeveventtypeid==48,\n",
    "     .(permno=lpermno, edate=format(mostimportantdateutc, '%m/%d/%Y'))\n",
    "    ][order(permno, edate)] %>% unique()\n",
    "\n",
    "toJSON(event_samples_earnings_call, pretty=T) %>% write('data/car/event_samples_earnings_call.json')\n",
    "\n",
    "event_samples_earnings_announce = event_samples[keydeveventtypeid==28,\n",
    "     .(permno=lpermno, edate=format(mostimportantdateutc, '%m/%d/%Y'))\n",
    "    ][order(permno, edate)] %>% unique()\n",
    "\n",
    "toJSON(event_samples_earnings_announce, pretty=T) %>% write('data/car/event_samples_earnings_announce.json')"
   ]
  },
  {
   "cell_type": "markdown",
   "metadata": {},
   "source": [
    "### ==>"
   ]
  },
  {
   "cell_type": "markdown",
   "metadata": {},
   "source": [
    "> The ret/car are also in *decimals*\n",
    "\n",
    "Output these variabls:\n",
    "- `CAR[-1,-1]`\n",
    "- `CAR[-2,-2]`\n",
    "- `CAR[-30,-3]`\n",
    "- `CAR[0,1]`\n",
    "- `CAR[0,30]`\n",
    "- `alpha[-125,-31]`\n",
    "- `volatility[-125, -31]`"
   ]
  },
  {
   "cell_type": "code",
   "execution_count": 153,
   "metadata": {
    "scrolled": true
   },
   "outputs": [
    {
     "data": {
      "text/html": [
       "<table>\n",
       "<caption>A data.table: 1 × 22</caption>\n",
       "<thead>\n",
       "\t<tr><th scope=col>permno</th><th scope=col>edate</th><th scope=col>car_m1_m1</th><th scope=col>car_m2_m2</th><th scope=col>car_m30_m3</th><th scope=col>car_0_1</th><th scope=col>car_0_10</th><th scope=col>car_0_20</th><th scope=col>car_0_30</th><th scope=col>ret_m30_m3</th><th scope=col>ret_m2_m2</th><th scope=col>ret_m1_m1</th><th scope=col>ret_0_1</th><th scope=col>ret_0_10</th><th scope=col>ret_0_20</th><th scope=col>ret_0_30</th><th scope=col>alpha</th><th scope=col>beta_mktrf</th><th scope=col>beta_smb</th><th scope=col>beta_hml</th><th scope=col>volatility</th><th scope=col>volatility2</th></tr>\n",
       "\t<tr><th scope=col>&lt;chr&gt;</th><th scope=col>&lt;date&gt;</th><th scope=col>&lt;dbl&gt;</th><th scope=col>&lt;dbl&gt;</th><th scope=col>&lt;dbl&gt;</th><th scope=col>&lt;dbl&gt;</th><th scope=col>&lt;dbl&gt;</th><th scope=col>&lt;dbl&gt;</th><th scope=col>&lt;dbl&gt;</th><th scope=col>&lt;dbl&gt;</th><th scope=col>&lt;dbl&gt;</th><th scope=col>&lt;dbl&gt;</th><th scope=col>&lt;dbl&gt;</th><th scope=col>&lt;dbl&gt;</th><th scope=col>&lt;dbl&gt;</th><th scope=col>&lt;dbl&gt;</th><th scope=col>&lt;dbl&gt;</th><th scope=col>&lt;dbl&gt;</th><th scope=col>&lt;dbl&gt;</th><th scope=col>&lt;dbl&gt;</th><th scope=col>&lt;dbl&gt;</th><th scope=col>&lt;dbl&gt;</th></tr>\n",
       "</thead>\n",
       "<tbody>\n",
       "\t<tr><td>10078</td><td>2004-10-15</td><td>-0.003817367</td><td>0.004315403</td><td>-0.00785148</td><td>-0.01034447</td><td>0.07986508</td><td>0.06859604</td><td>0.16199</td><td>0.05167966</td><td>-0.01228506</td><td>-0.0124378</td><td>0</td><td>0.1335013</td><td>0.2241814</td><td>0.3879094</td><td>-0.0003937242</td><td>1.339511</td><td>2.318787</td><td>-0.5911424</td><td>0.0332523</td><td>0.03211976</td></tr>\n",
       "</tbody>\n",
       "</table>\n"
      ],
      "text/latex": [
       "A data.table: 1 × 22\n",
       "\\begin{tabular}{llllllllllllllllllllll}\n",
       " permno & edate & car\\_m1\\_m1 & car\\_m2\\_m2 & car\\_m30\\_m3 & car\\_0\\_1 & car\\_0\\_10 & car\\_0\\_20 & car\\_0\\_30 & ret\\_m30\\_m3 & ret\\_m2\\_m2 & ret\\_m1\\_m1 & ret\\_0\\_1 & ret\\_0\\_10 & ret\\_0\\_20 & ret\\_0\\_30 & alpha & beta\\_mktrf & beta\\_smb & beta\\_hml & volatility & volatility2\\\\\n",
       " <chr> & <date> & <dbl> & <dbl> & <dbl> & <dbl> & <dbl> & <dbl> & <dbl> & <dbl> & <dbl> & <dbl> & <dbl> & <dbl> & <dbl> & <dbl> & <dbl> & <dbl> & <dbl> & <dbl> & <dbl> & <dbl>\\\\\n",
       "\\hline\n",
       "\t 10078 & 2004-10-15 & -0.003817367 & 0.004315403 & -0.00785148 & -0.01034447 & 0.07986508 & 0.06859604 & 0.16199 & 0.05167966 & -0.01228506 & -0.0124378 & 0 & 0.1335013 & 0.2241814 & 0.3879094 & -0.0003937242 & 1.339511 & 2.318787 & -0.5911424 & 0.0332523 & 0.03211976\\\\\n",
       "\\end{tabular}\n"
      ],
      "text/markdown": [
       "\n",
       "A data.table: 1 × 22\n",
       "\n",
       "| permno &lt;chr&gt; | edate &lt;date&gt; | car_m1_m1 &lt;dbl&gt; | car_m2_m2 &lt;dbl&gt; | car_m30_m3 &lt;dbl&gt; | car_0_1 &lt;dbl&gt; | car_0_10 &lt;dbl&gt; | car_0_20 &lt;dbl&gt; | car_0_30 &lt;dbl&gt; | ret_m30_m3 &lt;dbl&gt; | ret_m2_m2 &lt;dbl&gt; | ret_m1_m1 &lt;dbl&gt; | ret_0_1 &lt;dbl&gt; | ret_0_10 &lt;dbl&gt; | ret_0_20 &lt;dbl&gt; | ret_0_30 &lt;dbl&gt; | alpha &lt;dbl&gt; | beta_mktrf &lt;dbl&gt; | beta_smb &lt;dbl&gt; | beta_hml &lt;dbl&gt; | volatility &lt;dbl&gt; | volatility2 &lt;dbl&gt; |\n",
       "|---|---|---|---|---|---|---|---|---|---|---|---|---|---|---|---|---|---|---|---|---|---|\n",
       "| 10078 | 2004-10-15 | -0.003817367 | 0.004315403 | -0.00785148 | -0.01034447 | 0.07986508 | 0.06859604 | 0.16199 | 0.05167966 | -0.01228506 | -0.0124378 | 0 | 0.1335013 | 0.2241814 | 0.3879094 | -0.0003937242 | 1.339511 | 2.318787 | -0.5911424 | 0.0332523 | 0.03211976 |\n",
       "\n"
      ],
      "text/plain": [
       "  permno edate      car_m1_m1    car_m2_m2   car_m30_m3  car_0_1     car_0_10  \n",
       "1 10078  2004-10-15 -0.003817367 0.004315403 -0.00785148 -0.01034447 0.07986508\n",
       "  car_0_20   car_0_30 ret_m30_m3 ret_m2_m2   ret_m1_m1  ret_0_1 ret_0_10 \n",
       "1 0.06859604 0.16199  0.05167966 -0.01228506 -0.0124378 0       0.1335013\n",
       "  ret_0_20  ret_0_30  alpha         beta_mktrf beta_smb beta_hml   volatility\n",
       "1 0.2241814 0.3879094 -0.0003937242 1.339511   2.318787 -0.5911424 0.0332523 \n",
       "  volatility2\n",
       "1 0.03211976 "
      ]
     },
     "metadata": {},
     "output_type": "display_data"
    },
    {
     "name": "stdout",
     "output_type": "stream",
     "text": [
      "-car- saved  (0.41 secs)\n"
     ]
    }
   ],
   "source": [
    "car = fread('./data/CAR/cars_30d_call.csv', colClass=c('integer', rep('character', times=3), 'integer', rep('double', times=7)))[,\n",
    "      ':='(edate=ymd(edate), rdate=ymd(rdate))\n",
    "    ][order(permno, edate, rdate)\n",
    "    ][, .(car_m1_m1=abret[isevt==1 & evttime==-1],\n",
    "          car_m2_m2=abret[isevt==1 & evttime==-2],\n",
    "          car_m30_m3=sum(abret[isevt==1 & evttime %between% c(-30,-3)], na.rm=T),\n",
    "          \n",
    "          car_0_1=sum(abret[isevt==1 & evttime %between% c(0,1)], na.rm=T),\n",
    "          car_0_10=sum(abret[isevt==1 & evttime %between% c(0,10)], na.rm=T),\n",
    "          car_0_20=sum(abret[isevt==1 & evttime %between% c(0,20)], na.rm=T),\n",
    "          car_0_30=sum(abret[isevt==1 & evttime %between% c(0,30)], na.rm=T),\n",
    "          \n",
    "          ret_m30_m3=prod(1+ret[isevt==1 & evttime %between% c(-30, -3)], na.rm=T)-1,\n",
    "          ret_m2_m2=prod(1+ret[isevt==1 & evttime==-2], na.rm=T)-1,\n",
    "          ret_m1_m1=prod(1+ret[isevt==1 & evttime==-1], na.rm=T)-1,\n",
    "          \n",
    "          ret_0_1=ret[isevt==1 & evttime %between% c(0,1)],\n",
    "          ret_0_10=prod(1+ret[isevt==1 & evttime %between% c(0,10)], na.rm=T)-1,\n",
    "          ret_0_20=prod(1+ret[isevt==1 & evttime %between% c(0,20)], na.rm=T)-1,\n",
    "          ret_0_30=prod(1+ret[isevt==1 & evttime %between% c(0,30)], na.rm=T)-1,\n",
    "          \n",
    "          alpha=alpha[isevt==1 & evttime==0],\n",
    "          beta_mktrf=beta_mktrf[isevt==1 & evttime==0],\n",
    "          beta_smb=beta_smb[isevt==1 & evttime==0],\n",
    "          beta_hml=beta_hml[isevt==1 & evttime==0],\n",
    "          volatility=sd(ret[isevt==0], na.rm=T), # sd(ret[-125,-1])\n",
    "          volatility2=sd(ret[isevt==0 & evttime %between% c(95, 125)], na.rm=T)), # sd(ret[-30,-1])\n",
    "      keyby=.(permno, edate)]\n",
    "\n",
    "car[1]\n",
    "sv(car)"
   ]
  },
  {
   "cell_type": "markdown",
   "metadata": {},
   "source": [
    "# X (transcripts)"
   ]
  },
  {
   "cell_type": "markdown",
   "metadata": {},
   "source": [
    "## `ciq_transcript_detail`"
   ]
  },
  {
   "cell_type": "markdown",
   "metadata": {},
   "source": [
    "Task:\n",
    "- Check if there are unknown `transcriptcollectiontypeid`"
   ]
  },
  {
   "cell_type": "code",
   "execution_count": 209,
   "metadata": {},
   "outputs": [
    {
     "name": "stdout",
     "output_type": "stream",
     "text": [
      "-sp500_cst- already exists, will NOT load again!  (0 secs)\n",
      "-call_release_link- already exists, will NOT load again!  (0 secs)\n",
      "-gvkey_permno_link- already exists, will NOT load again!  (0 secs)\n",
      "-ciq_transcript_detail- already exists, will NOT load again!  (0 secs)\n",
      "-ciq_transcript_component- already exists, will NOT load again!  (0 secs)\n",
      "-ciq_wrds_gvkey- already exists, will NOT load again!  (0 secs)\n"
     ]
    }
   ],
   "source": [
    "ld(sp500_cst)\n",
    "ld(call_release_link)\n",
    "ld(gvkey_permno_link)\n",
    "ld(ciq_transcript_detail, path=WRDS_DOWNLOAD_DIR)\n",
    "ld(ciq_transcript_component, path=WRDS_DOWNLOAD_DIR)\n",
    "ld(ciq_wrds_gvkey, path=WRDS_DOWNLOAD_DIR)"
   ]
  },
  {
   "cell_type": "code",
   "execution_count": 210,
   "metadata": {
    "scrolled": true
   },
   "outputs": [
    {
     "name": "stdout",
     "output_type": "stream",
     "text": [
      "All `transcriptcollectiontypeid` are known"
     ]
    }
   ],
   "source": [
    "version_in_data = ciq_transcript_detail[, unique(transcriptcollectiontypeid)]\n",
    "if (sum(!(version_in_data %in% c(8, 1, 2, 7, 11, 10, 6, 9, 13))) > 0) {\n",
    "    cat('Unknown `transcriptcollectiontypeid` in data!!!')\n",
    "} else {cat('All `transcriptcollectiontypeid` are known')}"
   ]
  },
  {
   "cell_type": "markdown",
   "metadata": {},
   "source": [
    "Task 1: For every `keydevid`, select one `transcriptid` (which believed to be most precise)\n",
    "- Check: priority order of \"audited > proofed > edited > spellchecked\"\n",
    "- We only analyze SP500\n",
    "\n",
    "\n",
    "Task 2: \n",
    "- Add `ciq_wrds_gvkey:gvkey` to `ciq_transcript_detail`\n",
    "  - merge `ciq_wrds_gvkey` and `ciq_transcript_detail_sp500` by `companyid`\n",
    "  - one `companyid` may corresp to multiple `gvkey`, we kee ALL the matches\n",
    "\n",
    "Task 3: \n",
    "- Add `size`, `bw_adj`, and `mom` from `dgtw` to `ciq_transcript_detail_sp500`\n",
    "\n",
    "Warnings:\n",
    "> In the final `f_ciq_transcript_detail_sp500`:\n",
    ">   - `transcriptid` and `keydevid` are one-to-one mapped\n",
    ">   - unique keys: `['transcriptid', 'gvkey']` or `['keydevid', 'gvkey']`\n",
    ">   - n_row: 35593\n",
    ">   - unique_n_row: 35077"
   ]
  },
  {
   "cell_type": "code",
   "execution_count": 211,
   "metadata": {
    "scrolled": true
   },
   "outputs": [
    {
     "data": {
      "text/html": [
       "35593"
      ],
      "text/latex": [
       "35593"
      ],
      "text/markdown": [
       "35593"
      ],
      "text/plain": [
       "[1] 35593"
      ]
     },
     "metadata": {},
     "output_type": "display_data"
    },
    {
     "data": {
      "text/html": [
       "<table>\n",
       "<caption>A data.table: 1 × 20</caption>\n",
       "<thead>\n",
       "\t<tr><th scope=col>keydevid</th><th scope=col>companyid</th><th scope=col>transcriptid</th><th scope=col>headline</th><th scope=col>mostimportantdateutc</th><th scope=col>keydeveventtypeid</th><th scope=col>keydeveventtypename</th><th scope=col>companyname</th><th scope=col>transcriptcollectiontypeid</th><th scope=col>transcriptcollectiontypename</th><th scope=col>transcriptpresentationtypeid</th><th scope=col>transcriptpresentationtypename</th><th scope=col>transcriptcreationdate_utc</th><th scope=col>transcriptcreationtime_utc</th><th scope=col>audiolengthsec</th><th scope=col>isdelayed_flag</th><th scope=col>delayreasontypeid</th><th scope=col>delayreasontypename</th><th scope=col>latest_transcript_version</th><th scope=col>gvkey</th></tr>\n",
       "\t<tr><th scope=col>&lt;dbl&gt;</th><th scope=col>&lt;dbl&gt;</th><th scope=col>&lt;dbl&gt;</th><th scope=col>&lt;chr&gt;</th><th scope=col>&lt;date&gt;</th><th scope=col>&lt;dbl&gt;</th><th scope=col>&lt;chr&gt;</th><th scope=col>&lt;chr&gt;</th><th scope=col>&lt;dbl&gt;</th><th scope=col>&lt;chr&gt;</th><th scope=col>&lt;dbl&gt;</th><th scope=col>&lt;chr&gt;</th><th scope=col>&lt;date&gt;</th><th scope=col>&lt;dbl&gt;</th><th scope=col>&lt;dbl&gt;</th><th scope=col>&lt;dbl&gt;</th><th scope=col>&lt;dbl&gt;</th><th scope=col>&lt;chr&gt;</th><th scope=col>&lt;dbl&gt;</th><th scope=col>&lt;chr&gt;</th></tr>\n",
       "</thead>\n",
       "<tbody>\n",
       "\t<tr><td>4855823</td><td>18671</td><td>504</td><td>Albemarle Corp., Q3 2007 Earnings Call, Oct-23-2007</td><td>2007-10-23</td><td>48</td><td>Earnings Calls</td><td>Albemarle Corporation</td><td>6</td><td>SA Edited Copy</td><td>5</td><td>Final</td><td>2008-06-20</td><td>1898</td><td>NA</td><td>0</td><td>NA</td><td>NA</td><td>6</td><td>029751</td></tr>\n",
       "</tbody>\n",
       "</table>\n"
      ],
      "text/latex": [
       "A data.table: 1 × 20\n",
       "\\begin{tabular}{llllllllllllllllllll}\n",
       " keydevid & companyid & transcriptid & headline & mostimportantdateutc & keydeveventtypeid & keydeveventtypename & companyname & transcriptcollectiontypeid & transcriptcollectiontypename & transcriptpresentationtypeid & transcriptpresentationtypename & transcriptcreationdate\\_utc & transcriptcreationtime\\_utc & audiolengthsec & isdelayed\\_flag & delayreasontypeid & delayreasontypename & latest\\_transcript\\_version & gvkey\\\\\n",
       " <dbl> & <dbl> & <dbl> & <chr> & <date> & <dbl> & <chr> & <chr> & <dbl> & <chr> & <dbl> & <chr> & <date> & <dbl> & <dbl> & <dbl> & <dbl> & <chr> & <dbl> & <chr>\\\\\n",
       "\\hline\n",
       "\t 4855823 & 18671 & 504 & Albemarle Corp., Q3 2007 Earnings Call, Oct-23-2007 & 2007-10-23 & 48 & Earnings Calls & Albemarle Corporation & 6 & SA Edited Copy & 5 & Final & 2008-06-20 & 1898 & NA & 0 & NA & NA & 6 & 029751\\\\\n",
       "\\end{tabular}\n"
      ],
      "text/markdown": [
       "\n",
       "A data.table: 1 × 20\n",
       "\n",
       "| keydevid &lt;dbl&gt; | companyid &lt;dbl&gt; | transcriptid &lt;dbl&gt; | headline &lt;chr&gt; | mostimportantdateutc &lt;date&gt; | keydeveventtypeid &lt;dbl&gt; | keydeveventtypename &lt;chr&gt; | companyname &lt;chr&gt; | transcriptcollectiontypeid &lt;dbl&gt; | transcriptcollectiontypename &lt;chr&gt; | transcriptpresentationtypeid &lt;dbl&gt; | transcriptpresentationtypename &lt;chr&gt; | transcriptcreationdate_utc &lt;date&gt; | transcriptcreationtime_utc &lt;dbl&gt; | audiolengthsec &lt;dbl&gt; | isdelayed_flag &lt;dbl&gt; | delayreasontypeid &lt;dbl&gt; | delayreasontypename &lt;chr&gt; | latest_transcript_version &lt;dbl&gt; | gvkey &lt;chr&gt; |\n",
       "|---|---|---|---|---|---|---|---|---|---|---|---|---|---|---|---|---|---|---|---|\n",
       "| 4855823 | 18671 | 504 | Albemarle Corp., Q3 2007 Earnings Call, Oct-23-2007 | 2007-10-23 | 48 | Earnings Calls | Albemarle Corporation | 6 | SA Edited Copy | 5 | Final | 2008-06-20 | 1898 | NA | 0 | NA | NA | 6 | 029751 |\n",
       "\n"
      ],
      "text/plain": [
       "  keydevid companyid transcriptid\n",
       "1 4855823  18671     504         \n",
       "  headline                                            mostimportantdateutc\n",
       "1 Albemarle Corp., Q3 2007 Earnings Call, Oct-23-2007 2007-10-23          \n",
       "  keydeveventtypeid keydeveventtypename companyname          \n",
       "1 48                Earnings Calls      Albemarle Corporation\n",
       "  transcriptcollectiontypeid transcriptcollectiontypename\n",
       "1 6                          SA Edited Copy              \n",
       "  transcriptpresentationtypeid transcriptpresentationtypename\n",
       "1 5                            Final                         \n",
       "  transcriptcreationdate_utc transcriptcreationtime_utc audiolengthsec\n",
       "1 2008-06-20                 1898                       NA            \n",
       "  isdelayed_flag delayreasontypeid delayreasontypename\n",
       "1 0              NA                NA                 \n",
       "  latest_transcript_version gvkey \n",
       "1 6                         029751"
      ]
     },
     "metadata": {},
     "output_type": "display_data"
    },
    {
     "name": "stdout",
     "output_type": "stream",
     "text": [
      "-f_ciq_transcript_detail_sp500- saved  (0.23 secs)\n"
     ]
    }
   ],
   "source": [
    "latest_transcriptcollectiontypeid = ciq_transcript_detail[\n",
    "     (keydeveventtypeid==48) & \n",
    "     (companyid %in% ciq_wrds_gvkey[gvkey %in% sp500_cst$gvkey, companyid])\n",
    "    ][, { \n",
    "      latest_transcript_version = NA_real_\n",
    "      for (tid in c(8, 1, 2, 7)) {\n",
    "         if (tid %in% transcriptcollectiontypeid) {\n",
    "             latest_transcript_version = tid\n",
    "             break\n",
    "         } else { \n",
    "         for (tid in c(11, 10, 6, 9, 13)) {\n",
    "             if (tid %in% transcriptcollectiontypeid) {\n",
    "                 latest_transcript_version = tid \n",
    "                 break\n",
    "             }\n",
    "         }}\n",
    "      } \n",
    "      list(latest_transcript_version=latest_transcript_version)  \n",
    "      }, \n",
    "      keyby=.(keydevid)]\n",
    "\n",
    "f_ciq_transcript_detail_sp500 = ciq_transcript_detail[     \n",
    "     (keydeveventtypeid==48) & \n",
    "     (companyid %in% ciq_wrds_gvkey[gvkey %in% sp500_cst$gvkey, companyid])\n",
    "    ][latest_transcriptcollectiontypeid, on=.(keydevid), nomatch=0\n",
    "    ][transcriptcollectiontypeid==latest_transcript_version\n",
    "    ][order(keydevid, -transcriptcreationdate_utc, -transcriptcreationtime_utc)\n",
    "    ][, .SD[1],\n",
    "      keyby=.(keydevid)\n",
    "    ][unique(ciq_wrds_gvkey[, .(companyid, gvkey)], by=c('companyid', 'gvkey')),\n",
    "      on=.(companyid),\n",
    "      nomatch=0\n",
    "    ] %>% unique()\n",
    "\n",
    "f_ciq_transcript_detail_sp500[, .N]\n",
    "f_ciq_transcript_detail_sp500[1]\n",
    "sv(f_ciq_transcript_detail_sp500)"
   ]
  },
  {
   "cell_type": "markdown",
   "metadata": {},
   "source": [
    "Task:\n",
    "- check All `f_ciq_transcript_detail_sp500:transcriptid` are identified in `ciq_transcript_component:transcriptid`"
   ]
  },
  {
   "cell_type": "code",
   "execution_count": 213,
   "metadata": {},
   "outputs": [
    {
     "name": "stdout",
     "output_type": "stream",
     "text": [
      "All `f_ciq_transcript_detail_sp500:transcriptid` are identified in `ciq_transcript_component:transcriptid`"
     ]
    }
   ],
   "source": [
    "if (sum(f_ciq_transcript_detail_sp500[, transcriptid] %in% ciq_transcript_component[, unique(transcriptid)]) == nrow(f_ciq_transcript_detail_sp500)) {\n",
    "    cat('All `f_ciq_transcript_detail_sp500:transcriptid` are identified in `ciq_transcript_component:transcriptid`')\n",
    "} else {cat('Unknown `transcriptid` found in f_ciq_transcript_detail_sp500')}"
   ]
  },
  {
   "cell_type": "markdown",
   "metadata": {},
   "source": [
    "## `ciq_transcript_component`"
   ]
  },
  {
   "cell_type": "markdown",
   "metadata": {},
   "source": [
    "Task:\n",
    "> - Select obs in `ciq_transcript_component` where `ciq_transcript_component:transcriptid` in `f_ciq_transcript_detail_sp500:transcriptid`\n",
    "> - Save results to `f_ciq_transcript_component_sp500`"
   ]
  },
  {
   "cell_type": "code",
   "execution_count": 214,
   "metadata": {},
   "outputs": [
    {
     "name": "stdout",
     "output_type": "stream",
     "text": [
      "-ciq_transcript_component- already exists, will NOT load again!  (0 secs)\n",
      "-f_ciq_transcript_detail_sp500- already exists, will NOT load again!  (0 secs)\n"
     ]
    }
   ],
   "source": [
    "ld(ciq_transcript_component, path=WRDS_DOWNLOAD_DIR)\n",
    "ld(f_ciq_transcript_detail_sp500)"
   ]
  },
  {
   "cell_type": "code",
   "execution_count": 112,
   "metadata": {},
   "outputs": [],
   "source": [
    "f_ciq_transcript_component_sp500 = ciq_transcript_component[\n",
    "     transcriptid %in% f_ciq_transcript_detail_sp500$transcriptid\n",
    "    ][order(transcriptid, componentorder)]"
   ]
  },
  {
   "cell_type": "code",
   "execution_count": 113,
   "metadata": {},
   "outputs": [
    {
     "name": "stdout",
     "output_type": "stream",
     "text": [
      "-f_ciq_transcript_component_sp500- saved  (1.48 mins)\n"
     ]
    }
   ],
   "source": [
    "sv(f_ciq_transcript_component_sp500)"
   ]
  },
  {
   "cell_type": "code",
   "execution_count": 12,
   "metadata": {},
   "outputs": [
    {
     "data": {
      "text/html": [
       "2737936"
      ],
      "text/latex": [
       "2737936"
      ],
      "text/markdown": [
       "2737936"
      ],
      "text/plain": [
       "[1] 2737936"
      ]
     },
     "metadata": {},
     "output_type": "display_data"
    },
    {
     "data": {
      "text/html": [
       "2737936"
      ],
      "text/latex": [
       "2737936"
      ],
      "text/markdown": [
       "2737936"
      ],
      "text/plain": [
       "[1] 2737936"
      ]
     },
     "metadata": {},
     "output_type": "display_data"
    }
   ],
   "source": [
    "f_ciq_transcript_component_sp500[, .N]\n",
    "f_ciq_transcript_component_sp500[, uniqueN(transcriptcomponentid)]"
   ]
  },
  {
   "cell_type": "code",
   "execution_count": 10,
   "metadata": {},
   "outputs": [],
   "source": [
    "# write component to disk for Python to sentencize\n",
    "write_feather(f_ciq_transcript_component_sp500, 'f_ciq_transcript_component_sp500.feather')"
   ]
  },
  {
   "cell_type": "markdown",
   "metadata": {},
   "source": [
    "## `detail`+`components`"
   ]
  },
  {
   "cell_type": "markdown",
   "metadata": {},
   "source": [
    "Task\n",
    "- We output five types of X:\n",
    "    - all\n",
    "    - presentation\n",
    "    - question\n",
    "    - answer\n",
    "    - question and answer"
   ]
  },
  {
   "cell_type": "code",
   "execution_count": 215,
   "metadata": {},
   "outputs": [
    {
     "name": "stdout",
     "output_type": "stream",
     "text": [
      "-f_ciq_transcript_component_sp500- already exists, will NOT load again!  (0 secs)\n",
      "-ciq_transcript_speaker- already exists, will NOT load again!  (0 secs)\n"
     ]
    }
   ],
   "source": [
    "ld(f_ciq_transcript_component_sp500)\n",
    "ld(ciq_transcript_speaker, path=WRDS_DOWNLOAD_DIR)"
   ]
  },
  {
   "cell_type": "code",
   "execution_count": 119,
   "metadata": {},
   "outputs": [
    {
     "name": "stdout",
     "output_type": "stream",
     "text": [
      "-x_all- saved  (1.32 mins)\n"
     ]
    }
   ],
   "source": [
    "x_all = f_ciq_transcript_component_sp500[order(transcriptid, componentorder)\n",
    "    ][transcriptcomponentid %in% ciq_transcript_speaker[transcriptcomponenttypeid %in% c(2,3,4) & speakertypeid %in% c(2,3), unique(transcriptcomponentid)],\n",
    "      .(text=str_c(componenttext, collapse=' ')),\n",
    "      keyby=.(transcriptid)]\n",
    "\n",
    "sv(x_all)"
   ]
  },
  {
   "cell_type": "code",
   "execution_count": 120,
   "metadata": {},
   "outputs": [
    {
     "name": "stdout",
     "output_type": "stream",
     "text": [
      "-x_present- saved  (32.07 secs)\n"
     ]
    }
   ],
   "source": [
    "x_present = f_ciq_transcript_component_sp500[order(transcriptid, componentorder)\n",
    "    ][transcriptcomponentid %in% ciq_transcript_speaker[transcriptcomponenttypeid==2 & speakertypeid==2, unique(transcriptcomponentid)],\n",
    "      .(text=str_c(componenttext, collapse=' ')),\n",
    "      keyby=.(transcriptid)]\n",
    "\n",
    "sv(x_present)"
   ]
  },
  {
   "cell_type": "code",
   "execution_count": 121,
   "metadata": {},
   "outputs": [
    {
     "name": "stdout",
     "output_type": "stream",
     "text": [
      "-x_ques- saved  (12.92 secs)\n"
     ]
    }
   ],
   "source": [
    "x_ques = f_ciq_transcript_component_sp500[order(transcriptid, componentorder)\n",
    "    ][transcriptcomponentid %in% ciq_transcript_speaker[transcriptcomponenttypeid %in% c(3) & speakertypeid %in% c(2,3), unique(transcriptcomponentid)],\n",
    "      .(text=str_c(componenttext, collapse=' ')),\n",
    "      keyby=.(transcriptid)]\n",
    "\n",
    "sv(x_ques)"
   ]
  },
  {
   "cell_type": "code",
   "execution_count": 122,
   "metadata": {},
   "outputs": [
    {
     "name": "stdout",
     "output_type": "stream",
     "text": [
      "-x_ans- saved  (34.51 secs)\n"
     ]
    }
   ],
   "source": [
    "x_ans = f_ciq_transcript_component_sp500[order(transcriptid, componentorder)\n",
    "    ][transcriptcomponentid %in% ciq_transcript_speaker[transcriptcomponenttypeid==4 & speakertypeid==2, unique(transcriptcomponentid)],\n",
    "      .(text=str_c(componenttext, collapse=' ')),\n",
    "      keyby=.(transcriptid)]\n",
    "\n",
    "sv(x_ans)"
   ]
  },
  {
   "cell_type": "code",
   "execution_count": 123,
   "metadata": {},
   "outputs": [
    {
     "name": "stdout",
     "output_type": "stream",
     "text": [
      "-x_qa- saved  (47.76 secs)\n"
     ]
    }
   ],
   "source": [
    "x_qa = f_ciq_transcript_component_sp500[order(transcriptid, componentorder)\n",
    "    ][transcriptcomponentid %in% ciq_transcript_speaker[transcriptcomponenttypeid %in% c(3,4) & speakertypeid %in% c(2,3), unique(transcriptcomponentid)],\n",
    "      .(text=str_c(componenttext, collapse=' ')),\n",
    "      keyby=.(transcriptid)]\n",
    "\n",
    "sv(x_qa)"
   ]
  },
  {
   "cell_type": "markdown",
   "metadata": {},
   "source": [
    "# (X,Y)"
   ]
  },
  {
   "cell_type": "markdown",
   "metadata": {},
   "source": [
    "## filter `sue`"
   ]
  },
  {
   "cell_type": "markdown",
   "metadata": {},
   "source": [
    "Task:\n",
    "- remove obs from `sue` where `act` is NA\n",
    "\n",
    "Filter:\n",
    "- `sue[!is.na(act)]`   44690->42307\n",
    "\n",
    "Notes:\n",
    "- `sue` is computed for the SP500 universe\n",
    "- ~500 obs in `f_sue` has NA `sue3` because`numest=0`\n",
    "- some `lagrdq1` in `f_sue` are NA\n",
    "- I divide `mcap` by 1000\n",
    "    \n",
    "Warnings\n",
    "- Because we need *lead-one earnings*, the last obs of each `gvkey` is removed. \n",
    "- Therefore `f_sue` will have *LESS* obs than `sue`\n",
    "- the latest `rdq` in `f_sue` is *2019-10-13* (updated: 2020-2-5)\n",
    "- When computing `se_lead1`, you MUST use price at `t`, not simply shifting future `se` backward:`se_lead1=se_(t+1)/price_close_(t)`"
   ]
  },
  {
   "cell_type": "code",
   "execution_count": 8,
   "metadata": {
    "scrolled": true
   },
   "outputs": [
    {
     "name": "stdout",
     "output_type": "stream",
     "text": [
      "-sue- loaded  (0.07 secs)\n",
      "-sp500_cst- loaded  (0.01 secs)\n"
     ]
    }
   ],
   "source": [
    "ld(sue, force=T)\n",
    "ld(sp500_cst, force=T)"
   ]
  },
  {
   "cell_type": "code",
   "execution_count": 11,
   "metadata": {
    "scrolled": true
   },
   "outputs": [
    {
     "name": "stdout",
     "output_type": "stream",
     "text": [
      "N sue: 44690\n",
      "N f_sue: 42307\n",
      "-f_sue- saved  (0.23 secs)\n"
     ]
    },
    {
     "data": {
      "text/html": [
       "<table>\n",
       "<caption>A data.table: 1 × 20</caption>\n",
       "<thead>\n",
       "\t<tr><th scope=col>gvkey</th><th scope=col>permno</th><th scope=col>datadate</th><th scope=col>fyearq</th><th scope=col>fqtr</th><th scope=col>fyr</th><th scope=col>rdq</th><th scope=col>rdq1</th><th scope=col>repdats</th><th scope=col>lagrdq1</th><th scope=col>leadrdq1</th><th scope=col>mcap</th><th scope=col>act</th><th scope=col>smedest</th><th scope=col>numest</th><th scope=col>sstdest</th><th scope=col>sue</th><th scope=col>se</th><th scope=col>sest</th><th scope=col>price_close</th></tr>\n",
       "\t<tr><th scope=col>&lt;chr&gt;</th><th scope=col>&lt;chr&gt;</th><th scope=col>&lt;date&gt;</th><th scope=col>&lt;dbl&gt;</th><th scope=col>&lt;dbl&gt;</th><th scope=col>&lt;dbl&gt;</th><th scope=col>&lt;date&gt;</th><th scope=col>&lt;date&gt;</th><th scope=col>&lt;date&gt;</th><th scope=col>&lt;date&gt;</th><th scope=col>&lt;date&gt;</th><th scope=col>&lt;dbl&gt;</th><th scope=col>&lt;dbl&gt;</th><th scope=col>&lt;dbl&gt;</th><th scope=col>&lt;dbl&gt;</th><th scope=col>&lt;dbl&gt;</th><th scope=col>&lt;dbl&gt;</th><th scope=col>&lt;dbl&gt;</th><th scope=col>&lt;dbl&gt;</th><th scope=col>&lt;dbl&gt;</th></tr>\n",
       "</thead>\n",
       "<tbody>\n",
       "\t<tr><td>001013</td><td>50906</td><td>2005-01-31</td><td>2005</td><td>1</td><td>10</td><td>2005-02-28</td><td>2005-02-28</td><td>2005-02-28</td><td>NA</td><td>2005-06-01</td><td>7.64057</td><td>0.01</td><td>0.003891051</td><td>8</td><td>0</td><td>0</td><td>0.003891051</td><td>0.003891051</td><td>2.57</td></tr>\n",
       "</tbody>\n",
       "</table>\n"
      ],
      "text/latex": [
       "A data.table: 1 × 20\n",
       "\\begin{tabular}{llllllllllllllllllll}\n",
       " gvkey & permno & datadate & fyearq & fqtr & fyr & rdq & rdq1 & repdats & lagrdq1 & leadrdq1 & mcap & act & smedest & numest & sstdest & sue & se & sest & price\\_close\\\\\n",
       " <chr> & <chr> & <date> & <dbl> & <dbl> & <dbl> & <date> & <date> & <date> & <date> & <date> & <dbl> & <dbl> & <dbl> & <dbl> & <dbl> & <dbl> & <dbl> & <dbl> & <dbl>\\\\\n",
       "\\hline\n",
       "\t 001013 & 50906 & 2005-01-31 & 2005 & 1 & 10 & 2005-02-28 & 2005-02-28 & 2005-02-28 & NA & 2005-06-01 & 7.64057 & 0.01 & 0.003891051 & 8 & 0 & 0 & 0.003891051 & 0.003891051 & 2.57\\\\\n",
       "\\end{tabular}\n"
      ],
      "text/markdown": [
       "\n",
       "A data.table: 1 × 20\n",
       "\n",
       "| gvkey &lt;chr&gt; | permno &lt;chr&gt; | datadate &lt;date&gt; | fyearq &lt;dbl&gt; | fqtr &lt;dbl&gt; | fyr &lt;dbl&gt; | rdq &lt;date&gt; | rdq1 &lt;date&gt; | repdats &lt;date&gt; | lagrdq1 &lt;date&gt; | leadrdq1 &lt;date&gt; | mcap &lt;dbl&gt; | act &lt;dbl&gt; | smedest &lt;dbl&gt; | numest &lt;dbl&gt; | sstdest &lt;dbl&gt; | sue &lt;dbl&gt; | se &lt;dbl&gt; | sest &lt;dbl&gt; | price_close &lt;dbl&gt; |\n",
       "|---|---|---|---|---|---|---|---|---|---|---|---|---|---|---|---|---|---|---|---|\n",
       "| 001013 | 50906 | 2005-01-31 | 2005 | 1 | 10 | 2005-02-28 | 2005-02-28 | 2005-02-28 | NA | 2005-06-01 | 7.64057 | 0.01 | 0.003891051 | 8 | 0 | 0 | 0.003891051 | 0.003891051 | 2.57 |\n",
       "\n"
      ],
      "text/plain": [
       "  gvkey  permno datadate   fyearq fqtr fyr rdq        rdq1       repdats   \n",
       "1 001013 50906  2005-01-31 2005   1    10  2005-02-28 2005-02-28 2005-02-28\n",
       "  lagrdq1 leadrdq1   mcap    act  smedest     numest sstdest sue se         \n",
       "1 <NA>    2005-06-01 7.64057 0.01 0.003891051 8      0       0   0.003891051\n",
       "  sest        price_close\n",
       "1 0.003891051 2.57       "
      ]
     },
     "metadata": {},
     "output_type": "display_data"
    }
   ],
   "source": [
    "sprintf('N sue: %s\\n', nrow(sue)) %>% cat()\n",
    "\n",
    "f_sue = sue[!is.na(act)] # 42440, ['gvkey', 'rdq'] as unique key\n",
    "\n",
    "rdq_lag_lead_pair = f_sue[, .(gvkey, lagrdq1=rdq1, rdq1=leadrdq1)]\n",
    "\n",
    "f_sue = rdq_lag_lead_pair[f_sue, on=.(gvkey, rdq1)\n",
    "    ][gvkey %in% sp500_cst[, unique(gvkey)],\n",
    "      .(gvkey, permno, datadate, fyearq, fqtr, fyr, rdq, rdq1, repdats, lagrdq1, leadrdq1,\n",
    "        mcap=log(mcap), act, smedest, numest, sstdest, sue=sue3, se, sest, price_close)\n",
    "    ][order(gvkey, rdq)\n",
    "    ] %>% unique()\n",
    "\n",
    "sprintf('N f_sue: %s\\n', nrow(f_sue)) %>% cat()\n",
    "sv(f_sue)\n",
    "f_sue[1]"
   ]
  },
  {
   "cell_type": "code",
   "execution_count": null,
   "metadata": {
    "scrolled": true
   },
   "outputs": [],
   "source": [
    "f_sue[, .(year=as.factor(year(rdq1)))] %>%\n",
    "    plot_ly(x=~year, type='histogram') %>%\n",
    "    plotly::layout(autosize=F)"
   ]
  },
  {
   "cell_type": "markdown",
   "metadata": {},
   "source": [
    "## `sue` <-> `call_release_link`"
   ]
  },
  {
   "cell_type": "markdown",
   "metadata": {},
   "source": [
    "Task: merge with `call_release_link`\n",
    "- select row with minimal `abs(rdq-call_date)`\n",
    "- Output: `f_sue_keydevid`\n",
    "\n",
    "Filter:\n",
    "- release event in `sue` has no match in `call_release_link` within [-1d,1d]. 42690 -> 29065\n",
    "\n",
    "Warnings:\n",
    "- n_obs of `f_sue_keydevid` is larger than that of `f_sue` because in `call_release_link` there exist multiple `call_keydevid` for the SAME `release_keydevid`\n",
    "    - e.g. `ciq_wrds_keydev[keydevid %in% c(404527363, 404314219, 404314224)]`"
   ]
  },
  {
   "cell_type": "code",
   "execution_count": 4,
   "metadata": {
    "scrolled": true
   },
   "outputs": [
    {
     "name": "stdout",
     "output_type": "stream",
     "text": [
      "-call_release_link- loaded  (0.05 secs)\n",
      "-f_sue- loaded  (0.04 secs)\n"
     ]
    }
   ],
   "source": [
    "ld(call_release_link, force=T)\n",
    "ld(f_sue, force=T)"
   ]
  },
  {
   "cell_type": "code",
   "execution_count": 7,
   "metadata": {},
   "outputs": [
    {
     "data": {
      "text/html": [
       "<table>\n",
       "<caption>A data.table: 1 × 7</caption>\n",
       "<thead>\n",
       "\t<tr><th scope=col>call_keydevid</th><th scope=col>gvkey</th><th scope=col>call_date</th><th scope=col>release_date</th><th scope=col>release_keydevid</th><th scope=col>companyname</th><th scope=col>nday_release_lead</th></tr>\n",
       "\t<tr><th scope=col>&lt;dbl&gt;</th><th scope=col>&lt;chr&gt;</th><th scope=col>&lt;date&gt;</th><th scope=col>&lt;date&gt;</th><th scope=col>&lt;dbl&gt;</th><th scope=col>&lt;chr&gt;</th><th scope=col>&lt;drtn&gt;</th></tr>\n",
       "</thead>\n",
       "<tbody>\n",
       "\t<tr><td>3101633</td><td>014489</td><td>2008-02-28</td><td>2008-02-28</td><td>5219816</td><td>Dell Technologies Inc.</td><td>0 days</td></tr>\n",
       "</tbody>\n",
       "</table>\n"
      ],
      "text/latex": [
       "A data.table: 1 × 7\n",
       "\\begin{tabular}{lllllll}\n",
       " call\\_keydevid & gvkey & call\\_date & release\\_date & release\\_keydevid & companyname & nday\\_release\\_lead\\\\\n",
       " <dbl> & <chr> & <date> & <date> & <dbl> & <chr> & <drtn>\\\\\n",
       "\\hline\n",
       "\t 3101633 & 014489 & 2008-02-28 & 2008-02-28 & 5219816 & Dell Technologies Inc. & 0 days\\\\\n",
       "\\end{tabular}\n"
      ],
      "text/markdown": [
       "\n",
       "A data.table: 1 × 7\n",
       "\n",
       "| call_keydevid &lt;dbl&gt; | gvkey &lt;chr&gt; | call_date &lt;date&gt; | release_date &lt;date&gt; | release_keydevid &lt;dbl&gt; | companyname &lt;chr&gt; | nday_release_lead &lt;drtn&gt; |\n",
       "|---|---|---|---|---|---|---|\n",
       "| 3101633 | 014489 | 2008-02-28 | 2008-02-28 | 5219816 | Dell Technologies Inc. | 0 days |\n",
       "\n"
      ],
      "text/plain": [
       "  call_keydevid gvkey  call_date  release_date release_keydevid\n",
       "1 3101633       014489 2008-02-28 2008-02-28   5219816         \n",
       "  companyname            nday_release_lead\n",
       "1 Dell Technologies Inc. 0 days           "
      ]
     },
     "metadata": {},
     "output_type": "display_data"
    }
   ],
   "source": [
    "call_release_link[1]"
   ]
  },
  {
   "cell_type": "code",
   "execution_count": 14,
   "metadata": {
    "scrolled": true
   },
   "outputs": [
    {
     "name": "stdout",
     "output_type": "stream",
     "text": [
      "N f_sue: 42307\n",
      "N f_sue_keydevid: 29065\n"
     ]
    },
    {
     "data": {
      "text/html": [
       "<table>\n",
       "<caption>A data.table: 1 × 29</caption>\n",
       "<thead>\n",
       "\t<tr><th scope=col>call_keydevid</th><th scope=col>gvkey</th><th scope=col>call_date</th><th scope=col>release_date</th><th scope=col>release_keydevid</th><th scope=col>companyname</th><th scope=col>nday_release_lead</th><th scope=col>permno</th><th scope=col>datadate</th><th scope=col>fyearq</th><th scope=col>fqtr</th><th scope=col>fyr</th><th scope=col>rdq</th><th scope=col>rdq1</th><th scope=col>repdats</th><th scope=col>lagrdq1</th><th scope=col>leadrdq1</th><th scope=col>mcap</th><th scope=col>act</th><th scope=col>smedest</th><th scope=col>numest</th><th scope=col>sstdest</th><th scope=col>sue</th><th scope=col>se</th><th scope=col>sest</th><th scope=col>price_close</th><th scope=col>ciq_release_date</th><th scope=col>calldate_rdq_gap</th><th scope=col>docid</th></tr>\n",
       "\t<tr><th scope=col>&lt;dbl&gt;</th><th scope=col>&lt;chr&gt;</th><th scope=col>&lt;date&gt;</th><th scope=col>&lt;date&gt;</th><th scope=col>&lt;dbl&gt;</th><th scope=col>&lt;chr&gt;</th><th scope=col>&lt;drtn&gt;</th><th scope=col>&lt;chr&gt;</th><th scope=col>&lt;date&gt;</th><th scope=col>&lt;dbl&gt;</th><th scope=col>&lt;dbl&gt;</th><th scope=col>&lt;dbl&gt;</th><th scope=col>&lt;date&gt;</th><th scope=col>&lt;date&gt;</th><th scope=col>&lt;date&gt;</th><th scope=col>&lt;date&gt;</th><th scope=col>&lt;date&gt;</th><th scope=col>&lt;dbl&gt;</th><th scope=col>&lt;dbl&gt;</th><th scope=col>&lt;dbl&gt;</th><th scope=col>&lt;dbl&gt;</th><th scope=col>&lt;dbl&gt;</th><th scope=col>&lt;dbl&gt;</th><th scope=col>&lt;dbl&gt;</th><th scope=col>&lt;dbl&gt;</th><th scope=col>&lt;dbl&gt;</th><th scope=col>&lt;date&gt;</th><th scope=col>&lt;drtn&gt;</th><th scope=col>&lt;chr&gt;</th></tr>\n",
       "</thead>\n",
       "<tbody>\n",
       "\t<tr><td>5152678</td><td>001013</td><td>2008-03-05</td><td>2008-03-05</td><td>5241424</td><td>ADC Telecommunications Inc.</td><td>0 days</td><td>50906</td><td>2008-01-31</td><td>2008</td><td>1</td><td>10</td><td>2008-03-05</td><td>2008-03-05</td><td>2008-03-05</td><td>2007-12-12</td><td>2008-06-04</td><td>7.46124</td><td>0.28</td><td>0.01217039</td><td>17</td><td>0.001547043</td><td>0.006761325</td><td>0.01893171</td><td>0.01217039</td><td>14.79</td><td>2008-03-05</td><td>0 days</td><td>001013-2008-03-05</td></tr>\n",
       "</tbody>\n",
       "</table>\n"
      ],
      "text/latex": [
       "A data.table: 1 × 29\n",
       "\\begin{tabular}{lllllllllllllllllllllllllllll}\n",
       " call\\_keydevid & gvkey & call\\_date & release\\_date & release\\_keydevid & companyname & nday\\_release\\_lead & permno & datadate & fyearq & fqtr & fyr & rdq & rdq1 & repdats & lagrdq1 & leadrdq1 & mcap & act & smedest & numest & sstdest & sue & se & sest & price\\_close & ciq\\_release\\_date & calldate\\_rdq\\_gap & docid\\\\\n",
       " <dbl> & <chr> & <date> & <date> & <dbl> & <chr> & <drtn> & <chr> & <date> & <dbl> & <dbl> & <dbl> & <date> & <date> & <date> & <date> & <date> & <dbl> & <dbl> & <dbl> & <dbl> & <dbl> & <dbl> & <dbl> & <dbl> & <dbl> & <date> & <drtn> & <chr>\\\\\n",
       "\\hline\n",
       "\t 5152678 & 001013 & 2008-03-05 & 2008-03-05 & 5241424 & ADC Telecommunications Inc. & 0 days & 50906 & 2008-01-31 & 2008 & 1 & 10 & 2008-03-05 & 2008-03-05 & 2008-03-05 & 2007-12-12 & 2008-06-04 & 7.46124 & 0.28 & 0.01217039 & 17 & 0.001547043 & 0.006761325 & 0.01893171 & 0.01217039 & 14.79 & 2008-03-05 & 0 days & 001013-2008-03-05\\\\\n",
       "\\end{tabular}\n"
      ],
      "text/markdown": [
       "\n",
       "A data.table: 1 × 29\n",
       "\n",
       "| call_keydevid &lt;dbl&gt; | gvkey &lt;chr&gt; | call_date &lt;date&gt; | release_date &lt;date&gt; | release_keydevid &lt;dbl&gt; | companyname &lt;chr&gt; | nday_release_lead &lt;drtn&gt; | permno &lt;chr&gt; | datadate &lt;date&gt; | fyearq &lt;dbl&gt; | fqtr &lt;dbl&gt; | fyr &lt;dbl&gt; | rdq &lt;date&gt; | rdq1 &lt;date&gt; | repdats &lt;date&gt; | lagrdq1 &lt;date&gt; | leadrdq1 &lt;date&gt; | mcap &lt;dbl&gt; | act &lt;dbl&gt; | smedest &lt;dbl&gt; | numest &lt;dbl&gt; | sstdest &lt;dbl&gt; | sue &lt;dbl&gt; | se &lt;dbl&gt; | sest &lt;dbl&gt; | price_close &lt;dbl&gt; | ciq_release_date &lt;date&gt; | calldate_rdq_gap &lt;drtn&gt; | docid &lt;chr&gt; |\n",
       "|---|---|---|---|---|---|---|---|---|---|---|---|---|---|---|---|---|---|---|---|---|---|---|---|---|---|---|---|---|\n",
       "| 5152678 | 001013 | 2008-03-05 | 2008-03-05 | 5241424 | ADC Telecommunications Inc. | 0 days | 50906 | 2008-01-31 | 2008 | 1 | 10 | 2008-03-05 | 2008-03-05 | 2008-03-05 | 2007-12-12 | 2008-06-04 | 7.46124 | 0.28 | 0.01217039 | 17 | 0.001547043 | 0.006761325 | 0.01893171 | 0.01217039 | 14.79 | 2008-03-05 | 0 days | 001013-2008-03-05 |\n",
       "\n"
      ],
      "text/plain": [
       "  call_keydevid gvkey  call_date  release_date release_keydevid\n",
       "1 5152678       001013 2008-03-05 2008-03-05   5241424         \n",
       "  companyname                 nday_release_lead permno datadate   fyearq fqtr\n",
       "1 ADC Telecommunications Inc. 0 days            50906  2008-01-31 2008   1   \n",
       "  fyr rdq        rdq1       repdats    lagrdq1    leadrdq1   mcap    act \n",
       "1 10  2008-03-05 2008-03-05 2008-03-05 2007-12-12 2008-06-04 7.46124 0.28\n",
       "  smedest    numest sstdest     sue         se         sest       price_close\n",
       "1 0.01217039 17     0.001547043 0.006761325 0.01893171 0.01217039 14.79      \n",
       "  ciq_release_date calldate_rdq_gap docid            \n",
       "1 2008-03-05       0 days           001013-2008-03-05"
      ]
     },
     "metadata": {},
     "output_type": "display_data"
    },
    {
     "name": "stdout",
     "output_type": "stream",
     "text": [
      "-f_sue_keydevid- saved  (0.28 secs)\n"
     ]
    }
   ],
   "source": [
    "sprintf('N f_sue: %s\\n', nrow(f_sue)) %>% cat()\n",
    "\n",
    "f_sue_keydevid = call_release_link[, ':='(join_date=release_date)\n",
    "    ][copy(f_sue)[, ':='(join_date=rdq)], on=.(gvkey, join_date), roll='nearest', nomatch=NULL\n",
    "    ][, ':='(ciq_release_date=rdq)\n",
    "    ][, ':='(calldate_rdq_gap=call_date-rdq)\n",
    "    ][calldate_rdq_gap %between% c(-1, 1)\n",
    "    ][order(gvkey, rdq)\n",
    "    ][, ':='(join_date=NULL)\n",
    "    ][order(gvkey, rdq)\n",
    "    ][, ':='(docid=str_c(gvkey, '-', ciq_release_date))]\n",
    "\n",
    "sprintf('N f_sue_keydevid: %s\\n', nrow(f_sue_keydevid)) %>% cat()\n",
    "\n",
    "f_sue_keydevid[1]\n",
    "sv(f_sue_keydevid) "
   ]
  },
  {
   "cell_type": "code",
   "execution_count": null,
   "metadata": {
    "scrolled": true
   },
   "outputs": [],
   "source": [
    "f_sue_keydevid[, .(year=as.factor(year(ciq_release_date)))] %>%\n",
    "    plot_ly(x=~year, type='histogram') %>%\n",
    "    plotly::layout(autosize=F)"
   ]
  },
  {
   "cell_type": "markdown",
   "metadata": {},
   "source": [
    "## <-> `car`"
   ]
  },
  {
   "cell_type": "markdown",
   "metadata": {},
   "source": [
    "Task: merge with `CAR`\n",
    "- `car` also includes `alpha`, `beta` and `volatility`\n",
    "- I multiplied `car` by 100!!!\n",
    "\n",
    "Filter:\n",
    "- events in `f_sue_keydevid` are not in `car`. 29065 -> 26967"
   ]
  },
  {
   "cell_type": "code",
   "execution_count": 424,
   "metadata": {},
   "outputs": [
    {
     "name": "stdout",
     "output_type": "stream",
     "text": [
      "-f_sue_keydevid- loaded  (0.09 secs)\n",
      "-car- loaded  (0.07 secs)\n"
     ]
    }
   ],
   "source": [
    "ld(f_sue_keydevid, force=T)\n",
    "ld(car, force=T)"
   ]
  },
  {
   "cell_type": "code",
   "execution_count": 425,
   "metadata": {},
   "outputs": [
    {
     "data": {
      "text/html": [
       "<table>\n",
       "<caption>A data.table: 1 × 22</caption>\n",
       "<thead>\n",
       "\t<tr><th scope=col>permno</th><th scope=col>edate</th><th scope=col>car_m1_m1</th><th scope=col>car_m2_m2</th><th scope=col>car_m30_m3</th><th scope=col>car_0_1</th><th scope=col>car_0_10</th><th scope=col>car_0_20</th><th scope=col>car_0_30</th><th scope=col>ret_m30_m3</th><th scope=col>ret_m2_m2</th><th scope=col>ret_m1_m1</th><th scope=col>ret_0_1</th><th scope=col>ret_0_10</th><th scope=col>ret_0_20</th><th scope=col>ret_0_30</th><th scope=col>alpha</th><th scope=col>beta_mktrf</th><th scope=col>beta_smb</th><th scope=col>beta_hml</th><th scope=col>volatility</th><th scope=col>volatility2</th></tr>\n",
       "\t<tr><th scope=col>&lt;chr&gt;</th><th scope=col>&lt;date&gt;</th><th scope=col>&lt;dbl&gt;</th><th scope=col>&lt;dbl&gt;</th><th scope=col>&lt;dbl&gt;</th><th scope=col>&lt;dbl&gt;</th><th scope=col>&lt;dbl&gt;</th><th scope=col>&lt;dbl&gt;</th><th scope=col>&lt;dbl&gt;</th><th scope=col>&lt;dbl&gt;</th><th scope=col>&lt;dbl&gt;</th><th scope=col>&lt;dbl&gt;</th><th scope=col>&lt;dbl&gt;</th><th scope=col>&lt;dbl&gt;</th><th scope=col>&lt;dbl&gt;</th><th scope=col>&lt;dbl&gt;</th><th scope=col>&lt;dbl&gt;</th><th scope=col>&lt;dbl&gt;</th><th scope=col>&lt;dbl&gt;</th><th scope=col>&lt;dbl&gt;</th><th scope=col>&lt;dbl&gt;</th><th scope=col>&lt;dbl&gt;</th></tr>\n",
       "</thead>\n",
       "<tbody>\n",
       "\t<tr><td>10078</td><td>2004-10-15</td><td>-0.003817367</td><td>0.004315403</td><td>-0.00785148</td><td>-0.01034447</td><td>0.07986508</td><td>0.06859604</td><td>0.16199</td><td>0.05167966</td><td>-0.01228506</td><td>-0.0124378</td><td>0</td><td>0.1335013</td><td>0.2241814</td><td>0.3879094</td><td>-0.0003937242</td><td>1.339511</td><td>2.318787</td><td>-0.5911424</td><td>0.0332523</td><td>0.03211976</td></tr>\n",
       "</tbody>\n",
       "</table>\n"
      ],
      "text/latex": [
       "A data.table: 1 × 22\n",
       "\\begin{tabular}{llllllllllllllllllllll}\n",
       " permno & edate & car\\_m1\\_m1 & car\\_m2\\_m2 & car\\_m30\\_m3 & car\\_0\\_1 & car\\_0\\_10 & car\\_0\\_20 & car\\_0\\_30 & ret\\_m30\\_m3 & ret\\_m2\\_m2 & ret\\_m1\\_m1 & ret\\_0\\_1 & ret\\_0\\_10 & ret\\_0\\_20 & ret\\_0\\_30 & alpha & beta\\_mktrf & beta\\_smb & beta\\_hml & volatility & volatility2\\\\\n",
       " <chr> & <date> & <dbl> & <dbl> & <dbl> & <dbl> & <dbl> & <dbl> & <dbl> & <dbl> & <dbl> & <dbl> & <dbl> & <dbl> & <dbl> & <dbl> & <dbl> & <dbl> & <dbl> & <dbl> & <dbl> & <dbl>\\\\\n",
       "\\hline\n",
       "\t 10078 & 2004-10-15 & -0.003817367 & 0.004315403 & -0.00785148 & -0.01034447 & 0.07986508 & 0.06859604 & 0.16199 & 0.05167966 & -0.01228506 & -0.0124378 & 0 & 0.1335013 & 0.2241814 & 0.3879094 & -0.0003937242 & 1.339511 & 2.318787 & -0.5911424 & 0.0332523 & 0.03211976\\\\\n",
       "\\end{tabular}\n"
      ],
      "text/markdown": [
       "\n",
       "A data.table: 1 × 22\n",
       "\n",
       "| permno &lt;chr&gt; | edate &lt;date&gt; | car_m1_m1 &lt;dbl&gt; | car_m2_m2 &lt;dbl&gt; | car_m30_m3 &lt;dbl&gt; | car_0_1 &lt;dbl&gt; | car_0_10 &lt;dbl&gt; | car_0_20 &lt;dbl&gt; | car_0_30 &lt;dbl&gt; | ret_m30_m3 &lt;dbl&gt; | ret_m2_m2 &lt;dbl&gt; | ret_m1_m1 &lt;dbl&gt; | ret_0_1 &lt;dbl&gt; | ret_0_10 &lt;dbl&gt; | ret_0_20 &lt;dbl&gt; | ret_0_30 &lt;dbl&gt; | alpha &lt;dbl&gt; | beta_mktrf &lt;dbl&gt; | beta_smb &lt;dbl&gt; | beta_hml &lt;dbl&gt; | volatility &lt;dbl&gt; | volatility2 &lt;dbl&gt; |\n",
       "|---|---|---|---|---|---|---|---|---|---|---|---|---|---|---|---|---|---|---|---|---|---|\n",
       "| 10078 | 2004-10-15 | -0.003817367 | 0.004315403 | -0.00785148 | -0.01034447 | 0.07986508 | 0.06859604 | 0.16199 | 0.05167966 | -0.01228506 | -0.0124378 | 0 | 0.1335013 | 0.2241814 | 0.3879094 | -0.0003937242 | 1.339511 | 2.318787 | -0.5911424 | 0.0332523 | 0.03211976 |\n",
       "\n"
      ],
      "text/plain": [
       "  permno edate      car_m1_m1    car_m2_m2   car_m30_m3  car_0_1     car_0_10  \n",
       "1 10078  2004-10-15 -0.003817367 0.004315403 -0.00785148 -0.01034447 0.07986508\n",
       "  car_0_20   car_0_30 ret_m30_m3 ret_m2_m2   ret_m1_m1  ret_0_1 ret_0_10 \n",
       "1 0.06859604 0.16199  0.05167966 -0.01228506 -0.0124378 0       0.1335013\n",
       "  ret_0_20  ret_0_30  alpha         beta_mktrf beta_smb beta_hml   volatility\n",
       "1 0.2241814 0.3879094 -0.0003937242 1.339511   2.318787 -0.5911424 0.0332523 \n",
       "  volatility2\n",
       "1 0.03211976 "
      ]
     },
     "metadata": {},
     "output_type": "display_data"
    }
   ],
   "source": [
    "car[1]"
   ]
  },
  {
   "cell_type": "code",
   "execution_count": 427,
   "metadata": {},
   "outputs": [
    {
     "name": "stdout",
     "output_type": "stream",
     "text": [
      "N f_sue_keydevid: 29065\n",
      "N f_sue_keydevid_car: 53930\n"
     ]
    },
    {
     "data": {
      "text/html": [
       "<table>\n",
       "<caption>A data.table: 1 × 52</caption>\n",
       "<thead>\n",
       "\t<tr><th scope=col>gvkey</th><th scope=col>docid</th><th scope=col>permno</th><th scope=col>datadate</th><th scope=col>fyearq</th><th scope=col>fqtr</th><th scope=col>fyr</th><th scope=col>rdq</th><th scope=col>rdq1</th><th scope=col>repdats</th><th scope=col>ciq_release_date</th><th scope=col>call_date</th><th scope=col>leadrdq1</th><th scope=col>release_keydevid</th><th scope=col>call_keydevid</th><th scope=col>companyname</th><th scope=col>mcap</th><th scope=col>sue</th><th scope=col>sue_lag1</th><th scope=col>sue_lead1</th><th scope=col>se</th><th scope=col>se_lag1</th><th scope=col>se_lead1</th><th scope=col>sest</th><th scope=col>sest_lag1</th><th scope=col>sest_lead1</th><th scope=col>smedest</th><th scope=col>numest</th><th scope=col>sstdest</th><th scope=col>ret_m1_m1</th><th scope=col>ret_m2_m2</th><th scope=col>ret_m30_m3</th><th scope=col>ret_0_10</th><th scope=col>ret_0_20</th><th scope=col>ret_0_30</th><th scope=col>car_m1_m1</th><th scope=col>car_m2_m2</th><th scope=col>car_m30_m3</th><th scope=col>car_0_10</th><th scope=col>car_0_10_lead1</th><th scope=col>car_0_10_lag1</th><th scope=col>car_0_20</th><th scope=col>car_0_20_lead1</th><th scope=col>car_0_20_lag1</th><th scope=col>car_0_30</th><th scope=col>car_0_30_lead1</th><th scope=col>car_0_30_lag1</th><th scope=col>alpha</th><th scope=col>beta_mktrf</th><th scope=col>beta_smb</th><th scope=col>beta_hml</th><th scope=col>volatility</th></tr>\n",
       "\t<tr><th scope=col>&lt;chr&gt;</th><th scope=col>&lt;chr&gt;</th><th scope=col>&lt;chr&gt;</th><th scope=col>&lt;date&gt;</th><th scope=col>&lt;dbl&gt;</th><th scope=col>&lt;dbl&gt;</th><th scope=col>&lt;dbl&gt;</th><th scope=col>&lt;date&gt;</th><th scope=col>&lt;date&gt;</th><th scope=col>&lt;date&gt;</th><th scope=col>&lt;date&gt;</th><th scope=col>&lt;date&gt;</th><th scope=col>&lt;date&gt;</th><th scope=col>&lt;dbl&gt;</th><th scope=col>&lt;dbl&gt;</th><th scope=col>&lt;chr&gt;</th><th scope=col>&lt;dbl&gt;</th><th scope=col>&lt;dbl&gt;</th><th scope=col>&lt;dbl&gt;</th><th scope=col>&lt;dbl&gt;</th><th scope=col>&lt;dbl&gt;</th><th scope=col>&lt;dbl&gt;</th><th scope=col>&lt;dbl&gt;</th><th scope=col>&lt;dbl&gt;</th><th scope=col>&lt;dbl&gt;</th><th scope=col>&lt;dbl&gt;</th><th scope=col>&lt;dbl&gt;</th><th scope=col>&lt;dbl&gt;</th><th scope=col>&lt;dbl&gt;</th><th scope=col>&lt;dbl&gt;</th><th scope=col>&lt;dbl&gt;</th><th scope=col>&lt;dbl&gt;</th><th scope=col>&lt;dbl&gt;</th><th scope=col>&lt;dbl&gt;</th><th scope=col>&lt;dbl&gt;</th><th scope=col>&lt;dbl&gt;</th><th scope=col>&lt;dbl&gt;</th><th scope=col>&lt;dbl&gt;</th><th scope=col>&lt;dbl&gt;</th><th scope=col>&lt;dbl&gt;</th><th scope=col>&lt;dbl&gt;</th><th scope=col>&lt;dbl&gt;</th><th scope=col>&lt;dbl&gt;</th><th scope=col>&lt;dbl&gt;</th><th scope=col>&lt;dbl&gt;</th><th scope=col>&lt;dbl&gt;</th><th scope=col>&lt;dbl&gt;</th><th scope=col>&lt;dbl&gt;</th><th scope=col>&lt;dbl&gt;</th><th scope=col>&lt;dbl&gt;</th><th scope=col>&lt;dbl&gt;</th><th scope=col>&lt;dbl&gt;</th></tr>\n",
       "</thead>\n",
       "<tbody>\n",
       "\t<tr><td>001013</td><td>001013-2008-03-05</td><td>50906</td><td>2008-01-31</td><td>2008</td><td>1</td><td>10</td><td>2008-03-05</td><td>2008-03-05</td><td>2008-03-05</td><td>2008-03-05</td><td>2008-03-05</td><td>2008-06-04</td><td>5241424</td><td>5152678</td><td>ADC Telecommunications Inc.</td><td>7.46124</td><td>0.006761325</td><td>NA</td><td>0.006062767</td><td>0.01893171</td><td>NA</td><td>0.0278174</td><td>0.01217039</td><td>NA</td><td>0.02175464</td><td>0.01217039</td><td>17</td><td>0.001547043</td><td>0.2971765</td><td>-1.536211</td><td>0.2199395</td><td>-12.37037</td><td>-6.222223</td><td>-6.96296</td><td>0.7939703</td><td>-1.043903</td><td>-2.655725</td><td>-9.076894</td><td>11.50231</td><td>NA</td><td>-6.616572</td><td>4.588225</td><td>NA</td><td>-6.567197</td><td>0.3902708</td><td>NA</td><td>-0.08592177</td><td>0.9685945</td><td>-0.2939265</td><td>1.243559</td><td>3.171002</td></tr>\n",
       "</tbody>\n",
       "</table>\n"
      ],
      "text/latex": [
       "A data.table: 1 × 52\n",
       "\\begin{tabular}{llllllllllllllllllllllllllllllllllllllllllllllllllll}\n",
       " gvkey & docid & permno & datadate & fyearq & fqtr & fyr & rdq & rdq1 & repdats & ciq\\_release\\_date & call\\_date & leadrdq1 & release\\_keydevid & call\\_keydevid & companyname & mcap & sue & sue\\_lag1 & sue\\_lead1 & se & se\\_lag1 & se\\_lead1 & sest & sest\\_lag1 & sest\\_lead1 & smedest & numest & sstdest & ret\\_m1\\_m1 & ret\\_m2\\_m2 & ret\\_m30\\_m3 & ret\\_0\\_10 & ret\\_0\\_20 & ret\\_0\\_30 & car\\_m1\\_m1 & car\\_m2\\_m2 & car\\_m30\\_m3 & car\\_0\\_10 & car\\_0\\_10\\_lead1 & car\\_0\\_10\\_lag1 & car\\_0\\_20 & car\\_0\\_20\\_lead1 & car\\_0\\_20\\_lag1 & car\\_0\\_30 & car\\_0\\_30\\_lead1 & car\\_0\\_30\\_lag1 & alpha & beta\\_mktrf & beta\\_smb & beta\\_hml & volatility\\\\\n",
       " <chr> & <chr> & <chr> & <date> & <dbl> & <dbl> & <dbl> & <date> & <date> & <date> & <date> & <date> & <date> & <dbl> & <dbl> & <chr> & <dbl> & <dbl> & <dbl> & <dbl> & <dbl> & <dbl> & <dbl> & <dbl> & <dbl> & <dbl> & <dbl> & <dbl> & <dbl> & <dbl> & <dbl> & <dbl> & <dbl> & <dbl> & <dbl> & <dbl> & <dbl> & <dbl> & <dbl> & <dbl> & <dbl> & <dbl> & <dbl> & <dbl> & <dbl> & <dbl> & <dbl> & <dbl> & <dbl> & <dbl> & <dbl> & <dbl>\\\\\n",
       "\\hline\n",
       "\t 001013 & 001013-2008-03-05 & 50906 & 2008-01-31 & 2008 & 1 & 10 & 2008-03-05 & 2008-03-05 & 2008-03-05 & 2008-03-05 & 2008-03-05 & 2008-06-04 & 5241424 & 5152678 & ADC Telecommunications Inc. & 7.46124 & 0.006761325 & NA & 0.006062767 & 0.01893171 & NA & 0.0278174 & 0.01217039 & NA & 0.02175464 & 0.01217039 & 17 & 0.001547043 & 0.2971765 & -1.536211 & 0.2199395 & -12.37037 & -6.222223 & -6.96296 & 0.7939703 & -1.043903 & -2.655725 & -9.076894 & 11.50231 & NA & -6.616572 & 4.588225 & NA & -6.567197 & 0.3902708 & NA & -0.08592177 & 0.9685945 & -0.2939265 & 1.243559 & 3.171002\\\\\n",
       "\\end{tabular}\n"
      ],
      "text/markdown": [
       "\n",
       "A data.table: 1 × 52\n",
       "\n",
       "| gvkey &lt;chr&gt; | docid &lt;chr&gt; | permno &lt;chr&gt; | datadate &lt;date&gt; | fyearq &lt;dbl&gt; | fqtr &lt;dbl&gt; | fyr &lt;dbl&gt; | rdq &lt;date&gt; | rdq1 &lt;date&gt; | repdats &lt;date&gt; | ciq_release_date &lt;date&gt; | call_date &lt;date&gt; | leadrdq1 &lt;date&gt; | release_keydevid &lt;dbl&gt; | call_keydevid &lt;dbl&gt; | companyname &lt;chr&gt; | mcap &lt;dbl&gt; | sue &lt;dbl&gt; | sue_lag1 &lt;dbl&gt; | sue_lead1 &lt;dbl&gt; | se &lt;dbl&gt; | se_lag1 &lt;dbl&gt; | se_lead1 &lt;dbl&gt; | sest &lt;dbl&gt; | sest_lag1 &lt;dbl&gt; | sest_lead1 &lt;dbl&gt; | smedest &lt;dbl&gt; | numest &lt;dbl&gt; | sstdest &lt;dbl&gt; | ret_m1_m1 &lt;dbl&gt; | ret_m2_m2 &lt;dbl&gt; | ret_m30_m3 &lt;dbl&gt; | ret_0_10 &lt;dbl&gt; | ret_0_20 &lt;dbl&gt; | ret_0_30 &lt;dbl&gt; | car_m1_m1 &lt;dbl&gt; | car_m2_m2 &lt;dbl&gt; | car_m30_m3 &lt;dbl&gt; | car_0_10 &lt;dbl&gt; | car_0_10_lead1 &lt;dbl&gt; | car_0_10_lag1 &lt;dbl&gt; | car_0_20 &lt;dbl&gt; | car_0_20_lead1 &lt;dbl&gt; | car_0_20_lag1 &lt;dbl&gt; | car_0_30 &lt;dbl&gt; | car_0_30_lead1 &lt;dbl&gt; | car_0_30_lag1 &lt;dbl&gt; | alpha &lt;dbl&gt; | beta_mktrf &lt;dbl&gt; | beta_smb &lt;dbl&gt; | beta_hml &lt;dbl&gt; | volatility &lt;dbl&gt; |\n",
       "|---|---|---|---|---|---|---|---|---|---|---|---|---|---|---|---|---|---|---|---|---|---|---|---|---|---|---|---|---|---|---|---|---|---|---|---|---|---|---|---|---|---|---|---|---|---|---|---|---|---|---|---|\n",
       "| 001013 | 001013-2008-03-05 | 50906 | 2008-01-31 | 2008 | 1 | 10 | 2008-03-05 | 2008-03-05 | 2008-03-05 | 2008-03-05 | 2008-03-05 | 2008-06-04 | 5241424 | 5152678 | ADC Telecommunications Inc. | 7.46124 | 0.006761325 | NA | 0.006062767 | 0.01893171 | NA | 0.0278174 | 0.01217039 | NA | 0.02175464 | 0.01217039 | 17 | 0.001547043 | 0.2971765 | -1.536211 | 0.2199395 | -12.37037 | -6.222223 | -6.96296 | 0.7939703 | -1.043903 | -2.655725 | -9.076894 | 11.50231 | NA | -6.616572 | 4.588225 | NA | -6.567197 | 0.3902708 | NA | -0.08592177 | 0.9685945 | -0.2939265 | 1.243559 | 3.171002 |\n",
       "\n"
      ],
      "text/plain": [
       "  gvkey  docid             permno datadate   fyearq fqtr fyr rdq       \n",
       "1 001013 001013-2008-03-05 50906  2008-01-31 2008   1    10  2008-03-05\n",
       "  rdq1       repdats    ciq_release_date call_date  leadrdq1   release_keydevid\n",
       "1 2008-03-05 2008-03-05 2008-03-05       2008-03-05 2008-06-04 5241424         \n",
       "  call_keydevid companyname                 mcap    sue         sue_lag1\n",
       "1 5152678       ADC Telecommunications Inc. 7.46124 0.006761325 NA      \n",
       "  sue_lead1   se         se_lag1 se_lead1  sest       sest_lag1 sest_lead1\n",
       "1 0.006062767 0.01893171 NA      0.0278174 0.01217039 NA        0.02175464\n",
       "  smedest    numest sstdest     ret_m1_m1 ret_m2_m2 ret_m30_m3 ret_0_10 \n",
       "1 0.01217039 17     0.001547043 0.2971765 -1.536211 0.2199395  -12.37037\n",
       "  ret_0_20  ret_0_30 car_m1_m1 car_m2_m2 car_m30_m3 car_0_10  car_0_10_lead1\n",
       "1 -6.222223 -6.96296 0.7939703 -1.043903 -2.655725  -9.076894 11.50231      \n",
       "  car_0_10_lag1 car_0_20  car_0_20_lead1 car_0_20_lag1 car_0_30  car_0_30_lead1\n",
       "1 NA            -6.616572 4.588225       NA            -6.567197 0.3902708     \n",
       "  car_0_30_lag1 alpha       beta_mktrf beta_smb   beta_hml volatility\n",
       "1 NA            -0.08592177 0.9685945  -0.2939265 1.243559 3.171002  "
      ]
     },
     "metadata": {},
     "output_type": "display_data"
    },
    {
     "name": "stdout",
     "output_type": "stream",
     "text": [
      "-f_sue_keydevid_car- saved  (0.51 secs)\n"
     ]
    }
   ],
   "source": [
    "sprintf('N f_sue_keydevid: %s\\n', nrow(f_sue_keydevid)) %>% cat()\n",
    "\n",
    "car_cols = c('car_m1_m1', 'car_m2_m2', 'car_m30_m3', 'car_0_1', 'car_0_10', 'car_0_20', 'car_0_30',\n",
    "             'ret_m1_m1', 'ret_m2_m2', 'ret_m30_m3', 'ret_0_1', 'ret_0_10', 'ret_0_20', 'ret_0_30',\n",
    "             'alpha', 'volatility')\n",
    "\n",
    "f_sue_keydevid_car = car[, ':='(join_date=edate)\n",
    "    ][f_sue_keydevid[, ':='(join_date=call_date)], on=.(permno, join_date), nomatch=NULL\n",
    "    ][, ':='(join_date=NULL)\n",
    "    ][, (car_cols) := lapply(.SD, function(x) 100*x), .SDcols=car_cols\n",
    "    ][, {\n",
    "      res = list()\n",
    "      for (i in 1:.N) {\n",
    "          leadrdq1_tmp = leadrdq1[i]\n",
    "          lagrdq1_tmp = lagrdq1[i]\n",
    "          lead_selector=fillna(rdq1==leadrdq1_tmp, na.value=F)\n",
    "          lag_selector=fillna(rdq1==lagrdq1_tmp, na.value=F)\n",
    "          \n",
    "          se_lead1 = se[lead_selector][1]\n",
    "          se_lag1 = se[lag_selector][1]\n",
    "          sue_lag1 = sue[lag_selector][1]\n",
    "          sue_lead1 = sue[lead_selector][1]\n",
    "          sest_lead1 = sest[lead_selector][1]\n",
    "          sest_lag1 = sest[lag_selector][1]\n",
    "          \n",
    "          car_0_10_lead1 = car_0_10[lead_selector][1]\n",
    "          car_0_10_lag1 = car_0_10[lag_selector][1]\n",
    "          car_0_20_lead1 = car_0_20[lead_selector][1]\n",
    "          car_0_20_lag1 = car_0_20[lag_selector][1]\n",
    "          car_0_30_lead1 = car_0_30[lead_selector][1]\n",
    "          car_0_30_lag1 = car_0_30[lag_selector][1]\n",
    "          \n",
    "\n",
    "          res[[i]] = list(docid=docid[i], permno=permno[i], datadate=datadate[i], fyearq=fyearq[i], fqtr=fqtr[i],\n",
    "                          fyr=fyr[i], rdq=rdq[i], rdq1=rdq1[i], repdats=repdats[i], ciq_release_date=ciq_release_date[i],\n",
    "                          call_date=call_date[i],\n",
    "                          leadrdq1=leadrdq1[i], release_keydevid=release_keydevid[i],\n",
    "                          call_keydevid=call_keydevid[i], companyname=companyname[i],\n",
    "                          mcap=mcap[i], sue=sue[i], sue_lag1=sue_lag1, sue_lead1=sue_lead1,\n",
    "                          se=se[i], se_lag1=se_lag1, se_lead1=se_lead1, \n",
    "                          sest=sest[i], sest_lag1=sest_lag1, sest_lead1=sest_lead1,\n",
    "                          smedest=smedest[i], numest=numest[i], sstdest=sstdest[i],\n",
    "                          ret_m1_m1=ret_m1_m1[i], ret_m2_m2=ret_m2_m2[i], ret_m30_m3=ret_m30_m3[i],\n",
    "                          ret_0_10=ret_0_10[i], ret_0_20=ret_0_20[i], ret_0_30=ret_0_30[i],\n",
    "                          car_m1_m1=car_m1_m1[i], car_m2_m2=car_m2_m2[i], car_m30_m3=car_m30_m3[i], \n",
    "                          car_0_10=car_0_10[i], car_0_10_lead1=car_0_10_lead1, car_0_10_lag1=car_0_10_lag1,\n",
    "                          car_0_20=car_0_20[i], car_0_20_lead1=car_0_20_lead1, car_0_20_lag1=car_0_20_lag1,\n",
    "                          car_0_30=car_0_30[i], car_0_30_lead1=car_0_30_lead1, car_0_30_lag1=car_0_30_lag1,\n",
    "                          alpha=alpha[i], beta_mktrf=beta_mktrf[i], beta_smb=beta_smb[i],\n",
    "                          beta_hml=beta_hml[i], volatility=volatility[i])}\n",
    "      res = rbindlist(res)\n",
    "      }, \n",
    "      keyby=.(gvkey)\n",
    "    ][order(gvkey, ciq_release_date)]\n",
    "\n",
    "sprintf('N f_sue_keydevid_car: %s\\n', nrow(f_sue_keydevid_car)) %>% cat()\n",
    "\n",
    "f_sue_keydevid_car[1]\n",
    "sv(f_sue_keydevid_car)"
   ]
  },
  {
   "cell_type": "code",
   "execution_count": null,
   "metadata": {
    "scrolled": true
   },
   "outputs": [],
   "source": [
    "# Plot: number of calls by year\n",
    "f_sue_keydevid_car[, .(year=as.factor(year(ciq_release_date)))] %>%\n",
    "    plot_ly(x=~year, type='histogram') %>%\n",
    "    plotly::layout(autosize=F)"
   ]
  },
  {
   "cell_type": "markdown",
   "metadata": {},
   "source": [
    "## <-> `finratio`"
   ]
  },
  {
   "cell_type": "markdown",
   "metadata": {},
   "source": [
    "Filter:\n",
    "- `gvkey` in `f_sue_keydevid_car` are not in `wrds_finratio`. \n",
    "- `abs(pubdate_calldate_gap)<=60`. \n",
    "- 26967 -> 24470"
   ]
  },
  {
   "cell_type": "code",
   "execution_count": 160,
   "metadata": {},
   "outputs": [
    {
     "name": "stdout",
     "output_type": "stream",
     "text": [
      "-wrds_finratio- loaded  (0.29 secs)\n",
      "-f_sue_keydevid_car- loaded  (0.11 secs)\n"
     ]
    }
   ],
   "source": [
    "ld(wrds_finratio, path=WRDS_DOWNLOAD_DIR, force=T)\n",
    "ld(f_sue_keydevid_car, force=T)"
   ]
  },
  {
   "cell_type": "code",
   "execution_count": 161,
   "metadata": {
    "scrolled": true
   },
   "outputs": [
    {
     "name": "stdout",
     "output_type": "stream",
     "text": [
      "N f_sue_keydevid_car: 53930\n",
      "N f_sue_keydevid_car_finratio: 48936\n"
     ]
    },
    {
     "data": {
      "text/html": [
       "<table>\n",
       "<caption>A data.table: 1 × 55</caption>\n",
       "<thead>\n",
       "\t<tr><th scope=col>gvkey</th><th scope=col>bm</th><th scope=col>roa</th><th scope=col>debt_assets</th><th scope=col>docid</th><th scope=col>permno</th><th scope=col>datadate</th><th scope=col>fyearq</th><th scope=col>fqtr</th><th scope=col>fyr</th><th scope=col>rdq</th><th scope=col>rdq1</th><th scope=col>repdats</th><th scope=col>ciq_release_date</th><th scope=col>call_date</th><th scope=col>leadrdq1</th><th scope=col>release_keydevid</th><th scope=col>call_keydevid</th><th scope=col>companyname</th><th scope=col>mcap</th><th scope=col>sue</th><th scope=col>sue_lag1</th><th scope=col>sue_lead1</th><th scope=col>se</th><th scope=col>se_lag1</th><th scope=col>se_lead1</th><th scope=col>sest</th><th scope=col>sest_lag1</th><th scope=col>sest_lead1</th><th scope=col>smedest</th><th scope=col>numest</th><th scope=col>sstdest</th><th scope=col>ret_m1_m1</th><th scope=col>ret_m2_m2</th><th scope=col>ret_m30_m3</th><th scope=col>ret_0_10</th><th scope=col>ret_0_20</th><th scope=col>ret_0_30</th><th scope=col>car_m1_m1</th><th scope=col>car_m2_m2</th><th scope=col>car_m30_m3</th><th scope=col>car_0_10</th><th scope=col>car_0_10_lead1</th><th scope=col>car_0_10_lag1</th><th scope=col>car_0_20</th><th scope=col>car_0_20_lead1</th><th scope=col>car_0_20_lag1</th><th scope=col>car_0_30</th><th scope=col>car_0_30_lead1</th><th scope=col>car_0_30_lag1</th><th scope=col>alpha</th><th scope=col>beta_mktrf</th><th scope=col>beta_smb</th><th scope=col>beta_hml</th><th scope=col>volatility</th></tr>\n",
       "\t<tr><th scope=col>&lt;chr&gt;</th><th scope=col>&lt;dbl&gt;</th><th scope=col>&lt;dbl&gt;</th><th scope=col>&lt;dbl&gt;</th><th scope=col>&lt;chr&gt;</th><th scope=col>&lt;chr&gt;</th><th scope=col>&lt;date&gt;</th><th scope=col>&lt;dbl&gt;</th><th scope=col>&lt;dbl&gt;</th><th scope=col>&lt;dbl&gt;</th><th scope=col>&lt;date&gt;</th><th scope=col>&lt;date&gt;</th><th scope=col>&lt;date&gt;</th><th scope=col>&lt;date&gt;</th><th scope=col>&lt;date&gt;</th><th scope=col>&lt;date&gt;</th><th scope=col>&lt;dbl&gt;</th><th scope=col>&lt;dbl&gt;</th><th scope=col>&lt;chr&gt;</th><th scope=col>&lt;dbl&gt;</th><th scope=col>&lt;dbl&gt;</th><th scope=col>&lt;dbl&gt;</th><th scope=col>&lt;dbl&gt;</th><th scope=col>&lt;dbl&gt;</th><th scope=col>&lt;dbl&gt;</th><th scope=col>&lt;dbl&gt;</th><th scope=col>&lt;dbl&gt;</th><th scope=col>&lt;dbl&gt;</th><th scope=col>&lt;dbl&gt;</th><th scope=col>&lt;dbl&gt;</th><th scope=col>&lt;dbl&gt;</th><th scope=col>&lt;dbl&gt;</th><th scope=col>&lt;dbl&gt;</th><th scope=col>&lt;dbl&gt;</th><th scope=col>&lt;dbl&gt;</th><th scope=col>&lt;dbl&gt;</th><th scope=col>&lt;dbl&gt;</th><th scope=col>&lt;dbl&gt;</th><th scope=col>&lt;dbl&gt;</th><th scope=col>&lt;dbl&gt;</th><th scope=col>&lt;dbl&gt;</th><th scope=col>&lt;dbl&gt;</th><th scope=col>&lt;dbl&gt;</th><th scope=col>&lt;dbl&gt;</th><th scope=col>&lt;dbl&gt;</th><th scope=col>&lt;dbl&gt;</th><th scope=col>&lt;dbl&gt;</th><th scope=col>&lt;dbl&gt;</th><th scope=col>&lt;dbl&gt;</th><th scope=col>&lt;dbl&gt;</th><th scope=col>&lt;dbl&gt;</th><th scope=col>&lt;dbl&gt;</th><th scope=col>&lt;dbl&gt;</th><th scope=col>&lt;dbl&gt;</th><th scope=col>&lt;dbl&gt;</th></tr>\n",
       "</thead>\n",
       "<tbody>\n",
       "\t<tr><td>001013</td><td>0.477</td><td>0.099</td><td>0.429</td><td>001013-2008-03-05</td><td>50906</td><td>2008-01-31</td><td>2008</td><td>1</td><td>10</td><td>2008-03-05</td><td>2008-03-05</td><td>2008-03-05</td><td>2008-03-05</td><td>2008-03-05</td><td>2008-06-04</td><td>5241424</td><td>5152678</td><td>ADC Telecommunications Inc.</td><td>7.46124</td><td>0.006761325</td><td>NA</td><td>0.006062767</td><td>0.01893171</td><td>NA</td><td>0.0278174</td><td>0.01217039</td><td>NA</td><td>0.02175464</td><td>0.01217039</td><td>17</td><td>0.001547043</td><td>0.2971765</td><td>-1.536211</td><td>0.2199395</td><td>-12.37037</td><td>-6.222223</td><td>-6.96296</td><td>0.7939703</td><td>-1.043903</td><td>-2.655725</td><td>-9.076894</td><td>11.50231</td><td>NA</td><td>-6.616572</td><td>4.588225</td><td>NA</td><td>-6.567197</td><td>0.3902708</td><td>NA</td><td>-0.08592177</td><td>0.9685945</td><td>-0.2939265</td><td>1.243559</td><td>3.171002</td></tr>\n",
       "</tbody>\n",
       "</table>\n"
      ],
      "text/latex": [
       "A data.table: 1 × 55\n",
       "\\begin{tabular}{lllllllllllllllllllllllllllllllllllllllllllllllllllllll}\n",
       " gvkey & bm & roa & debt\\_assets & docid & permno & datadate & fyearq & fqtr & fyr & rdq & rdq1 & repdats & ciq\\_release\\_date & call\\_date & leadrdq1 & release\\_keydevid & call\\_keydevid & companyname & mcap & sue & sue\\_lag1 & sue\\_lead1 & se & se\\_lag1 & se\\_lead1 & sest & sest\\_lag1 & sest\\_lead1 & smedest & numest & sstdest & ret\\_m1\\_m1 & ret\\_m2\\_m2 & ret\\_m30\\_m3 & ret\\_0\\_10 & ret\\_0\\_20 & ret\\_0\\_30 & car\\_m1\\_m1 & car\\_m2\\_m2 & car\\_m30\\_m3 & car\\_0\\_10 & car\\_0\\_10\\_lead1 & car\\_0\\_10\\_lag1 & car\\_0\\_20 & car\\_0\\_20\\_lead1 & car\\_0\\_20\\_lag1 & car\\_0\\_30 & car\\_0\\_30\\_lead1 & car\\_0\\_30\\_lag1 & alpha & beta\\_mktrf & beta\\_smb & beta\\_hml & volatility\\\\\n",
       " <chr> & <dbl> & <dbl> & <dbl> & <chr> & <chr> & <date> & <dbl> & <dbl> & <dbl> & <date> & <date> & <date> & <date> & <date> & <date> & <dbl> & <dbl> & <chr> & <dbl> & <dbl> & <dbl> & <dbl> & <dbl> & <dbl> & <dbl> & <dbl> & <dbl> & <dbl> & <dbl> & <dbl> & <dbl> & <dbl> & <dbl> & <dbl> & <dbl> & <dbl> & <dbl> & <dbl> & <dbl> & <dbl> & <dbl> & <dbl> & <dbl> & <dbl> & <dbl> & <dbl> & <dbl> & <dbl> & <dbl> & <dbl> & <dbl> & <dbl> & <dbl> & <dbl>\\\\\n",
       "\\hline\n",
       "\t 001013 & 0.477 & 0.099 & 0.429 & 001013-2008-03-05 & 50906 & 2008-01-31 & 2008 & 1 & 10 & 2008-03-05 & 2008-03-05 & 2008-03-05 & 2008-03-05 & 2008-03-05 & 2008-06-04 & 5241424 & 5152678 & ADC Telecommunications Inc. & 7.46124 & 0.006761325 & NA & 0.006062767 & 0.01893171 & NA & 0.0278174 & 0.01217039 & NA & 0.02175464 & 0.01217039 & 17 & 0.001547043 & 0.2971765 & -1.536211 & 0.2199395 & -12.37037 & -6.222223 & -6.96296 & 0.7939703 & -1.043903 & -2.655725 & -9.076894 & 11.50231 & NA & -6.616572 & 4.588225 & NA & -6.567197 & 0.3902708 & NA & -0.08592177 & 0.9685945 & -0.2939265 & 1.243559 & 3.171002\\\\\n",
       "\\end{tabular}\n"
      ],
      "text/markdown": [
       "\n",
       "A data.table: 1 × 55\n",
       "\n",
       "| gvkey &lt;chr&gt; | bm &lt;dbl&gt; | roa &lt;dbl&gt; | debt_assets &lt;dbl&gt; | docid &lt;chr&gt; | permno &lt;chr&gt; | datadate &lt;date&gt; | fyearq &lt;dbl&gt; | fqtr &lt;dbl&gt; | fyr &lt;dbl&gt; | rdq &lt;date&gt; | rdq1 &lt;date&gt; | repdats &lt;date&gt; | ciq_release_date &lt;date&gt; | call_date &lt;date&gt; | leadrdq1 &lt;date&gt; | release_keydevid &lt;dbl&gt; | call_keydevid &lt;dbl&gt; | companyname &lt;chr&gt; | mcap &lt;dbl&gt; | sue &lt;dbl&gt; | sue_lag1 &lt;dbl&gt; | sue_lead1 &lt;dbl&gt; | se &lt;dbl&gt; | se_lag1 &lt;dbl&gt; | se_lead1 &lt;dbl&gt; | sest &lt;dbl&gt; | sest_lag1 &lt;dbl&gt; | sest_lead1 &lt;dbl&gt; | smedest &lt;dbl&gt; | numest &lt;dbl&gt; | sstdest &lt;dbl&gt; | ret_m1_m1 &lt;dbl&gt; | ret_m2_m2 &lt;dbl&gt; | ret_m30_m3 &lt;dbl&gt; | ret_0_10 &lt;dbl&gt; | ret_0_20 &lt;dbl&gt; | ret_0_30 &lt;dbl&gt; | car_m1_m1 &lt;dbl&gt; | car_m2_m2 &lt;dbl&gt; | car_m30_m3 &lt;dbl&gt; | car_0_10 &lt;dbl&gt; | car_0_10_lead1 &lt;dbl&gt; | car_0_10_lag1 &lt;dbl&gt; | car_0_20 &lt;dbl&gt; | car_0_20_lead1 &lt;dbl&gt; | car_0_20_lag1 &lt;dbl&gt; | car_0_30 &lt;dbl&gt; | car_0_30_lead1 &lt;dbl&gt; | car_0_30_lag1 &lt;dbl&gt; | alpha &lt;dbl&gt; | beta_mktrf &lt;dbl&gt; | beta_smb &lt;dbl&gt; | beta_hml &lt;dbl&gt; | volatility &lt;dbl&gt; |\n",
       "|---|---|---|---|---|---|---|---|---|---|---|---|---|---|---|---|---|---|---|---|---|---|---|---|---|---|---|---|---|---|---|---|---|---|---|---|---|---|---|---|---|---|---|---|---|---|---|---|---|---|---|---|---|---|---|\n",
       "| 001013 | 0.477 | 0.099 | 0.429 | 001013-2008-03-05 | 50906 | 2008-01-31 | 2008 | 1 | 10 | 2008-03-05 | 2008-03-05 | 2008-03-05 | 2008-03-05 | 2008-03-05 | 2008-06-04 | 5241424 | 5152678 | ADC Telecommunications Inc. | 7.46124 | 0.006761325 | NA | 0.006062767 | 0.01893171 | NA | 0.0278174 | 0.01217039 | NA | 0.02175464 | 0.01217039 | 17 | 0.001547043 | 0.2971765 | -1.536211 | 0.2199395 | -12.37037 | -6.222223 | -6.96296 | 0.7939703 | -1.043903 | -2.655725 | -9.076894 | 11.50231 | NA | -6.616572 | 4.588225 | NA | -6.567197 | 0.3902708 | NA | -0.08592177 | 0.9685945 | -0.2939265 | 1.243559 | 3.171002 |\n",
       "\n"
      ],
      "text/plain": [
       "  gvkey  bm    roa   debt_assets docid             permno datadate   fyearq\n",
       "1 001013 0.477 0.099 0.429       001013-2008-03-05 50906  2008-01-31 2008  \n",
       "  fqtr fyr rdq        rdq1       repdats    ciq_release_date call_date \n",
       "1 1    10  2008-03-05 2008-03-05 2008-03-05 2008-03-05       2008-03-05\n",
       "  leadrdq1   release_keydevid call_keydevid companyname                 mcap   \n",
       "1 2008-06-04 5241424          5152678       ADC Telecommunications Inc. 7.46124\n",
       "  sue         sue_lag1 sue_lead1   se         se_lag1 se_lead1  sest      \n",
       "1 0.006761325 NA       0.006062767 0.01893171 NA      0.0278174 0.01217039\n",
       "  sest_lag1 sest_lead1 smedest    numest sstdest     ret_m1_m1 ret_m2_m2\n",
       "1 NA        0.02175464 0.01217039 17     0.001547043 0.2971765 -1.536211\n",
       "  ret_m30_m3 ret_0_10  ret_0_20  ret_0_30 car_m1_m1 car_m2_m2 car_m30_m3\n",
       "1 0.2199395  -12.37037 -6.222223 -6.96296 0.7939703 -1.043903 -2.655725 \n",
       "  car_0_10  car_0_10_lead1 car_0_10_lag1 car_0_20  car_0_20_lead1 car_0_20_lag1\n",
       "1 -9.076894 11.50231       NA            -6.616572 4.588225       NA           \n",
       "  car_0_30  car_0_30_lead1 car_0_30_lag1 alpha       beta_mktrf beta_smb  \n",
       "1 -6.567197 0.3902708      NA            -0.08592177 0.9685945  -0.2939265\n",
       "  beta_hml volatility\n",
       "1 1.243559 3.171002  "
      ]
     },
     "metadata": {},
     "output_type": "display_data"
    },
    {
     "name": "stdout",
     "output_type": "stream",
     "text": [
      "-f_sue_keydevid_car_finratio- saved  (0.49 secs)\n"
     ]
    }
   ],
   "source": [
    "sprintf('N f_sue_keydevid_car: %s\\n', nrow(f_sue_keydevid_car)) %>% cat()\n",
    "\n",
    "f_sue_keydevid_car_finratio = wrds_finratio[, ':='(join_date=public_date)\n",
    "    ][f_sue_keydevid_car[, ':='(join_date=call_date)], on=.(gvkey, join_date), roll='nearest'\n",
    "    ][, ':='(pubdate_calldate_gap=public_date-call_date)\n",
    "    ][!is.na(pubdate_calldate_gap)\n",
    "    ][abs(pubdate_calldate_gap)<=60\n",
    "    ][order(gvkey, ciq_release_date)\n",
    "    ][, ':='(bm=nafill(bm, 'locf'), roa=nafill(roa, 'locf'), debt_assets=nafill(debt_assets, 'locf'))\n",
    "    ][, ':='(pubdate_calldate_gap=NULL, adate=NULL, qdate=NULL, public_date=NULL, join_date=NULL)]\n",
    "\n",
    "sprintf('N f_sue_keydevid_car_finratio: %s\\n', nrow(f_sue_keydevid_car_finratio)) %>% cat()\n",
    "\n",
    "f_sue_keydevid_car_finratio[1]\n",
    "sv(f_sue_keydevid_car_finratio)"
   ]
  },
  {
   "cell_type": "markdown",
   "metadata": {},
   "source": [
    "## <-> volume"
   ]
  },
  {
   "cell_type": "markdown",
   "metadata": {},
   "source": [
    "Filter:\n",
    "- Some gvkey has no `iid=01` in `comp_secd`\n",
    "- 24470 -> 24451\n",
    "\n",
    "Notes:\n",
    "- For any `gvkey`, we only use `iid=01`\n",
    "- In `comp_secd` some records have `volume==0`, we just keep it."
   ]
  },
  {
   "cell_type": "code",
   "execution_count": 162,
   "metadata": {},
   "outputs": [
    {
     "name": "stdout",
     "output_type": "stream",
     "text": [
      "-comp_secd- loaded  (3.16 mins)\n",
      "-f_sue_keydevid_car_finratio- loaded  (3.77 secs)\n"
     ]
    }
   ],
   "source": [
    "ld(comp_secd, path=WRDS_DOWNLOAD_DIR)\n",
    "ld(f_sue_keydevid_car_finratio, force=T)"
   ]
  },
  {
   "cell_type": "code",
   "execution_count": 163,
   "metadata": {},
   "outputs": [
    {
     "name": "stdout",
     "output_type": "stream",
     "text": [
      "N f_sue_keydevid_car_finratio: 48936\n",
      "N f_sue_keydevid_car_finratio_vol: 48898\n"
     ]
    },
    {
     "data": {
      "text/html": [
       "<table>\n",
       "<caption>A data.table: 1 × 56</caption>\n",
       "<thead>\n",
       "\t<tr><th scope=col>gvkey</th><th scope=col>volume</th><th scope=col>bm</th><th scope=col>roa</th><th scope=col>debt_assets</th><th scope=col>docid</th><th scope=col>permno</th><th scope=col>datadate</th><th scope=col>fyearq</th><th scope=col>fqtr</th><th scope=col>fyr</th><th scope=col>rdq</th><th scope=col>rdq1</th><th scope=col>repdats</th><th scope=col>ciq_release_date</th><th scope=col>call_date</th><th scope=col>leadrdq1</th><th scope=col>release_keydevid</th><th scope=col>call_keydevid</th><th scope=col>companyname</th><th scope=col>mcap</th><th scope=col>sue</th><th scope=col>sue_lag1</th><th scope=col>sue_lead1</th><th scope=col>se</th><th scope=col>se_lag1</th><th scope=col>se_lead1</th><th scope=col>sest</th><th scope=col>sest_lag1</th><th scope=col>sest_lead1</th><th scope=col>smedest</th><th scope=col>numest</th><th scope=col>sstdest</th><th scope=col>ret_m1_m1</th><th scope=col>ret_m2_m2</th><th scope=col>ret_m30_m3</th><th scope=col>ret_0_10</th><th scope=col>ret_0_20</th><th scope=col>ret_0_30</th><th scope=col>car_m1_m1</th><th scope=col>car_m2_m2</th><th scope=col>car_m30_m3</th><th scope=col>car_0_10</th><th scope=col>car_0_10_lead1</th><th scope=col>car_0_10_lag1</th><th scope=col>car_0_20</th><th scope=col>car_0_20_lead1</th><th scope=col>car_0_20_lag1</th><th scope=col>car_0_30</th><th scope=col>car_0_30_lead1</th><th scope=col>car_0_30_lag1</th><th scope=col>alpha</th><th scope=col>beta_mktrf</th><th scope=col>beta_smb</th><th scope=col>beta_hml</th><th scope=col>volatility</th></tr>\n",
       "\t<tr><th scope=col>&lt;chr&gt;</th><th scope=col>&lt;dbl&gt;</th><th scope=col>&lt;dbl&gt;</th><th scope=col>&lt;dbl&gt;</th><th scope=col>&lt;dbl&gt;</th><th scope=col>&lt;chr&gt;</th><th scope=col>&lt;chr&gt;</th><th scope=col>&lt;date&gt;</th><th scope=col>&lt;dbl&gt;</th><th scope=col>&lt;dbl&gt;</th><th scope=col>&lt;dbl&gt;</th><th scope=col>&lt;date&gt;</th><th scope=col>&lt;date&gt;</th><th scope=col>&lt;date&gt;</th><th scope=col>&lt;date&gt;</th><th scope=col>&lt;date&gt;</th><th scope=col>&lt;date&gt;</th><th scope=col>&lt;dbl&gt;</th><th scope=col>&lt;dbl&gt;</th><th scope=col>&lt;chr&gt;</th><th scope=col>&lt;dbl&gt;</th><th scope=col>&lt;dbl&gt;</th><th scope=col>&lt;dbl&gt;</th><th scope=col>&lt;dbl&gt;</th><th scope=col>&lt;dbl&gt;</th><th scope=col>&lt;dbl&gt;</th><th scope=col>&lt;dbl&gt;</th><th scope=col>&lt;dbl&gt;</th><th scope=col>&lt;dbl&gt;</th><th scope=col>&lt;dbl&gt;</th><th scope=col>&lt;dbl&gt;</th><th scope=col>&lt;dbl&gt;</th><th scope=col>&lt;dbl&gt;</th><th scope=col>&lt;dbl&gt;</th><th scope=col>&lt;dbl&gt;</th><th scope=col>&lt;dbl&gt;</th><th scope=col>&lt;dbl&gt;</th><th scope=col>&lt;dbl&gt;</th><th scope=col>&lt;dbl&gt;</th><th scope=col>&lt;dbl&gt;</th><th scope=col>&lt;dbl&gt;</th><th scope=col>&lt;dbl&gt;</th><th scope=col>&lt;dbl&gt;</th><th scope=col>&lt;dbl&gt;</th><th scope=col>&lt;dbl&gt;</th><th scope=col>&lt;dbl&gt;</th><th scope=col>&lt;dbl&gt;</th><th scope=col>&lt;dbl&gt;</th><th scope=col>&lt;dbl&gt;</th><th scope=col>&lt;dbl&gt;</th><th scope=col>&lt;dbl&gt;</th><th scope=col>&lt;dbl&gt;</th><th scope=col>&lt;dbl&gt;</th><th scope=col>&lt;dbl&gt;</th><th scope=col>&lt;dbl&gt;</th><th scope=col>&lt;dbl&gt;</th></tr>\n",
       "</thead>\n",
       "<tbody>\n",
       "\t<tr><td>001013</td><td>3.996961</td><td>0.477</td><td>0.099</td><td>0.429</td><td>001013-2008-03-05</td><td>50906</td><td>2008-01-31</td><td>2008</td><td>1</td><td>10</td><td>2008-03-05</td><td>2008-03-05</td><td>2008-03-05</td><td>2008-03-05</td><td>2008-03-05</td><td>2008-06-04</td><td>5241424</td><td>5152678</td><td>ADC Telecommunications Inc.</td><td>7.46124</td><td>0.006761325</td><td>NA</td><td>0.006062767</td><td>0.01893171</td><td>NA</td><td>0.0278174</td><td>0.01217039</td><td>NA</td><td>0.02175464</td><td>0.01217039</td><td>17</td><td>0.001547043</td><td>0.2971765</td><td>-1.536211</td><td>0.2199395</td><td>-12.37037</td><td>-6.222223</td><td>-6.96296</td><td>0.7939703</td><td>-1.043903</td><td>-2.655725</td><td>-9.076894</td><td>11.50231</td><td>NA</td><td>-6.616572</td><td>4.588225</td><td>NA</td><td>-6.567197</td><td>0.3902708</td><td>NA</td><td>-0.08592177</td><td>0.9685945</td><td>-0.2939265</td><td>1.243559</td><td>3.171002</td></tr>\n",
       "</tbody>\n",
       "</table>\n"
      ],
      "text/latex": [
       "A data.table: 1 × 56\n",
       "\\begin{tabular}{llllllllllllllllllllllllllllllllllllllllllllllllllllllll}\n",
       " gvkey & volume & bm & roa & debt\\_assets & docid & permno & datadate & fyearq & fqtr & fyr & rdq & rdq1 & repdats & ciq\\_release\\_date & call\\_date & leadrdq1 & release\\_keydevid & call\\_keydevid & companyname & mcap & sue & sue\\_lag1 & sue\\_lead1 & se & se\\_lag1 & se\\_lead1 & sest & sest\\_lag1 & sest\\_lead1 & smedest & numest & sstdest & ret\\_m1\\_m1 & ret\\_m2\\_m2 & ret\\_m30\\_m3 & ret\\_0\\_10 & ret\\_0\\_20 & ret\\_0\\_30 & car\\_m1\\_m1 & car\\_m2\\_m2 & car\\_m30\\_m3 & car\\_0\\_10 & car\\_0\\_10\\_lead1 & car\\_0\\_10\\_lag1 & car\\_0\\_20 & car\\_0\\_20\\_lead1 & car\\_0\\_20\\_lag1 & car\\_0\\_30 & car\\_0\\_30\\_lead1 & car\\_0\\_30\\_lag1 & alpha & beta\\_mktrf & beta\\_smb & beta\\_hml & volatility\\\\\n",
       " <chr> & <dbl> & <dbl> & <dbl> & <dbl> & <chr> & <chr> & <date> & <dbl> & <dbl> & <dbl> & <date> & <date> & <date> & <date> & <date> & <date> & <dbl> & <dbl> & <chr> & <dbl> & <dbl> & <dbl> & <dbl> & <dbl> & <dbl> & <dbl> & <dbl> & <dbl> & <dbl> & <dbl> & <dbl> & <dbl> & <dbl> & <dbl> & <dbl> & <dbl> & <dbl> & <dbl> & <dbl> & <dbl> & <dbl> & <dbl> & <dbl> & <dbl> & <dbl> & <dbl> & <dbl> & <dbl> & <dbl> & <dbl> & <dbl> & <dbl> & <dbl> & <dbl> & <dbl>\\\\\n",
       "\\hline\n",
       "\t 001013 & 3.996961 & 0.477 & 0.099 & 0.429 & 001013-2008-03-05 & 50906 & 2008-01-31 & 2008 & 1 & 10 & 2008-03-05 & 2008-03-05 & 2008-03-05 & 2008-03-05 & 2008-03-05 & 2008-06-04 & 5241424 & 5152678 & ADC Telecommunications Inc. & 7.46124 & 0.006761325 & NA & 0.006062767 & 0.01893171 & NA & 0.0278174 & 0.01217039 & NA & 0.02175464 & 0.01217039 & 17 & 0.001547043 & 0.2971765 & -1.536211 & 0.2199395 & -12.37037 & -6.222223 & -6.96296 & 0.7939703 & -1.043903 & -2.655725 & -9.076894 & 11.50231 & NA & -6.616572 & 4.588225 & NA & -6.567197 & 0.3902708 & NA & -0.08592177 & 0.9685945 & -0.2939265 & 1.243559 & 3.171002\\\\\n",
       "\\end{tabular}\n"
      ],
      "text/markdown": [
       "\n",
       "A data.table: 1 × 56\n",
       "\n",
       "| gvkey &lt;chr&gt; | volume &lt;dbl&gt; | bm &lt;dbl&gt; | roa &lt;dbl&gt; | debt_assets &lt;dbl&gt; | docid &lt;chr&gt; | permno &lt;chr&gt; | datadate &lt;date&gt; | fyearq &lt;dbl&gt; | fqtr &lt;dbl&gt; | fyr &lt;dbl&gt; | rdq &lt;date&gt; | rdq1 &lt;date&gt; | repdats &lt;date&gt; | ciq_release_date &lt;date&gt; | call_date &lt;date&gt; | leadrdq1 &lt;date&gt; | release_keydevid &lt;dbl&gt; | call_keydevid &lt;dbl&gt; | companyname &lt;chr&gt; | mcap &lt;dbl&gt; | sue &lt;dbl&gt; | sue_lag1 &lt;dbl&gt; | sue_lead1 &lt;dbl&gt; | se &lt;dbl&gt; | se_lag1 &lt;dbl&gt; | se_lead1 &lt;dbl&gt; | sest &lt;dbl&gt; | sest_lag1 &lt;dbl&gt; | sest_lead1 &lt;dbl&gt; | smedest &lt;dbl&gt; | numest &lt;dbl&gt; | sstdest &lt;dbl&gt; | ret_m1_m1 &lt;dbl&gt; | ret_m2_m2 &lt;dbl&gt; | ret_m30_m3 &lt;dbl&gt; | ret_0_10 &lt;dbl&gt; | ret_0_20 &lt;dbl&gt; | ret_0_30 &lt;dbl&gt; | car_m1_m1 &lt;dbl&gt; | car_m2_m2 &lt;dbl&gt; | car_m30_m3 &lt;dbl&gt; | car_0_10 &lt;dbl&gt; | car_0_10_lead1 &lt;dbl&gt; | car_0_10_lag1 &lt;dbl&gt; | car_0_20 &lt;dbl&gt; | car_0_20_lead1 &lt;dbl&gt; | car_0_20_lag1 &lt;dbl&gt; | car_0_30 &lt;dbl&gt; | car_0_30_lead1 &lt;dbl&gt; | car_0_30_lag1 &lt;dbl&gt; | alpha &lt;dbl&gt; | beta_mktrf &lt;dbl&gt; | beta_smb &lt;dbl&gt; | beta_hml &lt;dbl&gt; | volatility &lt;dbl&gt; |\n",
       "|---|---|---|---|---|---|---|---|---|---|---|---|---|---|---|---|---|---|---|---|---|---|---|---|---|---|---|---|---|---|---|---|---|---|---|---|---|---|---|---|---|---|---|---|---|---|---|---|---|---|---|---|---|---|---|---|\n",
       "| 001013 | 3.996961 | 0.477 | 0.099 | 0.429 | 001013-2008-03-05 | 50906 | 2008-01-31 | 2008 | 1 | 10 | 2008-03-05 | 2008-03-05 | 2008-03-05 | 2008-03-05 | 2008-03-05 | 2008-06-04 | 5241424 | 5152678 | ADC Telecommunications Inc. | 7.46124 | 0.006761325 | NA | 0.006062767 | 0.01893171 | NA | 0.0278174 | 0.01217039 | NA | 0.02175464 | 0.01217039 | 17 | 0.001547043 | 0.2971765 | -1.536211 | 0.2199395 | -12.37037 | -6.222223 | -6.96296 | 0.7939703 | -1.043903 | -2.655725 | -9.076894 | 11.50231 | NA | -6.616572 | 4.588225 | NA | -6.567197 | 0.3902708 | NA | -0.08592177 | 0.9685945 | -0.2939265 | 1.243559 | 3.171002 |\n",
       "\n"
      ],
      "text/plain": [
       "  gvkey  volume   bm    roa   debt_assets docid             permno datadate  \n",
       "1 001013 3.996961 0.477 0.099 0.429       001013-2008-03-05 50906  2008-01-31\n",
       "  fyearq fqtr fyr rdq        rdq1       repdats    ciq_release_date call_date \n",
       "1 2008   1    10  2008-03-05 2008-03-05 2008-03-05 2008-03-05       2008-03-05\n",
       "  leadrdq1   release_keydevid call_keydevid companyname                 mcap   \n",
       "1 2008-06-04 5241424          5152678       ADC Telecommunications Inc. 7.46124\n",
       "  sue         sue_lag1 sue_lead1   se         se_lag1 se_lead1  sest      \n",
       "1 0.006761325 NA       0.006062767 0.01893171 NA      0.0278174 0.01217039\n",
       "  sest_lag1 sest_lead1 smedest    numest sstdest     ret_m1_m1 ret_m2_m2\n",
       "1 NA        0.02175464 0.01217039 17     0.001547043 0.2971765 -1.536211\n",
       "  ret_m30_m3 ret_0_10  ret_0_20  ret_0_30 car_m1_m1 car_m2_m2 car_m30_m3\n",
       "1 0.2199395  -12.37037 -6.222223 -6.96296 0.7939703 -1.043903 -2.655725 \n",
       "  car_0_10  car_0_10_lead1 car_0_10_lag1 car_0_20  car_0_20_lead1 car_0_20_lag1\n",
       "1 -9.076894 11.50231       NA            -6.616572 4.588225       NA           \n",
       "  car_0_30  car_0_30_lead1 car_0_30_lag1 alpha       beta_mktrf beta_smb  \n",
       "1 -6.567197 0.3902708      NA            -0.08592177 0.9685945  -0.2939265\n",
       "  beta_hml volatility\n",
       "1 1.243559 3.171002  "
      ]
     },
     "metadata": {},
     "output_type": "display_data"
    },
    {
     "name": "stdout",
     "output_type": "stream",
     "text": [
      "-f_sue_keydevid_car_finratio_vol- saved  (0.51 secs)\n"
     ]
    }
   ],
   "source": [
    "sprintf('N f_sue_keydevid_car_finratio: %s\\n', nrow(f_sue_keydevid_car_finratio)) %>% cat()\n",
    "\n",
    "f_sue_keydevid_car_finratio_vol = comp_secd[datadate>ymd('2005-01-01'), .(gvkey, iid, volume=cshtrd/1e6, price_date=datadate)\n",
    "    ][order(gvkey, price_date, iid)\n",
    "    ][, head(.SD,1), keyby=.(gvkey, price_date)\n",
    "    ][, ':='(join_date=price_date)\n",
    "    ][, .(gvkey, join_date, volume, price_date, iid)\n",
    "    ][f_sue_keydevid_car_finratio[, ':='(join_date=ciq_release_date)], on=.(gvkey, join_date), nomatch=NULL\n",
    "    ][, ':='(releasedate_datadate_gap=ciq_release_date-price_date)\n",
    "    ][abs(releasedate_datadate_gap)<=0\n",
    "    ][order(-abs(releasedate_datadate_gap))\n",
    "    ][, ':='(join_date=NULL, releasedate_datadate_gap=NULL, price_date=NULL, iid=NULL)]\n",
    "\n",
    "sprintf('N f_sue_keydevid_car_finratio_vol: %s\\n', nrow(f_sue_keydevid_car_finratio_vol)) %>% cat()\n",
    "f_sue_keydevid_car_finratio_vol[1]\n",
    "sv(f_sue_keydevid_car_finratio_vol)"
   ]
  },
  {
   "cell_type": "markdown",
   "metadata": {},
   "source": [
    "## <-> `transcriptid`"
   ]
  },
  {
   "cell_type": "markdown",
   "metadata": {},
   "source": [
    "Filter:\n",
    "- `call_keydevid` must also exists in `f_ciq_transcript_detail_sp500`\n",
    "- 24451 -> 24105"
   ]
  },
  {
   "cell_type": "code",
   "execution_count": 164,
   "metadata": {
    "scrolled": true
   },
   "outputs": [
    {
     "name": "stdout",
     "output_type": "stream",
     "text": [
      "-f_ciq_transcript_detail_sp500- loaded  (0.08 secs)\n",
      "-f_sue_keydevid_car_finratio_vol- loaded  (0.14 secs)\n"
     ]
    }
   ],
   "source": [
    "ld(f_ciq_transcript_detail_sp500, force=T)\n",
    "ld(f_sue_keydevid_car_finratio_vol, force=T)"
   ]
  },
  {
   "cell_type": "code",
   "execution_count": 165,
   "metadata": {
    "scrolled": true
   },
   "outputs": [
    {
     "name": "stdout",
     "output_type": "stream",
     "text": [
      "N f_sue_keydevid_car_finratio_vol: 48898\n",
      "N f_sue_keydevid_car_finratio_vol_transcriptid: 48208\n"
     ]
    },
    {
     "data": {
      "text/html": [
       "<table>\n",
       "<caption>A data.table: 1 × 55</caption>\n",
       "<thead>\n",
       "\t<tr><th scope=col>gvkey</th><th scope=col>permno</th><th scope=col>datadate</th><th scope=col>fyear</th><th scope=col>fqtr</th><th scope=col>ciq_release_date</th><th scope=col>ciq_call_date</th><th scope=col>rdq</th><th scope=col>rdq1</th><th scope=col>repdats</th><th scope=col>leadrdq1</th><th scope=col>release_keydevid</th><th scope=col>call_keydevid</th><th scope=col>transcriptid</th><th scope=col>mcap</th><th scope=col>sue</th><th scope=col>sue_lag1</th><th scope=col>sue_lead1</th><th scope=col>se</th><th scope=col>se_lag1</th><th scope=col>se_lead1</th><th scope=col>sest</th><th scope=col>sest_lag1</th><th scope=col>sest_lead1</th><th scope=col>numest</th><th scope=col>smedest</th><th scope=col>sstdest</th><th scope=col>volume</th><th scope=col>ret_m1_m1</th><th scope=col>ret_m2_m2</th><th scope=col>ret_m30_m3</th><th scope=col>ret_0_10</th><th scope=col>ret_0_20</th><th scope=col>ret_0_30</th><th scope=col>car_m1_m1</th><th scope=col>car_m2_m2</th><th scope=col>car_m30_m3</th><th scope=col>car_0_10</th><th scope=col>car_0_10_lag1</th><th scope=col>car_0_10_lead1</th><th scope=col>car_0_20</th><th scope=col>car_0_20_lag1</th><th scope=col>car_0_20_lead1</th><th scope=col>car_0_30</th><th scope=col>car_0_30_lag1</th><th scope=col>car_0_30_lead1</th><th scope=col>bm</th><th scope=col>roa</th><th scope=col>debt_asset</th><th scope=col>alpha</th><th scope=col>beta_mktrf</th><th scope=col>beta_smb</th><th scope=col>beta_hml</th><th scope=col>volatility</th><th scope=col>docid</th></tr>\n",
       "\t<tr><th scope=col>&lt;chr&gt;</th><th scope=col>&lt;chr&gt;</th><th scope=col>&lt;date&gt;</th><th scope=col>&lt;dbl&gt;</th><th scope=col>&lt;dbl&gt;</th><th scope=col>&lt;date&gt;</th><th scope=col>&lt;date&gt;</th><th scope=col>&lt;date&gt;</th><th scope=col>&lt;date&gt;</th><th scope=col>&lt;date&gt;</th><th scope=col>&lt;date&gt;</th><th scope=col>&lt;dbl&gt;</th><th scope=col>&lt;dbl&gt;</th><th scope=col>&lt;dbl&gt;</th><th scope=col>&lt;dbl&gt;</th><th scope=col>&lt;dbl&gt;</th><th scope=col>&lt;dbl&gt;</th><th scope=col>&lt;dbl&gt;</th><th scope=col>&lt;dbl&gt;</th><th scope=col>&lt;dbl&gt;</th><th scope=col>&lt;dbl&gt;</th><th scope=col>&lt;dbl&gt;</th><th scope=col>&lt;dbl&gt;</th><th scope=col>&lt;dbl&gt;</th><th scope=col>&lt;dbl&gt;</th><th scope=col>&lt;dbl&gt;</th><th scope=col>&lt;dbl&gt;</th><th scope=col>&lt;dbl&gt;</th><th scope=col>&lt;dbl&gt;</th><th scope=col>&lt;dbl&gt;</th><th scope=col>&lt;dbl&gt;</th><th scope=col>&lt;dbl&gt;</th><th scope=col>&lt;dbl&gt;</th><th scope=col>&lt;dbl&gt;</th><th scope=col>&lt;dbl&gt;</th><th scope=col>&lt;dbl&gt;</th><th scope=col>&lt;dbl&gt;</th><th scope=col>&lt;dbl&gt;</th><th scope=col>&lt;dbl&gt;</th><th scope=col>&lt;dbl&gt;</th><th scope=col>&lt;dbl&gt;</th><th scope=col>&lt;dbl&gt;</th><th scope=col>&lt;dbl&gt;</th><th scope=col>&lt;dbl&gt;</th><th scope=col>&lt;dbl&gt;</th><th scope=col>&lt;dbl&gt;</th><th scope=col>&lt;dbl&gt;</th><th scope=col>&lt;dbl&gt;</th><th scope=col>&lt;dbl&gt;</th><th scope=col>&lt;dbl&gt;</th><th scope=col>&lt;dbl&gt;</th><th scope=col>&lt;dbl&gt;</th><th scope=col>&lt;dbl&gt;</th><th scope=col>&lt;dbl&gt;</th><th scope=col>&lt;chr&gt;</th></tr>\n",
       "</thead>\n",
       "<tbody>\n",
       "\t<tr><td>001013</td><td>50906</td><td>2008-01-31</td><td>2008</td><td>1</td><td>2008-03-05</td><td>2008-03-05</td><td>2008-03-05</td><td>2008-03-05</td><td>2008-03-05</td><td>2008-06-04</td><td>5241424</td><td>5152678</td><td>320</td><td>7.46124</td><td>0.006761325</td><td>NA</td><td>0.006062767</td><td>0.01893171</td><td>NA</td><td>0.0278174</td><td>0.01217039</td><td>NA</td><td>0.02175464</td><td>17</td><td>0.01217039</td><td>0.001547043</td><td>3.996961</td><td>0.2971765</td><td>-1.536211</td><td>0.2199395</td><td>-12.37037</td><td>-6.222223</td><td>-6.96296</td><td>0.7939703</td><td>-1.043903</td><td>-2.655725</td><td>-9.076894</td><td>NA</td><td>11.50231</td><td>-6.616572</td><td>NA</td><td>4.588225</td><td>-6.567197</td><td>NA</td><td>0.3902708</td><td>0.477</td><td>0.099</td><td>0.429</td><td>-0.08592177</td><td>0.9685945</td><td>-0.2939265</td><td>1.243559</td><td>3.171002</td><td>001013-2008-03-05</td></tr>\n",
       "</tbody>\n",
       "</table>\n"
      ],
      "text/latex": [
       "A data.table: 1 × 55\n",
       "\\begin{tabular}{lllllllllllllllllllllllllllllllllllllllllllllllllllllll}\n",
       " gvkey & permno & datadate & fyear & fqtr & ciq\\_release\\_date & ciq\\_call\\_date & rdq & rdq1 & repdats & leadrdq1 & release\\_keydevid & call\\_keydevid & transcriptid & mcap & sue & sue\\_lag1 & sue\\_lead1 & se & se\\_lag1 & se\\_lead1 & sest & sest\\_lag1 & sest\\_lead1 & numest & smedest & sstdest & volume & ret\\_m1\\_m1 & ret\\_m2\\_m2 & ret\\_m30\\_m3 & ret\\_0\\_10 & ret\\_0\\_20 & ret\\_0\\_30 & car\\_m1\\_m1 & car\\_m2\\_m2 & car\\_m30\\_m3 & car\\_0\\_10 & car\\_0\\_10\\_lag1 & car\\_0\\_10\\_lead1 & car\\_0\\_20 & car\\_0\\_20\\_lag1 & car\\_0\\_20\\_lead1 & car\\_0\\_30 & car\\_0\\_30\\_lag1 & car\\_0\\_30\\_lead1 & bm & roa & debt\\_asset & alpha & beta\\_mktrf & beta\\_smb & beta\\_hml & volatility & docid\\\\\n",
       " <chr> & <chr> & <date> & <dbl> & <dbl> & <date> & <date> & <date> & <date> & <date> & <date> & <dbl> & <dbl> & <dbl> & <dbl> & <dbl> & <dbl> & <dbl> & <dbl> & <dbl> & <dbl> & <dbl> & <dbl> & <dbl> & <dbl> & <dbl> & <dbl> & <dbl> & <dbl> & <dbl> & <dbl> & <dbl> & <dbl> & <dbl> & <dbl> & <dbl> & <dbl> & <dbl> & <dbl> & <dbl> & <dbl> & <dbl> & <dbl> & <dbl> & <dbl> & <dbl> & <dbl> & <dbl> & <dbl> & <dbl> & <dbl> & <dbl> & <dbl> & <dbl> & <chr>\\\\\n",
       "\\hline\n",
       "\t 001013 & 50906 & 2008-01-31 & 2008 & 1 & 2008-03-05 & 2008-03-05 & 2008-03-05 & 2008-03-05 & 2008-03-05 & 2008-06-04 & 5241424 & 5152678 & 320 & 7.46124 & 0.006761325 & NA & 0.006062767 & 0.01893171 & NA & 0.0278174 & 0.01217039 & NA & 0.02175464 & 17 & 0.01217039 & 0.001547043 & 3.996961 & 0.2971765 & -1.536211 & 0.2199395 & -12.37037 & -6.222223 & -6.96296 & 0.7939703 & -1.043903 & -2.655725 & -9.076894 & NA & 11.50231 & -6.616572 & NA & 4.588225 & -6.567197 & NA & 0.3902708 & 0.477 & 0.099 & 0.429 & -0.08592177 & 0.9685945 & -0.2939265 & 1.243559 & 3.171002 & 001013-2008-03-05\\\\\n",
       "\\end{tabular}\n"
      ],
      "text/markdown": [
       "\n",
       "A data.table: 1 × 55\n",
       "\n",
       "| gvkey &lt;chr&gt; | permno &lt;chr&gt; | datadate &lt;date&gt; | fyear &lt;dbl&gt; | fqtr &lt;dbl&gt; | ciq_release_date &lt;date&gt; | ciq_call_date &lt;date&gt; | rdq &lt;date&gt; | rdq1 &lt;date&gt; | repdats &lt;date&gt; | leadrdq1 &lt;date&gt; | release_keydevid &lt;dbl&gt; | call_keydevid &lt;dbl&gt; | transcriptid &lt;dbl&gt; | mcap &lt;dbl&gt; | sue &lt;dbl&gt; | sue_lag1 &lt;dbl&gt; | sue_lead1 &lt;dbl&gt; | se &lt;dbl&gt; | se_lag1 &lt;dbl&gt; | se_lead1 &lt;dbl&gt; | sest &lt;dbl&gt; | sest_lag1 &lt;dbl&gt; | sest_lead1 &lt;dbl&gt; | numest &lt;dbl&gt; | smedest &lt;dbl&gt; | sstdest &lt;dbl&gt; | volume &lt;dbl&gt; | ret_m1_m1 &lt;dbl&gt; | ret_m2_m2 &lt;dbl&gt; | ret_m30_m3 &lt;dbl&gt; | ret_0_10 &lt;dbl&gt; | ret_0_20 &lt;dbl&gt; | ret_0_30 &lt;dbl&gt; | car_m1_m1 &lt;dbl&gt; | car_m2_m2 &lt;dbl&gt; | car_m30_m3 &lt;dbl&gt; | car_0_10 &lt;dbl&gt; | car_0_10_lag1 &lt;dbl&gt; | car_0_10_lead1 &lt;dbl&gt; | car_0_20 &lt;dbl&gt; | car_0_20_lag1 &lt;dbl&gt; | car_0_20_lead1 &lt;dbl&gt; | car_0_30 &lt;dbl&gt; | car_0_30_lag1 &lt;dbl&gt; | car_0_30_lead1 &lt;dbl&gt; | bm &lt;dbl&gt; | roa &lt;dbl&gt; | debt_asset &lt;dbl&gt; | alpha &lt;dbl&gt; | beta_mktrf &lt;dbl&gt; | beta_smb &lt;dbl&gt; | beta_hml &lt;dbl&gt; | volatility &lt;dbl&gt; | docid &lt;chr&gt; |\n",
       "|---|---|---|---|---|---|---|---|---|---|---|---|---|---|---|---|---|---|---|---|---|---|---|---|---|---|---|---|---|---|---|---|---|---|---|---|---|---|---|---|---|---|---|---|---|---|---|---|---|---|---|---|---|---|---|\n",
       "| 001013 | 50906 | 2008-01-31 | 2008 | 1 | 2008-03-05 | 2008-03-05 | 2008-03-05 | 2008-03-05 | 2008-03-05 | 2008-06-04 | 5241424 | 5152678 | 320 | 7.46124 | 0.006761325 | NA | 0.006062767 | 0.01893171 | NA | 0.0278174 | 0.01217039 | NA | 0.02175464 | 17 | 0.01217039 | 0.001547043 | 3.996961 | 0.2971765 | -1.536211 | 0.2199395 | -12.37037 | -6.222223 | -6.96296 | 0.7939703 | -1.043903 | -2.655725 | -9.076894 | NA | 11.50231 | -6.616572 | NA | 4.588225 | -6.567197 | NA | 0.3902708 | 0.477 | 0.099 | 0.429 | -0.08592177 | 0.9685945 | -0.2939265 | 1.243559 | 3.171002 | 001013-2008-03-05 |\n",
       "\n"
      ],
      "text/plain": [
       "  gvkey  permno datadate   fyear fqtr ciq_release_date ciq_call_date rdq       \n",
       "1 001013 50906  2008-01-31 2008  1    2008-03-05       2008-03-05    2008-03-05\n",
       "  rdq1       repdats    leadrdq1   release_keydevid call_keydevid transcriptid\n",
       "1 2008-03-05 2008-03-05 2008-06-04 5241424          5152678       320         \n",
       "  mcap    sue         sue_lag1 sue_lead1   se         se_lag1 se_lead1 \n",
       "1 7.46124 0.006761325 NA       0.006062767 0.01893171 NA      0.0278174\n",
       "  sest       sest_lag1 sest_lead1 numest smedest    sstdest     volume  \n",
       "1 0.01217039 NA        0.02175464 17     0.01217039 0.001547043 3.996961\n",
       "  ret_m1_m1 ret_m2_m2 ret_m30_m3 ret_0_10  ret_0_20  ret_0_30 car_m1_m1\n",
       "1 0.2971765 -1.536211 0.2199395  -12.37037 -6.222223 -6.96296 0.7939703\n",
       "  car_m2_m2 car_m30_m3 car_0_10  car_0_10_lag1 car_0_10_lead1 car_0_20 \n",
       "1 -1.043903 -2.655725  -9.076894 NA            11.50231       -6.616572\n",
       "  car_0_20_lag1 car_0_20_lead1 car_0_30  car_0_30_lag1 car_0_30_lead1 bm   \n",
       "1 NA            4.588225       -6.567197 NA            0.3902708      0.477\n",
       "  roa   debt_asset alpha       beta_mktrf beta_smb   beta_hml volatility\n",
       "1 0.099 0.429      -0.08592177 0.9685945  -0.2939265 1.243559 3.171002  \n",
       "  docid            \n",
       "1 001013-2008-03-05"
      ]
     },
     "metadata": {},
     "output_type": "display_data"
    },
    {
     "name": "stdout",
     "output_type": "stream",
     "text": [
      "-f_sue_keydevid_car_finratio_vol_transcriptid- saved  (0.5 secs)\n"
     ]
    }
   ],
   "source": [
    "sprintf('N f_sue_keydevid_car_finratio_vol: %s\\n', nrow(f_sue_keydevid_car_finratio_vol)) %>% cat()\n",
    "\n",
    "f_sue_keydevid_car_finratio_vol_transcriptid = unique(f_ciq_transcript_detail_sp500[, .(join_keydevid=keydevid, transcriptid)])[f_sue_keydevid_car_finratio_vol[, ':='(join_keydevid=call_keydevid)], \n",
    "      on=.(join_keydevid),\n",
    "      nomatch=NULL\n",
    "    ][, .(gvkey, permno, datadate, fyear=fyearq, fqtr, ciq_release_date, ciq_call_date=call_date, rdq, rdq1, repdats,\n",
    "          leadrdq1, release_keydevid, call_keydevid, transcriptid,\n",
    "          mcap, sue, sue_lag1, sue_lead1, se, se_lag1, se_lead1,\n",
    "          sest, sest_lag1, sest_lead1, numest, smedest, sstdest, volume,\n",
    "          ret_m1_m1, ret_m2_m2, ret_m30_m3,\n",
    "          ret_0_10, ret_0_20, ret_0_30,\n",
    "          car_m1_m1, car_m2_m2, car_m30_m3, \n",
    "          car_0_10, car_0_10_lag1, car_0_10_lead1, car_0_20, car_0_20_lag1, car_0_20_lead1,\n",
    "          car_0_30, car_0_30_lag1, car_0_30_lead1,\n",
    "          bm, roa, debt_asset=debt_assets, alpha, beta_mktrf, beta_smb, beta_hml, volatility, docid)\n",
    "    ][order(gvkey, ciq_release_date)]\n",
    "\n",
    "sprintf('N f_sue_keydevid_car_finratio_vol_transcriptid: %s\\n', nrow(f_sue_keydevid_car_finratio_vol_transcriptid)) %>% cat()\n",
    "\n",
    "f_sue_keydevid_car_finratio_vol_transcriptid[1]\n",
    "sv(f_sue_keydevid_car_finratio_vol_transcriptid)"
   ]
  },
  {
   "cell_type": "code",
   "execution_count": null,
   "metadata": {
    "scrolled": true
   },
   "outputs": [],
   "source": [
    "# Plot: number of calls per year\n",
    "f_sue_keydevid_car_finratio_vol_transcriptid[, .(year=as.factor(year(ciq_release_date)))] %>%\n",
    "    plot_ly(x=~year, type='histogram') %>%\n",
    "    plotly::layout(autosize=F)"
   ]
  },
  {
   "cell_type": "markdown",
   "metadata": {},
   "source": [
    "## <-> similarity"
   ]
  },
  {
   "cell_type": "markdown",
   "metadata": {},
   "source": [
    "Filter:\n",
    "- `docid` must also exists in `similarity`\n",
    "- 24105 -> 21822\n",
    "\n",
    "Warnings:\n",
    "- Must do this step after joining `transcripts`.\n",
    "- before joining `similarity`, please first create `similarity.feather` in Python!"
   ]
  },
  {
   "cell_type": "code",
   "execution_count": 166,
   "metadata": {},
   "outputs": [
    {
     "name": "stdout",
     "output_type": "stream",
     "text": [
      "-f_sue_keydevid_car_finratio_vol_transcriptid- already exists, will NOT load again!  (0 secs)\n"
     ]
    }
   ],
   "source": [
    "similarity = as.data.table(read_feather('data/similarity.feather'))\n",
    "\n",
    "ld(f_sue_keydevid_car_finratio_vol_transcriptid)"
   ]
  },
  {
   "cell_type": "code",
   "execution_count": 167,
   "metadata": {
    "scrolled": true
   },
   "outputs": [
    {
     "name": "stdout",
     "output_type": "stream",
     "text": [
      "N f_sue_keydevid_car_finratio_vol_transcriptid: 48208\n",
      "N f_sue_keydevid_car_finratio_vol_transcriptid_sim: 43644\n",
      "-f_sue_keydevid_car_finratio_vol_transcriptid_sim- saved  (0.47 secs)\n"
     ]
    },
    {
     "data": {
      "text/html": [
       "<table>\n",
       "<caption>A data.table: 1 × 58</caption>\n",
       "<thead>\n",
       "\t<tr><th scope=col>docid</th><th scope=col>similarity_unigram</th><th scope=col>similarity_bigram</th><th scope=col>similarity_allgram</th><th scope=col>gvkey</th><th scope=col>permno</th><th scope=col>datadate</th><th scope=col>fyear</th><th scope=col>fqtr</th><th scope=col>ciq_release_date</th><th scope=col>ciq_call_date</th><th scope=col>rdq</th><th scope=col>rdq1</th><th scope=col>repdats</th><th scope=col>leadrdq1</th><th scope=col>release_keydevid</th><th scope=col>call_keydevid</th><th scope=col>transcriptid</th><th scope=col>mcap</th><th scope=col>sue</th><th scope=col>sue_lag1</th><th scope=col>sue_lead1</th><th scope=col>se</th><th scope=col>se_lag1</th><th scope=col>se_lead1</th><th scope=col>sest</th><th scope=col>sest_lag1</th><th scope=col>sest_lead1</th><th scope=col>numest</th><th scope=col>smedest</th><th scope=col>sstdest</th><th scope=col>volume</th><th scope=col>ret_m1_m1</th><th scope=col>ret_m2_m2</th><th scope=col>ret_m30_m3</th><th scope=col>ret_0_10</th><th scope=col>ret_0_20</th><th scope=col>ret_0_30</th><th scope=col>car_m1_m1</th><th scope=col>car_m2_m2</th><th scope=col>car_m30_m3</th><th scope=col>car_0_10</th><th scope=col>car_0_10_lag1</th><th scope=col>car_0_10_lead1</th><th scope=col>car_0_20</th><th scope=col>car_0_20_lag1</th><th scope=col>car_0_20_lead1</th><th scope=col>car_0_30</th><th scope=col>car_0_30_lag1</th><th scope=col>car_0_30_lead1</th><th scope=col>bm</th><th scope=col>roa</th><th scope=col>debt_asset</th><th scope=col>alpha</th><th scope=col>beta_mktrf</th><th scope=col>beta_smb</th><th scope=col>beta_hml</th><th scope=col>volatility</th></tr>\n",
       "\t<tr><th scope=col>&lt;chr&gt;</th><th scope=col>&lt;dbl&gt;</th><th scope=col>&lt;dbl&gt;</th><th scope=col>&lt;dbl&gt;</th><th scope=col>&lt;chr&gt;</th><th scope=col>&lt;chr&gt;</th><th scope=col>&lt;date&gt;</th><th scope=col>&lt;dbl&gt;</th><th scope=col>&lt;dbl&gt;</th><th scope=col>&lt;date&gt;</th><th scope=col>&lt;date&gt;</th><th scope=col>&lt;date&gt;</th><th scope=col>&lt;date&gt;</th><th scope=col>&lt;date&gt;</th><th scope=col>&lt;date&gt;</th><th scope=col>&lt;dbl&gt;</th><th scope=col>&lt;dbl&gt;</th><th scope=col>&lt;dbl&gt;</th><th scope=col>&lt;dbl&gt;</th><th scope=col>&lt;dbl&gt;</th><th scope=col>&lt;dbl&gt;</th><th scope=col>&lt;dbl&gt;</th><th scope=col>&lt;dbl&gt;</th><th scope=col>&lt;dbl&gt;</th><th scope=col>&lt;dbl&gt;</th><th scope=col>&lt;dbl&gt;</th><th scope=col>&lt;dbl&gt;</th><th scope=col>&lt;dbl&gt;</th><th scope=col>&lt;dbl&gt;</th><th scope=col>&lt;dbl&gt;</th><th scope=col>&lt;dbl&gt;</th><th scope=col>&lt;dbl&gt;</th><th scope=col>&lt;dbl&gt;</th><th scope=col>&lt;dbl&gt;</th><th scope=col>&lt;dbl&gt;</th><th scope=col>&lt;dbl&gt;</th><th scope=col>&lt;dbl&gt;</th><th scope=col>&lt;dbl&gt;</th><th scope=col>&lt;dbl&gt;</th><th scope=col>&lt;dbl&gt;</th><th scope=col>&lt;dbl&gt;</th><th scope=col>&lt;dbl&gt;</th><th scope=col>&lt;dbl&gt;</th><th scope=col>&lt;dbl&gt;</th><th scope=col>&lt;dbl&gt;</th><th scope=col>&lt;dbl&gt;</th><th scope=col>&lt;dbl&gt;</th><th scope=col>&lt;dbl&gt;</th><th scope=col>&lt;dbl&gt;</th><th scope=col>&lt;dbl&gt;</th><th scope=col>&lt;dbl&gt;</th><th scope=col>&lt;dbl&gt;</th><th scope=col>&lt;dbl&gt;</th><th scope=col>&lt;dbl&gt;</th><th scope=col>&lt;dbl&gt;</th><th scope=col>&lt;dbl&gt;</th><th scope=col>&lt;dbl&gt;</th><th scope=col>&lt;dbl&gt;</th></tr>\n",
       "</thead>\n",
       "<tbody>\n",
       "\t<tr><td>001013-2008-03-05</td><td>0.7845072</td><td>0.0009473079</td><td>0.02925144</td><td>001013</td><td>50906</td><td>2008-01-31</td><td>2008</td><td>1</td><td>2008-03-05</td><td>2008-03-05</td><td>2008-03-05</td><td>2008-03-05</td><td>2008-03-05</td><td>2008-06-04</td><td>5241424</td><td>5152678</td><td>320</td><td>7.46124</td><td>0.006761325</td><td>NA</td><td>0.006062767</td><td>0.01893171</td><td>NA</td><td>0.0278174</td><td>0.01217039</td><td>NA</td><td>0.02175464</td><td>17</td><td>0.01217039</td><td>0.001547043</td><td>3.996961</td><td>0.2971765</td><td>-1.536211</td><td>0.2199395</td><td>-12.37037</td><td>-6.222223</td><td>-6.96296</td><td>0.7939703</td><td>-1.043903</td><td>-2.655725</td><td>-9.076894</td><td>NA</td><td>11.50231</td><td>-6.616572</td><td>NA</td><td>4.588225</td><td>-6.567197</td><td>NA</td><td>0.3902708</td><td>0.477</td><td>0.099</td><td>0.429</td><td>-0.08592177</td><td>0.9685945</td><td>-0.2939265</td><td>1.243559</td><td>3.171002</td></tr>\n",
       "</tbody>\n",
       "</table>\n"
      ],
      "text/latex": [
       "A data.table: 1 × 58\n",
       "\\begin{tabular}{llllllllllllllllllllllllllllllllllllllllllllllllllllllllll}\n",
       " docid & similarity\\_unigram & similarity\\_bigram & similarity\\_allgram & gvkey & permno & datadate & fyear & fqtr & ciq\\_release\\_date & ciq\\_call\\_date & rdq & rdq1 & repdats & leadrdq1 & release\\_keydevid & call\\_keydevid & transcriptid & mcap & sue & sue\\_lag1 & sue\\_lead1 & se & se\\_lag1 & se\\_lead1 & sest & sest\\_lag1 & sest\\_lead1 & numest & smedest & sstdest & volume & ret\\_m1\\_m1 & ret\\_m2\\_m2 & ret\\_m30\\_m3 & ret\\_0\\_10 & ret\\_0\\_20 & ret\\_0\\_30 & car\\_m1\\_m1 & car\\_m2\\_m2 & car\\_m30\\_m3 & car\\_0\\_10 & car\\_0\\_10\\_lag1 & car\\_0\\_10\\_lead1 & car\\_0\\_20 & car\\_0\\_20\\_lag1 & car\\_0\\_20\\_lead1 & car\\_0\\_30 & car\\_0\\_30\\_lag1 & car\\_0\\_30\\_lead1 & bm & roa & debt\\_asset & alpha & beta\\_mktrf & beta\\_smb & beta\\_hml & volatility\\\\\n",
       " <chr> & <dbl> & <dbl> & <dbl> & <chr> & <chr> & <date> & <dbl> & <dbl> & <date> & <date> & <date> & <date> & <date> & <date> & <dbl> & <dbl> & <dbl> & <dbl> & <dbl> & <dbl> & <dbl> & <dbl> & <dbl> & <dbl> & <dbl> & <dbl> & <dbl> & <dbl> & <dbl> & <dbl> & <dbl> & <dbl> & <dbl> & <dbl> & <dbl> & <dbl> & <dbl> & <dbl> & <dbl> & <dbl> & <dbl> & <dbl> & <dbl> & <dbl> & <dbl> & <dbl> & <dbl> & <dbl> & <dbl> & <dbl> & <dbl> & <dbl> & <dbl> & <dbl> & <dbl> & <dbl> & <dbl>\\\\\n",
       "\\hline\n",
       "\t 001013-2008-03-05 & 0.7845072 & 0.0009473079 & 0.02925144 & 001013 & 50906 & 2008-01-31 & 2008 & 1 & 2008-03-05 & 2008-03-05 & 2008-03-05 & 2008-03-05 & 2008-03-05 & 2008-06-04 & 5241424 & 5152678 & 320 & 7.46124 & 0.006761325 & NA & 0.006062767 & 0.01893171 & NA & 0.0278174 & 0.01217039 & NA & 0.02175464 & 17 & 0.01217039 & 0.001547043 & 3.996961 & 0.2971765 & -1.536211 & 0.2199395 & -12.37037 & -6.222223 & -6.96296 & 0.7939703 & -1.043903 & -2.655725 & -9.076894 & NA & 11.50231 & -6.616572 & NA & 4.588225 & -6.567197 & NA & 0.3902708 & 0.477 & 0.099 & 0.429 & -0.08592177 & 0.9685945 & -0.2939265 & 1.243559 & 3.171002\\\\\n",
       "\\end{tabular}\n"
      ],
      "text/markdown": [
       "\n",
       "A data.table: 1 × 58\n",
       "\n",
       "| docid &lt;chr&gt; | similarity_unigram &lt;dbl&gt; | similarity_bigram &lt;dbl&gt; | similarity_allgram &lt;dbl&gt; | gvkey &lt;chr&gt; | permno &lt;chr&gt; | datadate &lt;date&gt; | fyear &lt;dbl&gt; | fqtr &lt;dbl&gt; | ciq_release_date &lt;date&gt; | ciq_call_date &lt;date&gt; | rdq &lt;date&gt; | rdq1 &lt;date&gt; | repdats &lt;date&gt; | leadrdq1 &lt;date&gt; | release_keydevid &lt;dbl&gt; | call_keydevid &lt;dbl&gt; | transcriptid &lt;dbl&gt; | mcap &lt;dbl&gt; | sue &lt;dbl&gt; | sue_lag1 &lt;dbl&gt; | sue_lead1 &lt;dbl&gt; | se &lt;dbl&gt; | se_lag1 &lt;dbl&gt; | se_lead1 &lt;dbl&gt; | sest &lt;dbl&gt; | sest_lag1 &lt;dbl&gt; | sest_lead1 &lt;dbl&gt; | numest &lt;dbl&gt; | smedest &lt;dbl&gt; | sstdest &lt;dbl&gt; | volume &lt;dbl&gt; | ret_m1_m1 &lt;dbl&gt; | ret_m2_m2 &lt;dbl&gt; | ret_m30_m3 &lt;dbl&gt; | ret_0_10 &lt;dbl&gt; | ret_0_20 &lt;dbl&gt; | ret_0_30 &lt;dbl&gt; | car_m1_m1 &lt;dbl&gt; | car_m2_m2 &lt;dbl&gt; | car_m30_m3 &lt;dbl&gt; | car_0_10 &lt;dbl&gt; | car_0_10_lag1 &lt;dbl&gt; | car_0_10_lead1 &lt;dbl&gt; | car_0_20 &lt;dbl&gt; | car_0_20_lag1 &lt;dbl&gt; | car_0_20_lead1 &lt;dbl&gt; | car_0_30 &lt;dbl&gt; | car_0_30_lag1 &lt;dbl&gt; | car_0_30_lead1 &lt;dbl&gt; | bm &lt;dbl&gt; | roa &lt;dbl&gt; | debt_asset &lt;dbl&gt; | alpha &lt;dbl&gt; | beta_mktrf &lt;dbl&gt; | beta_smb &lt;dbl&gt; | beta_hml &lt;dbl&gt; | volatility &lt;dbl&gt; |\n",
       "|---|---|---|---|---|---|---|---|---|---|---|---|---|---|---|---|---|---|---|---|---|---|---|---|---|---|---|---|---|---|---|---|---|---|---|---|---|---|---|---|---|---|---|---|---|---|---|---|---|---|---|---|---|---|---|---|---|---|\n",
       "| 001013-2008-03-05 | 0.7845072 | 0.0009473079 | 0.02925144 | 001013 | 50906 | 2008-01-31 | 2008 | 1 | 2008-03-05 | 2008-03-05 | 2008-03-05 | 2008-03-05 | 2008-03-05 | 2008-06-04 | 5241424 | 5152678 | 320 | 7.46124 | 0.006761325 | NA | 0.006062767 | 0.01893171 | NA | 0.0278174 | 0.01217039 | NA | 0.02175464 | 17 | 0.01217039 | 0.001547043 | 3.996961 | 0.2971765 | -1.536211 | 0.2199395 | -12.37037 | -6.222223 | -6.96296 | 0.7939703 | -1.043903 | -2.655725 | -9.076894 | NA | 11.50231 | -6.616572 | NA | 4.588225 | -6.567197 | NA | 0.3902708 | 0.477 | 0.099 | 0.429 | -0.08592177 | 0.9685945 | -0.2939265 | 1.243559 | 3.171002 |\n",
       "\n"
      ],
      "text/plain": [
       "  docid             similarity_unigram similarity_bigram similarity_allgram\n",
       "1 001013-2008-03-05 0.7845072          0.0009473079      0.02925144        \n",
       "  gvkey  permno datadate   fyear fqtr ciq_release_date ciq_call_date rdq       \n",
       "1 001013 50906  2008-01-31 2008  1    2008-03-05       2008-03-05    2008-03-05\n",
       "  rdq1       repdats    leadrdq1   release_keydevid call_keydevid transcriptid\n",
       "1 2008-03-05 2008-03-05 2008-06-04 5241424          5152678       320         \n",
       "  mcap    sue         sue_lag1 sue_lead1   se         se_lag1 se_lead1 \n",
       "1 7.46124 0.006761325 NA       0.006062767 0.01893171 NA      0.0278174\n",
       "  sest       sest_lag1 sest_lead1 numest smedest    sstdest     volume  \n",
       "1 0.01217039 NA        0.02175464 17     0.01217039 0.001547043 3.996961\n",
       "  ret_m1_m1 ret_m2_m2 ret_m30_m3 ret_0_10  ret_0_20  ret_0_30 car_m1_m1\n",
       "1 0.2971765 -1.536211 0.2199395  -12.37037 -6.222223 -6.96296 0.7939703\n",
       "  car_m2_m2 car_m30_m3 car_0_10  car_0_10_lag1 car_0_10_lead1 car_0_20 \n",
       "1 -1.043903 -2.655725  -9.076894 NA            11.50231       -6.616572\n",
       "  car_0_20_lag1 car_0_20_lead1 car_0_30  car_0_30_lag1 car_0_30_lead1 bm   \n",
       "1 NA            4.588225       -6.567197 NA            0.3902708      0.477\n",
       "  roa   debt_asset alpha       beta_mktrf beta_smb   beta_hml volatility\n",
       "1 0.099 0.429      -0.08592177 0.9685945  -0.2939265 1.243559 3.171002  "
      ]
     },
     "metadata": {},
     "output_type": "display_data"
    }
   ],
   "source": [
    "sprintf('N f_sue_keydevid_car_finratio_vol_transcriptid: %s\\n', nrow(f_sue_keydevid_car_finratio_vol_transcriptid)) %>% cat()\n",
    "\n",
    "f_sue_keydevid_car_finratio_vol_transcriptid_sim = similarity[f_sue_keydevid_car_finratio_vol_transcriptid, on=.(docid), nomatch=NULL]\n",
    "\n",
    "sprintf('N f_sue_keydevid_car_finratio_vol_transcriptid_sim: %s\\n', nrow(f_sue_keydevid_car_finratio_vol_transcriptid_sim)) %>% cat()\n",
    "sv(f_sue_keydevid_car_finratio_vol_transcriptid_sim)\n",
    "f_sue_keydevid_car_finratio_vol_transcriptid_sim[1]"
   ]
  },
  {
   "cell_type": "code",
   "execution_count": 168,
   "metadata": {},
   "outputs": [
    {
     "data": {
      "text/html": [
       "4.25175844952643"
      ],
      "text/latex": [
       "4.25175844952643"
      ],
      "text/markdown": [
       "4.25175844952643"
      ],
      "text/plain": [
       "[1] 4.251758"
      ]
     },
     "metadata": {},
     "output_type": "display_data"
    },
    {
     "data": {
      "text/html": [
       "-2.91157734112937"
      ],
      "text/latex": [
       "-2.91157734112937"
      ],
      "text/markdown": [
       "-2.91157734112937"
      ],
      "text/plain": [
       "[1] -2.911577"
      ]
     },
     "metadata": {},
     "output_type": "display_data"
    }
   ],
   "source": [
    "f_sue_keydevid_car_finratio_vol_transcriptid_sim[sue>quantile(sue,0.9), mean(car_0_30)]\n",
    "f_sue_keydevid_car_finratio_vol_transcriptid_sim[sue<quantile(sue,0.1), mean(car_0_30)]"
   ]
  },
  {
   "cell_type": "markdown",
   "metadata": {},
   "source": [
    "## <-> `inflow`"
   ]
  },
  {
   "cell_type": "markdown",
   "metadata": {},
   "source": [
    "Task:\n",
    "- Track the [-3, 35] and [-35, 3] money inflow before or after each earnings call\n",
    "    - use `foverlaps(query, subject)`\n",
    "    - `query=f_sue`\n",
    "    - `subject=inflow`"
   ]
  },
  {
   "cell_type": "code",
   "execution_count": 169,
   "metadata": {},
   "outputs": [
    {
     "name": "stdout",
     "output_type": "stream",
     "text": [
      "-f_sue_keydevid_car_finratio_vol_transcriptid_sim- loaded  (0.11 secs)\n",
      "-inflow- loaded  (0.25 secs)\n"
     ]
    }
   ],
   "source": [
    "ld(f_sue_keydevid_car_finratio_vol_transcriptid_sim, force=T)\n",
    "ld(inflow, force=T)"
   ]
  },
  {
   "cell_type": "code",
   "execution_count": 170,
   "metadata": {},
   "outputs": [
    {
     "name": "stdout",
     "output_type": "stream",
     "text": [
      "N f_sue_keydevid_car_finratio_vol_transcriptid_sim: 43644\n",
      "N f_sue_keydevid_car_finratio_vol_transcriptid_sim_inflow: 21822\n",
      "-f_sue_keydevid_car_finratio_vol_transcriptid_sim_inflow- saved  (0.43 secs)\n"
     ]
    },
    {
     "data": {
      "text/html": [
       "<table>\n",
       "<caption>A data.table: 1 × 62</caption>\n",
       "<thead>\n",
       "\t<tr><th scope=col>permno</th><th scope=col>docid</th><th scope=col>similarity_unigram</th><th scope=col>similarity_bigram</th><th scope=col>similarity_allgram</th><th scope=col>gvkey</th><th scope=col>datadate</th><th scope=col>fyear</th><th scope=col>fqtr</th><th scope=col>ciq_release_date</th><th scope=col>ciq_call_date</th><th scope=col>rdq</th><th scope=col>rdq1</th><th scope=col>repdats</th><th scope=col>leadrdq1</th><th scope=col>release_keydevid</th><th scope=col>call_keydevid</th><th scope=col>transcriptid</th><th scope=col>mcap</th><th scope=col>sue</th><th scope=col>sue_lag1</th><th scope=col>sue_lead1</th><th scope=col>se</th><th scope=col>se_lag1</th><th scope=col>se_lead1</th><th scope=col>sest</th><th scope=col>sest_lag1</th><th scope=col>sest_lead1</th><th scope=col>numest</th><th scope=col>smedest</th><th scope=col>sstdest</th><th scope=col>volume</th><th scope=col>ret_m1_m1</th><th scope=col>ret_m2_m2</th><th scope=col>ret_m30_m3</th><th scope=col>ret_0_10</th><th scope=col>ret_0_20</th><th scope=col>ret_0_30</th><th scope=col>car_m1_m1</th><th scope=col>car_m2_m2</th><th scope=col>car_m30_m3</th><th scope=col>car_0_10</th><th scope=col>car_0_10_lag1</th><th scope=col>car_0_10_lead1</th><th scope=col>car_0_20</th><th scope=col>car_0_20_lag1</th><th scope=col>car_0_20_lead1</th><th scope=col>car_0_30</th><th scope=col>car_0_30_lag1</th><th scope=col>car_0_30_lead1</th><th scope=col>bm</th><th scope=col>roa</th><th scope=col>debt_asset</th><th scope=col>alpha</th><th scope=col>beta_mktrf</th><th scope=col>beta_smb</th><th scope=col>beta_hml</th><th scope=col>volatility</th><th scope=col>inflow_0_90</th><th scope=col>inflow_0_60</th><th scope=col>inflow_0_30</th><th scope=col>inflow_m30_0</th></tr>\n",
       "\t<tr><th scope=col>&lt;chr&gt;</th><th scope=col>&lt;chr&gt;</th><th scope=col>&lt;dbl&gt;</th><th scope=col>&lt;dbl&gt;</th><th scope=col>&lt;dbl&gt;</th><th scope=col>&lt;chr&gt;</th><th scope=col>&lt;date&gt;</th><th scope=col>&lt;dbl&gt;</th><th scope=col>&lt;dbl&gt;</th><th scope=col>&lt;date&gt;</th><th scope=col>&lt;date&gt;</th><th scope=col>&lt;date&gt;</th><th scope=col>&lt;date&gt;</th><th scope=col>&lt;date&gt;</th><th scope=col>&lt;date&gt;</th><th scope=col>&lt;dbl&gt;</th><th scope=col>&lt;dbl&gt;</th><th scope=col>&lt;dbl&gt;</th><th scope=col>&lt;dbl&gt;</th><th scope=col>&lt;dbl&gt;</th><th scope=col>&lt;dbl&gt;</th><th scope=col>&lt;dbl&gt;</th><th scope=col>&lt;dbl&gt;</th><th scope=col>&lt;dbl&gt;</th><th scope=col>&lt;dbl&gt;</th><th scope=col>&lt;dbl&gt;</th><th scope=col>&lt;dbl&gt;</th><th scope=col>&lt;dbl&gt;</th><th scope=col>&lt;dbl&gt;</th><th scope=col>&lt;dbl&gt;</th><th scope=col>&lt;dbl&gt;</th><th scope=col>&lt;dbl&gt;</th><th scope=col>&lt;dbl&gt;</th><th scope=col>&lt;dbl&gt;</th><th scope=col>&lt;dbl&gt;</th><th scope=col>&lt;dbl&gt;</th><th scope=col>&lt;dbl&gt;</th><th scope=col>&lt;dbl&gt;</th><th scope=col>&lt;dbl&gt;</th><th scope=col>&lt;dbl&gt;</th><th scope=col>&lt;dbl&gt;</th><th scope=col>&lt;dbl&gt;</th><th scope=col>&lt;dbl&gt;</th><th scope=col>&lt;dbl&gt;</th><th scope=col>&lt;dbl&gt;</th><th scope=col>&lt;dbl&gt;</th><th scope=col>&lt;dbl&gt;</th><th scope=col>&lt;dbl&gt;</th><th scope=col>&lt;dbl&gt;</th><th scope=col>&lt;dbl&gt;</th><th scope=col>&lt;dbl&gt;</th><th scope=col>&lt;dbl&gt;</th><th scope=col>&lt;dbl&gt;</th><th scope=col>&lt;dbl&gt;</th><th scope=col>&lt;dbl&gt;</th><th scope=col>&lt;dbl&gt;</th><th scope=col>&lt;dbl&gt;</th><th scope=col>&lt;dbl&gt;</th><th scope=col>&lt;dbl&gt;</th><th scope=col>&lt;dbl&gt;</th><th scope=col>&lt;dbl&gt;</th><th scope=col>&lt;dbl&gt;</th></tr>\n",
       "</thead>\n",
       "<tbody>\n",
       "\t<tr><td>50906</td><td>001013-2008-03-05</td><td>0.7845072</td><td>0.0009473079</td><td>0.02925144</td><td>001013</td><td>2008-01-31</td><td>2008</td><td>1</td><td>2008-03-05</td><td>2008-03-05</td><td>2008-03-05</td><td>2008-03-05</td><td>2008-03-05</td><td>2008-06-04</td><td>5241424</td><td>5152678</td><td>320</td><td>7.46124</td><td>0.006761325</td><td>NA</td><td>0.006062767</td><td>0.01893171</td><td>NA</td><td>0.0278174</td><td>0.01217039</td><td>NA</td><td>0.02175464</td><td>17</td><td>0.01217039</td><td>0.001547043</td><td>3.996961</td><td>0.2971765</td><td>-1.536211</td><td>0.2199395</td><td>-12.37037</td><td>-6.222223</td><td>-6.96296</td><td>0.7939703</td><td>-1.043903</td><td>-2.655725</td><td>-9.076894</td><td>NA</td><td>11.50231</td><td>-6.616572</td><td>NA</td><td>4.588225</td><td>-6.567197</td><td>NA</td><td>0.3902708</td><td>0.477</td><td>0.099</td><td>0.429</td><td>-0.08592177</td><td>0.9685945</td><td>-0.2939265</td><td>1.243559</td><td>3.171002</td><td>149.3935</td><td>149.3935</td><td>395.3898</td><td>42.46161</td></tr>\n",
       "</tbody>\n",
       "</table>\n"
      ],
      "text/latex": [
       "A data.table: 1 × 62\n",
       "\\begin{tabular}{llllllllllllllllllllllllllllllllllllllllllllllllllllllllllllll}\n",
       " permno & docid & similarity\\_unigram & similarity\\_bigram & similarity\\_allgram & gvkey & datadate & fyear & fqtr & ciq\\_release\\_date & ciq\\_call\\_date & rdq & rdq1 & repdats & leadrdq1 & release\\_keydevid & call\\_keydevid & transcriptid & mcap & sue & sue\\_lag1 & sue\\_lead1 & se & se\\_lag1 & se\\_lead1 & sest & sest\\_lag1 & sest\\_lead1 & numest & smedest & sstdest & volume & ret\\_m1\\_m1 & ret\\_m2\\_m2 & ret\\_m30\\_m3 & ret\\_0\\_10 & ret\\_0\\_20 & ret\\_0\\_30 & car\\_m1\\_m1 & car\\_m2\\_m2 & car\\_m30\\_m3 & car\\_0\\_10 & car\\_0\\_10\\_lag1 & car\\_0\\_10\\_lead1 & car\\_0\\_20 & car\\_0\\_20\\_lag1 & car\\_0\\_20\\_lead1 & car\\_0\\_30 & car\\_0\\_30\\_lag1 & car\\_0\\_30\\_lead1 & bm & roa & debt\\_asset & alpha & beta\\_mktrf & beta\\_smb & beta\\_hml & volatility & inflow\\_0\\_90 & inflow\\_0\\_60 & inflow\\_0\\_30 & inflow\\_m30\\_0\\\\\n",
       " <chr> & <chr> & <dbl> & <dbl> & <dbl> & <chr> & <date> & <dbl> & <dbl> & <date> & <date> & <date> & <date> & <date> & <date> & <dbl> & <dbl> & <dbl> & <dbl> & <dbl> & <dbl> & <dbl> & <dbl> & <dbl> & <dbl> & <dbl> & <dbl> & <dbl> & <dbl> & <dbl> & <dbl> & <dbl> & <dbl> & <dbl> & <dbl> & <dbl> & <dbl> & <dbl> & <dbl> & <dbl> & <dbl> & <dbl> & <dbl> & <dbl> & <dbl> & <dbl> & <dbl> & <dbl> & <dbl> & <dbl> & <dbl> & <dbl> & <dbl> & <dbl> & <dbl> & <dbl> & <dbl> & <dbl> & <dbl> & <dbl> & <dbl> & <dbl>\\\\\n",
       "\\hline\n",
       "\t 50906 & 001013-2008-03-05 & 0.7845072 & 0.0009473079 & 0.02925144 & 001013 & 2008-01-31 & 2008 & 1 & 2008-03-05 & 2008-03-05 & 2008-03-05 & 2008-03-05 & 2008-03-05 & 2008-06-04 & 5241424 & 5152678 & 320 & 7.46124 & 0.006761325 & NA & 0.006062767 & 0.01893171 & NA & 0.0278174 & 0.01217039 & NA & 0.02175464 & 17 & 0.01217039 & 0.001547043 & 3.996961 & 0.2971765 & -1.536211 & 0.2199395 & -12.37037 & -6.222223 & -6.96296 & 0.7939703 & -1.043903 & -2.655725 & -9.076894 & NA & 11.50231 & -6.616572 & NA & 4.588225 & -6.567197 & NA & 0.3902708 & 0.477 & 0.099 & 0.429 & -0.08592177 & 0.9685945 & -0.2939265 & 1.243559 & 3.171002 & 149.3935 & 149.3935 & 395.3898 & 42.46161\\\\\n",
       "\\end{tabular}\n"
      ],
      "text/markdown": [
       "\n",
       "A data.table: 1 × 62\n",
       "\n",
       "| permno &lt;chr&gt; | docid &lt;chr&gt; | similarity_unigram &lt;dbl&gt; | similarity_bigram &lt;dbl&gt; | similarity_allgram &lt;dbl&gt; | gvkey &lt;chr&gt; | datadate &lt;date&gt; | fyear &lt;dbl&gt; | fqtr &lt;dbl&gt; | ciq_release_date &lt;date&gt; | ciq_call_date &lt;date&gt; | rdq &lt;date&gt; | rdq1 &lt;date&gt; | repdats &lt;date&gt; | leadrdq1 &lt;date&gt; | release_keydevid &lt;dbl&gt; | call_keydevid &lt;dbl&gt; | transcriptid &lt;dbl&gt; | mcap &lt;dbl&gt; | sue &lt;dbl&gt; | sue_lag1 &lt;dbl&gt; | sue_lead1 &lt;dbl&gt; | se &lt;dbl&gt; | se_lag1 &lt;dbl&gt; | se_lead1 &lt;dbl&gt; | sest &lt;dbl&gt; | sest_lag1 &lt;dbl&gt; | sest_lead1 &lt;dbl&gt; | numest &lt;dbl&gt; | smedest &lt;dbl&gt; | sstdest &lt;dbl&gt; | volume &lt;dbl&gt; | ret_m1_m1 &lt;dbl&gt; | ret_m2_m2 &lt;dbl&gt; | ret_m30_m3 &lt;dbl&gt; | ret_0_10 &lt;dbl&gt; | ret_0_20 &lt;dbl&gt; | ret_0_30 &lt;dbl&gt; | car_m1_m1 &lt;dbl&gt; | car_m2_m2 &lt;dbl&gt; | car_m30_m3 &lt;dbl&gt; | car_0_10 &lt;dbl&gt; | car_0_10_lag1 &lt;dbl&gt; | car_0_10_lead1 &lt;dbl&gt; | car_0_20 &lt;dbl&gt; | car_0_20_lag1 &lt;dbl&gt; | car_0_20_lead1 &lt;dbl&gt; | car_0_30 &lt;dbl&gt; | car_0_30_lag1 &lt;dbl&gt; | car_0_30_lead1 &lt;dbl&gt; | bm &lt;dbl&gt; | roa &lt;dbl&gt; | debt_asset &lt;dbl&gt; | alpha &lt;dbl&gt; | beta_mktrf &lt;dbl&gt; | beta_smb &lt;dbl&gt; | beta_hml &lt;dbl&gt; | volatility &lt;dbl&gt; | inflow_0_90 &lt;dbl&gt; | inflow_0_60 &lt;dbl&gt; | inflow_0_30 &lt;dbl&gt; | inflow_m30_0 &lt;dbl&gt; |\n",
       "|---|---|---|---|---|---|---|---|---|---|---|---|---|---|---|---|---|---|---|---|---|---|---|---|---|---|---|---|---|---|---|---|---|---|---|---|---|---|---|---|---|---|---|---|---|---|---|---|---|---|---|---|---|---|---|---|---|---|---|---|---|---|\n",
       "| 50906 | 001013-2008-03-05 | 0.7845072 | 0.0009473079 | 0.02925144 | 001013 | 2008-01-31 | 2008 | 1 | 2008-03-05 | 2008-03-05 | 2008-03-05 | 2008-03-05 | 2008-03-05 | 2008-06-04 | 5241424 | 5152678 | 320 | 7.46124 | 0.006761325 | NA | 0.006062767 | 0.01893171 | NA | 0.0278174 | 0.01217039 | NA | 0.02175464 | 17 | 0.01217039 | 0.001547043 | 3.996961 | 0.2971765 | -1.536211 | 0.2199395 | -12.37037 | -6.222223 | -6.96296 | 0.7939703 | -1.043903 | -2.655725 | -9.076894 | NA | 11.50231 | -6.616572 | NA | 4.588225 | -6.567197 | NA | 0.3902708 | 0.477 | 0.099 | 0.429 | -0.08592177 | 0.9685945 | -0.2939265 | 1.243559 | 3.171002 | 149.3935 | 149.3935 | 395.3898 | 42.46161 |\n",
       "\n"
      ],
      "text/plain": [
       "  permno docid             similarity_unigram similarity_bigram\n",
       "1 50906  001013-2008-03-05 0.7845072          0.0009473079     \n",
       "  similarity_allgram gvkey  datadate   fyear fqtr ciq_release_date\n",
       "1 0.02925144         001013 2008-01-31 2008  1    2008-03-05      \n",
       "  ciq_call_date rdq        rdq1       repdats    leadrdq1   release_keydevid\n",
       "1 2008-03-05    2008-03-05 2008-03-05 2008-03-05 2008-06-04 5241424         \n",
       "  call_keydevid transcriptid mcap    sue         sue_lag1 sue_lead1  \n",
       "1 5152678       320          7.46124 0.006761325 NA       0.006062767\n",
       "  se         se_lag1 se_lead1  sest       sest_lag1 sest_lead1 numest\n",
       "1 0.01893171 NA      0.0278174 0.01217039 NA        0.02175464 17    \n",
       "  smedest    sstdest     volume   ret_m1_m1 ret_m2_m2 ret_m30_m3 ret_0_10 \n",
       "1 0.01217039 0.001547043 3.996961 0.2971765 -1.536211 0.2199395  -12.37037\n",
       "  ret_0_20  ret_0_30 car_m1_m1 car_m2_m2 car_m30_m3 car_0_10  car_0_10_lag1\n",
       "1 -6.222223 -6.96296 0.7939703 -1.043903 -2.655725  -9.076894 NA           \n",
       "  car_0_10_lead1 car_0_20  car_0_20_lag1 car_0_20_lead1 car_0_30  car_0_30_lag1\n",
       "1 11.50231       -6.616572 NA            4.588225       -6.567197 NA           \n",
       "  car_0_30_lead1 bm    roa   debt_asset alpha       beta_mktrf beta_smb  \n",
       "1 0.3902708      0.477 0.099 0.429      -0.08592177 0.9685945  -0.2939265\n",
       "  beta_hml volatility inflow_0_90 inflow_0_60 inflow_0_30 inflow_m30_0\n",
       "1 1.243559 3.171002   149.3935    149.3935    395.3898    42.46161    "
      ]
     },
     "metadata": {},
     "output_type": "display_data"
    }
   ],
   "source": [
    "sprintf('N f_sue_keydevid_car_finratio_vol_transcriptid_sim: %s\\n', nrow(f_sue_keydevid_car_finratio_vol_transcriptid_sim)) %>% cat()\n",
    "\n",
    "# subject: inflow\n",
    "inflow[, ':='(start=report_dt-95, end=report_dt+95)]\n",
    "setkey(inflow, permno, start, end)\n",
    "\n",
    "# query: f_sue\n",
    "f_sue_keydevid_car_finratio_vol_transcriptid_sim[, ':='(start=ciq_call_date, end=ciq_call_date)]\n",
    "setkey(f_sue_keydevid_car_finratio_vol_transcriptid_sim, permno, start, end)\n",
    "\n",
    "# foverlaps(query, subject)\n",
    "f_sue_keydevid_car_finratio_vol_transcriptid_sim_inflow = foverlaps(\n",
    "      f_sue_keydevid_car_finratio_vol_transcriptid_sim, inflow,\n",
    "      nomatch=NA)[, ':='(mv=NULL, i.start=NULL, i.end=NULL)\n",
    "    ][, ':='(inflow_0_90=sum(inflow[(report_dt-ciq_call_date) %between% c(-3, 85)], na.rm=T)), by=docid\n",
    "    ][, ':='(inflow_0_60=sum(inflow[(report_dt-ciq_call_date) %between% c(-3, 60)], na.rm=T)), by=docid\n",
    "    ][, ':='(inflow_0_30=sum(inflow[(report_dt-ciq_call_date) %between% c(-3, 30)], na.rm=T)), by=docid\n",
    "    ][, ':='(inflow_m30_0=sum(inflow[(report_dt-ciq_call_date) %between% c(-30, 3)], na.rm=T)), by=docid\n",
    "    ][is.na(inflow_0_90), ':='(inflow_0_90=0)\n",
    "    ][is.na(inflow_0_60), ':='(inflow_0_60=0)\n",
    "    ][is.na(inflow_0_30), ':='(inflow_0_30=0)\n",
    "    ][is.na(inflow_m30_0), ':='(inflow_m30_0=0)\n",
    "    ][, ':='(report_dt=NULL, inflow=NULL, start=NULL, end=NULL)\n",
    "    ][order(docid)] %>% unique()\n",
    "\n",
    "sprintf('N f_sue_keydevid_car_finratio_vol_transcriptid_sim_inflow: %s\\n', nrow(f_sue_keydevid_car_finratio_vol_transcriptid_sim_inflow)) %>% cat()\n",
    "\n",
    "sv(f_sue_keydevid_car_finratio_vol_transcriptid_sim_inflow)\n",
    "f_sue_keydevid_car_finratio_vol_transcriptid_sim_inflow[1]"
   ]
  },
  {
   "cell_type": "markdown",
   "metadata": {},
   "source": [
    "## <-> `revision`"
   ]
  },
  {
   "cell_type": "code",
   "execution_count": 171,
   "metadata": {},
   "outputs": [
    {
     "name": "stdout",
     "output_type": "stream",
     "text": [
      "-revision- loaded  (1 secs)\n",
      "-f_sue_keydevid_car_finratio_vol_transcriptid_sim_inflow- loaded  (0.06 secs)\n"
     ]
    }
   ],
   "source": [
    "ld(revision, force=T)\n",
    "ld(f_sue_keydevid_car_finratio_vol_transcriptid_sim_inflow, force=T)"
   ]
  },
  {
   "cell_type": "markdown",
   "metadata": {},
   "source": [
    "> Task: How soon do anlysts revise their year-end earnings forecats after earnings call?"
   ]
  },
  {
   "cell_type": "code",
   "execution_count": 172,
   "metadata": {
    "scrolled": true
   },
   "outputs": [],
   "source": [
    "how_soon_revise = revision[, .(gvkey, anndats, analys, revision, join_date=anndats)\n",
    "    ][f_sue_keydevid_car_finratio_vol_transcriptid_sim_inflow[, .(gvkey, ciq_call_date, sue, join_date=ciq_call_date)],\n",
    "      on=.(gvkey, join_date>=join_date), allow.cartesian=T\n",
    "    ][order(gvkey, ciq_call_date, anndats), .(gvkey, ciq_call_date, anndats, analys, revision)\n",
    "    ][anndats-ciq_call_date<=30, .(t=(anndats-ciq_call_date)[1], n=.N), keyby=.(gvkey, ciq_call_date, anndats)]"
   ]
  },
  {
   "cell_type": "code",
   "execution_count": null,
   "metadata": {},
   "outputs": [],
   "source": [
    "# plot: How soon do anlysts revise their year-end earnings forecats after earnings call?\n",
    "# ==> Most in the first 2 days\n",
    "how_soon_revise[, .(n=sum(n)), keyby=.(t)] %>%\n",
    "    plot_ly(x=~t, y=~n, type='bar') %>%\n",
    "    plotly::layout(autosize=F, xaxis=list(title='N days after earnings call'),\n",
    "                   yaxis=list(title='N revisions'))"
   ]
  },
  {
   "cell_type": "markdown",
   "metadata": {},
   "source": [
    "Task:\n",
    "- <-> `revision` "
   ]
  },
  {
   "cell_type": "code",
   "execution_count": 173,
   "metadata": {},
   "outputs": [
    {
     "name": "stdout",
     "output_type": "stream",
     "text": [
      "N f_sue_keydevid_car_finratio_vol_transcriptid_sim_inflow: 21822\n",
      "N f_sue_keydevid_car_finratio_vol_transcriptid_sim_inflow_revision: 21822\n",
      "-f_sue_keydevid_car_finratio_vol_transcriptid_sim_inflow_revision- saved  (0.44 secs)\n"
     ]
    },
    {
     "data": {
      "text/html": [
       "<table>\n",
       "<caption>A data.table: 1 × 66</caption>\n",
       "<thead>\n",
       "\t<tr><th scope=col>gvkey</th><th scope=col>permno</th><th scope=col>docid</th><th scope=col>similarity_unigram</th><th scope=col>similarity_bigram</th><th scope=col>similarity_allgram</th><th scope=col>datadate</th><th scope=col>fyear</th><th scope=col>fqtr</th><th scope=col>ciq_release_date</th><th scope=col>ciq_call_date</th><th scope=col>rdq</th><th scope=col>rdq1</th><th scope=col>repdats</th><th scope=col>leadrdq1</th><th scope=col>release_keydevid</th><th scope=col>call_keydevid</th><th scope=col>transcriptid</th><th scope=col>mcap</th><th scope=col>sue</th><th scope=col>sue_lag1</th><th scope=col>sue_lead1</th><th scope=col>se</th><th scope=col>se_lag1</th><th scope=col>se_lead1</th><th scope=col>sest</th><th scope=col>sest_lag1</th><th scope=col>sest_lead1</th><th scope=col>numest</th><th scope=col>smedest</th><th scope=col>sstdest</th><th scope=col>volume</th><th scope=col>ret_m1_m1</th><th scope=col>ret_m2_m2</th><th scope=col>ret_m30_m3</th><th scope=col>ret_0_10</th><th scope=col>ret_0_20</th><th scope=col>ret_0_30</th><th scope=col>car_m1_m1</th><th scope=col>car_m2_m2</th><th scope=col>car_m30_m3</th><th scope=col>car_0_10</th><th scope=col>car_0_10_lag1</th><th scope=col>car_0_10_lead1</th><th scope=col>car_0_20</th><th scope=col>car_0_20_lag1</th><th scope=col>car_0_20_lead1</th><th scope=col>car_0_30</th><th scope=col>car_0_30_lag1</th><th scope=col>car_0_30_lead1</th><th scope=col>bm</th><th scope=col>roa</th><th scope=col>debt_asset</th><th scope=col>alpha</th><th scope=col>beta_mktrf</th><th scope=col>beta_smb</th><th scope=col>beta_hml</th><th scope=col>volatility</th><th scope=col>inflow_0_90</th><th scope=col>inflow_0_60</th><th scope=col>inflow_0_30</th><th scope=col>inflow_m30_0</th><th scope=col>revision_0_90</th><th scope=col>revision_0_60</th><th scope=col>revision_0_30</th><th scope=col>revision_m30_0</th></tr>\n",
       "\t<tr><th scope=col>&lt;chr&gt;</th><th scope=col>&lt;chr&gt;</th><th scope=col>&lt;chr&gt;</th><th scope=col>&lt;dbl&gt;</th><th scope=col>&lt;dbl&gt;</th><th scope=col>&lt;dbl&gt;</th><th scope=col>&lt;date&gt;</th><th scope=col>&lt;dbl&gt;</th><th scope=col>&lt;dbl&gt;</th><th scope=col>&lt;date&gt;</th><th scope=col>&lt;date&gt;</th><th scope=col>&lt;date&gt;</th><th scope=col>&lt;date&gt;</th><th scope=col>&lt;date&gt;</th><th scope=col>&lt;date&gt;</th><th scope=col>&lt;dbl&gt;</th><th scope=col>&lt;dbl&gt;</th><th scope=col>&lt;dbl&gt;</th><th scope=col>&lt;dbl&gt;</th><th scope=col>&lt;dbl&gt;</th><th scope=col>&lt;dbl&gt;</th><th scope=col>&lt;dbl&gt;</th><th scope=col>&lt;dbl&gt;</th><th scope=col>&lt;dbl&gt;</th><th scope=col>&lt;dbl&gt;</th><th scope=col>&lt;dbl&gt;</th><th scope=col>&lt;dbl&gt;</th><th scope=col>&lt;dbl&gt;</th><th scope=col>&lt;dbl&gt;</th><th scope=col>&lt;dbl&gt;</th><th scope=col>&lt;dbl&gt;</th><th scope=col>&lt;dbl&gt;</th><th scope=col>&lt;dbl&gt;</th><th scope=col>&lt;dbl&gt;</th><th scope=col>&lt;dbl&gt;</th><th scope=col>&lt;dbl&gt;</th><th scope=col>&lt;dbl&gt;</th><th scope=col>&lt;dbl&gt;</th><th scope=col>&lt;dbl&gt;</th><th scope=col>&lt;dbl&gt;</th><th scope=col>&lt;dbl&gt;</th><th scope=col>&lt;dbl&gt;</th><th scope=col>&lt;dbl&gt;</th><th scope=col>&lt;dbl&gt;</th><th scope=col>&lt;dbl&gt;</th><th scope=col>&lt;dbl&gt;</th><th scope=col>&lt;dbl&gt;</th><th scope=col>&lt;dbl&gt;</th><th scope=col>&lt;dbl&gt;</th><th scope=col>&lt;dbl&gt;</th><th scope=col>&lt;dbl&gt;</th><th scope=col>&lt;dbl&gt;</th><th scope=col>&lt;dbl&gt;</th><th scope=col>&lt;dbl&gt;</th><th scope=col>&lt;dbl&gt;</th><th scope=col>&lt;dbl&gt;</th><th scope=col>&lt;dbl&gt;</th><th scope=col>&lt;dbl&gt;</th><th scope=col>&lt;dbl&gt;</th><th scope=col>&lt;dbl&gt;</th><th scope=col>&lt;dbl&gt;</th><th scope=col>&lt;dbl&gt;</th><th scope=col>&lt;dbl&gt;</th><th scope=col>&lt;dbl&gt;</th><th scope=col>&lt;dbl&gt;</th><th scope=col>&lt;dbl&gt;</th></tr>\n",
       "</thead>\n",
       "<tbody>\n",
       "\t<tr><td>001013</td><td>50906</td><td>001013-2008-03-05</td><td>0.7845072</td><td>0.0009473079</td><td>0.02925144</td><td>2008-01-31</td><td>2008</td><td>1</td><td>2008-03-05</td><td>2008-03-05</td><td>2008-03-05</td><td>2008-03-05</td><td>2008-03-05</td><td>2008-06-04</td><td>5241424</td><td>5152678</td><td>320</td><td>7.46124</td><td>0.006761325</td><td>NA</td><td>0.006062767</td><td>0.01893171</td><td>NA</td><td>0.0278174</td><td>0.01217039</td><td>NA</td><td>0.02175464</td><td>17</td><td>0.01217039</td><td>0.001547043</td><td>3.996961</td><td>0.2971765</td><td>-1.536211</td><td>0.2199395</td><td>-12.37037</td><td>-6.222223</td><td>-6.96296</td><td>0.7939703</td><td>-1.043903</td><td>-2.655725</td><td>-9.076894</td><td>NA</td><td>11.50231</td><td>-6.616572</td><td>NA</td><td>4.588225</td><td>-6.567197</td><td>NA</td><td>0.3902708</td><td>0.477</td><td>0.099</td><td>0.429</td><td>-0.08592177</td><td>0.9685945</td><td>-0.2939265</td><td>1.243559</td><td>3.171002</td><td>149.3935</td><td>149.3935</td><td>395.3898</td><td>42.46161</td><td>0.1509813</td><td>0.1485884</td><td>0.1483683</td><td>0.1481481</td></tr>\n",
       "</tbody>\n",
       "</table>\n"
      ],
      "text/latex": [
       "A data.table: 1 × 66\n",
       "\\begin{tabular}{llllllllllllllllllllllllllllllllllllllllllllllllllllllllllllllllll}\n",
       " gvkey & permno & docid & similarity\\_unigram & similarity\\_bigram & similarity\\_allgram & datadate & fyear & fqtr & ciq\\_release\\_date & ciq\\_call\\_date & rdq & rdq1 & repdats & leadrdq1 & release\\_keydevid & call\\_keydevid & transcriptid & mcap & sue & sue\\_lag1 & sue\\_lead1 & se & se\\_lag1 & se\\_lead1 & sest & sest\\_lag1 & sest\\_lead1 & numest & smedest & sstdest & volume & ret\\_m1\\_m1 & ret\\_m2\\_m2 & ret\\_m30\\_m3 & ret\\_0\\_10 & ret\\_0\\_20 & ret\\_0\\_30 & car\\_m1\\_m1 & car\\_m2\\_m2 & car\\_m30\\_m3 & car\\_0\\_10 & car\\_0\\_10\\_lag1 & car\\_0\\_10\\_lead1 & car\\_0\\_20 & car\\_0\\_20\\_lag1 & car\\_0\\_20\\_lead1 & car\\_0\\_30 & car\\_0\\_30\\_lag1 & car\\_0\\_30\\_lead1 & bm & roa & debt\\_asset & alpha & beta\\_mktrf & beta\\_smb & beta\\_hml & volatility & inflow\\_0\\_90 & inflow\\_0\\_60 & inflow\\_0\\_30 & inflow\\_m30\\_0 & revision\\_0\\_90 & revision\\_0\\_60 & revision\\_0\\_30 & revision\\_m30\\_0\\\\\n",
       " <chr> & <chr> & <chr> & <dbl> & <dbl> & <dbl> & <date> & <dbl> & <dbl> & <date> & <date> & <date> & <date> & <date> & <date> & <dbl> & <dbl> & <dbl> & <dbl> & <dbl> & <dbl> & <dbl> & <dbl> & <dbl> & <dbl> & <dbl> & <dbl> & <dbl> & <dbl> & <dbl> & <dbl> & <dbl> & <dbl> & <dbl> & <dbl> & <dbl> & <dbl> & <dbl> & <dbl> & <dbl> & <dbl> & <dbl> & <dbl> & <dbl> & <dbl> & <dbl> & <dbl> & <dbl> & <dbl> & <dbl> & <dbl> & <dbl> & <dbl> & <dbl> & <dbl> & <dbl> & <dbl> & <dbl> & <dbl> & <dbl> & <dbl> & <dbl> & <dbl> & <dbl> & <dbl> & <dbl>\\\\\n",
       "\\hline\n",
       "\t 001013 & 50906 & 001013-2008-03-05 & 0.7845072 & 0.0009473079 & 0.02925144 & 2008-01-31 & 2008 & 1 & 2008-03-05 & 2008-03-05 & 2008-03-05 & 2008-03-05 & 2008-03-05 & 2008-06-04 & 5241424 & 5152678 & 320 & 7.46124 & 0.006761325 & NA & 0.006062767 & 0.01893171 & NA & 0.0278174 & 0.01217039 & NA & 0.02175464 & 17 & 0.01217039 & 0.001547043 & 3.996961 & 0.2971765 & -1.536211 & 0.2199395 & -12.37037 & -6.222223 & -6.96296 & 0.7939703 & -1.043903 & -2.655725 & -9.076894 & NA & 11.50231 & -6.616572 & NA & 4.588225 & -6.567197 & NA & 0.3902708 & 0.477 & 0.099 & 0.429 & -0.08592177 & 0.9685945 & -0.2939265 & 1.243559 & 3.171002 & 149.3935 & 149.3935 & 395.3898 & 42.46161 & 0.1509813 & 0.1485884 & 0.1483683 & 0.1481481\\\\\n",
       "\\end{tabular}\n"
      ],
      "text/markdown": [
       "\n",
       "A data.table: 1 × 66\n",
       "\n",
       "| gvkey &lt;chr&gt; | permno &lt;chr&gt; | docid &lt;chr&gt; | similarity_unigram &lt;dbl&gt; | similarity_bigram &lt;dbl&gt; | similarity_allgram &lt;dbl&gt; | datadate &lt;date&gt; | fyear &lt;dbl&gt; | fqtr &lt;dbl&gt; | ciq_release_date &lt;date&gt; | ciq_call_date &lt;date&gt; | rdq &lt;date&gt; | rdq1 &lt;date&gt; | repdats &lt;date&gt; | leadrdq1 &lt;date&gt; | release_keydevid &lt;dbl&gt; | call_keydevid &lt;dbl&gt; | transcriptid &lt;dbl&gt; | mcap &lt;dbl&gt; | sue &lt;dbl&gt; | sue_lag1 &lt;dbl&gt; | sue_lead1 &lt;dbl&gt; | se &lt;dbl&gt; | se_lag1 &lt;dbl&gt; | se_lead1 &lt;dbl&gt; | sest &lt;dbl&gt; | sest_lag1 &lt;dbl&gt; | sest_lead1 &lt;dbl&gt; | numest &lt;dbl&gt; | smedest &lt;dbl&gt; | sstdest &lt;dbl&gt; | volume &lt;dbl&gt; | ret_m1_m1 &lt;dbl&gt; | ret_m2_m2 &lt;dbl&gt; | ret_m30_m3 &lt;dbl&gt; | ret_0_10 &lt;dbl&gt; | ret_0_20 &lt;dbl&gt; | ret_0_30 &lt;dbl&gt; | car_m1_m1 &lt;dbl&gt; | car_m2_m2 &lt;dbl&gt; | car_m30_m3 &lt;dbl&gt; | car_0_10 &lt;dbl&gt; | car_0_10_lag1 &lt;dbl&gt; | car_0_10_lead1 &lt;dbl&gt; | car_0_20 &lt;dbl&gt; | car_0_20_lag1 &lt;dbl&gt; | car_0_20_lead1 &lt;dbl&gt; | car_0_30 &lt;dbl&gt; | car_0_30_lag1 &lt;dbl&gt; | car_0_30_lead1 &lt;dbl&gt; | bm &lt;dbl&gt; | roa &lt;dbl&gt; | debt_asset &lt;dbl&gt; | alpha &lt;dbl&gt; | beta_mktrf &lt;dbl&gt; | beta_smb &lt;dbl&gt; | beta_hml &lt;dbl&gt; | volatility &lt;dbl&gt; | inflow_0_90 &lt;dbl&gt; | inflow_0_60 &lt;dbl&gt; | inflow_0_30 &lt;dbl&gt; | inflow_m30_0 &lt;dbl&gt; | revision_0_90 &lt;dbl&gt; | revision_0_60 &lt;dbl&gt; | revision_0_30 &lt;dbl&gt; | revision_m30_0 &lt;dbl&gt; |\n",
       "|---|---|---|---|---|---|---|---|---|---|---|---|---|---|---|---|---|---|---|---|---|---|---|---|---|---|---|---|---|---|---|---|---|---|---|---|---|---|---|---|---|---|---|---|---|---|---|---|---|---|---|---|---|---|---|---|---|---|---|---|---|---|---|---|---|---|\n",
       "| 001013 | 50906 | 001013-2008-03-05 | 0.7845072 | 0.0009473079 | 0.02925144 | 2008-01-31 | 2008 | 1 | 2008-03-05 | 2008-03-05 | 2008-03-05 | 2008-03-05 | 2008-03-05 | 2008-06-04 | 5241424 | 5152678 | 320 | 7.46124 | 0.006761325 | NA | 0.006062767 | 0.01893171 | NA | 0.0278174 | 0.01217039 | NA | 0.02175464 | 17 | 0.01217039 | 0.001547043 | 3.996961 | 0.2971765 | -1.536211 | 0.2199395 | -12.37037 | -6.222223 | -6.96296 | 0.7939703 | -1.043903 | -2.655725 | -9.076894 | NA | 11.50231 | -6.616572 | NA | 4.588225 | -6.567197 | NA | 0.3902708 | 0.477 | 0.099 | 0.429 | -0.08592177 | 0.9685945 | -0.2939265 | 1.243559 | 3.171002 | 149.3935 | 149.3935 | 395.3898 | 42.46161 | 0.1509813 | 0.1485884 | 0.1483683 | 0.1481481 |\n",
       "\n"
      ],
      "text/plain": [
       "  gvkey  permno docid             similarity_unigram similarity_bigram\n",
       "1 001013 50906  001013-2008-03-05 0.7845072          0.0009473079     \n",
       "  similarity_allgram datadate   fyear fqtr ciq_release_date ciq_call_date\n",
       "1 0.02925144         2008-01-31 2008  1    2008-03-05       2008-03-05   \n",
       "  rdq        rdq1       repdats    leadrdq1   release_keydevid call_keydevid\n",
       "1 2008-03-05 2008-03-05 2008-03-05 2008-06-04 5241424          5152678      \n",
       "  transcriptid mcap    sue         sue_lag1 sue_lead1   se         se_lag1\n",
       "1 320          7.46124 0.006761325 NA       0.006062767 0.01893171 NA     \n",
       "  se_lead1  sest       sest_lag1 sest_lead1 numest smedest    sstdest    \n",
       "1 0.0278174 0.01217039 NA        0.02175464 17     0.01217039 0.001547043\n",
       "  volume   ret_m1_m1 ret_m2_m2 ret_m30_m3 ret_0_10  ret_0_20  ret_0_30\n",
       "1 3.996961 0.2971765 -1.536211 0.2199395  -12.37037 -6.222223 -6.96296\n",
       "  car_m1_m1 car_m2_m2 car_m30_m3 car_0_10  car_0_10_lag1 car_0_10_lead1\n",
       "1 0.7939703 -1.043903 -2.655725  -9.076894 NA            11.50231      \n",
       "  car_0_20  car_0_20_lag1 car_0_20_lead1 car_0_30  car_0_30_lag1 car_0_30_lead1\n",
       "1 -6.616572 NA            4.588225       -6.567197 NA            0.3902708     \n",
       "  bm    roa   debt_asset alpha       beta_mktrf beta_smb   beta_hml volatility\n",
       "1 0.477 0.099 0.429      -0.08592177 0.9685945  -0.2939265 1.243559 3.171002  \n",
       "  inflow_0_90 inflow_0_60 inflow_0_30 inflow_m30_0 revision_0_90 revision_0_60\n",
       "1 149.3935    149.3935    395.3898    42.46161     0.1509813     0.1485884    \n",
       "  revision_0_30 revision_m30_0\n",
       "1 0.1483683     0.1481481     "
      ]
     },
     "metadata": {},
     "output_type": "display_data"
    }
   ],
   "source": [
    "sprintf('N f_sue_keydevid_car_finratio_vol_transcriptid_sim_inflow: %s\\n', nrow(f_sue_keydevid_car_finratio_vol_transcriptid_sim_inflow)) %>% cat()\n",
    "\n",
    "# subject: inflow\n",
    "revision[, ':='(start=anndats-95, end=anndats+95)]\n",
    "setkey(revision, gvkey, start, end)\n",
    "\n",
    "# query: f_sue\n",
    "f_sue_keydevid_car_finratio_vol_transcriptid_sim_inflow[, ':='(start=ciq_call_date, end=ciq_call_date)]\n",
    "setkey(f_sue_keydevid_car_finratio_vol_transcriptid_sim_inflow, gvkey, start, end)\n",
    "\n",
    "# foverlaps(query, subject)\n",
    "f_sue_keydevid_car_finratio_vol_transcriptid_sim_inflow_revision = foverlaps(\n",
    "      f_sue_keydevid_car_finratio_vol_transcriptid_sim_inflow, revision,\n",
    "      nomatch=NA)[, ':='(i.start=NULL, i.end=NULL)\n",
    "    ][, ':='(revision_0_90=median(revision[(anndats-ciq_call_date) %between% c(-1, 85)], na.rm=T)), by=docid\n",
    "    ][, ':='(revision_0_60=median(revision[(anndats-ciq_call_date) %between% c(-1, 60)], na.rm=T)), by=docid\n",
    "    ][, ':='(revision_0_30=median(revision[(anndats-ciq_call_date) %between% c(-1, 30)], na.rm=T)), by=docid\n",
    "    ][, ':='(revision_m30_0=median(revision[(anndats-ciq_call_date) %between% c(-30, 1)], na.rm=T)), by=docid\n",
    "    ][is.na(revision_0_90), ':='(revision_0_90=0)\n",
    "    ][is.na(revision_0_60), ':='(revision_0_60=0)\n",
    "    ][is.na(revision_0_30), ':='(revision_0_30=0)\n",
    "    ][is.na(revision_m30_0), ':='(revision_m30_0=0)\n",
    "    ][, ':='(anndats=NULL, analys=NULL, ticker=NULL, fpedats=NULL, revdats=NULL, value=NULL, revision=NULL, pdf=NULL, start=NULL, end=NULL)\n",
    "    ][order(docid)] %>% unique()\n",
    "\n",
    "sprintf('N f_sue_keydevid_car_finratio_vol_transcriptid_sim_inflow_revision: %s\\n', nrow(f_sue_keydevid_car_finratio_vol_transcriptid_sim_inflow_revision)) %>% cat()\n",
    "\n",
    "sv(f_sue_keydevid_car_finratio_vol_transcriptid_sim_inflow_revision)\n",
    "f_sue_keydevid_car_finratio_vol_transcriptid_sim_inflow_revision[1]"
   ]
  },
  {
   "cell_type": "markdown",
   "metadata": {},
   "source": [
    "## <-> `retail`"
   ]
  },
  {
   "cell_type": "code",
   "execution_count": 6,
   "metadata": {
    "scrolled": true
   },
   "outputs": [
    {
     "name": "stdout",
     "output_type": "stream",
     "text": [
      "-retail_cusip_gvkey- loaded  (1.35 secs)\n",
      "-f_sue_keydevid_car_finratio_vol_transcriptid_sim_inflow_revision- loaded  (0.09 secs)\n",
      "N f_sue_keydevid_car_finratio_vol_transcriptid_sim_inflow_revision: 21822\n",
      "N f_sue_keydevid_car_finratio_vol_transcriptid_sim_inflow_revision_retail: 21822\n"
     ]
    },
    {
     "data": {
      "text/html": [
       "<table>\n",
       "<caption>A data.table: 1 × 90</caption>\n",
       "<thead>\n",
       "\t<tr><th scope=col>gvkey</th><th scope=col>permno</th><th scope=col>docid</th><th scope=col>similarity_unigram</th><th scope=col>similarity_bigram</th><th scope=col>similarity_allgram</th><th scope=col>datadate</th><th scope=col>fyear</th><th scope=col>fqtr</th><th scope=col>ciq_release_date</th><th scope=col>ciq_call_date</th><th scope=col>rdq</th><th scope=col>rdq1</th><th scope=col>repdats</th><th scope=col>leadrdq1</th><th scope=col>release_keydevid</th><th scope=col>call_keydevid</th><th scope=col>transcriptid</th><th scope=col>mcap</th><th scope=col>sue</th><th scope=col>sue_lag1</th><th scope=col>sue_lead1</th><th scope=col>se</th><th scope=col>se_lag1</th><th scope=col>se_lead1</th><th scope=col>sest</th><th scope=col>sest_lag1</th><th scope=col>sest_lead1</th><th scope=col>numest</th><th scope=col>smedest</th><th scope=col>sstdest</th><th scope=col>volume</th><th scope=col>ret_m1_m1</th><th scope=col>ret_m2_m2</th><th scope=col>ret_m30_m3</th><th scope=col>ret_0_10</th><th scope=col>ret_0_20</th><th scope=col>ret_0_30</th><th scope=col>car_m1_m1</th><th scope=col>car_m2_m2</th><th scope=col>car_m30_m3</th><th scope=col>car_0_10</th><th scope=col>car_0_10_lag1</th><th scope=col>car_0_10_lead1</th><th scope=col>car_0_20</th><th scope=col>car_0_20_lag1</th><th scope=col>car_0_20_lead1</th><th scope=col>car_0_30</th><th scope=col>car_0_30_lag1</th><th scope=col>car_0_30_lead1</th><th scope=col>bm</th><th scope=col>roa</th><th scope=col>debt_asset</th><th scope=col>alpha</th><th scope=col>beta_mktrf</th><th scope=col>beta_smb</th><th scope=col>beta_hml</th><th scope=col>volatility</th><th scope=col>inflow_0_90</th><th scope=col>inflow_0_60</th><th scope=col>inflow_0_30</th><th scope=col>inflow_m30_0</th><th scope=col>revision_0_90</th><th scope=col>revision_0_60</th><th scope=col>revision_0_30</th><th scope=col>revision_m30_0</th><th scope=col>retail_tot_m30_0</th><th scope=col>retail_tot_m10_0</th><th scope=col>retail_tot_m3_0</th><th scope=col>retail_tot_0_3</th><th scope=col>retail_tot_0_10</th><th scope=col>retail_tot_0_30</th><th scope=col>retail_buy_m30_0</th><th scope=col>retail_buy_m10_0</th><th scope=col>retail_buy_m3_0</th><th scope=col>retail_buy_0_3</th><th scope=col>retail_buy_0_10</th><th scope=col>retail_buy_0_30</th><th scope=col>retail_sell_m30_0</th><th scope=col>retail_sell_m10_0</th><th scope=col>retail_sell_m3_0</th><th scope=col>retail_sell_0_3</th><th scope=col>retail_sell_0_10</th><th scope=col>retail_sell_0_30</th><th scope=col>retail_net_m30_0</th><th scope=col>retail_net_m10_0</th><th scope=col>retail_net_m3_0</th><th scope=col>retail_net_0_3</th><th scope=col>retail_net_0_10</th><th scope=col>retail_net_0_30</th></tr>\n",
       "\t<tr><th scope=col>&lt;chr&gt;</th><th scope=col>&lt;chr&gt;</th><th scope=col>&lt;chr&gt;</th><th scope=col>&lt;dbl&gt;</th><th scope=col>&lt;dbl&gt;</th><th scope=col>&lt;dbl&gt;</th><th scope=col>&lt;date&gt;</th><th scope=col>&lt;dbl&gt;</th><th scope=col>&lt;dbl&gt;</th><th scope=col>&lt;date&gt;</th><th scope=col>&lt;date&gt;</th><th scope=col>&lt;date&gt;</th><th scope=col>&lt;date&gt;</th><th scope=col>&lt;date&gt;</th><th scope=col>&lt;date&gt;</th><th scope=col>&lt;dbl&gt;</th><th scope=col>&lt;dbl&gt;</th><th scope=col>&lt;dbl&gt;</th><th scope=col>&lt;dbl&gt;</th><th scope=col>&lt;dbl&gt;</th><th scope=col>&lt;dbl&gt;</th><th scope=col>&lt;dbl&gt;</th><th scope=col>&lt;dbl&gt;</th><th scope=col>&lt;dbl&gt;</th><th scope=col>&lt;dbl&gt;</th><th scope=col>&lt;dbl&gt;</th><th scope=col>&lt;dbl&gt;</th><th scope=col>&lt;dbl&gt;</th><th scope=col>&lt;dbl&gt;</th><th scope=col>&lt;dbl&gt;</th><th scope=col>&lt;dbl&gt;</th><th scope=col>&lt;dbl&gt;</th><th scope=col>&lt;dbl&gt;</th><th scope=col>&lt;dbl&gt;</th><th scope=col>&lt;dbl&gt;</th><th scope=col>&lt;dbl&gt;</th><th scope=col>&lt;dbl&gt;</th><th scope=col>&lt;dbl&gt;</th><th scope=col>&lt;dbl&gt;</th><th scope=col>&lt;dbl&gt;</th><th scope=col>&lt;dbl&gt;</th><th scope=col>&lt;dbl&gt;</th><th scope=col>&lt;dbl&gt;</th><th scope=col>&lt;dbl&gt;</th><th scope=col>&lt;dbl&gt;</th><th scope=col>&lt;dbl&gt;</th><th scope=col>&lt;dbl&gt;</th><th scope=col>&lt;dbl&gt;</th><th scope=col>&lt;dbl&gt;</th><th scope=col>&lt;dbl&gt;</th><th scope=col>&lt;dbl&gt;</th><th scope=col>&lt;dbl&gt;</th><th scope=col>&lt;dbl&gt;</th><th scope=col>&lt;dbl&gt;</th><th scope=col>&lt;dbl&gt;</th><th scope=col>&lt;dbl&gt;</th><th scope=col>&lt;dbl&gt;</th><th scope=col>&lt;dbl&gt;</th><th scope=col>&lt;dbl&gt;</th><th scope=col>&lt;dbl&gt;</th><th scope=col>&lt;dbl&gt;</th><th scope=col>&lt;dbl&gt;</th><th scope=col>&lt;dbl&gt;</th><th scope=col>&lt;dbl&gt;</th><th scope=col>&lt;dbl&gt;</th><th scope=col>&lt;dbl&gt;</th><th scope=col>&lt;dbl&gt;</th><th scope=col>&lt;dbl&gt;</th><th scope=col>&lt;dbl&gt;</th><th scope=col>&lt;dbl&gt;</th><th scope=col>&lt;dbl&gt;</th><th scope=col>&lt;dbl&gt;</th><th scope=col>&lt;dbl&gt;</th><th scope=col>&lt;dbl&gt;</th><th scope=col>&lt;dbl&gt;</th><th scope=col>&lt;dbl&gt;</th><th scope=col>&lt;dbl&gt;</th><th scope=col>&lt;dbl&gt;</th><th scope=col>&lt;dbl&gt;</th><th scope=col>&lt;dbl&gt;</th><th scope=col>&lt;dbl&gt;</th><th scope=col>&lt;dbl&gt;</th><th scope=col>&lt;dbl&gt;</th><th scope=col>&lt;dbl&gt;</th><th scope=col>&lt;dbl&gt;</th><th scope=col>&lt;dbl&gt;</th><th scope=col>&lt;dbl&gt;</th><th scope=col>&lt;dbl&gt;</th><th scope=col>&lt;dbl&gt;</th><th scope=col>&lt;dbl&gt;</th></tr>\n",
       "</thead>\n",
       "<tbody>\n",
       "\t<tr><td>001013</td><td>50906</td><td>001013-2008-03-05</td><td>0.7845072</td><td>0.0009473079</td><td>0.02925144</td><td>2008-01-31</td><td>2008</td><td>1</td><td>2008-03-05</td><td>2008-03-05</td><td>2008-03-05</td><td>2008-03-05</td><td>2008-03-05</td><td>2008-06-04</td><td>5241424</td><td>5152678</td><td>320</td><td>7.46124</td><td>0.006761325</td><td>NA</td><td>0.006062767</td><td>0.01893171</td><td>NA</td><td>0.0278174</td><td>0.01217039</td><td>NA</td><td>0.02175464</td><td>17</td><td>0.01217039</td><td>0.001547043</td><td>3.996961</td><td>0.2971765</td><td>-1.536211</td><td>0.2199395</td><td>-12.37037</td><td>-6.222223</td><td>-6.96296</td><td>0.7939703</td><td>-1.043903</td><td>-2.655725</td><td>-9.076894</td><td>NA</td><td>11.50231</td><td>-6.616572</td><td>NA</td><td>4.588225</td><td>-6.567197</td><td>NA</td><td>0.3902708</td><td>0.477</td><td>0.099</td><td>0.429</td><td>-0.08592177</td><td>0.9685945</td><td>-0.2939265</td><td>1.243559</td><td>3.171002</td><td>149.3935</td><td>149.3935</td><td>395.3898</td><td>42.46161</td><td>0.1509813</td><td>0.1485884</td><td>0.1483683</td><td>0.1481481</td><td>0</td><td>0</td><td>0</td><td>0</td><td>0</td><td>0</td><td>0</td><td>0</td><td>0</td><td>0</td><td>0</td><td>0</td><td>0</td><td>0</td><td>0</td><td>0</td><td>0</td><td>0</td><td>0</td><td>0</td><td>0</td><td>0</td><td>0</td><td>0</td></tr>\n",
       "</tbody>\n",
       "</table>\n"
      ],
      "text/latex": [
       "A data.table: 1 × 90\n",
       "\\begin{tabular}{llllllllllllllllllllllllllllllllllllllllllllllllllllllllllllllllllllllllllllllllllllllllll}\n",
       " gvkey & permno & docid & similarity\\_unigram & similarity\\_bigram & similarity\\_allgram & datadate & fyear & fqtr & ciq\\_release\\_date & ciq\\_call\\_date & rdq & rdq1 & repdats & leadrdq1 & release\\_keydevid & call\\_keydevid & transcriptid & mcap & sue & sue\\_lag1 & sue\\_lead1 & se & se\\_lag1 & se\\_lead1 & sest & sest\\_lag1 & sest\\_lead1 & numest & smedest & sstdest & volume & ret\\_m1\\_m1 & ret\\_m2\\_m2 & ret\\_m30\\_m3 & ret\\_0\\_10 & ret\\_0\\_20 & ret\\_0\\_30 & car\\_m1\\_m1 & car\\_m2\\_m2 & car\\_m30\\_m3 & car\\_0\\_10 & car\\_0\\_10\\_lag1 & car\\_0\\_10\\_lead1 & car\\_0\\_20 & car\\_0\\_20\\_lag1 & car\\_0\\_20\\_lead1 & car\\_0\\_30 & car\\_0\\_30\\_lag1 & car\\_0\\_30\\_lead1 & bm & roa & debt\\_asset & alpha & beta\\_mktrf & beta\\_smb & beta\\_hml & volatility & inflow\\_0\\_90 & inflow\\_0\\_60 & inflow\\_0\\_30 & inflow\\_m30\\_0 & revision\\_0\\_90 & revision\\_0\\_60 & revision\\_0\\_30 & revision\\_m30\\_0 & retail\\_tot\\_m30\\_0 & retail\\_tot\\_m10\\_0 & retail\\_tot\\_m3\\_0 & retail\\_tot\\_0\\_3 & retail\\_tot\\_0\\_10 & retail\\_tot\\_0\\_30 & retail\\_buy\\_m30\\_0 & retail\\_buy\\_m10\\_0 & retail\\_buy\\_m3\\_0 & retail\\_buy\\_0\\_3 & retail\\_buy\\_0\\_10 & retail\\_buy\\_0\\_30 & retail\\_sell\\_m30\\_0 & retail\\_sell\\_m10\\_0 & retail\\_sell\\_m3\\_0 & retail\\_sell\\_0\\_3 & retail\\_sell\\_0\\_10 & retail\\_sell\\_0\\_30 & retail\\_net\\_m30\\_0 & retail\\_net\\_m10\\_0 & retail\\_net\\_m3\\_0 & retail\\_net\\_0\\_3 & retail\\_net\\_0\\_10 & retail\\_net\\_0\\_30\\\\\n",
       " <chr> & <chr> & <chr> & <dbl> & <dbl> & <dbl> & <date> & <dbl> & <dbl> & <date> & <date> & <date> & <date> & <date> & <date> & <dbl> & <dbl> & <dbl> & <dbl> & <dbl> & <dbl> & <dbl> & <dbl> & <dbl> & <dbl> & <dbl> & <dbl> & <dbl> & <dbl> & <dbl> & <dbl> & <dbl> & <dbl> & <dbl> & <dbl> & <dbl> & <dbl> & <dbl> & <dbl> & <dbl> & <dbl> & <dbl> & <dbl> & <dbl> & <dbl> & <dbl> & <dbl> & <dbl> & <dbl> & <dbl> & <dbl> & <dbl> & <dbl> & <dbl> & <dbl> & <dbl> & <dbl> & <dbl> & <dbl> & <dbl> & <dbl> & <dbl> & <dbl> & <dbl> & <dbl> & <dbl> & <dbl> & <dbl> & <dbl> & <dbl> & <dbl> & <dbl> & <dbl> & <dbl> & <dbl> & <dbl> & <dbl> & <dbl> & <dbl> & <dbl> & <dbl> & <dbl> & <dbl> & <dbl> & <dbl> & <dbl> & <dbl> & <dbl> & <dbl> & <dbl>\\\\\n",
       "\\hline\n",
       "\t 001013 & 50906 & 001013-2008-03-05 & 0.7845072 & 0.0009473079 & 0.02925144 & 2008-01-31 & 2008 & 1 & 2008-03-05 & 2008-03-05 & 2008-03-05 & 2008-03-05 & 2008-03-05 & 2008-06-04 & 5241424 & 5152678 & 320 & 7.46124 & 0.006761325 & NA & 0.006062767 & 0.01893171 & NA & 0.0278174 & 0.01217039 & NA & 0.02175464 & 17 & 0.01217039 & 0.001547043 & 3.996961 & 0.2971765 & -1.536211 & 0.2199395 & -12.37037 & -6.222223 & -6.96296 & 0.7939703 & -1.043903 & -2.655725 & -9.076894 & NA & 11.50231 & -6.616572 & NA & 4.588225 & -6.567197 & NA & 0.3902708 & 0.477 & 0.099 & 0.429 & -0.08592177 & 0.9685945 & -0.2939265 & 1.243559 & 3.171002 & 149.3935 & 149.3935 & 395.3898 & 42.46161 & 0.1509813 & 0.1485884 & 0.1483683 & 0.1481481 & 0 & 0 & 0 & 0 & 0 & 0 & 0 & 0 & 0 & 0 & 0 & 0 & 0 & 0 & 0 & 0 & 0 & 0 & 0 & 0 & 0 & 0 & 0 & 0\\\\\n",
       "\\end{tabular}\n"
      ],
      "text/markdown": [
       "\n",
       "A data.table: 1 × 90\n",
       "\n",
       "| gvkey &lt;chr&gt; | permno &lt;chr&gt; | docid &lt;chr&gt; | similarity_unigram &lt;dbl&gt; | similarity_bigram &lt;dbl&gt; | similarity_allgram &lt;dbl&gt; | datadate &lt;date&gt; | fyear &lt;dbl&gt; | fqtr &lt;dbl&gt; | ciq_release_date &lt;date&gt; | ciq_call_date &lt;date&gt; | rdq &lt;date&gt; | rdq1 &lt;date&gt; | repdats &lt;date&gt; | leadrdq1 &lt;date&gt; | release_keydevid &lt;dbl&gt; | call_keydevid &lt;dbl&gt; | transcriptid &lt;dbl&gt; | mcap &lt;dbl&gt; | sue &lt;dbl&gt; | sue_lag1 &lt;dbl&gt; | sue_lead1 &lt;dbl&gt; | se &lt;dbl&gt; | se_lag1 &lt;dbl&gt; | se_lead1 &lt;dbl&gt; | sest &lt;dbl&gt; | sest_lag1 &lt;dbl&gt; | sest_lead1 &lt;dbl&gt; | numest &lt;dbl&gt; | smedest &lt;dbl&gt; | sstdest &lt;dbl&gt; | volume &lt;dbl&gt; | ret_m1_m1 &lt;dbl&gt; | ret_m2_m2 &lt;dbl&gt; | ret_m30_m3 &lt;dbl&gt; | ret_0_10 &lt;dbl&gt; | ret_0_20 &lt;dbl&gt; | ret_0_30 &lt;dbl&gt; | car_m1_m1 &lt;dbl&gt; | car_m2_m2 &lt;dbl&gt; | car_m30_m3 &lt;dbl&gt; | car_0_10 &lt;dbl&gt; | car_0_10_lag1 &lt;dbl&gt; | car_0_10_lead1 &lt;dbl&gt; | car_0_20 &lt;dbl&gt; | car_0_20_lag1 &lt;dbl&gt; | car_0_20_lead1 &lt;dbl&gt; | car_0_30 &lt;dbl&gt; | car_0_30_lag1 &lt;dbl&gt; | car_0_30_lead1 &lt;dbl&gt; | bm &lt;dbl&gt; | roa &lt;dbl&gt; | debt_asset &lt;dbl&gt; | alpha &lt;dbl&gt; | beta_mktrf &lt;dbl&gt; | beta_smb &lt;dbl&gt; | beta_hml &lt;dbl&gt; | volatility &lt;dbl&gt; | inflow_0_90 &lt;dbl&gt; | inflow_0_60 &lt;dbl&gt; | inflow_0_30 &lt;dbl&gt; | inflow_m30_0 &lt;dbl&gt; | revision_0_90 &lt;dbl&gt; | revision_0_60 &lt;dbl&gt; | revision_0_30 &lt;dbl&gt; | revision_m30_0 &lt;dbl&gt; | retail_tot_m30_0 &lt;dbl&gt; | retail_tot_m10_0 &lt;dbl&gt; | retail_tot_m3_0 &lt;dbl&gt; | retail_tot_0_3 &lt;dbl&gt; | retail_tot_0_10 &lt;dbl&gt; | retail_tot_0_30 &lt;dbl&gt; | retail_buy_m30_0 &lt;dbl&gt; | retail_buy_m10_0 &lt;dbl&gt; | retail_buy_m3_0 &lt;dbl&gt; | retail_buy_0_3 &lt;dbl&gt; | retail_buy_0_10 &lt;dbl&gt; | retail_buy_0_30 &lt;dbl&gt; | retail_sell_m30_0 &lt;dbl&gt; | retail_sell_m10_0 &lt;dbl&gt; | retail_sell_m3_0 &lt;dbl&gt; | retail_sell_0_3 &lt;dbl&gt; | retail_sell_0_10 &lt;dbl&gt; | retail_sell_0_30 &lt;dbl&gt; | retail_net_m30_0 &lt;dbl&gt; | retail_net_m10_0 &lt;dbl&gt; | retail_net_m3_0 &lt;dbl&gt; | retail_net_0_3 &lt;dbl&gt; | retail_net_0_10 &lt;dbl&gt; | retail_net_0_30 &lt;dbl&gt; |\n",
       "|---|---|---|---|---|---|---|---|---|---|---|---|---|---|---|---|---|---|---|---|---|---|---|---|---|---|---|---|---|---|---|---|---|---|---|---|---|---|---|---|---|---|---|---|---|---|---|---|---|---|---|---|---|---|---|---|---|---|---|---|---|---|---|---|---|---|---|---|---|---|---|---|---|---|---|---|---|---|---|---|---|---|---|---|---|---|---|---|---|---|\n",
       "| 001013 | 50906 | 001013-2008-03-05 | 0.7845072 | 0.0009473079 | 0.02925144 | 2008-01-31 | 2008 | 1 | 2008-03-05 | 2008-03-05 | 2008-03-05 | 2008-03-05 | 2008-03-05 | 2008-06-04 | 5241424 | 5152678 | 320 | 7.46124 | 0.006761325 | NA | 0.006062767 | 0.01893171 | NA | 0.0278174 | 0.01217039 | NA | 0.02175464 | 17 | 0.01217039 | 0.001547043 | 3.996961 | 0.2971765 | -1.536211 | 0.2199395 | -12.37037 | -6.222223 | -6.96296 | 0.7939703 | -1.043903 | -2.655725 | -9.076894 | NA | 11.50231 | -6.616572 | NA | 4.588225 | -6.567197 | NA | 0.3902708 | 0.477 | 0.099 | 0.429 | -0.08592177 | 0.9685945 | -0.2939265 | 1.243559 | 3.171002 | 149.3935 | 149.3935 | 395.3898 | 42.46161 | 0.1509813 | 0.1485884 | 0.1483683 | 0.1481481 | 0 | 0 | 0 | 0 | 0 | 0 | 0 | 0 | 0 | 0 | 0 | 0 | 0 | 0 | 0 | 0 | 0 | 0 | 0 | 0 | 0 | 0 | 0 | 0 |\n",
       "\n"
      ],
      "text/plain": [
       "  gvkey  permno docid             similarity_unigram similarity_bigram\n",
       "1 001013 50906  001013-2008-03-05 0.7845072          0.0009473079     \n",
       "  similarity_allgram datadate   fyear fqtr ciq_release_date ciq_call_date\n",
       "1 0.02925144         2008-01-31 2008  1    2008-03-05       2008-03-05   \n",
       "  rdq        rdq1       repdats    leadrdq1   release_keydevid call_keydevid\n",
       "1 2008-03-05 2008-03-05 2008-03-05 2008-06-04 5241424          5152678      \n",
       "  transcriptid mcap    sue         sue_lag1 sue_lead1   se         se_lag1\n",
       "1 320          7.46124 0.006761325 NA       0.006062767 0.01893171 NA     \n",
       "  se_lead1  sest       sest_lag1 sest_lead1 numest smedest    sstdest    \n",
       "1 0.0278174 0.01217039 NA        0.02175464 17     0.01217039 0.001547043\n",
       "  volume   ret_m1_m1 ret_m2_m2 ret_m30_m3 ret_0_10  ret_0_20  ret_0_30\n",
       "1 3.996961 0.2971765 -1.536211 0.2199395  -12.37037 -6.222223 -6.96296\n",
       "  car_m1_m1 car_m2_m2 car_m30_m3 car_0_10  car_0_10_lag1 car_0_10_lead1\n",
       "1 0.7939703 -1.043903 -2.655725  -9.076894 NA            11.50231      \n",
       "  car_0_20  car_0_20_lag1 car_0_20_lead1 car_0_30  car_0_30_lag1 car_0_30_lead1\n",
       "1 -6.616572 NA            4.588225       -6.567197 NA            0.3902708     \n",
       "  bm    roa   debt_asset alpha       beta_mktrf beta_smb   beta_hml volatility\n",
       "1 0.477 0.099 0.429      -0.08592177 0.9685945  -0.2939265 1.243559 3.171002  \n",
       "  inflow_0_90 inflow_0_60 inflow_0_30 inflow_m30_0 revision_0_90 revision_0_60\n",
       "1 149.3935    149.3935    395.3898    42.46161     0.1509813     0.1485884    \n",
       "  revision_0_30 revision_m30_0 retail_tot_m30_0 retail_tot_m10_0\n",
       "1 0.1483683     0.1481481      0                0               \n",
       "  retail_tot_m3_0 retail_tot_0_3 retail_tot_0_10 retail_tot_0_30\n",
       "1 0               0              0               0              \n",
       "  retail_buy_m30_0 retail_buy_m10_0 retail_buy_m3_0 retail_buy_0_3\n",
       "1 0                0                0               0             \n",
       "  retail_buy_0_10 retail_buy_0_30 retail_sell_m30_0 retail_sell_m10_0\n",
       "1 0               0               0                 0                \n",
       "  retail_sell_m3_0 retail_sell_0_3 retail_sell_0_10 retail_sell_0_30\n",
       "1 0                0               0                0               \n",
       "  retail_net_m30_0 retail_net_m10_0 retail_net_m3_0 retail_net_0_3\n",
       "1 0                0                0               0             \n",
       "  retail_net_0_10 retail_net_0_30\n",
       "1 0               0              "
      ]
     },
     "metadata": {},
     "output_type": "display_data"
    },
    {
     "name": "stdout",
     "output_type": "stream",
     "text": [
      "-f_sue_keydevid_car_finratio_vol_transcriptid_sim_inflow_revision_retail- saved  (0.56 secs)\n"
     ]
    }
   ],
   "source": [
    "# -------------------------------\n",
    "# compute the output: retail\n",
    "# -------------------------------\n",
    "ld(retail_cusip_gvkey)\n",
    "ld(f_sue_keydevid_car_finratio_vol_transcriptid_sim_inflow_revision)\n",
    "\n",
    "sprintf('N f_sue_keydevid_car_finratio_vol_transcriptid_sim_inflow_revision: %s\\n', nrow(f_sue_keydevid_car_finratio_vol_transcriptid_sim_inflow_revision)) %>% cat()\n",
    "\n",
    "# create start/end/key for foverlaps\n",
    "f_sue_keydevid_car_finratio_vol_transcriptid_sim_inflow_revision[, ':='(start=ciq_call_date, end=ciq_call_date)]\n",
    "setkey(f_sue_keydevid_car_finratio_vol_transcriptid_sim_inflow_revision, gvkey, start, end)\n",
    "\n",
    "# create start/end/key for foverlaps\n",
    "retail_cusip_gvkey[, ':='(start=date-95, end=date+95)]\n",
    "setkey(retail_cusip_gvkey, gvkey, start, end)\n",
    "\n",
    "f_sue_keydevid_car_finratio_vol_transcriptid_sim_inflow_revision_retail = foverlaps(\n",
    "      f_sue_keydevid_car_finratio_vol_transcriptid_sim_inflow_revision, retail_cusip_gvkey,\n",
    "      nomatch=NA)[, ':='(i.start=NULL, i.end=NULL)\n",
    "    ][, ':='(retail_tot_m30_0=sum(total_vol[(date-ciq_call_date) %between% c(-30, 0)], na.rm=T)), by=docid\n",
    "    ][, ':='(retail_tot_m10_0=sum(total_vol[(date-ciq_call_date) %between% c(-10, 0)], na.rm=T)), by=docid\n",
    "    ][, ':='(retail_tot_m3_0=sum(total_vol[(date-ciq_call_date) %between% c(-3, 0)], na.rm=T)), by=docid\n",
    "    ][, ':='(retail_tot_0_3=sum(total_vol[(date-ciq_call_date) %between% c(0, 3)], na.rm=T)), by=docid\n",
    "    ][, ':='(retail_tot_0_10=sum(total_vol[(date-ciq_call_date) %between% c(0, 10)], na.rm=T)), by=docid\n",
    "    ][, ':='(retail_tot_0_30=sum(total_vol[(date-ciq_call_date) %between% c(0, 30)], na.rm=T)), by=docid\n",
    "    ][, ':='(retail_buy_m30_0=sum(retail_buy_vol[(date-ciq_call_date) %between% c(-30, 0)], na.rm=T)), by=docid\n",
    "    ][, ':='(retail_buy_m10_0=sum(retail_buy_vol[(date-ciq_call_date) %between% c(-10, 0)], na.rm=T)), by=docid\n",
    "    ][, ':='(retail_buy_m3_0=sum(retail_buy_vol[(date-ciq_call_date) %between% c(-3, 0)], na.rm=T)), by=docid\n",
    "    ][, ':='(retail_buy_0_3=sum(retail_buy_vol[(date-ciq_call_date) %between% c(0, 3)], na.rm=T)), by=docid\n",
    "    ][, ':='(retail_buy_0_10=sum(retail_buy_vol[(date-ciq_call_date) %between% c(0, 10)], na.rm=T)), by=docid\n",
    "    ][, ':='(retail_buy_0_30=sum(retail_buy_vol[(date-ciq_call_date) %between% c(0, 30)], na.rm=T)), by=docid    \n",
    "    ][, ':='(retail_sell_m30_0=sum(retail_sell_vol[(date-ciq_call_date) %between% c(-30, 0)], na.rm=T)), by=docid\n",
    "    ][, ':='(retail_sell_m10_0=sum(retail_sell_vol[(date-ciq_call_date) %between% c(-10, 0)], na.rm=T)), by=docid\n",
    "    ][, ':='(retail_sell_m3_0=sum(retail_sell_vol[(date-ciq_call_date) %between% c(-3, 0)], na.rm=T)), by=docid\n",
    "    ][, ':='(retail_sell_0_3=sum(retail_sell_vol[(date-ciq_call_date) %between% c(0, 3)], na.rm=T)), by=docid\n",
    "    ][, ':='(retail_sell_0_10=sum(retail_sell_vol[(date-ciq_call_date) %between% c(0, 10)], na.rm=T)), by=docid\n",
    "    ][, ':='(retail_sell_0_30=sum(retail_sell_vol[(date-ciq_call_date) %between% c(0, 30)], na.rm=T)), by=docid   \n",
    "    ][, ':='(retail_net_m30_0=sum((retail_buy_vol-retail_sell_vol)[(date-ciq_call_date) %between% c(-30, 0)], na.rm=T)), by=docid\n",
    "    ][, ':='(retail_net_m10_0=sum((retail_buy_vol-retail_sell_vol)[(date-ciq_call_date) %between% c(-10, 0)], na.rm=T)), by=docid\n",
    "    ][, ':='(retail_net_m3_0=sum((retail_buy_vol-retail_sell_vol)[(date-ciq_call_date) %between% c(-3, 0)], na.rm=T)), by=docid\n",
    "    ][, ':='(retail_net_0_3=sum((retail_buy_vol-retail_sell_vol)[(date-ciq_call_date) %between% c(0, 3)], na.rm=T)), by=docid\n",
    "    ][, ':='(retail_net_0_10=sum((retail_buy_vol-retail_sell_vol)[(date-ciq_call_date) %between% c(0, 10)], na.rm=T)), by=docid\n",
    "    ][, ':='(retail_net_0_30=sum((retail_buy_vol-retail_sell_vol)[(date-ciq_call_date) %between% c(0, 30)], na.rm=T)), by=docid\n",
    "    ][, ':='(total_vol=NULL, retail_buy_vol=NULL, retail_sell_vol=NULL, start=NULL, end=NULL, date=NULL)\n",
    "    ][order(docid)] %>% unique()\n",
    "\n",
    "sprintf('N f_sue_keydevid_car_finratio_vol_transcriptid_sim_inflow_revision_retail: %s\\n', nrow(f_sue_keydevid_car_finratio_vol_transcriptid_sim_inflow_revision_retail)) %>% cat()\n",
    "\n",
    "f_sue_keydevid_car_finratio_vol_transcriptid_sim_inflow_revision_retail[1]\n",
    "sv(f_sue_keydevid_car_finratio_vol_transcriptid_sim_inflow_revision_retail)"
   ]
  },
  {
   "cell_type": "code",
   "execution_count": null,
   "metadata": {},
   "outputs": [],
   "source": [
    "# ----------------------------------------\n",
    "# PLOT: retail trades change around the call day\n",
    "# ----------------------------------------\n",
    "\n",
    "dt = f_sue_keydevid_car_finratio_vol_transcriptid_sim_inflow_revision_retail[!is.na(date) & ((date-ciq_call_date) %between% c(-30, 30)), \n",
    "      .(retail_tot=sum(total_vol, na.rm=T), \n",
    "        retail_buy=sum(retail_buy_vol, na.rm=T), \n",
    "        retail_sell=sum(retail_sell_vol, na.rm=T)), \n",
    "      keyby=.(date-ciq_call_date)\n",
    "    ][, c('retail_tot', 'retail_buy', 'retail_sell') := lapply(.SD, cumsum), .SDcols=is.numeric][]\n",
    "\n",
    "dt %>%\n",
    "    plot_ly(x=~date, y=~(retail_buy-retail_sell), type='scatter', mode='lines') %>%\n",
    "#     add_trace(y=~retail_buy) %>%\n",
    "#     add_trace(y=~(retail_buy-retail_sell)) %>%\n",
    "    plotly::layout(autosize=F)"
   ]
  },
  {
   "cell_type": "markdown",
   "metadata": {},
   "source": [
    "## <-> `sentiment`"
   ]
  },
  {
   "cell_type": "code",
   "execution_count": 7,
   "metadata": {},
   "outputs": [
    {
     "data": {
      "text/html": [
       "<table>\n",
       "<caption>A data.table: 1 × 7</caption>\n",
       "<thead>\n",
       "\t<tr><th scope=col>docid</th><th scope=col>md_positive</th><th scope=col>md_neutral</th><th scope=col>md_negative</th><th scope=col>qa_positive</th><th scope=col>qa_neutral</th><th scope=col>qa_negative</th></tr>\n",
       "\t<tr><th scope=col>&lt;chr&gt;</th><th scope=col>&lt;dbl&gt;</th><th scope=col>&lt;dbl&gt;</th><th scope=col>&lt;dbl&gt;</th><th scope=col>&lt;dbl&gt;</th><th scope=col>&lt;dbl&gt;</th><th scope=col>&lt;dbl&gt;</th></tr>\n",
       "</thead>\n",
       "<tbody>\n",
       "\t<tr><td>001013-2008-03-05</td><td>0.2613174</td><td>0.6041317</td><td>0.1345509</td><td>0.2761852</td><td>0.5408889</td><td>0.1829259</td></tr>\n",
       "</tbody>\n",
       "</table>\n"
      ],
      "text/latex": [
       "A data.table: 1 × 7\n",
       "\\begin{tabular}{lllllll}\n",
       " docid & md\\_positive & md\\_neutral & md\\_negative & qa\\_positive & qa\\_neutral & qa\\_negative\\\\\n",
       " <chr> & <dbl> & <dbl> & <dbl> & <dbl> & <dbl> & <dbl>\\\\\n",
       "\\hline\n",
       "\t 001013-2008-03-05 & 0.2613174 & 0.6041317 & 0.1345509 & 0.2761852 & 0.5408889 & 0.1829259\\\\\n",
       "\\end{tabular}\n"
      ],
      "text/markdown": [
       "\n",
       "A data.table: 1 × 7\n",
       "\n",
       "| docid &lt;chr&gt; | md_positive &lt;dbl&gt; | md_neutral &lt;dbl&gt; | md_negative &lt;dbl&gt; | qa_positive &lt;dbl&gt; | qa_neutral &lt;dbl&gt; | qa_negative &lt;dbl&gt; |\n",
       "|---|---|---|---|---|---|---|\n",
       "| 001013-2008-03-05 | 0.2613174 | 0.6041317 | 0.1345509 | 0.2761852 | 0.5408889 | 0.1829259 |\n",
       "\n"
      ],
      "text/plain": [
       "  docid             md_positive md_neutral md_negative qa_positive qa_neutral\n",
       "1 001013-2008-03-05 0.2613174   0.6041317  0.1345509   0.2761852   0.5408889 \n",
       "  qa_negative\n",
       "1 0.1829259  "
      ]
     },
     "metadata": {},
     "output_type": "display_data"
    }
   ],
   "source": [
    "# generate sentiment\n",
    "present_sentiment = as.data.table(read_parquet('data/present_sentiment.parquet',\n",
    "      col_select=c('docid', 'chunk_i', 'chunk_positive', 'chunk_neutral', \n",
    "                   'chunk_negative', 'sentence_i', 'sentence_positive', \n",
    "                   'sentence_neutral', 'sentence_negative')\n",
    "    ))[, ':='(n_sentence_in_chunk=max(sentence_i)), keyby=.(docid, chunk_i)\n",
    "    ][n_sentence_in_chunk>=5, \n",
    "      .(present_positive_chunk=mean(chunk_positive), present_positive_sent=mean(sentence_positive, na.rm=T),\n",
    "        present_neutral_chunk=mean(chunk_neutral), present_neutral_sent=mean(sentence_neutral, na.rm=T),\n",
    "        present_negative_chunk=mean(chunk_negative), present_negative_sent=mean(sentence_negative, na.rm=T)),\n",
    "      keyby=docid]\n",
    "\n",
    "qa_sentiment = as.data.table(read_parquet('data/qa_sentiment.parquet', \n",
    "      col_select=c('docid', 'chunk_i', 'chunk_positive', 'chunk_neutral',\n",
    "                   'chunk_negative', 'sentence_i', 'sentence_positive',\n",
    "                   'sentence_neutral', 'sentence_negative')\n",
    "    ))[, ':='(n_sentence_in_chunk=max(sentence_i)), keyby=.(docid, chunk_i)\n",
    "    ][n_sentence_in_chunk>=5, \n",
    "      .(qa_positive_chunk=mean(chunk_positive), qa_positive_sent=mean(sentence_positive, na.rm=T),\n",
    "        qa_neutral_chunk=mean(chunk_neutral), qa_neutral_sent=mean(sentence_neutral, na.rm=T),\n",
    "        qa_negative_chunk=mean(chunk_negative), qa_negative_sent=mean(sentence_negative, na.rm=T)),\n",
    "      keyby=docid]\n",
    "\n",
    "sentiment = present_sentiment[qa_sentiment, on=.(docid), nomatch=NA]\n",
    "\n",
    "sentiment[1, .(docid, md_positive=present_positive_sent, md_neutral=present_neutral_sent, md_negative=present_negative_sent，\n",
    "               qa_positive=qa_positive_sent, qa_neutral=qa_neutral_sent, qa_negative=qa_negative_sent)]"
   ]
  },
  {
   "cell_type": "code",
   "execution_count": 8,
   "metadata": {},
   "outputs": [
    {
     "name": "stdout",
     "output_type": "stream",
     "text": [
      "-f_sue_keydevid_car_finratio_vol_transcriptid_sim_inflow_revision_retail- already exists, will NOT load again!  (0 secs)\n",
      "N f_sue_keydevid_car_finratio_vol_transcriptid_sim_inflow_revision_retail: 21822\n",
      "N f_sue_keydevid_car_finratio_vol_transcriptid_sim_inflow_revision_retail_sentiment: 21816\n",
      " (102 variable)\n"
     ]
    },
    {
     "data": {
      "text/html": [
       "<table>\n",
       "<caption>A data.table: 1 × 102</caption>\n",
       "<thead>\n",
       "\t<tr><th scope=col>docid</th><th scope=col>present_positive_chunk</th><th scope=col>present_positive_sent</th><th scope=col>present_neutral_chunk</th><th scope=col>present_neutral_sent</th><th scope=col>present_negative_chunk</th><th scope=col>present_negative_sent</th><th scope=col>qa_positive_chunk</th><th scope=col>qa_positive_sent</th><th scope=col>qa_neutral_chunk</th><th scope=col>qa_neutral_sent</th><th scope=col>qa_negative_chunk</th><th scope=col>qa_negative_sent</th><th scope=col>gvkey</th><th scope=col>permno</th><th scope=col>similarity_unigram</th><th scope=col>similarity_bigram</th><th scope=col>similarity_allgram</th><th scope=col>datadate</th><th scope=col>fyear</th><th scope=col>fqtr</th><th scope=col>ciq_release_date</th><th scope=col>ciq_call_date</th><th scope=col>rdq</th><th scope=col>rdq1</th><th scope=col>repdats</th><th scope=col>leadrdq1</th><th scope=col>release_keydevid</th><th scope=col>call_keydevid</th><th scope=col>transcriptid</th><th scope=col>mcap</th><th scope=col>sue</th><th scope=col>sue_lag1</th><th scope=col>sue_lead1</th><th scope=col>se</th><th scope=col>se_lag1</th><th scope=col>se_lead1</th><th scope=col>sest</th><th scope=col>sest_lag1</th><th scope=col>sest_lead1</th><th scope=col>numest</th><th scope=col>smedest</th><th scope=col>sstdest</th><th scope=col>volume</th><th scope=col>ret_m1_m1</th><th scope=col>ret_m2_m2</th><th scope=col>ret_m30_m3</th><th scope=col>ret_0_10</th><th scope=col>ret_0_20</th><th scope=col>ret_0_30</th><th scope=col>...</th><th scope=col>car_m30_m3</th><th scope=col>car_0_10</th><th scope=col>car_0_10_lag1</th><th scope=col>car_0_10_lead1</th><th scope=col>car_0_20</th><th scope=col>car_0_20_lag1</th><th scope=col>car_0_20_lead1</th><th scope=col>car_0_30</th><th scope=col>car_0_30_lag1</th><th scope=col>car_0_30_lead1</th><th scope=col>bm</th><th scope=col>roa</th><th scope=col>debt_asset</th><th scope=col>alpha</th><th scope=col>beta_mktrf</th><th scope=col>beta_smb</th><th scope=col>beta_hml</th><th scope=col>volatility</th><th scope=col>inflow_0_90</th><th scope=col>inflow_0_60</th><th scope=col>inflow_0_30</th><th scope=col>inflow_m30_0</th><th scope=col>revision_0_90</th><th scope=col>revision_0_60</th><th scope=col>revision_0_30</th><th scope=col>revision_m30_0</th><th scope=col>retail_tot_m30_0</th><th scope=col>retail_tot_m10_0</th><th scope=col>retail_tot_m3_0</th><th scope=col>retail_tot_0_3</th><th scope=col>retail_tot_0_10</th><th scope=col>retail_tot_0_30</th><th scope=col>retail_buy_m30_0</th><th scope=col>retail_buy_m10_0</th><th scope=col>retail_buy_m3_0</th><th scope=col>retail_buy_0_3</th><th scope=col>retail_buy_0_10</th><th scope=col>retail_buy_0_30</th><th scope=col>retail_sell_m30_0</th><th scope=col>retail_sell_m10_0</th><th scope=col>retail_sell_m3_0</th><th scope=col>retail_sell_0_3</th><th scope=col>retail_sell_0_10</th><th scope=col>retail_sell_0_30</th><th scope=col>retail_net_m30_0</th><th scope=col>retail_net_m10_0</th><th scope=col>retail_net_m3_0</th><th scope=col>retail_net_0_3</th><th scope=col>retail_net_0_10</th><th scope=col>retail_net_0_30</th></tr>\n",
       "\t<tr><th scope=col>&lt;chr&gt;</th><th scope=col>&lt;dbl&gt;</th><th scope=col>&lt;dbl&gt;</th><th scope=col>&lt;dbl&gt;</th><th scope=col>&lt;dbl&gt;</th><th scope=col>&lt;dbl&gt;</th><th scope=col>&lt;dbl&gt;</th><th scope=col>&lt;dbl&gt;</th><th scope=col>&lt;dbl&gt;</th><th scope=col>&lt;dbl&gt;</th><th scope=col>&lt;dbl&gt;</th><th scope=col>&lt;dbl&gt;</th><th scope=col>&lt;dbl&gt;</th><th scope=col>&lt;chr&gt;</th><th scope=col>&lt;chr&gt;</th><th scope=col>&lt;dbl&gt;</th><th scope=col>&lt;dbl&gt;</th><th scope=col>&lt;dbl&gt;</th><th scope=col>&lt;date&gt;</th><th scope=col>&lt;dbl&gt;</th><th scope=col>&lt;dbl&gt;</th><th scope=col>&lt;date&gt;</th><th scope=col>&lt;date&gt;</th><th scope=col>&lt;date&gt;</th><th scope=col>&lt;date&gt;</th><th scope=col>&lt;date&gt;</th><th scope=col>&lt;date&gt;</th><th scope=col>&lt;dbl&gt;</th><th scope=col>&lt;dbl&gt;</th><th scope=col>&lt;dbl&gt;</th><th scope=col>&lt;dbl&gt;</th><th scope=col>&lt;dbl&gt;</th><th scope=col>&lt;dbl&gt;</th><th scope=col>&lt;dbl&gt;</th><th scope=col>&lt;dbl&gt;</th><th scope=col>&lt;dbl&gt;</th><th scope=col>&lt;dbl&gt;</th><th scope=col>&lt;dbl&gt;</th><th scope=col>&lt;dbl&gt;</th><th scope=col>&lt;dbl&gt;</th><th scope=col>&lt;dbl&gt;</th><th scope=col>&lt;dbl&gt;</th><th scope=col>&lt;dbl&gt;</th><th scope=col>&lt;dbl&gt;</th><th scope=col>&lt;dbl&gt;</th><th scope=col>&lt;dbl&gt;</th><th scope=col>&lt;dbl&gt;</th><th scope=col>&lt;dbl&gt;</th><th scope=col>&lt;dbl&gt;</th><th scope=col>&lt;dbl&gt;</th><th scope=col>...</th><th scope=col>&lt;dbl&gt;</th><th scope=col>&lt;dbl&gt;</th><th scope=col>&lt;dbl&gt;</th><th scope=col>&lt;dbl&gt;</th><th scope=col>&lt;dbl&gt;</th><th scope=col>&lt;dbl&gt;</th><th scope=col>&lt;dbl&gt;</th><th scope=col>&lt;dbl&gt;</th><th scope=col>&lt;dbl&gt;</th><th scope=col>&lt;dbl&gt;</th><th scope=col>&lt;dbl&gt;</th><th scope=col>&lt;dbl&gt;</th><th scope=col>&lt;dbl&gt;</th><th scope=col>&lt;dbl&gt;</th><th scope=col>&lt;dbl&gt;</th><th scope=col>&lt;dbl&gt;</th><th scope=col>&lt;dbl&gt;</th><th scope=col>&lt;dbl&gt;</th><th scope=col>&lt;dbl&gt;</th><th scope=col>&lt;dbl&gt;</th><th scope=col>&lt;dbl&gt;</th><th scope=col>&lt;dbl&gt;</th><th scope=col>&lt;dbl&gt;</th><th scope=col>&lt;dbl&gt;</th><th scope=col>&lt;dbl&gt;</th><th scope=col>&lt;dbl&gt;</th><th scope=col>&lt;dbl&gt;</th><th scope=col>&lt;dbl&gt;</th><th scope=col>&lt;dbl&gt;</th><th scope=col>&lt;dbl&gt;</th><th scope=col>&lt;dbl&gt;</th><th scope=col>&lt;dbl&gt;</th><th scope=col>&lt;dbl&gt;</th><th scope=col>&lt;dbl&gt;</th><th scope=col>&lt;dbl&gt;</th><th scope=col>&lt;dbl&gt;</th><th scope=col>&lt;dbl&gt;</th><th scope=col>&lt;dbl&gt;</th><th scope=col>&lt;dbl&gt;</th><th scope=col>&lt;dbl&gt;</th><th scope=col>&lt;dbl&gt;</th><th scope=col>&lt;dbl&gt;</th><th scope=col>&lt;dbl&gt;</th><th scope=col>&lt;dbl&gt;</th><th scope=col>&lt;dbl&gt;</th><th scope=col>&lt;dbl&gt;</th><th scope=col>&lt;dbl&gt;</th><th scope=col>&lt;dbl&gt;</th><th scope=col>&lt;dbl&gt;</th><th scope=col>&lt;dbl&gt;</th></tr>\n",
       "</thead>\n",
       "<tbody>\n",
       "\t<tr><td>001013-2008-03-05</td><td>0.5322156</td><td>0.2613174</td><td>0.1649701</td><td>0.6041317</td><td>0.3028144</td><td>0.1345509</td><td>0.5445926</td><td>0.2761852</td><td>0.1044074</td><td>0.5408889</td><td>0.351</td><td>0.1829259</td><td>001013</td><td>50906</td><td>0.7845072</td><td>0.0009473079</td><td>0.02925144</td><td>2008-01-31</td><td>2008</td><td>1</td><td>2008-03-05</td><td>2008-03-05</td><td>2008-03-05</td><td>2008-03-05</td><td>2008-03-05</td><td>2008-06-04</td><td>5241424</td><td>5152678</td><td>320</td><td>7.46124</td><td>0.006761325</td><td>NA</td><td>0.006062767</td><td>0.01893171</td><td>NA</td><td>0.0278174</td><td>0.01217039</td><td>NA</td><td>0.02175464</td><td>17</td><td>0.01217039</td><td>0.001547043</td><td>3.996961</td><td>0.2971765</td><td>-1.536211</td><td>0.2199395</td><td>-12.37037</td><td>-6.222223</td><td>-6.96296</td><td>...</td><td>-2.655725</td><td>-9.076894</td><td>NA</td><td>11.50231</td><td>-6.616572</td><td>NA</td><td>4.588225</td><td>-6.567197</td><td>NA</td><td>0.3902708</td><td>0.477</td><td>0.099</td><td>0.429</td><td>-0.08592177</td><td>0.9685945</td><td>-0.2939265</td><td>1.243559</td><td>3.171002</td><td>149.3935</td><td>149.3935</td><td>395.3898</td><td>42.46161</td><td>0.1509813</td><td>0.1485884</td><td>0.1483683</td><td>0.1481481</td><td>0</td><td>0</td><td>0</td><td>0</td><td>0</td><td>0</td><td>0</td><td>0</td><td>0</td><td>0</td><td>0</td><td>0</td><td>0</td><td>0</td><td>0</td><td>0</td><td>0</td><td>0</td><td>0</td><td>0</td><td>0</td><td>0</td><td>0</td><td>0</td></tr>\n",
       "</tbody>\n",
       "</table>\n"
      ],
      "text/latex": [
       "A data.table: 1 × 102\n",
       "\\begin{tabular}{lllllllllllllllllllllllllllllllllllllllllllllllllllllllllllllllllllllllllllllllllllllllllllllllllllll}\n",
       " docid & present\\_positive\\_chunk & present\\_positive\\_sent & present\\_neutral\\_chunk & present\\_neutral\\_sent & present\\_negative\\_chunk & present\\_negative\\_sent & qa\\_positive\\_chunk & qa\\_positive\\_sent & qa\\_neutral\\_chunk & qa\\_neutral\\_sent & qa\\_negative\\_chunk & qa\\_negative\\_sent & gvkey & permno & similarity\\_unigram & similarity\\_bigram & similarity\\_allgram & datadate & fyear & fqtr & ciq\\_release\\_date & ciq\\_call\\_date & rdq & rdq1 & repdats & leadrdq1 & release\\_keydevid & call\\_keydevid & transcriptid & mcap & sue & sue\\_lag1 & sue\\_lead1 & se & se\\_lag1 & se\\_lead1 & sest & sest\\_lag1 & sest\\_lead1 & numest & smedest & sstdest & volume & ret\\_m1\\_m1 & ret\\_m2\\_m2 & ret\\_m30\\_m3 & ret\\_0\\_10 & ret\\_0\\_20 & ret\\_0\\_30 & ... & car\\_m30\\_m3 & car\\_0\\_10 & car\\_0\\_10\\_lag1 & car\\_0\\_10\\_lead1 & car\\_0\\_20 & car\\_0\\_20\\_lag1 & car\\_0\\_20\\_lead1 & car\\_0\\_30 & car\\_0\\_30\\_lag1 & car\\_0\\_30\\_lead1 & bm & roa & debt\\_asset & alpha & beta\\_mktrf & beta\\_smb & beta\\_hml & volatility & inflow\\_0\\_90 & inflow\\_0\\_60 & inflow\\_0\\_30 & inflow\\_m30\\_0 & revision\\_0\\_90 & revision\\_0\\_60 & revision\\_0\\_30 & revision\\_m30\\_0 & retail\\_tot\\_m30\\_0 & retail\\_tot\\_m10\\_0 & retail\\_tot\\_m3\\_0 & retail\\_tot\\_0\\_3 & retail\\_tot\\_0\\_10 & retail\\_tot\\_0\\_30 & retail\\_buy\\_m30\\_0 & retail\\_buy\\_m10\\_0 & retail\\_buy\\_m3\\_0 & retail\\_buy\\_0\\_3 & retail\\_buy\\_0\\_10 & retail\\_buy\\_0\\_30 & retail\\_sell\\_m30\\_0 & retail\\_sell\\_m10\\_0 & retail\\_sell\\_m3\\_0 & retail\\_sell\\_0\\_3 & retail\\_sell\\_0\\_10 & retail\\_sell\\_0\\_30 & retail\\_net\\_m30\\_0 & retail\\_net\\_m10\\_0 & retail\\_net\\_m3\\_0 & retail\\_net\\_0\\_3 & retail\\_net\\_0\\_10 & retail\\_net\\_0\\_30\\\\\n",
       " <chr> & <dbl> & <dbl> & <dbl> & <dbl> & <dbl> & <dbl> & <dbl> & <dbl> & <dbl> & <dbl> & <dbl> & <dbl> & <chr> & <chr> & <dbl> & <dbl> & <dbl> & <date> & <dbl> & <dbl> & <date> & <date> & <date> & <date> & <date> & <date> & <dbl> & <dbl> & <dbl> & <dbl> & <dbl> & <dbl> & <dbl> & <dbl> & <dbl> & <dbl> & <dbl> & <dbl> & <dbl> & <dbl> & <dbl> & <dbl> & <dbl> & <dbl> & <dbl> & <dbl> & <dbl> & <dbl> & <dbl> & ... & <dbl> & <dbl> & <dbl> & <dbl> & <dbl> & <dbl> & <dbl> & <dbl> & <dbl> & <dbl> & <dbl> & <dbl> & <dbl> & <dbl> & <dbl> & <dbl> & <dbl> & <dbl> & <dbl> & <dbl> & <dbl> & <dbl> & <dbl> & <dbl> & <dbl> & <dbl> & <dbl> & <dbl> & <dbl> & <dbl> & <dbl> & <dbl> & <dbl> & <dbl> & <dbl> & <dbl> & <dbl> & <dbl> & <dbl> & <dbl> & <dbl> & <dbl> & <dbl> & <dbl> & <dbl> & <dbl> & <dbl> & <dbl> & <dbl> & <dbl>\\\\\n",
       "\\hline\n",
       "\t 001013-2008-03-05 & 0.5322156 & 0.2613174 & 0.1649701 & 0.6041317 & 0.3028144 & 0.1345509 & 0.5445926 & 0.2761852 & 0.1044074 & 0.5408889 & 0.351 & 0.1829259 & 001013 & 50906 & 0.7845072 & 0.0009473079 & 0.02925144 & 2008-01-31 & 2008 & 1 & 2008-03-05 & 2008-03-05 & 2008-03-05 & 2008-03-05 & 2008-03-05 & 2008-06-04 & 5241424 & 5152678 & 320 & 7.46124 & 0.006761325 & NA & 0.006062767 & 0.01893171 & NA & 0.0278174 & 0.01217039 & NA & 0.02175464 & 17 & 0.01217039 & 0.001547043 & 3.996961 & 0.2971765 & -1.536211 & 0.2199395 & -12.37037 & -6.222223 & -6.96296 & ... & -2.655725 & -9.076894 & NA & 11.50231 & -6.616572 & NA & 4.588225 & -6.567197 & NA & 0.3902708 & 0.477 & 0.099 & 0.429 & -0.08592177 & 0.9685945 & -0.2939265 & 1.243559 & 3.171002 & 149.3935 & 149.3935 & 395.3898 & 42.46161 & 0.1509813 & 0.1485884 & 0.1483683 & 0.1481481 & 0 & 0 & 0 & 0 & 0 & 0 & 0 & 0 & 0 & 0 & 0 & 0 & 0 & 0 & 0 & 0 & 0 & 0 & 0 & 0 & 0 & 0 & 0 & 0\\\\\n",
       "\\end{tabular}\n"
      ],
      "text/markdown": [
       "\n",
       "A data.table: 1 × 102\n",
       "\n",
       "| docid &lt;chr&gt; | present_positive_chunk &lt;dbl&gt; | present_positive_sent &lt;dbl&gt; | present_neutral_chunk &lt;dbl&gt; | present_neutral_sent &lt;dbl&gt; | present_negative_chunk &lt;dbl&gt; | present_negative_sent &lt;dbl&gt; | qa_positive_chunk &lt;dbl&gt; | qa_positive_sent &lt;dbl&gt; | qa_neutral_chunk &lt;dbl&gt; | qa_neutral_sent &lt;dbl&gt; | qa_negative_chunk &lt;dbl&gt; | qa_negative_sent &lt;dbl&gt; | gvkey &lt;chr&gt; | permno &lt;chr&gt; | similarity_unigram &lt;dbl&gt; | similarity_bigram &lt;dbl&gt; | similarity_allgram &lt;dbl&gt; | datadate &lt;date&gt; | fyear &lt;dbl&gt; | fqtr &lt;dbl&gt; | ciq_release_date &lt;date&gt; | ciq_call_date &lt;date&gt; | rdq &lt;date&gt; | rdq1 &lt;date&gt; | repdats &lt;date&gt; | leadrdq1 &lt;date&gt; | release_keydevid &lt;dbl&gt; | call_keydevid &lt;dbl&gt; | transcriptid &lt;dbl&gt; | mcap &lt;dbl&gt; | sue &lt;dbl&gt; | sue_lag1 &lt;dbl&gt; | sue_lead1 &lt;dbl&gt; | se &lt;dbl&gt; | se_lag1 &lt;dbl&gt; | se_lead1 &lt;dbl&gt; | sest &lt;dbl&gt; | sest_lag1 &lt;dbl&gt; | sest_lead1 &lt;dbl&gt; | numest &lt;dbl&gt; | smedest &lt;dbl&gt; | sstdest &lt;dbl&gt; | volume &lt;dbl&gt; | ret_m1_m1 &lt;dbl&gt; | ret_m2_m2 &lt;dbl&gt; | ret_m30_m3 &lt;dbl&gt; | ret_0_10 &lt;dbl&gt; | ret_0_20 &lt;dbl&gt; | ret_0_30 &lt;dbl&gt; | ... ... | car_m30_m3 &lt;dbl&gt; | car_0_10 &lt;dbl&gt; | car_0_10_lag1 &lt;dbl&gt; | car_0_10_lead1 &lt;dbl&gt; | car_0_20 &lt;dbl&gt; | car_0_20_lag1 &lt;dbl&gt; | car_0_20_lead1 &lt;dbl&gt; | car_0_30 &lt;dbl&gt; | car_0_30_lag1 &lt;dbl&gt; | car_0_30_lead1 &lt;dbl&gt; | bm &lt;dbl&gt; | roa &lt;dbl&gt; | debt_asset &lt;dbl&gt; | alpha &lt;dbl&gt; | beta_mktrf &lt;dbl&gt; | beta_smb &lt;dbl&gt; | beta_hml &lt;dbl&gt; | volatility &lt;dbl&gt; | inflow_0_90 &lt;dbl&gt; | inflow_0_60 &lt;dbl&gt; | inflow_0_30 &lt;dbl&gt; | inflow_m30_0 &lt;dbl&gt; | revision_0_90 &lt;dbl&gt; | revision_0_60 &lt;dbl&gt; | revision_0_30 &lt;dbl&gt; | revision_m30_0 &lt;dbl&gt; | retail_tot_m30_0 &lt;dbl&gt; | retail_tot_m10_0 &lt;dbl&gt; | retail_tot_m3_0 &lt;dbl&gt; | retail_tot_0_3 &lt;dbl&gt; | retail_tot_0_10 &lt;dbl&gt; | retail_tot_0_30 &lt;dbl&gt; | retail_buy_m30_0 &lt;dbl&gt; | retail_buy_m10_0 &lt;dbl&gt; | retail_buy_m3_0 &lt;dbl&gt; | retail_buy_0_3 &lt;dbl&gt; | retail_buy_0_10 &lt;dbl&gt; | retail_buy_0_30 &lt;dbl&gt; | retail_sell_m30_0 &lt;dbl&gt; | retail_sell_m10_0 &lt;dbl&gt; | retail_sell_m3_0 &lt;dbl&gt; | retail_sell_0_3 &lt;dbl&gt; | retail_sell_0_10 &lt;dbl&gt; | retail_sell_0_30 &lt;dbl&gt; | retail_net_m30_0 &lt;dbl&gt; | retail_net_m10_0 &lt;dbl&gt; | retail_net_m3_0 &lt;dbl&gt; | retail_net_0_3 &lt;dbl&gt; | retail_net_0_10 &lt;dbl&gt; | retail_net_0_30 &lt;dbl&gt; |\n",
       "|---|---|---|---|---|---|---|---|---|---|---|---|---|---|---|---|---|---|---|---|---|---|---|---|---|---|---|---|---|---|---|---|---|---|---|---|---|---|---|---|---|---|---|---|---|---|---|---|---|---|---|---|---|---|---|---|---|---|---|---|---|---|---|---|---|---|---|---|---|---|---|---|---|---|---|---|---|---|---|---|---|---|---|---|---|---|---|---|---|---|---|---|---|---|---|---|---|---|---|---|---|\n",
       "| 001013-2008-03-05 | 0.5322156 | 0.2613174 | 0.1649701 | 0.6041317 | 0.3028144 | 0.1345509 | 0.5445926 | 0.2761852 | 0.1044074 | 0.5408889 | 0.351 | 0.1829259 | 001013 | 50906 | 0.7845072 | 0.0009473079 | 0.02925144 | 2008-01-31 | 2008 | 1 | 2008-03-05 | 2008-03-05 | 2008-03-05 | 2008-03-05 | 2008-03-05 | 2008-06-04 | 5241424 | 5152678 | 320 | 7.46124 | 0.006761325 | NA | 0.006062767 | 0.01893171 | NA | 0.0278174 | 0.01217039 | NA | 0.02175464 | 17 | 0.01217039 | 0.001547043 | 3.996961 | 0.2971765 | -1.536211 | 0.2199395 | -12.37037 | -6.222223 | -6.96296 | ... | -2.655725 | -9.076894 | NA | 11.50231 | -6.616572 | NA | 4.588225 | -6.567197 | NA | 0.3902708 | 0.477 | 0.099 | 0.429 | -0.08592177 | 0.9685945 | -0.2939265 | 1.243559 | 3.171002 | 149.3935 | 149.3935 | 395.3898 | 42.46161 | 0.1509813 | 0.1485884 | 0.1483683 | 0.1481481 | 0 | 0 | 0 | 0 | 0 | 0 | 0 | 0 | 0 | 0 | 0 | 0 | 0 | 0 | 0 | 0 | 0 | 0 | 0 | 0 | 0 | 0 | 0 | 0 |\n",
       "\n"
      ],
      "text/plain": [
       "  docid             present_positive_chunk present_positive_sent\n",
       "1 001013-2008-03-05 0.5322156              0.2613174            \n",
       "  present_neutral_chunk present_neutral_sent present_negative_chunk\n",
       "1 0.1649701             0.6041317            0.3028144             \n",
       "  present_negative_sent qa_positive_chunk qa_positive_sent qa_neutral_chunk\n",
       "1 0.1345509             0.5445926         0.2761852        0.1044074       \n",
       "  qa_neutral_sent qa_negative_chunk qa_negative_sent gvkey  permno\n",
       "1 0.5408889       0.351             0.1829259        001013 50906 \n",
       "  similarity_unigram similarity_bigram similarity_allgram datadate   fyear fqtr\n",
       "1 0.7845072          0.0009473079      0.02925144         2008-01-31 2008  1   \n",
       "  ciq_release_date ciq_call_date rdq        rdq1       repdats    leadrdq1  \n",
       "1 2008-03-05       2008-03-05    2008-03-05 2008-03-05 2008-03-05 2008-06-04\n",
       "  release_keydevid call_keydevid transcriptid mcap    sue         sue_lag1\n",
       "1 5241424          5152678       320          7.46124 0.006761325 NA      \n",
       "  sue_lead1   se         se_lag1 se_lead1  sest       sest_lag1 sest_lead1\n",
       "1 0.006062767 0.01893171 NA      0.0278174 0.01217039 NA        0.02175464\n",
       "  numest smedest    sstdest     volume   ret_m1_m1 ret_m2_m2 ret_m30_m3\n",
       "1 17     0.01217039 0.001547043 3.996961 0.2971765 -1.536211 0.2199395 \n",
       "  ret_0_10  ret_0_20  ret_0_30 ... car_m30_m3 car_0_10  car_0_10_lag1\n",
       "1 -12.37037 -6.222223 -6.96296 ... -2.655725  -9.076894 NA           \n",
       "  car_0_10_lead1 car_0_20  car_0_20_lag1 car_0_20_lead1 car_0_30  car_0_30_lag1\n",
       "1 11.50231       -6.616572 NA            4.588225       -6.567197 NA           \n",
       "  car_0_30_lead1 bm    roa   debt_asset alpha       beta_mktrf beta_smb  \n",
       "1 0.3902708      0.477 0.099 0.429      -0.08592177 0.9685945  -0.2939265\n",
       "  beta_hml volatility inflow_0_90 inflow_0_60 inflow_0_30 inflow_m30_0\n",
       "1 1.243559 3.171002   149.3935    149.3935    395.3898    42.46161    \n",
       "  revision_0_90 revision_0_60 revision_0_30 revision_m30_0 retail_tot_m30_0\n",
       "1 0.1509813     0.1485884     0.1483683     0.1481481      0               \n",
       "  retail_tot_m10_0 retail_tot_m3_0 retail_tot_0_3 retail_tot_0_10\n",
       "1 0                0               0              0              \n",
       "  retail_tot_0_30 retail_buy_m30_0 retail_buy_m10_0 retail_buy_m3_0\n",
       "1 0               0                0                0              \n",
       "  retail_buy_0_3 retail_buy_0_10 retail_buy_0_30 retail_sell_m30_0\n",
       "1 0              0               0               0                \n",
       "  retail_sell_m10_0 retail_sell_m3_0 retail_sell_0_3 retail_sell_0_10\n",
       "1 0                 0                0               0               \n",
       "  retail_sell_0_30 retail_net_m30_0 retail_net_m10_0 retail_net_m3_0\n",
       "1 0                0                0                0              \n",
       "  retail_net_0_3 retail_net_0_10 retail_net_0_30\n",
       "1 0              0               0              "
      ]
     },
     "metadata": {},
     "output_type": "display_data"
    },
    {
     "name": "stdout",
     "output_type": "stream",
     "text": [
      "-f_sue_keydevid_car_finratio_vol_transcriptid_sim_inflow_revision_retail_sentiment- saved  (0.63 secs)\n"
     ]
    }
   ],
   "source": [
    "# <-> sentiment\n",
    "ld(f_sue_keydevid_car_finratio_vol_transcriptid_sim_inflow_revision_retail)\n",
    "\n",
    "sprintf('N f_sue_keydevid_car_finratio_vol_transcriptid_sim_inflow_revision_retail: %s\\n', nrow(f_sue_keydevid_car_finratio_vol_transcriptid_sim_inflow_revision_retail)) %>% cat()\n",
    "\n",
    "f_sue_keydevid_car_finratio_vol_transcriptid_sim_inflow_revision_retail_sentiment = sentiment[f_sue_keydevid_car_finratio_vol_transcriptid_sim_inflow_revision_retail, on=.(docid), nomatch=NULL]\n",
    "\n",
    "sprintf('N f_sue_keydevid_car_finratio_vol_transcriptid_sim_inflow_revision_retail_sentiment: %s\\n (%s variable)\\n', nrow(f_sue_keydevid_car_finratio_vol_transcriptid_sim_inflow_revision_retail_sentiment), length(names(f_sue_keydevid_car_finratio_vol_transcriptid_sim_inflow_revision_retail_sentiment))) %>% cat()\n",
    "\n",
    "f_sue_keydevid_car_finratio_vol_transcriptid_sim_inflow_revision_retail_sentiment[1]\n",
    "sv(f_sue_keydevid_car_finratio_vol_transcriptid_sim_inflow_revision_retail_sentiment)"
   ]
  },
  {
   "cell_type": "markdown",
   "metadata": {},
   "source": [
    "## <-> `transcripts`"
   ]
  },
  {
   "cell_type": "markdown",
   "metadata": {},
   "source": [
    "Task\n",
    "- add `x_present`, `x_qa`, `x_ans` and `x_ques`\n",
    "\n",
    "Filter:\n",
    "- If one `release_keydevid` have multiple `transcriptid`, merge them\n",
    "- 21822 -> 21763\n",
    "\n",
    "Note:\n",
    "- unique key: ['gvkey', 'ciq_release_date']"
   ]
  },
  {
   "cell_type": "code",
   "execution_count": 1,
   "metadata": {},
   "outputs": [
    {
     "name": "stdout",
     "output_type": "stream",
     "text": [
      "-f_sue_keydevid_car_finratio_vol_transcriptid_sim_inflow_revision_retail_sentiment- loaded  (0.09 secs)\n",
      "-x_present- loaded  (4.32 secs)\n",
      "-x_qa- loaded  (5.17 secs)\n",
      "-x_ans- loaded  (4.95 secs)\n",
      "-x_ques- loaded  (1.41 secs)\n",
      "-x_all- loaded  (8.69 secs)\n"
     ]
    }
   ],
   "source": [
    "ld(f_sue_keydevid_car_finratio_vol_transcriptid_sim_inflow_revision_retail_sentiment, force=T)\n",
    "ld(x_present)\n",
    "ld(x_qa)\n",
    "ld(x_ans)\n",
    "ld(x_ques)\n",
    "ld(x_all)"
   ]
  },
  {
   "cell_type": "code",
   "execution_count": 2,
   "metadata": {
    "scrolled": true
   },
   "outputs": [
    {
     "name": "stdout",
     "output_type": "stream",
     "text": [
      "N f_sue_keydevid_car_finratio_vol_transcriptid_sim_inflow_revision_retail_sentiment: 21816\n",
      "N f_sue_keydevid_car_finratio_vol_transcriptid_sim_inflow_revision_retail_sentiment_text: 21763\n",
      " (93 variable)"
     ]
    },
    {
     "data": {
      "text/html": [
       "<table>\n",
       "<caption>A data.table: 1 × 88</caption>\n",
       "<thead>\n",
       "\t<tr><th scope=col>gvkey</th><th scope=col>ciq_release_date</th><th scope=col>docid</th><th scope=col>ciq_call_date</th><th scope=col>fyear</th><th scope=col>fqtr</th><th scope=col>release_keydevid</th><th scope=col>call_keydevid</th><th scope=col>transcriptid</th><th scope=col>ret_0_10</th><th scope=col>ret_0_20</th><th scope=col>ret_0_30</th><th scope=col>car_0_10</th><th scope=col>car_0_10_lag1</th><th scope=col>car_0_10_lead1</th><th scope=col>car_0_20</th><th scope=col>car_0_20_lag1</th><th scope=col>car_0_20_lead1</th><th scope=col>car_0_30</th><th scope=col>car_0_30_lag1</th><th scope=col>car_0_30_lead1</th><th scope=col>beta_mktrf</th><th scope=col>ret_m1_m1</th><th scope=col>ret_m2_m2</th><th scope=col>ret_m30_m3</th><th scope=col>car_m1_m1</th><th scope=col>car_m2_m2</th><th scope=col>car_m30_m3</th><th scope=col>sest</th><th scope=col>sest_lag1</th><th scope=col>sest_lead1</th><th scope=col>sue</th><th scope=col>sue_lag1</th><th scope=col>sue_lead1</th><th scope=col>se</th><th scope=col>se_lag1</th><th scope=col>se_lead1</th><th scope=col>numest</th><th scope=col>smedest</th><th scope=col>sstdest</th><th scope=col>volume</th><th scope=col>mcap</th><th scope=col>bm</th><th scope=col>roa</th><th scope=col>debt_asset</th><th scope=col>alpha</th><th scope=col>volatility</th><th scope=col>revision</th><th scope=col>inflow</th><th scope=col>similarity_unigram</th><th scope=col>similarity_bigram</th><th scope=col>similarity_allgram</th><th scope=col>present_positive_chunk</th><th scope=col>present_positive_sent</th><th scope=col>present_neutral_chunk</th><th scope=col>present_neutral_sent</th><th scope=col>present_negative_chunk</th><th scope=col>present_negative_sent</th><th scope=col>qa_positive_chunk</th><th scope=col>qa_positive_sent</th><th scope=col>qa_neutral_chunk</th><th scope=col>qa_neutral_sent</th><th scope=col>qa_negative_chunk</th><th scope=col>qa_negative_sent</th><th scope=col>retail_tot_m30_0</th><th scope=col>retail_tot_m10_0</th><th scope=col>retail_tot_m3_0</th><th scope=col>retail_tot_0_3</th><th scope=col>retail_tot_0_10</th><th scope=col>retail_tot_0_30</th><th scope=col>retail_buy_m30_0</th><th scope=col>retail_buy_m10_0</th><th scope=col>retail_buy_m3_0</th><th scope=col>retail_buy_0_3</th><th scope=col>retail_buy_0_10</th><th scope=col>retail_buy_0_30</th><th scope=col>retail_sell_m30_0</th><th scope=col>retail_sell_m10_0</th><th scope=col>retail_sell_m3_0</th><th scope=col>retail_sell_0_3</th><th scope=col>retail_sell_0_10</th><th scope=col>retail_sell_0_30</th><th scope=col>retail_net_m30_0</th><th scope=col>retail_net_m10_0</th><th scope=col>retail_net_m3_0</th><th scope=col>retail_net_0_3</th><th scope=col>retail_net_0_10</th><th scope=col>retail_net_0_30</th></tr>\n",
       "\t<tr><th scope=col>&lt;chr&gt;</th><th scope=col>&lt;date&gt;</th><th scope=col>&lt;chr&gt;</th><th scope=col>&lt;date&gt;</th><th scope=col>&lt;dbl&gt;</th><th scope=col>&lt;dbl&gt;</th><th scope=col>&lt;int&gt;</th><th scope=col>&lt;int&gt;</th><th scope=col>&lt;int&gt;</th><th scope=col>&lt;dbl&gt;</th><th scope=col>&lt;dbl&gt;</th><th scope=col>&lt;dbl&gt;</th><th scope=col>&lt;dbl&gt;</th><th scope=col>&lt;dbl&gt;</th><th scope=col>&lt;dbl&gt;</th><th scope=col>&lt;dbl&gt;</th><th scope=col>&lt;dbl&gt;</th><th scope=col>&lt;dbl&gt;</th><th scope=col>&lt;dbl&gt;</th><th scope=col>&lt;dbl&gt;</th><th scope=col>&lt;dbl&gt;</th><th scope=col>&lt;dbl&gt;</th><th scope=col>&lt;dbl&gt;</th><th scope=col>&lt;dbl&gt;</th><th scope=col>&lt;dbl&gt;</th><th scope=col>&lt;dbl&gt;</th><th scope=col>&lt;dbl&gt;</th><th scope=col>&lt;dbl&gt;</th><th scope=col>&lt;dbl&gt;</th><th scope=col>&lt;dbl&gt;</th><th scope=col>&lt;dbl&gt;</th><th scope=col>&lt;dbl&gt;</th><th scope=col>&lt;dbl&gt;</th><th scope=col>&lt;dbl&gt;</th><th scope=col>&lt;dbl&gt;</th><th scope=col>&lt;dbl&gt;</th><th scope=col>&lt;dbl&gt;</th><th scope=col>&lt;dbl&gt;</th><th scope=col>&lt;dbl&gt;</th><th scope=col>&lt;dbl&gt;</th><th scope=col>&lt;dbl&gt;</th><th scope=col>&lt;dbl&gt;</th><th scope=col>&lt;dbl&gt;</th><th scope=col>&lt;dbl&gt;</th><th scope=col>&lt;dbl&gt;</th><th scope=col>&lt;dbl&gt;</th><th scope=col>&lt;dbl&gt;</th><th scope=col>&lt;dbl&gt;</th><th scope=col>&lt;dbl&gt;</th><th scope=col>&lt;dbl&gt;</th><th scope=col>&lt;dbl&gt;</th><th scope=col>&lt;dbl&gt;</th><th scope=col>&lt;dbl&gt;</th><th scope=col>&lt;dbl&gt;</th><th scope=col>&lt;dbl&gt;</th><th scope=col>&lt;dbl&gt;</th><th scope=col>&lt;dbl&gt;</th><th scope=col>&lt;dbl&gt;</th><th scope=col>&lt;dbl&gt;</th><th scope=col>&lt;dbl&gt;</th><th scope=col>&lt;dbl&gt;</th><th scope=col>&lt;dbl&gt;</th><th scope=col>&lt;dbl&gt;</th><th scope=col>&lt;dbl&gt;</th><th scope=col>&lt;dbl&gt;</th><th scope=col>&lt;dbl&gt;</th><th scope=col>&lt;dbl&gt;</th><th scope=col>&lt;dbl&gt;</th><th scope=col>&lt;dbl&gt;</th><th scope=col>&lt;dbl&gt;</th><th scope=col>&lt;dbl&gt;</th><th scope=col>&lt;dbl&gt;</th><th scope=col>&lt;dbl&gt;</th><th scope=col>&lt;dbl&gt;</th><th scope=col>&lt;dbl&gt;</th><th scope=col>&lt;dbl&gt;</th><th scope=col>&lt;dbl&gt;</th><th scope=col>&lt;dbl&gt;</th><th scope=col>&lt;dbl&gt;</th><th scope=col>&lt;dbl&gt;</th><th scope=col>&lt;dbl&gt;</th><th scope=col>&lt;dbl&gt;</th><th scope=col>&lt;dbl&gt;</th><th scope=col>&lt;dbl&gt;</th><th scope=col>&lt;dbl&gt;</th><th scope=col>&lt;dbl&gt;</th><th scope=col>&lt;dbl&gt;</th><th scope=col>&lt;dbl&gt;</th></tr>\n",
       "</thead>\n",
       "<tbody>\n",
       "\t<tr><td>001013</td><td>2008-03-05</td><td>001013-2008-03-05</td><td>2008-03-05</td><td>2008</td><td>1</td><td>5241424</td><td>5152678</td><td>320</td><td>-12.37037</td><td>-6.222223</td><td>-6.96296</td><td>-9.076894</td><td>NA</td><td>11.50231</td><td>-6.616572</td><td>NA</td><td>4.588225</td><td>-6.567197</td><td>NA</td><td>0.3902708</td><td>0.9685945</td><td>0.2971765</td><td>-1.536211</td><td>0.2199395</td><td>0.7939703</td><td>-1.043903</td><td>-2.655725</td><td>0.01217039</td><td>NA</td><td>0.02175464</td><td>0.006761325</td><td>NA</td><td>0.006062767</td><td>0.01893171</td><td>NA</td><td>0.0278174</td><td>17</td><td>0.01217039</td><td>0.001547043</td><td>3.996961</td><td>7.46124</td><td>0.477</td><td>0.099</td><td>0.429</td><td>-0.08592177</td><td>3.171002</td><td>0.1509813</td><td>149.3935</td><td>0.7845072</td><td>0.0009473079</td><td>0.02925144</td><td>0.5322156</td><td>0.2613174</td><td>0.1649701</td><td>0.6041317</td><td>0.1649701</td><td>0.6041317</td><td>0.5445926</td><td>0.2761852</td><td>0.1044074</td><td>0.5408889</td><td>0.351</td><td>0.1829259</td><td>0</td><td>0</td><td>0</td><td>0</td><td>0</td><td>0</td><td>0</td><td>0</td><td>0</td><td>0</td><td>0</td><td>0</td><td>0</td><td>0</td><td>0</td><td>0</td><td>0</td><td>0</td><td>0</td><td>0</td><td>0</td><td>0</td><td>0</td><td>0</td></tr>\n",
       "</tbody>\n",
       "</table>\n"
      ],
      "text/latex": [
       "A data.table: 1 × 88\n",
       "\\begin{tabular}{llllllllllllllllllllllllllllllllllllllllllllllllllllllllllllllllllllllllllllllllllllllll}\n",
       " gvkey & ciq\\_release\\_date & docid & ciq\\_call\\_date & fyear & fqtr & release\\_keydevid & call\\_keydevid & transcriptid & ret\\_0\\_10 & ret\\_0\\_20 & ret\\_0\\_30 & car\\_0\\_10 & car\\_0\\_10\\_lag1 & car\\_0\\_10\\_lead1 & car\\_0\\_20 & car\\_0\\_20\\_lag1 & car\\_0\\_20\\_lead1 & car\\_0\\_30 & car\\_0\\_30\\_lag1 & car\\_0\\_30\\_lead1 & beta\\_mktrf & ret\\_m1\\_m1 & ret\\_m2\\_m2 & ret\\_m30\\_m3 & car\\_m1\\_m1 & car\\_m2\\_m2 & car\\_m30\\_m3 & sest & sest\\_lag1 & sest\\_lead1 & sue & sue\\_lag1 & sue\\_lead1 & se & se\\_lag1 & se\\_lead1 & numest & smedest & sstdest & volume & mcap & bm & roa & debt\\_asset & alpha & volatility & revision & inflow & similarity\\_unigram & similarity\\_bigram & similarity\\_allgram & present\\_positive\\_chunk & present\\_positive\\_sent & present\\_neutral\\_chunk & present\\_neutral\\_sent & present\\_negative\\_chunk & present\\_negative\\_sent & qa\\_positive\\_chunk & qa\\_positive\\_sent & qa\\_neutral\\_chunk & qa\\_neutral\\_sent & qa\\_negative\\_chunk & qa\\_negative\\_sent & retail\\_tot\\_m30\\_0 & retail\\_tot\\_m10\\_0 & retail\\_tot\\_m3\\_0 & retail\\_tot\\_0\\_3 & retail\\_tot\\_0\\_10 & retail\\_tot\\_0\\_30 & retail\\_buy\\_m30\\_0 & retail\\_buy\\_m10\\_0 & retail\\_buy\\_m3\\_0 & retail\\_buy\\_0\\_3 & retail\\_buy\\_0\\_10 & retail\\_buy\\_0\\_30 & retail\\_sell\\_m30\\_0 & retail\\_sell\\_m10\\_0 & retail\\_sell\\_m3\\_0 & retail\\_sell\\_0\\_3 & retail\\_sell\\_0\\_10 & retail\\_sell\\_0\\_30 & retail\\_net\\_m30\\_0 & retail\\_net\\_m10\\_0 & retail\\_net\\_m3\\_0 & retail\\_net\\_0\\_3 & retail\\_net\\_0\\_10 & retail\\_net\\_0\\_30\\\\\n",
       " <chr> & <date> & <chr> & <date> & <dbl> & <dbl> & <int> & <int> & <int> & <dbl> & <dbl> & <dbl> & <dbl> & <dbl> & <dbl> & <dbl> & <dbl> & <dbl> & <dbl> & <dbl> & <dbl> & <dbl> & <dbl> & <dbl> & <dbl> & <dbl> & <dbl> & <dbl> & <dbl> & <dbl> & <dbl> & <dbl> & <dbl> & <dbl> & <dbl> & <dbl> & <dbl> & <dbl> & <dbl> & <dbl> & <dbl> & <dbl> & <dbl> & <dbl> & <dbl> & <dbl> & <dbl> & <dbl> & <dbl> & <dbl> & <dbl> & <dbl> & <dbl> & <dbl> & <dbl> & <dbl> & <dbl> & <dbl> & <dbl> & <dbl> & <dbl> & <dbl> & <dbl> & <dbl> & <dbl> & <dbl> & <dbl> & <dbl> & <dbl> & <dbl> & <dbl> & <dbl> & <dbl> & <dbl> & <dbl> & <dbl> & <dbl> & <dbl> & <dbl> & <dbl> & <dbl> & <dbl> & <dbl> & <dbl> & <dbl> & <dbl> & <dbl> & <dbl>\\\\\n",
       "\\hline\n",
       "\t 001013 & 2008-03-05 & 001013-2008-03-05 & 2008-03-05 & 2008 & 1 & 5241424 & 5152678 & 320 & -12.37037 & -6.222223 & -6.96296 & -9.076894 & NA & 11.50231 & -6.616572 & NA & 4.588225 & -6.567197 & NA & 0.3902708 & 0.9685945 & 0.2971765 & -1.536211 & 0.2199395 & 0.7939703 & -1.043903 & -2.655725 & 0.01217039 & NA & 0.02175464 & 0.006761325 & NA & 0.006062767 & 0.01893171 & NA & 0.0278174 & 17 & 0.01217039 & 0.001547043 & 3.996961 & 7.46124 & 0.477 & 0.099 & 0.429 & -0.08592177 & 3.171002 & 0.1509813 & 149.3935 & 0.7845072 & 0.0009473079 & 0.02925144 & 0.5322156 & 0.2613174 & 0.1649701 & 0.6041317 & 0.1649701 & 0.6041317 & 0.5445926 & 0.2761852 & 0.1044074 & 0.5408889 & 0.351 & 0.1829259 & 0 & 0 & 0 & 0 & 0 & 0 & 0 & 0 & 0 & 0 & 0 & 0 & 0 & 0 & 0 & 0 & 0 & 0 & 0 & 0 & 0 & 0 & 0 & 0\\\\\n",
       "\\end{tabular}\n"
      ],
      "text/markdown": [
       "\n",
       "A data.table: 1 × 88\n",
       "\n",
       "| gvkey &lt;chr&gt; | ciq_release_date &lt;date&gt; | docid &lt;chr&gt; | ciq_call_date &lt;date&gt; | fyear &lt;dbl&gt; | fqtr &lt;dbl&gt; | release_keydevid &lt;int&gt; | call_keydevid &lt;int&gt; | transcriptid &lt;int&gt; | ret_0_10 &lt;dbl&gt; | ret_0_20 &lt;dbl&gt; | ret_0_30 &lt;dbl&gt; | car_0_10 &lt;dbl&gt; | car_0_10_lag1 &lt;dbl&gt; | car_0_10_lead1 &lt;dbl&gt; | car_0_20 &lt;dbl&gt; | car_0_20_lag1 &lt;dbl&gt; | car_0_20_lead1 &lt;dbl&gt; | car_0_30 &lt;dbl&gt; | car_0_30_lag1 &lt;dbl&gt; | car_0_30_lead1 &lt;dbl&gt; | beta_mktrf &lt;dbl&gt; | ret_m1_m1 &lt;dbl&gt; | ret_m2_m2 &lt;dbl&gt; | ret_m30_m3 &lt;dbl&gt; | car_m1_m1 &lt;dbl&gt; | car_m2_m2 &lt;dbl&gt; | car_m30_m3 &lt;dbl&gt; | sest &lt;dbl&gt; | sest_lag1 &lt;dbl&gt; | sest_lead1 &lt;dbl&gt; | sue &lt;dbl&gt; | sue_lag1 &lt;dbl&gt; | sue_lead1 &lt;dbl&gt; | se &lt;dbl&gt; | se_lag1 &lt;dbl&gt; | se_lead1 &lt;dbl&gt; | numest &lt;dbl&gt; | smedest &lt;dbl&gt; | sstdest &lt;dbl&gt; | volume &lt;dbl&gt; | mcap &lt;dbl&gt; | bm &lt;dbl&gt; | roa &lt;dbl&gt; | debt_asset &lt;dbl&gt; | alpha &lt;dbl&gt; | volatility &lt;dbl&gt; | revision &lt;dbl&gt; | inflow &lt;dbl&gt; | similarity_unigram &lt;dbl&gt; | similarity_bigram &lt;dbl&gt; | similarity_allgram &lt;dbl&gt; | present_positive_chunk &lt;dbl&gt; | present_positive_sent &lt;dbl&gt; | present_neutral_chunk &lt;dbl&gt; | present_neutral_sent &lt;dbl&gt; | present_negative_chunk &lt;dbl&gt; | present_negative_sent &lt;dbl&gt; | qa_positive_chunk &lt;dbl&gt; | qa_positive_sent &lt;dbl&gt; | qa_neutral_chunk &lt;dbl&gt; | qa_neutral_sent &lt;dbl&gt; | qa_negative_chunk &lt;dbl&gt; | qa_negative_sent &lt;dbl&gt; | retail_tot_m30_0 &lt;dbl&gt; | retail_tot_m10_0 &lt;dbl&gt; | retail_tot_m3_0 &lt;dbl&gt; | retail_tot_0_3 &lt;dbl&gt; | retail_tot_0_10 &lt;dbl&gt; | retail_tot_0_30 &lt;dbl&gt; | retail_buy_m30_0 &lt;dbl&gt; | retail_buy_m10_0 &lt;dbl&gt; | retail_buy_m3_0 &lt;dbl&gt; | retail_buy_0_3 &lt;dbl&gt; | retail_buy_0_10 &lt;dbl&gt; | retail_buy_0_30 &lt;dbl&gt; | retail_sell_m30_0 &lt;dbl&gt; | retail_sell_m10_0 &lt;dbl&gt; | retail_sell_m3_0 &lt;dbl&gt; | retail_sell_0_3 &lt;dbl&gt; | retail_sell_0_10 &lt;dbl&gt; | retail_sell_0_30 &lt;dbl&gt; | retail_net_m30_0 &lt;dbl&gt; | retail_net_m10_0 &lt;dbl&gt; | retail_net_m3_0 &lt;dbl&gt; | retail_net_0_3 &lt;dbl&gt; | retail_net_0_10 &lt;dbl&gt; | retail_net_0_30 &lt;dbl&gt; |\n",
       "|---|---|---|---|---|---|---|---|---|---|---|---|---|---|---|---|---|---|---|---|---|---|---|---|---|---|---|---|---|---|---|---|---|---|---|---|---|---|---|---|---|---|---|---|---|---|---|---|---|---|---|---|---|---|---|---|---|---|---|---|---|---|---|---|---|---|---|---|---|---|---|---|---|---|---|---|---|---|---|---|---|---|---|---|---|---|---|---|\n",
       "| 001013 | 2008-03-05 | 001013-2008-03-05 | 2008-03-05 | 2008 | 1 | 5241424 | 5152678 | 320 | -12.37037 | -6.222223 | -6.96296 | -9.076894 | NA | 11.50231 | -6.616572 | NA | 4.588225 | -6.567197 | NA | 0.3902708 | 0.9685945 | 0.2971765 | -1.536211 | 0.2199395 | 0.7939703 | -1.043903 | -2.655725 | 0.01217039 | NA | 0.02175464 | 0.006761325 | NA | 0.006062767 | 0.01893171 | NA | 0.0278174 | 17 | 0.01217039 | 0.001547043 | 3.996961 | 7.46124 | 0.477 | 0.099 | 0.429 | -0.08592177 | 3.171002 | 0.1509813 | 149.3935 | 0.7845072 | 0.0009473079 | 0.02925144 | 0.5322156 | 0.2613174 | 0.1649701 | 0.6041317 | 0.1649701 | 0.6041317 | 0.5445926 | 0.2761852 | 0.1044074 | 0.5408889 | 0.351 | 0.1829259 | 0 | 0 | 0 | 0 | 0 | 0 | 0 | 0 | 0 | 0 | 0 | 0 | 0 | 0 | 0 | 0 | 0 | 0 | 0 | 0 | 0 | 0 | 0 | 0 |\n",
       "\n"
      ],
      "text/plain": [
       "  gvkey  ciq_release_date docid             ciq_call_date fyear fqtr\n",
       "1 001013 2008-03-05       001013-2008-03-05 2008-03-05    2008  1   \n",
       "  release_keydevid call_keydevid transcriptid ret_0_10  ret_0_20  ret_0_30\n",
       "1 5241424          5152678       320          -12.37037 -6.222223 -6.96296\n",
       "  car_0_10  car_0_10_lag1 car_0_10_lead1 car_0_20  car_0_20_lag1 car_0_20_lead1\n",
       "1 -9.076894 NA            11.50231       -6.616572 NA            4.588225      \n",
       "  car_0_30  car_0_30_lag1 car_0_30_lead1 beta_mktrf ret_m1_m1 ret_m2_m2\n",
       "1 -6.567197 NA            0.3902708      0.9685945  0.2971765 -1.536211\n",
       "  ret_m30_m3 car_m1_m1 car_m2_m2 car_m30_m3 sest       sest_lag1 sest_lead1\n",
       "1 0.2199395  0.7939703 -1.043903 -2.655725  0.01217039 NA        0.02175464\n",
       "  sue         sue_lag1 sue_lead1   se         se_lag1 se_lead1  numest\n",
       "1 0.006761325 NA       0.006062767 0.01893171 NA      0.0278174 17    \n",
       "  smedest    sstdest     volume   mcap    bm    roa   debt_asset alpha      \n",
       "1 0.01217039 0.001547043 3.996961 7.46124 0.477 0.099 0.429      -0.08592177\n",
       "  volatility revision  inflow   similarity_unigram similarity_bigram\n",
       "1 3.171002   0.1509813 149.3935 0.7845072          0.0009473079     \n",
       "  similarity_allgram present_positive_chunk present_positive_sent\n",
       "1 0.02925144         0.5322156              0.2613174            \n",
       "  present_neutral_chunk present_neutral_sent present_negative_chunk\n",
       "1 0.1649701             0.6041317            0.1649701             \n",
       "  present_negative_sent qa_positive_chunk qa_positive_sent qa_neutral_chunk\n",
       "1 0.6041317             0.5445926         0.2761852        0.1044074       \n",
       "  qa_neutral_sent qa_negative_chunk qa_negative_sent retail_tot_m30_0\n",
       "1 0.5408889       0.351             0.1829259        0               \n",
       "  retail_tot_m10_0 retail_tot_m3_0 retail_tot_0_3 retail_tot_0_10\n",
       "1 0                0               0              0              \n",
       "  retail_tot_0_30 retail_buy_m30_0 retail_buy_m10_0 retail_buy_m3_0\n",
       "1 0               0                0                0              \n",
       "  retail_buy_0_3 retail_buy_0_10 retail_buy_0_30 retail_sell_m30_0\n",
       "1 0              0               0               0                \n",
       "  retail_sell_m10_0 retail_sell_m3_0 retail_sell_0_3 retail_sell_0_10\n",
       "1 0                 0                0               0               \n",
       "  retail_sell_0_30 retail_net_m30_0 retail_net_m10_0 retail_net_m3_0\n",
       "1 0                0                0                0              \n",
       "  retail_net_0_3 retail_net_0_10 retail_net_0_30\n",
       "1 0              0               0              "
      ]
     },
     "metadata": {},
     "output_type": "display_data"
    },
    {
     "name": "stdout",
     "output_type": "stream",
     "text": [
      "-f_sue_keydevid_car_finratio_vol_transcriptid_sim_inflow_revision_retail_sentiment_text- saved  (2.19 mins)\n"
     ]
    }
   ],
   "source": [
    "sprintf('N f_sue_keydevid_car_finratio_vol_transcriptid_sim_inflow_revision_retail_sentiment: %s\\n', nrow(f_sue_keydevid_car_finratio_vol_transcriptid_sim_inflow_revision_retail_sentiment)) %>% cat()\n",
    "\n",
    "f_sue_keydevid_car_finratio_vol_transcriptid_sim_inflow_revision_retail_sentiment_text = f_sue_keydevid_car_finratio_vol_transcriptid_sim_inflow_revision_retail_sentiment[\n",
    "      x_present[, .(transcriptid, text_present=text)], on=.(transcriptid), nomatch=NULL\n",
    "    ][x_qa[, .(transcriptid, text_qa=text)], on=.(transcriptid), nomatch=NULL\n",
    "    ][x_ans[, .(transcriptid, text_ans=text)], on=.(transcriptid), nomatch=NULL\n",
    "    ][x_ques[, .(transcriptid, text_ques=text)], on=.(transcriptid), nomatch=NULL\n",
    "    ][x_all[, .(transcriptid, text_all=text)], on=.(transcriptid), nomatch=NULL\n",
    "    ][order(gvkey, ciq_call_date)\n",
    "    ][, c('bm', 'roa') := lapply(.SD, partial(nafill, type='locf')), .SDcols=c('bm', 'roa'), keyby=gvkey\n",
    "    ][, {text_present=str_c(text_present, collapse=' ')\n",
    "         text_qa=str_c(text_qa, collapse=' ')\n",
    "         text_ques=str_c(text_ques, collapse=' ')\n",
    "         text_ans=str_c(text_ans, collapse=' ')\n",
    "         text_all=str_c(text_all, collapse=' ')\n",
    "         list(docid=docid[1], ciq_call_date=ciq_call_date[1], fyear=fyear[1], fqtr=fqtr[1],\n",
    "              release_keydevid=release_keydevid[1], call_keydevid=call_keydevid[1], transcriptid=transcriptid[1],\n",
    "              ret_0_10=ret_0_10[1], ret_0_20=ret_0_20[1], ret_0_30=ret_0_30[1],\n",
    "              car_0_10=car_0_10[1], car_0_10_lag1=car_0_10_lag1[1], car_0_10_lead1=car_0_10_lead1[1], \n",
    "              car_0_20=car_0_20[1], car_0_20_lag1=car_0_20_lag1[1], car_0_20_lead1=car_0_20_lead1[1], \n",
    "              car_0_30=car_0_30[1], car_0_30_lag1=car_0_30_lag1[1], car_0_30_lead1=car_0_30_lead1[1], \n",
    "              beta_mktrf=beta_mktrf[1],\n",
    "              ret_m1_m1=ret_m1_m1[1], ret_m2_m2=ret_m2_m2[1], ret_m30_m3=ret_m30_m3[1],\n",
    "              car_m1_m1=car_m1_m1[1], car_m2_m2=car_m2_m2[1], car_m30_m3=car_m30_m3[1],\n",
    "              sest=sest[1], sest_lag1=sest_lag1[1], sest_lead1=sest_lead1[1],\n",
    "              sue=sue[1], sue_lag1=sue_lag1[1], sue_lead1=sue_lead1[1],\n",
    "              se=se[1], se_lag1=se_lag1[1], se_lead1=se_lead1[1],\n",
    "              numest=numest[1], smedest=smedest[1], sstdest=sstdest[1], volume=volume[1], mcap=mcap[1], \n",
    "              bm=bm[1], roa=roa[1], debt_asset=debt_asset[1], alpha=alpha[1], volatility=volatility[1],\n",
    "              revision=revision_0_90[1], inflow=inflow_0_90[1],\n",
    "              similarity_unigram=similarity_unigram[1], similarity_bigram=similarity_bigram[1], similarity_allgram=similarity_allgram[1],\n",
    "              present_positive_chunk=present_positive_chunk[1], present_positive_sent=present_positive_sent[1],\n",
    "              present_neutral_chunk=present_neutral_chunk[1], present_neutral_sent=present_neutral_sent[1],\n",
    "              present_negative_chunk=present_negative_chunk[1], present_negative_sent=present_negative_sent[1], \n",
    "              qa_positive_chunk=qa_positive_chunk[1], qa_positive_sent=qa_positive_sent[1], qa_neutral_chunk=qa_neutral_chunk[1],\n",
    "              qa_neutral_sent=qa_neutral_sent[1], qa_negative_chunk=qa_negative_chunk[1], qa_negative_sent=qa_negative_sent[1],\n",
    "              retail_tot_m30_0 = retail_tot_m30_0[1],\n",
    "              retail_tot_m10_0 = retail_tot_m10_0[1],\n",
    "              retail_tot_m3_0 = retail_tot_m3_0[1],\n",
    "              retail_tot_0_3 = retail_tot_0_3[1],\n",
    "              retail_tot_0_10 = retail_tot_0_10[1],\n",
    "              retail_tot_0_30 = retail_tot_0_30[1],\n",
    "              retail_buy_m30_0 = retail_buy_m30_0[1],\n",
    "              retail_buy_m10_0 = retail_buy_m10_0[1],\n",
    "              retail_buy_m3_0 = retail_buy_m3_0[1],\n",
    "              retail_buy_0_3 = retail_buy_0_3[1],\n",
    "              retail_buy_0_10 = retail_buy_0_10[1],\n",
    "              retail_buy_0_30 = retail_buy_0_30[1],\n",
    "              retail_sell_m30_0 = retail_sell_m30_0[1],\n",
    "              retail_sell_m10_0 = retail_sell_m10_0[1],\n",
    "              retail_sell_m3_0 = retail_sell_m3_0[1],\n",
    "              retail_sell_0_3 = retail_sell_0_3[1],\n",
    "              retail_sell_0_10 = retail_sell_0_10[1],\n",
    "              retail_sell_0_30 = retail_sell_0_30[1],\n",
    "              retail_net_m30_0 = retail_net_m30_0[1],\n",
    "              retail_net_m10_0 = retail_net_m10_0[1],\n",
    "              retail_net_m3_0 = retail_net_m3_0[1],\n",
    "              retail_net_0_3 = retail_net_0_3[1],\n",
    "              retail_net_0_10 = retail_net_0_10[1],\n",
    "              retail_net_0_30 = retail_net_0_30[1],\n",
    "              text_present=text_present, text_qa=text_qa, text_ques=text_ques, text_ans=text_ans, text_all=text_all)\n",
    "        }, \n",
    "      keyby=.(gvkey, ciq_release_date)\n",
    "    ] %>% na.omit(cols=c('docid', 'gvkey', 'ciq_release_date', 'car_0_30', 'sest', 'sue', 'se', 'numest', 'bm', 'roa', 'alpha', 'volatility'))\n",
    "\n",
    "# fill NA in sentiment cols\n",
    "f_sue_keydevid_car_finratio_vol_transcriptid_sim_inflow_revision_retail_sentiment_text = f_sue_keydevid_car_finratio_vol_transcriptid_sim_inflow_revision_retail_sentiment_text[,\n",
    "      ':='(qa_positive_chunk=fillna(qa_positive_chunk, mean(qa_positive_chunk, na.rm=T)),\n",
    "           qa_neutral_chunk=fillna(qa_neutral_chunk, mean(qa_neutral_chunk, na.rm=T)),\n",
    "           qa_negative_chunk=fillna(qa_negative_chunk, mean(qa_negative_chunk, na.rm=T)),\n",
    "           present_positive_chunk=fillna(present_positive_chunk, mean(present_positive_chunk, na.rm=T)),\n",
    "           present_neutral_chunk=fillna(present_neutral_chunk, mean(present_neutral_chunk, na.rm=T)),\n",
    "           present_negative_chunk=fillna(present_neutral_chunk, mean(present_negative_chunk, na.rm=T)),\n",
    "           qa_positive_sent=fillna(qa_positive_sent, mean(qa_positive_sent, na.rm=T)),\n",
    "           qa_neutral_sent=fillna(qa_neutral_sent, mean(qa_neutral_sent, na.rm=T)),\n",
    "           qa_negative_sent=fillna(qa_negative_sent, mean(qa_negative_sent, na.rm=T)),\n",
    "           present_positive_sent=fillna(present_positive_sent, mean(present_positive_sent, na.rm=T)),\n",
    "           present_neutral_sent=fillna(present_neutral_sent, mean(present_neutral_sent, na.rm=T)),\n",
    "           present_negative_sent=fillna(present_neutral_sent, mean(present_negative_sent, na.rm=T)))]\n",
    "\n",
    "# Some id varaibles are incorrectly represented as double. \n",
    "# Convert them back to int\n",
    "\n",
    "id_cols = c('release_keydevid','call_keydevid','transcriptid')\n",
    "f_sue_keydevid_car_finratio_vol_transcriptid_sim_inflow_revision_retail_sentiment_text[,\n",
    "    (id_cols) := lapply(.SD, as.integer), .SDcols=id_cols]\n",
    "\n",
    "sprintf('N f_sue_keydevid_car_finratio_vol_transcriptid_sim_inflow_revision_retail_sentiment_text: %s\\n (%s variable)', nrow(f_sue_keydevid_car_finratio_vol_transcriptid_sim_inflow_revision_retail_sentiment_text), length(names(f_sue_keydevid_car_finratio_vol_transcriptid_sim_inflow_revision_retail_sentiment_text))) %>% cat()\n",
    "\n",
    "f_sue_keydevid_car_finratio_vol_transcriptid_sim_inflow_revision_retail_sentiment_text[1, -c('text_present', 'text_qa', 'text_ques', 'text_ans', 'text_all')]\n",
    "\n",
    "write_feather(f_sue_keydevid_car_finratio_vol_transcriptid_sim_inflow_revision_retail_sentiment_text, './data/f_sue_keydevid_car_finratio_vol_transcriptid_sim_inflow_revision_retail_sentiment_text.feather')"
   ]
  },
  {
   "cell_type": "code",
   "execution_count": 11,
   "metadata": {},
   "outputs": [
    {
     "data": {
      "text/html": [
       "4.24695901176368"
      ],
      "text/latex": [
       "4.24695901176368"
      ],
      "text/markdown": [
       "4.24695901176368"
      ],
      "text/plain": [
       "[1] 4.246959"
      ]
     },
     "metadata": {},
     "output_type": "display_data"
    },
    {
     "data": {
      "text/html": [
       "-2.87961857081271"
      ],
      "text/latex": [
       "-2.87961857081271"
      ],
      "text/markdown": [
       "-2.87961857081271"
      ],
      "text/plain": [
       "[1] -2.879619"
      ]
     },
     "metadata": {},
     "output_type": "display_data"
    }
   ],
   "source": [
    "f_sue_keydevid_car_finratio_vol_transcriptid_sim_inflow_revision_retail_sentiment_text[sue>quantile(sue,0.9), mean(car_0_30)]\n",
    "f_sue_keydevid_car_finratio_vol_transcriptid_sim_inflow_revision_retail_sentiment_text[sue<quantile(sue,0.1), mean(car_0_30)]"
   ]
  },
  {
   "cell_type": "markdown",
   "metadata": {},
   "source": [
    "## standardize"
   ]
  },
  {
   "cell_type": "code",
   "execution_count": 4,
   "metadata": {},
   "outputs": [],
   "source": [
    "f_sue_keydevid_car_finratio_vol_transcriptid_sim_inflow_revision_retail_sentiment_text = as.data.table(read_feather('./data/f_sue_keydevid_car_finratio_vol_transcriptid_sim_inflow_revision_retail_sentiment_text.feather'))"
   ]
  },
  {
   "cell_type": "code",
   "execution_count": 5,
   "metadata": {},
   "outputs": [
    {
     "data": {
      "text/html": [
       "<table>\n",
       "<caption>A data.table: 1 × 116</caption>\n",
       "<thead>\n",
       "\t<tr><th scope=col>gvkey</th><th scope=col>ciq_release_date</th><th scope=col>docid</th><th scope=col>ciq_call_date</th><th scope=col>fyear</th><th scope=col>fqtr</th><th scope=col>release_keydevid</th><th scope=col>call_keydevid</th><th scope=col>transcriptid</th><th scope=col>ret_0_10</th><th scope=col>ret_0_20</th><th scope=col>ret_0_30</th><th scope=col>car_0_10</th><th scope=col>car_0_10_lag1</th><th scope=col>car_0_10_lead1</th><th scope=col>car_0_20</th><th scope=col>car_0_20_lag1</th><th scope=col>car_0_20_lead1</th><th scope=col>car_0_30</th><th scope=col>car_0_30_lag1</th><th scope=col>car_0_30_lead1</th><th scope=col>beta_mktrf</th><th scope=col>ret_m1_m1</th><th scope=col>ret_m2_m2</th><th scope=col>ret_m30_m3</th><th scope=col>car_m1_m1</th><th scope=col>car_m2_m2</th><th scope=col>car_m30_m3</th><th scope=col>sest</th><th scope=col>sest_lag1</th><th scope=col>sest_lead1</th><th scope=col>sue</th><th scope=col>sue_lag1</th><th scope=col>sue_lead1</th><th scope=col>se</th><th scope=col>se_lag1</th><th scope=col>se_lead1</th><th scope=col>numest</th><th scope=col>smedest</th><th scope=col>sstdest</th><th scope=col>volume</th><th scope=col>mcap</th><th scope=col>bm</th><th scope=col>roa</th><th scope=col>debt_asset</th><th scope=col>alpha</th><th scope=col>volatility</th><th scope=col>revision</th><th scope=col>inflow</th><th scope=col>similarity_unigram</th><th scope=col>...</th><th scope=col>retail_tot_m3_0</th><th scope=col>retail_tot_0_3</th><th scope=col>retail_tot_0_10</th><th scope=col>retail_tot_0_30</th><th scope=col>retail_buy_m30_0</th><th scope=col>retail_buy_m10_0</th><th scope=col>retail_buy_m3_0</th><th scope=col>retail_buy_0_3</th><th scope=col>retail_buy_0_10</th><th scope=col>retail_buy_0_30</th><th scope=col>retail_sell_m30_0</th><th scope=col>retail_sell_m10_0</th><th scope=col>retail_sell_m3_0</th><th scope=col>retail_sell_0_3</th><th scope=col>retail_sell_0_10</th><th scope=col>retail_sell_0_30</th><th scope=col>retail_net_m30_0</th><th scope=col>retail_net_m10_0</th><th scope=col>retail_net_m3_0</th><th scope=col>retail_net_0_3</th><th scope=col>retail_net_0_10</th><th scope=col>retail_net_0_30</th><th scope=col>inflow_norm</th><th scope=col>revision_norm</th><th scope=col>ret_0_10_norm</th><th scope=col>ret_0_20_norm</th><th scope=col>ret_0_30_norm</th><th scope=col>car_0_10_norm</th><th scope=col>car_0_20_norm</th><th scope=col>car_0_30_norm</th><th scope=col>ret_m1_m1_norm</th><th scope=col>ret_m2_m2_norm</th><th scope=col>ret_m30_m3_norm</th><th scope=col>car_m1_m1_norm</th><th scope=col>car_m2_m2_norm</th><th scope=col>car_m30_m3_norm</th><th scope=col>alpha_norm</th><th scope=col>sest_norm</th><th scope=col>sue_norm</th><th scope=col>numest_norm</th><th scope=col>sstdest_norm</th><th scope=col>smedest_norm</th><th scope=col>mcap_norm</th><th scope=col>roa_norm</th><th scope=col>bm_norm</th><th scope=col>debt_asset_norm</th><th scope=col>volatility_norm</th><th scope=col>volume_norm</th><th scope=col>similarity_bigram_norm</th><th scope=col>qa_positive_sent_norm</th></tr>\n",
       "\t<tr><th scope=col>&lt;chr&gt;</th><th scope=col>&lt;date&gt;</th><th scope=col>&lt;chr&gt;</th><th scope=col>&lt;date&gt;</th><th scope=col>&lt;dbl&gt;</th><th scope=col>&lt;dbl&gt;</th><th scope=col>&lt;int&gt;</th><th scope=col>&lt;int&gt;</th><th scope=col>&lt;int&gt;</th><th scope=col>&lt;dbl&gt;</th><th scope=col>&lt;dbl&gt;</th><th scope=col>&lt;dbl&gt;</th><th scope=col>&lt;dbl&gt;</th><th scope=col>&lt;dbl&gt;</th><th scope=col>&lt;dbl&gt;</th><th scope=col>&lt;dbl&gt;</th><th scope=col>&lt;dbl&gt;</th><th scope=col>&lt;dbl&gt;</th><th scope=col>&lt;dbl&gt;</th><th scope=col>&lt;dbl&gt;</th><th scope=col>&lt;dbl&gt;</th><th scope=col>&lt;dbl&gt;</th><th scope=col>&lt;dbl&gt;</th><th scope=col>&lt;dbl&gt;</th><th scope=col>&lt;dbl&gt;</th><th scope=col>&lt;dbl&gt;</th><th scope=col>&lt;dbl&gt;</th><th scope=col>&lt;dbl&gt;</th><th scope=col>&lt;dbl&gt;</th><th scope=col>&lt;dbl&gt;</th><th scope=col>&lt;dbl&gt;</th><th scope=col>&lt;dbl&gt;</th><th scope=col>&lt;dbl&gt;</th><th scope=col>&lt;dbl&gt;</th><th scope=col>&lt;dbl&gt;</th><th scope=col>&lt;dbl&gt;</th><th scope=col>&lt;dbl&gt;</th><th scope=col>&lt;dbl&gt;</th><th scope=col>&lt;dbl&gt;</th><th scope=col>&lt;dbl&gt;</th><th scope=col>&lt;dbl&gt;</th><th scope=col>&lt;dbl&gt;</th><th scope=col>&lt;dbl&gt;</th><th scope=col>&lt;dbl&gt;</th><th scope=col>&lt;dbl&gt;</th><th scope=col>&lt;dbl&gt;</th><th scope=col>&lt;dbl&gt;</th><th scope=col>&lt;dbl&gt;</th><th scope=col>&lt;dbl&gt;</th><th scope=col>&lt;dbl&gt;</th><th scope=col>...</th><th scope=col>&lt;dbl&gt;</th><th scope=col>&lt;dbl&gt;</th><th scope=col>&lt;dbl&gt;</th><th scope=col>&lt;dbl&gt;</th><th scope=col>&lt;dbl&gt;</th><th scope=col>&lt;dbl&gt;</th><th scope=col>&lt;dbl&gt;</th><th scope=col>&lt;dbl&gt;</th><th scope=col>&lt;dbl&gt;</th><th scope=col>&lt;dbl&gt;</th><th scope=col>&lt;dbl&gt;</th><th scope=col>&lt;dbl&gt;</th><th scope=col>&lt;dbl&gt;</th><th scope=col>&lt;dbl&gt;</th><th scope=col>&lt;dbl&gt;</th><th scope=col>&lt;dbl&gt;</th><th scope=col>&lt;dbl&gt;</th><th scope=col>&lt;dbl&gt;</th><th scope=col>&lt;dbl&gt;</th><th scope=col>&lt;dbl&gt;</th><th scope=col>&lt;dbl&gt;</th><th scope=col>&lt;dbl&gt;</th><th scope=col>&lt;dbl&gt;</th><th scope=col>&lt;dbl&gt;</th><th scope=col>&lt;dbl&gt;</th><th scope=col>&lt;dbl&gt;</th><th scope=col>&lt;dbl&gt;</th><th scope=col>&lt;dbl&gt;</th><th scope=col>&lt;dbl&gt;</th><th scope=col>&lt;dbl&gt;</th><th scope=col>&lt;dbl&gt;</th><th scope=col>&lt;dbl&gt;</th><th scope=col>&lt;dbl&gt;</th><th scope=col>&lt;dbl&gt;</th><th scope=col>&lt;dbl&gt;</th><th scope=col>&lt;dbl&gt;</th><th scope=col>&lt;dbl&gt;</th><th scope=col>&lt;dbl&gt;</th><th scope=col>&lt;dbl&gt;</th><th scope=col>&lt;dbl&gt;</th><th scope=col>&lt;dbl&gt;</th><th scope=col>&lt;dbl&gt;</th><th scope=col>&lt;dbl&gt;</th><th scope=col>&lt;dbl&gt;</th><th scope=col>&lt;dbl&gt;</th><th scope=col>&lt;dbl&gt;</th><th scope=col>&lt;dbl&gt;</th><th scope=col>&lt;dbl&gt;</th><th scope=col>&lt;dbl&gt;</th><th scope=col>&lt;dbl&gt;</th></tr>\n",
       "</thead>\n",
       "<tbody>\n",
       "\t<tr><td>001013</td><td>2008-03-05</td><td>001013-2008-03-05</td><td>2008-03-05</td><td>2008</td><td>1</td><td>5241424</td><td>5152678</td><td>320</td><td>-12.37037</td><td>-6.222223</td><td>-6.96296</td><td>-9.076894</td><td>NA</td><td>11.50231</td><td>-6.616572</td><td>NA</td><td>4.588225</td><td>-6.567197</td><td>NA</td><td>0.3902708</td><td>0.9685945</td><td>0.2971765</td><td>-1.536211</td><td>0.2199395</td><td>0.7939703</td><td>-1.043903</td><td>-2.655725</td><td>0.01217039</td><td>NA</td><td>0.02175464</td><td>0.006761325</td><td>NA</td><td>0.006062767</td><td>0.01893171</td><td>NA</td><td>0.0278174</td><td>17</td><td>0.01217039</td><td>0.001547043</td><td>3.996961</td><td>7.46124</td><td>0.477</td><td>0.099</td><td>0.429</td><td>-0.08592177</td><td>3.171002</td><td>0.1509813</td><td>149.3935</td><td>0.7845072</td><td>...</td><td>0</td><td>0</td><td>0</td><td>0</td><td>0</td><td>0</td><td>0</td><td>0</td><td>0</td><td>0</td><td>0</td><td>0</td><td>0</td><td>0</td><td>0</td><td>0</td><td>0</td><td>0</td><td>0</td><td>0</td><td>0</td><td>0</td><td>-0.08994682</td><td>0.1242988</td><td>-1.350438</td><td>-0.6100161</td><td>-0.6486038</td><td>-1.058595</td><td>-0.6354602</td><td>-0.5393092</td><td>0.08772626</td><td>-0.6854824</td><td>-0.1002964</td><td>0.4258693</td><td>-0.5914129</td><td>-0.2489332</td><td>-0.6515848</td><td>0.001757033</td><td>0.1874834</td><td>0.6504555</td><td>-0.04206152</td><td>0.001757033</td><td>-1.461533</td><td>-0.4330228</td><td>-0.1118559</td><td>-0.9057401</td><td>0.8622228</td><td>-0.1818851</td><td>0.1868722</td><td>0.3212065</td></tr>\n",
       "</tbody>\n",
       "</table>\n"
      ],
      "text/latex": [
       "A data.table: 1 × 116\n",
       "\\begin{tabular}{lllllllllllllllllllllllllllllllllllllllllllllllllllllllllllllllllllllllllllllllllllllllllllllllllllll}\n",
       " gvkey & ciq\\_release\\_date & docid & ciq\\_call\\_date & fyear & fqtr & release\\_keydevid & call\\_keydevid & transcriptid & ret\\_0\\_10 & ret\\_0\\_20 & ret\\_0\\_30 & car\\_0\\_10 & car\\_0\\_10\\_lag1 & car\\_0\\_10\\_lead1 & car\\_0\\_20 & car\\_0\\_20\\_lag1 & car\\_0\\_20\\_lead1 & car\\_0\\_30 & car\\_0\\_30\\_lag1 & car\\_0\\_30\\_lead1 & beta\\_mktrf & ret\\_m1\\_m1 & ret\\_m2\\_m2 & ret\\_m30\\_m3 & car\\_m1\\_m1 & car\\_m2\\_m2 & car\\_m30\\_m3 & sest & sest\\_lag1 & sest\\_lead1 & sue & sue\\_lag1 & sue\\_lead1 & se & se\\_lag1 & se\\_lead1 & numest & smedest & sstdest & volume & mcap & bm & roa & debt\\_asset & alpha & volatility & revision & inflow & similarity\\_unigram & ... & retail\\_tot\\_m3\\_0 & retail\\_tot\\_0\\_3 & retail\\_tot\\_0\\_10 & retail\\_tot\\_0\\_30 & retail\\_buy\\_m30\\_0 & retail\\_buy\\_m10\\_0 & retail\\_buy\\_m3\\_0 & retail\\_buy\\_0\\_3 & retail\\_buy\\_0\\_10 & retail\\_buy\\_0\\_30 & retail\\_sell\\_m30\\_0 & retail\\_sell\\_m10\\_0 & retail\\_sell\\_m3\\_0 & retail\\_sell\\_0\\_3 & retail\\_sell\\_0\\_10 & retail\\_sell\\_0\\_30 & retail\\_net\\_m30\\_0 & retail\\_net\\_m10\\_0 & retail\\_net\\_m3\\_0 & retail\\_net\\_0\\_3 & retail\\_net\\_0\\_10 & retail\\_net\\_0\\_30 & inflow\\_norm & revision\\_norm & ret\\_0\\_10\\_norm & ret\\_0\\_20\\_norm & ret\\_0\\_30\\_norm & car\\_0\\_10\\_norm & car\\_0\\_20\\_norm & car\\_0\\_30\\_norm & ret\\_m1\\_m1\\_norm & ret\\_m2\\_m2\\_norm & ret\\_m30\\_m3\\_norm & car\\_m1\\_m1\\_norm & car\\_m2\\_m2\\_norm & car\\_m30\\_m3\\_norm & alpha\\_norm & sest\\_norm & sue\\_norm & numest\\_norm & sstdest\\_norm & smedest\\_norm & mcap\\_norm & roa\\_norm & bm\\_norm & debt\\_asset\\_norm & volatility\\_norm & volume\\_norm & similarity\\_bigram\\_norm & qa\\_positive\\_sent\\_norm\\\\\n",
       " <chr> & <date> & <chr> & <date> & <dbl> & <dbl> & <int> & <int> & <int> & <dbl> & <dbl> & <dbl> & <dbl> & <dbl> & <dbl> & <dbl> & <dbl> & <dbl> & <dbl> & <dbl> & <dbl> & <dbl> & <dbl> & <dbl> & <dbl> & <dbl> & <dbl> & <dbl> & <dbl> & <dbl> & <dbl> & <dbl> & <dbl> & <dbl> & <dbl> & <dbl> & <dbl> & <dbl> & <dbl> & <dbl> & <dbl> & <dbl> & <dbl> & <dbl> & <dbl> & <dbl> & <dbl> & <dbl> & <dbl> & <dbl> & ... & <dbl> & <dbl> & <dbl> & <dbl> & <dbl> & <dbl> & <dbl> & <dbl> & <dbl> & <dbl> & <dbl> & <dbl> & <dbl> & <dbl> & <dbl> & <dbl> & <dbl> & <dbl> & <dbl> & <dbl> & <dbl> & <dbl> & <dbl> & <dbl> & <dbl> & <dbl> & <dbl> & <dbl> & <dbl> & <dbl> & <dbl> & <dbl> & <dbl> & <dbl> & <dbl> & <dbl> & <dbl> & <dbl> & <dbl> & <dbl> & <dbl> & <dbl> & <dbl> & <dbl> & <dbl> & <dbl> & <dbl> & <dbl> & <dbl> & <dbl>\\\\\n",
       "\\hline\n",
       "\t 001013 & 2008-03-05 & 001013-2008-03-05 & 2008-03-05 & 2008 & 1 & 5241424 & 5152678 & 320 & -12.37037 & -6.222223 & -6.96296 & -9.076894 & NA & 11.50231 & -6.616572 & NA & 4.588225 & -6.567197 & NA & 0.3902708 & 0.9685945 & 0.2971765 & -1.536211 & 0.2199395 & 0.7939703 & -1.043903 & -2.655725 & 0.01217039 & NA & 0.02175464 & 0.006761325 & NA & 0.006062767 & 0.01893171 & NA & 0.0278174 & 17 & 0.01217039 & 0.001547043 & 3.996961 & 7.46124 & 0.477 & 0.099 & 0.429 & -0.08592177 & 3.171002 & 0.1509813 & 149.3935 & 0.7845072 & ... & 0 & 0 & 0 & 0 & 0 & 0 & 0 & 0 & 0 & 0 & 0 & 0 & 0 & 0 & 0 & 0 & 0 & 0 & 0 & 0 & 0 & 0 & -0.08994682 & 0.1242988 & -1.350438 & -0.6100161 & -0.6486038 & -1.058595 & -0.6354602 & -0.5393092 & 0.08772626 & -0.6854824 & -0.1002964 & 0.4258693 & -0.5914129 & -0.2489332 & -0.6515848 & 0.001757033 & 0.1874834 & 0.6504555 & -0.04206152 & 0.001757033 & -1.461533 & -0.4330228 & -0.1118559 & -0.9057401 & 0.8622228 & -0.1818851 & 0.1868722 & 0.3212065\\\\\n",
       "\\end{tabular}\n"
      ],
      "text/markdown": [
       "\n",
       "A data.table: 1 × 116\n",
       "\n",
       "| gvkey &lt;chr&gt; | ciq_release_date &lt;date&gt; | docid &lt;chr&gt; | ciq_call_date &lt;date&gt; | fyear &lt;dbl&gt; | fqtr &lt;dbl&gt; | release_keydevid &lt;int&gt; | call_keydevid &lt;int&gt; | transcriptid &lt;int&gt; | ret_0_10 &lt;dbl&gt; | ret_0_20 &lt;dbl&gt; | ret_0_30 &lt;dbl&gt; | car_0_10 &lt;dbl&gt; | car_0_10_lag1 &lt;dbl&gt; | car_0_10_lead1 &lt;dbl&gt; | car_0_20 &lt;dbl&gt; | car_0_20_lag1 &lt;dbl&gt; | car_0_20_lead1 &lt;dbl&gt; | car_0_30 &lt;dbl&gt; | car_0_30_lag1 &lt;dbl&gt; | car_0_30_lead1 &lt;dbl&gt; | beta_mktrf &lt;dbl&gt; | ret_m1_m1 &lt;dbl&gt; | ret_m2_m2 &lt;dbl&gt; | ret_m30_m3 &lt;dbl&gt; | car_m1_m1 &lt;dbl&gt; | car_m2_m2 &lt;dbl&gt; | car_m30_m3 &lt;dbl&gt; | sest &lt;dbl&gt; | sest_lag1 &lt;dbl&gt; | sest_lead1 &lt;dbl&gt; | sue &lt;dbl&gt; | sue_lag1 &lt;dbl&gt; | sue_lead1 &lt;dbl&gt; | se &lt;dbl&gt; | se_lag1 &lt;dbl&gt; | se_lead1 &lt;dbl&gt; | numest &lt;dbl&gt; | smedest &lt;dbl&gt; | sstdest &lt;dbl&gt; | volume &lt;dbl&gt; | mcap &lt;dbl&gt; | bm &lt;dbl&gt; | roa &lt;dbl&gt; | debt_asset &lt;dbl&gt; | alpha &lt;dbl&gt; | volatility &lt;dbl&gt; | revision &lt;dbl&gt; | inflow &lt;dbl&gt; | similarity_unigram &lt;dbl&gt; | ... ... | retail_tot_m3_0 &lt;dbl&gt; | retail_tot_0_3 &lt;dbl&gt; | retail_tot_0_10 &lt;dbl&gt; | retail_tot_0_30 &lt;dbl&gt; | retail_buy_m30_0 &lt;dbl&gt; | retail_buy_m10_0 &lt;dbl&gt; | retail_buy_m3_0 &lt;dbl&gt; | retail_buy_0_3 &lt;dbl&gt; | retail_buy_0_10 &lt;dbl&gt; | retail_buy_0_30 &lt;dbl&gt; | retail_sell_m30_0 &lt;dbl&gt; | retail_sell_m10_0 &lt;dbl&gt; | retail_sell_m3_0 &lt;dbl&gt; | retail_sell_0_3 &lt;dbl&gt; | retail_sell_0_10 &lt;dbl&gt; | retail_sell_0_30 &lt;dbl&gt; | retail_net_m30_0 &lt;dbl&gt; | retail_net_m10_0 &lt;dbl&gt; | retail_net_m3_0 &lt;dbl&gt; | retail_net_0_3 &lt;dbl&gt; | retail_net_0_10 &lt;dbl&gt; | retail_net_0_30 &lt;dbl&gt; | inflow_norm &lt;dbl&gt; | revision_norm &lt;dbl&gt; | ret_0_10_norm &lt;dbl&gt; | ret_0_20_norm &lt;dbl&gt; | ret_0_30_norm &lt;dbl&gt; | car_0_10_norm &lt;dbl&gt; | car_0_20_norm &lt;dbl&gt; | car_0_30_norm &lt;dbl&gt; | ret_m1_m1_norm &lt;dbl&gt; | ret_m2_m2_norm &lt;dbl&gt; | ret_m30_m3_norm &lt;dbl&gt; | car_m1_m1_norm &lt;dbl&gt; | car_m2_m2_norm &lt;dbl&gt; | car_m30_m3_norm &lt;dbl&gt; | alpha_norm &lt;dbl&gt; | sest_norm &lt;dbl&gt; | sue_norm &lt;dbl&gt; | numest_norm &lt;dbl&gt; | sstdest_norm &lt;dbl&gt; | smedest_norm &lt;dbl&gt; | mcap_norm &lt;dbl&gt; | roa_norm &lt;dbl&gt; | bm_norm &lt;dbl&gt; | debt_asset_norm &lt;dbl&gt; | volatility_norm &lt;dbl&gt; | volume_norm &lt;dbl&gt; | similarity_bigram_norm &lt;dbl&gt; | qa_positive_sent_norm &lt;dbl&gt; |\n",
       "|---|---|---|---|---|---|---|---|---|---|---|---|---|---|---|---|---|---|---|---|---|---|---|---|---|---|---|---|---|---|---|---|---|---|---|---|---|---|---|---|---|---|---|---|---|---|---|---|---|---|---|---|---|---|---|---|---|---|---|---|---|---|---|---|---|---|---|---|---|---|---|---|---|---|---|---|---|---|---|---|---|---|---|---|---|---|---|---|---|---|---|---|---|---|---|---|---|---|---|---|---|\n",
       "| 001013 | 2008-03-05 | 001013-2008-03-05 | 2008-03-05 | 2008 | 1 | 5241424 | 5152678 | 320 | -12.37037 | -6.222223 | -6.96296 | -9.076894 | NA | 11.50231 | -6.616572 | NA | 4.588225 | -6.567197 | NA | 0.3902708 | 0.9685945 | 0.2971765 | -1.536211 | 0.2199395 | 0.7939703 | -1.043903 | -2.655725 | 0.01217039 | NA | 0.02175464 | 0.006761325 | NA | 0.006062767 | 0.01893171 | NA | 0.0278174 | 17 | 0.01217039 | 0.001547043 | 3.996961 | 7.46124 | 0.477 | 0.099 | 0.429 | -0.08592177 | 3.171002 | 0.1509813 | 149.3935 | 0.7845072 | ... | 0 | 0 | 0 | 0 | 0 | 0 | 0 | 0 | 0 | 0 | 0 | 0 | 0 | 0 | 0 | 0 | 0 | 0 | 0 | 0 | 0 | 0 | -0.08994682 | 0.1242988 | -1.350438 | -0.6100161 | -0.6486038 | -1.058595 | -0.6354602 | -0.5393092 | 0.08772626 | -0.6854824 | -0.1002964 | 0.4258693 | -0.5914129 | -0.2489332 | -0.6515848 | 0.001757033 | 0.1874834 | 0.6504555 | -0.04206152 | 0.001757033 | -1.461533 | -0.4330228 | -0.1118559 | -0.9057401 | 0.8622228 | -0.1818851 | 0.1868722 | 0.3212065 |\n",
       "\n"
      ],
      "text/plain": [
       "  gvkey  ciq_release_date docid             ciq_call_date fyear fqtr\n",
       "1 001013 2008-03-05       001013-2008-03-05 2008-03-05    2008  1   \n",
       "  release_keydevid call_keydevid transcriptid ret_0_10  ret_0_20  ret_0_30\n",
       "1 5241424          5152678       320          -12.37037 -6.222223 -6.96296\n",
       "  car_0_10  car_0_10_lag1 car_0_10_lead1 car_0_20  car_0_20_lag1 car_0_20_lead1\n",
       "1 -9.076894 NA            11.50231       -6.616572 NA            4.588225      \n",
       "  car_0_30  car_0_30_lag1 car_0_30_lead1 beta_mktrf ret_m1_m1 ret_m2_m2\n",
       "1 -6.567197 NA            0.3902708      0.9685945  0.2971765 -1.536211\n",
       "  ret_m30_m3 car_m1_m1 car_m2_m2 car_m30_m3 sest       sest_lag1 sest_lead1\n",
       "1 0.2199395  0.7939703 -1.043903 -2.655725  0.01217039 NA        0.02175464\n",
       "  sue         sue_lag1 sue_lead1   se         se_lag1 se_lead1  numest\n",
       "1 0.006761325 NA       0.006062767 0.01893171 NA      0.0278174 17    \n",
       "  smedest    sstdest     volume   mcap    bm    roa   debt_asset alpha      \n",
       "1 0.01217039 0.001547043 3.996961 7.46124 0.477 0.099 0.429      -0.08592177\n",
       "  volatility revision  inflow   similarity_unigram ... retail_tot_m3_0\n",
       "1 3.171002   0.1509813 149.3935 0.7845072          ... 0              \n",
       "  retail_tot_0_3 retail_tot_0_10 retail_tot_0_30 retail_buy_m30_0\n",
       "1 0              0               0               0               \n",
       "  retail_buy_m10_0 retail_buy_m3_0 retail_buy_0_3 retail_buy_0_10\n",
       "1 0                0               0              0              \n",
       "  retail_buy_0_30 retail_sell_m30_0 retail_sell_m10_0 retail_sell_m3_0\n",
       "1 0               0                 0                 0               \n",
       "  retail_sell_0_3 retail_sell_0_10 retail_sell_0_30 retail_net_m30_0\n",
       "1 0               0                0                0               \n",
       "  retail_net_m10_0 retail_net_m3_0 retail_net_0_3 retail_net_0_10\n",
       "1 0                0               0              0              \n",
       "  retail_net_0_30 inflow_norm revision_norm ret_0_10_norm ret_0_20_norm\n",
       "1 0               -0.08994682 0.1242988     -1.350438     -0.6100161   \n",
       "  ret_0_30_norm car_0_10_norm car_0_20_norm car_0_30_norm ret_m1_m1_norm\n",
       "1 -0.6486038    -1.058595     -0.6354602    -0.5393092    0.08772626    \n",
       "  ret_m2_m2_norm ret_m30_m3_norm car_m1_m1_norm car_m2_m2_norm car_m30_m3_norm\n",
       "1 -0.6854824     -0.1002964      0.4258693      -0.5914129     -0.2489332     \n",
       "  alpha_norm sest_norm   sue_norm  numest_norm sstdest_norm smedest_norm\n",
       "1 -0.6515848 0.001757033 0.1874834 0.6504555   -0.04206152  0.001757033 \n",
       "  mcap_norm roa_norm   bm_norm    debt_asset_norm volatility_norm volume_norm\n",
       "1 -1.461533 -0.4330228 -0.1118559 -0.9057401      0.8622228       -0.1818851 \n",
       "  similarity_bigram_norm qa_positive_sent_norm\n",
       "1 0.1868722              0.3212065            "
      ]
     },
     "metadata": {},
     "output_type": "display_data"
    }
   ],
   "source": [
    "standardize <- function(x) {\n",
    "    stopifnot(length(x) == sum(!is.na(x)))\n",
    "    (x-mean(x))/sd(x)\n",
    "}\n",
    "\n",
    "cols_to_be_normalized = c('inflow', 'revision', \n",
    "                          'ret_0_10', 'ret_0_20', 'ret_0_30',\n",
    "                          'car_0_10', 'car_0_20', 'car_0_30',\n",
    "                          'ret_m1_m1', 'ret_m2_m2', 'ret_m30_m3', \n",
    "                          'car_m1_m1', 'car_m2_m2', 'car_m30_m3', \n",
    "                          'alpha', 'sest', 'sue', 'numest', 'sstdest', 'smedest', \n",
    "                          'mcap', 'roa', 'bm', 'debt_asset', 'volatility', 'volume', \n",
    "                          'similarity_bigram', 'qa_positive_sent')\n",
    "\n",
    "f_sue_keydevid_car_finratio_vol_transcriptid_sim_inflow_revision_retail_sentiment_text_norm = copy(f_sue_keydevid_car_finratio_vol_transcriptid_sim_inflow_revision_retail_sentiment_text)[, \n",
    "    (str_c(cols_to_be_normalized, '_norm')) := lapply(.SD, standardize), .SDcols=cols_to_be_normalized]\n",
    "\n",
    "f_sue_keydevid_car_finratio_vol_transcriptid_sim_inflow_revision_retail_sentiment_text_norm[1, -c('text_present', 'text_qa', 'text_ques', 'text_ans', 'text_all')]\n",
    "\n",
    "write_feather(f_sue_keydevid_car_finratio_vol_transcriptid_sim_inflow_revision_retail_sentiment_text_norm, './data/f_sue_keydevid_car_finratio_vol_transcriptid_sim_inflow_revision_retail_sentiment_text_norm.feather')"
   ]
  },
  {
   "cell_type": "code",
   "execution_count": null,
   "metadata": {},
   "outputs": [],
   "source": [
    "# hist: inflow vs. revision\n",
    "f_sue_keydevid_car_finratio_vol_transcriptid_sim_inflow_revision_sentiment_text_norm %>%\n",
    "    plot_ly(alpha=0.6) %>%\n",
    "    add_histogram(x=~inflow_norm, name='inflow') %>%\n",
    "    add_histogram(x=~car_0_30_norm, name='car') %>%\n",
    "    add_histogram(x=~revision, name='revision') %>%\n",
    "    plotly::layout(barmode='overlay', autosize=F)"
   ]
  },
  {
   "cell_type": "markdown",
   "metadata": {},
   "source": [
    "## process outlier"
   ]
  },
  {
   "cell_type": "markdown",
   "metadata": {},
   "source": [
    "`car_0_30_norm` in [-5,5]\n",
    "\n",
    "winsorize 0.3%"
   ]
  },
  {
   "cell_type": "code",
   "execution_count": null,
   "metadata": {},
   "outputs": [],
   "source": [
    "f_sue_keydevid_car_finratio_vol_transcriptid_sim_inflow_revision_retail_sentiment_text_norm = as.data.table(read_feather('data/f_sue_keydevid_car_finratio_vol_transcriptid_sim_inflow_revision_retail_sentiment_text_norm.feather'))\n",
    "\n",
    "wsrz <- function(x, low, high) {\n",
    "    x[x>=high] = high\n",
    "    x[x<=low] = low\n",
    "    x\n",
    "}\n",
    "\n",
    "# only cols in the following are winsorized.\n",
    "# we only winsorize target variables\n",
    "# the winsorization is carried out in place: I didn't create new variable\n",
    "cols_to_be_winsorized = c('car_0_10_norm', 'car_0_20_norm', 'car_0_30_norm',\n",
    "                          'ret_0_10_norm', 'ret_0_20_norm', 'ret_0_30_norm')\n",
    "\n",
    "f_sue_keydevid_car_finratio_vol_transcriptid_sim_inflow_revision_retail_sentiment_text_norm_wsrz = copy(f_sue_keydevid_car_finratio_vol_transcriptid_sim_inflow_revision_retail_sentiment_text_norm)[, \n",
    "     (cols_to_be_winsorized) := lapply(.SD, wsrz, -5, 5), .SDcols=cols_to_be_winsorized]\n",
    "\n",
    "f_sue_keydevid_car_finratio_vol_transcriptid_sim_inflow_revision_retail_sentiment_text_norm_wsrz[1, -c('text_present', 'text_qa', 'text_ques', 'text_ans', 'text_all')]\n",
    "\n",
    "write_feather(f_sue_keydevid_car_finratio_vol_transcriptid_sim_inflow_revision_retail_sentiment_text_norm_wsrz, './data/f_sue_keydevid_car_finratio_vol_transcriptid_sim_inflow_revision_retail_sentiment_text_norm_wsrz.feather')"
   ]
  },
  {
   "cell_type": "markdown",
   "metadata": {},
   "source": [
    "## add outlier flag"
   ]
  },
  {
   "cell_type": "code",
   "execution_count": 1,
   "metadata": {},
   "outputs": [
    {
     "name": "stdout",
     "output_type": "stream",
     "text": [
      "-gvkey_outlier- loaded  (0 secs)\n"
     ]
    }
   ],
   "source": [
    "ld(gvkey_outlier) # created in 7.2.4\n",
    "\n",
    "f_sue_keydevid_car_finratio_vol_transcriptid_sim_inflow_revision_retail_sentiment_text_norm_wsrz = read_feather('./data/f_sue_keydevid_car_finratio_vol_transcriptid_sim_inflow_revision_retail_sentiment_text_norm_wsrz.feather') %>% as.data.table()"
   ]
  },
  {
   "cell_type": "code",
   "execution_count": 2,
   "metadata": {},
   "outputs": [
    {
     "data": {
      "text/html": [
       "<table>\n",
       "<caption>A data.table: 1 × 117</caption>\n",
       "<thead>\n",
       "\t<tr><th scope=col>gvkey</th><th scope=col>ciq_release_date</th><th scope=col>docid</th><th scope=col>ciq_call_date</th><th scope=col>fyear</th><th scope=col>fqtr</th><th scope=col>release_keydevid</th><th scope=col>call_keydevid</th><th scope=col>transcriptid</th><th scope=col>ret_0_10</th><th scope=col>ret_0_20</th><th scope=col>ret_0_30</th><th scope=col>car_0_10</th><th scope=col>car_0_10_lag1</th><th scope=col>car_0_10_lead1</th><th scope=col>car_0_20</th><th scope=col>car_0_20_lag1</th><th scope=col>car_0_20_lead1</th><th scope=col>car_0_30</th><th scope=col>car_0_30_lag1</th><th scope=col>car_0_30_lead1</th><th scope=col>beta_mktrf</th><th scope=col>ret_m1_m1</th><th scope=col>ret_m2_m2</th><th scope=col>ret_m30_m3</th><th scope=col>car_m1_m1</th><th scope=col>car_m2_m2</th><th scope=col>car_m30_m3</th><th scope=col>sest</th><th scope=col>sest_lag1</th><th scope=col>sest_lead1</th><th scope=col>sue</th><th scope=col>sue_lag1</th><th scope=col>sue_lead1</th><th scope=col>se</th><th scope=col>se_lag1</th><th scope=col>se_lead1</th><th scope=col>numest</th><th scope=col>smedest</th><th scope=col>sstdest</th><th scope=col>volume</th><th scope=col>mcap</th><th scope=col>bm</th><th scope=col>roa</th><th scope=col>debt_asset</th><th scope=col>alpha</th><th scope=col>volatility</th><th scope=col>revision</th><th scope=col>inflow</th><th scope=col>similarity_unigram</th><th scope=col>...</th><th scope=col>retail_tot_0_3</th><th scope=col>retail_tot_0_10</th><th scope=col>retail_tot_0_30</th><th scope=col>retail_buy_m30_0</th><th scope=col>retail_buy_m10_0</th><th scope=col>retail_buy_m3_0</th><th scope=col>retail_buy_0_3</th><th scope=col>retail_buy_0_10</th><th scope=col>retail_buy_0_30</th><th scope=col>retail_sell_m30_0</th><th scope=col>retail_sell_m10_0</th><th scope=col>retail_sell_m3_0</th><th scope=col>retail_sell_0_3</th><th scope=col>retail_sell_0_10</th><th scope=col>retail_sell_0_30</th><th scope=col>retail_net_m30_0</th><th scope=col>retail_net_m10_0</th><th scope=col>retail_net_m3_0</th><th scope=col>retail_net_0_3</th><th scope=col>retail_net_0_10</th><th scope=col>retail_net_0_30</th><th scope=col>inflow_norm</th><th scope=col>revision_norm</th><th scope=col>ret_0_10_norm</th><th scope=col>ret_0_20_norm</th><th scope=col>ret_0_30_norm</th><th scope=col>car_0_10_norm</th><th scope=col>car_0_20_norm</th><th scope=col>car_0_30_norm</th><th scope=col>ret_m1_m1_norm</th><th scope=col>ret_m2_m2_norm</th><th scope=col>ret_m30_m3_norm</th><th scope=col>car_m1_m1_norm</th><th scope=col>car_m2_m2_norm</th><th scope=col>car_m30_m3_norm</th><th scope=col>alpha_norm</th><th scope=col>sest_norm</th><th scope=col>sue_norm</th><th scope=col>numest_norm</th><th scope=col>sstdest_norm</th><th scope=col>smedest_norm</th><th scope=col>mcap_norm</th><th scope=col>roa_norm</th><th scope=col>bm_norm</th><th scope=col>debt_asset_norm</th><th scope=col>volatility_norm</th><th scope=col>volume_norm</th><th scope=col>similarity_bigram_norm</th><th scope=col>qa_positive_sent_norm</th><th scope=col>outlier_flag1</th></tr>\n",
       "\t<tr><th scope=col>&lt;chr&gt;</th><th scope=col>&lt;date&gt;</th><th scope=col>&lt;chr&gt;</th><th scope=col>&lt;date&gt;</th><th scope=col>&lt;dbl&gt;</th><th scope=col>&lt;dbl&gt;</th><th scope=col>&lt;int&gt;</th><th scope=col>&lt;int&gt;</th><th scope=col>&lt;int&gt;</th><th scope=col>&lt;dbl&gt;</th><th scope=col>&lt;dbl&gt;</th><th scope=col>&lt;dbl&gt;</th><th scope=col>&lt;dbl&gt;</th><th scope=col>&lt;dbl&gt;</th><th scope=col>&lt;dbl&gt;</th><th scope=col>&lt;dbl&gt;</th><th scope=col>&lt;dbl&gt;</th><th scope=col>&lt;dbl&gt;</th><th scope=col>&lt;dbl&gt;</th><th scope=col>&lt;dbl&gt;</th><th scope=col>&lt;dbl&gt;</th><th scope=col>&lt;dbl&gt;</th><th scope=col>&lt;dbl&gt;</th><th scope=col>&lt;dbl&gt;</th><th scope=col>&lt;dbl&gt;</th><th scope=col>&lt;dbl&gt;</th><th scope=col>&lt;dbl&gt;</th><th scope=col>&lt;dbl&gt;</th><th scope=col>&lt;dbl&gt;</th><th scope=col>&lt;dbl&gt;</th><th scope=col>&lt;dbl&gt;</th><th scope=col>&lt;dbl&gt;</th><th scope=col>&lt;dbl&gt;</th><th scope=col>&lt;dbl&gt;</th><th scope=col>&lt;dbl&gt;</th><th scope=col>&lt;dbl&gt;</th><th scope=col>&lt;dbl&gt;</th><th scope=col>&lt;dbl&gt;</th><th scope=col>&lt;dbl&gt;</th><th scope=col>&lt;dbl&gt;</th><th scope=col>&lt;dbl&gt;</th><th scope=col>&lt;dbl&gt;</th><th scope=col>&lt;dbl&gt;</th><th scope=col>&lt;dbl&gt;</th><th scope=col>&lt;dbl&gt;</th><th scope=col>&lt;dbl&gt;</th><th scope=col>&lt;dbl&gt;</th><th scope=col>&lt;dbl&gt;</th><th scope=col>&lt;dbl&gt;</th><th scope=col>&lt;dbl&gt;</th><th scope=col>...</th><th scope=col>&lt;dbl&gt;</th><th scope=col>&lt;dbl&gt;</th><th scope=col>&lt;dbl&gt;</th><th scope=col>&lt;dbl&gt;</th><th scope=col>&lt;dbl&gt;</th><th scope=col>&lt;dbl&gt;</th><th scope=col>&lt;dbl&gt;</th><th scope=col>&lt;dbl&gt;</th><th scope=col>&lt;dbl&gt;</th><th scope=col>&lt;dbl&gt;</th><th scope=col>&lt;dbl&gt;</th><th scope=col>&lt;dbl&gt;</th><th scope=col>&lt;dbl&gt;</th><th scope=col>&lt;dbl&gt;</th><th scope=col>&lt;dbl&gt;</th><th scope=col>&lt;dbl&gt;</th><th scope=col>&lt;dbl&gt;</th><th scope=col>&lt;dbl&gt;</th><th scope=col>&lt;dbl&gt;</th><th scope=col>&lt;dbl&gt;</th><th scope=col>&lt;dbl&gt;</th><th scope=col>&lt;dbl&gt;</th><th scope=col>&lt;dbl&gt;</th><th scope=col>&lt;dbl&gt;</th><th scope=col>&lt;dbl&gt;</th><th scope=col>&lt;dbl&gt;</th><th scope=col>&lt;dbl&gt;</th><th scope=col>&lt;dbl&gt;</th><th scope=col>&lt;dbl&gt;</th><th scope=col>&lt;dbl&gt;</th><th scope=col>&lt;dbl&gt;</th><th scope=col>&lt;dbl&gt;</th><th scope=col>&lt;dbl&gt;</th><th scope=col>&lt;dbl&gt;</th><th scope=col>&lt;dbl&gt;</th><th scope=col>&lt;dbl&gt;</th><th scope=col>&lt;dbl&gt;</th><th scope=col>&lt;dbl&gt;</th><th scope=col>&lt;dbl&gt;</th><th scope=col>&lt;dbl&gt;</th><th scope=col>&lt;dbl&gt;</th><th scope=col>&lt;dbl&gt;</th><th scope=col>&lt;dbl&gt;</th><th scope=col>&lt;dbl&gt;</th><th scope=col>&lt;dbl&gt;</th><th scope=col>&lt;dbl&gt;</th><th scope=col>&lt;dbl&gt;</th><th scope=col>&lt;dbl&gt;</th><th scope=col>&lt;dbl&gt;</th><th scope=col>&lt;lgl&gt;</th></tr>\n",
       "</thead>\n",
       "<tbody>\n",
       "\t<tr><td>001013</td><td>2008-03-05</td><td>001013-2008-03-05</td><td>2008-03-05</td><td>2008</td><td>1</td><td>5241424</td><td>5152678</td><td>320</td><td>-12.37037</td><td>-6.222223</td><td>-6.96296</td><td>-9.076894</td><td>NA</td><td>11.50231</td><td>-6.616572</td><td>NA</td><td>4.588225</td><td>-6.567197</td><td>NA</td><td>0.3902708</td><td>0.9685945</td><td>0.2971765</td><td>-1.536211</td><td>0.2199395</td><td>0.7939703</td><td>-1.043903</td><td>-2.655725</td><td>0.01217039</td><td>NA</td><td>0.02175464</td><td>0.006761325</td><td>NA</td><td>0.006062767</td><td>0.01893171</td><td>NA</td><td>0.0278174</td><td>17</td><td>0.01217039</td><td>0.001547043</td><td>3.996961</td><td>7.46124</td><td>0.477</td><td>0.099</td><td>0.429</td><td>-0.08592177</td><td>3.171002</td><td>0.1509813</td><td>149.3935</td><td>0.7845072</td><td>...</td><td>0</td><td>0</td><td>0</td><td>0</td><td>0</td><td>0</td><td>0</td><td>0</td><td>0</td><td>0</td><td>0</td><td>0</td><td>0</td><td>0</td><td>0</td><td>0</td><td>0</td><td>0</td><td>0</td><td>0</td><td>0</td><td>-0.08994682</td><td>0.1242988</td><td>-1.350438</td><td>-0.6100161</td><td>-0.6486038</td><td>-1.058595</td><td>-0.6354602</td><td>-0.5393092</td><td>0.08772626</td><td>-0.6854824</td><td>-0.1002964</td><td>0.4258693</td><td>-0.5914129</td><td>-0.2489332</td><td>-0.6515848</td><td>0.001757033</td><td>0.1874834</td><td>0.6504555</td><td>-0.04206152</td><td>0.001757033</td><td>-1.461533</td><td>-0.4330228</td><td>-0.1118559</td><td>-0.9057401</td><td>0.8622228</td><td>-0.1818851</td><td>0.1868722</td><td>0.3212065</td><td>FALSE</td></tr>\n",
       "</tbody>\n",
       "</table>\n"
      ],
      "text/latex": [
       "A data.table: 1 × 117\n",
       "\\begin{tabular}{lllllllllllllllllllllllllllllllllllllllllllllllllllllllllllllllllllllllllllllllllllllllllllllllllllll}\n",
       " gvkey & ciq\\_release\\_date & docid & ciq\\_call\\_date & fyear & fqtr & release\\_keydevid & call\\_keydevid & transcriptid & ret\\_0\\_10 & ret\\_0\\_20 & ret\\_0\\_30 & car\\_0\\_10 & car\\_0\\_10\\_lag1 & car\\_0\\_10\\_lead1 & car\\_0\\_20 & car\\_0\\_20\\_lag1 & car\\_0\\_20\\_lead1 & car\\_0\\_30 & car\\_0\\_30\\_lag1 & car\\_0\\_30\\_lead1 & beta\\_mktrf & ret\\_m1\\_m1 & ret\\_m2\\_m2 & ret\\_m30\\_m3 & car\\_m1\\_m1 & car\\_m2\\_m2 & car\\_m30\\_m3 & sest & sest\\_lag1 & sest\\_lead1 & sue & sue\\_lag1 & sue\\_lead1 & se & se\\_lag1 & se\\_lead1 & numest & smedest & sstdest & volume & mcap & bm & roa & debt\\_asset & alpha & volatility & revision & inflow & similarity\\_unigram & ... & retail\\_tot\\_0\\_3 & retail\\_tot\\_0\\_10 & retail\\_tot\\_0\\_30 & retail\\_buy\\_m30\\_0 & retail\\_buy\\_m10\\_0 & retail\\_buy\\_m3\\_0 & retail\\_buy\\_0\\_3 & retail\\_buy\\_0\\_10 & retail\\_buy\\_0\\_30 & retail\\_sell\\_m30\\_0 & retail\\_sell\\_m10\\_0 & retail\\_sell\\_m3\\_0 & retail\\_sell\\_0\\_3 & retail\\_sell\\_0\\_10 & retail\\_sell\\_0\\_30 & retail\\_net\\_m30\\_0 & retail\\_net\\_m10\\_0 & retail\\_net\\_m3\\_0 & retail\\_net\\_0\\_3 & retail\\_net\\_0\\_10 & retail\\_net\\_0\\_30 & inflow\\_norm & revision\\_norm & ret\\_0\\_10\\_norm & ret\\_0\\_20\\_norm & ret\\_0\\_30\\_norm & car\\_0\\_10\\_norm & car\\_0\\_20\\_norm & car\\_0\\_30\\_norm & ret\\_m1\\_m1\\_norm & ret\\_m2\\_m2\\_norm & ret\\_m30\\_m3\\_norm & car\\_m1\\_m1\\_norm & car\\_m2\\_m2\\_norm & car\\_m30\\_m3\\_norm & alpha\\_norm & sest\\_norm & sue\\_norm & numest\\_norm & sstdest\\_norm & smedest\\_norm & mcap\\_norm & roa\\_norm & bm\\_norm & debt\\_asset\\_norm & volatility\\_norm & volume\\_norm & similarity\\_bigram\\_norm & qa\\_positive\\_sent\\_norm & outlier\\_flag1\\\\\n",
       " <chr> & <date> & <chr> & <date> & <dbl> & <dbl> & <int> & <int> & <int> & <dbl> & <dbl> & <dbl> & <dbl> & <dbl> & <dbl> & <dbl> & <dbl> & <dbl> & <dbl> & <dbl> & <dbl> & <dbl> & <dbl> & <dbl> & <dbl> & <dbl> & <dbl> & <dbl> & <dbl> & <dbl> & <dbl> & <dbl> & <dbl> & <dbl> & <dbl> & <dbl> & <dbl> & <dbl> & <dbl> & <dbl> & <dbl> & <dbl> & <dbl> & <dbl> & <dbl> & <dbl> & <dbl> & <dbl> & <dbl> & <dbl> & ... & <dbl> & <dbl> & <dbl> & <dbl> & <dbl> & <dbl> & <dbl> & <dbl> & <dbl> & <dbl> & <dbl> & <dbl> & <dbl> & <dbl> & <dbl> & <dbl> & <dbl> & <dbl> & <dbl> & <dbl> & <dbl> & <dbl> & <dbl> & <dbl> & <dbl> & <dbl> & <dbl> & <dbl> & <dbl> & <dbl> & <dbl> & <dbl> & <dbl> & <dbl> & <dbl> & <dbl> & <dbl> & <dbl> & <dbl> & <dbl> & <dbl> & <dbl> & <dbl> & <dbl> & <dbl> & <dbl> & <dbl> & <dbl> & <dbl> & <lgl>\\\\\n",
       "\\hline\n",
       "\t 001013 & 2008-03-05 & 001013-2008-03-05 & 2008-03-05 & 2008 & 1 & 5241424 & 5152678 & 320 & -12.37037 & -6.222223 & -6.96296 & -9.076894 & NA & 11.50231 & -6.616572 & NA & 4.588225 & -6.567197 & NA & 0.3902708 & 0.9685945 & 0.2971765 & -1.536211 & 0.2199395 & 0.7939703 & -1.043903 & -2.655725 & 0.01217039 & NA & 0.02175464 & 0.006761325 & NA & 0.006062767 & 0.01893171 & NA & 0.0278174 & 17 & 0.01217039 & 0.001547043 & 3.996961 & 7.46124 & 0.477 & 0.099 & 0.429 & -0.08592177 & 3.171002 & 0.1509813 & 149.3935 & 0.7845072 & ... & 0 & 0 & 0 & 0 & 0 & 0 & 0 & 0 & 0 & 0 & 0 & 0 & 0 & 0 & 0 & 0 & 0 & 0 & 0 & 0 & 0 & -0.08994682 & 0.1242988 & -1.350438 & -0.6100161 & -0.6486038 & -1.058595 & -0.6354602 & -0.5393092 & 0.08772626 & -0.6854824 & -0.1002964 & 0.4258693 & -0.5914129 & -0.2489332 & -0.6515848 & 0.001757033 & 0.1874834 & 0.6504555 & -0.04206152 & 0.001757033 & -1.461533 & -0.4330228 & -0.1118559 & -0.9057401 & 0.8622228 & -0.1818851 & 0.1868722 & 0.3212065 & FALSE\\\\\n",
       "\\end{tabular}\n"
      ],
      "text/markdown": [
       "\n",
       "A data.table: 1 × 117\n",
       "\n",
       "| gvkey &lt;chr&gt; | ciq_release_date &lt;date&gt; | docid &lt;chr&gt; | ciq_call_date &lt;date&gt; | fyear &lt;dbl&gt; | fqtr &lt;dbl&gt; | release_keydevid &lt;int&gt; | call_keydevid &lt;int&gt; | transcriptid &lt;int&gt; | ret_0_10 &lt;dbl&gt; | ret_0_20 &lt;dbl&gt; | ret_0_30 &lt;dbl&gt; | car_0_10 &lt;dbl&gt; | car_0_10_lag1 &lt;dbl&gt; | car_0_10_lead1 &lt;dbl&gt; | car_0_20 &lt;dbl&gt; | car_0_20_lag1 &lt;dbl&gt; | car_0_20_lead1 &lt;dbl&gt; | car_0_30 &lt;dbl&gt; | car_0_30_lag1 &lt;dbl&gt; | car_0_30_lead1 &lt;dbl&gt; | beta_mktrf &lt;dbl&gt; | ret_m1_m1 &lt;dbl&gt; | ret_m2_m2 &lt;dbl&gt; | ret_m30_m3 &lt;dbl&gt; | car_m1_m1 &lt;dbl&gt; | car_m2_m2 &lt;dbl&gt; | car_m30_m3 &lt;dbl&gt; | sest &lt;dbl&gt; | sest_lag1 &lt;dbl&gt; | sest_lead1 &lt;dbl&gt; | sue &lt;dbl&gt; | sue_lag1 &lt;dbl&gt; | sue_lead1 &lt;dbl&gt; | se &lt;dbl&gt; | se_lag1 &lt;dbl&gt; | se_lead1 &lt;dbl&gt; | numest &lt;dbl&gt; | smedest &lt;dbl&gt; | sstdest &lt;dbl&gt; | volume &lt;dbl&gt; | mcap &lt;dbl&gt; | bm &lt;dbl&gt; | roa &lt;dbl&gt; | debt_asset &lt;dbl&gt; | alpha &lt;dbl&gt; | volatility &lt;dbl&gt; | revision &lt;dbl&gt; | inflow &lt;dbl&gt; | similarity_unigram &lt;dbl&gt; | ... ... | retail_tot_0_3 &lt;dbl&gt; | retail_tot_0_10 &lt;dbl&gt; | retail_tot_0_30 &lt;dbl&gt; | retail_buy_m30_0 &lt;dbl&gt; | retail_buy_m10_0 &lt;dbl&gt; | retail_buy_m3_0 &lt;dbl&gt; | retail_buy_0_3 &lt;dbl&gt; | retail_buy_0_10 &lt;dbl&gt; | retail_buy_0_30 &lt;dbl&gt; | retail_sell_m30_0 &lt;dbl&gt; | retail_sell_m10_0 &lt;dbl&gt; | retail_sell_m3_0 &lt;dbl&gt; | retail_sell_0_3 &lt;dbl&gt; | retail_sell_0_10 &lt;dbl&gt; | retail_sell_0_30 &lt;dbl&gt; | retail_net_m30_0 &lt;dbl&gt; | retail_net_m10_0 &lt;dbl&gt; | retail_net_m3_0 &lt;dbl&gt; | retail_net_0_3 &lt;dbl&gt; | retail_net_0_10 &lt;dbl&gt; | retail_net_0_30 &lt;dbl&gt; | inflow_norm &lt;dbl&gt; | revision_norm &lt;dbl&gt; | ret_0_10_norm &lt;dbl&gt; | ret_0_20_norm &lt;dbl&gt; | ret_0_30_norm &lt;dbl&gt; | car_0_10_norm &lt;dbl&gt; | car_0_20_norm &lt;dbl&gt; | car_0_30_norm &lt;dbl&gt; | ret_m1_m1_norm &lt;dbl&gt; | ret_m2_m2_norm &lt;dbl&gt; | ret_m30_m3_norm &lt;dbl&gt; | car_m1_m1_norm &lt;dbl&gt; | car_m2_m2_norm &lt;dbl&gt; | car_m30_m3_norm &lt;dbl&gt; | alpha_norm &lt;dbl&gt; | sest_norm &lt;dbl&gt; | sue_norm &lt;dbl&gt; | numest_norm &lt;dbl&gt; | sstdest_norm &lt;dbl&gt; | smedest_norm &lt;dbl&gt; | mcap_norm &lt;dbl&gt; | roa_norm &lt;dbl&gt; | bm_norm &lt;dbl&gt; | debt_asset_norm &lt;dbl&gt; | volatility_norm &lt;dbl&gt; | volume_norm &lt;dbl&gt; | similarity_bigram_norm &lt;dbl&gt; | qa_positive_sent_norm &lt;dbl&gt; | outlier_flag1 &lt;lgl&gt; |\n",
       "|---|---|---|---|---|---|---|---|---|---|---|---|---|---|---|---|---|---|---|---|---|---|---|---|---|---|---|---|---|---|---|---|---|---|---|---|---|---|---|---|---|---|---|---|---|---|---|---|---|---|---|---|---|---|---|---|---|---|---|---|---|---|---|---|---|---|---|---|---|---|---|---|---|---|---|---|---|---|---|---|---|---|---|---|---|---|---|---|---|---|---|---|---|---|---|---|---|---|---|---|---|\n",
       "| 001013 | 2008-03-05 | 001013-2008-03-05 | 2008-03-05 | 2008 | 1 | 5241424 | 5152678 | 320 | -12.37037 | -6.222223 | -6.96296 | -9.076894 | NA | 11.50231 | -6.616572 | NA | 4.588225 | -6.567197 | NA | 0.3902708 | 0.9685945 | 0.2971765 | -1.536211 | 0.2199395 | 0.7939703 | -1.043903 | -2.655725 | 0.01217039 | NA | 0.02175464 | 0.006761325 | NA | 0.006062767 | 0.01893171 | NA | 0.0278174 | 17 | 0.01217039 | 0.001547043 | 3.996961 | 7.46124 | 0.477 | 0.099 | 0.429 | -0.08592177 | 3.171002 | 0.1509813 | 149.3935 | 0.7845072 | ... | 0 | 0 | 0 | 0 | 0 | 0 | 0 | 0 | 0 | 0 | 0 | 0 | 0 | 0 | 0 | 0 | 0 | 0 | 0 | 0 | 0 | -0.08994682 | 0.1242988 | -1.350438 | -0.6100161 | -0.6486038 | -1.058595 | -0.6354602 | -0.5393092 | 0.08772626 | -0.6854824 | -0.1002964 | 0.4258693 | -0.5914129 | -0.2489332 | -0.6515848 | 0.001757033 | 0.1874834 | 0.6504555 | -0.04206152 | 0.001757033 | -1.461533 | -0.4330228 | -0.1118559 | -0.9057401 | 0.8622228 | -0.1818851 | 0.1868722 | 0.3212065 | FALSE |\n",
       "\n"
      ],
      "text/plain": [
       "  gvkey  ciq_release_date docid             ciq_call_date fyear fqtr\n",
       "1 001013 2008-03-05       001013-2008-03-05 2008-03-05    2008  1   \n",
       "  release_keydevid call_keydevid transcriptid ret_0_10  ret_0_20  ret_0_30\n",
       "1 5241424          5152678       320          -12.37037 -6.222223 -6.96296\n",
       "  car_0_10  car_0_10_lag1 car_0_10_lead1 car_0_20  car_0_20_lag1 car_0_20_lead1\n",
       "1 -9.076894 NA            11.50231       -6.616572 NA            4.588225      \n",
       "  car_0_30  car_0_30_lag1 car_0_30_lead1 beta_mktrf ret_m1_m1 ret_m2_m2\n",
       "1 -6.567197 NA            0.3902708      0.9685945  0.2971765 -1.536211\n",
       "  ret_m30_m3 car_m1_m1 car_m2_m2 car_m30_m3 sest       sest_lag1 sest_lead1\n",
       "1 0.2199395  0.7939703 -1.043903 -2.655725  0.01217039 NA        0.02175464\n",
       "  sue         sue_lag1 sue_lead1   se         se_lag1 se_lead1  numest\n",
       "1 0.006761325 NA       0.006062767 0.01893171 NA      0.0278174 17    \n",
       "  smedest    sstdest     volume   mcap    bm    roa   debt_asset alpha      \n",
       "1 0.01217039 0.001547043 3.996961 7.46124 0.477 0.099 0.429      -0.08592177\n",
       "  volatility revision  inflow   similarity_unigram ... retail_tot_0_3\n",
       "1 3.171002   0.1509813 149.3935 0.7845072          ... 0             \n",
       "  retail_tot_0_10 retail_tot_0_30 retail_buy_m30_0 retail_buy_m10_0\n",
       "1 0               0               0                0               \n",
       "  retail_buy_m3_0 retail_buy_0_3 retail_buy_0_10 retail_buy_0_30\n",
       "1 0               0              0               0              \n",
       "  retail_sell_m30_0 retail_sell_m10_0 retail_sell_m3_0 retail_sell_0_3\n",
       "1 0                 0                 0                0              \n",
       "  retail_sell_0_10 retail_sell_0_30 retail_net_m30_0 retail_net_m10_0\n",
       "1 0                0                0                0               \n",
       "  retail_net_m3_0 retail_net_0_3 retail_net_0_10 retail_net_0_30 inflow_norm\n",
       "1 0               0              0               0               -0.08994682\n",
       "  revision_norm ret_0_10_norm ret_0_20_norm ret_0_30_norm car_0_10_norm\n",
       "1 0.1242988     -1.350438     -0.6100161    -0.6486038    -1.058595    \n",
       "  car_0_20_norm car_0_30_norm ret_m1_m1_norm ret_m2_m2_norm ret_m30_m3_norm\n",
       "1 -0.6354602    -0.5393092    0.08772626     -0.6854824     -0.1002964     \n",
       "  car_m1_m1_norm car_m2_m2_norm car_m30_m3_norm alpha_norm sest_norm  \n",
       "1 0.4258693      -0.5914129     -0.2489332      -0.6515848 0.001757033\n",
       "  sue_norm  numest_norm sstdest_norm smedest_norm mcap_norm roa_norm  \n",
       "1 0.1874834 0.6504555   -0.04206152  0.001757033  -1.461533 -0.4330228\n",
       "  bm_norm    debt_asset_norm volatility_norm volume_norm similarity_bigram_norm\n",
       "1 -0.1118559 -0.9057401      0.8622228       -0.1818851  0.1868722             \n",
       "  qa_positive_sent_norm outlier_flag1\n",
       "1 0.3212065             FALSE        "
      ]
     },
     "metadata": {},
     "output_type": "display_data"
    }
   ],
   "source": [
    "f_sue_keydevid_car_finratio_vol_transcriptid_sim_inflow_revision_retail_sentiment_text_norm_wsrz_outlierflg = copy(f_sue_keydevid_car_finratio_vol_transcriptid_sim_inflow_revision_retail_sentiment_text_norm_wsrz)[,\n",
    "      ':='(outlier_flag1 = ifelse(gvkey%in%gvkey_outlier, T, F))]\n",
    "\n",
    "write_feather(f_sue_keydevid_car_finratio_vol_transcriptid_sim_inflow_revision_retail_sentiment_text_norm_wsrz_outlierflg, './data/f_sue_keydevid_car_finratio_vol_transcriptid_sim_inflow_revision_retail_sentiment_text_norm_wsrz_outlierflg.feather')\n",
    "\n",
    "f_sue_keydevid_car_finratio_vol_transcriptid_sim_inflow_revision_retail_sentiment_text_norm_wsrz_outlierflg[1, -c('text_present', 'text_qa', 'text_ques', 'text_ans', 'text_all')]"
   ]
  },
  {
   "cell_type": "code",
   "execution_count": 3,
   "metadata": {},
   "outputs": [
    {
     "data": {
      "text/html": [
       "<table>\n",
       "<caption>A data.table: 1 × 1</caption>\n",
       "<thead>\n",
       "\t<tr><th scope=col>V1</th></tr>\n",
       "\t<tr><th scope=col>&lt;dbl&gt;</th></tr>\n",
       "</thead>\n",
       "<tbody>\n",
       "\t<tr><td>0.2298396</td></tr>\n",
       "</tbody>\n",
       "</table>\n"
      ],
      "text/latex": [
       "A data.table: 1 × 1\n",
       "\\begin{tabular}{l}\n",
       " V1\\\\\n",
       " <dbl>\\\\\n",
       "\\hline\n",
       "\t 0.2298396\\\\\n",
       "\\end{tabular}\n"
      ],
      "text/markdown": [
       "\n",
       "A data.table: 1 × 1\n",
       "\n",
       "| V1 &lt;dbl&gt; |\n",
       "|---|\n",
       "| 0.2298396 |\n",
       "\n"
      ],
      "text/plain": [
       "  V1       \n",
       "1 0.2298396"
      ]
     },
     "metadata": {},
     "output_type": "display_data"
    }
   ],
   "source": [
    "# how many instances are labeled as outlier?\n",
    "f_sue_keydevid_car_finratio_vol_transcriptid_sim_inflow_revision_retail_sentiment_text_norm_wsrz_outlierflg[, .(sum(outlier_flag1==T)/.N)]"
   ]
  },
  {
   "cell_type": "markdown",
   "metadata": {},
   "source": [
    "## plot (for test)"
   ]
  },
  {
   "cell_type": "markdown",
   "metadata": {},
   "source": [
    "Task:\n",
    "- Distribution of calls within a year"
   ]
  },
  {
   "cell_type": "code",
   "execution_count": null,
   "metadata": {},
   "outputs": [],
   "source": [
    "dt = read_feather('./data/f_sue_keydevid_car_finratio_vol_transcriptid_sim_inflow_revision_sentiment_text_norm_wsrz.feather') %>% as.data.table()\n",
    "\n",
    "dt[, ':='(year=year(ciq_call_date))]\n",
    "\n",
    "add_vline <- function(y) {\n",
    "    list(type = \"line\", \n",
    "         y0 = y, y1 = y, xref = \"paper\", # i.e. y as a proportion of visible region\n",
    "         x0 = 0, x1 = 1, \n",
    "         line = list(dash='dot', width=1))\n",
    "}\n",
    "\n",
    "copy(dt)[ciq_call_date %between% c(ymd('2017-10-01'), ymd('2018-12-31')), .(car_0_30_norm, ciq_call_date, date)] %>%\n",
    "    plot_ly(x=~ciq_call_date, y=~car_0_30_norm, color=~as.factor(year(ciq_call_date)), type='scatter', mode='markers', alpha=0.3) %>%\n",
    "    plotly::layout(autosize=F, xaxis=list(title='', type='date'),\n",
    "                   yaxis=list(title='CAR'), shapes=list(add_vline(-2), add_vline(2)))"
   ]
  },
  {
   "cell_type": "code",
   "execution_count": null,
   "metadata": {},
   "outputs": [],
   "source": [
    "copy(dt)[, ':='(date=make_date(2000, month(ciq_call_date), day(ciq_call_date)))\n",
    "    ][ciq_call_date %between% c(ymd('2008-01-01'), ymd('2018-12-31')), .(car_0_30_norm, ciq_call_date, date)] %>%\n",
    "    plot_ly(x=~date, y=~car_0_30_norm, color='red', type='scatter', mode='markers', alpha=0.2) %>%\n",
    "    plotly::layout(autosize=F, xaxis=list(title='', type='date', tickformat = \"%b %d\"),\n",
    "                   yaxis=list(title='CAR'))"
   ]
  },
  {
   "cell_type": "markdown",
   "metadata": {},
   "source": [
    "Only remove missing values here. For scaling, do it in Python."
   ]
  },
  {
   "cell_type": "code",
   "execution_count": 209,
   "metadata": {},
   "outputs": [],
   "source": [
    "targets_df = as.data.table(read_feather('data/f_sue_keydevid_car_finratio_vol_transcriptid_sim_inflow_revision_text.feather'))\n",
    "\n",
    "all_cols = names(targets_df)\n",
    "text_cols = c('text_present', 'text_qa', 'text_ans', 'text_ques', 'text_all')\n",
    "non_text_cols = all_cols[!all_cols %in% text_cols]\n",
    "\n",
    "targets_df = targets_df[, ..non_text_cols]"
   ]
  },
  {
   "cell_type": "markdown",
   "metadata": {},
   "source": [
    "index vs CAR"
   ]
  },
  {
   "cell_type": "code",
   "execution_count": null,
   "metadata": {},
   "outputs": [],
   "source": [
    "ld(idx_price, path=WRDS_DOWNLOAD_DIR)\n",
    "\n",
    "spx_daily = idx_price[gvkeyx=='000003' & datadate %between% c(ymd('2008-01-01'), ymd('2018-10-01')), \n",
    "                    .(date=datadate, idx=prccd)] %>%\n",
    "    plot_ly(x=~date, y=~idx, name='Index Return', type='scatter', mode='lines') %>%\n",
    "    plotly::layout(autosize=F, legend=list(0.1, 0.9))\n",
    "\n",
    "outlier = f_sue_keydevid_car_finratio_vol_transcriptid_sim_inflow_revision_text[, .(ciq_release_date, car_0_30)] %>%\n",
    "    plot_ly(x=~ciq_release_date, y=~car_0_30, type='scatter', mode='markers', marker=list(size=1, line=list(width=1), alpha=0.5), name='CAR') %>%\n",
    "    plotly::layout(autosize=F, legend=list(0.1, 0.9))\n",
    "\n",
    "subplot(spx_daily, outlier, nrows=2, shareX=T)"
   ]
  },
  {
   "cell_type": "markdown",
   "metadata": {},
   "source": [
    "Extreme values of CAR"
   ]
  },
  {
   "cell_type": "code",
   "execution_count": null,
   "metadata": {},
   "outputs": [],
   "source": [
    "f_sue_keydevid_car_finratio_vol_transcriptid_sim_inflow_revision_text[abs(car_0_30)>=60] %>%\n",
    "    plot_ly(x=~ciq_release_date, y=~car_0_30, type='scatter', mode='markers', showlegend=T) %>% \n",
    "    plotly::layout(autosize=F)"
   ]
  },
  {
   "cell_type": "code",
   "execution_count": null,
   "metadata": {},
   "outputs": [],
   "source": [
    "f_sue_keydevid_car_finratio_vol_transcriptid_sim_inflow_revision_text %>%\n",
    "    plot_ly(x=~car_0_30, type='histogram', nbinsx=300) %>% \n",
    "    plotly::layout(autosize=F)"
   ]
  },
  {
   "cell_type": "code",
   "execution_count": 5,
   "metadata": {},
   "outputs": [],
   "source": [
    "dt = read_feather('./data/f_sue_keydevid_car_finratio_vol_transcriptid_sim_inflow_revision_text.feather')"
   ]
  },
  {
   "cell_type": "code",
   "execution_count": 7,
   "metadata": {},
   "outputs": [
    {
     "data": {
      "text/plain": [
       "      Min.    1st Qu.     Median       Mean    3rd Qu.       Max. \n",
       "-110.91022   -2.07961   -0.60965   -2.03208   -0.07435   43.82143 "
      ]
     },
     "metadata": {},
     "output_type": "display_data"
    }
   ],
   "source": [
    "setDT(dt)\n",
    "dt[, summary(inflow)]"
   ]
  },
  {
   "cell_type": "markdown",
   "metadata": {},
   "source": [
    "## split train/val/test"
   ]
  },
  {
   "cell_type": "markdown",
   "metadata": {},
   "source": [
    "Task: create rolling window\n",
    "- start: `2008-01-01`\n",
    "- end: `2018-12-31`\n",
    "- training period: 3 years (12 quarters)\n",
    "- predict period: next quarter\n",
    "\n",
    "> `val` is randomly sampled from `train`"
   ]
  },
  {
   "cell_type": "markdown",
   "metadata": {},
   "source": [
    "### `val` and `train` are of same period"
   ]
  },
  {
   "cell_type": "code",
   "execution_count": 90,
   "metadata": {
    "scrolled": true
   },
   "outputs": [
    {
     "data": {
      "text/html": [
       "<table>\n",
       "<caption>A data.table: 24 × 8</caption>\n",
       "<thead>\n",
       "\t<tr><th scope=col>window</th><th scope=col>train_start</th><th scope=col>train_end</th><th scope=col>test_start</th><th scope=col>test_end</th><th scope=col>roll_type</th><th scope=col>yqtr</th><th scope=col>is_test</th></tr>\n",
       "\t<tr><th scope=col>&lt;chr&gt;</th><th scope=col>&lt;date&gt;</th><th scope=col>&lt;date&gt;</th><th scope=col>&lt;date&gt;</th><th scope=col>&lt;date&gt;</th><th scope=col>&lt;chr&gt;</th><th scope=col>&lt;chr&gt;</th><th scope=col>&lt;lgl&gt;</th></tr>\n",
       "</thead>\n",
       "<tbody>\n",
       "\t<tr><td>roll-01</td><td>2008-01-01</td><td>2012-12-31</td><td>2013-01-01</td><td>2013-03-31</td><td>5y</td><td>2012-q4</td><td>FALSE</td></tr>\n",
       "\t<tr><td>roll-02</td><td>2008-04-01</td><td>2013-03-31</td><td>2013-04-01</td><td>2013-06-30</td><td>5y</td><td>2013-q1</td><td>FALSE</td></tr>\n",
       "\t<tr><td>roll-03</td><td>2008-07-01</td><td>2013-06-30</td><td>2013-07-01</td><td>2013-09-30</td><td>5y</td><td>2013-q2</td><td>FALSE</td></tr>\n",
       "\t<tr><td>roll-04</td><td>2008-10-01</td><td>2013-09-30</td><td>2013-10-01</td><td>2013-12-31</td><td>5y</td><td>2013-q3</td><td>FALSE</td></tr>\n",
       "\t<tr><td>roll-05</td><td>2009-01-01</td><td>2013-12-31</td><td>2014-01-01</td><td>2014-03-31</td><td>5y</td><td>2013-q4</td><td>FALSE</td></tr>\n",
       "\t<tr><td>roll-06</td><td>2009-04-01</td><td>2014-03-31</td><td>2014-04-01</td><td>2014-06-30</td><td>5y</td><td>2014-q1</td><td>FALSE</td></tr>\n",
       "\t<tr><td>roll-07</td><td>2009-07-01</td><td>2014-06-30</td><td>2014-07-01</td><td>2014-09-30</td><td>5y</td><td>2014-q2</td><td>FALSE</td></tr>\n",
       "\t<tr><td>roll-08</td><td>2009-10-01</td><td>2014-09-30</td><td>2014-10-01</td><td>2014-12-31</td><td>5y</td><td>2014-q3</td><td>FALSE</td></tr>\n",
       "\t<tr><td>roll-09</td><td>2010-01-01</td><td>2014-12-31</td><td>2015-01-01</td><td>2015-03-31</td><td>5y</td><td>2014-q4</td><td>FALSE</td></tr>\n",
       "\t<tr><td>roll-10</td><td>2010-04-01</td><td>2015-03-31</td><td>2015-04-01</td><td>2015-06-30</td><td>5y</td><td>2015-q1</td><td>FALSE</td></tr>\n",
       "\t<tr><td>roll-11</td><td>2010-07-01</td><td>2015-06-30</td><td>2015-07-01</td><td>2015-09-30</td><td>5y</td><td>2015-q2</td><td>FALSE</td></tr>\n",
       "\t<tr><td>roll-12</td><td>2010-10-01</td><td>2015-09-30</td><td>2015-10-01</td><td>2015-12-31</td><td>5y</td><td>2015-q3</td><td> TRUE</td></tr>\n",
       "\t<tr><td>roll-13</td><td>2011-01-01</td><td>2015-12-31</td><td>2016-01-01</td><td>2016-03-31</td><td>5y</td><td>2015-q4</td><td> TRUE</td></tr>\n",
       "\t<tr><td>roll-14</td><td>2011-04-01</td><td>2016-03-31</td><td>2016-04-01</td><td>2016-06-30</td><td>5y</td><td>2016-q1</td><td>FALSE</td></tr>\n",
       "\t<tr><td>roll-15</td><td>2011-07-01</td><td>2016-06-30</td><td>2016-07-01</td><td>2016-09-30</td><td>5y</td><td>2016-q2</td><td> TRUE</td></tr>\n",
       "\t<tr><td>roll-16</td><td>2011-10-01</td><td>2016-09-30</td><td>2016-10-01</td><td>2016-12-31</td><td>5y</td><td>2016-q3</td><td>FALSE</td></tr>\n",
       "\t<tr><td>roll-17</td><td>2012-01-01</td><td>2016-12-31</td><td>2017-01-01</td><td>2017-03-31</td><td>5y</td><td>2016-q4</td><td>FALSE</td></tr>\n",
       "\t<tr><td>roll-18</td><td>2012-04-01</td><td>2017-03-31</td><td>2017-04-01</td><td>2017-06-30</td><td>5y</td><td>2017-q1</td><td>FALSE</td></tr>\n",
       "\t<tr><td>roll-19</td><td>2012-07-01</td><td>2017-06-30</td><td>2017-07-01</td><td>2017-09-30</td><td>5y</td><td>2017-q2</td><td>FALSE</td></tr>\n",
       "\t<tr><td>roll-20</td><td>2012-10-01</td><td>2017-09-30</td><td>2017-10-01</td><td>2017-12-31</td><td>5y</td><td>2017-q3</td><td>FALSE</td></tr>\n",
       "\t<tr><td>roll-21</td><td>2013-01-01</td><td>2017-12-31</td><td>2018-01-01</td><td>2018-03-31</td><td>5y</td><td>2017-q4</td><td>FALSE</td></tr>\n",
       "\t<tr><td>roll-22</td><td>2013-04-01</td><td>2018-03-31</td><td>2018-04-01</td><td>2018-06-30</td><td>5y</td><td>2018-q1</td><td> TRUE</td></tr>\n",
       "\t<tr><td>roll-23</td><td>2013-07-01</td><td>2018-06-30</td><td>2018-07-01</td><td>2018-09-30</td><td>5y</td><td>2018-q2</td><td> TRUE</td></tr>\n",
       "\t<tr><td>roll-24</td><td>2013-10-01</td><td>2018-09-30</td><td>2018-10-01</td><td>2018-12-31</td><td>5y</td><td>2018-q3</td><td>FALSE</td></tr>\n",
       "</tbody>\n",
       "</table>\n"
      ],
      "text/latex": [
       "A data.table: 24 × 8\n",
       "\\begin{tabular}{llllllll}\n",
       " window & train\\_start & train\\_end & test\\_start & test\\_end & roll\\_type & yqtr & is\\_test\\\\\n",
       " <chr> & <date> & <date> & <date> & <date> & <chr> & <chr> & <lgl>\\\\\n",
       "\\hline\n",
       "\t roll-01 & 2008-01-01 & 2012-12-31 & 2013-01-01 & 2013-03-31 & 5y & 2012-q4 & FALSE\\\\\n",
       "\t roll-02 & 2008-04-01 & 2013-03-31 & 2013-04-01 & 2013-06-30 & 5y & 2013-q1 & FALSE\\\\\n",
       "\t roll-03 & 2008-07-01 & 2013-06-30 & 2013-07-01 & 2013-09-30 & 5y & 2013-q2 & FALSE\\\\\n",
       "\t roll-04 & 2008-10-01 & 2013-09-30 & 2013-10-01 & 2013-12-31 & 5y & 2013-q3 & FALSE\\\\\n",
       "\t roll-05 & 2009-01-01 & 2013-12-31 & 2014-01-01 & 2014-03-31 & 5y & 2013-q4 & FALSE\\\\\n",
       "\t roll-06 & 2009-04-01 & 2014-03-31 & 2014-04-01 & 2014-06-30 & 5y & 2014-q1 & FALSE\\\\\n",
       "\t roll-07 & 2009-07-01 & 2014-06-30 & 2014-07-01 & 2014-09-30 & 5y & 2014-q2 & FALSE\\\\\n",
       "\t roll-08 & 2009-10-01 & 2014-09-30 & 2014-10-01 & 2014-12-31 & 5y & 2014-q3 & FALSE\\\\\n",
       "\t roll-09 & 2010-01-01 & 2014-12-31 & 2015-01-01 & 2015-03-31 & 5y & 2014-q4 & FALSE\\\\\n",
       "\t roll-10 & 2010-04-01 & 2015-03-31 & 2015-04-01 & 2015-06-30 & 5y & 2015-q1 & FALSE\\\\\n",
       "\t roll-11 & 2010-07-01 & 2015-06-30 & 2015-07-01 & 2015-09-30 & 5y & 2015-q2 & FALSE\\\\\n",
       "\t roll-12 & 2010-10-01 & 2015-09-30 & 2015-10-01 & 2015-12-31 & 5y & 2015-q3 &  TRUE\\\\\n",
       "\t roll-13 & 2011-01-01 & 2015-12-31 & 2016-01-01 & 2016-03-31 & 5y & 2015-q4 &  TRUE\\\\\n",
       "\t roll-14 & 2011-04-01 & 2016-03-31 & 2016-04-01 & 2016-06-30 & 5y & 2016-q1 & FALSE\\\\\n",
       "\t roll-15 & 2011-07-01 & 2016-06-30 & 2016-07-01 & 2016-09-30 & 5y & 2016-q2 &  TRUE\\\\\n",
       "\t roll-16 & 2011-10-01 & 2016-09-30 & 2016-10-01 & 2016-12-31 & 5y & 2016-q3 & FALSE\\\\\n",
       "\t roll-17 & 2012-01-01 & 2016-12-31 & 2017-01-01 & 2017-03-31 & 5y & 2016-q4 & FALSE\\\\\n",
       "\t roll-18 & 2012-04-01 & 2017-03-31 & 2017-04-01 & 2017-06-30 & 5y & 2017-q1 & FALSE\\\\\n",
       "\t roll-19 & 2012-07-01 & 2017-06-30 & 2017-07-01 & 2017-09-30 & 5y & 2017-q2 & FALSE\\\\\n",
       "\t roll-20 & 2012-10-01 & 2017-09-30 & 2017-10-01 & 2017-12-31 & 5y & 2017-q3 & FALSE\\\\\n",
       "\t roll-21 & 2013-01-01 & 2017-12-31 & 2018-01-01 & 2018-03-31 & 5y & 2017-q4 & FALSE\\\\\n",
       "\t roll-22 & 2013-04-01 & 2018-03-31 & 2018-04-01 & 2018-06-30 & 5y & 2018-q1 &  TRUE\\\\\n",
       "\t roll-23 & 2013-07-01 & 2018-06-30 & 2018-07-01 & 2018-09-30 & 5y & 2018-q2 &  TRUE\\\\\n",
       "\t roll-24 & 2013-10-01 & 2018-09-30 & 2018-10-01 & 2018-12-31 & 5y & 2018-q3 & FALSE\\\\\n",
       "\\end{tabular}\n"
      ],
      "text/markdown": [
       "\n",
       "A data.table: 24 × 8\n",
       "\n",
       "| window &lt;chr&gt; | train_start &lt;date&gt; | train_end &lt;date&gt; | test_start &lt;date&gt; | test_end &lt;date&gt; | roll_type &lt;chr&gt; | yqtr &lt;chr&gt; | is_test &lt;lgl&gt; |\n",
       "|---|---|---|---|---|---|---|---|\n",
       "| roll-01 | 2008-01-01 | 2012-12-31 | 2013-01-01 | 2013-03-31 | 5y | 2012-q4 | FALSE |\n",
       "| roll-02 | 2008-04-01 | 2013-03-31 | 2013-04-01 | 2013-06-30 | 5y | 2013-q1 | FALSE |\n",
       "| roll-03 | 2008-07-01 | 2013-06-30 | 2013-07-01 | 2013-09-30 | 5y | 2013-q2 | FALSE |\n",
       "| roll-04 | 2008-10-01 | 2013-09-30 | 2013-10-01 | 2013-12-31 | 5y | 2013-q3 | FALSE |\n",
       "| roll-05 | 2009-01-01 | 2013-12-31 | 2014-01-01 | 2014-03-31 | 5y | 2013-q4 | FALSE |\n",
       "| roll-06 | 2009-04-01 | 2014-03-31 | 2014-04-01 | 2014-06-30 | 5y | 2014-q1 | FALSE |\n",
       "| roll-07 | 2009-07-01 | 2014-06-30 | 2014-07-01 | 2014-09-30 | 5y | 2014-q2 | FALSE |\n",
       "| roll-08 | 2009-10-01 | 2014-09-30 | 2014-10-01 | 2014-12-31 | 5y | 2014-q3 | FALSE |\n",
       "| roll-09 | 2010-01-01 | 2014-12-31 | 2015-01-01 | 2015-03-31 | 5y | 2014-q4 | FALSE |\n",
       "| roll-10 | 2010-04-01 | 2015-03-31 | 2015-04-01 | 2015-06-30 | 5y | 2015-q1 | FALSE |\n",
       "| roll-11 | 2010-07-01 | 2015-06-30 | 2015-07-01 | 2015-09-30 | 5y | 2015-q2 | FALSE |\n",
       "| roll-12 | 2010-10-01 | 2015-09-30 | 2015-10-01 | 2015-12-31 | 5y | 2015-q3 |  TRUE |\n",
       "| roll-13 | 2011-01-01 | 2015-12-31 | 2016-01-01 | 2016-03-31 | 5y | 2015-q4 |  TRUE |\n",
       "| roll-14 | 2011-04-01 | 2016-03-31 | 2016-04-01 | 2016-06-30 | 5y | 2016-q1 | FALSE |\n",
       "| roll-15 | 2011-07-01 | 2016-06-30 | 2016-07-01 | 2016-09-30 | 5y | 2016-q2 |  TRUE |\n",
       "| roll-16 | 2011-10-01 | 2016-09-30 | 2016-10-01 | 2016-12-31 | 5y | 2016-q3 | FALSE |\n",
       "| roll-17 | 2012-01-01 | 2016-12-31 | 2017-01-01 | 2017-03-31 | 5y | 2016-q4 | FALSE |\n",
       "| roll-18 | 2012-04-01 | 2017-03-31 | 2017-04-01 | 2017-06-30 | 5y | 2017-q1 | FALSE |\n",
       "| roll-19 | 2012-07-01 | 2017-06-30 | 2017-07-01 | 2017-09-30 | 5y | 2017-q2 | FALSE |\n",
       "| roll-20 | 2012-10-01 | 2017-09-30 | 2017-10-01 | 2017-12-31 | 5y | 2017-q3 | FALSE |\n",
       "| roll-21 | 2013-01-01 | 2017-12-31 | 2018-01-01 | 2018-03-31 | 5y | 2017-q4 | FALSE |\n",
       "| roll-22 | 2013-04-01 | 2018-03-31 | 2018-04-01 | 2018-06-30 | 5y | 2018-q1 |  TRUE |\n",
       "| roll-23 | 2013-07-01 | 2018-06-30 | 2018-07-01 | 2018-09-30 | 5y | 2018-q2 |  TRUE |\n",
       "| roll-24 | 2013-10-01 | 2018-09-30 | 2018-10-01 | 2018-12-31 | 5y | 2018-q3 | FALSE |\n",
       "\n"
      ],
      "text/plain": [
       "   window  train_start train_end  test_start test_end   roll_type yqtr   \n",
       "1  roll-01 2008-01-01  2012-12-31 2013-01-01 2013-03-31 5y        2012-q4\n",
       "2  roll-02 2008-04-01  2013-03-31 2013-04-01 2013-06-30 5y        2013-q1\n",
       "3  roll-03 2008-07-01  2013-06-30 2013-07-01 2013-09-30 5y        2013-q2\n",
       "4  roll-04 2008-10-01  2013-09-30 2013-10-01 2013-12-31 5y        2013-q3\n",
       "5  roll-05 2009-01-01  2013-12-31 2014-01-01 2014-03-31 5y        2013-q4\n",
       "6  roll-06 2009-04-01  2014-03-31 2014-04-01 2014-06-30 5y        2014-q1\n",
       "7  roll-07 2009-07-01  2014-06-30 2014-07-01 2014-09-30 5y        2014-q2\n",
       "8  roll-08 2009-10-01  2014-09-30 2014-10-01 2014-12-31 5y        2014-q3\n",
       "9  roll-09 2010-01-01  2014-12-31 2015-01-01 2015-03-31 5y        2014-q4\n",
       "10 roll-10 2010-04-01  2015-03-31 2015-04-01 2015-06-30 5y        2015-q1\n",
       "11 roll-11 2010-07-01  2015-06-30 2015-07-01 2015-09-30 5y        2015-q2\n",
       "12 roll-12 2010-10-01  2015-09-30 2015-10-01 2015-12-31 5y        2015-q3\n",
       "13 roll-13 2011-01-01  2015-12-31 2016-01-01 2016-03-31 5y        2015-q4\n",
       "14 roll-14 2011-04-01  2016-03-31 2016-04-01 2016-06-30 5y        2016-q1\n",
       "15 roll-15 2011-07-01  2016-06-30 2016-07-01 2016-09-30 5y        2016-q2\n",
       "16 roll-16 2011-10-01  2016-09-30 2016-10-01 2016-12-31 5y        2016-q3\n",
       "17 roll-17 2012-01-01  2016-12-31 2017-01-01 2017-03-31 5y        2016-q4\n",
       "18 roll-18 2012-04-01  2017-03-31 2017-04-01 2017-06-30 5y        2017-q1\n",
       "19 roll-19 2012-07-01  2017-06-30 2017-07-01 2017-09-30 5y        2017-q2\n",
       "20 roll-20 2012-10-01  2017-09-30 2017-10-01 2017-12-31 5y        2017-q3\n",
       "21 roll-21 2013-01-01  2017-12-31 2018-01-01 2018-03-31 5y        2017-q4\n",
       "22 roll-22 2013-04-01  2018-03-31 2018-04-01 2018-06-30 5y        2018-q1\n",
       "23 roll-23 2013-07-01  2018-06-30 2018-07-01 2018-09-30 5y        2018-q2\n",
       "24 roll-24 2013-10-01  2018-09-30 2018-10-01 2018-12-31 5y        2018-q3\n",
       "   is_test\n",
       "1  FALSE  \n",
       "2  FALSE  \n",
       "3  FALSE  \n",
       "4  FALSE  \n",
       "5  FALSE  \n",
       "6  FALSE  \n",
       "7  FALSE  \n",
       "8  FALSE  \n",
       "9  FALSE  \n",
       "10 FALSE  \n",
       "11 FALSE  \n",
       "12  TRUE  \n",
       "13  TRUE  \n",
       "14 FALSE  \n",
       "15  TRUE  \n",
       "16 FALSE  \n",
       "17 FALSE  \n",
       "18 FALSE  \n",
       "19 FALSE  \n",
       "20 FALSE  \n",
       "21 FALSE  \n",
       "22  TRUE  \n",
       "23  TRUE  \n",
       "24 FALSE  "
      ]
     },
     "metadata": {},
     "output_type": "display_data"
    },
    {
     "name": "stdout",
     "output_type": "stream",
     "text": [
      "-rolling_split_dates- saved  (0.01 secs)\n"
     ]
    }
   ],
   "source": [
    "get_rolling_split_dates <- function(train_start, train_end, test_start, test_end, roll_type) {\n",
    "    rolling_split_dates = data.table(window='roll-01', train_start=train_start, train_end=train_end, test_start=test_start, test_end=test_end, roll_type=roll_type)\n",
    "    \n",
    "    i_window = 1\n",
    "    while (test_end < ymd('2018-12-31')) {\n",
    "        i_window = i_window + 1\n",
    "        train_start = train_start %m+% months(3) \n",
    "        train_end = train_end %m+% months(4) %>% rollback()\n",
    "        test_start = test_start %m+% months(3) \n",
    "        test_end = test_end %m+% months(4) %>% rollback()\n",
    "        \n",
    "        rolling_split_dates = rbindlist(\n",
    "            list(rolling_split_dates, \n",
    "                 list(window=str_c('roll-', str_pad(i_window, 2, pad = \"0\")), \n",
    "                      train_start=train_start, train_end=train_end, \n",
    "                      test_start=test_start, test_end=test_end, roll_type=roll_type)))\n",
    "    }\n",
    "    return(rolling_split_dates)\n",
    "}\n",
    "train_start_1y = ymd('2008-01-01')\n",
    "train_end_1y = ymd('2008-12-31')\n",
    "test_start_1y = ymd('2009-01-01')\n",
    "test_end_1y = ymd('2009-03-31')\n",
    "\n",
    "train_start_2y = ymd('2008-01-01')\n",
    "train_end_2y = ymd('2009-12-31')\n",
    "test_start_2y = ymd('2010-01-01')\n",
    "test_end_2y = ymd('2010-03-31')\n",
    "\n",
    "train_start_3y = ymd('2008-01-01')\n",
    "train_end_3y = ymd('2010-12-31')\n",
    "test_start_3y = ymd('2011-01-01')\n",
    "test_end_3y = ymd('2011-03-31')\n",
    "\n",
    "train_start_4y = ymd('2008-01-01')\n",
    "train_end_4y = ymd('2011-12-31')\n",
    "test_start_4y = ymd('2012-01-01')\n",
    "test_end_4y = ymd('2012-03-31')\n",
    "\n",
    "train_start_5y = ymd('2008-01-01')\n",
    "train_end_5y = ymd('2012-12-31')\n",
    "test_start_5y = ymd('2013-01-01')\n",
    "test_end_5y = ymd('2013-03-31')\n",
    "\n",
    "train_start_6y = ymd('2008-01-01')\n",
    "train_end_6y = ymd('2013-12-31')\n",
    "test_start_6y = ymd('2014-01-01')\n",
    "test_end_6y = ymd('2014-03-31')\n",
    "\n",
    "rolling_split_dates = rbindlist(\n",
    "    list(get_rolling_split_dates(train_start_1y, train_end_1y, test_start_1y, test_end_1y, roll_type='1y'),\n",
    "         get_rolling_split_dates(train_start_2y, train_end_2y, test_start_2y, test_end_2y, roll_type='2y'),\n",
    "         get_rolling_split_dates(train_start_3y, train_end_3y, test_start_3y, test_end_3y, roll_type='3y'),\n",
    "         get_rolling_split_dates(train_start_4y, train_end_4y, test_start_4y, test_end_4y, roll_type='4y'),\n",
    "         get_rolling_split_dates(train_start_5y, train_end_5y, test_start_5y, test_end_5y, roll_type='5y'),\n",
    "         get_rolling_split_dates(train_start_6y, train_end_6y, test_start_6y, test_end_6y, roll_type='6y')),\n",
    "    use=T)\n",
    "\n",
    "nonrolling_split = list(window='non-roll-01', \n",
    "                        train_start=ymd('2008-01-01'),\n",
    "                        train_end=ymd('2018-09-30'),\n",
    "                        test_start=ymd('2018-10-01'),\n",
    "                        test_end=ymd('2018-12-31'),\n",
    "                        roll_type='non')\n",
    "\n",
    "rolling_split_dates = rbindlist(list(rolling_split_dates, nonrolling_split), fill=T)[order(roll_type, window)\n",
    "    ][, ':='(yqtr=fcase(month(test_start)==1, str_c(year(test_start)-1, '-q4'),\n",
    "                        month(test_start)==4, str_c(year(test_start), '-q1'),\n",
    "                        month(test_start)==7, str_c(year(test_start), '-q2'),\n",
    "                        month(test_start)==10, str_c(year(test_start), '-q3')))\n",
    "    ][test_end<ymd('2019-01-01')\n",
    "    ][, ':='(is_test=ifelse(yqtr %in% c('2015-q3', '2015-q4', '2016-q2', '2018-q1', '2018-q2'), T, F))]\n",
    "\n",
    "# print previe\n",
    "rolling_split_dates[roll_type=='5y'][order(roll_type, window)]\n",
    "\n",
    "\n",
    "# write to csv\n",
    "sv(rolling_split_dates)\n",
    "fwrite(rolling_split_dates, './data/split_dates.csv')"
   ]
  },
  {
   "cell_type": "code",
   "execution_count": 3,
   "metadata": {},
   "outputs": [
    {
     "data": {
      "text/html": [
       "<table>\n",
       "<caption>A data.table: 4 × 3</caption>\n",
       "<thead>\n",
       "\t<tr><th scope=col>month</th><th scope=col>day</th><th scope=col>N</th></tr>\n",
       "\t<tr><th scope=col>&lt;dbl&gt;</th><th scope=col>&lt;int&gt;</th><th scope=col>&lt;int&gt;</th></tr>\n",
       "</thead>\n",
       "<tbody>\n",
       "\t<tr><td> 1</td><td>1</td><td>45</td></tr>\n",
       "\t<tr><td> 4</td><td>1</td><td>45</td></tr>\n",
       "\t<tr><td> 7</td><td>1</td><td>45</td></tr>\n",
       "\t<tr><td>10</td><td>1</td><td>46</td></tr>\n",
       "</tbody>\n",
       "</table>\n"
      ],
      "text/latex": [
       "A data.table: 4 × 3\n",
       "\\begin{tabular}{lll}\n",
       " month & day & N\\\\\n",
       " <dbl> & <int> & <int>\\\\\n",
       "\\hline\n",
       "\t  1 & 1 & 45\\\\\n",
       "\t  4 & 1 & 45\\\\\n",
       "\t  7 & 1 & 45\\\\\n",
       "\t 10 & 1 & 46\\\\\n",
       "\\end{tabular}\n"
      ],
      "text/markdown": [
       "\n",
       "A data.table: 4 × 3\n",
       "\n",
       "| month &lt;dbl&gt; | day &lt;int&gt; | N &lt;int&gt; |\n",
       "|---|---|---|\n",
       "|  1 | 1 | 45 |\n",
       "|  4 | 1 | 45 |\n",
       "|  7 | 1 | 45 |\n",
       "| 10 | 1 | 46 |\n",
       "\n"
      ],
      "text/plain": [
       "  month day N \n",
       "1  1    1   45\n",
       "2  4    1   45\n",
       "3  7    1   45\n",
       "4 10    1   46"
      ]
     },
     "metadata": {},
     "output_type": "display_data"
    }
   ],
   "source": [
    "rolling_split_dates[, .(.N), keyby=.(month(test_start), day(test_start))]"
   ]
  },
  {
   "cell_type": "markdown",
   "metadata": {
    "toc-hr-collapsed": true,
    "toc-nb-collapsed": true
   },
   "source": [
    "### `val` is *after* `train`"
   ]
  },
  {
   "cell_type": "code",
   "execution_count": 82,
   "metadata": {
    "collapsed": true,
    "jupyter": {
     "outputs_hidden": true
    },
    "scrolled": true
   },
   "outputs": [
    {
     "data": {
      "text/html": [
       "<table>\n",
       "<caption>A data.table: 161 × 8</caption>\n",
       "<thead>\n",
       "\t<tr><th scope=col>window</th><th scope=col>train_start</th><th scope=col>train_end</th><th scope=col>val_start</th><th scope=col>val_end</th><th scope=col>test_start</th><th scope=col>test_end</th><th scope=col>roll_type</th></tr>\n",
       "\t<tr><th scope=col>&lt;chr&gt;</th><th scope=col>&lt;date&gt;</th><th scope=col>&lt;date&gt;</th><th scope=col>&lt;date&gt;</th><th scope=col>&lt;date&gt;</th><th scope=col>&lt;date&gt;</th><th scope=col>&lt;date&gt;</th><th scope=col>&lt;chr&gt;</th></tr>\n",
       "</thead>\n",
       "<tbody>\n",
       "\t<tr><td>roll-01</td><td>2008-01-01</td><td>2008-10-31</td><td>2008-11-01</td><td>2008-12-31</td><td>2009-01-01</td><td>2009-03-31</td><td>1y</td></tr>\n",
       "\t<tr><td>roll-02</td><td>2008-04-01</td><td>2009-01-31</td><td>2009-02-01</td><td>2009-03-31</td><td>2009-04-01</td><td>2009-06-30</td><td>1y</td></tr>\n",
       "\t<tr><td>roll-03</td><td>2008-07-01</td><td>2009-04-30</td><td>2009-05-01</td><td>2009-06-30</td><td>2009-07-01</td><td>2009-09-30</td><td>1y</td></tr>\n",
       "\t<tr><td>roll-04</td><td>2008-10-01</td><td>2009-07-30</td><td>2009-08-01</td><td>2009-09-30</td><td>2009-10-01</td><td>2009-12-30</td><td>1y</td></tr>\n",
       "\t<tr><td>roll-05</td><td>2009-01-01</td><td>2009-10-30</td><td>2009-11-01</td><td>2009-12-30</td><td>2010-01-01</td><td>2010-03-30</td><td>1y</td></tr>\n",
       "\t<tr><td>roll-06</td><td>2009-04-01</td><td>2010-01-30</td><td>2010-02-01</td><td>2010-03-30</td><td>2010-04-01</td><td>2010-06-30</td><td>1y</td></tr>\n",
       "\t<tr><td>roll-07</td><td>2009-07-01</td><td>2010-04-30</td><td>2010-05-01</td><td>2010-06-30</td><td>2010-07-01</td><td>2010-09-30</td><td>1y</td></tr>\n",
       "\t<tr><td>roll-08</td><td>2009-10-01</td><td>2010-07-30</td><td>2010-08-01</td><td>2010-09-30</td><td>2010-10-01</td><td>2010-12-30</td><td>1y</td></tr>\n",
       "\t<tr><td>roll-09</td><td>2010-01-01</td><td>2010-10-30</td><td>2010-11-01</td><td>2010-12-30</td><td>2011-01-01</td><td>2011-03-30</td><td>1y</td></tr>\n",
       "\t<tr><td>roll-10</td><td>2010-04-01</td><td>2011-01-30</td><td>2011-02-01</td><td>2011-03-30</td><td>2011-04-01</td><td>2011-06-30</td><td>1y</td></tr>\n",
       "\t<tr><td>roll-11</td><td>2010-07-01</td><td>2011-04-30</td><td>2011-05-01</td><td>2011-06-30</td><td>2011-07-01</td><td>2011-09-30</td><td>1y</td></tr>\n",
       "\t<tr><td>roll-12</td><td>2010-10-01</td><td>2011-07-30</td><td>2011-08-01</td><td>2011-09-30</td><td>2011-10-01</td><td>2011-12-30</td><td>1y</td></tr>\n",
       "\t<tr><td>roll-13</td><td>2011-01-01</td><td>2011-10-30</td><td>2011-11-01</td><td>2011-12-30</td><td>2012-01-01</td><td>2012-03-30</td><td>1y</td></tr>\n",
       "\t<tr><td>roll-14</td><td>2011-04-01</td><td>2012-01-30</td><td>2012-02-01</td><td>2012-03-30</td><td>2012-04-01</td><td>2012-06-30</td><td>1y</td></tr>\n",
       "\t<tr><td>roll-15</td><td>2011-07-01</td><td>2012-04-30</td><td>2012-05-01</td><td>2012-06-30</td><td>2012-07-01</td><td>2012-09-30</td><td>1y</td></tr>\n",
       "\t<tr><td>roll-16</td><td>2011-10-01</td><td>2012-07-30</td><td>2012-08-01</td><td>2012-09-30</td><td>2012-10-01</td><td>2012-12-30</td><td>1y</td></tr>\n",
       "\t<tr><td>roll-17</td><td>2012-01-01</td><td>2012-10-30</td><td>2012-11-01</td><td>2012-12-30</td><td>2013-01-01</td><td>2013-03-30</td><td>1y</td></tr>\n",
       "\t<tr><td>roll-18</td><td>2012-04-01</td><td>2013-01-30</td><td>2013-02-01</td><td>2013-03-30</td><td>2013-04-01</td><td>2013-06-30</td><td>1y</td></tr>\n",
       "\t<tr><td>roll-19</td><td>2012-07-01</td><td>2013-04-30</td><td>2013-05-01</td><td>2013-06-30</td><td>2013-07-01</td><td>2013-09-30</td><td>1y</td></tr>\n",
       "\t<tr><td>roll-20</td><td>2012-10-01</td><td>2013-07-30</td><td>2013-08-01</td><td>2013-09-30</td><td>2013-10-01</td><td>2013-12-30</td><td>1y</td></tr>\n",
       "\t<tr><td>roll-21</td><td>2013-01-01</td><td>2013-10-30</td><td>2013-11-01</td><td>2013-12-30</td><td>2014-01-01</td><td>2014-03-30</td><td>1y</td></tr>\n",
       "\t<tr><td>roll-22</td><td>2013-04-01</td><td>2014-01-30</td><td>2014-02-01</td><td>2014-03-30</td><td>2014-04-01</td><td>2014-06-30</td><td>1y</td></tr>\n",
       "\t<tr><td>roll-23</td><td>2013-07-01</td><td>2014-04-30</td><td>2014-05-01</td><td>2014-06-30</td><td>2014-07-01</td><td>2014-09-30</td><td>1y</td></tr>\n",
       "\t<tr><td>roll-24</td><td>2013-10-01</td><td>2014-07-30</td><td>2014-08-01</td><td>2014-09-30</td><td>2014-10-01</td><td>2014-12-30</td><td>1y</td></tr>\n",
       "\t<tr><td>roll-25</td><td>2014-01-01</td><td>2014-10-30</td><td>2014-11-01</td><td>2014-12-30</td><td>2015-01-01</td><td>2015-03-30</td><td>1y</td></tr>\n",
       "\t<tr><td>roll-26</td><td>2014-04-01</td><td>2015-01-30</td><td>2015-02-01</td><td>2015-03-30</td><td>2015-04-01</td><td>2015-06-30</td><td>1y</td></tr>\n",
       "\t<tr><td>roll-27</td><td>2014-07-01</td><td>2015-04-30</td><td>2015-05-01</td><td>2015-06-30</td><td>2015-07-01</td><td>2015-09-30</td><td>1y</td></tr>\n",
       "\t<tr><td>roll-28</td><td>2014-10-01</td><td>2015-07-30</td><td>2015-08-01</td><td>2015-09-30</td><td>2015-10-01</td><td>2015-12-30</td><td>1y</td></tr>\n",
       "\t<tr><td>roll-29</td><td>2015-01-01</td><td>2015-10-30</td><td>2015-11-01</td><td>2015-12-30</td><td>2016-01-01</td><td>2016-03-30</td><td>1y</td></tr>\n",
       "\t<tr><td>roll-30</td><td>2015-04-01</td><td>2016-01-30</td><td>2016-02-01</td><td>2016-03-30</td><td>2016-04-01</td><td>2016-06-30</td><td>1y</td></tr>\n",
       "\t<tr><td>roll-31</td><td>2015-07-01</td><td>2016-04-30</td><td>2016-05-01</td><td>2016-06-30</td><td>2016-07-01</td><td>2016-09-30</td><td>1y</td></tr>\n",
       "\t<tr><td>roll-32</td><td>2015-10-01</td><td>2016-07-30</td><td>2016-08-01</td><td>2016-09-30</td><td>2016-10-01</td><td>2016-12-30</td><td>1y</td></tr>\n",
       "\t<tr><td>roll-33</td><td>2016-01-01</td><td>2016-10-30</td><td>2016-11-01</td><td>2016-12-30</td><td>2017-01-01</td><td>2017-03-30</td><td>1y</td></tr>\n",
       "\t<tr><td>roll-34</td><td>2016-04-01</td><td>2017-01-30</td><td>2017-02-01</td><td>2017-03-30</td><td>2017-04-01</td><td>2017-06-30</td><td>1y</td></tr>\n",
       "\t<tr><td>roll-35</td><td>2016-07-01</td><td>2017-04-30</td><td>2017-05-01</td><td>2017-06-30</td><td>2017-07-01</td><td>2017-09-30</td><td>1y</td></tr>\n",
       "\t<tr><td>roll-36</td><td>2016-10-01</td><td>2017-07-30</td><td>2017-08-01</td><td>2017-09-30</td><td>2017-10-01</td><td>2017-12-30</td><td>1y</td></tr>\n",
       "\t<tr><td>roll-37</td><td>2017-01-01</td><td>2017-10-30</td><td>2017-11-01</td><td>2017-12-30</td><td>2018-01-01</td><td>2018-03-30</td><td>1y</td></tr>\n",
       "\t<tr><td>roll-38</td><td>2017-04-01</td><td>2018-01-30</td><td>2018-02-01</td><td>2018-03-30</td><td>2018-04-01</td><td>2018-06-30</td><td>1y</td></tr>\n",
       "\t<tr><td>roll-39</td><td>2017-07-01</td><td>2018-04-30</td><td>2018-05-01</td><td>2018-06-30</td><td>2018-07-01</td><td>2018-09-30</td><td>1y</td></tr>\n",
       "\t<tr><td>roll-40</td><td>2017-10-01</td><td>2018-07-30</td><td>2018-08-01</td><td>2018-09-30</td><td>2018-10-01</td><td>2018-12-30</td><td>1y</td></tr>\n",
       "\t<tr><td>roll-01</td><td>2008-01-01</td><td>2009-10-31</td><td>2009-11-01</td><td>2009-12-31</td><td>2010-01-01</td><td>2010-03-31</td><td>2y</td></tr>\n",
       "\t<tr><td>roll-02</td><td>2008-04-01</td><td>2010-01-31</td><td>2010-02-01</td><td>2010-03-31</td><td>2010-04-01</td><td>2010-06-30</td><td>2y</td></tr>\n",
       "\t<tr><td>roll-03</td><td>2008-07-01</td><td>2010-04-30</td><td>2010-05-01</td><td>2010-06-30</td><td>2010-07-01</td><td>2010-09-30</td><td>2y</td></tr>\n",
       "\t<tr><td>roll-04</td><td>2008-10-01</td><td>2010-07-30</td><td>2010-08-01</td><td>2010-09-30</td><td>2010-10-01</td><td>2010-12-30</td><td>2y</td></tr>\n",
       "\t<tr><td>roll-05</td><td>2009-01-01</td><td>2010-10-30</td><td>2010-11-01</td><td>2010-12-30</td><td>2011-01-01</td><td>2011-03-30</td><td>2y</td></tr>\n",
       "\t<tr><td>roll-06</td><td>2009-04-01</td><td>2011-01-30</td><td>2011-02-01</td><td>2011-03-30</td><td>2011-04-01</td><td>2011-06-30</td><td>2y</td></tr>\n",
       "\t<tr><td>roll-07</td><td>2009-07-01</td><td>2011-04-30</td><td>2011-05-01</td><td>2011-06-30</td><td>2011-07-01</td><td>2011-09-30</td><td>2y</td></tr>\n",
       "\t<tr><td>roll-08</td><td>2009-10-01</td><td>2011-07-30</td><td>2011-08-01</td><td>2011-09-30</td><td>2011-10-01</td><td>2011-12-30</td><td>2y</td></tr>\n",
       "\t<tr><td>roll-09</td><td>2010-01-01</td><td>2011-10-30</td><td>2011-11-01</td><td>2011-12-30</td><td>2012-01-01</td><td>2012-03-30</td><td>2y</td></tr>\n",
       "\t<tr><td>roll-10</td><td>2010-04-01</td><td>2012-01-30</td><td>2012-02-01</td><td>2012-03-30</td><td>2012-04-01</td><td>2012-06-30</td><td>2y</td></tr>\n",
       "\t<tr><td>...</td><td>...</td><td>...</td><td>...</td><td>...</td><td>...</td><td>...</td><td>...</td></tr>\n",
       "\t<tr><td>roll-04    </td><td>2008-10-01</td><td>2012-07-30</td><td>2012-08-01</td><td>2012-09-30</td><td>2012-10-01</td><td>2012-12-30</td><td>4y </td></tr>\n",
       "\t<tr><td>roll-05    </td><td>2009-01-01</td><td>2012-10-30</td><td>2012-11-01</td><td>2012-12-30</td><td>2013-01-01</td><td>2013-03-30</td><td>4y </td></tr>\n",
       "\t<tr><td>roll-06    </td><td>2009-04-01</td><td>2013-01-30</td><td>2013-02-01</td><td>2013-03-30</td><td>2013-04-01</td><td>2013-06-30</td><td>4y </td></tr>\n",
       "\t<tr><td>roll-07    </td><td>2009-07-01</td><td>2013-04-30</td><td>2013-05-01</td><td>2013-06-30</td><td>2013-07-01</td><td>2013-09-30</td><td>4y </td></tr>\n",
       "\t<tr><td>roll-08    </td><td>2009-10-01</td><td>2013-07-30</td><td>2013-08-01</td><td>2013-09-30</td><td>2013-10-01</td><td>2013-12-30</td><td>4y </td></tr>\n",
       "\t<tr><td>roll-09    </td><td>2010-01-01</td><td>2013-10-30</td><td>2013-11-01</td><td>2013-12-30</td><td>2014-01-01</td><td>2014-03-30</td><td>4y </td></tr>\n",
       "\t<tr><td>roll-10    </td><td>2010-04-01</td><td>2014-01-30</td><td>2014-02-01</td><td>2014-03-30</td><td>2014-04-01</td><td>2014-06-30</td><td>4y </td></tr>\n",
       "\t<tr><td>roll-11    </td><td>2010-07-01</td><td>2014-04-30</td><td>2014-05-01</td><td>2014-06-30</td><td>2014-07-01</td><td>2014-09-30</td><td>4y </td></tr>\n",
       "\t<tr><td>roll-12    </td><td>2010-10-01</td><td>2014-07-30</td><td>2014-08-01</td><td>2014-09-30</td><td>2014-10-01</td><td>2014-12-30</td><td>4y </td></tr>\n",
       "\t<tr><td>roll-13    </td><td>2011-01-01</td><td>2014-10-30</td><td>2014-11-01</td><td>2014-12-30</td><td>2015-01-01</td><td>2015-03-30</td><td>4y </td></tr>\n",
       "\t<tr><td>roll-14    </td><td>2011-04-01</td><td>2015-01-30</td><td>2015-02-01</td><td>2015-03-30</td><td>2015-04-01</td><td>2015-06-30</td><td>4y </td></tr>\n",
       "\t<tr><td>roll-15    </td><td>2011-07-01</td><td>2015-04-30</td><td>2015-05-01</td><td>2015-06-30</td><td>2015-07-01</td><td>2015-09-30</td><td>4y </td></tr>\n",
       "\t<tr><td>roll-16    </td><td>2011-10-01</td><td>2015-07-30</td><td>2015-08-01</td><td>2015-09-30</td><td>2015-10-01</td><td>2015-12-30</td><td>4y </td></tr>\n",
       "\t<tr><td>roll-17    </td><td>2012-01-01</td><td>2015-10-30</td><td>2015-11-01</td><td>2015-12-30</td><td>2016-01-01</td><td>2016-03-30</td><td>4y </td></tr>\n",
       "\t<tr><td>roll-18    </td><td>2012-04-01</td><td>2016-01-30</td><td>2016-02-01</td><td>2016-03-30</td><td>2016-04-01</td><td>2016-06-30</td><td>4y </td></tr>\n",
       "\t<tr><td>roll-19    </td><td>2012-07-01</td><td>2016-04-30</td><td>2016-05-01</td><td>2016-06-30</td><td>2016-07-01</td><td>2016-09-30</td><td>4y </td></tr>\n",
       "\t<tr><td>roll-20    </td><td>2012-10-01</td><td>2016-07-30</td><td>2016-08-01</td><td>2016-09-30</td><td>2016-10-01</td><td>2016-12-30</td><td>4y </td></tr>\n",
       "\t<tr><td>roll-21    </td><td>2013-01-01</td><td>2016-10-30</td><td>2016-11-01</td><td>2016-12-30</td><td>2017-01-01</td><td>2017-03-30</td><td>4y </td></tr>\n",
       "\t<tr><td>roll-22    </td><td>2013-04-01</td><td>2017-01-30</td><td>2017-02-01</td><td>2017-03-30</td><td>2017-04-01</td><td>2017-06-30</td><td>4y </td></tr>\n",
       "\t<tr><td>roll-23    </td><td>2013-07-01</td><td>2017-04-30</td><td>2017-05-01</td><td>2017-06-30</td><td>2017-07-01</td><td>2017-09-30</td><td>4y </td></tr>\n",
       "\t<tr><td>roll-24    </td><td>2013-10-01</td><td>2017-07-30</td><td>2017-08-01</td><td>2017-09-30</td><td>2017-10-01</td><td>2017-12-30</td><td>4y </td></tr>\n",
       "\t<tr><td>roll-25    </td><td>2014-01-01</td><td>2017-10-30</td><td>2017-11-01</td><td>2017-12-30</td><td>2018-01-01</td><td>2018-03-30</td><td>4y </td></tr>\n",
       "\t<tr><td>roll-26    </td><td>2014-04-01</td><td>2018-01-30</td><td>2018-02-01</td><td>2018-03-30</td><td>2018-04-01</td><td>2018-06-30</td><td>4y </td></tr>\n",
       "\t<tr><td>roll-27    </td><td>2014-07-01</td><td>2018-04-30</td><td>2018-05-01</td><td>2018-06-30</td><td>2018-07-01</td><td>2018-09-30</td><td>4y </td></tr>\n",
       "\t<tr><td>roll-28    </td><td>2014-10-01</td><td>2018-07-30</td><td>2018-08-01</td><td>2018-09-30</td><td>2018-10-01</td><td>2018-12-30</td><td>4y </td></tr>\n",
       "\t<tr><td>roll-01    </td><td>2008-01-01</td><td>2012-10-31</td><td>2012-11-01</td><td>2012-12-31</td><td>2013-01-01</td><td>2013-03-31</td><td>5y </td></tr>\n",
       "\t<tr><td>roll-02    </td><td>2008-04-01</td><td>2013-01-31</td><td>2013-02-01</td><td>2013-03-31</td><td>2013-04-01</td><td>2013-06-30</td><td>5y </td></tr>\n",
       "\t<tr><td>roll-03    </td><td>2008-07-01</td><td>2013-04-30</td><td>2013-05-01</td><td>2013-06-30</td><td>2013-07-01</td><td>2013-09-30</td><td>5y </td></tr>\n",
       "\t<tr><td>roll-04    </td><td>2008-10-01</td><td>2013-07-30</td><td>2013-08-01</td><td>2013-09-30</td><td>2013-10-01</td><td>2013-12-30</td><td>5y </td></tr>\n",
       "\t<tr><td>roll-05    </td><td>2009-01-01</td><td>2013-10-30</td><td>2013-11-01</td><td>2013-12-30</td><td>2014-01-01</td><td>2014-03-30</td><td>5y </td></tr>\n",
       "\t<tr><td>roll-06    </td><td>2009-04-01</td><td>2014-01-30</td><td>2014-02-01</td><td>2014-03-30</td><td>2014-04-01</td><td>2014-06-30</td><td>5y </td></tr>\n",
       "\t<tr><td>roll-07    </td><td>2009-07-01</td><td>2014-04-30</td><td>2014-05-01</td><td>2014-06-30</td><td>2014-07-01</td><td>2014-09-30</td><td>5y </td></tr>\n",
       "\t<tr><td>roll-08    </td><td>2009-10-01</td><td>2014-07-30</td><td>2014-08-01</td><td>2014-09-30</td><td>2014-10-01</td><td>2014-12-30</td><td>5y </td></tr>\n",
       "\t<tr><td>roll-09    </td><td>2010-01-01</td><td>2014-10-30</td><td>2014-11-01</td><td>2014-12-30</td><td>2015-01-01</td><td>2015-03-30</td><td>5y </td></tr>\n",
       "\t<tr><td>roll-10    </td><td>2010-04-01</td><td>2015-01-30</td><td>2015-02-01</td><td>2015-03-30</td><td>2015-04-01</td><td>2015-06-30</td><td>5y </td></tr>\n",
       "\t<tr><td>roll-11    </td><td>2010-07-01</td><td>2015-04-30</td><td>2015-05-01</td><td>2015-06-30</td><td>2015-07-01</td><td>2015-09-30</td><td>5y </td></tr>\n",
       "\t<tr><td>roll-12    </td><td>2010-10-01</td><td>2015-07-30</td><td>2015-08-01</td><td>2015-09-30</td><td>2015-10-01</td><td>2015-12-30</td><td>5y </td></tr>\n",
       "\t<tr><td>roll-13    </td><td>2011-01-01</td><td>2015-10-30</td><td>2015-11-01</td><td>2015-12-30</td><td>2016-01-01</td><td>2016-03-30</td><td>5y </td></tr>\n",
       "\t<tr><td>roll-14    </td><td>2011-04-01</td><td>2016-01-30</td><td>2016-02-01</td><td>2016-03-30</td><td>2016-04-01</td><td>2016-06-30</td><td>5y </td></tr>\n",
       "\t<tr><td>roll-15    </td><td>2011-07-01</td><td>2016-04-30</td><td>2016-05-01</td><td>2016-06-30</td><td>2016-07-01</td><td>2016-09-30</td><td>5y </td></tr>\n",
       "\t<tr><td>roll-16    </td><td>2011-10-01</td><td>2016-07-30</td><td>2016-08-01</td><td>2016-09-30</td><td>2016-10-01</td><td>2016-12-30</td><td>5y </td></tr>\n",
       "\t<tr><td>roll-17    </td><td>2012-01-01</td><td>2016-10-30</td><td>2016-11-01</td><td>2016-12-30</td><td>2017-01-01</td><td>2017-03-30</td><td>5y </td></tr>\n",
       "\t<tr><td>roll-18    </td><td>2012-04-01</td><td>2017-01-30</td><td>2017-02-01</td><td>2017-03-30</td><td>2017-04-01</td><td>2017-06-30</td><td>5y </td></tr>\n",
       "\t<tr><td>roll-19    </td><td>2012-07-01</td><td>2017-04-30</td><td>2017-05-01</td><td>2017-06-30</td><td>2017-07-01</td><td>2017-09-30</td><td>5y </td></tr>\n",
       "\t<tr><td>roll-20    </td><td>2012-10-01</td><td>2017-07-30</td><td>2017-08-01</td><td>2017-09-30</td><td>2017-10-01</td><td>2017-12-30</td><td>5y </td></tr>\n",
       "\t<tr><td>roll-21    </td><td>2013-01-01</td><td>2017-10-30</td><td>2017-11-01</td><td>2017-12-30</td><td>2018-01-01</td><td>2018-03-30</td><td>5y </td></tr>\n",
       "\t<tr><td>roll-22    </td><td>2013-04-01</td><td>2018-01-30</td><td>2018-02-01</td><td>2018-03-30</td><td>2018-04-01</td><td>2018-06-30</td><td>5y </td></tr>\n",
       "\t<tr><td>roll-23    </td><td>2013-07-01</td><td>2018-04-30</td><td>2018-05-01</td><td>2018-06-30</td><td>2018-07-01</td><td>2018-09-30</td><td>5y </td></tr>\n",
       "\t<tr><td>roll-24    </td><td>2013-10-01</td><td>2018-07-30</td><td>2018-08-01</td><td>2018-09-30</td><td>2018-10-01</td><td>2018-12-30</td><td>5y </td></tr>\n",
       "\t<tr><td>non-roll-01</td><td>2008-01-01</td><td>2018-07-01</td><td>2018-07-01</td><td>2018-10-01</td><td>2018-10-01</td><td>2018-12-31</td><td>non</td></tr>\n",
       "</tbody>\n",
       "</table>\n"
      ],
      "text/latex": [
       "A data.table: 161 × 8\n",
       "\\begin{tabular}{llllllll}\n",
       " window & train\\_start & train\\_end & val\\_start & val\\_end & test\\_start & test\\_end & roll\\_type\\\\\n",
       " <chr> & <date> & <date> & <date> & <date> & <date> & <date> & <chr>\\\\\n",
       "\\hline\n",
       "\t roll-01 & 2008-01-01 & 2008-10-31 & 2008-11-01 & 2008-12-31 & 2009-01-01 & 2009-03-31 & 1y\\\\\n",
       "\t roll-02 & 2008-04-01 & 2009-01-31 & 2009-02-01 & 2009-03-31 & 2009-04-01 & 2009-06-30 & 1y\\\\\n",
       "\t roll-03 & 2008-07-01 & 2009-04-30 & 2009-05-01 & 2009-06-30 & 2009-07-01 & 2009-09-30 & 1y\\\\\n",
       "\t roll-04 & 2008-10-01 & 2009-07-30 & 2009-08-01 & 2009-09-30 & 2009-10-01 & 2009-12-30 & 1y\\\\\n",
       "\t roll-05 & 2009-01-01 & 2009-10-30 & 2009-11-01 & 2009-12-30 & 2010-01-01 & 2010-03-30 & 1y\\\\\n",
       "\t roll-06 & 2009-04-01 & 2010-01-30 & 2010-02-01 & 2010-03-30 & 2010-04-01 & 2010-06-30 & 1y\\\\\n",
       "\t roll-07 & 2009-07-01 & 2010-04-30 & 2010-05-01 & 2010-06-30 & 2010-07-01 & 2010-09-30 & 1y\\\\\n",
       "\t roll-08 & 2009-10-01 & 2010-07-30 & 2010-08-01 & 2010-09-30 & 2010-10-01 & 2010-12-30 & 1y\\\\\n",
       "\t roll-09 & 2010-01-01 & 2010-10-30 & 2010-11-01 & 2010-12-30 & 2011-01-01 & 2011-03-30 & 1y\\\\\n",
       "\t roll-10 & 2010-04-01 & 2011-01-30 & 2011-02-01 & 2011-03-30 & 2011-04-01 & 2011-06-30 & 1y\\\\\n",
       "\t roll-11 & 2010-07-01 & 2011-04-30 & 2011-05-01 & 2011-06-30 & 2011-07-01 & 2011-09-30 & 1y\\\\\n",
       "\t roll-12 & 2010-10-01 & 2011-07-30 & 2011-08-01 & 2011-09-30 & 2011-10-01 & 2011-12-30 & 1y\\\\\n",
       "\t roll-13 & 2011-01-01 & 2011-10-30 & 2011-11-01 & 2011-12-30 & 2012-01-01 & 2012-03-30 & 1y\\\\\n",
       "\t roll-14 & 2011-04-01 & 2012-01-30 & 2012-02-01 & 2012-03-30 & 2012-04-01 & 2012-06-30 & 1y\\\\\n",
       "\t roll-15 & 2011-07-01 & 2012-04-30 & 2012-05-01 & 2012-06-30 & 2012-07-01 & 2012-09-30 & 1y\\\\\n",
       "\t roll-16 & 2011-10-01 & 2012-07-30 & 2012-08-01 & 2012-09-30 & 2012-10-01 & 2012-12-30 & 1y\\\\\n",
       "\t roll-17 & 2012-01-01 & 2012-10-30 & 2012-11-01 & 2012-12-30 & 2013-01-01 & 2013-03-30 & 1y\\\\\n",
       "\t roll-18 & 2012-04-01 & 2013-01-30 & 2013-02-01 & 2013-03-30 & 2013-04-01 & 2013-06-30 & 1y\\\\\n",
       "\t roll-19 & 2012-07-01 & 2013-04-30 & 2013-05-01 & 2013-06-30 & 2013-07-01 & 2013-09-30 & 1y\\\\\n",
       "\t roll-20 & 2012-10-01 & 2013-07-30 & 2013-08-01 & 2013-09-30 & 2013-10-01 & 2013-12-30 & 1y\\\\\n",
       "\t roll-21 & 2013-01-01 & 2013-10-30 & 2013-11-01 & 2013-12-30 & 2014-01-01 & 2014-03-30 & 1y\\\\\n",
       "\t roll-22 & 2013-04-01 & 2014-01-30 & 2014-02-01 & 2014-03-30 & 2014-04-01 & 2014-06-30 & 1y\\\\\n",
       "\t roll-23 & 2013-07-01 & 2014-04-30 & 2014-05-01 & 2014-06-30 & 2014-07-01 & 2014-09-30 & 1y\\\\\n",
       "\t roll-24 & 2013-10-01 & 2014-07-30 & 2014-08-01 & 2014-09-30 & 2014-10-01 & 2014-12-30 & 1y\\\\\n",
       "\t roll-25 & 2014-01-01 & 2014-10-30 & 2014-11-01 & 2014-12-30 & 2015-01-01 & 2015-03-30 & 1y\\\\\n",
       "\t roll-26 & 2014-04-01 & 2015-01-30 & 2015-02-01 & 2015-03-30 & 2015-04-01 & 2015-06-30 & 1y\\\\\n",
       "\t roll-27 & 2014-07-01 & 2015-04-30 & 2015-05-01 & 2015-06-30 & 2015-07-01 & 2015-09-30 & 1y\\\\\n",
       "\t roll-28 & 2014-10-01 & 2015-07-30 & 2015-08-01 & 2015-09-30 & 2015-10-01 & 2015-12-30 & 1y\\\\\n",
       "\t roll-29 & 2015-01-01 & 2015-10-30 & 2015-11-01 & 2015-12-30 & 2016-01-01 & 2016-03-30 & 1y\\\\\n",
       "\t roll-30 & 2015-04-01 & 2016-01-30 & 2016-02-01 & 2016-03-30 & 2016-04-01 & 2016-06-30 & 1y\\\\\n",
       "\t roll-31 & 2015-07-01 & 2016-04-30 & 2016-05-01 & 2016-06-30 & 2016-07-01 & 2016-09-30 & 1y\\\\\n",
       "\t roll-32 & 2015-10-01 & 2016-07-30 & 2016-08-01 & 2016-09-30 & 2016-10-01 & 2016-12-30 & 1y\\\\\n",
       "\t roll-33 & 2016-01-01 & 2016-10-30 & 2016-11-01 & 2016-12-30 & 2017-01-01 & 2017-03-30 & 1y\\\\\n",
       "\t roll-34 & 2016-04-01 & 2017-01-30 & 2017-02-01 & 2017-03-30 & 2017-04-01 & 2017-06-30 & 1y\\\\\n",
       "\t roll-35 & 2016-07-01 & 2017-04-30 & 2017-05-01 & 2017-06-30 & 2017-07-01 & 2017-09-30 & 1y\\\\\n",
       "\t roll-36 & 2016-10-01 & 2017-07-30 & 2017-08-01 & 2017-09-30 & 2017-10-01 & 2017-12-30 & 1y\\\\\n",
       "\t roll-37 & 2017-01-01 & 2017-10-30 & 2017-11-01 & 2017-12-30 & 2018-01-01 & 2018-03-30 & 1y\\\\\n",
       "\t roll-38 & 2017-04-01 & 2018-01-30 & 2018-02-01 & 2018-03-30 & 2018-04-01 & 2018-06-30 & 1y\\\\\n",
       "\t roll-39 & 2017-07-01 & 2018-04-30 & 2018-05-01 & 2018-06-30 & 2018-07-01 & 2018-09-30 & 1y\\\\\n",
       "\t roll-40 & 2017-10-01 & 2018-07-30 & 2018-08-01 & 2018-09-30 & 2018-10-01 & 2018-12-30 & 1y\\\\\n",
       "\t roll-01 & 2008-01-01 & 2009-10-31 & 2009-11-01 & 2009-12-31 & 2010-01-01 & 2010-03-31 & 2y\\\\\n",
       "\t roll-02 & 2008-04-01 & 2010-01-31 & 2010-02-01 & 2010-03-31 & 2010-04-01 & 2010-06-30 & 2y\\\\\n",
       "\t roll-03 & 2008-07-01 & 2010-04-30 & 2010-05-01 & 2010-06-30 & 2010-07-01 & 2010-09-30 & 2y\\\\\n",
       "\t roll-04 & 2008-10-01 & 2010-07-30 & 2010-08-01 & 2010-09-30 & 2010-10-01 & 2010-12-30 & 2y\\\\\n",
       "\t roll-05 & 2009-01-01 & 2010-10-30 & 2010-11-01 & 2010-12-30 & 2011-01-01 & 2011-03-30 & 2y\\\\\n",
       "\t roll-06 & 2009-04-01 & 2011-01-30 & 2011-02-01 & 2011-03-30 & 2011-04-01 & 2011-06-30 & 2y\\\\\n",
       "\t roll-07 & 2009-07-01 & 2011-04-30 & 2011-05-01 & 2011-06-30 & 2011-07-01 & 2011-09-30 & 2y\\\\\n",
       "\t roll-08 & 2009-10-01 & 2011-07-30 & 2011-08-01 & 2011-09-30 & 2011-10-01 & 2011-12-30 & 2y\\\\\n",
       "\t roll-09 & 2010-01-01 & 2011-10-30 & 2011-11-01 & 2011-12-30 & 2012-01-01 & 2012-03-30 & 2y\\\\\n",
       "\t roll-10 & 2010-04-01 & 2012-01-30 & 2012-02-01 & 2012-03-30 & 2012-04-01 & 2012-06-30 & 2y\\\\\n",
       "\t ... & ... & ... & ... & ... & ... & ... & ...\\\\\n",
       "\t roll-04     & 2008-10-01 & 2012-07-30 & 2012-08-01 & 2012-09-30 & 2012-10-01 & 2012-12-30 & 4y \\\\\n",
       "\t roll-05     & 2009-01-01 & 2012-10-30 & 2012-11-01 & 2012-12-30 & 2013-01-01 & 2013-03-30 & 4y \\\\\n",
       "\t roll-06     & 2009-04-01 & 2013-01-30 & 2013-02-01 & 2013-03-30 & 2013-04-01 & 2013-06-30 & 4y \\\\\n",
       "\t roll-07     & 2009-07-01 & 2013-04-30 & 2013-05-01 & 2013-06-30 & 2013-07-01 & 2013-09-30 & 4y \\\\\n",
       "\t roll-08     & 2009-10-01 & 2013-07-30 & 2013-08-01 & 2013-09-30 & 2013-10-01 & 2013-12-30 & 4y \\\\\n",
       "\t roll-09     & 2010-01-01 & 2013-10-30 & 2013-11-01 & 2013-12-30 & 2014-01-01 & 2014-03-30 & 4y \\\\\n",
       "\t roll-10     & 2010-04-01 & 2014-01-30 & 2014-02-01 & 2014-03-30 & 2014-04-01 & 2014-06-30 & 4y \\\\\n",
       "\t roll-11     & 2010-07-01 & 2014-04-30 & 2014-05-01 & 2014-06-30 & 2014-07-01 & 2014-09-30 & 4y \\\\\n",
       "\t roll-12     & 2010-10-01 & 2014-07-30 & 2014-08-01 & 2014-09-30 & 2014-10-01 & 2014-12-30 & 4y \\\\\n",
       "\t roll-13     & 2011-01-01 & 2014-10-30 & 2014-11-01 & 2014-12-30 & 2015-01-01 & 2015-03-30 & 4y \\\\\n",
       "\t roll-14     & 2011-04-01 & 2015-01-30 & 2015-02-01 & 2015-03-30 & 2015-04-01 & 2015-06-30 & 4y \\\\\n",
       "\t roll-15     & 2011-07-01 & 2015-04-30 & 2015-05-01 & 2015-06-30 & 2015-07-01 & 2015-09-30 & 4y \\\\\n",
       "\t roll-16     & 2011-10-01 & 2015-07-30 & 2015-08-01 & 2015-09-30 & 2015-10-01 & 2015-12-30 & 4y \\\\\n",
       "\t roll-17     & 2012-01-01 & 2015-10-30 & 2015-11-01 & 2015-12-30 & 2016-01-01 & 2016-03-30 & 4y \\\\\n",
       "\t roll-18     & 2012-04-01 & 2016-01-30 & 2016-02-01 & 2016-03-30 & 2016-04-01 & 2016-06-30 & 4y \\\\\n",
       "\t roll-19     & 2012-07-01 & 2016-04-30 & 2016-05-01 & 2016-06-30 & 2016-07-01 & 2016-09-30 & 4y \\\\\n",
       "\t roll-20     & 2012-10-01 & 2016-07-30 & 2016-08-01 & 2016-09-30 & 2016-10-01 & 2016-12-30 & 4y \\\\\n",
       "\t roll-21     & 2013-01-01 & 2016-10-30 & 2016-11-01 & 2016-12-30 & 2017-01-01 & 2017-03-30 & 4y \\\\\n",
       "\t roll-22     & 2013-04-01 & 2017-01-30 & 2017-02-01 & 2017-03-30 & 2017-04-01 & 2017-06-30 & 4y \\\\\n",
       "\t roll-23     & 2013-07-01 & 2017-04-30 & 2017-05-01 & 2017-06-30 & 2017-07-01 & 2017-09-30 & 4y \\\\\n",
       "\t roll-24     & 2013-10-01 & 2017-07-30 & 2017-08-01 & 2017-09-30 & 2017-10-01 & 2017-12-30 & 4y \\\\\n",
       "\t roll-25     & 2014-01-01 & 2017-10-30 & 2017-11-01 & 2017-12-30 & 2018-01-01 & 2018-03-30 & 4y \\\\\n",
       "\t roll-26     & 2014-04-01 & 2018-01-30 & 2018-02-01 & 2018-03-30 & 2018-04-01 & 2018-06-30 & 4y \\\\\n",
       "\t roll-27     & 2014-07-01 & 2018-04-30 & 2018-05-01 & 2018-06-30 & 2018-07-01 & 2018-09-30 & 4y \\\\\n",
       "\t roll-28     & 2014-10-01 & 2018-07-30 & 2018-08-01 & 2018-09-30 & 2018-10-01 & 2018-12-30 & 4y \\\\\n",
       "\t roll-01     & 2008-01-01 & 2012-10-31 & 2012-11-01 & 2012-12-31 & 2013-01-01 & 2013-03-31 & 5y \\\\\n",
       "\t roll-02     & 2008-04-01 & 2013-01-31 & 2013-02-01 & 2013-03-31 & 2013-04-01 & 2013-06-30 & 5y \\\\\n",
       "\t roll-03     & 2008-07-01 & 2013-04-30 & 2013-05-01 & 2013-06-30 & 2013-07-01 & 2013-09-30 & 5y \\\\\n",
       "\t roll-04     & 2008-10-01 & 2013-07-30 & 2013-08-01 & 2013-09-30 & 2013-10-01 & 2013-12-30 & 5y \\\\\n",
       "\t roll-05     & 2009-01-01 & 2013-10-30 & 2013-11-01 & 2013-12-30 & 2014-01-01 & 2014-03-30 & 5y \\\\\n",
       "\t roll-06     & 2009-04-01 & 2014-01-30 & 2014-02-01 & 2014-03-30 & 2014-04-01 & 2014-06-30 & 5y \\\\\n",
       "\t roll-07     & 2009-07-01 & 2014-04-30 & 2014-05-01 & 2014-06-30 & 2014-07-01 & 2014-09-30 & 5y \\\\\n",
       "\t roll-08     & 2009-10-01 & 2014-07-30 & 2014-08-01 & 2014-09-30 & 2014-10-01 & 2014-12-30 & 5y \\\\\n",
       "\t roll-09     & 2010-01-01 & 2014-10-30 & 2014-11-01 & 2014-12-30 & 2015-01-01 & 2015-03-30 & 5y \\\\\n",
       "\t roll-10     & 2010-04-01 & 2015-01-30 & 2015-02-01 & 2015-03-30 & 2015-04-01 & 2015-06-30 & 5y \\\\\n",
       "\t roll-11     & 2010-07-01 & 2015-04-30 & 2015-05-01 & 2015-06-30 & 2015-07-01 & 2015-09-30 & 5y \\\\\n",
       "\t roll-12     & 2010-10-01 & 2015-07-30 & 2015-08-01 & 2015-09-30 & 2015-10-01 & 2015-12-30 & 5y \\\\\n",
       "\t roll-13     & 2011-01-01 & 2015-10-30 & 2015-11-01 & 2015-12-30 & 2016-01-01 & 2016-03-30 & 5y \\\\\n",
       "\t roll-14     & 2011-04-01 & 2016-01-30 & 2016-02-01 & 2016-03-30 & 2016-04-01 & 2016-06-30 & 5y \\\\\n",
       "\t roll-15     & 2011-07-01 & 2016-04-30 & 2016-05-01 & 2016-06-30 & 2016-07-01 & 2016-09-30 & 5y \\\\\n",
       "\t roll-16     & 2011-10-01 & 2016-07-30 & 2016-08-01 & 2016-09-30 & 2016-10-01 & 2016-12-30 & 5y \\\\\n",
       "\t roll-17     & 2012-01-01 & 2016-10-30 & 2016-11-01 & 2016-12-30 & 2017-01-01 & 2017-03-30 & 5y \\\\\n",
       "\t roll-18     & 2012-04-01 & 2017-01-30 & 2017-02-01 & 2017-03-30 & 2017-04-01 & 2017-06-30 & 5y \\\\\n",
       "\t roll-19     & 2012-07-01 & 2017-04-30 & 2017-05-01 & 2017-06-30 & 2017-07-01 & 2017-09-30 & 5y \\\\\n",
       "\t roll-20     & 2012-10-01 & 2017-07-30 & 2017-08-01 & 2017-09-30 & 2017-10-01 & 2017-12-30 & 5y \\\\\n",
       "\t roll-21     & 2013-01-01 & 2017-10-30 & 2017-11-01 & 2017-12-30 & 2018-01-01 & 2018-03-30 & 5y \\\\\n",
       "\t roll-22     & 2013-04-01 & 2018-01-30 & 2018-02-01 & 2018-03-30 & 2018-04-01 & 2018-06-30 & 5y \\\\\n",
       "\t roll-23     & 2013-07-01 & 2018-04-30 & 2018-05-01 & 2018-06-30 & 2018-07-01 & 2018-09-30 & 5y \\\\\n",
       "\t roll-24     & 2013-10-01 & 2018-07-30 & 2018-08-01 & 2018-09-30 & 2018-10-01 & 2018-12-30 & 5y \\\\\n",
       "\t non-roll-01 & 2008-01-01 & 2018-07-01 & 2018-07-01 & 2018-10-01 & 2018-10-01 & 2018-12-31 & non\\\\\n",
       "\\end{tabular}\n"
      ],
      "text/markdown": [
       "\n",
       "A data.table: 161 × 8\n",
       "\n",
       "| window &lt;chr&gt; | train_start &lt;date&gt; | train_end &lt;date&gt; | val_start &lt;date&gt; | val_end &lt;date&gt; | test_start &lt;date&gt; | test_end &lt;date&gt; | roll_type &lt;chr&gt; |\n",
       "|---|---|---|---|---|---|---|---|\n",
       "| roll-01 | 2008-01-01 | 2008-10-31 | 2008-11-01 | 2008-12-31 | 2009-01-01 | 2009-03-31 | 1y |\n",
       "| roll-02 | 2008-04-01 | 2009-01-31 | 2009-02-01 | 2009-03-31 | 2009-04-01 | 2009-06-30 | 1y |\n",
       "| roll-03 | 2008-07-01 | 2009-04-30 | 2009-05-01 | 2009-06-30 | 2009-07-01 | 2009-09-30 | 1y |\n",
       "| roll-04 | 2008-10-01 | 2009-07-30 | 2009-08-01 | 2009-09-30 | 2009-10-01 | 2009-12-30 | 1y |\n",
       "| roll-05 | 2009-01-01 | 2009-10-30 | 2009-11-01 | 2009-12-30 | 2010-01-01 | 2010-03-30 | 1y |\n",
       "| roll-06 | 2009-04-01 | 2010-01-30 | 2010-02-01 | 2010-03-30 | 2010-04-01 | 2010-06-30 | 1y |\n",
       "| roll-07 | 2009-07-01 | 2010-04-30 | 2010-05-01 | 2010-06-30 | 2010-07-01 | 2010-09-30 | 1y |\n",
       "| roll-08 | 2009-10-01 | 2010-07-30 | 2010-08-01 | 2010-09-30 | 2010-10-01 | 2010-12-30 | 1y |\n",
       "| roll-09 | 2010-01-01 | 2010-10-30 | 2010-11-01 | 2010-12-30 | 2011-01-01 | 2011-03-30 | 1y |\n",
       "| roll-10 | 2010-04-01 | 2011-01-30 | 2011-02-01 | 2011-03-30 | 2011-04-01 | 2011-06-30 | 1y |\n",
       "| roll-11 | 2010-07-01 | 2011-04-30 | 2011-05-01 | 2011-06-30 | 2011-07-01 | 2011-09-30 | 1y |\n",
       "| roll-12 | 2010-10-01 | 2011-07-30 | 2011-08-01 | 2011-09-30 | 2011-10-01 | 2011-12-30 | 1y |\n",
       "| roll-13 | 2011-01-01 | 2011-10-30 | 2011-11-01 | 2011-12-30 | 2012-01-01 | 2012-03-30 | 1y |\n",
       "| roll-14 | 2011-04-01 | 2012-01-30 | 2012-02-01 | 2012-03-30 | 2012-04-01 | 2012-06-30 | 1y |\n",
       "| roll-15 | 2011-07-01 | 2012-04-30 | 2012-05-01 | 2012-06-30 | 2012-07-01 | 2012-09-30 | 1y |\n",
       "| roll-16 | 2011-10-01 | 2012-07-30 | 2012-08-01 | 2012-09-30 | 2012-10-01 | 2012-12-30 | 1y |\n",
       "| roll-17 | 2012-01-01 | 2012-10-30 | 2012-11-01 | 2012-12-30 | 2013-01-01 | 2013-03-30 | 1y |\n",
       "| roll-18 | 2012-04-01 | 2013-01-30 | 2013-02-01 | 2013-03-30 | 2013-04-01 | 2013-06-30 | 1y |\n",
       "| roll-19 | 2012-07-01 | 2013-04-30 | 2013-05-01 | 2013-06-30 | 2013-07-01 | 2013-09-30 | 1y |\n",
       "| roll-20 | 2012-10-01 | 2013-07-30 | 2013-08-01 | 2013-09-30 | 2013-10-01 | 2013-12-30 | 1y |\n",
       "| roll-21 | 2013-01-01 | 2013-10-30 | 2013-11-01 | 2013-12-30 | 2014-01-01 | 2014-03-30 | 1y |\n",
       "| roll-22 | 2013-04-01 | 2014-01-30 | 2014-02-01 | 2014-03-30 | 2014-04-01 | 2014-06-30 | 1y |\n",
       "| roll-23 | 2013-07-01 | 2014-04-30 | 2014-05-01 | 2014-06-30 | 2014-07-01 | 2014-09-30 | 1y |\n",
       "| roll-24 | 2013-10-01 | 2014-07-30 | 2014-08-01 | 2014-09-30 | 2014-10-01 | 2014-12-30 | 1y |\n",
       "| roll-25 | 2014-01-01 | 2014-10-30 | 2014-11-01 | 2014-12-30 | 2015-01-01 | 2015-03-30 | 1y |\n",
       "| roll-26 | 2014-04-01 | 2015-01-30 | 2015-02-01 | 2015-03-30 | 2015-04-01 | 2015-06-30 | 1y |\n",
       "| roll-27 | 2014-07-01 | 2015-04-30 | 2015-05-01 | 2015-06-30 | 2015-07-01 | 2015-09-30 | 1y |\n",
       "| roll-28 | 2014-10-01 | 2015-07-30 | 2015-08-01 | 2015-09-30 | 2015-10-01 | 2015-12-30 | 1y |\n",
       "| roll-29 | 2015-01-01 | 2015-10-30 | 2015-11-01 | 2015-12-30 | 2016-01-01 | 2016-03-30 | 1y |\n",
       "| roll-30 | 2015-04-01 | 2016-01-30 | 2016-02-01 | 2016-03-30 | 2016-04-01 | 2016-06-30 | 1y |\n",
       "| roll-31 | 2015-07-01 | 2016-04-30 | 2016-05-01 | 2016-06-30 | 2016-07-01 | 2016-09-30 | 1y |\n",
       "| roll-32 | 2015-10-01 | 2016-07-30 | 2016-08-01 | 2016-09-30 | 2016-10-01 | 2016-12-30 | 1y |\n",
       "| roll-33 | 2016-01-01 | 2016-10-30 | 2016-11-01 | 2016-12-30 | 2017-01-01 | 2017-03-30 | 1y |\n",
       "| roll-34 | 2016-04-01 | 2017-01-30 | 2017-02-01 | 2017-03-30 | 2017-04-01 | 2017-06-30 | 1y |\n",
       "| roll-35 | 2016-07-01 | 2017-04-30 | 2017-05-01 | 2017-06-30 | 2017-07-01 | 2017-09-30 | 1y |\n",
       "| roll-36 | 2016-10-01 | 2017-07-30 | 2017-08-01 | 2017-09-30 | 2017-10-01 | 2017-12-30 | 1y |\n",
       "| roll-37 | 2017-01-01 | 2017-10-30 | 2017-11-01 | 2017-12-30 | 2018-01-01 | 2018-03-30 | 1y |\n",
       "| roll-38 | 2017-04-01 | 2018-01-30 | 2018-02-01 | 2018-03-30 | 2018-04-01 | 2018-06-30 | 1y |\n",
       "| roll-39 | 2017-07-01 | 2018-04-30 | 2018-05-01 | 2018-06-30 | 2018-07-01 | 2018-09-30 | 1y |\n",
       "| roll-40 | 2017-10-01 | 2018-07-30 | 2018-08-01 | 2018-09-30 | 2018-10-01 | 2018-12-30 | 1y |\n",
       "| roll-01 | 2008-01-01 | 2009-10-31 | 2009-11-01 | 2009-12-31 | 2010-01-01 | 2010-03-31 | 2y |\n",
       "| roll-02 | 2008-04-01 | 2010-01-31 | 2010-02-01 | 2010-03-31 | 2010-04-01 | 2010-06-30 | 2y |\n",
       "| roll-03 | 2008-07-01 | 2010-04-30 | 2010-05-01 | 2010-06-30 | 2010-07-01 | 2010-09-30 | 2y |\n",
       "| roll-04 | 2008-10-01 | 2010-07-30 | 2010-08-01 | 2010-09-30 | 2010-10-01 | 2010-12-30 | 2y |\n",
       "| roll-05 | 2009-01-01 | 2010-10-30 | 2010-11-01 | 2010-12-30 | 2011-01-01 | 2011-03-30 | 2y |\n",
       "| roll-06 | 2009-04-01 | 2011-01-30 | 2011-02-01 | 2011-03-30 | 2011-04-01 | 2011-06-30 | 2y |\n",
       "| roll-07 | 2009-07-01 | 2011-04-30 | 2011-05-01 | 2011-06-30 | 2011-07-01 | 2011-09-30 | 2y |\n",
       "| roll-08 | 2009-10-01 | 2011-07-30 | 2011-08-01 | 2011-09-30 | 2011-10-01 | 2011-12-30 | 2y |\n",
       "| roll-09 | 2010-01-01 | 2011-10-30 | 2011-11-01 | 2011-12-30 | 2012-01-01 | 2012-03-30 | 2y |\n",
       "| roll-10 | 2010-04-01 | 2012-01-30 | 2012-02-01 | 2012-03-30 | 2012-04-01 | 2012-06-30 | 2y |\n",
       "| ... | ... | ... | ... | ... | ... | ... | ... |\n",
       "| roll-04     | 2008-10-01 | 2012-07-30 | 2012-08-01 | 2012-09-30 | 2012-10-01 | 2012-12-30 | 4y  |\n",
       "| roll-05     | 2009-01-01 | 2012-10-30 | 2012-11-01 | 2012-12-30 | 2013-01-01 | 2013-03-30 | 4y  |\n",
       "| roll-06     | 2009-04-01 | 2013-01-30 | 2013-02-01 | 2013-03-30 | 2013-04-01 | 2013-06-30 | 4y  |\n",
       "| roll-07     | 2009-07-01 | 2013-04-30 | 2013-05-01 | 2013-06-30 | 2013-07-01 | 2013-09-30 | 4y  |\n",
       "| roll-08     | 2009-10-01 | 2013-07-30 | 2013-08-01 | 2013-09-30 | 2013-10-01 | 2013-12-30 | 4y  |\n",
       "| roll-09     | 2010-01-01 | 2013-10-30 | 2013-11-01 | 2013-12-30 | 2014-01-01 | 2014-03-30 | 4y  |\n",
       "| roll-10     | 2010-04-01 | 2014-01-30 | 2014-02-01 | 2014-03-30 | 2014-04-01 | 2014-06-30 | 4y  |\n",
       "| roll-11     | 2010-07-01 | 2014-04-30 | 2014-05-01 | 2014-06-30 | 2014-07-01 | 2014-09-30 | 4y  |\n",
       "| roll-12     | 2010-10-01 | 2014-07-30 | 2014-08-01 | 2014-09-30 | 2014-10-01 | 2014-12-30 | 4y  |\n",
       "| roll-13     | 2011-01-01 | 2014-10-30 | 2014-11-01 | 2014-12-30 | 2015-01-01 | 2015-03-30 | 4y  |\n",
       "| roll-14     | 2011-04-01 | 2015-01-30 | 2015-02-01 | 2015-03-30 | 2015-04-01 | 2015-06-30 | 4y  |\n",
       "| roll-15     | 2011-07-01 | 2015-04-30 | 2015-05-01 | 2015-06-30 | 2015-07-01 | 2015-09-30 | 4y  |\n",
       "| roll-16     | 2011-10-01 | 2015-07-30 | 2015-08-01 | 2015-09-30 | 2015-10-01 | 2015-12-30 | 4y  |\n",
       "| roll-17     | 2012-01-01 | 2015-10-30 | 2015-11-01 | 2015-12-30 | 2016-01-01 | 2016-03-30 | 4y  |\n",
       "| roll-18     | 2012-04-01 | 2016-01-30 | 2016-02-01 | 2016-03-30 | 2016-04-01 | 2016-06-30 | 4y  |\n",
       "| roll-19     | 2012-07-01 | 2016-04-30 | 2016-05-01 | 2016-06-30 | 2016-07-01 | 2016-09-30 | 4y  |\n",
       "| roll-20     | 2012-10-01 | 2016-07-30 | 2016-08-01 | 2016-09-30 | 2016-10-01 | 2016-12-30 | 4y  |\n",
       "| roll-21     | 2013-01-01 | 2016-10-30 | 2016-11-01 | 2016-12-30 | 2017-01-01 | 2017-03-30 | 4y  |\n",
       "| roll-22     | 2013-04-01 | 2017-01-30 | 2017-02-01 | 2017-03-30 | 2017-04-01 | 2017-06-30 | 4y  |\n",
       "| roll-23     | 2013-07-01 | 2017-04-30 | 2017-05-01 | 2017-06-30 | 2017-07-01 | 2017-09-30 | 4y  |\n",
       "| roll-24     | 2013-10-01 | 2017-07-30 | 2017-08-01 | 2017-09-30 | 2017-10-01 | 2017-12-30 | 4y  |\n",
       "| roll-25     | 2014-01-01 | 2017-10-30 | 2017-11-01 | 2017-12-30 | 2018-01-01 | 2018-03-30 | 4y  |\n",
       "| roll-26     | 2014-04-01 | 2018-01-30 | 2018-02-01 | 2018-03-30 | 2018-04-01 | 2018-06-30 | 4y  |\n",
       "| roll-27     | 2014-07-01 | 2018-04-30 | 2018-05-01 | 2018-06-30 | 2018-07-01 | 2018-09-30 | 4y  |\n",
       "| roll-28     | 2014-10-01 | 2018-07-30 | 2018-08-01 | 2018-09-30 | 2018-10-01 | 2018-12-30 | 4y  |\n",
       "| roll-01     | 2008-01-01 | 2012-10-31 | 2012-11-01 | 2012-12-31 | 2013-01-01 | 2013-03-31 | 5y  |\n",
       "| roll-02     | 2008-04-01 | 2013-01-31 | 2013-02-01 | 2013-03-31 | 2013-04-01 | 2013-06-30 | 5y  |\n",
       "| roll-03     | 2008-07-01 | 2013-04-30 | 2013-05-01 | 2013-06-30 | 2013-07-01 | 2013-09-30 | 5y  |\n",
       "| roll-04     | 2008-10-01 | 2013-07-30 | 2013-08-01 | 2013-09-30 | 2013-10-01 | 2013-12-30 | 5y  |\n",
       "| roll-05     | 2009-01-01 | 2013-10-30 | 2013-11-01 | 2013-12-30 | 2014-01-01 | 2014-03-30 | 5y  |\n",
       "| roll-06     | 2009-04-01 | 2014-01-30 | 2014-02-01 | 2014-03-30 | 2014-04-01 | 2014-06-30 | 5y  |\n",
       "| roll-07     | 2009-07-01 | 2014-04-30 | 2014-05-01 | 2014-06-30 | 2014-07-01 | 2014-09-30 | 5y  |\n",
       "| roll-08     | 2009-10-01 | 2014-07-30 | 2014-08-01 | 2014-09-30 | 2014-10-01 | 2014-12-30 | 5y  |\n",
       "| roll-09     | 2010-01-01 | 2014-10-30 | 2014-11-01 | 2014-12-30 | 2015-01-01 | 2015-03-30 | 5y  |\n",
       "| roll-10     | 2010-04-01 | 2015-01-30 | 2015-02-01 | 2015-03-30 | 2015-04-01 | 2015-06-30 | 5y  |\n",
       "| roll-11     | 2010-07-01 | 2015-04-30 | 2015-05-01 | 2015-06-30 | 2015-07-01 | 2015-09-30 | 5y  |\n",
       "| roll-12     | 2010-10-01 | 2015-07-30 | 2015-08-01 | 2015-09-30 | 2015-10-01 | 2015-12-30 | 5y  |\n",
       "| roll-13     | 2011-01-01 | 2015-10-30 | 2015-11-01 | 2015-12-30 | 2016-01-01 | 2016-03-30 | 5y  |\n",
       "| roll-14     | 2011-04-01 | 2016-01-30 | 2016-02-01 | 2016-03-30 | 2016-04-01 | 2016-06-30 | 5y  |\n",
       "| roll-15     | 2011-07-01 | 2016-04-30 | 2016-05-01 | 2016-06-30 | 2016-07-01 | 2016-09-30 | 5y  |\n",
       "| roll-16     | 2011-10-01 | 2016-07-30 | 2016-08-01 | 2016-09-30 | 2016-10-01 | 2016-12-30 | 5y  |\n",
       "| roll-17     | 2012-01-01 | 2016-10-30 | 2016-11-01 | 2016-12-30 | 2017-01-01 | 2017-03-30 | 5y  |\n",
       "| roll-18     | 2012-04-01 | 2017-01-30 | 2017-02-01 | 2017-03-30 | 2017-04-01 | 2017-06-30 | 5y  |\n",
       "| roll-19     | 2012-07-01 | 2017-04-30 | 2017-05-01 | 2017-06-30 | 2017-07-01 | 2017-09-30 | 5y  |\n",
       "| roll-20     | 2012-10-01 | 2017-07-30 | 2017-08-01 | 2017-09-30 | 2017-10-01 | 2017-12-30 | 5y  |\n",
       "| roll-21     | 2013-01-01 | 2017-10-30 | 2017-11-01 | 2017-12-30 | 2018-01-01 | 2018-03-30 | 5y  |\n",
       "| roll-22     | 2013-04-01 | 2018-01-30 | 2018-02-01 | 2018-03-30 | 2018-04-01 | 2018-06-30 | 5y  |\n",
       "| roll-23     | 2013-07-01 | 2018-04-30 | 2018-05-01 | 2018-06-30 | 2018-07-01 | 2018-09-30 | 5y  |\n",
       "| roll-24     | 2013-10-01 | 2018-07-30 | 2018-08-01 | 2018-09-30 | 2018-10-01 | 2018-12-30 | 5y  |\n",
       "| non-roll-01 | 2008-01-01 | 2018-07-01 | 2018-07-01 | 2018-10-01 | 2018-10-01 | 2018-12-31 | non |\n",
       "\n"
      ],
      "text/plain": [
       "    window      train_start train_end  val_start  val_end    test_start\n",
       "1   roll-01     2008-01-01  2008-10-31 2008-11-01 2008-12-31 2009-01-01\n",
       "2   roll-02     2008-04-01  2009-01-31 2009-02-01 2009-03-31 2009-04-01\n",
       "3   roll-03     2008-07-01  2009-04-30 2009-05-01 2009-06-30 2009-07-01\n",
       "4   roll-04     2008-10-01  2009-07-30 2009-08-01 2009-09-30 2009-10-01\n",
       "5   roll-05     2009-01-01  2009-10-30 2009-11-01 2009-12-30 2010-01-01\n",
       "6   roll-06     2009-04-01  2010-01-30 2010-02-01 2010-03-30 2010-04-01\n",
       "7   roll-07     2009-07-01  2010-04-30 2010-05-01 2010-06-30 2010-07-01\n",
       "8   roll-08     2009-10-01  2010-07-30 2010-08-01 2010-09-30 2010-10-01\n",
       "9   roll-09     2010-01-01  2010-10-30 2010-11-01 2010-12-30 2011-01-01\n",
       "10  roll-10     2010-04-01  2011-01-30 2011-02-01 2011-03-30 2011-04-01\n",
       "11  roll-11     2010-07-01  2011-04-30 2011-05-01 2011-06-30 2011-07-01\n",
       "12  roll-12     2010-10-01  2011-07-30 2011-08-01 2011-09-30 2011-10-01\n",
       "13  roll-13     2011-01-01  2011-10-30 2011-11-01 2011-12-30 2012-01-01\n",
       "14  roll-14     2011-04-01  2012-01-30 2012-02-01 2012-03-30 2012-04-01\n",
       "15  roll-15     2011-07-01  2012-04-30 2012-05-01 2012-06-30 2012-07-01\n",
       "16  roll-16     2011-10-01  2012-07-30 2012-08-01 2012-09-30 2012-10-01\n",
       "17  roll-17     2012-01-01  2012-10-30 2012-11-01 2012-12-30 2013-01-01\n",
       "18  roll-18     2012-04-01  2013-01-30 2013-02-01 2013-03-30 2013-04-01\n",
       "19  roll-19     2012-07-01  2013-04-30 2013-05-01 2013-06-30 2013-07-01\n",
       "20  roll-20     2012-10-01  2013-07-30 2013-08-01 2013-09-30 2013-10-01\n",
       "21  roll-21     2013-01-01  2013-10-30 2013-11-01 2013-12-30 2014-01-01\n",
       "22  roll-22     2013-04-01  2014-01-30 2014-02-01 2014-03-30 2014-04-01\n",
       "23  roll-23     2013-07-01  2014-04-30 2014-05-01 2014-06-30 2014-07-01\n",
       "24  roll-24     2013-10-01  2014-07-30 2014-08-01 2014-09-30 2014-10-01\n",
       "25  roll-25     2014-01-01  2014-10-30 2014-11-01 2014-12-30 2015-01-01\n",
       "26  roll-26     2014-04-01  2015-01-30 2015-02-01 2015-03-30 2015-04-01\n",
       "27  roll-27     2014-07-01  2015-04-30 2015-05-01 2015-06-30 2015-07-01\n",
       "28  roll-28     2014-10-01  2015-07-30 2015-08-01 2015-09-30 2015-10-01\n",
       "29  roll-29     2015-01-01  2015-10-30 2015-11-01 2015-12-30 2016-01-01\n",
       "30  roll-30     2015-04-01  2016-01-30 2016-02-01 2016-03-30 2016-04-01\n",
       "31  roll-31     2015-07-01  2016-04-30 2016-05-01 2016-06-30 2016-07-01\n",
       "32  roll-32     2015-10-01  2016-07-30 2016-08-01 2016-09-30 2016-10-01\n",
       "33  roll-33     2016-01-01  2016-10-30 2016-11-01 2016-12-30 2017-01-01\n",
       "34  roll-34     2016-04-01  2017-01-30 2017-02-01 2017-03-30 2017-04-01\n",
       "35  roll-35     2016-07-01  2017-04-30 2017-05-01 2017-06-30 2017-07-01\n",
       "36  roll-36     2016-10-01  2017-07-30 2017-08-01 2017-09-30 2017-10-01\n",
       "37  roll-37     2017-01-01  2017-10-30 2017-11-01 2017-12-30 2018-01-01\n",
       "38  roll-38     2017-04-01  2018-01-30 2018-02-01 2018-03-30 2018-04-01\n",
       "39  roll-39     2017-07-01  2018-04-30 2018-05-01 2018-06-30 2018-07-01\n",
       "40  roll-40     2017-10-01  2018-07-30 2018-08-01 2018-09-30 2018-10-01\n",
       "41  roll-01     2008-01-01  2009-10-31 2009-11-01 2009-12-31 2010-01-01\n",
       "42  roll-02     2008-04-01  2010-01-31 2010-02-01 2010-03-31 2010-04-01\n",
       "43  roll-03     2008-07-01  2010-04-30 2010-05-01 2010-06-30 2010-07-01\n",
       "44  roll-04     2008-10-01  2010-07-30 2010-08-01 2010-09-30 2010-10-01\n",
       "45  roll-05     2009-01-01  2010-10-30 2010-11-01 2010-12-30 2011-01-01\n",
       "46  roll-06     2009-04-01  2011-01-30 2011-02-01 2011-03-30 2011-04-01\n",
       "47  roll-07     2009-07-01  2011-04-30 2011-05-01 2011-06-30 2011-07-01\n",
       "48  roll-08     2009-10-01  2011-07-30 2011-08-01 2011-09-30 2011-10-01\n",
       "49  roll-09     2010-01-01  2011-10-30 2011-11-01 2011-12-30 2012-01-01\n",
       "50  roll-10     2010-04-01  2012-01-30 2012-02-01 2012-03-30 2012-04-01\n",
       "... ...         ...         ...        ...        ...        ...       \n",
       "112 roll-04     2008-10-01  2012-07-30 2012-08-01 2012-09-30 2012-10-01\n",
       "113 roll-05     2009-01-01  2012-10-30 2012-11-01 2012-12-30 2013-01-01\n",
       "114 roll-06     2009-04-01  2013-01-30 2013-02-01 2013-03-30 2013-04-01\n",
       "115 roll-07     2009-07-01  2013-04-30 2013-05-01 2013-06-30 2013-07-01\n",
       "116 roll-08     2009-10-01  2013-07-30 2013-08-01 2013-09-30 2013-10-01\n",
       "117 roll-09     2010-01-01  2013-10-30 2013-11-01 2013-12-30 2014-01-01\n",
       "118 roll-10     2010-04-01  2014-01-30 2014-02-01 2014-03-30 2014-04-01\n",
       "119 roll-11     2010-07-01  2014-04-30 2014-05-01 2014-06-30 2014-07-01\n",
       "120 roll-12     2010-10-01  2014-07-30 2014-08-01 2014-09-30 2014-10-01\n",
       "121 roll-13     2011-01-01  2014-10-30 2014-11-01 2014-12-30 2015-01-01\n",
       "122 roll-14     2011-04-01  2015-01-30 2015-02-01 2015-03-30 2015-04-01\n",
       "123 roll-15     2011-07-01  2015-04-30 2015-05-01 2015-06-30 2015-07-01\n",
       "124 roll-16     2011-10-01  2015-07-30 2015-08-01 2015-09-30 2015-10-01\n",
       "125 roll-17     2012-01-01  2015-10-30 2015-11-01 2015-12-30 2016-01-01\n",
       "126 roll-18     2012-04-01  2016-01-30 2016-02-01 2016-03-30 2016-04-01\n",
       "127 roll-19     2012-07-01  2016-04-30 2016-05-01 2016-06-30 2016-07-01\n",
       "128 roll-20     2012-10-01  2016-07-30 2016-08-01 2016-09-30 2016-10-01\n",
       "129 roll-21     2013-01-01  2016-10-30 2016-11-01 2016-12-30 2017-01-01\n",
       "130 roll-22     2013-04-01  2017-01-30 2017-02-01 2017-03-30 2017-04-01\n",
       "131 roll-23     2013-07-01  2017-04-30 2017-05-01 2017-06-30 2017-07-01\n",
       "132 roll-24     2013-10-01  2017-07-30 2017-08-01 2017-09-30 2017-10-01\n",
       "133 roll-25     2014-01-01  2017-10-30 2017-11-01 2017-12-30 2018-01-01\n",
       "134 roll-26     2014-04-01  2018-01-30 2018-02-01 2018-03-30 2018-04-01\n",
       "135 roll-27     2014-07-01  2018-04-30 2018-05-01 2018-06-30 2018-07-01\n",
       "136 roll-28     2014-10-01  2018-07-30 2018-08-01 2018-09-30 2018-10-01\n",
       "137 roll-01     2008-01-01  2012-10-31 2012-11-01 2012-12-31 2013-01-01\n",
       "138 roll-02     2008-04-01  2013-01-31 2013-02-01 2013-03-31 2013-04-01\n",
       "139 roll-03     2008-07-01  2013-04-30 2013-05-01 2013-06-30 2013-07-01\n",
       "140 roll-04     2008-10-01  2013-07-30 2013-08-01 2013-09-30 2013-10-01\n",
       "141 roll-05     2009-01-01  2013-10-30 2013-11-01 2013-12-30 2014-01-01\n",
       "142 roll-06     2009-04-01  2014-01-30 2014-02-01 2014-03-30 2014-04-01\n",
       "143 roll-07     2009-07-01  2014-04-30 2014-05-01 2014-06-30 2014-07-01\n",
       "144 roll-08     2009-10-01  2014-07-30 2014-08-01 2014-09-30 2014-10-01\n",
       "145 roll-09     2010-01-01  2014-10-30 2014-11-01 2014-12-30 2015-01-01\n",
       "146 roll-10     2010-04-01  2015-01-30 2015-02-01 2015-03-30 2015-04-01\n",
       "147 roll-11     2010-07-01  2015-04-30 2015-05-01 2015-06-30 2015-07-01\n",
       "148 roll-12     2010-10-01  2015-07-30 2015-08-01 2015-09-30 2015-10-01\n",
       "149 roll-13     2011-01-01  2015-10-30 2015-11-01 2015-12-30 2016-01-01\n",
       "150 roll-14     2011-04-01  2016-01-30 2016-02-01 2016-03-30 2016-04-01\n",
       "151 roll-15     2011-07-01  2016-04-30 2016-05-01 2016-06-30 2016-07-01\n",
       "152 roll-16     2011-10-01  2016-07-30 2016-08-01 2016-09-30 2016-10-01\n",
       "153 roll-17     2012-01-01  2016-10-30 2016-11-01 2016-12-30 2017-01-01\n",
       "154 roll-18     2012-04-01  2017-01-30 2017-02-01 2017-03-30 2017-04-01\n",
       "155 roll-19     2012-07-01  2017-04-30 2017-05-01 2017-06-30 2017-07-01\n",
       "156 roll-20     2012-10-01  2017-07-30 2017-08-01 2017-09-30 2017-10-01\n",
       "157 roll-21     2013-01-01  2017-10-30 2017-11-01 2017-12-30 2018-01-01\n",
       "158 roll-22     2013-04-01  2018-01-30 2018-02-01 2018-03-30 2018-04-01\n",
       "159 roll-23     2013-07-01  2018-04-30 2018-05-01 2018-06-30 2018-07-01\n",
       "160 roll-24     2013-10-01  2018-07-30 2018-08-01 2018-09-30 2018-10-01\n",
       "161 non-roll-01 2008-01-01  2018-07-01 2018-07-01 2018-10-01 2018-10-01\n",
       "    test_end   roll_type\n",
       "1   2009-03-31 1y       \n",
       "2   2009-06-30 1y       \n",
       "3   2009-09-30 1y       \n",
       "4   2009-12-30 1y       \n",
       "5   2010-03-30 1y       \n",
       "6   2010-06-30 1y       \n",
       "7   2010-09-30 1y       \n",
       "8   2010-12-30 1y       \n",
       "9   2011-03-30 1y       \n",
       "10  2011-06-30 1y       \n",
       "11  2011-09-30 1y       \n",
       "12  2011-12-30 1y       \n",
       "13  2012-03-30 1y       \n",
       "14  2012-06-30 1y       \n",
       "15  2012-09-30 1y       \n",
       "16  2012-12-30 1y       \n",
       "17  2013-03-30 1y       \n",
       "18  2013-06-30 1y       \n",
       "19  2013-09-30 1y       \n",
       "20  2013-12-30 1y       \n",
       "21  2014-03-30 1y       \n",
       "22  2014-06-30 1y       \n",
       "23  2014-09-30 1y       \n",
       "24  2014-12-30 1y       \n",
       "25  2015-03-30 1y       \n",
       "26  2015-06-30 1y       \n",
       "27  2015-09-30 1y       \n",
       "28  2015-12-30 1y       \n",
       "29  2016-03-30 1y       \n",
       "30  2016-06-30 1y       \n",
       "31  2016-09-30 1y       \n",
       "32  2016-12-30 1y       \n",
       "33  2017-03-30 1y       \n",
       "34  2017-06-30 1y       \n",
       "35  2017-09-30 1y       \n",
       "36  2017-12-30 1y       \n",
       "37  2018-03-30 1y       \n",
       "38  2018-06-30 1y       \n",
       "39  2018-09-30 1y       \n",
       "40  2018-12-30 1y       \n",
       "41  2010-03-31 2y       \n",
       "42  2010-06-30 2y       \n",
       "43  2010-09-30 2y       \n",
       "44  2010-12-30 2y       \n",
       "45  2011-03-30 2y       \n",
       "46  2011-06-30 2y       \n",
       "47  2011-09-30 2y       \n",
       "48  2011-12-30 2y       \n",
       "49  2012-03-30 2y       \n",
       "50  2012-06-30 2y       \n",
       "... ...        ...      \n",
       "112 2012-12-30 4y       \n",
       "113 2013-03-30 4y       \n",
       "114 2013-06-30 4y       \n",
       "115 2013-09-30 4y       \n",
       "116 2013-12-30 4y       \n",
       "117 2014-03-30 4y       \n",
       "118 2014-06-30 4y       \n",
       "119 2014-09-30 4y       \n",
       "120 2014-12-30 4y       \n",
       "121 2015-03-30 4y       \n",
       "122 2015-06-30 4y       \n",
       "123 2015-09-30 4y       \n",
       "124 2015-12-30 4y       \n",
       "125 2016-03-30 4y       \n",
       "126 2016-06-30 4y       \n",
       "127 2016-09-30 4y       \n",
       "128 2016-12-30 4y       \n",
       "129 2017-03-30 4y       \n",
       "130 2017-06-30 4y       \n",
       "131 2017-09-30 4y       \n",
       "132 2017-12-30 4y       \n",
       "133 2018-03-30 4y       \n",
       "134 2018-06-30 4y       \n",
       "135 2018-09-30 4y       \n",
       "136 2018-12-30 4y       \n",
       "137 2013-03-31 5y       \n",
       "138 2013-06-30 5y       \n",
       "139 2013-09-30 5y       \n",
       "140 2013-12-30 5y       \n",
       "141 2014-03-30 5y       \n",
       "142 2014-06-30 5y       \n",
       "143 2014-09-30 5y       \n",
       "144 2014-12-30 5y       \n",
       "145 2015-03-30 5y       \n",
       "146 2015-06-30 5y       \n",
       "147 2015-09-30 5y       \n",
       "148 2015-12-30 5y       \n",
       "149 2016-03-30 5y       \n",
       "150 2016-06-30 5y       \n",
       "151 2016-09-30 5y       \n",
       "152 2016-12-30 5y       \n",
       "153 2017-03-30 5y       \n",
       "154 2017-06-30 5y       \n",
       "155 2017-09-30 5y       \n",
       "156 2017-12-30 5y       \n",
       "157 2018-03-30 5y       \n",
       "158 2018-06-30 5y       \n",
       "159 2018-09-30 5y       \n",
       "160 2018-12-30 5y       \n",
       "161 2018-12-31 non      "
      ]
     },
     "metadata": {},
     "output_type": "display_data"
    },
    {
     "name": "stdout",
     "output_type": "stream",
     "text": [
      "-rolling_split_dates- saved  (0 secs)\n"
     ]
    }
   ],
   "source": [
    "get_rolling_split_dates <- function(train_start, train_end, val_start, val_end, test_start, test_end, roll_type) {\n",
    "    rolling_split_dates = data.table(window='roll-01', train_start=train_start, train_end=train_end, val_start=val_start,\n",
    "                                     val_end=val_end, test_start=test_start, test_end=test_end, roll_type=roll_type)\n",
    "    \n",
    "    i_window = 1\n",
    "    while (test_end < ymd('2018-12-31')) {\n",
    "        i_window = i_window + 1\n",
    "        train_start=train_start %m+% months(3) \n",
    "        train_end=train_end %m+% months(3)\n",
    "        val_start = val_start %m+% months(3)\n",
    "        val_end = val_end %m+% months(3)\n",
    "        test_start=test_start %m+% months(3) \n",
    "        test_end=test_end %m+% months(3)\n",
    "        \n",
    "        rolling_split_dates = rbindlist(\n",
    "            list(rolling_split_dates, \n",
    "                 list(window=str_c('roll-', str_pad(i_window, 2, pad = \"0\")), \n",
    "                      train_start=train_start, train_end=train_end, val_start = val_start, val_end = val_end,\n",
    "                      test_start=test_start, test_end=test_end, roll_type=roll_type)))\n",
    "    }\n",
    "    return(rolling_split_dates)\n",
    "}\n",
    "train_start_1y = ymd('2008-01-01')\n",
    "train_end_1y = ymd('2008-10-31')\n",
    "val_start_1y = ymd('2008-11-01')\n",
    "val_end_1y = ymd('2008-12-31')\n",
    "test_start_1y = ymd('2009-01-01')\n",
    "test_end_1y = ymd('2009-03-31')\n",
    "\n",
    "train_start_2y = ymd('2008-01-01')\n",
    "train_end_2y = ymd('2009-10-31')\n",
    "val_start_2y = ymd('2009-11-01')\n",
    "val_end_2y = ymd('2009-12-31')\n",
    "test_start_2y = ymd('2010-01-01')\n",
    "test_end_2y = ymd('2010-03-31')\n",
    "\n",
    "train_start_3y = ymd('2008-01-01')\n",
    "train_end_3y = ymd('2010-10-31')\n",
    "val_start_3y = ymd('2010-11-01')\n",
    "val_end_3y = ymd('2010-12-31')\n",
    "test_start_3y = ymd('2011-01-01')\n",
    "test_end_3y = ymd('2011-03-31')\n",
    "\n",
    "train_start_4y = ymd('2008-01-01')\n",
    "train_end_4y = ymd('2011-10-31')\n",
    "val_start_4y = ymd('2011-11-01')\n",
    "val_end_4y = ymd('2011-12-31')\n",
    "test_start_4y = ymd('2012-01-01')\n",
    "test_end_4y = ymd('2012-03-31')\n",
    "\n",
    "train_start_5y = ymd('2008-01-01')\n",
    "train_end_5y = ymd('2012-10-31')\n",
    "val_start_5y = ymd('2012-11-01')\n",
    "val_end_5y = ymd('2012-12-31')\n",
    "test_start_5y = ymd('2013-01-01')\n",
    "test_end_5y = ymd('2013-03-31')\n",
    "\n",
    "rolling_split_dates = rbindlist(\n",
    "    list(get_rolling_split_dates(train_start_1y, train_end_1y, val_start_1y, val_end_1y, test_start_1y, test_end_1y, roll_type='1y'),\n",
    "         get_rolling_split_dates(train_start_2y, train_end_2y, val_start_2y, val_end_2y, test_start_2y, test_end_2y, roll_type='2y'),\n",
    "         get_rolling_split_dates(train_start_3y, train_end_3y, val_start_3y, val_end_3y, test_start_3y, test_end_3y, roll_type='3y'),\n",
    "         get_rolling_split_dates(train_start_4y, train_end_4y, val_start_4y, val_end_4y, test_start_4y, test_end_4y, roll_type='4y'),\n",
    "         get_rolling_split_dates(train_start_5y, train_end_5y, val_start_5y, val_end_5y, test_start_5y, test_end_5y, roll_type='5y')),\n",
    "    use=T)\n",
    "\n",
    "nonrolling_split = list(window='non-roll-01', \n",
    "                        train_start=ymd('2008-01-01'),\n",
    "                        train_end=ymd('2018-07-01'),\n",
    "                        val_start = ymd('2018-07-01'),\n",
    "                        val_end = ymd('2018-10-01'),\n",
    "                        test_start=ymd('2018-10-01'),\n",
    "                        test_end=ymd('2018-12-31'),\n",
    "                        roll_type='non')\n",
    "\n",
    "rolling_split_dates = rbindlist(list(rolling_split_dates, nonrolling_split), fill=T)[order(roll_type, window)][test_end<ymd('2019-01-01')]\n",
    "rolling_split_dates\n",
    "\n",
    "# write to csv\n",
    "sv(rolling_split_dates)\n",
    "fwrite(rolling_split_dates, './data/split_dates.csv')"
   ]
  },
  {
   "cell_type": "markdown",
   "metadata": {},
   "source": [
    "## `CAR` target"
   ]
  },
  {
   "cell_type": "markdown",
   "metadata": {},
   "source": [
    "Task:\n",
    "- for every call, find the car deciles of the previous month"
   ]
  },
  {
   "cell_type": "code",
   "execution_count": null,
   "metadata": {
    "scrolled": true
   },
   "outputs": [],
   "source": [
    "targets_df = as.data.table(read_feather('data/f_sue_keydevid_car_finratio_vol_transcriptid_sim_inflow_revision_text.feather'))\n",
    "\n",
    "all_cols = names(targets_df)\n",
    "text_cols = c('text_present', 'text_qa', 'text_ans', 'text_ques', 'text_all')\n",
    "non_text_cols = all_cols[!all_cols %in% text_cols]\n",
    "\n",
    "targets_df = targets_df[, ..non_text_cols]\n",
    "\n",
    "car_target = targets_df[, .(docid, gvkey, ciq_call_date, car_target=car_0_30)\n",
    "    ][order(ciq_call_date, docid)] %>% na.omit()\n",
    "\n",
    "sv(car_target)\n",
    "car_target[]"
   ]
  },
  {
   "cell_type": "markdown",
   "metadata": {},
   "source": [
    "# Backup"
   ]
  },
  {
   "cell_type": "code",
   "execution_count": 7,
   "metadata": {
    "scrolled": true
   },
   "outputs": [
    {
     "name": "stdout",
     "output_type": "stream",
     "text": [
      "N f_sue_keydevid_car_finratio_vol_transcriptid_sim: 21822\n",
      "N f_sue_keydevid_car_finratio_vol_transcriptid_sim_inflow: 21822\n",
      "-f_sue_keydevid_car_finratio_vol_transcriptid_sim_inflow- saved  (0.35 secs)\n"
     ]
    },
    {
     "data": {
      "text/html": [
       "<table>\n",
       "<caption>A data.table: 1 × 53</caption>\n",
       "<thead>\n",
       "\t<tr><th scope=col>permno</th><th scope=col>inflow</th><th scope=col>docid</th><th scope=col>similarity_unigram</th><th scope=col>similarity_bigram</th><th scope=col>similarity_allgram</th><th scope=col>gvkey</th><th scope=col>datadate</th><th scope=col>fyear</th><th scope=col>fqtr</th><th scope=col>ciq_release_date</th><th scope=col>ciq_call_date</th><th scope=col>rdq</th><th scope=col>rdq1</th><th scope=col>repdats</th><th scope=col>leadrdq1</th><th scope=col>release_keydevid</th><th scope=col>call_keydevid</th><th scope=col>transcriptid</th><th scope=col>mcap</th><th scope=col>sue</th><th scope=col>sue_lag1</th><th scope=col>sue_lead1</th><th scope=col>se</th><th scope=col>se_lag1</th><th scope=col>se_lead1</th><th scope=col>sest</th><th scope=col>sest_lag1</th><th scope=col>sest_lead1</th><th scope=col>numest</th><th scope=col>smedest</th><th scope=col>sstdest</th><th scope=col>volume</th><th scope=col>car_m1_m1</th><th scope=col>car_m2_m2</th><th scope=col>car_m30_m3</th><th scope=col>car_0_10</th><th scope=col>car_0_10_lag1</th><th scope=col>car_0_10_lead1</th><th scope=col>car_0_20</th><th scope=col>car_0_20_lag1</th><th scope=col>car_0_20_lead1</th><th scope=col>car_0_30</th><th scope=col>car_0_30_lag1</th><th scope=col>car_0_30_lead1</th><th scope=col>bm</th><th scope=col>roa</th><th scope=col>debt_asset</th><th scope=col>alpha</th><th scope=col>beta_mktrf</th><th scope=col>beta_smb</th><th scope=col>beta_hml</th><th scope=col>volatility</th></tr>\n",
       "\t<tr><th scope=col>&lt;chr&gt;</th><th scope=col>&lt;dbl&gt;</th><th scope=col>&lt;chr&gt;</th><th scope=col>&lt;dbl&gt;</th><th scope=col>&lt;dbl&gt;</th><th scope=col>&lt;dbl&gt;</th><th scope=col>&lt;chr&gt;</th><th scope=col>&lt;date&gt;</th><th scope=col>&lt;dbl&gt;</th><th scope=col>&lt;dbl&gt;</th><th scope=col>&lt;date&gt;</th><th scope=col>&lt;date&gt;</th><th scope=col>&lt;date&gt;</th><th scope=col>&lt;date&gt;</th><th scope=col>&lt;date&gt;</th><th scope=col>&lt;date&gt;</th><th scope=col>&lt;dbl&gt;</th><th scope=col>&lt;dbl&gt;</th><th scope=col>&lt;dbl&gt;</th><th scope=col>&lt;dbl&gt;</th><th scope=col>&lt;dbl&gt;</th><th scope=col>&lt;dbl&gt;</th><th scope=col>&lt;dbl&gt;</th><th scope=col>&lt;dbl&gt;</th><th scope=col>&lt;dbl&gt;</th><th scope=col>&lt;dbl&gt;</th><th scope=col>&lt;dbl&gt;</th><th scope=col>&lt;dbl&gt;</th><th scope=col>&lt;dbl&gt;</th><th scope=col>&lt;dbl&gt;</th><th scope=col>&lt;dbl&gt;</th><th scope=col>&lt;dbl&gt;</th><th scope=col>&lt;dbl&gt;</th><th scope=col>&lt;dbl&gt;</th><th scope=col>&lt;dbl&gt;</th><th scope=col>&lt;dbl&gt;</th><th scope=col>&lt;dbl&gt;</th><th scope=col>&lt;dbl&gt;</th><th scope=col>&lt;dbl&gt;</th><th scope=col>&lt;dbl&gt;</th><th scope=col>&lt;dbl&gt;</th><th scope=col>&lt;dbl&gt;</th><th scope=col>&lt;dbl&gt;</th><th scope=col>&lt;dbl&gt;</th><th scope=col>&lt;dbl&gt;</th><th scope=col>&lt;dbl&gt;</th><th scope=col>&lt;dbl&gt;</th><th scope=col>&lt;dbl&gt;</th><th scope=col>&lt;dbl&gt;</th><th scope=col>&lt;dbl&gt;</th><th scope=col>&lt;dbl&gt;</th><th scope=col>&lt;dbl&gt;</th><th scope=col>&lt;dbl&gt;</th></tr>\n",
       "</thead>\n",
       "<tbody>\n",
       "\t<tr><td>50906</td><td>0.1976949</td><td>001013-2008-03-05</td><td>0.7845072</td><td>0.0009473079</td><td>0.02925144</td><td>001013</td><td>2008-01-31</td><td>2008</td><td>1</td><td>2008-03-05</td><td>2008-03-05</td><td>2008-03-05</td><td>2008-03-05</td><td>2008-03-05</td><td>2008-06-04</td><td>5241424</td><td>5152678</td><td>320</td><td>1.739304</td><td>0.006761325</td><td>NA</td><td>0.006062767</td><td>0.01893171</td><td>NA</td><td>0.0278174</td><td>0.01217039</td><td>NA</td><td>0.02175464</td><td>17</td><td>0.01217039</td><td>0.001547043</td><td>3.996961</td><td>0.7939703</td><td>-1.043903</td><td>-2.655725</td><td>-0.09076894</td><td>NA</td><td>0.1150231</td><td>-0.06616572</td><td>NA</td><td>0.04588225</td><td>-6.567197</td><td>NA</td><td>0.3902708</td><td>0.477</td><td>0.099</td><td>0.429</td><td>-0.08592177</td><td>0.9685945</td><td>-0.2939265</td><td>1.243559</td><td>3.171002</td></tr>\n",
       "</tbody>\n",
       "</table>\n"
      ],
      "text/latex": [
       "A data.table: 1 × 53\n",
       "\\begin{tabular}{lllllllllllllllllllllllllllllllllllllllllllllllllllll}\n",
       " permno & inflow & docid & similarity\\_unigram & similarity\\_bigram & similarity\\_allgram & gvkey & datadate & fyear & fqtr & ciq\\_release\\_date & ciq\\_call\\_date & rdq & rdq1 & repdats & leadrdq1 & release\\_keydevid & call\\_keydevid & transcriptid & mcap & sue & sue\\_lag1 & sue\\_lead1 & se & se\\_lag1 & se\\_lead1 & sest & sest\\_lag1 & sest\\_lead1 & numest & smedest & sstdest & volume & car\\_m1\\_m1 & car\\_m2\\_m2 & car\\_m30\\_m3 & car\\_0\\_10 & car\\_0\\_10\\_lag1 & car\\_0\\_10\\_lead1 & car\\_0\\_20 & car\\_0\\_20\\_lag1 & car\\_0\\_20\\_lead1 & car\\_0\\_30 & car\\_0\\_30\\_lag1 & car\\_0\\_30\\_lead1 & bm & roa & debt\\_asset & alpha & beta\\_mktrf & beta\\_smb & beta\\_hml & volatility\\\\\n",
       " <chr> & <dbl> & <chr> & <dbl> & <dbl> & <dbl> & <chr> & <date> & <dbl> & <dbl> & <date> & <date> & <date> & <date> & <date> & <date> & <dbl> & <dbl> & <dbl> & <dbl> & <dbl> & <dbl> & <dbl> & <dbl> & <dbl> & <dbl> & <dbl> & <dbl> & <dbl> & <dbl> & <dbl> & <dbl> & <dbl> & <dbl> & <dbl> & <dbl> & <dbl> & <dbl> & <dbl> & <dbl> & <dbl> & <dbl> & <dbl> & <dbl> & <dbl> & <dbl> & <dbl> & <dbl> & <dbl> & <dbl> & <dbl> & <dbl> & <dbl>\\\\\n",
       "\\hline\n",
       "\t 50906 & 0.1976949 & 001013-2008-03-05 & 0.7845072 & 0.0009473079 & 0.02925144 & 001013 & 2008-01-31 & 2008 & 1 & 2008-03-05 & 2008-03-05 & 2008-03-05 & 2008-03-05 & 2008-03-05 & 2008-06-04 & 5241424 & 5152678 & 320 & 1.739304 & 0.006761325 & NA & 0.006062767 & 0.01893171 & NA & 0.0278174 & 0.01217039 & NA & 0.02175464 & 17 & 0.01217039 & 0.001547043 & 3.996961 & 0.7939703 & -1.043903 & -2.655725 & -0.09076894 & NA & 0.1150231 & -0.06616572 & NA & 0.04588225 & -6.567197 & NA & 0.3902708 & 0.477 & 0.099 & 0.429 & -0.08592177 & 0.9685945 & -0.2939265 & 1.243559 & 3.171002\\\\\n",
       "\\end{tabular}\n"
      ],
      "text/markdown": [
       "\n",
       "A data.table: 1 × 53\n",
       "\n",
       "| permno &lt;chr&gt; | inflow &lt;dbl&gt; | docid &lt;chr&gt; | similarity_unigram &lt;dbl&gt; | similarity_bigram &lt;dbl&gt; | similarity_allgram &lt;dbl&gt; | gvkey &lt;chr&gt; | datadate &lt;date&gt; | fyear &lt;dbl&gt; | fqtr &lt;dbl&gt; | ciq_release_date &lt;date&gt; | ciq_call_date &lt;date&gt; | rdq &lt;date&gt; | rdq1 &lt;date&gt; | repdats &lt;date&gt; | leadrdq1 &lt;date&gt; | release_keydevid &lt;dbl&gt; | call_keydevid &lt;dbl&gt; | transcriptid &lt;dbl&gt; | mcap &lt;dbl&gt; | sue &lt;dbl&gt; | sue_lag1 &lt;dbl&gt; | sue_lead1 &lt;dbl&gt; | se &lt;dbl&gt; | se_lag1 &lt;dbl&gt; | se_lead1 &lt;dbl&gt; | sest &lt;dbl&gt; | sest_lag1 &lt;dbl&gt; | sest_lead1 &lt;dbl&gt; | numest &lt;dbl&gt; | smedest &lt;dbl&gt; | sstdest &lt;dbl&gt; | volume &lt;dbl&gt; | car_m1_m1 &lt;dbl&gt; | car_m2_m2 &lt;dbl&gt; | car_m30_m3 &lt;dbl&gt; | car_0_10 &lt;dbl&gt; | car_0_10_lag1 &lt;dbl&gt; | car_0_10_lead1 &lt;dbl&gt; | car_0_20 &lt;dbl&gt; | car_0_20_lag1 &lt;dbl&gt; | car_0_20_lead1 &lt;dbl&gt; | car_0_30 &lt;dbl&gt; | car_0_30_lag1 &lt;dbl&gt; | car_0_30_lead1 &lt;dbl&gt; | bm &lt;dbl&gt; | roa &lt;dbl&gt; | debt_asset &lt;dbl&gt; | alpha &lt;dbl&gt; | beta_mktrf &lt;dbl&gt; | beta_smb &lt;dbl&gt; | beta_hml &lt;dbl&gt; | volatility &lt;dbl&gt; |\n",
       "|---|---|---|---|---|---|---|---|---|---|---|---|---|---|---|---|---|---|---|---|---|---|---|---|---|---|---|---|---|---|---|---|---|---|---|---|---|---|---|---|---|---|---|---|---|---|---|---|---|---|---|---|---|\n",
       "| 50906 | 0.1976949 | 001013-2008-03-05 | 0.7845072 | 0.0009473079 | 0.02925144 | 001013 | 2008-01-31 | 2008 | 1 | 2008-03-05 | 2008-03-05 | 2008-03-05 | 2008-03-05 | 2008-03-05 | 2008-06-04 | 5241424 | 5152678 | 320 | 1.739304 | 0.006761325 | NA | 0.006062767 | 0.01893171 | NA | 0.0278174 | 0.01217039 | NA | 0.02175464 | 17 | 0.01217039 | 0.001547043 | 3.996961 | 0.7939703 | -1.043903 | -2.655725 | -0.09076894 | NA | 0.1150231 | -0.06616572 | NA | 0.04588225 | -6.567197 | NA | 0.3902708 | 0.477 | 0.099 | 0.429 | -0.08592177 | 0.9685945 | -0.2939265 | 1.243559 | 3.171002 |\n",
       "\n"
      ],
      "text/plain": [
       "  permno inflow    docid             similarity_unigram similarity_bigram\n",
       "1 50906  0.1976949 001013-2008-03-05 0.7845072          0.0009473079     \n",
       "  similarity_allgram gvkey  datadate   fyear fqtr ciq_release_date\n",
       "1 0.02925144         001013 2008-01-31 2008  1    2008-03-05      \n",
       "  ciq_call_date rdq        rdq1       repdats    leadrdq1   release_keydevid\n",
       "1 2008-03-05    2008-03-05 2008-03-05 2008-03-05 2008-06-04 5241424         \n",
       "  call_keydevid transcriptid mcap     sue         sue_lag1 sue_lead1  \n",
       "1 5152678       320          1.739304 0.006761325 NA       0.006062767\n",
       "  se         se_lag1 se_lead1  sest       sest_lag1 sest_lead1 numest\n",
       "1 0.01893171 NA      0.0278174 0.01217039 NA        0.02175464 17    \n",
       "  smedest    sstdest     volume   car_m1_m1 car_m2_m2 car_m30_m3 car_0_10   \n",
       "1 0.01217039 0.001547043 3.996961 0.7939703 -1.043903 -2.655725  -0.09076894\n",
       "  car_0_10_lag1 car_0_10_lead1 car_0_20    car_0_20_lag1 car_0_20_lead1\n",
       "1 NA            0.1150231      -0.06616572 NA            0.04588225    \n",
       "  car_0_30  car_0_30_lag1 car_0_30_lead1 bm    roa   debt_asset alpha      \n",
       "1 -6.567197 NA            0.3902708      0.477 0.099 0.429      -0.08592177\n",
       "  beta_mktrf beta_smb   beta_hml volatility\n",
       "1 0.9685945  -0.2939265 1.243559 3.171002  "
      ]
     },
     "metadata": {},
     "output_type": "display_data"
    }
   ],
   "source": [
    "sprintf('N f_sue_keydevid_car_finratio_vol_transcriptid_sim: %s\\n', nrow(f_sue_keydevid_car_finratio_vol_transcriptid_sim)) %>% cat()\n",
    "\n",
    "f_sue_keydevid_car_finratio_vol_transcriptid_sim_inflow = inflow[, ':='(join_date=report_dt)\n",
    "    ][f_sue_keydevid_car_finratio_vol_transcriptid_sim[, ':='(join_date=ciq_call_date-3)], \n",
    "      on=.(permno, join_date>=join_date), allow.cartesian=T\n",
    "    ][is.na(inflow) | (report_dt-ciq_release_date>35), ':='(inflow=0)\n",
    "    ][, ':='(inflow=sum(inflow)), keyby=.(docid)\n",
    "    ][, ':='(join_date=NULL, mv=NULL, report_dt=NULL)\n",
    "    ] %>% unique()\n",
    "\n",
    "sprintf('N f_sue_keydevid_car_finratio_vol_transcriptid_sim_inflow: %s\\n', nrow(f_sue_keydevid_car_finratio_vol_transcriptid_sim_inflow)) %>% cat()\n",
    "sv(f_sue_keydevid_car_finratio_vol_transcriptid_sim_inflow)\n",
    "f_sue_keydevid_car_finratio_vol_transcriptid_sim_inflow[1]"
   ]
  },
  {
   "cell_type": "code",
   "execution_count": 64,
   "metadata": {},
   "outputs": [],
   "source": [
    "# get targets_df\n",
    "dt = as.data.table(read_feather('data/f_sue_keydevid_car_finratio_vol_transcriptid_sim_inflow_revision_text_norm.feather'))\n",
    "all_cols = names(dt)\n",
    "text_cols = c('text_present', 'text_qa', 'text_ans', 'text_ques', 'text_all')\n",
    "non_text_cols = all_cols[!all_cols %in% text_cols]\n",
    "dt = dt[, ..non_text_cols]"
   ]
  },
  {
   "cell_type": "code",
   "execution_count": 69,
   "metadata": {},
   "outputs": [
    {
     "data": {
      "text/html": [
       "21763"
      ],
      "text/latex": [
       "21763"
      ],
      "text/markdown": [
       "21763"
      ],
      "text/plain": [
       "[1] 21763"
      ]
     },
     "metadata": {},
     "output_type": "display_data"
    },
    {
     "data": {
      "text/html": [
       "<table>\n",
       "<caption>A data.table: 1 × 2</caption>\n",
       "<thead>\n",
       "\t<tr><th scope=col>sd_car</th><th scope=col>sd_car_norm</th></tr>\n",
       "\t<tr><th scope=col>&lt;dbl&gt;</th><th scope=col>&lt;dbl&gt;</th></tr>\n",
       "</thead>\n",
       "<tbody>\n",
       "\t<tr><td>12.12621</td><td>1.03667</td></tr>\n",
       "</tbody>\n",
       "</table>\n"
      ],
      "text/latex": [
       "A data.table: 1 × 2\n",
       "\\begin{tabular}{ll}\n",
       " sd\\_car & sd\\_car\\_norm\\\\\n",
       " <dbl> & <dbl>\\\\\n",
       "\\hline\n",
       "\t 12.12621 & 1.03667\\\\\n",
       "\\end{tabular}\n"
      ],
      "text/markdown": [
       "\n",
       "A data.table: 1 × 2\n",
       "\n",
       "| sd_car &lt;dbl&gt; | sd_car_norm &lt;dbl&gt; |\n",
       "|---|---|\n",
       "| 12.12621 | 1.03667 |\n",
       "\n"
      ],
      "text/plain": [
       "  sd_car   sd_car_norm\n",
       "1 12.12621 1.03667    "
      ]
     },
     "metadata": {},
     "output_type": "display_data"
    }
   ],
   "source": [
    "nrow(dt)\n",
    "dt[, .(sd_car = sd(car_0_30[1:17410]),\n",
    "       sd_car_norm = sd(car_0_30_norm[17411:.N]))]"
   ]
  },
  {
   "cell_type": "code",
   "execution_count": null,
   "metadata": {},
   "outputs": [],
   "source": [
    "        similarity = targets.similarity_bigram\n",
    "        sentiment = targets.qa_positive_sent\n",
    "        sue = targets.sue\n",
    "        sest = targets.sest        \n",
    "        alpha = targets.alpha\n",
    "        volatility = targets.volatility\n",
    "        mcap = targets.mcap\n",
    "        bm = targets.bm\n",
    "        roa = targets.roa\n",
    "        debt_asset = targets.debt_asset\n",
    "        numest = targets.numest\n",
    "        smedest = targets.smedest\n",
    "        sstdest = targets.sstdest\n",
    "        car_m1_m1 = targets.car_m1_m1\n",
    "        car_m2_m2 = targets.car_m2_m2\n",
    "        car_m30_m3 = targets.car_m30_m3\n",
    "        volume = targets.volume"
   ]
  },
  {
   "cell_type": "code",
   "execution_count": null,
   "metadata": {},
   "outputs": [],
   "source": []
  }
 ],
 "metadata": {
  "kernelspec": {
   "display_name": "MRO-4.0.2",
   "language": "R",
   "name": "mro402"
  },
  "language_info": {
   "codemirror_mode": "r",
   "file_extension": ".r",
   "mimetype": "text/x-r-source",
   "name": "R",
   "pygments_lexer": "r",
   "version": "4.0.2"
  },
  "toc-autonumbering": true,
  "toc-showcode": false,
  "toc-showmarkdowntxt": false
 },
 "nbformat": 4,
 "nbformat_minor": 4
}
